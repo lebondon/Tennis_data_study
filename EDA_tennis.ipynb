{
 "cells": [
  {
   "cell_type": "code",
   "execution_count": 2,
   "metadata": {},
   "outputs": [],
   "source": [
    "import pandas as pd\n",
    "import numpy as np\n",
    "import os\n",
    "import polars as pl\n",
    "from utils import *\n",
    "import matplotlib.pyplot as plt\n",
    "import seaborn as sns\n",
    "import warnings\n",
    "warnings.filterwarnings('ignore')\n",
    "\n",
    "#tutti i database aggregati li potete richiamare con le varie funzioni di import che trovate in utils.py, gli esempi sono comunque sotto.\n",
    "#per scegliere se ATP o WTA potete cambiare il valore all'interno della funzione gender in \"atp\" o \"wta\" (di default è atp)\n",
    "#es: import_players(gender=\"atp\"), import_players(gender=\"wta\")\n",
    "\n",
    "#le varie funzioni sono import_tennis_matches(), import_players(), import_matches_amateurs_atp(), import_rankings().\n",
    "\n",
    "#per quanto riguarda i match di singolo, doppio,futures, qual_chall e qual_itf dovete usare la funzione import_tennis_matches con una\n",
    "#specifica keyword che indica il tipo di match es: import_tennis_matches(data_type=\"singles\".gender=\"wta\") \n",
    "\n",
    "#le varie keyword tra cui potete scegliere sono [\"singles\",\"doubles\",\"qualifiers_challengers\",\"futures\",\"qualifiers_itf\"]\n",
    "\n",
    "#ATTENZIONE! i futures, qualifiers_challengers e doppi sono esclusivamente maschili mentre i qualifiers_itf sono esclusivamente femminili!\n",
    "#tutte queste le cose le potete verificare guardando il file utils.py\n",
    "\n",
    "#fate una bella EDA and have fun!\n",
    "\n"
   ]
  },
  {
   "cell_type": "code",
   "execution_count": 3,
   "metadata": {},
   "outputs": [],
   "source": [
    "import pandas as pd\n",
    "\n",
    "def sorted_value_counts(df, column_name):\n",
    "    \"\"\"\n",
    "    Restituisce il value counts di una colonna di un DataFrame in ordine decrescente.\n",
    "\n",
    "    Parametri:\n",
    "        df (pd.DataFrame): Il DataFrame di input.\n",
    "        column_name (str): Il nome della colonna di cui calcolare il value counts.\n",
    "\n",
    "    Ritorna:\n",
    "        pd.Series: Una Serie con i conteggi ordinati in ordine decrescente.\n",
    "    \"\"\"\n",
    "    if column_name not in df.columns:\n",
    "        raise ValueError(f\"La colonna '{column_name}' non esiste nel DataFrame.\")\n",
    "    \n",
    "    # Calcolare i value counts\n",
    "    value_counts = df[column_name].value_counts()\n",
    "    \n",
    "    # Ordinare i valori manualmente\n",
    "    sorted_counts = value_counts.iloc[value_counts.values.argsort()[::-1]]\n",
    "    \n",
    "    return sorted_counts\n",
    "\n"
   ]
  },
  {
   "cell_type": "code",
   "execution_count": 4,
   "metadata": {},
   "outputs": [
    {
     "data": {
      "text/html": [
       "<div><style>\n",
       ".dataframe > thead > tr,\n",
       ".dataframe > tbody > tr {\n",
       "  text-align: right;\n",
       "  white-space: pre-wrap;\n",
       "}\n",
       "</style>\n",
       "<small>shape: (65_019, 9)</small><table border=\"1\" class=\"dataframe\"><thead><tr><th>player_id</th><th>name_first</th><th>name_last</th><th>hand</th><th>dob</th><th>ioc</th><th>height</th><th>wikidata_id</th><th>name_full</th></tr><tr><td>i64</td><td>str</td><td>str</td><td>str</td><td>date</td><td>str</td><td>i64</td><td>str</td><td>str</td></tr></thead><tbody><tr><td>100001</td><td>&quot;Gardnar&quot;</td><td>&quot;Mulloy&quot;</td><td>&quot;R&quot;</td><td>1913-11-22</td><td>&quot;USA&quot;</td><td>185</td><td>&quot;Q54544&quot;</td><td>&quot;Gardnar Mulloy&quot;</td></tr><tr><td>100002</td><td>&quot;Pancho&quot;</td><td>&quot;Segura&quot;</td><td>&quot;R&quot;</td><td>1921-06-20</td><td>&quot;ECU&quot;</td><td>168</td><td>&quot;Q54581&quot;</td><td>&quot;Pancho Segura&quot;</td></tr><tr><td>100003</td><td>&quot;Frank&quot;</td><td>&quot;Sedgman&quot;</td><td>&quot;R&quot;</td><td>1927-10-02</td><td>&quot;AUS&quot;</td><td>180</td><td>&quot;Q962049&quot;</td><td>&quot;Frank Sedgman&quot;</td></tr><tr><td>100004</td><td>&quot;Giuseppe&quot;</td><td>&quot;Merlo&quot;</td><td>&quot;R&quot;</td><td>1927-10-11</td><td>&quot;ITA&quot;</td><td>null</td><td>&quot;Q1258752&quot;</td><td>&quot;Giuseppe Merlo&quot;</td></tr><tr><td>100005</td><td>&quot;Richard&quot;</td><td>&quot;Gonzalez&quot;</td><td>&quot;R&quot;</td><td>1928-05-09</td><td>&quot;USA&quot;</td><td>188</td><td>&quot;Q53554&quot;</td><td>&quot;Richard Gonzalez&quot;</td></tr><tr><td>&hellip;</td><td>&hellip;</td><td>&hellip;</td><td>&hellip;</td><td>&hellip;</td><td>&hellip;</td><td>&hellip;</td><td>&hellip;</td><td>&hellip;</td></tr><tr><td>212913</td><td>&quot;Pietro&quot;</td><td>&quot;Ricci&quot;</td><td>&quot;U&quot;</td><td>null</td><td>&quot;ITA&quot;</td><td>null</td><td>null</td><td>&quot;Pietro Ricci&quot;</td></tr><tr><td>212914</td><td>&quot;Corey&quot;</td><td>&quot;Craig&quot;</td><td>&quot;U&quot;</td><td>null</td><td>&quot;USA&quot;</td><td>null</td><td>null</td><td>&quot;Corey Craig&quot;</td></tr><tr><td>212915</td><td>&quot;Aleksandar&quot;</td><td>&quot;Ljubojevic&quot;</td><td>&quot;U&quot;</td><td>null</td><td>&quot;SRB&quot;</td><td>null</td><td>null</td><td>&quot;Aleksandar Ljubojevic&quot;</td></tr><tr><td>212916</td><td>&quot;Marko&quot;</td><td>&quot;Milosavljevic&quot;</td><td>&quot;U&quot;</td><td>null</td><td>&quot;SRB&quot;</td><td>null</td><td>null</td><td>&quot;Marko Milosavljevic&quot;</td></tr><tr><td>212917</td><td>&quot;Stefan&quot;</td><td>&quot;Skobelev&quot;</td><td>&quot;U&quot;</td><td>null</td><td>&quot;SRB&quot;</td><td>null</td><td>null</td><td>&quot;Stefan Skobelev&quot;</td></tr></tbody></table></div>"
      ],
      "text/plain": [
       "shape: (65_019, 9)\n",
       "┌───────────┬────────────┬───────────────┬──────┬───┬─────┬────────┬─────────────┬─────────────────┐\n",
       "│ player_id ┆ name_first ┆ name_last     ┆ hand ┆ … ┆ ioc ┆ height ┆ wikidata_id ┆ name_full       │\n",
       "│ ---       ┆ ---        ┆ ---           ┆ ---  ┆   ┆ --- ┆ ---    ┆ ---         ┆ ---             │\n",
       "│ i64       ┆ str        ┆ str           ┆ str  ┆   ┆ str ┆ i64    ┆ str         ┆ str             │\n",
       "╞═══════════╪════════════╪═══════════════╪══════╪═══╪═════╪════════╪═════════════╪═════════════════╡\n",
       "│ 100001    ┆ Gardnar    ┆ Mulloy        ┆ R    ┆ … ┆ USA ┆ 185    ┆ Q54544      ┆ Gardnar Mulloy  │\n",
       "│ 100002    ┆ Pancho     ┆ Segura        ┆ R    ┆ … ┆ ECU ┆ 168    ┆ Q54581      ┆ Pancho Segura   │\n",
       "│ 100003    ┆ Frank      ┆ Sedgman       ┆ R    ┆ … ┆ AUS ┆ 180    ┆ Q962049     ┆ Frank Sedgman   │\n",
       "│ 100004    ┆ Giuseppe   ┆ Merlo         ┆ R    ┆ … ┆ ITA ┆ null   ┆ Q1258752    ┆ Giuseppe Merlo  │\n",
       "│ 100005    ┆ Richard    ┆ Gonzalez      ┆ R    ┆ … ┆ USA ┆ 188    ┆ Q53554      ┆ Richard         │\n",
       "│           ┆            ┆               ┆      ┆   ┆     ┆        ┆             ┆ Gonzalez        │\n",
       "│ …         ┆ …          ┆ …             ┆ …    ┆ … ┆ …   ┆ …      ┆ …           ┆ …               │\n",
       "│ 212913    ┆ Pietro     ┆ Ricci         ┆ U    ┆ … ┆ ITA ┆ null   ┆ null        ┆ Pietro Ricci    │\n",
       "│ 212914    ┆ Corey      ┆ Craig         ┆ U    ┆ … ┆ USA ┆ null   ┆ null        ┆ Corey Craig     │\n",
       "│ 212915    ┆ Aleksandar ┆ Ljubojevic    ┆ U    ┆ … ┆ SRB ┆ null   ┆ null        ┆ Aleksandar      │\n",
       "│           ┆            ┆               ┆      ┆   ┆     ┆        ┆             ┆ Ljubojevic      │\n",
       "│ 212916    ┆ Marko      ┆ Milosavljevic ┆ U    ┆ … ┆ SRB ┆ null   ┆ null        ┆ Marko           │\n",
       "│           ┆            ┆               ┆      ┆   ┆     ┆        ┆             ┆ Milosavljevic   │\n",
       "│ 212917    ┆ Stefan     ┆ Skobelev      ┆ U    ┆ … ┆ SRB ┆ null   ┆ null        ┆ Stefan Skobelev │\n",
       "└───────────┴────────────┴───────────────┴──────┴───┴─────┴────────┴─────────────┴─────────────────┘"
      ]
     },
     "execution_count": 4,
     "metadata": {},
     "output_type": "execute_result"
    }
   ],
   "source": [
    "players_atp=import_players(gender=\"atp\")\n",
    "players_atp"
   ]
  },
  {
   "cell_type": "code",
   "execution_count": 5,
   "metadata": {},
   "outputs": [
    {
     "data": {
      "text/html": [
       "<div><style>\n",
       ".dataframe > thead > tr,\n",
       ".dataframe > tbody > tr {\n",
       "  text-align: right;\n",
       "  white-space: pre-wrap;\n",
       "}\n",
       "</style>\n",
       "<small>shape: (67_095, 9)</small><table border=\"1\" class=\"dataframe\"><thead><tr><th>player_id</th><th>name_first</th><th>name_last</th><th>hand</th><th>dob</th><th>ioc</th><th>height</th><th>wikidata_id</th><th>name_full</th></tr><tr><td>i64</td><td>str</td><td>str</td><td>str</td><td>date</td><td>str</td><td>i64</td><td>str</td><td>str</td></tr></thead><tbody><tr><td>113190</td><td>&quot;Bobby&quot;</td><td>&quot;Riggs&quot;</td><td>&quot;U&quot;</td><td>null</td><td>&quot;USA&quot;</td><td>null</td><td>null</td><td>&quot;Bobby Riggs&quot;</td></tr><tr><td>200000</td><td>&quot;X&quot;</td><td>&quot;X&quot;</td><td>&quot;U&quot;</td><td>null</td><td>&quot;UNK&quot;</td><td>null</td><td>null</td><td>&quot;X X&quot;</td></tr><tr><td>200001</td><td>&quot;Martina&quot;</td><td>&quot;Hingis&quot;</td><td>&quot;R&quot;</td><td>1980-09-30</td><td>&quot;SUI&quot;</td><td>170</td><td>&quot;Q134720&quot;</td><td>&quot;Martina Hingis&quot;</td></tr><tr><td>200002</td><td>&quot;Mirjana&quot;</td><td>&quot;Lucic&quot;</td><td>&quot;R&quot;</td><td>1982-03-09</td><td>&quot;CRO&quot;</td><td>181</td><td>&quot;Q239686&quot;</td><td>&quot;Mirjana Lucic&quot;</td></tr><tr><td>200003</td><td>&quot;Justine&quot;</td><td>&quot;Henin&quot;</td><td>&quot;R&quot;</td><td>1982-06-01</td><td>&quot;BEL&quot;</td><td>167</td><td>&quot;Q11682&quot;</td><td>&quot;Justine Henin&quot;</td></tr><tr><td>&hellip;</td><td>&hellip;</td><td>&hellip;</td><td>&hellip;</td><td>&hellip;</td><td>&hellip;</td><td>&hellip;</td><td>&hellip;</td><td>&hellip;</td></tr><tr><td>267099</td><td>&quot;Kokoa&quot;</td><td>&quot;Nakao&quot;</td><td>&quot;U&quot;</td><td>null</td><td>&quot;JPN&quot;</td><td>null</td><td>null</td><td>&quot;Kokoa Nakao&quot;</td></tr><tr><td>267100</td><td>&quot;Aoi&quot;</td><td>&quot;Watanabe&quot;</td><td>&quot;U&quot;</td><td>null</td><td>&quot;JPN&quot;</td><td>null</td><td>null</td><td>&quot;Aoi Watanabe&quot;</td></tr><tr><td>267101</td><td>&quot;Sara&quot;</td><td>&quot;Yoshida&quot;</td><td>&quot;U&quot;</td><td>null</td><td>&quot;JPN&quot;</td><td>null</td><td>null</td><td>&quot;Sara Yoshida&quot;</td></tr><tr><td>267102</td><td>&quot;Ui Su&quot;</td><td>&quot;Jeong&quot;</td><td>&quot;U&quot;</td><td>null</td><td>&quot;KOR&quot;</td><td>null</td><td>null</td><td>&quot;Ui Su Jeong&quot;</td></tr><tr><td>267103</td><td>&quot;Alexia&quot;</td><td>&quot;Patru&quot;</td><td>&quot;U&quot;</td><td>null</td><td>&quot;ROU&quot;</td><td>null</td><td>null</td><td>&quot;Alexia Patru&quot;</td></tr></tbody></table></div>"
      ],
      "text/plain": [
       "shape: (67_095, 9)\n",
       "┌───────────┬────────────┬───────────┬──────┬───┬─────┬────────┬─────────────┬────────────────┐\n",
       "│ player_id ┆ name_first ┆ name_last ┆ hand ┆ … ┆ ioc ┆ height ┆ wikidata_id ┆ name_full      │\n",
       "│ ---       ┆ ---        ┆ ---       ┆ ---  ┆   ┆ --- ┆ ---    ┆ ---         ┆ ---            │\n",
       "│ i64       ┆ str        ┆ str       ┆ str  ┆   ┆ str ┆ i64    ┆ str         ┆ str            │\n",
       "╞═══════════╪════════════╪═══════════╪══════╪═══╪═════╪════════╪═════════════╪════════════════╡\n",
       "│ 113190    ┆ Bobby      ┆ Riggs     ┆ U    ┆ … ┆ USA ┆ null   ┆ null        ┆ Bobby Riggs    │\n",
       "│ 200000    ┆ X          ┆ X         ┆ U    ┆ … ┆ UNK ┆ null   ┆ null        ┆ X X            │\n",
       "│ 200001    ┆ Martina    ┆ Hingis    ┆ R    ┆ … ┆ SUI ┆ 170    ┆ Q134720     ┆ Martina Hingis │\n",
       "│ 200002    ┆ Mirjana    ┆ Lucic     ┆ R    ┆ … ┆ CRO ┆ 181    ┆ Q239686     ┆ Mirjana Lucic  │\n",
       "│ 200003    ┆ Justine    ┆ Henin     ┆ R    ┆ … ┆ BEL ┆ 167    ┆ Q11682      ┆ Justine Henin  │\n",
       "│ …         ┆ …          ┆ …         ┆ …    ┆ … ┆ …   ┆ …      ┆ …           ┆ …              │\n",
       "│ 267099    ┆ Kokoa      ┆ Nakao     ┆ U    ┆ … ┆ JPN ┆ null   ┆ null        ┆ Kokoa Nakao    │\n",
       "│ 267100    ┆ Aoi        ┆ Watanabe  ┆ U    ┆ … ┆ JPN ┆ null   ┆ null        ┆ Aoi Watanabe   │\n",
       "│ 267101    ┆ Sara       ┆ Yoshida   ┆ U    ┆ … ┆ JPN ┆ null   ┆ null        ┆ Sara Yoshida   │\n",
       "│ 267102    ┆ Ui Su      ┆ Jeong     ┆ U    ┆ … ┆ KOR ┆ null   ┆ null        ┆ Ui Su Jeong    │\n",
       "│ 267103    ┆ Alexia     ┆ Patru     ┆ U    ┆ … ┆ ROU ┆ null   ┆ null        ┆ Alexia Patru   │\n",
       "└───────────┴────────────┴───────────┴──────┴───┴─────┴────────┴─────────────┴────────────────┘"
      ]
     },
     "execution_count": 5,
     "metadata": {},
     "output_type": "execute_result"
    }
   ],
   "source": [
    "players_wta=import_players(gender=\"wta\")\n",
    "players_wta"
   ]
  },
  {
   "cell_type": "markdown",
   "metadata": {},
   "source": [
    "# Comincio creazione di df e df_tourney per ogni df disponibile"
   ]
  },
  {
   "cell_type": "code",
   "execution_count": 6,
   "metadata": {},
   "outputs": [
    {
     "data": {
      "text/html": [
       "<div><style>\n",
       ".dataframe > thead > tr,\n",
       ".dataframe > tbody > tr {\n",
       "  text-align: right;\n",
       "  white-space: pre-wrap;\n",
       "}\n",
       "</style>\n",
       "<small>shape: (25_001, 50)</small><table border=\"1\" class=\"dataframe\"><thead><tr><th>tourney_id</th><th>tourney_name</th><th>surface</th><th>draw_size</th><th>tourney_level</th><th>tourney_date</th><th>match_num</th><th>winner_id</th><th>winner_seed</th><th>winner_entry</th><th>winner_name</th><th>winner_hand</th><th>winner_ht</th><th>winner_ioc</th><th>winner_age</th><th>loser_id</th><th>loser_seed</th><th>loser_entry</th><th>loser_name</th><th>loser_hand</th><th>loser_ht</th><th>loser_ioc</th><th>loser_age</th><th>score</th><th>best_of</th><th>round</th><th>minutes</th><th>w_ace</th><th>w_df</th><th>w_svpt</th><th>w_1stIn</th><th>w_1stWon</th><th>w_2ndWon</th><th>w_SvGms</th><th>w_bpSaved</th><th>w_bpFaced</th><th>l_ace</th><th>l_df</th><th>l_svpt</th><th>l_1stIn</th><th>l_1stWon</th><th>l_2ndWon</th><th>l_SvGms</th><th>l_bpSaved</th><th>l_bpFaced</th><th>winner_rank</th><th>winner_rank_points</th><th>loser_rank</th><th>loser_rank_points</th><th>tourney_name_date</th></tr><tr><td>str</td><td>str</td><td>str</td><td>str</td><td>str</td><td>date</td><td>i64</td><td>i64</td><td>str</td><td>str</td><td>str</td><td>str</td><td>str</td><td>str</td><td>f64</td><td>i64</td><td>str</td><td>str</td><td>str</td><td>str</td><td>i64</td><td>str</td><td>f64</td><td>str</td><td>i64</td><td>str</td><td>str</td><td>str</td><td>str</td><td>str</td><td>str</td><td>str</td><td>str</td><td>str</td><td>str</td><td>str</td><td>str</td><td>str</td><td>str</td><td>str</td><td>str</td><td>str</td><td>str</td><td>str</td><td>str</td><td>str</td><td>str</td><td>str</td><td>str</td><td>str</td></tr></thead><tbody><tr><td>&quot;1877-540&quot;</td><td>&quot;Wimbledon&quot;</td><td>&quot;Grass&quot;</td><td>&quot;32&quot;</td><td>&quot;G&quot;</td><td>1877-07-09</td><td>1</td><td>113987</td><td>null</td><td>null</td><td>&quot;Spencer William Gore&quot;</td><td>null</td><td>null</td><td>&quot;GBR&quot;</td><td>27.331964</td><td>114009</td><td>null</td><td>null</td><td>&quot;Ht Gilson&quot;</td><td>null</td><td>null</td><td>&quot;GBR&quot;</td><td>null</td><td>&quot;6-2 6-0 6-3&quot;</td><td>5</td><td>&quot;R32&quot;</td><td>null</td><td>null</td><td>null</td><td>null</td><td>null</td><td>null</td><td>null</td><td>null</td><td>null</td><td>null</td><td>null</td><td>null</td><td>null</td><td>null</td><td>null</td><td>null</td><td>null</td><td>null</td><td>null</td><td>null</td><td>null</td><td>null</td><td>null</td><td>&quot;Wimbledon_1877&quot;</td></tr><tr><td>&quot;1877-540&quot;</td><td>&quot;Wimbledon&quot;</td><td>&quot;Grass&quot;</td><td>&quot;32&quot;</td><td>&quot;G&quot;</td><td>1877-07-09</td><td>2</td><td>114146</td><td>null</td><td>null</td><td>&quot;Montague Hankey&quot;</td><td>null</td><td>null</td><td>&quot;GBR&quot;</td><td>36.895277</td><td>113977</td><td>null</td><td>null</td><td>&quot;Robert Dalby Dalby&quot;</td><td>null</td><td>null</td><td>&quot;GBR&quot;</td><td>null</td><td>&quot;6-4 6-2 3-6 6-2&quot;</td><td>5</td><td>&quot;R32&quot;</td><td>null</td><td>null</td><td>null</td><td>null</td><td>null</td><td>null</td><td>null</td><td>null</td><td>null</td><td>null</td><td>null</td><td>null</td><td>null</td><td>null</td><td>null</td><td>null</td><td>null</td><td>null</td><td>null</td><td>null</td><td>null</td><td>null</td><td>null</td><td>&quot;Wimbledon_1877&quot;</td></tr><tr><td>&quot;1877-540&quot;</td><td>&quot;Wimbledon&quot;</td><td>&quot;Grass&quot;</td><td>&quot;32&quot;</td><td>&quot;G&quot;</td><td>1877-07-09</td><td>3</td><td>114147</td><td>null</td><td>null</td><td>&quot;John Baker&quot;</td><td>null</td><td>null</td><td>&quot;GBR&quot;</td><td>null</td><td>114148</td><td>null</td><td>null</td><td>&quot;Jw Trist&quot;</td><td>null</td><td>null</td><td>&quot;GBR&quot;</td><td>null</td><td>&quot;6-1 6-4 6-0&quot;</td><td>5</td><td>&quot;R32&quot;</td><td>null</td><td>null</td><td>null</td><td>null</td><td>null</td><td>null</td><td>null</td><td>null</td><td>null</td><td>null</td><td>null</td><td>null</td><td>null</td><td>null</td><td>null</td><td>null</td><td>null</td><td>null</td><td>null</td><td>null</td><td>null</td><td>null</td><td>null</td><td>&quot;Wimbledon_1877&quot;</td></tr><tr><td>&quot;1877-540&quot;</td><td>&quot;Wimbledon&quot;</td><td>&quot;Grass&quot;</td><td>&quot;32&quot;</td><td>&quot;G&quot;</td><td>1877-07-09</td><td>4</td><td>114149</td><td>null</td><td>null</td><td>&quot;Francis Nathaniel Langham&quot;</td><td>null</td><td>null</td><td>&quot;GBR&quot;</td><td>36.082136</td><td>114150</td><td>null</td><td>null</td><td>&quot;Charles Francis Buller&quot;</td><td>null</td><td>null</td><td>&quot;GBR&quot;</td><td>31.12115</td><td>&quot;W/O&quot;</td><td>5</td><td>&quot;R32&quot;</td><td>null</td><td>null</td><td>null</td><td>null</td><td>null</td><td>null</td><td>null</td><td>null</td><td>null</td><td>null</td><td>null</td><td>null</td><td>null</td><td>null</td><td>null</td><td>null</td><td>null</td><td>null</td><td>null</td><td>null</td><td>null</td><td>null</td><td>null</td><td>&quot;Wimbledon_1877&quot;</td></tr><tr><td>&quot;1877-540&quot;</td><td>&quot;Wimbledon&quot;</td><td>&quot;Grass&quot;</td><td>&quot;32&quot;</td><td>&quot;G&quot;</td><td>1877-07-09</td><td>5</td><td>113953</td><td>null</td><td>null</td><td>&quot;Lestocq Robert Erskine&quot;</td><td>null</td><td>null</td><td>&quot;GBR&quot;</td><td>19.838467</td><td>114151</td><td>null</td><td>null</td><td>&quot;E Wheeler&quot;</td><td>null</td><td>null</td><td>&quot;GBR&quot;</td><td>null</td><td>&quot;6-2 6-5 6-2&quot;</td><td>5</td><td>&quot;R32&quot;</td><td>null</td><td>null</td><td>null</td><td>null</td><td>null</td><td>null</td><td>null</td><td>null</td><td>null</td><td>null</td><td>null</td><td>null</td><td>null</td><td>null</td><td>null</td><td>null</td><td>null</td><td>null</td><td>null</td><td>null</td><td>null</td><td>null</td><td>null</td><td>&quot;Wimbledon_1877&quot;</td></tr><tr><td>&hellip;</td><td>&hellip;</td><td>&hellip;</td><td>&hellip;</td><td>&hellip;</td><td>&hellip;</td><td>&hellip;</td><td>&hellip;</td><td>&hellip;</td><td>&hellip;</td><td>&hellip;</td><td>&hellip;</td><td>&hellip;</td><td>&hellip;</td><td>&hellip;</td><td>&hellip;</td><td>&hellip;</td><td>&hellip;</td><td>&hellip;</td><td>&hellip;</td><td>&hellip;</td><td>&hellip;</td><td>&hellip;</td><td>&hellip;</td><td>&hellip;</td><td>&hellip;</td><td>&hellip;</td><td>&hellip;</td><td>&hellip;</td><td>&hellip;</td><td>&hellip;</td><td>&hellip;</td><td>&hellip;</td><td>&hellip;</td><td>&hellip;</td><td>&hellip;</td><td>&hellip;</td><td>&hellip;</td><td>&hellip;</td><td>&hellip;</td><td>&hellip;</td><td>&hellip;</td><td>&hellip;</td><td>&hellip;</td><td>&hellip;</td><td>&hellip;</td><td>&hellip;</td><td>&hellip;</td><td>&hellip;</td><td>&hellip;</td></tr><tr><td>&quot;1967-D047&quot;</td><td>&quot;Davis Cup EUR R1: NED vs RSA&quot;</td><td>&quot;Clay&quot;</td><td>&quot;4&quot;</td><td>&quot;D&quot;</td><td>1967-05-04</td><td>5</td><td>100084</td><td>null</td><td>null</td><td>&quot;Tom Okker&quot;</td><td>&quot;R&quot;</td><td>&quot;178&quot;</td><td>&quot;NED&quot;</td><td>23.195072</td><td>100055</td><td>null</td><td>null</td><td>&quot;Cliff Drysdale&quot;</td><td>&quot;R&quot;</td><td>188</td><td>&quot;RSA&quot;</td><td>25.938398</td><td>&quot;6-2 6-2 0-6 7-5&quot;</td><td>5</td><td>&quot;RR&quot;</td><td>null</td><td>null</td><td>null</td><td>null</td><td>null</td><td>null</td><td>null</td><td>null</td><td>null</td><td>null</td><td>null</td><td>null</td><td>null</td><td>null</td><td>null</td><td>null</td><td>null</td><td>null</td><td>null</td><td>null</td><td>null</td><td>null</td><td>null</td><td>&quot;Davis Cup EUR R1: NED vs RSA_1…</td></tr><tr><td>&quot;1967-D048&quot;</td><td>&quot;Davis Cup AME SF: PHI vs VIE&quot;</td><td>null</td><td>&quot;4&quot;</td><td>&quot;D&quot;</td><td>1967-04-14</td><td>1</td><td>106910</td><td>null</td><td>null</td><td>&quot;Eddie Cruz&quot;</td><td>&quot;R&quot;</td><td>null</td><td>&quot;PHI&quot;</td><td>null</td><td>111097</td><td>null</td><td>null</td><td>&quot;Van Bay Vo&quot;</td><td>&quot;U&quot;</td><td>null</td><td>&quot;VIE&quot;</td><td>null</td><td>&quot;6-2 6-3 6-2&quot;</td><td>5</td><td>&quot;RR&quot;</td><td>null</td><td>null</td><td>null</td><td>null</td><td>null</td><td>null</td><td>null</td><td>null</td><td>null</td><td>null</td><td>null</td><td>null</td><td>null</td><td>null</td><td>null</td><td>null</td><td>null</td><td>null</td><td>null</td><td>null</td><td>null</td><td>null</td><td>null</td><td>&quot;Davis Cup AME SF: PHI vs VIE_1…</td></tr><tr><td>&quot;1967-D048&quot;</td><td>&quot;Davis Cup AME SF: PHI vs VIE&quot;</td><td>null</td><td>&quot;4&quot;</td><td>&quot;D&quot;</td><td>1967-04-14</td><td>2</td><td>112556</td><td>null</td><td>null</td><td>&quot;Felicisimo Ampon&quot;</td><td>null</td><td>null</td><td>&quot;PHI&quot;</td><td>46.461328</td><td>111091</td><td>null</td><td>null</td><td>&quot;Van Thanh Vo&quot;</td><td>&quot;U&quot;</td><td>null</td><td>&quot;VIE&quot;</td><td>null</td><td>&quot;6-4 6-1 6-1&quot;</td><td>5</td><td>&quot;RR&quot;</td><td>null</td><td>null</td><td>null</td><td>null</td><td>null</td><td>null</td><td>null</td><td>null</td><td>null</td><td>null</td><td>null</td><td>null</td><td>null</td><td>null</td><td>null</td><td>null</td><td>null</td><td>null</td><td>null</td><td>null</td><td>null</td><td>null</td><td>null</td><td>&quot;Davis Cup AME SF: PHI vs VIE_1…</td></tr><tr><td>&quot;1967-D048&quot;</td><td>&quot;Davis Cup AME SF: PHI vs VIE&quot;</td><td>null</td><td>&quot;4&quot;</td><td>&quot;D&quot;</td><td>1967-04-14</td><td>4</td><td>125731</td><td>null</td><td>null</td><td>&quot;Samuel Ang&quot;</td><td>&quot;U&quot;</td><td>null</td><td>&quot;PHI&quot;</td><td>null</td><td>117339</td><td>null</td><td>null</td><td>&quot;Hoang Duc Luu&quot;</td><td>null</td><td>null</td><td>&quot;VIE&quot;</td><td>null</td><td>&quot;6-3 6-4 6-1&quot;</td><td>5</td><td>&quot;RR&quot;</td><td>null</td><td>null</td><td>null</td><td>null</td><td>null</td><td>null</td><td>null</td><td>null</td><td>null</td><td>null</td><td>null</td><td>null</td><td>null</td><td>null</td><td>null</td><td>null</td><td>null</td><td>null</td><td>null</td><td>null</td><td>null</td><td>null</td><td>null</td><td>&quot;Davis Cup AME SF: PHI vs VIE_1…</td></tr><tr><td>&quot;1967-D048&quot;</td><td>&quot;Davis Cup AME SF: PHI vs VIE&quot;</td><td>null</td><td>&quot;4&quot;</td><td>&quot;D&quot;</td><td>1967-04-14</td><td>5</td><td>106910</td><td>null</td><td>null</td><td>&quot;Eddie Cruz&quot;</td><td>&quot;R&quot;</td><td>null</td><td>&quot;PHI&quot;</td><td>null</td><td>111091</td><td>null</td><td>null</td><td>&quot;Van Thanh Vo&quot;</td><td>&quot;U&quot;</td><td>null</td><td>&quot;VIE&quot;</td><td>null</td><td>&quot;12-10 9-7 6-1&quot;</td><td>5</td><td>&quot;RR&quot;</td><td>null</td><td>null</td><td>null</td><td>null</td><td>null</td><td>null</td><td>null</td><td>null</td><td>null</td><td>null</td><td>null</td><td>null</td><td>null</td><td>null</td><td>null</td><td>null</td><td>null</td><td>null</td><td>null</td><td>null</td><td>null</td><td>null</td><td>null</td><td>&quot;Davis Cup AME SF: PHI vs VIE_1…</td></tr></tbody></table></div>"
      ],
      "text/plain": [
       "shape: (25_001, 50)\n",
       "┌────────────┬───────────┬─────────┬───────────┬───┬───────────┬───────────┬───────────┬───────────┐\n",
       "│ tourney_id ┆ tourney_n ┆ surface ┆ draw_size ┆ … ┆ winner_ra ┆ loser_ran ┆ loser_ran ┆ tourney_n │\n",
       "│ ---        ┆ ame       ┆ ---     ┆ ---       ┆   ┆ nk_points ┆ k         ┆ k_points  ┆ ame_date  │\n",
       "│ str        ┆ ---       ┆ str     ┆ str       ┆   ┆ ---       ┆ ---       ┆ ---       ┆ ---       │\n",
       "│            ┆ str       ┆         ┆           ┆   ┆ str       ┆ str       ┆ str       ┆ str       │\n",
       "╞════════════╪═══════════╪═════════╪═══════════╪═══╪═══════════╪═══════════╪═══════════╪═══════════╡\n",
       "│ 1877-540   ┆ Wimbledon ┆ Grass   ┆ 32        ┆ … ┆ null      ┆ null      ┆ null      ┆ Wimbledon │\n",
       "│            ┆           ┆         ┆           ┆   ┆           ┆           ┆           ┆ _1877     │\n",
       "│ 1877-540   ┆ Wimbledon ┆ Grass   ┆ 32        ┆ … ┆ null      ┆ null      ┆ null      ┆ Wimbledon │\n",
       "│            ┆           ┆         ┆           ┆   ┆           ┆           ┆           ┆ _1877     │\n",
       "│ 1877-540   ┆ Wimbledon ┆ Grass   ┆ 32        ┆ … ┆ null      ┆ null      ┆ null      ┆ Wimbledon │\n",
       "│            ┆           ┆         ┆           ┆   ┆           ┆           ┆           ┆ _1877     │\n",
       "│ 1877-540   ┆ Wimbledon ┆ Grass   ┆ 32        ┆ … ┆ null      ┆ null      ┆ null      ┆ Wimbledon │\n",
       "│            ┆           ┆         ┆           ┆   ┆           ┆           ┆           ┆ _1877     │\n",
       "│ 1877-540   ┆ Wimbledon ┆ Grass   ┆ 32        ┆ … ┆ null      ┆ null      ┆ null      ┆ Wimbledon │\n",
       "│            ┆           ┆         ┆           ┆   ┆           ┆           ┆           ┆ _1877     │\n",
       "│ …          ┆ …         ┆ …       ┆ …         ┆ … ┆ …         ┆ …         ┆ …         ┆ …         │\n",
       "│ 1967-D047  ┆ Davis Cup ┆ Clay    ┆ 4         ┆ … ┆ null      ┆ null      ┆ null      ┆ Davis Cup │\n",
       "│            ┆ EUR R1:   ┆         ┆           ┆   ┆           ┆           ┆           ┆ EUR R1:   │\n",
       "│            ┆ NED vs    ┆         ┆           ┆   ┆           ┆           ┆           ┆ NED vs    │\n",
       "│            ┆ RSA       ┆         ┆           ┆   ┆           ┆           ┆           ┆ RSA_1…    │\n",
       "│ 1967-D048  ┆ Davis Cup ┆ null    ┆ 4         ┆ … ┆ null      ┆ null      ┆ null      ┆ Davis Cup │\n",
       "│            ┆ AME SF:   ┆         ┆           ┆   ┆           ┆           ┆           ┆ AME SF:   │\n",
       "│            ┆ PHI vs    ┆         ┆           ┆   ┆           ┆           ┆           ┆ PHI vs    │\n",
       "│            ┆ VIE       ┆         ┆           ┆   ┆           ┆           ┆           ┆ VIE_1…    │\n",
       "│ 1967-D048  ┆ Davis Cup ┆ null    ┆ 4         ┆ … ┆ null      ┆ null      ┆ null      ┆ Davis Cup │\n",
       "│            ┆ AME SF:   ┆         ┆           ┆   ┆           ┆           ┆           ┆ AME SF:   │\n",
       "│            ┆ PHI vs    ┆         ┆           ┆   ┆           ┆           ┆           ┆ PHI vs    │\n",
       "│            ┆ VIE       ┆         ┆           ┆   ┆           ┆           ┆           ┆ VIE_1…    │\n",
       "│ 1967-D048  ┆ Davis Cup ┆ null    ┆ 4         ┆ … ┆ null      ┆ null      ┆ null      ┆ Davis Cup │\n",
       "│            ┆ AME SF:   ┆         ┆           ┆   ┆           ┆           ┆           ┆ AME SF:   │\n",
       "│            ┆ PHI vs    ┆         ┆           ┆   ┆           ┆           ┆           ┆ PHI vs    │\n",
       "│            ┆ VIE       ┆         ┆           ┆   ┆           ┆           ┆           ┆ VIE_1…    │\n",
       "│ 1967-D048  ┆ Davis Cup ┆ null    ┆ 4         ┆ … ┆ null      ┆ null      ┆ null      ┆ Davis Cup │\n",
       "│            ┆ AME SF:   ┆         ┆           ┆   ┆           ┆           ┆           ┆ AME SF:   │\n",
       "│            ┆ PHI vs    ┆         ┆           ┆   ┆           ┆           ┆           ┆ PHI vs    │\n",
       "│            ┆ VIE       ┆         ┆           ┆   ┆           ┆           ┆           ┆ VIE_1…    │\n",
       "└────────────┴───────────┴─────────┴───────────┴───┴───────────┴───────────┴───────────┴───────────┘"
      ]
     },
     "execution_count": 6,
     "metadata": {},
     "output_type": "execute_result"
    }
   ],
   "source": [
    "#creazione df amatori\n",
    "matches_amateurs_atp=import_matches_amateurs_atp(write_parquet=True)\n",
    "#creazione colonna 'tourney_name_date' con metodo polars\n",
    "matches_amateurs_atp = matches_amateurs_atp.with_columns(\n",
    "    (pl.col(\"tourney_name\") + \"_\" + pl.col(\"tourney_date\").dt.year().cast(pl.Utf8)).alias(\"tourney_name_date\")\n",
    ")\n",
    "matches_amateurs_atp"
   ]
  },
  {
   "cell_type": "code",
   "execution_count": 7,
   "metadata": {},
   "outputs": [
    {
     "data": {
      "text/html": [
       "<div><style>\n",
       ".dataframe > thead > tr,\n",
       ".dataframe > tbody > tr {\n",
       "  text-align: right;\n",
       "  white-space: pre-wrap;\n",
       "}\n",
       "</style>\n",
       "<small>shape: (1_481, 6)</small><table border=\"1\" class=\"dataframe\"><thead><tr><th>tourney_name</th><th>surface</th><th>draw_size</th><th>tourney_level</th><th>tourney_date</th><th>tourney_name_date</th></tr><tr><td>str</td><td>str</td><td>str</td><td>str</td><td>date</td><td>str</td></tr></thead><tbody><tr><td>&quot;Australian Open&quot;</td><td>&quot;Grass&quot;</td><td>&quot;64&quot;</td><td>&quot;G&quot;</td><td>1948-01-17</td><td>&quot;Australian Open_1948&quot;</td></tr><tr><td>&quot;Davis Cup WG SF: GBR vs FRA&quot;</td><td>&quot;Grass&quot;</td><td>&quot;4&quot;</td><td>&quot;D&quot;</td><td>1914-07-11</td><td>&quot;Davis Cup WG SF: GBR vs FRA_19…</td></tr><tr><td>&quot;Wimbledon&quot;</td><td>&quot;Grass&quot;</td><td>&quot;64&quot;</td><td>&quot;G&quot;</td><td>1902-06-23</td><td>&quot;Wimbledon_1902&quot;</td></tr><tr><td>&quot;Davis Cup EUR R2: GER vs ESP&quot;</td><td>&quot;Clay&quot;</td><td>&quot;4&quot;</td><td>&quot;D&quot;</td><td>1928-05-17</td><td>&quot;Davis Cup EUR R2: GER vs ESP_1…</td></tr><tr><td>&quot;Davis Cup EUR R2: TCH vs NZL&quot;</td><td>null</td><td>&quot;4&quot;</td><td>&quot;D&quot;</td><td>1924-05-22</td><td>&quot;Davis Cup EUR R2: TCH vs NZL_1…</td></tr><tr><td>&hellip;</td><td>&hellip;</td><td>&hellip;</td><td>&hellip;</td><td>&hellip;</td><td>&hellip;</td></tr><tr><td>&quot;Davis Cup EUR SF: GBR vs ITA&quot;</td><td>&quot;Grass&quot;</td><td>&quot;4&quot;</td><td>&quot;D&quot;</td><td>1955-07-14</td><td>&quot;Davis Cup EUR SF: GBR vs ITA_1…</td></tr><tr><td>&quot;Wimbledon&quot;</td><td>&quot;Grass&quot;</td><td>&quot;64&quot;</td><td>&quot;G&quot;</td><td>1900-06-01</td><td>&quot;Wimbledon_1900&quot;</td></tr><tr><td>&quot;Davis Cup EUR QF: FRA vs GBR&quot;</td><td>&quot;Clay&quot;</td><td>&quot;4&quot;</td><td>&quot;D&quot;</td><td>1957-06-08</td><td>&quot;Davis Cup EUR QF: FRA vs GBR_1…</td></tr><tr><td>&quot;Roland Garros&quot;</td><td>&quot;Clay&quot;</td><td>&quot;128&quot;</td><td>&quot;G&quot;</td><td>1952-05-01</td><td>&quot;Roland Garros_1952&quot;</td></tr><tr><td>&quot;Davis Cup EUR R1: EGY vs AUT&quot;</td><td>null</td><td>&quot;4&quot;</td><td>&quot;D&quot;</td><td>1960-04-29</td><td>&quot;Davis Cup EUR R1: EGY vs AUT_1…</td></tr></tbody></table></div>"
      ],
      "text/plain": [
       "shape: (1_481, 6)\n",
       "┌──────────────────────┬─────────┬───────────┬───────────────┬──────────────┬──────────────────────┐\n",
       "│ tourney_name         ┆ surface ┆ draw_size ┆ tourney_level ┆ tourney_date ┆ tourney_name_date    │\n",
       "│ ---                  ┆ ---     ┆ ---       ┆ ---           ┆ ---          ┆ ---                  │\n",
       "│ str                  ┆ str     ┆ str       ┆ str           ┆ date         ┆ str                  │\n",
       "╞══════════════════════╪═════════╪═══════════╪═══════════════╪══════════════╪══════════════════════╡\n",
       "│ Australian Open      ┆ Grass   ┆ 64        ┆ G             ┆ 1948-01-17   ┆ Australian Open_1948 │\n",
       "│ Davis Cup WG SF: GBR ┆ Grass   ┆ 4         ┆ D             ┆ 1914-07-11   ┆ Davis Cup WG SF: GBR │\n",
       "│ vs FRA               ┆         ┆           ┆               ┆              ┆ vs FRA_19…           │\n",
       "│ Wimbledon            ┆ Grass   ┆ 64        ┆ G             ┆ 1902-06-23   ┆ Wimbledon_1902       │\n",
       "│ Davis Cup EUR R2:    ┆ Clay    ┆ 4         ┆ D             ┆ 1928-05-17   ┆ Davis Cup EUR R2:    │\n",
       "│ GER vs ESP           ┆         ┆           ┆               ┆              ┆ GER vs ESP_1…        │\n",
       "│ Davis Cup EUR R2:    ┆ null    ┆ 4         ┆ D             ┆ 1924-05-22   ┆ Davis Cup EUR R2:    │\n",
       "│ TCH vs NZL           ┆         ┆           ┆               ┆              ┆ TCH vs NZL_1…        │\n",
       "│ …                    ┆ …       ┆ …         ┆ …             ┆ …            ┆ …                    │\n",
       "│ Davis Cup EUR SF:    ┆ Grass   ┆ 4         ┆ D             ┆ 1955-07-14   ┆ Davis Cup EUR SF:    │\n",
       "│ GBR vs ITA           ┆         ┆           ┆               ┆              ┆ GBR vs ITA_1…        │\n",
       "│ Wimbledon            ┆ Grass   ┆ 64        ┆ G             ┆ 1900-06-01   ┆ Wimbledon_1900       │\n",
       "│ Davis Cup EUR QF:    ┆ Clay    ┆ 4         ┆ D             ┆ 1957-06-08   ┆ Davis Cup EUR QF:    │\n",
       "│ FRA vs GBR           ┆         ┆           ┆               ┆              ┆ FRA vs GBR_1…        │\n",
       "│ Roland Garros        ┆ Clay    ┆ 128       ┆ G             ┆ 1952-05-01   ┆ Roland Garros_1952   │\n",
       "│ Davis Cup EUR R1:    ┆ null    ┆ 4         ┆ D             ┆ 1960-04-29   ┆ Davis Cup EUR R1:    │\n",
       "│ EGY vs AUT           ┆         ┆           ┆               ┆              ┆ EGY vs AUT_1…        │\n",
       "└──────────────────────┴─────────┴───────────┴───────────────┴──────────────┴──────────────────────┘"
      ]
     },
     "execution_count": 7,
     "metadata": {},
     "output_type": "execute_result"
    }
   ],
   "source": [
    "#creazione 'tourney_amateurs_matches_atp' e in seguito unique di 'tourney_name_date'\n",
    "tourney_amateurs_matches_atp=matches_amateurs_atp[['tourney_name', 'surface', 'draw_size', 'tourney_level', 'tourney_date', 'tourney_name_date']]\n",
    "tourney_amateurs_matches_atp=tourney_amateurs_matches_atp.unique('tourney_name_date')\n",
    "tourney_amateurs_matches_atp"
   ]
  },
  {
   "cell_type": "code",
   "execution_count": 8,
   "metadata": {},
   "outputs": [
    {
     "data": {
      "text/html": [
       "<div><style>\n",
       ".dataframe > thead > tr,\n",
       ".dataframe > tbody > tr {\n",
       "  text-align: right;\n",
       "  white-space: pre-wrap;\n",
       "}\n",
       "</style>\n",
       "<small>shape: (193_337, 50)</small><table border=\"1\" class=\"dataframe\"><thead><tr><th>tourney_id</th><th>tourney_name</th><th>surface</th><th>draw_size</th><th>tourney_level</th><th>tourney_date</th><th>match_num</th><th>winner_id</th><th>winner_seed</th><th>winner_entry</th><th>winner_name</th><th>winner_hand</th><th>winner_ht</th><th>winner_ioc</th><th>winner_age</th><th>loser_id</th><th>loser_seed</th><th>loser_entry</th><th>loser_name</th><th>loser_hand</th><th>loser_ht</th><th>loser_ioc</th><th>loser_age</th><th>score</th><th>best_of</th><th>round</th><th>minutes</th><th>w_ace</th><th>w_df</th><th>w_svpt</th><th>w_1stIn</th><th>w_1stWon</th><th>w_2ndWon</th><th>w_SvGms</th><th>w_bpSaved</th><th>w_bpFaced</th><th>l_ace</th><th>l_df</th><th>l_svpt</th><th>l_1stIn</th><th>l_1stWon</th><th>l_2ndWon</th><th>l_SvGms</th><th>l_bpSaved</th><th>l_bpFaced</th><th>winner_rank</th><th>winner_rank_points</th><th>loser_rank</th><th>loser_rank_points</th><th>tourney_name_date</th></tr><tr><td>str</td><td>str</td><td>str</td><td>i64</td><td>str</td><td>date</td><td>i64</td><td>str</td><td>str</td><td>str</td><td>str</td><td>str</td><td>i64</td><td>str</td><td>f64</td><td>str</td><td>str</td><td>str</td><td>str</td><td>str</td><td>i64</td><td>str</td><td>f64</td><td>str</td><td>i64</td><td>str</td><td>str</td><td>str</td><td>str</td><td>str</td><td>str</td><td>str</td><td>str</td><td>str</td><td>str</td><td>str</td><td>str</td><td>str</td><td>str</td><td>str</td><td>str</td><td>str</td><td>str</td><td>str</td><td>str</td><td>str</td><td>str</td><td>str</td><td>str</td><td>str</td></tr></thead><tbody><tr><td>&quot;1968-2029&quot;</td><td>&quot;Dublin&quot;</td><td>&quot;Grass&quot;</td><td>32</td><td>&quot;A&quot;</td><td>1968-07-08</td><td>270</td><td>&quot;112411&quot;</td><td>null</td><td>null</td><td>&quot;Doug Smith&quot;</td><td>&quot;U&quot;</td><td>null</td><td>&quot;AUS&quot;</td><td>null</td><td>&quot;110196&quot;</td><td>null</td><td>null</td><td>&quot;Peter Ledbetter&quot;</td><td>&quot;U&quot;</td><td>null</td><td>&quot;IRL&quot;</td><td>24.0</td><td>&quot;6-1 7-5&quot;</td><td>3</td><td>&quot;R32&quot;</td><td>null</td><td>null</td><td>null</td><td>null</td><td>null</td><td>null</td><td>null</td><td>null</td><td>null</td><td>null</td><td>null</td><td>null</td><td>null</td><td>null</td><td>null</td><td>null</td><td>null</td><td>null</td><td>null</td><td>null</td><td>null</td><td>null</td><td>null</td><td>&quot;Dublin_1968&quot;</td></tr><tr><td>&quot;1968-2029&quot;</td><td>&quot;Dublin&quot;</td><td>&quot;Grass&quot;</td><td>32</td><td>&quot;A&quot;</td><td>1968-07-08</td><td>271</td><td>&quot;126914&quot;</td><td>null</td><td>null</td><td>&quot;Louis Pretorius&quot;</td><td>&quot;R&quot;</td><td>null</td><td>&quot;RSA&quot;</td><td>null</td><td>&quot;209536&quot;</td><td>null</td><td>null</td><td>&quot;Maurice Pollock&quot;</td><td>&quot;U&quot;</td><td>null</td><td>&quot;IRL&quot;</td><td>null</td><td>&quot;6-1 6-1&quot;</td><td>3</td><td>&quot;R32&quot;</td><td>null</td><td>null</td><td>null</td><td>null</td><td>null</td><td>null</td><td>null</td><td>null</td><td>null</td><td>null</td><td>null</td><td>null</td><td>null</td><td>null</td><td>null</td><td>null</td><td>null</td><td>null</td><td>null</td><td>null</td><td>null</td><td>null</td><td>null</td><td>&quot;Dublin_1968&quot;</td></tr><tr><td>&quot;1968-2029&quot;</td><td>&quot;Dublin&quot;</td><td>&quot;Grass&quot;</td><td>32</td><td>&quot;A&quot;</td><td>1968-07-08</td><td>272</td><td>&quot;209523&quot;</td><td>null</td><td>null</td><td>&quot;Cecil Pedlow&quot;</td><td>&quot;U&quot;</td><td>null</td><td>&quot;IRL&quot;</td><td>null</td><td>&quot;209535&quot;</td><td>null</td><td>null</td><td>&quot;John Mulvey&quot;</td><td>&quot;U&quot;</td><td>null</td><td>&quot;IRL&quot;</td><td>null</td><td>&quot;6-2 6-2&quot;</td><td>3</td><td>&quot;R32&quot;</td><td>null</td><td>null</td><td>null</td><td>null</td><td>null</td><td>null</td><td>null</td><td>null</td><td>null</td><td>null</td><td>null</td><td>null</td><td>null</td><td>null</td><td>null</td><td>null</td><td>null</td><td>null</td><td>null</td><td>null</td><td>null</td><td>null</td><td>null</td><td>&quot;Dublin_1968&quot;</td></tr><tr><td>&quot;1968-2029&quot;</td><td>&quot;Dublin&quot;</td><td>&quot;Grass&quot;</td><td>32</td><td>&quot;A&quot;</td><td>1968-07-08</td><td>273</td><td>&quot;100084&quot;</td><td>null</td><td>null</td><td>&quot;Tom Okker&quot;</td><td>&quot;R&quot;</td><td>178</td><td>&quot;NED&quot;</td><td>24.3</td><td>&quot;209534&quot;</td><td>null</td><td>null</td><td>&quot;Unknown Fearmon&quot;</td><td>&quot;U&quot;</td><td>null</td><td>null</td><td>null</td><td>&quot;6-1 6-1&quot;</td><td>3</td><td>&quot;R32&quot;</td><td>null</td><td>null</td><td>null</td><td>null</td><td>null</td><td>null</td><td>null</td><td>null</td><td>null</td><td>null</td><td>null</td><td>null</td><td>null</td><td>null</td><td>null</td><td>null</td><td>null</td><td>null</td><td>null</td><td>null</td><td>null</td><td>null</td><td>null</td><td>&quot;Dublin_1968&quot;</td></tr><tr><td>&quot;1968-2029&quot;</td><td>&quot;Dublin&quot;</td><td>&quot;Grass&quot;</td><td>32</td><td>&quot;A&quot;</td><td>1968-07-08</td><td>274</td><td>&quot;100132&quot;</td><td>null</td><td>null</td><td>&quot;Armistead Neely&quot;</td><td>&quot;R&quot;</td><td>null</td><td>&quot;USA&quot;</td><td>21.3</td><td>&quot;209533&quot;</td><td>null</td><td>null</td><td>&quot;Harry Sheridan&quot;</td><td>&quot;U&quot;</td><td>null</td><td>&quot;IRL&quot;</td><td>null</td><td>&quot;6-2 6-4&quot;</td><td>3</td><td>&quot;R32&quot;</td><td>null</td><td>null</td><td>null</td><td>null</td><td>null</td><td>null</td><td>null</td><td>null</td><td>null</td><td>null</td><td>null</td><td>null</td><td>null</td><td>null</td><td>null</td><td>null</td><td>null</td><td>null</td><td>null</td><td>null</td><td>null</td><td>null</td><td>null</td><td>&quot;Dublin_1968&quot;</td></tr><tr><td>&hellip;</td><td>&hellip;</td><td>&hellip;</td><td>&hellip;</td><td>&hellip;</td><td>&hellip;</td><td>&hellip;</td><td>&hellip;</td><td>&hellip;</td><td>&hellip;</td><td>&hellip;</td><td>&hellip;</td><td>&hellip;</td><td>&hellip;</td><td>&hellip;</td><td>&hellip;</td><td>&hellip;</td><td>&hellip;</td><td>&hellip;</td><td>&hellip;</td><td>&hellip;</td><td>&hellip;</td><td>&hellip;</td><td>&hellip;</td><td>&hellip;</td><td>&hellip;</td><td>&hellip;</td><td>&hellip;</td><td>&hellip;</td><td>&hellip;</td><td>&hellip;</td><td>&hellip;</td><td>&hellip;</td><td>&hellip;</td><td>&hellip;</td><td>&hellip;</td><td>&hellip;</td><td>&hellip;</td><td>&hellip;</td><td>&hellip;</td><td>&hellip;</td><td>&hellip;</td><td>&hellip;</td><td>&hellip;</td><td>&hellip;</td><td>&hellip;</td><td>&hellip;</td><td>&hellip;</td><td>&hellip;</td><td>&hellip;</td></tr><tr><td>&quot;2024-M-DC-2024-WG2-PO-URU-MDA-…</td><td>&quot;Davis Cup WG2 PO: URU vs MDA&quot;</td><td>&quot;Clay&quot;</td><td>4</td><td>&quot;D&quot;</td><td>2024-02-03</td><td>5</td><td>&quot;212051&quot;</td><td>null</td><td>null</td><td>&quot;Joaquin&nbsp;&nbsp;Aguilar Cardozo &quot;</td><td>&quot;U&quot;</td><td>null</td><td>&quot;URU&quot;</td><td>18.8</td><td>&quot;209943&quot;</td><td>null</td><td>null</td><td>&quot;Ilya Snitari&quot;</td><td>&quot;U&quot;</td><td>null</td><td>&quot;MDA&quot;</td><td>21.8</td><td>&quot;6-1 6-0&quot;</td><td>3</td><td>&quot;RR&quot;</td><td>&quot;77&quot;</td><td>&quot;0&quot;</td><td>&quot;0&quot;</td><td>&quot;36&quot;</td><td>&quot;22&quot;</td><td>&quot;15&quot;</td><td>&quot;10&quot;</td><td>&quot;7&quot;</td><td>&quot;1&quot;</td><td>&quot;1&quot;</td><td>&quot;1&quot;</td><td>&quot;1&quot;</td><td>&quot;61&quot;</td><td>&quot;30&quot;</td><td>&quot;17&quot;</td><td>&quot;7&quot;</td><td>&quot;6&quot;</td><td>&quot;8&quot;</td><td>&quot;14&quot;</td><td>&quot;1109&quot;</td><td>&quot;8&quot;</td><td>&quot;740&quot;</td><td>&quot;34&quot;</td><td>&quot;Davis Cup WG2 PO: URU vs MDA_2…</td></tr><tr><td>&quot;2024-M-DC-2024-WG2-PO-VIE-RSA-…</td><td>&quot;Davis Cup WG2 PO: VIE vs RSA&quot;</td><td>&quot;Hard&quot;</td><td>4</td><td>&quot;D&quot;</td><td>2024-02-02</td><td>1</td><td>&quot;122533&quot;</td><td>null</td><td>null</td><td>&quot;Nam Hoang Ly&quot;</td><td>&quot;R&quot;</td><td>null</td><td>&quot;VIE&quot;</td><td>26.9</td><td>&quot;202475&quot;</td><td>null</td><td>null</td><td>&quot;Philip Henning&quot;</td><td>&quot;R&quot;</td><td>null</td><td>&quot;RSA&quot;</td><td>23.2</td><td>&quot;6-3 6-4&quot;</td><td>3</td><td>&quot;RR&quot;</td><td>&quot;131&quot;</td><td>&quot;1&quot;</td><td>&quot;1&quot;</td><td>&quot;86&quot;</td><td>&quot;60&quot;</td><td>&quot;40&quot;</td><td>&quot;13&quot;</td><td>&quot;10&quot;</td><td>&quot;8&quot;</td><td>&quot;9&quot;</td><td>&quot;2&quot;</td><td>&quot;1&quot;</td><td>&quot;56&quot;</td><td>&quot;41&quot;</td><td>&quot;25&quot;</td><td>&quot;6&quot;</td><td>&quot;9&quot;</td><td>&quot;1&quot;</td><td>&quot;4&quot;</td><td>&quot;554&quot;</td><td>&quot;67&quot;</td><td>&quot;748&quot;</td><td>&quot;32&quot;</td><td>&quot;Davis Cup WG2 PO: VIE vs RSA_2…</td></tr><tr><td>&quot;2024-M-DC-2024-WG2-PO-VIE-RSA-…</td><td>&quot;Davis Cup WG2 PO: VIE vs RSA&quot;</td><td>&quot;Hard&quot;</td><td>4</td><td>&quot;D&quot;</td><td>2024-02-02</td><td>2</td><td>&quot;144748&quot;</td><td>null</td><td>null</td><td>&quot;Kris Van Wyk&quot;</td><td>&quot;U&quot;</td><td>null</td><td>&quot;RSA&quot;</td><td>27.3</td><td>&quot;144775&quot;</td><td>null</td><td>null</td><td>&quot;Linh Giang Trinh&quot;</td><td>&quot;R&quot;</td><td>183</td><td>&quot;VIE&quot;</td><td>26.4</td><td>&quot;4-6 6-3 4-0&quot;</td><td>3</td><td>&quot;RR&quot;</td><td>&quot;131&quot;</td><td>&quot;4&quot;</td><td>&quot;2&quot;</td><td>&quot;76&quot;</td><td>&quot;46&quot;</td><td>&quot;32&quot;</td><td>&quot;10&quot;</td><td>&quot;12&quot;</td><td>&quot;6&quot;</td><td>&quot;11&quot;</td><td>&quot;0&quot;</td><td>&quot;2&quot;</td><td>&quot;71&quot;</td><td>&quot;51&quot;</td><td>&quot;25&quot;</td><td>&quot;7&quot;</td><td>&quot;11&quot;</td><td>&quot;5&quot;</td><td>&quot;12&quot;</td><td>&quot;416&quot;</td><td>&quot;109&quot;</td><td>null</td><td>null</td><td>&quot;Davis Cup WG2 PO: VIE vs RSA_2…</td></tr><tr><td>&quot;2024-M-DC-2024-WG2-PO-VIE-RSA-…</td><td>&quot;Davis Cup WG2 PO: VIE vs RSA&quot;</td><td>&quot;Hard&quot;</td><td>4</td><td>&quot;D&quot;</td><td>2024-02-02</td><td>4</td><td>&quot;122533&quot;</td><td>null</td><td>null</td><td>&quot;Nam Hoang Ly&quot;</td><td>&quot;R&quot;</td><td>null</td><td>&quot;VIE&quot;</td><td>26.9</td><td>&quot;144748&quot;</td><td>null</td><td>null</td><td>&quot;Kris Van Wyk&quot;</td><td>&quot;U&quot;</td><td>null</td><td>&quot;RSA&quot;</td><td>27.3</td><td>&quot;6-4 3-6 6-3&quot;</td><td>3</td><td>&quot;RR&quot;</td><td>&quot;159&quot;</td><td>&quot;0&quot;</td><td>&quot;1&quot;</td><td>&quot;84&quot;</td><td>&quot;61&quot;</td><td>&quot;41&quot;</td><td>&quot;13&quot;</td><td>&quot;14&quot;</td><td>&quot;2&quot;</td><td>&quot;5&quot;</td><td>&quot;5&quot;</td><td>&quot;3&quot;</td><td>&quot;86&quot;</td><td>&quot;51&quot;</td><td>&quot;32&quot;</td><td>&quot;17&quot;</td><td>&quot;14&quot;</td><td>&quot;5&quot;</td><td>&quot;9&quot;</td><td>&quot;554&quot;</td><td>&quot;67&quot;</td><td>&quot;416&quot;</td><td>&quot;109&quot;</td><td>&quot;Davis Cup WG2 PO: VIE vs RSA_2…</td></tr><tr><td>&quot;2024-M-DC-2024-WG2-PO-VIE-RSA-…</td><td>&quot;Davis Cup WG2 PO: VIE vs RSA&quot;</td><td>&quot;Hard&quot;</td><td>4</td><td>&quot;D&quot;</td><td>2024-02-02</td><td>5</td><td>&quot;202475&quot;</td><td>null</td><td>null</td><td>&quot;Philip Henning&quot;</td><td>&quot;R&quot;</td><td>null</td><td>&quot;RSA&quot;</td><td>23.2</td><td>&quot;144775&quot;</td><td>null</td><td>null</td><td>&quot;Linh Giang Trinh&quot;</td><td>&quot;R&quot;</td><td>183</td><td>&quot;VIE&quot;</td><td>26.4</td><td>&quot;6-2 6-2&quot;</td><td>3</td><td>&quot;RR&quot;</td><td>&quot;101&quot;</td><td>&quot;1&quot;</td><td>&quot;0&quot;</td><td>&quot;47&quot;</td><td>&quot;28&quot;</td><td>&quot;21&quot;</td><td>&quot;11&quot;</td><td>&quot;8&quot;</td><td>&quot;0&quot;</td><td>&quot;1&quot;</td><td>&quot;0&quot;</td><td>&quot;0&quot;</td><td>&quot;71&quot;</td><td>&quot;53&quot;</td><td>&quot;25&quot;</td><td>&quot;8&quot;</td><td>&quot;8&quot;</td><td>&quot;9&quot;</td><td>&quot;14&quot;</td><td>&quot;748&quot;</td><td>&quot;32&quot;</td><td>null</td><td>null</td><td>&quot;Davis Cup WG2 PO: VIE vs RSA_2…</td></tr></tbody></table></div>"
      ],
      "text/plain": [
       "shape: (193_337, 50)\n",
       "┌────────────┬───────────┬─────────┬───────────┬───┬───────────┬───────────┬───────────┬───────────┐\n",
       "│ tourney_id ┆ tourney_n ┆ surface ┆ draw_size ┆ … ┆ winner_ra ┆ loser_ran ┆ loser_ran ┆ tourney_n │\n",
       "│ ---        ┆ ame       ┆ ---     ┆ ---       ┆   ┆ nk_points ┆ k         ┆ k_points  ┆ ame_date  │\n",
       "│ str        ┆ ---       ┆ str     ┆ i64       ┆   ┆ ---       ┆ ---       ┆ ---       ┆ ---       │\n",
       "│            ┆ str       ┆         ┆           ┆   ┆ str       ┆ str       ┆ str       ┆ str       │\n",
       "╞════════════╪═══════════╪═════════╪═══════════╪═══╪═══════════╪═══════════╪═══════════╪═══════════╡\n",
       "│ 1968-2029  ┆ Dublin    ┆ Grass   ┆ 32        ┆ … ┆ null      ┆ null      ┆ null      ┆ Dublin_19 │\n",
       "│            ┆           ┆         ┆           ┆   ┆           ┆           ┆           ┆ 68        │\n",
       "│ 1968-2029  ┆ Dublin    ┆ Grass   ┆ 32        ┆ … ┆ null      ┆ null      ┆ null      ┆ Dublin_19 │\n",
       "│            ┆           ┆         ┆           ┆   ┆           ┆           ┆           ┆ 68        │\n",
       "│ 1968-2029  ┆ Dublin    ┆ Grass   ┆ 32        ┆ … ┆ null      ┆ null      ┆ null      ┆ Dublin_19 │\n",
       "│            ┆           ┆         ┆           ┆   ┆           ┆           ┆           ┆ 68        │\n",
       "│ 1968-2029  ┆ Dublin    ┆ Grass   ┆ 32        ┆ … ┆ null      ┆ null      ┆ null      ┆ Dublin_19 │\n",
       "│            ┆           ┆         ┆           ┆   ┆           ┆           ┆           ┆ 68        │\n",
       "│ 1968-2029  ┆ Dublin    ┆ Grass   ┆ 32        ┆ … ┆ null      ┆ null      ┆ null      ┆ Dublin_19 │\n",
       "│            ┆           ┆         ┆           ┆   ┆           ┆           ┆           ┆ 68        │\n",
       "│ …          ┆ …         ┆ …       ┆ …         ┆ … ┆ …         ┆ …         ┆ …         ┆ …         │\n",
       "│ 2024-M-DC- ┆ Davis Cup ┆ Clay    ┆ 4         ┆ … ┆ 8         ┆ 740       ┆ 34        ┆ Davis Cup │\n",
       "│ 2024-WG2-P ┆ WG2 PO:   ┆         ┆           ┆   ┆           ┆           ┆           ┆ WG2 PO:   │\n",
       "│ O-URU-MDA- ┆ URU vs    ┆         ┆           ┆   ┆           ┆           ┆           ┆ URU vs    │\n",
       "│ …          ┆ MDA       ┆         ┆           ┆   ┆           ┆           ┆           ┆ MDA_2…    │\n",
       "│ 2024-M-DC- ┆ Davis Cup ┆ Hard    ┆ 4         ┆ … ┆ 67        ┆ 748       ┆ 32        ┆ Davis Cup │\n",
       "│ 2024-WG2-P ┆ WG2 PO:   ┆         ┆           ┆   ┆           ┆           ┆           ┆ WG2 PO:   │\n",
       "│ O-VIE-RSA- ┆ VIE vs    ┆         ┆           ┆   ┆           ┆           ┆           ┆ VIE vs    │\n",
       "│ …          ┆ RSA       ┆         ┆           ┆   ┆           ┆           ┆           ┆ RSA_2…    │\n",
       "│ 2024-M-DC- ┆ Davis Cup ┆ Hard    ┆ 4         ┆ … ┆ 109       ┆ null      ┆ null      ┆ Davis Cup │\n",
       "│ 2024-WG2-P ┆ WG2 PO:   ┆         ┆           ┆   ┆           ┆           ┆           ┆ WG2 PO:   │\n",
       "│ O-VIE-RSA- ┆ VIE vs    ┆         ┆           ┆   ┆           ┆           ┆           ┆ VIE vs    │\n",
       "│ …          ┆ RSA       ┆         ┆           ┆   ┆           ┆           ┆           ┆ RSA_2…    │\n",
       "│ 2024-M-DC- ┆ Davis Cup ┆ Hard    ┆ 4         ┆ … ┆ 67        ┆ 416       ┆ 109       ┆ Davis Cup │\n",
       "│ 2024-WG2-P ┆ WG2 PO:   ┆         ┆           ┆   ┆           ┆           ┆           ┆ WG2 PO:   │\n",
       "│ O-VIE-RSA- ┆ VIE vs    ┆         ┆           ┆   ┆           ┆           ┆           ┆ VIE vs    │\n",
       "│ …          ┆ RSA       ┆         ┆           ┆   ┆           ┆           ┆           ┆ RSA_2…    │\n",
       "│ 2024-M-DC- ┆ Davis Cup ┆ Hard    ┆ 4         ┆ … ┆ 32        ┆ null      ┆ null      ┆ Davis Cup │\n",
       "│ 2024-WG2-P ┆ WG2 PO:   ┆         ┆           ┆   ┆           ┆           ┆           ┆ WG2 PO:   │\n",
       "│ O-VIE-RSA- ┆ VIE vs    ┆         ┆           ┆   ┆           ┆           ┆           ┆ VIE vs    │\n",
       "│ …          ┆ RSA       ┆         ┆           ┆   ┆           ┆           ┆           ┆ RSA_2…    │\n",
       "└────────────┴───────────┴─────────┴───────────┴───┴───────────┴───────────┴───────────┴───────────┘"
      ]
     },
     "execution_count": 8,
     "metadata": {},
     "output_type": "execute_result"
    }
   ],
   "source": [
    "matches_singles_atp=import_tennis_matches(data_type=\"singles\",gender=\"atp\")\n",
    "\n",
    "matches_singles_atp = matches_singles_atp.with_columns(\n",
    "    (pl.col(\"tourney_name\") + \"_\" + pl.col(\"tourney_date\").dt.year().cast(pl.Utf8)).alias(\"tourney_name_date\")\n",
    ")\n",
    "matches_singles_atp"
   ]
  },
  {
   "cell_type": "code",
   "execution_count": 9,
   "metadata": {},
   "outputs": [
    {
     "data": {
      "text/html": [
       "<div><style>\n",
       ".dataframe > thead > tr,\n",
       ".dataframe > tbody > tr {\n",
       "  text-align: right;\n",
       "  white-space: pre-wrap;\n",
       "}\n",
       "</style>\n",
       "<small>shape: (8_316, 6)</small><table border=\"1\" class=\"dataframe\"><thead><tr><th>tourney_name</th><th>surface</th><th>draw_size</th><th>tourney_level</th><th>tourney_date</th><th>tourney_name_date</th></tr><tr><td>str</td><td>str</td><td>i64</td><td>str</td><td>date</td><td>str</td></tr></thead><tbody><tr><td>&quot;Canada Masters&quot;</td><td>&quot;Hard&quot;</td><td>56</td><td>&quot;M&quot;</td><td>2013-08-05</td><td>&quot;Canada Masters_2013&quot;</td></tr><tr><td>&quot;Cape Town WCT&quot;</td><td>&quot;Hard&quot;</td><td>16</td><td>&quot;A&quot;</td><td>1968-10-11</td><td>&quot;Cape Town WCT_1968&quot;</td></tr><tr><td>&quot;Eastbourne&quot;</td><td>&quot;Grass&quot;</td><td>28</td><td>&quot;A&quot;</td><td>2012-06-18</td><td>&quot;Eastbourne_2012&quot;</td></tr><tr><td>&quot;Davis Cup WG PO: AUT vs BEL&quot;</td><td>&quot;Clay&quot;</td><td>4</td><td>&quot;D&quot;</td><td>2003-09-19</td><td>&quot;Davis Cup WG PO: AUT vs BEL_20…</td></tr><tr><td>&quot;Davis Cup EUR PR: FIN vs EGY&quot;</td><td>null</td><td>4</td><td>&quot;D&quot;</td><td>1979-09-14</td><td>&quot;Davis Cup EUR PR: FIN vs EGY_1…</td></tr><tr><td>&hellip;</td><td>&hellip;</td><td>&hellip;</td><td>&hellip;</td><td>&hellip;</td><td>&hellip;</td></tr><tr><td>&quot;Antalya&quot;</td><td>&quot;Grass&quot;</td><td>32</td><td>&quot;A&quot;</td><td>2018-06-25</td><td>&quot;Antalya_2018&quot;</td></tr><tr><td>&quot;Indian Wells Masters&quot;</td><td>&quot;Hard&quot;</td><td>128</td><td>&quot;M&quot;</td><td>2022-03-07</td><td>&quot;Indian Wells Masters_2022&quot;</td></tr><tr><td>&quot;Hamburg&quot;</td><td>&quot;Clay&quot;</td><td>32</td><td>&quot;A&quot;</td><td>2021-07-12</td><td>&quot;Hamburg_2021&quot;</td></tr><tr><td>&quot;Wimbledon&quot;</td><td>&quot;Grass&quot;</td><td>128</td><td>&quot;G&quot;</td><td>1986-06-23</td><td>&quot;Wimbledon_1986&quot;</td></tr><tr><td>&quot;Eastbourne&quot;</td><td>&quot;Grass&quot;</td><td>32</td><td>&quot;A&quot;</td><td>1972-06-23</td><td>&quot;Eastbourne_1972&quot;</td></tr></tbody></table></div>"
      ],
      "text/plain": [
       "shape: (8_316, 6)\n",
       "┌──────────────────────┬─────────┬───────────┬───────────────┬──────────────┬──────────────────────┐\n",
       "│ tourney_name         ┆ surface ┆ draw_size ┆ tourney_level ┆ tourney_date ┆ tourney_name_date    │\n",
       "│ ---                  ┆ ---     ┆ ---       ┆ ---           ┆ ---          ┆ ---                  │\n",
       "│ str                  ┆ str     ┆ i64       ┆ str           ┆ date         ┆ str                  │\n",
       "╞══════════════════════╪═════════╪═══════════╪═══════════════╪══════════════╪══════════════════════╡\n",
       "│ Canada Masters       ┆ Hard    ┆ 56        ┆ M             ┆ 2013-08-05   ┆ Canada Masters_2013  │\n",
       "│ Cape Town WCT        ┆ Hard    ┆ 16        ┆ A             ┆ 1968-10-11   ┆ Cape Town WCT_1968   │\n",
       "│ Eastbourne           ┆ Grass   ┆ 28        ┆ A             ┆ 2012-06-18   ┆ Eastbourne_2012      │\n",
       "│ Davis Cup WG PO: AUT ┆ Clay    ┆ 4         ┆ D             ┆ 2003-09-19   ┆ Davis Cup WG PO: AUT │\n",
       "│ vs BEL               ┆         ┆           ┆               ┆              ┆ vs BEL_20…           │\n",
       "│ Davis Cup EUR PR:    ┆ null    ┆ 4         ┆ D             ┆ 1979-09-14   ┆ Davis Cup EUR PR:    │\n",
       "│ FIN vs EGY           ┆         ┆           ┆               ┆              ┆ FIN vs EGY_1…        │\n",
       "│ …                    ┆ …       ┆ …         ┆ …             ┆ …            ┆ …                    │\n",
       "│ Antalya              ┆ Grass   ┆ 32        ┆ A             ┆ 2018-06-25   ┆ Antalya_2018         │\n",
       "│ Indian Wells Masters ┆ Hard    ┆ 128       ┆ M             ┆ 2022-03-07   ┆ Indian Wells         │\n",
       "│                      ┆         ┆           ┆               ┆              ┆ Masters_2022         │\n",
       "│ Hamburg              ┆ Clay    ┆ 32        ┆ A             ┆ 2021-07-12   ┆ Hamburg_2021         │\n",
       "│ Wimbledon            ┆ Grass   ┆ 128       ┆ G             ┆ 1986-06-23   ┆ Wimbledon_1986       │\n",
       "│ Eastbourne           ┆ Grass   ┆ 32        ┆ A             ┆ 1972-06-23   ┆ Eastbourne_1972      │\n",
       "└──────────────────────┴─────────┴───────────┴───────────────┴──────────────┴──────────────────────┘"
      ]
     },
     "execution_count": 9,
     "metadata": {},
     "output_type": "execute_result"
    }
   ],
   "source": [
    "tourney_single_matches_atp=matches_singles_atp[['tourney_name', 'surface', 'draw_size', 'tourney_level', 'tourney_date', 'tourney_name_date']]\n",
    "tourney_single_matches_atp=tourney_single_matches_atp.unique('tourney_name_date')\n",
    "tourney_single_matches_atp"
   ]
  },
  {
   "cell_type": "code",
   "execution_count": 10,
   "metadata": {},
   "outputs": [
    {
     "data": {
      "text/html": [
       "<div><style>\n",
       ".dataframe > thead > tr,\n",
       ".dataframe > tbody > tr {\n",
       "  text-align: right;\n",
       "  white-space: pre-wrap;\n",
       "}\n",
       "</style>\n",
       "<small>shape: (156_578, 50)</small><table border=\"1\" class=\"dataframe\"><thead><tr><th>tourney_id</th><th>tourney_name</th><th>surface</th><th>draw_size</th><th>tourney_level</th><th>tourney_date</th><th>match_num</th><th>winner_id</th><th>winner_seed</th><th>winner_entry</th><th>winner_name</th><th>winner_hand</th><th>winner_ht</th><th>winner_ioc</th><th>winner_age</th><th>loser_id</th><th>loser_seed</th><th>loser_entry</th><th>loser_name</th><th>loser_hand</th><th>loser_ht</th><th>loser_ioc</th><th>loser_age</th><th>score</th><th>best_of</th><th>round</th><th>minutes</th><th>w_ace</th><th>w_df</th><th>w_svpt</th><th>w_1stIn</th><th>w_1stWon</th><th>w_2ndWon</th><th>w_SvGms</th><th>w_bpSaved</th><th>w_bpFaced</th><th>l_ace</th><th>l_df</th><th>l_svpt</th><th>l_1stIn</th><th>l_1stWon</th><th>l_2ndWon</th><th>l_SvGms</th><th>l_bpSaved</th><th>l_bpFaced</th><th>winner_rank</th><th>winner_rank_points</th><th>loser_rank</th><th>loser_rank_points</th><th>tourney_name_date</th></tr><tr><td>str</td><td>str</td><td>str</td><td>str</td><td>str</td><td>date</td><td>i64</td><td>str</td><td>str</td><td>str</td><td>str</td><td>str</td><td>i64</td><td>str</td><td>f64</td><td>str</td><td>str</td><td>str</td><td>str</td><td>str</td><td>i64</td><td>str</td><td>f64</td><td>str</td><td>i64</td><td>str</td><td>str</td><td>str</td><td>str</td><td>str</td><td>str</td><td>str</td><td>str</td><td>str</td><td>str</td><td>str</td><td>str</td><td>str</td><td>str</td><td>str</td><td>str</td><td>str</td><td>str</td><td>str</td><td>str</td><td>str</td><td>str</td><td>str</td><td>str</td><td>str</td></tr></thead><tbody><tr><td>&quot;1968-W-OL-MEX-01A-1968&quot;</td><td>&quot;Guadalajara Olympics Demo&quot;</td><td>&quot;Clay&quot;</td><td>&quot;13&quot;</td><td>&quot;O&quot;</td><td>1968-10-14</td><td>1</td><td>&quot;200781&quot;</td><td>null</td><td>null</td><td>&quot;Edda Buding&quot;</td><td>&quot;R&quot;</td><td>null</td><td>&quot;FRG&quot;</td><td>31.9</td><td>&quot;200795&quot;</td><td>null</td><td>null</td><td>&quot;Patricia Montano&quot;</td><td>&quot;U&quot;</td><td>null</td><td>&quot;MEX&quot;</td><td>16.1</td><td>&quot;7-5 2-6 6-4&quot;</td><td>3</td><td>&quot;R16&quot;</td><td>null</td><td>null</td><td>null</td><td>null</td><td>null</td><td>null</td><td>null</td><td>null</td><td>null</td><td>null</td><td>null</td><td>null</td><td>null</td><td>null</td><td>null</td><td>null</td><td>null</td><td>null</td><td>null</td><td>null</td><td>null</td><td>null</td><td>null</td><td>&quot;Guadalajara Olympics Demo_1968&quot;</td></tr><tr><td>&quot;1968-W-OL-MEX-01A-1968&quot;</td><td>&quot;Guadalajara Olympics Demo&quot;</td><td>&quot;Clay&quot;</td><td>&quot;13&quot;</td><td>&quot;O&quot;</td><td>1968-10-14</td><td>2</td><td>&quot;202512&quot;</td><td>null</td><td>null</td><td>&quot;Lucia Gongora&quot;</td><td>&quot;U&quot;</td><td>null</td><td>&quot;MEX&quot;</td><td>21.9</td><td>&quot;200862&quot;</td><td>null</td><td>null</td><td>&quot;Valerie Ziegenfuss&quot;</td><td>&quot;R&quot;</td><td>173</td><td>&quot;USA&quot;</td><td>19.2</td><td>&quot;6-1 6-2&quot;</td><td>3</td><td>&quot;R16&quot;</td><td>null</td><td>null</td><td>null</td><td>null</td><td>null</td><td>null</td><td>null</td><td>null</td><td>null</td><td>null</td><td>null</td><td>null</td><td>null</td><td>null</td><td>null</td><td>null</td><td>null</td><td>null</td><td>null</td><td>null</td><td>null</td><td>null</td><td>null</td><td>&quot;Guadalajara Olympics Demo_1968&quot;</td></tr><tr><td>&quot;1968-W-OL-MEX-01A-1968&quot;</td><td>&quot;Guadalajara Olympics Demo&quot;</td><td>&quot;Clay&quot;</td><td>&quot;13&quot;</td><td>&quot;O&quot;</td><td>1968-10-14</td><td>3</td><td>&quot;200869&quot;</td><td>null</td><td>null</td><td>&quot;Maria Eugenia Guzman&quot;</td><td>&quot;U&quot;</td><td>null</td><td>&quot;ECU&quot;</td><td>23.0</td><td>&quot;200863&quot;</td><td>null</td><td>null</td><td>&quot;Zaiga Yansone&quot;</td><td>&quot;U&quot;</td><td>null</td><td>&quot;URS&quot;</td><td>17.7</td><td>&quot;6-2 6-2&quot;</td><td>3</td><td>&quot;R16&quot;</td><td>null</td><td>null</td><td>null</td><td>null</td><td>null</td><td>null</td><td>null</td><td>null</td><td>null</td><td>null</td><td>null</td><td>null</td><td>null</td><td>null</td><td>null</td><td>null</td><td>null</td><td>null</td><td>null</td><td>null</td><td>null</td><td>null</td><td>null</td><td>&quot;Guadalajara Olympics Demo_1968&quot;</td></tr><tr><td>&quot;1968-W-OL-MEX-01A-1968&quot;</td><td>&quot;Guadalajara Olympics Demo&quot;</td><td>&quot;Clay&quot;</td><td>&quot;13&quot;</td><td>&quot;O&quot;</td><td>1968-10-14</td><td>4</td><td>&quot;200274&quot;</td><td>null</td><td>null</td><td>&quot;Julie Heldman&quot;</td><td>&quot;R&quot;</td><td>170</td><td>&quot;USA&quot;</td><td>22.8</td><td>&quot;200834&quot;</td><td>null</td><td>null</td><td>&quot;Suzana Gesteira&quot;</td><td>&quot;U&quot;</td><td>null</td><td>&quot;BRA&quot;</td><td>21.0</td><td>&quot;6-1 6-2&quot;</td><td>3</td><td>&quot;R16&quot;</td><td>null</td><td>null</td><td>null</td><td>null</td><td>null</td><td>null</td><td>null</td><td>null</td><td>null</td><td>null</td><td>null</td><td>null</td><td>null</td><td>null</td><td>null</td><td>null</td><td>null</td><td>null</td><td>null</td><td>null</td><td>null</td><td>null</td><td>null</td><td>&quot;Guadalajara Olympics Demo_1968&quot;</td></tr><tr><td>&quot;1968-W-OL-MEX-01A-1968&quot;</td><td>&quot;Guadalajara Olympics Demo&quot;</td><td>&quot;Clay&quot;</td><td>&quot;13&quot;</td><td>&quot;O&quot;</td><td>1968-10-14</td><td>5</td><td>&quot;200791&quot;</td><td>null</td><td>null</td><td>&quot;Rosie Reyes&quot;</td><td>&quot;R&quot;</td><td>null</td><td>&quot;FRA&quot;</td><td>29.5</td><td>&quot;202513&quot;</td><td>null</td><td>null</td><td>&quot;Ana Maria Ycaza&quot;</td><td>&quot;U&quot;</td><td>null</td><td>&quot;ECU&quot;</td><td>17.4</td><td>&quot;6-1 6-1&quot;</td><td>3</td><td>&quot;R16&quot;</td><td>null</td><td>null</td><td>null</td><td>null</td><td>null</td><td>null</td><td>null</td><td>null</td><td>null</td><td>null</td><td>null</td><td>null</td><td>null</td><td>null</td><td>null</td><td>null</td><td>null</td><td>null</td><td>null</td><td>null</td><td>null</td><td>null</td><td>null</td><td>&quot;Guadalajara Olympics Demo_1968&quot;</td></tr><tr><td>&hellip;</td><td>&hellip;</td><td>&hellip;</td><td>&hellip;</td><td>&hellip;</td><td>&hellip;</td><td>&hellip;</td><td>&hellip;</td><td>&hellip;</td><td>&hellip;</td><td>&hellip;</td><td>&hellip;</td><td>&hellip;</td><td>&hellip;</td><td>&hellip;</td><td>&hellip;</td><td>&hellip;</td><td>&hellip;</td><td>&hellip;</td><td>&hellip;</td><td>&hellip;</td><td>&hellip;</td><td>&hellip;</td><td>&hellip;</td><td>&hellip;</td><td>&hellip;</td><td>&hellip;</td><td>&hellip;</td><td>&hellip;</td><td>&hellip;</td><td>&hellip;</td><td>&hellip;</td><td>&hellip;</td><td>&hellip;</td><td>&hellip;</td><td>&hellip;</td><td>&hellip;</td><td>&hellip;</td><td>&hellip;</td><td>&hellip;</td><td>&hellip;</td><td>&hellip;</td><td>&hellip;</td><td>&hellip;</td><td>&hellip;</td><td>&hellip;</td><td>&hellip;</td><td>&hellip;</td><td>&hellip;</td><td>&hellip;</td></tr><tr><td>&quot;2024-W-FC-2024-QUA&quot;</td><td>&quot;BJK Cup Qualifiers&quot;</td><td>null</td><td>&quot;48&quot;</td><td>&quot;D&quot;</td><td>2024-04-12</td><td>123</td><td>&quot;223194&quot;</td><td>null</td><td>null</td><td>&quot;Taylah Preston&quot;</td><td>&quot;R&quot;</td><td>null</td><td>&quot;AUS&quot;</td><td>18.4</td><td>&quot;204420&quot;</td><td>null</td><td>null</td><td>&quot;Marcela Zacarias&quot;</td><td>&quot;R&quot;</td><td>null</td><td>&quot;MEX&quot;</td><td>30.0</td><td>&quot;6-1 6-1&quot;</td><td>3</td><td>&quot;RR&quot;</td><td>null</td><td>&quot;3&quot;</td><td>&quot;0&quot;</td><td>&quot;49&quot;</td><td>&quot;37&quot;</td><td>&quot;26&quot;</td><td>&quot;5&quot;</td><td>&quot;7&quot;</td><td>&quot;3&quot;</td><td>&quot;4&quot;</td><td>&quot;0&quot;</td><td>&quot;4&quot;</td><td>&quot;44&quot;</td><td>&quot;33&quot;</td><td>&quot;13&quot;</td><td>&quot;3&quot;</td><td>&quot;7&quot;</td><td>&quot;4&quot;</td><td>&quot;10&quot;</td><td>&quot;136&quot;</td><td>&quot;545&quot;</td><td>&quot;562&quot;</td><td>&quot;83&quot;</td><td>&quot;BJK Cup Qualifiers_2024&quot;</td></tr><tr><td>&quot;2024-W-FC-2024-QUA&quot;</td><td>&quot;BJK Cup Qualifiers&quot;</td><td>null</td><td>&quot;48&quot;</td><td>&quot;D&quot;</td><td>2024-04-12</td><td>124</td><td>&quot;211702&quot;</td><td>null</td><td>null</td><td>&quot;Nao Hibino&quot;</td><td>&quot;R&quot;</td><td>163</td><td>&quot;JPN&quot;</td><td>29.3</td><td>&quot;201709&quot;</td><td>null</td><td>null</td><td>&quot;Yulia Putintseva&quot;</td><td>&quot;R&quot;</td><td>163</td><td>&quot;KAZ&quot;</td><td>29.2</td><td>&quot;6-4 3-6 7-6(7)&quot;</td><td>3</td><td>&quot;RR&quot;</td><td>null</td><td>&quot;2&quot;</td><td>&quot;4&quot;</td><td>&quot;104&quot;</td><td>&quot;77&quot;</td><td>&quot;48&quot;</td><td>&quot;12&quot;</td><td>&quot;15&quot;</td><td>&quot;2&quot;</td><td>&quot;7&quot;</td><td>&quot;1&quot;</td><td>&quot;2&quot;</td><td>&quot;99&quot;</td><td>&quot;70&quot;</td><td>&quot;43&quot;</td><td>&quot;13&quot;</td><td>&quot;16&quot;</td><td>&quot;2&quot;</td><td>&quot;7&quot;</td><td>&quot;79&quot;</td><td>&quot;883&quot;</td><td>&quot;50&quot;</td><td>&quot;1213&quot;</td><td>&quot;BJK Cup Qualifiers_2024&quot;</td></tr><tr><td>&quot;2024-W-FC-2024-QUA&quot;</td><td>&quot;BJK Cup Qualifiers&quot;</td><td>null</td><td>&quot;48&quot;</td><td>&quot;D&quot;</td><td>2024-04-12</td><td>125</td><td>&quot;260761&quot;</td><td>null</td><td>null</td><td>&quot;Renata Jamrichova&quot;</td><td>&quot;U&quot;</td><td>null</td><td>&quot;SVK&quot;</td><td>16.8</td><td>&quot;220662&quot;</td><td>null</td><td>null</td><td>&quot;Veronika Erjavec&quot;</td><td>&quot;R&quot;</td><td>null</td><td>&quot;SLO&quot;</td><td>24.2</td><td>&quot;6-2 6-0&quot;</td><td>3</td><td>&quot;RR&quot;</td><td>null</td><td>&quot;2&quot;</td><td>&quot;3&quot;</td><td>&quot;39&quot;</td><td>&quot;22&quot;</td><td>&quot;13&quot;</td><td>&quot;13&quot;</td><td>&quot;7&quot;</td><td>&quot;0&quot;</td><td>&quot;1&quot;</td><td>&quot;0&quot;</td><td>&quot;3&quot;</td><td>&quot;48&quot;</td><td>&quot;28&quot;</td><td>&quot;9&quot;</td><td>&quot;9&quot;</td><td>&quot;7&quot;</td><td>&quot;10&quot;</td><td>&quot;16&quot;</td><td>&quot;684&quot;</td><td>&quot;56&quot;</td><td>&quot;203&quot;</td><td>&quot;377&quot;</td><td>&quot;BJK Cup Qualifiers_2024&quot;</td></tr><tr><td>&quot;2024-W-FC-2024-QUA&quot;</td><td>&quot;BJK Cup Qualifiers&quot;</td><td>null</td><td>&quot;48&quot;</td><td>&quot;D&quot;</td><td>2024-04-12</td><td>126</td><td>&quot;206242&quot;</td><td>null</td><td>null</td><td>&quot;Beatriz Haddad Maia&quot;</td><td>&quot;L&quot;</td><td>185</td><td>&quot;BRA&quot;</td><td>27.8</td><td>&quot;204431&quot;</td><td>null</td><td>null</td><td>&quot;Anna Lena Friedsam&quot;</td><td>&quot;R&quot;</td><td>null</td><td>&quot;GER&quot;</td><td>30.1</td><td>&quot;5-7 6-0 6-1&quot;</td><td>3</td><td>&quot;RR&quot;</td><td>null</td><td>&quot;2&quot;</td><td>&quot;3&quot;</td><td>&quot;69&quot;</td><td>&quot;44&quot;</td><td>&quot;31&quot;</td><td>&quot;13&quot;</td><td>&quot;12&quot;</td><td>&quot;4&quot;</td><td>&quot;7&quot;</td><td>&quot;1&quot;</td><td>&quot;10&quot;</td><td>&quot;113&quot;</td><td>&quot;73&quot;</td><td>&quot;41&quot;</td><td>&quot;13&quot;</td><td>&quot;13&quot;</td><td>&quot;11&quot;</td><td>&quot;19&quot;</td><td>&quot;13&quot;</td><td>&quot;2920&quot;</td><td>&quot;189&quot;</td><td>&quot;393&quot;</td><td>&quot;BJK Cup Qualifiers_2024&quot;</td></tr><tr><td>&quot;2024-W-FC-2024-QUA&quot;</td><td>&quot;BJK Cup Qualifiers&quot;</td><td>null</td><td>&quot;48&quot;</td><td>&quot;D&quot;</td><td>2024-04-12</td><td>127</td><td>&quot;202468&quot;</td><td>null</td><td>null</td><td>&quot;Jessica Pegula&quot;</td><td>&quot;R&quot;</td><td>170</td><td>&quot;USA&quot;</td><td>30.1</td><td>&quot;243420&quot;</td><td>null</td><td>null</td><td>&quot;Hanne Vandewinkel&quot;</td><td>&quot;U&quot;</td><td>null</td><td>&quot;BEL&quot;</td><td>19.8</td><td>&quot;6-2 6-0&quot;</td><td>3</td><td>&quot;RR&quot;</td><td>null</td><td>&quot;1&quot;</td><td>&quot;0&quot;</td><td>&quot;33&quot;</td><td>&quot;20&quot;</td><td>&quot;19&quot;</td><td>&quot;10&quot;</td><td>&quot;7&quot;</td><td>&quot;1&quot;</td><td>&quot;1&quot;</td><td>&quot;3&quot;</td><td>&quot;3&quot;</td><td>&quot;46&quot;</td><td>&quot;29&quot;</td><td>&quot;15&quot;</td><td>&quot;5&quot;</td><td>&quot;7&quot;</td><td>&quot;3&quot;</td><td>&quot;8&quot;</td><td>&quot;5&quot;</td><td>&quot;4870&quot;</td><td>&quot;278&quot;</td><td>&quot;266&quot;</td><td>&quot;BJK Cup Qualifiers_2024&quot;</td></tr></tbody></table></div>"
      ],
      "text/plain": [
       "shape: (156_578, 50)\n",
       "┌────────────┬───────────┬─────────┬───────────┬───┬───────────┬───────────┬───────────┬───────────┐\n",
       "│ tourney_id ┆ tourney_n ┆ surface ┆ draw_size ┆ … ┆ winner_ra ┆ loser_ran ┆ loser_ran ┆ tourney_n │\n",
       "│ ---        ┆ ame       ┆ ---     ┆ ---       ┆   ┆ nk_points ┆ k         ┆ k_points  ┆ ame_date  │\n",
       "│ str        ┆ ---       ┆ str     ┆ str       ┆   ┆ ---       ┆ ---       ┆ ---       ┆ ---       │\n",
       "│            ┆ str       ┆         ┆           ┆   ┆ str       ┆ str       ┆ str       ┆ str       │\n",
       "╞════════════╪═══════════╪═════════╪═══════════╪═══╪═══════════╪═══════════╪═══════════╪═══════════╡\n",
       "│ 1968-W-OL- ┆ Guadalaja ┆ Clay    ┆ 13        ┆ … ┆ null      ┆ null      ┆ null      ┆ Guadalaja │\n",
       "│ MEX-01A-19 ┆ ra        ┆         ┆           ┆   ┆           ┆           ┆           ┆ ra        │\n",
       "│ 68         ┆ Olympics  ┆         ┆           ┆   ┆           ┆           ┆           ┆ Olympics  │\n",
       "│            ┆ Demo      ┆         ┆           ┆   ┆           ┆           ┆           ┆ Demo_1968 │\n",
       "│ 1968-W-OL- ┆ Guadalaja ┆ Clay    ┆ 13        ┆ … ┆ null      ┆ null      ┆ null      ┆ Guadalaja │\n",
       "│ MEX-01A-19 ┆ ra        ┆         ┆           ┆   ┆           ┆           ┆           ┆ ra        │\n",
       "│ 68         ┆ Olympics  ┆         ┆           ┆   ┆           ┆           ┆           ┆ Olympics  │\n",
       "│            ┆ Demo      ┆         ┆           ┆   ┆           ┆           ┆           ┆ Demo_1968 │\n",
       "│ 1968-W-OL- ┆ Guadalaja ┆ Clay    ┆ 13        ┆ … ┆ null      ┆ null      ┆ null      ┆ Guadalaja │\n",
       "│ MEX-01A-19 ┆ ra        ┆         ┆           ┆   ┆           ┆           ┆           ┆ ra        │\n",
       "│ 68         ┆ Olympics  ┆         ┆           ┆   ┆           ┆           ┆           ┆ Olympics  │\n",
       "│            ┆ Demo      ┆         ┆           ┆   ┆           ┆           ┆           ┆ Demo_1968 │\n",
       "│ 1968-W-OL- ┆ Guadalaja ┆ Clay    ┆ 13        ┆ … ┆ null      ┆ null      ┆ null      ┆ Guadalaja │\n",
       "│ MEX-01A-19 ┆ ra        ┆         ┆           ┆   ┆           ┆           ┆           ┆ ra        │\n",
       "│ 68         ┆ Olympics  ┆         ┆           ┆   ┆           ┆           ┆           ┆ Olympics  │\n",
       "│            ┆ Demo      ┆         ┆           ┆   ┆           ┆           ┆           ┆ Demo_1968 │\n",
       "│ 1968-W-OL- ┆ Guadalaja ┆ Clay    ┆ 13        ┆ … ┆ null      ┆ null      ┆ null      ┆ Guadalaja │\n",
       "│ MEX-01A-19 ┆ ra        ┆         ┆           ┆   ┆           ┆           ┆           ┆ ra        │\n",
       "│ 68         ┆ Olympics  ┆         ┆           ┆   ┆           ┆           ┆           ┆ Olympics  │\n",
       "│            ┆ Demo      ┆         ┆           ┆   ┆           ┆           ┆           ┆ Demo_1968 │\n",
       "│ …          ┆ …         ┆ …       ┆ …         ┆ … ┆ …         ┆ …         ┆ …         ┆ …         │\n",
       "│ 2024-W-FC- ┆ BJK Cup   ┆ null    ┆ 48        ┆ … ┆ 545       ┆ 562       ┆ 83        ┆ BJK Cup   │\n",
       "│ 2024-QUA   ┆ Qualifier ┆         ┆           ┆   ┆           ┆           ┆           ┆ Qualifier │\n",
       "│            ┆ s         ┆         ┆           ┆   ┆           ┆           ┆           ┆ s_2024    │\n",
       "│ 2024-W-FC- ┆ BJK Cup   ┆ null    ┆ 48        ┆ … ┆ 883       ┆ 50        ┆ 1213      ┆ BJK Cup   │\n",
       "│ 2024-QUA   ┆ Qualifier ┆         ┆           ┆   ┆           ┆           ┆           ┆ Qualifier │\n",
       "│            ┆ s         ┆         ┆           ┆   ┆           ┆           ┆           ┆ s_2024    │\n",
       "│ 2024-W-FC- ┆ BJK Cup   ┆ null    ┆ 48        ┆ … ┆ 56        ┆ 203       ┆ 377       ┆ BJK Cup   │\n",
       "│ 2024-QUA   ┆ Qualifier ┆         ┆           ┆   ┆           ┆           ┆           ┆ Qualifier │\n",
       "│            ┆ s         ┆         ┆           ┆   ┆           ┆           ┆           ┆ s_2024    │\n",
       "│ 2024-W-FC- ┆ BJK Cup   ┆ null    ┆ 48        ┆ … ┆ 2920      ┆ 189       ┆ 393       ┆ BJK Cup   │\n",
       "│ 2024-QUA   ┆ Qualifier ┆         ┆           ┆   ┆           ┆           ┆           ┆ Qualifier │\n",
       "│            ┆ s         ┆         ┆           ┆   ┆           ┆           ┆           ┆ s_2024    │\n",
       "│ 2024-W-FC- ┆ BJK Cup   ┆ null    ┆ 48        ┆ … ┆ 4870      ┆ 278       ┆ 266       ┆ BJK Cup   │\n",
       "│ 2024-QUA   ┆ Qualifier ┆         ┆           ┆   ┆           ┆           ┆           ┆ Qualifier │\n",
       "│            ┆ s         ┆         ┆           ┆   ┆           ┆           ┆           ┆ s_2024    │\n",
       "└────────────┴───────────┴─────────┴───────────┴───┴───────────┴───────────┴───────────┴───────────┘"
      ]
     },
     "execution_count": 10,
     "metadata": {},
     "output_type": "execute_result"
    }
   ],
   "source": [
    "matches_singles_wta=import_tennis_matches(data_type=\"singles\",gender=\"wta\")\n",
    "\n",
    "matches_singles_wta = matches_singles_wta.with_columns(\n",
    "    (pl.col(\"tourney_name\") + \"_\" + pl.col(\"tourney_date\").dt.year().cast(pl.Utf8)).alias(\"tourney_name_date\")\n",
    ")\n",
    "matches_singles_wta"
   ]
  },
  {
   "cell_type": "code",
   "execution_count": 11,
   "metadata": {},
   "outputs": [
    {
     "data": {
      "text/html": [
       "<div><style>\n",
       ".dataframe > thead > tr,\n",
       ".dataframe > tbody > tr {\n",
       "  text-align: right;\n",
       "  white-space: pre-wrap;\n",
       "}\n",
       "</style>\n",
       "<small>shape: (10_202, 6)</small><table border=\"1\" class=\"dataframe\"><thead><tr><th>tourney_name</th><th>surface</th><th>draw_size</th><th>tourney_level</th><th>tourney_date</th><th>tourney_name_date</th></tr><tr><td>str</td><td>str</td><td>str</td><td>str</td><td>date</td><td>str</td></tr></thead><tbody><tr><td>&quot;Fed Cup G1 RRB: BUL vs YUG&quot;</td><td>&quot;Clay&quot;</td><td>&quot;4&quot;</td><td>&quot;D&quot;</td><td>2003-04-23</td><td>&quot;Fed Cup G1 RRB: BUL vs YUG_200…</td></tr><tr><td>&quot;Fed Cup G1 RRC: LUX vs UKR&quot;</td><td>&quot;Hard&quot;</td><td>&quot;4&quot;</td><td>&quot;D&quot;</td><td>1993-05-11</td><td>&quot;Fed Cup G1 RRC: LUX vs UKR_199…</td></tr><tr><td>&quot;Birmingham&quot;</td><td>&quot;Grass&quot;</td><td>&quot;56&quot;</td><td>&quot;W&quot;</td><td>1991-06-10</td><td>&quot;Birmingham_1991&quot;</td></tr><tr><td>&quot;Fed Cup WG PO: FIN vs JAM&quot;</td><td>&quot;Hard&quot;</td><td>&quot;4&quot;</td><td>&quot;D&quot;</td><td>1990-07-21</td><td>&quot;Fed Cup WG PO: FIN vs JAM_1990&quot;</td></tr><tr><td>&quot;Fed Cup G2 RRB: CUB vs CRC&quot;</td><td>&quot;Clay&quot;</td><td>&quot;4&quot;</td><td>&quot;D&quot;</td><td>1996-05-07</td><td>&quot;Fed Cup G2 RRB: CUB vs CRC_199…</td></tr><tr><td>&hellip;</td><td>&hellip;</td><td>&hellip;</td><td>&hellip;</td><td>&hellip;</td><td>&hellip;</td></tr><tr><td>&quot;Zurich&quot;</td><td>&quot;Hard&quot;</td><td>&quot;28&quot;</td><td>&quot;W&quot;</td><td>1999-10-11</td><td>&quot;Zurich_1999&quot;</td></tr><tr><td>&quot;Brighton&quot;</td><td>&quot;Carpet&quot;</td><td>&quot;28&quot;</td><td>&quot;W&quot;</td><td>1995-10-17</td><td>&quot;Brighton_1995&quot;</td></tr><tr><td>&quot;Fed Cup G2 RRD: MKD vs MLT&quot;</td><td>&quot;Clay&quot;</td><td>&quot;4&quot;</td><td>&quot;D&quot;</td><td>1999-04-29</td><td>&quot;Fed Cup G2 RRD: MKD vs MLT_199…</td></tr><tr><td>&quot;Fed Cup G1 RRA: PER vs CRC&quot;</td><td>&quot;Clay&quot;</td><td>&quot;4&quot;</td><td>&quot;D&quot;</td><td>1994-04-12</td><td>&quot;Fed Cup G1 RRA: PER vs CRC_199…</td></tr><tr><td>&quot;Phoenix&quot;</td><td>&quot;Hard&quot;</td><td>&quot;32&quot;</td><td>&quot;W&quot;</td><td>1979-10-10</td><td>&quot;Phoenix_1979&quot;</td></tr></tbody></table></div>"
      ],
      "text/plain": [
       "shape: (10_202, 6)\n",
       "┌──────────────────────┬─────────┬───────────┬───────────────┬──────────────┬──────────────────────┐\n",
       "│ tourney_name         ┆ surface ┆ draw_size ┆ tourney_level ┆ tourney_date ┆ tourney_name_date    │\n",
       "│ ---                  ┆ ---     ┆ ---       ┆ ---           ┆ ---          ┆ ---                  │\n",
       "│ str                  ┆ str     ┆ str       ┆ str           ┆ date         ┆ str                  │\n",
       "╞══════════════════════╪═════════╪═══════════╪═══════════════╪══════════════╪══════════════════════╡\n",
       "│ Fed Cup G1 RRB: BUL  ┆ Clay    ┆ 4         ┆ D             ┆ 2003-04-23   ┆ Fed Cup G1 RRB: BUL  │\n",
       "│ vs YUG               ┆         ┆           ┆               ┆              ┆ vs YUG_200…          │\n",
       "│ Fed Cup G1 RRC: LUX  ┆ Hard    ┆ 4         ┆ D             ┆ 1993-05-11   ┆ Fed Cup G1 RRC: LUX  │\n",
       "│ vs UKR               ┆         ┆           ┆               ┆              ┆ vs UKR_199…          │\n",
       "│ Birmingham           ┆ Grass   ┆ 56        ┆ W             ┆ 1991-06-10   ┆ Birmingham_1991      │\n",
       "│ Fed Cup WG PO: FIN   ┆ Hard    ┆ 4         ┆ D             ┆ 1990-07-21   ┆ Fed Cup WG PO: FIN   │\n",
       "│ vs JAM               ┆         ┆           ┆               ┆              ┆ vs JAM_1990          │\n",
       "│ Fed Cup G2 RRB: CUB  ┆ Clay    ┆ 4         ┆ D             ┆ 1996-05-07   ┆ Fed Cup G2 RRB: CUB  │\n",
       "│ vs CRC               ┆         ┆           ┆               ┆              ┆ vs CRC_199…          │\n",
       "│ …                    ┆ …       ┆ …         ┆ …             ┆ …            ┆ …                    │\n",
       "│ Zurich               ┆ Hard    ┆ 28        ┆ W             ┆ 1999-10-11   ┆ Zurich_1999          │\n",
       "│ Brighton             ┆ Carpet  ┆ 28        ┆ W             ┆ 1995-10-17   ┆ Brighton_1995        │\n",
       "│ Fed Cup G2 RRD: MKD  ┆ Clay    ┆ 4         ┆ D             ┆ 1999-04-29   ┆ Fed Cup G2 RRD: MKD  │\n",
       "│ vs MLT               ┆         ┆           ┆               ┆              ┆ vs MLT_199…          │\n",
       "│ Fed Cup G1 RRA: PER  ┆ Clay    ┆ 4         ┆ D             ┆ 1994-04-12   ┆ Fed Cup G1 RRA: PER  │\n",
       "│ vs CRC               ┆         ┆           ┆               ┆              ┆ vs CRC_199…          │\n",
       "│ Phoenix              ┆ Hard    ┆ 32        ┆ W             ┆ 1979-10-10   ┆ Phoenix_1979         │\n",
       "└──────────────────────┴─────────┴───────────┴───────────────┴──────────────┴──────────────────────┘"
      ]
     },
     "execution_count": 11,
     "metadata": {},
     "output_type": "execute_result"
    }
   ],
   "source": [
    "tourney_single_matches_wta=matches_singles_wta[['tourney_name', 'surface', 'draw_size', 'tourney_level', 'tourney_date', 'tourney_name_date']]\n",
    "tourney_single_matches_wta=tourney_single_matches_wta.unique('tourney_name_date')\n",
    "tourney_single_matches_wta"
   ]
  },
  {
   "cell_type": "code",
   "execution_count": 12,
   "metadata": {},
   "outputs": [
    {
     "data": {
      "text/html": [
       "<div><style>\n",
       ".dataframe > thead > tr,\n",
       ".dataframe > tbody > tr {\n",
       "  text-align: right;\n",
       "  white-space: pre-wrap;\n",
       "}\n",
       "</style>\n",
       "<small>shape: (216_430, 50)</small><table border=\"1\" class=\"dataframe\"><thead><tr><th>tourney_id</th><th>tourney_name</th><th>surface</th><th>draw_size</th><th>tourney_level</th><th>tourney_date</th><th>match_num</th><th>winner_id</th><th>winner_seed</th><th>winner_entry</th><th>winner_name</th><th>winner_hand</th><th>winner_ht</th><th>winner_ioc</th><th>winner_age</th><th>loser_id</th><th>loser_seed</th><th>loser_entry</th><th>loser_name</th><th>loser_hand</th><th>loser_ht</th><th>loser_ioc</th><th>loser_age</th><th>score</th><th>best_of</th><th>round</th><th>minutes</th><th>w_ace</th><th>w_df</th><th>w_svpt</th><th>w_1stIn</th><th>w_1stWon</th><th>w_2ndWon</th><th>w_SvGms</th><th>w_bpSaved</th><th>w_bpFaced</th><th>l_ace</th><th>l_df</th><th>l_svpt</th><th>l_1stIn</th><th>l_1stWon</th><th>l_2ndWon</th><th>l_SvGms</th><th>l_bpSaved</th><th>l_bpFaced</th><th>winner_rank</th><th>winner_rank_points</th><th>loser_rank</th><th>loser_rank_points</th><th>tourney_name_date</th></tr><tr><td>str</td><td>str</td><td>str</td><td>i64</td><td>str</td><td>date</td><td>i64</td><td>str</td><td>str</td><td>str</td><td>str</td><td>str</td><td>i64</td><td>str</td><td>f64</td><td>str</td><td>str</td><td>str</td><td>str</td><td>str</td><td>i64</td><td>str</td><td>f64</td><td>str</td><td>i64</td><td>str</td><td>str</td><td>str</td><td>str</td><td>str</td><td>str</td><td>str</td><td>str</td><td>str</td><td>str</td><td>str</td><td>str</td><td>str</td><td>str</td><td>str</td><td>str</td><td>str</td><td>str</td><td>str</td><td>str</td><td>str</td><td>str</td><td>str</td><td>str</td><td>str</td></tr></thead><tbody><tr><td>&quot;1978-301&quot;</td><td>&quot;Auckland CH&quot;</td><td>&quot;Hard&quot;</td><td>32</td><td>&quot;C&quot;</td><td>1978-01-08</td><td>270</td><td>&quot;100373&quot;</td><td>null</td><td>null</td><td>&quot;Christopher Sylvan&quot;</td><td>&quot;R&quot;</td><td>null</td><td>&quot;USA&quot;</td><td>22.8</td><td>&quot;107618&quot;</td><td>null</td><td>null</td><td>&quot;Malcolm Elley&quot;</td><td>&quot;R&quot;</td><td>null</td><td>&quot;NZL&quot;</td><td>null</td><td>&quot;6-1 6-4&quot;</td><td>3</td><td>&quot;R32&quot;</td><td>null</td><td>null</td><td>null</td><td>null</td><td>null</td><td>null</td><td>null</td><td>null</td><td>null</td><td>null</td><td>null</td><td>null</td><td>null</td><td>null</td><td>null</td><td>null</td><td>null</td><td>null</td><td>null</td><td>&quot;232&quot;</td><td>null</td><td>null</td><td>null</td><td>&quot;Auckland CH_1978&quot;</td></tr><tr><td>&quot;1978-301&quot;</td><td>&quot;Auckland CH&quot;</td><td>&quot;Hard&quot;</td><td>32</td><td>&quot;C&quot;</td><td>1978-01-08</td><td>271</td><td>&quot;109807&quot;</td><td>null</td><td>null</td><td>&quot;Garry Slater&quot;</td><td>&quot;R&quot;</td><td>null</td><td>&quot;NZL&quot;</td><td>null</td><td>&quot;109808&quot;</td><td>null</td><td>null</td><td>&quot;Graham Oliver&quot;</td><td>&quot;U&quot;</td><td>null</td><td>&quot;NZL&quot;</td><td>null</td><td>&quot;6-4 6-4&quot;</td><td>3</td><td>&quot;R32&quot;</td><td>null</td><td>null</td><td>null</td><td>null</td><td>null</td><td>null</td><td>null</td><td>null</td><td>null</td><td>null</td><td>null</td><td>null</td><td>null</td><td>null</td><td>null</td><td>null</td><td>null</td><td>null</td><td>null</td><td>null</td><td>null</td><td>null</td><td>null</td><td>&quot;Auckland CH_1978&quot;</td></tr><tr><td>&quot;1978-301&quot;</td><td>&quot;Auckland CH&quot;</td><td>&quot;Hard&quot;</td><td>32</td><td>&quot;C&quot;</td><td>1978-01-08</td><td>272</td><td>&quot;109810&quot;</td><td>null</td><td>null</td><td>&quot;Dave Simmonds&quot;</td><td>&quot;U&quot;</td><td>null</td><td>&quot;NZL&quot;</td><td>null</td><td>&quot;208999&quot;</td><td>null</td><td>null</td><td>&quot;G Dingwell&quot;</td><td>&quot;U&quot;</td><td>null</td><td>&quot;UNK&quot;</td><td>null</td><td>&quot;6-2 6-3&quot;</td><td>3</td><td>&quot;R32&quot;</td><td>null</td><td>null</td><td>null</td><td>null</td><td>null</td><td>null</td><td>null</td><td>null</td><td>null</td><td>null</td><td>null</td><td>null</td><td>null</td><td>null</td><td>null</td><td>null</td><td>null</td><td>null</td><td>null</td><td>null</td><td>null</td><td>null</td><td>null</td><td>&quot;Auckland CH_1978&quot;</td></tr><tr><td>&quot;1978-301&quot;</td><td>&quot;Auckland CH&quot;</td><td>&quot;Hard&quot;</td><td>32</td><td>&quot;C&quot;</td><td>1978-01-08</td><td>273</td><td>&quot;100638&quot;</td><td>null</td><td>null</td><td>&quot;David Mustard&quot;</td><td>&quot;L&quot;</td><td>180</td><td>&quot;NZL&quot;</td><td>18.0</td><td>&quot;107985&quot;</td><td>null</td><td>null</td><td>&quot;Peter Langsford&quot;</td><td>&quot;R&quot;</td><td>null</td><td>&quot;AUS&quot;</td><td>23.6</td><td>&quot;7-5 7-5&quot;</td><td>3</td><td>&quot;R32&quot;</td><td>null</td><td>null</td><td>null</td><td>null</td><td>null</td><td>null</td><td>null</td><td>null</td><td>null</td><td>null</td><td>null</td><td>null</td><td>null</td><td>null</td><td>null</td><td>null</td><td>null</td><td>null</td><td>null</td><td>null</td><td>null</td><td>&quot;332&quot;</td><td>null</td><td>&quot;Auckland CH_1978&quot;</td></tr><tr><td>&quot;1978-301&quot;</td><td>&quot;Auckland CH&quot;</td><td>&quot;Hard&quot;</td><td>32</td><td>&quot;C&quot;</td><td>1978-01-08</td><td>274</td><td>&quot;107301&quot;</td><td>null</td><td>null</td><td>&quot;Jay Harvey&quot;</td><td>&quot;R&quot;</td><td>null</td><td>&quot;AUS&quot;</td><td>null</td><td>&quot;100316&quot;</td><td>null</td><td>null</td><td>&quot;Scott Carnahan&quot;</td><td>&quot;R&quot;</td><td>null</td><td>&quot;USA&quot;</td><td>24.2</td><td>&quot;6-4 6-4&quot;</td><td>3</td><td>&quot;R32&quot;</td><td>null</td><td>null</td><td>null</td><td>null</td><td>null</td><td>null</td><td>null</td><td>null</td><td>null</td><td>null</td><td>null</td><td>null</td><td>null</td><td>null</td><td>null</td><td>null</td><td>null</td><td>null</td><td>null</td><td>null</td><td>null</td><td>&quot;232&quot;</td><td>null</td><td>&quot;Auckland CH_1978&quot;</td></tr><tr><td>&hellip;</td><td>&hellip;</td><td>&hellip;</td><td>&hellip;</td><td>&hellip;</td><td>&hellip;</td><td>&hellip;</td><td>&hellip;</td><td>&hellip;</td><td>&hellip;</td><td>&hellip;</td><td>&hellip;</td><td>&hellip;</td><td>&hellip;</td><td>&hellip;</td><td>&hellip;</td><td>&hellip;</td><td>&hellip;</td><td>&hellip;</td><td>&hellip;</td><td>&hellip;</td><td>&hellip;</td><td>&hellip;</td><td>&hellip;</td><td>&hellip;</td><td>&hellip;</td><td>&hellip;</td><td>&hellip;</td><td>&hellip;</td><td>&hellip;</td><td>&hellip;</td><td>&hellip;</td><td>&hellip;</td><td>&hellip;</td><td>&hellip;</td><td>&hellip;</td><td>&hellip;</td><td>&hellip;</td><td>&hellip;</td><td>&hellip;</td><td>&hellip;</td><td>&hellip;</td><td>&hellip;</td><td>&hellip;</td><td>&hellip;</td><td>&hellip;</td><td>&hellip;</td><td>&hellip;</td><td>&hellip;</td><td>&hellip;</td></tr><tr><td>&quot;2024-2869&quot;</td><td>&quot;Skopje CH&quot;</td><td>&quot;Clay&quot;</td><td>32</td><td>&quot;C&quot;</td><td>2024-05-20</td><td>241</td><td>&quot;210053&quot;</td><td>&quot;8&quot;</td><td>null</td><td>&quot;Luka Mikrut&quot;</td><td>&quot;U&quot;</td><td>null</td><td>&quot;CRO&quot;</td><td>20.0</td><td>&quot;103872&quot;</td><td>null</td><td>&quot;WC&quot;</td><td>&quot;Dimitar Grabuloski&quot;</td><td>&quot;U&quot;</td><td>null</td><td>&quot;MKD&quot;</td><td>42.5</td><td>&quot;6-3 6-4&quot;</td><td>3</td><td>&quot;Q1&quot;</td><td>&quot;87&quot;</td><td>&quot;4&quot;</td><td>&quot;6&quot;</td><td>&quot;64&quot;</td><td>&quot;31&quot;</td><td>&quot;24&quot;</td><td>&quot;18&quot;</td><td>&quot;10&quot;</td><td>&quot;2&quot;</td><td>&quot;3&quot;</td><td>&quot;2&quot;</td><td>&quot;5&quot;</td><td>&quot;78&quot;</td><td>&quot;43&quot;</td><td>&quot;30&quot;</td><td>&quot;13&quot;</td><td>&quot;9&quot;</td><td>&quot;6&quot;</td><td>&quot;9&quot;</td><td>&quot;511&quot;</td><td>&quot;76&quot;</td><td>null</td><td>null</td><td>&quot;Skopje CH_2024&quot;</td></tr><tr><td>&quot;2024-2869&quot;</td><td>&quot;Skopje CH&quot;</td><td>&quot;Clay&quot;</td><td>32</td><td>&quot;C&quot;</td><td>2024-05-20</td><td>240</td><td>&quot;208843&quot;</td><td>&quot;5&quot;</td><td>null</td><td>&quot;Jerome Kym&quot;</td><td>&quot;R&quot;</td><td>198</td><td>&quot;SUI&quot;</td><td>21.2</td><td>&quot;210078&quot;</td><td>null</td><td>&quot;WC&quot;</td><td>&quot;Berk Bugarikj &quot;</td><td>&quot;U&quot;</td><td>null</td><td>&quot;MKD&quot;</td><td>20.8</td><td>&quot;7-5 6-0&quot;</td><td>3</td><td>&quot;Q1&quot;</td><td>&quot;77&quot;</td><td>&quot;5&quot;</td><td>&quot;0&quot;</td><td>&quot;44&quot;</td><td>&quot;29&quot;</td><td>&quot;25&quot;</td><td>&quot;9&quot;</td><td>&quot;9&quot;</td><td>&quot;1&quot;</td><td>&quot;2&quot;</td><td>&quot;0&quot;</td><td>&quot;3&quot;</td><td>&quot;60&quot;</td><td>&quot;41&quot;</td><td>&quot;21&quot;</td><td>&quot;8&quot;</td><td>&quot;9&quot;</td><td>&quot;2&quot;</td><td>&quot;7&quot;</td><td>&quot;470&quot;</td><td>&quot;92&quot;</td><td>null</td><td>null</td><td>&quot;Skopje CH_2024&quot;</td></tr><tr><td>&quot;2024-2869&quot;</td><td>&quot;Skopje CH&quot;</td><td>&quot;Clay&quot;</td><td>32</td><td>&quot;C&quot;</td><td>2024-05-20</td><td>239</td><td>&quot;207484&quot;</td><td>&quot;12&quot;</td><td>null</td><td>&quot;Neil Oberleitner&quot;</td><td>&quot;R&quot;</td><td>null</td><td>&quot;AUT&quot;</td><td>24.7</td><td>&quot;200574&quot;</td><td>null</td><td>&quot;Alt&quot;</td><td>&quot;Alexander Donski&quot;</td><td>&quot;R&quot;</td><td>188</td><td>&quot;CAN&quot;</td><td>25.8</td><td>&quot;6-4 6-3&quot;</td><td>3</td><td>&quot;Q1&quot;</td><td>&quot;82&quot;</td><td>&quot;5&quot;</td><td>&quot;5&quot;</td><td>&quot;54&quot;</td><td>&quot;33&quot;</td><td>&quot;27&quot;</td><td>&quot;13&quot;</td><td>&quot;9&quot;</td><td>&quot;2&quot;</td><td>&quot;2&quot;</td><td>&quot;4&quot;</td><td>&quot;6&quot;</td><td>&quot;72&quot;</td><td>&quot;34&quot;</td><td>&quot;26&quot;</td><td>&quot;15&quot;</td><td>&quot;10&quot;</td><td>&quot;3&quot;</td><td>&quot;6&quot;</td><td>&quot;636&quot;</td><td>&quot;53&quot;</td><td>&quot;955&quot;</td><td>&quot;15&quot;</td><td>&quot;Skopje CH_2024&quot;</td></tr><tr><td>&quot;2024-2869&quot;</td><td>&quot;Skopje CH&quot;</td><td>&quot;Clay&quot;</td><td>32</td><td>&quot;C&quot;</td><td>2024-05-20</td><td>238</td><td>&quot;144970&quot;</td><td>&quot;6&quot;</td><td>null</td><td>&quot;Constantin Bittoun Kouzmine&quot;</td><td>&quot;L&quot;</td><td>null</td><td>&quot;FRA&quot;</td><td>25.3</td><td>&quot;212200&quot;</td><td>null</td><td>&quot;WC&quot;</td><td>&quot;Amar Huseinovic&quot;</td><td>&quot;U&quot;</td><td>null</td><td>&quot;MKD&quot;</td><td>null</td><td>&quot;6-0 6-1&quot;</td><td>3</td><td>&quot;Q1&quot;</td><td>&quot;59&quot;</td><td>&quot;0&quot;</td><td>&quot;1&quot;</td><td>&quot;43&quot;</td><td>&quot;32&quot;</td><td>&quot;26&quot;</td><td>&quot;5&quot;</td><td>&quot;7&quot;</td><td>&quot;4&quot;</td><td>&quot;4&quot;</td><td>&quot;2&quot;</td><td>&quot;0&quot;</td><td>&quot;36&quot;</td><td>&quot;22&quot;</td><td>&quot;9&quot;</td><td>&quot;4&quot;</td><td>&quot;6&quot;</td><td>&quot;0&quot;</td><td>&quot;5&quot;</td><td>&quot;487&quot;</td><td>&quot;87&quot;</td><td>null</td><td>null</td><td>&quot;Skopje CH_2024&quot;</td></tr><tr><td>&quot;2024-2869&quot;</td><td>&quot;Skopje CH&quot;</td><td>&quot;Clay&quot;</td><td>32</td><td>&quot;C&quot;</td><td>2024-05-20</td><td>237</td><td>&quot;202342&quot;</td><td>null</td><td>null</td><td>&quot;Ryan Seggerman&quot;</td><td>&quot;U&quot;</td><td>null</td><td>&quot;USA&quot;</td><td>24.7</td><td>&quot;106254&quot;</td><td>null</td><td>&quot;Alt&quot;</td><td>&quot;Calum Puttergill&quot;</td><td>&quot;U&quot;</td><td>null</td><td>&quot;AUS&quot;</td><td>30.5</td><td>&quot;7-5 6-0&quot;</td><td>3</td><td>&quot;Q1&quot;</td><td>&quot;56&quot;</td><td>&quot;10&quot;</td><td>&quot;1&quot;</td><td>&quot;44&quot;</td><td>&quot;28&quot;</td><td>&quot;22&quot;</td><td>&quot;12&quot;</td><td>&quot;9&quot;</td><td>&quot;0&quot;</td><td>&quot;1&quot;</td><td>&quot;0&quot;</td><td>&quot;9&quot;</td><td>&quot;52&quot;</td><td>&quot;28&quot;</td><td>&quot;19&quot;</td><td>&quot;7&quot;</td><td>&quot;9&quot;</td><td>&quot;3&quot;</td><td>&quot;8&quot;</td><td>&quot;555&quot;</td><td>&quot;67&quot;</td><td>&quot;880&quot;</td><td>&quot;20&quot;</td><td>&quot;Skopje CH_2024&quot;</td></tr></tbody></table></div>"
      ],
      "text/plain": [
       "shape: (216_430, 50)\n",
       "┌────────────┬───────────┬─────────┬───────────┬───┬───────────┬───────────┬───────────┬───────────┐\n",
       "│ tourney_id ┆ tourney_n ┆ surface ┆ draw_size ┆ … ┆ winner_ra ┆ loser_ran ┆ loser_ran ┆ tourney_n │\n",
       "│ ---        ┆ ame       ┆ ---     ┆ ---       ┆   ┆ nk_points ┆ k         ┆ k_points  ┆ ame_date  │\n",
       "│ str        ┆ ---       ┆ str     ┆ i64       ┆   ┆ ---       ┆ ---       ┆ ---       ┆ ---       │\n",
       "│            ┆ str       ┆         ┆           ┆   ┆ str       ┆ str       ┆ str       ┆ str       │\n",
       "╞════════════╪═══════════╪═════════╪═══════════╪═══╪═══════════╪═══════════╪═══════════╪═══════════╡\n",
       "│ 1978-301   ┆ Auckland  ┆ Hard    ┆ 32        ┆ … ┆ null      ┆ null      ┆ null      ┆ Auckland  │\n",
       "│            ┆ CH        ┆         ┆           ┆   ┆           ┆           ┆           ┆ CH_1978   │\n",
       "│ 1978-301   ┆ Auckland  ┆ Hard    ┆ 32        ┆ … ┆ null      ┆ null      ┆ null      ┆ Auckland  │\n",
       "│            ┆ CH        ┆         ┆           ┆   ┆           ┆           ┆           ┆ CH_1978   │\n",
       "│ 1978-301   ┆ Auckland  ┆ Hard    ┆ 32        ┆ … ┆ null      ┆ null      ┆ null      ┆ Auckland  │\n",
       "│            ┆ CH        ┆         ┆           ┆   ┆           ┆           ┆           ┆ CH_1978   │\n",
       "│ 1978-301   ┆ Auckland  ┆ Hard    ┆ 32        ┆ … ┆ null      ┆ 332       ┆ null      ┆ Auckland  │\n",
       "│            ┆ CH        ┆         ┆           ┆   ┆           ┆           ┆           ┆ CH_1978   │\n",
       "│ 1978-301   ┆ Auckland  ┆ Hard    ┆ 32        ┆ … ┆ null      ┆ 232       ┆ null      ┆ Auckland  │\n",
       "│            ┆ CH        ┆         ┆           ┆   ┆           ┆           ┆           ┆ CH_1978   │\n",
       "│ …          ┆ …         ┆ …       ┆ …         ┆ … ┆ …         ┆ …         ┆ …         ┆ …         │\n",
       "│ 2024-2869  ┆ Skopje CH ┆ Clay    ┆ 32        ┆ … ┆ 76        ┆ null      ┆ null      ┆ Skopje    │\n",
       "│            ┆           ┆         ┆           ┆   ┆           ┆           ┆           ┆ CH_2024   │\n",
       "│ 2024-2869  ┆ Skopje CH ┆ Clay    ┆ 32        ┆ … ┆ 92        ┆ null      ┆ null      ┆ Skopje    │\n",
       "│            ┆           ┆         ┆           ┆   ┆           ┆           ┆           ┆ CH_2024   │\n",
       "│ 2024-2869  ┆ Skopje CH ┆ Clay    ┆ 32        ┆ … ┆ 53        ┆ 955       ┆ 15        ┆ Skopje    │\n",
       "│            ┆           ┆         ┆           ┆   ┆           ┆           ┆           ┆ CH_2024   │\n",
       "│ 2024-2869  ┆ Skopje CH ┆ Clay    ┆ 32        ┆ … ┆ 87        ┆ null      ┆ null      ┆ Skopje    │\n",
       "│            ┆           ┆         ┆           ┆   ┆           ┆           ┆           ┆ CH_2024   │\n",
       "│ 2024-2869  ┆ Skopje CH ┆ Clay    ┆ 32        ┆ … ┆ 67        ┆ 880       ┆ 20        ┆ Skopje    │\n",
       "│            ┆           ┆         ┆           ┆   ┆           ┆           ┆           ┆ CH_2024   │\n",
       "└────────────┴───────────┴─────────┴───────────┴───┴───────────┴───────────┴───────────┴───────────┘"
      ]
     },
     "execution_count": 12,
     "metadata": {},
     "output_type": "execute_result"
    }
   ],
   "source": [
    "matches_qualifiers_challengers=import_tennis_matches(data_type=\"qualifiers_challengers\",gender=\"atp\")\n",
    "\n",
    "matches_qualifiers_challengers = matches_qualifiers_challengers.with_columns(\n",
    "    (pl.col(\"tourney_name\") + \"_\" + pl.col(\"tourney_date\").dt.year().cast(pl.Utf8)).alias(\"tourney_name_date\")\n",
    ")\n",
    "matches_qualifiers_challengers\n"
   ]
  },
  {
   "cell_type": "code",
   "execution_count": 13,
   "metadata": {},
   "outputs": [
    {
     "data": {
      "text/html": [
       "<div><style>\n",
       ".dataframe > thead > tr,\n",
       ".dataframe > tbody > tr {\n",
       "  text-align: right;\n",
       "  white-space: pre-wrap;\n",
       "}\n",
       "</style>\n",
       "<small>shape: (6_191, 6)</small><table border=\"1\" class=\"dataframe\"><thead><tr><th>tourney_name</th><th>surface</th><th>draw_size</th><th>tourney_level</th><th>tourney_date</th><th>tourney_name_date</th></tr><tr><td>str</td><td>str</td><td>i64</td><td>str</td><td>date</td><td>str</td></tr></thead><tbody><tr><td>&quot;Noumea CH&quot;</td><td>&quot;Hard&quot;</td><td>32</td><td>&quot;C&quot;</td><td>2005-01-03</td><td>&quot;Noumea CH_2005&quot;</td></tr><tr><td>&quot;s Hertogenbosch&quot;</td><td>&quot;Grass&quot;</td><td>32</td><td>&quot;A&quot;</td><td>2008-06-15</td><td>&quot;s Hertogenbosch_2008&quot;</td></tr><tr><td>&quot;Ponte Vedra CH&quot;</td><td>&quot;Hard&quot;</td><td>32</td><td>&quot;C&quot;</td><td>1994-10-17</td><td>&quot;Ponte Vedra CH_1994&quot;</td></tr><tr><td>&quot;Surbiton CH&quot;</td><td>&quot;Grass&quot;</td><td>32</td><td>&quot;C&quot;</td><td>2016-06-06</td><td>&quot;Surbiton CH_2016&quot;</td></tr><tr><td>&quot;Freudenstadt CH&quot;</td><td>&quot;Clay&quot;</td><td>32</td><td>&quot;C&quot;</td><td>2005-08-29</td><td>&quot;Freudenstadt CH_2005&quot;</td></tr><tr><td>&hellip;</td><td>&hellip;</td><td>&hellip;</td><td>&hellip;</td><td>&hellip;</td><td>&hellip;</td></tr><tr><td>&quot;Monza CH&quot;</td><td>&quot;Clay&quot;</td><td>32</td><td>&quot;C&quot;</td><td>2007-04-02</td><td>&quot;Monza CH_2007&quot;</td></tr><tr><td>&quot;Rotterdam&quot;</td><td>&quot;Hard&quot;</td><td>32</td><td>&quot;A&quot;</td><td>2019-02-11</td><td>&quot;Rotterdam_2019&quot;</td></tr><tr><td>&quot;Guam CH&quot;</td><td>&quot;Hard&quot;</td><td>32</td><td>&quot;C&quot;</td><td>1991-12-16</td><td>&quot;Guam CH_1991&quot;</td></tr><tr><td>&quot;Cali CH&quot;</td><td>&quot;Clay&quot;</td><td>32</td><td>&quot;C&quot;</td><td>2013-09-09</td><td>&quot;Cali CH_2013&quot;</td></tr><tr><td>&quot;Martinique CH&quot;</td><td>&quot;Hard&quot;</td><td>32</td><td>&quot;C&quot;</td><td>1988-03-21</td><td>&quot;Martinique CH_1988&quot;</td></tr></tbody></table></div>"
      ],
      "text/plain": [
       "shape: (6_191, 6)\n",
       "┌─────────────────┬─────────┬───────────┬───────────────┬──────────────┬──────────────────────┐\n",
       "│ tourney_name    ┆ surface ┆ draw_size ┆ tourney_level ┆ tourney_date ┆ tourney_name_date    │\n",
       "│ ---             ┆ ---     ┆ ---       ┆ ---           ┆ ---          ┆ ---                  │\n",
       "│ str             ┆ str     ┆ i64       ┆ str           ┆ date         ┆ str                  │\n",
       "╞═════════════════╪═════════╪═══════════╪═══════════════╪══════════════╪══════════════════════╡\n",
       "│ Noumea CH       ┆ Hard    ┆ 32        ┆ C             ┆ 2005-01-03   ┆ Noumea CH_2005       │\n",
       "│ s Hertogenbosch ┆ Grass   ┆ 32        ┆ A             ┆ 2008-06-15   ┆ s Hertogenbosch_2008 │\n",
       "│ Ponte Vedra CH  ┆ Hard    ┆ 32        ┆ C             ┆ 1994-10-17   ┆ Ponte Vedra CH_1994  │\n",
       "│ Surbiton CH     ┆ Grass   ┆ 32        ┆ C             ┆ 2016-06-06   ┆ Surbiton CH_2016     │\n",
       "│ Freudenstadt CH ┆ Clay    ┆ 32        ┆ C             ┆ 2005-08-29   ┆ Freudenstadt CH_2005 │\n",
       "│ …               ┆ …       ┆ …         ┆ …             ┆ …            ┆ …                    │\n",
       "│ Monza CH        ┆ Clay    ┆ 32        ┆ C             ┆ 2007-04-02   ┆ Monza CH_2007        │\n",
       "│ Rotterdam       ┆ Hard    ┆ 32        ┆ A             ┆ 2019-02-11   ┆ Rotterdam_2019       │\n",
       "│ Guam CH         ┆ Hard    ┆ 32        ┆ C             ┆ 1991-12-16   ┆ Guam CH_1991         │\n",
       "│ Cali CH         ┆ Clay    ┆ 32        ┆ C             ┆ 2013-09-09   ┆ Cali CH_2013         │\n",
       "│ Martinique CH   ┆ Hard    ┆ 32        ┆ C             ┆ 1988-03-21   ┆ Martinique CH_1988   │\n",
       "└─────────────────┴─────────┴───────────┴───────────────┴──────────────┴──────────────────────┘"
      ]
     },
     "execution_count": 13,
     "metadata": {},
     "output_type": "execute_result"
    }
   ],
   "source": [
    "tourney_qualifiers_challengers=matches_qualifiers_challengers[['tourney_name', 'surface', 'draw_size', 'tourney_level', 'tourney_date', 'tourney_name_date']]\n",
    "tourney_qualifiers_challengers=tourney_qualifiers_challengers.unique('tourney_name_date')\n",
    "tourney_qualifiers_challengers"
   ]
  },
  {
   "cell_type": "code",
   "execution_count": 14,
   "metadata": {},
   "outputs": [
    {
     "data": {
      "text/html": [
       "<div><style>\n",
       ".dataframe > thead > tr,\n",
       ".dataframe > tbody > tr {\n",
       "  text-align: right;\n",
       "  white-space: pre-wrap;\n",
       "}\n",
       "</style>\n",
       "<small>shape: (486_553, 50)</small><table border=\"1\" class=\"dataframe\"><thead><tr><th>tourney_id</th><th>tourney_name</th><th>surface</th><th>draw_size</th><th>tourney_level</th><th>tourney_date</th><th>match_num</th><th>winner_id</th><th>winner_seed</th><th>winner_entry</th><th>winner_name</th><th>winner_hand</th><th>winner_ht</th><th>winner_ioc</th><th>winner_age</th><th>loser_id</th><th>loser_seed</th><th>loser_entry</th><th>loser_name</th><th>loser_hand</th><th>loser_ht</th><th>loser_ioc</th><th>loser_age</th><th>score</th><th>best_of</th><th>round</th><th>minutes</th><th>w_ace</th><th>w_df</th><th>w_svpt</th><th>w_1stIn</th><th>w_1stWon</th><th>w_2ndWon</th><th>w_SvGms</th><th>w_bpSaved</th><th>w_bpFaced</th><th>l_ace</th><th>l_df</th><th>l_svpt</th><th>l_1stIn</th><th>l_1stWon</th><th>l_2ndWon</th><th>l_SvGms</th><th>l_bpSaved</th><th>l_bpFaced</th><th>winner_rank</th><th>winner_rank_points</th><th>loser_rank</th><th>loser_rank_points</th><th>tourney_name_date</th></tr><tr><td>str</td><td>str</td><td>str</td><td>i64</td><td>str</td><td>date</td><td>i64</td><td>str</td><td>str</td><td>str</td><td>str</td><td>str</td><td>i64</td><td>str</td><td>f64</td><td>str</td><td>str</td><td>str</td><td>str</td><td>str</td><td>i64</td><td>str</td><td>f64</td><td>str</td><td>i64</td><td>str</td><td>str</td><td>str</td><td>str</td><td>str</td><td>str</td><td>str</td><td>str</td><td>str</td><td>str</td><td>str</td><td>str</td><td>str</td><td>str</td><td>str</td><td>str</td><td>str</td><td>str</td><td>str</td><td>str</td><td>str</td><td>str</td><td>str</td><td>str</td><td>str</td></tr></thead><tbody><tr><td>&quot;1991-M-SA-IND-02A-1990a&quot;</td><td>&quot;India Masters 1&quot;</td><td>&quot;Hard&quot;</td><td>32</td><td>&quot;S&quot;</td><td>1990-12-29</td><td>1</td><td>&quot;101484&quot;</td><td>&quot;1&quot;</td><td>null</td><td>&quot;Vladimir Gabrichidze&quot;</td><td>&quot;R&quot;</td><td>175</td><td>&quot;GEO&quot;</td><td>22.6</td><td>&quot;106937&quot;</td><td>null</td><td>null</td><td>&quot;Emilio Marturano&quot;</td><td>&quot;R&quot;</td><td>null</td><td>&quot;ITA&quot;</td><td>23.5</td><td>&quot;6-2 7-5&quot;</td><td>3</td><td>&quot;R32&quot;</td><td>null</td><td>null</td><td>null</td><td>null</td><td>null</td><td>null</td><td>null</td><td>null</td><td>null</td><td>null</td><td>null</td><td>null</td><td>null</td><td>null</td><td>null</td><td>null</td><td>null</td><td>null</td><td>null</td><td>&quot;266&quot;</td><td>&quot;82&quot;</td><td>&quot;805&quot;</td><td>&quot;4&quot;</td><td>&quot;India Masters 1_1990&quot;</td></tr><tr><td>&quot;1991-M-SA-IND-02A-1990a&quot;</td><td>&quot;India Masters 1&quot;</td><td>&quot;Hard&quot;</td><td>32</td><td>&quot;S&quot;</td><td>1990-12-29</td><td>2</td><td>&quot;106819&quot;</td><td>null</td><td>&quot;Q&quot;</td><td>&quot;Danilo Pila&quot;</td><td>&quot;R&quot;</td><td>null</td><td>&quot;PHI&quot;</td><td>30.2</td><td>&quot;107116&quot;</td><td>null</td><td>null</td><td>&quot;Goran Mihajlovic&quot;</td><td>&quot;R&quot;</td><td>null</td><td>&quot;YUG&quot;</td><td>19.6</td><td>&quot;6-3 6-2&quot;</td><td>3</td><td>&quot;R32&quot;</td><td>null</td><td>null</td><td>null</td><td>null</td><td>null</td><td>null</td><td>null</td><td>null</td><td>null</td><td>null</td><td>null</td><td>null</td><td>null</td><td>null</td><td>null</td><td>null</td><td>null</td><td>null</td><td>null</td><td>&quot;941&quot;</td><td>&quot;2&quot;</td><td>&quot;692&quot;</td><td>&quot;8&quot;</td><td>&quot;India Masters 1_1990&quot;</td></tr><tr><td>&quot;1991-M-SA-IND-02A-1990a&quot;</td><td>&quot;India Masters 1&quot;</td><td>&quot;Hard&quot;</td><td>32</td><td>&quot;S&quot;</td><td>1990-12-29</td><td>3</td><td>&quot;102216&quot;</td><td>null</td><td>&quot;LL&quot;</td><td>&quot;Mark Joachim&quot;</td><td>&quot;R&quot;</td><td>null</td><td>&quot;GER&quot;</td><td>17.6</td><td>&quot;108562&quot;</td><td>null</td><td>null</td><td>&quot;York Heidenreich&quot;</td><td>&quot;R&quot;</td><td>null</td><td>&quot;GER&quot;</td><td>null</td><td>&quot;6-1 6-3&quot;</td><td>3</td><td>&quot;R32&quot;</td><td>null</td><td>null</td><td>null</td><td>null</td><td>null</td><td>null</td><td>null</td><td>null</td><td>null</td><td>null</td><td>null</td><td>null</td><td>null</td><td>null</td><td>null</td><td>null</td><td>null</td><td>null</td><td>null</td><td>&quot;862&quot;</td><td>&quot;3&quot;</td><td>&quot;862&quot;</td><td>&quot;3&quot;</td><td>&quot;India Masters 1_1990&quot;</td></tr><tr><td>&quot;1991-M-SA-IND-02A-1990a&quot;</td><td>&quot;India Masters 1&quot;</td><td>&quot;Hard&quot;</td><td>32</td><td>&quot;S&quot;</td><td>1990-12-29</td><td>4</td><td>&quot;101663&quot;</td><td>null</td><td>null</td><td>&quot;Eugenio Rossi&quot;</td><td>&quot;R&quot;</td><td>null</td><td>&quot;ITA&quot;</td><td>21.1</td><td>&quot;106941&quot;</td><td>&quot;8&quot;</td><td>null</td><td>&quot;Eno Polo&quot;</td><td>&quot;R&quot;</td><td>null</td><td>&quot;KEN&quot;</td><td>23.5</td><td>&quot;6-4 6-4&quot;</td><td>3</td><td>&quot;R32&quot;</td><td>null</td><td>null</td><td>null</td><td>null</td><td>null</td><td>null</td><td>null</td><td>null</td><td>null</td><td>null</td><td>null</td><td>null</td><td>null</td><td>null</td><td>null</td><td>null</td><td>null</td><td>null</td><td>null</td><td>&quot;703&quot;</td><td>&quot;8&quot;</td><td>&quot;588&quot;</td><td>&quot;14&quot;</td><td>&quot;India Masters 1_1990&quot;</td></tr><tr><td>&quot;1991-M-SA-IND-02A-1990a&quot;</td><td>&quot;India Masters 1&quot;</td><td>&quot;Hard&quot;</td><td>32</td><td>&quot;S&quot;</td><td>1990-12-29</td><td>5</td><td>&quot;100794&quot;</td><td>&quot;4&quot;</td><td>null</td><td>&quot;Srinivasan Vasudevan&quot;</td><td>&quot;R&quot;</td><td>190</td><td>&quot;IND&quot;</td><td>28.9</td><td>&quot;101480&quot;</td><td>null</td><td>null</td><td>&quot;Jake Martyn&quot;</td><td>&quot;R&quot;</td><td>null</td><td>&quot;GBR&quot;</td><td>22.6</td><td>&quot;6-3 7-6&quot;</td><td>3</td><td>&quot;R32&quot;</td><td>null</td><td>null</td><td>null</td><td>null</td><td>null</td><td>null</td><td>null</td><td>null</td><td>null</td><td>null</td><td>null</td><td>null</td><td>null</td><td>null</td><td>null</td><td>null</td><td>null</td><td>null</td><td>null</td><td>&quot;420&quot;</td><td>&quot;33&quot;</td><td>&quot;862&quot;</td><td>&quot;3&quot;</td><td>&quot;India Masters 1_1990&quot;</td></tr><tr><td>&hellip;</td><td>&hellip;</td><td>&hellip;</td><td>&hellip;</td><td>&hellip;</td><td>&hellip;</td><td>&hellip;</td><td>&hellip;</td><td>&hellip;</td><td>&hellip;</td><td>&hellip;</td><td>&hellip;</td><td>&hellip;</td><td>&hellip;</td><td>&hellip;</td><td>&hellip;</td><td>&hellip;</td><td>&hellip;</td><td>&hellip;</td><td>&hellip;</td><td>&hellip;</td><td>&hellip;</td><td>&hellip;</td><td>&hellip;</td><td>&hellip;</td><td>&hellip;</td><td>&hellip;</td><td>&hellip;</td><td>&hellip;</td><td>&hellip;</td><td>&hellip;</td><td>&hellip;</td><td>&hellip;</td><td>&hellip;</td><td>&hellip;</td><td>&hellip;</td><td>&hellip;</td><td>&hellip;</td><td>&hellip;</td><td>&hellip;</td><td>&hellip;</td><td>&hellip;</td><td>&hellip;</td><td>&hellip;</td><td>&hellip;</td><td>&hellip;</td><td>&hellip;</td><td>&hellip;</td><td>&hellip;</td><td>&hellip;</td></tr><tr><td>&quot;2024-M-ITF-USA-2024-010&quot;</td><td>&quot;M25 Pensacola FL&quot;</td><td>&quot;Clay&quot;</td><td>32</td><td>&quot;25&quot;</td><td>2024-05-13</td><td>303</td><td>&quot;210044&quot;</td><td>&quot;5&quot;</td><td>null</td><td>&quot;Bruno Kuzuhara&quot;</td><td>&quot;U&quot;</td><td>null</td><td>&quot;USA&quot;</td><td>20.0</td><td>&quot;132054&quot;</td><td>null</td><td>null</td><td>&quot;Nathan Ponwith&quot;</td><td>&quot;U&quot;</td><td>null</td><td>&quot;USA&quot;</td><td>26.0</td><td>&quot;6-3 6-3&quot;</td><td>3</td><td>&quot;QF&quot;</td><td>null</td><td>null</td><td>null</td><td>null</td><td>null</td><td>null</td><td>null</td><td>null</td><td>null</td><td>null</td><td>null</td><td>null</td><td>null</td><td>null</td><td>null</td><td>null</td><td>null</td><td>null</td><td>null</td><td>&quot;469&quot;</td><td>&quot;92&quot;</td><td>&quot;745&quot;</td><td>&quot;34&quot;</td><td>&quot;M25 Pensacola FL_2024&quot;</td></tr><tr><td>&quot;2024-M-ITF-USA-2024-010&quot;</td><td>&quot;M25 Pensacola FL&quot;</td><td>&quot;Clay&quot;</td><td>32</td><td>&quot;25&quot;</td><td>2024-05-13</td><td>304</td><td>&quot;200273&quot;</td><td>&quot;2&quot;</td><td>null</td><td>&quot;Hady Habib&quot;</td><td>&quot;R&quot;</td><td>null</td><td>&quot;LBN&quot;</td><td>25.7</td><td>&quot;132052&quot;</td><td>&quot;7&quot;</td><td>null</td><td>&quot;Christian Langmo&quot;</td><td>&quot;U&quot;</td><td>null</td><td>&quot;USA&quot;</td><td>27.9</td><td>&quot;1-6 6-3 6-3&quot;</td><td>3</td><td>&quot;QF&quot;</td><td>null</td><td>null</td><td>null</td><td>null</td><td>null</td><td>null</td><td>null</td><td>null</td><td>null</td><td>null</td><td>null</td><td>null</td><td>null</td><td>null</td><td>null</td><td>null</td><td>null</td><td>null</td><td>null</td><td>&quot;286&quot;</td><td>&quot;196&quot;</td><td>&quot;507&quot;</td><td>&quot;77&quot;</td><td>&quot;M25 Pensacola FL_2024&quot;</td></tr><tr><td>&quot;2024-M-ITF-USA-2024-010&quot;</td><td>&quot;M25 Pensacola FL&quot;</td><td>&quot;Clay&quot;</td><td>32</td><td>&quot;25&quot;</td><td>2024-05-13</td><td>401</td><td>&quot;200748&quot;</td><td>&quot;4&quot;</td><td>null</td><td>&quot;Andres Andrade&quot;</td><td>&quot;R&quot;</td><td>null</td><td>&quot;ECU&quot;</td><td>25.3</td><td>&quot;106071&quot;</td><td>&quot;1&quot;</td><td>null</td><td>&quot;Bernard Tomic&quot;</td><td>&quot;R&quot;</td><td>193</td><td>&quot;AUS&quot;</td><td>31.5</td><td>&quot;RET&quot;</td><td>3</td><td>&quot;SF&quot;</td><td>null</td><td>null</td><td>null</td><td>null</td><td>null</td><td>null</td><td>null</td><td>null</td><td>null</td><td>null</td><td>null</td><td>null</td><td>null</td><td>null</td><td>null</td><td>null</td><td>null</td><td>null</td><td>null</td><td>&quot;374&quot;</td><td>&quot;133&quot;</td><td>&quot;256&quot;</td><td>&quot;230&quot;</td><td>&quot;M25 Pensacola FL_2024&quot;</td></tr><tr><td>&quot;2024-M-ITF-USA-2024-010&quot;</td><td>&quot;M25 Pensacola FL&quot;</td><td>&quot;Clay&quot;</td><td>32</td><td>&quot;25&quot;</td><td>2024-05-13</td><td>402</td><td>&quot;200273&quot;</td><td>&quot;2&quot;</td><td>null</td><td>&quot;Hady Habib&quot;</td><td>&quot;R&quot;</td><td>null</td><td>&quot;LBN&quot;</td><td>25.7</td><td>&quot;210044&quot;</td><td>&quot;5&quot;</td><td>null</td><td>&quot;Bruno Kuzuhara&quot;</td><td>&quot;U&quot;</td><td>null</td><td>&quot;USA&quot;</td><td>20.0</td><td>&quot;6-4 6-4&quot;</td><td>3</td><td>&quot;SF&quot;</td><td>null</td><td>null</td><td>null</td><td>null</td><td>null</td><td>null</td><td>null</td><td>null</td><td>null</td><td>null</td><td>null</td><td>null</td><td>null</td><td>null</td><td>null</td><td>null</td><td>null</td><td>null</td><td>null</td><td>&quot;286&quot;</td><td>&quot;196&quot;</td><td>&quot;469&quot;</td><td>&quot;92&quot;</td><td>&quot;M25 Pensacola FL_2024&quot;</td></tr><tr><td>&quot;2024-M-ITF-USA-2024-010&quot;</td><td>&quot;M25 Pensacola FL&quot;</td><td>&quot;Clay&quot;</td><td>32</td><td>&quot;25&quot;</td><td>2024-05-13</td><td>501</td><td>&quot;200748&quot;</td><td>&quot;4&quot;</td><td>null</td><td>&quot;Andres Andrade&quot;</td><td>&quot;R&quot;</td><td>null</td><td>&quot;ECU&quot;</td><td>25.3</td><td>&quot;200273&quot;</td><td>&quot;2&quot;</td><td>null</td><td>&quot;Hady Habib&quot;</td><td>&quot;R&quot;</td><td>null</td><td>&quot;LBN&quot;</td><td>25.7</td><td>&quot;7-6(5) 7-5&quot;</td><td>3</td><td>&quot;F&quot;</td><td>null</td><td>null</td><td>null</td><td>null</td><td>null</td><td>null</td><td>null</td><td>null</td><td>null</td><td>null</td><td>null</td><td>null</td><td>null</td><td>null</td><td>null</td><td>null</td><td>null</td><td>null</td><td>null</td><td>&quot;374&quot;</td><td>&quot;133&quot;</td><td>&quot;286&quot;</td><td>&quot;196&quot;</td><td>&quot;M25 Pensacola FL_2024&quot;</td></tr></tbody></table></div>"
      ],
      "text/plain": [
       "shape: (486_553, 50)\n",
       "┌────────────┬───────────┬─────────┬───────────┬───┬───────────┬───────────┬───────────┬───────────┐\n",
       "│ tourney_id ┆ tourney_n ┆ surface ┆ draw_size ┆ … ┆ winner_ra ┆ loser_ran ┆ loser_ran ┆ tourney_n │\n",
       "│ ---        ┆ ame       ┆ ---     ┆ ---       ┆   ┆ nk_points ┆ k         ┆ k_points  ┆ ame_date  │\n",
       "│ str        ┆ ---       ┆ str     ┆ i64       ┆   ┆ ---       ┆ ---       ┆ ---       ┆ ---       │\n",
       "│            ┆ str       ┆         ┆           ┆   ┆ str       ┆ str       ┆ str       ┆ str       │\n",
       "╞════════════╪═══════════╪═════════╪═══════════╪═══╪═══════════╪═══════════╪═══════════╪═══════════╡\n",
       "│ 1991-M-SA- ┆ India     ┆ Hard    ┆ 32        ┆ … ┆ 82        ┆ 805       ┆ 4         ┆ India     │\n",
       "│ IND-02A-19 ┆ Masters 1 ┆         ┆           ┆   ┆           ┆           ┆           ┆ Masters   │\n",
       "│ 90a        ┆           ┆         ┆           ┆   ┆           ┆           ┆           ┆ 1_1990    │\n",
       "│ 1991-M-SA- ┆ India     ┆ Hard    ┆ 32        ┆ … ┆ 2         ┆ 692       ┆ 8         ┆ India     │\n",
       "│ IND-02A-19 ┆ Masters 1 ┆         ┆           ┆   ┆           ┆           ┆           ┆ Masters   │\n",
       "│ 90a        ┆           ┆         ┆           ┆   ┆           ┆           ┆           ┆ 1_1990    │\n",
       "│ 1991-M-SA- ┆ India     ┆ Hard    ┆ 32        ┆ … ┆ 3         ┆ 862       ┆ 3         ┆ India     │\n",
       "│ IND-02A-19 ┆ Masters 1 ┆         ┆           ┆   ┆           ┆           ┆           ┆ Masters   │\n",
       "│ 90a        ┆           ┆         ┆           ┆   ┆           ┆           ┆           ┆ 1_1990    │\n",
       "│ 1991-M-SA- ┆ India     ┆ Hard    ┆ 32        ┆ … ┆ 8         ┆ 588       ┆ 14        ┆ India     │\n",
       "│ IND-02A-19 ┆ Masters 1 ┆         ┆           ┆   ┆           ┆           ┆           ┆ Masters   │\n",
       "│ 90a        ┆           ┆         ┆           ┆   ┆           ┆           ┆           ┆ 1_1990    │\n",
       "│ 1991-M-SA- ┆ India     ┆ Hard    ┆ 32        ┆ … ┆ 33        ┆ 862       ┆ 3         ┆ India     │\n",
       "│ IND-02A-19 ┆ Masters 1 ┆         ┆           ┆   ┆           ┆           ┆           ┆ Masters   │\n",
       "│ 90a        ┆           ┆         ┆           ┆   ┆           ┆           ┆           ┆ 1_1990    │\n",
       "│ …          ┆ …         ┆ …       ┆ …         ┆ … ┆ …         ┆ …         ┆ …         ┆ …         │\n",
       "│ 2024-M-ITF ┆ M25       ┆ Clay    ┆ 32        ┆ … ┆ 92        ┆ 745       ┆ 34        ┆ M25       │\n",
       "│ -USA-2024- ┆ Pensacola ┆         ┆           ┆   ┆           ┆           ┆           ┆ Pensacola │\n",
       "│ 010        ┆ FL        ┆         ┆           ┆   ┆           ┆           ┆           ┆ FL_2024   │\n",
       "│ 2024-M-ITF ┆ M25       ┆ Clay    ┆ 32        ┆ … ┆ 196       ┆ 507       ┆ 77        ┆ M25       │\n",
       "│ -USA-2024- ┆ Pensacola ┆         ┆           ┆   ┆           ┆           ┆           ┆ Pensacola │\n",
       "│ 010        ┆ FL        ┆         ┆           ┆   ┆           ┆           ┆           ┆ FL_2024   │\n",
       "│ 2024-M-ITF ┆ M25       ┆ Clay    ┆ 32        ┆ … ┆ 133       ┆ 256       ┆ 230       ┆ M25       │\n",
       "│ -USA-2024- ┆ Pensacola ┆         ┆           ┆   ┆           ┆           ┆           ┆ Pensacola │\n",
       "│ 010        ┆ FL        ┆         ┆           ┆   ┆           ┆           ┆           ┆ FL_2024   │\n",
       "│ 2024-M-ITF ┆ M25       ┆ Clay    ┆ 32        ┆ … ┆ 196       ┆ 469       ┆ 92        ┆ M25       │\n",
       "│ -USA-2024- ┆ Pensacola ┆         ┆           ┆   ┆           ┆           ┆           ┆ Pensacola │\n",
       "│ 010        ┆ FL        ┆         ┆           ┆   ┆           ┆           ┆           ┆ FL_2024   │\n",
       "│ 2024-M-ITF ┆ M25       ┆ Clay    ┆ 32        ┆ … ┆ 133       ┆ 286       ┆ 196       ┆ M25       │\n",
       "│ -USA-2024- ┆ Pensacola ┆         ┆           ┆   ┆           ┆           ┆           ┆ Pensacola │\n",
       "│ 010        ┆ FL        ┆         ┆           ┆   ┆           ┆           ┆           ┆ FL_2024   │\n",
       "└────────────┴───────────┴─────────┴───────────┴───┴───────────┴───────────┴───────────┴───────────┘"
      ]
     },
     "execution_count": 14,
     "metadata": {},
     "output_type": "execute_result"
    }
   ],
   "source": [
    "matches_futures=import_tennis_matches(data_type=\"futures\",gender=\"atp\")\n",
    "\n",
    "matches_futures = matches_futures.with_columns(\n",
    "    (pl.col(\"tourney_name\") + \"_\" + pl.col(\"tourney_date\").dt.year().cast(pl.Utf8)).alias(\"tourney_name_date\")\n",
    ")\n",
    "matches_futures"
   ]
  },
  {
   "cell_type": "code",
   "execution_count": 15,
   "metadata": {},
   "outputs": [
    {
     "data": {
      "text/html": [
       "<div><style>\n",
       ".dataframe > thead > tr,\n",
       ".dataframe > tbody > tr {\n",
       "  text-align: right;\n",
       "  white-space: pre-wrap;\n",
       "}\n",
       "</style>\n",
       "<small>shape: (14_687, 6)</small><table border=\"1\" class=\"dataframe\"><thead><tr><th>tourney_name</th><th>surface</th><th>draw_size</th><th>tourney_level</th><th>tourney_date</th><th>tourney_name_date</th></tr><tr><td>str</td><td>str</td><td>i64</td><td>str</td><td>date</td><td>str</td></tr></thead><tbody><tr><td>&quot;Netherlands F4&quot;</td><td>&quot;Clay&quot;</td><td>32</td><td>&quot;S&quot;</td><td>2011-06-27</td><td>&quot;Netherlands F4_2011&quot;</td></tr><tr><td>&quot;Turkey F25&quot;</td><td>&quot;Clay&quot;</td><td>32</td><td>&quot;S&quot;</td><td>2012-06-25</td><td>&quot;Turkey F25_2012&quot;</td></tr><tr><td>&quot;Japan F3&quot;</td><td>&quot;Hard&quot;</td><td>32</td><td>&quot;S&quot;</td><td>2015-03-23</td><td>&quot;Japan F3_2015&quot;</td></tr><tr><td>&quot;Belgium F7&quot;</td><td>&quot;Clay&quot;</td><td>32</td><td>&quot;S&quot;</td><td>2017-07-31</td><td>&quot;Belgium F7_2017&quot;</td></tr><tr><td>&quot;M25 Sintra&quot;</td><td>&quot;Hard&quot;</td><td>32</td><td>&quot;25&quot;</td><td>2021-09-06</td><td>&quot;M25 Sintra_2021&quot;</td></tr><tr><td>&hellip;</td><td>&hellip;</td><td>&hellip;</td><td>&hellip;</td><td>&hellip;</td><td>&hellip;</td></tr><tr><td>&quot;Great Britain F2&quot;</td><td>&quot;Hard&quot;</td><td>32</td><td>&quot;S&quot;</td><td>2005-01-17</td><td>&quot;Great Britain F2_2005&quot;</td></tr><tr><td>&quot;Germany F1&quot;</td><td>&quot;Clay&quot;</td><td>32</td><td>&quot;S&quot;</td><td>1999-05-05</td><td>&quot;Germany F1_1999&quot;</td></tr><tr><td>&quot;Morocco F2&quot;</td><td>&quot;Clay&quot;</td><td>32</td><td>&quot;S&quot;</td><td>2017-07-24</td><td>&quot;Morocco F2_2017&quot;</td></tr><tr><td>&quot;Romania F4&quot;</td><td>&quot;Clay&quot;</td><td>32</td><td>&quot;S&quot;</td><td>2007-05-21</td><td>&quot;Romania F4_2007&quot;</td></tr><tr><td>&quot;Serbia F5&quot;</td><td>&quot;Clay&quot;</td><td>32</td><td>&quot;S&quot;</td><td>2015-07-13</td><td>&quot;Serbia F5_2015&quot;</td></tr></tbody></table></div>"
      ],
      "text/plain": [
       "shape: (14_687, 6)\n",
       "┌──────────────────┬─────────┬───────────┬───────────────┬──────────────┬───────────────────────┐\n",
       "│ tourney_name     ┆ surface ┆ draw_size ┆ tourney_level ┆ tourney_date ┆ tourney_name_date     │\n",
       "│ ---              ┆ ---     ┆ ---       ┆ ---           ┆ ---          ┆ ---                   │\n",
       "│ str              ┆ str     ┆ i64       ┆ str           ┆ date         ┆ str                   │\n",
       "╞══════════════════╪═════════╪═══════════╪═══════════════╪══════════════╪═══════════════════════╡\n",
       "│ Netherlands F4   ┆ Clay    ┆ 32        ┆ S             ┆ 2011-06-27   ┆ Netherlands F4_2011   │\n",
       "│ Turkey F25       ┆ Clay    ┆ 32        ┆ S             ┆ 2012-06-25   ┆ Turkey F25_2012       │\n",
       "│ Japan F3         ┆ Hard    ┆ 32        ┆ S             ┆ 2015-03-23   ┆ Japan F3_2015         │\n",
       "│ Belgium F7       ┆ Clay    ┆ 32        ┆ S             ┆ 2017-07-31   ┆ Belgium F7_2017       │\n",
       "│ M25 Sintra       ┆ Hard    ┆ 32        ┆ 25            ┆ 2021-09-06   ┆ M25 Sintra_2021       │\n",
       "│ …                ┆ …       ┆ …         ┆ …             ┆ …            ┆ …                     │\n",
       "│ Great Britain F2 ┆ Hard    ┆ 32        ┆ S             ┆ 2005-01-17   ┆ Great Britain F2_2005 │\n",
       "│ Germany F1       ┆ Clay    ┆ 32        ┆ S             ┆ 1999-05-05   ┆ Germany F1_1999       │\n",
       "│ Morocco F2       ┆ Clay    ┆ 32        ┆ S             ┆ 2017-07-24   ┆ Morocco F2_2017       │\n",
       "│ Romania F4       ┆ Clay    ┆ 32        ┆ S             ┆ 2007-05-21   ┆ Romania F4_2007       │\n",
       "│ Serbia F5        ┆ Clay    ┆ 32        ┆ S             ┆ 2015-07-13   ┆ Serbia F5_2015        │\n",
       "└──────────────────┴─────────┴───────────┴───────────────┴──────────────┴───────────────────────┘"
      ]
     },
     "execution_count": 15,
     "metadata": {},
     "output_type": "execute_result"
    }
   ],
   "source": [
    "tourney_futures=matches_futures[['tourney_name', 'surface', 'draw_size', 'tourney_level', 'tourney_date', 'tourney_name_date']]\n",
    "\n",
    "tourney_futures=tourney_futures.unique('tourney_name_date')\n",
    "tourney_futures"
   ]
  },
  {
   "cell_type": "code",
   "execution_count": 16,
   "metadata": {},
   "outputs": [
    {
     "name": "stdout",
     "output_type": "stream",
     "text": [
      "Error importing wta_matches_qual_itf_2015.csv: invalid utf-8 sequence\n",
      "Error importing wta_matches_qual_itf_2016.csv: invalid utf-8 sequence\n",
      "Error importing wta_matches_qual_itf_2017.csv: invalid utf-8 sequence\n"
     ]
    },
    {
     "data": {
      "text/html": [
       "<div><style>\n",
       ".dataframe > thead > tr,\n",
       ".dataframe > tbody > tr {\n",
       "  text-align: right;\n",
       "  white-space: pre-wrap;\n",
       "}\n",
       "</style>\n",
       "<small>shape: (512_063, 50)</small><table border=\"1\" class=\"dataframe\"><thead><tr><th>tourney_id</th><th>tourney_name</th><th>surface</th><th>draw_size</th><th>tourney_level</th><th>tourney_date</th><th>match_num</th><th>winner_id</th><th>winner_seed</th><th>winner_entry</th><th>winner_name</th><th>winner_hand</th><th>winner_ht</th><th>winner_ioc</th><th>winner_age</th><th>loser_id</th><th>loser_seed</th><th>loser_entry</th><th>loser_name</th><th>loser_hand</th><th>loser_ht</th><th>loser_ioc</th><th>loser_age</th><th>score</th><th>best_of</th><th>round</th><th>minutes</th><th>w_ace</th><th>w_df</th><th>w_svpt</th><th>w_1stIn</th><th>w_1stWon</th><th>w_2ndWon</th><th>w_SvGms</th><th>w_bpSaved</th><th>w_bpFaced</th><th>l_ace</th><th>l_df</th><th>l_svpt</th><th>l_1stIn</th><th>l_1stWon</th><th>l_2ndWon</th><th>l_SvGms</th><th>l_bpSaved</th><th>l_bpFaced</th><th>winner_rank</th><th>winner_rank_points</th><th>loser_rank</th><th>loser_rank_points</th><th>tourney_name_date</th></tr><tr><td>str</td><td>str</td><td>str</td><td>i64</td><td>str</td><td>date</td><td>i64</td><td>str</td><td>str</td><td>str</td><td>str</td><td>str</td><td>i64</td><td>str</td><td>f64</td><td>str</td><td>str</td><td>str</td><td>str</td><td>str</td><td>i64</td><td>str</td><td>f64</td><td>str</td><td>i64</td><td>str</td><td>str</td><td>str</td><td>str</td><td>str</td><td>str</td><td>str</td><td>str</td><td>str</td><td>str</td><td>str</td><td>str</td><td>str</td><td>str</td><td>str</td><td>str</td><td>str</td><td>str</td><td>str</td><td>str</td><td>str</td><td>str</td><td>str</td><td>str</td><td>str</td></tr></thead><tbody><tr><td>&quot;1968-1004&quot;</td><td>&quot;Bournemouth&quot;</td><td>&quot;Clay&quot;</td><td>32</td><td>&quot;W&quot;</td><td>1968-04-22</td><td>201</td><td>&quot;200810&quot;</td><td>&quot;5&quot;</td><td>null</td><td>&quot;Annette Van Zyl&quot;</td><td>&quot;R&quot;</td><td>180</td><td>&quot;RSA&quot;</td><td>24.5</td><td>&quot;201114&quot;</td><td>null</td><td>null</td><td>&quot;Robin Lloyd&quot;</td><td>&quot;U&quot;</td><td>null</td><td>&quot;GBR&quot;</td><td>24.1</td><td>&quot;6-3 6-4&quot;</td><td>3</td><td>&quot;Q1&quot;</td><td>null</td><td>null</td><td>null</td><td>null</td><td>null</td><td>null</td><td>null</td><td>null</td><td>null</td><td>null</td><td>null</td><td>null</td><td>null</td><td>null</td><td>null</td><td>null</td><td>null</td><td>null</td><td>null</td><td>null</td><td>null</td><td>null</td><td>null</td><td>&quot;Bournemouth_1968&quot;</td></tr><tr><td>&quot;1968-1004&quot;</td><td>&quot;Bournemouth&quot;</td><td>&quot;Clay&quot;</td><td>32</td><td>&quot;W&quot;</td><td>1968-04-22</td><td>202</td><td>&quot;223881&quot;</td><td>null</td><td>null</td><td>&quot;Dianne Bridger&quot;</td><td>&quot;U&quot;</td><td>null</td><td>&quot;GBR&quot;</td><td>null</td><td>&quot;213882&quot;</td><td>null</td><td>null</td><td>&quot;Lena Reichel&quot;</td><td>&quot;U&quot;</td><td>null</td><td>&quot;AUT&quot;</td><td>-29.0</td><td>&quot;6-1 8-6&quot;</td><td>3</td><td>&quot;Q1&quot;</td><td>null</td><td>null</td><td>null</td><td>null</td><td>null</td><td>null</td><td>null</td><td>null</td><td>null</td><td>null</td><td>null</td><td>null</td><td>null</td><td>null</td><td>null</td><td>null</td><td>null</td><td>null</td><td>null</td><td>null</td><td>null</td><td>null</td><td>null</td><td>&quot;Bournemouth_1968&quot;</td></tr><tr><td>&quot;1968-1004&quot;</td><td>&quot;Bournemouth&quot;</td><td>&quot;Clay&quot;</td><td>32</td><td>&quot;W&quot;</td><td>1968-04-22</td><td>203</td><td>&quot;216633&quot;</td><td>null</td><td>null</td><td>&quot;Mary Mcanally&quot;</td><td>&quot;U&quot;</td><td>null</td><td>&quot;GBR&quot;</td><td>23.0</td><td>&quot;223997&quot;</td><td>null</td><td>null</td><td>&quot;Sandra Okin&quot;</td><td>&quot;U&quot;</td><td>null</td><td>&quot;GBR&quot;</td><td>null</td><td>&quot;3-6 6-4 6-2&quot;</td><td>3</td><td>&quot;Q1&quot;</td><td>null</td><td>null</td><td>null</td><td>null</td><td>null</td><td>null</td><td>null</td><td>null</td><td>null</td><td>null</td><td>null</td><td>null</td><td>null</td><td>null</td><td>null</td><td>null</td><td>null</td><td>null</td><td>null</td><td>null</td><td>null</td><td>null</td><td>null</td><td>&quot;Bournemouth_1968&quot;</td></tr><tr><td>&quot;1968-1004&quot;</td><td>&quot;Bournemouth&quot;</td><td>&quot;Clay&quot;</td><td>32</td><td>&quot;W&quot;</td><td>1968-04-22</td><td>204</td><td>&quot;223659&quot;</td><td>null</td><td>null</td><td>&quot;Heather Allen&quot;</td><td>&quot;U&quot;</td><td>null</td><td>&quot;GBR&quot;</td><td>3.8</td><td>&quot;224029&quot;</td><td>null</td><td>null</td><td>&quot;Jane Poynder&quot;</td><td>&quot;U&quot;</td><td>null</td><td>&quot;GBR&quot;</td><td>null</td><td>&quot;6-3 6-4&quot;</td><td>3</td><td>&quot;Q1&quot;</td><td>null</td><td>null</td><td>null</td><td>null</td><td>null</td><td>null</td><td>null</td><td>null</td><td>null</td><td>null</td><td>null</td><td>null</td><td>null</td><td>null</td><td>null</td><td>null</td><td>null</td><td>null</td><td>null</td><td>null</td><td>null</td><td>null</td><td>null</td><td>&quot;Bournemouth_1968&quot;</td></tr><tr><td>&quot;1968-1004&quot;</td><td>&quot;Bournemouth&quot;</td><td>&quot;Clay&quot;</td><td>32</td><td>&quot;W&quot;</td><td>1968-04-22</td><td>205</td><td>&quot;201121&quot;</td><td>null</td><td>null</td><td>&quot;Sue Tutt&quot;</td><td>&quot;U&quot;</td><td>null</td><td>&quot;GBR&quot;</td><td>null</td><td>&quot;201117&quot;</td><td>null</td><td>null</td><td>&quot;Margaret Harris&quot;</td><td>&quot;R&quot;</td><td>null</td><td>&quot;AUS&quot;</td><td>23.1</td><td>&quot;2-6 6-1 6-1&quot;</td><td>3</td><td>&quot;Q1&quot;</td><td>null</td><td>null</td><td>null</td><td>null</td><td>null</td><td>null</td><td>null</td><td>null</td><td>null</td><td>null</td><td>null</td><td>null</td><td>null</td><td>null</td><td>null</td><td>null</td><td>null</td><td>null</td><td>null</td><td>null</td><td>null</td><td>null</td><td>null</td><td>&quot;Bournemouth_1968&quot;</td></tr><tr><td>&hellip;</td><td>&hellip;</td><td>&hellip;</td><td>&hellip;</td><td>&hellip;</td><td>&hellip;</td><td>&hellip;</td><td>&hellip;</td><td>&hellip;</td><td>&hellip;</td><td>&hellip;</td><td>&hellip;</td><td>&hellip;</td><td>&hellip;</td><td>&hellip;</td><td>&hellip;</td><td>&hellip;</td><td>&hellip;</td><td>&hellip;</td><td>&hellip;</td><td>&hellip;</td><td>&hellip;</td><td>&hellip;</td><td>&hellip;</td><td>&hellip;</td><td>&hellip;</td><td>&hellip;</td><td>&hellip;</td><td>&hellip;</td><td>&hellip;</td><td>&hellip;</td><td>&hellip;</td><td>&hellip;</td><td>&hellip;</td><td>&hellip;</td><td>&hellip;</td><td>&hellip;</td><td>&hellip;</td><td>&hellip;</td><td>&hellip;</td><td>&hellip;</td><td>&hellip;</td><td>&hellip;</td><td>&hellip;</td><td>&hellip;</td><td>&hellip;</td><td>&hellip;</td><td>&hellip;</td><td>&hellip;</td><td>&hellip;</td></tr><tr><td>&quot;2024-406&quot;</td><td>&quot;Strasbourg&quot;</td><td>&quot;Clay&quot;</td><td>32</td><td>&quot;P&quot;</td><td>2024-05-20</td><td>262</td><td>&quot;221909&quot;</td><td>&quot;5&quot;</td><td>null</td><td>&quot;Ashlyn Krueger&quot;</td><td>&quot;R&quot;</td><td>185</td><td>&quot;USA&quot;</td><td>20.0</td><td>&quot;201329&quot;</td><td>null</td><td>&quot;ALT&quot;</td><td>&quot;Vera Zvonareva&quot;</td><td>&quot;R&quot;</td><td>172</td><td>&quot;RUS&quot;</td><td>39.6</td><td>&quot;6-0 6-0&quot;</td><td>3</td><td>&quot;Q1&quot;</td><td>&quot;52&quot;</td><td>&quot;1&quot;</td><td>&quot;3&quot;</td><td>&quot;38&quot;</td><td>&quot;30&quot;</td><td>&quot;23&quot;</td><td>&quot;4&quot;</td><td>&quot;6&quot;</td><td>&quot;4&quot;</td><td>&quot;4&quot;</td><td>&quot;0&quot;</td><td>&quot;4&quot;</td><td>&quot;38&quot;</td><td>&quot;25&quot;</td><td>&quot;9&quot;</td><td>&quot;1&quot;</td><td>&quot;6&quot;</td><td>&quot;3&quot;</td><td>&quot;9&quot;</td><td>&quot;65&quot;</td><td>&quot;994&quot;</td><td>&quot;264&quot;</td><td>&quot;276&quot;</td><td>&quot;Strasbourg_2024&quot;</td></tr><tr><td>&quot;2024-406&quot;</td><td>&quot;Strasbourg&quot;</td><td>&quot;Clay&quot;</td><td>32</td><td>&quot;P&quot;</td><td>2024-05-20</td><td>261</td><td>&quot;211684&quot;</td><td>&quot;3&quot;</td><td>null</td><td>&quot;Magdalena Frech&quot;</td><td>&quot;R&quot;</td><td>171</td><td>&quot;POL&quot;</td><td>26.4</td><td>&quot;221116&quot;</td><td>null</td><td>null</td><td>&quot;Jana Kolodynska&quot;</td><td>&quot;R&quot;</td><td>null</td><td>&quot;BLR&quot;</td><td>20.7</td><td>&quot;6-2 6-1&quot;</td><td>3</td><td>&quot;Q1&quot;</td><td>&quot;75&quot;</td><td>&quot;0&quot;</td><td>&quot;0&quot;</td><td>&quot;51&quot;</td><td>&quot;33&quot;</td><td>&quot;21&quot;</td><td>&quot;15&quot;</td><td>&quot;7&quot;</td><td>&quot;2&quot;</td><td>&quot;2&quot;</td><td>&quot;0&quot;</td><td>&quot;4&quot;</td><td>&quot;58&quot;</td><td>&quot;39&quot;</td><td>&quot;20&quot;</td><td>&quot;6&quot;</td><td>&quot;8&quot;</td><td>&quot;7&quot;</td><td>&quot;12&quot;</td><td>&quot;54&quot;</td><td>&quot;1108&quot;</td><td>&quot;244&quot;</td><td>&quot;304&quot;</td><td>&quot;Strasbourg_2024&quot;</td></tr><tr><td>&quot;2024-406&quot;</td><td>&quot;Strasbourg&quot;</td><td>&quot;Clay&quot;</td><td>32</td><td>&quot;P&quot;</td><td>2024-05-20</td><td>260</td><td>&quot;201611&quot;</td><td>&quot;7&quot;</td><td>null</td><td>&quot;Daria Saville&quot;</td><td>&quot;R&quot;</td><td>166</td><td>&quot;AUS&quot;</td><td>30.2</td><td>&quot;203281&quot;</td><td>null</td><td>&quot;WC&quot;</td><td>&quot;Amandine Hesse&quot;</td><td>&quot;R&quot;</td><td>164</td><td>&quot;FRA&quot;</td><td>31.3</td><td>&quot;6-1 6-1&quot;</td><td>3</td><td>&quot;Q1&quot;</td><td>&quot;63&quot;</td><td>&quot;0&quot;</td><td>&quot;1&quot;</td><td>&quot;41&quot;</td><td>&quot;27&quot;</td><td>&quot;21&quot;</td><td>&quot;10&quot;</td><td>&quot;7&quot;</td><td>&quot;3&quot;</td><td>&quot;3&quot;</td><td>&quot;1&quot;</td><td>&quot;1&quot;</td><td>&quot;49&quot;</td><td>&quot;33&quot;</td><td>&quot;14&quot;</td><td>&quot;7&quot;</td><td>&quot;7&quot;</td><td>&quot;6&quot;</td><td>&quot;11&quot;</td><td>&quot;85&quot;</td><td>&quot;820&quot;</td><td>&quot;273&quot;</td><td>&quot;266&quot;</td><td>&quot;Strasbourg_2024&quot;</td></tr><tr><td>&quot;2024-406&quot;</td><td>&quot;Strasbourg&quot;</td><td>&quot;Clay&quot;</td><td>32</td><td>&quot;P&quot;</td><td>2024-05-20</td><td>259</td><td>&quot;203564&quot;</td><td>null</td><td>null</td><td>&quot;Chloe Paquet&quot;</td><td>&quot;R&quot;</td><td>179</td><td>&quot;FRA&quot;</td><td>29.8</td><td>&quot;213550&quot;</td><td>&quot;4&quot;</td><td>null</td><td>&quot;Sofia Kenin&quot;</td><td>&quot;R&quot;</td><td>170</td><td>&quot;USA&quot;</td><td>25.5</td><td>&quot;6-4 7-6(4)&quot;</td><td>3</td><td>&quot;Q1&quot;</td><td>&quot;118&quot;</td><td>&quot;17&quot;</td><td>&quot;10&quot;</td><td>&quot;97&quot;</td><td>&quot;47&quot;</td><td>&quot;35&quot;</td><td>&quot;18&quot;</td><td>&quot;11&quot;</td><td>&quot;6&quot;</td><td>&quot;10&quot;</td><td>&quot;2&quot;</td><td>&quot;5&quot;</td><td>&quot;84&quot;</td><td>&quot;54&quot;</td><td>&quot;29&quot;</td><td>&quot;13&quot;</td><td>&quot;11&quot;</td><td>&quot;6&quot;</td><td>&quot;11&quot;</td><td>&quot;139&quot;</td><td>&quot;535&quot;</td><td>&quot;55&quot;</td><td>&quot;1094&quot;</td><td>&quot;Strasbourg_2024&quot;</td></tr><tr><td>&quot;2024-406&quot;</td><td>&quot;Strasbourg&quot;</td><td>&quot;Clay&quot;</td><td>32</td><td>&quot;P&quot;</td><td>2024-05-20</td><td>258</td><td>&quot;222965&quot;</td><td>&quot;8&quot;</td><td>null</td><td>&quot;Erika Andreeva&quot;</td><td>&quot;R&quot;</td><td>null</td><td>&quot;RUS&quot;</td><td>19.9</td><td>&quot;221039&quot;</td><td>null</td><td>null</td><td>&quot;Elsa Jacquemot&quot;</td><td>&quot;R&quot;</td><td>null</td><td>&quot;FRA&quot;</td><td>21.0</td><td>&quot;6-3 6-4&quot;</td><td>3</td><td>&quot;Q1&quot;</td><td>&quot;92&quot;</td><td>&quot;1&quot;</td><td>&quot;3&quot;</td><td>&quot;57&quot;</td><td>&quot;38&quot;</td><td>&quot;25&quot;</td><td>&quot;9&quot;</td><td>&quot;10&quot;</td><td>&quot;4&quot;</td><td>&quot;7&quot;</td><td>&quot;2&quot;</td><td>&quot;3&quot;</td><td>&quot;53&quot;</td><td>&quot;29&quot;</td><td>&quot;14&quot;</td><td>&quot;9&quot;</td><td>&quot;9&quot;</td><td>&quot;1&quot;</td><td>&quot;6&quot;</td><td>&quot;101&quot;</td><td>&quot;744&quot;</td><td>&quot;150&quot;</td><td>&quot;493&quot;</td><td>&quot;Strasbourg_2024&quot;</td></tr></tbody></table></div>"
      ],
      "text/plain": [
       "shape: (512_063, 50)\n",
       "┌────────────┬───────────┬─────────┬───────────┬───┬───────────┬───────────┬───────────┬───────────┐\n",
       "│ tourney_id ┆ tourney_n ┆ surface ┆ draw_size ┆ … ┆ winner_ra ┆ loser_ran ┆ loser_ran ┆ tourney_n │\n",
       "│ ---        ┆ ame       ┆ ---     ┆ ---       ┆   ┆ nk_points ┆ k         ┆ k_points  ┆ ame_date  │\n",
       "│ str        ┆ ---       ┆ str     ┆ i64       ┆   ┆ ---       ┆ ---       ┆ ---       ┆ ---       │\n",
       "│            ┆ str       ┆         ┆           ┆   ┆ str       ┆ str       ┆ str       ┆ str       │\n",
       "╞════════════╪═══════════╪═════════╪═══════════╪═══╪═══════════╪═══════════╪═══════════╪═══════════╡\n",
       "│ 1968-1004  ┆ Bournemou ┆ Clay    ┆ 32        ┆ … ┆ null      ┆ null      ┆ null      ┆ Bournemou │\n",
       "│            ┆ th        ┆         ┆           ┆   ┆           ┆           ┆           ┆ th_1968   │\n",
       "│ 1968-1004  ┆ Bournemou ┆ Clay    ┆ 32        ┆ … ┆ null      ┆ null      ┆ null      ┆ Bournemou │\n",
       "│            ┆ th        ┆         ┆           ┆   ┆           ┆           ┆           ┆ th_1968   │\n",
       "│ 1968-1004  ┆ Bournemou ┆ Clay    ┆ 32        ┆ … ┆ null      ┆ null      ┆ null      ┆ Bournemou │\n",
       "│            ┆ th        ┆         ┆           ┆   ┆           ┆           ┆           ┆ th_1968   │\n",
       "│ 1968-1004  ┆ Bournemou ┆ Clay    ┆ 32        ┆ … ┆ null      ┆ null      ┆ null      ┆ Bournemou │\n",
       "│            ┆ th        ┆         ┆           ┆   ┆           ┆           ┆           ┆ th_1968   │\n",
       "│ 1968-1004  ┆ Bournemou ┆ Clay    ┆ 32        ┆ … ┆ null      ┆ null      ┆ null      ┆ Bournemou │\n",
       "│            ┆ th        ┆         ┆           ┆   ┆           ┆           ┆           ┆ th_1968   │\n",
       "│ …          ┆ …         ┆ …       ┆ …         ┆ … ┆ …         ┆ …         ┆ …         ┆ …         │\n",
       "│ 2024-406   ┆ Strasbour ┆ Clay    ┆ 32        ┆ … ┆ 994       ┆ 264       ┆ 276       ┆ Strasbour │\n",
       "│            ┆ g         ┆         ┆           ┆   ┆           ┆           ┆           ┆ g_2024    │\n",
       "│ 2024-406   ┆ Strasbour ┆ Clay    ┆ 32        ┆ … ┆ 1108      ┆ 244       ┆ 304       ┆ Strasbour │\n",
       "│            ┆ g         ┆         ┆           ┆   ┆           ┆           ┆           ┆ g_2024    │\n",
       "│ 2024-406   ┆ Strasbour ┆ Clay    ┆ 32        ┆ … ┆ 820       ┆ 273       ┆ 266       ┆ Strasbour │\n",
       "│            ┆ g         ┆         ┆           ┆   ┆           ┆           ┆           ┆ g_2024    │\n",
       "│ 2024-406   ┆ Strasbour ┆ Clay    ┆ 32        ┆ … ┆ 535       ┆ 55        ┆ 1094      ┆ Strasbour │\n",
       "│            ┆ g         ┆         ┆           ┆   ┆           ┆           ┆           ┆ g_2024    │\n",
       "│ 2024-406   ┆ Strasbour ┆ Clay    ┆ 32        ┆ … ┆ 744       ┆ 150       ┆ 493       ┆ Strasbour │\n",
       "│            ┆ g         ┆         ┆           ┆   ┆           ┆           ┆           ┆ g_2024    │\n",
       "└────────────┴───────────┴─────────┴───────────┴───┴───────────┴───────────┴───────────┴───────────┘"
      ]
     },
     "execution_count": 16,
     "metadata": {},
     "output_type": "execute_result"
    }
   ],
   "source": [
    "matches_qualifiers_itf=import_tennis_matches(data_type=\"qualifiers_itf\",gender=\"wta\")\n",
    "\n",
    "matches_qualifiers_itf = matches_qualifiers_itf.with_columns(\n",
    "    (pl.col(\"tourney_name\") + \"_\" + pl.col(\"tourney_date\").dt.year().cast(pl.Utf8)).alias(\"tourney_name_date\")\n",
    ")\n",
    "matches_qualifiers_itf"
   ]
  },
  {
   "cell_type": "code",
   "execution_count": 17,
   "metadata": {},
   "outputs": [
    {
     "data": {
      "text/html": [
       "<div><style>\n",
       ".dataframe > thead > tr,\n",
       ".dataframe > tbody > tr {\n",
       "  text-align: right;\n",
       "  white-space: pre-wrap;\n",
       "}\n",
       "</style>\n",
       "<small>shape: (512_063, 51)</small><table border=\"1\" class=\"dataframe\"><thead><tr><th>tourney_id</th><th>tourney_name</th><th>surface</th><th>draw_size</th><th>tourney_level</th><th>tourney_date</th><th>match_num</th><th>winner_id</th><th>winner_seed</th><th>winner_entry</th><th>winner_name</th><th>winner_hand</th><th>winner_ht</th><th>winner_ioc</th><th>winner_age</th><th>loser_id</th><th>loser_seed</th><th>loser_entry</th><th>loser_name</th><th>loser_hand</th><th>loser_ht</th><th>loser_ioc</th><th>loser_age</th><th>score</th><th>best_of</th><th>round</th><th>minutes</th><th>w_ace</th><th>w_df</th><th>w_svpt</th><th>w_1stIn</th><th>w_1stWon</th><th>w_2ndWon</th><th>w_SvGms</th><th>w_bpSaved</th><th>w_bpFaced</th><th>l_ace</th><th>l_df</th><th>l_svpt</th><th>l_1stIn</th><th>l_1stWon</th><th>l_2ndWon</th><th>l_SvGms</th><th>l_bpSaved</th><th>l_bpFaced</th><th>winner_rank</th><th>winner_rank_points</th><th>loser_rank</th><th>loser_rank_points</th><th>tourney_name_date</th><th>monetary_winnings</th></tr><tr><td>str</td><td>str</td><td>str</td><td>i64</td><td>str</td><td>date</td><td>i64</td><td>str</td><td>str</td><td>str</td><td>str</td><td>str</td><td>i64</td><td>str</td><td>f64</td><td>str</td><td>str</td><td>str</td><td>str</td><td>str</td><td>i64</td><td>str</td><td>f64</td><td>str</td><td>i64</td><td>str</td><td>str</td><td>str</td><td>str</td><td>str</td><td>str</td><td>str</td><td>str</td><td>str</td><td>str</td><td>str</td><td>str</td><td>str</td><td>str</td><td>str</td><td>str</td><td>str</td><td>str</td><td>str</td><td>str</td><td>str</td><td>str</td><td>str</td><td>str</td><td>str</td><td>i64</td></tr></thead><tbody><tr><td>&quot;1968-1004&quot;</td><td>&quot;Bournemouth&quot;</td><td>&quot;Clay&quot;</td><td>32</td><td>&quot;W&quot;</td><td>1968-04-22</td><td>201</td><td>&quot;200810&quot;</td><td>&quot;5&quot;</td><td>null</td><td>&quot;Annette Van Zyl&quot;</td><td>&quot;R&quot;</td><td>180</td><td>&quot;RSA&quot;</td><td>24.5</td><td>&quot;201114&quot;</td><td>null</td><td>null</td><td>&quot;Robin Lloyd&quot;</td><td>&quot;U&quot;</td><td>null</td><td>&quot;GBR&quot;</td><td>24.1</td><td>&quot;6-3 6-4&quot;</td><td>3</td><td>&quot;Q1&quot;</td><td>null</td><td>null</td><td>null</td><td>null</td><td>null</td><td>null</td><td>null</td><td>null</td><td>null</td><td>null</td><td>null</td><td>null</td><td>null</td><td>null</td><td>null</td><td>null</td><td>null</td><td>null</td><td>null</td><td>null</td><td>null</td><td>null</td><td>null</td><td>&quot;Bournemouth_1968&quot;</td><td>null</td></tr><tr><td>&quot;1968-1004&quot;</td><td>&quot;Bournemouth&quot;</td><td>&quot;Clay&quot;</td><td>32</td><td>&quot;W&quot;</td><td>1968-04-22</td><td>202</td><td>&quot;223881&quot;</td><td>null</td><td>null</td><td>&quot;Dianne Bridger&quot;</td><td>&quot;U&quot;</td><td>null</td><td>&quot;GBR&quot;</td><td>null</td><td>&quot;213882&quot;</td><td>null</td><td>null</td><td>&quot;Lena Reichel&quot;</td><td>&quot;U&quot;</td><td>null</td><td>&quot;AUT&quot;</td><td>-29.0</td><td>&quot;6-1 8-6&quot;</td><td>3</td><td>&quot;Q1&quot;</td><td>null</td><td>null</td><td>null</td><td>null</td><td>null</td><td>null</td><td>null</td><td>null</td><td>null</td><td>null</td><td>null</td><td>null</td><td>null</td><td>null</td><td>null</td><td>null</td><td>null</td><td>null</td><td>null</td><td>null</td><td>null</td><td>null</td><td>null</td><td>&quot;Bournemouth_1968&quot;</td><td>null</td></tr><tr><td>&quot;1968-1004&quot;</td><td>&quot;Bournemouth&quot;</td><td>&quot;Clay&quot;</td><td>32</td><td>&quot;W&quot;</td><td>1968-04-22</td><td>203</td><td>&quot;216633&quot;</td><td>null</td><td>null</td><td>&quot;Mary Mcanally&quot;</td><td>&quot;U&quot;</td><td>null</td><td>&quot;GBR&quot;</td><td>23.0</td><td>&quot;223997&quot;</td><td>null</td><td>null</td><td>&quot;Sandra Okin&quot;</td><td>&quot;U&quot;</td><td>null</td><td>&quot;GBR&quot;</td><td>null</td><td>&quot;3-6 6-4 6-2&quot;</td><td>3</td><td>&quot;Q1&quot;</td><td>null</td><td>null</td><td>null</td><td>null</td><td>null</td><td>null</td><td>null</td><td>null</td><td>null</td><td>null</td><td>null</td><td>null</td><td>null</td><td>null</td><td>null</td><td>null</td><td>null</td><td>null</td><td>null</td><td>null</td><td>null</td><td>null</td><td>null</td><td>&quot;Bournemouth_1968&quot;</td><td>null</td></tr><tr><td>&quot;1968-1004&quot;</td><td>&quot;Bournemouth&quot;</td><td>&quot;Clay&quot;</td><td>32</td><td>&quot;W&quot;</td><td>1968-04-22</td><td>204</td><td>&quot;223659&quot;</td><td>null</td><td>null</td><td>&quot;Heather Allen&quot;</td><td>&quot;U&quot;</td><td>null</td><td>&quot;GBR&quot;</td><td>3.8</td><td>&quot;224029&quot;</td><td>null</td><td>null</td><td>&quot;Jane Poynder&quot;</td><td>&quot;U&quot;</td><td>null</td><td>&quot;GBR&quot;</td><td>null</td><td>&quot;6-3 6-4&quot;</td><td>3</td><td>&quot;Q1&quot;</td><td>null</td><td>null</td><td>null</td><td>null</td><td>null</td><td>null</td><td>null</td><td>null</td><td>null</td><td>null</td><td>null</td><td>null</td><td>null</td><td>null</td><td>null</td><td>null</td><td>null</td><td>null</td><td>null</td><td>null</td><td>null</td><td>null</td><td>null</td><td>&quot;Bournemouth_1968&quot;</td><td>null</td></tr><tr><td>&quot;1968-1004&quot;</td><td>&quot;Bournemouth&quot;</td><td>&quot;Clay&quot;</td><td>32</td><td>&quot;W&quot;</td><td>1968-04-22</td><td>205</td><td>&quot;201121&quot;</td><td>null</td><td>null</td><td>&quot;Sue Tutt&quot;</td><td>&quot;U&quot;</td><td>null</td><td>&quot;GBR&quot;</td><td>null</td><td>&quot;201117&quot;</td><td>null</td><td>null</td><td>&quot;Margaret Harris&quot;</td><td>&quot;R&quot;</td><td>null</td><td>&quot;AUS&quot;</td><td>23.1</td><td>&quot;2-6 6-1 6-1&quot;</td><td>3</td><td>&quot;Q1&quot;</td><td>null</td><td>null</td><td>null</td><td>null</td><td>null</td><td>null</td><td>null</td><td>null</td><td>null</td><td>null</td><td>null</td><td>null</td><td>null</td><td>null</td><td>null</td><td>null</td><td>null</td><td>null</td><td>null</td><td>null</td><td>null</td><td>null</td><td>null</td><td>&quot;Bournemouth_1968&quot;</td><td>null</td></tr><tr><td>&hellip;</td><td>&hellip;</td><td>&hellip;</td><td>&hellip;</td><td>&hellip;</td><td>&hellip;</td><td>&hellip;</td><td>&hellip;</td><td>&hellip;</td><td>&hellip;</td><td>&hellip;</td><td>&hellip;</td><td>&hellip;</td><td>&hellip;</td><td>&hellip;</td><td>&hellip;</td><td>&hellip;</td><td>&hellip;</td><td>&hellip;</td><td>&hellip;</td><td>&hellip;</td><td>&hellip;</td><td>&hellip;</td><td>&hellip;</td><td>&hellip;</td><td>&hellip;</td><td>&hellip;</td><td>&hellip;</td><td>&hellip;</td><td>&hellip;</td><td>&hellip;</td><td>&hellip;</td><td>&hellip;</td><td>&hellip;</td><td>&hellip;</td><td>&hellip;</td><td>&hellip;</td><td>&hellip;</td><td>&hellip;</td><td>&hellip;</td><td>&hellip;</td><td>&hellip;</td><td>&hellip;</td><td>&hellip;</td><td>&hellip;</td><td>&hellip;</td><td>&hellip;</td><td>&hellip;</td><td>&hellip;</td><td>&hellip;</td><td>&hellip;</td></tr><tr><td>&quot;2024-406&quot;</td><td>&quot;Strasbourg&quot;</td><td>&quot;Clay&quot;</td><td>32</td><td>&quot;P&quot;</td><td>2024-05-20</td><td>262</td><td>&quot;221909&quot;</td><td>&quot;5&quot;</td><td>null</td><td>&quot;Ashlyn Krueger&quot;</td><td>&quot;R&quot;</td><td>185</td><td>&quot;USA&quot;</td><td>20.0</td><td>&quot;201329&quot;</td><td>null</td><td>&quot;ALT&quot;</td><td>&quot;Vera Zvonareva&quot;</td><td>&quot;R&quot;</td><td>172</td><td>&quot;RUS&quot;</td><td>39.6</td><td>&quot;6-0 6-0&quot;</td><td>3</td><td>&quot;Q1&quot;</td><td>&quot;52&quot;</td><td>&quot;1&quot;</td><td>&quot;3&quot;</td><td>&quot;38&quot;</td><td>&quot;30&quot;</td><td>&quot;23&quot;</td><td>&quot;4&quot;</td><td>&quot;6&quot;</td><td>&quot;4&quot;</td><td>&quot;4&quot;</td><td>&quot;0&quot;</td><td>&quot;4&quot;</td><td>&quot;38&quot;</td><td>&quot;25&quot;</td><td>&quot;9&quot;</td><td>&quot;1&quot;</td><td>&quot;6&quot;</td><td>&quot;3&quot;</td><td>&quot;9&quot;</td><td>&quot;65&quot;</td><td>&quot;994&quot;</td><td>&quot;264&quot;</td><td>&quot;276&quot;</td><td>&quot;Strasbourg_2024&quot;</td><td>null</td></tr><tr><td>&quot;2024-406&quot;</td><td>&quot;Strasbourg&quot;</td><td>&quot;Clay&quot;</td><td>32</td><td>&quot;P&quot;</td><td>2024-05-20</td><td>261</td><td>&quot;211684&quot;</td><td>&quot;3&quot;</td><td>null</td><td>&quot;Magdalena Frech&quot;</td><td>&quot;R&quot;</td><td>171</td><td>&quot;POL&quot;</td><td>26.4</td><td>&quot;221116&quot;</td><td>null</td><td>null</td><td>&quot;Jana Kolodynska&quot;</td><td>&quot;R&quot;</td><td>null</td><td>&quot;BLR&quot;</td><td>20.7</td><td>&quot;6-2 6-1&quot;</td><td>3</td><td>&quot;Q1&quot;</td><td>&quot;75&quot;</td><td>&quot;0&quot;</td><td>&quot;0&quot;</td><td>&quot;51&quot;</td><td>&quot;33&quot;</td><td>&quot;21&quot;</td><td>&quot;15&quot;</td><td>&quot;7&quot;</td><td>&quot;2&quot;</td><td>&quot;2&quot;</td><td>&quot;0&quot;</td><td>&quot;4&quot;</td><td>&quot;58&quot;</td><td>&quot;39&quot;</td><td>&quot;20&quot;</td><td>&quot;6&quot;</td><td>&quot;8&quot;</td><td>&quot;7&quot;</td><td>&quot;12&quot;</td><td>&quot;54&quot;</td><td>&quot;1108&quot;</td><td>&quot;244&quot;</td><td>&quot;304&quot;</td><td>&quot;Strasbourg_2024&quot;</td><td>null</td></tr><tr><td>&quot;2024-406&quot;</td><td>&quot;Strasbourg&quot;</td><td>&quot;Clay&quot;</td><td>32</td><td>&quot;P&quot;</td><td>2024-05-20</td><td>260</td><td>&quot;201611&quot;</td><td>&quot;7&quot;</td><td>null</td><td>&quot;Daria Saville&quot;</td><td>&quot;R&quot;</td><td>166</td><td>&quot;AUS&quot;</td><td>30.2</td><td>&quot;203281&quot;</td><td>null</td><td>&quot;WC&quot;</td><td>&quot;Amandine Hesse&quot;</td><td>&quot;R&quot;</td><td>164</td><td>&quot;FRA&quot;</td><td>31.3</td><td>&quot;6-1 6-1&quot;</td><td>3</td><td>&quot;Q1&quot;</td><td>&quot;63&quot;</td><td>&quot;0&quot;</td><td>&quot;1&quot;</td><td>&quot;41&quot;</td><td>&quot;27&quot;</td><td>&quot;21&quot;</td><td>&quot;10&quot;</td><td>&quot;7&quot;</td><td>&quot;3&quot;</td><td>&quot;3&quot;</td><td>&quot;1&quot;</td><td>&quot;1&quot;</td><td>&quot;49&quot;</td><td>&quot;33&quot;</td><td>&quot;14&quot;</td><td>&quot;7&quot;</td><td>&quot;7&quot;</td><td>&quot;6&quot;</td><td>&quot;11&quot;</td><td>&quot;85&quot;</td><td>&quot;820&quot;</td><td>&quot;273&quot;</td><td>&quot;266&quot;</td><td>&quot;Strasbourg_2024&quot;</td><td>null</td></tr><tr><td>&quot;2024-406&quot;</td><td>&quot;Strasbourg&quot;</td><td>&quot;Clay&quot;</td><td>32</td><td>&quot;P&quot;</td><td>2024-05-20</td><td>259</td><td>&quot;203564&quot;</td><td>null</td><td>null</td><td>&quot;Chloe Paquet&quot;</td><td>&quot;R&quot;</td><td>179</td><td>&quot;FRA&quot;</td><td>29.8</td><td>&quot;213550&quot;</td><td>&quot;4&quot;</td><td>null</td><td>&quot;Sofia Kenin&quot;</td><td>&quot;R&quot;</td><td>170</td><td>&quot;USA&quot;</td><td>25.5</td><td>&quot;6-4 7-6(4)&quot;</td><td>3</td><td>&quot;Q1&quot;</td><td>&quot;118&quot;</td><td>&quot;17&quot;</td><td>&quot;10&quot;</td><td>&quot;97&quot;</td><td>&quot;47&quot;</td><td>&quot;35&quot;</td><td>&quot;18&quot;</td><td>&quot;11&quot;</td><td>&quot;6&quot;</td><td>&quot;10&quot;</td><td>&quot;2&quot;</td><td>&quot;5&quot;</td><td>&quot;84&quot;</td><td>&quot;54&quot;</td><td>&quot;29&quot;</td><td>&quot;13&quot;</td><td>&quot;11&quot;</td><td>&quot;6&quot;</td><td>&quot;11&quot;</td><td>&quot;139&quot;</td><td>&quot;535&quot;</td><td>&quot;55&quot;</td><td>&quot;1094&quot;</td><td>&quot;Strasbourg_2024&quot;</td><td>null</td></tr><tr><td>&quot;2024-406&quot;</td><td>&quot;Strasbourg&quot;</td><td>&quot;Clay&quot;</td><td>32</td><td>&quot;P&quot;</td><td>2024-05-20</td><td>258</td><td>&quot;222965&quot;</td><td>&quot;8&quot;</td><td>null</td><td>&quot;Erika Andreeva&quot;</td><td>&quot;R&quot;</td><td>null</td><td>&quot;RUS&quot;</td><td>19.9</td><td>&quot;221039&quot;</td><td>null</td><td>null</td><td>&quot;Elsa Jacquemot&quot;</td><td>&quot;R&quot;</td><td>null</td><td>&quot;FRA&quot;</td><td>21.0</td><td>&quot;6-3 6-4&quot;</td><td>3</td><td>&quot;Q1&quot;</td><td>&quot;92&quot;</td><td>&quot;1&quot;</td><td>&quot;3&quot;</td><td>&quot;57&quot;</td><td>&quot;38&quot;</td><td>&quot;25&quot;</td><td>&quot;9&quot;</td><td>&quot;10&quot;</td><td>&quot;4&quot;</td><td>&quot;7&quot;</td><td>&quot;2&quot;</td><td>&quot;3&quot;</td><td>&quot;53&quot;</td><td>&quot;29&quot;</td><td>&quot;14&quot;</td><td>&quot;9&quot;</td><td>&quot;9&quot;</td><td>&quot;1&quot;</td><td>&quot;6&quot;</td><td>&quot;101&quot;</td><td>&quot;744&quot;</td><td>&quot;150&quot;</td><td>&quot;493&quot;</td><td>&quot;Strasbourg_2024&quot;</td><td>null</td></tr></tbody></table></div>"
      ],
      "text/plain": [
       "shape: (512_063, 51)\n",
       "┌────────────┬───────────┬─────────┬───────────┬───┬───────────┬───────────┬───────────┬───────────┐\n",
       "│ tourney_id ┆ tourney_n ┆ surface ┆ draw_size ┆ … ┆ loser_ran ┆ loser_ran ┆ tourney_n ┆ monetary_ │\n",
       "│ ---        ┆ ame       ┆ ---     ┆ ---       ┆   ┆ k         ┆ k_points  ┆ ame_date  ┆ winnings  │\n",
       "│ str        ┆ ---       ┆ str     ┆ i64       ┆   ┆ ---       ┆ ---       ┆ ---       ┆ ---       │\n",
       "│            ┆ str       ┆         ┆           ┆   ┆ str       ┆ str       ┆ str       ┆ i64       │\n",
       "╞════════════╪═══════════╪═════════╪═══════════╪═══╪═══════════╪═══════════╪═══════════╪═══════════╡\n",
       "│ 1968-1004  ┆ Bournemou ┆ Clay    ┆ 32        ┆ … ┆ null      ┆ null      ┆ Bournemou ┆ null      │\n",
       "│            ┆ th        ┆         ┆           ┆   ┆           ┆           ┆ th_1968   ┆           │\n",
       "│ 1968-1004  ┆ Bournemou ┆ Clay    ┆ 32        ┆ … ┆ null      ┆ null      ┆ Bournemou ┆ null      │\n",
       "│            ┆ th        ┆         ┆           ┆   ┆           ┆           ┆ th_1968   ┆           │\n",
       "│ 1968-1004  ┆ Bournemou ┆ Clay    ┆ 32        ┆ … ┆ null      ┆ null      ┆ Bournemou ┆ null      │\n",
       "│            ┆ th        ┆         ┆           ┆   ┆           ┆           ┆ th_1968   ┆           │\n",
       "│ 1968-1004  ┆ Bournemou ┆ Clay    ┆ 32        ┆ … ┆ null      ┆ null      ┆ Bournemou ┆ null      │\n",
       "│            ┆ th        ┆         ┆           ┆   ┆           ┆           ┆ th_1968   ┆           │\n",
       "│ 1968-1004  ┆ Bournemou ┆ Clay    ┆ 32        ┆ … ┆ null      ┆ null      ┆ Bournemou ┆ null      │\n",
       "│            ┆ th        ┆         ┆           ┆   ┆           ┆           ┆ th_1968   ┆           │\n",
       "│ …          ┆ …         ┆ …       ┆ …         ┆ … ┆ …         ┆ …         ┆ …         ┆ …         │\n",
       "│ 2024-406   ┆ Strasbour ┆ Clay    ┆ 32        ┆ … ┆ 264       ┆ 276       ┆ Strasbour ┆ null      │\n",
       "│            ┆ g         ┆         ┆           ┆   ┆           ┆           ┆ g_2024    ┆           │\n",
       "│ 2024-406   ┆ Strasbour ┆ Clay    ┆ 32        ┆ … ┆ 244       ┆ 304       ┆ Strasbour ┆ null      │\n",
       "│            ┆ g         ┆         ┆           ┆   ┆           ┆           ┆ g_2024    ┆           │\n",
       "│ 2024-406   ┆ Strasbour ┆ Clay    ┆ 32        ┆ … ┆ 273       ┆ 266       ┆ Strasbour ┆ null      │\n",
       "│            ┆ g         ┆         ┆           ┆   ┆           ┆           ┆ g_2024    ┆           │\n",
       "│ 2024-406   ┆ Strasbour ┆ Clay    ┆ 32        ┆ … ┆ 55        ┆ 1094      ┆ Strasbour ┆ null      │\n",
       "│            ┆ g         ┆         ┆           ┆   ┆           ┆           ┆ g_2024    ┆           │\n",
       "│ 2024-406   ┆ Strasbour ┆ Clay    ┆ 32        ┆ … ┆ 150       ┆ 493       ┆ Strasbour ┆ null      │\n",
       "│            ┆ g         ┆         ┆           ┆   ┆           ┆           ┆ g_2024    ┆           │\n",
       "└────────────┴───────────┴─────────┴───────────┴───┴───────────┴───────────┴───────────┴───────────┘"
      ]
     },
     "execution_count": 17,
     "metadata": {},
     "output_type": "execute_result"
    }
   ],
   "source": [
    "#Creazione di colonna dove mettere le possibili vincite con ciclo for aggregato\n",
    "\n",
    "# Liste per salvare i risultati\n",
    "new_values = []\n",
    "updated_col1 = []\n",
    "\n",
    "# Itera su tutte le righe\n",
    "for value in matches_qualifiers_itf[\"tourney_name\"]:\n",
    "    if value.startswith(\"W\") and len(value) > 1 and value[1:].split()[0].isdigit():  # Controlla 'W' e numero\n",
    "        parts = value.split(maxsplit=1)  # Dividi al primo spazio\n",
    "        new_values.append(int(parts[0][1:]) * 1000)  # Moltiplica il numero per 1000\n",
    "        updated_col1.append(parts[1] if len(parts) > 1 else None)  # Rimuovi 'W<num>' e mantieni il resto\n",
    "    else:\n",
    "        new_values.append(None)  # Altrimenti, None nella nuova colonna\n",
    "        updated_col1.append(value)  # Mantieni il valore originale\n",
    "\n",
    "# Aggiorna il DataFrame con le due colonne\n",
    "matches_qualifiers_itf = matches_qualifiers_itf.with_columns([\n",
    "    pl.Series(\"tourney_name\", updated_col1),\n",
    "    pl.Series(\"monetary_winnings\", new_values),\n",
    "])\n",
    "matches_qualifiers_itf"
   ]
  },
  {
   "cell_type": "code",
   "execution_count": 18,
   "metadata": {},
   "outputs": [
    {
     "data": {
      "text/html": [
       "<div><style>\n",
       ".dataframe > thead > tr,\n",
       ".dataframe > tbody > tr {\n",
       "  text-align: right;\n",
       "  white-space: pre-wrap;\n",
       "}\n",
       "</style>\n",
       "<small>shape: (12_160, 6)</small><table border=\"1\" class=\"dataframe\"><thead><tr><th>tourney_name</th><th>surface</th><th>draw_size</th><th>tourney_level</th><th>tourney_date</th><th>tourney_name_date</th></tr><tr><td>str</td><td>str</td><td>i64</td><td>str</td><td>date</td><td>str</td></tr></thead><tbody><tr><td>&quot;Houston&quot;</td><td>&quot;Clay&quot;</td><td>32</td><td>&quot;W&quot;</td><td>1989-04-24</td><td>&quot;Houston_1989&quot;</td></tr><tr><td>&quot;Amelia Island FL 10K&quot;</td><td>&quot;Clay&quot;</td><td>32</td><td>&quot;10&quot;</td><td>2011-09-26</td><td>&quot;Amelia Island FL 10K_2011&quot;</td></tr><tr><td>&quot;Evansville 10K&quot;</td><td>&quot;Hard&quot;</td><td>32</td><td>&quot;10&quot;</td><td>1999-07-12</td><td>&quot;Evansville 10K_1999&quot;</td></tr><tr><td>&quot;Denver&quot;</td><td>&quot;Hard&quot;</td><td>32</td><td>&quot;W&quot;</td><td>1972-08-14</td><td>&quot;Denver_1972&quot;</td></tr><tr><td>&quot;Birmingham&quot;</td><td>&quot;Grass&quot;</td><td>56</td><td>&quot;W&quot;</td><td>1983-06-03</td><td>&quot;Birmingham_1983&quot;</td></tr><tr><td>&hellip;</td><td>&hellip;</td><td>&hellip;</td><td>&hellip;</td><td>&hellip;</td><td>&hellip;</td></tr><tr><td>&quot;ITF Mexico City 1&quot;</td><td>&quot;Hard&quot;</td><td>16</td><td>&quot;C&quot;</td><td>1992-09-07</td><td>&quot;ITF Mexico City 1_1992&quot;</td></tr><tr><td>&quot;ITF Murska&quot;</td><td>&quot;Clay&quot;</td><td>32</td><td>&quot;C&quot;</td><td>1993-06-07</td><td>&quot;ITF Murska_1993&quot;</td></tr><tr><td>&quot;Memphis&quot;</td><td>&quot;Hard&quot;</td><td>32</td><td>&quot;T3&quot;</td><td>2008-02-25</td><td>&quot;Memphis_2008&quot;</td></tr><tr><td>&quot;Lima 10K&quot;</td><td>&quot;Clay&quot;</td><td>32</td><td>&quot;10&quot;</td><td>2009-03-16</td><td>&quot;Lima 10K_2009&quot;</td></tr><tr><td>&quot;Bali&quot;</td><td>&quot;Hard&quot;</td><td>30</td><td>&quot;T3&quot;</td><td>2007-09-10</td><td>&quot;Bali_2007&quot;</td></tr></tbody></table></div>"
      ],
      "text/plain": [
       "shape: (12_160, 6)\n",
       "┌──────────────────────┬─────────┬───────────┬───────────────┬──────────────┬──────────────────────┐\n",
       "│ tourney_name         ┆ surface ┆ draw_size ┆ tourney_level ┆ tourney_date ┆ tourney_name_date    │\n",
       "│ ---                  ┆ ---     ┆ ---       ┆ ---           ┆ ---          ┆ ---                  │\n",
       "│ str                  ┆ str     ┆ i64       ┆ str           ┆ date         ┆ str                  │\n",
       "╞══════════════════════╪═════════╪═══════════╪═══════════════╪══════════════╪══════════════════════╡\n",
       "│ Houston              ┆ Clay    ┆ 32        ┆ W             ┆ 1989-04-24   ┆ Houston_1989         │\n",
       "│ Amelia Island FL 10K ┆ Clay    ┆ 32        ┆ 10            ┆ 2011-09-26   ┆ Amelia Island FL     │\n",
       "│                      ┆         ┆           ┆               ┆              ┆ 10K_2011             │\n",
       "│ Evansville 10K       ┆ Hard    ┆ 32        ┆ 10            ┆ 1999-07-12   ┆ Evansville 10K_1999  │\n",
       "│ Denver               ┆ Hard    ┆ 32        ┆ W             ┆ 1972-08-14   ┆ Denver_1972          │\n",
       "│ Birmingham           ┆ Grass   ┆ 56        ┆ W             ┆ 1983-06-03   ┆ Birmingham_1983      │\n",
       "│ …                    ┆ …       ┆ …         ┆ …             ┆ …            ┆ …                    │\n",
       "│ ITF Mexico City 1    ┆ Hard    ┆ 16        ┆ C             ┆ 1992-09-07   ┆ ITF Mexico City      │\n",
       "│                      ┆         ┆           ┆               ┆              ┆ 1_1992               │\n",
       "│ ITF Murska           ┆ Clay    ┆ 32        ┆ C             ┆ 1993-06-07   ┆ ITF Murska_1993      │\n",
       "│ Memphis              ┆ Hard    ┆ 32        ┆ T3            ┆ 2008-02-25   ┆ Memphis_2008         │\n",
       "│ Lima 10K             ┆ Clay    ┆ 32        ┆ 10            ┆ 2009-03-16   ┆ Lima 10K_2009        │\n",
       "│ Bali                 ┆ Hard    ┆ 30        ┆ T3            ┆ 2007-09-10   ┆ Bali_2007            │\n",
       "└──────────────────────┴─────────┴───────────┴───────────────┴──────────────┴──────────────────────┘"
      ]
     },
     "execution_count": 18,
     "metadata": {},
     "output_type": "execute_result"
    }
   ],
   "source": [
    "tourney_qualifiers_itf=matches_qualifiers_itf[['tourney_name', 'surface', 'draw_size', 'tourney_level', 'tourney_date', 'tourney_name_date']]\n",
    "\n",
    "tourney_qualifiers_itf=tourney_qualifiers_itf.unique('tourney_name_date')\n",
    "tourney_qualifiers_itf"
   ]
  },
  {
   "cell_type": "code",
   "execution_count": 19,
   "metadata": {},
   "outputs": [
    {
     "data": {
      "text/html": [
       "<div><style>\n",
       ".dataframe > thead > tr,\n",
       ".dataframe > tbody > tr {\n",
       "  text-align: right;\n",
       "  white-space: pre-wrap;\n",
       "}\n",
       "</style>\n",
       "<small>shape: (26_399, 66)</small><table border=\"1\" class=\"dataframe\"><thead><tr><th>tourney_id</th><th>tourney_name</th><th>surface</th><th>draw_size</th><th>tourney_level</th><th>tourney_date</th><th>match_num</th><th>winner1_id</th><th>winner2_id</th><th>winner_seed</th><th>winner_entry</th><th>loser1_id</th><th>loser2_id</th><th>loser_seed</th><th>loser_entry</th><th>score</th><th>best_of</th><th>round</th><th>winner1_name</th><th>winner1_hand</th><th>winner1_ht</th><th>winner1_ioc</th><th>winner1_age</th><th>winner2_name</th><th>winner2_hand</th><th>winner2_ht</th><th>winner2_ioc</th><th>winner2_age</th><th>loser1_name</th><th>loser1_hand</th><th>loser1_ht</th><th>loser1_ioc</th><th>loser1_age</th><th>loser2_name</th><th>loser2_hand</th><th>loser2_ht</th><th>loser2_ioc</th><th>loser2_age</th><th>winner1_rank</th><th>winner1_rank_points</th><th>winner2_rank</th><th>winner2_rank_points</th><th>loser1_rank</th><th>loser1_rank_points</th><th>loser2_rank</th><th>loser2_rank_points</th><th>minutes</th><th>w_ace</th><th>w_df</th><th>w_svpt</th><th>w_1stIn</th><th>w_1stWon</th><th>w_2ndWon</th><th>w_SvGms</th><th>w_bpSaved</th><th>w_bpFaced</th><th>l_ace</th><th>l_df</th><th>l_svpt</th><th>l_1stIn</th><th>l_1stWon</th><th>l_2ndWon</th><th>l_SvGms</th><th>l_bpSaved</th><th>l_bpFaced</th><th>tourney_name_date</th></tr><tr><td>str</td><td>str</td><td>str</td><td>i64</td><td>str</td><td>date</td><td>i64</td><td>str</td><td>str</td><td>str</td><td>str</td><td>str</td><td>str</td><td>str</td><td>str</td><td>str</td><td>i64</td><td>str</td><td>str</td><td>str</td><td>i64</td><td>str</td><td>f64</td><td>str</td><td>str</td><td>i64</td><td>str</td><td>f64</td><td>str</td><td>str</td><td>i64</td><td>str</td><td>f64</td><td>str</td><td>str</td><td>i64</td><td>str</td><td>f64</td><td>i64</td><td>i64</td><td>i64</td><td>i64</td><td>i64</td><td>i64</td><td>i64</td><td>i64</td><td>str</td><td>str</td><td>str</td><td>str</td><td>str</td><td>str</td><td>str</td><td>str</td><td>str</td><td>str</td><td>str</td><td>str</td><td>str</td><td>str</td><td>str</td><td>str</td><td>str</td><td>str</td><td>str</td><td>str</td></tr></thead><tbody><tr><td>&quot;2000-301&quot;</td><td>&quot;Auckland&quot;</td><td>&quot;Hard&quot;</td><td>32</td><td>&quot;A&quot;</td><td>2000-01-10</td><td>300</td><td>&quot;101704&quot;</td><td>&quot;101097&quot;</td><td>&quot;1&quot;</td><td>null</td><td>&quot;101358&quot;</td><td>&quot;101543&quot;</td><td>&quot;2&quot;</td><td>null</td><td>&quot;7-5 6-4&quot;</td><td>3</td><td>&quot;F&quot;</td><td>&quot;Ellis Ferreira&quot;</td><td>&quot;L&quot;</td><td>188</td><td>&quot;RSA&quot;</td><td>29.889117</td><td>&quot;Rick Leach&quot;</td><td>&quot;L&quot;</td><td>188</td><td>&quot;USA&quot;</td><td>35.033539</td><td>&quot;Olivier Delaitre&quot;</td><td>&quot;R&quot;</td><td>170</td><td>&quot;FRA&quot;</td><td>32.610541</td><td>&quot;Jeff Tarango&quot;</td><td>&quot;L&quot;</td><td>180</td><td>&quot;USA&quot;</td><td>31.137577</td><td>13</td><td>0</td><td>15</td><td>0</td><td>16</td><td>0</td><td>17</td><td>0</td><td>null</td><td>null</td><td>null</td><td>null</td><td>null</td><td>null</td><td>null</td><td>null</td><td>null</td><td>null</td><td>null</td><td>null</td><td>null</td><td>null</td><td>null</td><td>null</td><td>null</td><td>null</td><td>null</td><td>&quot;Auckland_2000&quot;</td></tr><tr><td>&quot;2000-301&quot;</td><td>&quot;Auckland&quot;</td><td>&quot;Hard&quot;</td><td>32</td><td>&quot;A&quot;</td><td>2000-01-10</td><td>299</td><td>&quot;101704&quot;</td><td>&quot;101097&quot;</td><td>&quot;1&quot;</td><td>null</td><td>&quot;102562&quot;</td><td>&quot;101866&quot;</td><td>&quot;3&quot;</td><td>null</td><td>&quot;6-2 6-4&quot;</td><td>3</td><td>&quot;SF&quot;</td><td>&quot;Ellis Ferreira&quot;</td><td>&quot;L&quot;</td><td>188</td><td>&quot;RSA&quot;</td><td>29.889117</td><td>&quot;Rick Leach&quot;</td><td>&quot;L&quot;</td><td>188</td><td>&quot;USA&quot;</td><td>35.033539</td><td>&quot;Jiri Novak&quot;</td><td>&quot;R&quot;</td><td>190</td><td>&quot;CZE&quot;</td><td>24.804928</td><td>&quot;David Rikl&quot;</td><td>&quot;L&quot;</td><td>178</td><td>&quot;CZE&quot;</td><td>28.867899</td><td>13</td><td>0</td><td>15</td><td>0</td><td>34</td><td>0</td><td>29</td><td>0</td><td>null</td><td>null</td><td>null</td><td>null</td><td>null</td><td>null</td><td>null</td><td>null</td><td>null</td><td>null</td><td>null</td><td>null</td><td>null</td><td>null</td><td>null</td><td>null</td><td>null</td><td>null</td><td>null</td><td>&quot;Auckland_2000&quot;</td></tr><tr><td>&quot;2000-301&quot;</td><td>&quot;Auckland&quot;</td><td>&quot;Hard&quot;</td><td>32</td><td>&quot;A&quot;</td><td>2000-01-10</td><td>298</td><td>&quot;101358&quot;</td><td>&quot;101543&quot;</td><td>&quot;2&quot;</td><td>null</td><td>&quot;102664&quot;</td><td>&quot;101779&quot;</td><td>null</td><td>null</td><td>&quot;6-3 6-4&quot;</td><td>3</td><td>&quot;SF&quot;</td><td>&quot;Olivier Delaitre&quot;</td><td>&quot;R&quot;</td><td>170</td><td>&quot;FRA&quot;</td><td>32.610541</td><td>&quot;Jeff Tarango&quot;</td><td>&quot;L&quot;</td><td>180</td><td>&quot;USA&quot;</td><td>31.137577</td><td>&quot;Petr Pala&quot;</td><td>&quot;R&quot;</td><td>193</td><td>&quot;CZE&quot;</td><td>24.273785</td><td>&quot;Pavel Vizner&quot;</td><td>&quot;R&quot;</td><td>183</td><td>&quot;CZE&quot;</td><td>29.489391</td><td>16</td><td>0</td><td>17</td><td>0</td><td>97</td><td>0</td><td>74</td><td>0</td><td>null</td><td>null</td><td>null</td><td>null</td><td>null</td><td>null</td><td>null</td><td>null</td><td>null</td><td>null</td><td>null</td><td>null</td><td>null</td><td>null</td><td>null</td><td>null</td><td>null</td><td>null</td><td>null</td><td>&quot;Auckland_2000&quot;</td></tr><tr><td>&quot;2000-301&quot;</td><td>&quot;Auckland&quot;</td><td>&quot;Hard&quot;</td><td>32</td><td>&quot;A&quot;</td><td>2000-01-10</td><td>297</td><td>&quot;101704&quot;</td><td>&quot;101097&quot;</td><td>&quot;1&quot;</td><td>null</td><td>&quot;101342&quot;</td><td>&quot;102162&quot;</td><td>null</td><td>&quot;WC&quot;</td><td>&quot;6-3 6-4&quot;</td><td>3</td><td>&quot;QF&quot;</td><td>&quot;Ellis Ferreira&quot;</td><td>&quot;L&quot;</td><td>188</td><td>&quot;RSA&quot;</td><td>29.889117</td><td>&quot;Rick Leach&quot;</td><td>&quot;L&quot;</td><td>188</td><td>&quot;USA&quot;</td><td>35.033539</td><td>&quot;Patrick Galbraith&quot;</td><td>&quot;L&quot;</td><td>183</td><td>&quot;USA&quot;</td><td>32.736482</td><td>&quot;Chris Woodruff&quot;</td><td>&quot;R&quot;</td><td>188</td><td>&quot;USA&quot;</td><td>27.019849</td><td>13</td><td>0</td><td>15</td><td>0</td><td>65</td><td>0</td><td>248</td><td>0</td><td>null</td><td>null</td><td>null</td><td>null</td><td>null</td><td>null</td><td>null</td><td>null</td><td>null</td><td>null</td><td>null</td><td>null</td><td>null</td><td>null</td><td>null</td><td>null</td><td>null</td><td>null</td><td>null</td><td>&quot;Auckland_2000&quot;</td></tr><tr><td>&quot;2000-301&quot;</td><td>&quot;Auckland&quot;</td><td>&quot;Hard&quot;</td><td>32</td><td>&quot;A&quot;</td><td>2000-01-10</td><td>296</td><td>&quot;101358&quot;</td><td>&quot;101543&quot;</td><td>&quot;2&quot;</td><td>null</td><td>&quot;103483&quot;</td><td>&quot;102262&quot;</td><td>null</td><td>&quot;WC&quot;</td><td>&quot;6-2 6-4&quot;</td><td>3</td><td>&quot;QF&quot;</td><td>&quot;Olivier Delaitre&quot;</td><td>&quot;R&quot;</td><td>170</td><td>&quot;FRA&quot;</td><td>32.610541</td><td>&quot;Jeff Tarango&quot;</td><td>&quot;L&quot;</td><td>180</td><td>&quot;USA&quot;</td><td>31.137577</td><td>&quot;James Shortall&quot;</td><td>&quot;R&quot;</td><td>null</td><td>&quot;NZL&quot;</td><td>20.043806</td><td>&quot;Cristiano Testa&quot;</td><td>&quot;L&quot;</td><td>null</td><td>&quot;BRA&quot;</td><td>26.297057</td><td>16</td><td>0</td><td>17</td><td>0</td><td>779</td><td>0</td><td>114</td><td>0</td><td>null</td><td>null</td><td>null</td><td>null</td><td>null</td><td>null</td><td>null</td><td>null</td><td>null</td><td>null</td><td>null</td><td>null</td><td>null</td><td>null</td><td>null</td><td>null</td><td>null</td><td>null</td><td>null</td><td>&quot;Auckland_2000&quot;</td></tr><tr><td>&hellip;</td><td>&hellip;</td><td>&hellip;</td><td>&hellip;</td><td>&hellip;</td><td>&hellip;</td><td>&hellip;</td><td>&hellip;</td><td>&hellip;</td><td>&hellip;</td><td>&hellip;</td><td>&hellip;</td><td>&hellip;</td><td>&hellip;</td><td>&hellip;</td><td>&hellip;</td><td>&hellip;</td><td>&hellip;</td><td>&hellip;</td><td>&hellip;</td><td>&hellip;</td><td>&hellip;</td><td>&hellip;</td><td>&hellip;</td><td>&hellip;</td><td>&hellip;</td><td>&hellip;</td><td>&hellip;</td><td>&hellip;</td><td>&hellip;</td><td>&hellip;</td><td>&hellip;</td><td>&hellip;</td><td>&hellip;</td><td>&hellip;</td><td>&hellip;</td><td>&hellip;</td><td>&hellip;</td><td>&hellip;</td><td>&hellip;</td><td>&hellip;</td><td>&hellip;</td><td>&hellip;</td><td>&hellip;</td><td>&hellip;</td><td>&hellip;</td><td>&hellip;</td><td>&hellip;</td><td>&hellip;</td><td>&hellip;</td><td>&hellip;</td><td>&hellip;</td><td>&hellip;</td><td>&hellip;</td><td>&hellip;</td><td>&hellip;</td><td>&hellip;</td><td>&hellip;</td><td>&hellip;</td><td>&hellip;</td><td>&hellip;</td><td>&hellip;</td><td>&hellip;</td><td>&hellip;</td><td>&hellip;</td><td>&hellip;</td></tr><tr><td>&quot;2020-M-DC-2020-WG2-PO-MAR-VIE-…</td><td>&quot;Davis Cup WG2 PO: MAR vs VIE&quot;</td><td>&quot;Clay&quot;</td><td>4</td><td>&quot;D&quot;</td><td>2020-03-06</td><td>3</td><td>&quot;104917&quot;</td><td>&quot;104467&quot;</td><td>null</td><td>null</td><td>&quot;109042&quot;</td><td>&quot;122533&quot;</td><td>null</td><td>null</td><td>&quot;6-4 6-1&quot;</td><td>3</td><td>&quot;RR&quot;</td><td>&quot;Anas Fattar&quot;</td><td>&quot;R&quot;</td><td>null</td><td>&quot;MAR&quot;</td><td>32.807666</td><td>&quot;Lamine Ouahab&quot;</td><td>&quot;R&quot;</td><td>185</td><td>&quot;ALG&quot;</td><td>35.192334</td><td>&quot;Quoc Khanh Le&quot;</td><td>&quot;R&quot;</td><td>null</td><td>&quot;VIE&quot;</td><td>37.497604</td><td>&quot;Nam Hoang Ly&quot;</td><td>&quot;R&quot;</td><td>null</td><td>&quot;VIE&quot;</td><td>23.014374</td><td>683</td><td>48</td><td>942</td><td>26</td><td>null</td><td>null</td><td>1293</td><td>12</td><td>null</td><td>null</td><td>null</td><td>null</td><td>null</td><td>null</td><td>null</td><td>null</td><td>null</td><td>null</td><td>null</td><td>null</td><td>null</td><td>null</td><td>null</td><td>null</td><td>null</td><td>null</td><td>null</td><td>&quot;Davis Cup WG2 PO: MAR vs VIE_2…</td></tr><tr><td>&quot;2020-M-DC-2020-WG2-PO-PAR-SRI-…</td><td>&quot;Davis Cup WG2 PO: PAR vs SRI&quot;</td><td>&quot;Clay&quot;</td><td>4</td><td>&quot;D&quot;</td><td>2020-03-06</td><td>3</td><td>&quot;134677&quot;</td><td>&quot;137018&quot;</td><td>null</td><td>null</td><td>&quot;202462&quot;</td><td>&quot;134886&quot;</td><td>null</td><td>null</td><td>&quot;6-1 6-4&quot;</td><td>3</td><td>&quot;RR&quot;</td><td>&quot;Juan Borba&quot;</td><td>&quot;R&quot;</td><td>null</td><td>&quot;PAR&quot;</td><td>23.887748</td><td>&quot;Ayed Zatar&quot;</td><td>&quot;R&quot;</td><td>null</td><td>&quot;PAR&quot;</td><td>23.926078</td><td>&quot;Yasitha De Silva&quot;</td><td>null</td><td>null</td><td>&quot;SRI&quot;</td><td>24.665298</td><td>&quot;Sharmal Dissanayake&quot;</td><td>&quot;R&quot;</td><td>null</td><td>&quot;SRI&quot;</td><td>23.800137</td><td>null</td><td>null</td><td>null</td><td>null</td><td>null</td><td>null</td><td>null</td><td>null</td><td>null</td><td>null</td><td>null</td><td>null</td><td>null</td><td>null</td><td>null</td><td>null</td><td>null</td><td>null</td><td>null</td><td>null</td><td>null</td><td>null</td><td>null</td><td>null</td><td>null</td><td>null</td><td>null</td><td>&quot;Davis Cup WG2 PO: PAR vs SRI_2…</td></tr><tr><td>&quot;2020-M-DC-2020-WG2-PO-PHI-GRE-…</td><td>&quot;Davis Cup WG2 PO: PHI vs GRE&quot;</td><td>&quot;Clay&quot;</td><td>4</td><td>&quot;D&quot;</td><td>2020-03-06</td><td>3</td><td>&quot;108717&quot;</td><td>&quot;104604&quot;</td><td>null</td><td>null</td><td>&quot;109737&quot;</td><td>&quot;202065&quot;</td><td>null</td><td>null</td><td>&quot;7-6(5) 6-4&quot;</td><td>3</td><td>&quot;RR&quot;</td><td>&quot;Francis Casey Alcantara&quot;</td><td>&quot;U&quot;</td><td>null</td><td>&quot;PHI&quot;</td><td>28.073922</td><td>&quot;Ruben Gonzales&quot;</td><td>&quot;R&quot;</td><td>null</td><td>&quot;PHI&quot;</td><td>34.472279</td><td>&quot;Markos Kalovelonis&quot;</td><td>&quot;R&quot;</td><td>null</td><td>&quot;GRE&quot;</td><td>25.790554</td><td>&quot;Petros Tsitsipas&quot;</td><td>&quot;U&quot;</td><td>null</td><td>&quot;GRE&quot;</td><td>19.597536</td><td>537</td><td>69</td><td>212</td><td>307</td><td>503</td><td>77</td><td>1072</td><td>20</td><td>null</td><td>null</td><td>null</td><td>null</td><td>null</td><td>null</td><td>null</td><td>null</td><td>null</td><td>null</td><td>null</td><td>null</td><td>null</td><td>null</td><td>null</td><td>null</td><td>null</td><td>null</td><td>null</td><td>&quot;Davis Cup WG2 PO: PHI vs GRE_2…</td></tr><tr><td>&quot;2020-M-DC-2020-WG2-PO-POL-HKG-…</td><td>&quot;Davis Cup WG2 PO: POL vs HKG&quot;</td><td>&quot;Hard&quot;</td><td>4</td><td>&quot;D&quot;</td><td>2020-03-06</td><td>3</td><td>&quot;126166&quot;</td><td>&quot;126591&quot;</td><td>null</td><td>null</td><td>&quot;205695&quot;</td><td>&quot;106388&quot;</td><td>null</td><td>null</td><td>&quot;6-3 6-7(6) 6-3&quot;</td><td>3</td><td>&quot;RR&quot;</td><td>&quot;Szymon Walkow&quot;</td><td>&quot;R&quot;</td><td>null</td><td>&quot;POL&quot;</td><td>24.443532</td><td>&quot;Jan Zielinski&quot;</td><td>&quot;R&quot;</td><td>null</td><td>&quot;POL&quot;</td><td>23.290897</td><td>&quot;Ching Lam&quot;</td><td>&quot;R&quot;</td><td>null</td><td>&quot;HKG&quot;</td><td>20.495551</td><td>&quot;Pak Long Yeung&quot;</td><td>&quot;U&quot;</td><td>null</td><td>&quot;HKG&quot;</td><td>25.045859</td><td>182</td><td>389</td><td>295</td><td>178</td><td>null</td><td>null</td><td>557</td><td>66</td><td>null</td><td>null</td><td>null</td><td>null</td><td>null</td><td>null</td><td>null</td><td>null</td><td>null</td><td>null</td><td>null</td><td>null</td><td>null</td><td>null</td><td>null</td><td>null</td><td>null</td><td>null</td><td>null</td><td>&quot;Davis Cup WG2 PO: POL vs HKG_2…</td></tr><tr><td>&quot;2020-M-DC-2020-WG2-PO-SYR-ZIM-…</td><td>&quot;Davis Cup WG2 PO: SYR vs ZIM&quot;</td><td>&quot;Hard&quot;</td><td>4</td><td>&quot;D&quot;</td><td>2020-03-06</td><td>3</td><td>&quot;111761&quot;</td><td>&quot;144747&quot;</td><td>null</td><td>null</td><td>&quot;200153&quot;</td><td>&quot;208518&quot;</td><td>null</td><td>null</td><td>&quot;6-1 4-6 6-3&quot;</td><td>3</td><td>&quot;RR&quot;</td><td>&quot;Benjamin Lock&quot;</td><td>&quot;R&quot;</td><td>null</td><td>&quot;ZIM&quot;</td><td>26.995209</td><td>&quot;Courtney John Lock&quot;</td><td>&quot;R&quot;</td><td>null</td><td>&quot;ZIM&quot;</td><td>23.370294</td><td>&quot;Yacoub Makzoume&quot;</td><td>&quot;R&quot;</td><td>null</td><td>&quot;SYR&quot;</td><td>24.832307</td><td>&quot;Hazem Naw&quot;</td><td>&quot;R&quot;</td><td>null</td><td>&quot;UNK&quot;</td><td>20.167009</td><td>231</td><td>267</td><td>327</td><td>146</td><td>null</td><td>null</td><td>1929</td><td>2</td><td>null</td><td>null</td><td>null</td><td>null</td><td>null</td><td>null</td><td>null</td><td>null</td><td>null</td><td>null</td><td>null</td><td>null</td><td>null</td><td>null</td><td>null</td><td>null</td><td>null</td><td>null</td><td>null</td><td>&quot;Davis Cup WG2 PO: SYR vs ZIM_2…</td></tr></tbody></table></div>"
      ],
      "text/plain": [
       "shape: (26_399, 66)\n",
       "┌────────────┬────────────┬─────────┬───────────┬───┬─────────┬───────────┬───────────┬────────────┐\n",
       "│ tourney_id ┆ tourney_na ┆ surface ┆ draw_size ┆ … ┆ l_SvGms ┆ l_bpSaved ┆ l_bpFaced ┆ tourney_na │\n",
       "│ ---        ┆ me         ┆ ---     ┆ ---       ┆   ┆ ---     ┆ ---       ┆ ---       ┆ me_date    │\n",
       "│ str        ┆ ---        ┆ str     ┆ i64       ┆   ┆ str     ┆ str       ┆ str       ┆ ---        │\n",
       "│            ┆ str        ┆         ┆           ┆   ┆         ┆           ┆           ┆ str        │\n",
       "╞════════════╪════════════╪═════════╪═══════════╪═══╪═════════╪═══════════╪═══════════╪════════════╡\n",
       "│ 2000-301   ┆ Auckland   ┆ Hard    ┆ 32        ┆ … ┆ null    ┆ null      ┆ null      ┆ Auckland_2 │\n",
       "│            ┆            ┆         ┆           ┆   ┆         ┆           ┆           ┆ 000        │\n",
       "│ 2000-301   ┆ Auckland   ┆ Hard    ┆ 32        ┆ … ┆ null    ┆ null      ┆ null      ┆ Auckland_2 │\n",
       "│            ┆            ┆         ┆           ┆   ┆         ┆           ┆           ┆ 000        │\n",
       "│ 2000-301   ┆ Auckland   ┆ Hard    ┆ 32        ┆ … ┆ null    ┆ null      ┆ null      ┆ Auckland_2 │\n",
       "│            ┆            ┆         ┆           ┆   ┆         ┆           ┆           ┆ 000        │\n",
       "│ 2000-301   ┆ Auckland   ┆ Hard    ┆ 32        ┆ … ┆ null    ┆ null      ┆ null      ┆ Auckland_2 │\n",
       "│            ┆            ┆         ┆           ┆   ┆         ┆           ┆           ┆ 000        │\n",
       "│ 2000-301   ┆ Auckland   ┆ Hard    ┆ 32        ┆ … ┆ null    ┆ null      ┆ null      ┆ Auckland_2 │\n",
       "│            ┆            ┆         ┆           ┆   ┆         ┆           ┆           ┆ 000        │\n",
       "│ …          ┆ …          ┆ …       ┆ …         ┆ … ┆ …       ┆ …         ┆ …         ┆ …          │\n",
       "│ 2020-M-DC- ┆ Davis Cup  ┆ Clay    ┆ 4         ┆ … ┆ null    ┆ null      ┆ null      ┆ Davis Cup  │\n",
       "│ 2020-WG2-P ┆ WG2 PO:    ┆         ┆           ┆   ┆         ┆           ┆           ┆ WG2 PO:    │\n",
       "│ O-MAR-VIE- ┆ MAR vs VIE ┆         ┆           ┆   ┆         ┆           ┆           ┆ MAR vs     │\n",
       "│ …          ┆            ┆         ┆           ┆   ┆         ┆           ┆           ┆ VIE_2…     │\n",
       "│ 2020-M-DC- ┆ Davis Cup  ┆ Clay    ┆ 4         ┆ … ┆ null    ┆ null      ┆ null      ┆ Davis Cup  │\n",
       "│ 2020-WG2-P ┆ WG2 PO:    ┆         ┆           ┆   ┆         ┆           ┆           ┆ WG2 PO:    │\n",
       "│ O-PAR-SRI- ┆ PAR vs SRI ┆         ┆           ┆   ┆         ┆           ┆           ┆ PAR vs     │\n",
       "│ …          ┆            ┆         ┆           ┆   ┆         ┆           ┆           ┆ SRI_2…     │\n",
       "│ 2020-M-DC- ┆ Davis Cup  ┆ Clay    ┆ 4         ┆ … ┆ null    ┆ null      ┆ null      ┆ Davis Cup  │\n",
       "│ 2020-WG2-P ┆ WG2 PO:    ┆         ┆           ┆   ┆         ┆           ┆           ┆ WG2 PO:    │\n",
       "│ O-PHI-GRE- ┆ PHI vs GRE ┆         ┆           ┆   ┆         ┆           ┆           ┆ PHI vs     │\n",
       "│ …          ┆            ┆         ┆           ┆   ┆         ┆           ┆           ┆ GRE_2…     │\n",
       "│ 2020-M-DC- ┆ Davis Cup  ┆ Hard    ┆ 4         ┆ … ┆ null    ┆ null      ┆ null      ┆ Davis Cup  │\n",
       "│ 2020-WG2-P ┆ WG2 PO:    ┆         ┆           ┆   ┆         ┆           ┆           ┆ WG2 PO:    │\n",
       "│ O-POL-HKG- ┆ POL vs HKG ┆         ┆           ┆   ┆         ┆           ┆           ┆ POL vs     │\n",
       "│ …          ┆            ┆         ┆           ┆   ┆         ┆           ┆           ┆ HKG_2…     │\n",
       "│ 2020-M-DC- ┆ Davis Cup  ┆ Hard    ┆ 4         ┆ … ┆ null    ┆ null      ┆ null      ┆ Davis Cup  │\n",
       "│ 2020-WG2-P ┆ WG2 PO:    ┆         ┆           ┆   ┆         ┆           ┆           ┆ WG2 PO:    │\n",
       "│ O-SYR-ZIM- ┆ SYR vs ZIM ┆         ┆           ┆   ┆         ┆           ┆           ┆ SYR vs     │\n",
       "│ …          ┆            ┆         ┆           ┆   ┆         ┆           ┆           ┆ ZIM_2…     │\n",
       "└────────────┴────────────┴─────────┴───────────┴───┴─────────┴───────────┴───────────┴────────────┘"
      ]
     },
     "execution_count": 19,
     "metadata": {},
     "output_type": "execute_result"
    }
   ],
   "source": [
    "matches_doubles_atp=import_tennis_matches(data_type=\"doubles\")\n",
    "\n",
    "matches_doubles_atp = matches_doubles_atp.with_columns(\n",
    "    (pl.col(\"tourney_name\") + \"_\" + pl.col(\"tourney_date\").dt.year().cast(pl.Utf8)).alias(\"tourney_name_date\")\n",
    ")\n",
    "matches_doubles_atp"
   ]
  },
  {
   "cell_type": "code",
   "execution_count": 20,
   "metadata": {},
   "outputs": [
    {
     "data": {
      "text/html": [
       "<div><style>\n",
       ".dataframe > thead > tr,\n",
       ".dataframe > tbody > tr {\n",
       "  text-align: right;\n",
       "  white-space: pre-wrap;\n",
       "}\n",
       "</style>\n",
       "<small>shape: (1_345, 6)</small><table border=\"1\" class=\"dataframe\"><thead><tr><th>tourney_name</th><th>surface</th><th>draw_size</th><th>tourney_level</th><th>tourney_date</th><th>tourney_name_date</th></tr><tr><td>str</td><td>str</td><td>i64</td><td>str</td><td>date</td><td>str</td></tr></thead><tbody><tr><td>&quot;Doha&quot;</td><td>&quot;Hard&quot;</td><td>32</td><td>&quot;A&quot;</td><td>2020-01-06</td><td>&quot;Doha_2020&quot;</td></tr><tr><td>&quot;San Jose&quot;</td><td>&quot;Hard&quot;</td><td>32</td><td>&quot;A&quot;</td><td>2011-02-07</td><td>&quot;San Jose_2011&quot;</td></tr><tr><td>&quot;Newport&quot;</td><td>&quot;Grass&quot;</td><td>32</td><td>&quot;A&quot;</td><td>2004-07-05</td><td>&quot;Newport_2004&quot;</td></tr><tr><td>&quot;Stuttgart&quot;</td><td>&quot;Clay&quot;</td><td>28</td><td>&quot;A&quot;</td><td>2013-07-08</td><td>&quot;Stuttgart_2013&quot;</td></tr><tr><td>&quot;Stockholm&quot;</td><td>&quot;Hard&quot;</td><td>32</td><td>&quot;A&quot;</td><td>2001-10-22</td><td>&quot;Stockholm_2001&quot;</td></tr><tr><td>&hellip;</td><td>&hellip;</td><td>&hellip;</td><td>&hellip;</td><td>&hellip;</td><td>&hellip;</td></tr><tr><td>&quot;Kuala Lumpur&quot;</td><td>&quot;Hard&quot;</td><td>28</td><td>&quot;A&quot;</td><td>2011-09-26</td><td>&quot;Kuala Lumpur_2011&quot;</td></tr><tr><td>&quot;Shanghai Masters&quot;</td><td>&quot;Hard&quot;</td><td>56</td><td>&quot;M&quot;</td><td>2012-10-07</td><td>&quot;Shanghai Masters_2012&quot;</td></tr><tr><td>&quot;Acapulco&quot;</td><td>&quot;Hard&quot;</td><td>32</td><td>&quot;A&quot;</td><td>2017-02-27</td><td>&quot;Acapulco_2017&quot;</td></tr><tr><td>&quot;Roland Garros&quot;</td><td>&quot;Clay&quot;</td><td>128</td><td>&quot;G&quot;</td><td>2012-05-27</td><td>&quot;Roland Garros_2012&quot;</td></tr><tr><td>&quot;Indian Wells Masters&quot;</td><td>&quot;Hard&quot;</td><td>128</td><td>&quot;M&quot;</td><td>2019-03-04</td><td>&quot;Indian Wells Masters_2019&quot;</td></tr></tbody></table></div>"
      ],
      "text/plain": [
       "shape: (1_345, 6)\n",
       "┌──────────────────────┬─────────┬───────────┬───────────────┬──────────────┬──────────────────────┐\n",
       "│ tourney_name         ┆ surface ┆ draw_size ┆ tourney_level ┆ tourney_date ┆ tourney_name_date    │\n",
       "│ ---                  ┆ ---     ┆ ---       ┆ ---           ┆ ---          ┆ ---                  │\n",
       "│ str                  ┆ str     ┆ i64       ┆ str           ┆ date         ┆ str                  │\n",
       "╞══════════════════════╪═════════╪═══════════╪═══════════════╪══════════════╪══════════════════════╡\n",
       "│ Doha                 ┆ Hard    ┆ 32        ┆ A             ┆ 2020-01-06   ┆ Doha_2020            │\n",
       "│ San Jose             ┆ Hard    ┆ 32        ┆ A             ┆ 2011-02-07   ┆ San Jose_2011        │\n",
       "│ Newport              ┆ Grass   ┆ 32        ┆ A             ┆ 2004-07-05   ┆ Newport_2004         │\n",
       "│ Stuttgart            ┆ Clay    ┆ 28        ┆ A             ┆ 2013-07-08   ┆ Stuttgart_2013       │\n",
       "│ Stockholm            ┆ Hard    ┆ 32        ┆ A             ┆ 2001-10-22   ┆ Stockholm_2001       │\n",
       "│ …                    ┆ …       ┆ …         ┆ …             ┆ …            ┆ …                    │\n",
       "│ Kuala Lumpur         ┆ Hard    ┆ 28        ┆ A             ┆ 2011-09-26   ┆ Kuala Lumpur_2011    │\n",
       "│ Shanghai Masters     ┆ Hard    ┆ 56        ┆ M             ┆ 2012-10-07   ┆ Shanghai             │\n",
       "│                      ┆         ┆           ┆               ┆              ┆ Masters_2012         │\n",
       "│ Acapulco             ┆ Hard    ┆ 32        ┆ A             ┆ 2017-02-27   ┆ Acapulco_2017        │\n",
       "│ Roland Garros        ┆ Clay    ┆ 128       ┆ G             ┆ 2012-05-27   ┆ Roland Garros_2012   │\n",
       "│ Indian Wells Masters ┆ Hard    ┆ 128       ┆ M             ┆ 2019-03-04   ┆ Indian Wells         │\n",
       "│                      ┆         ┆           ┆               ┆              ┆ Masters_2019         │\n",
       "└──────────────────────┴─────────┴───────────┴───────────────┴──────────────┴──────────────────────┘"
      ]
     },
     "execution_count": 20,
     "metadata": {},
     "output_type": "execute_result"
    }
   ],
   "source": [
    "tourney_doubles_matches_atp=matches_doubles_atp[['tourney_name', 'surface', 'draw_size', 'tourney_level', 'tourney_date', 'tourney_name_date']]\n",
    "\n",
    "tourney_doubles_matches_atp=tourney_doubles_matches_atp.unique('tourney_name_date')\n",
    "tourney_doubles_matches_atp"
   ]
  },
  {
   "cell_type": "code",
   "execution_count": 21,
   "metadata": {},
   "outputs": [
    {
     "data": {
      "text/html": [
       "<div><style>\n",
       ".dataframe > thead > tr,\n",
       ".dataframe > tbody > tr {\n",
       "  text-align: right;\n",
       "  white-space: pre-wrap;\n",
       "}\n",
       "</style>\n",
       "<small>shape: (65_019, 9)</small><table border=\"1\" class=\"dataframe\"><thead><tr><th>player_id</th><th>name_first</th><th>name_last</th><th>hand</th><th>dob</th><th>ioc</th><th>height</th><th>wikidata_id</th><th>name_full</th></tr><tr><td>i64</td><td>str</td><td>str</td><td>str</td><td>date</td><td>str</td><td>i64</td><td>str</td><td>str</td></tr></thead><tbody><tr><td>100001</td><td>&quot;Gardnar&quot;</td><td>&quot;Mulloy&quot;</td><td>&quot;R&quot;</td><td>1913-11-22</td><td>&quot;USA&quot;</td><td>185</td><td>&quot;Q54544&quot;</td><td>&quot;Gardnar Mulloy&quot;</td></tr><tr><td>100002</td><td>&quot;Pancho&quot;</td><td>&quot;Segura&quot;</td><td>&quot;R&quot;</td><td>1921-06-20</td><td>&quot;ECU&quot;</td><td>168</td><td>&quot;Q54581&quot;</td><td>&quot;Pancho Segura&quot;</td></tr><tr><td>100003</td><td>&quot;Frank&quot;</td><td>&quot;Sedgman&quot;</td><td>&quot;R&quot;</td><td>1927-10-02</td><td>&quot;AUS&quot;</td><td>180</td><td>&quot;Q962049&quot;</td><td>&quot;Frank Sedgman&quot;</td></tr><tr><td>100004</td><td>&quot;Giuseppe&quot;</td><td>&quot;Merlo&quot;</td><td>&quot;R&quot;</td><td>1927-10-11</td><td>&quot;ITA&quot;</td><td>null</td><td>&quot;Q1258752&quot;</td><td>&quot;Giuseppe Merlo&quot;</td></tr><tr><td>100005</td><td>&quot;Richard&quot;</td><td>&quot;Gonzalez&quot;</td><td>&quot;R&quot;</td><td>1928-05-09</td><td>&quot;USA&quot;</td><td>188</td><td>&quot;Q53554&quot;</td><td>&quot;Richard Gonzalez&quot;</td></tr><tr><td>&hellip;</td><td>&hellip;</td><td>&hellip;</td><td>&hellip;</td><td>&hellip;</td><td>&hellip;</td><td>&hellip;</td><td>&hellip;</td><td>&hellip;</td></tr><tr><td>212913</td><td>&quot;Pietro&quot;</td><td>&quot;Ricci&quot;</td><td>&quot;U&quot;</td><td>null</td><td>&quot;ITA&quot;</td><td>null</td><td>null</td><td>&quot;Pietro Ricci&quot;</td></tr><tr><td>212914</td><td>&quot;Corey&quot;</td><td>&quot;Craig&quot;</td><td>&quot;U&quot;</td><td>null</td><td>&quot;USA&quot;</td><td>null</td><td>null</td><td>&quot;Corey Craig&quot;</td></tr><tr><td>212915</td><td>&quot;Aleksandar&quot;</td><td>&quot;Ljubojevic&quot;</td><td>&quot;U&quot;</td><td>null</td><td>&quot;SRB&quot;</td><td>null</td><td>null</td><td>&quot;Aleksandar Ljubojevic&quot;</td></tr><tr><td>212916</td><td>&quot;Marko&quot;</td><td>&quot;Milosavljevic&quot;</td><td>&quot;U&quot;</td><td>null</td><td>&quot;SRB&quot;</td><td>null</td><td>null</td><td>&quot;Marko Milosavljevic&quot;</td></tr><tr><td>212917</td><td>&quot;Stefan&quot;</td><td>&quot;Skobelev&quot;</td><td>&quot;U&quot;</td><td>null</td><td>&quot;SRB&quot;</td><td>null</td><td>null</td><td>&quot;Stefan Skobelev&quot;</td></tr></tbody></table></div>"
      ],
      "text/plain": [
       "shape: (65_019, 9)\n",
       "┌───────────┬────────────┬───────────────┬──────┬───┬─────┬────────┬─────────────┬─────────────────┐\n",
       "│ player_id ┆ name_first ┆ name_last     ┆ hand ┆ … ┆ ioc ┆ height ┆ wikidata_id ┆ name_full       │\n",
       "│ ---       ┆ ---        ┆ ---           ┆ ---  ┆   ┆ --- ┆ ---    ┆ ---         ┆ ---             │\n",
       "│ i64       ┆ str        ┆ str           ┆ str  ┆   ┆ str ┆ i64    ┆ str         ┆ str             │\n",
       "╞═══════════╪════════════╪═══════════════╪══════╪═══╪═════╪════════╪═════════════╪═════════════════╡\n",
       "│ 100001    ┆ Gardnar    ┆ Mulloy        ┆ R    ┆ … ┆ USA ┆ 185    ┆ Q54544      ┆ Gardnar Mulloy  │\n",
       "│ 100002    ┆ Pancho     ┆ Segura        ┆ R    ┆ … ┆ ECU ┆ 168    ┆ Q54581      ┆ Pancho Segura   │\n",
       "│ 100003    ┆ Frank      ┆ Sedgman       ┆ R    ┆ … ┆ AUS ┆ 180    ┆ Q962049     ┆ Frank Sedgman   │\n",
       "│ 100004    ┆ Giuseppe   ┆ Merlo         ┆ R    ┆ … ┆ ITA ┆ null   ┆ Q1258752    ┆ Giuseppe Merlo  │\n",
       "│ 100005    ┆ Richard    ┆ Gonzalez      ┆ R    ┆ … ┆ USA ┆ 188    ┆ Q53554      ┆ Richard         │\n",
       "│           ┆            ┆               ┆      ┆   ┆     ┆        ┆             ┆ Gonzalez        │\n",
       "│ …         ┆ …          ┆ …             ┆ …    ┆ … ┆ …   ┆ …      ┆ …           ┆ …               │\n",
       "│ 212913    ┆ Pietro     ┆ Ricci         ┆ U    ┆ … ┆ ITA ┆ null   ┆ null        ┆ Pietro Ricci    │\n",
       "│ 212914    ┆ Corey      ┆ Craig         ┆ U    ┆ … ┆ USA ┆ null   ┆ null        ┆ Corey Craig     │\n",
       "│ 212915    ┆ Aleksandar ┆ Ljubojevic    ┆ U    ┆ … ┆ SRB ┆ null   ┆ null        ┆ Aleksandar      │\n",
       "│           ┆            ┆               ┆      ┆   ┆     ┆        ┆             ┆ Ljubojevic      │\n",
       "│ 212916    ┆ Marko      ┆ Milosavljevic ┆ U    ┆ … ┆ SRB ┆ null   ┆ null        ┆ Marko           │\n",
       "│           ┆            ┆               ┆      ┆   ┆     ┆        ┆             ┆ Milosavljevic   │\n",
       "│ 212917    ┆ Stefan     ┆ Skobelev      ┆ U    ┆ … ┆ SRB ┆ null   ┆ null        ┆ Stefan Skobelev │\n",
       "└───────────┴────────────┴───────────────┴──────┴───┴─────┴────────┴─────────────┴─────────────────┘"
      ]
     },
     "execution_count": 21,
     "metadata": {},
     "output_type": "execute_result"
    }
   ],
   "source": [
    "players_atp"
   ]
  },
  {
   "cell_type": "code",
   "execution_count": 22,
   "metadata": {},
   "outputs": [
    {
     "data": {
      "text/html": [
       "<div><style>\n",
       ".dataframe > thead > tr,\n",
       ".dataframe > tbody > tr {\n",
       "  text-align: right;\n",
       "  white-space: pre-wrap;\n",
       "}\n",
       "</style>\n",
       "<small>shape: (67_095, 9)</small><table border=\"1\" class=\"dataframe\"><thead><tr><th>player_id</th><th>name_first</th><th>name_last</th><th>hand</th><th>dob</th><th>ioc</th><th>height</th><th>wikidata_id</th><th>name_full</th></tr><tr><td>i64</td><td>str</td><td>str</td><td>str</td><td>date</td><td>str</td><td>i64</td><td>str</td><td>str</td></tr></thead><tbody><tr><td>113190</td><td>&quot;Bobby&quot;</td><td>&quot;Riggs&quot;</td><td>&quot;U&quot;</td><td>null</td><td>&quot;USA&quot;</td><td>null</td><td>null</td><td>&quot;Bobby Riggs&quot;</td></tr><tr><td>200000</td><td>&quot;X&quot;</td><td>&quot;X&quot;</td><td>&quot;U&quot;</td><td>null</td><td>&quot;UNK&quot;</td><td>null</td><td>null</td><td>&quot;X X&quot;</td></tr><tr><td>200001</td><td>&quot;Martina&quot;</td><td>&quot;Hingis&quot;</td><td>&quot;R&quot;</td><td>1980-09-30</td><td>&quot;SUI&quot;</td><td>170</td><td>&quot;Q134720&quot;</td><td>&quot;Martina Hingis&quot;</td></tr><tr><td>200002</td><td>&quot;Mirjana&quot;</td><td>&quot;Lucic&quot;</td><td>&quot;R&quot;</td><td>1982-03-09</td><td>&quot;CRO&quot;</td><td>181</td><td>&quot;Q239686&quot;</td><td>&quot;Mirjana Lucic&quot;</td></tr><tr><td>200003</td><td>&quot;Justine&quot;</td><td>&quot;Henin&quot;</td><td>&quot;R&quot;</td><td>1982-06-01</td><td>&quot;BEL&quot;</td><td>167</td><td>&quot;Q11682&quot;</td><td>&quot;Justine Henin&quot;</td></tr><tr><td>&hellip;</td><td>&hellip;</td><td>&hellip;</td><td>&hellip;</td><td>&hellip;</td><td>&hellip;</td><td>&hellip;</td><td>&hellip;</td><td>&hellip;</td></tr><tr><td>267099</td><td>&quot;Kokoa&quot;</td><td>&quot;Nakao&quot;</td><td>&quot;U&quot;</td><td>null</td><td>&quot;JPN&quot;</td><td>null</td><td>null</td><td>&quot;Kokoa Nakao&quot;</td></tr><tr><td>267100</td><td>&quot;Aoi&quot;</td><td>&quot;Watanabe&quot;</td><td>&quot;U&quot;</td><td>null</td><td>&quot;JPN&quot;</td><td>null</td><td>null</td><td>&quot;Aoi Watanabe&quot;</td></tr><tr><td>267101</td><td>&quot;Sara&quot;</td><td>&quot;Yoshida&quot;</td><td>&quot;U&quot;</td><td>null</td><td>&quot;JPN&quot;</td><td>null</td><td>null</td><td>&quot;Sara Yoshida&quot;</td></tr><tr><td>267102</td><td>&quot;Ui Su&quot;</td><td>&quot;Jeong&quot;</td><td>&quot;U&quot;</td><td>null</td><td>&quot;KOR&quot;</td><td>null</td><td>null</td><td>&quot;Ui Su Jeong&quot;</td></tr><tr><td>267103</td><td>&quot;Alexia&quot;</td><td>&quot;Patru&quot;</td><td>&quot;U&quot;</td><td>null</td><td>&quot;ROU&quot;</td><td>null</td><td>null</td><td>&quot;Alexia Patru&quot;</td></tr></tbody></table></div>"
      ],
      "text/plain": [
       "shape: (67_095, 9)\n",
       "┌───────────┬────────────┬───────────┬──────┬───┬─────┬────────┬─────────────┬────────────────┐\n",
       "│ player_id ┆ name_first ┆ name_last ┆ hand ┆ … ┆ ioc ┆ height ┆ wikidata_id ┆ name_full      │\n",
       "│ ---       ┆ ---        ┆ ---       ┆ ---  ┆   ┆ --- ┆ ---    ┆ ---         ┆ ---            │\n",
       "│ i64       ┆ str        ┆ str       ┆ str  ┆   ┆ str ┆ i64    ┆ str         ┆ str            │\n",
       "╞═══════════╪════════════╪═══════════╪══════╪═══╪═════╪════════╪═════════════╪════════════════╡\n",
       "│ 113190    ┆ Bobby      ┆ Riggs     ┆ U    ┆ … ┆ USA ┆ null   ┆ null        ┆ Bobby Riggs    │\n",
       "│ 200000    ┆ X          ┆ X         ┆ U    ┆ … ┆ UNK ┆ null   ┆ null        ┆ X X            │\n",
       "│ 200001    ┆ Martina    ┆ Hingis    ┆ R    ┆ … ┆ SUI ┆ 170    ┆ Q134720     ┆ Martina Hingis │\n",
       "│ 200002    ┆ Mirjana    ┆ Lucic     ┆ R    ┆ … ┆ CRO ┆ 181    ┆ Q239686     ┆ Mirjana Lucic  │\n",
       "│ 200003    ┆ Justine    ┆ Henin     ┆ R    ┆ … ┆ BEL ┆ 167    ┆ Q11682      ┆ Justine Henin  │\n",
       "│ …         ┆ …          ┆ …         ┆ …    ┆ … ┆ …   ┆ …      ┆ …           ┆ …              │\n",
       "│ 267099    ┆ Kokoa      ┆ Nakao     ┆ U    ┆ … ┆ JPN ┆ null   ┆ null        ┆ Kokoa Nakao    │\n",
       "│ 267100    ┆ Aoi        ┆ Watanabe  ┆ U    ┆ … ┆ JPN ┆ null   ┆ null        ┆ Aoi Watanabe   │\n",
       "│ 267101    ┆ Sara       ┆ Yoshida   ┆ U    ┆ … ┆ JPN ┆ null   ┆ null        ┆ Sara Yoshida   │\n",
       "│ 267102    ┆ Ui Su      ┆ Jeong     ┆ U    ┆ … ┆ KOR ┆ null   ┆ null        ┆ Ui Su Jeong    │\n",
       "│ 267103    ┆ Alexia     ┆ Patru     ┆ U    ┆ … ┆ ROU ┆ null   ┆ null        ┆ Alexia Patru   │\n",
       "└───────────┴────────────┴───────────┴──────┴───┴─────┴────────┴─────────────┴────────────────┘"
      ]
     },
     "execution_count": 22,
     "metadata": {},
     "output_type": "execute_result"
    }
   ],
   "source": [
    "players_wta"
   ]
  },
  {
   "cell_type": "markdown",
   "metadata": {},
   "source": [
    "### Creazione tabella informazioni del player"
   ]
  },
  {
   "cell_type": "code",
   "execution_count": 23,
   "metadata": {},
   "outputs": [
    {
     "data": {
      "text/html": [
       "<div><style>\n",
       ".dataframe > thead > tr,\n",
       ".dataframe > tbody > tr {\n",
       "  text-align: right;\n",
       "  white-space: pre-wrap;\n",
       "}\n",
       "</style>\n",
       "<small>shape: (65_019, 5)</small><table border=\"1\" class=\"dataframe\"><thead><tr><th>player_id</th><th>hand</th><th>dob</th><th>ioc</th><th>height</th></tr><tr><td>i64</td><td>str</td><td>date</td><td>str</td><td>i64</td></tr></thead><tbody><tr><td>100001</td><td>&quot;R&quot;</td><td>1913-11-22</td><td>&quot;USA&quot;</td><td>185</td></tr><tr><td>100002</td><td>&quot;R&quot;</td><td>1921-06-20</td><td>&quot;ECU&quot;</td><td>168</td></tr><tr><td>100003</td><td>&quot;R&quot;</td><td>1927-10-02</td><td>&quot;AUS&quot;</td><td>180</td></tr><tr><td>100004</td><td>&quot;R&quot;</td><td>1927-10-11</td><td>&quot;ITA&quot;</td><td>null</td></tr><tr><td>100005</td><td>&quot;R&quot;</td><td>1928-05-09</td><td>&quot;USA&quot;</td><td>188</td></tr><tr><td>&hellip;</td><td>&hellip;</td><td>&hellip;</td><td>&hellip;</td><td>&hellip;</td></tr><tr><td>212913</td><td>&quot;U&quot;</td><td>null</td><td>&quot;ITA&quot;</td><td>null</td></tr><tr><td>212914</td><td>&quot;U&quot;</td><td>null</td><td>&quot;USA&quot;</td><td>null</td></tr><tr><td>212915</td><td>&quot;U&quot;</td><td>null</td><td>&quot;SRB&quot;</td><td>null</td></tr><tr><td>212916</td><td>&quot;U&quot;</td><td>null</td><td>&quot;SRB&quot;</td><td>null</td></tr><tr><td>212917</td><td>&quot;U&quot;</td><td>null</td><td>&quot;SRB&quot;</td><td>null</td></tr></tbody></table></div>"
      ],
      "text/plain": [
       "shape: (65_019, 5)\n",
       "┌───────────┬──────┬────────────┬─────┬────────┐\n",
       "│ player_id ┆ hand ┆ dob        ┆ ioc ┆ height │\n",
       "│ ---       ┆ ---  ┆ ---        ┆ --- ┆ ---    │\n",
       "│ i64       ┆ str  ┆ date       ┆ str ┆ i64    │\n",
       "╞═══════════╪══════╪════════════╪═════╪════════╡\n",
       "│ 100001    ┆ R    ┆ 1913-11-22 ┆ USA ┆ 185    │\n",
       "│ 100002    ┆ R    ┆ 1921-06-20 ┆ ECU ┆ 168    │\n",
       "│ 100003    ┆ R    ┆ 1927-10-02 ┆ AUS ┆ 180    │\n",
       "│ 100004    ┆ R    ┆ 1927-10-11 ┆ ITA ┆ null   │\n",
       "│ 100005    ┆ R    ┆ 1928-05-09 ┆ USA ┆ 188    │\n",
       "│ …         ┆ …    ┆ …          ┆ …   ┆ …      │\n",
       "│ 212913    ┆ U    ┆ null       ┆ ITA ┆ null   │\n",
       "│ 212914    ┆ U    ┆ null       ┆ USA ┆ null   │\n",
       "│ 212915    ┆ U    ┆ null       ┆ SRB ┆ null   │\n",
       "│ 212916    ┆ U    ┆ null       ┆ SRB ┆ null   │\n",
       "│ 212917    ┆ U    ┆ null       ┆ SRB ┆ null   │\n",
       "└───────────┴──────┴────────────┴─────┴────────┘"
      ]
     },
     "execution_count": 23,
     "metadata": {},
     "output_type": "execute_result"
    }
   ],
   "source": [
    "players_info_atp=players_atp[['player_id','hand','dob','ioc','height']]\n",
    "players_info_atp"
   ]
  },
  {
   "cell_type": "code",
   "execution_count": 24,
   "metadata": {},
   "outputs": [
    {
     "data": {
      "text/html": [
       "<div><style>\n",
       ".dataframe > thead > tr,\n",
       ".dataframe > tbody > tr {\n",
       "  text-align: right;\n",
       "  white-space: pre-wrap;\n",
       "}\n",
       "</style>\n",
       "<small>shape: (67_095, 5)</small><table border=\"1\" class=\"dataframe\"><thead><tr><th>player_id</th><th>hand</th><th>dob</th><th>ioc</th><th>height</th></tr><tr><td>i64</td><td>str</td><td>date</td><td>str</td><td>i64</td></tr></thead><tbody><tr><td>113190</td><td>&quot;U&quot;</td><td>null</td><td>&quot;USA&quot;</td><td>null</td></tr><tr><td>200000</td><td>&quot;U&quot;</td><td>null</td><td>&quot;UNK&quot;</td><td>null</td></tr><tr><td>200001</td><td>&quot;R&quot;</td><td>1980-09-30</td><td>&quot;SUI&quot;</td><td>170</td></tr><tr><td>200002</td><td>&quot;R&quot;</td><td>1982-03-09</td><td>&quot;CRO&quot;</td><td>181</td></tr><tr><td>200003</td><td>&quot;R&quot;</td><td>1982-06-01</td><td>&quot;BEL&quot;</td><td>167</td></tr><tr><td>&hellip;</td><td>&hellip;</td><td>&hellip;</td><td>&hellip;</td><td>&hellip;</td></tr><tr><td>267099</td><td>&quot;U&quot;</td><td>null</td><td>&quot;JPN&quot;</td><td>null</td></tr><tr><td>267100</td><td>&quot;U&quot;</td><td>null</td><td>&quot;JPN&quot;</td><td>null</td></tr><tr><td>267101</td><td>&quot;U&quot;</td><td>null</td><td>&quot;JPN&quot;</td><td>null</td></tr><tr><td>267102</td><td>&quot;U&quot;</td><td>null</td><td>&quot;KOR&quot;</td><td>null</td></tr><tr><td>267103</td><td>&quot;U&quot;</td><td>null</td><td>&quot;ROU&quot;</td><td>null</td></tr></tbody></table></div>"
      ],
      "text/plain": [
       "shape: (67_095, 5)\n",
       "┌───────────┬──────┬────────────┬─────┬────────┐\n",
       "│ player_id ┆ hand ┆ dob        ┆ ioc ┆ height │\n",
       "│ ---       ┆ ---  ┆ ---        ┆ --- ┆ ---    │\n",
       "│ i64       ┆ str  ┆ date       ┆ str ┆ i64    │\n",
       "╞═══════════╪══════╪════════════╪═════╪════════╡\n",
       "│ 113190    ┆ U    ┆ null       ┆ USA ┆ null   │\n",
       "│ 200000    ┆ U    ┆ null       ┆ UNK ┆ null   │\n",
       "│ 200001    ┆ R    ┆ 1980-09-30 ┆ SUI ┆ 170    │\n",
       "│ 200002    ┆ R    ┆ 1982-03-09 ┆ CRO ┆ 181    │\n",
       "│ 200003    ┆ R    ┆ 1982-06-01 ┆ BEL ┆ 167    │\n",
       "│ …         ┆ …    ┆ …          ┆ …   ┆ …      │\n",
       "│ 267099    ┆ U    ┆ null       ┆ JPN ┆ null   │\n",
       "│ 267100    ┆ U    ┆ null       ┆ JPN ┆ null   │\n",
       "│ 267101    ┆ U    ┆ null       ┆ JPN ┆ null   │\n",
       "│ 267102    ┆ U    ┆ null       ┆ KOR ┆ null   │\n",
       "│ 267103    ┆ U    ┆ null       ┆ ROU ┆ null   │\n",
       "└───────────┴──────┴────────────┴─────┴────────┘"
      ]
     },
     "execution_count": 24,
     "metadata": {},
     "output_type": "execute_result"
    }
   ],
   "source": [
    "players_info_wta=players_wta[['player_id','hand','dob','ioc','height']]\n",
    "players_info_wta"
   ]
  },
  {
   "cell_type": "markdown",
   "metadata": {},
   "source": [
    "### Creazione colonna per possibili vincite"
   ]
  },
  {
   "cell_type": "code",
   "execution_count": null,
   "metadata": {},
   "outputs": [],
   "source": []
  },
  {
   "cell_type": "markdown",
   "metadata": {},
   "source": [
    "### Drop delle informazioni del torneo e delle informazioni del player"
   ]
  },
  {
   "cell_type": "code",
   "execution_count": 25,
   "metadata": {},
   "outputs": [],
   "source": [
    "#droppo tutte le colonne relative al torneo, tranne tourney_name_date\n",
    "matches_amateurs_atp=matches_amateurs_atp.drop(['tourney_name', 'surface', 'draw_size', 'tourney_level', 'tourney_date', 'tourney_id'])\n",
    "matches_doubles_atp=matches_doubles_atp.drop(['tourney_name', 'surface', 'draw_size', 'tourney_level', 'tourney_date', 'tourney_id'])\n",
    "matches_futures=matches_futures.drop(['tourney_name', 'surface', 'draw_size', 'tourney_level', 'tourney_date', 'tourney_id'])\n",
    "matches_qualifiers_challengers=matches_qualifiers_challengers.drop(['tourney_name', 'surface', 'draw_size', 'tourney_level', 'tourney_date', 'tourney_id'])\n",
    "matches_qualifiers_itf=matches_qualifiers_itf.drop(['tourney_name', 'surface', 'draw_size', 'tourney_level', 'tourney_date', 'tourney_id'])\n",
    "matches_singles_atp=matches_singles_atp.drop(['tourney_name', 'surface', 'draw_size', 'tourney_level', 'tourney_date', 'tourney_id'])\n",
    "matches_singles_wta=matches_singles_wta.drop(['tourney_name', 'surface', 'draw_size', 'tourney_level', 'tourney_date', 'tourney_id'])"
   ]
  },
  {
   "cell_type": "code",
   "execution_count": 26,
   "metadata": {},
   "outputs": [],
   "source": [
    "players_atp=players_atp.drop(['hand','dob','ioc','height','name_full'])\n",
    "players_wta=players_wta.drop(['hand','dob','ioc','height','name_full'])"
   ]
  },
  {
   "cell_type": "code",
   "execution_count": null,
   "metadata": {},
   "outputs": [],
   "source": []
  }
 ],
 "metadata": {
  "kernelspec": {
   "display_name": "Python 3",
   "language": "python",
   "name": "python3"
  },
  "language_info": {
   "codemirror_mode": {
    "name": "ipython",
    "version": 3
   },
   "file_extension": ".py",
   "mimetype": "text/x-python",
   "name": "python",
   "nbconvert_exporter": "python",
   "pygments_lexer": "ipython3",
   "version": "3.12.1"
  }
 },
 "nbformat": 4,
 "nbformat_minor": 2
}
