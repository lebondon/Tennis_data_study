{
 "cells": [
  {
   "cell_type": "code",
   "execution_count": 1,
   "metadata": {},
   "outputs": [],
   "source": [
    "import pandas as pd\n",
    "import numpy as np\n",
    "import os\n",
    "import polars as pl\n",
    "from utils import *\n",
    "import matplotlib.pyplot as plt\n",
    "import seaborn as sns\n",
    "import warnings\n",
    "warnings.filterwarnings('ignore')\n",
    "\n",
    "#tutti i database aggregati li potete richiamare con le varie funzioni di import che trovate in utils.py, gli esempi sono comunque sotto.\n",
    "#per scegliere se ATP o WTA potete cambiare il valore all'interno della funzione gender in \"atp\" o \"wta\" (di default è atp)\n",
    "#es: import_players(gender=\"atp\"), import_players(gender=\"wta\")\n",
    "\n",
    "#le varie funzioni sono import_tennis_matches(), import_players(), import_matches_amateurs_atp(), import_rankings().\n",
    "\n",
    "#per quanto riguarda i match di singolo, doppio,futures, qual_chall e qual_itf dovete usare la funzione import_tennis_matches con una\n",
    "#specifica keyword che indica il tipo di match es: import_tennis_matches(data_type=\"singles\".gender=\"wta\") \n",
    "\n",
    "#le varie keyword tra cui potete scegliere sono [\"singles\",\"doubles\",\"qualifiers_challengers\",\"futures\",\"qualifiers_itf\"]\n",
    "\n",
    "#ATTENZIONE! i futures, qualifiers_challengers e doppi sono esclusivamente maschili mentre i qualifiers_itf sono esclusivamente femminili!\n",
    "#tutte queste le cose le potete verificare guardando il file utils.py\n",
    "\n",
    "#fate una bella EDA and have fun!\n",
    "\n"
   ]
  },
  {
   "cell_type": "code",
   "execution_count": 2,
   "metadata": {},
   "outputs": [],
   "source": [
    "import pandas as pd\n",
    "\n",
    "def sorted_value_counts(df, column_name):\n",
    "    \"\"\"\n",
    "    Restituisce il value counts di una colonna di un DataFrame in ordine decrescente.\n",
    "\n",
    "    Parametri:\n",
    "        df (pd.DataFrame): Il DataFrame di input.\n",
    "        column_name (str): Il nome della colonna di cui calcolare il value counts.\n",
    "\n",
    "    Ritorna:\n",
    "        pd.Series: Una Serie con i conteggi ordinati in ordine decrescente.\n",
    "    \"\"\"\n",
    "    if column_name not in df.columns:\n",
    "        raise ValueError(f\"La colonna '{column_name}' non esiste nel DataFrame.\")\n",
    "    \n",
    "    # Calcolare i value counts\n",
    "    value_counts = df[column_name].value_counts()\n",
    "    \n",
    "    # Ordinare i valori manualmente\n",
    "    sorted_counts = value_counts.iloc[value_counts.values.argsort()[::-1]]\n",
    "    \n",
    "    return sorted_counts\n",
    "\n"
   ]
  },
  {
   "cell_type": "code",
   "execution_count": 3,
   "metadata": {},
   "outputs": [
    {
     "data": {
      "text/html": [
       "<div><style>\n",
       ".dataframe > thead > tr,\n",
       ".dataframe > tbody > tr {\n",
       "  text-align: right;\n",
       "  white-space: pre-wrap;\n",
       "}\n",
       "</style>\n",
       "<small>shape: (65_019, 9)</small><table border=\"1\" class=\"dataframe\"><thead><tr><th>player_id</th><th>name_first</th><th>name_last</th><th>hand</th><th>dob</th><th>ioc</th><th>height</th><th>wikidata_id</th><th>name_full</th></tr><tr><td>i64</td><td>str</td><td>str</td><td>str</td><td>date</td><td>str</td><td>i64</td><td>str</td><td>str</td></tr></thead><tbody><tr><td>100001</td><td>&quot;Gardnar&quot;</td><td>&quot;Mulloy&quot;</td><td>&quot;R&quot;</td><td>1913-11-22</td><td>&quot;USA&quot;</td><td>185</td><td>&quot;Q54544&quot;</td><td>&quot;Gardnar Mulloy&quot;</td></tr><tr><td>100002</td><td>&quot;Pancho&quot;</td><td>&quot;Segura&quot;</td><td>&quot;R&quot;</td><td>1921-06-20</td><td>&quot;ECU&quot;</td><td>168</td><td>&quot;Q54581&quot;</td><td>&quot;Pancho Segura&quot;</td></tr><tr><td>100003</td><td>&quot;Frank&quot;</td><td>&quot;Sedgman&quot;</td><td>&quot;R&quot;</td><td>1927-10-02</td><td>&quot;AUS&quot;</td><td>180</td><td>&quot;Q962049&quot;</td><td>&quot;Frank Sedgman&quot;</td></tr><tr><td>100004</td><td>&quot;Giuseppe&quot;</td><td>&quot;Merlo&quot;</td><td>&quot;R&quot;</td><td>1927-10-11</td><td>&quot;ITA&quot;</td><td>null</td><td>&quot;Q1258752&quot;</td><td>&quot;Giuseppe Merlo&quot;</td></tr><tr><td>100005</td><td>&quot;Richard&quot;</td><td>&quot;Gonzalez&quot;</td><td>&quot;R&quot;</td><td>1928-05-09</td><td>&quot;USA&quot;</td><td>188</td><td>&quot;Q53554&quot;</td><td>&quot;Richard Gonzalez&quot;</td></tr><tr><td>&hellip;</td><td>&hellip;</td><td>&hellip;</td><td>&hellip;</td><td>&hellip;</td><td>&hellip;</td><td>&hellip;</td><td>&hellip;</td><td>&hellip;</td></tr><tr><td>212913</td><td>&quot;Pietro&quot;</td><td>&quot;Ricci&quot;</td><td>&quot;U&quot;</td><td>null</td><td>&quot;ITA&quot;</td><td>null</td><td>null</td><td>&quot;Pietro Ricci&quot;</td></tr><tr><td>212914</td><td>&quot;Corey&quot;</td><td>&quot;Craig&quot;</td><td>&quot;U&quot;</td><td>null</td><td>&quot;USA&quot;</td><td>null</td><td>null</td><td>&quot;Corey Craig&quot;</td></tr><tr><td>212915</td><td>&quot;Aleksandar&quot;</td><td>&quot;Ljubojevic&quot;</td><td>&quot;U&quot;</td><td>null</td><td>&quot;SRB&quot;</td><td>null</td><td>null</td><td>&quot;Aleksandar Ljubojevic&quot;</td></tr><tr><td>212916</td><td>&quot;Marko&quot;</td><td>&quot;Milosavljevic&quot;</td><td>&quot;U&quot;</td><td>null</td><td>&quot;SRB&quot;</td><td>null</td><td>null</td><td>&quot;Marko Milosavljevic&quot;</td></tr><tr><td>212917</td><td>&quot;Stefan&quot;</td><td>&quot;Skobelev&quot;</td><td>&quot;U&quot;</td><td>null</td><td>&quot;SRB&quot;</td><td>null</td><td>null</td><td>&quot;Stefan Skobelev&quot;</td></tr></tbody></table></div>"
      ],
      "text/plain": [
       "shape: (65_019, 9)\n",
       "┌───────────┬────────────┬───────────────┬──────┬───┬─────┬────────┬─────────────┬─────────────────┐\n",
       "│ player_id ┆ name_first ┆ name_last     ┆ hand ┆ … ┆ ioc ┆ height ┆ wikidata_id ┆ name_full       │\n",
       "│ ---       ┆ ---        ┆ ---           ┆ ---  ┆   ┆ --- ┆ ---    ┆ ---         ┆ ---             │\n",
       "│ i64       ┆ str        ┆ str           ┆ str  ┆   ┆ str ┆ i64    ┆ str         ┆ str             │\n",
       "╞═══════════╪════════════╪═══════════════╪══════╪═══╪═════╪════════╪═════════════╪═════════════════╡\n",
       "│ 100001    ┆ Gardnar    ┆ Mulloy        ┆ R    ┆ … ┆ USA ┆ 185    ┆ Q54544      ┆ Gardnar Mulloy  │\n",
       "│ 100002    ┆ Pancho     ┆ Segura        ┆ R    ┆ … ┆ ECU ┆ 168    ┆ Q54581      ┆ Pancho Segura   │\n",
       "│ 100003    ┆ Frank      ┆ Sedgman       ┆ R    ┆ … ┆ AUS ┆ 180    ┆ Q962049     ┆ Frank Sedgman   │\n",
       "│ 100004    ┆ Giuseppe   ┆ Merlo         ┆ R    ┆ … ┆ ITA ┆ null   ┆ Q1258752    ┆ Giuseppe Merlo  │\n",
       "│ 100005    ┆ Richard    ┆ Gonzalez      ┆ R    ┆ … ┆ USA ┆ 188    ┆ Q53554      ┆ Richard         │\n",
       "│           ┆            ┆               ┆      ┆   ┆     ┆        ┆             ┆ Gonzalez        │\n",
       "│ …         ┆ …          ┆ …             ┆ …    ┆ … ┆ …   ┆ …      ┆ …           ┆ …               │\n",
       "│ 212913    ┆ Pietro     ┆ Ricci         ┆ U    ┆ … ┆ ITA ┆ null   ┆ null        ┆ Pietro Ricci    │\n",
       "│ 212914    ┆ Corey      ┆ Craig         ┆ U    ┆ … ┆ USA ┆ null   ┆ null        ┆ Corey Craig     │\n",
       "│ 212915    ┆ Aleksandar ┆ Ljubojevic    ┆ U    ┆ … ┆ SRB ┆ null   ┆ null        ┆ Aleksandar      │\n",
       "│           ┆            ┆               ┆      ┆   ┆     ┆        ┆             ┆ Ljubojevic      │\n",
       "│ 212916    ┆ Marko      ┆ Milosavljevic ┆ U    ┆ … ┆ SRB ┆ null   ┆ null        ┆ Marko           │\n",
       "│           ┆            ┆               ┆      ┆   ┆     ┆        ┆             ┆ Milosavljevic   │\n",
       "│ 212917    ┆ Stefan     ┆ Skobelev      ┆ U    ┆ … ┆ SRB ┆ null   ┆ null        ┆ Stefan Skobelev │\n",
       "└───────────┴────────────┴───────────────┴──────┴───┴─────┴────────┴─────────────┴─────────────────┘"
      ]
     },
     "execution_count": 3,
     "metadata": {},
     "output_type": "execute_result"
    }
   ],
   "source": [
    "players=import_players(gender=\"atp\")\n",
    "players"
   ]
  },
  {
   "cell_type": "code",
   "execution_count": 4,
   "metadata": {},
   "outputs": [
    {
     "data": {
      "text/html": [
       "<div><style>\n",
       ".dataframe > thead > tr,\n",
       ".dataframe > tbody > tr {\n",
       "  text-align: right;\n",
       "  white-space: pre-wrap;\n",
       "}\n",
       "</style>\n",
       "<small>shape: (67_095, 9)</small><table border=\"1\" class=\"dataframe\"><thead><tr><th>player_id</th><th>name_first</th><th>name_last</th><th>hand</th><th>dob</th><th>ioc</th><th>height</th><th>wikidata_id</th><th>name_full</th></tr><tr><td>i64</td><td>str</td><td>str</td><td>str</td><td>date</td><td>str</td><td>i64</td><td>str</td><td>str</td></tr></thead><tbody><tr><td>113190</td><td>&quot;Bobby&quot;</td><td>&quot;Riggs&quot;</td><td>&quot;U&quot;</td><td>null</td><td>&quot;USA&quot;</td><td>null</td><td>null</td><td>&quot;Bobby Riggs&quot;</td></tr><tr><td>200000</td><td>&quot;X&quot;</td><td>&quot;X&quot;</td><td>&quot;U&quot;</td><td>null</td><td>&quot;UNK&quot;</td><td>null</td><td>null</td><td>&quot;X X&quot;</td></tr><tr><td>200001</td><td>&quot;Martina&quot;</td><td>&quot;Hingis&quot;</td><td>&quot;R&quot;</td><td>1980-09-30</td><td>&quot;SUI&quot;</td><td>170</td><td>&quot;Q134720&quot;</td><td>&quot;Martina Hingis&quot;</td></tr><tr><td>200002</td><td>&quot;Mirjana&quot;</td><td>&quot;Lucic&quot;</td><td>&quot;R&quot;</td><td>1982-03-09</td><td>&quot;CRO&quot;</td><td>181</td><td>&quot;Q239686&quot;</td><td>&quot;Mirjana Lucic&quot;</td></tr><tr><td>200003</td><td>&quot;Justine&quot;</td><td>&quot;Henin&quot;</td><td>&quot;R&quot;</td><td>1982-06-01</td><td>&quot;BEL&quot;</td><td>167</td><td>&quot;Q11682&quot;</td><td>&quot;Justine Henin&quot;</td></tr><tr><td>&hellip;</td><td>&hellip;</td><td>&hellip;</td><td>&hellip;</td><td>&hellip;</td><td>&hellip;</td><td>&hellip;</td><td>&hellip;</td><td>&hellip;</td></tr><tr><td>267099</td><td>&quot;Kokoa&quot;</td><td>&quot;Nakao&quot;</td><td>&quot;U&quot;</td><td>null</td><td>&quot;JPN&quot;</td><td>null</td><td>null</td><td>&quot;Kokoa Nakao&quot;</td></tr><tr><td>267100</td><td>&quot;Aoi&quot;</td><td>&quot;Watanabe&quot;</td><td>&quot;U&quot;</td><td>null</td><td>&quot;JPN&quot;</td><td>null</td><td>null</td><td>&quot;Aoi Watanabe&quot;</td></tr><tr><td>267101</td><td>&quot;Sara&quot;</td><td>&quot;Yoshida&quot;</td><td>&quot;U&quot;</td><td>null</td><td>&quot;JPN&quot;</td><td>null</td><td>null</td><td>&quot;Sara Yoshida&quot;</td></tr><tr><td>267102</td><td>&quot;Ui Su&quot;</td><td>&quot;Jeong&quot;</td><td>&quot;U&quot;</td><td>null</td><td>&quot;KOR&quot;</td><td>null</td><td>null</td><td>&quot;Ui Su Jeong&quot;</td></tr><tr><td>267103</td><td>&quot;Alexia&quot;</td><td>&quot;Patru&quot;</td><td>&quot;U&quot;</td><td>null</td><td>&quot;ROU&quot;</td><td>null</td><td>null</td><td>&quot;Alexia Patru&quot;</td></tr></tbody></table></div>"
      ],
      "text/plain": [
       "shape: (67_095, 9)\n",
       "┌───────────┬────────────┬───────────┬──────┬───┬─────┬────────┬─────────────┬────────────────┐\n",
       "│ player_id ┆ name_first ┆ name_last ┆ hand ┆ … ┆ ioc ┆ height ┆ wikidata_id ┆ name_full      │\n",
       "│ ---       ┆ ---        ┆ ---       ┆ ---  ┆   ┆ --- ┆ ---    ┆ ---         ┆ ---            │\n",
       "│ i64       ┆ str        ┆ str       ┆ str  ┆   ┆ str ┆ i64    ┆ str         ┆ str            │\n",
       "╞═══════════╪════════════╪═══════════╪══════╪═══╪═════╪════════╪═════════════╪════════════════╡\n",
       "│ 113190    ┆ Bobby      ┆ Riggs     ┆ U    ┆ … ┆ USA ┆ null   ┆ null        ┆ Bobby Riggs    │\n",
       "│ 200000    ┆ X          ┆ X         ┆ U    ┆ … ┆ UNK ┆ null   ┆ null        ┆ X X            │\n",
       "│ 200001    ┆ Martina    ┆ Hingis    ┆ R    ┆ … ┆ SUI ┆ 170    ┆ Q134720     ┆ Martina Hingis │\n",
       "│ 200002    ┆ Mirjana    ┆ Lucic     ┆ R    ┆ … ┆ CRO ┆ 181    ┆ Q239686     ┆ Mirjana Lucic  │\n",
       "│ 200003    ┆ Justine    ┆ Henin     ┆ R    ┆ … ┆ BEL ┆ 167    ┆ Q11682      ┆ Justine Henin  │\n",
       "│ …         ┆ …          ┆ …         ┆ …    ┆ … ┆ …   ┆ …      ┆ …           ┆ …              │\n",
       "│ 267099    ┆ Kokoa      ┆ Nakao     ┆ U    ┆ … ┆ JPN ┆ null   ┆ null        ┆ Kokoa Nakao    │\n",
       "│ 267100    ┆ Aoi        ┆ Watanabe  ┆ U    ┆ … ┆ JPN ┆ null   ┆ null        ┆ Aoi Watanabe   │\n",
       "│ 267101    ┆ Sara       ┆ Yoshida   ┆ U    ┆ … ┆ JPN ┆ null   ┆ null        ┆ Sara Yoshida   │\n",
       "│ 267102    ┆ Ui Su      ┆ Jeong     ┆ U    ┆ … ┆ KOR ┆ null   ┆ null        ┆ Ui Su Jeong    │\n",
       "│ 267103    ┆ Alexia     ┆ Patru     ┆ U    ┆ … ┆ ROU ┆ null   ┆ null        ┆ Alexia Patru   │\n",
       "└───────────┴────────────┴───────────┴──────┴───┴─────┴────────┴─────────────┴────────────────┘"
      ]
     },
     "execution_count": 4,
     "metadata": {},
     "output_type": "execute_result"
    }
   ],
   "source": [
    "players=import_players(gender=\"wta\")\n",
    "players"
   ]
  },
  {
   "cell_type": "markdown",
   "metadata": {},
   "source": [
    "## Comincio creazione di df e df_tourney per ogni df disponibile"
   ]
  },
  {
   "cell_type": "code",
   "execution_count": 5,
   "metadata": {},
   "outputs": [
    {
     "data": {
      "text/html": [
       "<div><style>\n",
       ".dataframe > thead > tr,\n",
       ".dataframe > tbody > tr {\n",
       "  text-align: right;\n",
       "  white-space: pre-wrap;\n",
       "}\n",
       "</style>\n",
       "<small>shape: (25_001, 50)</small><table border=\"1\" class=\"dataframe\"><thead><tr><th>tourney_id</th><th>tourney_name</th><th>surface</th><th>draw_size</th><th>tourney_level</th><th>tourney_date</th><th>match_num</th><th>winner_id</th><th>winner_seed</th><th>winner_entry</th><th>winner_name</th><th>winner_hand</th><th>winner_ht</th><th>winner_ioc</th><th>winner_age</th><th>loser_id</th><th>loser_seed</th><th>loser_entry</th><th>loser_name</th><th>loser_hand</th><th>loser_ht</th><th>loser_ioc</th><th>loser_age</th><th>score</th><th>best_of</th><th>round</th><th>minutes</th><th>w_ace</th><th>w_df</th><th>w_svpt</th><th>w_1stIn</th><th>w_1stWon</th><th>w_2ndWon</th><th>w_SvGms</th><th>w_bpSaved</th><th>w_bpFaced</th><th>l_ace</th><th>l_df</th><th>l_svpt</th><th>l_1stIn</th><th>l_1stWon</th><th>l_2ndWon</th><th>l_SvGms</th><th>l_bpSaved</th><th>l_bpFaced</th><th>winner_rank</th><th>winner_rank_points</th><th>loser_rank</th><th>loser_rank_points</th><th>tourney_name_date</th></tr><tr><td>str</td><td>str</td><td>str</td><td>str</td><td>str</td><td>date</td><td>i64</td><td>i64</td><td>str</td><td>str</td><td>str</td><td>str</td><td>str</td><td>str</td><td>f64</td><td>i64</td><td>str</td><td>str</td><td>str</td><td>str</td><td>i64</td><td>str</td><td>f64</td><td>str</td><td>i64</td><td>str</td><td>str</td><td>str</td><td>str</td><td>str</td><td>str</td><td>str</td><td>str</td><td>str</td><td>str</td><td>str</td><td>str</td><td>str</td><td>str</td><td>str</td><td>str</td><td>str</td><td>str</td><td>str</td><td>str</td><td>str</td><td>str</td><td>str</td><td>str</td><td>str</td></tr></thead><tbody><tr><td>&quot;1877-540&quot;</td><td>&quot;Wimbledon&quot;</td><td>&quot;Grass&quot;</td><td>&quot;32&quot;</td><td>&quot;G&quot;</td><td>1877-07-09</td><td>1</td><td>113987</td><td>null</td><td>null</td><td>&quot;Spencer William Gore&quot;</td><td>null</td><td>null</td><td>&quot;GBR&quot;</td><td>27.331964</td><td>114009</td><td>null</td><td>null</td><td>&quot;Ht Gilson&quot;</td><td>null</td><td>null</td><td>&quot;GBR&quot;</td><td>null</td><td>&quot;6-2 6-0 6-3&quot;</td><td>5</td><td>&quot;R32&quot;</td><td>null</td><td>null</td><td>null</td><td>null</td><td>null</td><td>null</td><td>null</td><td>null</td><td>null</td><td>null</td><td>null</td><td>null</td><td>null</td><td>null</td><td>null</td><td>null</td><td>null</td><td>null</td><td>null</td><td>null</td><td>null</td><td>null</td><td>null</td><td>&quot;Wimbledon_1877-07-09&quot;</td></tr><tr><td>&quot;1877-540&quot;</td><td>&quot;Wimbledon&quot;</td><td>&quot;Grass&quot;</td><td>&quot;32&quot;</td><td>&quot;G&quot;</td><td>1877-07-09</td><td>2</td><td>114146</td><td>null</td><td>null</td><td>&quot;Montague Hankey&quot;</td><td>null</td><td>null</td><td>&quot;GBR&quot;</td><td>36.895277</td><td>113977</td><td>null</td><td>null</td><td>&quot;Robert Dalby Dalby&quot;</td><td>null</td><td>null</td><td>&quot;GBR&quot;</td><td>null</td><td>&quot;6-4 6-2 3-6 6-2&quot;</td><td>5</td><td>&quot;R32&quot;</td><td>null</td><td>null</td><td>null</td><td>null</td><td>null</td><td>null</td><td>null</td><td>null</td><td>null</td><td>null</td><td>null</td><td>null</td><td>null</td><td>null</td><td>null</td><td>null</td><td>null</td><td>null</td><td>null</td><td>null</td><td>null</td><td>null</td><td>null</td><td>&quot;Wimbledon_1877-07-09&quot;</td></tr><tr><td>&quot;1877-540&quot;</td><td>&quot;Wimbledon&quot;</td><td>&quot;Grass&quot;</td><td>&quot;32&quot;</td><td>&quot;G&quot;</td><td>1877-07-09</td><td>3</td><td>114147</td><td>null</td><td>null</td><td>&quot;John Baker&quot;</td><td>null</td><td>null</td><td>&quot;GBR&quot;</td><td>null</td><td>114148</td><td>null</td><td>null</td><td>&quot;Jw Trist&quot;</td><td>null</td><td>null</td><td>&quot;GBR&quot;</td><td>null</td><td>&quot;6-1 6-4 6-0&quot;</td><td>5</td><td>&quot;R32&quot;</td><td>null</td><td>null</td><td>null</td><td>null</td><td>null</td><td>null</td><td>null</td><td>null</td><td>null</td><td>null</td><td>null</td><td>null</td><td>null</td><td>null</td><td>null</td><td>null</td><td>null</td><td>null</td><td>null</td><td>null</td><td>null</td><td>null</td><td>null</td><td>&quot;Wimbledon_1877-07-09&quot;</td></tr><tr><td>&quot;1877-540&quot;</td><td>&quot;Wimbledon&quot;</td><td>&quot;Grass&quot;</td><td>&quot;32&quot;</td><td>&quot;G&quot;</td><td>1877-07-09</td><td>4</td><td>114149</td><td>null</td><td>null</td><td>&quot;Francis Nathaniel Langham&quot;</td><td>null</td><td>null</td><td>&quot;GBR&quot;</td><td>36.082136</td><td>114150</td><td>null</td><td>null</td><td>&quot;Charles Francis Buller&quot;</td><td>null</td><td>null</td><td>&quot;GBR&quot;</td><td>31.12115</td><td>&quot;W/O&quot;</td><td>5</td><td>&quot;R32&quot;</td><td>null</td><td>null</td><td>null</td><td>null</td><td>null</td><td>null</td><td>null</td><td>null</td><td>null</td><td>null</td><td>null</td><td>null</td><td>null</td><td>null</td><td>null</td><td>null</td><td>null</td><td>null</td><td>null</td><td>null</td><td>null</td><td>null</td><td>null</td><td>&quot;Wimbledon_1877-07-09&quot;</td></tr><tr><td>&quot;1877-540&quot;</td><td>&quot;Wimbledon&quot;</td><td>&quot;Grass&quot;</td><td>&quot;32&quot;</td><td>&quot;G&quot;</td><td>1877-07-09</td><td>5</td><td>113953</td><td>null</td><td>null</td><td>&quot;Lestocq Robert Erskine&quot;</td><td>null</td><td>null</td><td>&quot;GBR&quot;</td><td>19.838467</td><td>114151</td><td>null</td><td>null</td><td>&quot;E Wheeler&quot;</td><td>null</td><td>null</td><td>&quot;GBR&quot;</td><td>null</td><td>&quot;6-2 6-5 6-2&quot;</td><td>5</td><td>&quot;R32&quot;</td><td>null</td><td>null</td><td>null</td><td>null</td><td>null</td><td>null</td><td>null</td><td>null</td><td>null</td><td>null</td><td>null</td><td>null</td><td>null</td><td>null</td><td>null</td><td>null</td><td>null</td><td>null</td><td>null</td><td>null</td><td>null</td><td>null</td><td>null</td><td>&quot;Wimbledon_1877-07-09&quot;</td></tr><tr><td>&hellip;</td><td>&hellip;</td><td>&hellip;</td><td>&hellip;</td><td>&hellip;</td><td>&hellip;</td><td>&hellip;</td><td>&hellip;</td><td>&hellip;</td><td>&hellip;</td><td>&hellip;</td><td>&hellip;</td><td>&hellip;</td><td>&hellip;</td><td>&hellip;</td><td>&hellip;</td><td>&hellip;</td><td>&hellip;</td><td>&hellip;</td><td>&hellip;</td><td>&hellip;</td><td>&hellip;</td><td>&hellip;</td><td>&hellip;</td><td>&hellip;</td><td>&hellip;</td><td>&hellip;</td><td>&hellip;</td><td>&hellip;</td><td>&hellip;</td><td>&hellip;</td><td>&hellip;</td><td>&hellip;</td><td>&hellip;</td><td>&hellip;</td><td>&hellip;</td><td>&hellip;</td><td>&hellip;</td><td>&hellip;</td><td>&hellip;</td><td>&hellip;</td><td>&hellip;</td><td>&hellip;</td><td>&hellip;</td><td>&hellip;</td><td>&hellip;</td><td>&hellip;</td><td>&hellip;</td><td>&hellip;</td><td>&hellip;</td></tr><tr><td>&quot;1967-D047&quot;</td><td>&quot;Davis Cup EUR R1: NED vs RSA&quot;</td><td>&quot;Clay&quot;</td><td>&quot;4&quot;</td><td>&quot;D&quot;</td><td>1967-05-04</td><td>5</td><td>100084</td><td>null</td><td>null</td><td>&quot;Tom Okker&quot;</td><td>&quot;R&quot;</td><td>&quot;178&quot;</td><td>&quot;NED&quot;</td><td>23.195072</td><td>100055</td><td>null</td><td>null</td><td>&quot;Cliff Drysdale&quot;</td><td>&quot;R&quot;</td><td>188</td><td>&quot;RSA&quot;</td><td>25.938398</td><td>&quot;6-2 6-2 0-6 7-5&quot;</td><td>5</td><td>&quot;RR&quot;</td><td>null</td><td>null</td><td>null</td><td>null</td><td>null</td><td>null</td><td>null</td><td>null</td><td>null</td><td>null</td><td>null</td><td>null</td><td>null</td><td>null</td><td>null</td><td>null</td><td>null</td><td>null</td><td>null</td><td>null</td><td>null</td><td>null</td><td>null</td><td>&quot;Davis Cup EUR R1: NED vs RSA_1…</td></tr><tr><td>&quot;1967-D048&quot;</td><td>&quot;Davis Cup AME SF: PHI vs VIE&quot;</td><td>null</td><td>&quot;4&quot;</td><td>&quot;D&quot;</td><td>1967-04-14</td><td>1</td><td>106910</td><td>null</td><td>null</td><td>&quot;Eddie Cruz&quot;</td><td>&quot;R&quot;</td><td>null</td><td>&quot;PHI&quot;</td><td>null</td><td>111097</td><td>null</td><td>null</td><td>&quot;Van Bay Vo&quot;</td><td>&quot;U&quot;</td><td>null</td><td>&quot;VIE&quot;</td><td>null</td><td>&quot;6-2 6-3 6-2&quot;</td><td>5</td><td>&quot;RR&quot;</td><td>null</td><td>null</td><td>null</td><td>null</td><td>null</td><td>null</td><td>null</td><td>null</td><td>null</td><td>null</td><td>null</td><td>null</td><td>null</td><td>null</td><td>null</td><td>null</td><td>null</td><td>null</td><td>null</td><td>null</td><td>null</td><td>null</td><td>null</td><td>&quot;Davis Cup AME SF: PHI vs VIE_1…</td></tr><tr><td>&quot;1967-D048&quot;</td><td>&quot;Davis Cup AME SF: PHI vs VIE&quot;</td><td>null</td><td>&quot;4&quot;</td><td>&quot;D&quot;</td><td>1967-04-14</td><td>2</td><td>112556</td><td>null</td><td>null</td><td>&quot;Felicisimo Ampon&quot;</td><td>null</td><td>null</td><td>&quot;PHI&quot;</td><td>46.461328</td><td>111091</td><td>null</td><td>null</td><td>&quot;Van Thanh Vo&quot;</td><td>&quot;U&quot;</td><td>null</td><td>&quot;VIE&quot;</td><td>null</td><td>&quot;6-4 6-1 6-1&quot;</td><td>5</td><td>&quot;RR&quot;</td><td>null</td><td>null</td><td>null</td><td>null</td><td>null</td><td>null</td><td>null</td><td>null</td><td>null</td><td>null</td><td>null</td><td>null</td><td>null</td><td>null</td><td>null</td><td>null</td><td>null</td><td>null</td><td>null</td><td>null</td><td>null</td><td>null</td><td>null</td><td>&quot;Davis Cup AME SF: PHI vs VIE_1…</td></tr><tr><td>&quot;1967-D048&quot;</td><td>&quot;Davis Cup AME SF: PHI vs VIE&quot;</td><td>null</td><td>&quot;4&quot;</td><td>&quot;D&quot;</td><td>1967-04-14</td><td>4</td><td>125731</td><td>null</td><td>null</td><td>&quot;Samuel Ang&quot;</td><td>&quot;U&quot;</td><td>null</td><td>&quot;PHI&quot;</td><td>null</td><td>117339</td><td>null</td><td>null</td><td>&quot;Hoang Duc Luu&quot;</td><td>null</td><td>null</td><td>&quot;VIE&quot;</td><td>null</td><td>&quot;6-3 6-4 6-1&quot;</td><td>5</td><td>&quot;RR&quot;</td><td>null</td><td>null</td><td>null</td><td>null</td><td>null</td><td>null</td><td>null</td><td>null</td><td>null</td><td>null</td><td>null</td><td>null</td><td>null</td><td>null</td><td>null</td><td>null</td><td>null</td><td>null</td><td>null</td><td>null</td><td>null</td><td>null</td><td>null</td><td>&quot;Davis Cup AME SF: PHI vs VIE_1…</td></tr><tr><td>&quot;1967-D048&quot;</td><td>&quot;Davis Cup AME SF: PHI vs VIE&quot;</td><td>null</td><td>&quot;4&quot;</td><td>&quot;D&quot;</td><td>1967-04-14</td><td>5</td><td>106910</td><td>null</td><td>null</td><td>&quot;Eddie Cruz&quot;</td><td>&quot;R&quot;</td><td>null</td><td>&quot;PHI&quot;</td><td>null</td><td>111091</td><td>null</td><td>null</td><td>&quot;Van Thanh Vo&quot;</td><td>&quot;U&quot;</td><td>null</td><td>&quot;VIE&quot;</td><td>null</td><td>&quot;12-10 9-7 6-1&quot;</td><td>5</td><td>&quot;RR&quot;</td><td>null</td><td>null</td><td>null</td><td>null</td><td>null</td><td>null</td><td>null</td><td>null</td><td>null</td><td>null</td><td>null</td><td>null</td><td>null</td><td>null</td><td>null</td><td>null</td><td>null</td><td>null</td><td>null</td><td>null</td><td>null</td><td>null</td><td>null</td><td>&quot;Davis Cup AME SF: PHI vs VIE_1…</td></tr></tbody></table></div>"
      ],
      "text/plain": [
       "shape: (25_001, 50)\n",
       "┌────────────┬───────────┬─────────┬───────────┬───┬───────────┬───────────┬───────────┬───────────┐\n",
       "│ tourney_id ┆ tourney_n ┆ surface ┆ draw_size ┆ … ┆ winner_ra ┆ loser_ran ┆ loser_ran ┆ tourney_n │\n",
       "│ ---        ┆ ame       ┆ ---     ┆ ---       ┆   ┆ nk_points ┆ k         ┆ k_points  ┆ ame_date  │\n",
       "│ str        ┆ ---       ┆ str     ┆ str       ┆   ┆ ---       ┆ ---       ┆ ---       ┆ ---       │\n",
       "│            ┆ str       ┆         ┆           ┆   ┆ str       ┆ str       ┆ str       ┆ str       │\n",
       "╞════════════╪═══════════╪═════════╪═══════════╪═══╪═══════════╪═══════════╪═══════════╪═══════════╡\n",
       "│ 1877-540   ┆ Wimbledon ┆ Grass   ┆ 32        ┆ … ┆ null      ┆ null      ┆ null      ┆ Wimbledon │\n",
       "│            ┆           ┆         ┆           ┆   ┆           ┆           ┆           ┆ _1877-07- │\n",
       "│            ┆           ┆         ┆           ┆   ┆           ┆           ┆           ┆ 09        │\n",
       "│ 1877-540   ┆ Wimbledon ┆ Grass   ┆ 32        ┆ … ┆ null      ┆ null      ┆ null      ┆ Wimbledon │\n",
       "│            ┆           ┆         ┆           ┆   ┆           ┆           ┆           ┆ _1877-07- │\n",
       "│            ┆           ┆         ┆           ┆   ┆           ┆           ┆           ┆ 09        │\n",
       "│ 1877-540   ┆ Wimbledon ┆ Grass   ┆ 32        ┆ … ┆ null      ┆ null      ┆ null      ┆ Wimbledon │\n",
       "│            ┆           ┆         ┆           ┆   ┆           ┆           ┆           ┆ _1877-07- │\n",
       "│            ┆           ┆         ┆           ┆   ┆           ┆           ┆           ┆ 09        │\n",
       "│ 1877-540   ┆ Wimbledon ┆ Grass   ┆ 32        ┆ … ┆ null      ┆ null      ┆ null      ┆ Wimbledon │\n",
       "│            ┆           ┆         ┆           ┆   ┆           ┆           ┆           ┆ _1877-07- │\n",
       "│            ┆           ┆         ┆           ┆   ┆           ┆           ┆           ┆ 09        │\n",
       "│ 1877-540   ┆ Wimbledon ┆ Grass   ┆ 32        ┆ … ┆ null      ┆ null      ┆ null      ┆ Wimbledon │\n",
       "│            ┆           ┆         ┆           ┆   ┆           ┆           ┆           ┆ _1877-07- │\n",
       "│            ┆           ┆         ┆           ┆   ┆           ┆           ┆           ┆ 09        │\n",
       "│ …          ┆ …         ┆ …       ┆ …         ┆ … ┆ …         ┆ …         ┆ …         ┆ …         │\n",
       "│ 1967-D047  ┆ Davis Cup ┆ Clay    ┆ 4         ┆ … ┆ null      ┆ null      ┆ null      ┆ Davis Cup │\n",
       "│            ┆ EUR R1:   ┆         ┆           ┆   ┆           ┆           ┆           ┆ EUR R1:   │\n",
       "│            ┆ NED vs    ┆         ┆           ┆   ┆           ┆           ┆           ┆ NED vs    │\n",
       "│            ┆ RSA       ┆         ┆           ┆   ┆           ┆           ┆           ┆ RSA_1…    │\n",
       "│ 1967-D048  ┆ Davis Cup ┆ null    ┆ 4         ┆ … ┆ null      ┆ null      ┆ null      ┆ Davis Cup │\n",
       "│            ┆ AME SF:   ┆         ┆           ┆   ┆           ┆           ┆           ┆ AME SF:   │\n",
       "│            ┆ PHI vs    ┆         ┆           ┆   ┆           ┆           ┆           ┆ PHI vs    │\n",
       "│            ┆ VIE       ┆         ┆           ┆   ┆           ┆           ┆           ┆ VIE_1…    │\n",
       "│ 1967-D048  ┆ Davis Cup ┆ null    ┆ 4         ┆ … ┆ null      ┆ null      ┆ null      ┆ Davis Cup │\n",
       "│            ┆ AME SF:   ┆         ┆           ┆   ┆           ┆           ┆           ┆ AME SF:   │\n",
       "│            ┆ PHI vs    ┆         ┆           ┆   ┆           ┆           ┆           ┆ PHI vs    │\n",
       "│            ┆ VIE       ┆         ┆           ┆   ┆           ┆           ┆           ┆ VIE_1…    │\n",
       "│ 1967-D048  ┆ Davis Cup ┆ null    ┆ 4         ┆ … ┆ null      ┆ null      ┆ null      ┆ Davis Cup │\n",
       "│            ┆ AME SF:   ┆         ┆           ┆   ┆           ┆           ┆           ┆ AME SF:   │\n",
       "│            ┆ PHI vs    ┆         ┆           ┆   ┆           ┆           ┆           ┆ PHI vs    │\n",
       "│            ┆ VIE       ┆         ┆           ┆   ┆           ┆           ┆           ┆ VIE_1…    │\n",
       "│ 1967-D048  ┆ Davis Cup ┆ null    ┆ 4         ┆ … ┆ null      ┆ null      ┆ null      ┆ Davis Cup │\n",
       "│            ┆ AME SF:   ┆         ┆           ┆   ┆           ┆           ┆           ┆ AME SF:   │\n",
       "│            ┆ PHI vs    ┆         ┆           ┆   ┆           ┆           ┆           ┆ PHI vs    │\n",
       "│            ┆ VIE       ┆         ┆           ┆   ┆           ┆           ┆           ┆ VIE_1…    │\n",
       "└────────────┴───────────┴─────────┴───────────┴───┴───────────┴───────────┴───────────┴───────────┘"
      ]
     },
     "execution_count": 5,
     "metadata": {},
     "output_type": "execute_result"
    }
   ],
   "source": [
    "#creazione df amatori\n",
    "matches_amateurs_atp=import_matches_amateurs_atp(write_parquet=True)\n",
    "#creazione colonna 'tourney_name_date' con metodo polars\n",
    "matches_amateurs_atp = matches_amateurs_atp.with_columns(\n",
    "    (pl.col(\"tourney_name\") + \"_\" + pl.col(\"tourney_date\").cast(pl.Utf8)).alias(\"tourney_name_date\")\n",
    ")\n",
    "matches_amateurs_atp"
   ]
  },
  {
   "cell_type": "code",
   "execution_count": 10,
   "metadata": {},
   "outputs": [
    {
     "data": {
      "text/html": [
       "<div><style>\n",
       ".dataframe > thead > tr,\n",
       ".dataframe > tbody > tr {\n",
       "  text-align: right;\n",
       "  white-space: pre-wrap;\n",
       "}\n",
       "</style>\n",
       "<small>shape: (1_482, 7)</small><table border=\"1\" class=\"dataframe\"><thead><tr><th>tourney_id</th><th>tourney_name</th><th>surface</th><th>draw_size</th><th>tourney_level</th><th>tourney_date</th><th>tourney_name_date</th></tr><tr><td>str</td><td>str</td><td>str</td><td>str</td><td>str</td><td>date</td><td>str</td></tr></thead><tbody><tr><td>&quot;1965-D021&quot;</td><td>&quot;Davis Cup EUR R1: GBR vs ISR&quot;</td><td>&quot;Clay&quot;</td><td>&quot;4&quot;</td><td>&quot;D&quot;</td><td>1965-04-28</td><td>&quot;Davis Cup EUR R1: GBR vs ISR_1…</td></tr><tr><td>&quot;1957-D031&quot;</td><td>&quot;Davis Cup EUR R1: YUG vs MEX&quot;</td><td>null</td><td>&quot;4&quot;</td><td>&quot;D&quot;</td><td>1957-04-26</td><td>&quot;Davis Cup EUR R1: YUG vs MEX_1…</td></tr><tr><td>&quot;1967-D022&quot;</td><td>&quot;Davis Cup EUR SF: GBR vs ESP&quot;</td><td>&quot;Grass&quot;</td><td>&quot;4&quot;</td><td>&quot;D&quot;</td><td>1967-06-08</td><td>&quot;Davis Cup EUR SF: GBR vs ESP_1…</td></tr><tr><td>&quot;1928-D018&quot;</td><td>&quot;Davis Cup EUR R2: NED vs HUN&quot;</td><td>&quot;Clay&quot;</td><td>&quot;4&quot;</td><td>&quot;D&quot;</td><td>1928-05-18</td><td>&quot;Davis Cup EUR R2: NED vs HUN_1…</td></tr><tr><td>&quot;1933-D026&quot;</td><td>&quot;Davis Cup EUR SF: GBR vs TCH&quot;</td><td>&quot;Grass&quot;</td><td>&quot;4&quot;</td><td>&quot;D&quot;</td><td>1933-06-17</td><td>&quot;Davis Cup EUR SF: GBR vs TCH_1…</td></tr><tr><td>&hellip;</td><td>&hellip;</td><td>&hellip;</td><td>&hellip;</td><td>&hellip;</td><td>&hellip;</td><td>&hellip;</td></tr><tr><td>&quot;1924-580&quot;</td><td>&quot;Australian Open&quot;</td><td>&quot;Grass&quot;</td><td>&quot;64&quot;</td><td>&quot;G&quot;</td><td>1924-01-19</td><td>&quot;Australian Open_1924-01-19&quot;</td></tr><tr><td>&quot;1959-D004&quot;</td><td>&quot;Davis Cup AME F: AUS vs CUB&quot;</td><td>&quot;Grass&quot;</td><td>&quot;4&quot;</td><td>&quot;D&quot;</td><td>1959-07-31</td><td>&quot;Davis Cup AME F: AUS vs CUB_19…</td></tr><tr><td>&quot;1946-D020&quot;</td><td>&quot;Davis Cup EUR QF: TCH vs YUG&quot;</td><td>null</td><td>&quot;4&quot;</td><td>&quot;D&quot;</td><td>1946-05-24</td><td>&quot;Davis Cup EUR QF: TCH vs YUG_1…</td></tr><tr><td>&quot;1960-D035&quot;</td><td>&quot;Davis Cup EUR R1: NOR vs NED&quot;</td><td>&quot;Clay&quot;</td><td>&quot;4&quot;</td><td>&quot;D&quot;</td><td>1960-04-29</td><td>&quot;Davis Cup EUR R1: NOR vs NED_1…</td></tr><tr><td>&quot;1926-D017&quot;</td><td>&quot;Davis Cup EUR R2: TCH vs IND&quot;</td><td>null</td><td>&quot;4&quot;</td><td>&quot;D&quot;</td><td>1926-05-14</td><td>&quot;Davis Cup EUR R2: TCH vs IND_1…</td></tr></tbody></table></div>"
      ],
      "text/plain": [
       "shape: (1_482, 7)\n",
       "┌────────────┬────────────────┬─────────┬───────────┬───────────────┬──────────────┬───────────────┐\n",
       "│ tourney_id ┆ tourney_name   ┆ surface ┆ draw_size ┆ tourney_level ┆ tourney_date ┆ tourney_name_ │\n",
       "│ ---        ┆ ---            ┆ ---     ┆ ---       ┆ ---           ┆ ---          ┆ date          │\n",
       "│ str        ┆ str            ┆ str     ┆ str       ┆ str           ┆ date         ┆ ---           │\n",
       "│            ┆                ┆         ┆           ┆               ┆              ┆ str           │\n",
       "╞════════════╪════════════════╪═════════╪═══════════╪═══════════════╪══════════════╪═══════════════╡\n",
       "│ 1965-D021  ┆ Davis Cup EUR  ┆ Clay    ┆ 4         ┆ D             ┆ 1965-04-28   ┆ Davis Cup EUR │\n",
       "│            ┆ R1: GBR vs ISR ┆         ┆           ┆               ┆              ┆ R1: GBR vs    │\n",
       "│            ┆                ┆         ┆           ┆               ┆              ┆ ISR_1…        │\n",
       "│ 1957-D031  ┆ Davis Cup EUR  ┆ null    ┆ 4         ┆ D             ┆ 1957-04-26   ┆ Davis Cup EUR │\n",
       "│            ┆ R1: YUG vs MEX ┆         ┆           ┆               ┆              ┆ R1: YUG vs    │\n",
       "│            ┆                ┆         ┆           ┆               ┆              ┆ MEX_1…        │\n",
       "│ 1967-D022  ┆ Davis Cup EUR  ┆ Grass   ┆ 4         ┆ D             ┆ 1967-06-08   ┆ Davis Cup EUR │\n",
       "│            ┆ SF: GBR vs ESP ┆         ┆           ┆               ┆              ┆ SF: GBR vs    │\n",
       "│            ┆                ┆         ┆           ┆               ┆              ┆ ESP_1…        │\n",
       "│ 1928-D018  ┆ Davis Cup EUR  ┆ Clay    ┆ 4         ┆ D             ┆ 1928-05-18   ┆ Davis Cup EUR │\n",
       "│            ┆ R2: NED vs HUN ┆         ┆           ┆               ┆              ┆ R2: NED vs    │\n",
       "│            ┆                ┆         ┆           ┆               ┆              ┆ HUN_1…        │\n",
       "│ 1933-D026  ┆ Davis Cup EUR  ┆ Grass   ┆ 4         ┆ D             ┆ 1933-06-17   ┆ Davis Cup EUR │\n",
       "│            ┆ SF: GBR vs TCH ┆         ┆           ┆               ┆              ┆ SF: GBR vs    │\n",
       "│            ┆                ┆         ┆           ┆               ┆              ┆ TCH_1…        │\n",
       "│ …          ┆ …              ┆ …       ┆ …         ┆ …             ┆ …            ┆ …             │\n",
       "│ 1924-580   ┆ Australian     ┆ Grass   ┆ 64        ┆ G             ┆ 1924-01-19   ┆ Australian    │\n",
       "│            ┆ Open           ┆         ┆           ┆               ┆              ┆ Open_1924-01- │\n",
       "│            ┆                ┆         ┆           ┆               ┆              ┆ 19            │\n",
       "│ 1959-D004  ┆ Davis Cup AME  ┆ Grass   ┆ 4         ┆ D             ┆ 1959-07-31   ┆ Davis Cup AME │\n",
       "│            ┆ F: AUS vs CUB  ┆         ┆           ┆               ┆              ┆ F: AUS vs     │\n",
       "│            ┆                ┆         ┆           ┆               ┆              ┆ CUB_19…       │\n",
       "│ 1946-D020  ┆ Davis Cup EUR  ┆ null    ┆ 4         ┆ D             ┆ 1946-05-24   ┆ Davis Cup EUR │\n",
       "│            ┆ QF: TCH vs YUG ┆         ┆           ┆               ┆              ┆ QF: TCH vs    │\n",
       "│            ┆                ┆         ┆           ┆               ┆              ┆ YUG_1…        │\n",
       "│ 1960-D035  ┆ Davis Cup EUR  ┆ Clay    ┆ 4         ┆ D             ┆ 1960-04-29   ┆ Davis Cup EUR │\n",
       "│            ┆ R1: NOR vs NED ┆         ┆           ┆               ┆              ┆ R1: NOR vs    │\n",
       "│            ┆                ┆         ┆           ┆               ┆              ┆ NED_1…        │\n",
       "│ 1926-D017  ┆ Davis Cup EUR  ┆ null    ┆ 4         ┆ D             ┆ 1926-05-14   ┆ Davis Cup EUR │\n",
       "│            ┆ R2: TCH vs IND ┆         ┆           ┆               ┆              ┆ R2: TCH vs    │\n",
       "│            ┆                ┆         ┆           ┆               ┆              ┆ IND_1…        │\n",
       "└────────────┴────────────────┴─────────┴───────────┴───────────────┴──────────────┴───────────────┘"
      ]
     },
     "execution_count": 10,
     "metadata": {},
     "output_type": "execute_result"
    }
   ],
   "source": [
    "#creazione 'turney_amateurs_matches_atp' e in seguito unique di 'tourney_name_date'\n",
    "turney_amateurs_matches_atp=matches_amateurs_atp[['tourney_id', 'tourney_name', 'surface', 'draw_size', 'tourney_level', 'tourney_date', 'tourney_name_date']]\n",
    "turney_amateurs_matches_atp=turney_amateurs_matches_atp.unique('tourney_name_date')\n",
    "turney_amateurs_matches_atp"
   ]
  },
  {
   "cell_type": "code",
   "execution_count": 6,
   "metadata": {},
   "outputs": [
    {
     "data": {
      "text/html": [
       "<div><style>\n",
       ".dataframe > thead > tr,\n",
       ".dataframe > tbody > tr {\n",
       "  text-align: right;\n",
       "  white-space: pre-wrap;\n",
       "}\n",
       "</style>\n",
       "<small>shape: (193_337, 50)</small><table border=\"1\" class=\"dataframe\"><thead><tr><th>tourney_id</th><th>tourney_name</th><th>surface</th><th>draw_size</th><th>tourney_level</th><th>tourney_date</th><th>match_num</th><th>winner_id</th><th>winner_seed</th><th>winner_entry</th><th>winner_name</th><th>winner_hand</th><th>winner_ht</th><th>winner_ioc</th><th>winner_age</th><th>loser_id</th><th>loser_seed</th><th>loser_entry</th><th>loser_name</th><th>loser_hand</th><th>loser_ht</th><th>loser_ioc</th><th>loser_age</th><th>score</th><th>best_of</th><th>round</th><th>minutes</th><th>w_ace</th><th>w_df</th><th>w_svpt</th><th>w_1stIn</th><th>w_1stWon</th><th>w_2ndWon</th><th>w_SvGms</th><th>w_bpSaved</th><th>w_bpFaced</th><th>l_ace</th><th>l_df</th><th>l_svpt</th><th>l_1stIn</th><th>l_1stWon</th><th>l_2ndWon</th><th>l_SvGms</th><th>l_bpSaved</th><th>l_bpFaced</th><th>winner_rank</th><th>winner_rank_points</th><th>loser_rank</th><th>loser_rank_points</th><th>tourney_name_date</th></tr><tr><td>str</td><td>str</td><td>str</td><td>i64</td><td>str</td><td>date</td><td>i64</td><td>str</td><td>str</td><td>str</td><td>str</td><td>str</td><td>i64</td><td>str</td><td>f64</td><td>str</td><td>str</td><td>str</td><td>str</td><td>str</td><td>i64</td><td>str</td><td>f64</td><td>str</td><td>i64</td><td>str</td><td>str</td><td>str</td><td>str</td><td>str</td><td>str</td><td>str</td><td>str</td><td>str</td><td>str</td><td>str</td><td>str</td><td>str</td><td>str</td><td>str</td><td>str</td><td>str</td><td>str</td><td>str</td><td>str</td><td>str</td><td>str</td><td>str</td><td>str</td><td>str</td></tr></thead><tbody><tr><td>&quot;1968-2029&quot;</td><td>&quot;Dublin&quot;</td><td>&quot;Grass&quot;</td><td>32</td><td>&quot;A&quot;</td><td>1968-07-08</td><td>270</td><td>&quot;112411&quot;</td><td>null</td><td>null</td><td>&quot;Doug Smith&quot;</td><td>&quot;U&quot;</td><td>null</td><td>&quot;AUS&quot;</td><td>null</td><td>&quot;110196&quot;</td><td>null</td><td>null</td><td>&quot;Peter Ledbetter&quot;</td><td>&quot;U&quot;</td><td>null</td><td>&quot;IRL&quot;</td><td>24.0</td><td>&quot;6-1 7-5&quot;</td><td>3</td><td>&quot;R32&quot;</td><td>null</td><td>null</td><td>null</td><td>null</td><td>null</td><td>null</td><td>null</td><td>null</td><td>null</td><td>null</td><td>null</td><td>null</td><td>null</td><td>null</td><td>null</td><td>null</td><td>null</td><td>null</td><td>null</td><td>null</td><td>null</td><td>null</td><td>null</td><td>&quot;Dublin_1968-07-08&quot;</td></tr><tr><td>&quot;1968-2029&quot;</td><td>&quot;Dublin&quot;</td><td>&quot;Grass&quot;</td><td>32</td><td>&quot;A&quot;</td><td>1968-07-08</td><td>271</td><td>&quot;126914&quot;</td><td>null</td><td>null</td><td>&quot;Louis Pretorius&quot;</td><td>&quot;R&quot;</td><td>null</td><td>&quot;RSA&quot;</td><td>null</td><td>&quot;209536&quot;</td><td>null</td><td>null</td><td>&quot;Maurice Pollock&quot;</td><td>&quot;U&quot;</td><td>null</td><td>&quot;IRL&quot;</td><td>null</td><td>&quot;6-1 6-1&quot;</td><td>3</td><td>&quot;R32&quot;</td><td>null</td><td>null</td><td>null</td><td>null</td><td>null</td><td>null</td><td>null</td><td>null</td><td>null</td><td>null</td><td>null</td><td>null</td><td>null</td><td>null</td><td>null</td><td>null</td><td>null</td><td>null</td><td>null</td><td>null</td><td>null</td><td>null</td><td>null</td><td>&quot;Dublin_1968-07-08&quot;</td></tr><tr><td>&quot;1968-2029&quot;</td><td>&quot;Dublin&quot;</td><td>&quot;Grass&quot;</td><td>32</td><td>&quot;A&quot;</td><td>1968-07-08</td><td>272</td><td>&quot;209523&quot;</td><td>null</td><td>null</td><td>&quot;Cecil Pedlow&quot;</td><td>&quot;U&quot;</td><td>null</td><td>&quot;IRL&quot;</td><td>null</td><td>&quot;209535&quot;</td><td>null</td><td>null</td><td>&quot;John Mulvey&quot;</td><td>&quot;U&quot;</td><td>null</td><td>&quot;IRL&quot;</td><td>null</td><td>&quot;6-2 6-2&quot;</td><td>3</td><td>&quot;R32&quot;</td><td>null</td><td>null</td><td>null</td><td>null</td><td>null</td><td>null</td><td>null</td><td>null</td><td>null</td><td>null</td><td>null</td><td>null</td><td>null</td><td>null</td><td>null</td><td>null</td><td>null</td><td>null</td><td>null</td><td>null</td><td>null</td><td>null</td><td>null</td><td>&quot;Dublin_1968-07-08&quot;</td></tr><tr><td>&quot;1968-2029&quot;</td><td>&quot;Dublin&quot;</td><td>&quot;Grass&quot;</td><td>32</td><td>&quot;A&quot;</td><td>1968-07-08</td><td>273</td><td>&quot;100084&quot;</td><td>null</td><td>null</td><td>&quot;Tom Okker&quot;</td><td>&quot;R&quot;</td><td>178</td><td>&quot;NED&quot;</td><td>24.3</td><td>&quot;209534&quot;</td><td>null</td><td>null</td><td>&quot;Unknown Fearmon&quot;</td><td>&quot;U&quot;</td><td>null</td><td>null</td><td>null</td><td>&quot;6-1 6-1&quot;</td><td>3</td><td>&quot;R32&quot;</td><td>null</td><td>null</td><td>null</td><td>null</td><td>null</td><td>null</td><td>null</td><td>null</td><td>null</td><td>null</td><td>null</td><td>null</td><td>null</td><td>null</td><td>null</td><td>null</td><td>null</td><td>null</td><td>null</td><td>null</td><td>null</td><td>null</td><td>null</td><td>&quot;Dublin_1968-07-08&quot;</td></tr><tr><td>&quot;1968-2029&quot;</td><td>&quot;Dublin&quot;</td><td>&quot;Grass&quot;</td><td>32</td><td>&quot;A&quot;</td><td>1968-07-08</td><td>274</td><td>&quot;100132&quot;</td><td>null</td><td>null</td><td>&quot;Armistead Neely&quot;</td><td>&quot;R&quot;</td><td>null</td><td>&quot;USA&quot;</td><td>21.3</td><td>&quot;209533&quot;</td><td>null</td><td>null</td><td>&quot;Harry Sheridan&quot;</td><td>&quot;U&quot;</td><td>null</td><td>&quot;IRL&quot;</td><td>null</td><td>&quot;6-2 6-4&quot;</td><td>3</td><td>&quot;R32&quot;</td><td>null</td><td>null</td><td>null</td><td>null</td><td>null</td><td>null</td><td>null</td><td>null</td><td>null</td><td>null</td><td>null</td><td>null</td><td>null</td><td>null</td><td>null</td><td>null</td><td>null</td><td>null</td><td>null</td><td>null</td><td>null</td><td>null</td><td>null</td><td>&quot;Dublin_1968-07-08&quot;</td></tr><tr><td>&hellip;</td><td>&hellip;</td><td>&hellip;</td><td>&hellip;</td><td>&hellip;</td><td>&hellip;</td><td>&hellip;</td><td>&hellip;</td><td>&hellip;</td><td>&hellip;</td><td>&hellip;</td><td>&hellip;</td><td>&hellip;</td><td>&hellip;</td><td>&hellip;</td><td>&hellip;</td><td>&hellip;</td><td>&hellip;</td><td>&hellip;</td><td>&hellip;</td><td>&hellip;</td><td>&hellip;</td><td>&hellip;</td><td>&hellip;</td><td>&hellip;</td><td>&hellip;</td><td>&hellip;</td><td>&hellip;</td><td>&hellip;</td><td>&hellip;</td><td>&hellip;</td><td>&hellip;</td><td>&hellip;</td><td>&hellip;</td><td>&hellip;</td><td>&hellip;</td><td>&hellip;</td><td>&hellip;</td><td>&hellip;</td><td>&hellip;</td><td>&hellip;</td><td>&hellip;</td><td>&hellip;</td><td>&hellip;</td><td>&hellip;</td><td>&hellip;</td><td>&hellip;</td><td>&hellip;</td><td>&hellip;</td><td>&hellip;</td></tr><tr><td>&quot;2024-M-DC-2024-WG2-PO-URU-MDA-…</td><td>&quot;Davis Cup WG2 PO: URU vs MDA&quot;</td><td>&quot;Clay&quot;</td><td>4</td><td>&quot;D&quot;</td><td>2024-02-03</td><td>5</td><td>&quot;212051&quot;</td><td>null</td><td>null</td><td>&quot;Joaquin&nbsp;&nbsp;Aguilar Cardozo &quot;</td><td>&quot;U&quot;</td><td>null</td><td>&quot;URU&quot;</td><td>18.8</td><td>&quot;209943&quot;</td><td>null</td><td>null</td><td>&quot;Ilya Snitari&quot;</td><td>&quot;U&quot;</td><td>null</td><td>&quot;MDA&quot;</td><td>21.8</td><td>&quot;6-1 6-0&quot;</td><td>3</td><td>&quot;RR&quot;</td><td>&quot;77&quot;</td><td>&quot;0&quot;</td><td>&quot;0&quot;</td><td>&quot;36&quot;</td><td>&quot;22&quot;</td><td>&quot;15&quot;</td><td>&quot;10&quot;</td><td>&quot;7&quot;</td><td>&quot;1&quot;</td><td>&quot;1&quot;</td><td>&quot;1&quot;</td><td>&quot;1&quot;</td><td>&quot;61&quot;</td><td>&quot;30&quot;</td><td>&quot;17&quot;</td><td>&quot;7&quot;</td><td>&quot;6&quot;</td><td>&quot;8&quot;</td><td>&quot;14&quot;</td><td>&quot;1109&quot;</td><td>&quot;8&quot;</td><td>&quot;740&quot;</td><td>&quot;34&quot;</td><td>&quot;Davis Cup WG2 PO: URU vs MDA_2…</td></tr><tr><td>&quot;2024-M-DC-2024-WG2-PO-VIE-RSA-…</td><td>&quot;Davis Cup WG2 PO: VIE vs RSA&quot;</td><td>&quot;Hard&quot;</td><td>4</td><td>&quot;D&quot;</td><td>2024-02-02</td><td>1</td><td>&quot;122533&quot;</td><td>null</td><td>null</td><td>&quot;Nam Hoang Ly&quot;</td><td>&quot;R&quot;</td><td>null</td><td>&quot;VIE&quot;</td><td>26.9</td><td>&quot;202475&quot;</td><td>null</td><td>null</td><td>&quot;Philip Henning&quot;</td><td>&quot;R&quot;</td><td>null</td><td>&quot;RSA&quot;</td><td>23.2</td><td>&quot;6-3 6-4&quot;</td><td>3</td><td>&quot;RR&quot;</td><td>&quot;131&quot;</td><td>&quot;1&quot;</td><td>&quot;1&quot;</td><td>&quot;86&quot;</td><td>&quot;60&quot;</td><td>&quot;40&quot;</td><td>&quot;13&quot;</td><td>&quot;10&quot;</td><td>&quot;8&quot;</td><td>&quot;9&quot;</td><td>&quot;2&quot;</td><td>&quot;1&quot;</td><td>&quot;56&quot;</td><td>&quot;41&quot;</td><td>&quot;25&quot;</td><td>&quot;6&quot;</td><td>&quot;9&quot;</td><td>&quot;1&quot;</td><td>&quot;4&quot;</td><td>&quot;554&quot;</td><td>&quot;67&quot;</td><td>&quot;748&quot;</td><td>&quot;32&quot;</td><td>&quot;Davis Cup WG2 PO: VIE vs RSA_2…</td></tr><tr><td>&quot;2024-M-DC-2024-WG2-PO-VIE-RSA-…</td><td>&quot;Davis Cup WG2 PO: VIE vs RSA&quot;</td><td>&quot;Hard&quot;</td><td>4</td><td>&quot;D&quot;</td><td>2024-02-02</td><td>2</td><td>&quot;144748&quot;</td><td>null</td><td>null</td><td>&quot;Kris Van Wyk&quot;</td><td>&quot;U&quot;</td><td>null</td><td>&quot;RSA&quot;</td><td>27.3</td><td>&quot;144775&quot;</td><td>null</td><td>null</td><td>&quot;Linh Giang Trinh&quot;</td><td>&quot;R&quot;</td><td>183</td><td>&quot;VIE&quot;</td><td>26.4</td><td>&quot;4-6 6-3 4-0&quot;</td><td>3</td><td>&quot;RR&quot;</td><td>&quot;131&quot;</td><td>&quot;4&quot;</td><td>&quot;2&quot;</td><td>&quot;76&quot;</td><td>&quot;46&quot;</td><td>&quot;32&quot;</td><td>&quot;10&quot;</td><td>&quot;12&quot;</td><td>&quot;6&quot;</td><td>&quot;11&quot;</td><td>&quot;0&quot;</td><td>&quot;2&quot;</td><td>&quot;71&quot;</td><td>&quot;51&quot;</td><td>&quot;25&quot;</td><td>&quot;7&quot;</td><td>&quot;11&quot;</td><td>&quot;5&quot;</td><td>&quot;12&quot;</td><td>&quot;416&quot;</td><td>&quot;109&quot;</td><td>null</td><td>null</td><td>&quot;Davis Cup WG2 PO: VIE vs RSA_2…</td></tr><tr><td>&quot;2024-M-DC-2024-WG2-PO-VIE-RSA-…</td><td>&quot;Davis Cup WG2 PO: VIE vs RSA&quot;</td><td>&quot;Hard&quot;</td><td>4</td><td>&quot;D&quot;</td><td>2024-02-02</td><td>4</td><td>&quot;122533&quot;</td><td>null</td><td>null</td><td>&quot;Nam Hoang Ly&quot;</td><td>&quot;R&quot;</td><td>null</td><td>&quot;VIE&quot;</td><td>26.9</td><td>&quot;144748&quot;</td><td>null</td><td>null</td><td>&quot;Kris Van Wyk&quot;</td><td>&quot;U&quot;</td><td>null</td><td>&quot;RSA&quot;</td><td>27.3</td><td>&quot;6-4 3-6 6-3&quot;</td><td>3</td><td>&quot;RR&quot;</td><td>&quot;159&quot;</td><td>&quot;0&quot;</td><td>&quot;1&quot;</td><td>&quot;84&quot;</td><td>&quot;61&quot;</td><td>&quot;41&quot;</td><td>&quot;13&quot;</td><td>&quot;14&quot;</td><td>&quot;2&quot;</td><td>&quot;5&quot;</td><td>&quot;5&quot;</td><td>&quot;3&quot;</td><td>&quot;86&quot;</td><td>&quot;51&quot;</td><td>&quot;32&quot;</td><td>&quot;17&quot;</td><td>&quot;14&quot;</td><td>&quot;5&quot;</td><td>&quot;9&quot;</td><td>&quot;554&quot;</td><td>&quot;67&quot;</td><td>&quot;416&quot;</td><td>&quot;109&quot;</td><td>&quot;Davis Cup WG2 PO: VIE vs RSA_2…</td></tr><tr><td>&quot;2024-M-DC-2024-WG2-PO-VIE-RSA-…</td><td>&quot;Davis Cup WG2 PO: VIE vs RSA&quot;</td><td>&quot;Hard&quot;</td><td>4</td><td>&quot;D&quot;</td><td>2024-02-02</td><td>5</td><td>&quot;202475&quot;</td><td>null</td><td>null</td><td>&quot;Philip Henning&quot;</td><td>&quot;R&quot;</td><td>null</td><td>&quot;RSA&quot;</td><td>23.2</td><td>&quot;144775&quot;</td><td>null</td><td>null</td><td>&quot;Linh Giang Trinh&quot;</td><td>&quot;R&quot;</td><td>183</td><td>&quot;VIE&quot;</td><td>26.4</td><td>&quot;6-2 6-2&quot;</td><td>3</td><td>&quot;RR&quot;</td><td>&quot;101&quot;</td><td>&quot;1&quot;</td><td>&quot;0&quot;</td><td>&quot;47&quot;</td><td>&quot;28&quot;</td><td>&quot;21&quot;</td><td>&quot;11&quot;</td><td>&quot;8&quot;</td><td>&quot;0&quot;</td><td>&quot;1&quot;</td><td>&quot;0&quot;</td><td>&quot;0&quot;</td><td>&quot;71&quot;</td><td>&quot;53&quot;</td><td>&quot;25&quot;</td><td>&quot;8&quot;</td><td>&quot;8&quot;</td><td>&quot;9&quot;</td><td>&quot;14&quot;</td><td>&quot;748&quot;</td><td>&quot;32&quot;</td><td>null</td><td>null</td><td>&quot;Davis Cup WG2 PO: VIE vs RSA_2…</td></tr></tbody></table></div>"
      ],
      "text/plain": [
       "shape: (193_337, 50)\n",
       "┌────────────┬───────────┬─────────┬───────────┬───┬───────────┬───────────┬───────────┬───────────┐\n",
       "│ tourney_id ┆ tourney_n ┆ surface ┆ draw_size ┆ … ┆ winner_ra ┆ loser_ran ┆ loser_ran ┆ tourney_n │\n",
       "│ ---        ┆ ame       ┆ ---     ┆ ---       ┆   ┆ nk_points ┆ k         ┆ k_points  ┆ ame_date  │\n",
       "│ str        ┆ ---       ┆ str     ┆ i64       ┆   ┆ ---       ┆ ---       ┆ ---       ┆ ---       │\n",
       "│            ┆ str       ┆         ┆           ┆   ┆ str       ┆ str       ┆ str       ┆ str       │\n",
       "╞════════════╪═══════════╪═════════╪═══════════╪═══╪═══════════╪═══════════╪═══════════╪═══════════╡\n",
       "│ 1968-2029  ┆ Dublin    ┆ Grass   ┆ 32        ┆ … ┆ null      ┆ null      ┆ null      ┆ Dublin_19 │\n",
       "│            ┆           ┆         ┆           ┆   ┆           ┆           ┆           ┆ 68-07-08  │\n",
       "│ 1968-2029  ┆ Dublin    ┆ Grass   ┆ 32        ┆ … ┆ null      ┆ null      ┆ null      ┆ Dublin_19 │\n",
       "│            ┆           ┆         ┆           ┆   ┆           ┆           ┆           ┆ 68-07-08  │\n",
       "│ 1968-2029  ┆ Dublin    ┆ Grass   ┆ 32        ┆ … ┆ null      ┆ null      ┆ null      ┆ Dublin_19 │\n",
       "│            ┆           ┆         ┆           ┆   ┆           ┆           ┆           ┆ 68-07-08  │\n",
       "│ 1968-2029  ┆ Dublin    ┆ Grass   ┆ 32        ┆ … ┆ null      ┆ null      ┆ null      ┆ Dublin_19 │\n",
       "│            ┆           ┆         ┆           ┆   ┆           ┆           ┆           ┆ 68-07-08  │\n",
       "│ 1968-2029  ┆ Dublin    ┆ Grass   ┆ 32        ┆ … ┆ null      ┆ null      ┆ null      ┆ Dublin_19 │\n",
       "│            ┆           ┆         ┆           ┆   ┆           ┆           ┆           ┆ 68-07-08  │\n",
       "│ …          ┆ …         ┆ …       ┆ …         ┆ … ┆ …         ┆ …         ┆ …         ┆ …         │\n",
       "│ 2024-M-DC- ┆ Davis Cup ┆ Clay    ┆ 4         ┆ … ┆ 8         ┆ 740       ┆ 34        ┆ Davis Cup │\n",
       "│ 2024-WG2-P ┆ WG2 PO:   ┆         ┆           ┆   ┆           ┆           ┆           ┆ WG2 PO:   │\n",
       "│ O-URU-MDA- ┆ URU vs    ┆         ┆           ┆   ┆           ┆           ┆           ┆ URU vs    │\n",
       "│ …          ┆ MDA       ┆         ┆           ┆   ┆           ┆           ┆           ┆ MDA_2…    │\n",
       "│ 2024-M-DC- ┆ Davis Cup ┆ Hard    ┆ 4         ┆ … ┆ 67        ┆ 748       ┆ 32        ┆ Davis Cup │\n",
       "│ 2024-WG2-P ┆ WG2 PO:   ┆         ┆           ┆   ┆           ┆           ┆           ┆ WG2 PO:   │\n",
       "│ O-VIE-RSA- ┆ VIE vs    ┆         ┆           ┆   ┆           ┆           ┆           ┆ VIE vs    │\n",
       "│ …          ┆ RSA       ┆         ┆           ┆   ┆           ┆           ┆           ┆ RSA_2…    │\n",
       "│ 2024-M-DC- ┆ Davis Cup ┆ Hard    ┆ 4         ┆ … ┆ 109       ┆ null      ┆ null      ┆ Davis Cup │\n",
       "│ 2024-WG2-P ┆ WG2 PO:   ┆         ┆           ┆   ┆           ┆           ┆           ┆ WG2 PO:   │\n",
       "│ O-VIE-RSA- ┆ VIE vs    ┆         ┆           ┆   ┆           ┆           ┆           ┆ VIE vs    │\n",
       "│ …          ┆ RSA       ┆         ┆           ┆   ┆           ┆           ┆           ┆ RSA_2…    │\n",
       "│ 2024-M-DC- ┆ Davis Cup ┆ Hard    ┆ 4         ┆ … ┆ 67        ┆ 416       ┆ 109       ┆ Davis Cup │\n",
       "│ 2024-WG2-P ┆ WG2 PO:   ┆         ┆           ┆   ┆           ┆           ┆           ┆ WG2 PO:   │\n",
       "│ O-VIE-RSA- ┆ VIE vs    ┆         ┆           ┆   ┆           ┆           ┆           ┆ VIE vs    │\n",
       "│ …          ┆ RSA       ┆         ┆           ┆   ┆           ┆           ┆           ┆ RSA_2…    │\n",
       "│ 2024-M-DC- ┆ Davis Cup ┆ Hard    ┆ 4         ┆ … ┆ 32        ┆ null      ┆ null      ┆ Davis Cup │\n",
       "│ 2024-WG2-P ┆ WG2 PO:   ┆         ┆           ┆   ┆           ┆           ┆           ┆ WG2 PO:   │\n",
       "│ O-VIE-RSA- ┆ VIE vs    ┆         ┆           ┆   ┆           ┆           ┆           ┆ VIE vs    │\n",
       "│ …          ┆ RSA       ┆         ┆           ┆   ┆           ┆           ┆           ┆ RSA_2…    │\n",
       "└────────────┴───────────┴─────────┴───────────┴───┴───────────┴───────────┴───────────┴───────────┘"
      ]
     },
     "execution_count": 6,
     "metadata": {},
     "output_type": "execute_result"
    }
   ],
   "source": [
    "matches_singles_atp=import_tennis_matches(data_type=\"singles\",gender=\"atp\")\n",
    "\n",
    "matches_singles_atp = matches_singles_atp.with_columns(\n",
    "    (pl.col(\"tourney_name\") + \"_\" + pl.col(\"tourney_date\").cast(pl.Utf8)).alias(\"tourney_name_date\")\n",
    ")\n",
    "matches_singles_atp"
   ]
  },
  {
   "cell_type": "code",
   "execution_count": 9,
   "metadata": {},
   "outputs": [
    {
     "data": {
      "text/html": [
       "<div><style>\n",
       ".dataframe > thead > tr,\n",
       ".dataframe > tbody > tr {\n",
       "  text-align: right;\n",
       "  white-space: pre-wrap;\n",
       "}\n",
       "</style>\n",
       "<small>shape: (8_368, 7)</small><table border=\"1\" class=\"dataframe\"><thead><tr><th>tourney_id</th><th>tourney_name</th><th>surface</th><th>draw_size</th><th>tourney_level</th><th>tourney_date</th><th>tourney_name_date</th></tr><tr><td>str</td><td>str</td><td>str</td><td>i64</td><td>str</td><td>date</td><td>str</td></tr></thead><tbody><tr><td>&quot;2014-D070&quot;</td><td>&quot;Davis Cup G2 R2: RSA vs LTU&quot;</td><td>&quot;Hard&quot;</td><td>4</td><td>&quot;D&quot;</td><td>2014-04-04</td><td>&quot;Davis Cup G2 R2: RSA vs LTU_20…</td></tr><tr><td>&quot;1977-424&quot;</td><td>&quot;San Francisco&quot;</td><td>&quot;Carpet&quot;</td><td>64</td><td>&quot;A&quot;</td><td>1977-09-26</td><td>&quot;San Francisco_1977-09-26&quot;</td></tr><tr><td>&quot;1985-D006&quot;</td><td>&quot;Davis Cup WG R1: YUG vs AUS&quot;</td><td>&quot;Clay&quot;</td><td>4</td><td>&quot;D&quot;</td><td>1985-03-08</td><td>&quot;Davis Cup WG R1: YUG vs AUS_19…</td></tr><tr><td>&quot;1993-403&quot;</td><td>&quot;Miami Masters&quot;</td><td>&quot;Hard&quot;</td><td>96</td><td>&quot;M&quot;</td><td>1993-03-12</td><td>&quot;Miami Masters_1993-03-12&quot;</td></tr><tr><td>&quot;2009-D072&quot;</td><td>&quot;Davis Cup G2 PO: HKG vs OMA&quot;</td><td>&quot;Hard&quot;</td><td>4</td><td>&quot;D&quot;</td><td>2009-07-10</td><td>&quot;Davis Cup G2 PO: HKG vs OMA_20…</td></tr><tr><td>&hellip;</td><td>&hellip;</td><td>&hellip;</td><td>&hellip;</td><td>&hellip;</td><td>&hellip;</td><td>&hellip;</td></tr><tr><td>&quot;1976-410&quot;</td><td>&quot;Monte Carlo WCT&quot;</td><td>&quot;Clay&quot;</td><td>16</td><td>&quot;A&quot;</td><td>1976-04-13</td><td>&quot;Monte Carlo WCT_1976-04-13&quot;</td></tr><tr><td>&quot;1996-D044&quot;</td><td>&quot;Davis Cup G1 QF: FIN vs ROU&quot;</td><td>&quot;Carpet&quot;</td><td>4</td><td>&quot;D&quot;</td><td>1996-04-05</td><td>&quot;Davis Cup G1 QF: FIN vs ROU_19…</td></tr><tr><td>&quot;2001-D008&quot;</td><td>&quot;Davis Cup WG R1: NED vs ESP&quot;</td><td>&quot;Carpet&quot;</td><td>4</td><td>&quot;D&quot;</td><td>2001-02-09</td><td>&quot;Davis Cup WG R1: NED vs ESP_20…</td></tr><tr><td>&quot;2018-0341&quot;</td><td>&quot;Metz&quot;</td><td>&quot;Hard&quot;</td><td>32</td><td>&quot;A&quot;</td><td>2018-09-17</td><td>&quot;Metz_2018-09-17&quot;</td></tr><tr><td>&quot;2000-D030&quot;</td><td>&quot;Davis Cup G2 PO: PHI vs IRI&quot;</td><td>&quot;Clay&quot;</td><td>4</td><td>&quot;D&quot;</td><td>2000-03-17</td><td>&quot;Davis Cup G2 PO: PHI vs IRI_20…</td></tr></tbody></table></div>"
      ],
      "text/plain": [
       "shape: (8_368, 7)\n",
       "┌────────────┬────────────────┬─────────┬───────────┬───────────────┬──────────────┬───────────────┐\n",
       "│ tourney_id ┆ tourney_name   ┆ surface ┆ draw_size ┆ tourney_level ┆ tourney_date ┆ tourney_name_ │\n",
       "│ ---        ┆ ---            ┆ ---     ┆ ---       ┆ ---           ┆ ---          ┆ date          │\n",
       "│ str        ┆ str            ┆ str     ┆ i64       ┆ str           ┆ date         ┆ ---           │\n",
       "│            ┆                ┆         ┆           ┆               ┆              ┆ str           │\n",
       "╞════════════╪════════════════╪═════════╪═══════════╪═══════════════╪══════════════╪═══════════════╡\n",
       "│ 2014-D070  ┆ Davis Cup G2   ┆ Hard    ┆ 4         ┆ D             ┆ 2014-04-04   ┆ Davis Cup G2  │\n",
       "│            ┆ R2: RSA vs LTU ┆         ┆           ┆               ┆              ┆ R2: RSA vs    │\n",
       "│            ┆                ┆         ┆           ┆               ┆              ┆ LTU_20…       │\n",
       "│ 1977-424   ┆ San Francisco  ┆ Carpet  ┆ 64        ┆ A             ┆ 1977-09-26   ┆ San Francisco │\n",
       "│            ┆                ┆         ┆           ┆               ┆              ┆ _1977-09-26   │\n",
       "│ 1985-D006  ┆ Davis Cup WG   ┆ Clay    ┆ 4         ┆ D             ┆ 1985-03-08   ┆ Davis Cup WG  │\n",
       "│            ┆ R1: YUG vs AUS ┆         ┆           ┆               ┆              ┆ R1: YUG vs    │\n",
       "│            ┆                ┆         ┆           ┆               ┆              ┆ AUS_19…       │\n",
       "│ 1993-403   ┆ Miami Masters  ┆ Hard    ┆ 96        ┆ M             ┆ 1993-03-12   ┆ Miami Masters │\n",
       "│            ┆                ┆         ┆           ┆               ┆              ┆ _1993-03-12   │\n",
       "│ 2009-D072  ┆ Davis Cup G2   ┆ Hard    ┆ 4         ┆ D             ┆ 2009-07-10   ┆ Davis Cup G2  │\n",
       "│            ┆ PO: HKG vs OMA ┆         ┆           ┆               ┆              ┆ PO: HKG vs    │\n",
       "│            ┆                ┆         ┆           ┆               ┆              ┆ OMA_20…       │\n",
       "│ …          ┆ …              ┆ …       ┆ …         ┆ …             ┆ …            ┆ …             │\n",
       "│ 1976-410   ┆ Monte Carlo    ┆ Clay    ┆ 16        ┆ A             ┆ 1976-04-13   ┆ Monte Carlo   │\n",
       "│            ┆ WCT            ┆         ┆           ┆               ┆              ┆ WCT_1976-04-1 │\n",
       "│            ┆                ┆         ┆           ┆               ┆              ┆ 3             │\n",
       "│ 1996-D044  ┆ Davis Cup G1   ┆ Carpet  ┆ 4         ┆ D             ┆ 1996-04-05   ┆ Davis Cup G1  │\n",
       "│            ┆ QF: FIN vs ROU ┆         ┆           ┆               ┆              ┆ QF: FIN vs    │\n",
       "│            ┆                ┆         ┆           ┆               ┆              ┆ ROU_19…       │\n",
       "│ 2001-D008  ┆ Davis Cup WG   ┆ Carpet  ┆ 4         ┆ D             ┆ 2001-02-09   ┆ Davis Cup WG  │\n",
       "│            ┆ R1: NED vs ESP ┆         ┆           ┆               ┆              ┆ R1: NED vs    │\n",
       "│            ┆                ┆         ┆           ┆               ┆              ┆ ESP_20…       │\n",
       "│ 2018-0341  ┆ Metz           ┆ Hard    ┆ 32        ┆ A             ┆ 2018-09-17   ┆ Metz_2018-09- │\n",
       "│            ┆                ┆         ┆           ┆               ┆              ┆ 17            │\n",
       "│ 2000-D030  ┆ Davis Cup G2   ┆ Clay    ┆ 4         ┆ D             ┆ 2000-03-17   ┆ Davis Cup G2  │\n",
       "│            ┆ PO: PHI vs IRI ┆         ┆           ┆               ┆              ┆ PO: PHI vs    │\n",
       "│            ┆                ┆         ┆           ┆               ┆              ┆ IRI_20…       │\n",
       "└────────────┴────────────────┴─────────┴───────────┴───────────────┴──────────────┴───────────────┘"
      ]
     },
     "execution_count": 9,
     "metadata": {},
     "output_type": "execute_result"
    }
   ],
   "source": [
    "turney_single_matches_atp=matches_singles_atp[['tourney_id', 'tourney_name', 'surface', 'draw_size', 'tourney_level', 'tourney_date', 'tourney_name_date']]\n",
    "turney_single_matches_atp=turney_single_matches_atp.unique('tourney_name_date')\n",
    "turney_single_matches_atp"
   ]
  },
  {
   "cell_type": "code",
   "execution_count": 7,
   "metadata": {},
   "outputs": [
    {
     "data": {
      "text/html": [
       "<div><style>\n",
       ".dataframe > thead > tr,\n",
       ".dataframe > tbody > tr {\n",
       "  text-align: right;\n",
       "  white-space: pre-wrap;\n",
       "}\n",
       "</style>\n",
       "<small>shape: (156_578, 50)</small><table border=\"1\" class=\"dataframe\"><thead><tr><th>tourney_id</th><th>tourney_name</th><th>surface</th><th>draw_size</th><th>tourney_level</th><th>tourney_date</th><th>match_num</th><th>winner_id</th><th>winner_seed</th><th>winner_entry</th><th>winner_name</th><th>winner_hand</th><th>winner_ht</th><th>winner_ioc</th><th>winner_age</th><th>loser_id</th><th>loser_seed</th><th>loser_entry</th><th>loser_name</th><th>loser_hand</th><th>loser_ht</th><th>loser_ioc</th><th>loser_age</th><th>score</th><th>best_of</th><th>round</th><th>minutes</th><th>w_ace</th><th>w_df</th><th>w_svpt</th><th>w_1stIn</th><th>w_1stWon</th><th>w_2ndWon</th><th>w_SvGms</th><th>w_bpSaved</th><th>w_bpFaced</th><th>l_ace</th><th>l_df</th><th>l_svpt</th><th>l_1stIn</th><th>l_1stWon</th><th>l_2ndWon</th><th>l_SvGms</th><th>l_bpSaved</th><th>l_bpFaced</th><th>winner_rank</th><th>winner_rank_points</th><th>loser_rank</th><th>loser_rank_points</th><th>tourney_name_date</th></tr><tr><td>str</td><td>str</td><td>str</td><td>str</td><td>str</td><td>date</td><td>i64</td><td>str</td><td>str</td><td>str</td><td>str</td><td>str</td><td>i64</td><td>str</td><td>f64</td><td>str</td><td>str</td><td>str</td><td>str</td><td>str</td><td>i64</td><td>str</td><td>f64</td><td>str</td><td>i64</td><td>str</td><td>str</td><td>str</td><td>str</td><td>str</td><td>str</td><td>str</td><td>str</td><td>str</td><td>str</td><td>str</td><td>str</td><td>str</td><td>str</td><td>str</td><td>str</td><td>str</td><td>str</td><td>str</td><td>str</td><td>str</td><td>str</td><td>str</td><td>str</td><td>str</td></tr></thead><tbody><tr><td>&quot;1968-W-OL-MEX-01A-1968&quot;</td><td>&quot;Guadalajara Olympics Demo&quot;</td><td>&quot;Clay&quot;</td><td>&quot;13&quot;</td><td>&quot;O&quot;</td><td>1968-10-14</td><td>1</td><td>&quot;200781&quot;</td><td>null</td><td>null</td><td>&quot;Edda Buding&quot;</td><td>&quot;R&quot;</td><td>null</td><td>&quot;FRG&quot;</td><td>31.9</td><td>&quot;200795&quot;</td><td>null</td><td>null</td><td>&quot;Patricia Montano&quot;</td><td>&quot;U&quot;</td><td>null</td><td>&quot;MEX&quot;</td><td>16.1</td><td>&quot;7-5 2-6 6-4&quot;</td><td>3</td><td>&quot;R16&quot;</td><td>null</td><td>null</td><td>null</td><td>null</td><td>null</td><td>null</td><td>null</td><td>null</td><td>null</td><td>null</td><td>null</td><td>null</td><td>null</td><td>null</td><td>null</td><td>null</td><td>null</td><td>null</td><td>null</td><td>null</td><td>null</td><td>null</td><td>null</td><td>&quot;Guadalajara Olympics Demo_1968…</td></tr><tr><td>&quot;1968-W-OL-MEX-01A-1968&quot;</td><td>&quot;Guadalajara Olympics Demo&quot;</td><td>&quot;Clay&quot;</td><td>&quot;13&quot;</td><td>&quot;O&quot;</td><td>1968-10-14</td><td>2</td><td>&quot;202512&quot;</td><td>null</td><td>null</td><td>&quot;Lucia Gongora&quot;</td><td>&quot;U&quot;</td><td>null</td><td>&quot;MEX&quot;</td><td>21.9</td><td>&quot;200862&quot;</td><td>null</td><td>null</td><td>&quot;Valerie Ziegenfuss&quot;</td><td>&quot;R&quot;</td><td>173</td><td>&quot;USA&quot;</td><td>19.2</td><td>&quot;6-1 6-2&quot;</td><td>3</td><td>&quot;R16&quot;</td><td>null</td><td>null</td><td>null</td><td>null</td><td>null</td><td>null</td><td>null</td><td>null</td><td>null</td><td>null</td><td>null</td><td>null</td><td>null</td><td>null</td><td>null</td><td>null</td><td>null</td><td>null</td><td>null</td><td>null</td><td>null</td><td>null</td><td>null</td><td>&quot;Guadalajara Olympics Demo_1968…</td></tr><tr><td>&quot;1968-W-OL-MEX-01A-1968&quot;</td><td>&quot;Guadalajara Olympics Demo&quot;</td><td>&quot;Clay&quot;</td><td>&quot;13&quot;</td><td>&quot;O&quot;</td><td>1968-10-14</td><td>3</td><td>&quot;200869&quot;</td><td>null</td><td>null</td><td>&quot;Maria Eugenia Guzman&quot;</td><td>&quot;U&quot;</td><td>null</td><td>&quot;ECU&quot;</td><td>23.0</td><td>&quot;200863&quot;</td><td>null</td><td>null</td><td>&quot;Zaiga Yansone&quot;</td><td>&quot;U&quot;</td><td>null</td><td>&quot;URS&quot;</td><td>17.7</td><td>&quot;6-2 6-2&quot;</td><td>3</td><td>&quot;R16&quot;</td><td>null</td><td>null</td><td>null</td><td>null</td><td>null</td><td>null</td><td>null</td><td>null</td><td>null</td><td>null</td><td>null</td><td>null</td><td>null</td><td>null</td><td>null</td><td>null</td><td>null</td><td>null</td><td>null</td><td>null</td><td>null</td><td>null</td><td>null</td><td>&quot;Guadalajara Olympics Demo_1968…</td></tr><tr><td>&quot;1968-W-OL-MEX-01A-1968&quot;</td><td>&quot;Guadalajara Olympics Demo&quot;</td><td>&quot;Clay&quot;</td><td>&quot;13&quot;</td><td>&quot;O&quot;</td><td>1968-10-14</td><td>4</td><td>&quot;200274&quot;</td><td>null</td><td>null</td><td>&quot;Julie Heldman&quot;</td><td>&quot;R&quot;</td><td>170</td><td>&quot;USA&quot;</td><td>22.8</td><td>&quot;200834&quot;</td><td>null</td><td>null</td><td>&quot;Suzana Gesteira&quot;</td><td>&quot;U&quot;</td><td>null</td><td>&quot;BRA&quot;</td><td>21.0</td><td>&quot;6-1 6-2&quot;</td><td>3</td><td>&quot;R16&quot;</td><td>null</td><td>null</td><td>null</td><td>null</td><td>null</td><td>null</td><td>null</td><td>null</td><td>null</td><td>null</td><td>null</td><td>null</td><td>null</td><td>null</td><td>null</td><td>null</td><td>null</td><td>null</td><td>null</td><td>null</td><td>null</td><td>null</td><td>null</td><td>&quot;Guadalajara Olympics Demo_1968…</td></tr><tr><td>&quot;1968-W-OL-MEX-01A-1968&quot;</td><td>&quot;Guadalajara Olympics Demo&quot;</td><td>&quot;Clay&quot;</td><td>&quot;13&quot;</td><td>&quot;O&quot;</td><td>1968-10-14</td><td>5</td><td>&quot;200791&quot;</td><td>null</td><td>null</td><td>&quot;Rosie Reyes&quot;</td><td>&quot;R&quot;</td><td>null</td><td>&quot;FRA&quot;</td><td>29.5</td><td>&quot;202513&quot;</td><td>null</td><td>null</td><td>&quot;Ana Maria Ycaza&quot;</td><td>&quot;U&quot;</td><td>null</td><td>&quot;ECU&quot;</td><td>17.4</td><td>&quot;6-1 6-1&quot;</td><td>3</td><td>&quot;R16&quot;</td><td>null</td><td>null</td><td>null</td><td>null</td><td>null</td><td>null</td><td>null</td><td>null</td><td>null</td><td>null</td><td>null</td><td>null</td><td>null</td><td>null</td><td>null</td><td>null</td><td>null</td><td>null</td><td>null</td><td>null</td><td>null</td><td>null</td><td>null</td><td>&quot;Guadalajara Olympics Demo_1968…</td></tr><tr><td>&hellip;</td><td>&hellip;</td><td>&hellip;</td><td>&hellip;</td><td>&hellip;</td><td>&hellip;</td><td>&hellip;</td><td>&hellip;</td><td>&hellip;</td><td>&hellip;</td><td>&hellip;</td><td>&hellip;</td><td>&hellip;</td><td>&hellip;</td><td>&hellip;</td><td>&hellip;</td><td>&hellip;</td><td>&hellip;</td><td>&hellip;</td><td>&hellip;</td><td>&hellip;</td><td>&hellip;</td><td>&hellip;</td><td>&hellip;</td><td>&hellip;</td><td>&hellip;</td><td>&hellip;</td><td>&hellip;</td><td>&hellip;</td><td>&hellip;</td><td>&hellip;</td><td>&hellip;</td><td>&hellip;</td><td>&hellip;</td><td>&hellip;</td><td>&hellip;</td><td>&hellip;</td><td>&hellip;</td><td>&hellip;</td><td>&hellip;</td><td>&hellip;</td><td>&hellip;</td><td>&hellip;</td><td>&hellip;</td><td>&hellip;</td><td>&hellip;</td><td>&hellip;</td><td>&hellip;</td><td>&hellip;</td><td>&hellip;</td></tr><tr><td>&quot;2024-W-FC-2024-QUA&quot;</td><td>&quot;BJK Cup Qualifiers&quot;</td><td>null</td><td>&quot;48&quot;</td><td>&quot;D&quot;</td><td>2024-04-12</td><td>123</td><td>&quot;223194&quot;</td><td>null</td><td>null</td><td>&quot;Taylah Preston&quot;</td><td>&quot;R&quot;</td><td>null</td><td>&quot;AUS&quot;</td><td>18.4</td><td>&quot;204420&quot;</td><td>null</td><td>null</td><td>&quot;Marcela Zacarias&quot;</td><td>&quot;R&quot;</td><td>null</td><td>&quot;MEX&quot;</td><td>30.0</td><td>&quot;6-1 6-1&quot;</td><td>3</td><td>&quot;RR&quot;</td><td>null</td><td>&quot;3&quot;</td><td>&quot;0&quot;</td><td>&quot;49&quot;</td><td>&quot;37&quot;</td><td>&quot;26&quot;</td><td>&quot;5&quot;</td><td>&quot;7&quot;</td><td>&quot;3&quot;</td><td>&quot;4&quot;</td><td>&quot;0&quot;</td><td>&quot;4&quot;</td><td>&quot;44&quot;</td><td>&quot;33&quot;</td><td>&quot;13&quot;</td><td>&quot;3&quot;</td><td>&quot;7&quot;</td><td>&quot;4&quot;</td><td>&quot;10&quot;</td><td>&quot;136&quot;</td><td>&quot;545&quot;</td><td>&quot;562&quot;</td><td>&quot;83&quot;</td><td>&quot;BJK Cup Qualifiers_2024-04-12&quot;</td></tr><tr><td>&quot;2024-W-FC-2024-QUA&quot;</td><td>&quot;BJK Cup Qualifiers&quot;</td><td>null</td><td>&quot;48&quot;</td><td>&quot;D&quot;</td><td>2024-04-12</td><td>124</td><td>&quot;211702&quot;</td><td>null</td><td>null</td><td>&quot;Nao Hibino&quot;</td><td>&quot;R&quot;</td><td>163</td><td>&quot;JPN&quot;</td><td>29.3</td><td>&quot;201709&quot;</td><td>null</td><td>null</td><td>&quot;Yulia Putintseva&quot;</td><td>&quot;R&quot;</td><td>163</td><td>&quot;KAZ&quot;</td><td>29.2</td><td>&quot;6-4 3-6 7-6(7)&quot;</td><td>3</td><td>&quot;RR&quot;</td><td>null</td><td>&quot;2&quot;</td><td>&quot;4&quot;</td><td>&quot;104&quot;</td><td>&quot;77&quot;</td><td>&quot;48&quot;</td><td>&quot;12&quot;</td><td>&quot;15&quot;</td><td>&quot;2&quot;</td><td>&quot;7&quot;</td><td>&quot;1&quot;</td><td>&quot;2&quot;</td><td>&quot;99&quot;</td><td>&quot;70&quot;</td><td>&quot;43&quot;</td><td>&quot;13&quot;</td><td>&quot;16&quot;</td><td>&quot;2&quot;</td><td>&quot;7&quot;</td><td>&quot;79&quot;</td><td>&quot;883&quot;</td><td>&quot;50&quot;</td><td>&quot;1213&quot;</td><td>&quot;BJK Cup Qualifiers_2024-04-12&quot;</td></tr><tr><td>&quot;2024-W-FC-2024-QUA&quot;</td><td>&quot;BJK Cup Qualifiers&quot;</td><td>null</td><td>&quot;48&quot;</td><td>&quot;D&quot;</td><td>2024-04-12</td><td>125</td><td>&quot;260761&quot;</td><td>null</td><td>null</td><td>&quot;Renata Jamrichova&quot;</td><td>&quot;U&quot;</td><td>null</td><td>&quot;SVK&quot;</td><td>16.8</td><td>&quot;220662&quot;</td><td>null</td><td>null</td><td>&quot;Veronika Erjavec&quot;</td><td>&quot;R&quot;</td><td>null</td><td>&quot;SLO&quot;</td><td>24.2</td><td>&quot;6-2 6-0&quot;</td><td>3</td><td>&quot;RR&quot;</td><td>null</td><td>&quot;2&quot;</td><td>&quot;3&quot;</td><td>&quot;39&quot;</td><td>&quot;22&quot;</td><td>&quot;13&quot;</td><td>&quot;13&quot;</td><td>&quot;7&quot;</td><td>&quot;0&quot;</td><td>&quot;1&quot;</td><td>&quot;0&quot;</td><td>&quot;3&quot;</td><td>&quot;48&quot;</td><td>&quot;28&quot;</td><td>&quot;9&quot;</td><td>&quot;9&quot;</td><td>&quot;7&quot;</td><td>&quot;10&quot;</td><td>&quot;16&quot;</td><td>&quot;684&quot;</td><td>&quot;56&quot;</td><td>&quot;203&quot;</td><td>&quot;377&quot;</td><td>&quot;BJK Cup Qualifiers_2024-04-12&quot;</td></tr><tr><td>&quot;2024-W-FC-2024-QUA&quot;</td><td>&quot;BJK Cup Qualifiers&quot;</td><td>null</td><td>&quot;48&quot;</td><td>&quot;D&quot;</td><td>2024-04-12</td><td>126</td><td>&quot;206242&quot;</td><td>null</td><td>null</td><td>&quot;Beatriz Haddad Maia&quot;</td><td>&quot;L&quot;</td><td>185</td><td>&quot;BRA&quot;</td><td>27.8</td><td>&quot;204431&quot;</td><td>null</td><td>null</td><td>&quot;Anna Lena Friedsam&quot;</td><td>&quot;R&quot;</td><td>null</td><td>&quot;GER&quot;</td><td>30.1</td><td>&quot;5-7 6-0 6-1&quot;</td><td>3</td><td>&quot;RR&quot;</td><td>null</td><td>&quot;2&quot;</td><td>&quot;3&quot;</td><td>&quot;69&quot;</td><td>&quot;44&quot;</td><td>&quot;31&quot;</td><td>&quot;13&quot;</td><td>&quot;12&quot;</td><td>&quot;4&quot;</td><td>&quot;7&quot;</td><td>&quot;1&quot;</td><td>&quot;10&quot;</td><td>&quot;113&quot;</td><td>&quot;73&quot;</td><td>&quot;41&quot;</td><td>&quot;13&quot;</td><td>&quot;13&quot;</td><td>&quot;11&quot;</td><td>&quot;19&quot;</td><td>&quot;13&quot;</td><td>&quot;2920&quot;</td><td>&quot;189&quot;</td><td>&quot;393&quot;</td><td>&quot;BJK Cup Qualifiers_2024-04-12&quot;</td></tr><tr><td>&quot;2024-W-FC-2024-QUA&quot;</td><td>&quot;BJK Cup Qualifiers&quot;</td><td>null</td><td>&quot;48&quot;</td><td>&quot;D&quot;</td><td>2024-04-12</td><td>127</td><td>&quot;202468&quot;</td><td>null</td><td>null</td><td>&quot;Jessica Pegula&quot;</td><td>&quot;R&quot;</td><td>170</td><td>&quot;USA&quot;</td><td>30.1</td><td>&quot;243420&quot;</td><td>null</td><td>null</td><td>&quot;Hanne Vandewinkel&quot;</td><td>&quot;U&quot;</td><td>null</td><td>&quot;BEL&quot;</td><td>19.8</td><td>&quot;6-2 6-0&quot;</td><td>3</td><td>&quot;RR&quot;</td><td>null</td><td>&quot;1&quot;</td><td>&quot;0&quot;</td><td>&quot;33&quot;</td><td>&quot;20&quot;</td><td>&quot;19&quot;</td><td>&quot;10&quot;</td><td>&quot;7&quot;</td><td>&quot;1&quot;</td><td>&quot;1&quot;</td><td>&quot;3&quot;</td><td>&quot;3&quot;</td><td>&quot;46&quot;</td><td>&quot;29&quot;</td><td>&quot;15&quot;</td><td>&quot;5&quot;</td><td>&quot;7&quot;</td><td>&quot;3&quot;</td><td>&quot;8&quot;</td><td>&quot;5&quot;</td><td>&quot;4870&quot;</td><td>&quot;278&quot;</td><td>&quot;266&quot;</td><td>&quot;BJK Cup Qualifiers_2024-04-12&quot;</td></tr></tbody></table></div>"
      ],
      "text/plain": [
       "shape: (156_578, 50)\n",
       "┌────────────┬───────────┬─────────┬───────────┬───┬───────────┬───────────┬───────────┬───────────┐\n",
       "│ tourney_id ┆ tourney_n ┆ surface ┆ draw_size ┆ … ┆ winner_ra ┆ loser_ran ┆ loser_ran ┆ tourney_n │\n",
       "│ ---        ┆ ame       ┆ ---     ┆ ---       ┆   ┆ nk_points ┆ k         ┆ k_points  ┆ ame_date  │\n",
       "│ str        ┆ ---       ┆ str     ┆ str       ┆   ┆ ---       ┆ ---       ┆ ---       ┆ ---       │\n",
       "│            ┆ str       ┆         ┆           ┆   ┆ str       ┆ str       ┆ str       ┆ str       │\n",
       "╞════════════╪═══════════╪═════════╪═══════════╪═══╪═══════════╪═══════════╪═══════════╪═══════════╡\n",
       "│ 1968-W-OL- ┆ Guadalaja ┆ Clay    ┆ 13        ┆ … ┆ null      ┆ null      ┆ null      ┆ Guadalaja │\n",
       "│ MEX-01A-19 ┆ ra        ┆         ┆           ┆   ┆           ┆           ┆           ┆ ra        │\n",
       "│ 68         ┆ Olympics  ┆         ┆           ┆   ┆           ┆           ┆           ┆ Olympics  │\n",
       "│            ┆ Demo      ┆         ┆           ┆   ┆           ┆           ┆           ┆ Demo_1968 │\n",
       "│            ┆           ┆         ┆           ┆   ┆           ┆           ┆           ┆ …         │\n",
       "│ 1968-W-OL- ┆ Guadalaja ┆ Clay    ┆ 13        ┆ … ┆ null      ┆ null      ┆ null      ┆ Guadalaja │\n",
       "│ MEX-01A-19 ┆ ra        ┆         ┆           ┆   ┆           ┆           ┆           ┆ ra        │\n",
       "│ 68         ┆ Olympics  ┆         ┆           ┆   ┆           ┆           ┆           ┆ Olympics  │\n",
       "│            ┆ Demo      ┆         ┆           ┆   ┆           ┆           ┆           ┆ Demo_1968 │\n",
       "│            ┆           ┆         ┆           ┆   ┆           ┆           ┆           ┆ …         │\n",
       "│ 1968-W-OL- ┆ Guadalaja ┆ Clay    ┆ 13        ┆ … ┆ null      ┆ null      ┆ null      ┆ Guadalaja │\n",
       "│ MEX-01A-19 ┆ ra        ┆         ┆           ┆   ┆           ┆           ┆           ┆ ra        │\n",
       "│ 68         ┆ Olympics  ┆         ┆           ┆   ┆           ┆           ┆           ┆ Olympics  │\n",
       "│            ┆ Demo      ┆         ┆           ┆   ┆           ┆           ┆           ┆ Demo_1968 │\n",
       "│            ┆           ┆         ┆           ┆   ┆           ┆           ┆           ┆ …         │\n",
       "│ 1968-W-OL- ┆ Guadalaja ┆ Clay    ┆ 13        ┆ … ┆ null      ┆ null      ┆ null      ┆ Guadalaja │\n",
       "│ MEX-01A-19 ┆ ra        ┆         ┆           ┆   ┆           ┆           ┆           ┆ ra        │\n",
       "│ 68         ┆ Olympics  ┆         ┆           ┆   ┆           ┆           ┆           ┆ Olympics  │\n",
       "│            ┆ Demo      ┆         ┆           ┆   ┆           ┆           ┆           ┆ Demo_1968 │\n",
       "│            ┆           ┆         ┆           ┆   ┆           ┆           ┆           ┆ …         │\n",
       "│ 1968-W-OL- ┆ Guadalaja ┆ Clay    ┆ 13        ┆ … ┆ null      ┆ null      ┆ null      ┆ Guadalaja │\n",
       "│ MEX-01A-19 ┆ ra        ┆         ┆           ┆   ┆           ┆           ┆           ┆ ra        │\n",
       "│ 68         ┆ Olympics  ┆         ┆           ┆   ┆           ┆           ┆           ┆ Olympics  │\n",
       "│            ┆ Demo      ┆         ┆           ┆   ┆           ┆           ┆           ┆ Demo_1968 │\n",
       "│            ┆           ┆         ┆           ┆   ┆           ┆           ┆           ┆ …         │\n",
       "│ …          ┆ …         ┆ …       ┆ …         ┆ … ┆ …         ┆ …         ┆ …         ┆ …         │\n",
       "│ 2024-W-FC- ┆ BJK Cup   ┆ null    ┆ 48        ┆ … ┆ 545       ┆ 562       ┆ 83        ┆ BJK Cup   │\n",
       "│ 2024-QUA   ┆ Qualifier ┆         ┆           ┆   ┆           ┆           ┆           ┆ Qualifier │\n",
       "│            ┆ s         ┆         ┆           ┆   ┆           ┆           ┆           ┆ s_2024-04 │\n",
       "│            ┆           ┆         ┆           ┆   ┆           ┆           ┆           ┆ -12       │\n",
       "│ 2024-W-FC- ┆ BJK Cup   ┆ null    ┆ 48        ┆ … ┆ 883       ┆ 50        ┆ 1213      ┆ BJK Cup   │\n",
       "│ 2024-QUA   ┆ Qualifier ┆         ┆           ┆   ┆           ┆           ┆           ┆ Qualifier │\n",
       "│            ┆ s         ┆         ┆           ┆   ┆           ┆           ┆           ┆ s_2024-04 │\n",
       "│            ┆           ┆         ┆           ┆   ┆           ┆           ┆           ┆ -12       │\n",
       "│ 2024-W-FC- ┆ BJK Cup   ┆ null    ┆ 48        ┆ … ┆ 56        ┆ 203       ┆ 377       ┆ BJK Cup   │\n",
       "│ 2024-QUA   ┆ Qualifier ┆         ┆           ┆   ┆           ┆           ┆           ┆ Qualifier │\n",
       "│            ┆ s         ┆         ┆           ┆   ┆           ┆           ┆           ┆ s_2024-04 │\n",
       "│            ┆           ┆         ┆           ┆   ┆           ┆           ┆           ┆ -12       │\n",
       "│ 2024-W-FC- ┆ BJK Cup   ┆ null    ┆ 48        ┆ … ┆ 2920      ┆ 189       ┆ 393       ┆ BJK Cup   │\n",
       "│ 2024-QUA   ┆ Qualifier ┆         ┆           ┆   ┆           ┆           ┆           ┆ Qualifier │\n",
       "│            ┆ s         ┆         ┆           ┆   ┆           ┆           ┆           ┆ s_2024-04 │\n",
       "│            ┆           ┆         ┆           ┆   ┆           ┆           ┆           ┆ -12       │\n",
       "│ 2024-W-FC- ┆ BJK Cup   ┆ null    ┆ 48        ┆ … ┆ 4870      ┆ 278       ┆ 266       ┆ BJK Cup   │\n",
       "│ 2024-QUA   ┆ Qualifier ┆         ┆           ┆   ┆           ┆           ┆           ┆ Qualifier │\n",
       "│            ┆ s         ┆         ┆           ┆   ┆           ┆           ┆           ┆ s_2024-04 │\n",
       "│            ┆           ┆         ┆           ┆   ┆           ┆           ┆           ┆ -12       │\n",
       "└────────────┴───────────┴─────────┴───────────┴───┴───────────┴───────────┴───────────┴───────────┘"
      ]
     },
     "execution_count": 7,
     "metadata": {},
     "output_type": "execute_result"
    }
   ],
   "source": [
    "matches_singles_wta=import_tennis_matches(data_type=\"singles\",gender=\"wta\")\n",
    "\n",
    "matches_singles_wta = matches_singles_wta.with_columns(\n",
    "    (pl.col(\"tourney_name\") + \"_\" + pl.col(\"tourney_date\").cast(pl.Utf8)).alias(\"tourney_name_date\")\n",
    ")\n",
    "matches_singles_wta"
   ]
  },
  {
   "cell_type": "code",
   "execution_count": 8,
   "metadata": {},
   "outputs": [
    {
     "data": {
      "text/html": [
       "<div><style>\n",
       ".dataframe > thead > tr,\n",
       ".dataframe > tbody > tr {\n",
       "  text-align: right;\n",
       "  white-space: pre-wrap;\n",
       "}\n",
       "</style>\n",
       "<small>shape: (10_242, 7)</small><table border=\"1\" class=\"dataframe\"><thead><tr><th>tourney_id</th><th>tourney_name</th><th>surface</th><th>draw_size</th><th>tourney_level</th><th>tourney_date</th><th>tourney_name_date</th></tr><tr><td>str</td><td>str</td><td>str</td><td>str</td><td>str</td><td>date</td><td>str</td></tr></thead><tbody><tr><td>&quot;1986-W-WT-USA-21A-1986&quot;</td><td>&quot;Berkeley&quot;</td><td>&quot;Hard&quot;</td><td>&quot;32&quot;</td><td>&quot;W&quot;</td><td>1986-07-21</td><td>&quot;Berkeley_1986-07-21&quot;</td></tr><tr><td>&quot;2001-W-T1-USA-02A-2001&quot;</td><td>&quot;Miami&quot;</td><td>&quot;Hard&quot;</td><td>&quot;96&quot;</td><td>&quot;T1&quot;</td><td>2001-03-21</td><td>&quot;Miami_2001-03-21&quot;</td></tr><tr><td>&quot;1980-1076&quot;</td><td>&quot;Unterhaching&quot;</td><td>&quot;Clay&quot;</td><td>null</td><td>&quot;W&quot;</td><td>1980-07-19</td><td>&quot;Unterhaching_1980-07-19&quot;</td></tr><tr><td>&quot;2019-0466&quot;</td><td>&quot;Palermo&quot;</td><td>&quot;Clay&quot;</td><td>&quot;32&quot;</td><td>&quot;I&quot;</td><td>2019-07-22</td><td>&quot;Palermo_2019-07-22&quot;</td></tr><tr><td>&quot;2012-D098&quot;</td><td>&quot;Fed Cup G1 PO: BIH vs CRO&quot;</td><td>&quot;Hard&quot;</td><td>&quot;4&quot;</td><td>&quot;D&quot;</td><td>2012-02-04</td><td>&quot;Fed Cup G1 PO: BIH vs CRO_2012…</td></tr><tr><td>&hellip;</td><td>&hellip;</td><td>&hellip;</td><td>&hellip;</td><td>&hellip;</td><td>&hellip;</td><td>&hellip;</td></tr><tr><td>&quot;1988-W-WT-USA-20A-1988&quot;</td><td>&quot;Phoenix&quot;</td><td>&quot;Hard&quot;</td><td>&quot;32&quot;</td><td>&quot;W&quot;</td><td>1988-09-12</td><td>&quot;Phoenix_1988-09-12&quot;</td></tr><tr><td>&quot;1994-D062&quot;</td><td>&quot;Fed Cup WG R2: ITA vs FRA&quot;</td><td>&quot;Clay&quot;</td><td>&quot;4&quot;</td><td>&quot;D&quot;</td><td>1994-07-20</td><td>&quot;Fed Cup WG R2: ITA vs FRA_1994…</td></tr><tr><td>&quot;2020-W-FC-2020-G1-AM-REL-VEN-C…</td><td>&quot;Fed Cup G1 REL: VEN vs CHI&quot;</td><td>&quot;Clay&quot;</td><td>&quot;2&quot;</td><td>&quot;D&quot;</td><td>2020-02-08</td><td>&quot;Fed Cup G1 REL: VEN vs CHI_202…</td></tr><tr><td>&quot;2020-W-FC-2020-QLS-M-ROU-RUS-0…</td><td>&quot;Fed Cup QLS R1: ROU vs RUS&quot;</td><td>&quot;Hard&quot;</td><td>&quot;4&quot;</td><td>&quot;D&quot;</td><td>2020-02-07</td><td>&quot;Fed Cup QLS R1: ROU vs RUS_202…</td></tr><tr><td>&quot;2017-W-FC-2017-G1-EPA-REL-BIH-…</td><td>&quot;Fed Cup G1 REL: BIH vs POR&quot;</td><td>&quot;Hard&quot;</td><td>&quot;2&quot;</td><td>&quot;D&quot;</td><td>2017-02-11</td><td>&quot;Fed Cup G1 REL: BIH vs POR_201…</td></tr></tbody></table></div>"
      ],
      "text/plain": [
       "shape: (10_242, 7)\n",
       "┌───────────────┬───────────────┬─────────┬───────────┬──────────────┬──────────────┬──────────────┐\n",
       "│ tourney_id    ┆ tourney_name  ┆ surface ┆ draw_size ┆ tourney_leve ┆ tourney_date ┆ tourney_name │\n",
       "│ ---           ┆ ---           ┆ ---     ┆ ---       ┆ l            ┆ ---          ┆ _date        │\n",
       "│ str           ┆ str           ┆ str     ┆ str       ┆ ---          ┆ date         ┆ ---          │\n",
       "│               ┆               ┆         ┆           ┆ str          ┆              ┆ str          │\n",
       "╞═══════════════╪═══════════════╪═════════╪═══════════╪══════════════╪══════════════╪══════════════╡\n",
       "│ 1986-W-WT-USA ┆ Berkeley      ┆ Hard    ┆ 32        ┆ W            ┆ 1986-07-21   ┆ Berkeley_198 │\n",
       "│ -21A-1986     ┆               ┆         ┆           ┆              ┆              ┆ 6-07-21      │\n",
       "│ 2001-W-T1-USA ┆ Miami         ┆ Hard    ┆ 96        ┆ T1           ┆ 2001-03-21   ┆ Miami_2001-0 │\n",
       "│ -02A-2001     ┆               ┆         ┆           ┆              ┆              ┆ 3-21         │\n",
       "│ 1980-1076     ┆ Unterhaching  ┆ Clay    ┆ null      ┆ W            ┆ 1980-07-19   ┆ Unterhaching │\n",
       "│               ┆               ┆         ┆           ┆              ┆              ┆ _1980-07-19  │\n",
       "│ 2019-0466     ┆ Palermo       ┆ Clay    ┆ 32        ┆ I            ┆ 2019-07-22   ┆ Palermo_2019 │\n",
       "│               ┆               ┆         ┆           ┆              ┆              ┆ -07-22       │\n",
       "│ 2012-D098     ┆ Fed Cup G1    ┆ Hard    ┆ 4         ┆ D            ┆ 2012-02-04   ┆ Fed Cup G1   │\n",
       "│               ┆ PO: BIH vs    ┆         ┆           ┆              ┆              ┆ PO: BIH vs   │\n",
       "│               ┆ CRO           ┆         ┆           ┆              ┆              ┆ CRO_2012…    │\n",
       "│ …             ┆ …             ┆ …       ┆ …         ┆ …            ┆ …            ┆ …            │\n",
       "│ 1988-W-WT-USA ┆ Phoenix       ┆ Hard    ┆ 32        ┆ W            ┆ 1988-09-12   ┆ Phoenix_1988 │\n",
       "│ -20A-1988     ┆               ┆         ┆           ┆              ┆              ┆ -09-12       │\n",
       "│ 1994-D062     ┆ Fed Cup WG    ┆ Clay    ┆ 4         ┆ D            ┆ 1994-07-20   ┆ Fed Cup WG   │\n",
       "│               ┆ R2: ITA vs    ┆         ┆           ┆              ┆              ┆ R2: ITA vs   │\n",
       "│               ┆ FRA           ┆         ┆           ┆              ┆              ┆ FRA_1994…    │\n",
       "│ 2020-W-FC-202 ┆ Fed Cup G1    ┆ Clay    ┆ 2         ┆ D            ┆ 2020-02-08   ┆ Fed Cup G1   │\n",
       "│ 0-G1-AM-REL-V ┆ REL: VEN vs   ┆         ┆           ┆              ┆              ┆ REL: VEN vs  │\n",
       "│ EN-C…         ┆ CHI           ┆         ┆           ┆              ┆              ┆ CHI_202…     │\n",
       "│ 2020-W-FC-202 ┆ Fed Cup QLS   ┆ Hard    ┆ 4         ┆ D            ┆ 2020-02-07   ┆ Fed Cup QLS  │\n",
       "│ 0-QLS-M-ROU-R ┆ R1: ROU vs    ┆         ┆           ┆              ┆              ┆ R1: ROU vs   │\n",
       "│ US-0…         ┆ RUS           ┆         ┆           ┆              ┆              ┆ RUS_202…     │\n",
       "│ 2017-W-FC-201 ┆ Fed Cup G1    ┆ Hard    ┆ 2         ┆ D            ┆ 2017-02-11   ┆ Fed Cup G1   │\n",
       "│ 7-G1-EPA-REL- ┆ REL: BIH vs   ┆         ┆           ┆              ┆              ┆ REL: BIH vs  │\n",
       "│ BIH-…         ┆ POR           ┆         ┆           ┆              ┆              ┆ POR_201…     │\n",
       "└───────────────┴───────────────┴─────────┴───────────┴──────────────┴──────────────┴──────────────┘"
      ]
     },
     "execution_count": 8,
     "metadata": {},
     "output_type": "execute_result"
    }
   ],
   "source": [
    "turney_single_matches_wta=matches_singles_wta[['tourney_id', 'tourney_name', 'surface', 'draw_size', 'tourney_level', 'tourney_date', 'tourney_name_date']]\n",
    "turney_single_matches_wta=turney_single_matches_wta.unique('tourney_name_date')\n",
    "turney_single_matches_wta"
   ]
  },
  {
   "cell_type": "code",
   "execution_count": 11,
   "metadata": {},
   "outputs": [
    {
     "data": {
      "text/html": [
       "<div><style>\n",
       ".dataframe > thead > tr,\n",
       ".dataframe > tbody > tr {\n",
       "  text-align: right;\n",
       "  white-space: pre-wrap;\n",
       "}\n",
       "</style>\n",
       "<small>shape: (216_430, 50)</small><table border=\"1\" class=\"dataframe\"><thead><tr><th>tourney_id</th><th>tourney_name</th><th>surface</th><th>draw_size</th><th>tourney_level</th><th>tourney_date</th><th>match_num</th><th>winner_id</th><th>winner_seed</th><th>winner_entry</th><th>winner_name</th><th>winner_hand</th><th>winner_ht</th><th>winner_ioc</th><th>winner_age</th><th>loser_id</th><th>loser_seed</th><th>loser_entry</th><th>loser_name</th><th>loser_hand</th><th>loser_ht</th><th>loser_ioc</th><th>loser_age</th><th>score</th><th>best_of</th><th>round</th><th>minutes</th><th>w_ace</th><th>w_df</th><th>w_svpt</th><th>w_1stIn</th><th>w_1stWon</th><th>w_2ndWon</th><th>w_SvGms</th><th>w_bpSaved</th><th>w_bpFaced</th><th>l_ace</th><th>l_df</th><th>l_svpt</th><th>l_1stIn</th><th>l_1stWon</th><th>l_2ndWon</th><th>l_SvGms</th><th>l_bpSaved</th><th>l_bpFaced</th><th>winner_rank</th><th>winner_rank_points</th><th>loser_rank</th><th>loser_rank_points</th><th>tourney_name_date</th></tr><tr><td>str</td><td>str</td><td>str</td><td>i64</td><td>str</td><td>date</td><td>i64</td><td>str</td><td>str</td><td>str</td><td>str</td><td>str</td><td>i64</td><td>str</td><td>f64</td><td>str</td><td>str</td><td>str</td><td>str</td><td>str</td><td>i64</td><td>str</td><td>f64</td><td>str</td><td>i64</td><td>str</td><td>str</td><td>str</td><td>str</td><td>str</td><td>str</td><td>str</td><td>str</td><td>str</td><td>str</td><td>str</td><td>str</td><td>str</td><td>str</td><td>str</td><td>str</td><td>str</td><td>str</td><td>str</td><td>str</td><td>str</td><td>str</td><td>str</td><td>str</td><td>str</td></tr></thead><tbody><tr><td>&quot;1978-301&quot;</td><td>&quot;Auckland CH&quot;</td><td>&quot;Hard&quot;</td><td>32</td><td>&quot;C&quot;</td><td>1978-01-08</td><td>270</td><td>&quot;100373&quot;</td><td>null</td><td>null</td><td>&quot;Christopher Sylvan&quot;</td><td>&quot;R&quot;</td><td>null</td><td>&quot;USA&quot;</td><td>22.8</td><td>&quot;107618&quot;</td><td>null</td><td>null</td><td>&quot;Malcolm Elley&quot;</td><td>&quot;R&quot;</td><td>null</td><td>&quot;NZL&quot;</td><td>null</td><td>&quot;6-1 6-4&quot;</td><td>3</td><td>&quot;R32&quot;</td><td>null</td><td>null</td><td>null</td><td>null</td><td>null</td><td>null</td><td>null</td><td>null</td><td>null</td><td>null</td><td>null</td><td>null</td><td>null</td><td>null</td><td>null</td><td>null</td><td>null</td><td>null</td><td>null</td><td>&quot;232&quot;</td><td>null</td><td>null</td><td>null</td><td>&quot;Auckland CH_1978-01-08&quot;</td></tr><tr><td>&quot;1978-301&quot;</td><td>&quot;Auckland CH&quot;</td><td>&quot;Hard&quot;</td><td>32</td><td>&quot;C&quot;</td><td>1978-01-08</td><td>271</td><td>&quot;109807&quot;</td><td>null</td><td>null</td><td>&quot;Garry Slater&quot;</td><td>&quot;R&quot;</td><td>null</td><td>&quot;NZL&quot;</td><td>null</td><td>&quot;109808&quot;</td><td>null</td><td>null</td><td>&quot;Graham Oliver&quot;</td><td>&quot;U&quot;</td><td>null</td><td>&quot;NZL&quot;</td><td>null</td><td>&quot;6-4 6-4&quot;</td><td>3</td><td>&quot;R32&quot;</td><td>null</td><td>null</td><td>null</td><td>null</td><td>null</td><td>null</td><td>null</td><td>null</td><td>null</td><td>null</td><td>null</td><td>null</td><td>null</td><td>null</td><td>null</td><td>null</td><td>null</td><td>null</td><td>null</td><td>null</td><td>null</td><td>null</td><td>null</td><td>&quot;Auckland CH_1978-01-08&quot;</td></tr><tr><td>&quot;1978-301&quot;</td><td>&quot;Auckland CH&quot;</td><td>&quot;Hard&quot;</td><td>32</td><td>&quot;C&quot;</td><td>1978-01-08</td><td>272</td><td>&quot;109810&quot;</td><td>null</td><td>null</td><td>&quot;Dave Simmonds&quot;</td><td>&quot;U&quot;</td><td>null</td><td>&quot;NZL&quot;</td><td>null</td><td>&quot;208999&quot;</td><td>null</td><td>null</td><td>&quot;G Dingwell&quot;</td><td>&quot;U&quot;</td><td>null</td><td>&quot;UNK&quot;</td><td>null</td><td>&quot;6-2 6-3&quot;</td><td>3</td><td>&quot;R32&quot;</td><td>null</td><td>null</td><td>null</td><td>null</td><td>null</td><td>null</td><td>null</td><td>null</td><td>null</td><td>null</td><td>null</td><td>null</td><td>null</td><td>null</td><td>null</td><td>null</td><td>null</td><td>null</td><td>null</td><td>null</td><td>null</td><td>null</td><td>null</td><td>&quot;Auckland CH_1978-01-08&quot;</td></tr><tr><td>&quot;1978-301&quot;</td><td>&quot;Auckland CH&quot;</td><td>&quot;Hard&quot;</td><td>32</td><td>&quot;C&quot;</td><td>1978-01-08</td><td>273</td><td>&quot;100638&quot;</td><td>null</td><td>null</td><td>&quot;David Mustard&quot;</td><td>&quot;L&quot;</td><td>180</td><td>&quot;NZL&quot;</td><td>18.0</td><td>&quot;107985&quot;</td><td>null</td><td>null</td><td>&quot;Peter Langsford&quot;</td><td>&quot;R&quot;</td><td>null</td><td>&quot;AUS&quot;</td><td>23.6</td><td>&quot;7-5 7-5&quot;</td><td>3</td><td>&quot;R32&quot;</td><td>null</td><td>null</td><td>null</td><td>null</td><td>null</td><td>null</td><td>null</td><td>null</td><td>null</td><td>null</td><td>null</td><td>null</td><td>null</td><td>null</td><td>null</td><td>null</td><td>null</td><td>null</td><td>null</td><td>null</td><td>null</td><td>&quot;332&quot;</td><td>null</td><td>&quot;Auckland CH_1978-01-08&quot;</td></tr><tr><td>&quot;1978-301&quot;</td><td>&quot;Auckland CH&quot;</td><td>&quot;Hard&quot;</td><td>32</td><td>&quot;C&quot;</td><td>1978-01-08</td><td>274</td><td>&quot;107301&quot;</td><td>null</td><td>null</td><td>&quot;Jay Harvey&quot;</td><td>&quot;R&quot;</td><td>null</td><td>&quot;AUS&quot;</td><td>null</td><td>&quot;100316&quot;</td><td>null</td><td>null</td><td>&quot;Scott Carnahan&quot;</td><td>&quot;R&quot;</td><td>null</td><td>&quot;USA&quot;</td><td>24.2</td><td>&quot;6-4 6-4&quot;</td><td>3</td><td>&quot;R32&quot;</td><td>null</td><td>null</td><td>null</td><td>null</td><td>null</td><td>null</td><td>null</td><td>null</td><td>null</td><td>null</td><td>null</td><td>null</td><td>null</td><td>null</td><td>null</td><td>null</td><td>null</td><td>null</td><td>null</td><td>null</td><td>null</td><td>&quot;232&quot;</td><td>null</td><td>&quot;Auckland CH_1978-01-08&quot;</td></tr><tr><td>&hellip;</td><td>&hellip;</td><td>&hellip;</td><td>&hellip;</td><td>&hellip;</td><td>&hellip;</td><td>&hellip;</td><td>&hellip;</td><td>&hellip;</td><td>&hellip;</td><td>&hellip;</td><td>&hellip;</td><td>&hellip;</td><td>&hellip;</td><td>&hellip;</td><td>&hellip;</td><td>&hellip;</td><td>&hellip;</td><td>&hellip;</td><td>&hellip;</td><td>&hellip;</td><td>&hellip;</td><td>&hellip;</td><td>&hellip;</td><td>&hellip;</td><td>&hellip;</td><td>&hellip;</td><td>&hellip;</td><td>&hellip;</td><td>&hellip;</td><td>&hellip;</td><td>&hellip;</td><td>&hellip;</td><td>&hellip;</td><td>&hellip;</td><td>&hellip;</td><td>&hellip;</td><td>&hellip;</td><td>&hellip;</td><td>&hellip;</td><td>&hellip;</td><td>&hellip;</td><td>&hellip;</td><td>&hellip;</td><td>&hellip;</td><td>&hellip;</td><td>&hellip;</td><td>&hellip;</td><td>&hellip;</td><td>&hellip;</td></tr><tr><td>&quot;2024-2869&quot;</td><td>&quot;Skopje CH&quot;</td><td>&quot;Clay&quot;</td><td>32</td><td>&quot;C&quot;</td><td>2024-05-20</td><td>241</td><td>&quot;210053&quot;</td><td>&quot;8&quot;</td><td>null</td><td>&quot;Luka Mikrut&quot;</td><td>&quot;U&quot;</td><td>null</td><td>&quot;CRO&quot;</td><td>20.0</td><td>&quot;103872&quot;</td><td>null</td><td>&quot;WC&quot;</td><td>&quot;Dimitar Grabuloski&quot;</td><td>&quot;U&quot;</td><td>null</td><td>&quot;MKD&quot;</td><td>42.5</td><td>&quot;6-3 6-4&quot;</td><td>3</td><td>&quot;Q1&quot;</td><td>&quot;87&quot;</td><td>&quot;4&quot;</td><td>&quot;6&quot;</td><td>&quot;64&quot;</td><td>&quot;31&quot;</td><td>&quot;24&quot;</td><td>&quot;18&quot;</td><td>&quot;10&quot;</td><td>&quot;2&quot;</td><td>&quot;3&quot;</td><td>&quot;2&quot;</td><td>&quot;5&quot;</td><td>&quot;78&quot;</td><td>&quot;43&quot;</td><td>&quot;30&quot;</td><td>&quot;13&quot;</td><td>&quot;9&quot;</td><td>&quot;6&quot;</td><td>&quot;9&quot;</td><td>&quot;511&quot;</td><td>&quot;76&quot;</td><td>null</td><td>null</td><td>&quot;Skopje CH_2024-05-20&quot;</td></tr><tr><td>&quot;2024-2869&quot;</td><td>&quot;Skopje CH&quot;</td><td>&quot;Clay&quot;</td><td>32</td><td>&quot;C&quot;</td><td>2024-05-20</td><td>240</td><td>&quot;208843&quot;</td><td>&quot;5&quot;</td><td>null</td><td>&quot;Jerome Kym&quot;</td><td>&quot;R&quot;</td><td>198</td><td>&quot;SUI&quot;</td><td>21.2</td><td>&quot;210078&quot;</td><td>null</td><td>&quot;WC&quot;</td><td>&quot;Berk Bugarikj &quot;</td><td>&quot;U&quot;</td><td>null</td><td>&quot;MKD&quot;</td><td>20.8</td><td>&quot;7-5 6-0&quot;</td><td>3</td><td>&quot;Q1&quot;</td><td>&quot;77&quot;</td><td>&quot;5&quot;</td><td>&quot;0&quot;</td><td>&quot;44&quot;</td><td>&quot;29&quot;</td><td>&quot;25&quot;</td><td>&quot;9&quot;</td><td>&quot;9&quot;</td><td>&quot;1&quot;</td><td>&quot;2&quot;</td><td>&quot;0&quot;</td><td>&quot;3&quot;</td><td>&quot;60&quot;</td><td>&quot;41&quot;</td><td>&quot;21&quot;</td><td>&quot;8&quot;</td><td>&quot;9&quot;</td><td>&quot;2&quot;</td><td>&quot;7&quot;</td><td>&quot;470&quot;</td><td>&quot;92&quot;</td><td>null</td><td>null</td><td>&quot;Skopje CH_2024-05-20&quot;</td></tr><tr><td>&quot;2024-2869&quot;</td><td>&quot;Skopje CH&quot;</td><td>&quot;Clay&quot;</td><td>32</td><td>&quot;C&quot;</td><td>2024-05-20</td><td>239</td><td>&quot;207484&quot;</td><td>&quot;12&quot;</td><td>null</td><td>&quot;Neil Oberleitner&quot;</td><td>&quot;R&quot;</td><td>null</td><td>&quot;AUT&quot;</td><td>24.7</td><td>&quot;200574&quot;</td><td>null</td><td>&quot;Alt&quot;</td><td>&quot;Alexander Donski&quot;</td><td>&quot;R&quot;</td><td>188</td><td>&quot;CAN&quot;</td><td>25.8</td><td>&quot;6-4 6-3&quot;</td><td>3</td><td>&quot;Q1&quot;</td><td>&quot;82&quot;</td><td>&quot;5&quot;</td><td>&quot;5&quot;</td><td>&quot;54&quot;</td><td>&quot;33&quot;</td><td>&quot;27&quot;</td><td>&quot;13&quot;</td><td>&quot;9&quot;</td><td>&quot;2&quot;</td><td>&quot;2&quot;</td><td>&quot;4&quot;</td><td>&quot;6&quot;</td><td>&quot;72&quot;</td><td>&quot;34&quot;</td><td>&quot;26&quot;</td><td>&quot;15&quot;</td><td>&quot;10&quot;</td><td>&quot;3&quot;</td><td>&quot;6&quot;</td><td>&quot;636&quot;</td><td>&quot;53&quot;</td><td>&quot;955&quot;</td><td>&quot;15&quot;</td><td>&quot;Skopje CH_2024-05-20&quot;</td></tr><tr><td>&quot;2024-2869&quot;</td><td>&quot;Skopje CH&quot;</td><td>&quot;Clay&quot;</td><td>32</td><td>&quot;C&quot;</td><td>2024-05-20</td><td>238</td><td>&quot;144970&quot;</td><td>&quot;6&quot;</td><td>null</td><td>&quot;Constantin Bittoun Kouzmine&quot;</td><td>&quot;L&quot;</td><td>null</td><td>&quot;FRA&quot;</td><td>25.3</td><td>&quot;212200&quot;</td><td>null</td><td>&quot;WC&quot;</td><td>&quot;Amar Huseinovic&quot;</td><td>&quot;U&quot;</td><td>null</td><td>&quot;MKD&quot;</td><td>null</td><td>&quot;6-0 6-1&quot;</td><td>3</td><td>&quot;Q1&quot;</td><td>&quot;59&quot;</td><td>&quot;0&quot;</td><td>&quot;1&quot;</td><td>&quot;43&quot;</td><td>&quot;32&quot;</td><td>&quot;26&quot;</td><td>&quot;5&quot;</td><td>&quot;7&quot;</td><td>&quot;4&quot;</td><td>&quot;4&quot;</td><td>&quot;2&quot;</td><td>&quot;0&quot;</td><td>&quot;36&quot;</td><td>&quot;22&quot;</td><td>&quot;9&quot;</td><td>&quot;4&quot;</td><td>&quot;6&quot;</td><td>&quot;0&quot;</td><td>&quot;5&quot;</td><td>&quot;487&quot;</td><td>&quot;87&quot;</td><td>null</td><td>null</td><td>&quot;Skopje CH_2024-05-20&quot;</td></tr><tr><td>&quot;2024-2869&quot;</td><td>&quot;Skopje CH&quot;</td><td>&quot;Clay&quot;</td><td>32</td><td>&quot;C&quot;</td><td>2024-05-20</td><td>237</td><td>&quot;202342&quot;</td><td>null</td><td>null</td><td>&quot;Ryan Seggerman&quot;</td><td>&quot;U&quot;</td><td>null</td><td>&quot;USA&quot;</td><td>24.7</td><td>&quot;106254&quot;</td><td>null</td><td>&quot;Alt&quot;</td><td>&quot;Calum Puttergill&quot;</td><td>&quot;U&quot;</td><td>null</td><td>&quot;AUS&quot;</td><td>30.5</td><td>&quot;7-5 6-0&quot;</td><td>3</td><td>&quot;Q1&quot;</td><td>&quot;56&quot;</td><td>&quot;10&quot;</td><td>&quot;1&quot;</td><td>&quot;44&quot;</td><td>&quot;28&quot;</td><td>&quot;22&quot;</td><td>&quot;12&quot;</td><td>&quot;9&quot;</td><td>&quot;0&quot;</td><td>&quot;1&quot;</td><td>&quot;0&quot;</td><td>&quot;9&quot;</td><td>&quot;52&quot;</td><td>&quot;28&quot;</td><td>&quot;19&quot;</td><td>&quot;7&quot;</td><td>&quot;9&quot;</td><td>&quot;3&quot;</td><td>&quot;8&quot;</td><td>&quot;555&quot;</td><td>&quot;67&quot;</td><td>&quot;880&quot;</td><td>&quot;20&quot;</td><td>&quot;Skopje CH_2024-05-20&quot;</td></tr></tbody></table></div>"
      ],
      "text/plain": [
       "shape: (216_430, 50)\n",
       "┌────────────┬───────────┬─────────┬───────────┬───┬───────────┬───────────┬───────────┬───────────┐\n",
       "│ tourney_id ┆ tourney_n ┆ surface ┆ draw_size ┆ … ┆ winner_ra ┆ loser_ran ┆ loser_ran ┆ tourney_n │\n",
       "│ ---        ┆ ame       ┆ ---     ┆ ---       ┆   ┆ nk_points ┆ k         ┆ k_points  ┆ ame_date  │\n",
       "│ str        ┆ ---       ┆ str     ┆ i64       ┆   ┆ ---       ┆ ---       ┆ ---       ┆ ---       │\n",
       "│            ┆ str       ┆         ┆           ┆   ┆ str       ┆ str       ┆ str       ┆ str       │\n",
       "╞════════════╪═══════════╪═════════╪═══════════╪═══╪═══════════╪═══════════╪═══════════╪═══════════╡\n",
       "│ 1978-301   ┆ Auckland  ┆ Hard    ┆ 32        ┆ … ┆ null      ┆ null      ┆ null      ┆ Auckland  │\n",
       "│            ┆ CH        ┆         ┆           ┆   ┆           ┆           ┆           ┆ CH_1978-0 │\n",
       "│            ┆           ┆         ┆           ┆   ┆           ┆           ┆           ┆ 1-08      │\n",
       "│ 1978-301   ┆ Auckland  ┆ Hard    ┆ 32        ┆ … ┆ null      ┆ null      ┆ null      ┆ Auckland  │\n",
       "│            ┆ CH        ┆         ┆           ┆   ┆           ┆           ┆           ┆ CH_1978-0 │\n",
       "│            ┆           ┆         ┆           ┆   ┆           ┆           ┆           ┆ 1-08      │\n",
       "│ 1978-301   ┆ Auckland  ┆ Hard    ┆ 32        ┆ … ┆ null      ┆ null      ┆ null      ┆ Auckland  │\n",
       "│            ┆ CH        ┆         ┆           ┆   ┆           ┆           ┆           ┆ CH_1978-0 │\n",
       "│            ┆           ┆         ┆           ┆   ┆           ┆           ┆           ┆ 1-08      │\n",
       "│ 1978-301   ┆ Auckland  ┆ Hard    ┆ 32        ┆ … ┆ null      ┆ 332       ┆ null      ┆ Auckland  │\n",
       "│            ┆ CH        ┆         ┆           ┆   ┆           ┆           ┆           ┆ CH_1978-0 │\n",
       "│            ┆           ┆         ┆           ┆   ┆           ┆           ┆           ┆ 1-08      │\n",
       "│ 1978-301   ┆ Auckland  ┆ Hard    ┆ 32        ┆ … ┆ null      ┆ 232       ┆ null      ┆ Auckland  │\n",
       "│            ┆ CH        ┆         ┆           ┆   ┆           ┆           ┆           ┆ CH_1978-0 │\n",
       "│            ┆           ┆         ┆           ┆   ┆           ┆           ┆           ┆ 1-08      │\n",
       "│ …          ┆ …         ┆ …       ┆ …         ┆ … ┆ …         ┆ …         ┆ …         ┆ …         │\n",
       "│ 2024-2869  ┆ Skopje CH ┆ Clay    ┆ 32        ┆ … ┆ 76        ┆ null      ┆ null      ┆ Skopje    │\n",
       "│            ┆           ┆         ┆           ┆   ┆           ┆           ┆           ┆ CH_2024-0 │\n",
       "│            ┆           ┆         ┆           ┆   ┆           ┆           ┆           ┆ 5-20      │\n",
       "│ 2024-2869  ┆ Skopje CH ┆ Clay    ┆ 32        ┆ … ┆ 92        ┆ null      ┆ null      ┆ Skopje    │\n",
       "│            ┆           ┆         ┆           ┆   ┆           ┆           ┆           ┆ CH_2024-0 │\n",
       "│            ┆           ┆         ┆           ┆   ┆           ┆           ┆           ┆ 5-20      │\n",
       "│ 2024-2869  ┆ Skopje CH ┆ Clay    ┆ 32        ┆ … ┆ 53        ┆ 955       ┆ 15        ┆ Skopje    │\n",
       "│            ┆           ┆         ┆           ┆   ┆           ┆           ┆           ┆ CH_2024-0 │\n",
       "│            ┆           ┆         ┆           ┆   ┆           ┆           ┆           ┆ 5-20      │\n",
       "│ 2024-2869  ┆ Skopje CH ┆ Clay    ┆ 32        ┆ … ┆ 87        ┆ null      ┆ null      ┆ Skopje    │\n",
       "│            ┆           ┆         ┆           ┆   ┆           ┆           ┆           ┆ CH_2024-0 │\n",
       "│            ┆           ┆         ┆           ┆   ┆           ┆           ┆           ┆ 5-20      │\n",
       "│ 2024-2869  ┆ Skopje CH ┆ Clay    ┆ 32        ┆ … ┆ 67        ┆ 880       ┆ 20        ┆ Skopje    │\n",
       "│            ┆           ┆         ┆           ┆   ┆           ┆           ┆           ┆ CH_2024-0 │\n",
       "│            ┆           ┆         ┆           ┆   ┆           ┆           ┆           ┆ 5-20      │\n",
       "└────────────┴───────────┴─────────┴───────────┴───┴───────────┴───────────┴───────────┴───────────┘"
      ]
     },
     "execution_count": 11,
     "metadata": {},
     "output_type": "execute_result"
    }
   ],
   "source": [
    "matches_qualifiers_challengers=import_tennis_matches(data_type=\"qualifiers_challengers\",gender=\"atp\")\n",
    "\n",
    "matches_qualifiers_challengers = matches_qualifiers_challengers.with_columns(\n",
    "    (pl.col(\"tourney_name\") + \"_\" + pl.col(\"tourney_date\").cast(pl.Utf8)).alias(\"tourney_name_date\")\n",
    ")\n",
    "matches_qualifiers_challengers\n"
   ]
  },
  {
   "cell_type": "code",
   "execution_count": 12,
   "metadata": {},
   "outputs": [
    {
     "data": {
      "text/html": [
       "<div><style>\n",
       ".dataframe > thead > tr,\n",
       ".dataframe > tbody > tr {\n",
       "  text-align: right;\n",
       "  white-space: pre-wrap;\n",
       "}\n",
       "</style>\n",
       "<small>shape: (6_332, 7)</small><table border=\"1\" class=\"dataframe\"><thead><tr><th>tourney_id</th><th>tourney_name</th><th>surface</th><th>draw_size</th><th>tourney_level</th><th>tourney_date</th><th>tourney_name_date</th></tr><tr><td>str</td><td>str</td><td>str</td><td>i64</td><td>str</td><td>date</td><td>str</td></tr></thead><tbody><tr><td>&quot;2013-305&quot;</td><td>&quot;Helsinki CH&quot;</td><td>&quot;Hard&quot;</td><td>32</td><td>&quot;C&quot;</td><td>2013-11-11</td><td>&quot;Helsinki CH_2013-11-11&quot;</td></tr><tr><td>&quot;2014-91&quot;</td><td>&quot;Kyoto CH&quot;</td><td>&quot;Hard&quot;</td><td>32</td><td>&quot;C&quot;</td><td>2014-03-03</td><td>&quot;Kyoto CH_2014-03-03&quot;</td></tr><tr><td>&quot;2009-1543&quot;</td><td>&quot;Turin CH&quot;</td><td>&quot;Clay&quot;</td><td>32</td><td>&quot;C&quot;</td><td>2009-06-29</td><td>&quot;Turin CH_2009-06-29&quot;</td></tr><tr><td>&quot;1987-275&quot;</td><td>&quot;Sao Paulo CH&quot;</td><td>&quot;Clay&quot;</td><td>32</td><td>&quot;C&quot;</td><td>1987-02-02</td><td>&quot;Sao Paulo CH_1987-02-02&quot;</td></tr><tr><td>&quot;2002-486&quot;</td><td>&quot;Manerbio CH&quot;</td><td>&quot;Clay&quot;</td><td>32</td><td>&quot;C&quot;</td><td>2002-08-19</td><td>&quot;Manerbio CH_2002-08-19&quot;</td></tr><tr><td>&hellip;</td><td>&hellip;</td><td>&hellip;</td><td>&hellip;</td><td>&hellip;</td><td>&hellip;</td><td>&hellip;</td></tr><tr><td>&quot;2010-252&quot;</td><td>&quot;Medellin CH&quot;</td><td>&quot;Clay&quot;</td><td>32</td><td>&quot;C&quot;</td><td>2010-11-01</td><td>&quot;Medellin CH_2010-11-01&quot;</td></tr><tr><td>&quot;2015-7241&quot;</td><td>&quot;Batman CH&quot;</td><td>&quot;Hard&quot;</td><td>32</td><td>&quot;C&quot;</td><td>2015-04-06</td><td>&quot;Batman CH_2015-04-06&quot;</td></tr><tr><td>&quot;2024-6239&quot;</td><td>&quot;Quimper CH&quot;</td><td>&quot;Hard&quot;</td><td>32</td><td>&quot;C&quot;</td><td>2024-01-22</td><td>&quot;Quimper CH_2024-01-22&quot;</td></tr><tr><td>&quot;2006-3503&quot;</td><td>&quot;Rennes CH&quot;</td><td>&quot;Hard&quot;</td><td>32</td><td>&quot;C&quot;</td><td>2006-10-09</td><td>&quot;Rennes CH_2006-10-09&quot;</td></tr><tr><td>&quot;2017-7490&quot;</td><td>&quot;Gwangju CH&quot;</td><td>&quot;Hard&quot;</td><td>32</td><td>&quot;C&quot;</td><td>2017-09-18</td><td>&quot;Gwangju CH_2017-09-18&quot;</td></tr></tbody></table></div>"
      ],
      "text/plain": [
       "shape: (6_332, 7)\n",
       "┌────────────┬──────────────┬─────────┬───────────┬───────────────┬──────────────┬─────────────────┐\n",
       "│ tourney_id ┆ tourney_name ┆ surface ┆ draw_size ┆ tourney_level ┆ tourney_date ┆ tourney_name_da │\n",
       "│ ---        ┆ ---          ┆ ---     ┆ ---       ┆ ---           ┆ ---          ┆ te              │\n",
       "│ str        ┆ str          ┆ str     ┆ i64       ┆ str           ┆ date         ┆ ---             │\n",
       "│            ┆              ┆         ┆           ┆               ┆              ┆ str             │\n",
       "╞════════════╪══════════════╪═════════╪═══════════╪═══════════════╪══════════════╪═════════════════╡\n",
       "│ 2013-305   ┆ Helsinki CH  ┆ Hard    ┆ 32        ┆ C             ┆ 2013-11-11   ┆ Helsinki        │\n",
       "│            ┆              ┆         ┆           ┆               ┆              ┆ CH_2013-11-11   │\n",
       "│ 2014-91    ┆ Kyoto CH     ┆ Hard    ┆ 32        ┆ C             ┆ 2014-03-03   ┆ Kyoto           │\n",
       "│            ┆              ┆         ┆           ┆               ┆              ┆ CH_2014-03-03   │\n",
       "│ 2009-1543  ┆ Turin CH     ┆ Clay    ┆ 32        ┆ C             ┆ 2009-06-29   ┆ Turin           │\n",
       "│            ┆              ┆         ┆           ┆               ┆              ┆ CH_2009-06-29   │\n",
       "│ 1987-275   ┆ Sao Paulo CH ┆ Clay    ┆ 32        ┆ C             ┆ 1987-02-02   ┆ Sao Paulo       │\n",
       "│            ┆              ┆         ┆           ┆               ┆              ┆ CH_1987-02-02   │\n",
       "│ 2002-486   ┆ Manerbio CH  ┆ Clay    ┆ 32        ┆ C             ┆ 2002-08-19   ┆ Manerbio        │\n",
       "│            ┆              ┆         ┆           ┆               ┆              ┆ CH_2002-08-19   │\n",
       "│ …          ┆ …            ┆ …       ┆ …         ┆ …             ┆ …            ┆ …               │\n",
       "│ 2010-252   ┆ Medellin CH  ┆ Clay    ┆ 32        ┆ C             ┆ 2010-11-01   ┆ Medellin        │\n",
       "│            ┆              ┆         ┆           ┆               ┆              ┆ CH_2010-11-01   │\n",
       "│ 2015-7241  ┆ Batman CH    ┆ Hard    ┆ 32        ┆ C             ┆ 2015-04-06   ┆ Batman          │\n",
       "│            ┆              ┆         ┆           ┆               ┆              ┆ CH_2015-04-06   │\n",
       "│ 2024-6239  ┆ Quimper CH   ┆ Hard    ┆ 32        ┆ C             ┆ 2024-01-22   ┆ Quimper         │\n",
       "│            ┆              ┆         ┆           ┆               ┆              ┆ CH_2024-01-22   │\n",
       "│ 2006-3503  ┆ Rennes CH    ┆ Hard    ┆ 32        ┆ C             ┆ 2006-10-09   ┆ Rennes          │\n",
       "│            ┆              ┆         ┆           ┆               ┆              ┆ CH_2006-10-09   │\n",
       "│ 2017-7490  ┆ Gwangju CH   ┆ Hard    ┆ 32        ┆ C             ┆ 2017-09-18   ┆ Gwangju         │\n",
       "│            ┆              ┆         ┆           ┆               ┆              ┆ CH_2017-09-18   │\n",
       "└────────────┴──────────────┴─────────┴───────────┴───────────────┴──────────────┴─────────────────┘"
      ]
     },
     "execution_count": 12,
     "metadata": {},
     "output_type": "execute_result"
    }
   ],
   "source": [
    "turney_qualifiers_challengers=matches_qualifiers_challengers[['tourney_id', 'tourney_name', 'surface', 'draw_size', 'tourney_level', 'tourney_date', 'tourney_name_date']]\n",
    "turney_qualifiers_challengers=turney_qualifiers_challengers.unique('tourney_name_date')\n",
    "turney_qualifiers_challengers"
   ]
  },
  {
   "cell_type": "code",
   "execution_count": 13,
   "metadata": {},
   "outputs": [
    {
     "data": {
      "text/html": [
       "<div><style>\n",
       ".dataframe > thead > tr,\n",
       ".dataframe > tbody > tr {\n",
       "  text-align: right;\n",
       "  white-space: pre-wrap;\n",
       "}\n",
       "</style>\n",
       "<small>shape: (486_553, 50)</small><table border=\"1\" class=\"dataframe\"><thead><tr><th>tourney_id</th><th>tourney_name</th><th>surface</th><th>draw_size</th><th>tourney_level</th><th>tourney_date</th><th>match_num</th><th>winner_id</th><th>winner_seed</th><th>winner_entry</th><th>winner_name</th><th>winner_hand</th><th>winner_ht</th><th>winner_ioc</th><th>winner_age</th><th>loser_id</th><th>loser_seed</th><th>loser_entry</th><th>loser_name</th><th>loser_hand</th><th>loser_ht</th><th>loser_ioc</th><th>loser_age</th><th>score</th><th>best_of</th><th>round</th><th>minutes</th><th>w_ace</th><th>w_df</th><th>w_svpt</th><th>w_1stIn</th><th>w_1stWon</th><th>w_2ndWon</th><th>w_SvGms</th><th>w_bpSaved</th><th>w_bpFaced</th><th>l_ace</th><th>l_df</th><th>l_svpt</th><th>l_1stIn</th><th>l_1stWon</th><th>l_2ndWon</th><th>l_SvGms</th><th>l_bpSaved</th><th>l_bpFaced</th><th>winner_rank</th><th>winner_rank_points</th><th>loser_rank</th><th>loser_rank_points</th><th>tourney_name_date</th></tr><tr><td>str</td><td>str</td><td>str</td><td>i64</td><td>str</td><td>date</td><td>i64</td><td>str</td><td>str</td><td>str</td><td>str</td><td>str</td><td>i64</td><td>str</td><td>f64</td><td>str</td><td>str</td><td>str</td><td>str</td><td>str</td><td>i64</td><td>str</td><td>f64</td><td>str</td><td>i64</td><td>str</td><td>str</td><td>str</td><td>str</td><td>str</td><td>str</td><td>str</td><td>str</td><td>str</td><td>str</td><td>str</td><td>str</td><td>str</td><td>str</td><td>str</td><td>str</td><td>str</td><td>str</td><td>str</td><td>str</td><td>str</td><td>str</td><td>str</td><td>str</td><td>str</td></tr></thead><tbody><tr><td>&quot;1991-M-SA-IND-02A-1990a&quot;</td><td>&quot;India Masters 1&quot;</td><td>&quot;Hard&quot;</td><td>32</td><td>&quot;S&quot;</td><td>1990-12-29</td><td>1</td><td>&quot;101484&quot;</td><td>&quot;1&quot;</td><td>null</td><td>&quot;Vladimir Gabrichidze&quot;</td><td>&quot;R&quot;</td><td>175</td><td>&quot;GEO&quot;</td><td>22.6</td><td>&quot;106937&quot;</td><td>null</td><td>null</td><td>&quot;Emilio Marturano&quot;</td><td>&quot;R&quot;</td><td>null</td><td>&quot;ITA&quot;</td><td>23.5</td><td>&quot;6-2 7-5&quot;</td><td>3</td><td>&quot;R32&quot;</td><td>null</td><td>null</td><td>null</td><td>null</td><td>null</td><td>null</td><td>null</td><td>null</td><td>null</td><td>null</td><td>null</td><td>null</td><td>null</td><td>null</td><td>null</td><td>null</td><td>null</td><td>null</td><td>null</td><td>&quot;266&quot;</td><td>&quot;82&quot;</td><td>&quot;805&quot;</td><td>&quot;4&quot;</td><td>&quot;India Masters 1_1990-12-29&quot;</td></tr><tr><td>&quot;1991-M-SA-IND-02A-1990a&quot;</td><td>&quot;India Masters 1&quot;</td><td>&quot;Hard&quot;</td><td>32</td><td>&quot;S&quot;</td><td>1990-12-29</td><td>2</td><td>&quot;106819&quot;</td><td>null</td><td>&quot;Q&quot;</td><td>&quot;Danilo Pila&quot;</td><td>&quot;R&quot;</td><td>null</td><td>&quot;PHI&quot;</td><td>30.2</td><td>&quot;107116&quot;</td><td>null</td><td>null</td><td>&quot;Goran Mihajlovic&quot;</td><td>&quot;R&quot;</td><td>null</td><td>&quot;YUG&quot;</td><td>19.6</td><td>&quot;6-3 6-2&quot;</td><td>3</td><td>&quot;R32&quot;</td><td>null</td><td>null</td><td>null</td><td>null</td><td>null</td><td>null</td><td>null</td><td>null</td><td>null</td><td>null</td><td>null</td><td>null</td><td>null</td><td>null</td><td>null</td><td>null</td><td>null</td><td>null</td><td>null</td><td>&quot;941&quot;</td><td>&quot;2&quot;</td><td>&quot;692&quot;</td><td>&quot;8&quot;</td><td>&quot;India Masters 1_1990-12-29&quot;</td></tr><tr><td>&quot;1991-M-SA-IND-02A-1990a&quot;</td><td>&quot;India Masters 1&quot;</td><td>&quot;Hard&quot;</td><td>32</td><td>&quot;S&quot;</td><td>1990-12-29</td><td>3</td><td>&quot;102216&quot;</td><td>null</td><td>&quot;LL&quot;</td><td>&quot;Mark Joachim&quot;</td><td>&quot;R&quot;</td><td>null</td><td>&quot;GER&quot;</td><td>17.6</td><td>&quot;108562&quot;</td><td>null</td><td>null</td><td>&quot;York Heidenreich&quot;</td><td>&quot;R&quot;</td><td>null</td><td>&quot;GER&quot;</td><td>null</td><td>&quot;6-1 6-3&quot;</td><td>3</td><td>&quot;R32&quot;</td><td>null</td><td>null</td><td>null</td><td>null</td><td>null</td><td>null</td><td>null</td><td>null</td><td>null</td><td>null</td><td>null</td><td>null</td><td>null</td><td>null</td><td>null</td><td>null</td><td>null</td><td>null</td><td>null</td><td>&quot;862&quot;</td><td>&quot;3&quot;</td><td>&quot;862&quot;</td><td>&quot;3&quot;</td><td>&quot;India Masters 1_1990-12-29&quot;</td></tr><tr><td>&quot;1991-M-SA-IND-02A-1990a&quot;</td><td>&quot;India Masters 1&quot;</td><td>&quot;Hard&quot;</td><td>32</td><td>&quot;S&quot;</td><td>1990-12-29</td><td>4</td><td>&quot;101663&quot;</td><td>null</td><td>null</td><td>&quot;Eugenio Rossi&quot;</td><td>&quot;R&quot;</td><td>null</td><td>&quot;ITA&quot;</td><td>21.1</td><td>&quot;106941&quot;</td><td>&quot;8&quot;</td><td>null</td><td>&quot;Eno Polo&quot;</td><td>&quot;R&quot;</td><td>null</td><td>&quot;KEN&quot;</td><td>23.5</td><td>&quot;6-4 6-4&quot;</td><td>3</td><td>&quot;R32&quot;</td><td>null</td><td>null</td><td>null</td><td>null</td><td>null</td><td>null</td><td>null</td><td>null</td><td>null</td><td>null</td><td>null</td><td>null</td><td>null</td><td>null</td><td>null</td><td>null</td><td>null</td><td>null</td><td>null</td><td>&quot;703&quot;</td><td>&quot;8&quot;</td><td>&quot;588&quot;</td><td>&quot;14&quot;</td><td>&quot;India Masters 1_1990-12-29&quot;</td></tr><tr><td>&quot;1991-M-SA-IND-02A-1990a&quot;</td><td>&quot;India Masters 1&quot;</td><td>&quot;Hard&quot;</td><td>32</td><td>&quot;S&quot;</td><td>1990-12-29</td><td>5</td><td>&quot;100794&quot;</td><td>&quot;4&quot;</td><td>null</td><td>&quot;Srinivasan Vasudevan&quot;</td><td>&quot;R&quot;</td><td>190</td><td>&quot;IND&quot;</td><td>28.9</td><td>&quot;101480&quot;</td><td>null</td><td>null</td><td>&quot;Jake Martyn&quot;</td><td>&quot;R&quot;</td><td>null</td><td>&quot;GBR&quot;</td><td>22.6</td><td>&quot;6-3 7-6&quot;</td><td>3</td><td>&quot;R32&quot;</td><td>null</td><td>null</td><td>null</td><td>null</td><td>null</td><td>null</td><td>null</td><td>null</td><td>null</td><td>null</td><td>null</td><td>null</td><td>null</td><td>null</td><td>null</td><td>null</td><td>null</td><td>null</td><td>null</td><td>&quot;420&quot;</td><td>&quot;33&quot;</td><td>&quot;862&quot;</td><td>&quot;3&quot;</td><td>&quot;India Masters 1_1990-12-29&quot;</td></tr><tr><td>&hellip;</td><td>&hellip;</td><td>&hellip;</td><td>&hellip;</td><td>&hellip;</td><td>&hellip;</td><td>&hellip;</td><td>&hellip;</td><td>&hellip;</td><td>&hellip;</td><td>&hellip;</td><td>&hellip;</td><td>&hellip;</td><td>&hellip;</td><td>&hellip;</td><td>&hellip;</td><td>&hellip;</td><td>&hellip;</td><td>&hellip;</td><td>&hellip;</td><td>&hellip;</td><td>&hellip;</td><td>&hellip;</td><td>&hellip;</td><td>&hellip;</td><td>&hellip;</td><td>&hellip;</td><td>&hellip;</td><td>&hellip;</td><td>&hellip;</td><td>&hellip;</td><td>&hellip;</td><td>&hellip;</td><td>&hellip;</td><td>&hellip;</td><td>&hellip;</td><td>&hellip;</td><td>&hellip;</td><td>&hellip;</td><td>&hellip;</td><td>&hellip;</td><td>&hellip;</td><td>&hellip;</td><td>&hellip;</td><td>&hellip;</td><td>&hellip;</td><td>&hellip;</td><td>&hellip;</td><td>&hellip;</td><td>&hellip;</td></tr><tr><td>&quot;2024-M-ITF-USA-2024-010&quot;</td><td>&quot;M25 Pensacola FL&quot;</td><td>&quot;Clay&quot;</td><td>32</td><td>&quot;25&quot;</td><td>2024-05-13</td><td>303</td><td>&quot;210044&quot;</td><td>&quot;5&quot;</td><td>null</td><td>&quot;Bruno Kuzuhara&quot;</td><td>&quot;U&quot;</td><td>null</td><td>&quot;USA&quot;</td><td>20.0</td><td>&quot;132054&quot;</td><td>null</td><td>null</td><td>&quot;Nathan Ponwith&quot;</td><td>&quot;U&quot;</td><td>null</td><td>&quot;USA&quot;</td><td>26.0</td><td>&quot;6-3 6-3&quot;</td><td>3</td><td>&quot;QF&quot;</td><td>null</td><td>null</td><td>null</td><td>null</td><td>null</td><td>null</td><td>null</td><td>null</td><td>null</td><td>null</td><td>null</td><td>null</td><td>null</td><td>null</td><td>null</td><td>null</td><td>null</td><td>null</td><td>null</td><td>&quot;469&quot;</td><td>&quot;92&quot;</td><td>&quot;745&quot;</td><td>&quot;34&quot;</td><td>&quot;M25 Pensacola FL_2024-05-13&quot;</td></tr><tr><td>&quot;2024-M-ITF-USA-2024-010&quot;</td><td>&quot;M25 Pensacola FL&quot;</td><td>&quot;Clay&quot;</td><td>32</td><td>&quot;25&quot;</td><td>2024-05-13</td><td>304</td><td>&quot;200273&quot;</td><td>&quot;2&quot;</td><td>null</td><td>&quot;Hady Habib&quot;</td><td>&quot;R&quot;</td><td>null</td><td>&quot;LBN&quot;</td><td>25.7</td><td>&quot;132052&quot;</td><td>&quot;7&quot;</td><td>null</td><td>&quot;Christian Langmo&quot;</td><td>&quot;U&quot;</td><td>null</td><td>&quot;USA&quot;</td><td>27.9</td><td>&quot;1-6 6-3 6-3&quot;</td><td>3</td><td>&quot;QF&quot;</td><td>null</td><td>null</td><td>null</td><td>null</td><td>null</td><td>null</td><td>null</td><td>null</td><td>null</td><td>null</td><td>null</td><td>null</td><td>null</td><td>null</td><td>null</td><td>null</td><td>null</td><td>null</td><td>null</td><td>&quot;286&quot;</td><td>&quot;196&quot;</td><td>&quot;507&quot;</td><td>&quot;77&quot;</td><td>&quot;M25 Pensacola FL_2024-05-13&quot;</td></tr><tr><td>&quot;2024-M-ITF-USA-2024-010&quot;</td><td>&quot;M25 Pensacola FL&quot;</td><td>&quot;Clay&quot;</td><td>32</td><td>&quot;25&quot;</td><td>2024-05-13</td><td>401</td><td>&quot;200748&quot;</td><td>&quot;4&quot;</td><td>null</td><td>&quot;Andres Andrade&quot;</td><td>&quot;R&quot;</td><td>null</td><td>&quot;ECU&quot;</td><td>25.3</td><td>&quot;106071&quot;</td><td>&quot;1&quot;</td><td>null</td><td>&quot;Bernard Tomic&quot;</td><td>&quot;R&quot;</td><td>193</td><td>&quot;AUS&quot;</td><td>31.5</td><td>&quot;RET&quot;</td><td>3</td><td>&quot;SF&quot;</td><td>null</td><td>null</td><td>null</td><td>null</td><td>null</td><td>null</td><td>null</td><td>null</td><td>null</td><td>null</td><td>null</td><td>null</td><td>null</td><td>null</td><td>null</td><td>null</td><td>null</td><td>null</td><td>null</td><td>&quot;374&quot;</td><td>&quot;133&quot;</td><td>&quot;256&quot;</td><td>&quot;230&quot;</td><td>&quot;M25 Pensacola FL_2024-05-13&quot;</td></tr><tr><td>&quot;2024-M-ITF-USA-2024-010&quot;</td><td>&quot;M25 Pensacola FL&quot;</td><td>&quot;Clay&quot;</td><td>32</td><td>&quot;25&quot;</td><td>2024-05-13</td><td>402</td><td>&quot;200273&quot;</td><td>&quot;2&quot;</td><td>null</td><td>&quot;Hady Habib&quot;</td><td>&quot;R&quot;</td><td>null</td><td>&quot;LBN&quot;</td><td>25.7</td><td>&quot;210044&quot;</td><td>&quot;5&quot;</td><td>null</td><td>&quot;Bruno Kuzuhara&quot;</td><td>&quot;U&quot;</td><td>null</td><td>&quot;USA&quot;</td><td>20.0</td><td>&quot;6-4 6-4&quot;</td><td>3</td><td>&quot;SF&quot;</td><td>null</td><td>null</td><td>null</td><td>null</td><td>null</td><td>null</td><td>null</td><td>null</td><td>null</td><td>null</td><td>null</td><td>null</td><td>null</td><td>null</td><td>null</td><td>null</td><td>null</td><td>null</td><td>null</td><td>&quot;286&quot;</td><td>&quot;196&quot;</td><td>&quot;469&quot;</td><td>&quot;92&quot;</td><td>&quot;M25 Pensacola FL_2024-05-13&quot;</td></tr><tr><td>&quot;2024-M-ITF-USA-2024-010&quot;</td><td>&quot;M25 Pensacola FL&quot;</td><td>&quot;Clay&quot;</td><td>32</td><td>&quot;25&quot;</td><td>2024-05-13</td><td>501</td><td>&quot;200748&quot;</td><td>&quot;4&quot;</td><td>null</td><td>&quot;Andres Andrade&quot;</td><td>&quot;R&quot;</td><td>null</td><td>&quot;ECU&quot;</td><td>25.3</td><td>&quot;200273&quot;</td><td>&quot;2&quot;</td><td>null</td><td>&quot;Hady Habib&quot;</td><td>&quot;R&quot;</td><td>null</td><td>&quot;LBN&quot;</td><td>25.7</td><td>&quot;7-6(5) 7-5&quot;</td><td>3</td><td>&quot;F&quot;</td><td>null</td><td>null</td><td>null</td><td>null</td><td>null</td><td>null</td><td>null</td><td>null</td><td>null</td><td>null</td><td>null</td><td>null</td><td>null</td><td>null</td><td>null</td><td>null</td><td>null</td><td>null</td><td>null</td><td>&quot;374&quot;</td><td>&quot;133&quot;</td><td>&quot;286&quot;</td><td>&quot;196&quot;</td><td>&quot;M25 Pensacola FL_2024-05-13&quot;</td></tr></tbody></table></div>"
      ],
      "text/plain": [
       "shape: (486_553, 50)\n",
       "┌────────────┬───────────┬─────────┬───────────┬───┬───────────┬───────────┬───────────┬───────────┐\n",
       "│ tourney_id ┆ tourney_n ┆ surface ┆ draw_size ┆ … ┆ winner_ra ┆ loser_ran ┆ loser_ran ┆ tourney_n │\n",
       "│ ---        ┆ ame       ┆ ---     ┆ ---       ┆   ┆ nk_points ┆ k         ┆ k_points  ┆ ame_date  │\n",
       "│ str        ┆ ---       ┆ str     ┆ i64       ┆   ┆ ---       ┆ ---       ┆ ---       ┆ ---       │\n",
       "│            ┆ str       ┆         ┆           ┆   ┆ str       ┆ str       ┆ str       ┆ str       │\n",
       "╞════════════╪═══════════╪═════════╪═══════════╪═══╪═══════════╪═══════════╪═══════════╪═══════════╡\n",
       "│ 1991-M-SA- ┆ India     ┆ Hard    ┆ 32        ┆ … ┆ 82        ┆ 805       ┆ 4         ┆ India     │\n",
       "│ IND-02A-19 ┆ Masters 1 ┆         ┆           ┆   ┆           ┆           ┆           ┆ Masters   │\n",
       "│ 90a        ┆           ┆         ┆           ┆   ┆           ┆           ┆           ┆ 1_1990-12 │\n",
       "│            ┆           ┆         ┆           ┆   ┆           ┆           ┆           ┆ -29       │\n",
       "│ 1991-M-SA- ┆ India     ┆ Hard    ┆ 32        ┆ … ┆ 2         ┆ 692       ┆ 8         ┆ India     │\n",
       "│ IND-02A-19 ┆ Masters 1 ┆         ┆           ┆   ┆           ┆           ┆           ┆ Masters   │\n",
       "│ 90a        ┆           ┆         ┆           ┆   ┆           ┆           ┆           ┆ 1_1990-12 │\n",
       "│            ┆           ┆         ┆           ┆   ┆           ┆           ┆           ┆ -29       │\n",
       "│ 1991-M-SA- ┆ India     ┆ Hard    ┆ 32        ┆ … ┆ 3         ┆ 862       ┆ 3         ┆ India     │\n",
       "│ IND-02A-19 ┆ Masters 1 ┆         ┆           ┆   ┆           ┆           ┆           ┆ Masters   │\n",
       "│ 90a        ┆           ┆         ┆           ┆   ┆           ┆           ┆           ┆ 1_1990-12 │\n",
       "│            ┆           ┆         ┆           ┆   ┆           ┆           ┆           ┆ -29       │\n",
       "│ 1991-M-SA- ┆ India     ┆ Hard    ┆ 32        ┆ … ┆ 8         ┆ 588       ┆ 14        ┆ India     │\n",
       "│ IND-02A-19 ┆ Masters 1 ┆         ┆           ┆   ┆           ┆           ┆           ┆ Masters   │\n",
       "│ 90a        ┆           ┆         ┆           ┆   ┆           ┆           ┆           ┆ 1_1990-12 │\n",
       "│            ┆           ┆         ┆           ┆   ┆           ┆           ┆           ┆ -29       │\n",
       "│ 1991-M-SA- ┆ India     ┆ Hard    ┆ 32        ┆ … ┆ 33        ┆ 862       ┆ 3         ┆ India     │\n",
       "│ IND-02A-19 ┆ Masters 1 ┆         ┆           ┆   ┆           ┆           ┆           ┆ Masters   │\n",
       "│ 90a        ┆           ┆         ┆           ┆   ┆           ┆           ┆           ┆ 1_1990-12 │\n",
       "│            ┆           ┆         ┆           ┆   ┆           ┆           ┆           ┆ -29       │\n",
       "│ …          ┆ …         ┆ …       ┆ …         ┆ … ┆ …         ┆ …         ┆ …         ┆ …         │\n",
       "│ 2024-M-ITF ┆ M25       ┆ Clay    ┆ 32        ┆ … ┆ 92        ┆ 745       ┆ 34        ┆ M25       │\n",
       "│ -USA-2024- ┆ Pensacola ┆         ┆           ┆   ┆           ┆           ┆           ┆ Pensacola │\n",
       "│ 010        ┆ FL        ┆         ┆           ┆   ┆           ┆           ┆           ┆ FL_2024-0 │\n",
       "│            ┆           ┆         ┆           ┆   ┆           ┆           ┆           ┆ 5-13      │\n",
       "│ 2024-M-ITF ┆ M25       ┆ Clay    ┆ 32        ┆ … ┆ 196       ┆ 507       ┆ 77        ┆ M25       │\n",
       "│ -USA-2024- ┆ Pensacola ┆         ┆           ┆   ┆           ┆           ┆           ┆ Pensacola │\n",
       "│ 010        ┆ FL        ┆         ┆           ┆   ┆           ┆           ┆           ┆ FL_2024-0 │\n",
       "│            ┆           ┆         ┆           ┆   ┆           ┆           ┆           ┆ 5-13      │\n",
       "│ 2024-M-ITF ┆ M25       ┆ Clay    ┆ 32        ┆ … ┆ 133       ┆ 256       ┆ 230       ┆ M25       │\n",
       "│ -USA-2024- ┆ Pensacola ┆         ┆           ┆   ┆           ┆           ┆           ┆ Pensacola │\n",
       "│ 010        ┆ FL        ┆         ┆           ┆   ┆           ┆           ┆           ┆ FL_2024-0 │\n",
       "│            ┆           ┆         ┆           ┆   ┆           ┆           ┆           ┆ 5-13      │\n",
       "│ 2024-M-ITF ┆ M25       ┆ Clay    ┆ 32        ┆ … ┆ 196       ┆ 469       ┆ 92        ┆ M25       │\n",
       "│ -USA-2024- ┆ Pensacola ┆         ┆           ┆   ┆           ┆           ┆           ┆ Pensacola │\n",
       "│ 010        ┆ FL        ┆         ┆           ┆   ┆           ┆           ┆           ┆ FL_2024-0 │\n",
       "│            ┆           ┆         ┆           ┆   ┆           ┆           ┆           ┆ 5-13      │\n",
       "│ 2024-M-ITF ┆ M25       ┆ Clay    ┆ 32        ┆ … ┆ 133       ┆ 286       ┆ 196       ┆ M25       │\n",
       "│ -USA-2024- ┆ Pensacola ┆         ┆           ┆   ┆           ┆           ┆           ┆ Pensacola │\n",
       "│ 010        ┆ FL        ┆         ┆           ┆   ┆           ┆           ┆           ┆ FL_2024-0 │\n",
       "│            ┆           ┆         ┆           ┆   ┆           ┆           ┆           ┆ 5-13      │\n",
       "└────────────┴───────────┴─────────┴───────────┴───┴───────────┴───────────┴───────────┴───────────┘"
      ]
     },
     "execution_count": 13,
     "metadata": {},
     "output_type": "execute_result"
    }
   ],
   "source": [
    "matches_futures=import_tennis_matches(data_type=\"futures\",gender=\"atp\")\n",
    "\n",
    "matches_futures = matches_futures.with_columns(\n",
    "    (pl.col(\"tourney_name\") + \"_\" + pl.col(\"tourney_date\").cast(pl.Utf8)).alias(\"tourney_name_date\")\n",
    ")\n",
    "matches_futures"
   ]
  },
  {
   "cell_type": "code",
   "execution_count": 14,
   "metadata": {},
   "outputs": [
    {
     "data": {
      "text/html": [
       "<div><style>\n",
       ".dataframe > thead > tr,\n",
       ".dataframe > tbody > tr {\n",
       "  text-align: right;\n",
       "  white-space: pre-wrap;\n",
       "}\n",
       "</style>\n",
       "<small>shape: (15_698, 7)</small><table border=\"1\" class=\"dataframe\"><thead><tr><th>tourney_id</th><th>tourney_name</th><th>surface</th><th>draw_size</th><th>tourney_level</th><th>tourney_date</th><th>tourney_name_date</th></tr><tr><td>str</td><td>str</td><td>str</td><td>i64</td><td>str</td><td>date</td><td>str</td></tr></thead><tbody><tr><td>&quot;2019-M-ITF-NED-03A-2019&quot;</td><td>&quot;M15 Oldenzaal&quot;</td><td>&quot;Clay&quot;</td><td>32</td><td>&quot;S&quot;</td><td>2019-08-12</td><td>&quot;M15 Oldenzaal_2019-08-12&quot;</td></tr><tr><td>&quot;2024-M-ITF-ARG-2024-002&quot;</td><td>&quot;M15 Bragado&quot;</td><td>&quot;Clay&quot;</td><td>32</td><td>&quot;15&quot;</td><td>2024-03-25</td><td>&quot;M15 Bragado_2024-03-25&quot;</td></tr><tr><td>&quot;1994-M-SA-CRO-01A-1994c&quot;</td><td>&quot;Croatia 1 Masters 3&quot;</td><td>&quot;Clay&quot;</td><td>32</td><td>&quot;S&quot;</td><td>1994-04-02</td><td>&quot;Croatia 1 Masters 3_1994-04-02&quot;</td></tr><tr><td>&quot;2005-M-FU-HUN-02A-2005&quot;</td><td>&quot;Hungary F2&quot;</td><td>&quot;Clay&quot;</td><td>32</td><td>&quot;S&quot;</td><td>2005-05-02</td><td>&quot;Hungary F2_2005-05-02&quot;</td></tr><tr><td>&quot;1992-M-SA-ZIM-01A-1992b&quot;</td><td>&quot;Central Africa Masters 2&quot;</td><td>&quot;Hard&quot;</td><td>32</td><td>&quot;S&quot;</td><td>1992-10-05</td><td>&quot;Central Africa Masters 2_1992-…</td></tr><tr><td>&hellip;</td><td>&hellip;</td><td>&hellip;</td><td>&hellip;</td><td>&hellip;</td><td>&hellip;</td><td>&hellip;</td></tr><tr><td>&quot;1994-M-SA-ESP-07A-1994c&quot;</td><td>&quot;Spain 7 Masters 3&quot;</td><td>&quot;Clay&quot;</td><td>24</td><td>&quot;S&quot;</td><td>1994-08-12</td><td>&quot;Spain 7 Masters 3_1994-08-12&quot;</td></tr><tr><td>&quot;2006-M-FU-ROU-04A-2006&quot;</td><td>&quot;Romania F4&quot;</td><td>&quot;Clay&quot;</td><td>32</td><td>&quot;S&quot;</td><td>2006-05-22</td><td>&quot;Romania F4_2006-05-22&quot;</td></tr><tr><td>&quot;2023-M-ITF-EGY-15A-2023&quot;</td><td>&quot;M15 Sharm ElSheikh&quot;</td><td>&quot;Hard&quot;</td><td>32</td><td>&quot;15&quot;</td><td>2023-09-25</td><td>&quot;M15 Sharm ElSheikh_2023-09-25&quot;</td></tr><tr><td>&quot;2016-M-FU-ISR-02A-2016&quot;</td><td>&quot;Israel F2&quot;</td><td>&quot;Hard&quot;</td><td>32</td><td>&quot;S&quot;</td><td>2016-02-15</td><td>&quot;Israel F2_2016-02-15&quot;</td></tr><tr><td>&quot;2013-M-FU-CHN-01A-2013&quot;</td><td>&quot;China F1&quot;</td><td>&quot;Hard&quot;</td><td>32</td><td>&quot;S&quot;</td><td>2013-04-08</td><td>&quot;China F1_2013-04-08&quot;</td></tr></tbody></table></div>"
      ],
      "text/plain": [
       "shape: (15_698, 7)\n",
       "┌───────────────┬───────────────┬─────────┬───────────┬──────────────┬──────────────┬──────────────┐\n",
       "│ tourney_id    ┆ tourney_name  ┆ surface ┆ draw_size ┆ tourney_leve ┆ tourney_date ┆ tourney_name │\n",
       "│ ---           ┆ ---           ┆ ---     ┆ ---       ┆ l            ┆ ---          ┆ _date        │\n",
       "│ str           ┆ str           ┆ str     ┆ i64       ┆ ---          ┆ date         ┆ ---          │\n",
       "│               ┆               ┆         ┆           ┆ str          ┆              ┆ str          │\n",
       "╞═══════════════╪═══════════════╪═════════╪═══════════╪══════════════╪══════════════╪══════════════╡\n",
       "│ 2019-M-ITF-NE ┆ M15 Oldenzaal ┆ Clay    ┆ 32        ┆ S            ┆ 2019-08-12   ┆ M15 Oldenzaa │\n",
       "│ D-03A-2019    ┆               ┆         ┆           ┆              ┆              ┆ l_2019-08-12 │\n",
       "│ 2024-M-ITF-AR ┆ M15 Bragado   ┆ Clay    ┆ 32        ┆ 15           ┆ 2024-03-25   ┆ M15 Bragado_ │\n",
       "│ G-2024-002    ┆               ┆         ┆           ┆              ┆              ┆ 2024-03-25   │\n",
       "│ 1994-M-SA-CRO ┆ Croatia 1     ┆ Clay    ┆ 32        ┆ S            ┆ 1994-04-02   ┆ Croatia 1    │\n",
       "│ -01A-1994c    ┆ Masters 3     ┆         ┆           ┆              ┆              ┆ Masters      │\n",
       "│               ┆               ┆         ┆           ┆              ┆              ┆ 3_1994-04-02 │\n",
       "│ 2005-M-FU-HUN ┆ Hungary F2    ┆ Clay    ┆ 32        ┆ S            ┆ 2005-05-02   ┆ Hungary F2_2 │\n",
       "│ -02A-2005     ┆               ┆         ┆           ┆              ┆              ┆ 005-05-02    │\n",
       "│ 1992-M-SA-ZIM ┆ Central       ┆ Hard    ┆ 32        ┆ S            ┆ 1992-10-05   ┆ Central      │\n",
       "│ -01A-1992b    ┆ Africa        ┆         ┆           ┆              ┆              ┆ Africa       │\n",
       "│               ┆ Masters 2     ┆         ┆           ┆              ┆              ┆ Masters      │\n",
       "│               ┆               ┆         ┆           ┆              ┆              ┆ 2_1992-…     │\n",
       "│ …             ┆ …             ┆ …       ┆ …         ┆ …            ┆ …            ┆ …            │\n",
       "│ 1994-M-SA-ESP ┆ Spain 7       ┆ Clay    ┆ 24        ┆ S            ┆ 1994-08-12   ┆ Spain 7      │\n",
       "│ -07A-1994c    ┆ Masters 3     ┆         ┆           ┆              ┆              ┆ Masters      │\n",
       "│               ┆               ┆         ┆           ┆              ┆              ┆ 3_1994-08-12 │\n",
       "│ 2006-M-FU-ROU ┆ Romania F4    ┆ Clay    ┆ 32        ┆ S            ┆ 2006-05-22   ┆ Romania F4_2 │\n",
       "│ -04A-2006     ┆               ┆         ┆           ┆              ┆              ┆ 006-05-22    │\n",
       "│ 2023-M-ITF-EG ┆ M15 Sharm     ┆ Hard    ┆ 32        ┆ 15           ┆ 2023-09-25   ┆ M15 Sharm    │\n",
       "│ Y-15A-2023    ┆ ElSheikh      ┆         ┆           ┆              ┆              ┆ ElSheikh_202 │\n",
       "│               ┆               ┆         ┆           ┆              ┆              ┆ 3-09-25      │\n",
       "│ 2016-M-FU-ISR ┆ Israel F2     ┆ Hard    ┆ 32        ┆ S            ┆ 2016-02-15   ┆ Israel F2_20 │\n",
       "│ -02A-2016     ┆               ┆         ┆           ┆              ┆              ┆ 16-02-15     │\n",
       "│ 2013-M-FU-CHN ┆ China F1      ┆ Hard    ┆ 32        ┆ S            ┆ 2013-04-08   ┆ China F1_201 │\n",
       "│ -01A-2013     ┆               ┆         ┆           ┆              ┆              ┆ 3-04-08      │\n",
       "└───────────────┴───────────────┴─────────┴───────────┴──────────────┴──────────────┴──────────────┘"
      ]
     },
     "execution_count": 14,
     "metadata": {},
     "output_type": "execute_result"
    }
   ],
   "source": [
    "turney_futures=matches_futures[['tourney_id', 'tourney_name', 'surface', 'draw_size', 'tourney_level', 'tourney_date', 'tourney_name_date']]\n",
    "\n",
    "turney_futures=turney_futures.unique('tourney_name_date')\n",
    "turney_futures"
   ]
  },
  {
   "cell_type": "code",
   "execution_count": 15,
   "metadata": {},
   "outputs": [
    {
     "name": "stdout",
     "output_type": "stream",
     "text": [
      "Error importing wta_matches_qual_itf_2015.csv: invalid utf-8 sequence\n",
      "Error importing wta_matches_qual_itf_2016.csv: invalid utf-8 sequence\n",
      "Error importing wta_matches_qual_itf_2017.csv: invalid utf-8 sequence\n"
     ]
    },
    {
     "data": {
      "text/html": [
       "<div><style>\n",
       ".dataframe > thead > tr,\n",
       ".dataframe > tbody > tr {\n",
       "  text-align: right;\n",
       "  white-space: pre-wrap;\n",
       "}\n",
       "</style>\n",
       "<small>shape: (512_063, 50)</small><table border=\"1\" class=\"dataframe\"><thead><tr><th>tourney_id</th><th>tourney_name</th><th>surface</th><th>draw_size</th><th>tourney_level</th><th>tourney_date</th><th>match_num</th><th>winner_id</th><th>winner_seed</th><th>winner_entry</th><th>winner_name</th><th>winner_hand</th><th>winner_ht</th><th>winner_ioc</th><th>winner_age</th><th>loser_id</th><th>loser_seed</th><th>loser_entry</th><th>loser_name</th><th>loser_hand</th><th>loser_ht</th><th>loser_ioc</th><th>loser_age</th><th>score</th><th>best_of</th><th>round</th><th>minutes</th><th>w_ace</th><th>w_df</th><th>w_svpt</th><th>w_1stIn</th><th>w_1stWon</th><th>w_2ndWon</th><th>w_SvGms</th><th>w_bpSaved</th><th>w_bpFaced</th><th>l_ace</th><th>l_df</th><th>l_svpt</th><th>l_1stIn</th><th>l_1stWon</th><th>l_2ndWon</th><th>l_SvGms</th><th>l_bpSaved</th><th>l_bpFaced</th><th>winner_rank</th><th>winner_rank_points</th><th>loser_rank</th><th>loser_rank_points</th><th>tourney_name_date</th></tr><tr><td>str</td><td>str</td><td>str</td><td>i64</td><td>str</td><td>date</td><td>i64</td><td>str</td><td>str</td><td>str</td><td>str</td><td>str</td><td>i64</td><td>str</td><td>f64</td><td>str</td><td>str</td><td>str</td><td>str</td><td>str</td><td>i64</td><td>str</td><td>f64</td><td>str</td><td>i64</td><td>str</td><td>str</td><td>str</td><td>str</td><td>str</td><td>str</td><td>str</td><td>str</td><td>str</td><td>str</td><td>str</td><td>str</td><td>str</td><td>str</td><td>str</td><td>str</td><td>str</td><td>str</td><td>str</td><td>str</td><td>str</td><td>str</td><td>str</td><td>str</td><td>str</td></tr></thead><tbody><tr><td>&quot;1968-1004&quot;</td><td>&quot;Bournemouth&quot;</td><td>&quot;Clay&quot;</td><td>32</td><td>&quot;W&quot;</td><td>1968-04-22</td><td>201</td><td>&quot;200810&quot;</td><td>&quot;5&quot;</td><td>null</td><td>&quot;Annette Van Zyl&quot;</td><td>&quot;R&quot;</td><td>180</td><td>&quot;RSA&quot;</td><td>24.5</td><td>&quot;201114&quot;</td><td>null</td><td>null</td><td>&quot;Robin Lloyd&quot;</td><td>&quot;U&quot;</td><td>null</td><td>&quot;GBR&quot;</td><td>24.1</td><td>&quot;6-3 6-4&quot;</td><td>3</td><td>&quot;Q1&quot;</td><td>null</td><td>null</td><td>null</td><td>null</td><td>null</td><td>null</td><td>null</td><td>null</td><td>null</td><td>null</td><td>null</td><td>null</td><td>null</td><td>null</td><td>null</td><td>null</td><td>null</td><td>null</td><td>null</td><td>null</td><td>null</td><td>null</td><td>null</td><td>&quot;Bournemouth_1968-04-22&quot;</td></tr><tr><td>&quot;1968-1004&quot;</td><td>&quot;Bournemouth&quot;</td><td>&quot;Clay&quot;</td><td>32</td><td>&quot;W&quot;</td><td>1968-04-22</td><td>202</td><td>&quot;223881&quot;</td><td>null</td><td>null</td><td>&quot;Dianne Bridger&quot;</td><td>&quot;U&quot;</td><td>null</td><td>&quot;GBR&quot;</td><td>null</td><td>&quot;213882&quot;</td><td>null</td><td>null</td><td>&quot;Lena Reichel&quot;</td><td>&quot;U&quot;</td><td>null</td><td>&quot;AUT&quot;</td><td>-29.0</td><td>&quot;6-1 8-6&quot;</td><td>3</td><td>&quot;Q1&quot;</td><td>null</td><td>null</td><td>null</td><td>null</td><td>null</td><td>null</td><td>null</td><td>null</td><td>null</td><td>null</td><td>null</td><td>null</td><td>null</td><td>null</td><td>null</td><td>null</td><td>null</td><td>null</td><td>null</td><td>null</td><td>null</td><td>null</td><td>null</td><td>&quot;Bournemouth_1968-04-22&quot;</td></tr><tr><td>&quot;1968-1004&quot;</td><td>&quot;Bournemouth&quot;</td><td>&quot;Clay&quot;</td><td>32</td><td>&quot;W&quot;</td><td>1968-04-22</td><td>203</td><td>&quot;216633&quot;</td><td>null</td><td>null</td><td>&quot;Mary Mcanally&quot;</td><td>&quot;U&quot;</td><td>null</td><td>&quot;GBR&quot;</td><td>23.0</td><td>&quot;223997&quot;</td><td>null</td><td>null</td><td>&quot;Sandra Okin&quot;</td><td>&quot;U&quot;</td><td>null</td><td>&quot;GBR&quot;</td><td>null</td><td>&quot;3-6 6-4 6-2&quot;</td><td>3</td><td>&quot;Q1&quot;</td><td>null</td><td>null</td><td>null</td><td>null</td><td>null</td><td>null</td><td>null</td><td>null</td><td>null</td><td>null</td><td>null</td><td>null</td><td>null</td><td>null</td><td>null</td><td>null</td><td>null</td><td>null</td><td>null</td><td>null</td><td>null</td><td>null</td><td>null</td><td>&quot;Bournemouth_1968-04-22&quot;</td></tr><tr><td>&quot;1968-1004&quot;</td><td>&quot;Bournemouth&quot;</td><td>&quot;Clay&quot;</td><td>32</td><td>&quot;W&quot;</td><td>1968-04-22</td><td>204</td><td>&quot;223659&quot;</td><td>null</td><td>null</td><td>&quot;Heather Allen&quot;</td><td>&quot;U&quot;</td><td>null</td><td>&quot;GBR&quot;</td><td>3.8</td><td>&quot;224029&quot;</td><td>null</td><td>null</td><td>&quot;Jane Poynder&quot;</td><td>&quot;U&quot;</td><td>null</td><td>&quot;GBR&quot;</td><td>null</td><td>&quot;6-3 6-4&quot;</td><td>3</td><td>&quot;Q1&quot;</td><td>null</td><td>null</td><td>null</td><td>null</td><td>null</td><td>null</td><td>null</td><td>null</td><td>null</td><td>null</td><td>null</td><td>null</td><td>null</td><td>null</td><td>null</td><td>null</td><td>null</td><td>null</td><td>null</td><td>null</td><td>null</td><td>null</td><td>null</td><td>&quot;Bournemouth_1968-04-22&quot;</td></tr><tr><td>&quot;1968-1004&quot;</td><td>&quot;Bournemouth&quot;</td><td>&quot;Clay&quot;</td><td>32</td><td>&quot;W&quot;</td><td>1968-04-22</td><td>205</td><td>&quot;201121&quot;</td><td>null</td><td>null</td><td>&quot;Sue Tutt&quot;</td><td>&quot;U&quot;</td><td>null</td><td>&quot;GBR&quot;</td><td>null</td><td>&quot;201117&quot;</td><td>null</td><td>null</td><td>&quot;Margaret Harris&quot;</td><td>&quot;R&quot;</td><td>null</td><td>&quot;AUS&quot;</td><td>23.1</td><td>&quot;2-6 6-1 6-1&quot;</td><td>3</td><td>&quot;Q1&quot;</td><td>null</td><td>null</td><td>null</td><td>null</td><td>null</td><td>null</td><td>null</td><td>null</td><td>null</td><td>null</td><td>null</td><td>null</td><td>null</td><td>null</td><td>null</td><td>null</td><td>null</td><td>null</td><td>null</td><td>null</td><td>null</td><td>null</td><td>null</td><td>&quot;Bournemouth_1968-04-22&quot;</td></tr><tr><td>&hellip;</td><td>&hellip;</td><td>&hellip;</td><td>&hellip;</td><td>&hellip;</td><td>&hellip;</td><td>&hellip;</td><td>&hellip;</td><td>&hellip;</td><td>&hellip;</td><td>&hellip;</td><td>&hellip;</td><td>&hellip;</td><td>&hellip;</td><td>&hellip;</td><td>&hellip;</td><td>&hellip;</td><td>&hellip;</td><td>&hellip;</td><td>&hellip;</td><td>&hellip;</td><td>&hellip;</td><td>&hellip;</td><td>&hellip;</td><td>&hellip;</td><td>&hellip;</td><td>&hellip;</td><td>&hellip;</td><td>&hellip;</td><td>&hellip;</td><td>&hellip;</td><td>&hellip;</td><td>&hellip;</td><td>&hellip;</td><td>&hellip;</td><td>&hellip;</td><td>&hellip;</td><td>&hellip;</td><td>&hellip;</td><td>&hellip;</td><td>&hellip;</td><td>&hellip;</td><td>&hellip;</td><td>&hellip;</td><td>&hellip;</td><td>&hellip;</td><td>&hellip;</td><td>&hellip;</td><td>&hellip;</td><td>&hellip;</td></tr><tr><td>&quot;2024-406&quot;</td><td>&quot;Strasbourg&quot;</td><td>&quot;Clay&quot;</td><td>32</td><td>&quot;P&quot;</td><td>2024-05-20</td><td>262</td><td>&quot;221909&quot;</td><td>&quot;5&quot;</td><td>null</td><td>&quot;Ashlyn Krueger&quot;</td><td>&quot;R&quot;</td><td>185</td><td>&quot;USA&quot;</td><td>20.0</td><td>&quot;201329&quot;</td><td>null</td><td>&quot;ALT&quot;</td><td>&quot;Vera Zvonareva&quot;</td><td>&quot;R&quot;</td><td>172</td><td>&quot;RUS&quot;</td><td>39.6</td><td>&quot;6-0 6-0&quot;</td><td>3</td><td>&quot;Q1&quot;</td><td>&quot;52&quot;</td><td>&quot;1&quot;</td><td>&quot;3&quot;</td><td>&quot;38&quot;</td><td>&quot;30&quot;</td><td>&quot;23&quot;</td><td>&quot;4&quot;</td><td>&quot;6&quot;</td><td>&quot;4&quot;</td><td>&quot;4&quot;</td><td>&quot;0&quot;</td><td>&quot;4&quot;</td><td>&quot;38&quot;</td><td>&quot;25&quot;</td><td>&quot;9&quot;</td><td>&quot;1&quot;</td><td>&quot;6&quot;</td><td>&quot;3&quot;</td><td>&quot;9&quot;</td><td>&quot;65&quot;</td><td>&quot;994&quot;</td><td>&quot;264&quot;</td><td>&quot;276&quot;</td><td>&quot;Strasbourg_2024-05-20&quot;</td></tr><tr><td>&quot;2024-406&quot;</td><td>&quot;Strasbourg&quot;</td><td>&quot;Clay&quot;</td><td>32</td><td>&quot;P&quot;</td><td>2024-05-20</td><td>261</td><td>&quot;211684&quot;</td><td>&quot;3&quot;</td><td>null</td><td>&quot;Magdalena Frech&quot;</td><td>&quot;R&quot;</td><td>171</td><td>&quot;POL&quot;</td><td>26.4</td><td>&quot;221116&quot;</td><td>null</td><td>null</td><td>&quot;Jana Kolodynska&quot;</td><td>&quot;R&quot;</td><td>null</td><td>&quot;BLR&quot;</td><td>20.7</td><td>&quot;6-2 6-1&quot;</td><td>3</td><td>&quot;Q1&quot;</td><td>&quot;75&quot;</td><td>&quot;0&quot;</td><td>&quot;0&quot;</td><td>&quot;51&quot;</td><td>&quot;33&quot;</td><td>&quot;21&quot;</td><td>&quot;15&quot;</td><td>&quot;7&quot;</td><td>&quot;2&quot;</td><td>&quot;2&quot;</td><td>&quot;0&quot;</td><td>&quot;4&quot;</td><td>&quot;58&quot;</td><td>&quot;39&quot;</td><td>&quot;20&quot;</td><td>&quot;6&quot;</td><td>&quot;8&quot;</td><td>&quot;7&quot;</td><td>&quot;12&quot;</td><td>&quot;54&quot;</td><td>&quot;1108&quot;</td><td>&quot;244&quot;</td><td>&quot;304&quot;</td><td>&quot;Strasbourg_2024-05-20&quot;</td></tr><tr><td>&quot;2024-406&quot;</td><td>&quot;Strasbourg&quot;</td><td>&quot;Clay&quot;</td><td>32</td><td>&quot;P&quot;</td><td>2024-05-20</td><td>260</td><td>&quot;201611&quot;</td><td>&quot;7&quot;</td><td>null</td><td>&quot;Daria Saville&quot;</td><td>&quot;R&quot;</td><td>166</td><td>&quot;AUS&quot;</td><td>30.2</td><td>&quot;203281&quot;</td><td>null</td><td>&quot;WC&quot;</td><td>&quot;Amandine Hesse&quot;</td><td>&quot;R&quot;</td><td>164</td><td>&quot;FRA&quot;</td><td>31.3</td><td>&quot;6-1 6-1&quot;</td><td>3</td><td>&quot;Q1&quot;</td><td>&quot;63&quot;</td><td>&quot;0&quot;</td><td>&quot;1&quot;</td><td>&quot;41&quot;</td><td>&quot;27&quot;</td><td>&quot;21&quot;</td><td>&quot;10&quot;</td><td>&quot;7&quot;</td><td>&quot;3&quot;</td><td>&quot;3&quot;</td><td>&quot;1&quot;</td><td>&quot;1&quot;</td><td>&quot;49&quot;</td><td>&quot;33&quot;</td><td>&quot;14&quot;</td><td>&quot;7&quot;</td><td>&quot;7&quot;</td><td>&quot;6&quot;</td><td>&quot;11&quot;</td><td>&quot;85&quot;</td><td>&quot;820&quot;</td><td>&quot;273&quot;</td><td>&quot;266&quot;</td><td>&quot;Strasbourg_2024-05-20&quot;</td></tr><tr><td>&quot;2024-406&quot;</td><td>&quot;Strasbourg&quot;</td><td>&quot;Clay&quot;</td><td>32</td><td>&quot;P&quot;</td><td>2024-05-20</td><td>259</td><td>&quot;203564&quot;</td><td>null</td><td>null</td><td>&quot;Chloe Paquet&quot;</td><td>&quot;R&quot;</td><td>179</td><td>&quot;FRA&quot;</td><td>29.8</td><td>&quot;213550&quot;</td><td>&quot;4&quot;</td><td>null</td><td>&quot;Sofia Kenin&quot;</td><td>&quot;R&quot;</td><td>170</td><td>&quot;USA&quot;</td><td>25.5</td><td>&quot;6-4 7-6(4)&quot;</td><td>3</td><td>&quot;Q1&quot;</td><td>&quot;118&quot;</td><td>&quot;17&quot;</td><td>&quot;10&quot;</td><td>&quot;97&quot;</td><td>&quot;47&quot;</td><td>&quot;35&quot;</td><td>&quot;18&quot;</td><td>&quot;11&quot;</td><td>&quot;6&quot;</td><td>&quot;10&quot;</td><td>&quot;2&quot;</td><td>&quot;5&quot;</td><td>&quot;84&quot;</td><td>&quot;54&quot;</td><td>&quot;29&quot;</td><td>&quot;13&quot;</td><td>&quot;11&quot;</td><td>&quot;6&quot;</td><td>&quot;11&quot;</td><td>&quot;139&quot;</td><td>&quot;535&quot;</td><td>&quot;55&quot;</td><td>&quot;1094&quot;</td><td>&quot;Strasbourg_2024-05-20&quot;</td></tr><tr><td>&quot;2024-406&quot;</td><td>&quot;Strasbourg&quot;</td><td>&quot;Clay&quot;</td><td>32</td><td>&quot;P&quot;</td><td>2024-05-20</td><td>258</td><td>&quot;222965&quot;</td><td>&quot;8&quot;</td><td>null</td><td>&quot;Erika Andreeva&quot;</td><td>&quot;R&quot;</td><td>null</td><td>&quot;RUS&quot;</td><td>19.9</td><td>&quot;221039&quot;</td><td>null</td><td>null</td><td>&quot;Elsa Jacquemot&quot;</td><td>&quot;R&quot;</td><td>null</td><td>&quot;FRA&quot;</td><td>21.0</td><td>&quot;6-3 6-4&quot;</td><td>3</td><td>&quot;Q1&quot;</td><td>&quot;92&quot;</td><td>&quot;1&quot;</td><td>&quot;3&quot;</td><td>&quot;57&quot;</td><td>&quot;38&quot;</td><td>&quot;25&quot;</td><td>&quot;9&quot;</td><td>&quot;10&quot;</td><td>&quot;4&quot;</td><td>&quot;7&quot;</td><td>&quot;2&quot;</td><td>&quot;3&quot;</td><td>&quot;53&quot;</td><td>&quot;29&quot;</td><td>&quot;14&quot;</td><td>&quot;9&quot;</td><td>&quot;9&quot;</td><td>&quot;1&quot;</td><td>&quot;6&quot;</td><td>&quot;101&quot;</td><td>&quot;744&quot;</td><td>&quot;150&quot;</td><td>&quot;493&quot;</td><td>&quot;Strasbourg_2024-05-20&quot;</td></tr></tbody></table></div>"
      ],
      "text/plain": [
       "shape: (512_063, 50)\n",
       "┌────────────┬───────────┬─────────┬───────────┬───┬───────────┬───────────┬───────────┬───────────┐\n",
       "│ tourney_id ┆ tourney_n ┆ surface ┆ draw_size ┆ … ┆ winner_ra ┆ loser_ran ┆ loser_ran ┆ tourney_n │\n",
       "│ ---        ┆ ame       ┆ ---     ┆ ---       ┆   ┆ nk_points ┆ k         ┆ k_points  ┆ ame_date  │\n",
       "│ str        ┆ ---       ┆ str     ┆ i64       ┆   ┆ ---       ┆ ---       ┆ ---       ┆ ---       │\n",
       "│            ┆ str       ┆         ┆           ┆   ┆ str       ┆ str       ┆ str       ┆ str       │\n",
       "╞════════════╪═══════════╪═════════╪═══════════╪═══╪═══════════╪═══════════╪═══════════╪═══════════╡\n",
       "│ 1968-1004  ┆ Bournemou ┆ Clay    ┆ 32        ┆ … ┆ null      ┆ null      ┆ null      ┆ Bournemou │\n",
       "│            ┆ th        ┆         ┆           ┆   ┆           ┆           ┆           ┆ th_1968-0 │\n",
       "│            ┆           ┆         ┆           ┆   ┆           ┆           ┆           ┆ 4-22      │\n",
       "│ 1968-1004  ┆ Bournemou ┆ Clay    ┆ 32        ┆ … ┆ null      ┆ null      ┆ null      ┆ Bournemou │\n",
       "│            ┆ th        ┆         ┆           ┆   ┆           ┆           ┆           ┆ th_1968-0 │\n",
       "│            ┆           ┆         ┆           ┆   ┆           ┆           ┆           ┆ 4-22      │\n",
       "│ 1968-1004  ┆ Bournemou ┆ Clay    ┆ 32        ┆ … ┆ null      ┆ null      ┆ null      ┆ Bournemou │\n",
       "│            ┆ th        ┆         ┆           ┆   ┆           ┆           ┆           ┆ th_1968-0 │\n",
       "│            ┆           ┆         ┆           ┆   ┆           ┆           ┆           ┆ 4-22      │\n",
       "│ 1968-1004  ┆ Bournemou ┆ Clay    ┆ 32        ┆ … ┆ null      ┆ null      ┆ null      ┆ Bournemou │\n",
       "│            ┆ th        ┆         ┆           ┆   ┆           ┆           ┆           ┆ th_1968-0 │\n",
       "│            ┆           ┆         ┆           ┆   ┆           ┆           ┆           ┆ 4-22      │\n",
       "│ 1968-1004  ┆ Bournemou ┆ Clay    ┆ 32        ┆ … ┆ null      ┆ null      ┆ null      ┆ Bournemou │\n",
       "│            ┆ th        ┆         ┆           ┆   ┆           ┆           ┆           ┆ th_1968-0 │\n",
       "│            ┆           ┆         ┆           ┆   ┆           ┆           ┆           ┆ 4-22      │\n",
       "│ …          ┆ …         ┆ …       ┆ …         ┆ … ┆ …         ┆ …         ┆ …         ┆ …         │\n",
       "│ 2024-406   ┆ Strasbour ┆ Clay    ┆ 32        ┆ … ┆ 994       ┆ 264       ┆ 276       ┆ Strasbour │\n",
       "│            ┆ g         ┆         ┆           ┆   ┆           ┆           ┆           ┆ g_2024-05 │\n",
       "│            ┆           ┆         ┆           ┆   ┆           ┆           ┆           ┆ -20       │\n",
       "│ 2024-406   ┆ Strasbour ┆ Clay    ┆ 32        ┆ … ┆ 1108      ┆ 244       ┆ 304       ┆ Strasbour │\n",
       "│            ┆ g         ┆         ┆           ┆   ┆           ┆           ┆           ┆ g_2024-05 │\n",
       "│            ┆           ┆         ┆           ┆   ┆           ┆           ┆           ┆ -20       │\n",
       "│ 2024-406   ┆ Strasbour ┆ Clay    ┆ 32        ┆ … ┆ 820       ┆ 273       ┆ 266       ┆ Strasbour │\n",
       "│            ┆ g         ┆         ┆           ┆   ┆           ┆           ┆           ┆ g_2024-05 │\n",
       "│            ┆           ┆         ┆           ┆   ┆           ┆           ┆           ┆ -20       │\n",
       "│ 2024-406   ┆ Strasbour ┆ Clay    ┆ 32        ┆ … ┆ 535       ┆ 55        ┆ 1094      ┆ Strasbour │\n",
       "│            ┆ g         ┆         ┆           ┆   ┆           ┆           ┆           ┆ g_2024-05 │\n",
       "│            ┆           ┆         ┆           ┆   ┆           ┆           ┆           ┆ -20       │\n",
       "│ 2024-406   ┆ Strasbour ┆ Clay    ┆ 32        ┆ … ┆ 744       ┆ 150       ┆ 493       ┆ Strasbour │\n",
       "│            ┆ g         ┆         ┆           ┆   ┆           ┆           ┆           ┆ g_2024-05 │\n",
       "│            ┆           ┆         ┆           ┆   ┆           ┆           ┆           ┆ -20       │\n",
       "└────────────┴───────────┴─────────┴───────────┴───┴───────────┴───────────┴───────────┴───────────┘"
      ]
     },
     "execution_count": 15,
     "metadata": {},
     "output_type": "execute_result"
    }
   ],
   "source": [
    "matches_qualifiers_itf=import_tennis_matches(data_type=\"qualifiers_itf\",gender=\"wta\")\n",
    "\n",
    "matches_qualifiers_itf = matches_qualifiers_itf.with_columns(\n",
    "    (pl.col(\"tourney_name\") + \"_\" + pl.col(\"tourney_date\").cast(pl.Utf8)).alias(\"tourney_name_date\")\n",
    ")\n",
    "matches_qualifiers_itf"
   ]
  },
  {
   "cell_type": "code",
   "execution_count": 16,
   "metadata": {},
   "outputs": [
    {
     "data": {
      "text/html": [
       "<div><style>\n",
       ".dataframe > thead > tr,\n",
       ".dataframe > tbody > tr {\n",
       "  text-align: right;\n",
       "  white-space: pre-wrap;\n",
       "}\n",
       "</style>\n",
       "<small>shape: (14_237, 7)</small><table border=\"1\" class=\"dataframe\"><thead><tr><th>tourney_id</th><th>tourney_name</th><th>surface</th><th>draw_size</th><th>tourney_level</th><th>tourney_date</th><th>tourney_name_date</th></tr><tr><td>str</td><td>str</td><td>str</td><td>i64</td><td>str</td><td>date</td><td>str</td></tr></thead><tbody><tr><td>&quot;1992-0192&quot;</td><td>&quot;ITF Jaffa&quot;</td><td>&quot;Hard&quot;</td><td>32</td><td>&quot;C&quot;</td><td>1992-02-24</td><td>&quot;ITF Jaffa_1992-02-24&quot;</td></tr><tr><td>&quot;2013-W-C10-ROU-05A-2013&quot;</td><td>&quot;Arad 10K&quot;</td><td>&quot;Clay&quot;</td><td>32</td><td>&quot;10&quot;</td><td>2013-08-05</td><td>&quot;Arad 10K_2013-08-05&quot;</td></tr><tr><td>&quot;2005-W-C10-UKR-01A-2005&quot;</td><td>&quot;Kiev 10K&quot;</td><td>&quot;Clay&quot;</td><td>32</td><td>&quot;10&quot;</td><td>2005-05-23</td><td>&quot;Kiev 10K_2005-05-23&quot;</td></tr><tr><td>&quot;2024-W-ITF-ITA-2024-005&quot;</td><td>&quot;W35 Santa Margherita di Pula&quot;</td><td>&quot;Clay&quot;</td><td>32</td><td>&quot;35&quot;</td><td>2024-04-22</td><td>&quot;W35 Santa Margherita di Pula_2…</td></tr><tr><td>&quot;2014-W-C10-BRA-01A-2014&quot;</td><td>&quot;Ribeirao Preto 10K&quot;</td><td>&quot;Clay&quot;</td><td>32</td><td>&quot;10&quot;</td><td>2014-03-24</td><td>&quot;Ribeirao Preto 10K_2014-03-24&quot;</td></tr><tr><td>&hellip;</td><td>&hellip;</td><td>&hellip;</td><td>&hellip;</td><td>&hellip;</td><td>&hellip;</td><td>&hellip;</td></tr><tr><td>&quot;2011-W-C10-FRA-04A-2011&quot;</td><td>&quot;Gonesse 10K&quot;</td><td>&quot;Clay&quot;</td><td>32</td><td>&quot;10&quot;</td><td>2011-03-21</td><td>&quot;Gonesse 10K_2011-03-21&quot;</td></tr><tr><td>&quot;1992-W-WT-GER-05A-1992&quot;</td><td>&quot;Filderstadt&quot;</td><td>&quot;Hard&quot;</td><td>32</td><td>&quot;W&quot;</td><td>1992-10-12</td><td>&quot;Filderstadt_1992-10-12&quot;</td></tr><tr><td>&quot;2001-W-T4-POR-02A-2001&quot;</td><td>&quot;Estoril&quot;</td><td>&quot;Clay&quot;</td><td>32</td><td>&quot;T4&quot;</td><td>2001-04-09</td><td>&quot;Estoril_2001-04-09&quot;</td></tr><tr><td>&quot;2001-W-C25-USA-09A-2001&quot;</td><td>&quot;Midlothian VA 25K&quot;</td><td>&quot;Clay&quot;</td><td>32</td><td>&quot;25&quot;</td><td>2001-05-07</td><td>&quot;Midlothian VA 25K_2001-05-07&quot;</td></tr><tr><td>&quot;1999-W-C50-USA-06A-1999&quot;</td><td>&quot;Largo 50K&quot;</td><td>&quot;Hard&quot;</td><td>32</td><td>&quot;50&quot;</td><td>1999-10-11</td><td>&quot;Largo 50K_1999-10-11&quot;</td></tr></tbody></table></div>"
      ],
      "text/plain": [
       "shape: (14_237, 7)\n",
       "┌───────────────┬───────────────┬─────────┬───────────┬──────────────┬──────────────┬──────────────┐\n",
       "│ tourney_id    ┆ tourney_name  ┆ surface ┆ draw_size ┆ tourney_leve ┆ tourney_date ┆ tourney_name │\n",
       "│ ---           ┆ ---           ┆ ---     ┆ ---       ┆ l            ┆ ---          ┆ _date        │\n",
       "│ str           ┆ str           ┆ str     ┆ i64       ┆ ---          ┆ date         ┆ ---          │\n",
       "│               ┆               ┆         ┆           ┆ str          ┆              ┆ str          │\n",
       "╞═══════════════╪═══════════════╪═════════╪═══════════╪══════════════╪══════════════╪══════════════╡\n",
       "│ 1992-0192     ┆ ITF Jaffa     ┆ Hard    ┆ 32        ┆ C            ┆ 1992-02-24   ┆ ITF Jaffa_19 │\n",
       "│               ┆               ┆         ┆           ┆              ┆              ┆ 92-02-24     │\n",
       "│ 2013-W-C10-RO ┆ Arad 10K      ┆ Clay    ┆ 32        ┆ 10           ┆ 2013-08-05   ┆ Arad 10K_201 │\n",
       "│ U-05A-2013    ┆               ┆         ┆           ┆              ┆              ┆ 3-08-05      │\n",
       "│ 2005-W-C10-UK ┆ Kiev 10K      ┆ Clay    ┆ 32        ┆ 10           ┆ 2005-05-23   ┆ Kiev 10K_200 │\n",
       "│ R-01A-2005    ┆               ┆         ┆           ┆              ┆              ┆ 5-05-23      │\n",
       "│ 2024-W-ITF-IT ┆ W35 Santa     ┆ Clay    ┆ 32        ┆ 35           ┆ 2024-04-22   ┆ W35 Santa    │\n",
       "│ A-2024-005    ┆ Margherita di ┆         ┆           ┆              ┆              ┆ Margherita   │\n",
       "│               ┆ Pula          ┆         ┆           ┆              ┆              ┆ di Pula_2…   │\n",
       "│ 2014-W-C10-BR ┆ Ribeirao      ┆ Clay    ┆ 32        ┆ 10           ┆ 2014-03-24   ┆ Ribeirao     │\n",
       "│ A-01A-2014    ┆ Preto 10K     ┆         ┆           ┆              ┆              ┆ Preto 10K_20 │\n",
       "│               ┆               ┆         ┆           ┆              ┆              ┆ 14-03-24     │\n",
       "│ …             ┆ …             ┆ …       ┆ …         ┆ …            ┆ …            ┆ …            │\n",
       "│ 2011-W-C10-FR ┆ Gonesse 10K   ┆ Clay    ┆ 32        ┆ 10           ┆ 2011-03-21   ┆ Gonesse 10K_ │\n",
       "│ A-04A-2011    ┆               ┆         ┆           ┆              ┆              ┆ 2011-03-21   │\n",
       "│ 1992-W-WT-GER ┆ Filderstadt   ┆ Hard    ┆ 32        ┆ W            ┆ 1992-10-12   ┆ Filderstadt_ │\n",
       "│ -05A-1992     ┆               ┆         ┆           ┆              ┆              ┆ 1992-10-12   │\n",
       "│ 2001-W-T4-POR ┆ Estoril       ┆ Clay    ┆ 32        ┆ T4           ┆ 2001-04-09   ┆ Estoril_2001 │\n",
       "│ -02A-2001     ┆               ┆         ┆           ┆              ┆              ┆ -04-09       │\n",
       "│ 2001-W-C25-US ┆ Midlothian VA ┆ Clay    ┆ 32        ┆ 25           ┆ 2001-05-07   ┆ Midlothian   │\n",
       "│ A-09A-2001    ┆ 25K           ┆         ┆           ┆              ┆              ┆ VA 25K_2001- │\n",
       "│               ┆               ┆         ┆           ┆              ┆              ┆ 05-07        │\n",
       "│ 1999-W-C50-US ┆ Largo 50K     ┆ Hard    ┆ 32        ┆ 50           ┆ 1999-10-11   ┆ Largo 50K_19 │\n",
       "│ A-06A-1999    ┆               ┆         ┆           ┆              ┆              ┆ 99-10-11     │\n",
       "└───────────────┴───────────────┴─────────┴───────────┴──────────────┴──────────────┴──────────────┘"
      ]
     },
     "execution_count": 16,
     "metadata": {},
     "output_type": "execute_result"
    }
   ],
   "source": [
    "turney_qualifiers_itf=matches_qualifiers_itf[['tourney_id', 'tourney_name', 'surface', 'draw_size', 'tourney_level', 'tourney_date', 'tourney_name_date']]\n",
    "\n",
    "turney_qualifiers_itf=turney_qualifiers_itf.unique('tourney_name_date')\n",
    "turney_qualifiers_itf"
   ]
  },
  {
   "cell_type": "code",
   "execution_count": 17,
   "metadata": {},
   "outputs": [
    {
     "data": {
      "text/html": [
       "<div><style>\n",
       ".dataframe > thead > tr,\n",
       ".dataframe > tbody > tr {\n",
       "  text-align: right;\n",
       "  white-space: pre-wrap;\n",
       "}\n",
       "</style>\n",
       "<small>shape: (26_399, 66)</small><table border=\"1\" class=\"dataframe\"><thead><tr><th>tourney_id</th><th>tourney_name</th><th>surface</th><th>draw_size</th><th>tourney_level</th><th>tourney_date</th><th>match_num</th><th>winner1_id</th><th>winner2_id</th><th>winner_seed</th><th>winner_entry</th><th>loser1_id</th><th>loser2_id</th><th>loser_seed</th><th>loser_entry</th><th>score</th><th>best_of</th><th>round</th><th>winner1_name</th><th>winner1_hand</th><th>winner1_ht</th><th>winner1_ioc</th><th>winner1_age</th><th>winner2_name</th><th>winner2_hand</th><th>winner2_ht</th><th>winner2_ioc</th><th>winner2_age</th><th>loser1_name</th><th>loser1_hand</th><th>loser1_ht</th><th>loser1_ioc</th><th>loser1_age</th><th>loser2_name</th><th>loser2_hand</th><th>loser2_ht</th><th>loser2_ioc</th><th>loser2_age</th><th>winner1_rank</th><th>winner1_rank_points</th><th>winner2_rank</th><th>winner2_rank_points</th><th>loser1_rank</th><th>loser1_rank_points</th><th>loser2_rank</th><th>loser2_rank_points</th><th>minutes</th><th>w_ace</th><th>w_df</th><th>w_svpt</th><th>w_1stIn</th><th>w_1stWon</th><th>w_2ndWon</th><th>w_SvGms</th><th>w_bpSaved</th><th>w_bpFaced</th><th>l_ace</th><th>l_df</th><th>l_svpt</th><th>l_1stIn</th><th>l_1stWon</th><th>l_2ndWon</th><th>l_SvGms</th><th>l_bpSaved</th><th>l_bpFaced</th><th>tourney_name_date</th></tr><tr><td>str</td><td>str</td><td>str</td><td>i64</td><td>str</td><td>date</td><td>i64</td><td>str</td><td>str</td><td>str</td><td>str</td><td>str</td><td>str</td><td>str</td><td>str</td><td>str</td><td>i64</td><td>str</td><td>str</td><td>str</td><td>i64</td><td>str</td><td>f64</td><td>str</td><td>str</td><td>i64</td><td>str</td><td>f64</td><td>str</td><td>str</td><td>i64</td><td>str</td><td>f64</td><td>str</td><td>str</td><td>i64</td><td>str</td><td>f64</td><td>i64</td><td>i64</td><td>i64</td><td>i64</td><td>i64</td><td>i64</td><td>i64</td><td>i64</td><td>str</td><td>str</td><td>str</td><td>str</td><td>str</td><td>str</td><td>str</td><td>str</td><td>str</td><td>str</td><td>str</td><td>str</td><td>str</td><td>str</td><td>str</td><td>str</td><td>str</td><td>str</td><td>str</td><td>str</td></tr></thead><tbody><tr><td>&quot;2000-301&quot;</td><td>&quot;Auckland&quot;</td><td>&quot;Hard&quot;</td><td>32</td><td>&quot;A&quot;</td><td>2000-01-10</td><td>300</td><td>&quot;101704&quot;</td><td>&quot;101097&quot;</td><td>&quot;1&quot;</td><td>null</td><td>&quot;101358&quot;</td><td>&quot;101543&quot;</td><td>&quot;2&quot;</td><td>null</td><td>&quot;7-5 6-4&quot;</td><td>3</td><td>&quot;F&quot;</td><td>&quot;Ellis Ferreira&quot;</td><td>&quot;L&quot;</td><td>188</td><td>&quot;RSA&quot;</td><td>29.889117</td><td>&quot;Rick Leach&quot;</td><td>&quot;L&quot;</td><td>188</td><td>&quot;USA&quot;</td><td>35.033539</td><td>&quot;Olivier Delaitre&quot;</td><td>&quot;R&quot;</td><td>170</td><td>&quot;FRA&quot;</td><td>32.610541</td><td>&quot;Jeff Tarango&quot;</td><td>&quot;L&quot;</td><td>180</td><td>&quot;USA&quot;</td><td>31.137577</td><td>13</td><td>0</td><td>15</td><td>0</td><td>16</td><td>0</td><td>17</td><td>0</td><td>null</td><td>null</td><td>null</td><td>null</td><td>null</td><td>null</td><td>null</td><td>null</td><td>null</td><td>null</td><td>null</td><td>null</td><td>null</td><td>null</td><td>null</td><td>null</td><td>null</td><td>null</td><td>null</td><td>&quot;Auckland_2000-01-10&quot;</td></tr><tr><td>&quot;2000-301&quot;</td><td>&quot;Auckland&quot;</td><td>&quot;Hard&quot;</td><td>32</td><td>&quot;A&quot;</td><td>2000-01-10</td><td>299</td><td>&quot;101704&quot;</td><td>&quot;101097&quot;</td><td>&quot;1&quot;</td><td>null</td><td>&quot;102562&quot;</td><td>&quot;101866&quot;</td><td>&quot;3&quot;</td><td>null</td><td>&quot;6-2 6-4&quot;</td><td>3</td><td>&quot;SF&quot;</td><td>&quot;Ellis Ferreira&quot;</td><td>&quot;L&quot;</td><td>188</td><td>&quot;RSA&quot;</td><td>29.889117</td><td>&quot;Rick Leach&quot;</td><td>&quot;L&quot;</td><td>188</td><td>&quot;USA&quot;</td><td>35.033539</td><td>&quot;Jiri Novak&quot;</td><td>&quot;R&quot;</td><td>190</td><td>&quot;CZE&quot;</td><td>24.804928</td><td>&quot;David Rikl&quot;</td><td>&quot;L&quot;</td><td>178</td><td>&quot;CZE&quot;</td><td>28.867899</td><td>13</td><td>0</td><td>15</td><td>0</td><td>34</td><td>0</td><td>29</td><td>0</td><td>null</td><td>null</td><td>null</td><td>null</td><td>null</td><td>null</td><td>null</td><td>null</td><td>null</td><td>null</td><td>null</td><td>null</td><td>null</td><td>null</td><td>null</td><td>null</td><td>null</td><td>null</td><td>null</td><td>&quot;Auckland_2000-01-10&quot;</td></tr><tr><td>&quot;2000-301&quot;</td><td>&quot;Auckland&quot;</td><td>&quot;Hard&quot;</td><td>32</td><td>&quot;A&quot;</td><td>2000-01-10</td><td>298</td><td>&quot;101358&quot;</td><td>&quot;101543&quot;</td><td>&quot;2&quot;</td><td>null</td><td>&quot;102664&quot;</td><td>&quot;101779&quot;</td><td>null</td><td>null</td><td>&quot;6-3 6-4&quot;</td><td>3</td><td>&quot;SF&quot;</td><td>&quot;Olivier Delaitre&quot;</td><td>&quot;R&quot;</td><td>170</td><td>&quot;FRA&quot;</td><td>32.610541</td><td>&quot;Jeff Tarango&quot;</td><td>&quot;L&quot;</td><td>180</td><td>&quot;USA&quot;</td><td>31.137577</td><td>&quot;Petr Pala&quot;</td><td>&quot;R&quot;</td><td>193</td><td>&quot;CZE&quot;</td><td>24.273785</td><td>&quot;Pavel Vizner&quot;</td><td>&quot;R&quot;</td><td>183</td><td>&quot;CZE&quot;</td><td>29.489391</td><td>16</td><td>0</td><td>17</td><td>0</td><td>97</td><td>0</td><td>74</td><td>0</td><td>null</td><td>null</td><td>null</td><td>null</td><td>null</td><td>null</td><td>null</td><td>null</td><td>null</td><td>null</td><td>null</td><td>null</td><td>null</td><td>null</td><td>null</td><td>null</td><td>null</td><td>null</td><td>null</td><td>&quot;Auckland_2000-01-10&quot;</td></tr><tr><td>&quot;2000-301&quot;</td><td>&quot;Auckland&quot;</td><td>&quot;Hard&quot;</td><td>32</td><td>&quot;A&quot;</td><td>2000-01-10</td><td>297</td><td>&quot;101704&quot;</td><td>&quot;101097&quot;</td><td>&quot;1&quot;</td><td>null</td><td>&quot;101342&quot;</td><td>&quot;102162&quot;</td><td>null</td><td>&quot;WC&quot;</td><td>&quot;6-3 6-4&quot;</td><td>3</td><td>&quot;QF&quot;</td><td>&quot;Ellis Ferreira&quot;</td><td>&quot;L&quot;</td><td>188</td><td>&quot;RSA&quot;</td><td>29.889117</td><td>&quot;Rick Leach&quot;</td><td>&quot;L&quot;</td><td>188</td><td>&quot;USA&quot;</td><td>35.033539</td><td>&quot;Patrick Galbraith&quot;</td><td>&quot;L&quot;</td><td>183</td><td>&quot;USA&quot;</td><td>32.736482</td><td>&quot;Chris Woodruff&quot;</td><td>&quot;R&quot;</td><td>188</td><td>&quot;USA&quot;</td><td>27.019849</td><td>13</td><td>0</td><td>15</td><td>0</td><td>65</td><td>0</td><td>248</td><td>0</td><td>null</td><td>null</td><td>null</td><td>null</td><td>null</td><td>null</td><td>null</td><td>null</td><td>null</td><td>null</td><td>null</td><td>null</td><td>null</td><td>null</td><td>null</td><td>null</td><td>null</td><td>null</td><td>null</td><td>&quot;Auckland_2000-01-10&quot;</td></tr><tr><td>&quot;2000-301&quot;</td><td>&quot;Auckland&quot;</td><td>&quot;Hard&quot;</td><td>32</td><td>&quot;A&quot;</td><td>2000-01-10</td><td>296</td><td>&quot;101358&quot;</td><td>&quot;101543&quot;</td><td>&quot;2&quot;</td><td>null</td><td>&quot;103483&quot;</td><td>&quot;102262&quot;</td><td>null</td><td>&quot;WC&quot;</td><td>&quot;6-2 6-4&quot;</td><td>3</td><td>&quot;QF&quot;</td><td>&quot;Olivier Delaitre&quot;</td><td>&quot;R&quot;</td><td>170</td><td>&quot;FRA&quot;</td><td>32.610541</td><td>&quot;Jeff Tarango&quot;</td><td>&quot;L&quot;</td><td>180</td><td>&quot;USA&quot;</td><td>31.137577</td><td>&quot;James Shortall&quot;</td><td>&quot;R&quot;</td><td>null</td><td>&quot;NZL&quot;</td><td>20.043806</td><td>&quot;Cristiano Testa&quot;</td><td>&quot;L&quot;</td><td>null</td><td>&quot;BRA&quot;</td><td>26.297057</td><td>16</td><td>0</td><td>17</td><td>0</td><td>779</td><td>0</td><td>114</td><td>0</td><td>null</td><td>null</td><td>null</td><td>null</td><td>null</td><td>null</td><td>null</td><td>null</td><td>null</td><td>null</td><td>null</td><td>null</td><td>null</td><td>null</td><td>null</td><td>null</td><td>null</td><td>null</td><td>null</td><td>&quot;Auckland_2000-01-10&quot;</td></tr><tr><td>&hellip;</td><td>&hellip;</td><td>&hellip;</td><td>&hellip;</td><td>&hellip;</td><td>&hellip;</td><td>&hellip;</td><td>&hellip;</td><td>&hellip;</td><td>&hellip;</td><td>&hellip;</td><td>&hellip;</td><td>&hellip;</td><td>&hellip;</td><td>&hellip;</td><td>&hellip;</td><td>&hellip;</td><td>&hellip;</td><td>&hellip;</td><td>&hellip;</td><td>&hellip;</td><td>&hellip;</td><td>&hellip;</td><td>&hellip;</td><td>&hellip;</td><td>&hellip;</td><td>&hellip;</td><td>&hellip;</td><td>&hellip;</td><td>&hellip;</td><td>&hellip;</td><td>&hellip;</td><td>&hellip;</td><td>&hellip;</td><td>&hellip;</td><td>&hellip;</td><td>&hellip;</td><td>&hellip;</td><td>&hellip;</td><td>&hellip;</td><td>&hellip;</td><td>&hellip;</td><td>&hellip;</td><td>&hellip;</td><td>&hellip;</td><td>&hellip;</td><td>&hellip;</td><td>&hellip;</td><td>&hellip;</td><td>&hellip;</td><td>&hellip;</td><td>&hellip;</td><td>&hellip;</td><td>&hellip;</td><td>&hellip;</td><td>&hellip;</td><td>&hellip;</td><td>&hellip;</td><td>&hellip;</td><td>&hellip;</td><td>&hellip;</td><td>&hellip;</td><td>&hellip;</td><td>&hellip;</td><td>&hellip;</td><td>&hellip;</td></tr><tr><td>&quot;2020-M-DC-2020-WG2-PO-MAR-VIE-…</td><td>&quot;Davis Cup WG2 PO: MAR vs VIE&quot;</td><td>&quot;Clay&quot;</td><td>4</td><td>&quot;D&quot;</td><td>2020-03-06</td><td>3</td><td>&quot;104917&quot;</td><td>&quot;104467&quot;</td><td>null</td><td>null</td><td>&quot;109042&quot;</td><td>&quot;122533&quot;</td><td>null</td><td>null</td><td>&quot;6-4 6-1&quot;</td><td>3</td><td>&quot;RR&quot;</td><td>&quot;Anas Fattar&quot;</td><td>&quot;R&quot;</td><td>null</td><td>&quot;MAR&quot;</td><td>32.807666</td><td>&quot;Lamine Ouahab&quot;</td><td>&quot;R&quot;</td><td>185</td><td>&quot;ALG&quot;</td><td>35.192334</td><td>&quot;Quoc Khanh Le&quot;</td><td>&quot;R&quot;</td><td>null</td><td>&quot;VIE&quot;</td><td>37.497604</td><td>&quot;Nam Hoang Ly&quot;</td><td>&quot;R&quot;</td><td>null</td><td>&quot;VIE&quot;</td><td>23.014374</td><td>683</td><td>48</td><td>942</td><td>26</td><td>null</td><td>null</td><td>1293</td><td>12</td><td>null</td><td>null</td><td>null</td><td>null</td><td>null</td><td>null</td><td>null</td><td>null</td><td>null</td><td>null</td><td>null</td><td>null</td><td>null</td><td>null</td><td>null</td><td>null</td><td>null</td><td>null</td><td>null</td><td>&quot;Davis Cup WG2 PO: MAR vs VIE_2…</td></tr><tr><td>&quot;2020-M-DC-2020-WG2-PO-PAR-SRI-…</td><td>&quot;Davis Cup WG2 PO: PAR vs SRI&quot;</td><td>&quot;Clay&quot;</td><td>4</td><td>&quot;D&quot;</td><td>2020-03-06</td><td>3</td><td>&quot;134677&quot;</td><td>&quot;137018&quot;</td><td>null</td><td>null</td><td>&quot;202462&quot;</td><td>&quot;134886&quot;</td><td>null</td><td>null</td><td>&quot;6-1 6-4&quot;</td><td>3</td><td>&quot;RR&quot;</td><td>&quot;Juan Borba&quot;</td><td>&quot;R&quot;</td><td>null</td><td>&quot;PAR&quot;</td><td>23.887748</td><td>&quot;Ayed Zatar&quot;</td><td>&quot;R&quot;</td><td>null</td><td>&quot;PAR&quot;</td><td>23.926078</td><td>&quot;Yasitha De Silva&quot;</td><td>null</td><td>null</td><td>&quot;SRI&quot;</td><td>24.665298</td><td>&quot;Sharmal Dissanayake&quot;</td><td>&quot;R&quot;</td><td>null</td><td>&quot;SRI&quot;</td><td>23.800137</td><td>null</td><td>null</td><td>null</td><td>null</td><td>null</td><td>null</td><td>null</td><td>null</td><td>null</td><td>null</td><td>null</td><td>null</td><td>null</td><td>null</td><td>null</td><td>null</td><td>null</td><td>null</td><td>null</td><td>null</td><td>null</td><td>null</td><td>null</td><td>null</td><td>null</td><td>null</td><td>null</td><td>&quot;Davis Cup WG2 PO: PAR vs SRI_2…</td></tr><tr><td>&quot;2020-M-DC-2020-WG2-PO-PHI-GRE-…</td><td>&quot;Davis Cup WG2 PO: PHI vs GRE&quot;</td><td>&quot;Clay&quot;</td><td>4</td><td>&quot;D&quot;</td><td>2020-03-06</td><td>3</td><td>&quot;108717&quot;</td><td>&quot;104604&quot;</td><td>null</td><td>null</td><td>&quot;109737&quot;</td><td>&quot;202065&quot;</td><td>null</td><td>null</td><td>&quot;7-6(5) 6-4&quot;</td><td>3</td><td>&quot;RR&quot;</td><td>&quot;Francis Casey Alcantara&quot;</td><td>&quot;U&quot;</td><td>null</td><td>&quot;PHI&quot;</td><td>28.073922</td><td>&quot;Ruben Gonzales&quot;</td><td>&quot;R&quot;</td><td>null</td><td>&quot;PHI&quot;</td><td>34.472279</td><td>&quot;Markos Kalovelonis&quot;</td><td>&quot;R&quot;</td><td>null</td><td>&quot;GRE&quot;</td><td>25.790554</td><td>&quot;Petros Tsitsipas&quot;</td><td>&quot;U&quot;</td><td>null</td><td>&quot;GRE&quot;</td><td>19.597536</td><td>537</td><td>69</td><td>212</td><td>307</td><td>503</td><td>77</td><td>1072</td><td>20</td><td>null</td><td>null</td><td>null</td><td>null</td><td>null</td><td>null</td><td>null</td><td>null</td><td>null</td><td>null</td><td>null</td><td>null</td><td>null</td><td>null</td><td>null</td><td>null</td><td>null</td><td>null</td><td>null</td><td>&quot;Davis Cup WG2 PO: PHI vs GRE_2…</td></tr><tr><td>&quot;2020-M-DC-2020-WG2-PO-POL-HKG-…</td><td>&quot;Davis Cup WG2 PO: POL vs HKG&quot;</td><td>&quot;Hard&quot;</td><td>4</td><td>&quot;D&quot;</td><td>2020-03-06</td><td>3</td><td>&quot;126166&quot;</td><td>&quot;126591&quot;</td><td>null</td><td>null</td><td>&quot;205695&quot;</td><td>&quot;106388&quot;</td><td>null</td><td>null</td><td>&quot;6-3 6-7(6) 6-3&quot;</td><td>3</td><td>&quot;RR&quot;</td><td>&quot;Szymon Walkow&quot;</td><td>&quot;R&quot;</td><td>null</td><td>&quot;POL&quot;</td><td>24.443532</td><td>&quot;Jan Zielinski&quot;</td><td>&quot;R&quot;</td><td>null</td><td>&quot;POL&quot;</td><td>23.290897</td><td>&quot;Ching Lam&quot;</td><td>&quot;R&quot;</td><td>null</td><td>&quot;HKG&quot;</td><td>20.495551</td><td>&quot;Pak Long Yeung&quot;</td><td>&quot;U&quot;</td><td>null</td><td>&quot;HKG&quot;</td><td>25.045859</td><td>182</td><td>389</td><td>295</td><td>178</td><td>null</td><td>null</td><td>557</td><td>66</td><td>null</td><td>null</td><td>null</td><td>null</td><td>null</td><td>null</td><td>null</td><td>null</td><td>null</td><td>null</td><td>null</td><td>null</td><td>null</td><td>null</td><td>null</td><td>null</td><td>null</td><td>null</td><td>null</td><td>&quot;Davis Cup WG2 PO: POL vs HKG_2…</td></tr><tr><td>&quot;2020-M-DC-2020-WG2-PO-SYR-ZIM-…</td><td>&quot;Davis Cup WG2 PO: SYR vs ZIM&quot;</td><td>&quot;Hard&quot;</td><td>4</td><td>&quot;D&quot;</td><td>2020-03-06</td><td>3</td><td>&quot;111761&quot;</td><td>&quot;144747&quot;</td><td>null</td><td>null</td><td>&quot;200153&quot;</td><td>&quot;208518&quot;</td><td>null</td><td>null</td><td>&quot;6-1 4-6 6-3&quot;</td><td>3</td><td>&quot;RR&quot;</td><td>&quot;Benjamin Lock&quot;</td><td>&quot;R&quot;</td><td>null</td><td>&quot;ZIM&quot;</td><td>26.995209</td><td>&quot;Courtney John Lock&quot;</td><td>&quot;R&quot;</td><td>null</td><td>&quot;ZIM&quot;</td><td>23.370294</td><td>&quot;Yacoub Makzoume&quot;</td><td>&quot;R&quot;</td><td>null</td><td>&quot;SYR&quot;</td><td>24.832307</td><td>&quot;Hazem Naw&quot;</td><td>&quot;R&quot;</td><td>null</td><td>&quot;UNK&quot;</td><td>20.167009</td><td>231</td><td>267</td><td>327</td><td>146</td><td>null</td><td>null</td><td>1929</td><td>2</td><td>null</td><td>null</td><td>null</td><td>null</td><td>null</td><td>null</td><td>null</td><td>null</td><td>null</td><td>null</td><td>null</td><td>null</td><td>null</td><td>null</td><td>null</td><td>null</td><td>null</td><td>null</td><td>null</td><td>&quot;Davis Cup WG2 PO: SYR vs ZIM_2…</td></tr></tbody></table></div>"
      ],
      "text/plain": [
       "shape: (26_399, 66)\n",
       "┌────────────┬────────────┬─────────┬───────────┬───┬─────────┬───────────┬───────────┬────────────┐\n",
       "│ tourney_id ┆ tourney_na ┆ surface ┆ draw_size ┆ … ┆ l_SvGms ┆ l_bpSaved ┆ l_bpFaced ┆ tourney_na │\n",
       "│ ---        ┆ me         ┆ ---     ┆ ---       ┆   ┆ ---     ┆ ---       ┆ ---       ┆ me_date    │\n",
       "│ str        ┆ ---        ┆ str     ┆ i64       ┆   ┆ str     ┆ str       ┆ str       ┆ ---        │\n",
       "│            ┆ str        ┆         ┆           ┆   ┆         ┆           ┆           ┆ str        │\n",
       "╞════════════╪════════════╪═════════╪═══════════╪═══╪═════════╪═══════════╪═══════════╪════════════╡\n",
       "│ 2000-301   ┆ Auckland   ┆ Hard    ┆ 32        ┆ … ┆ null    ┆ null      ┆ null      ┆ Auckland_2 │\n",
       "│            ┆            ┆         ┆           ┆   ┆         ┆           ┆           ┆ 000-01-10  │\n",
       "│ 2000-301   ┆ Auckland   ┆ Hard    ┆ 32        ┆ … ┆ null    ┆ null      ┆ null      ┆ Auckland_2 │\n",
       "│            ┆            ┆         ┆           ┆   ┆         ┆           ┆           ┆ 000-01-10  │\n",
       "│ 2000-301   ┆ Auckland   ┆ Hard    ┆ 32        ┆ … ┆ null    ┆ null      ┆ null      ┆ Auckland_2 │\n",
       "│            ┆            ┆         ┆           ┆   ┆         ┆           ┆           ┆ 000-01-10  │\n",
       "│ 2000-301   ┆ Auckland   ┆ Hard    ┆ 32        ┆ … ┆ null    ┆ null      ┆ null      ┆ Auckland_2 │\n",
       "│            ┆            ┆         ┆           ┆   ┆         ┆           ┆           ┆ 000-01-10  │\n",
       "│ 2000-301   ┆ Auckland   ┆ Hard    ┆ 32        ┆ … ┆ null    ┆ null      ┆ null      ┆ Auckland_2 │\n",
       "│            ┆            ┆         ┆           ┆   ┆         ┆           ┆           ┆ 000-01-10  │\n",
       "│ …          ┆ …          ┆ …       ┆ …         ┆ … ┆ …       ┆ …         ┆ …         ┆ …          │\n",
       "│ 2020-M-DC- ┆ Davis Cup  ┆ Clay    ┆ 4         ┆ … ┆ null    ┆ null      ┆ null      ┆ Davis Cup  │\n",
       "│ 2020-WG2-P ┆ WG2 PO:    ┆         ┆           ┆   ┆         ┆           ┆           ┆ WG2 PO:    │\n",
       "│ O-MAR-VIE- ┆ MAR vs VIE ┆         ┆           ┆   ┆         ┆           ┆           ┆ MAR vs     │\n",
       "│ …          ┆            ┆         ┆           ┆   ┆         ┆           ┆           ┆ VIE_2…     │\n",
       "│ 2020-M-DC- ┆ Davis Cup  ┆ Clay    ┆ 4         ┆ … ┆ null    ┆ null      ┆ null      ┆ Davis Cup  │\n",
       "│ 2020-WG2-P ┆ WG2 PO:    ┆         ┆           ┆   ┆         ┆           ┆           ┆ WG2 PO:    │\n",
       "│ O-PAR-SRI- ┆ PAR vs SRI ┆         ┆           ┆   ┆         ┆           ┆           ┆ PAR vs     │\n",
       "│ …          ┆            ┆         ┆           ┆   ┆         ┆           ┆           ┆ SRI_2…     │\n",
       "│ 2020-M-DC- ┆ Davis Cup  ┆ Clay    ┆ 4         ┆ … ┆ null    ┆ null      ┆ null      ┆ Davis Cup  │\n",
       "│ 2020-WG2-P ┆ WG2 PO:    ┆         ┆           ┆   ┆         ┆           ┆           ┆ WG2 PO:    │\n",
       "│ O-PHI-GRE- ┆ PHI vs GRE ┆         ┆           ┆   ┆         ┆           ┆           ┆ PHI vs     │\n",
       "│ …          ┆            ┆         ┆           ┆   ┆         ┆           ┆           ┆ GRE_2…     │\n",
       "│ 2020-M-DC- ┆ Davis Cup  ┆ Hard    ┆ 4         ┆ … ┆ null    ┆ null      ┆ null      ┆ Davis Cup  │\n",
       "│ 2020-WG2-P ┆ WG2 PO:    ┆         ┆           ┆   ┆         ┆           ┆           ┆ WG2 PO:    │\n",
       "│ O-POL-HKG- ┆ POL vs HKG ┆         ┆           ┆   ┆         ┆           ┆           ┆ POL vs     │\n",
       "│ …          ┆            ┆         ┆           ┆   ┆         ┆           ┆           ┆ HKG_2…     │\n",
       "│ 2020-M-DC- ┆ Davis Cup  ┆ Hard    ┆ 4         ┆ … ┆ null    ┆ null      ┆ null      ┆ Davis Cup  │\n",
       "│ 2020-WG2-P ┆ WG2 PO:    ┆         ┆           ┆   ┆         ┆           ┆           ┆ WG2 PO:    │\n",
       "│ O-SYR-ZIM- ┆ SYR vs ZIM ┆         ┆           ┆   ┆         ┆           ┆           ┆ SYR vs     │\n",
       "│ …          ┆            ┆         ┆           ┆   ┆         ┆           ┆           ┆ ZIM_2…     │\n",
       "└────────────┴────────────┴─────────┴───────────┴───┴─────────┴───────────┴───────────┴────────────┘"
      ]
     },
     "execution_count": 17,
     "metadata": {},
     "output_type": "execute_result"
    }
   ],
   "source": [
    "matches_doubles_atp=import_tennis_matches(data_type=\"doubles\")\n",
    "\n",
    "matches_doubles_atp = matches_doubles_atp.with_columns(\n",
    "    (pl.col(\"tourney_name\") + \"_\" + pl.col(\"tourney_date\").cast(pl.Utf8)).alias(\"tourney_name_date\")\n",
    ")\n",
    "matches_doubles_atp"
   ]
  },
  {
   "cell_type": "code",
   "execution_count": 18,
   "metadata": {},
   "outputs": [
    {
     "data": {
      "text/html": [
       "<div><style>\n",
       ".dataframe > thead > tr,\n",
       ".dataframe > tbody > tr {\n",
       "  text-align: right;\n",
       "  white-space: pre-wrap;\n",
       "}\n",
       "</style>\n",
       "<small>shape: (1_355, 7)</small><table border=\"1\" class=\"dataframe\"><thead><tr><th>tourney_id</th><th>tourney_name</th><th>surface</th><th>draw_size</th><th>tourney_level</th><th>tourney_date</th><th>tourney_name_date</th></tr><tr><td>str</td><td>str</td><td>str</td><td>i64</td><td>str</td><td>date</td><td>str</td></tr></thead><tbody><tr><td>&quot;2016-7480&quot;</td><td>&quot;Los Cabos&quot;</td><td>&quot;Hard&quot;</td><td>32</td><td>&quot;A&quot;</td><td>2016-08-08</td><td>&quot;Los Cabos_2016-08-08&quot;</td></tr><tr><td>&quot;2000-475&quot;</td><td>&quot;San Marino&quot;</td><td>&quot;Clay&quot;</td><td>32</td><td>&quot;A&quot;</td><td>2000-07-24</td><td>&quot;San Marino_2000-07-24&quot;</td></tr><tr><td>&quot;2005-580&quot;</td><td>&quot;Australian Open&quot;</td><td>&quot;Hard&quot;</td><td>128</td><td>&quot;G&quot;</td><td>2005-01-17</td><td>&quot;Australian Open_2005-01-17&quot;</td></tr><tr><td>&quot;2006-341&quot;</td><td>&quot;Metz&quot;</td><td>&quot;Hard&quot;</td><td>32</td><td>&quot;A&quot;</td><td>2006-10-02</td><td>&quot;Metz_2006-10-02&quot;</td></tr><tr><td>&quot;2008-540&quot;</td><td>&quot;Wimbledon&quot;</td><td>&quot;Grass&quot;</td><td>128</td><td>&quot;G&quot;</td><td>2008-06-23</td><td>&quot;Wimbledon_2008-06-23&quot;</td></tr><tr><td>&hellip;</td><td>&hellip;</td><td>&hellip;</td><td>&hellip;</td><td>&hellip;</td><td>&hellip;</td><td>&hellip;</td></tr><tr><td>&quot;2014-352&quot;</td><td>&quot;Paris Masters&quot;</td><td>&quot;Hard&quot;</td><td>48</td><td>&quot;M&quot;</td><td>2014-10-27</td><td>&quot;Paris Masters_2014-10-27&quot;</td></tr><tr><td>&quot;2015-6116&quot;</td><td>&quot;Atlanta&quot;</td><td>&quot;Hard&quot;</td><td>28</td><td>&quot;A&quot;</td><td>2015-07-27</td><td>&quot;Atlanta_2015-07-27&quot;</td></tr><tr><td>&quot;2012-308&quot;</td><td>&quot;Munich&quot;</td><td>&quot;Clay&quot;</td><td>28</td><td>&quot;A&quot;</td><td>2012-04-30</td><td>&quot;Munich_2012-04-30&quot;</td></tr><tr><td>&quot;2008-495&quot;</td><td>&quot;Dubai&quot;</td><td>&quot;Hard&quot;</td><td>32</td><td>&quot;A&quot;</td><td>2008-03-03</td><td>&quot;Dubai_2008-03-03&quot;</td></tr><tr><td>&quot;2009-468&quot;</td><td>&quot;Estoril&quot;</td><td>&quot;Clay&quot;</td><td>32</td><td>&quot;A&quot;</td><td>2009-05-03</td><td>&quot;Estoril_2009-05-03&quot;</td></tr></tbody></table></div>"
      ],
      "text/plain": [
       "shape: (1_355, 7)\n",
       "┌────────────┬────────────────┬─────────┬───────────┬───────────────┬──────────────┬───────────────┐\n",
       "│ tourney_id ┆ tourney_name   ┆ surface ┆ draw_size ┆ tourney_level ┆ tourney_date ┆ tourney_name_ │\n",
       "│ ---        ┆ ---            ┆ ---     ┆ ---       ┆ ---           ┆ ---          ┆ date          │\n",
       "│ str        ┆ str            ┆ str     ┆ i64       ┆ str           ┆ date         ┆ ---           │\n",
       "│            ┆                ┆         ┆           ┆               ┆              ┆ str           │\n",
       "╞════════════╪════════════════╪═════════╪═══════════╪═══════════════╪══════════════╪═══════════════╡\n",
       "│ 2016-7480  ┆ Los Cabos      ┆ Hard    ┆ 32        ┆ A             ┆ 2016-08-08   ┆ Los Cabos_201 │\n",
       "│            ┆                ┆         ┆           ┆               ┆              ┆ 6-08-08       │\n",
       "│ 2000-475   ┆ San Marino     ┆ Clay    ┆ 32        ┆ A             ┆ 2000-07-24   ┆ San Marino_20 │\n",
       "│            ┆                ┆         ┆           ┆               ┆              ┆ 00-07-24      │\n",
       "│ 2005-580   ┆ Australian     ┆ Hard    ┆ 128       ┆ G             ┆ 2005-01-17   ┆ Australian    │\n",
       "│            ┆ Open           ┆         ┆           ┆               ┆              ┆ Open_2005-01- │\n",
       "│            ┆                ┆         ┆           ┆               ┆              ┆ 17            │\n",
       "│ 2006-341   ┆ Metz           ┆ Hard    ┆ 32        ┆ A             ┆ 2006-10-02   ┆ Metz_2006-10- │\n",
       "│            ┆                ┆         ┆           ┆               ┆              ┆ 02            │\n",
       "│ 2008-540   ┆ Wimbledon      ┆ Grass   ┆ 128       ┆ G             ┆ 2008-06-23   ┆ Wimbledon_200 │\n",
       "│            ┆                ┆         ┆           ┆               ┆              ┆ 8-06-23       │\n",
       "│ …          ┆ …              ┆ …       ┆ …         ┆ …             ┆ …            ┆ …             │\n",
       "│ 2014-352   ┆ Paris Masters  ┆ Hard    ┆ 48        ┆ M             ┆ 2014-10-27   ┆ Paris Masters │\n",
       "│            ┆                ┆         ┆           ┆               ┆              ┆ _2014-10-27   │\n",
       "│ 2015-6116  ┆ Atlanta        ┆ Hard    ┆ 28        ┆ A             ┆ 2015-07-27   ┆ Atlanta_2015- │\n",
       "│            ┆                ┆         ┆           ┆               ┆              ┆ 07-27         │\n",
       "│ 2012-308   ┆ Munich         ┆ Clay    ┆ 28        ┆ A             ┆ 2012-04-30   ┆ Munich_2012-0 │\n",
       "│            ┆                ┆         ┆           ┆               ┆              ┆ 4-30          │\n",
       "│ 2008-495   ┆ Dubai          ┆ Hard    ┆ 32        ┆ A             ┆ 2008-03-03   ┆ Dubai_2008-03 │\n",
       "│            ┆                ┆         ┆           ┆               ┆              ┆ -03           │\n",
       "│ 2009-468   ┆ Estoril        ┆ Clay    ┆ 32        ┆ A             ┆ 2009-05-03   ┆ Estoril_2009- │\n",
       "│            ┆                ┆         ┆           ┆               ┆              ┆ 05-03         │\n",
       "└────────────┴────────────────┴─────────┴───────────┴───────────────┴──────────────┴───────────────┘"
      ]
     },
     "execution_count": 18,
     "metadata": {},
     "output_type": "execute_result"
    }
   ],
   "source": [
    "turney_doubles_matches_atp=matches_doubles_atp[['tourney_id', 'tourney_name', 'surface', 'draw_size', 'tourney_level', 'tourney_date', 'tourney_name_date']]\n",
    "\n",
    "turney_doubles_matches_atp=turney_doubles_matches_atp.unique('tourney_name_date')\n",
    "turney_doubles_matches_atp"
   ]
  }
 ],
 "metadata": {
  "kernelspec": {
   "display_name": "Python 3",
   "language": "python",
   "name": "python3"
  },
  "language_info": {
   "codemirror_mode": {
    "name": "ipython",
    "version": 3
   },
   "file_extension": ".py",
   "mimetype": "text/x-python",
   "name": "python",
   "nbconvert_exporter": "python",
   "pygments_lexer": "ipython3",
   "version": "3.9.4"
  }
 },
 "nbformat": 4,
 "nbformat_minor": 2
}
