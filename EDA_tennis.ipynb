{
 "cells": [
  {
   "cell_type": "code",
   "execution_count": 13,
   "metadata": {},
   "outputs": [],
   "source": [
    "import pandas as pd\n",
    "import numpy as np\n",
    "import os\n",
    "import polars as pl\n",
    "from utils import *\n",
    "import matplotlib.pyplot as plt\n",
    "import seaborn as sns\n",
    "import warnings\n",
    "warnings.filterwarnings('ignore')\n",
    "\n",
    "#tutti i database aggregati li potete richiamare con le varie funzioni di import che trovate in utils.py, gli esempi sono comunque sotto.\n",
    "#per scegliere se ATP o WTA potete cambiare il valore all'interno della funzione gender in \"atp\" o \"wta\" (di default è atp)\n",
    "#es: import_players(gender=\"atp\"), import_players(gender=\"wta\")\n",
    "\n",
    "#le varie funzioni sono import_tennis_matches(), import_players(), import_matches_amateurs_atp(), import_rankings().\n",
    "\n",
    "#per quanto riguarda i match di singolo, doppio,futures, qual_chall e qual_itf dovete usare la funzione import_tennis_matches con una\n",
    "#specifica keyword che indica il tipo di match es: import_tennis_matches(data_type=\"singles\".gender=\"wta\") \n",
    "\n",
    "#le varie keyword tra cui potete scegliere sono [\"singles\",\"doubles\",\"qualifiers_challengers\",\"futures\",\"qualifiers_itf\"]\n",
    "\n",
    "#ATTENZIONE! i futures, qualifiers_challengers e doppi sono esclusivamente maschili mentre i qualifiers_itf sono esclusivamente femminili!\n",
    "#tutte queste le cose le potete verificare guardando il file utils.py\n",
    "\n",
    "#fate una bella EDA and have fun!\n",
    "\n"
   ]
  },
  {
   "cell_type": "code",
   "execution_count": 14,
   "metadata": {},
   "outputs": [],
   "source": [
    "def sorted_value_counts(df, column_name):\n",
    "    \"\"\"\n",
    "    Restituisce il value counts di una colonna di un DataFrame in ordine decrescente.\n",
    "\n",
    "    Parametri:\n",
    "        df (pd.DataFrame): Il DataFrame di input.\n",
    "        column_name (str): Il nome della colonna di cui calcolare il value counts.\n",
    "\n",
    "    Ritorna:\n",
    "        pd.Series: Una Serie con i conteggi ordinati in ordine decrescente.\n",
    "    \"\"\"\n",
    "    if column_name not in df.columns:\n",
    "        raise ValueError(f\"La colonna '{column_name}' non esiste nel DataFrame.\")\n",
    "    \n",
    "    # Calcolare i value counts\n",
    "    value_counts = df[column_name].value_counts()\n",
    "    \n",
    "    # Ordinare i valori manualmente\n",
    "    sorted_counts = value_counts.iloc[value_counts.values.argsort()[::-1]]\n",
    "    \n",
    "    return sorted_counts\n",
    "\n"
   ]
  },
  {
   "cell_type": "code",
   "execution_count": 15,
   "metadata": {},
   "outputs": [
    {
     "data": {
      "text/html": [
       "<div><style>\n",
       ".dataframe > thead > tr,\n",
       ".dataframe > tbody > tr {\n",
       "  text-align: right;\n",
       "  white-space: pre-wrap;\n",
       "}\n",
       "</style>\n",
       "<small>shape: (65_019, 9)</small><table border=\"1\" class=\"dataframe\"><thead><tr><th>player_id</th><th>name_first</th><th>name_last</th><th>hand</th><th>dob</th><th>ioc</th><th>height</th><th>wikidata_id</th><th>name_full</th></tr><tr><td>i64</td><td>str</td><td>str</td><td>str</td><td>date</td><td>str</td><td>i64</td><td>str</td><td>str</td></tr></thead><tbody><tr><td>100001</td><td>&quot;Gardnar&quot;</td><td>&quot;Mulloy&quot;</td><td>&quot;R&quot;</td><td>1913-11-22</td><td>&quot;USA&quot;</td><td>185</td><td>&quot;Q54544&quot;</td><td>&quot;Gardnar Mulloy&quot;</td></tr><tr><td>100002</td><td>&quot;Pancho&quot;</td><td>&quot;Segura&quot;</td><td>&quot;R&quot;</td><td>1921-06-20</td><td>&quot;ECU&quot;</td><td>168</td><td>&quot;Q54581&quot;</td><td>&quot;Pancho Segura&quot;</td></tr><tr><td>100003</td><td>&quot;Frank&quot;</td><td>&quot;Sedgman&quot;</td><td>&quot;R&quot;</td><td>1927-10-02</td><td>&quot;AUS&quot;</td><td>180</td><td>&quot;Q962049&quot;</td><td>&quot;Frank Sedgman&quot;</td></tr><tr><td>100004</td><td>&quot;Giuseppe&quot;</td><td>&quot;Merlo&quot;</td><td>&quot;R&quot;</td><td>1927-10-11</td><td>&quot;ITA&quot;</td><td>null</td><td>&quot;Q1258752&quot;</td><td>&quot;Giuseppe Merlo&quot;</td></tr><tr><td>100005</td><td>&quot;Richard&quot;</td><td>&quot;Gonzalez&quot;</td><td>&quot;R&quot;</td><td>1928-05-09</td><td>&quot;USA&quot;</td><td>188</td><td>&quot;Q53554&quot;</td><td>&quot;Richard Gonzalez&quot;</td></tr><tr><td>&hellip;</td><td>&hellip;</td><td>&hellip;</td><td>&hellip;</td><td>&hellip;</td><td>&hellip;</td><td>&hellip;</td><td>&hellip;</td><td>&hellip;</td></tr><tr><td>212913</td><td>&quot;Pietro&quot;</td><td>&quot;Ricci&quot;</td><td>&quot;U&quot;</td><td>null</td><td>&quot;ITA&quot;</td><td>null</td><td>null</td><td>&quot;Pietro Ricci&quot;</td></tr><tr><td>212914</td><td>&quot;Corey&quot;</td><td>&quot;Craig&quot;</td><td>&quot;U&quot;</td><td>null</td><td>&quot;USA&quot;</td><td>null</td><td>null</td><td>&quot;Corey Craig&quot;</td></tr><tr><td>212915</td><td>&quot;Aleksandar&quot;</td><td>&quot;Ljubojevic&quot;</td><td>&quot;U&quot;</td><td>null</td><td>&quot;SRB&quot;</td><td>null</td><td>null</td><td>&quot;Aleksandar Ljubojevic&quot;</td></tr><tr><td>212916</td><td>&quot;Marko&quot;</td><td>&quot;Milosavljevic&quot;</td><td>&quot;U&quot;</td><td>null</td><td>&quot;SRB&quot;</td><td>null</td><td>null</td><td>&quot;Marko Milosavljevic&quot;</td></tr><tr><td>212917</td><td>&quot;Stefan&quot;</td><td>&quot;Skobelev&quot;</td><td>&quot;U&quot;</td><td>null</td><td>&quot;SRB&quot;</td><td>null</td><td>null</td><td>&quot;Stefan Skobelev&quot;</td></tr></tbody></table></div>"
      ],
      "text/plain": [
       "shape: (65_019, 9)\n",
       "┌───────────┬────────────┬───────────────┬──────┬───┬─────┬────────┬─────────────┬─────────────────┐\n",
       "│ player_id ┆ name_first ┆ name_last     ┆ hand ┆ … ┆ ioc ┆ height ┆ wikidata_id ┆ name_full       │\n",
       "│ ---       ┆ ---        ┆ ---           ┆ ---  ┆   ┆ --- ┆ ---    ┆ ---         ┆ ---             │\n",
       "│ i64       ┆ str        ┆ str           ┆ str  ┆   ┆ str ┆ i64    ┆ str         ┆ str             │\n",
       "╞═══════════╪════════════╪═══════════════╪══════╪═══╪═════╪════════╪═════════════╪═════════════════╡\n",
       "│ 100001    ┆ Gardnar    ┆ Mulloy        ┆ R    ┆ … ┆ USA ┆ 185    ┆ Q54544      ┆ Gardnar Mulloy  │\n",
       "│ 100002    ┆ Pancho     ┆ Segura        ┆ R    ┆ … ┆ ECU ┆ 168    ┆ Q54581      ┆ Pancho Segura   │\n",
       "│ 100003    ┆ Frank      ┆ Sedgman       ┆ R    ┆ … ┆ AUS ┆ 180    ┆ Q962049     ┆ Frank Sedgman   │\n",
       "│ 100004    ┆ Giuseppe   ┆ Merlo         ┆ R    ┆ … ┆ ITA ┆ null   ┆ Q1258752    ┆ Giuseppe Merlo  │\n",
       "│ 100005    ┆ Richard    ┆ Gonzalez      ┆ R    ┆ … ┆ USA ┆ 188    ┆ Q53554      ┆ Richard         │\n",
       "│           ┆            ┆               ┆      ┆   ┆     ┆        ┆             ┆ Gonzalez        │\n",
       "│ …         ┆ …          ┆ …             ┆ …    ┆ … ┆ …   ┆ …      ┆ …           ┆ …               │\n",
       "│ 212913    ┆ Pietro     ┆ Ricci         ┆ U    ┆ … ┆ ITA ┆ null   ┆ null        ┆ Pietro Ricci    │\n",
       "│ 212914    ┆ Corey      ┆ Craig         ┆ U    ┆ … ┆ USA ┆ null   ┆ null        ┆ Corey Craig     │\n",
       "│ 212915    ┆ Aleksandar ┆ Ljubojevic    ┆ U    ┆ … ┆ SRB ┆ null   ┆ null        ┆ Aleksandar      │\n",
       "│           ┆            ┆               ┆      ┆   ┆     ┆        ┆             ┆ Ljubojevic      │\n",
       "│ 212916    ┆ Marko      ┆ Milosavljevic ┆ U    ┆ … ┆ SRB ┆ null   ┆ null        ┆ Marko           │\n",
       "│           ┆            ┆               ┆      ┆   ┆     ┆        ┆             ┆ Milosavljevic   │\n",
       "│ 212917    ┆ Stefan     ┆ Skobelev      ┆ U    ┆ … ┆ SRB ┆ null   ┆ null        ┆ Stefan Skobelev │\n",
       "└───────────┴────────────┴───────────────┴──────┴───┴─────┴────────┴─────────────┴─────────────────┘"
      ]
     },
     "execution_count": 15,
     "metadata": {},
     "output_type": "execute_result"
    }
   ],
   "source": [
    "players_atp=import_players(gender=\"atp\")\n",
    "players_atp"
   ]
  },
  {
   "cell_type": "code",
   "execution_count": 16,
   "metadata": {},
   "outputs": [
    {
     "data": {
      "text/html": [
       "<div><style>\n",
       ".dataframe > thead > tr,\n",
       ".dataframe > tbody > tr {\n",
       "  text-align: right;\n",
       "  white-space: pre-wrap;\n",
       "}\n",
       "</style>\n",
       "<small>shape: (67_095, 9)</small><table border=\"1\" class=\"dataframe\"><thead><tr><th>player_id</th><th>name_first</th><th>name_last</th><th>hand</th><th>dob</th><th>ioc</th><th>height</th><th>wikidata_id</th><th>name_full</th></tr><tr><td>i64</td><td>str</td><td>str</td><td>str</td><td>date</td><td>str</td><td>i64</td><td>str</td><td>str</td></tr></thead><tbody><tr><td>113190</td><td>&quot;Bobby&quot;</td><td>&quot;Riggs&quot;</td><td>&quot;U&quot;</td><td>null</td><td>&quot;USA&quot;</td><td>null</td><td>null</td><td>&quot;Bobby Riggs&quot;</td></tr><tr><td>200000</td><td>&quot;X&quot;</td><td>&quot;X&quot;</td><td>&quot;U&quot;</td><td>null</td><td>&quot;UNK&quot;</td><td>null</td><td>null</td><td>&quot;X X&quot;</td></tr><tr><td>200001</td><td>&quot;Martina&quot;</td><td>&quot;Hingis&quot;</td><td>&quot;R&quot;</td><td>1980-09-30</td><td>&quot;SUI&quot;</td><td>170</td><td>&quot;Q134720&quot;</td><td>&quot;Martina Hingis&quot;</td></tr><tr><td>200002</td><td>&quot;Mirjana&quot;</td><td>&quot;Lucic&quot;</td><td>&quot;R&quot;</td><td>1982-03-09</td><td>&quot;CRO&quot;</td><td>181</td><td>&quot;Q239686&quot;</td><td>&quot;Mirjana Lucic&quot;</td></tr><tr><td>200003</td><td>&quot;Justine&quot;</td><td>&quot;Henin&quot;</td><td>&quot;R&quot;</td><td>1982-06-01</td><td>&quot;BEL&quot;</td><td>167</td><td>&quot;Q11682&quot;</td><td>&quot;Justine Henin&quot;</td></tr><tr><td>&hellip;</td><td>&hellip;</td><td>&hellip;</td><td>&hellip;</td><td>&hellip;</td><td>&hellip;</td><td>&hellip;</td><td>&hellip;</td><td>&hellip;</td></tr><tr><td>267099</td><td>&quot;Kokoa&quot;</td><td>&quot;Nakao&quot;</td><td>&quot;U&quot;</td><td>null</td><td>&quot;JPN&quot;</td><td>null</td><td>null</td><td>&quot;Kokoa Nakao&quot;</td></tr><tr><td>267100</td><td>&quot;Aoi&quot;</td><td>&quot;Watanabe&quot;</td><td>&quot;U&quot;</td><td>null</td><td>&quot;JPN&quot;</td><td>null</td><td>null</td><td>&quot;Aoi Watanabe&quot;</td></tr><tr><td>267101</td><td>&quot;Sara&quot;</td><td>&quot;Yoshida&quot;</td><td>&quot;U&quot;</td><td>null</td><td>&quot;JPN&quot;</td><td>null</td><td>null</td><td>&quot;Sara Yoshida&quot;</td></tr><tr><td>267102</td><td>&quot;Ui Su&quot;</td><td>&quot;Jeong&quot;</td><td>&quot;U&quot;</td><td>null</td><td>&quot;KOR&quot;</td><td>null</td><td>null</td><td>&quot;Ui Su Jeong&quot;</td></tr><tr><td>267103</td><td>&quot;Alexia&quot;</td><td>&quot;Patru&quot;</td><td>&quot;U&quot;</td><td>null</td><td>&quot;ROU&quot;</td><td>null</td><td>null</td><td>&quot;Alexia Patru&quot;</td></tr></tbody></table></div>"
      ],
      "text/plain": [
       "shape: (67_095, 9)\n",
       "┌───────────┬────────────┬───────────┬──────┬───┬─────┬────────┬─────────────┬────────────────┐\n",
       "│ player_id ┆ name_first ┆ name_last ┆ hand ┆ … ┆ ioc ┆ height ┆ wikidata_id ┆ name_full      │\n",
       "│ ---       ┆ ---        ┆ ---       ┆ ---  ┆   ┆ --- ┆ ---    ┆ ---         ┆ ---            │\n",
       "│ i64       ┆ str        ┆ str       ┆ str  ┆   ┆ str ┆ i64    ┆ str         ┆ str            │\n",
       "╞═══════════╪════════════╪═══════════╪══════╪═══╪═════╪════════╪═════════════╪════════════════╡\n",
       "│ 113190    ┆ Bobby      ┆ Riggs     ┆ U    ┆ … ┆ USA ┆ null   ┆ null        ┆ Bobby Riggs    │\n",
       "│ 200000    ┆ X          ┆ X         ┆ U    ┆ … ┆ UNK ┆ null   ┆ null        ┆ X X            │\n",
       "│ 200001    ┆ Martina    ┆ Hingis    ┆ R    ┆ … ┆ SUI ┆ 170    ┆ Q134720     ┆ Martina Hingis │\n",
       "│ 200002    ┆ Mirjana    ┆ Lucic     ┆ R    ┆ … ┆ CRO ┆ 181    ┆ Q239686     ┆ Mirjana Lucic  │\n",
       "│ 200003    ┆ Justine    ┆ Henin     ┆ R    ┆ … ┆ BEL ┆ 167    ┆ Q11682      ┆ Justine Henin  │\n",
       "│ …         ┆ …          ┆ …         ┆ …    ┆ … ┆ …   ┆ …      ┆ …           ┆ …              │\n",
       "│ 267099    ┆ Kokoa      ┆ Nakao     ┆ U    ┆ … ┆ JPN ┆ null   ┆ null        ┆ Kokoa Nakao    │\n",
       "│ 267100    ┆ Aoi        ┆ Watanabe  ┆ U    ┆ … ┆ JPN ┆ null   ┆ null        ┆ Aoi Watanabe   │\n",
       "│ 267101    ┆ Sara       ┆ Yoshida   ┆ U    ┆ … ┆ JPN ┆ null   ┆ null        ┆ Sara Yoshida   │\n",
       "│ 267102    ┆ Ui Su      ┆ Jeong     ┆ U    ┆ … ┆ KOR ┆ null   ┆ null        ┆ Ui Su Jeong    │\n",
       "│ 267103    ┆ Alexia     ┆ Patru     ┆ U    ┆ … ┆ ROU ┆ null   ┆ null        ┆ Alexia Patru   │\n",
       "└───────────┴────────────┴───────────┴──────┴───┴─────┴────────┴─────────────┴────────────────┘"
      ]
     },
     "execution_count": 16,
     "metadata": {},
     "output_type": "execute_result"
    }
   ],
   "source": [
    "players_wta=import_players(gender=\"wta\")\n",
    "players_wta"
   ]
  },
  {
   "cell_type": "markdown",
   "metadata": {},
   "source": [
    "# Comincio creazione di df e df_tourney per ogni df disponibile"
   ]
  },
  {
   "cell_type": "code",
   "execution_count": 17,
   "metadata": {},
   "outputs": [
    {
     "data": {
      "text/html": [
       "<div><style>\n",
       ".dataframe > thead > tr,\n",
       ".dataframe > tbody > tr {\n",
       "  text-align: right;\n",
       "  white-space: pre-wrap;\n",
       "}\n",
       "</style>\n",
       "<small>shape: (25_001, 50)</small><table border=\"1\" class=\"dataframe\"><thead><tr><th>tourney_id</th><th>tourney_name</th><th>surface</th><th>draw_size</th><th>tourney_level</th><th>tourney_date</th><th>match_num</th><th>winner_id</th><th>winner_seed</th><th>winner_entry</th><th>winner_name</th><th>winner_hand</th><th>winner_ht</th><th>winner_ioc</th><th>winner_age</th><th>loser_id</th><th>loser_seed</th><th>loser_entry</th><th>loser_name</th><th>loser_hand</th><th>loser_ht</th><th>loser_ioc</th><th>loser_age</th><th>score</th><th>best_of</th><th>round</th><th>minutes</th><th>w_ace</th><th>w_df</th><th>w_svpt</th><th>w_1stIn</th><th>w_1stWon</th><th>w_2ndWon</th><th>w_SvGms</th><th>w_bpSaved</th><th>w_bpFaced</th><th>l_ace</th><th>l_df</th><th>l_svpt</th><th>l_1stIn</th><th>l_1stWon</th><th>l_2ndWon</th><th>l_SvGms</th><th>l_bpSaved</th><th>l_bpFaced</th><th>winner_rank</th><th>winner_rank_points</th><th>loser_rank</th><th>loser_rank_points</th><th>tourney_name_date</th></tr><tr><td>str</td><td>str</td><td>str</td><td>str</td><td>str</td><td>date</td><td>i64</td><td>i64</td><td>str</td><td>str</td><td>str</td><td>str</td><td>str</td><td>str</td><td>f64</td><td>i64</td><td>str</td><td>str</td><td>str</td><td>str</td><td>i64</td><td>str</td><td>f64</td><td>str</td><td>i64</td><td>str</td><td>str</td><td>str</td><td>str</td><td>str</td><td>str</td><td>str</td><td>str</td><td>str</td><td>str</td><td>str</td><td>str</td><td>str</td><td>str</td><td>str</td><td>str</td><td>str</td><td>str</td><td>str</td><td>str</td><td>str</td><td>str</td><td>str</td><td>str</td><td>str</td></tr></thead><tbody><tr><td>&quot;1877-540&quot;</td><td>&quot;Wimbledon&quot;</td><td>&quot;Grass&quot;</td><td>&quot;32&quot;</td><td>&quot;G&quot;</td><td>1877-07-09</td><td>1</td><td>113987</td><td>null</td><td>null</td><td>&quot;Spencer William Gore&quot;</td><td>null</td><td>null</td><td>&quot;GBR&quot;</td><td>27.331964</td><td>114009</td><td>null</td><td>null</td><td>&quot;Ht Gilson&quot;</td><td>null</td><td>null</td><td>&quot;GBR&quot;</td><td>null</td><td>&quot;6-2 6-0 6-3&quot;</td><td>5</td><td>&quot;R32&quot;</td><td>null</td><td>null</td><td>null</td><td>null</td><td>null</td><td>null</td><td>null</td><td>null</td><td>null</td><td>null</td><td>null</td><td>null</td><td>null</td><td>null</td><td>null</td><td>null</td><td>null</td><td>null</td><td>null</td><td>null</td><td>null</td><td>null</td><td>null</td><td>&quot;Wimbledon_1877_amatures_atp&quot;</td></tr><tr><td>&quot;1877-540&quot;</td><td>&quot;Wimbledon&quot;</td><td>&quot;Grass&quot;</td><td>&quot;32&quot;</td><td>&quot;G&quot;</td><td>1877-07-09</td><td>2</td><td>114146</td><td>null</td><td>null</td><td>&quot;Montague Hankey&quot;</td><td>null</td><td>null</td><td>&quot;GBR&quot;</td><td>36.895277</td><td>113977</td><td>null</td><td>null</td><td>&quot;Robert Dalby Dalby&quot;</td><td>null</td><td>null</td><td>&quot;GBR&quot;</td><td>null</td><td>&quot;6-4 6-2 3-6 6-2&quot;</td><td>5</td><td>&quot;R32&quot;</td><td>null</td><td>null</td><td>null</td><td>null</td><td>null</td><td>null</td><td>null</td><td>null</td><td>null</td><td>null</td><td>null</td><td>null</td><td>null</td><td>null</td><td>null</td><td>null</td><td>null</td><td>null</td><td>null</td><td>null</td><td>null</td><td>null</td><td>null</td><td>&quot;Wimbledon_1877_amatures_atp&quot;</td></tr><tr><td>&quot;1877-540&quot;</td><td>&quot;Wimbledon&quot;</td><td>&quot;Grass&quot;</td><td>&quot;32&quot;</td><td>&quot;G&quot;</td><td>1877-07-09</td><td>3</td><td>114147</td><td>null</td><td>null</td><td>&quot;John Baker&quot;</td><td>null</td><td>null</td><td>&quot;GBR&quot;</td><td>null</td><td>114148</td><td>null</td><td>null</td><td>&quot;Jw Trist&quot;</td><td>null</td><td>null</td><td>&quot;GBR&quot;</td><td>null</td><td>&quot;6-1 6-4 6-0&quot;</td><td>5</td><td>&quot;R32&quot;</td><td>null</td><td>null</td><td>null</td><td>null</td><td>null</td><td>null</td><td>null</td><td>null</td><td>null</td><td>null</td><td>null</td><td>null</td><td>null</td><td>null</td><td>null</td><td>null</td><td>null</td><td>null</td><td>null</td><td>null</td><td>null</td><td>null</td><td>null</td><td>&quot;Wimbledon_1877_amatures_atp&quot;</td></tr><tr><td>&quot;1877-540&quot;</td><td>&quot;Wimbledon&quot;</td><td>&quot;Grass&quot;</td><td>&quot;32&quot;</td><td>&quot;G&quot;</td><td>1877-07-09</td><td>4</td><td>114149</td><td>null</td><td>null</td><td>&quot;Francis Nathaniel Langham&quot;</td><td>null</td><td>null</td><td>&quot;GBR&quot;</td><td>36.082136</td><td>114150</td><td>null</td><td>null</td><td>&quot;Charles Francis Buller&quot;</td><td>null</td><td>null</td><td>&quot;GBR&quot;</td><td>31.12115</td><td>&quot;W/O&quot;</td><td>5</td><td>&quot;R32&quot;</td><td>null</td><td>null</td><td>null</td><td>null</td><td>null</td><td>null</td><td>null</td><td>null</td><td>null</td><td>null</td><td>null</td><td>null</td><td>null</td><td>null</td><td>null</td><td>null</td><td>null</td><td>null</td><td>null</td><td>null</td><td>null</td><td>null</td><td>null</td><td>&quot;Wimbledon_1877_amatures_atp&quot;</td></tr><tr><td>&quot;1877-540&quot;</td><td>&quot;Wimbledon&quot;</td><td>&quot;Grass&quot;</td><td>&quot;32&quot;</td><td>&quot;G&quot;</td><td>1877-07-09</td><td>5</td><td>113953</td><td>null</td><td>null</td><td>&quot;Lestocq Robert Erskine&quot;</td><td>null</td><td>null</td><td>&quot;GBR&quot;</td><td>19.838467</td><td>114151</td><td>null</td><td>null</td><td>&quot;E Wheeler&quot;</td><td>null</td><td>null</td><td>&quot;GBR&quot;</td><td>null</td><td>&quot;6-2 6-5 6-2&quot;</td><td>5</td><td>&quot;R32&quot;</td><td>null</td><td>null</td><td>null</td><td>null</td><td>null</td><td>null</td><td>null</td><td>null</td><td>null</td><td>null</td><td>null</td><td>null</td><td>null</td><td>null</td><td>null</td><td>null</td><td>null</td><td>null</td><td>null</td><td>null</td><td>null</td><td>null</td><td>null</td><td>&quot;Wimbledon_1877_amatures_atp&quot;</td></tr><tr><td>&hellip;</td><td>&hellip;</td><td>&hellip;</td><td>&hellip;</td><td>&hellip;</td><td>&hellip;</td><td>&hellip;</td><td>&hellip;</td><td>&hellip;</td><td>&hellip;</td><td>&hellip;</td><td>&hellip;</td><td>&hellip;</td><td>&hellip;</td><td>&hellip;</td><td>&hellip;</td><td>&hellip;</td><td>&hellip;</td><td>&hellip;</td><td>&hellip;</td><td>&hellip;</td><td>&hellip;</td><td>&hellip;</td><td>&hellip;</td><td>&hellip;</td><td>&hellip;</td><td>&hellip;</td><td>&hellip;</td><td>&hellip;</td><td>&hellip;</td><td>&hellip;</td><td>&hellip;</td><td>&hellip;</td><td>&hellip;</td><td>&hellip;</td><td>&hellip;</td><td>&hellip;</td><td>&hellip;</td><td>&hellip;</td><td>&hellip;</td><td>&hellip;</td><td>&hellip;</td><td>&hellip;</td><td>&hellip;</td><td>&hellip;</td><td>&hellip;</td><td>&hellip;</td><td>&hellip;</td><td>&hellip;</td><td>&hellip;</td></tr><tr><td>&quot;1967-D047&quot;</td><td>&quot;Davis Cup EUR R1: NED vs RSA&quot;</td><td>&quot;Clay&quot;</td><td>&quot;4&quot;</td><td>&quot;D&quot;</td><td>1967-05-04</td><td>5</td><td>100084</td><td>null</td><td>null</td><td>&quot;Tom Okker&quot;</td><td>&quot;R&quot;</td><td>&quot;178&quot;</td><td>&quot;NED&quot;</td><td>23.195072</td><td>100055</td><td>null</td><td>null</td><td>&quot;Cliff Drysdale&quot;</td><td>&quot;R&quot;</td><td>188</td><td>&quot;RSA&quot;</td><td>25.938398</td><td>&quot;6-2 6-2 0-6 7-5&quot;</td><td>5</td><td>&quot;RR&quot;</td><td>null</td><td>null</td><td>null</td><td>null</td><td>null</td><td>null</td><td>null</td><td>null</td><td>null</td><td>null</td><td>null</td><td>null</td><td>null</td><td>null</td><td>null</td><td>null</td><td>null</td><td>null</td><td>null</td><td>null</td><td>null</td><td>null</td><td>null</td><td>&quot;Davis Cup EUR R1: NED vs RSA_1…</td></tr><tr><td>&quot;1967-D048&quot;</td><td>&quot;Davis Cup AME SF: PHI vs VIE&quot;</td><td>null</td><td>&quot;4&quot;</td><td>&quot;D&quot;</td><td>1967-04-14</td><td>1</td><td>106910</td><td>null</td><td>null</td><td>&quot;Eddie Cruz&quot;</td><td>&quot;R&quot;</td><td>null</td><td>&quot;PHI&quot;</td><td>null</td><td>111097</td><td>null</td><td>null</td><td>&quot;Van Bay Vo&quot;</td><td>&quot;U&quot;</td><td>null</td><td>&quot;VIE&quot;</td><td>null</td><td>&quot;6-2 6-3 6-2&quot;</td><td>5</td><td>&quot;RR&quot;</td><td>null</td><td>null</td><td>null</td><td>null</td><td>null</td><td>null</td><td>null</td><td>null</td><td>null</td><td>null</td><td>null</td><td>null</td><td>null</td><td>null</td><td>null</td><td>null</td><td>null</td><td>null</td><td>null</td><td>null</td><td>null</td><td>null</td><td>null</td><td>&quot;Davis Cup AME SF: PHI vs VIE_1…</td></tr><tr><td>&quot;1967-D048&quot;</td><td>&quot;Davis Cup AME SF: PHI vs VIE&quot;</td><td>null</td><td>&quot;4&quot;</td><td>&quot;D&quot;</td><td>1967-04-14</td><td>2</td><td>112556</td><td>null</td><td>null</td><td>&quot;Felicisimo Ampon&quot;</td><td>null</td><td>null</td><td>&quot;PHI&quot;</td><td>46.461328</td><td>111091</td><td>null</td><td>null</td><td>&quot;Van Thanh Vo&quot;</td><td>&quot;U&quot;</td><td>null</td><td>&quot;VIE&quot;</td><td>null</td><td>&quot;6-4 6-1 6-1&quot;</td><td>5</td><td>&quot;RR&quot;</td><td>null</td><td>null</td><td>null</td><td>null</td><td>null</td><td>null</td><td>null</td><td>null</td><td>null</td><td>null</td><td>null</td><td>null</td><td>null</td><td>null</td><td>null</td><td>null</td><td>null</td><td>null</td><td>null</td><td>null</td><td>null</td><td>null</td><td>null</td><td>&quot;Davis Cup AME SF: PHI vs VIE_1…</td></tr><tr><td>&quot;1967-D048&quot;</td><td>&quot;Davis Cup AME SF: PHI vs VIE&quot;</td><td>null</td><td>&quot;4&quot;</td><td>&quot;D&quot;</td><td>1967-04-14</td><td>4</td><td>125731</td><td>null</td><td>null</td><td>&quot;Samuel Ang&quot;</td><td>&quot;U&quot;</td><td>null</td><td>&quot;PHI&quot;</td><td>null</td><td>117339</td><td>null</td><td>null</td><td>&quot;Hoang Duc Luu&quot;</td><td>null</td><td>null</td><td>&quot;VIE&quot;</td><td>null</td><td>&quot;6-3 6-4 6-1&quot;</td><td>5</td><td>&quot;RR&quot;</td><td>null</td><td>null</td><td>null</td><td>null</td><td>null</td><td>null</td><td>null</td><td>null</td><td>null</td><td>null</td><td>null</td><td>null</td><td>null</td><td>null</td><td>null</td><td>null</td><td>null</td><td>null</td><td>null</td><td>null</td><td>null</td><td>null</td><td>null</td><td>&quot;Davis Cup AME SF: PHI vs VIE_1…</td></tr><tr><td>&quot;1967-D048&quot;</td><td>&quot;Davis Cup AME SF: PHI vs VIE&quot;</td><td>null</td><td>&quot;4&quot;</td><td>&quot;D&quot;</td><td>1967-04-14</td><td>5</td><td>106910</td><td>null</td><td>null</td><td>&quot;Eddie Cruz&quot;</td><td>&quot;R&quot;</td><td>null</td><td>&quot;PHI&quot;</td><td>null</td><td>111091</td><td>null</td><td>null</td><td>&quot;Van Thanh Vo&quot;</td><td>&quot;U&quot;</td><td>null</td><td>&quot;VIE&quot;</td><td>null</td><td>&quot;12-10 9-7 6-1&quot;</td><td>5</td><td>&quot;RR&quot;</td><td>null</td><td>null</td><td>null</td><td>null</td><td>null</td><td>null</td><td>null</td><td>null</td><td>null</td><td>null</td><td>null</td><td>null</td><td>null</td><td>null</td><td>null</td><td>null</td><td>null</td><td>null</td><td>null</td><td>null</td><td>null</td><td>null</td><td>null</td><td>&quot;Davis Cup AME SF: PHI vs VIE_1…</td></tr></tbody></table></div>"
      ],
      "text/plain": [
       "shape: (25_001, 50)\n",
       "┌────────────┬───────────┬─────────┬───────────┬───┬───────────┬───────────┬───────────┬───────────┐\n",
       "│ tourney_id ┆ tourney_n ┆ surface ┆ draw_size ┆ … ┆ winner_ra ┆ loser_ran ┆ loser_ran ┆ tourney_n │\n",
       "│ ---        ┆ ame       ┆ ---     ┆ ---       ┆   ┆ nk_points ┆ k         ┆ k_points  ┆ ame_date  │\n",
       "│ str        ┆ ---       ┆ str     ┆ str       ┆   ┆ ---       ┆ ---       ┆ ---       ┆ ---       │\n",
       "│            ┆ str       ┆         ┆           ┆   ┆ str       ┆ str       ┆ str       ┆ str       │\n",
       "╞════════════╪═══════════╪═════════╪═══════════╪═══╪═══════════╪═══════════╪═══════════╪═══════════╡\n",
       "│ 1877-540   ┆ Wimbledon ┆ Grass   ┆ 32        ┆ … ┆ null      ┆ null      ┆ null      ┆ Wimbledon │\n",
       "│            ┆           ┆         ┆           ┆   ┆           ┆           ┆           ┆ _1877_ama │\n",
       "│            ┆           ┆         ┆           ┆   ┆           ┆           ┆           ┆ tures_atp │\n",
       "│ 1877-540   ┆ Wimbledon ┆ Grass   ┆ 32        ┆ … ┆ null      ┆ null      ┆ null      ┆ Wimbledon │\n",
       "│            ┆           ┆         ┆           ┆   ┆           ┆           ┆           ┆ _1877_ama │\n",
       "│            ┆           ┆         ┆           ┆   ┆           ┆           ┆           ┆ tures_atp │\n",
       "│ 1877-540   ┆ Wimbledon ┆ Grass   ┆ 32        ┆ … ┆ null      ┆ null      ┆ null      ┆ Wimbledon │\n",
       "│            ┆           ┆         ┆           ┆   ┆           ┆           ┆           ┆ _1877_ama │\n",
       "│            ┆           ┆         ┆           ┆   ┆           ┆           ┆           ┆ tures_atp │\n",
       "│ 1877-540   ┆ Wimbledon ┆ Grass   ┆ 32        ┆ … ┆ null      ┆ null      ┆ null      ┆ Wimbledon │\n",
       "│            ┆           ┆         ┆           ┆   ┆           ┆           ┆           ┆ _1877_ama │\n",
       "│            ┆           ┆         ┆           ┆   ┆           ┆           ┆           ┆ tures_atp │\n",
       "│ 1877-540   ┆ Wimbledon ┆ Grass   ┆ 32        ┆ … ┆ null      ┆ null      ┆ null      ┆ Wimbledon │\n",
       "│            ┆           ┆         ┆           ┆   ┆           ┆           ┆           ┆ _1877_ama │\n",
       "│            ┆           ┆         ┆           ┆   ┆           ┆           ┆           ┆ tures_atp │\n",
       "│ …          ┆ …         ┆ …       ┆ …         ┆ … ┆ …         ┆ …         ┆ …         ┆ …         │\n",
       "│ 1967-D047  ┆ Davis Cup ┆ Clay    ┆ 4         ┆ … ┆ null      ┆ null      ┆ null      ┆ Davis Cup │\n",
       "│            ┆ EUR R1:   ┆         ┆           ┆   ┆           ┆           ┆           ┆ EUR R1:   │\n",
       "│            ┆ NED vs    ┆         ┆           ┆   ┆           ┆           ┆           ┆ NED vs    │\n",
       "│            ┆ RSA       ┆         ┆           ┆   ┆           ┆           ┆           ┆ RSA_1…    │\n",
       "│ 1967-D048  ┆ Davis Cup ┆ null    ┆ 4         ┆ … ┆ null      ┆ null      ┆ null      ┆ Davis Cup │\n",
       "│            ┆ AME SF:   ┆         ┆           ┆   ┆           ┆           ┆           ┆ AME SF:   │\n",
       "│            ┆ PHI vs    ┆         ┆           ┆   ┆           ┆           ┆           ┆ PHI vs    │\n",
       "│            ┆ VIE       ┆         ┆           ┆   ┆           ┆           ┆           ┆ VIE_1…    │\n",
       "│ 1967-D048  ┆ Davis Cup ┆ null    ┆ 4         ┆ … ┆ null      ┆ null      ┆ null      ┆ Davis Cup │\n",
       "│            ┆ AME SF:   ┆         ┆           ┆   ┆           ┆           ┆           ┆ AME SF:   │\n",
       "│            ┆ PHI vs    ┆         ┆           ┆   ┆           ┆           ┆           ┆ PHI vs    │\n",
       "│            ┆ VIE       ┆         ┆           ┆   ┆           ┆           ┆           ┆ VIE_1…    │\n",
       "│ 1967-D048  ┆ Davis Cup ┆ null    ┆ 4         ┆ … ┆ null      ┆ null      ┆ null      ┆ Davis Cup │\n",
       "│            ┆ AME SF:   ┆         ┆           ┆   ┆           ┆           ┆           ┆ AME SF:   │\n",
       "│            ┆ PHI vs    ┆         ┆           ┆   ┆           ┆           ┆           ┆ PHI vs    │\n",
       "│            ┆ VIE       ┆         ┆           ┆   ┆           ┆           ┆           ┆ VIE_1…    │\n",
       "│ 1967-D048  ┆ Davis Cup ┆ null    ┆ 4         ┆ … ┆ null      ┆ null      ┆ null      ┆ Davis Cup │\n",
       "│            ┆ AME SF:   ┆         ┆           ┆   ┆           ┆           ┆           ┆ AME SF:   │\n",
       "│            ┆ PHI vs    ┆         ┆           ┆   ┆           ┆           ┆           ┆ PHI vs    │\n",
       "│            ┆ VIE       ┆         ┆           ┆   ┆           ┆           ┆           ┆ VIE_1…    │\n",
       "└────────────┴───────────┴─────────┴───────────┴───┴───────────┴───────────┴───────────┴───────────┘"
      ]
     },
     "execution_count": 17,
     "metadata": {},
     "output_type": "execute_result"
    }
   ],
   "source": [
    "#creazione df amatori\n",
    "matches_amateurs_atp=import_matches_amateurs_atp(write_parquet=True)\n",
    "#creazione colonna 'tourney_name_date' con metodo polars\n",
    "matches_amateurs_atp = matches_amateurs_atp.with_columns(\n",
    "    (pl.col(\"tourney_name\") + \"_\" + pl.col(\"tourney_date\").dt.year().cast(pl.Utf8)+\"_amatures_atp\").alias(\"tourney_name_date\")\n",
    ")\n",
    "matches_amateurs_atp"
   ]
  },
  {
   "cell_type": "code",
   "execution_count": 18,
   "metadata": {},
   "outputs": [
    {
     "data": {
      "text/html": [
       "<div><style>\n",
       ".dataframe > thead > tr,\n",
       ".dataframe > tbody > tr {\n",
       "  text-align: right;\n",
       "  white-space: pre-wrap;\n",
       "}\n",
       "</style>\n",
       "<small>shape: (1_481, 6)</small><table border=\"1\" class=\"dataframe\"><thead><tr><th>tourney_name</th><th>surface</th><th>draw_size</th><th>tourney_level</th><th>tourney_date</th><th>tourney_name_date</th></tr><tr><td>str</td><td>str</td><td>str</td><td>str</td><td>date</td><td>str</td></tr></thead><tbody><tr><td>&quot;Wimbledon&quot;</td><td>&quot;Grass&quot;</td><td>&quot;128&quot;</td><td>&quot;G&quot;</td><td>1964-06-01</td><td>&quot;Wimbledon_1964_amatures_atp&quot;</td></tr><tr><td>&quot;Davis Cup EUR R2: YUG vs ARG&quot;</td><td>null</td><td>&quot;4&quot;</td><td>&quot;D&quot;</td><td>1964-05-14</td><td>&quot;Davis Cup EUR R2: YUG vs ARG_1…</td></tr><tr><td>&quot;Wimbledon&quot;</td><td>&quot;Grass&quot;</td><td>&quot;128&quot;</td><td>&quot;G&quot;</td><td>1909-06-01</td><td>&quot;Wimbledon_1909_amatures_atp&quot;</td></tr><tr><td>&quot;Davis Cup EUR R2: IRL vs HUN&quot;</td><td>&quot;Grass&quot;</td><td>&quot;4&quot;</td><td>&quot;D&quot;</td><td>1932-05-19</td><td>&quot;Davis Cup EUR R2: IRL vs HUN_1…</td></tr><tr><td>&quot;Davis Cup EUR R2: FIN vs RSA&quot;</td><td>null</td><td>&quot;4&quot;</td><td>&quot;D&quot;</td><td>1961-06-01</td><td>&quot;Davis Cup EUR R2: FIN vs RSA_1…</td></tr><tr><td>&hellip;</td><td>&hellip;</td><td>&hellip;</td><td>&hellip;</td><td>&hellip;</td><td>&hellip;</td></tr><tr><td>&quot;Wimbledon&quot;</td><td>&quot;Grass&quot;</td><td>&quot;128&quot;</td><td>&quot;G&quot;</td><td>1919-06-23</td><td>&quot;Wimbledon_1919_amatures_atp&quot;</td></tr><tr><td>&quot;Davis Cup EUR R2: SWE vs TCH&quot;</td><td>&quot;Clay&quot;</td><td>&quot;4&quot;</td><td>&quot;D&quot;</td><td>1965-05-14</td><td>&quot;Davis Cup EUR R2: SWE vs TCH_1…</td></tr><tr><td>&quot;Davis Cup SAM SF: CAR vs NZL&quot;</td><td>&quot;Clay&quot;</td><td>&quot;4&quot;</td><td>&quot;D&quot;</td><td>1960-07-16</td><td>&quot;Davis Cup SAM SF: CAR vs NZL_1…</td></tr><tr><td>&quot;Davis Cup WG CR: USA vs ANZ&quot;</td><td>&quot;Grass&quot;</td><td>&quot;4&quot;</td><td>&quot;D&quot;</td><td>1908-11-27</td><td>&quot;Davis Cup WG CR: USA vs ANZ_19…</td></tr><tr><td>&quot;Davis Cup EUR R1: IRL vs ITA&quot;</td><td>&quot;Grass&quot;</td><td>&quot;4&quot;</td><td>&quot;D&quot;</td><td>1938-05-05</td><td>&quot;Davis Cup EUR R1: IRL vs ITA_1…</td></tr></tbody></table></div>"
      ],
      "text/plain": [
       "shape: (1_481, 6)\n",
       "┌──────────────────────┬─────────┬───────────┬───────────────┬──────────────┬──────────────────────┐\n",
       "│ tourney_name         ┆ surface ┆ draw_size ┆ tourney_level ┆ tourney_date ┆ tourney_name_date    │\n",
       "│ ---                  ┆ ---     ┆ ---       ┆ ---           ┆ ---          ┆ ---                  │\n",
       "│ str                  ┆ str     ┆ str       ┆ str           ┆ date         ┆ str                  │\n",
       "╞══════════════════════╪═════════╪═══════════╪═══════════════╪══════════════╪══════════════════════╡\n",
       "│ Wimbledon            ┆ Grass   ┆ 128       ┆ G             ┆ 1964-06-01   ┆ Wimbledon_1964_amatu │\n",
       "│                      ┆         ┆           ┆               ┆              ┆ res_atp              │\n",
       "│ Davis Cup EUR R2:    ┆ null    ┆ 4         ┆ D             ┆ 1964-05-14   ┆ Davis Cup EUR R2:    │\n",
       "│ YUG vs ARG           ┆         ┆           ┆               ┆              ┆ YUG vs ARG_1…        │\n",
       "│ Wimbledon            ┆ Grass   ┆ 128       ┆ G             ┆ 1909-06-01   ┆ Wimbledon_1909_amatu │\n",
       "│                      ┆         ┆           ┆               ┆              ┆ res_atp              │\n",
       "│ Davis Cup EUR R2:    ┆ Grass   ┆ 4         ┆ D             ┆ 1932-05-19   ┆ Davis Cup EUR R2:    │\n",
       "│ IRL vs HUN           ┆         ┆           ┆               ┆              ┆ IRL vs HUN_1…        │\n",
       "│ Davis Cup EUR R2:    ┆ null    ┆ 4         ┆ D             ┆ 1961-06-01   ┆ Davis Cup EUR R2:    │\n",
       "│ FIN vs RSA           ┆         ┆           ┆               ┆              ┆ FIN vs RSA_1…        │\n",
       "│ …                    ┆ …       ┆ …         ┆ …             ┆ …            ┆ …                    │\n",
       "│ Wimbledon            ┆ Grass   ┆ 128       ┆ G             ┆ 1919-06-23   ┆ Wimbledon_1919_amatu │\n",
       "│                      ┆         ┆           ┆               ┆              ┆ res_atp              │\n",
       "│ Davis Cup EUR R2:    ┆ Clay    ┆ 4         ┆ D             ┆ 1965-05-14   ┆ Davis Cup EUR R2:    │\n",
       "│ SWE vs TCH           ┆         ┆           ┆               ┆              ┆ SWE vs TCH_1…        │\n",
       "│ Davis Cup SAM SF:    ┆ Clay    ┆ 4         ┆ D             ┆ 1960-07-16   ┆ Davis Cup SAM SF:    │\n",
       "│ CAR vs NZL           ┆         ┆           ┆               ┆              ┆ CAR vs NZL_1…        │\n",
       "│ Davis Cup WG CR: USA ┆ Grass   ┆ 4         ┆ D             ┆ 1908-11-27   ┆ Davis Cup WG CR: USA │\n",
       "│ vs ANZ               ┆         ┆           ┆               ┆              ┆ vs ANZ_19…           │\n",
       "│ Davis Cup EUR R1:    ┆ Grass   ┆ 4         ┆ D             ┆ 1938-05-05   ┆ Davis Cup EUR R1:    │\n",
       "│ IRL vs ITA           ┆         ┆           ┆               ┆              ┆ IRL vs ITA_1…        │\n",
       "└──────────────────────┴─────────┴───────────┴───────────────┴──────────────┴──────────────────────┘"
      ]
     },
     "execution_count": 18,
     "metadata": {},
     "output_type": "execute_result"
    }
   ],
   "source": [
    "#creazione 'tourney_amateurs_matches_atp' e in seguito unique di 'tourney_name_date'\n",
    "tourney_amateurs_matches_atp=matches_amateurs_atp[['tourney_name', 'surface', 'draw_size', 'tourney_level', 'tourney_date', 'tourney_name_date']]\n",
    "tourney_amateurs_matches_atp=tourney_amateurs_matches_atp.unique('tourney_name_date')\n",
    "tourney_amateurs_matches_atp"
   ]
  },
  {
   "cell_type": "code",
   "execution_count": 19,
   "metadata": {},
   "outputs": [
    {
     "data": {
      "text/html": [
       "<div><style>\n",
       ".dataframe > thead > tr,\n",
       ".dataframe > tbody > tr {\n",
       "  text-align: right;\n",
       "  white-space: pre-wrap;\n",
       "}\n",
       "</style>\n",
       "<small>shape: (193_337, 50)</small><table border=\"1\" class=\"dataframe\"><thead><tr><th>tourney_id</th><th>tourney_name</th><th>surface</th><th>draw_size</th><th>tourney_level</th><th>tourney_date</th><th>match_num</th><th>winner_id</th><th>winner_seed</th><th>winner_entry</th><th>winner_name</th><th>winner_hand</th><th>winner_ht</th><th>winner_ioc</th><th>winner_age</th><th>loser_id</th><th>loser_seed</th><th>loser_entry</th><th>loser_name</th><th>loser_hand</th><th>loser_ht</th><th>loser_ioc</th><th>loser_age</th><th>score</th><th>best_of</th><th>round</th><th>minutes</th><th>w_ace</th><th>w_df</th><th>w_svpt</th><th>w_1stIn</th><th>w_1stWon</th><th>w_2ndWon</th><th>w_SvGms</th><th>w_bpSaved</th><th>w_bpFaced</th><th>l_ace</th><th>l_df</th><th>l_svpt</th><th>l_1stIn</th><th>l_1stWon</th><th>l_2ndWon</th><th>l_SvGms</th><th>l_bpSaved</th><th>l_bpFaced</th><th>winner_rank</th><th>winner_rank_points</th><th>loser_rank</th><th>loser_rank_points</th><th>tourney_name_date</th></tr><tr><td>str</td><td>str</td><td>str</td><td>i64</td><td>str</td><td>date</td><td>i64</td><td>str</td><td>str</td><td>str</td><td>str</td><td>str</td><td>i64</td><td>str</td><td>f64</td><td>str</td><td>str</td><td>str</td><td>str</td><td>str</td><td>i64</td><td>str</td><td>f64</td><td>str</td><td>i64</td><td>str</td><td>str</td><td>str</td><td>str</td><td>str</td><td>str</td><td>str</td><td>str</td><td>str</td><td>str</td><td>str</td><td>str</td><td>str</td><td>str</td><td>str</td><td>str</td><td>str</td><td>str</td><td>str</td><td>str</td><td>str</td><td>str</td><td>str</td><td>str</td><td>str</td></tr></thead><tbody><tr><td>&quot;1968-2029&quot;</td><td>&quot;Dublin&quot;</td><td>&quot;Grass&quot;</td><td>32</td><td>&quot;A&quot;</td><td>1968-07-08</td><td>270</td><td>&quot;112411&quot;</td><td>null</td><td>null</td><td>&quot;Doug Smith&quot;</td><td>&quot;U&quot;</td><td>null</td><td>&quot;AUS&quot;</td><td>null</td><td>&quot;110196&quot;</td><td>null</td><td>null</td><td>&quot;Peter Ledbetter&quot;</td><td>&quot;U&quot;</td><td>null</td><td>&quot;IRL&quot;</td><td>24.0</td><td>&quot;6-1 7-5&quot;</td><td>3</td><td>&quot;R32&quot;</td><td>null</td><td>null</td><td>null</td><td>null</td><td>null</td><td>null</td><td>null</td><td>null</td><td>null</td><td>null</td><td>null</td><td>null</td><td>null</td><td>null</td><td>null</td><td>null</td><td>null</td><td>null</td><td>null</td><td>null</td><td>null</td><td>null</td><td>null</td><td>&quot;Dublin_1968&quot;</td></tr><tr><td>&quot;1968-2029&quot;</td><td>&quot;Dublin&quot;</td><td>&quot;Grass&quot;</td><td>32</td><td>&quot;A&quot;</td><td>1968-07-08</td><td>271</td><td>&quot;126914&quot;</td><td>null</td><td>null</td><td>&quot;Louis Pretorius&quot;</td><td>&quot;R&quot;</td><td>null</td><td>&quot;RSA&quot;</td><td>null</td><td>&quot;209536&quot;</td><td>null</td><td>null</td><td>&quot;Maurice Pollock&quot;</td><td>&quot;U&quot;</td><td>null</td><td>&quot;IRL&quot;</td><td>null</td><td>&quot;6-1 6-1&quot;</td><td>3</td><td>&quot;R32&quot;</td><td>null</td><td>null</td><td>null</td><td>null</td><td>null</td><td>null</td><td>null</td><td>null</td><td>null</td><td>null</td><td>null</td><td>null</td><td>null</td><td>null</td><td>null</td><td>null</td><td>null</td><td>null</td><td>null</td><td>null</td><td>null</td><td>null</td><td>null</td><td>&quot;Dublin_1968&quot;</td></tr><tr><td>&quot;1968-2029&quot;</td><td>&quot;Dublin&quot;</td><td>&quot;Grass&quot;</td><td>32</td><td>&quot;A&quot;</td><td>1968-07-08</td><td>272</td><td>&quot;209523&quot;</td><td>null</td><td>null</td><td>&quot;Cecil Pedlow&quot;</td><td>&quot;U&quot;</td><td>null</td><td>&quot;IRL&quot;</td><td>null</td><td>&quot;209535&quot;</td><td>null</td><td>null</td><td>&quot;John Mulvey&quot;</td><td>&quot;U&quot;</td><td>null</td><td>&quot;IRL&quot;</td><td>null</td><td>&quot;6-2 6-2&quot;</td><td>3</td><td>&quot;R32&quot;</td><td>null</td><td>null</td><td>null</td><td>null</td><td>null</td><td>null</td><td>null</td><td>null</td><td>null</td><td>null</td><td>null</td><td>null</td><td>null</td><td>null</td><td>null</td><td>null</td><td>null</td><td>null</td><td>null</td><td>null</td><td>null</td><td>null</td><td>null</td><td>&quot;Dublin_1968&quot;</td></tr><tr><td>&quot;1968-2029&quot;</td><td>&quot;Dublin&quot;</td><td>&quot;Grass&quot;</td><td>32</td><td>&quot;A&quot;</td><td>1968-07-08</td><td>273</td><td>&quot;100084&quot;</td><td>null</td><td>null</td><td>&quot;Tom Okker&quot;</td><td>&quot;R&quot;</td><td>178</td><td>&quot;NED&quot;</td><td>24.3</td><td>&quot;209534&quot;</td><td>null</td><td>null</td><td>&quot;Unknown Fearmon&quot;</td><td>&quot;U&quot;</td><td>null</td><td>null</td><td>null</td><td>&quot;6-1 6-1&quot;</td><td>3</td><td>&quot;R32&quot;</td><td>null</td><td>null</td><td>null</td><td>null</td><td>null</td><td>null</td><td>null</td><td>null</td><td>null</td><td>null</td><td>null</td><td>null</td><td>null</td><td>null</td><td>null</td><td>null</td><td>null</td><td>null</td><td>null</td><td>null</td><td>null</td><td>null</td><td>null</td><td>&quot;Dublin_1968&quot;</td></tr><tr><td>&quot;1968-2029&quot;</td><td>&quot;Dublin&quot;</td><td>&quot;Grass&quot;</td><td>32</td><td>&quot;A&quot;</td><td>1968-07-08</td><td>274</td><td>&quot;100132&quot;</td><td>null</td><td>null</td><td>&quot;Armistead Neely&quot;</td><td>&quot;R&quot;</td><td>null</td><td>&quot;USA&quot;</td><td>21.3</td><td>&quot;209533&quot;</td><td>null</td><td>null</td><td>&quot;Harry Sheridan&quot;</td><td>&quot;U&quot;</td><td>null</td><td>&quot;IRL&quot;</td><td>null</td><td>&quot;6-2 6-4&quot;</td><td>3</td><td>&quot;R32&quot;</td><td>null</td><td>null</td><td>null</td><td>null</td><td>null</td><td>null</td><td>null</td><td>null</td><td>null</td><td>null</td><td>null</td><td>null</td><td>null</td><td>null</td><td>null</td><td>null</td><td>null</td><td>null</td><td>null</td><td>null</td><td>null</td><td>null</td><td>null</td><td>&quot;Dublin_1968&quot;</td></tr><tr><td>&hellip;</td><td>&hellip;</td><td>&hellip;</td><td>&hellip;</td><td>&hellip;</td><td>&hellip;</td><td>&hellip;</td><td>&hellip;</td><td>&hellip;</td><td>&hellip;</td><td>&hellip;</td><td>&hellip;</td><td>&hellip;</td><td>&hellip;</td><td>&hellip;</td><td>&hellip;</td><td>&hellip;</td><td>&hellip;</td><td>&hellip;</td><td>&hellip;</td><td>&hellip;</td><td>&hellip;</td><td>&hellip;</td><td>&hellip;</td><td>&hellip;</td><td>&hellip;</td><td>&hellip;</td><td>&hellip;</td><td>&hellip;</td><td>&hellip;</td><td>&hellip;</td><td>&hellip;</td><td>&hellip;</td><td>&hellip;</td><td>&hellip;</td><td>&hellip;</td><td>&hellip;</td><td>&hellip;</td><td>&hellip;</td><td>&hellip;</td><td>&hellip;</td><td>&hellip;</td><td>&hellip;</td><td>&hellip;</td><td>&hellip;</td><td>&hellip;</td><td>&hellip;</td><td>&hellip;</td><td>&hellip;</td><td>&hellip;</td></tr><tr><td>&quot;2024-M-DC-2024-WG2-PO-URU-MDA-…</td><td>&quot;Davis Cup WG2 PO: URU vs MDA&quot;</td><td>&quot;Clay&quot;</td><td>4</td><td>&quot;D&quot;</td><td>2024-02-03</td><td>5</td><td>&quot;212051&quot;</td><td>null</td><td>null</td><td>&quot;Joaquin&nbsp;&nbsp;Aguilar Cardozo &quot;</td><td>&quot;U&quot;</td><td>null</td><td>&quot;URU&quot;</td><td>18.8</td><td>&quot;209943&quot;</td><td>null</td><td>null</td><td>&quot;Ilya Snitari&quot;</td><td>&quot;U&quot;</td><td>null</td><td>&quot;MDA&quot;</td><td>21.8</td><td>&quot;6-1 6-0&quot;</td><td>3</td><td>&quot;RR&quot;</td><td>&quot;77&quot;</td><td>&quot;0&quot;</td><td>&quot;0&quot;</td><td>&quot;36&quot;</td><td>&quot;22&quot;</td><td>&quot;15&quot;</td><td>&quot;10&quot;</td><td>&quot;7&quot;</td><td>&quot;1&quot;</td><td>&quot;1&quot;</td><td>&quot;1&quot;</td><td>&quot;1&quot;</td><td>&quot;61&quot;</td><td>&quot;30&quot;</td><td>&quot;17&quot;</td><td>&quot;7&quot;</td><td>&quot;6&quot;</td><td>&quot;8&quot;</td><td>&quot;14&quot;</td><td>&quot;1109&quot;</td><td>&quot;8&quot;</td><td>&quot;740&quot;</td><td>&quot;34&quot;</td><td>&quot;Davis Cup WG2 PO: URU vs MDA_2…</td></tr><tr><td>&quot;2024-M-DC-2024-WG2-PO-VIE-RSA-…</td><td>&quot;Davis Cup WG2 PO: VIE vs RSA&quot;</td><td>&quot;Hard&quot;</td><td>4</td><td>&quot;D&quot;</td><td>2024-02-02</td><td>1</td><td>&quot;122533&quot;</td><td>null</td><td>null</td><td>&quot;Nam Hoang Ly&quot;</td><td>&quot;R&quot;</td><td>null</td><td>&quot;VIE&quot;</td><td>26.9</td><td>&quot;202475&quot;</td><td>null</td><td>null</td><td>&quot;Philip Henning&quot;</td><td>&quot;R&quot;</td><td>null</td><td>&quot;RSA&quot;</td><td>23.2</td><td>&quot;6-3 6-4&quot;</td><td>3</td><td>&quot;RR&quot;</td><td>&quot;131&quot;</td><td>&quot;1&quot;</td><td>&quot;1&quot;</td><td>&quot;86&quot;</td><td>&quot;60&quot;</td><td>&quot;40&quot;</td><td>&quot;13&quot;</td><td>&quot;10&quot;</td><td>&quot;8&quot;</td><td>&quot;9&quot;</td><td>&quot;2&quot;</td><td>&quot;1&quot;</td><td>&quot;56&quot;</td><td>&quot;41&quot;</td><td>&quot;25&quot;</td><td>&quot;6&quot;</td><td>&quot;9&quot;</td><td>&quot;1&quot;</td><td>&quot;4&quot;</td><td>&quot;554&quot;</td><td>&quot;67&quot;</td><td>&quot;748&quot;</td><td>&quot;32&quot;</td><td>&quot;Davis Cup WG2 PO: VIE vs RSA_2…</td></tr><tr><td>&quot;2024-M-DC-2024-WG2-PO-VIE-RSA-…</td><td>&quot;Davis Cup WG2 PO: VIE vs RSA&quot;</td><td>&quot;Hard&quot;</td><td>4</td><td>&quot;D&quot;</td><td>2024-02-02</td><td>2</td><td>&quot;144748&quot;</td><td>null</td><td>null</td><td>&quot;Kris Van Wyk&quot;</td><td>&quot;U&quot;</td><td>null</td><td>&quot;RSA&quot;</td><td>27.3</td><td>&quot;144775&quot;</td><td>null</td><td>null</td><td>&quot;Linh Giang Trinh&quot;</td><td>&quot;R&quot;</td><td>183</td><td>&quot;VIE&quot;</td><td>26.4</td><td>&quot;4-6 6-3 4-0&quot;</td><td>3</td><td>&quot;RR&quot;</td><td>&quot;131&quot;</td><td>&quot;4&quot;</td><td>&quot;2&quot;</td><td>&quot;76&quot;</td><td>&quot;46&quot;</td><td>&quot;32&quot;</td><td>&quot;10&quot;</td><td>&quot;12&quot;</td><td>&quot;6&quot;</td><td>&quot;11&quot;</td><td>&quot;0&quot;</td><td>&quot;2&quot;</td><td>&quot;71&quot;</td><td>&quot;51&quot;</td><td>&quot;25&quot;</td><td>&quot;7&quot;</td><td>&quot;11&quot;</td><td>&quot;5&quot;</td><td>&quot;12&quot;</td><td>&quot;416&quot;</td><td>&quot;109&quot;</td><td>null</td><td>null</td><td>&quot;Davis Cup WG2 PO: VIE vs RSA_2…</td></tr><tr><td>&quot;2024-M-DC-2024-WG2-PO-VIE-RSA-…</td><td>&quot;Davis Cup WG2 PO: VIE vs RSA&quot;</td><td>&quot;Hard&quot;</td><td>4</td><td>&quot;D&quot;</td><td>2024-02-02</td><td>4</td><td>&quot;122533&quot;</td><td>null</td><td>null</td><td>&quot;Nam Hoang Ly&quot;</td><td>&quot;R&quot;</td><td>null</td><td>&quot;VIE&quot;</td><td>26.9</td><td>&quot;144748&quot;</td><td>null</td><td>null</td><td>&quot;Kris Van Wyk&quot;</td><td>&quot;U&quot;</td><td>null</td><td>&quot;RSA&quot;</td><td>27.3</td><td>&quot;6-4 3-6 6-3&quot;</td><td>3</td><td>&quot;RR&quot;</td><td>&quot;159&quot;</td><td>&quot;0&quot;</td><td>&quot;1&quot;</td><td>&quot;84&quot;</td><td>&quot;61&quot;</td><td>&quot;41&quot;</td><td>&quot;13&quot;</td><td>&quot;14&quot;</td><td>&quot;2&quot;</td><td>&quot;5&quot;</td><td>&quot;5&quot;</td><td>&quot;3&quot;</td><td>&quot;86&quot;</td><td>&quot;51&quot;</td><td>&quot;32&quot;</td><td>&quot;17&quot;</td><td>&quot;14&quot;</td><td>&quot;5&quot;</td><td>&quot;9&quot;</td><td>&quot;554&quot;</td><td>&quot;67&quot;</td><td>&quot;416&quot;</td><td>&quot;109&quot;</td><td>&quot;Davis Cup WG2 PO: VIE vs RSA_2…</td></tr><tr><td>&quot;2024-M-DC-2024-WG2-PO-VIE-RSA-…</td><td>&quot;Davis Cup WG2 PO: VIE vs RSA&quot;</td><td>&quot;Hard&quot;</td><td>4</td><td>&quot;D&quot;</td><td>2024-02-02</td><td>5</td><td>&quot;202475&quot;</td><td>null</td><td>null</td><td>&quot;Philip Henning&quot;</td><td>&quot;R&quot;</td><td>null</td><td>&quot;RSA&quot;</td><td>23.2</td><td>&quot;144775&quot;</td><td>null</td><td>null</td><td>&quot;Linh Giang Trinh&quot;</td><td>&quot;R&quot;</td><td>183</td><td>&quot;VIE&quot;</td><td>26.4</td><td>&quot;6-2 6-2&quot;</td><td>3</td><td>&quot;RR&quot;</td><td>&quot;101&quot;</td><td>&quot;1&quot;</td><td>&quot;0&quot;</td><td>&quot;47&quot;</td><td>&quot;28&quot;</td><td>&quot;21&quot;</td><td>&quot;11&quot;</td><td>&quot;8&quot;</td><td>&quot;0&quot;</td><td>&quot;1&quot;</td><td>&quot;0&quot;</td><td>&quot;0&quot;</td><td>&quot;71&quot;</td><td>&quot;53&quot;</td><td>&quot;25&quot;</td><td>&quot;8&quot;</td><td>&quot;8&quot;</td><td>&quot;9&quot;</td><td>&quot;14&quot;</td><td>&quot;748&quot;</td><td>&quot;32&quot;</td><td>null</td><td>null</td><td>&quot;Davis Cup WG2 PO: VIE vs RSA_2…</td></tr></tbody></table></div>"
      ],
      "text/plain": [
       "shape: (193_337, 50)\n",
       "┌────────────┬───────────┬─────────┬───────────┬───┬───────────┬───────────┬───────────┬───────────┐\n",
       "│ tourney_id ┆ tourney_n ┆ surface ┆ draw_size ┆ … ┆ winner_ra ┆ loser_ran ┆ loser_ran ┆ tourney_n │\n",
       "│ ---        ┆ ame       ┆ ---     ┆ ---       ┆   ┆ nk_points ┆ k         ┆ k_points  ┆ ame_date  │\n",
       "│ str        ┆ ---       ┆ str     ┆ i64       ┆   ┆ ---       ┆ ---       ┆ ---       ┆ ---       │\n",
       "│            ┆ str       ┆         ┆           ┆   ┆ str       ┆ str       ┆ str       ┆ str       │\n",
       "╞════════════╪═══════════╪═════════╪═══════════╪═══╪═══════════╪═══════════╪═══════════╪═══════════╡\n",
       "│ 1968-2029  ┆ Dublin    ┆ Grass   ┆ 32        ┆ … ┆ null      ┆ null      ┆ null      ┆ Dublin_19 │\n",
       "│            ┆           ┆         ┆           ┆   ┆           ┆           ┆           ┆ 68        │\n",
       "│ 1968-2029  ┆ Dublin    ┆ Grass   ┆ 32        ┆ … ┆ null      ┆ null      ┆ null      ┆ Dublin_19 │\n",
       "│            ┆           ┆         ┆           ┆   ┆           ┆           ┆           ┆ 68        │\n",
       "│ 1968-2029  ┆ Dublin    ┆ Grass   ┆ 32        ┆ … ┆ null      ┆ null      ┆ null      ┆ Dublin_19 │\n",
       "│            ┆           ┆         ┆           ┆   ┆           ┆           ┆           ┆ 68        │\n",
       "│ 1968-2029  ┆ Dublin    ┆ Grass   ┆ 32        ┆ … ┆ null      ┆ null      ┆ null      ┆ Dublin_19 │\n",
       "│            ┆           ┆         ┆           ┆   ┆           ┆           ┆           ┆ 68        │\n",
       "│ 1968-2029  ┆ Dublin    ┆ Grass   ┆ 32        ┆ … ┆ null      ┆ null      ┆ null      ┆ Dublin_19 │\n",
       "│            ┆           ┆         ┆           ┆   ┆           ┆           ┆           ┆ 68        │\n",
       "│ …          ┆ …         ┆ …       ┆ …         ┆ … ┆ …         ┆ …         ┆ …         ┆ …         │\n",
       "│ 2024-M-DC- ┆ Davis Cup ┆ Clay    ┆ 4         ┆ … ┆ 8         ┆ 740       ┆ 34        ┆ Davis Cup │\n",
       "│ 2024-WG2-P ┆ WG2 PO:   ┆         ┆           ┆   ┆           ┆           ┆           ┆ WG2 PO:   │\n",
       "│ O-URU-MDA- ┆ URU vs    ┆         ┆           ┆   ┆           ┆           ┆           ┆ URU vs    │\n",
       "│ …          ┆ MDA       ┆         ┆           ┆   ┆           ┆           ┆           ┆ MDA_2…    │\n",
       "│ 2024-M-DC- ┆ Davis Cup ┆ Hard    ┆ 4         ┆ … ┆ 67        ┆ 748       ┆ 32        ┆ Davis Cup │\n",
       "│ 2024-WG2-P ┆ WG2 PO:   ┆         ┆           ┆   ┆           ┆           ┆           ┆ WG2 PO:   │\n",
       "│ O-VIE-RSA- ┆ VIE vs    ┆         ┆           ┆   ┆           ┆           ┆           ┆ VIE vs    │\n",
       "│ …          ┆ RSA       ┆         ┆           ┆   ┆           ┆           ┆           ┆ RSA_2…    │\n",
       "│ 2024-M-DC- ┆ Davis Cup ┆ Hard    ┆ 4         ┆ … ┆ 109       ┆ null      ┆ null      ┆ Davis Cup │\n",
       "│ 2024-WG2-P ┆ WG2 PO:   ┆         ┆           ┆   ┆           ┆           ┆           ┆ WG2 PO:   │\n",
       "│ O-VIE-RSA- ┆ VIE vs    ┆         ┆           ┆   ┆           ┆           ┆           ┆ VIE vs    │\n",
       "│ …          ┆ RSA       ┆         ┆           ┆   ┆           ┆           ┆           ┆ RSA_2…    │\n",
       "│ 2024-M-DC- ┆ Davis Cup ┆ Hard    ┆ 4         ┆ … ┆ 67        ┆ 416       ┆ 109       ┆ Davis Cup │\n",
       "│ 2024-WG2-P ┆ WG2 PO:   ┆         ┆           ┆   ┆           ┆           ┆           ┆ WG2 PO:   │\n",
       "│ O-VIE-RSA- ┆ VIE vs    ┆         ┆           ┆   ┆           ┆           ┆           ┆ VIE vs    │\n",
       "│ …          ┆ RSA       ┆         ┆           ┆   ┆           ┆           ┆           ┆ RSA_2…    │\n",
       "│ 2024-M-DC- ┆ Davis Cup ┆ Hard    ┆ 4         ┆ … ┆ 32        ┆ null      ┆ null      ┆ Davis Cup │\n",
       "│ 2024-WG2-P ┆ WG2 PO:   ┆         ┆           ┆   ┆           ┆           ┆           ┆ WG2 PO:   │\n",
       "│ O-VIE-RSA- ┆ VIE vs    ┆         ┆           ┆   ┆           ┆           ┆           ┆ VIE vs    │\n",
       "│ …          ┆ RSA       ┆         ┆           ┆   ┆           ┆           ┆           ┆ RSA_2…    │\n",
       "└────────────┴───────────┴─────────┴───────────┴───┴───────────┴───────────┴───────────┴───────────┘"
      ]
     },
     "execution_count": 19,
     "metadata": {},
     "output_type": "execute_result"
    }
   ],
   "source": [
    "matches_singles_atp=import_tennis_matches(data_type=\"singles\",gender=\"atp\")\n",
    "\n",
    "matches_singles_atp = matches_singles_atp.with_columns(\n",
    "    (pl.col(\"tourney_name\") + \"_\" + pl.col(\"tourney_date\").dt.year().cast(pl.Utf8)).alias(\"tourney_name_date\")\n",
    ")\n",
    "matches_singles_atp"
   ]
  },
  {
   "cell_type": "code",
   "execution_count": 20,
   "metadata": {},
   "outputs": [
    {
     "data": {
      "text/html": [
       "<div><style>\n",
       ".dataframe > thead > tr,\n",
       ".dataframe > tbody > tr {\n",
       "  text-align: right;\n",
       "  white-space: pre-wrap;\n",
       "}\n",
       "</style>\n",
       "<small>shape: (8_316, 6)</small><table border=\"1\" class=\"dataframe\"><thead><tr><th>tourney_name</th><th>surface</th><th>draw_size</th><th>tourney_level</th><th>tourney_date</th><th>tourney_name_date</th></tr><tr><td>str</td><td>str</td><td>i64</td><td>str</td><td>date</td><td>str</td></tr></thead><tbody><tr><td>&quot;Roland Garros&quot;</td><td>&quot;Clay&quot;</td><td>128</td><td>&quot;G&quot;</td><td>1977-05-23</td><td>&quot;Roland Garros_1977&quot;</td></tr><tr><td>&quot;Davis Cup G2 R1: ZIM vs BIH&quot;</td><td>&quot;Hard&quot;</td><td>4</td><td>&quot;D&quot;</td><td>2015-03-06</td><td>&quot;Davis Cup G2 R1: ZIM vs BIH_20…</td></tr><tr><td>&quot;Davis Cup SAM F: ARG vs CHI&quot;</td><td>&quot;Clay&quot;</td><td>4</td><td>&quot;D&quot;</td><td>1979-03-16</td><td>&quot;Davis Cup SAM F: ARG vs CHI_19…</td></tr><tr><td>&quot;Basel&quot;</td><td>&quot;Hard&quot;</td><td>32</td><td>&quot;A&quot;</td><td>1995-09-25</td><td>&quot;Basel_1995&quot;</td></tr><tr><td>&quot;Davis Cup EUR R1: BUL vs TUR&quot;</td><td>null</td><td>4</td><td>&quot;D&quot;</td><td>1968-05-03</td><td>&quot;Davis Cup EUR R1: BUL vs TUR_1…</td></tr><tr><td>&hellip;</td><td>&hellip;</td><td>&hellip;</td><td>&hellip;</td><td>&hellip;</td><td>&hellip;</td></tr><tr><td>&quot;Davis Cup G1 QF: HKG vs JPN&quot;</td><td>&quot;Hard&quot;</td><td>4</td><td>&quot;D&quot;</td><td>1993-03-26</td><td>&quot;Davis Cup G1 QF: HKG vs JPN_19…</td></tr><tr><td>&quot;Davis Cup G2 R1: TUN vs LAT&quot;</td><td>&quot;Hard&quot;</td><td>4</td><td>&quot;D&quot;</td><td>2013-02-01</td><td>&quot;Davis Cup G2 R1: TUN vs LAT_20…</td></tr><tr><td>&quot;Adelaide&quot;</td><td>&quot;Grass&quot;</td><td>64</td><td>&quot;A&quot;</td><td>1977-12-05</td><td>&quot;Adelaide_1977&quot;</td></tr><tr><td>&quot;Australian Open&quot;</td><td>&quot;Grass&quot;</td><td>96</td><td>&quot;G&quot;</td><td>1984-11-26</td><td>&quot;Australian Open_1984&quot;</td></tr><tr><td>&quot;San Jose&quot;</td><td>&quot;Hard&quot;</td><td>32</td><td>&quot;A&quot;</td><td>1997-02-10</td><td>&quot;San Jose_1997&quot;</td></tr></tbody></table></div>"
      ],
      "text/plain": [
       "shape: (8_316, 6)\n",
       "┌──────────────────────┬─────────┬───────────┬───────────────┬──────────────┬──────────────────────┐\n",
       "│ tourney_name         ┆ surface ┆ draw_size ┆ tourney_level ┆ tourney_date ┆ tourney_name_date    │\n",
       "│ ---                  ┆ ---     ┆ ---       ┆ ---           ┆ ---          ┆ ---                  │\n",
       "│ str                  ┆ str     ┆ i64       ┆ str           ┆ date         ┆ str                  │\n",
       "╞══════════════════════╪═════════╪═══════════╪═══════════════╪══════════════╪══════════════════════╡\n",
       "│ Roland Garros        ┆ Clay    ┆ 128       ┆ G             ┆ 1977-05-23   ┆ Roland Garros_1977   │\n",
       "│ Davis Cup G2 R1: ZIM ┆ Hard    ┆ 4         ┆ D             ┆ 2015-03-06   ┆ Davis Cup G2 R1: ZIM │\n",
       "│ vs BIH               ┆         ┆           ┆               ┆              ┆ vs BIH_20…           │\n",
       "│ Davis Cup SAM F: ARG ┆ Clay    ┆ 4         ┆ D             ┆ 1979-03-16   ┆ Davis Cup SAM F: ARG │\n",
       "│ vs CHI               ┆         ┆           ┆               ┆              ┆ vs CHI_19…           │\n",
       "│ Basel                ┆ Hard    ┆ 32        ┆ A             ┆ 1995-09-25   ┆ Basel_1995           │\n",
       "│ Davis Cup EUR R1:    ┆ null    ┆ 4         ┆ D             ┆ 1968-05-03   ┆ Davis Cup EUR R1:    │\n",
       "│ BUL vs TUR           ┆         ┆           ┆               ┆              ┆ BUL vs TUR_1…        │\n",
       "│ …                    ┆ …       ┆ …         ┆ …             ┆ …            ┆ …                    │\n",
       "│ Davis Cup G1 QF: HKG ┆ Hard    ┆ 4         ┆ D             ┆ 1993-03-26   ┆ Davis Cup G1 QF: HKG │\n",
       "│ vs JPN               ┆         ┆           ┆               ┆              ┆ vs JPN_19…           │\n",
       "│ Davis Cup G2 R1: TUN ┆ Hard    ┆ 4         ┆ D             ┆ 2013-02-01   ┆ Davis Cup G2 R1: TUN │\n",
       "│ vs LAT               ┆         ┆           ┆               ┆              ┆ vs LAT_20…           │\n",
       "│ Adelaide             ┆ Grass   ┆ 64        ┆ A             ┆ 1977-12-05   ┆ Adelaide_1977        │\n",
       "│ Australian Open      ┆ Grass   ┆ 96        ┆ G             ┆ 1984-11-26   ┆ Australian Open_1984 │\n",
       "│ San Jose             ┆ Hard    ┆ 32        ┆ A             ┆ 1997-02-10   ┆ San Jose_1997        │\n",
       "└──────────────────────┴─────────┴───────────┴───────────────┴──────────────┴──────────────────────┘"
      ]
     },
     "execution_count": 20,
     "metadata": {},
     "output_type": "execute_result"
    }
   ],
   "source": [
    "tourney_single_matches_atp=matches_singles_atp[['tourney_name', 'surface', 'draw_size', 'tourney_level', 'tourney_date', 'tourney_name_date']]\n",
    "tourney_single_matches_atp=tourney_single_matches_atp.unique('tourney_name_date')\n",
    "tourney_single_matches_atp"
   ]
  },
  {
   "cell_type": "code",
   "execution_count": 21,
   "metadata": {},
   "outputs": [
    {
     "data": {
      "text/html": [
       "<div><style>\n",
       ".dataframe > thead > tr,\n",
       ".dataframe > tbody > tr {\n",
       "  text-align: right;\n",
       "  white-space: pre-wrap;\n",
       "}\n",
       "</style>\n",
       "<small>shape: (156_578, 50)</small><table border=\"1\" class=\"dataframe\"><thead><tr><th>tourney_id</th><th>tourney_name</th><th>surface</th><th>draw_size</th><th>tourney_level</th><th>tourney_date</th><th>match_num</th><th>winner_id</th><th>winner_seed</th><th>winner_entry</th><th>winner_name</th><th>winner_hand</th><th>winner_ht</th><th>winner_ioc</th><th>winner_age</th><th>loser_id</th><th>loser_seed</th><th>loser_entry</th><th>loser_name</th><th>loser_hand</th><th>loser_ht</th><th>loser_ioc</th><th>loser_age</th><th>score</th><th>best_of</th><th>round</th><th>minutes</th><th>w_ace</th><th>w_df</th><th>w_svpt</th><th>w_1stIn</th><th>w_1stWon</th><th>w_2ndWon</th><th>w_SvGms</th><th>w_bpSaved</th><th>w_bpFaced</th><th>l_ace</th><th>l_df</th><th>l_svpt</th><th>l_1stIn</th><th>l_1stWon</th><th>l_2ndWon</th><th>l_SvGms</th><th>l_bpSaved</th><th>l_bpFaced</th><th>winner_rank</th><th>winner_rank_points</th><th>loser_rank</th><th>loser_rank_points</th><th>tourney_name_date</th></tr><tr><td>str</td><td>str</td><td>str</td><td>str</td><td>str</td><td>date</td><td>i64</td><td>str</td><td>str</td><td>str</td><td>str</td><td>str</td><td>i64</td><td>str</td><td>f64</td><td>str</td><td>str</td><td>str</td><td>str</td><td>str</td><td>i64</td><td>str</td><td>f64</td><td>str</td><td>i64</td><td>str</td><td>str</td><td>str</td><td>str</td><td>str</td><td>str</td><td>str</td><td>str</td><td>str</td><td>str</td><td>str</td><td>str</td><td>str</td><td>str</td><td>str</td><td>str</td><td>str</td><td>str</td><td>str</td><td>str</td><td>str</td><td>str</td><td>str</td><td>str</td><td>str</td></tr></thead><tbody><tr><td>&quot;1968-W-OL-MEX-01A-1968&quot;</td><td>&quot;Guadalajara Olympics Demo&quot;</td><td>&quot;Clay&quot;</td><td>&quot;13&quot;</td><td>&quot;O&quot;</td><td>1968-10-14</td><td>1</td><td>&quot;200781&quot;</td><td>null</td><td>null</td><td>&quot;Edda Buding&quot;</td><td>&quot;R&quot;</td><td>null</td><td>&quot;FRG&quot;</td><td>31.9</td><td>&quot;200795&quot;</td><td>null</td><td>null</td><td>&quot;Patricia Montano&quot;</td><td>&quot;U&quot;</td><td>null</td><td>&quot;MEX&quot;</td><td>16.1</td><td>&quot;7-5 2-6 6-4&quot;</td><td>3</td><td>&quot;R16&quot;</td><td>null</td><td>null</td><td>null</td><td>null</td><td>null</td><td>null</td><td>null</td><td>null</td><td>null</td><td>null</td><td>null</td><td>null</td><td>null</td><td>null</td><td>null</td><td>null</td><td>null</td><td>null</td><td>null</td><td>null</td><td>null</td><td>null</td><td>null</td><td>&quot;Guadalajara Olympics Demo_1968&quot;</td></tr><tr><td>&quot;1968-W-OL-MEX-01A-1968&quot;</td><td>&quot;Guadalajara Olympics Demo&quot;</td><td>&quot;Clay&quot;</td><td>&quot;13&quot;</td><td>&quot;O&quot;</td><td>1968-10-14</td><td>2</td><td>&quot;202512&quot;</td><td>null</td><td>null</td><td>&quot;Lucia Gongora&quot;</td><td>&quot;U&quot;</td><td>null</td><td>&quot;MEX&quot;</td><td>21.9</td><td>&quot;200862&quot;</td><td>null</td><td>null</td><td>&quot;Valerie Ziegenfuss&quot;</td><td>&quot;R&quot;</td><td>173</td><td>&quot;USA&quot;</td><td>19.2</td><td>&quot;6-1 6-2&quot;</td><td>3</td><td>&quot;R16&quot;</td><td>null</td><td>null</td><td>null</td><td>null</td><td>null</td><td>null</td><td>null</td><td>null</td><td>null</td><td>null</td><td>null</td><td>null</td><td>null</td><td>null</td><td>null</td><td>null</td><td>null</td><td>null</td><td>null</td><td>null</td><td>null</td><td>null</td><td>null</td><td>&quot;Guadalajara Olympics Demo_1968&quot;</td></tr><tr><td>&quot;1968-W-OL-MEX-01A-1968&quot;</td><td>&quot;Guadalajara Olympics Demo&quot;</td><td>&quot;Clay&quot;</td><td>&quot;13&quot;</td><td>&quot;O&quot;</td><td>1968-10-14</td><td>3</td><td>&quot;200869&quot;</td><td>null</td><td>null</td><td>&quot;Maria Eugenia Guzman&quot;</td><td>&quot;U&quot;</td><td>null</td><td>&quot;ECU&quot;</td><td>23.0</td><td>&quot;200863&quot;</td><td>null</td><td>null</td><td>&quot;Zaiga Yansone&quot;</td><td>&quot;U&quot;</td><td>null</td><td>&quot;URS&quot;</td><td>17.7</td><td>&quot;6-2 6-2&quot;</td><td>3</td><td>&quot;R16&quot;</td><td>null</td><td>null</td><td>null</td><td>null</td><td>null</td><td>null</td><td>null</td><td>null</td><td>null</td><td>null</td><td>null</td><td>null</td><td>null</td><td>null</td><td>null</td><td>null</td><td>null</td><td>null</td><td>null</td><td>null</td><td>null</td><td>null</td><td>null</td><td>&quot;Guadalajara Olympics Demo_1968&quot;</td></tr><tr><td>&quot;1968-W-OL-MEX-01A-1968&quot;</td><td>&quot;Guadalajara Olympics Demo&quot;</td><td>&quot;Clay&quot;</td><td>&quot;13&quot;</td><td>&quot;O&quot;</td><td>1968-10-14</td><td>4</td><td>&quot;200274&quot;</td><td>null</td><td>null</td><td>&quot;Julie Heldman&quot;</td><td>&quot;R&quot;</td><td>170</td><td>&quot;USA&quot;</td><td>22.8</td><td>&quot;200834&quot;</td><td>null</td><td>null</td><td>&quot;Suzana Gesteira&quot;</td><td>&quot;U&quot;</td><td>null</td><td>&quot;BRA&quot;</td><td>21.0</td><td>&quot;6-1 6-2&quot;</td><td>3</td><td>&quot;R16&quot;</td><td>null</td><td>null</td><td>null</td><td>null</td><td>null</td><td>null</td><td>null</td><td>null</td><td>null</td><td>null</td><td>null</td><td>null</td><td>null</td><td>null</td><td>null</td><td>null</td><td>null</td><td>null</td><td>null</td><td>null</td><td>null</td><td>null</td><td>null</td><td>&quot;Guadalajara Olympics Demo_1968&quot;</td></tr><tr><td>&quot;1968-W-OL-MEX-01A-1968&quot;</td><td>&quot;Guadalajara Olympics Demo&quot;</td><td>&quot;Clay&quot;</td><td>&quot;13&quot;</td><td>&quot;O&quot;</td><td>1968-10-14</td><td>5</td><td>&quot;200791&quot;</td><td>null</td><td>null</td><td>&quot;Rosie Reyes&quot;</td><td>&quot;R&quot;</td><td>null</td><td>&quot;FRA&quot;</td><td>29.5</td><td>&quot;202513&quot;</td><td>null</td><td>null</td><td>&quot;Ana Maria Ycaza&quot;</td><td>&quot;U&quot;</td><td>null</td><td>&quot;ECU&quot;</td><td>17.4</td><td>&quot;6-1 6-1&quot;</td><td>3</td><td>&quot;R16&quot;</td><td>null</td><td>null</td><td>null</td><td>null</td><td>null</td><td>null</td><td>null</td><td>null</td><td>null</td><td>null</td><td>null</td><td>null</td><td>null</td><td>null</td><td>null</td><td>null</td><td>null</td><td>null</td><td>null</td><td>null</td><td>null</td><td>null</td><td>null</td><td>&quot;Guadalajara Olympics Demo_1968&quot;</td></tr><tr><td>&hellip;</td><td>&hellip;</td><td>&hellip;</td><td>&hellip;</td><td>&hellip;</td><td>&hellip;</td><td>&hellip;</td><td>&hellip;</td><td>&hellip;</td><td>&hellip;</td><td>&hellip;</td><td>&hellip;</td><td>&hellip;</td><td>&hellip;</td><td>&hellip;</td><td>&hellip;</td><td>&hellip;</td><td>&hellip;</td><td>&hellip;</td><td>&hellip;</td><td>&hellip;</td><td>&hellip;</td><td>&hellip;</td><td>&hellip;</td><td>&hellip;</td><td>&hellip;</td><td>&hellip;</td><td>&hellip;</td><td>&hellip;</td><td>&hellip;</td><td>&hellip;</td><td>&hellip;</td><td>&hellip;</td><td>&hellip;</td><td>&hellip;</td><td>&hellip;</td><td>&hellip;</td><td>&hellip;</td><td>&hellip;</td><td>&hellip;</td><td>&hellip;</td><td>&hellip;</td><td>&hellip;</td><td>&hellip;</td><td>&hellip;</td><td>&hellip;</td><td>&hellip;</td><td>&hellip;</td><td>&hellip;</td><td>&hellip;</td></tr><tr><td>&quot;2024-W-FC-2024-QUA&quot;</td><td>&quot;BJK Cup Qualifiers&quot;</td><td>null</td><td>&quot;48&quot;</td><td>&quot;D&quot;</td><td>2024-04-12</td><td>123</td><td>&quot;223194&quot;</td><td>null</td><td>null</td><td>&quot;Taylah Preston&quot;</td><td>&quot;R&quot;</td><td>null</td><td>&quot;AUS&quot;</td><td>18.4</td><td>&quot;204420&quot;</td><td>null</td><td>null</td><td>&quot;Marcela Zacarias&quot;</td><td>&quot;R&quot;</td><td>null</td><td>&quot;MEX&quot;</td><td>30.0</td><td>&quot;6-1 6-1&quot;</td><td>3</td><td>&quot;RR&quot;</td><td>null</td><td>&quot;3&quot;</td><td>&quot;0&quot;</td><td>&quot;49&quot;</td><td>&quot;37&quot;</td><td>&quot;26&quot;</td><td>&quot;5&quot;</td><td>&quot;7&quot;</td><td>&quot;3&quot;</td><td>&quot;4&quot;</td><td>&quot;0&quot;</td><td>&quot;4&quot;</td><td>&quot;44&quot;</td><td>&quot;33&quot;</td><td>&quot;13&quot;</td><td>&quot;3&quot;</td><td>&quot;7&quot;</td><td>&quot;4&quot;</td><td>&quot;10&quot;</td><td>&quot;136&quot;</td><td>&quot;545&quot;</td><td>&quot;562&quot;</td><td>&quot;83&quot;</td><td>&quot;BJK Cup Qualifiers_2024&quot;</td></tr><tr><td>&quot;2024-W-FC-2024-QUA&quot;</td><td>&quot;BJK Cup Qualifiers&quot;</td><td>null</td><td>&quot;48&quot;</td><td>&quot;D&quot;</td><td>2024-04-12</td><td>124</td><td>&quot;211702&quot;</td><td>null</td><td>null</td><td>&quot;Nao Hibino&quot;</td><td>&quot;R&quot;</td><td>163</td><td>&quot;JPN&quot;</td><td>29.3</td><td>&quot;201709&quot;</td><td>null</td><td>null</td><td>&quot;Yulia Putintseva&quot;</td><td>&quot;R&quot;</td><td>163</td><td>&quot;KAZ&quot;</td><td>29.2</td><td>&quot;6-4 3-6 7-6(7)&quot;</td><td>3</td><td>&quot;RR&quot;</td><td>null</td><td>&quot;2&quot;</td><td>&quot;4&quot;</td><td>&quot;104&quot;</td><td>&quot;77&quot;</td><td>&quot;48&quot;</td><td>&quot;12&quot;</td><td>&quot;15&quot;</td><td>&quot;2&quot;</td><td>&quot;7&quot;</td><td>&quot;1&quot;</td><td>&quot;2&quot;</td><td>&quot;99&quot;</td><td>&quot;70&quot;</td><td>&quot;43&quot;</td><td>&quot;13&quot;</td><td>&quot;16&quot;</td><td>&quot;2&quot;</td><td>&quot;7&quot;</td><td>&quot;79&quot;</td><td>&quot;883&quot;</td><td>&quot;50&quot;</td><td>&quot;1213&quot;</td><td>&quot;BJK Cup Qualifiers_2024&quot;</td></tr><tr><td>&quot;2024-W-FC-2024-QUA&quot;</td><td>&quot;BJK Cup Qualifiers&quot;</td><td>null</td><td>&quot;48&quot;</td><td>&quot;D&quot;</td><td>2024-04-12</td><td>125</td><td>&quot;260761&quot;</td><td>null</td><td>null</td><td>&quot;Renata Jamrichova&quot;</td><td>&quot;U&quot;</td><td>null</td><td>&quot;SVK&quot;</td><td>16.8</td><td>&quot;220662&quot;</td><td>null</td><td>null</td><td>&quot;Veronika Erjavec&quot;</td><td>&quot;R&quot;</td><td>null</td><td>&quot;SLO&quot;</td><td>24.2</td><td>&quot;6-2 6-0&quot;</td><td>3</td><td>&quot;RR&quot;</td><td>null</td><td>&quot;2&quot;</td><td>&quot;3&quot;</td><td>&quot;39&quot;</td><td>&quot;22&quot;</td><td>&quot;13&quot;</td><td>&quot;13&quot;</td><td>&quot;7&quot;</td><td>&quot;0&quot;</td><td>&quot;1&quot;</td><td>&quot;0&quot;</td><td>&quot;3&quot;</td><td>&quot;48&quot;</td><td>&quot;28&quot;</td><td>&quot;9&quot;</td><td>&quot;9&quot;</td><td>&quot;7&quot;</td><td>&quot;10&quot;</td><td>&quot;16&quot;</td><td>&quot;684&quot;</td><td>&quot;56&quot;</td><td>&quot;203&quot;</td><td>&quot;377&quot;</td><td>&quot;BJK Cup Qualifiers_2024&quot;</td></tr><tr><td>&quot;2024-W-FC-2024-QUA&quot;</td><td>&quot;BJK Cup Qualifiers&quot;</td><td>null</td><td>&quot;48&quot;</td><td>&quot;D&quot;</td><td>2024-04-12</td><td>126</td><td>&quot;206242&quot;</td><td>null</td><td>null</td><td>&quot;Beatriz Haddad Maia&quot;</td><td>&quot;L&quot;</td><td>185</td><td>&quot;BRA&quot;</td><td>27.8</td><td>&quot;204431&quot;</td><td>null</td><td>null</td><td>&quot;Anna Lena Friedsam&quot;</td><td>&quot;R&quot;</td><td>null</td><td>&quot;GER&quot;</td><td>30.1</td><td>&quot;5-7 6-0 6-1&quot;</td><td>3</td><td>&quot;RR&quot;</td><td>null</td><td>&quot;2&quot;</td><td>&quot;3&quot;</td><td>&quot;69&quot;</td><td>&quot;44&quot;</td><td>&quot;31&quot;</td><td>&quot;13&quot;</td><td>&quot;12&quot;</td><td>&quot;4&quot;</td><td>&quot;7&quot;</td><td>&quot;1&quot;</td><td>&quot;10&quot;</td><td>&quot;113&quot;</td><td>&quot;73&quot;</td><td>&quot;41&quot;</td><td>&quot;13&quot;</td><td>&quot;13&quot;</td><td>&quot;11&quot;</td><td>&quot;19&quot;</td><td>&quot;13&quot;</td><td>&quot;2920&quot;</td><td>&quot;189&quot;</td><td>&quot;393&quot;</td><td>&quot;BJK Cup Qualifiers_2024&quot;</td></tr><tr><td>&quot;2024-W-FC-2024-QUA&quot;</td><td>&quot;BJK Cup Qualifiers&quot;</td><td>null</td><td>&quot;48&quot;</td><td>&quot;D&quot;</td><td>2024-04-12</td><td>127</td><td>&quot;202468&quot;</td><td>null</td><td>null</td><td>&quot;Jessica Pegula&quot;</td><td>&quot;R&quot;</td><td>170</td><td>&quot;USA&quot;</td><td>30.1</td><td>&quot;243420&quot;</td><td>null</td><td>null</td><td>&quot;Hanne Vandewinkel&quot;</td><td>&quot;U&quot;</td><td>null</td><td>&quot;BEL&quot;</td><td>19.8</td><td>&quot;6-2 6-0&quot;</td><td>3</td><td>&quot;RR&quot;</td><td>null</td><td>&quot;1&quot;</td><td>&quot;0&quot;</td><td>&quot;33&quot;</td><td>&quot;20&quot;</td><td>&quot;19&quot;</td><td>&quot;10&quot;</td><td>&quot;7&quot;</td><td>&quot;1&quot;</td><td>&quot;1&quot;</td><td>&quot;3&quot;</td><td>&quot;3&quot;</td><td>&quot;46&quot;</td><td>&quot;29&quot;</td><td>&quot;15&quot;</td><td>&quot;5&quot;</td><td>&quot;7&quot;</td><td>&quot;3&quot;</td><td>&quot;8&quot;</td><td>&quot;5&quot;</td><td>&quot;4870&quot;</td><td>&quot;278&quot;</td><td>&quot;266&quot;</td><td>&quot;BJK Cup Qualifiers_2024&quot;</td></tr></tbody></table></div>"
      ],
      "text/plain": [
       "shape: (156_578, 50)\n",
       "┌────────────┬───────────┬─────────┬───────────┬───┬───────────┬───────────┬───────────┬───────────┐\n",
       "│ tourney_id ┆ tourney_n ┆ surface ┆ draw_size ┆ … ┆ winner_ra ┆ loser_ran ┆ loser_ran ┆ tourney_n │\n",
       "│ ---        ┆ ame       ┆ ---     ┆ ---       ┆   ┆ nk_points ┆ k         ┆ k_points  ┆ ame_date  │\n",
       "│ str        ┆ ---       ┆ str     ┆ str       ┆   ┆ ---       ┆ ---       ┆ ---       ┆ ---       │\n",
       "│            ┆ str       ┆         ┆           ┆   ┆ str       ┆ str       ┆ str       ┆ str       │\n",
       "╞════════════╪═══════════╪═════════╪═══════════╪═══╪═══════════╪═══════════╪═══════════╪═══════════╡\n",
       "│ 1968-W-OL- ┆ Guadalaja ┆ Clay    ┆ 13        ┆ … ┆ null      ┆ null      ┆ null      ┆ Guadalaja │\n",
       "│ MEX-01A-19 ┆ ra        ┆         ┆           ┆   ┆           ┆           ┆           ┆ ra        │\n",
       "│ 68         ┆ Olympics  ┆         ┆           ┆   ┆           ┆           ┆           ┆ Olympics  │\n",
       "│            ┆ Demo      ┆         ┆           ┆   ┆           ┆           ┆           ┆ Demo_1968 │\n",
       "│ 1968-W-OL- ┆ Guadalaja ┆ Clay    ┆ 13        ┆ … ┆ null      ┆ null      ┆ null      ┆ Guadalaja │\n",
       "│ MEX-01A-19 ┆ ra        ┆         ┆           ┆   ┆           ┆           ┆           ┆ ra        │\n",
       "│ 68         ┆ Olympics  ┆         ┆           ┆   ┆           ┆           ┆           ┆ Olympics  │\n",
       "│            ┆ Demo      ┆         ┆           ┆   ┆           ┆           ┆           ┆ Demo_1968 │\n",
       "│ 1968-W-OL- ┆ Guadalaja ┆ Clay    ┆ 13        ┆ … ┆ null      ┆ null      ┆ null      ┆ Guadalaja │\n",
       "│ MEX-01A-19 ┆ ra        ┆         ┆           ┆   ┆           ┆           ┆           ┆ ra        │\n",
       "│ 68         ┆ Olympics  ┆         ┆           ┆   ┆           ┆           ┆           ┆ Olympics  │\n",
       "│            ┆ Demo      ┆         ┆           ┆   ┆           ┆           ┆           ┆ Demo_1968 │\n",
       "│ 1968-W-OL- ┆ Guadalaja ┆ Clay    ┆ 13        ┆ … ┆ null      ┆ null      ┆ null      ┆ Guadalaja │\n",
       "│ MEX-01A-19 ┆ ra        ┆         ┆           ┆   ┆           ┆           ┆           ┆ ra        │\n",
       "│ 68         ┆ Olympics  ┆         ┆           ┆   ┆           ┆           ┆           ┆ Olympics  │\n",
       "│            ┆ Demo      ┆         ┆           ┆   ┆           ┆           ┆           ┆ Demo_1968 │\n",
       "│ 1968-W-OL- ┆ Guadalaja ┆ Clay    ┆ 13        ┆ … ┆ null      ┆ null      ┆ null      ┆ Guadalaja │\n",
       "│ MEX-01A-19 ┆ ra        ┆         ┆           ┆   ┆           ┆           ┆           ┆ ra        │\n",
       "│ 68         ┆ Olympics  ┆         ┆           ┆   ┆           ┆           ┆           ┆ Olympics  │\n",
       "│            ┆ Demo      ┆         ┆           ┆   ┆           ┆           ┆           ┆ Demo_1968 │\n",
       "│ …          ┆ …         ┆ …       ┆ …         ┆ … ┆ …         ┆ …         ┆ …         ┆ …         │\n",
       "│ 2024-W-FC- ┆ BJK Cup   ┆ null    ┆ 48        ┆ … ┆ 545       ┆ 562       ┆ 83        ┆ BJK Cup   │\n",
       "│ 2024-QUA   ┆ Qualifier ┆         ┆           ┆   ┆           ┆           ┆           ┆ Qualifier │\n",
       "│            ┆ s         ┆         ┆           ┆   ┆           ┆           ┆           ┆ s_2024    │\n",
       "│ 2024-W-FC- ┆ BJK Cup   ┆ null    ┆ 48        ┆ … ┆ 883       ┆ 50        ┆ 1213      ┆ BJK Cup   │\n",
       "│ 2024-QUA   ┆ Qualifier ┆         ┆           ┆   ┆           ┆           ┆           ┆ Qualifier │\n",
       "│            ┆ s         ┆         ┆           ┆   ┆           ┆           ┆           ┆ s_2024    │\n",
       "│ 2024-W-FC- ┆ BJK Cup   ┆ null    ┆ 48        ┆ … ┆ 56        ┆ 203       ┆ 377       ┆ BJK Cup   │\n",
       "│ 2024-QUA   ┆ Qualifier ┆         ┆           ┆   ┆           ┆           ┆           ┆ Qualifier │\n",
       "│            ┆ s         ┆         ┆           ┆   ┆           ┆           ┆           ┆ s_2024    │\n",
       "│ 2024-W-FC- ┆ BJK Cup   ┆ null    ┆ 48        ┆ … ┆ 2920      ┆ 189       ┆ 393       ┆ BJK Cup   │\n",
       "│ 2024-QUA   ┆ Qualifier ┆         ┆           ┆   ┆           ┆           ┆           ┆ Qualifier │\n",
       "│            ┆ s         ┆         ┆           ┆   ┆           ┆           ┆           ┆ s_2024    │\n",
       "│ 2024-W-FC- ┆ BJK Cup   ┆ null    ┆ 48        ┆ … ┆ 4870      ┆ 278       ┆ 266       ┆ BJK Cup   │\n",
       "│ 2024-QUA   ┆ Qualifier ┆         ┆           ┆   ┆           ┆           ┆           ┆ Qualifier │\n",
       "│            ┆ s         ┆         ┆           ┆   ┆           ┆           ┆           ┆ s_2024    │\n",
       "└────────────┴───────────┴─────────┴───────────┴───┴───────────┴───────────┴───────────┴───────────┘"
      ]
     },
     "execution_count": 21,
     "metadata": {},
     "output_type": "execute_result"
    }
   ],
   "source": [
    "matches_singles_wta=import_tennis_matches(data_type=\"singles\",gender=\"wta\")\n",
    "\n",
    "matches_singles_wta = matches_singles_wta.with_columns(\n",
    "    (pl.col(\"tourney_name\") + \"_\" + pl.col(\"tourney_date\").dt.year().cast(pl.Utf8)).alias(\"tourney_name_date\")\n",
    ")\n",
    "matches_singles_wta"
   ]
  },
  {
   "cell_type": "code",
   "execution_count": 22,
   "metadata": {},
   "outputs": [
    {
     "data": {
      "text/html": [
       "<div><style>\n",
       ".dataframe > thead > tr,\n",
       ".dataframe > tbody > tr {\n",
       "  text-align: right;\n",
       "  white-space: pre-wrap;\n",
       "}\n",
       "</style>\n",
       "<small>shape: (10_202, 6)</small><table border=\"1\" class=\"dataframe\"><thead><tr><th>tourney_name</th><th>surface</th><th>draw_size</th><th>tourney_level</th><th>tourney_date</th><th>tourney_name_date</th></tr><tr><td>str</td><td>str</td><td>str</td><td>str</td><td>date</td><td>str</td></tr></thead><tbody><tr><td>&quot;Fed Cup WG R2: FRG vs ESP&quot;</td><td>&quot;Clay&quot;</td><td>&quot;4&quot;</td><td>&quot;D&quot;</td><td>1974-05-13</td><td>&quot;Fed Cup WG R2: FRG vs ESP_1974&quot;</td></tr><tr><td>&quot;BJK Cup Playoffs: NED vs CHN&quot;</td><td>&quot;Clay&quot;</td><td>&quot;4&quot;</td><td>&quot;D&quot;</td><td>2021-04-17</td><td>&quot;BJK Cup Playoffs: NED vs CHN_2…</td></tr><tr><td>&quot;Fed Cup G2 RRB: MEX vs CRC&quot;</td><td>&quot;Clay&quot;</td><td>&quot;4&quot;</td><td>&quot;D&quot;</td><td>2012-04-16</td><td>&quot;Fed Cup G2 RRB: MEX vs CRC_201…</td></tr><tr><td>&quot;Fed Cup G1 RRB: AUS vs NZL&quot;</td><td>&quot;Hard&quot;</td><td>&quot;4&quot;</td><td>&quot;D&quot;</td><td>2005-04-20</td><td>&quot;Fed Cup G1 RRB: AUS vs NZL_200…</td></tr><tr><td>&quot;Fed Cup G1 RRB: ECU vs BAH&quot;</td><td>&quot;Clay&quot;</td><td>&quot;4&quot;</td><td>&quot;D&quot;</td><td>1994-04-15</td><td>&quot;Fed Cup G1 RRB: ECU vs BAH_199…</td></tr><tr><td>&hellip;</td><td>&hellip;</td><td>&hellip;</td><td>&hellip;</td><td>&hellip;</td><td>&hellip;</td></tr><tr><td>&quot;Fed Cup G1 RRB: PER vs BOL&quot;</td><td>&quot;Hard&quot;</td><td>&quot;4&quot;</td><td>&quot;D&quot;</td><td>1993-04-21</td><td>&quot;Fed Cup G1 RRB: PER vs BOL_199…</td></tr><tr><td>&quot;US Open&quot;</td><td>&quot;Hard&quot;</td><td>&quot;128&quot;</td><td>&quot;G&quot;</td><td>2008-08-25</td><td>&quot;US Open_2008&quot;</td></tr><tr><td>&quot;Fed Cup WG ConR: SRI vs MAS&quot;</td><td>null</td><td>&quot;4&quot;</td><td>&quot;D&quot;</td><td>1991-07-19</td><td>&quot;Fed Cup WG ConR: SRI vs MAS_19…</td></tr><tr><td>&quot;Tokyo Lion Cup&quot;</td><td>&quot;Carpet&quot;</td><td>&quot;4&quot;</td><td>&quot;W&quot;</td><td>1985-11-11</td><td>&quot;Tokyo Lion Cup_1985&quot;</td></tr><tr><td>&quot;Fed Cup G1 RR: NED vs UKR&quot;</td><td>&quot;Clay&quot;</td><td>&quot;4&quot;</td><td>&quot;D&quot;</td><td>2004-04-21</td><td>&quot;Fed Cup G1 RR: NED vs UKR_2004&quot;</td></tr></tbody></table></div>"
      ],
      "text/plain": [
       "shape: (10_202, 6)\n",
       "┌──────────────────────┬─────────┬───────────┬───────────────┬──────────────┬──────────────────────┐\n",
       "│ tourney_name         ┆ surface ┆ draw_size ┆ tourney_level ┆ tourney_date ┆ tourney_name_date    │\n",
       "│ ---                  ┆ ---     ┆ ---       ┆ ---           ┆ ---          ┆ ---                  │\n",
       "│ str                  ┆ str     ┆ str       ┆ str           ┆ date         ┆ str                  │\n",
       "╞══════════════════════╪═════════╪═══════════╪═══════════════╪══════════════╪══════════════════════╡\n",
       "│ Fed Cup WG R2: FRG   ┆ Clay    ┆ 4         ┆ D             ┆ 1974-05-13   ┆ Fed Cup WG R2: FRG   │\n",
       "│ vs ESP               ┆         ┆           ┆               ┆              ┆ vs ESP_1974          │\n",
       "│ BJK Cup Playoffs:    ┆ Clay    ┆ 4         ┆ D             ┆ 2021-04-17   ┆ BJK Cup Playoffs:    │\n",
       "│ NED vs CHN           ┆         ┆           ┆               ┆              ┆ NED vs CHN_2…        │\n",
       "│ Fed Cup G2 RRB: MEX  ┆ Clay    ┆ 4         ┆ D             ┆ 2012-04-16   ┆ Fed Cup G2 RRB: MEX  │\n",
       "│ vs CRC               ┆         ┆           ┆               ┆              ┆ vs CRC_201…          │\n",
       "│ Fed Cup G1 RRB: AUS  ┆ Hard    ┆ 4         ┆ D             ┆ 2005-04-20   ┆ Fed Cup G1 RRB: AUS  │\n",
       "│ vs NZL               ┆         ┆           ┆               ┆              ┆ vs NZL_200…          │\n",
       "│ Fed Cup G1 RRB: ECU  ┆ Clay    ┆ 4         ┆ D             ┆ 1994-04-15   ┆ Fed Cup G1 RRB: ECU  │\n",
       "│ vs BAH               ┆         ┆           ┆               ┆              ┆ vs BAH_199…          │\n",
       "│ …                    ┆ …       ┆ …         ┆ …             ┆ …            ┆ …                    │\n",
       "│ Fed Cup G1 RRB: PER  ┆ Hard    ┆ 4         ┆ D             ┆ 1993-04-21   ┆ Fed Cup G1 RRB: PER  │\n",
       "│ vs BOL               ┆         ┆           ┆               ┆              ┆ vs BOL_199…          │\n",
       "│ US Open              ┆ Hard    ┆ 128       ┆ G             ┆ 2008-08-25   ┆ US Open_2008         │\n",
       "│ Fed Cup WG ConR: SRI ┆ null    ┆ 4         ┆ D             ┆ 1991-07-19   ┆ Fed Cup WG ConR: SRI │\n",
       "│ vs MAS               ┆         ┆           ┆               ┆              ┆ vs MAS_19…           │\n",
       "│ Tokyo Lion Cup       ┆ Carpet  ┆ 4         ┆ W             ┆ 1985-11-11   ┆ Tokyo Lion Cup_1985  │\n",
       "│ Fed Cup G1 RR: NED   ┆ Clay    ┆ 4         ┆ D             ┆ 2004-04-21   ┆ Fed Cup G1 RR: NED   │\n",
       "│ vs UKR               ┆         ┆           ┆               ┆              ┆ vs UKR_2004          │\n",
       "└──────────────────────┴─────────┴───────────┴───────────────┴──────────────┴──────────────────────┘"
      ]
     },
     "execution_count": 22,
     "metadata": {},
     "output_type": "execute_result"
    }
   ],
   "source": [
    "tourney_single_matches_wta=matches_singles_wta[['tourney_name', 'surface', 'draw_size', 'tourney_level', 'tourney_date', 'tourney_name_date']]\n",
    "tourney_single_matches_wta=tourney_single_matches_wta.unique('tourney_name_date')\n",
    "tourney_single_matches_wta"
   ]
  },
  {
   "cell_type": "code",
   "execution_count": 23,
   "metadata": {},
   "outputs": [
    {
     "data": {
      "text/html": [
       "<div><style>\n",
       ".dataframe > thead > tr,\n",
       ".dataframe > tbody > tr {\n",
       "  text-align: right;\n",
       "  white-space: pre-wrap;\n",
       "}\n",
       "</style>\n",
       "<small>shape: (216_430, 50)</small><table border=\"1\" class=\"dataframe\"><thead><tr><th>tourney_id</th><th>tourney_name</th><th>surface</th><th>draw_size</th><th>tourney_level</th><th>tourney_date</th><th>match_num</th><th>winner_id</th><th>winner_seed</th><th>winner_entry</th><th>winner_name</th><th>winner_hand</th><th>winner_ht</th><th>winner_ioc</th><th>winner_age</th><th>loser_id</th><th>loser_seed</th><th>loser_entry</th><th>loser_name</th><th>loser_hand</th><th>loser_ht</th><th>loser_ioc</th><th>loser_age</th><th>score</th><th>best_of</th><th>round</th><th>minutes</th><th>w_ace</th><th>w_df</th><th>w_svpt</th><th>w_1stIn</th><th>w_1stWon</th><th>w_2ndWon</th><th>w_SvGms</th><th>w_bpSaved</th><th>w_bpFaced</th><th>l_ace</th><th>l_df</th><th>l_svpt</th><th>l_1stIn</th><th>l_1stWon</th><th>l_2ndWon</th><th>l_SvGms</th><th>l_bpSaved</th><th>l_bpFaced</th><th>winner_rank</th><th>winner_rank_points</th><th>loser_rank</th><th>loser_rank_points</th><th>tourney_name_date</th></tr><tr><td>str</td><td>str</td><td>str</td><td>i64</td><td>str</td><td>date</td><td>i64</td><td>str</td><td>str</td><td>str</td><td>str</td><td>str</td><td>i64</td><td>str</td><td>f64</td><td>str</td><td>str</td><td>str</td><td>str</td><td>str</td><td>i64</td><td>str</td><td>f64</td><td>str</td><td>i64</td><td>str</td><td>str</td><td>str</td><td>str</td><td>str</td><td>str</td><td>str</td><td>str</td><td>str</td><td>str</td><td>str</td><td>str</td><td>str</td><td>str</td><td>str</td><td>str</td><td>str</td><td>str</td><td>str</td><td>str</td><td>str</td><td>str</td><td>str</td><td>str</td><td>str</td></tr></thead><tbody><tr><td>&quot;1978-301&quot;</td><td>&quot;Auckland CH&quot;</td><td>&quot;Hard&quot;</td><td>32</td><td>&quot;C&quot;</td><td>1978-01-08</td><td>270</td><td>&quot;100373&quot;</td><td>null</td><td>null</td><td>&quot;Christopher Sylvan&quot;</td><td>&quot;R&quot;</td><td>null</td><td>&quot;USA&quot;</td><td>22.8</td><td>&quot;107618&quot;</td><td>null</td><td>null</td><td>&quot;Malcolm Elley&quot;</td><td>&quot;R&quot;</td><td>null</td><td>&quot;NZL&quot;</td><td>null</td><td>&quot;6-1 6-4&quot;</td><td>3</td><td>&quot;R32&quot;</td><td>null</td><td>null</td><td>null</td><td>null</td><td>null</td><td>null</td><td>null</td><td>null</td><td>null</td><td>null</td><td>null</td><td>null</td><td>null</td><td>null</td><td>null</td><td>null</td><td>null</td><td>null</td><td>null</td><td>&quot;232&quot;</td><td>null</td><td>null</td><td>null</td><td>&quot;Auckland CH_1978&quot;</td></tr><tr><td>&quot;1978-301&quot;</td><td>&quot;Auckland CH&quot;</td><td>&quot;Hard&quot;</td><td>32</td><td>&quot;C&quot;</td><td>1978-01-08</td><td>271</td><td>&quot;109807&quot;</td><td>null</td><td>null</td><td>&quot;Garry Slater&quot;</td><td>&quot;R&quot;</td><td>null</td><td>&quot;NZL&quot;</td><td>null</td><td>&quot;109808&quot;</td><td>null</td><td>null</td><td>&quot;Graham Oliver&quot;</td><td>&quot;U&quot;</td><td>null</td><td>&quot;NZL&quot;</td><td>null</td><td>&quot;6-4 6-4&quot;</td><td>3</td><td>&quot;R32&quot;</td><td>null</td><td>null</td><td>null</td><td>null</td><td>null</td><td>null</td><td>null</td><td>null</td><td>null</td><td>null</td><td>null</td><td>null</td><td>null</td><td>null</td><td>null</td><td>null</td><td>null</td><td>null</td><td>null</td><td>null</td><td>null</td><td>null</td><td>null</td><td>&quot;Auckland CH_1978&quot;</td></tr><tr><td>&quot;1978-301&quot;</td><td>&quot;Auckland CH&quot;</td><td>&quot;Hard&quot;</td><td>32</td><td>&quot;C&quot;</td><td>1978-01-08</td><td>272</td><td>&quot;109810&quot;</td><td>null</td><td>null</td><td>&quot;Dave Simmonds&quot;</td><td>&quot;U&quot;</td><td>null</td><td>&quot;NZL&quot;</td><td>null</td><td>&quot;208999&quot;</td><td>null</td><td>null</td><td>&quot;G Dingwell&quot;</td><td>&quot;U&quot;</td><td>null</td><td>&quot;UNK&quot;</td><td>null</td><td>&quot;6-2 6-3&quot;</td><td>3</td><td>&quot;R32&quot;</td><td>null</td><td>null</td><td>null</td><td>null</td><td>null</td><td>null</td><td>null</td><td>null</td><td>null</td><td>null</td><td>null</td><td>null</td><td>null</td><td>null</td><td>null</td><td>null</td><td>null</td><td>null</td><td>null</td><td>null</td><td>null</td><td>null</td><td>null</td><td>&quot;Auckland CH_1978&quot;</td></tr><tr><td>&quot;1978-301&quot;</td><td>&quot;Auckland CH&quot;</td><td>&quot;Hard&quot;</td><td>32</td><td>&quot;C&quot;</td><td>1978-01-08</td><td>273</td><td>&quot;100638&quot;</td><td>null</td><td>null</td><td>&quot;David Mustard&quot;</td><td>&quot;L&quot;</td><td>180</td><td>&quot;NZL&quot;</td><td>18.0</td><td>&quot;107985&quot;</td><td>null</td><td>null</td><td>&quot;Peter Langsford&quot;</td><td>&quot;R&quot;</td><td>null</td><td>&quot;AUS&quot;</td><td>23.6</td><td>&quot;7-5 7-5&quot;</td><td>3</td><td>&quot;R32&quot;</td><td>null</td><td>null</td><td>null</td><td>null</td><td>null</td><td>null</td><td>null</td><td>null</td><td>null</td><td>null</td><td>null</td><td>null</td><td>null</td><td>null</td><td>null</td><td>null</td><td>null</td><td>null</td><td>null</td><td>null</td><td>null</td><td>&quot;332&quot;</td><td>null</td><td>&quot;Auckland CH_1978&quot;</td></tr><tr><td>&quot;1978-301&quot;</td><td>&quot;Auckland CH&quot;</td><td>&quot;Hard&quot;</td><td>32</td><td>&quot;C&quot;</td><td>1978-01-08</td><td>274</td><td>&quot;107301&quot;</td><td>null</td><td>null</td><td>&quot;Jay Harvey&quot;</td><td>&quot;R&quot;</td><td>null</td><td>&quot;AUS&quot;</td><td>null</td><td>&quot;100316&quot;</td><td>null</td><td>null</td><td>&quot;Scott Carnahan&quot;</td><td>&quot;R&quot;</td><td>null</td><td>&quot;USA&quot;</td><td>24.2</td><td>&quot;6-4 6-4&quot;</td><td>3</td><td>&quot;R32&quot;</td><td>null</td><td>null</td><td>null</td><td>null</td><td>null</td><td>null</td><td>null</td><td>null</td><td>null</td><td>null</td><td>null</td><td>null</td><td>null</td><td>null</td><td>null</td><td>null</td><td>null</td><td>null</td><td>null</td><td>null</td><td>null</td><td>&quot;232&quot;</td><td>null</td><td>&quot;Auckland CH_1978&quot;</td></tr><tr><td>&hellip;</td><td>&hellip;</td><td>&hellip;</td><td>&hellip;</td><td>&hellip;</td><td>&hellip;</td><td>&hellip;</td><td>&hellip;</td><td>&hellip;</td><td>&hellip;</td><td>&hellip;</td><td>&hellip;</td><td>&hellip;</td><td>&hellip;</td><td>&hellip;</td><td>&hellip;</td><td>&hellip;</td><td>&hellip;</td><td>&hellip;</td><td>&hellip;</td><td>&hellip;</td><td>&hellip;</td><td>&hellip;</td><td>&hellip;</td><td>&hellip;</td><td>&hellip;</td><td>&hellip;</td><td>&hellip;</td><td>&hellip;</td><td>&hellip;</td><td>&hellip;</td><td>&hellip;</td><td>&hellip;</td><td>&hellip;</td><td>&hellip;</td><td>&hellip;</td><td>&hellip;</td><td>&hellip;</td><td>&hellip;</td><td>&hellip;</td><td>&hellip;</td><td>&hellip;</td><td>&hellip;</td><td>&hellip;</td><td>&hellip;</td><td>&hellip;</td><td>&hellip;</td><td>&hellip;</td><td>&hellip;</td><td>&hellip;</td></tr><tr><td>&quot;2024-2869&quot;</td><td>&quot;Skopje CH&quot;</td><td>&quot;Clay&quot;</td><td>32</td><td>&quot;C&quot;</td><td>2024-05-20</td><td>241</td><td>&quot;210053&quot;</td><td>&quot;8&quot;</td><td>null</td><td>&quot;Luka Mikrut&quot;</td><td>&quot;U&quot;</td><td>null</td><td>&quot;CRO&quot;</td><td>20.0</td><td>&quot;103872&quot;</td><td>null</td><td>&quot;WC&quot;</td><td>&quot;Dimitar Grabuloski&quot;</td><td>&quot;U&quot;</td><td>null</td><td>&quot;MKD&quot;</td><td>42.5</td><td>&quot;6-3 6-4&quot;</td><td>3</td><td>&quot;Q1&quot;</td><td>&quot;87&quot;</td><td>&quot;4&quot;</td><td>&quot;6&quot;</td><td>&quot;64&quot;</td><td>&quot;31&quot;</td><td>&quot;24&quot;</td><td>&quot;18&quot;</td><td>&quot;10&quot;</td><td>&quot;2&quot;</td><td>&quot;3&quot;</td><td>&quot;2&quot;</td><td>&quot;5&quot;</td><td>&quot;78&quot;</td><td>&quot;43&quot;</td><td>&quot;30&quot;</td><td>&quot;13&quot;</td><td>&quot;9&quot;</td><td>&quot;6&quot;</td><td>&quot;9&quot;</td><td>&quot;511&quot;</td><td>&quot;76&quot;</td><td>null</td><td>null</td><td>&quot;Skopje CH_2024&quot;</td></tr><tr><td>&quot;2024-2869&quot;</td><td>&quot;Skopje CH&quot;</td><td>&quot;Clay&quot;</td><td>32</td><td>&quot;C&quot;</td><td>2024-05-20</td><td>240</td><td>&quot;208843&quot;</td><td>&quot;5&quot;</td><td>null</td><td>&quot;Jerome Kym&quot;</td><td>&quot;R&quot;</td><td>198</td><td>&quot;SUI&quot;</td><td>21.2</td><td>&quot;210078&quot;</td><td>null</td><td>&quot;WC&quot;</td><td>&quot;Berk Bugarikj &quot;</td><td>&quot;U&quot;</td><td>null</td><td>&quot;MKD&quot;</td><td>20.8</td><td>&quot;7-5 6-0&quot;</td><td>3</td><td>&quot;Q1&quot;</td><td>&quot;77&quot;</td><td>&quot;5&quot;</td><td>&quot;0&quot;</td><td>&quot;44&quot;</td><td>&quot;29&quot;</td><td>&quot;25&quot;</td><td>&quot;9&quot;</td><td>&quot;9&quot;</td><td>&quot;1&quot;</td><td>&quot;2&quot;</td><td>&quot;0&quot;</td><td>&quot;3&quot;</td><td>&quot;60&quot;</td><td>&quot;41&quot;</td><td>&quot;21&quot;</td><td>&quot;8&quot;</td><td>&quot;9&quot;</td><td>&quot;2&quot;</td><td>&quot;7&quot;</td><td>&quot;470&quot;</td><td>&quot;92&quot;</td><td>null</td><td>null</td><td>&quot;Skopje CH_2024&quot;</td></tr><tr><td>&quot;2024-2869&quot;</td><td>&quot;Skopje CH&quot;</td><td>&quot;Clay&quot;</td><td>32</td><td>&quot;C&quot;</td><td>2024-05-20</td><td>239</td><td>&quot;207484&quot;</td><td>&quot;12&quot;</td><td>null</td><td>&quot;Neil Oberleitner&quot;</td><td>&quot;R&quot;</td><td>null</td><td>&quot;AUT&quot;</td><td>24.7</td><td>&quot;200574&quot;</td><td>null</td><td>&quot;Alt&quot;</td><td>&quot;Alexander Donski&quot;</td><td>&quot;R&quot;</td><td>188</td><td>&quot;CAN&quot;</td><td>25.8</td><td>&quot;6-4 6-3&quot;</td><td>3</td><td>&quot;Q1&quot;</td><td>&quot;82&quot;</td><td>&quot;5&quot;</td><td>&quot;5&quot;</td><td>&quot;54&quot;</td><td>&quot;33&quot;</td><td>&quot;27&quot;</td><td>&quot;13&quot;</td><td>&quot;9&quot;</td><td>&quot;2&quot;</td><td>&quot;2&quot;</td><td>&quot;4&quot;</td><td>&quot;6&quot;</td><td>&quot;72&quot;</td><td>&quot;34&quot;</td><td>&quot;26&quot;</td><td>&quot;15&quot;</td><td>&quot;10&quot;</td><td>&quot;3&quot;</td><td>&quot;6&quot;</td><td>&quot;636&quot;</td><td>&quot;53&quot;</td><td>&quot;955&quot;</td><td>&quot;15&quot;</td><td>&quot;Skopje CH_2024&quot;</td></tr><tr><td>&quot;2024-2869&quot;</td><td>&quot;Skopje CH&quot;</td><td>&quot;Clay&quot;</td><td>32</td><td>&quot;C&quot;</td><td>2024-05-20</td><td>238</td><td>&quot;144970&quot;</td><td>&quot;6&quot;</td><td>null</td><td>&quot;Constantin Bittoun Kouzmine&quot;</td><td>&quot;L&quot;</td><td>null</td><td>&quot;FRA&quot;</td><td>25.3</td><td>&quot;212200&quot;</td><td>null</td><td>&quot;WC&quot;</td><td>&quot;Amar Huseinovic&quot;</td><td>&quot;U&quot;</td><td>null</td><td>&quot;MKD&quot;</td><td>null</td><td>&quot;6-0 6-1&quot;</td><td>3</td><td>&quot;Q1&quot;</td><td>&quot;59&quot;</td><td>&quot;0&quot;</td><td>&quot;1&quot;</td><td>&quot;43&quot;</td><td>&quot;32&quot;</td><td>&quot;26&quot;</td><td>&quot;5&quot;</td><td>&quot;7&quot;</td><td>&quot;4&quot;</td><td>&quot;4&quot;</td><td>&quot;2&quot;</td><td>&quot;0&quot;</td><td>&quot;36&quot;</td><td>&quot;22&quot;</td><td>&quot;9&quot;</td><td>&quot;4&quot;</td><td>&quot;6&quot;</td><td>&quot;0&quot;</td><td>&quot;5&quot;</td><td>&quot;487&quot;</td><td>&quot;87&quot;</td><td>null</td><td>null</td><td>&quot;Skopje CH_2024&quot;</td></tr><tr><td>&quot;2024-2869&quot;</td><td>&quot;Skopje CH&quot;</td><td>&quot;Clay&quot;</td><td>32</td><td>&quot;C&quot;</td><td>2024-05-20</td><td>237</td><td>&quot;202342&quot;</td><td>null</td><td>null</td><td>&quot;Ryan Seggerman&quot;</td><td>&quot;U&quot;</td><td>null</td><td>&quot;USA&quot;</td><td>24.7</td><td>&quot;106254&quot;</td><td>null</td><td>&quot;Alt&quot;</td><td>&quot;Calum Puttergill&quot;</td><td>&quot;U&quot;</td><td>null</td><td>&quot;AUS&quot;</td><td>30.5</td><td>&quot;7-5 6-0&quot;</td><td>3</td><td>&quot;Q1&quot;</td><td>&quot;56&quot;</td><td>&quot;10&quot;</td><td>&quot;1&quot;</td><td>&quot;44&quot;</td><td>&quot;28&quot;</td><td>&quot;22&quot;</td><td>&quot;12&quot;</td><td>&quot;9&quot;</td><td>&quot;0&quot;</td><td>&quot;1&quot;</td><td>&quot;0&quot;</td><td>&quot;9&quot;</td><td>&quot;52&quot;</td><td>&quot;28&quot;</td><td>&quot;19&quot;</td><td>&quot;7&quot;</td><td>&quot;9&quot;</td><td>&quot;3&quot;</td><td>&quot;8&quot;</td><td>&quot;555&quot;</td><td>&quot;67&quot;</td><td>&quot;880&quot;</td><td>&quot;20&quot;</td><td>&quot;Skopje CH_2024&quot;</td></tr></tbody></table></div>"
      ],
      "text/plain": [
       "shape: (216_430, 50)\n",
       "┌────────────┬───────────┬─────────┬───────────┬───┬───────────┬───────────┬───────────┬───────────┐\n",
       "│ tourney_id ┆ tourney_n ┆ surface ┆ draw_size ┆ … ┆ winner_ra ┆ loser_ran ┆ loser_ran ┆ tourney_n │\n",
       "│ ---        ┆ ame       ┆ ---     ┆ ---       ┆   ┆ nk_points ┆ k         ┆ k_points  ┆ ame_date  │\n",
       "│ str        ┆ ---       ┆ str     ┆ i64       ┆   ┆ ---       ┆ ---       ┆ ---       ┆ ---       │\n",
       "│            ┆ str       ┆         ┆           ┆   ┆ str       ┆ str       ┆ str       ┆ str       │\n",
       "╞════════════╪═══════════╪═════════╪═══════════╪═══╪═══════════╪═══════════╪═══════════╪═══════════╡\n",
       "│ 1978-301   ┆ Auckland  ┆ Hard    ┆ 32        ┆ … ┆ null      ┆ null      ┆ null      ┆ Auckland  │\n",
       "│            ┆ CH        ┆         ┆           ┆   ┆           ┆           ┆           ┆ CH_1978   │\n",
       "│ 1978-301   ┆ Auckland  ┆ Hard    ┆ 32        ┆ … ┆ null      ┆ null      ┆ null      ┆ Auckland  │\n",
       "│            ┆ CH        ┆         ┆           ┆   ┆           ┆           ┆           ┆ CH_1978   │\n",
       "│ 1978-301   ┆ Auckland  ┆ Hard    ┆ 32        ┆ … ┆ null      ┆ null      ┆ null      ┆ Auckland  │\n",
       "│            ┆ CH        ┆         ┆           ┆   ┆           ┆           ┆           ┆ CH_1978   │\n",
       "│ 1978-301   ┆ Auckland  ┆ Hard    ┆ 32        ┆ … ┆ null      ┆ 332       ┆ null      ┆ Auckland  │\n",
       "│            ┆ CH        ┆         ┆           ┆   ┆           ┆           ┆           ┆ CH_1978   │\n",
       "│ 1978-301   ┆ Auckland  ┆ Hard    ┆ 32        ┆ … ┆ null      ┆ 232       ┆ null      ┆ Auckland  │\n",
       "│            ┆ CH        ┆         ┆           ┆   ┆           ┆           ┆           ┆ CH_1978   │\n",
       "│ …          ┆ …         ┆ …       ┆ …         ┆ … ┆ …         ┆ …         ┆ …         ┆ …         │\n",
       "│ 2024-2869  ┆ Skopje CH ┆ Clay    ┆ 32        ┆ … ┆ 76        ┆ null      ┆ null      ┆ Skopje    │\n",
       "│            ┆           ┆         ┆           ┆   ┆           ┆           ┆           ┆ CH_2024   │\n",
       "│ 2024-2869  ┆ Skopje CH ┆ Clay    ┆ 32        ┆ … ┆ 92        ┆ null      ┆ null      ┆ Skopje    │\n",
       "│            ┆           ┆         ┆           ┆   ┆           ┆           ┆           ┆ CH_2024   │\n",
       "│ 2024-2869  ┆ Skopje CH ┆ Clay    ┆ 32        ┆ … ┆ 53        ┆ 955       ┆ 15        ┆ Skopje    │\n",
       "│            ┆           ┆         ┆           ┆   ┆           ┆           ┆           ┆ CH_2024   │\n",
       "│ 2024-2869  ┆ Skopje CH ┆ Clay    ┆ 32        ┆ … ┆ 87        ┆ null      ┆ null      ┆ Skopje    │\n",
       "│            ┆           ┆         ┆           ┆   ┆           ┆           ┆           ┆ CH_2024   │\n",
       "│ 2024-2869  ┆ Skopje CH ┆ Clay    ┆ 32        ┆ … ┆ 67        ┆ 880       ┆ 20        ┆ Skopje    │\n",
       "│            ┆           ┆         ┆           ┆   ┆           ┆           ┆           ┆ CH_2024   │\n",
       "└────────────┴───────────┴─────────┴───────────┴───┴───────────┴───────────┴───────────┴───────────┘"
      ]
     },
     "execution_count": 23,
     "metadata": {},
     "output_type": "execute_result"
    }
   ],
   "source": [
    "matches_qualifiers_challengers=import_tennis_matches(data_type=\"qualifiers_challengers\",gender=\"atp\")\n",
    "\n",
    "matches_qualifiers_challengers = matches_qualifiers_challengers.with_columns(\n",
    "    (pl.col(\"tourney_name\") + \"_\" + pl.col(\"tourney_date\").dt.year().cast(pl.Utf8)).alias(\"tourney_name_date\")\n",
    ")\n",
    "matches_qualifiers_challengers\n"
   ]
  },
  {
   "cell_type": "code",
   "execution_count": 24,
   "metadata": {},
   "outputs": [
    {
     "data": {
      "text/html": [
       "<div><style>\n",
       ".dataframe > thead > tr,\n",
       ".dataframe > tbody > tr {\n",
       "  text-align: right;\n",
       "  white-space: pre-wrap;\n",
       "}\n",
       "</style>\n",
       "<small>shape: (6_191, 6)</small><table border=\"1\" class=\"dataframe\"><thead><tr><th>tourney_name</th><th>surface</th><th>draw_size</th><th>tourney_level</th><th>tourney_date</th><th>tourney_name_date</th></tr><tr><td>str</td><td>str</td><td>i64</td><td>str</td><td>date</td><td>str</td></tr></thead><tbody><tr><td>&quot;Casablanca CH&quot;</td><td>&quot;Clay&quot;</td><td>32</td><td>&quot;C&quot;</td><td>2015-01-12</td><td>&quot;Casablanca CH_2015&quot;</td></tr><tr><td>&quot;Ixtapa CH&quot;</td><td>&quot;Hard&quot;</td><td>32</td><td>&quot;C&quot;</td><td>1997-11-24</td><td>&quot;Ixtapa CH_1997&quot;</td></tr><tr><td>&quot;Genova CH&quot;</td><td>&quot;Clay&quot;</td><td>32</td><td>&quot;C&quot;</td><td>2016-09-05</td><td>&quot;Genova CH_2016&quot;</td></tr><tr><td>&quot;Bratislava CH&quot;</td><td>&quot;Hard&quot;</td><td>32</td><td>&quot;C&quot;</td><td>2017-11-06</td><td>&quot;Bratislava CH_2017&quot;</td></tr><tr><td>&quot;Rome Masters&quot;</td><td>&quot;Clay&quot;</td><td>64</td><td>&quot;M&quot;</td><td>2021-05-10</td><td>&quot;Rome Masters_2021&quot;</td></tr><tr><td>&hellip;</td><td>&hellip;</td><td>&hellip;</td><td>&hellip;</td><td>&hellip;</td><td>&hellip;</td></tr><tr><td>&quot;Ahmedabad CH&quot;</td><td>&quot;Clay&quot;</td><td>32</td><td>&quot;C&quot;</td><td>1996-10-28</td><td>&quot;Ahmedabad CH_1996&quot;</td></tr><tr><td>&quot;Orleans CH&quot;</td><td>&quot;Hard&quot;</td><td>32</td><td>&quot;C&quot;</td><td>2006-09-11</td><td>&quot;Orleans CH_2006&quot;</td></tr><tr><td>&quot;Rome Masters&quot;</td><td>&quot;Clay&quot;</td><td>56</td><td>&quot;M&quot;</td><td>2007-05-07</td><td>&quot;Rome Masters_2007&quot;</td></tr><tr><td>&quot;Stockholm&quot;</td><td>&quot;Hard&quot;</td><td>28</td><td>&quot;A&quot;</td><td>2013-10-14</td><td>&quot;Stockholm_2013&quot;</td></tr><tr><td>&quot;Aptos CH&quot;</td><td>&quot;Hard&quot;</td><td>32</td><td>&quot;C&quot;</td><td>1993-07-12</td><td>&quot;Aptos CH_1993&quot;</td></tr></tbody></table></div>"
      ],
      "text/plain": [
       "shape: (6_191, 6)\n",
       "┌───────────────┬─────────┬───────────┬───────────────┬──────────────┬────────────────────┐\n",
       "│ tourney_name  ┆ surface ┆ draw_size ┆ tourney_level ┆ tourney_date ┆ tourney_name_date  │\n",
       "│ ---           ┆ ---     ┆ ---       ┆ ---           ┆ ---          ┆ ---                │\n",
       "│ str           ┆ str     ┆ i64       ┆ str           ┆ date         ┆ str                │\n",
       "╞═══════════════╪═════════╪═══════════╪═══════════════╪══════════════╪════════════════════╡\n",
       "│ Casablanca CH ┆ Clay    ┆ 32        ┆ C             ┆ 2015-01-12   ┆ Casablanca CH_2015 │\n",
       "│ Ixtapa CH     ┆ Hard    ┆ 32        ┆ C             ┆ 1997-11-24   ┆ Ixtapa CH_1997     │\n",
       "│ Genova CH     ┆ Clay    ┆ 32        ┆ C             ┆ 2016-09-05   ┆ Genova CH_2016     │\n",
       "│ Bratislava CH ┆ Hard    ┆ 32        ┆ C             ┆ 2017-11-06   ┆ Bratislava CH_2017 │\n",
       "│ Rome Masters  ┆ Clay    ┆ 64        ┆ M             ┆ 2021-05-10   ┆ Rome Masters_2021  │\n",
       "│ …             ┆ …       ┆ …         ┆ …             ┆ …            ┆ …                  │\n",
       "│ Ahmedabad CH  ┆ Clay    ┆ 32        ┆ C             ┆ 1996-10-28   ┆ Ahmedabad CH_1996  │\n",
       "│ Orleans CH    ┆ Hard    ┆ 32        ┆ C             ┆ 2006-09-11   ┆ Orleans CH_2006    │\n",
       "│ Rome Masters  ┆ Clay    ┆ 56        ┆ M             ┆ 2007-05-07   ┆ Rome Masters_2007  │\n",
       "│ Stockholm     ┆ Hard    ┆ 28        ┆ A             ┆ 2013-10-14   ┆ Stockholm_2013     │\n",
       "│ Aptos CH      ┆ Hard    ┆ 32        ┆ C             ┆ 1993-07-12   ┆ Aptos CH_1993      │\n",
       "└───────────────┴─────────┴───────────┴───────────────┴──────────────┴────────────────────┘"
      ]
     },
     "execution_count": 24,
     "metadata": {},
     "output_type": "execute_result"
    }
   ],
   "source": [
    "tourney_qualifiers_challengers=matches_qualifiers_challengers[['tourney_name', 'surface', 'draw_size', 'tourney_level', 'tourney_date', 'tourney_name_date']]\n",
    "tourney_qualifiers_challengers=tourney_qualifiers_challengers.unique('tourney_name_date')\n",
    "tourney_qualifiers_challengers"
   ]
  },
  {
   "cell_type": "code",
   "execution_count": 25,
   "metadata": {},
   "outputs": [
    {
     "data": {
      "text/html": [
       "<div><style>\n",
       ".dataframe > thead > tr,\n",
       ".dataframe > tbody > tr {\n",
       "  text-align: right;\n",
       "  white-space: pre-wrap;\n",
       "}\n",
       "</style>\n",
       "<small>shape: (486_553, 50)</small><table border=\"1\" class=\"dataframe\"><thead><tr><th>tourney_id</th><th>tourney_name</th><th>surface</th><th>draw_size</th><th>tourney_level</th><th>tourney_date</th><th>match_num</th><th>winner_id</th><th>winner_seed</th><th>winner_entry</th><th>winner_name</th><th>winner_hand</th><th>winner_ht</th><th>winner_ioc</th><th>winner_age</th><th>loser_id</th><th>loser_seed</th><th>loser_entry</th><th>loser_name</th><th>loser_hand</th><th>loser_ht</th><th>loser_ioc</th><th>loser_age</th><th>score</th><th>best_of</th><th>round</th><th>minutes</th><th>w_ace</th><th>w_df</th><th>w_svpt</th><th>w_1stIn</th><th>w_1stWon</th><th>w_2ndWon</th><th>w_SvGms</th><th>w_bpSaved</th><th>w_bpFaced</th><th>l_ace</th><th>l_df</th><th>l_svpt</th><th>l_1stIn</th><th>l_1stWon</th><th>l_2ndWon</th><th>l_SvGms</th><th>l_bpSaved</th><th>l_bpFaced</th><th>winner_rank</th><th>winner_rank_points</th><th>loser_rank</th><th>loser_rank_points</th><th>tourney_name_date</th></tr><tr><td>str</td><td>str</td><td>str</td><td>i64</td><td>str</td><td>date</td><td>i64</td><td>str</td><td>str</td><td>str</td><td>str</td><td>str</td><td>i64</td><td>str</td><td>f64</td><td>str</td><td>str</td><td>str</td><td>str</td><td>str</td><td>i64</td><td>str</td><td>f64</td><td>str</td><td>i64</td><td>str</td><td>str</td><td>str</td><td>str</td><td>str</td><td>str</td><td>str</td><td>str</td><td>str</td><td>str</td><td>str</td><td>str</td><td>str</td><td>str</td><td>str</td><td>str</td><td>str</td><td>str</td><td>str</td><td>str</td><td>str</td><td>str</td><td>str</td><td>str</td><td>str</td></tr></thead><tbody><tr><td>&quot;1991-M-SA-IND-02A-1990a&quot;</td><td>&quot;India Masters 1&quot;</td><td>&quot;Hard&quot;</td><td>32</td><td>&quot;S&quot;</td><td>1990-12-29</td><td>1</td><td>&quot;101484&quot;</td><td>&quot;1&quot;</td><td>null</td><td>&quot;Vladimir Gabrichidze&quot;</td><td>&quot;R&quot;</td><td>175</td><td>&quot;GEO&quot;</td><td>22.6</td><td>&quot;106937&quot;</td><td>null</td><td>null</td><td>&quot;Emilio Marturano&quot;</td><td>&quot;R&quot;</td><td>null</td><td>&quot;ITA&quot;</td><td>23.5</td><td>&quot;6-2 7-5&quot;</td><td>3</td><td>&quot;R32&quot;</td><td>null</td><td>null</td><td>null</td><td>null</td><td>null</td><td>null</td><td>null</td><td>null</td><td>null</td><td>null</td><td>null</td><td>null</td><td>null</td><td>null</td><td>null</td><td>null</td><td>null</td><td>null</td><td>null</td><td>&quot;266&quot;</td><td>&quot;82&quot;</td><td>&quot;805&quot;</td><td>&quot;4&quot;</td><td>&quot;India Masters 1_1990&quot;</td></tr><tr><td>&quot;1991-M-SA-IND-02A-1990a&quot;</td><td>&quot;India Masters 1&quot;</td><td>&quot;Hard&quot;</td><td>32</td><td>&quot;S&quot;</td><td>1990-12-29</td><td>2</td><td>&quot;106819&quot;</td><td>null</td><td>&quot;Q&quot;</td><td>&quot;Danilo Pila&quot;</td><td>&quot;R&quot;</td><td>null</td><td>&quot;PHI&quot;</td><td>30.2</td><td>&quot;107116&quot;</td><td>null</td><td>null</td><td>&quot;Goran Mihajlovic&quot;</td><td>&quot;R&quot;</td><td>null</td><td>&quot;YUG&quot;</td><td>19.6</td><td>&quot;6-3 6-2&quot;</td><td>3</td><td>&quot;R32&quot;</td><td>null</td><td>null</td><td>null</td><td>null</td><td>null</td><td>null</td><td>null</td><td>null</td><td>null</td><td>null</td><td>null</td><td>null</td><td>null</td><td>null</td><td>null</td><td>null</td><td>null</td><td>null</td><td>null</td><td>&quot;941&quot;</td><td>&quot;2&quot;</td><td>&quot;692&quot;</td><td>&quot;8&quot;</td><td>&quot;India Masters 1_1990&quot;</td></tr><tr><td>&quot;1991-M-SA-IND-02A-1990a&quot;</td><td>&quot;India Masters 1&quot;</td><td>&quot;Hard&quot;</td><td>32</td><td>&quot;S&quot;</td><td>1990-12-29</td><td>3</td><td>&quot;102216&quot;</td><td>null</td><td>&quot;LL&quot;</td><td>&quot;Mark Joachim&quot;</td><td>&quot;R&quot;</td><td>null</td><td>&quot;GER&quot;</td><td>17.6</td><td>&quot;108562&quot;</td><td>null</td><td>null</td><td>&quot;York Heidenreich&quot;</td><td>&quot;R&quot;</td><td>null</td><td>&quot;GER&quot;</td><td>null</td><td>&quot;6-1 6-3&quot;</td><td>3</td><td>&quot;R32&quot;</td><td>null</td><td>null</td><td>null</td><td>null</td><td>null</td><td>null</td><td>null</td><td>null</td><td>null</td><td>null</td><td>null</td><td>null</td><td>null</td><td>null</td><td>null</td><td>null</td><td>null</td><td>null</td><td>null</td><td>&quot;862&quot;</td><td>&quot;3&quot;</td><td>&quot;862&quot;</td><td>&quot;3&quot;</td><td>&quot;India Masters 1_1990&quot;</td></tr><tr><td>&quot;1991-M-SA-IND-02A-1990a&quot;</td><td>&quot;India Masters 1&quot;</td><td>&quot;Hard&quot;</td><td>32</td><td>&quot;S&quot;</td><td>1990-12-29</td><td>4</td><td>&quot;101663&quot;</td><td>null</td><td>null</td><td>&quot;Eugenio Rossi&quot;</td><td>&quot;R&quot;</td><td>null</td><td>&quot;ITA&quot;</td><td>21.1</td><td>&quot;106941&quot;</td><td>&quot;8&quot;</td><td>null</td><td>&quot;Eno Polo&quot;</td><td>&quot;R&quot;</td><td>null</td><td>&quot;KEN&quot;</td><td>23.5</td><td>&quot;6-4 6-4&quot;</td><td>3</td><td>&quot;R32&quot;</td><td>null</td><td>null</td><td>null</td><td>null</td><td>null</td><td>null</td><td>null</td><td>null</td><td>null</td><td>null</td><td>null</td><td>null</td><td>null</td><td>null</td><td>null</td><td>null</td><td>null</td><td>null</td><td>null</td><td>&quot;703&quot;</td><td>&quot;8&quot;</td><td>&quot;588&quot;</td><td>&quot;14&quot;</td><td>&quot;India Masters 1_1990&quot;</td></tr><tr><td>&quot;1991-M-SA-IND-02A-1990a&quot;</td><td>&quot;India Masters 1&quot;</td><td>&quot;Hard&quot;</td><td>32</td><td>&quot;S&quot;</td><td>1990-12-29</td><td>5</td><td>&quot;100794&quot;</td><td>&quot;4&quot;</td><td>null</td><td>&quot;Srinivasan Vasudevan&quot;</td><td>&quot;R&quot;</td><td>190</td><td>&quot;IND&quot;</td><td>28.9</td><td>&quot;101480&quot;</td><td>null</td><td>null</td><td>&quot;Jake Martyn&quot;</td><td>&quot;R&quot;</td><td>null</td><td>&quot;GBR&quot;</td><td>22.6</td><td>&quot;6-3 7-6&quot;</td><td>3</td><td>&quot;R32&quot;</td><td>null</td><td>null</td><td>null</td><td>null</td><td>null</td><td>null</td><td>null</td><td>null</td><td>null</td><td>null</td><td>null</td><td>null</td><td>null</td><td>null</td><td>null</td><td>null</td><td>null</td><td>null</td><td>null</td><td>&quot;420&quot;</td><td>&quot;33&quot;</td><td>&quot;862&quot;</td><td>&quot;3&quot;</td><td>&quot;India Masters 1_1990&quot;</td></tr><tr><td>&hellip;</td><td>&hellip;</td><td>&hellip;</td><td>&hellip;</td><td>&hellip;</td><td>&hellip;</td><td>&hellip;</td><td>&hellip;</td><td>&hellip;</td><td>&hellip;</td><td>&hellip;</td><td>&hellip;</td><td>&hellip;</td><td>&hellip;</td><td>&hellip;</td><td>&hellip;</td><td>&hellip;</td><td>&hellip;</td><td>&hellip;</td><td>&hellip;</td><td>&hellip;</td><td>&hellip;</td><td>&hellip;</td><td>&hellip;</td><td>&hellip;</td><td>&hellip;</td><td>&hellip;</td><td>&hellip;</td><td>&hellip;</td><td>&hellip;</td><td>&hellip;</td><td>&hellip;</td><td>&hellip;</td><td>&hellip;</td><td>&hellip;</td><td>&hellip;</td><td>&hellip;</td><td>&hellip;</td><td>&hellip;</td><td>&hellip;</td><td>&hellip;</td><td>&hellip;</td><td>&hellip;</td><td>&hellip;</td><td>&hellip;</td><td>&hellip;</td><td>&hellip;</td><td>&hellip;</td><td>&hellip;</td><td>&hellip;</td></tr><tr><td>&quot;2024-M-ITF-USA-2024-010&quot;</td><td>&quot;M25 Pensacola FL&quot;</td><td>&quot;Clay&quot;</td><td>32</td><td>&quot;25&quot;</td><td>2024-05-13</td><td>303</td><td>&quot;210044&quot;</td><td>&quot;5&quot;</td><td>null</td><td>&quot;Bruno Kuzuhara&quot;</td><td>&quot;U&quot;</td><td>null</td><td>&quot;USA&quot;</td><td>20.0</td><td>&quot;132054&quot;</td><td>null</td><td>null</td><td>&quot;Nathan Ponwith&quot;</td><td>&quot;U&quot;</td><td>null</td><td>&quot;USA&quot;</td><td>26.0</td><td>&quot;6-3 6-3&quot;</td><td>3</td><td>&quot;QF&quot;</td><td>null</td><td>null</td><td>null</td><td>null</td><td>null</td><td>null</td><td>null</td><td>null</td><td>null</td><td>null</td><td>null</td><td>null</td><td>null</td><td>null</td><td>null</td><td>null</td><td>null</td><td>null</td><td>null</td><td>&quot;469&quot;</td><td>&quot;92&quot;</td><td>&quot;745&quot;</td><td>&quot;34&quot;</td><td>&quot;M25 Pensacola FL_2024&quot;</td></tr><tr><td>&quot;2024-M-ITF-USA-2024-010&quot;</td><td>&quot;M25 Pensacola FL&quot;</td><td>&quot;Clay&quot;</td><td>32</td><td>&quot;25&quot;</td><td>2024-05-13</td><td>304</td><td>&quot;200273&quot;</td><td>&quot;2&quot;</td><td>null</td><td>&quot;Hady Habib&quot;</td><td>&quot;R&quot;</td><td>null</td><td>&quot;LBN&quot;</td><td>25.7</td><td>&quot;132052&quot;</td><td>&quot;7&quot;</td><td>null</td><td>&quot;Christian Langmo&quot;</td><td>&quot;U&quot;</td><td>null</td><td>&quot;USA&quot;</td><td>27.9</td><td>&quot;1-6 6-3 6-3&quot;</td><td>3</td><td>&quot;QF&quot;</td><td>null</td><td>null</td><td>null</td><td>null</td><td>null</td><td>null</td><td>null</td><td>null</td><td>null</td><td>null</td><td>null</td><td>null</td><td>null</td><td>null</td><td>null</td><td>null</td><td>null</td><td>null</td><td>null</td><td>&quot;286&quot;</td><td>&quot;196&quot;</td><td>&quot;507&quot;</td><td>&quot;77&quot;</td><td>&quot;M25 Pensacola FL_2024&quot;</td></tr><tr><td>&quot;2024-M-ITF-USA-2024-010&quot;</td><td>&quot;M25 Pensacola FL&quot;</td><td>&quot;Clay&quot;</td><td>32</td><td>&quot;25&quot;</td><td>2024-05-13</td><td>401</td><td>&quot;200748&quot;</td><td>&quot;4&quot;</td><td>null</td><td>&quot;Andres Andrade&quot;</td><td>&quot;R&quot;</td><td>null</td><td>&quot;ECU&quot;</td><td>25.3</td><td>&quot;106071&quot;</td><td>&quot;1&quot;</td><td>null</td><td>&quot;Bernard Tomic&quot;</td><td>&quot;R&quot;</td><td>193</td><td>&quot;AUS&quot;</td><td>31.5</td><td>&quot;RET&quot;</td><td>3</td><td>&quot;SF&quot;</td><td>null</td><td>null</td><td>null</td><td>null</td><td>null</td><td>null</td><td>null</td><td>null</td><td>null</td><td>null</td><td>null</td><td>null</td><td>null</td><td>null</td><td>null</td><td>null</td><td>null</td><td>null</td><td>null</td><td>&quot;374&quot;</td><td>&quot;133&quot;</td><td>&quot;256&quot;</td><td>&quot;230&quot;</td><td>&quot;M25 Pensacola FL_2024&quot;</td></tr><tr><td>&quot;2024-M-ITF-USA-2024-010&quot;</td><td>&quot;M25 Pensacola FL&quot;</td><td>&quot;Clay&quot;</td><td>32</td><td>&quot;25&quot;</td><td>2024-05-13</td><td>402</td><td>&quot;200273&quot;</td><td>&quot;2&quot;</td><td>null</td><td>&quot;Hady Habib&quot;</td><td>&quot;R&quot;</td><td>null</td><td>&quot;LBN&quot;</td><td>25.7</td><td>&quot;210044&quot;</td><td>&quot;5&quot;</td><td>null</td><td>&quot;Bruno Kuzuhara&quot;</td><td>&quot;U&quot;</td><td>null</td><td>&quot;USA&quot;</td><td>20.0</td><td>&quot;6-4 6-4&quot;</td><td>3</td><td>&quot;SF&quot;</td><td>null</td><td>null</td><td>null</td><td>null</td><td>null</td><td>null</td><td>null</td><td>null</td><td>null</td><td>null</td><td>null</td><td>null</td><td>null</td><td>null</td><td>null</td><td>null</td><td>null</td><td>null</td><td>null</td><td>&quot;286&quot;</td><td>&quot;196&quot;</td><td>&quot;469&quot;</td><td>&quot;92&quot;</td><td>&quot;M25 Pensacola FL_2024&quot;</td></tr><tr><td>&quot;2024-M-ITF-USA-2024-010&quot;</td><td>&quot;M25 Pensacola FL&quot;</td><td>&quot;Clay&quot;</td><td>32</td><td>&quot;25&quot;</td><td>2024-05-13</td><td>501</td><td>&quot;200748&quot;</td><td>&quot;4&quot;</td><td>null</td><td>&quot;Andres Andrade&quot;</td><td>&quot;R&quot;</td><td>null</td><td>&quot;ECU&quot;</td><td>25.3</td><td>&quot;200273&quot;</td><td>&quot;2&quot;</td><td>null</td><td>&quot;Hady Habib&quot;</td><td>&quot;R&quot;</td><td>null</td><td>&quot;LBN&quot;</td><td>25.7</td><td>&quot;7-6(5) 7-5&quot;</td><td>3</td><td>&quot;F&quot;</td><td>null</td><td>null</td><td>null</td><td>null</td><td>null</td><td>null</td><td>null</td><td>null</td><td>null</td><td>null</td><td>null</td><td>null</td><td>null</td><td>null</td><td>null</td><td>null</td><td>null</td><td>null</td><td>null</td><td>&quot;374&quot;</td><td>&quot;133&quot;</td><td>&quot;286&quot;</td><td>&quot;196&quot;</td><td>&quot;M25 Pensacola FL_2024&quot;</td></tr></tbody></table></div>"
      ],
      "text/plain": [
       "shape: (486_553, 50)\n",
       "┌────────────┬───────────┬─────────┬───────────┬───┬───────────┬───────────┬───────────┬───────────┐\n",
       "│ tourney_id ┆ tourney_n ┆ surface ┆ draw_size ┆ … ┆ winner_ra ┆ loser_ran ┆ loser_ran ┆ tourney_n │\n",
       "│ ---        ┆ ame       ┆ ---     ┆ ---       ┆   ┆ nk_points ┆ k         ┆ k_points  ┆ ame_date  │\n",
       "│ str        ┆ ---       ┆ str     ┆ i64       ┆   ┆ ---       ┆ ---       ┆ ---       ┆ ---       │\n",
       "│            ┆ str       ┆         ┆           ┆   ┆ str       ┆ str       ┆ str       ┆ str       │\n",
       "╞════════════╪═══════════╪═════════╪═══════════╪═══╪═══════════╪═══════════╪═══════════╪═══════════╡\n",
       "│ 1991-M-SA- ┆ India     ┆ Hard    ┆ 32        ┆ … ┆ 82        ┆ 805       ┆ 4         ┆ India     │\n",
       "│ IND-02A-19 ┆ Masters 1 ┆         ┆           ┆   ┆           ┆           ┆           ┆ Masters   │\n",
       "│ 90a        ┆           ┆         ┆           ┆   ┆           ┆           ┆           ┆ 1_1990    │\n",
       "│ 1991-M-SA- ┆ India     ┆ Hard    ┆ 32        ┆ … ┆ 2         ┆ 692       ┆ 8         ┆ India     │\n",
       "│ IND-02A-19 ┆ Masters 1 ┆         ┆           ┆   ┆           ┆           ┆           ┆ Masters   │\n",
       "│ 90a        ┆           ┆         ┆           ┆   ┆           ┆           ┆           ┆ 1_1990    │\n",
       "│ 1991-M-SA- ┆ India     ┆ Hard    ┆ 32        ┆ … ┆ 3         ┆ 862       ┆ 3         ┆ India     │\n",
       "│ IND-02A-19 ┆ Masters 1 ┆         ┆           ┆   ┆           ┆           ┆           ┆ Masters   │\n",
       "│ 90a        ┆           ┆         ┆           ┆   ┆           ┆           ┆           ┆ 1_1990    │\n",
       "│ 1991-M-SA- ┆ India     ┆ Hard    ┆ 32        ┆ … ┆ 8         ┆ 588       ┆ 14        ┆ India     │\n",
       "│ IND-02A-19 ┆ Masters 1 ┆         ┆           ┆   ┆           ┆           ┆           ┆ Masters   │\n",
       "│ 90a        ┆           ┆         ┆           ┆   ┆           ┆           ┆           ┆ 1_1990    │\n",
       "│ 1991-M-SA- ┆ India     ┆ Hard    ┆ 32        ┆ … ┆ 33        ┆ 862       ┆ 3         ┆ India     │\n",
       "│ IND-02A-19 ┆ Masters 1 ┆         ┆           ┆   ┆           ┆           ┆           ┆ Masters   │\n",
       "│ 90a        ┆           ┆         ┆           ┆   ┆           ┆           ┆           ┆ 1_1990    │\n",
       "│ …          ┆ …         ┆ …       ┆ …         ┆ … ┆ …         ┆ …         ┆ …         ┆ …         │\n",
       "│ 2024-M-ITF ┆ M25       ┆ Clay    ┆ 32        ┆ … ┆ 92        ┆ 745       ┆ 34        ┆ M25       │\n",
       "│ -USA-2024- ┆ Pensacola ┆         ┆           ┆   ┆           ┆           ┆           ┆ Pensacola │\n",
       "│ 010        ┆ FL        ┆         ┆           ┆   ┆           ┆           ┆           ┆ FL_2024   │\n",
       "│ 2024-M-ITF ┆ M25       ┆ Clay    ┆ 32        ┆ … ┆ 196       ┆ 507       ┆ 77        ┆ M25       │\n",
       "│ -USA-2024- ┆ Pensacola ┆         ┆           ┆   ┆           ┆           ┆           ┆ Pensacola │\n",
       "│ 010        ┆ FL        ┆         ┆           ┆   ┆           ┆           ┆           ┆ FL_2024   │\n",
       "│ 2024-M-ITF ┆ M25       ┆ Clay    ┆ 32        ┆ … ┆ 133       ┆ 256       ┆ 230       ┆ M25       │\n",
       "│ -USA-2024- ┆ Pensacola ┆         ┆           ┆   ┆           ┆           ┆           ┆ Pensacola │\n",
       "│ 010        ┆ FL        ┆         ┆           ┆   ┆           ┆           ┆           ┆ FL_2024   │\n",
       "│ 2024-M-ITF ┆ M25       ┆ Clay    ┆ 32        ┆ … ┆ 196       ┆ 469       ┆ 92        ┆ M25       │\n",
       "│ -USA-2024- ┆ Pensacola ┆         ┆           ┆   ┆           ┆           ┆           ┆ Pensacola │\n",
       "│ 010        ┆ FL        ┆         ┆           ┆   ┆           ┆           ┆           ┆ FL_2024   │\n",
       "│ 2024-M-ITF ┆ M25       ┆ Clay    ┆ 32        ┆ … ┆ 133       ┆ 286       ┆ 196       ┆ M25       │\n",
       "│ -USA-2024- ┆ Pensacola ┆         ┆           ┆   ┆           ┆           ┆           ┆ Pensacola │\n",
       "│ 010        ┆ FL        ┆         ┆           ┆   ┆           ┆           ┆           ┆ FL_2024   │\n",
       "└────────────┴───────────┴─────────┴───────────┴───┴───────────┴───────────┴───────────┴───────────┘"
      ]
     },
     "execution_count": 25,
     "metadata": {},
     "output_type": "execute_result"
    }
   ],
   "source": [
    "matches_futures=import_tennis_matches(data_type=\"futures\",gender=\"atp\")\n",
    "\n",
    "matches_futures = matches_futures.with_columns(\n",
    "    (pl.col(\"tourney_name\") + \"_\" + pl.col(\"tourney_date\").dt.year().cast(pl.Utf8)).alias(\"tourney_name_date\")\n",
    ")\n",
    "matches_futures"
   ]
  },
  {
   "cell_type": "code",
   "execution_count": 26,
   "metadata": {},
   "outputs": [
    {
     "data": {
      "text/html": [
       "<div><style>\n",
       ".dataframe > thead > tr,\n",
       ".dataframe > tbody > tr {\n",
       "  text-align: right;\n",
       "  white-space: pre-wrap;\n",
       "}\n",
       "</style>\n",
       "<small>shape: (486_553, 51)</small><table border=\"1\" class=\"dataframe\"><thead><tr><th>tourney_id</th><th>tourney_name</th><th>surface</th><th>draw_size</th><th>tourney_level</th><th>tourney_date</th><th>match_num</th><th>winner_id</th><th>winner_seed</th><th>winner_entry</th><th>winner_name</th><th>winner_hand</th><th>winner_ht</th><th>winner_ioc</th><th>winner_age</th><th>loser_id</th><th>loser_seed</th><th>loser_entry</th><th>loser_name</th><th>loser_hand</th><th>loser_ht</th><th>loser_ioc</th><th>loser_age</th><th>score</th><th>best_of</th><th>round</th><th>minutes</th><th>w_ace</th><th>w_df</th><th>w_svpt</th><th>w_1stIn</th><th>w_1stWon</th><th>w_2ndWon</th><th>w_SvGms</th><th>w_bpSaved</th><th>w_bpFaced</th><th>l_ace</th><th>l_df</th><th>l_svpt</th><th>l_1stIn</th><th>l_1stWon</th><th>l_2ndWon</th><th>l_SvGms</th><th>l_bpSaved</th><th>l_bpFaced</th><th>winner_rank</th><th>winner_rank_points</th><th>loser_rank</th><th>loser_rank_points</th><th>tourney_name_date</th><th>minimum_prize_pool</th></tr><tr><td>str</td><td>str</td><td>str</td><td>i64</td><td>str</td><td>date</td><td>i64</td><td>str</td><td>str</td><td>str</td><td>str</td><td>str</td><td>i64</td><td>str</td><td>f64</td><td>str</td><td>str</td><td>str</td><td>str</td><td>str</td><td>i64</td><td>str</td><td>f64</td><td>str</td><td>i64</td><td>str</td><td>str</td><td>str</td><td>str</td><td>str</td><td>str</td><td>str</td><td>str</td><td>str</td><td>str</td><td>str</td><td>str</td><td>str</td><td>str</td><td>str</td><td>str</td><td>str</td><td>str</td><td>str</td><td>str</td><td>str</td><td>str</td><td>str</td><td>str</td><td>str</td><td>i64</td></tr></thead><tbody><tr><td>&quot;1991-M-SA-IND-02A-1990a&quot;</td><td>&quot;India Masters 1&quot;</td><td>&quot;Hard&quot;</td><td>32</td><td>&quot;S&quot;</td><td>1990-12-29</td><td>1</td><td>&quot;101484&quot;</td><td>&quot;1&quot;</td><td>null</td><td>&quot;Vladimir Gabrichidze&quot;</td><td>&quot;R&quot;</td><td>175</td><td>&quot;GEO&quot;</td><td>22.6</td><td>&quot;106937&quot;</td><td>null</td><td>null</td><td>&quot;Emilio Marturano&quot;</td><td>&quot;R&quot;</td><td>null</td><td>&quot;ITA&quot;</td><td>23.5</td><td>&quot;6-2 7-5&quot;</td><td>3</td><td>&quot;R32&quot;</td><td>null</td><td>null</td><td>null</td><td>null</td><td>null</td><td>null</td><td>null</td><td>null</td><td>null</td><td>null</td><td>null</td><td>null</td><td>null</td><td>null</td><td>null</td><td>null</td><td>null</td><td>null</td><td>null</td><td>&quot;266&quot;</td><td>&quot;82&quot;</td><td>&quot;805&quot;</td><td>&quot;4&quot;</td><td>&quot;India Masters 1_1990&quot;</td><td>null</td></tr><tr><td>&quot;1991-M-SA-IND-02A-1990a&quot;</td><td>&quot;India Masters 1&quot;</td><td>&quot;Hard&quot;</td><td>32</td><td>&quot;S&quot;</td><td>1990-12-29</td><td>2</td><td>&quot;106819&quot;</td><td>null</td><td>&quot;Q&quot;</td><td>&quot;Danilo Pila&quot;</td><td>&quot;R&quot;</td><td>null</td><td>&quot;PHI&quot;</td><td>30.2</td><td>&quot;107116&quot;</td><td>null</td><td>null</td><td>&quot;Goran Mihajlovic&quot;</td><td>&quot;R&quot;</td><td>null</td><td>&quot;YUG&quot;</td><td>19.6</td><td>&quot;6-3 6-2&quot;</td><td>3</td><td>&quot;R32&quot;</td><td>null</td><td>null</td><td>null</td><td>null</td><td>null</td><td>null</td><td>null</td><td>null</td><td>null</td><td>null</td><td>null</td><td>null</td><td>null</td><td>null</td><td>null</td><td>null</td><td>null</td><td>null</td><td>null</td><td>&quot;941&quot;</td><td>&quot;2&quot;</td><td>&quot;692&quot;</td><td>&quot;8&quot;</td><td>&quot;India Masters 1_1990&quot;</td><td>null</td></tr><tr><td>&quot;1991-M-SA-IND-02A-1990a&quot;</td><td>&quot;India Masters 1&quot;</td><td>&quot;Hard&quot;</td><td>32</td><td>&quot;S&quot;</td><td>1990-12-29</td><td>3</td><td>&quot;102216&quot;</td><td>null</td><td>&quot;LL&quot;</td><td>&quot;Mark Joachim&quot;</td><td>&quot;R&quot;</td><td>null</td><td>&quot;GER&quot;</td><td>17.6</td><td>&quot;108562&quot;</td><td>null</td><td>null</td><td>&quot;York Heidenreich&quot;</td><td>&quot;R&quot;</td><td>null</td><td>&quot;GER&quot;</td><td>null</td><td>&quot;6-1 6-3&quot;</td><td>3</td><td>&quot;R32&quot;</td><td>null</td><td>null</td><td>null</td><td>null</td><td>null</td><td>null</td><td>null</td><td>null</td><td>null</td><td>null</td><td>null</td><td>null</td><td>null</td><td>null</td><td>null</td><td>null</td><td>null</td><td>null</td><td>null</td><td>&quot;862&quot;</td><td>&quot;3&quot;</td><td>&quot;862&quot;</td><td>&quot;3&quot;</td><td>&quot;India Masters 1_1990&quot;</td><td>null</td></tr><tr><td>&quot;1991-M-SA-IND-02A-1990a&quot;</td><td>&quot;India Masters 1&quot;</td><td>&quot;Hard&quot;</td><td>32</td><td>&quot;S&quot;</td><td>1990-12-29</td><td>4</td><td>&quot;101663&quot;</td><td>null</td><td>null</td><td>&quot;Eugenio Rossi&quot;</td><td>&quot;R&quot;</td><td>null</td><td>&quot;ITA&quot;</td><td>21.1</td><td>&quot;106941&quot;</td><td>&quot;8&quot;</td><td>null</td><td>&quot;Eno Polo&quot;</td><td>&quot;R&quot;</td><td>null</td><td>&quot;KEN&quot;</td><td>23.5</td><td>&quot;6-4 6-4&quot;</td><td>3</td><td>&quot;R32&quot;</td><td>null</td><td>null</td><td>null</td><td>null</td><td>null</td><td>null</td><td>null</td><td>null</td><td>null</td><td>null</td><td>null</td><td>null</td><td>null</td><td>null</td><td>null</td><td>null</td><td>null</td><td>null</td><td>null</td><td>&quot;703&quot;</td><td>&quot;8&quot;</td><td>&quot;588&quot;</td><td>&quot;14&quot;</td><td>&quot;India Masters 1_1990&quot;</td><td>null</td></tr><tr><td>&quot;1991-M-SA-IND-02A-1990a&quot;</td><td>&quot;India Masters 1&quot;</td><td>&quot;Hard&quot;</td><td>32</td><td>&quot;S&quot;</td><td>1990-12-29</td><td>5</td><td>&quot;100794&quot;</td><td>&quot;4&quot;</td><td>null</td><td>&quot;Srinivasan Vasudevan&quot;</td><td>&quot;R&quot;</td><td>190</td><td>&quot;IND&quot;</td><td>28.9</td><td>&quot;101480&quot;</td><td>null</td><td>null</td><td>&quot;Jake Martyn&quot;</td><td>&quot;R&quot;</td><td>null</td><td>&quot;GBR&quot;</td><td>22.6</td><td>&quot;6-3 7-6&quot;</td><td>3</td><td>&quot;R32&quot;</td><td>null</td><td>null</td><td>null</td><td>null</td><td>null</td><td>null</td><td>null</td><td>null</td><td>null</td><td>null</td><td>null</td><td>null</td><td>null</td><td>null</td><td>null</td><td>null</td><td>null</td><td>null</td><td>null</td><td>&quot;420&quot;</td><td>&quot;33&quot;</td><td>&quot;862&quot;</td><td>&quot;3&quot;</td><td>&quot;India Masters 1_1990&quot;</td><td>null</td></tr><tr><td>&hellip;</td><td>&hellip;</td><td>&hellip;</td><td>&hellip;</td><td>&hellip;</td><td>&hellip;</td><td>&hellip;</td><td>&hellip;</td><td>&hellip;</td><td>&hellip;</td><td>&hellip;</td><td>&hellip;</td><td>&hellip;</td><td>&hellip;</td><td>&hellip;</td><td>&hellip;</td><td>&hellip;</td><td>&hellip;</td><td>&hellip;</td><td>&hellip;</td><td>&hellip;</td><td>&hellip;</td><td>&hellip;</td><td>&hellip;</td><td>&hellip;</td><td>&hellip;</td><td>&hellip;</td><td>&hellip;</td><td>&hellip;</td><td>&hellip;</td><td>&hellip;</td><td>&hellip;</td><td>&hellip;</td><td>&hellip;</td><td>&hellip;</td><td>&hellip;</td><td>&hellip;</td><td>&hellip;</td><td>&hellip;</td><td>&hellip;</td><td>&hellip;</td><td>&hellip;</td><td>&hellip;</td><td>&hellip;</td><td>&hellip;</td><td>&hellip;</td><td>&hellip;</td><td>&hellip;</td><td>&hellip;</td><td>&hellip;</td><td>&hellip;</td></tr><tr><td>&quot;2024-M-ITF-USA-2024-010&quot;</td><td>&quot;Pensacola FL&quot;</td><td>&quot;Clay&quot;</td><td>32</td><td>&quot;25&quot;</td><td>2024-05-13</td><td>303</td><td>&quot;210044&quot;</td><td>&quot;5&quot;</td><td>null</td><td>&quot;Bruno Kuzuhara&quot;</td><td>&quot;U&quot;</td><td>null</td><td>&quot;USA&quot;</td><td>20.0</td><td>&quot;132054&quot;</td><td>null</td><td>null</td><td>&quot;Nathan Ponwith&quot;</td><td>&quot;U&quot;</td><td>null</td><td>&quot;USA&quot;</td><td>26.0</td><td>&quot;6-3 6-3&quot;</td><td>3</td><td>&quot;QF&quot;</td><td>null</td><td>null</td><td>null</td><td>null</td><td>null</td><td>null</td><td>null</td><td>null</td><td>null</td><td>null</td><td>null</td><td>null</td><td>null</td><td>null</td><td>null</td><td>null</td><td>null</td><td>null</td><td>null</td><td>&quot;469&quot;</td><td>&quot;92&quot;</td><td>&quot;745&quot;</td><td>&quot;34&quot;</td><td>&quot;M25 Pensacola FL_2024&quot;</td><td>25000</td></tr><tr><td>&quot;2024-M-ITF-USA-2024-010&quot;</td><td>&quot;Pensacola FL&quot;</td><td>&quot;Clay&quot;</td><td>32</td><td>&quot;25&quot;</td><td>2024-05-13</td><td>304</td><td>&quot;200273&quot;</td><td>&quot;2&quot;</td><td>null</td><td>&quot;Hady Habib&quot;</td><td>&quot;R&quot;</td><td>null</td><td>&quot;LBN&quot;</td><td>25.7</td><td>&quot;132052&quot;</td><td>&quot;7&quot;</td><td>null</td><td>&quot;Christian Langmo&quot;</td><td>&quot;U&quot;</td><td>null</td><td>&quot;USA&quot;</td><td>27.9</td><td>&quot;1-6 6-3 6-3&quot;</td><td>3</td><td>&quot;QF&quot;</td><td>null</td><td>null</td><td>null</td><td>null</td><td>null</td><td>null</td><td>null</td><td>null</td><td>null</td><td>null</td><td>null</td><td>null</td><td>null</td><td>null</td><td>null</td><td>null</td><td>null</td><td>null</td><td>null</td><td>&quot;286&quot;</td><td>&quot;196&quot;</td><td>&quot;507&quot;</td><td>&quot;77&quot;</td><td>&quot;M25 Pensacola FL_2024&quot;</td><td>25000</td></tr><tr><td>&quot;2024-M-ITF-USA-2024-010&quot;</td><td>&quot;Pensacola FL&quot;</td><td>&quot;Clay&quot;</td><td>32</td><td>&quot;25&quot;</td><td>2024-05-13</td><td>401</td><td>&quot;200748&quot;</td><td>&quot;4&quot;</td><td>null</td><td>&quot;Andres Andrade&quot;</td><td>&quot;R&quot;</td><td>null</td><td>&quot;ECU&quot;</td><td>25.3</td><td>&quot;106071&quot;</td><td>&quot;1&quot;</td><td>null</td><td>&quot;Bernard Tomic&quot;</td><td>&quot;R&quot;</td><td>193</td><td>&quot;AUS&quot;</td><td>31.5</td><td>&quot;RET&quot;</td><td>3</td><td>&quot;SF&quot;</td><td>null</td><td>null</td><td>null</td><td>null</td><td>null</td><td>null</td><td>null</td><td>null</td><td>null</td><td>null</td><td>null</td><td>null</td><td>null</td><td>null</td><td>null</td><td>null</td><td>null</td><td>null</td><td>null</td><td>&quot;374&quot;</td><td>&quot;133&quot;</td><td>&quot;256&quot;</td><td>&quot;230&quot;</td><td>&quot;M25 Pensacola FL_2024&quot;</td><td>25000</td></tr><tr><td>&quot;2024-M-ITF-USA-2024-010&quot;</td><td>&quot;Pensacola FL&quot;</td><td>&quot;Clay&quot;</td><td>32</td><td>&quot;25&quot;</td><td>2024-05-13</td><td>402</td><td>&quot;200273&quot;</td><td>&quot;2&quot;</td><td>null</td><td>&quot;Hady Habib&quot;</td><td>&quot;R&quot;</td><td>null</td><td>&quot;LBN&quot;</td><td>25.7</td><td>&quot;210044&quot;</td><td>&quot;5&quot;</td><td>null</td><td>&quot;Bruno Kuzuhara&quot;</td><td>&quot;U&quot;</td><td>null</td><td>&quot;USA&quot;</td><td>20.0</td><td>&quot;6-4 6-4&quot;</td><td>3</td><td>&quot;SF&quot;</td><td>null</td><td>null</td><td>null</td><td>null</td><td>null</td><td>null</td><td>null</td><td>null</td><td>null</td><td>null</td><td>null</td><td>null</td><td>null</td><td>null</td><td>null</td><td>null</td><td>null</td><td>null</td><td>null</td><td>&quot;286&quot;</td><td>&quot;196&quot;</td><td>&quot;469&quot;</td><td>&quot;92&quot;</td><td>&quot;M25 Pensacola FL_2024&quot;</td><td>25000</td></tr><tr><td>&quot;2024-M-ITF-USA-2024-010&quot;</td><td>&quot;Pensacola FL&quot;</td><td>&quot;Clay&quot;</td><td>32</td><td>&quot;25&quot;</td><td>2024-05-13</td><td>501</td><td>&quot;200748&quot;</td><td>&quot;4&quot;</td><td>null</td><td>&quot;Andres Andrade&quot;</td><td>&quot;R&quot;</td><td>null</td><td>&quot;ECU&quot;</td><td>25.3</td><td>&quot;200273&quot;</td><td>&quot;2&quot;</td><td>null</td><td>&quot;Hady Habib&quot;</td><td>&quot;R&quot;</td><td>null</td><td>&quot;LBN&quot;</td><td>25.7</td><td>&quot;7-6(5) 7-5&quot;</td><td>3</td><td>&quot;F&quot;</td><td>null</td><td>null</td><td>null</td><td>null</td><td>null</td><td>null</td><td>null</td><td>null</td><td>null</td><td>null</td><td>null</td><td>null</td><td>null</td><td>null</td><td>null</td><td>null</td><td>null</td><td>null</td><td>null</td><td>&quot;374&quot;</td><td>&quot;133&quot;</td><td>&quot;286&quot;</td><td>&quot;196&quot;</td><td>&quot;M25 Pensacola FL_2024&quot;</td><td>25000</td></tr></tbody></table></div>"
      ],
      "text/plain": [
       "shape: (486_553, 51)\n",
       "┌────────────┬───────────┬─────────┬───────────┬───┬───────────┬───────────┬───────────┬───────────┐\n",
       "│ tourney_id ┆ tourney_n ┆ surface ┆ draw_size ┆ … ┆ loser_ran ┆ loser_ran ┆ tourney_n ┆ minimum_p │\n",
       "│ ---        ┆ ame       ┆ ---     ┆ ---       ┆   ┆ k         ┆ k_points  ┆ ame_date  ┆ rize_pool │\n",
       "│ str        ┆ ---       ┆ str     ┆ i64       ┆   ┆ ---       ┆ ---       ┆ ---       ┆ ---       │\n",
       "│            ┆ str       ┆         ┆           ┆   ┆ str       ┆ str       ┆ str       ┆ i64       │\n",
       "╞════════════╪═══════════╪═════════╪═══════════╪═══╪═══════════╪═══════════╪═══════════╪═══════════╡\n",
       "│ 1991-M-SA- ┆ India     ┆ Hard    ┆ 32        ┆ … ┆ 805       ┆ 4         ┆ India     ┆ null      │\n",
       "│ IND-02A-19 ┆ Masters 1 ┆         ┆           ┆   ┆           ┆           ┆ Masters   ┆           │\n",
       "│ 90a        ┆           ┆         ┆           ┆   ┆           ┆           ┆ 1_1990    ┆           │\n",
       "│ 1991-M-SA- ┆ India     ┆ Hard    ┆ 32        ┆ … ┆ 692       ┆ 8         ┆ India     ┆ null      │\n",
       "│ IND-02A-19 ┆ Masters 1 ┆         ┆           ┆   ┆           ┆           ┆ Masters   ┆           │\n",
       "│ 90a        ┆           ┆         ┆           ┆   ┆           ┆           ┆ 1_1990    ┆           │\n",
       "│ 1991-M-SA- ┆ India     ┆ Hard    ┆ 32        ┆ … ┆ 862       ┆ 3         ┆ India     ┆ null      │\n",
       "│ IND-02A-19 ┆ Masters 1 ┆         ┆           ┆   ┆           ┆           ┆ Masters   ┆           │\n",
       "│ 90a        ┆           ┆         ┆           ┆   ┆           ┆           ┆ 1_1990    ┆           │\n",
       "│ 1991-M-SA- ┆ India     ┆ Hard    ┆ 32        ┆ … ┆ 588       ┆ 14        ┆ India     ┆ null      │\n",
       "│ IND-02A-19 ┆ Masters 1 ┆         ┆           ┆   ┆           ┆           ┆ Masters   ┆           │\n",
       "│ 90a        ┆           ┆         ┆           ┆   ┆           ┆           ┆ 1_1990    ┆           │\n",
       "│ 1991-M-SA- ┆ India     ┆ Hard    ┆ 32        ┆ … ┆ 862       ┆ 3         ┆ India     ┆ null      │\n",
       "│ IND-02A-19 ┆ Masters 1 ┆         ┆           ┆   ┆           ┆           ┆ Masters   ┆           │\n",
       "│ 90a        ┆           ┆         ┆           ┆   ┆           ┆           ┆ 1_1990    ┆           │\n",
       "│ …          ┆ …         ┆ …       ┆ …         ┆ … ┆ …         ┆ …         ┆ …         ┆ …         │\n",
       "│ 2024-M-ITF ┆ Pensacola ┆ Clay    ┆ 32        ┆ … ┆ 745       ┆ 34        ┆ M25       ┆ 25000     │\n",
       "│ -USA-2024- ┆ FL        ┆         ┆           ┆   ┆           ┆           ┆ Pensacola ┆           │\n",
       "│ 010        ┆           ┆         ┆           ┆   ┆           ┆           ┆ FL_2024   ┆           │\n",
       "│ 2024-M-ITF ┆ Pensacola ┆ Clay    ┆ 32        ┆ … ┆ 507       ┆ 77        ┆ M25       ┆ 25000     │\n",
       "│ -USA-2024- ┆ FL        ┆         ┆           ┆   ┆           ┆           ┆ Pensacola ┆           │\n",
       "│ 010        ┆           ┆         ┆           ┆   ┆           ┆           ┆ FL_2024   ┆           │\n",
       "│ 2024-M-ITF ┆ Pensacola ┆ Clay    ┆ 32        ┆ … ┆ 256       ┆ 230       ┆ M25       ┆ 25000     │\n",
       "│ -USA-2024- ┆ FL        ┆         ┆           ┆   ┆           ┆           ┆ Pensacola ┆           │\n",
       "│ 010        ┆           ┆         ┆           ┆   ┆           ┆           ┆ FL_2024   ┆           │\n",
       "│ 2024-M-ITF ┆ Pensacola ┆ Clay    ┆ 32        ┆ … ┆ 469       ┆ 92        ┆ M25       ┆ 25000     │\n",
       "│ -USA-2024- ┆ FL        ┆         ┆           ┆   ┆           ┆           ┆ Pensacola ┆           │\n",
       "│ 010        ┆           ┆         ┆           ┆   ┆           ┆           ┆ FL_2024   ┆           │\n",
       "│ 2024-M-ITF ┆ Pensacola ┆ Clay    ┆ 32        ┆ … ┆ 286       ┆ 196       ┆ M25       ┆ 25000     │\n",
       "│ -USA-2024- ┆ FL        ┆         ┆           ┆   ┆           ┆           ┆ Pensacola ┆           │\n",
       "│ 010        ┆           ┆         ┆           ┆   ┆           ┆           ┆ FL_2024   ┆           │\n",
       "└────────────┴───────────┴─────────┴───────────┴───┴───────────┴───────────┴───────────┴───────────┘"
      ]
     },
     "execution_count": 26,
     "metadata": {},
     "output_type": "execute_result"
    }
   ],
   "source": [
    "#Creazione di colonna dove mettere il montepremi con ciclo for aggregato\n",
    "\n",
    "# Liste per salvare i risultati\n",
    "new_values = []\n",
    "updated_col1 = []\n",
    "\n",
    "# Itera su tutte le righe\n",
    "for value in matches_futures[\"tourney_name\"]:\n",
    "    if value.startswith(\"M\") and len(value) > 1 and value[1:].split()[0].isdigit():  # Controlla 'W' e numero\n",
    "        parts = value.split(maxsplit=1)  # Dividi al primo spazio\n",
    "        new_values.append(int(parts[0][1:]) * 1000)  # Moltiplica il numero per 1000\n",
    "        updated_col1.append(parts[1] if len(parts) > 1 else None)  # Rimuovi 'W<num>' e mantieni il resto\n",
    "    else:\n",
    "        new_values.append(None)  # Altrimenti, None nella nuova colonna\n",
    "        updated_col1.append(value)  # Mantieni il valore originale\n",
    "\n",
    "# Aggiorna il DataFrame con le due colonne\n",
    "matches_futures = matches_futures.with_columns([\n",
    "    pl.Series(\"tourney_name\", updated_col1),\n",
    "    pl.Series(\"minimum_prize_pool\", new_values),\n",
    "])\n",
    "matches_futures"
   ]
  },
  {
   "cell_type": "code",
   "execution_count": 27,
   "metadata": {},
   "outputs": [
    {
     "data": {
      "text/html": [
       "<div><style>\n",
       ".dataframe > thead > tr,\n",
       ".dataframe > tbody > tr {\n",
       "  text-align: right;\n",
       "  white-space: pre-wrap;\n",
       "}\n",
       "</style>\n",
       "<small>shape: (14_687, 6)</small><table border=\"1\" class=\"dataframe\"><thead><tr><th>tourney_name</th><th>surface</th><th>draw_size</th><th>tourney_level</th><th>tourney_date</th><th>tourney_name_date</th></tr><tr><td>str</td><td>str</td><td>i64</td><td>str</td><td>date</td><td>str</td></tr></thead><tbody><tr><td>&quot;Australia F1&quot;</td><td>&quot;Hard&quot;</td><td>32</td><td>&quot;S&quot;</td><td>2003-03-24</td><td>&quot;Australia F1_2003&quot;</td></tr><tr><td>&quot;Tunisia F1&quot;</td><td>&quot;Clay&quot;</td><td>32</td><td>&quot;S&quot;</td><td>2008-06-09</td><td>&quot;Tunisia F1_2008&quot;</td></tr><tr><td>&quot;USA F19&quot;</td><td>&quot;Hard&quot;</td><td>32</td><td>&quot;S&quot;</td><td>2017-06-19</td><td>&quot;USA F19_2017&quot;</td></tr><tr><td>&quot;USA 3 Masters 1&quot;</td><td>&quot;Hard&quot;</td><td>48</td><td>&quot;S&quot;</td><td>1993-06-11</td><td>&quot;USA 3 Masters 1_1993&quot;</td></tr><tr><td>&quot;Sweden Masters 2&quot;</td><td>&quot;Carpet&quot;</td><td>24</td><td>&quot;S&quot;</td><td>1995-09-09</td><td>&quot;Sweden Masters 2_1995&quot;</td></tr><tr><td>&hellip;</td><td>&hellip;</td><td>&hellip;</td><td>&hellip;</td><td>&hellip;</td><td>&hellip;</td></tr><tr><td>&quot;Finland F3&quot;</td><td>&quot;Clay&quot;</td><td>32</td><td>&quot;S&quot;</td><td>2017-08-14</td><td>&quot;Finland F3_2017&quot;</td></tr><tr><td>&quot;Mexico 1 Masters 2&quot;</td><td>&quot;Hard&quot;</td><td>32</td><td>&quot;S&quot;</td><td>1995-03-04</td><td>&quot;Mexico 1 Masters 2_1995&quot;</td></tr><tr><td>&quot;Australia F5&quot;</td><td>&quot;Hard&quot;</td><td>32</td><td>&quot;S&quot;</td><td>2009-09-14</td><td>&quot;Australia F5_2009&quot;</td></tr><tr><td>&quot;Australia F4&quot;</td><td>&quot;Hard&quot;</td><td>32</td><td>&quot;S&quot;</td><td>2008-03-17</td><td>&quot;Australia F4_2008&quot;</td></tr><tr><td>&quot;Iran F4&quot;</td><td>&quot;Clay&quot;</td><td>32</td><td>&quot;S&quot;</td><td>2005-09-19</td><td>&quot;Iran F4_2005&quot;</td></tr></tbody></table></div>"
      ],
      "text/plain": [
       "shape: (14_687, 6)\n",
       "┌────────────────────┬─────────┬───────────┬───────────────┬──────────────┬────────────────────────┐\n",
       "│ tourney_name       ┆ surface ┆ draw_size ┆ tourney_level ┆ tourney_date ┆ tourney_name_date      │\n",
       "│ ---                ┆ ---     ┆ ---       ┆ ---           ┆ ---          ┆ ---                    │\n",
       "│ str                ┆ str     ┆ i64       ┆ str           ┆ date         ┆ str                    │\n",
       "╞════════════════════╪═════════╪═══════════╪═══════════════╪══════════════╪════════════════════════╡\n",
       "│ Australia F1       ┆ Hard    ┆ 32        ┆ S             ┆ 2003-03-24   ┆ Australia F1_2003      │\n",
       "│ Tunisia F1         ┆ Clay    ┆ 32        ┆ S             ┆ 2008-06-09   ┆ Tunisia F1_2008        │\n",
       "│ USA F19            ┆ Hard    ┆ 32        ┆ S             ┆ 2017-06-19   ┆ USA F19_2017           │\n",
       "│ USA 3 Masters 1    ┆ Hard    ┆ 48        ┆ S             ┆ 1993-06-11   ┆ USA 3 Masters 1_1993   │\n",
       "│ Sweden Masters 2   ┆ Carpet  ┆ 24        ┆ S             ┆ 1995-09-09   ┆ Sweden Masters 2_1995  │\n",
       "│ …                  ┆ …       ┆ …         ┆ …             ┆ …            ┆ …                      │\n",
       "│ Finland F3         ┆ Clay    ┆ 32        ┆ S             ┆ 2017-08-14   ┆ Finland F3_2017        │\n",
       "│ Mexico 1 Masters 2 ┆ Hard    ┆ 32        ┆ S             ┆ 1995-03-04   ┆ Mexico 1 Masters       │\n",
       "│                    ┆         ┆           ┆               ┆              ┆ 2_1995                 │\n",
       "│ Australia F5       ┆ Hard    ┆ 32        ┆ S             ┆ 2009-09-14   ┆ Australia F5_2009      │\n",
       "│ Australia F4       ┆ Hard    ┆ 32        ┆ S             ┆ 2008-03-17   ┆ Australia F4_2008      │\n",
       "│ Iran F4            ┆ Clay    ┆ 32        ┆ S             ┆ 2005-09-19   ┆ Iran F4_2005           │\n",
       "└────────────────────┴─────────┴───────────┴───────────────┴──────────────┴────────────────────────┘"
      ]
     },
     "execution_count": 27,
     "metadata": {},
     "output_type": "execute_result"
    }
   ],
   "source": [
    "tourney_futures=matches_futures[['tourney_name', 'surface', 'draw_size', 'tourney_level', 'tourney_date', 'tourney_name_date']]\n",
    "\n",
    "tourney_futures=tourney_futures.unique('tourney_name_date')\n",
    "tourney_futures"
   ]
  },
  {
   "cell_type": "code",
   "execution_count": 28,
   "metadata": {},
   "outputs": [
    {
     "name": "stdout",
     "output_type": "stream",
     "text": [
      "Error importing wta_matches_qual_itf_2015.csv: invalid utf-8 sequence\n",
      "Error importing wta_matches_qual_itf_2016.csv: invalid utf-8 sequence\n",
      "Error importing wta_matches_qual_itf_2017.csv: invalid utf-8 sequence\n"
     ]
    },
    {
     "data": {
      "text/html": [
       "<div><style>\n",
       ".dataframe > thead > tr,\n",
       ".dataframe > tbody > tr {\n",
       "  text-align: right;\n",
       "  white-space: pre-wrap;\n",
       "}\n",
       "</style>\n",
       "<small>shape: (512_063, 50)</small><table border=\"1\" class=\"dataframe\"><thead><tr><th>tourney_id</th><th>tourney_name</th><th>surface</th><th>draw_size</th><th>tourney_level</th><th>tourney_date</th><th>match_num</th><th>winner_id</th><th>winner_seed</th><th>winner_entry</th><th>winner_name</th><th>winner_hand</th><th>winner_ht</th><th>winner_ioc</th><th>winner_age</th><th>loser_id</th><th>loser_seed</th><th>loser_entry</th><th>loser_name</th><th>loser_hand</th><th>loser_ht</th><th>loser_ioc</th><th>loser_age</th><th>score</th><th>best_of</th><th>round</th><th>minutes</th><th>w_ace</th><th>w_df</th><th>w_svpt</th><th>w_1stIn</th><th>w_1stWon</th><th>w_2ndWon</th><th>w_SvGms</th><th>w_bpSaved</th><th>w_bpFaced</th><th>l_ace</th><th>l_df</th><th>l_svpt</th><th>l_1stIn</th><th>l_1stWon</th><th>l_2ndWon</th><th>l_SvGms</th><th>l_bpSaved</th><th>l_bpFaced</th><th>winner_rank</th><th>winner_rank_points</th><th>loser_rank</th><th>loser_rank_points</th><th>tourney_name_date</th></tr><tr><td>str</td><td>str</td><td>str</td><td>i64</td><td>str</td><td>date</td><td>i64</td><td>str</td><td>str</td><td>str</td><td>str</td><td>str</td><td>i64</td><td>str</td><td>f64</td><td>str</td><td>str</td><td>str</td><td>str</td><td>str</td><td>i64</td><td>str</td><td>f64</td><td>str</td><td>i64</td><td>str</td><td>str</td><td>str</td><td>str</td><td>str</td><td>str</td><td>str</td><td>str</td><td>str</td><td>str</td><td>str</td><td>str</td><td>str</td><td>str</td><td>str</td><td>str</td><td>str</td><td>str</td><td>str</td><td>str</td><td>str</td><td>str</td><td>str</td><td>str</td><td>str</td></tr></thead><tbody><tr><td>&quot;1968-1004&quot;</td><td>&quot;Bournemouth&quot;</td><td>&quot;Clay&quot;</td><td>32</td><td>&quot;W&quot;</td><td>1968-04-22</td><td>201</td><td>&quot;200810&quot;</td><td>&quot;5&quot;</td><td>null</td><td>&quot;Annette Van Zyl&quot;</td><td>&quot;R&quot;</td><td>180</td><td>&quot;RSA&quot;</td><td>24.5</td><td>&quot;201114&quot;</td><td>null</td><td>null</td><td>&quot;Robin Lloyd&quot;</td><td>&quot;U&quot;</td><td>null</td><td>&quot;GBR&quot;</td><td>24.1</td><td>&quot;6-3 6-4&quot;</td><td>3</td><td>&quot;Q1&quot;</td><td>null</td><td>null</td><td>null</td><td>null</td><td>null</td><td>null</td><td>null</td><td>null</td><td>null</td><td>null</td><td>null</td><td>null</td><td>null</td><td>null</td><td>null</td><td>null</td><td>null</td><td>null</td><td>null</td><td>null</td><td>null</td><td>null</td><td>null</td><td>&quot;Bournemouth_1968&quot;</td></tr><tr><td>&quot;1968-1004&quot;</td><td>&quot;Bournemouth&quot;</td><td>&quot;Clay&quot;</td><td>32</td><td>&quot;W&quot;</td><td>1968-04-22</td><td>202</td><td>&quot;223881&quot;</td><td>null</td><td>null</td><td>&quot;Dianne Bridger&quot;</td><td>&quot;U&quot;</td><td>null</td><td>&quot;GBR&quot;</td><td>null</td><td>&quot;213882&quot;</td><td>null</td><td>null</td><td>&quot;Lena Reichel&quot;</td><td>&quot;U&quot;</td><td>null</td><td>&quot;AUT&quot;</td><td>-29.0</td><td>&quot;6-1 8-6&quot;</td><td>3</td><td>&quot;Q1&quot;</td><td>null</td><td>null</td><td>null</td><td>null</td><td>null</td><td>null</td><td>null</td><td>null</td><td>null</td><td>null</td><td>null</td><td>null</td><td>null</td><td>null</td><td>null</td><td>null</td><td>null</td><td>null</td><td>null</td><td>null</td><td>null</td><td>null</td><td>null</td><td>&quot;Bournemouth_1968&quot;</td></tr><tr><td>&quot;1968-1004&quot;</td><td>&quot;Bournemouth&quot;</td><td>&quot;Clay&quot;</td><td>32</td><td>&quot;W&quot;</td><td>1968-04-22</td><td>203</td><td>&quot;216633&quot;</td><td>null</td><td>null</td><td>&quot;Mary Mcanally&quot;</td><td>&quot;U&quot;</td><td>null</td><td>&quot;GBR&quot;</td><td>23.0</td><td>&quot;223997&quot;</td><td>null</td><td>null</td><td>&quot;Sandra Okin&quot;</td><td>&quot;U&quot;</td><td>null</td><td>&quot;GBR&quot;</td><td>null</td><td>&quot;3-6 6-4 6-2&quot;</td><td>3</td><td>&quot;Q1&quot;</td><td>null</td><td>null</td><td>null</td><td>null</td><td>null</td><td>null</td><td>null</td><td>null</td><td>null</td><td>null</td><td>null</td><td>null</td><td>null</td><td>null</td><td>null</td><td>null</td><td>null</td><td>null</td><td>null</td><td>null</td><td>null</td><td>null</td><td>null</td><td>&quot;Bournemouth_1968&quot;</td></tr><tr><td>&quot;1968-1004&quot;</td><td>&quot;Bournemouth&quot;</td><td>&quot;Clay&quot;</td><td>32</td><td>&quot;W&quot;</td><td>1968-04-22</td><td>204</td><td>&quot;223659&quot;</td><td>null</td><td>null</td><td>&quot;Heather Allen&quot;</td><td>&quot;U&quot;</td><td>null</td><td>&quot;GBR&quot;</td><td>3.8</td><td>&quot;224029&quot;</td><td>null</td><td>null</td><td>&quot;Jane Poynder&quot;</td><td>&quot;U&quot;</td><td>null</td><td>&quot;GBR&quot;</td><td>null</td><td>&quot;6-3 6-4&quot;</td><td>3</td><td>&quot;Q1&quot;</td><td>null</td><td>null</td><td>null</td><td>null</td><td>null</td><td>null</td><td>null</td><td>null</td><td>null</td><td>null</td><td>null</td><td>null</td><td>null</td><td>null</td><td>null</td><td>null</td><td>null</td><td>null</td><td>null</td><td>null</td><td>null</td><td>null</td><td>null</td><td>&quot;Bournemouth_1968&quot;</td></tr><tr><td>&quot;1968-1004&quot;</td><td>&quot;Bournemouth&quot;</td><td>&quot;Clay&quot;</td><td>32</td><td>&quot;W&quot;</td><td>1968-04-22</td><td>205</td><td>&quot;201121&quot;</td><td>null</td><td>null</td><td>&quot;Sue Tutt&quot;</td><td>&quot;U&quot;</td><td>null</td><td>&quot;GBR&quot;</td><td>null</td><td>&quot;201117&quot;</td><td>null</td><td>null</td><td>&quot;Margaret Harris&quot;</td><td>&quot;R&quot;</td><td>null</td><td>&quot;AUS&quot;</td><td>23.1</td><td>&quot;2-6 6-1 6-1&quot;</td><td>3</td><td>&quot;Q1&quot;</td><td>null</td><td>null</td><td>null</td><td>null</td><td>null</td><td>null</td><td>null</td><td>null</td><td>null</td><td>null</td><td>null</td><td>null</td><td>null</td><td>null</td><td>null</td><td>null</td><td>null</td><td>null</td><td>null</td><td>null</td><td>null</td><td>null</td><td>null</td><td>&quot;Bournemouth_1968&quot;</td></tr><tr><td>&hellip;</td><td>&hellip;</td><td>&hellip;</td><td>&hellip;</td><td>&hellip;</td><td>&hellip;</td><td>&hellip;</td><td>&hellip;</td><td>&hellip;</td><td>&hellip;</td><td>&hellip;</td><td>&hellip;</td><td>&hellip;</td><td>&hellip;</td><td>&hellip;</td><td>&hellip;</td><td>&hellip;</td><td>&hellip;</td><td>&hellip;</td><td>&hellip;</td><td>&hellip;</td><td>&hellip;</td><td>&hellip;</td><td>&hellip;</td><td>&hellip;</td><td>&hellip;</td><td>&hellip;</td><td>&hellip;</td><td>&hellip;</td><td>&hellip;</td><td>&hellip;</td><td>&hellip;</td><td>&hellip;</td><td>&hellip;</td><td>&hellip;</td><td>&hellip;</td><td>&hellip;</td><td>&hellip;</td><td>&hellip;</td><td>&hellip;</td><td>&hellip;</td><td>&hellip;</td><td>&hellip;</td><td>&hellip;</td><td>&hellip;</td><td>&hellip;</td><td>&hellip;</td><td>&hellip;</td><td>&hellip;</td><td>&hellip;</td></tr><tr><td>&quot;2024-406&quot;</td><td>&quot;Strasbourg&quot;</td><td>&quot;Clay&quot;</td><td>32</td><td>&quot;P&quot;</td><td>2024-05-20</td><td>262</td><td>&quot;221909&quot;</td><td>&quot;5&quot;</td><td>null</td><td>&quot;Ashlyn Krueger&quot;</td><td>&quot;R&quot;</td><td>185</td><td>&quot;USA&quot;</td><td>20.0</td><td>&quot;201329&quot;</td><td>null</td><td>&quot;ALT&quot;</td><td>&quot;Vera Zvonareva&quot;</td><td>&quot;R&quot;</td><td>172</td><td>&quot;RUS&quot;</td><td>39.6</td><td>&quot;6-0 6-0&quot;</td><td>3</td><td>&quot;Q1&quot;</td><td>&quot;52&quot;</td><td>&quot;1&quot;</td><td>&quot;3&quot;</td><td>&quot;38&quot;</td><td>&quot;30&quot;</td><td>&quot;23&quot;</td><td>&quot;4&quot;</td><td>&quot;6&quot;</td><td>&quot;4&quot;</td><td>&quot;4&quot;</td><td>&quot;0&quot;</td><td>&quot;4&quot;</td><td>&quot;38&quot;</td><td>&quot;25&quot;</td><td>&quot;9&quot;</td><td>&quot;1&quot;</td><td>&quot;6&quot;</td><td>&quot;3&quot;</td><td>&quot;9&quot;</td><td>&quot;65&quot;</td><td>&quot;994&quot;</td><td>&quot;264&quot;</td><td>&quot;276&quot;</td><td>&quot;Strasbourg_2024&quot;</td></tr><tr><td>&quot;2024-406&quot;</td><td>&quot;Strasbourg&quot;</td><td>&quot;Clay&quot;</td><td>32</td><td>&quot;P&quot;</td><td>2024-05-20</td><td>261</td><td>&quot;211684&quot;</td><td>&quot;3&quot;</td><td>null</td><td>&quot;Magdalena Frech&quot;</td><td>&quot;R&quot;</td><td>171</td><td>&quot;POL&quot;</td><td>26.4</td><td>&quot;221116&quot;</td><td>null</td><td>null</td><td>&quot;Jana Kolodynska&quot;</td><td>&quot;R&quot;</td><td>null</td><td>&quot;BLR&quot;</td><td>20.7</td><td>&quot;6-2 6-1&quot;</td><td>3</td><td>&quot;Q1&quot;</td><td>&quot;75&quot;</td><td>&quot;0&quot;</td><td>&quot;0&quot;</td><td>&quot;51&quot;</td><td>&quot;33&quot;</td><td>&quot;21&quot;</td><td>&quot;15&quot;</td><td>&quot;7&quot;</td><td>&quot;2&quot;</td><td>&quot;2&quot;</td><td>&quot;0&quot;</td><td>&quot;4&quot;</td><td>&quot;58&quot;</td><td>&quot;39&quot;</td><td>&quot;20&quot;</td><td>&quot;6&quot;</td><td>&quot;8&quot;</td><td>&quot;7&quot;</td><td>&quot;12&quot;</td><td>&quot;54&quot;</td><td>&quot;1108&quot;</td><td>&quot;244&quot;</td><td>&quot;304&quot;</td><td>&quot;Strasbourg_2024&quot;</td></tr><tr><td>&quot;2024-406&quot;</td><td>&quot;Strasbourg&quot;</td><td>&quot;Clay&quot;</td><td>32</td><td>&quot;P&quot;</td><td>2024-05-20</td><td>260</td><td>&quot;201611&quot;</td><td>&quot;7&quot;</td><td>null</td><td>&quot;Daria Saville&quot;</td><td>&quot;R&quot;</td><td>166</td><td>&quot;AUS&quot;</td><td>30.2</td><td>&quot;203281&quot;</td><td>null</td><td>&quot;WC&quot;</td><td>&quot;Amandine Hesse&quot;</td><td>&quot;R&quot;</td><td>164</td><td>&quot;FRA&quot;</td><td>31.3</td><td>&quot;6-1 6-1&quot;</td><td>3</td><td>&quot;Q1&quot;</td><td>&quot;63&quot;</td><td>&quot;0&quot;</td><td>&quot;1&quot;</td><td>&quot;41&quot;</td><td>&quot;27&quot;</td><td>&quot;21&quot;</td><td>&quot;10&quot;</td><td>&quot;7&quot;</td><td>&quot;3&quot;</td><td>&quot;3&quot;</td><td>&quot;1&quot;</td><td>&quot;1&quot;</td><td>&quot;49&quot;</td><td>&quot;33&quot;</td><td>&quot;14&quot;</td><td>&quot;7&quot;</td><td>&quot;7&quot;</td><td>&quot;6&quot;</td><td>&quot;11&quot;</td><td>&quot;85&quot;</td><td>&quot;820&quot;</td><td>&quot;273&quot;</td><td>&quot;266&quot;</td><td>&quot;Strasbourg_2024&quot;</td></tr><tr><td>&quot;2024-406&quot;</td><td>&quot;Strasbourg&quot;</td><td>&quot;Clay&quot;</td><td>32</td><td>&quot;P&quot;</td><td>2024-05-20</td><td>259</td><td>&quot;203564&quot;</td><td>null</td><td>null</td><td>&quot;Chloe Paquet&quot;</td><td>&quot;R&quot;</td><td>179</td><td>&quot;FRA&quot;</td><td>29.8</td><td>&quot;213550&quot;</td><td>&quot;4&quot;</td><td>null</td><td>&quot;Sofia Kenin&quot;</td><td>&quot;R&quot;</td><td>170</td><td>&quot;USA&quot;</td><td>25.5</td><td>&quot;6-4 7-6(4)&quot;</td><td>3</td><td>&quot;Q1&quot;</td><td>&quot;118&quot;</td><td>&quot;17&quot;</td><td>&quot;10&quot;</td><td>&quot;97&quot;</td><td>&quot;47&quot;</td><td>&quot;35&quot;</td><td>&quot;18&quot;</td><td>&quot;11&quot;</td><td>&quot;6&quot;</td><td>&quot;10&quot;</td><td>&quot;2&quot;</td><td>&quot;5&quot;</td><td>&quot;84&quot;</td><td>&quot;54&quot;</td><td>&quot;29&quot;</td><td>&quot;13&quot;</td><td>&quot;11&quot;</td><td>&quot;6&quot;</td><td>&quot;11&quot;</td><td>&quot;139&quot;</td><td>&quot;535&quot;</td><td>&quot;55&quot;</td><td>&quot;1094&quot;</td><td>&quot;Strasbourg_2024&quot;</td></tr><tr><td>&quot;2024-406&quot;</td><td>&quot;Strasbourg&quot;</td><td>&quot;Clay&quot;</td><td>32</td><td>&quot;P&quot;</td><td>2024-05-20</td><td>258</td><td>&quot;222965&quot;</td><td>&quot;8&quot;</td><td>null</td><td>&quot;Erika Andreeva&quot;</td><td>&quot;R&quot;</td><td>null</td><td>&quot;RUS&quot;</td><td>19.9</td><td>&quot;221039&quot;</td><td>null</td><td>null</td><td>&quot;Elsa Jacquemot&quot;</td><td>&quot;R&quot;</td><td>null</td><td>&quot;FRA&quot;</td><td>21.0</td><td>&quot;6-3 6-4&quot;</td><td>3</td><td>&quot;Q1&quot;</td><td>&quot;92&quot;</td><td>&quot;1&quot;</td><td>&quot;3&quot;</td><td>&quot;57&quot;</td><td>&quot;38&quot;</td><td>&quot;25&quot;</td><td>&quot;9&quot;</td><td>&quot;10&quot;</td><td>&quot;4&quot;</td><td>&quot;7&quot;</td><td>&quot;2&quot;</td><td>&quot;3&quot;</td><td>&quot;53&quot;</td><td>&quot;29&quot;</td><td>&quot;14&quot;</td><td>&quot;9&quot;</td><td>&quot;9&quot;</td><td>&quot;1&quot;</td><td>&quot;6&quot;</td><td>&quot;101&quot;</td><td>&quot;744&quot;</td><td>&quot;150&quot;</td><td>&quot;493&quot;</td><td>&quot;Strasbourg_2024&quot;</td></tr></tbody></table></div>"
      ],
      "text/plain": [
       "shape: (512_063, 50)\n",
       "┌────────────┬───────────┬─────────┬───────────┬───┬───────────┬───────────┬───────────┬───────────┐\n",
       "│ tourney_id ┆ tourney_n ┆ surface ┆ draw_size ┆ … ┆ winner_ra ┆ loser_ran ┆ loser_ran ┆ tourney_n │\n",
       "│ ---        ┆ ame       ┆ ---     ┆ ---       ┆   ┆ nk_points ┆ k         ┆ k_points  ┆ ame_date  │\n",
       "│ str        ┆ ---       ┆ str     ┆ i64       ┆   ┆ ---       ┆ ---       ┆ ---       ┆ ---       │\n",
       "│            ┆ str       ┆         ┆           ┆   ┆ str       ┆ str       ┆ str       ┆ str       │\n",
       "╞════════════╪═══════════╪═════════╪═══════════╪═══╪═══════════╪═══════════╪═══════════╪═══════════╡\n",
       "│ 1968-1004  ┆ Bournemou ┆ Clay    ┆ 32        ┆ … ┆ null      ┆ null      ┆ null      ┆ Bournemou │\n",
       "│            ┆ th        ┆         ┆           ┆   ┆           ┆           ┆           ┆ th_1968   │\n",
       "│ 1968-1004  ┆ Bournemou ┆ Clay    ┆ 32        ┆ … ┆ null      ┆ null      ┆ null      ┆ Bournemou │\n",
       "│            ┆ th        ┆         ┆           ┆   ┆           ┆           ┆           ┆ th_1968   │\n",
       "│ 1968-1004  ┆ Bournemou ┆ Clay    ┆ 32        ┆ … ┆ null      ┆ null      ┆ null      ┆ Bournemou │\n",
       "│            ┆ th        ┆         ┆           ┆   ┆           ┆           ┆           ┆ th_1968   │\n",
       "│ 1968-1004  ┆ Bournemou ┆ Clay    ┆ 32        ┆ … ┆ null      ┆ null      ┆ null      ┆ Bournemou │\n",
       "│            ┆ th        ┆         ┆           ┆   ┆           ┆           ┆           ┆ th_1968   │\n",
       "│ 1968-1004  ┆ Bournemou ┆ Clay    ┆ 32        ┆ … ┆ null      ┆ null      ┆ null      ┆ Bournemou │\n",
       "│            ┆ th        ┆         ┆           ┆   ┆           ┆           ┆           ┆ th_1968   │\n",
       "│ …          ┆ …         ┆ …       ┆ …         ┆ … ┆ …         ┆ …         ┆ …         ┆ …         │\n",
       "│ 2024-406   ┆ Strasbour ┆ Clay    ┆ 32        ┆ … ┆ 994       ┆ 264       ┆ 276       ┆ Strasbour │\n",
       "│            ┆ g         ┆         ┆           ┆   ┆           ┆           ┆           ┆ g_2024    │\n",
       "│ 2024-406   ┆ Strasbour ┆ Clay    ┆ 32        ┆ … ┆ 1108      ┆ 244       ┆ 304       ┆ Strasbour │\n",
       "│            ┆ g         ┆         ┆           ┆   ┆           ┆           ┆           ┆ g_2024    │\n",
       "│ 2024-406   ┆ Strasbour ┆ Clay    ┆ 32        ┆ … ┆ 820       ┆ 273       ┆ 266       ┆ Strasbour │\n",
       "│            ┆ g         ┆         ┆           ┆   ┆           ┆           ┆           ┆ g_2024    │\n",
       "│ 2024-406   ┆ Strasbour ┆ Clay    ┆ 32        ┆ … ┆ 535       ┆ 55        ┆ 1094      ┆ Strasbour │\n",
       "│            ┆ g         ┆         ┆           ┆   ┆           ┆           ┆           ┆ g_2024    │\n",
       "│ 2024-406   ┆ Strasbour ┆ Clay    ┆ 32        ┆ … ┆ 744       ┆ 150       ┆ 493       ┆ Strasbour │\n",
       "│            ┆ g         ┆         ┆           ┆   ┆           ┆           ┆           ┆ g_2024    │\n",
       "└────────────┴───────────┴─────────┴───────────┴───┴───────────┴───────────┴───────────┴───────────┘"
      ]
     },
     "execution_count": 28,
     "metadata": {},
     "output_type": "execute_result"
    }
   ],
   "source": [
    "matches_qualifiers_itf=import_tennis_matches(data_type=\"qualifiers_itf\",gender=\"wta\")\n",
    "\n",
    "matches_qualifiers_itf = matches_qualifiers_itf.with_columns(\n",
    "    (pl.col(\"tourney_name\") + \"_\" + pl.col(\"tourney_date\").dt.year().cast(pl.Utf8)).alias(\"tourney_name_date\")\n",
    ")\n",
    "matches_qualifiers_itf"
   ]
  },
  {
   "cell_type": "code",
   "execution_count": 29,
   "metadata": {},
   "outputs": [
    {
     "data": {
      "text/html": [
       "<div><style>\n",
       ".dataframe > thead > tr,\n",
       ".dataframe > tbody > tr {\n",
       "  text-align: right;\n",
       "  white-space: pre-wrap;\n",
       "}\n",
       "</style>\n",
       "<small>shape: (512_063, 51)</small><table border=\"1\" class=\"dataframe\"><thead><tr><th>tourney_id</th><th>tourney_name</th><th>surface</th><th>draw_size</th><th>tourney_level</th><th>tourney_date</th><th>match_num</th><th>winner_id</th><th>winner_seed</th><th>winner_entry</th><th>winner_name</th><th>winner_hand</th><th>winner_ht</th><th>winner_ioc</th><th>winner_age</th><th>loser_id</th><th>loser_seed</th><th>loser_entry</th><th>loser_name</th><th>loser_hand</th><th>loser_ht</th><th>loser_ioc</th><th>loser_age</th><th>score</th><th>best_of</th><th>round</th><th>minutes</th><th>w_ace</th><th>w_df</th><th>w_svpt</th><th>w_1stIn</th><th>w_1stWon</th><th>w_2ndWon</th><th>w_SvGms</th><th>w_bpSaved</th><th>w_bpFaced</th><th>l_ace</th><th>l_df</th><th>l_svpt</th><th>l_1stIn</th><th>l_1stWon</th><th>l_2ndWon</th><th>l_SvGms</th><th>l_bpSaved</th><th>l_bpFaced</th><th>winner_rank</th><th>winner_rank_points</th><th>loser_rank</th><th>loser_rank_points</th><th>tourney_name_date</th><th>monetary_winnings</th></tr><tr><td>str</td><td>str</td><td>str</td><td>i64</td><td>str</td><td>date</td><td>i64</td><td>str</td><td>str</td><td>str</td><td>str</td><td>str</td><td>i64</td><td>str</td><td>f64</td><td>str</td><td>str</td><td>str</td><td>str</td><td>str</td><td>i64</td><td>str</td><td>f64</td><td>str</td><td>i64</td><td>str</td><td>str</td><td>str</td><td>str</td><td>str</td><td>str</td><td>str</td><td>str</td><td>str</td><td>str</td><td>str</td><td>str</td><td>str</td><td>str</td><td>str</td><td>str</td><td>str</td><td>str</td><td>str</td><td>str</td><td>str</td><td>str</td><td>str</td><td>str</td><td>str</td><td>i64</td></tr></thead><tbody><tr><td>&quot;1968-1004&quot;</td><td>&quot;Bournemouth&quot;</td><td>&quot;Clay&quot;</td><td>32</td><td>&quot;W&quot;</td><td>1968-04-22</td><td>201</td><td>&quot;200810&quot;</td><td>&quot;5&quot;</td><td>null</td><td>&quot;Annette Van Zyl&quot;</td><td>&quot;R&quot;</td><td>180</td><td>&quot;RSA&quot;</td><td>24.5</td><td>&quot;201114&quot;</td><td>null</td><td>null</td><td>&quot;Robin Lloyd&quot;</td><td>&quot;U&quot;</td><td>null</td><td>&quot;GBR&quot;</td><td>24.1</td><td>&quot;6-3 6-4&quot;</td><td>3</td><td>&quot;Q1&quot;</td><td>null</td><td>null</td><td>null</td><td>null</td><td>null</td><td>null</td><td>null</td><td>null</td><td>null</td><td>null</td><td>null</td><td>null</td><td>null</td><td>null</td><td>null</td><td>null</td><td>null</td><td>null</td><td>null</td><td>null</td><td>null</td><td>null</td><td>null</td><td>&quot;Bournemouth_1968&quot;</td><td>null</td></tr><tr><td>&quot;1968-1004&quot;</td><td>&quot;Bournemouth&quot;</td><td>&quot;Clay&quot;</td><td>32</td><td>&quot;W&quot;</td><td>1968-04-22</td><td>202</td><td>&quot;223881&quot;</td><td>null</td><td>null</td><td>&quot;Dianne Bridger&quot;</td><td>&quot;U&quot;</td><td>null</td><td>&quot;GBR&quot;</td><td>null</td><td>&quot;213882&quot;</td><td>null</td><td>null</td><td>&quot;Lena Reichel&quot;</td><td>&quot;U&quot;</td><td>null</td><td>&quot;AUT&quot;</td><td>-29.0</td><td>&quot;6-1 8-6&quot;</td><td>3</td><td>&quot;Q1&quot;</td><td>null</td><td>null</td><td>null</td><td>null</td><td>null</td><td>null</td><td>null</td><td>null</td><td>null</td><td>null</td><td>null</td><td>null</td><td>null</td><td>null</td><td>null</td><td>null</td><td>null</td><td>null</td><td>null</td><td>null</td><td>null</td><td>null</td><td>null</td><td>&quot;Bournemouth_1968&quot;</td><td>null</td></tr><tr><td>&quot;1968-1004&quot;</td><td>&quot;Bournemouth&quot;</td><td>&quot;Clay&quot;</td><td>32</td><td>&quot;W&quot;</td><td>1968-04-22</td><td>203</td><td>&quot;216633&quot;</td><td>null</td><td>null</td><td>&quot;Mary Mcanally&quot;</td><td>&quot;U&quot;</td><td>null</td><td>&quot;GBR&quot;</td><td>23.0</td><td>&quot;223997&quot;</td><td>null</td><td>null</td><td>&quot;Sandra Okin&quot;</td><td>&quot;U&quot;</td><td>null</td><td>&quot;GBR&quot;</td><td>null</td><td>&quot;3-6 6-4 6-2&quot;</td><td>3</td><td>&quot;Q1&quot;</td><td>null</td><td>null</td><td>null</td><td>null</td><td>null</td><td>null</td><td>null</td><td>null</td><td>null</td><td>null</td><td>null</td><td>null</td><td>null</td><td>null</td><td>null</td><td>null</td><td>null</td><td>null</td><td>null</td><td>null</td><td>null</td><td>null</td><td>null</td><td>&quot;Bournemouth_1968&quot;</td><td>null</td></tr><tr><td>&quot;1968-1004&quot;</td><td>&quot;Bournemouth&quot;</td><td>&quot;Clay&quot;</td><td>32</td><td>&quot;W&quot;</td><td>1968-04-22</td><td>204</td><td>&quot;223659&quot;</td><td>null</td><td>null</td><td>&quot;Heather Allen&quot;</td><td>&quot;U&quot;</td><td>null</td><td>&quot;GBR&quot;</td><td>3.8</td><td>&quot;224029&quot;</td><td>null</td><td>null</td><td>&quot;Jane Poynder&quot;</td><td>&quot;U&quot;</td><td>null</td><td>&quot;GBR&quot;</td><td>null</td><td>&quot;6-3 6-4&quot;</td><td>3</td><td>&quot;Q1&quot;</td><td>null</td><td>null</td><td>null</td><td>null</td><td>null</td><td>null</td><td>null</td><td>null</td><td>null</td><td>null</td><td>null</td><td>null</td><td>null</td><td>null</td><td>null</td><td>null</td><td>null</td><td>null</td><td>null</td><td>null</td><td>null</td><td>null</td><td>null</td><td>&quot;Bournemouth_1968&quot;</td><td>null</td></tr><tr><td>&quot;1968-1004&quot;</td><td>&quot;Bournemouth&quot;</td><td>&quot;Clay&quot;</td><td>32</td><td>&quot;W&quot;</td><td>1968-04-22</td><td>205</td><td>&quot;201121&quot;</td><td>null</td><td>null</td><td>&quot;Sue Tutt&quot;</td><td>&quot;U&quot;</td><td>null</td><td>&quot;GBR&quot;</td><td>null</td><td>&quot;201117&quot;</td><td>null</td><td>null</td><td>&quot;Margaret Harris&quot;</td><td>&quot;R&quot;</td><td>null</td><td>&quot;AUS&quot;</td><td>23.1</td><td>&quot;2-6 6-1 6-1&quot;</td><td>3</td><td>&quot;Q1&quot;</td><td>null</td><td>null</td><td>null</td><td>null</td><td>null</td><td>null</td><td>null</td><td>null</td><td>null</td><td>null</td><td>null</td><td>null</td><td>null</td><td>null</td><td>null</td><td>null</td><td>null</td><td>null</td><td>null</td><td>null</td><td>null</td><td>null</td><td>null</td><td>&quot;Bournemouth_1968&quot;</td><td>null</td></tr><tr><td>&hellip;</td><td>&hellip;</td><td>&hellip;</td><td>&hellip;</td><td>&hellip;</td><td>&hellip;</td><td>&hellip;</td><td>&hellip;</td><td>&hellip;</td><td>&hellip;</td><td>&hellip;</td><td>&hellip;</td><td>&hellip;</td><td>&hellip;</td><td>&hellip;</td><td>&hellip;</td><td>&hellip;</td><td>&hellip;</td><td>&hellip;</td><td>&hellip;</td><td>&hellip;</td><td>&hellip;</td><td>&hellip;</td><td>&hellip;</td><td>&hellip;</td><td>&hellip;</td><td>&hellip;</td><td>&hellip;</td><td>&hellip;</td><td>&hellip;</td><td>&hellip;</td><td>&hellip;</td><td>&hellip;</td><td>&hellip;</td><td>&hellip;</td><td>&hellip;</td><td>&hellip;</td><td>&hellip;</td><td>&hellip;</td><td>&hellip;</td><td>&hellip;</td><td>&hellip;</td><td>&hellip;</td><td>&hellip;</td><td>&hellip;</td><td>&hellip;</td><td>&hellip;</td><td>&hellip;</td><td>&hellip;</td><td>&hellip;</td><td>&hellip;</td></tr><tr><td>&quot;2024-406&quot;</td><td>&quot;Strasbourg&quot;</td><td>&quot;Clay&quot;</td><td>32</td><td>&quot;P&quot;</td><td>2024-05-20</td><td>262</td><td>&quot;221909&quot;</td><td>&quot;5&quot;</td><td>null</td><td>&quot;Ashlyn Krueger&quot;</td><td>&quot;R&quot;</td><td>185</td><td>&quot;USA&quot;</td><td>20.0</td><td>&quot;201329&quot;</td><td>null</td><td>&quot;ALT&quot;</td><td>&quot;Vera Zvonareva&quot;</td><td>&quot;R&quot;</td><td>172</td><td>&quot;RUS&quot;</td><td>39.6</td><td>&quot;6-0 6-0&quot;</td><td>3</td><td>&quot;Q1&quot;</td><td>&quot;52&quot;</td><td>&quot;1&quot;</td><td>&quot;3&quot;</td><td>&quot;38&quot;</td><td>&quot;30&quot;</td><td>&quot;23&quot;</td><td>&quot;4&quot;</td><td>&quot;6&quot;</td><td>&quot;4&quot;</td><td>&quot;4&quot;</td><td>&quot;0&quot;</td><td>&quot;4&quot;</td><td>&quot;38&quot;</td><td>&quot;25&quot;</td><td>&quot;9&quot;</td><td>&quot;1&quot;</td><td>&quot;6&quot;</td><td>&quot;3&quot;</td><td>&quot;9&quot;</td><td>&quot;65&quot;</td><td>&quot;994&quot;</td><td>&quot;264&quot;</td><td>&quot;276&quot;</td><td>&quot;Strasbourg_2024&quot;</td><td>null</td></tr><tr><td>&quot;2024-406&quot;</td><td>&quot;Strasbourg&quot;</td><td>&quot;Clay&quot;</td><td>32</td><td>&quot;P&quot;</td><td>2024-05-20</td><td>261</td><td>&quot;211684&quot;</td><td>&quot;3&quot;</td><td>null</td><td>&quot;Magdalena Frech&quot;</td><td>&quot;R&quot;</td><td>171</td><td>&quot;POL&quot;</td><td>26.4</td><td>&quot;221116&quot;</td><td>null</td><td>null</td><td>&quot;Jana Kolodynska&quot;</td><td>&quot;R&quot;</td><td>null</td><td>&quot;BLR&quot;</td><td>20.7</td><td>&quot;6-2 6-1&quot;</td><td>3</td><td>&quot;Q1&quot;</td><td>&quot;75&quot;</td><td>&quot;0&quot;</td><td>&quot;0&quot;</td><td>&quot;51&quot;</td><td>&quot;33&quot;</td><td>&quot;21&quot;</td><td>&quot;15&quot;</td><td>&quot;7&quot;</td><td>&quot;2&quot;</td><td>&quot;2&quot;</td><td>&quot;0&quot;</td><td>&quot;4&quot;</td><td>&quot;58&quot;</td><td>&quot;39&quot;</td><td>&quot;20&quot;</td><td>&quot;6&quot;</td><td>&quot;8&quot;</td><td>&quot;7&quot;</td><td>&quot;12&quot;</td><td>&quot;54&quot;</td><td>&quot;1108&quot;</td><td>&quot;244&quot;</td><td>&quot;304&quot;</td><td>&quot;Strasbourg_2024&quot;</td><td>null</td></tr><tr><td>&quot;2024-406&quot;</td><td>&quot;Strasbourg&quot;</td><td>&quot;Clay&quot;</td><td>32</td><td>&quot;P&quot;</td><td>2024-05-20</td><td>260</td><td>&quot;201611&quot;</td><td>&quot;7&quot;</td><td>null</td><td>&quot;Daria Saville&quot;</td><td>&quot;R&quot;</td><td>166</td><td>&quot;AUS&quot;</td><td>30.2</td><td>&quot;203281&quot;</td><td>null</td><td>&quot;WC&quot;</td><td>&quot;Amandine Hesse&quot;</td><td>&quot;R&quot;</td><td>164</td><td>&quot;FRA&quot;</td><td>31.3</td><td>&quot;6-1 6-1&quot;</td><td>3</td><td>&quot;Q1&quot;</td><td>&quot;63&quot;</td><td>&quot;0&quot;</td><td>&quot;1&quot;</td><td>&quot;41&quot;</td><td>&quot;27&quot;</td><td>&quot;21&quot;</td><td>&quot;10&quot;</td><td>&quot;7&quot;</td><td>&quot;3&quot;</td><td>&quot;3&quot;</td><td>&quot;1&quot;</td><td>&quot;1&quot;</td><td>&quot;49&quot;</td><td>&quot;33&quot;</td><td>&quot;14&quot;</td><td>&quot;7&quot;</td><td>&quot;7&quot;</td><td>&quot;6&quot;</td><td>&quot;11&quot;</td><td>&quot;85&quot;</td><td>&quot;820&quot;</td><td>&quot;273&quot;</td><td>&quot;266&quot;</td><td>&quot;Strasbourg_2024&quot;</td><td>null</td></tr><tr><td>&quot;2024-406&quot;</td><td>&quot;Strasbourg&quot;</td><td>&quot;Clay&quot;</td><td>32</td><td>&quot;P&quot;</td><td>2024-05-20</td><td>259</td><td>&quot;203564&quot;</td><td>null</td><td>null</td><td>&quot;Chloe Paquet&quot;</td><td>&quot;R&quot;</td><td>179</td><td>&quot;FRA&quot;</td><td>29.8</td><td>&quot;213550&quot;</td><td>&quot;4&quot;</td><td>null</td><td>&quot;Sofia Kenin&quot;</td><td>&quot;R&quot;</td><td>170</td><td>&quot;USA&quot;</td><td>25.5</td><td>&quot;6-4 7-6(4)&quot;</td><td>3</td><td>&quot;Q1&quot;</td><td>&quot;118&quot;</td><td>&quot;17&quot;</td><td>&quot;10&quot;</td><td>&quot;97&quot;</td><td>&quot;47&quot;</td><td>&quot;35&quot;</td><td>&quot;18&quot;</td><td>&quot;11&quot;</td><td>&quot;6&quot;</td><td>&quot;10&quot;</td><td>&quot;2&quot;</td><td>&quot;5&quot;</td><td>&quot;84&quot;</td><td>&quot;54&quot;</td><td>&quot;29&quot;</td><td>&quot;13&quot;</td><td>&quot;11&quot;</td><td>&quot;6&quot;</td><td>&quot;11&quot;</td><td>&quot;139&quot;</td><td>&quot;535&quot;</td><td>&quot;55&quot;</td><td>&quot;1094&quot;</td><td>&quot;Strasbourg_2024&quot;</td><td>null</td></tr><tr><td>&quot;2024-406&quot;</td><td>&quot;Strasbourg&quot;</td><td>&quot;Clay&quot;</td><td>32</td><td>&quot;P&quot;</td><td>2024-05-20</td><td>258</td><td>&quot;222965&quot;</td><td>&quot;8&quot;</td><td>null</td><td>&quot;Erika Andreeva&quot;</td><td>&quot;R&quot;</td><td>null</td><td>&quot;RUS&quot;</td><td>19.9</td><td>&quot;221039&quot;</td><td>null</td><td>null</td><td>&quot;Elsa Jacquemot&quot;</td><td>&quot;R&quot;</td><td>null</td><td>&quot;FRA&quot;</td><td>21.0</td><td>&quot;6-3 6-4&quot;</td><td>3</td><td>&quot;Q1&quot;</td><td>&quot;92&quot;</td><td>&quot;1&quot;</td><td>&quot;3&quot;</td><td>&quot;57&quot;</td><td>&quot;38&quot;</td><td>&quot;25&quot;</td><td>&quot;9&quot;</td><td>&quot;10&quot;</td><td>&quot;4&quot;</td><td>&quot;7&quot;</td><td>&quot;2&quot;</td><td>&quot;3&quot;</td><td>&quot;53&quot;</td><td>&quot;29&quot;</td><td>&quot;14&quot;</td><td>&quot;9&quot;</td><td>&quot;9&quot;</td><td>&quot;1&quot;</td><td>&quot;6&quot;</td><td>&quot;101&quot;</td><td>&quot;744&quot;</td><td>&quot;150&quot;</td><td>&quot;493&quot;</td><td>&quot;Strasbourg_2024&quot;</td><td>null</td></tr></tbody></table></div>"
      ],
      "text/plain": [
       "shape: (512_063, 51)\n",
       "┌────────────┬───────────┬─────────┬───────────┬───┬───────────┬───────────┬───────────┬───────────┐\n",
       "│ tourney_id ┆ tourney_n ┆ surface ┆ draw_size ┆ … ┆ loser_ran ┆ loser_ran ┆ tourney_n ┆ monetary_ │\n",
       "│ ---        ┆ ame       ┆ ---     ┆ ---       ┆   ┆ k         ┆ k_points  ┆ ame_date  ┆ winnings  │\n",
       "│ str        ┆ ---       ┆ str     ┆ i64       ┆   ┆ ---       ┆ ---       ┆ ---       ┆ ---       │\n",
       "│            ┆ str       ┆         ┆           ┆   ┆ str       ┆ str       ┆ str       ┆ i64       │\n",
       "╞════════════╪═══════════╪═════════╪═══════════╪═══╪═══════════╪═══════════╪═══════════╪═══════════╡\n",
       "│ 1968-1004  ┆ Bournemou ┆ Clay    ┆ 32        ┆ … ┆ null      ┆ null      ┆ Bournemou ┆ null      │\n",
       "│            ┆ th        ┆         ┆           ┆   ┆           ┆           ┆ th_1968   ┆           │\n",
       "│ 1968-1004  ┆ Bournemou ┆ Clay    ┆ 32        ┆ … ┆ null      ┆ null      ┆ Bournemou ┆ null      │\n",
       "│            ┆ th        ┆         ┆           ┆   ┆           ┆           ┆ th_1968   ┆           │\n",
       "│ 1968-1004  ┆ Bournemou ┆ Clay    ┆ 32        ┆ … ┆ null      ┆ null      ┆ Bournemou ┆ null      │\n",
       "│            ┆ th        ┆         ┆           ┆   ┆           ┆           ┆ th_1968   ┆           │\n",
       "│ 1968-1004  ┆ Bournemou ┆ Clay    ┆ 32        ┆ … ┆ null      ┆ null      ┆ Bournemou ┆ null      │\n",
       "│            ┆ th        ┆         ┆           ┆   ┆           ┆           ┆ th_1968   ┆           │\n",
       "│ 1968-1004  ┆ Bournemou ┆ Clay    ┆ 32        ┆ … ┆ null      ┆ null      ┆ Bournemou ┆ null      │\n",
       "│            ┆ th        ┆         ┆           ┆   ┆           ┆           ┆ th_1968   ┆           │\n",
       "│ …          ┆ …         ┆ …       ┆ …         ┆ … ┆ …         ┆ …         ┆ …         ┆ …         │\n",
       "│ 2024-406   ┆ Strasbour ┆ Clay    ┆ 32        ┆ … ┆ 264       ┆ 276       ┆ Strasbour ┆ null      │\n",
       "│            ┆ g         ┆         ┆           ┆   ┆           ┆           ┆ g_2024    ┆           │\n",
       "│ 2024-406   ┆ Strasbour ┆ Clay    ┆ 32        ┆ … ┆ 244       ┆ 304       ┆ Strasbour ┆ null      │\n",
       "│            ┆ g         ┆         ┆           ┆   ┆           ┆           ┆ g_2024    ┆           │\n",
       "│ 2024-406   ┆ Strasbour ┆ Clay    ┆ 32        ┆ … ┆ 273       ┆ 266       ┆ Strasbour ┆ null      │\n",
       "│            ┆ g         ┆         ┆           ┆   ┆           ┆           ┆ g_2024    ┆           │\n",
       "│ 2024-406   ┆ Strasbour ┆ Clay    ┆ 32        ┆ … ┆ 55        ┆ 1094      ┆ Strasbour ┆ null      │\n",
       "│            ┆ g         ┆         ┆           ┆   ┆           ┆           ┆ g_2024    ┆           │\n",
       "│ 2024-406   ┆ Strasbour ┆ Clay    ┆ 32        ┆ … ┆ 150       ┆ 493       ┆ Strasbour ┆ null      │\n",
       "│            ┆ g         ┆         ┆           ┆   ┆           ┆           ┆ g_2024    ┆           │\n",
       "└────────────┴───────────┴─────────┴───────────┴───┴───────────┴───────────┴───────────┴───────────┘"
      ]
     },
     "execution_count": 29,
     "metadata": {},
     "output_type": "execute_result"
    }
   ],
   "source": [
    "#Creazione di colonna dove mettere il montepremi con ciclo for aggregato\n",
    "\n",
    "# Liste per salvare i risultati\n",
    "new_values = []\n",
    "updated_col1 = []\n",
    "\n",
    "# Itera su tutte le righe\n",
    "for value in matches_qualifiers_itf[\"tourney_name\"]:\n",
    "    if value.startswith(\"W\") and len(value) > 1 and value[1:].split()[0].isdigit():  # Controlla 'W' e numero\n",
    "        parts = value.split(maxsplit=1)  # Dividi al primo spazio\n",
    "        new_values.append(int(parts[0][1:]) * 1000)  # Moltiplica il numero per 1000\n",
    "        updated_col1.append(parts[1] if len(parts) > 1 else None)  # Rimuovi 'W<num>' e mantieni il resto\n",
    "    else:\n",
    "        new_values.append(None)  # Altrimenti, None nella nuova colonna\n",
    "        updated_col1.append(value)  # Mantieni il valore originale\n",
    "\n",
    "# Aggiorna il DataFrame con le due colonne\n",
    "matches_qualifiers_itf = matches_qualifiers_itf.with_columns([\n",
    "    pl.Series(\"tourney_name\", updated_col1),\n",
    "    pl.Series(\"monetary_winnings\", new_values),\n",
    "])\n",
    "matches_qualifiers_itf"
   ]
  },
  {
   "cell_type": "code",
   "execution_count": 30,
   "metadata": {},
   "outputs": [
    {
     "data": {
      "text/html": [
       "<div><style>\n",
       ".dataframe > thead > tr,\n",
       ".dataframe > tbody > tr {\n",
       "  text-align: right;\n",
       "  white-space: pre-wrap;\n",
       "}\n",
       "</style>\n",
       "<small>shape: (12_160, 6)</small><table border=\"1\" class=\"dataframe\"><thead><tr><th>tourney_name</th><th>surface</th><th>draw_size</th><th>tourney_level</th><th>tourney_date</th><th>tourney_name_date</th></tr><tr><td>str</td><td>str</td><td>i64</td><td>str</td><td>date</td><td>str</td></tr></thead><tbody><tr><td>&quot;Schio $15K&quot;</td><td>&quot;Clay&quot;</td><td>32</td><td>&quot;15&quot;</td><td>2018-07-23</td><td>&quot;Schio $15K_2018&quot;</td></tr><tr><td>&quot;Toronto&quot;</td><td>&quot;Hard&quot;</td><td>32</td><td>&quot;60&quot;</td><td>2019-10-28</td><td>&quot;W60 Toronto_2019&quot;</td></tr><tr><td>&quot;Sydney&quot;</td><td>&quot;Hard&quot;</td><td>30</td><td>&quot;P&quot;</td><td>2012-01-09</td><td>&quot;Sydney_2012&quot;</td></tr><tr><td>&quot;Samara 25K&quot;</td><td>&quot;Carpet&quot;</td><td>32</td><td>&quot;25&quot;</td><td>1996-10-14</td><td>&quot;Samara 25K_1996&quot;</td></tr><tr><td>&quot;Innsbruck 10K&quot;</td><td>&quot;Clay&quot;</td><td>32</td><td>&quot;10&quot;</td><td>2007-09-10</td><td>&quot;Innsbruck 10K_2007&quot;</td></tr><tr><td>&hellip;</td><td>&hellip;</td><td>&hellip;</td><td>&hellip;</td><td>&hellip;</td><td>&hellip;</td></tr><tr><td>&quot;Osprey FL 25K&quot;</td><td>&quot;Clay&quot;</td><td>32</td><td>&quot;25&quot;</td><td>2011-04-11</td><td>&quot;Osprey FL 25K_2011&quot;</td></tr><tr><td>&quot;Brisbane&quot;</td><td>&quot;Hard&quot;</td><td>32</td><td>&quot;P&quot;</td><td>2012-01-02</td><td>&quot;Brisbane_2012&quot;</td></tr><tr><td>&quot;Darmstadt&quot;</td><td>&quot;Clay&quot;</td><td>32</td><td>&quot;25&quot;</td><td>2022-07-18</td><td>&quot;W25 Darmstadt_2022&quot;</td></tr><tr><td>&quot;ITF Istanbul 3&quot;</td><td>&quot;Hard&quot;</td><td>32</td><td>&quot;C&quot;</td><td>1995-08-07</td><td>&quot;ITF Istanbul 3_1995&quot;</td></tr><tr><td>&quot;Saint Petersburg 25K&quot;</td><td>&quot;Clay&quot;</td><td>32</td><td>&quot;25&quot;</td><td>2014-08-18</td><td>&quot;Saint Petersburg 25K_2014&quot;</td></tr></tbody></table></div>"
      ],
      "text/plain": [
       "shape: (12_160, 6)\n",
       "┌──────────────────────┬─────────┬───────────┬───────────────┬──────────────┬──────────────────────┐\n",
       "│ tourney_name         ┆ surface ┆ draw_size ┆ tourney_level ┆ tourney_date ┆ tourney_name_date    │\n",
       "│ ---                  ┆ ---     ┆ ---       ┆ ---           ┆ ---          ┆ ---                  │\n",
       "│ str                  ┆ str     ┆ i64       ┆ str           ┆ date         ┆ str                  │\n",
       "╞══════════════════════╪═════════╪═══════════╪═══════════════╪══════════════╪══════════════════════╡\n",
       "│ Schio $15K           ┆ Clay    ┆ 32        ┆ 15            ┆ 2018-07-23   ┆ Schio $15K_2018      │\n",
       "│ Toronto              ┆ Hard    ┆ 32        ┆ 60            ┆ 2019-10-28   ┆ W60 Toronto_2019     │\n",
       "│ Sydney               ┆ Hard    ┆ 30        ┆ P             ┆ 2012-01-09   ┆ Sydney_2012          │\n",
       "│ Samara 25K           ┆ Carpet  ┆ 32        ┆ 25            ┆ 1996-10-14   ┆ Samara 25K_1996      │\n",
       "│ Innsbruck 10K        ┆ Clay    ┆ 32        ┆ 10            ┆ 2007-09-10   ┆ Innsbruck 10K_2007   │\n",
       "│ …                    ┆ …       ┆ …         ┆ …             ┆ …            ┆ …                    │\n",
       "│ Osprey FL 25K        ┆ Clay    ┆ 32        ┆ 25            ┆ 2011-04-11   ┆ Osprey FL 25K_2011   │\n",
       "│ Brisbane             ┆ Hard    ┆ 32        ┆ P             ┆ 2012-01-02   ┆ Brisbane_2012        │\n",
       "│ Darmstadt            ┆ Clay    ┆ 32        ┆ 25            ┆ 2022-07-18   ┆ W25 Darmstadt_2022   │\n",
       "│ ITF Istanbul 3       ┆ Hard    ┆ 32        ┆ C             ┆ 1995-08-07   ┆ ITF Istanbul 3_1995  │\n",
       "│ Saint Petersburg 25K ┆ Clay    ┆ 32        ┆ 25            ┆ 2014-08-18   ┆ Saint Petersburg     │\n",
       "│                      ┆         ┆           ┆               ┆              ┆ 25K_2014             │\n",
       "└──────────────────────┴─────────┴───────────┴───────────────┴──────────────┴──────────────────────┘"
      ]
     },
     "execution_count": 30,
     "metadata": {},
     "output_type": "execute_result"
    }
   ],
   "source": [
    "tourney_qualifiers_itf=matches_qualifiers_itf[['tourney_name', 'surface', 'draw_size', 'tourney_level', 'tourney_date', 'tourney_name_date']]\n",
    "\n",
    "tourney_qualifiers_itf=tourney_qualifiers_itf.unique('tourney_name_date')\n",
    "tourney_qualifiers_itf"
   ]
  },
  {
   "cell_type": "code",
   "execution_count": 31,
   "metadata": {},
   "outputs": [
    {
     "data": {
      "text/html": [
       "<div><style>\n",
       ".dataframe > thead > tr,\n",
       ".dataframe > tbody > tr {\n",
       "  text-align: right;\n",
       "  white-space: pre-wrap;\n",
       "}\n",
       "</style>\n",
       "<small>shape: (26_399, 66)</small><table border=\"1\" class=\"dataframe\"><thead><tr><th>tourney_id</th><th>tourney_name</th><th>surface</th><th>draw_size</th><th>tourney_level</th><th>tourney_date</th><th>match_num</th><th>winner1_id</th><th>winner2_id</th><th>winner_seed</th><th>winner_entry</th><th>loser1_id</th><th>loser2_id</th><th>loser_seed</th><th>loser_entry</th><th>score</th><th>best_of</th><th>round</th><th>winner1_name</th><th>winner1_hand</th><th>winner1_ht</th><th>winner1_ioc</th><th>winner1_age</th><th>winner2_name</th><th>winner2_hand</th><th>winner2_ht</th><th>winner2_ioc</th><th>winner2_age</th><th>loser1_name</th><th>loser1_hand</th><th>loser1_ht</th><th>loser1_ioc</th><th>loser1_age</th><th>loser2_name</th><th>loser2_hand</th><th>loser2_ht</th><th>loser2_ioc</th><th>loser2_age</th><th>winner1_rank</th><th>winner1_rank_points</th><th>winner2_rank</th><th>winner2_rank_points</th><th>loser1_rank</th><th>loser1_rank_points</th><th>loser2_rank</th><th>loser2_rank_points</th><th>minutes</th><th>w_ace</th><th>w_df</th><th>w_svpt</th><th>w_1stIn</th><th>w_1stWon</th><th>w_2ndWon</th><th>w_SvGms</th><th>w_bpSaved</th><th>w_bpFaced</th><th>l_ace</th><th>l_df</th><th>l_svpt</th><th>l_1stIn</th><th>l_1stWon</th><th>l_2ndWon</th><th>l_SvGms</th><th>l_bpSaved</th><th>l_bpFaced</th><th>tourney_name_date</th></tr><tr><td>str</td><td>str</td><td>str</td><td>i64</td><td>str</td><td>date</td><td>i64</td><td>str</td><td>str</td><td>str</td><td>str</td><td>str</td><td>str</td><td>str</td><td>str</td><td>str</td><td>i64</td><td>str</td><td>str</td><td>str</td><td>i64</td><td>str</td><td>f64</td><td>str</td><td>str</td><td>i64</td><td>str</td><td>f64</td><td>str</td><td>str</td><td>i64</td><td>str</td><td>f64</td><td>str</td><td>str</td><td>i64</td><td>str</td><td>f64</td><td>i64</td><td>i64</td><td>i64</td><td>i64</td><td>i64</td><td>i64</td><td>i64</td><td>i64</td><td>str</td><td>str</td><td>str</td><td>str</td><td>str</td><td>str</td><td>str</td><td>str</td><td>str</td><td>str</td><td>str</td><td>str</td><td>str</td><td>str</td><td>str</td><td>str</td><td>str</td><td>str</td><td>str</td><td>str</td></tr></thead><tbody><tr><td>&quot;2000-301&quot;</td><td>&quot;Auckland&quot;</td><td>&quot;Hard&quot;</td><td>32</td><td>&quot;A&quot;</td><td>2000-01-10</td><td>300</td><td>&quot;101704&quot;</td><td>&quot;101097&quot;</td><td>&quot;1&quot;</td><td>null</td><td>&quot;101358&quot;</td><td>&quot;101543&quot;</td><td>&quot;2&quot;</td><td>null</td><td>&quot;7-5 6-4&quot;</td><td>3</td><td>&quot;F&quot;</td><td>&quot;Ellis Ferreira&quot;</td><td>&quot;L&quot;</td><td>188</td><td>&quot;RSA&quot;</td><td>29.889117</td><td>&quot;Rick Leach&quot;</td><td>&quot;L&quot;</td><td>188</td><td>&quot;USA&quot;</td><td>35.033539</td><td>&quot;Olivier Delaitre&quot;</td><td>&quot;R&quot;</td><td>170</td><td>&quot;FRA&quot;</td><td>32.610541</td><td>&quot;Jeff Tarango&quot;</td><td>&quot;L&quot;</td><td>180</td><td>&quot;USA&quot;</td><td>31.137577</td><td>13</td><td>0</td><td>15</td><td>0</td><td>16</td><td>0</td><td>17</td><td>0</td><td>null</td><td>null</td><td>null</td><td>null</td><td>null</td><td>null</td><td>null</td><td>null</td><td>null</td><td>null</td><td>null</td><td>null</td><td>null</td><td>null</td><td>null</td><td>null</td><td>null</td><td>null</td><td>null</td><td>&quot;Auckland_2000&quot;</td></tr><tr><td>&quot;2000-301&quot;</td><td>&quot;Auckland&quot;</td><td>&quot;Hard&quot;</td><td>32</td><td>&quot;A&quot;</td><td>2000-01-10</td><td>299</td><td>&quot;101704&quot;</td><td>&quot;101097&quot;</td><td>&quot;1&quot;</td><td>null</td><td>&quot;102562&quot;</td><td>&quot;101866&quot;</td><td>&quot;3&quot;</td><td>null</td><td>&quot;6-2 6-4&quot;</td><td>3</td><td>&quot;SF&quot;</td><td>&quot;Ellis Ferreira&quot;</td><td>&quot;L&quot;</td><td>188</td><td>&quot;RSA&quot;</td><td>29.889117</td><td>&quot;Rick Leach&quot;</td><td>&quot;L&quot;</td><td>188</td><td>&quot;USA&quot;</td><td>35.033539</td><td>&quot;Jiri Novak&quot;</td><td>&quot;R&quot;</td><td>190</td><td>&quot;CZE&quot;</td><td>24.804928</td><td>&quot;David Rikl&quot;</td><td>&quot;L&quot;</td><td>178</td><td>&quot;CZE&quot;</td><td>28.867899</td><td>13</td><td>0</td><td>15</td><td>0</td><td>34</td><td>0</td><td>29</td><td>0</td><td>null</td><td>null</td><td>null</td><td>null</td><td>null</td><td>null</td><td>null</td><td>null</td><td>null</td><td>null</td><td>null</td><td>null</td><td>null</td><td>null</td><td>null</td><td>null</td><td>null</td><td>null</td><td>null</td><td>&quot;Auckland_2000&quot;</td></tr><tr><td>&quot;2000-301&quot;</td><td>&quot;Auckland&quot;</td><td>&quot;Hard&quot;</td><td>32</td><td>&quot;A&quot;</td><td>2000-01-10</td><td>298</td><td>&quot;101358&quot;</td><td>&quot;101543&quot;</td><td>&quot;2&quot;</td><td>null</td><td>&quot;102664&quot;</td><td>&quot;101779&quot;</td><td>null</td><td>null</td><td>&quot;6-3 6-4&quot;</td><td>3</td><td>&quot;SF&quot;</td><td>&quot;Olivier Delaitre&quot;</td><td>&quot;R&quot;</td><td>170</td><td>&quot;FRA&quot;</td><td>32.610541</td><td>&quot;Jeff Tarango&quot;</td><td>&quot;L&quot;</td><td>180</td><td>&quot;USA&quot;</td><td>31.137577</td><td>&quot;Petr Pala&quot;</td><td>&quot;R&quot;</td><td>193</td><td>&quot;CZE&quot;</td><td>24.273785</td><td>&quot;Pavel Vizner&quot;</td><td>&quot;R&quot;</td><td>183</td><td>&quot;CZE&quot;</td><td>29.489391</td><td>16</td><td>0</td><td>17</td><td>0</td><td>97</td><td>0</td><td>74</td><td>0</td><td>null</td><td>null</td><td>null</td><td>null</td><td>null</td><td>null</td><td>null</td><td>null</td><td>null</td><td>null</td><td>null</td><td>null</td><td>null</td><td>null</td><td>null</td><td>null</td><td>null</td><td>null</td><td>null</td><td>&quot;Auckland_2000&quot;</td></tr><tr><td>&quot;2000-301&quot;</td><td>&quot;Auckland&quot;</td><td>&quot;Hard&quot;</td><td>32</td><td>&quot;A&quot;</td><td>2000-01-10</td><td>297</td><td>&quot;101704&quot;</td><td>&quot;101097&quot;</td><td>&quot;1&quot;</td><td>null</td><td>&quot;101342&quot;</td><td>&quot;102162&quot;</td><td>null</td><td>&quot;WC&quot;</td><td>&quot;6-3 6-4&quot;</td><td>3</td><td>&quot;QF&quot;</td><td>&quot;Ellis Ferreira&quot;</td><td>&quot;L&quot;</td><td>188</td><td>&quot;RSA&quot;</td><td>29.889117</td><td>&quot;Rick Leach&quot;</td><td>&quot;L&quot;</td><td>188</td><td>&quot;USA&quot;</td><td>35.033539</td><td>&quot;Patrick Galbraith&quot;</td><td>&quot;L&quot;</td><td>183</td><td>&quot;USA&quot;</td><td>32.736482</td><td>&quot;Chris Woodruff&quot;</td><td>&quot;R&quot;</td><td>188</td><td>&quot;USA&quot;</td><td>27.019849</td><td>13</td><td>0</td><td>15</td><td>0</td><td>65</td><td>0</td><td>248</td><td>0</td><td>null</td><td>null</td><td>null</td><td>null</td><td>null</td><td>null</td><td>null</td><td>null</td><td>null</td><td>null</td><td>null</td><td>null</td><td>null</td><td>null</td><td>null</td><td>null</td><td>null</td><td>null</td><td>null</td><td>&quot;Auckland_2000&quot;</td></tr><tr><td>&quot;2000-301&quot;</td><td>&quot;Auckland&quot;</td><td>&quot;Hard&quot;</td><td>32</td><td>&quot;A&quot;</td><td>2000-01-10</td><td>296</td><td>&quot;101358&quot;</td><td>&quot;101543&quot;</td><td>&quot;2&quot;</td><td>null</td><td>&quot;103483&quot;</td><td>&quot;102262&quot;</td><td>null</td><td>&quot;WC&quot;</td><td>&quot;6-2 6-4&quot;</td><td>3</td><td>&quot;QF&quot;</td><td>&quot;Olivier Delaitre&quot;</td><td>&quot;R&quot;</td><td>170</td><td>&quot;FRA&quot;</td><td>32.610541</td><td>&quot;Jeff Tarango&quot;</td><td>&quot;L&quot;</td><td>180</td><td>&quot;USA&quot;</td><td>31.137577</td><td>&quot;James Shortall&quot;</td><td>&quot;R&quot;</td><td>null</td><td>&quot;NZL&quot;</td><td>20.043806</td><td>&quot;Cristiano Testa&quot;</td><td>&quot;L&quot;</td><td>null</td><td>&quot;BRA&quot;</td><td>26.297057</td><td>16</td><td>0</td><td>17</td><td>0</td><td>779</td><td>0</td><td>114</td><td>0</td><td>null</td><td>null</td><td>null</td><td>null</td><td>null</td><td>null</td><td>null</td><td>null</td><td>null</td><td>null</td><td>null</td><td>null</td><td>null</td><td>null</td><td>null</td><td>null</td><td>null</td><td>null</td><td>null</td><td>&quot;Auckland_2000&quot;</td></tr><tr><td>&hellip;</td><td>&hellip;</td><td>&hellip;</td><td>&hellip;</td><td>&hellip;</td><td>&hellip;</td><td>&hellip;</td><td>&hellip;</td><td>&hellip;</td><td>&hellip;</td><td>&hellip;</td><td>&hellip;</td><td>&hellip;</td><td>&hellip;</td><td>&hellip;</td><td>&hellip;</td><td>&hellip;</td><td>&hellip;</td><td>&hellip;</td><td>&hellip;</td><td>&hellip;</td><td>&hellip;</td><td>&hellip;</td><td>&hellip;</td><td>&hellip;</td><td>&hellip;</td><td>&hellip;</td><td>&hellip;</td><td>&hellip;</td><td>&hellip;</td><td>&hellip;</td><td>&hellip;</td><td>&hellip;</td><td>&hellip;</td><td>&hellip;</td><td>&hellip;</td><td>&hellip;</td><td>&hellip;</td><td>&hellip;</td><td>&hellip;</td><td>&hellip;</td><td>&hellip;</td><td>&hellip;</td><td>&hellip;</td><td>&hellip;</td><td>&hellip;</td><td>&hellip;</td><td>&hellip;</td><td>&hellip;</td><td>&hellip;</td><td>&hellip;</td><td>&hellip;</td><td>&hellip;</td><td>&hellip;</td><td>&hellip;</td><td>&hellip;</td><td>&hellip;</td><td>&hellip;</td><td>&hellip;</td><td>&hellip;</td><td>&hellip;</td><td>&hellip;</td><td>&hellip;</td><td>&hellip;</td><td>&hellip;</td><td>&hellip;</td></tr><tr><td>&quot;2020-M-DC-2020-WG2-PO-MAR-VIE-…</td><td>&quot;Davis Cup WG2 PO: MAR vs VIE&quot;</td><td>&quot;Clay&quot;</td><td>4</td><td>&quot;D&quot;</td><td>2020-03-06</td><td>3</td><td>&quot;104917&quot;</td><td>&quot;104467&quot;</td><td>null</td><td>null</td><td>&quot;109042&quot;</td><td>&quot;122533&quot;</td><td>null</td><td>null</td><td>&quot;6-4 6-1&quot;</td><td>3</td><td>&quot;RR&quot;</td><td>&quot;Anas Fattar&quot;</td><td>&quot;R&quot;</td><td>null</td><td>&quot;MAR&quot;</td><td>32.807666</td><td>&quot;Lamine Ouahab&quot;</td><td>&quot;R&quot;</td><td>185</td><td>&quot;ALG&quot;</td><td>35.192334</td><td>&quot;Quoc Khanh Le&quot;</td><td>&quot;R&quot;</td><td>null</td><td>&quot;VIE&quot;</td><td>37.497604</td><td>&quot;Nam Hoang Ly&quot;</td><td>&quot;R&quot;</td><td>null</td><td>&quot;VIE&quot;</td><td>23.014374</td><td>683</td><td>48</td><td>942</td><td>26</td><td>null</td><td>null</td><td>1293</td><td>12</td><td>null</td><td>null</td><td>null</td><td>null</td><td>null</td><td>null</td><td>null</td><td>null</td><td>null</td><td>null</td><td>null</td><td>null</td><td>null</td><td>null</td><td>null</td><td>null</td><td>null</td><td>null</td><td>null</td><td>&quot;Davis Cup WG2 PO: MAR vs VIE_2…</td></tr><tr><td>&quot;2020-M-DC-2020-WG2-PO-PAR-SRI-…</td><td>&quot;Davis Cup WG2 PO: PAR vs SRI&quot;</td><td>&quot;Clay&quot;</td><td>4</td><td>&quot;D&quot;</td><td>2020-03-06</td><td>3</td><td>&quot;134677&quot;</td><td>&quot;137018&quot;</td><td>null</td><td>null</td><td>&quot;202462&quot;</td><td>&quot;134886&quot;</td><td>null</td><td>null</td><td>&quot;6-1 6-4&quot;</td><td>3</td><td>&quot;RR&quot;</td><td>&quot;Juan Borba&quot;</td><td>&quot;R&quot;</td><td>null</td><td>&quot;PAR&quot;</td><td>23.887748</td><td>&quot;Ayed Zatar&quot;</td><td>&quot;R&quot;</td><td>null</td><td>&quot;PAR&quot;</td><td>23.926078</td><td>&quot;Yasitha De Silva&quot;</td><td>null</td><td>null</td><td>&quot;SRI&quot;</td><td>24.665298</td><td>&quot;Sharmal Dissanayake&quot;</td><td>&quot;R&quot;</td><td>null</td><td>&quot;SRI&quot;</td><td>23.800137</td><td>null</td><td>null</td><td>null</td><td>null</td><td>null</td><td>null</td><td>null</td><td>null</td><td>null</td><td>null</td><td>null</td><td>null</td><td>null</td><td>null</td><td>null</td><td>null</td><td>null</td><td>null</td><td>null</td><td>null</td><td>null</td><td>null</td><td>null</td><td>null</td><td>null</td><td>null</td><td>null</td><td>&quot;Davis Cup WG2 PO: PAR vs SRI_2…</td></tr><tr><td>&quot;2020-M-DC-2020-WG2-PO-PHI-GRE-…</td><td>&quot;Davis Cup WG2 PO: PHI vs GRE&quot;</td><td>&quot;Clay&quot;</td><td>4</td><td>&quot;D&quot;</td><td>2020-03-06</td><td>3</td><td>&quot;108717&quot;</td><td>&quot;104604&quot;</td><td>null</td><td>null</td><td>&quot;109737&quot;</td><td>&quot;202065&quot;</td><td>null</td><td>null</td><td>&quot;7-6(5) 6-4&quot;</td><td>3</td><td>&quot;RR&quot;</td><td>&quot;Francis Casey Alcantara&quot;</td><td>&quot;U&quot;</td><td>null</td><td>&quot;PHI&quot;</td><td>28.073922</td><td>&quot;Ruben Gonzales&quot;</td><td>&quot;R&quot;</td><td>null</td><td>&quot;PHI&quot;</td><td>34.472279</td><td>&quot;Markos Kalovelonis&quot;</td><td>&quot;R&quot;</td><td>null</td><td>&quot;GRE&quot;</td><td>25.790554</td><td>&quot;Petros Tsitsipas&quot;</td><td>&quot;U&quot;</td><td>null</td><td>&quot;GRE&quot;</td><td>19.597536</td><td>537</td><td>69</td><td>212</td><td>307</td><td>503</td><td>77</td><td>1072</td><td>20</td><td>null</td><td>null</td><td>null</td><td>null</td><td>null</td><td>null</td><td>null</td><td>null</td><td>null</td><td>null</td><td>null</td><td>null</td><td>null</td><td>null</td><td>null</td><td>null</td><td>null</td><td>null</td><td>null</td><td>&quot;Davis Cup WG2 PO: PHI vs GRE_2…</td></tr><tr><td>&quot;2020-M-DC-2020-WG2-PO-POL-HKG-…</td><td>&quot;Davis Cup WG2 PO: POL vs HKG&quot;</td><td>&quot;Hard&quot;</td><td>4</td><td>&quot;D&quot;</td><td>2020-03-06</td><td>3</td><td>&quot;126166&quot;</td><td>&quot;126591&quot;</td><td>null</td><td>null</td><td>&quot;205695&quot;</td><td>&quot;106388&quot;</td><td>null</td><td>null</td><td>&quot;6-3 6-7(6) 6-3&quot;</td><td>3</td><td>&quot;RR&quot;</td><td>&quot;Szymon Walkow&quot;</td><td>&quot;R&quot;</td><td>null</td><td>&quot;POL&quot;</td><td>24.443532</td><td>&quot;Jan Zielinski&quot;</td><td>&quot;R&quot;</td><td>null</td><td>&quot;POL&quot;</td><td>23.290897</td><td>&quot;Ching Lam&quot;</td><td>&quot;R&quot;</td><td>null</td><td>&quot;HKG&quot;</td><td>20.495551</td><td>&quot;Pak Long Yeung&quot;</td><td>&quot;U&quot;</td><td>null</td><td>&quot;HKG&quot;</td><td>25.045859</td><td>182</td><td>389</td><td>295</td><td>178</td><td>null</td><td>null</td><td>557</td><td>66</td><td>null</td><td>null</td><td>null</td><td>null</td><td>null</td><td>null</td><td>null</td><td>null</td><td>null</td><td>null</td><td>null</td><td>null</td><td>null</td><td>null</td><td>null</td><td>null</td><td>null</td><td>null</td><td>null</td><td>&quot;Davis Cup WG2 PO: POL vs HKG_2…</td></tr><tr><td>&quot;2020-M-DC-2020-WG2-PO-SYR-ZIM-…</td><td>&quot;Davis Cup WG2 PO: SYR vs ZIM&quot;</td><td>&quot;Hard&quot;</td><td>4</td><td>&quot;D&quot;</td><td>2020-03-06</td><td>3</td><td>&quot;111761&quot;</td><td>&quot;144747&quot;</td><td>null</td><td>null</td><td>&quot;200153&quot;</td><td>&quot;208518&quot;</td><td>null</td><td>null</td><td>&quot;6-1 4-6 6-3&quot;</td><td>3</td><td>&quot;RR&quot;</td><td>&quot;Benjamin Lock&quot;</td><td>&quot;R&quot;</td><td>null</td><td>&quot;ZIM&quot;</td><td>26.995209</td><td>&quot;Courtney John Lock&quot;</td><td>&quot;R&quot;</td><td>null</td><td>&quot;ZIM&quot;</td><td>23.370294</td><td>&quot;Yacoub Makzoume&quot;</td><td>&quot;R&quot;</td><td>null</td><td>&quot;SYR&quot;</td><td>24.832307</td><td>&quot;Hazem Naw&quot;</td><td>&quot;R&quot;</td><td>null</td><td>&quot;UNK&quot;</td><td>20.167009</td><td>231</td><td>267</td><td>327</td><td>146</td><td>null</td><td>null</td><td>1929</td><td>2</td><td>null</td><td>null</td><td>null</td><td>null</td><td>null</td><td>null</td><td>null</td><td>null</td><td>null</td><td>null</td><td>null</td><td>null</td><td>null</td><td>null</td><td>null</td><td>null</td><td>null</td><td>null</td><td>null</td><td>&quot;Davis Cup WG2 PO: SYR vs ZIM_2…</td></tr></tbody></table></div>"
      ],
      "text/plain": [
       "shape: (26_399, 66)\n",
       "┌────────────┬────────────┬─────────┬───────────┬───┬─────────┬───────────┬───────────┬────────────┐\n",
       "│ tourney_id ┆ tourney_na ┆ surface ┆ draw_size ┆ … ┆ l_SvGms ┆ l_bpSaved ┆ l_bpFaced ┆ tourney_na │\n",
       "│ ---        ┆ me         ┆ ---     ┆ ---       ┆   ┆ ---     ┆ ---       ┆ ---       ┆ me_date    │\n",
       "│ str        ┆ ---        ┆ str     ┆ i64       ┆   ┆ str     ┆ str       ┆ str       ┆ ---        │\n",
       "│            ┆ str        ┆         ┆           ┆   ┆         ┆           ┆           ┆ str        │\n",
       "╞════════════╪════════════╪═════════╪═══════════╪═══╪═════════╪═══════════╪═══════════╪════════════╡\n",
       "│ 2000-301   ┆ Auckland   ┆ Hard    ┆ 32        ┆ … ┆ null    ┆ null      ┆ null      ┆ Auckland_2 │\n",
       "│            ┆            ┆         ┆           ┆   ┆         ┆           ┆           ┆ 000        │\n",
       "│ 2000-301   ┆ Auckland   ┆ Hard    ┆ 32        ┆ … ┆ null    ┆ null      ┆ null      ┆ Auckland_2 │\n",
       "│            ┆            ┆         ┆           ┆   ┆         ┆           ┆           ┆ 000        │\n",
       "│ 2000-301   ┆ Auckland   ┆ Hard    ┆ 32        ┆ … ┆ null    ┆ null      ┆ null      ┆ Auckland_2 │\n",
       "│            ┆            ┆         ┆           ┆   ┆         ┆           ┆           ┆ 000        │\n",
       "│ 2000-301   ┆ Auckland   ┆ Hard    ┆ 32        ┆ … ┆ null    ┆ null      ┆ null      ┆ Auckland_2 │\n",
       "│            ┆            ┆         ┆           ┆   ┆         ┆           ┆           ┆ 000        │\n",
       "│ 2000-301   ┆ Auckland   ┆ Hard    ┆ 32        ┆ … ┆ null    ┆ null      ┆ null      ┆ Auckland_2 │\n",
       "│            ┆            ┆         ┆           ┆   ┆         ┆           ┆           ┆ 000        │\n",
       "│ …          ┆ …          ┆ …       ┆ …         ┆ … ┆ …       ┆ …         ┆ …         ┆ …          │\n",
       "│ 2020-M-DC- ┆ Davis Cup  ┆ Clay    ┆ 4         ┆ … ┆ null    ┆ null      ┆ null      ┆ Davis Cup  │\n",
       "│ 2020-WG2-P ┆ WG2 PO:    ┆         ┆           ┆   ┆         ┆           ┆           ┆ WG2 PO:    │\n",
       "│ O-MAR-VIE- ┆ MAR vs VIE ┆         ┆           ┆   ┆         ┆           ┆           ┆ MAR vs     │\n",
       "│ …          ┆            ┆         ┆           ┆   ┆         ┆           ┆           ┆ VIE_2…     │\n",
       "│ 2020-M-DC- ┆ Davis Cup  ┆ Clay    ┆ 4         ┆ … ┆ null    ┆ null      ┆ null      ┆ Davis Cup  │\n",
       "│ 2020-WG2-P ┆ WG2 PO:    ┆         ┆           ┆   ┆         ┆           ┆           ┆ WG2 PO:    │\n",
       "│ O-PAR-SRI- ┆ PAR vs SRI ┆         ┆           ┆   ┆         ┆           ┆           ┆ PAR vs     │\n",
       "│ …          ┆            ┆         ┆           ┆   ┆         ┆           ┆           ┆ SRI_2…     │\n",
       "│ 2020-M-DC- ┆ Davis Cup  ┆ Clay    ┆ 4         ┆ … ┆ null    ┆ null      ┆ null      ┆ Davis Cup  │\n",
       "│ 2020-WG2-P ┆ WG2 PO:    ┆         ┆           ┆   ┆         ┆           ┆           ┆ WG2 PO:    │\n",
       "│ O-PHI-GRE- ┆ PHI vs GRE ┆         ┆           ┆   ┆         ┆           ┆           ┆ PHI vs     │\n",
       "│ …          ┆            ┆         ┆           ┆   ┆         ┆           ┆           ┆ GRE_2…     │\n",
       "│ 2020-M-DC- ┆ Davis Cup  ┆ Hard    ┆ 4         ┆ … ┆ null    ┆ null      ┆ null      ┆ Davis Cup  │\n",
       "│ 2020-WG2-P ┆ WG2 PO:    ┆         ┆           ┆   ┆         ┆           ┆           ┆ WG2 PO:    │\n",
       "│ O-POL-HKG- ┆ POL vs HKG ┆         ┆           ┆   ┆         ┆           ┆           ┆ POL vs     │\n",
       "│ …          ┆            ┆         ┆           ┆   ┆         ┆           ┆           ┆ HKG_2…     │\n",
       "│ 2020-M-DC- ┆ Davis Cup  ┆ Hard    ┆ 4         ┆ … ┆ null    ┆ null      ┆ null      ┆ Davis Cup  │\n",
       "│ 2020-WG2-P ┆ WG2 PO:    ┆         ┆           ┆   ┆         ┆           ┆           ┆ WG2 PO:    │\n",
       "│ O-SYR-ZIM- ┆ SYR vs ZIM ┆         ┆           ┆   ┆         ┆           ┆           ┆ SYR vs     │\n",
       "│ …          ┆            ┆         ┆           ┆   ┆         ┆           ┆           ┆ ZIM_2…     │\n",
       "└────────────┴────────────┴─────────┴───────────┴───┴─────────┴───────────┴───────────┴────────────┘"
      ]
     },
     "execution_count": 31,
     "metadata": {},
     "output_type": "execute_result"
    }
   ],
   "source": [
    "matches_doubles_atp=import_tennis_matches(data_type=\"doubles\")\n",
    "\n",
    "matches_doubles_atp = matches_doubles_atp.with_columns(\n",
    "    (pl.col(\"tourney_name\") + \"_\" + pl.col(\"tourney_date\").dt.year().cast(pl.Utf8)).alias(\"tourney_name_date\")\n",
    ")\n",
    "matches_doubles_atp"
   ]
  },
  {
   "cell_type": "code",
   "execution_count": 32,
   "metadata": {},
   "outputs": [
    {
     "data": {
      "text/html": [
       "<div><style>\n",
       ".dataframe > thead > tr,\n",
       ".dataframe > tbody > tr {\n",
       "  text-align: right;\n",
       "  white-space: pre-wrap;\n",
       "}\n",
       "</style>\n",
       "<small>shape: (1_345, 6)</small><table border=\"1\" class=\"dataframe\"><thead><tr><th>tourney_name</th><th>surface</th><th>draw_size</th><th>tourney_level</th><th>tourney_date</th><th>tourney_name_date</th></tr><tr><td>str</td><td>str</td><td>i64</td><td>str</td><td>date</td><td>str</td></tr></thead><tbody><tr><td>&quot;Sopot&quot;</td><td>&quot;Clay&quot;</td><td>32</td><td>&quot;A&quot;</td><td>2007-07-30</td><td>&quot;Sopot_2007&quot;</td></tr><tr><td>&quot;Brisbane&quot;</td><td>&quot;Hard&quot;</td><td>32</td><td>&quot;A&quot;</td><td>2012-01-01</td><td>&quot;Brisbane_2012&quot;</td></tr><tr><td>&quot;Gstaad&quot;</td><td>&quot;Clay&quot;</td><td>32</td><td>&quot;A&quot;</td><td>2007-07-09</td><td>&quot;Gstaad_2007&quot;</td></tr><tr><td>&quot;Stockholm&quot;</td><td>&quot;Hard&quot;</td><td>28</td><td>&quot;A&quot;</td><td>2013-10-14</td><td>&quot;Stockholm_2013&quot;</td></tr><tr><td>&quot;Zagreb&quot;</td><td>&quot;Carpet&quot;</td><td>32</td><td>&quot;A&quot;</td><td>2007-01-29</td><td>&quot;Zagreb_2007&quot;</td></tr><tr><td>&hellip;</td><td>&hellip;</td><td>&hellip;</td><td>&hellip;</td><td>&hellip;</td><td>&hellip;</td></tr><tr><td>&quot;Toulouse&quot;</td><td>&quot;Hard&quot;</td><td>32</td><td>&quot;A&quot;</td><td>2000-10-16</td><td>&quot;Toulouse_2000&quot;</td></tr><tr><td>&quot;Cincinnati Masters&quot;</td><td>&quot;Hard&quot;</td><td>64</td><td>&quot;M&quot;</td><td>2003-08-11</td><td>&quot;Cincinnati Masters_2003&quot;</td></tr><tr><td>&quot;Miami Masters&quot;</td><td>&quot;Hard&quot;</td><td>96</td><td>&quot;M&quot;</td><td>2003-03-17</td><td>&quot;Miami Masters_2003&quot;</td></tr><tr><td>&quot;Acapulco&quot;</td><td>&quot;Clay&quot;</td><td>32</td><td>&quot;A&quot;</td><td>2003-02-24</td><td>&quot;Acapulco_2003&quot;</td></tr><tr><td>&quot;Houston&quot;</td><td>&quot;Clay&quot;</td><td>28</td><td>&quot;A&quot;</td><td>2012-04-09</td><td>&quot;Houston_2012&quot;</td></tr></tbody></table></div>"
      ],
      "text/plain": [
       "shape: (1_345, 6)\n",
       "┌────────────────────┬─────────┬───────────┬───────────────┬──────────────┬────────────────────┐\n",
       "│ tourney_name       ┆ surface ┆ draw_size ┆ tourney_level ┆ tourney_date ┆ tourney_name_date  │\n",
       "│ ---                ┆ ---     ┆ ---       ┆ ---           ┆ ---          ┆ ---                │\n",
       "│ str                ┆ str     ┆ i64       ┆ str           ┆ date         ┆ str                │\n",
       "╞════════════════════╪═════════╪═══════════╪═══════════════╪══════════════╪════════════════════╡\n",
       "│ Sopot              ┆ Clay    ┆ 32        ┆ A             ┆ 2007-07-30   ┆ Sopot_2007         │\n",
       "│ Brisbane           ┆ Hard    ┆ 32        ┆ A             ┆ 2012-01-01   ┆ Brisbane_2012      │\n",
       "│ Gstaad             ┆ Clay    ┆ 32        ┆ A             ┆ 2007-07-09   ┆ Gstaad_2007        │\n",
       "│ Stockholm          ┆ Hard    ┆ 28        ┆ A             ┆ 2013-10-14   ┆ Stockholm_2013     │\n",
       "│ Zagreb             ┆ Carpet  ┆ 32        ┆ A             ┆ 2007-01-29   ┆ Zagreb_2007        │\n",
       "│ …                  ┆ …       ┆ …         ┆ …             ┆ …            ┆ …                  │\n",
       "│ Toulouse           ┆ Hard    ┆ 32        ┆ A             ┆ 2000-10-16   ┆ Toulouse_2000      │\n",
       "│ Cincinnati Masters ┆ Hard    ┆ 64        ┆ M             ┆ 2003-08-11   ┆ Cincinnati         │\n",
       "│                    ┆         ┆           ┆               ┆              ┆ Masters_2003       │\n",
       "│ Miami Masters      ┆ Hard    ┆ 96        ┆ M             ┆ 2003-03-17   ┆ Miami Masters_2003 │\n",
       "│ Acapulco           ┆ Clay    ┆ 32        ┆ A             ┆ 2003-02-24   ┆ Acapulco_2003      │\n",
       "│ Houston            ┆ Clay    ┆ 28        ┆ A             ┆ 2012-04-09   ┆ Houston_2012       │\n",
       "└────────────────────┴─────────┴───────────┴───────────────┴──────────────┴────────────────────┘"
      ]
     },
     "execution_count": 32,
     "metadata": {},
     "output_type": "execute_result"
    }
   ],
   "source": [
    "tourney_doubles_matches_atp=matches_doubles_atp[['tourney_name', 'surface', 'draw_size', 'tourney_level', 'tourney_date', 'tourney_name_date']]\n",
    "\n",
    "tourney_doubles_matches_atp=tourney_doubles_matches_atp.unique('tourney_name_date')\n",
    "tourney_doubles_matches_atp"
   ]
  },
  {
   "cell_type": "code",
   "execution_count": 33,
   "metadata": {},
   "outputs": [
    {
     "data": {
      "text/html": [
       "<div><style>\n",
       ".dataframe > thead > tr,\n",
       ".dataframe > tbody > tr {\n",
       "  text-align: right;\n",
       "  white-space: pre-wrap;\n",
       "}\n",
       "</style>\n",
       "<small>shape: (65_019, 9)</small><table border=\"1\" class=\"dataframe\"><thead><tr><th>player_id</th><th>name_first</th><th>name_last</th><th>hand</th><th>dob</th><th>ioc</th><th>height</th><th>wikidata_id</th><th>name_full</th></tr><tr><td>i64</td><td>str</td><td>str</td><td>str</td><td>date</td><td>str</td><td>i64</td><td>str</td><td>str</td></tr></thead><tbody><tr><td>100001</td><td>&quot;Gardnar&quot;</td><td>&quot;Mulloy&quot;</td><td>&quot;R&quot;</td><td>1913-11-22</td><td>&quot;USA&quot;</td><td>185</td><td>&quot;Q54544&quot;</td><td>&quot;Gardnar Mulloy&quot;</td></tr><tr><td>100002</td><td>&quot;Pancho&quot;</td><td>&quot;Segura&quot;</td><td>&quot;R&quot;</td><td>1921-06-20</td><td>&quot;ECU&quot;</td><td>168</td><td>&quot;Q54581&quot;</td><td>&quot;Pancho Segura&quot;</td></tr><tr><td>100003</td><td>&quot;Frank&quot;</td><td>&quot;Sedgman&quot;</td><td>&quot;R&quot;</td><td>1927-10-02</td><td>&quot;AUS&quot;</td><td>180</td><td>&quot;Q962049&quot;</td><td>&quot;Frank Sedgman&quot;</td></tr><tr><td>100004</td><td>&quot;Giuseppe&quot;</td><td>&quot;Merlo&quot;</td><td>&quot;R&quot;</td><td>1927-10-11</td><td>&quot;ITA&quot;</td><td>null</td><td>&quot;Q1258752&quot;</td><td>&quot;Giuseppe Merlo&quot;</td></tr><tr><td>100005</td><td>&quot;Richard&quot;</td><td>&quot;Gonzalez&quot;</td><td>&quot;R&quot;</td><td>1928-05-09</td><td>&quot;USA&quot;</td><td>188</td><td>&quot;Q53554&quot;</td><td>&quot;Richard Gonzalez&quot;</td></tr><tr><td>&hellip;</td><td>&hellip;</td><td>&hellip;</td><td>&hellip;</td><td>&hellip;</td><td>&hellip;</td><td>&hellip;</td><td>&hellip;</td><td>&hellip;</td></tr><tr><td>212913</td><td>&quot;Pietro&quot;</td><td>&quot;Ricci&quot;</td><td>&quot;U&quot;</td><td>null</td><td>&quot;ITA&quot;</td><td>null</td><td>null</td><td>&quot;Pietro Ricci&quot;</td></tr><tr><td>212914</td><td>&quot;Corey&quot;</td><td>&quot;Craig&quot;</td><td>&quot;U&quot;</td><td>null</td><td>&quot;USA&quot;</td><td>null</td><td>null</td><td>&quot;Corey Craig&quot;</td></tr><tr><td>212915</td><td>&quot;Aleksandar&quot;</td><td>&quot;Ljubojevic&quot;</td><td>&quot;U&quot;</td><td>null</td><td>&quot;SRB&quot;</td><td>null</td><td>null</td><td>&quot;Aleksandar Ljubojevic&quot;</td></tr><tr><td>212916</td><td>&quot;Marko&quot;</td><td>&quot;Milosavljevic&quot;</td><td>&quot;U&quot;</td><td>null</td><td>&quot;SRB&quot;</td><td>null</td><td>null</td><td>&quot;Marko Milosavljevic&quot;</td></tr><tr><td>212917</td><td>&quot;Stefan&quot;</td><td>&quot;Skobelev&quot;</td><td>&quot;U&quot;</td><td>null</td><td>&quot;SRB&quot;</td><td>null</td><td>null</td><td>&quot;Stefan Skobelev&quot;</td></tr></tbody></table></div>"
      ],
      "text/plain": [
       "shape: (65_019, 9)\n",
       "┌───────────┬────────────┬───────────────┬──────┬───┬─────┬────────┬─────────────┬─────────────────┐\n",
       "│ player_id ┆ name_first ┆ name_last     ┆ hand ┆ … ┆ ioc ┆ height ┆ wikidata_id ┆ name_full       │\n",
       "│ ---       ┆ ---        ┆ ---           ┆ ---  ┆   ┆ --- ┆ ---    ┆ ---         ┆ ---             │\n",
       "│ i64       ┆ str        ┆ str           ┆ str  ┆   ┆ str ┆ i64    ┆ str         ┆ str             │\n",
       "╞═══════════╪════════════╪═══════════════╪══════╪═══╪═════╪════════╪═════════════╪═════════════════╡\n",
       "│ 100001    ┆ Gardnar    ┆ Mulloy        ┆ R    ┆ … ┆ USA ┆ 185    ┆ Q54544      ┆ Gardnar Mulloy  │\n",
       "│ 100002    ┆ Pancho     ┆ Segura        ┆ R    ┆ … ┆ ECU ┆ 168    ┆ Q54581      ┆ Pancho Segura   │\n",
       "│ 100003    ┆ Frank      ┆ Sedgman       ┆ R    ┆ … ┆ AUS ┆ 180    ┆ Q962049     ┆ Frank Sedgman   │\n",
       "│ 100004    ┆ Giuseppe   ┆ Merlo         ┆ R    ┆ … ┆ ITA ┆ null   ┆ Q1258752    ┆ Giuseppe Merlo  │\n",
       "│ 100005    ┆ Richard    ┆ Gonzalez      ┆ R    ┆ … ┆ USA ┆ 188    ┆ Q53554      ┆ Richard         │\n",
       "│           ┆            ┆               ┆      ┆   ┆     ┆        ┆             ┆ Gonzalez        │\n",
       "│ …         ┆ …          ┆ …             ┆ …    ┆ … ┆ …   ┆ …      ┆ …           ┆ …               │\n",
       "│ 212913    ┆ Pietro     ┆ Ricci         ┆ U    ┆ … ┆ ITA ┆ null   ┆ null        ┆ Pietro Ricci    │\n",
       "│ 212914    ┆ Corey      ┆ Craig         ┆ U    ┆ … ┆ USA ┆ null   ┆ null        ┆ Corey Craig     │\n",
       "│ 212915    ┆ Aleksandar ┆ Ljubojevic    ┆ U    ┆ … ┆ SRB ┆ null   ┆ null        ┆ Aleksandar      │\n",
       "│           ┆            ┆               ┆      ┆   ┆     ┆        ┆             ┆ Ljubojevic      │\n",
       "│ 212916    ┆ Marko      ┆ Milosavljevic ┆ U    ┆ … ┆ SRB ┆ null   ┆ null        ┆ Marko           │\n",
       "│           ┆            ┆               ┆      ┆   ┆     ┆        ┆             ┆ Milosavljevic   │\n",
       "│ 212917    ┆ Stefan     ┆ Skobelev      ┆ U    ┆ … ┆ SRB ┆ null   ┆ null        ┆ Stefan Skobelev │\n",
       "└───────────┴────────────┴───────────────┴──────┴───┴─────┴────────┴─────────────┴─────────────────┘"
      ]
     },
     "execution_count": 33,
     "metadata": {},
     "output_type": "execute_result"
    }
   ],
   "source": [
    "players_atp"
   ]
  },
  {
   "cell_type": "code",
   "execution_count": 34,
   "metadata": {},
   "outputs": [
    {
     "data": {
      "text/html": [
       "<div><style>\n",
       ".dataframe > thead > tr,\n",
       ".dataframe > tbody > tr {\n",
       "  text-align: right;\n",
       "  white-space: pre-wrap;\n",
       "}\n",
       "</style>\n",
       "<small>shape: (67_095, 9)</small><table border=\"1\" class=\"dataframe\"><thead><tr><th>player_id</th><th>name_first</th><th>name_last</th><th>hand</th><th>dob</th><th>ioc</th><th>height</th><th>wikidata_id</th><th>name_full</th></tr><tr><td>i64</td><td>str</td><td>str</td><td>str</td><td>date</td><td>str</td><td>i64</td><td>str</td><td>str</td></tr></thead><tbody><tr><td>113190</td><td>&quot;Bobby&quot;</td><td>&quot;Riggs&quot;</td><td>&quot;U&quot;</td><td>null</td><td>&quot;USA&quot;</td><td>null</td><td>null</td><td>&quot;Bobby Riggs&quot;</td></tr><tr><td>200000</td><td>&quot;X&quot;</td><td>&quot;X&quot;</td><td>&quot;U&quot;</td><td>null</td><td>&quot;UNK&quot;</td><td>null</td><td>null</td><td>&quot;X X&quot;</td></tr><tr><td>200001</td><td>&quot;Martina&quot;</td><td>&quot;Hingis&quot;</td><td>&quot;R&quot;</td><td>1980-09-30</td><td>&quot;SUI&quot;</td><td>170</td><td>&quot;Q134720&quot;</td><td>&quot;Martina Hingis&quot;</td></tr><tr><td>200002</td><td>&quot;Mirjana&quot;</td><td>&quot;Lucic&quot;</td><td>&quot;R&quot;</td><td>1982-03-09</td><td>&quot;CRO&quot;</td><td>181</td><td>&quot;Q239686&quot;</td><td>&quot;Mirjana Lucic&quot;</td></tr><tr><td>200003</td><td>&quot;Justine&quot;</td><td>&quot;Henin&quot;</td><td>&quot;R&quot;</td><td>1982-06-01</td><td>&quot;BEL&quot;</td><td>167</td><td>&quot;Q11682&quot;</td><td>&quot;Justine Henin&quot;</td></tr><tr><td>&hellip;</td><td>&hellip;</td><td>&hellip;</td><td>&hellip;</td><td>&hellip;</td><td>&hellip;</td><td>&hellip;</td><td>&hellip;</td><td>&hellip;</td></tr><tr><td>267099</td><td>&quot;Kokoa&quot;</td><td>&quot;Nakao&quot;</td><td>&quot;U&quot;</td><td>null</td><td>&quot;JPN&quot;</td><td>null</td><td>null</td><td>&quot;Kokoa Nakao&quot;</td></tr><tr><td>267100</td><td>&quot;Aoi&quot;</td><td>&quot;Watanabe&quot;</td><td>&quot;U&quot;</td><td>null</td><td>&quot;JPN&quot;</td><td>null</td><td>null</td><td>&quot;Aoi Watanabe&quot;</td></tr><tr><td>267101</td><td>&quot;Sara&quot;</td><td>&quot;Yoshida&quot;</td><td>&quot;U&quot;</td><td>null</td><td>&quot;JPN&quot;</td><td>null</td><td>null</td><td>&quot;Sara Yoshida&quot;</td></tr><tr><td>267102</td><td>&quot;Ui Su&quot;</td><td>&quot;Jeong&quot;</td><td>&quot;U&quot;</td><td>null</td><td>&quot;KOR&quot;</td><td>null</td><td>null</td><td>&quot;Ui Su Jeong&quot;</td></tr><tr><td>267103</td><td>&quot;Alexia&quot;</td><td>&quot;Patru&quot;</td><td>&quot;U&quot;</td><td>null</td><td>&quot;ROU&quot;</td><td>null</td><td>null</td><td>&quot;Alexia Patru&quot;</td></tr></tbody></table></div>"
      ],
      "text/plain": [
       "shape: (67_095, 9)\n",
       "┌───────────┬────────────┬───────────┬──────┬───┬─────┬────────┬─────────────┬────────────────┐\n",
       "│ player_id ┆ name_first ┆ name_last ┆ hand ┆ … ┆ ioc ┆ height ┆ wikidata_id ┆ name_full      │\n",
       "│ ---       ┆ ---        ┆ ---       ┆ ---  ┆   ┆ --- ┆ ---    ┆ ---         ┆ ---            │\n",
       "│ i64       ┆ str        ┆ str       ┆ str  ┆   ┆ str ┆ i64    ┆ str         ┆ str            │\n",
       "╞═══════════╪════════════╪═══════════╪══════╪═══╪═════╪════════╪═════════════╪════════════════╡\n",
       "│ 113190    ┆ Bobby      ┆ Riggs     ┆ U    ┆ … ┆ USA ┆ null   ┆ null        ┆ Bobby Riggs    │\n",
       "│ 200000    ┆ X          ┆ X         ┆ U    ┆ … ┆ UNK ┆ null   ┆ null        ┆ X X            │\n",
       "│ 200001    ┆ Martina    ┆ Hingis    ┆ R    ┆ … ┆ SUI ┆ 170    ┆ Q134720     ┆ Martina Hingis │\n",
       "│ 200002    ┆ Mirjana    ┆ Lucic     ┆ R    ┆ … ┆ CRO ┆ 181    ┆ Q239686     ┆ Mirjana Lucic  │\n",
       "│ 200003    ┆ Justine    ┆ Henin     ┆ R    ┆ … ┆ BEL ┆ 167    ┆ Q11682      ┆ Justine Henin  │\n",
       "│ …         ┆ …          ┆ …         ┆ …    ┆ … ┆ …   ┆ …      ┆ …           ┆ …              │\n",
       "│ 267099    ┆ Kokoa      ┆ Nakao     ┆ U    ┆ … ┆ JPN ┆ null   ┆ null        ┆ Kokoa Nakao    │\n",
       "│ 267100    ┆ Aoi        ┆ Watanabe  ┆ U    ┆ … ┆ JPN ┆ null   ┆ null        ┆ Aoi Watanabe   │\n",
       "│ 267101    ┆ Sara       ┆ Yoshida   ┆ U    ┆ … ┆ JPN ┆ null   ┆ null        ┆ Sara Yoshida   │\n",
       "│ 267102    ┆ Ui Su      ┆ Jeong     ┆ U    ┆ … ┆ KOR ┆ null   ┆ null        ┆ Ui Su Jeong    │\n",
       "│ 267103    ┆ Alexia     ┆ Patru     ┆ U    ┆ … ┆ ROU ┆ null   ┆ null        ┆ Alexia Patru   │\n",
       "└───────────┴────────────┴───────────┴──────┴───┴─────┴────────┴─────────────┴────────────────┘"
      ]
     },
     "execution_count": 34,
     "metadata": {},
     "output_type": "execute_result"
    }
   ],
   "source": [
    "players_wta"
   ]
  },
  {
   "cell_type": "markdown",
   "metadata": {},
   "source": [
    "### Creazione tabella informazioni del player"
   ]
  },
  {
   "cell_type": "code",
   "execution_count": 35,
   "metadata": {},
   "outputs": [
    {
     "data": {
      "text/html": [
       "<div><style>\n",
       ".dataframe > thead > tr,\n",
       ".dataframe > tbody > tr {\n",
       "  text-align: right;\n",
       "  white-space: pre-wrap;\n",
       "}\n",
       "</style>\n",
       "<small>shape: (65_019, 5)</small><table border=\"1\" class=\"dataframe\"><thead><tr><th>player_id</th><th>hand</th><th>dob</th><th>ioc</th><th>height</th></tr><tr><td>i64</td><td>str</td><td>date</td><td>str</td><td>i64</td></tr></thead><tbody><tr><td>100001</td><td>&quot;R&quot;</td><td>1913-11-22</td><td>&quot;USA&quot;</td><td>185</td></tr><tr><td>100002</td><td>&quot;R&quot;</td><td>1921-06-20</td><td>&quot;ECU&quot;</td><td>168</td></tr><tr><td>100003</td><td>&quot;R&quot;</td><td>1927-10-02</td><td>&quot;AUS&quot;</td><td>180</td></tr><tr><td>100004</td><td>&quot;R&quot;</td><td>1927-10-11</td><td>&quot;ITA&quot;</td><td>null</td></tr><tr><td>100005</td><td>&quot;R&quot;</td><td>1928-05-09</td><td>&quot;USA&quot;</td><td>188</td></tr><tr><td>&hellip;</td><td>&hellip;</td><td>&hellip;</td><td>&hellip;</td><td>&hellip;</td></tr><tr><td>212913</td><td>&quot;U&quot;</td><td>null</td><td>&quot;ITA&quot;</td><td>null</td></tr><tr><td>212914</td><td>&quot;U&quot;</td><td>null</td><td>&quot;USA&quot;</td><td>null</td></tr><tr><td>212915</td><td>&quot;U&quot;</td><td>null</td><td>&quot;SRB&quot;</td><td>null</td></tr><tr><td>212916</td><td>&quot;U&quot;</td><td>null</td><td>&quot;SRB&quot;</td><td>null</td></tr><tr><td>212917</td><td>&quot;U&quot;</td><td>null</td><td>&quot;SRB&quot;</td><td>null</td></tr></tbody></table></div>"
      ],
      "text/plain": [
       "shape: (65_019, 5)\n",
       "┌───────────┬──────┬────────────┬─────┬────────┐\n",
       "│ player_id ┆ hand ┆ dob        ┆ ioc ┆ height │\n",
       "│ ---       ┆ ---  ┆ ---        ┆ --- ┆ ---    │\n",
       "│ i64       ┆ str  ┆ date       ┆ str ┆ i64    │\n",
       "╞═══════════╪══════╪════════════╪═════╪════════╡\n",
       "│ 100001    ┆ R    ┆ 1913-11-22 ┆ USA ┆ 185    │\n",
       "│ 100002    ┆ R    ┆ 1921-06-20 ┆ ECU ┆ 168    │\n",
       "│ 100003    ┆ R    ┆ 1927-10-02 ┆ AUS ┆ 180    │\n",
       "│ 100004    ┆ R    ┆ 1927-10-11 ┆ ITA ┆ null   │\n",
       "│ 100005    ┆ R    ┆ 1928-05-09 ┆ USA ┆ 188    │\n",
       "│ …         ┆ …    ┆ …          ┆ …   ┆ …      │\n",
       "│ 212913    ┆ U    ┆ null       ┆ ITA ┆ null   │\n",
       "│ 212914    ┆ U    ┆ null       ┆ USA ┆ null   │\n",
       "│ 212915    ┆ U    ┆ null       ┆ SRB ┆ null   │\n",
       "│ 212916    ┆ U    ┆ null       ┆ SRB ┆ null   │\n",
       "│ 212917    ┆ U    ┆ null       ┆ SRB ┆ null   │\n",
       "└───────────┴──────┴────────────┴─────┴────────┘"
      ]
     },
     "execution_count": 35,
     "metadata": {},
     "output_type": "execute_result"
    }
   ],
   "source": [
    "players_info_atp=players_atp[['player_id','hand','dob','ioc','height']]\n",
    "players_info_atp"
   ]
  },
  {
   "cell_type": "code",
   "execution_count": 36,
   "metadata": {},
   "outputs": [
    {
     "data": {
      "text/html": [
       "<div><style>\n",
       ".dataframe > thead > tr,\n",
       ".dataframe > tbody > tr {\n",
       "  text-align: right;\n",
       "  white-space: pre-wrap;\n",
       "}\n",
       "</style>\n",
       "<small>shape: (67_095, 5)</small><table border=\"1\" class=\"dataframe\"><thead><tr><th>player_id</th><th>hand</th><th>dob</th><th>ioc</th><th>height</th></tr><tr><td>i64</td><td>str</td><td>date</td><td>str</td><td>i64</td></tr></thead><tbody><tr><td>113190</td><td>&quot;U&quot;</td><td>null</td><td>&quot;USA&quot;</td><td>null</td></tr><tr><td>200000</td><td>&quot;U&quot;</td><td>null</td><td>&quot;UNK&quot;</td><td>null</td></tr><tr><td>200001</td><td>&quot;R&quot;</td><td>1980-09-30</td><td>&quot;SUI&quot;</td><td>170</td></tr><tr><td>200002</td><td>&quot;R&quot;</td><td>1982-03-09</td><td>&quot;CRO&quot;</td><td>181</td></tr><tr><td>200003</td><td>&quot;R&quot;</td><td>1982-06-01</td><td>&quot;BEL&quot;</td><td>167</td></tr><tr><td>&hellip;</td><td>&hellip;</td><td>&hellip;</td><td>&hellip;</td><td>&hellip;</td></tr><tr><td>267099</td><td>&quot;U&quot;</td><td>null</td><td>&quot;JPN&quot;</td><td>null</td></tr><tr><td>267100</td><td>&quot;U&quot;</td><td>null</td><td>&quot;JPN&quot;</td><td>null</td></tr><tr><td>267101</td><td>&quot;U&quot;</td><td>null</td><td>&quot;JPN&quot;</td><td>null</td></tr><tr><td>267102</td><td>&quot;U&quot;</td><td>null</td><td>&quot;KOR&quot;</td><td>null</td></tr><tr><td>267103</td><td>&quot;U&quot;</td><td>null</td><td>&quot;ROU&quot;</td><td>null</td></tr></tbody></table></div>"
      ],
      "text/plain": [
       "shape: (67_095, 5)\n",
       "┌───────────┬──────┬────────────┬─────┬────────┐\n",
       "│ player_id ┆ hand ┆ dob        ┆ ioc ┆ height │\n",
       "│ ---       ┆ ---  ┆ ---        ┆ --- ┆ ---    │\n",
       "│ i64       ┆ str  ┆ date       ┆ str ┆ i64    │\n",
       "╞═══════════╪══════╪════════════╪═════╪════════╡\n",
       "│ 113190    ┆ U    ┆ null       ┆ USA ┆ null   │\n",
       "│ 200000    ┆ U    ┆ null       ┆ UNK ┆ null   │\n",
       "│ 200001    ┆ R    ┆ 1980-09-30 ┆ SUI ┆ 170    │\n",
       "│ 200002    ┆ R    ┆ 1982-03-09 ┆ CRO ┆ 181    │\n",
       "│ 200003    ┆ R    ┆ 1982-06-01 ┆ BEL ┆ 167    │\n",
       "│ …         ┆ …    ┆ …          ┆ …   ┆ …      │\n",
       "│ 267099    ┆ U    ┆ null       ┆ JPN ┆ null   │\n",
       "│ 267100    ┆ U    ┆ null       ┆ JPN ┆ null   │\n",
       "│ 267101    ┆ U    ┆ null       ┆ JPN ┆ null   │\n",
       "│ 267102    ┆ U    ┆ null       ┆ KOR ┆ null   │\n",
       "│ 267103    ┆ U    ┆ null       ┆ ROU ┆ null   │\n",
       "└───────────┴──────┴────────────┴─────┴────────┘"
      ]
     },
     "execution_count": 36,
     "metadata": {},
     "output_type": "execute_result"
    }
   ],
   "source": [
    "players_info_wta=players_wta[['player_id','hand','dob','ioc','height']]\n",
    "players_info_wta"
   ]
  },
  {
   "cell_type": "markdown",
   "metadata": {},
   "source": [
    "### Creazione tabella date"
   ]
  },
  {
   "cell_type": "code",
   "execution_count": 37,
   "metadata": {},
   "outputs": [
    {
     "data": {
      "text/html": [
       "<div><style>\n",
       ".dataframe > thead > tr,\n",
       ".dataframe > tbody > tr {\n",
       "  text-align: right;\n",
       "  white-space: pre-wrap;\n",
       "}\n",
       "</style>\n",
       "<small>shape: (26_399, 5)</small><table border=\"1\" class=\"dataframe\"><thead><tr><th>tourney_name_date</th><th>date</th><th>day</th><th>month</th><th>year</th></tr><tr><td>str</td><td>date</td><td>i8</td><td>i8</td><td>i32</td></tr></thead><tbody><tr><td>&quot;Auckland_2000&quot;</td><td>2000-01-10</td><td>10</td><td>1</td><td>2000</td></tr><tr><td>&quot;Auckland_2000&quot;</td><td>2000-01-10</td><td>10</td><td>1</td><td>2000</td></tr><tr><td>&quot;Auckland_2000&quot;</td><td>2000-01-10</td><td>10</td><td>1</td><td>2000</td></tr><tr><td>&quot;Auckland_2000&quot;</td><td>2000-01-10</td><td>10</td><td>1</td><td>2000</td></tr><tr><td>&quot;Auckland_2000&quot;</td><td>2000-01-10</td><td>10</td><td>1</td><td>2000</td></tr><tr><td>&hellip;</td><td>&hellip;</td><td>&hellip;</td><td>&hellip;</td><td>&hellip;</td></tr><tr><td>&quot;Davis Cup WG2 PO: MAR vs VIE_2…</td><td>2020-03-06</td><td>6</td><td>3</td><td>2020</td></tr><tr><td>&quot;Davis Cup WG2 PO: PAR vs SRI_2…</td><td>2020-03-06</td><td>6</td><td>3</td><td>2020</td></tr><tr><td>&quot;Davis Cup WG2 PO: PHI vs GRE_2…</td><td>2020-03-06</td><td>6</td><td>3</td><td>2020</td></tr><tr><td>&quot;Davis Cup WG2 PO: POL vs HKG_2…</td><td>2020-03-06</td><td>6</td><td>3</td><td>2020</td></tr><tr><td>&quot;Davis Cup WG2 PO: SYR vs ZIM_2…</td><td>2020-03-06</td><td>6</td><td>3</td><td>2020</td></tr></tbody></table></div>"
      ],
      "text/plain": [
       "shape: (26_399, 5)\n",
       "┌─────────────────────────────────┬────────────┬─────┬───────┬──────┐\n",
       "│ tourney_name_date               ┆ date       ┆ day ┆ month ┆ year │\n",
       "│ ---                             ┆ ---        ┆ --- ┆ ---   ┆ ---  │\n",
       "│ str                             ┆ date       ┆ i8  ┆ i8    ┆ i32  │\n",
       "╞═════════════════════════════════╪════════════╪═════╪═══════╪══════╡\n",
       "│ Auckland_2000                   ┆ 2000-01-10 ┆ 10  ┆ 1     ┆ 2000 │\n",
       "│ Auckland_2000                   ┆ 2000-01-10 ┆ 10  ┆ 1     ┆ 2000 │\n",
       "│ Auckland_2000                   ┆ 2000-01-10 ┆ 10  ┆ 1     ┆ 2000 │\n",
       "│ Auckland_2000                   ┆ 2000-01-10 ┆ 10  ┆ 1     ┆ 2000 │\n",
       "│ Auckland_2000                   ┆ 2000-01-10 ┆ 10  ┆ 1     ┆ 2000 │\n",
       "│ …                               ┆ …          ┆ …   ┆ …     ┆ …    │\n",
       "│ Davis Cup WG2 PO: MAR vs VIE_2… ┆ 2020-03-06 ┆ 6   ┆ 3     ┆ 2020 │\n",
       "│ Davis Cup WG2 PO: PAR vs SRI_2… ┆ 2020-03-06 ┆ 6   ┆ 3     ┆ 2020 │\n",
       "│ Davis Cup WG2 PO: PHI vs GRE_2… ┆ 2020-03-06 ┆ 6   ┆ 3     ┆ 2020 │\n",
       "│ Davis Cup WG2 PO: POL vs HKG_2… ┆ 2020-03-06 ┆ 6   ┆ 3     ┆ 2020 │\n",
       "│ Davis Cup WG2 PO: SYR vs ZIM_2… ┆ 2020-03-06 ┆ 6   ┆ 3     ┆ 2020 │\n",
       "└─────────────────────────────────┴────────────┴─────┴───────┴──────┘"
      ]
     },
     "execution_count": 37,
     "metadata": {},
     "output_type": "execute_result"
    }
   ],
   "source": [
    "doubles_matches_date = pl.DataFrame({\n",
    "    \"tourney_name_date\":  pl.Series(matches_doubles_atp['tourney_name_date']),\n",
    "    \"date\": pl.Series(matches_doubles_atp['tourney_date'])\n",
    "})\n",
    "\n",
    "# Estrae giorno, mese e anno e crea nuove colonne\n",
    "doubles_matches_date = doubles_matches_date.with_columns([\n",
    "    pl.col(\"date\").dt.day().alias(\"day\"),\n",
    "    pl.col(\"date\").dt.month().alias(\"month\"),\n",
    "    pl.col(\"date\").dt.year().alias(\"year\")\n",
    "])\n",
    "\n",
    "# Mostra il risultato\n",
    "doubles_matches_date\n"
   ]
  },
  {
   "cell_type": "code",
   "execution_count": 38,
   "metadata": {},
   "outputs": [
    {
     "data": {
      "text/html": [
       "<div><style>\n",
       ".dataframe > thead > tr,\n",
       ".dataframe > tbody > tr {\n",
       "  text-align: right;\n",
       "  white-space: pre-wrap;\n",
       "}\n",
       "</style>\n",
       "<small>shape: (486_553, 5)</small><table border=\"1\" class=\"dataframe\"><thead><tr><th>tourney_name_date</th><th>date</th><th>day</th><th>month</th><th>year</th></tr><tr><td>str</td><td>date</td><td>i8</td><td>i8</td><td>i32</td></tr></thead><tbody><tr><td>&quot;India Masters 1_1990&quot;</td><td>1990-12-29</td><td>29</td><td>12</td><td>1990</td></tr><tr><td>&quot;India Masters 1_1990&quot;</td><td>1990-12-29</td><td>29</td><td>12</td><td>1990</td></tr><tr><td>&quot;India Masters 1_1990&quot;</td><td>1990-12-29</td><td>29</td><td>12</td><td>1990</td></tr><tr><td>&quot;India Masters 1_1990&quot;</td><td>1990-12-29</td><td>29</td><td>12</td><td>1990</td></tr><tr><td>&quot;India Masters 1_1990&quot;</td><td>1990-12-29</td><td>29</td><td>12</td><td>1990</td></tr><tr><td>&hellip;</td><td>&hellip;</td><td>&hellip;</td><td>&hellip;</td><td>&hellip;</td></tr><tr><td>&quot;M25 Pensacola FL_2024&quot;</td><td>2024-05-13</td><td>13</td><td>5</td><td>2024</td></tr><tr><td>&quot;M25 Pensacola FL_2024&quot;</td><td>2024-05-13</td><td>13</td><td>5</td><td>2024</td></tr><tr><td>&quot;M25 Pensacola FL_2024&quot;</td><td>2024-05-13</td><td>13</td><td>5</td><td>2024</td></tr><tr><td>&quot;M25 Pensacola FL_2024&quot;</td><td>2024-05-13</td><td>13</td><td>5</td><td>2024</td></tr><tr><td>&quot;M25 Pensacola FL_2024&quot;</td><td>2024-05-13</td><td>13</td><td>5</td><td>2024</td></tr></tbody></table></div>"
      ],
      "text/plain": [
       "shape: (486_553, 5)\n",
       "┌───────────────────────┬────────────┬─────┬───────┬──────┐\n",
       "│ tourney_name_date     ┆ date       ┆ day ┆ month ┆ year │\n",
       "│ ---                   ┆ ---        ┆ --- ┆ ---   ┆ ---  │\n",
       "│ str                   ┆ date       ┆ i8  ┆ i8    ┆ i32  │\n",
       "╞═══════════════════════╪════════════╪═════╪═══════╪══════╡\n",
       "│ India Masters 1_1990  ┆ 1990-12-29 ┆ 29  ┆ 12    ┆ 1990 │\n",
       "│ India Masters 1_1990  ┆ 1990-12-29 ┆ 29  ┆ 12    ┆ 1990 │\n",
       "│ India Masters 1_1990  ┆ 1990-12-29 ┆ 29  ┆ 12    ┆ 1990 │\n",
       "│ India Masters 1_1990  ┆ 1990-12-29 ┆ 29  ┆ 12    ┆ 1990 │\n",
       "│ India Masters 1_1990  ┆ 1990-12-29 ┆ 29  ┆ 12    ┆ 1990 │\n",
       "│ …                     ┆ …          ┆ …   ┆ …     ┆ …    │\n",
       "│ M25 Pensacola FL_2024 ┆ 2024-05-13 ┆ 13  ┆ 5     ┆ 2024 │\n",
       "│ M25 Pensacola FL_2024 ┆ 2024-05-13 ┆ 13  ┆ 5     ┆ 2024 │\n",
       "│ M25 Pensacola FL_2024 ┆ 2024-05-13 ┆ 13  ┆ 5     ┆ 2024 │\n",
       "│ M25 Pensacola FL_2024 ┆ 2024-05-13 ┆ 13  ┆ 5     ┆ 2024 │\n",
       "│ M25 Pensacola FL_2024 ┆ 2024-05-13 ┆ 13  ┆ 5     ┆ 2024 │\n",
       "└───────────────────────┴────────────┴─────┴───────┴──────┘"
      ]
     },
     "execution_count": 38,
     "metadata": {},
     "output_type": "execute_result"
    }
   ],
   "source": [
    "futures_matches_date = pl.DataFrame({\n",
    "    \"tourney_name_date\":  pl.Series(matches_futures['tourney_name_date']),\n",
    "    \"date\": pl.Series(matches_futures['tourney_date'])\n",
    "})\n",
    "\n",
    "# Estrae giorno, mese e anno e crea nuove colonne\n",
    "futures_matches_date = futures_matches_date.with_columns([\n",
    "    pl.col(\"date\").dt.day().alias(\"day\"),\n",
    "    pl.col(\"date\").dt.month().alias(\"month\"),\n",
    "    pl.col(\"date\").dt.year().alias(\"year\")\n",
    "])\n",
    "\n",
    "# Mostra il risultato\n",
    "futures_matches_date"
   ]
  },
  {
   "cell_type": "code",
   "execution_count": 39,
   "metadata": {},
   "outputs": [
    {
     "data": {
      "text/html": [
       "<div><style>\n",
       ".dataframe > thead > tr,\n",
       ".dataframe > tbody > tr {\n",
       "  text-align: right;\n",
       "  white-space: pre-wrap;\n",
       "}\n",
       "</style>\n",
       "<small>shape: (216_430, 5)</small><table border=\"1\" class=\"dataframe\"><thead><tr><th>tourney_name_date</th><th>date</th><th>day</th><th>month</th><th>year</th></tr><tr><td>str</td><td>date</td><td>i8</td><td>i8</td><td>i32</td></tr></thead><tbody><tr><td>&quot;Auckland CH_1978&quot;</td><td>1978-01-08</td><td>8</td><td>1</td><td>1978</td></tr><tr><td>&quot;Auckland CH_1978&quot;</td><td>1978-01-08</td><td>8</td><td>1</td><td>1978</td></tr><tr><td>&quot;Auckland CH_1978&quot;</td><td>1978-01-08</td><td>8</td><td>1</td><td>1978</td></tr><tr><td>&quot;Auckland CH_1978&quot;</td><td>1978-01-08</td><td>8</td><td>1</td><td>1978</td></tr><tr><td>&quot;Auckland CH_1978&quot;</td><td>1978-01-08</td><td>8</td><td>1</td><td>1978</td></tr><tr><td>&hellip;</td><td>&hellip;</td><td>&hellip;</td><td>&hellip;</td><td>&hellip;</td></tr><tr><td>&quot;Skopje CH_2024&quot;</td><td>2024-05-20</td><td>20</td><td>5</td><td>2024</td></tr><tr><td>&quot;Skopje CH_2024&quot;</td><td>2024-05-20</td><td>20</td><td>5</td><td>2024</td></tr><tr><td>&quot;Skopje CH_2024&quot;</td><td>2024-05-20</td><td>20</td><td>5</td><td>2024</td></tr><tr><td>&quot;Skopje CH_2024&quot;</td><td>2024-05-20</td><td>20</td><td>5</td><td>2024</td></tr><tr><td>&quot;Skopje CH_2024&quot;</td><td>2024-05-20</td><td>20</td><td>5</td><td>2024</td></tr></tbody></table></div>"
      ],
      "text/plain": [
       "shape: (216_430, 5)\n",
       "┌───────────────────┬────────────┬─────┬───────┬──────┐\n",
       "│ tourney_name_date ┆ date       ┆ day ┆ month ┆ year │\n",
       "│ ---               ┆ ---        ┆ --- ┆ ---   ┆ ---  │\n",
       "│ str               ┆ date       ┆ i8  ┆ i8    ┆ i32  │\n",
       "╞═══════════════════╪════════════╪═════╪═══════╪══════╡\n",
       "│ Auckland CH_1978  ┆ 1978-01-08 ┆ 8   ┆ 1     ┆ 1978 │\n",
       "│ Auckland CH_1978  ┆ 1978-01-08 ┆ 8   ┆ 1     ┆ 1978 │\n",
       "│ Auckland CH_1978  ┆ 1978-01-08 ┆ 8   ┆ 1     ┆ 1978 │\n",
       "│ Auckland CH_1978  ┆ 1978-01-08 ┆ 8   ┆ 1     ┆ 1978 │\n",
       "│ Auckland CH_1978  ┆ 1978-01-08 ┆ 8   ┆ 1     ┆ 1978 │\n",
       "│ …                 ┆ …          ┆ …   ┆ …     ┆ …    │\n",
       "│ Skopje CH_2024    ┆ 2024-05-20 ┆ 20  ┆ 5     ┆ 2024 │\n",
       "│ Skopje CH_2024    ┆ 2024-05-20 ┆ 20  ┆ 5     ┆ 2024 │\n",
       "│ Skopje CH_2024    ┆ 2024-05-20 ┆ 20  ┆ 5     ┆ 2024 │\n",
       "│ Skopje CH_2024    ┆ 2024-05-20 ┆ 20  ┆ 5     ┆ 2024 │\n",
       "│ Skopje CH_2024    ┆ 2024-05-20 ┆ 20  ┆ 5     ┆ 2024 │\n",
       "└───────────────────┴────────────┴─────┴───────┴──────┘"
      ]
     },
     "execution_count": 39,
     "metadata": {},
     "output_type": "execute_result"
    }
   ],
   "source": [
    "qualifiers_challengers_matches_date = pl.DataFrame({\n",
    "    \"tourney_name_date\":  pl.Series(matches_qualifiers_challengers['tourney_name_date']),\n",
    "    \"date\": pl.Series(matches_qualifiers_challengers['tourney_date'])\n",
    "})\n",
    "\n",
    "# Estrae giorno, mese e anno e crea nuove colonne\n",
    "qualifiers_challengers_matches_date = qualifiers_challengers_matches_date.with_columns([\n",
    "    pl.col(\"date\").dt.day().alias(\"day\"),\n",
    "    pl.col(\"date\").dt.month().alias(\"month\"),\n",
    "    pl.col(\"date\").dt.year().alias(\"year\")\n",
    "])\n",
    "\n",
    "# Mostra il risultato\n",
    "qualifiers_challengers_matches_date"
   ]
  },
  {
   "cell_type": "code",
   "execution_count": 40,
   "metadata": {},
   "outputs": [
    {
     "data": {
      "text/html": [
       "<div><style>\n",
       ".dataframe > thead > tr,\n",
       ".dataframe > tbody > tr {\n",
       "  text-align: right;\n",
       "  white-space: pre-wrap;\n",
       "}\n",
       "</style>\n",
       "<small>shape: (25_001, 5)</small><table border=\"1\" class=\"dataframe\"><thead><tr><th>tourney_name_date</th><th>date</th><th>day</th><th>month</th><th>year</th></tr><tr><td>str</td><td>date</td><td>i8</td><td>i8</td><td>i32</td></tr></thead><tbody><tr><td>&quot;Wimbledon_1877_amatures_atp&quot;</td><td>1877-07-09</td><td>9</td><td>7</td><td>1877</td></tr><tr><td>&quot;Wimbledon_1877_amatures_atp&quot;</td><td>1877-07-09</td><td>9</td><td>7</td><td>1877</td></tr><tr><td>&quot;Wimbledon_1877_amatures_atp&quot;</td><td>1877-07-09</td><td>9</td><td>7</td><td>1877</td></tr><tr><td>&quot;Wimbledon_1877_amatures_atp&quot;</td><td>1877-07-09</td><td>9</td><td>7</td><td>1877</td></tr><tr><td>&quot;Wimbledon_1877_amatures_atp&quot;</td><td>1877-07-09</td><td>9</td><td>7</td><td>1877</td></tr><tr><td>&hellip;</td><td>&hellip;</td><td>&hellip;</td><td>&hellip;</td><td>&hellip;</td></tr><tr><td>&quot;Davis Cup EUR R1: NED vs RSA_1…</td><td>1967-05-04</td><td>4</td><td>5</td><td>1967</td></tr><tr><td>&quot;Davis Cup AME SF: PHI vs VIE_1…</td><td>1967-04-14</td><td>14</td><td>4</td><td>1967</td></tr><tr><td>&quot;Davis Cup AME SF: PHI vs VIE_1…</td><td>1967-04-14</td><td>14</td><td>4</td><td>1967</td></tr><tr><td>&quot;Davis Cup AME SF: PHI vs VIE_1…</td><td>1967-04-14</td><td>14</td><td>4</td><td>1967</td></tr><tr><td>&quot;Davis Cup AME SF: PHI vs VIE_1…</td><td>1967-04-14</td><td>14</td><td>4</td><td>1967</td></tr></tbody></table></div>"
      ],
      "text/plain": [
       "shape: (25_001, 5)\n",
       "┌─────────────────────────────────┬────────────┬─────┬───────┬──────┐\n",
       "│ tourney_name_date               ┆ date       ┆ day ┆ month ┆ year │\n",
       "│ ---                             ┆ ---        ┆ --- ┆ ---   ┆ ---  │\n",
       "│ str                             ┆ date       ┆ i8  ┆ i8    ┆ i32  │\n",
       "╞═════════════════════════════════╪════════════╪═════╪═══════╪══════╡\n",
       "│ Wimbledon_1877_amatures_atp     ┆ 1877-07-09 ┆ 9   ┆ 7     ┆ 1877 │\n",
       "│ Wimbledon_1877_amatures_atp     ┆ 1877-07-09 ┆ 9   ┆ 7     ┆ 1877 │\n",
       "│ Wimbledon_1877_amatures_atp     ┆ 1877-07-09 ┆ 9   ┆ 7     ┆ 1877 │\n",
       "│ Wimbledon_1877_amatures_atp     ┆ 1877-07-09 ┆ 9   ┆ 7     ┆ 1877 │\n",
       "│ Wimbledon_1877_amatures_atp     ┆ 1877-07-09 ┆ 9   ┆ 7     ┆ 1877 │\n",
       "│ …                               ┆ …          ┆ …   ┆ …     ┆ …    │\n",
       "│ Davis Cup EUR R1: NED vs RSA_1… ┆ 1967-05-04 ┆ 4   ┆ 5     ┆ 1967 │\n",
       "│ Davis Cup AME SF: PHI vs VIE_1… ┆ 1967-04-14 ┆ 14  ┆ 4     ┆ 1967 │\n",
       "│ Davis Cup AME SF: PHI vs VIE_1… ┆ 1967-04-14 ┆ 14  ┆ 4     ┆ 1967 │\n",
       "│ Davis Cup AME SF: PHI vs VIE_1… ┆ 1967-04-14 ┆ 14  ┆ 4     ┆ 1967 │\n",
       "│ Davis Cup AME SF: PHI vs VIE_1… ┆ 1967-04-14 ┆ 14  ┆ 4     ┆ 1967 │\n",
       "└─────────────────────────────────┴────────────┴─────┴───────┴──────┘"
      ]
     },
     "execution_count": 40,
     "metadata": {},
     "output_type": "execute_result"
    }
   ],
   "source": [
    "amateurs_matches_date = pl.DataFrame({\n",
    "    \"tourney_name_date\":  pl.Series(matches_amateurs_atp['tourney_name_date']),\n",
    "    \"date\": pl.Series(matches_amateurs_atp['tourney_date'])\n",
    "})\n",
    "\n",
    "# Estrae giorno, mese e anno e crea nuove colonne\n",
    "amateurs_matches_date = amateurs_matches_date.with_columns([\n",
    "    pl.col(\"date\").dt.day().alias(\"day\"),\n",
    "    pl.col(\"date\").dt.month().alias(\"month\"),\n",
    "    pl.col(\"date\").dt.year().alias(\"year\")\n",
    "])\n",
    "\n",
    "# Mostra il risultato\n",
    "amateurs_matches_date"
   ]
  },
  {
   "cell_type": "code",
   "execution_count": 41,
   "metadata": {},
   "outputs": [
    {
     "data": {
      "text/html": [
       "<div><style>\n",
       ".dataframe > thead > tr,\n",
       ".dataframe > tbody > tr {\n",
       "  text-align: right;\n",
       "  white-space: pre-wrap;\n",
       "}\n",
       "</style>\n",
       "<small>shape: (512_063, 5)</small><table border=\"1\" class=\"dataframe\"><thead><tr><th>tourney_name_date</th><th>date</th><th>day</th><th>month</th><th>year</th></tr><tr><td>str</td><td>date</td><td>i8</td><td>i8</td><td>i32</td></tr></thead><tbody><tr><td>&quot;Bournemouth_1968&quot;</td><td>1968-04-22</td><td>22</td><td>4</td><td>1968</td></tr><tr><td>&quot;Bournemouth_1968&quot;</td><td>1968-04-22</td><td>22</td><td>4</td><td>1968</td></tr><tr><td>&quot;Bournemouth_1968&quot;</td><td>1968-04-22</td><td>22</td><td>4</td><td>1968</td></tr><tr><td>&quot;Bournemouth_1968&quot;</td><td>1968-04-22</td><td>22</td><td>4</td><td>1968</td></tr><tr><td>&quot;Bournemouth_1968&quot;</td><td>1968-04-22</td><td>22</td><td>4</td><td>1968</td></tr><tr><td>&hellip;</td><td>&hellip;</td><td>&hellip;</td><td>&hellip;</td><td>&hellip;</td></tr><tr><td>&quot;Strasbourg_2024&quot;</td><td>2024-05-20</td><td>20</td><td>5</td><td>2024</td></tr><tr><td>&quot;Strasbourg_2024&quot;</td><td>2024-05-20</td><td>20</td><td>5</td><td>2024</td></tr><tr><td>&quot;Strasbourg_2024&quot;</td><td>2024-05-20</td><td>20</td><td>5</td><td>2024</td></tr><tr><td>&quot;Strasbourg_2024&quot;</td><td>2024-05-20</td><td>20</td><td>5</td><td>2024</td></tr><tr><td>&quot;Strasbourg_2024&quot;</td><td>2024-05-20</td><td>20</td><td>5</td><td>2024</td></tr></tbody></table></div>"
      ],
      "text/plain": [
       "shape: (512_063, 5)\n",
       "┌───────────────────┬────────────┬─────┬───────┬──────┐\n",
       "│ tourney_name_date ┆ date       ┆ day ┆ month ┆ year │\n",
       "│ ---               ┆ ---        ┆ --- ┆ ---   ┆ ---  │\n",
       "│ str               ┆ date       ┆ i8  ┆ i8    ┆ i32  │\n",
       "╞═══════════════════╪════════════╪═════╪═══════╪══════╡\n",
       "│ Bournemouth_1968  ┆ 1968-04-22 ┆ 22  ┆ 4     ┆ 1968 │\n",
       "│ Bournemouth_1968  ┆ 1968-04-22 ┆ 22  ┆ 4     ┆ 1968 │\n",
       "│ Bournemouth_1968  ┆ 1968-04-22 ┆ 22  ┆ 4     ┆ 1968 │\n",
       "│ Bournemouth_1968  ┆ 1968-04-22 ┆ 22  ┆ 4     ┆ 1968 │\n",
       "│ Bournemouth_1968  ┆ 1968-04-22 ┆ 22  ┆ 4     ┆ 1968 │\n",
       "│ …                 ┆ …          ┆ …   ┆ …     ┆ …    │\n",
       "│ Strasbourg_2024   ┆ 2024-05-20 ┆ 20  ┆ 5     ┆ 2024 │\n",
       "│ Strasbourg_2024   ┆ 2024-05-20 ┆ 20  ┆ 5     ┆ 2024 │\n",
       "│ Strasbourg_2024   ┆ 2024-05-20 ┆ 20  ┆ 5     ┆ 2024 │\n",
       "│ Strasbourg_2024   ┆ 2024-05-20 ┆ 20  ┆ 5     ┆ 2024 │\n",
       "│ Strasbourg_2024   ┆ 2024-05-20 ┆ 20  ┆ 5     ┆ 2024 │\n",
       "└───────────────────┴────────────┴─────┴───────┴──────┘"
      ]
     },
     "execution_count": 41,
     "metadata": {},
     "output_type": "execute_result"
    }
   ],
   "source": [
    "qualifiers_itf_matches_date = pl.DataFrame({\n",
    "    \"tourney_name_date\":  pl.Series(matches_qualifiers_itf['tourney_name_date']),\n",
    "    \"date\": pl.Series(matches_qualifiers_itf['tourney_date'])\n",
    "})\n",
    "\n",
    "# Estrae giorno, mese e anno e crea nuove colonne\n",
    "qualifiers_itf_matches_date = qualifiers_itf_matches_date.with_columns([\n",
    "    pl.col(\"date\").dt.day().alias(\"day\"),\n",
    "    pl.col(\"date\").dt.month().alias(\"month\"),\n",
    "    pl.col(\"date\").dt.year().alias(\"year\")\n",
    "])\n",
    "\n",
    "# Mostra il risultato\n",
    "qualifiers_itf_matches_date"
   ]
  },
  {
   "cell_type": "code",
   "execution_count": 42,
   "metadata": {},
   "outputs": [
    {
     "data": {
      "text/html": [
       "<div><style>\n",
       ".dataframe > thead > tr,\n",
       ".dataframe > tbody > tr {\n",
       "  text-align: right;\n",
       "  white-space: pre-wrap;\n",
       "}\n",
       "</style>\n",
       "<small>shape: (193_337, 5)</small><table border=\"1\" class=\"dataframe\"><thead><tr><th>tourney_name_date</th><th>date</th><th>day</th><th>month</th><th>year</th></tr><tr><td>str</td><td>date</td><td>i8</td><td>i8</td><td>i32</td></tr></thead><tbody><tr><td>&quot;Dublin_1968&quot;</td><td>1968-07-08</td><td>8</td><td>7</td><td>1968</td></tr><tr><td>&quot;Dublin_1968&quot;</td><td>1968-07-08</td><td>8</td><td>7</td><td>1968</td></tr><tr><td>&quot;Dublin_1968&quot;</td><td>1968-07-08</td><td>8</td><td>7</td><td>1968</td></tr><tr><td>&quot;Dublin_1968&quot;</td><td>1968-07-08</td><td>8</td><td>7</td><td>1968</td></tr><tr><td>&quot;Dublin_1968&quot;</td><td>1968-07-08</td><td>8</td><td>7</td><td>1968</td></tr><tr><td>&hellip;</td><td>&hellip;</td><td>&hellip;</td><td>&hellip;</td><td>&hellip;</td></tr><tr><td>&quot;Davis Cup WG2 PO: URU vs MDA_2…</td><td>2024-02-03</td><td>3</td><td>2</td><td>2024</td></tr><tr><td>&quot;Davis Cup WG2 PO: VIE vs RSA_2…</td><td>2024-02-02</td><td>2</td><td>2</td><td>2024</td></tr><tr><td>&quot;Davis Cup WG2 PO: VIE vs RSA_2…</td><td>2024-02-02</td><td>2</td><td>2</td><td>2024</td></tr><tr><td>&quot;Davis Cup WG2 PO: VIE vs RSA_2…</td><td>2024-02-02</td><td>2</td><td>2</td><td>2024</td></tr><tr><td>&quot;Davis Cup WG2 PO: VIE vs RSA_2…</td><td>2024-02-02</td><td>2</td><td>2</td><td>2024</td></tr></tbody></table></div>"
      ],
      "text/plain": [
       "shape: (193_337, 5)\n",
       "┌─────────────────────────────────┬────────────┬─────┬───────┬──────┐\n",
       "│ tourney_name_date               ┆ date       ┆ day ┆ month ┆ year │\n",
       "│ ---                             ┆ ---        ┆ --- ┆ ---   ┆ ---  │\n",
       "│ str                             ┆ date       ┆ i8  ┆ i8    ┆ i32  │\n",
       "╞═════════════════════════════════╪════════════╪═════╪═══════╪══════╡\n",
       "│ Dublin_1968                     ┆ 1968-07-08 ┆ 8   ┆ 7     ┆ 1968 │\n",
       "│ Dublin_1968                     ┆ 1968-07-08 ┆ 8   ┆ 7     ┆ 1968 │\n",
       "│ Dublin_1968                     ┆ 1968-07-08 ┆ 8   ┆ 7     ┆ 1968 │\n",
       "│ Dublin_1968                     ┆ 1968-07-08 ┆ 8   ┆ 7     ┆ 1968 │\n",
       "│ Dublin_1968                     ┆ 1968-07-08 ┆ 8   ┆ 7     ┆ 1968 │\n",
       "│ …                               ┆ …          ┆ …   ┆ …     ┆ …    │\n",
       "│ Davis Cup WG2 PO: URU vs MDA_2… ┆ 2024-02-03 ┆ 3   ┆ 2     ┆ 2024 │\n",
       "│ Davis Cup WG2 PO: VIE vs RSA_2… ┆ 2024-02-02 ┆ 2   ┆ 2     ┆ 2024 │\n",
       "│ Davis Cup WG2 PO: VIE vs RSA_2… ┆ 2024-02-02 ┆ 2   ┆ 2     ┆ 2024 │\n",
       "│ Davis Cup WG2 PO: VIE vs RSA_2… ┆ 2024-02-02 ┆ 2   ┆ 2     ┆ 2024 │\n",
       "│ Davis Cup WG2 PO: VIE vs RSA_2… ┆ 2024-02-02 ┆ 2   ┆ 2     ┆ 2024 │\n",
       "└─────────────────────────────────┴────────────┴─────┴───────┴──────┘"
      ]
     },
     "execution_count": 42,
     "metadata": {},
     "output_type": "execute_result"
    }
   ],
   "source": [
    "singles_matches_date_atp = pl.DataFrame({\n",
    "    \"tourney_name_date\":  pl.Series(matches_singles_atp['tourney_name_date']),\n",
    "    \"date\": pl.Series(matches_singles_atp['tourney_date'])\n",
    "})\n",
    "\n",
    "# Estrae giorno, mese e anno e crea nuove colonne\n",
    "singles_matches_date_atp = singles_matches_date_atp.with_columns([\n",
    "    pl.col(\"date\").dt.day().alias(\"day\"),\n",
    "    pl.col(\"date\").dt.month().alias(\"month\"),\n",
    "    pl.col(\"date\").dt.year().alias(\"year\")\n",
    "])\n",
    "\n",
    "# Mostra il risultato\n",
    "singles_matches_date_atp"
   ]
  },
  {
   "cell_type": "code",
   "execution_count": 43,
   "metadata": {},
   "outputs": [
    {
     "data": {
      "text/html": [
       "<div><style>\n",
       ".dataframe > thead > tr,\n",
       ".dataframe > tbody > tr {\n",
       "  text-align: right;\n",
       "  white-space: pre-wrap;\n",
       "}\n",
       "</style>\n",
       "<small>shape: (156_578, 5)</small><table border=\"1\" class=\"dataframe\"><thead><tr><th>tourney_name_date</th><th>date</th><th>day</th><th>month</th><th>year</th></tr><tr><td>str</td><td>date</td><td>i8</td><td>i8</td><td>i32</td></tr></thead><tbody><tr><td>&quot;Guadalajara Olympics Demo_1968&quot;</td><td>1968-10-14</td><td>14</td><td>10</td><td>1968</td></tr><tr><td>&quot;Guadalajara Olympics Demo_1968&quot;</td><td>1968-10-14</td><td>14</td><td>10</td><td>1968</td></tr><tr><td>&quot;Guadalajara Olympics Demo_1968&quot;</td><td>1968-10-14</td><td>14</td><td>10</td><td>1968</td></tr><tr><td>&quot;Guadalajara Olympics Demo_1968&quot;</td><td>1968-10-14</td><td>14</td><td>10</td><td>1968</td></tr><tr><td>&quot;Guadalajara Olympics Demo_1968&quot;</td><td>1968-10-14</td><td>14</td><td>10</td><td>1968</td></tr><tr><td>&hellip;</td><td>&hellip;</td><td>&hellip;</td><td>&hellip;</td><td>&hellip;</td></tr><tr><td>&quot;BJK Cup Qualifiers_2024&quot;</td><td>2024-04-12</td><td>12</td><td>4</td><td>2024</td></tr><tr><td>&quot;BJK Cup Qualifiers_2024&quot;</td><td>2024-04-12</td><td>12</td><td>4</td><td>2024</td></tr><tr><td>&quot;BJK Cup Qualifiers_2024&quot;</td><td>2024-04-12</td><td>12</td><td>4</td><td>2024</td></tr><tr><td>&quot;BJK Cup Qualifiers_2024&quot;</td><td>2024-04-12</td><td>12</td><td>4</td><td>2024</td></tr><tr><td>&quot;BJK Cup Qualifiers_2024&quot;</td><td>2024-04-12</td><td>12</td><td>4</td><td>2024</td></tr></tbody></table></div>"
      ],
      "text/plain": [
       "shape: (156_578, 5)\n",
       "┌────────────────────────────────┬────────────┬─────┬───────┬──────┐\n",
       "│ tourney_name_date              ┆ date       ┆ day ┆ month ┆ year │\n",
       "│ ---                            ┆ ---        ┆ --- ┆ ---   ┆ ---  │\n",
       "│ str                            ┆ date       ┆ i8  ┆ i8    ┆ i32  │\n",
       "╞════════════════════════════════╪════════════╪═════╪═══════╪══════╡\n",
       "│ Guadalajara Olympics Demo_1968 ┆ 1968-10-14 ┆ 14  ┆ 10    ┆ 1968 │\n",
       "│ Guadalajara Olympics Demo_1968 ┆ 1968-10-14 ┆ 14  ┆ 10    ┆ 1968 │\n",
       "│ Guadalajara Olympics Demo_1968 ┆ 1968-10-14 ┆ 14  ┆ 10    ┆ 1968 │\n",
       "│ Guadalajara Olympics Demo_1968 ┆ 1968-10-14 ┆ 14  ┆ 10    ┆ 1968 │\n",
       "│ Guadalajara Olympics Demo_1968 ┆ 1968-10-14 ┆ 14  ┆ 10    ┆ 1968 │\n",
       "│ …                              ┆ …          ┆ …   ┆ …     ┆ …    │\n",
       "│ BJK Cup Qualifiers_2024        ┆ 2024-04-12 ┆ 12  ┆ 4     ┆ 2024 │\n",
       "│ BJK Cup Qualifiers_2024        ┆ 2024-04-12 ┆ 12  ┆ 4     ┆ 2024 │\n",
       "│ BJK Cup Qualifiers_2024        ┆ 2024-04-12 ┆ 12  ┆ 4     ┆ 2024 │\n",
       "│ BJK Cup Qualifiers_2024        ┆ 2024-04-12 ┆ 12  ┆ 4     ┆ 2024 │\n",
       "│ BJK Cup Qualifiers_2024        ┆ 2024-04-12 ┆ 12  ┆ 4     ┆ 2024 │\n",
       "└────────────────────────────────┴────────────┴─────┴───────┴──────┘"
      ]
     },
     "execution_count": 43,
     "metadata": {},
     "output_type": "execute_result"
    }
   ],
   "source": [
    "singles_matches_date_wta = pl.DataFrame({\n",
    "    \"tourney_name_date\":  pl.Series(matches_singles_wta['tourney_name_date']),\n",
    "    \"date\": pl.Series(matches_singles_wta['tourney_date'])\n",
    "})\n",
    "\n",
    "# Estrae giorno, mese e anno e crea nuove colonne\n",
    "singles_matches_date_wta = singles_matches_date_wta.with_columns([\n",
    "    pl.col(\"date\").dt.day().alias(\"day\"),\n",
    "    pl.col(\"date\").dt.month().alias(\"month\"),\n",
    "    pl.col(\"date\").dt.year().alias(\"year\")\n",
    "])\n",
    "\n",
    "# Mostra il risultato\n",
    "singles_matches_date_wta"
   ]
  },
  {
   "cell_type": "markdown",
   "metadata": {},
   "source": [
    "### Drop delle informazioni del torneo e delle informazioni del player"
   ]
  },
  {
   "cell_type": "code",
   "execution_count": 44,
   "metadata": {},
   "outputs": [],
   "source": [
    "#droppo tutte le colonne relative al torneo, tranne tourney_name_date\n",
    "matches_amateurs_atp=matches_amateurs_atp.drop(['tourney_name', 'surface', 'draw_size', 'tourney_level', 'tourney_date', 'tourney_id'])\n",
    "matches_doubles_atp=matches_doubles_atp.drop(['tourney_name', 'surface', 'draw_size', 'tourney_level', 'tourney_date', 'tourney_id'])\n",
    "matches_futures=matches_futures.drop(['tourney_name', 'surface', 'draw_size', 'tourney_level', 'tourney_date', 'tourney_id'])\n",
    "matches_qualifiers_challengers=matches_qualifiers_challengers.drop(['tourney_name', 'surface', 'draw_size', 'tourney_level', 'tourney_date', 'tourney_id'])\n",
    "matches_qualifiers_itf=matches_qualifiers_itf.drop(['tourney_name', 'surface', 'draw_size', 'tourney_level', 'tourney_date', 'tourney_id'])\n",
    "matches_singles_atp=matches_singles_atp.drop(['tourney_name', 'surface', 'draw_size', 'tourney_level', 'tourney_date', 'tourney_id'])\n",
    "matches_singles_wta=matches_singles_wta.drop(['tourney_name', 'surface', 'draw_size', 'tourney_level', 'tourney_date', 'tourney_id'])"
   ]
  },
  {
   "cell_type": "code",
   "execution_count": 45,
   "metadata": {},
   "outputs": [
    {
     "ename": "SchemaError",
     "evalue": "type String is incompatible with expected type Int64",
     "output_type": "error",
     "traceback": [
      "\u001b[1;31m---------------------------------------------------------------------------\u001b[0m",
      "\u001b[1;31mSchemaError\u001b[0m                               Traceback (most recent call last)",
      "Cell \u001b[1;32mIn[45], line 29\u001b[0m\n\u001b[0;32m     21\u001b[0m tourney_qualifiers_challengers \u001b[38;5;241m=\u001b[39m tourney_qualifiers_challengers\u001b[38;5;241m.\u001b[39mwith_columns(\n\u001b[0;32m     22\u001b[0m     pl\u001b[38;5;241m.\u001b[39mcol(\u001b[38;5;124m\"\u001b[39m\u001b[38;5;124mtourney_date\u001b[39m\u001b[38;5;124m\"\u001b[39m)\u001b[38;5;241m.\u001b[39mcast(pl\u001b[38;5;241m.\u001b[39mUtf8)\u001b[38;5;241m.\u001b[39malias(\u001b[38;5;124m\"\u001b[39m\u001b[38;5;124mtourney_date\u001b[39m\u001b[38;5;124m\"\u001b[39m)\n\u001b[0;32m     23\u001b[0m )\n\u001b[0;32m     25\u001b[0m tourney_qualifiers_itf \u001b[38;5;241m=\u001b[39m tourney_qualifiers_itf\u001b[38;5;241m.\u001b[39mwith_columns(\n\u001b[0;32m     26\u001b[0m     pl\u001b[38;5;241m.\u001b[39mcol(\u001b[38;5;124m\"\u001b[39m\u001b[38;5;124mtourney_date\u001b[39m\u001b[38;5;124m\"\u001b[39m)\u001b[38;5;241m.\u001b[39mcast(pl\u001b[38;5;241m.\u001b[39mUtf8)\u001b[38;5;241m.\u001b[39malias(\u001b[38;5;124m\"\u001b[39m\u001b[38;5;124mtourney_date\u001b[39m\u001b[38;5;124m\"\u001b[39m)\n\u001b[0;32m     27\u001b[0m )\n\u001b[1;32m---> 29\u001b[0m total_tourney \u001b[38;5;241m=\u001b[39m \u001b[43mpl\u001b[49m\u001b[38;5;241;43m.\u001b[39;49m\u001b[43mconcat\u001b[49m\u001b[43m(\u001b[49m\u001b[43m[\u001b[49m\n\u001b[0;32m     30\u001b[0m \u001b[43m    \u001b[49m\u001b[43mtourney_single_matches_atp\u001b[49m\u001b[43m,\u001b[49m\n\u001b[0;32m     31\u001b[0m \u001b[43m    \u001b[49m\u001b[43mtourney_single_matches_wta\u001b[49m\u001b[43m,\u001b[49m\n\u001b[0;32m     32\u001b[0m \u001b[43m    \u001b[49m\u001b[43mtourney_amateurs_matches_atp\u001b[49m\u001b[43m,\u001b[49m\n\u001b[0;32m     33\u001b[0m \u001b[43m    \u001b[49m\u001b[43mtourney_doubles_matches_atp\u001b[49m\u001b[43m,\u001b[49m\n\u001b[0;32m     34\u001b[0m \u001b[43m    \u001b[49m\u001b[43mtourney_futures\u001b[49m\u001b[43m,\u001b[49m\n\u001b[0;32m     35\u001b[0m \u001b[43m    \u001b[49m\u001b[43mtourney_qualifiers_challengers\u001b[49m\u001b[43m,\u001b[49m\n\u001b[0;32m     36\u001b[0m \u001b[43m    \u001b[49m\u001b[43mtourney_qualifiers_itf\u001b[49m\n\u001b[0;32m     37\u001b[0m \u001b[43m]\u001b[49m\u001b[43m,\u001b[49m\u001b[43m \u001b[49m\u001b[43mhow\u001b[49m\u001b[38;5;241;43m=\u001b[39;49m\u001b[38;5;124;43m\"\u001b[39;49m\u001b[38;5;124;43mvertical\u001b[39;49m\u001b[38;5;124;43m\"\u001b[39;49m\u001b[43m)\u001b[49m\n\u001b[0;32m     39\u001b[0m total_tourney\n",
      "File \u001b[1;32mc:\\Users\\simoc\\AppData\\Local\\Programs\\Python\\Python312\\Lib\\site-packages\\polars\\functions\\eager.py:191\u001b[0m, in \u001b[0;36mconcat\u001b[1;34m(items, how, rechunk, parallel)\u001b[0m\n\u001b[0;32m    189\u001b[0m \u001b[38;5;28;01mif\u001b[39;00m \u001b[38;5;28misinstance\u001b[39m(first, pl\u001b[38;5;241m.\u001b[39mDataFrame):\n\u001b[0;32m    190\u001b[0m     \u001b[38;5;28;01mif\u001b[39;00m how \u001b[38;5;241m==\u001b[39m \u001b[38;5;124m\"\u001b[39m\u001b[38;5;124mvertical\u001b[39m\u001b[38;5;124m\"\u001b[39m:\n\u001b[1;32m--> 191\u001b[0m         out \u001b[38;5;241m=\u001b[39m wrap_df(\u001b[43mplr\u001b[49m\u001b[38;5;241;43m.\u001b[39;49m\u001b[43mconcat_df\u001b[49m\u001b[43m(\u001b[49m\u001b[43melems\u001b[49m\u001b[43m)\u001b[49m)\n\u001b[0;32m    192\u001b[0m     \u001b[38;5;28;01melif\u001b[39;00m how \u001b[38;5;241m==\u001b[39m \u001b[38;5;124m\"\u001b[39m\u001b[38;5;124mvertical_relaxed\u001b[39m\u001b[38;5;124m\"\u001b[39m:\n\u001b[0;32m    193\u001b[0m         out \u001b[38;5;241m=\u001b[39m wrap_ldf(\n\u001b[0;32m    194\u001b[0m             plr\u001b[38;5;241m.\u001b[39mconcat_lf(\n\u001b[0;32m    195\u001b[0m                 [df\u001b[38;5;241m.\u001b[39mlazy() \u001b[38;5;28;01mfor\u001b[39;00m df \u001b[38;5;129;01min\u001b[39;00m elems],\n\u001b[1;32m   (...)\u001b[0m\n\u001b[0;32m    199\u001b[0m             )\n\u001b[0;32m    200\u001b[0m         )\u001b[38;5;241m.\u001b[39mcollect(no_optimization\u001b[38;5;241m=\u001b[39m\u001b[38;5;28;01mTrue\u001b[39;00m)\n",
      "\u001b[1;31mSchemaError\u001b[0m: type String is incompatible with expected type Int64"
     ]
    }
   ],
   "source": [
    "\n",
    "tourney_single_matches_atp = tourney_single_matches_atp.with_columns(\n",
    "    pl.col(\"tourney_date\").cast(pl.Utf8).alias(\"tourney_date\")\n",
    ")\n",
    "\n",
    "tourney_single_matches_wta = tourney_single_matches_wta.with_columns(\n",
    "    pl.col(\"tourney_date\").cast(pl.Utf8).alias(\"tourney_date\")\n",
    ")\n",
    "\n",
    "tourney_amateurs_matches_atp = tourney_amateurs_matches_atp.with_columns(\n",
    "    pl.col(\"tourney_date\").cast(pl.Utf8).alias(\"tourney_date\")\n",
    ")\n",
    "\n",
    "tourney_doubles_matches_atp = tourney_doubles_matches_atp.with_columns(\n",
    "    pl.col(\"tourney_date\").cast(pl.Utf8).alias(\"tourney_date\")\n",
    ")\n",
    "\n",
    "tourney_futures = tourney_futures.with_columns(\n",
    "    pl.col(\"tourney_date\").cast(pl.Utf8).alias(\"tourney_date\")\n",
    ")\n",
    "\n",
    "tourney_qualifiers_challengers = tourney_qualifiers_challengers.with_columns(\n",
    "    pl.col(\"tourney_date\").cast(pl.Utf8).alias(\"tourney_date\")\n",
    ")\n",
    "\n",
    "tourney_qualifiers_itf = tourney_qualifiers_itf.with_columns(\n",
    "    pl.col(\"tourney_date\").cast(pl.Utf8).alias(\"tourney_date\")\n",
    ")\n",
    "\n",
    "total_tourney = pl.concat([\n",
    "    tourney_single_matches_atp,\n",
    "    tourney_single_matches_wta,\n",
    "    tourney_amateurs_matches_atp,\n",
    "    tourney_doubles_matches_atp,\n",
    "    tourney_futures,\n",
    "    tourney_qualifiers_challengers,\n",
    "    tourney_qualifiers_itf\n",
    "], how=\"vertical\")\n",
    "\n",
    "total_tourney\n"
   ]
  },
  {
   "cell_type": "code",
   "execution_count": null,
   "metadata": {},
   "outputs": [],
   "source": []
  }
 ],
 "metadata": {
  "kernelspec": {
   "display_name": "Python 3",
   "language": "python",
   "name": "python3"
  },
  "language_info": {
   "codemirror_mode": {
    "name": "ipython",
    "version": 3
   },
   "file_extension": ".py",
   "mimetype": "text/x-python",
   "name": "python",
   "nbconvert_exporter": "python",
   "pygments_lexer": "ipython3",
   "version": "3.12.1"
  }
 },
 "nbformat": 4,
 "nbformat_minor": 2
}
