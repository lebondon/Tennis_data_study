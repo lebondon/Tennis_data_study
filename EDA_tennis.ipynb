{
 "cells": [
  {
   "cell_type": "code",
   "execution_count": 2,
   "metadata": {},
   "outputs": [],
   "source": [
    "import pandas as pd\n",
    "import numpy as np\n",
    "import os\n",
    "import polars as pl\n",
    "from utils.utils import loading_to_db,importations\n",
    "import warnings\n",
    "warnings.filterwarnings('ignore')\n",
    "\n",
    "#tutti i database aggregati li potete richiamare con le varie funzioni di import che trovate in utils.py, gli esempi sono comunque sotto.\n",
    "#per scegliere se ATP o WTA potete cambiare il valore all'interno della funzione gender in \"atp\" o \"wta\" (di default è atp)\n",
    "#es: import_players(gender=\"atp\"), import_players(gender=\"wta\")\n",
    "\n",
    "#le varie funzioni sono import_tennis_matches(), import_players(), import_matches_amateurs_atp(), import_rankings().\n",
    "\n",
    "#per quanto riguarda i match di singolo, doppio,futures, qual_chall e qual_itf dovete usare la funzione import_tennis_matches con una\n",
    "#specifica keyword che indica il tipo di match es: import_tennis_matches(data_type=\"singles\".gender=\"wta\") \n",
    "\n",
    "#le varie keyword tra cui potete scegliere sono [\"singles\",\"doubles\",\"qualifiers_challengers\",\"futures\",\"qualifiers_itf\"]\n",
    "\n",
    "#ATTENZIONE! i futures, qualifiers_challengers e doppi sono esclusivamente maschili mentre i qualifiers_itf sono esclusivamente femminili!\n",
    "#tutte queste le cose le potete verificare guardando il file utils.py\n",
    "\n",
    "#fate una bella EDA and have fun!\n",
    "\n"
   ]
  },
  {
   "cell_type": "code",
   "execution_count": 5,
   "metadata": {},
   "outputs": [],
   "source": [
    "def sorted_value_counts(df, column_name):\n",
    "    \"\"\"\n",
    "    Restituisce il value counts di una colonna di un DataFrame in ordine decrescente.\n",
    "\n",
    "    Parametri:\n",
    "        df (pd.DataFrame): Il DataFrame di input.\n",
    "        column_name (str): Il nome della colonna di cui calcolare il value counts.\n",
    "\n",
    "    Ritorna:\n",
    "        pd.Series: Una Serie con i conteggi ordinati in ordine decrescente.\n",
    "    \"\"\"\n",
    "    if column_name not in df.columns:\n",
    "        raise ValueError(f\"La colonna '{column_name}' non esiste nel DataFrame.\")\n",
    "    \n",
    "    # Calcolare i value counts\n",
    "    value_counts = df[column_name].value_counts()\n",
    "    \n",
    "    # Ordinare i valori manualmente\n",
    "    sorted_counts = value_counts.iloc[value_counts.values.argsort()[::-1]]\n",
    "    \n",
    "    return sorted_counts\n",
    "\n"
   ]
  },
  {
   "cell_type": "code",
   "execution_count": 6,
   "metadata": {},
   "outputs": [
    {
     "data": {
      "text/html": [
       "<div><style>\n",
       ".dataframe > thead > tr,\n",
       ".dataframe > tbody > tr {\n",
       "  text-align: right;\n",
       "  white-space: pre-wrap;\n",
       "}\n",
       "</style>\n",
       "<small>shape: (65_019, 9)</small><table border=\"1\" class=\"dataframe\"><thead><tr><th>player_id</th><th>name_first</th><th>name_last</th><th>hand</th><th>dob</th><th>ioc</th><th>height</th><th>wikidata_id</th><th>name_full</th></tr><tr><td>i64</td><td>str</td><td>str</td><td>str</td><td>date</td><td>str</td><td>i64</td><td>str</td><td>str</td></tr></thead><tbody><tr><td>100001</td><td>&quot;Gardnar&quot;</td><td>&quot;Mulloy&quot;</td><td>&quot;R&quot;</td><td>1913-11-22</td><td>&quot;USA&quot;</td><td>185</td><td>&quot;Q54544&quot;</td><td>&quot;Gardnar Mulloy&quot;</td></tr><tr><td>100002</td><td>&quot;Pancho&quot;</td><td>&quot;Segura&quot;</td><td>&quot;R&quot;</td><td>1921-06-20</td><td>&quot;ECU&quot;</td><td>168</td><td>&quot;Q54581&quot;</td><td>&quot;Pancho Segura&quot;</td></tr><tr><td>100003</td><td>&quot;Frank&quot;</td><td>&quot;Sedgman&quot;</td><td>&quot;R&quot;</td><td>1927-10-02</td><td>&quot;AUS&quot;</td><td>180</td><td>&quot;Q962049&quot;</td><td>&quot;Frank Sedgman&quot;</td></tr><tr><td>100004</td><td>&quot;Giuseppe&quot;</td><td>&quot;Merlo&quot;</td><td>&quot;R&quot;</td><td>1927-10-11</td><td>&quot;ITA&quot;</td><td>null</td><td>&quot;Q1258752&quot;</td><td>&quot;Giuseppe Merlo&quot;</td></tr><tr><td>100005</td><td>&quot;Richard&quot;</td><td>&quot;Gonzalez&quot;</td><td>&quot;R&quot;</td><td>1928-05-09</td><td>&quot;USA&quot;</td><td>188</td><td>&quot;Q53554&quot;</td><td>&quot;Richard Gonzalez&quot;</td></tr><tr><td>&hellip;</td><td>&hellip;</td><td>&hellip;</td><td>&hellip;</td><td>&hellip;</td><td>&hellip;</td><td>&hellip;</td><td>&hellip;</td><td>&hellip;</td></tr><tr><td>212913</td><td>&quot;Pietro&quot;</td><td>&quot;Ricci&quot;</td><td>&quot;U&quot;</td><td>null</td><td>&quot;ITA&quot;</td><td>null</td><td>null</td><td>&quot;Pietro Ricci&quot;</td></tr><tr><td>212914</td><td>&quot;Corey&quot;</td><td>&quot;Craig&quot;</td><td>&quot;U&quot;</td><td>null</td><td>&quot;USA&quot;</td><td>null</td><td>null</td><td>&quot;Corey Craig&quot;</td></tr><tr><td>212915</td><td>&quot;Aleksandar&quot;</td><td>&quot;Ljubojevic&quot;</td><td>&quot;U&quot;</td><td>null</td><td>&quot;SRB&quot;</td><td>null</td><td>null</td><td>&quot;Aleksandar Ljubojevic&quot;</td></tr><tr><td>212916</td><td>&quot;Marko&quot;</td><td>&quot;Milosavljevic&quot;</td><td>&quot;U&quot;</td><td>null</td><td>&quot;SRB&quot;</td><td>null</td><td>null</td><td>&quot;Marko Milosavljevic&quot;</td></tr><tr><td>212917</td><td>&quot;Stefan&quot;</td><td>&quot;Skobelev&quot;</td><td>&quot;U&quot;</td><td>null</td><td>&quot;SRB&quot;</td><td>null</td><td>null</td><td>&quot;Stefan Skobelev&quot;</td></tr></tbody></table></div>"
      ],
      "text/plain": [
       "shape: (65_019, 9)\n",
       "┌───────────┬────────────┬───────────────┬──────┬───┬─────┬────────┬─────────────┬─────────────────┐\n",
       "│ player_id ┆ name_first ┆ name_last     ┆ hand ┆ … ┆ ioc ┆ height ┆ wikidata_id ┆ name_full       │\n",
       "│ ---       ┆ ---        ┆ ---           ┆ ---  ┆   ┆ --- ┆ ---    ┆ ---         ┆ ---             │\n",
       "│ i64       ┆ str        ┆ str           ┆ str  ┆   ┆ str ┆ i64    ┆ str         ┆ str             │\n",
       "╞═══════════╪════════════╪═══════════════╪══════╪═══╪═════╪════════╪═════════════╪═════════════════╡\n",
       "│ 100001    ┆ Gardnar    ┆ Mulloy        ┆ R    ┆ … ┆ USA ┆ 185    ┆ Q54544      ┆ Gardnar Mulloy  │\n",
       "│ 100002    ┆ Pancho     ┆ Segura        ┆ R    ┆ … ┆ ECU ┆ 168    ┆ Q54581      ┆ Pancho Segura   │\n",
       "│ 100003    ┆ Frank      ┆ Sedgman       ┆ R    ┆ … ┆ AUS ┆ 180    ┆ Q962049     ┆ Frank Sedgman   │\n",
       "│ 100004    ┆ Giuseppe   ┆ Merlo         ┆ R    ┆ … ┆ ITA ┆ null   ┆ Q1258752    ┆ Giuseppe Merlo  │\n",
       "│ 100005    ┆ Richard    ┆ Gonzalez      ┆ R    ┆ … ┆ USA ┆ 188    ┆ Q53554      ┆ Richard         │\n",
       "│           ┆            ┆               ┆      ┆   ┆     ┆        ┆             ┆ Gonzalez        │\n",
       "│ …         ┆ …          ┆ …             ┆ …    ┆ … ┆ …   ┆ …      ┆ …           ┆ …               │\n",
       "│ 212913    ┆ Pietro     ┆ Ricci         ┆ U    ┆ … ┆ ITA ┆ null   ┆ null        ┆ Pietro Ricci    │\n",
       "│ 212914    ┆ Corey      ┆ Craig         ┆ U    ┆ … ┆ USA ┆ null   ┆ null        ┆ Corey Craig     │\n",
       "│ 212915    ┆ Aleksandar ┆ Ljubojevic    ┆ U    ┆ … ┆ SRB ┆ null   ┆ null        ┆ Aleksandar      │\n",
       "│           ┆            ┆               ┆      ┆   ┆     ┆        ┆             ┆ Ljubojevic      │\n",
       "│ 212916    ┆ Marko      ┆ Milosavljevic ┆ U    ┆ … ┆ SRB ┆ null   ┆ null        ┆ Marko           │\n",
       "│           ┆            ┆               ┆      ┆   ┆     ┆        ┆             ┆ Milosavljevic   │\n",
       "│ 212917    ┆ Stefan     ┆ Skobelev      ┆ U    ┆ … ┆ SRB ┆ null   ┆ null        ┆ Stefan Skobelev │\n",
       "└───────────┴────────────┴───────────────┴──────┴───┴─────┴────────┴─────────────┴─────────────────┘"
      ]
     },
     "execution_count": 6,
     "metadata": {},
     "output_type": "execute_result"
    }
   ],
   "source": [
    "players_atp=import_players(gender=\"atp\")\n",
    "players_atp"
   ]
  },
  {
   "cell_type": "code",
   "execution_count": 7,
   "metadata": {},
   "outputs": [
    {
     "data": {
      "text/html": [
       "<div><style>\n",
       ".dataframe > thead > tr,\n",
       ".dataframe > tbody > tr {\n",
       "  text-align: right;\n",
       "  white-space: pre-wrap;\n",
       "}\n",
       "</style>\n",
       "<small>shape: (70_036, 9)</small><table border=\"1\" class=\"dataframe\"><thead><tr><th>player_id</th><th>name_first</th><th>name_last</th><th>hand</th><th>dob</th><th>ioc</th><th>height</th><th>wikidata_id</th><th>name_full</th></tr><tr><td>i64</td><td>str</td><td>str</td><td>str</td><td>date</td><td>str</td><td>i64</td><td>str</td><td>str</td></tr></thead><tbody><tr><td>113190</td><td>&quot;Bobby&quot;</td><td>&quot;Riggs&quot;</td><td>&quot;U&quot;</td><td>null</td><td>&quot;USA&quot;</td><td>null</td><td>null</td><td>&quot;Bobby Riggs&quot;</td></tr><tr><td>200000</td><td>&quot;X&quot;</td><td>&quot;X&quot;</td><td>&quot;U&quot;</td><td>null</td><td>&quot;UNK&quot;</td><td>null</td><td>null</td><td>&quot;X X&quot;</td></tr><tr><td>200001</td><td>&quot;Martina&quot;</td><td>&quot;Hingis&quot;</td><td>&quot;R&quot;</td><td>1980-09-30</td><td>&quot;SUI&quot;</td><td>170</td><td>&quot;Q134720&quot;</td><td>&quot;Martina Hingis&quot;</td></tr><tr><td>200002</td><td>&quot;Mirjana&quot;</td><td>&quot;Lucic&quot;</td><td>&quot;R&quot;</td><td>1982-03-09</td><td>&quot;CRO&quot;</td><td>181</td><td>&quot;Q239686&quot;</td><td>&quot;Mirjana Lucic&quot;</td></tr><tr><td>200003</td><td>&quot;Justine&quot;</td><td>&quot;Henin&quot;</td><td>&quot;R&quot;</td><td>1982-06-01</td><td>&quot;BEL&quot;</td><td>167</td><td>&quot;Q11682&quot;</td><td>&quot;Justine Henin&quot;</td></tr><tr><td>&hellip;</td><td>&hellip;</td><td>&hellip;</td><td>&hellip;</td><td>&hellip;</td><td>&hellip;</td><td>&hellip;</td><td>&hellip;</td><td>&hellip;</td></tr><tr><td>270041</td><td>&quot;Emily&quot;</td><td>&quot;Dunn&quot;</td><td>&quot;U&quot;</td><td>null</td><td>&quot;NZL&quot;</td><td>null</td><td>null</td><td>&quot;Emily Dunn&quot;</td></tr><tr><td>270042</td><td>&quot;Serena&quot;</td><td>&quot;Rodricks&quot;</td><td>&quot;U&quot;</td><td>null</td><td>&quot;IND&quot;</td><td>null</td><td>null</td><td>&quot;Serena Rodricks&quot;</td></tr><tr><td>270043</td><td>&quot;Isha&quot;</td><td>&quot;Mohite&quot;</td><td>&quot;U&quot;</td><td>null</td><td>&quot;IND&quot;</td><td>null</td><td>null</td><td>&quot;Isha Mohite&quot;</td></tr><tr><td>270044</td><td>&quot;Una&quot;</td><td>&quot;Misic&quot;</td><td>&quot;U&quot;</td><td>null</td><td>&quot;NZL&quot;</td><td>null</td><td>null</td><td>&quot;Una Misic&quot;</td></tr><tr><td>270045</td><td>&quot;Dorea&quot;</td><td>&quot;Morina&quot;</td><td>&quot;U&quot;</td><td>null</td><td>&quot;NZL&quot;</td><td>null</td><td>null</td><td>&quot;Dorea Morina&quot;</td></tr></tbody></table></div>"
      ],
      "text/plain": [
       "shape: (70_036, 9)\n",
       "┌───────────┬────────────┬───────────┬──────┬───┬─────┬────────┬─────────────┬─────────────────┐\n",
       "│ player_id ┆ name_first ┆ name_last ┆ hand ┆ … ┆ ioc ┆ height ┆ wikidata_id ┆ name_full       │\n",
       "│ ---       ┆ ---        ┆ ---       ┆ ---  ┆   ┆ --- ┆ ---    ┆ ---         ┆ ---             │\n",
       "│ i64       ┆ str        ┆ str       ┆ str  ┆   ┆ str ┆ i64    ┆ str         ┆ str             │\n",
       "╞═══════════╪════════════╪═══════════╪══════╪═══╪═════╪════════╪═════════════╪═════════════════╡\n",
       "│ 113190    ┆ Bobby      ┆ Riggs     ┆ U    ┆ … ┆ USA ┆ null   ┆ null        ┆ Bobby Riggs     │\n",
       "│ 200000    ┆ X          ┆ X         ┆ U    ┆ … ┆ UNK ┆ null   ┆ null        ┆ X X             │\n",
       "│ 200001    ┆ Martina    ┆ Hingis    ┆ R    ┆ … ┆ SUI ┆ 170    ┆ Q134720     ┆ Martina Hingis  │\n",
       "│ 200002    ┆ Mirjana    ┆ Lucic     ┆ R    ┆ … ┆ CRO ┆ 181    ┆ Q239686     ┆ Mirjana Lucic   │\n",
       "│ 200003    ┆ Justine    ┆ Henin     ┆ R    ┆ … ┆ BEL ┆ 167    ┆ Q11682      ┆ Justine Henin   │\n",
       "│ …         ┆ …          ┆ …         ┆ …    ┆ … ┆ …   ┆ …      ┆ …           ┆ …               │\n",
       "│ 270041    ┆ Emily      ┆ Dunn      ┆ U    ┆ … ┆ NZL ┆ null   ┆ null        ┆ Emily Dunn      │\n",
       "│ 270042    ┆ Serena     ┆ Rodricks  ┆ U    ┆ … ┆ IND ┆ null   ┆ null        ┆ Serena Rodricks │\n",
       "│ 270043    ┆ Isha       ┆ Mohite    ┆ U    ┆ … ┆ IND ┆ null   ┆ null        ┆ Isha Mohite     │\n",
       "│ 270044    ┆ Una        ┆ Misic     ┆ U    ┆ … ┆ NZL ┆ null   ┆ null        ┆ Una Misic       │\n",
       "│ 270045    ┆ Dorea      ┆ Morina    ┆ U    ┆ … ┆ NZL ┆ null   ┆ null        ┆ Dorea Morina    │\n",
       "└───────────┴────────────┴───────────┴──────┴───┴─────┴────────┴─────────────┴─────────────────┘"
      ]
     },
     "execution_count": 7,
     "metadata": {},
     "output_type": "execute_result"
    }
   ],
   "source": [
    "players_wta=import_players(gender=\"wta\")\n",
    "players_wta"
   ]
  },
  {
   "cell_type": "markdown",
   "metadata": {},
   "source": [
    "# Comincio creazione di df e df_tourney per ogni df disponibile"
   ]
  },
  {
   "cell_type": "code",
   "execution_count": 8,
   "metadata": {},
   "outputs": [
    {
     "data": {
      "text/html": [
       "<div><style>\n",
       ".dataframe > thead > tr,\n",
       ".dataframe > tbody > tr {\n",
       "  text-align: right;\n",
       "  white-space: pre-wrap;\n",
       "}\n",
       "</style>\n",
       "<small>shape: (25_001, 50)</small><table border=\"1\" class=\"dataframe\"><thead><tr><th>tourney_id</th><th>tourney_name</th><th>surface</th><th>draw_size</th><th>tourney_level</th><th>tourney_date</th><th>match_num</th><th>winner_id</th><th>winner_seed</th><th>winner_entry</th><th>winner_name</th><th>winner_hand</th><th>winner_ht</th><th>winner_ioc</th><th>winner_age</th><th>loser_id</th><th>loser_seed</th><th>loser_entry</th><th>loser_name</th><th>loser_hand</th><th>loser_ht</th><th>loser_ioc</th><th>loser_age</th><th>score</th><th>best_of</th><th>round</th><th>minutes</th><th>w_ace</th><th>w_df</th><th>w_svpt</th><th>w_1stIn</th><th>w_1stWon</th><th>w_2ndWon</th><th>w_SvGms</th><th>w_bpSaved</th><th>w_bpFaced</th><th>l_ace</th><th>l_df</th><th>l_svpt</th><th>l_1stIn</th><th>l_1stWon</th><th>l_2ndWon</th><th>l_SvGms</th><th>l_bpSaved</th><th>l_bpFaced</th><th>winner_rank</th><th>winner_rank_points</th><th>loser_rank</th><th>loser_rank_points</th><th>tourney_name_date_matches</th></tr><tr><td>str</td><td>str</td><td>str</td><td>str</td><td>str</td><td>date</td><td>i64</td><td>i64</td><td>str</td><td>str</td><td>str</td><td>str</td><td>str</td><td>str</td><td>f64</td><td>i64</td><td>str</td><td>str</td><td>str</td><td>str</td><td>i64</td><td>str</td><td>f64</td><td>str</td><td>i64</td><td>str</td><td>str</td><td>str</td><td>str</td><td>str</td><td>str</td><td>str</td><td>str</td><td>str</td><td>str</td><td>str</td><td>str</td><td>str</td><td>str</td><td>str</td><td>str</td><td>str</td><td>str</td><td>str</td><td>str</td><td>str</td><td>str</td><td>str</td><td>str</td><td>str</td></tr></thead><tbody><tr><td>&quot;1877-540&quot;</td><td>&quot;Wimbledon&quot;</td><td>&quot;Grass&quot;</td><td>&quot;32&quot;</td><td>&quot;G&quot;</td><td>1877-07-09</td><td>1</td><td>113987</td><td>null</td><td>null</td><td>&quot;Spencer William Gore&quot;</td><td>null</td><td>null</td><td>&quot;GBR&quot;</td><td>27.331964</td><td>114009</td><td>null</td><td>null</td><td>&quot;Ht Gilson&quot;</td><td>null</td><td>null</td><td>&quot;GBR&quot;</td><td>null</td><td>&quot;6-2 6-0 6-3&quot;</td><td>5</td><td>&quot;R32&quot;</td><td>null</td><td>null</td><td>null</td><td>null</td><td>null</td><td>null</td><td>null</td><td>null</td><td>null</td><td>null</td><td>null</td><td>null</td><td>null</td><td>null</td><td>null</td><td>null</td><td>null</td><td>null</td><td>null</td><td>null</td><td>null</td><td>null</td><td>null</td><td>&quot;Wimbledon_1877_amatures_atp&quot;</td></tr><tr><td>&quot;1877-540&quot;</td><td>&quot;Wimbledon&quot;</td><td>&quot;Grass&quot;</td><td>&quot;32&quot;</td><td>&quot;G&quot;</td><td>1877-07-09</td><td>2</td><td>114146</td><td>null</td><td>null</td><td>&quot;Montague Hankey&quot;</td><td>null</td><td>null</td><td>&quot;GBR&quot;</td><td>36.895277</td><td>113977</td><td>null</td><td>null</td><td>&quot;Robert Dalby Dalby&quot;</td><td>null</td><td>null</td><td>&quot;GBR&quot;</td><td>null</td><td>&quot;6-4 6-2 3-6 6-2&quot;</td><td>5</td><td>&quot;R32&quot;</td><td>null</td><td>null</td><td>null</td><td>null</td><td>null</td><td>null</td><td>null</td><td>null</td><td>null</td><td>null</td><td>null</td><td>null</td><td>null</td><td>null</td><td>null</td><td>null</td><td>null</td><td>null</td><td>null</td><td>null</td><td>null</td><td>null</td><td>null</td><td>&quot;Wimbledon_1877_amatures_atp&quot;</td></tr><tr><td>&quot;1877-540&quot;</td><td>&quot;Wimbledon&quot;</td><td>&quot;Grass&quot;</td><td>&quot;32&quot;</td><td>&quot;G&quot;</td><td>1877-07-09</td><td>3</td><td>114147</td><td>null</td><td>null</td><td>&quot;John Baker&quot;</td><td>null</td><td>null</td><td>&quot;GBR&quot;</td><td>null</td><td>114148</td><td>null</td><td>null</td><td>&quot;Jw Trist&quot;</td><td>null</td><td>null</td><td>&quot;GBR&quot;</td><td>null</td><td>&quot;6-1 6-4 6-0&quot;</td><td>5</td><td>&quot;R32&quot;</td><td>null</td><td>null</td><td>null</td><td>null</td><td>null</td><td>null</td><td>null</td><td>null</td><td>null</td><td>null</td><td>null</td><td>null</td><td>null</td><td>null</td><td>null</td><td>null</td><td>null</td><td>null</td><td>null</td><td>null</td><td>null</td><td>null</td><td>null</td><td>&quot;Wimbledon_1877_amatures_atp&quot;</td></tr><tr><td>&quot;1877-540&quot;</td><td>&quot;Wimbledon&quot;</td><td>&quot;Grass&quot;</td><td>&quot;32&quot;</td><td>&quot;G&quot;</td><td>1877-07-09</td><td>4</td><td>114149</td><td>null</td><td>null</td><td>&quot;Francis Nathaniel Langham&quot;</td><td>null</td><td>null</td><td>&quot;GBR&quot;</td><td>36.082136</td><td>114150</td><td>null</td><td>null</td><td>&quot;Charles Francis Buller&quot;</td><td>null</td><td>null</td><td>&quot;GBR&quot;</td><td>31.12115</td><td>&quot;W/O&quot;</td><td>5</td><td>&quot;R32&quot;</td><td>null</td><td>null</td><td>null</td><td>null</td><td>null</td><td>null</td><td>null</td><td>null</td><td>null</td><td>null</td><td>null</td><td>null</td><td>null</td><td>null</td><td>null</td><td>null</td><td>null</td><td>null</td><td>null</td><td>null</td><td>null</td><td>null</td><td>null</td><td>&quot;Wimbledon_1877_amatures_atp&quot;</td></tr><tr><td>&quot;1877-540&quot;</td><td>&quot;Wimbledon&quot;</td><td>&quot;Grass&quot;</td><td>&quot;32&quot;</td><td>&quot;G&quot;</td><td>1877-07-09</td><td>5</td><td>113953</td><td>null</td><td>null</td><td>&quot;Lestocq Robert Erskine&quot;</td><td>null</td><td>null</td><td>&quot;GBR&quot;</td><td>19.838467</td><td>114151</td><td>null</td><td>null</td><td>&quot;E Wheeler&quot;</td><td>null</td><td>null</td><td>&quot;GBR&quot;</td><td>null</td><td>&quot;6-2 6-5 6-2&quot;</td><td>5</td><td>&quot;R32&quot;</td><td>null</td><td>null</td><td>null</td><td>null</td><td>null</td><td>null</td><td>null</td><td>null</td><td>null</td><td>null</td><td>null</td><td>null</td><td>null</td><td>null</td><td>null</td><td>null</td><td>null</td><td>null</td><td>null</td><td>null</td><td>null</td><td>null</td><td>null</td><td>&quot;Wimbledon_1877_amatures_atp&quot;</td></tr><tr><td>&hellip;</td><td>&hellip;</td><td>&hellip;</td><td>&hellip;</td><td>&hellip;</td><td>&hellip;</td><td>&hellip;</td><td>&hellip;</td><td>&hellip;</td><td>&hellip;</td><td>&hellip;</td><td>&hellip;</td><td>&hellip;</td><td>&hellip;</td><td>&hellip;</td><td>&hellip;</td><td>&hellip;</td><td>&hellip;</td><td>&hellip;</td><td>&hellip;</td><td>&hellip;</td><td>&hellip;</td><td>&hellip;</td><td>&hellip;</td><td>&hellip;</td><td>&hellip;</td><td>&hellip;</td><td>&hellip;</td><td>&hellip;</td><td>&hellip;</td><td>&hellip;</td><td>&hellip;</td><td>&hellip;</td><td>&hellip;</td><td>&hellip;</td><td>&hellip;</td><td>&hellip;</td><td>&hellip;</td><td>&hellip;</td><td>&hellip;</td><td>&hellip;</td><td>&hellip;</td><td>&hellip;</td><td>&hellip;</td><td>&hellip;</td><td>&hellip;</td><td>&hellip;</td><td>&hellip;</td><td>&hellip;</td><td>&hellip;</td></tr><tr><td>&quot;1967-D047&quot;</td><td>&quot;Davis Cup EUR R1: NED vs RSA&quot;</td><td>&quot;Clay&quot;</td><td>&quot;4&quot;</td><td>&quot;D&quot;</td><td>1967-05-04</td><td>5</td><td>100084</td><td>null</td><td>null</td><td>&quot;Tom Okker&quot;</td><td>&quot;R&quot;</td><td>&quot;178&quot;</td><td>&quot;NED&quot;</td><td>23.195072</td><td>100055</td><td>null</td><td>null</td><td>&quot;Cliff Drysdale&quot;</td><td>&quot;R&quot;</td><td>188</td><td>&quot;RSA&quot;</td><td>25.938398</td><td>&quot;6-2 6-2 0-6 7-5&quot;</td><td>5</td><td>&quot;RR&quot;</td><td>null</td><td>null</td><td>null</td><td>null</td><td>null</td><td>null</td><td>null</td><td>null</td><td>null</td><td>null</td><td>null</td><td>null</td><td>null</td><td>null</td><td>null</td><td>null</td><td>null</td><td>null</td><td>null</td><td>null</td><td>null</td><td>null</td><td>null</td><td>&quot;Davis Cup EUR R1: NED vs RSA_1…</td></tr><tr><td>&quot;1967-D048&quot;</td><td>&quot;Davis Cup AME SF: PHI vs VIE&quot;</td><td>null</td><td>&quot;4&quot;</td><td>&quot;D&quot;</td><td>1967-04-14</td><td>1</td><td>106910</td><td>null</td><td>null</td><td>&quot;Eddie Cruz&quot;</td><td>&quot;R&quot;</td><td>null</td><td>&quot;PHI&quot;</td><td>null</td><td>111097</td><td>null</td><td>null</td><td>&quot;Van Bay Vo&quot;</td><td>&quot;U&quot;</td><td>null</td><td>&quot;VIE&quot;</td><td>null</td><td>&quot;6-2 6-3 6-2&quot;</td><td>5</td><td>&quot;RR&quot;</td><td>null</td><td>null</td><td>null</td><td>null</td><td>null</td><td>null</td><td>null</td><td>null</td><td>null</td><td>null</td><td>null</td><td>null</td><td>null</td><td>null</td><td>null</td><td>null</td><td>null</td><td>null</td><td>null</td><td>null</td><td>null</td><td>null</td><td>null</td><td>&quot;Davis Cup AME SF: PHI vs VIE_1…</td></tr><tr><td>&quot;1967-D048&quot;</td><td>&quot;Davis Cup AME SF: PHI vs VIE&quot;</td><td>null</td><td>&quot;4&quot;</td><td>&quot;D&quot;</td><td>1967-04-14</td><td>2</td><td>112556</td><td>null</td><td>null</td><td>&quot;Felicisimo Ampon&quot;</td><td>null</td><td>null</td><td>&quot;PHI&quot;</td><td>46.461328</td><td>111091</td><td>null</td><td>null</td><td>&quot;Van Thanh Vo&quot;</td><td>&quot;U&quot;</td><td>null</td><td>&quot;VIE&quot;</td><td>null</td><td>&quot;6-4 6-1 6-1&quot;</td><td>5</td><td>&quot;RR&quot;</td><td>null</td><td>null</td><td>null</td><td>null</td><td>null</td><td>null</td><td>null</td><td>null</td><td>null</td><td>null</td><td>null</td><td>null</td><td>null</td><td>null</td><td>null</td><td>null</td><td>null</td><td>null</td><td>null</td><td>null</td><td>null</td><td>null</td><td>null</td><td>&quot;Davis Cup AME SF: PHI vs VIE_1…</td></tr><tr><td>&quot;1967-D048&quot;</td><td>&quot;Davis Cup AME SF: PHI vs VIE&quot;</td><td>null</td><td>&quot;4&quot;</td><td>&quot;D&quot;</td><td>1967-04-14</td><td>4</td><td>125731</td><td>null</td><td>null</td><td>&quot;Samuel Ang&quot;</td><td>&quot;U&quot;</td><td>null</td><td>&quot;PHI&quot;</td><td>null</td><td>117339</td><td>null</td><td>null</td><td>&quot;Hoang Duc Luu&quot;</td><td>null</td><td>null</td><td>&quot;VIE&quot;</td><td>null</td><td>&quot;6-3 6-4 6-1&quot;</td><td>5</td><td>&quot;RR&quot;</td><td>null</td><td>null</td><td>null</td><td>null</td><td>null</td><td>null</td><td>null</td><td>null</td><td>null</td><td>null</td><td>null</td><td>null</td><td>null</td><td>null</td><td>null</td><td>null</td><td>null</td><td>null</td><td>null</td><td>null</td><td>null</td><td>null</td><td>null</td><td>&quot;Davis Cup AME SF: PHI vs VIE_1…</td></tr><tr><td>&quot;1967-D048&quot;</td><td>&quot;Davis Cup AME SF: PHI vs VIE&quot;</td><td>null</td><td>&quot;4&quot;</td><td>&quot;D&quot;</td><td>1967-04-14</td><td>5</td><td>106910</td><td>null</td><td>null</td><td>&quot;Eddie Cruz&quot;</td><td>&quot;R&quot;</td><td>null</td><td>&quot;PHI&quot;</td><td>null</td><td>111091</td><td>null</td><td>null</td><td>&quot;Van Thanh Vo&quot;</td><td>&quot;U&quot;</td><td>null</td><td>&quot;VIE&quot;</td><td>null</td><td>&quot;12-10 9-7 6-1&quot;</td><td>5</td><td>&quot;RR&quot;</td><td>null</td><td>null</td><td>null</td><td>null</td><td>null</td><td>null</td><td>null</td><td>null</td><td>null</td><td>null</td><td>null</td><td>null</td><td>null</td><td>null</td><td>null</td><td>null</td><td>null</td><td>null</td><td>null</td><td>null</td><td>null</td><td>null</td><td>null</td><td>&quot;Davis Cup AME SF: PHI vs VIE_1…</td></tr></tbody></table></div>"
      ],
      "text/plain": [
       "shape: (25_001, 50)\n",
       "┌────────────┬───────────┬─────────┬───────────┬───┬───────────┬───────────┬───────────┬───────────┐\n",
       "│ tourney_id ┆ tourney_n ┆ surface ┆ draw_size ┆ … ┆ winner_ra ┆ loser_ran ┆ loser_ran ┆ tourney_n │\n",
       "│ ---        ┆ ame       ┆ ---     ┆ ---       ┆   ┆ nk_points ┆ k         ┆ k_points  ┆ ame_date_ │\n",
       "│ str        ┆ ---       ┆ str     ┆ str       ┆   ┆ ---       ┆ ---       ┆ ---       ┆ matches   │\n",
       "│            ┆ str       ┆         ┆           ┆   ┆ str       ┆ str       ┆ str       ┆ ---       │\n",
       "│            ┆           ┆         ┆           ┆   ┆           ┆           ┆           ┆ str       │\n",
       "╞════════════╪═══════════╪═════════╪═══════════╪═══╪═══════════╪═══════════╪═══════════╪═══════════╡\n",
       "│ 1877-540   ┆ Wimbledon ┆ Grass   ┆ 32        ┆ … ┆ null      ┆ null      ┆ null      ┆ Wimbledon │\n",
       "│            ┆           ┆         ┆           ┆   ┆           ┆           ┆           ┆ _1877_ama │\n",
       "│            ┆           ┆         ┆           ┆   ┆           ┆           ┆           ┆ tures_atp │\n",
       "│ 1877-540   ┆ Wimbledon ┆ Grass   ┆ 32        ┆ … ┆ null      ┆ null      ┆ null      ┆ Wimbledon │\n",
       "│            ┆           ┆         ┆           ┆   ┆           ┆           ┆           ┆ _1877_ama │\n",
       "│            ┆           ┆         ┆           ┆   ┆           ┆           ┆           ┆ tures_atp │\n",
       "│ 1877-540   ┆ Wimbledon ┆ Grass   ┆ 32        ┆ … ┆ null      ┆ null      ┆ null      ┆ Wimbledon │\n",
       "│            ┆           ┆         ┆           ┆   ┆           ┆           ┆           ┆ _1877_ama │\n",
       "│            ┆           ┆         ┆           ┆   ┆           ┆           ┆           ┆ tures_atp │\n",
       "│ 1877-540   ┆ Wimbledon ┆ Grass   ┆ 32        ┆ … ┆ null      ┆ null      ┆ null      ┆ Wimbledon │\n",
       "│            ┆           ┆         ┆           ┆   ┆           ┆           ┆           ┆ _1877_ama │\n",
       "│            ┆           ┆         ┆           ┆   ┆           ┆           ┆           ┆ tures_atp │\n",
       "│ 1877-540   ┆ Wimbledon ┆ Grass   ┆ 32        ┆ … ┆ null      ┆ null      ┆ null      ┆ Wimbledon │\n",
       "│            ┆           ┆         ┆           ┆   ┆           ┆           ┆           ┆ _1877_ama │\n",
       "│            ┆           ┆         ┆           ┆   ┆           ┆           ┆           ┆ tures_atp │\n",
       "│ …          ┆ …         ┆ …       ┆ …         ┆ … ┆ …         ┆ …         ┆ …         ┆ …         │\n",
       "│ 1967-D047  ┆ Davis Cup ┆ Clay    ┆ 4         ┆ … ┆ null      ┆ null      ┆ null      ┆ Davis Cup │\n",
       "│            ┆ EUR R1:   ┆         ┆           ┆   ┆           ┆           ┆           ┆ EUR R1:   │\n",
       "│            ┆ NED vs    ┆         ┆           ┆   ┆           ┆           ┆           ┆ NED vs    │\n",
       "│            ┆ RSA       ┆         ┆           ┆   ┆           ┆           ┆           ┆ RSA_1…    │\n",
       "│ 1967-D048  ┆ Davis Cup ┆ null    ┆ 4         ┆ … ┆ null      ┆ null      ┆ null      ┆ Davis Cup │\n",
       "│            ┆ AME SF:   ┆         ┆           ┆   ┆           ┆           ┆           ┆ AME SF:   │\n",
       "│            ┆ PHI vs    ┆         ┆           ┆   ┆           ┆           ┆           ┆ PHI vs    │\n",
       "│            ┆ VIE       ┆         ┆           ┆   ┆           ┆           ┆           ┆ VIE_1…    │\n",
       "│ 1967-D048  ┆ Davis Cup ┆ null    ┆ 4         ┆ … ┆ null      ┆ null      ┆ null      ┆ Davis Cup │\n",
       "│            ┆ AME SF:   ┆         ┆           ┆   ┆           ┆           ┆           ┆ AME SF:   │\n",
       "│            ┆ PHI vs    ┆         ┆           ┆   ┆           ┆           ┆           ┆ PHI vs    │\n",
       "│            ┆ VIE       ┆         ┆           ┆   ┆           ┆           ┆           ┆ VIE_1…    │\n",
       "│ 1967-D048  ┆ Davis Cup ┆ null    ┆ 4         ┆ … ┆ null      ┆ null      ┆ null      ┆ Davis Cup │\n",
       "│            ┆ AME SF:   ┆         ┆           ┆   ┆           ┆           ┆           ┆ AME SF:   │\n",
       "│            ┆ PHI vs    ┆         ┆           ┆   ┆           ┆           ┆           ┆ PHI vs    │\n",
       "│            ┆ VIE       ┆         ┆           ┆   ┆           ┆           ┆           ┆ VIE_1…    │\n",
       "│ 1967-D048  ┆ Davis Cup ┆ null    ┆ 4         ┆ … ┆ null      ┆ null      ┆ null      ┆ Davis Cup │\n",
       "│            ┆ AME SF:   ┆         ┆           ┆   ┆           ┆           ┆           ┆ AME SF:   │\n",
       "│            ┆ PHI vs    ┆         ┆           ┆   ┆           ┆           ┆           ┆ PHI vs    │\n",
       "│            ┆ VIE       ┆         ┆           ┆   ┆           ┆           ┆           ┆ VIE_1…    │\n",
       "└────────────┴───────────┴─────────┴───────────┴───┴───────────┴───────────┴───────────┴───────────┘"
      ]
     },
     "execution_count": 8,
     "metadata": {},
     "output_type": "execute_result"
    }
   ],
   "source": [
    "#creazione df amatori\n",
    "matches_amateurs_atp=import_matches_amateurs_atp(write_parquet=True)\n",
    "#creazione colonna 'tourney_name_date_matches' con metodo polars\n",
    "matches_amateurs_atp = matches_amateurs_atp.with_columns(\n",
    "    (pl.col(\"tourney_name\") + \"_\" + pl.col(\"tourney_date\").dt.year().cast(pl.Utf8)+\"_amatures_atp\").alias(\"tourney_name_date_matches\")\n",
    ")\n",
    "matches_amateurs_atp"
   ]
  },
  {
   "cell_type": "code",
   "execution_count": 9,
   "metadata": {},
   "outputs": [
    {
     "data": {
      "text/html": [
       "<div><style>\n",
       ".dataframe > thead > tr,\n",
       ".dataframe > tbody > tr {\n",
       "  text-align: right;\n",
       "  white-space: pre-wrap;\n",
       "}\n",
       "</style>\n",
       "<small>shape: (1_481, 7)</small><table border=\"1\" class=\"dataframe\"><thead><tr><th>tourney_name</th><th>surface</th><th>draw_size</th><th>tourney_level</th><th>tourney_date</th><th>tourney_name_date_matches</th><th>best_of</th></tr><tr><td>str</td><td>str</td><td>str</td><td>str</td><td>date</td><td>str</td><td>i64</td></tr></thead><tbody><tr><td>&quot;Davis Cup EUR R2: TCH vs MON&quot;</td><td>null</td><td>&quot;4&quot;</td><td>&quot;D&quot;</td><td>1933-05-12</td><td>&quot;Davis Cup EUR R2: TCH vs MON_1…</td><td>5</td></tr><tr><td>&quot;Roland Garros&quot;</td><td>&quot;Clay&quot;</td><td>&quot;128&quot;</td><td>&quot;G&quot;</td><td>1963-05-01</td><td>&quot;Roland Garros_1963_amatures_at…</td><td>5</td></tr><tr><td>&quot;Davis Cup WG CR: GBR vs USA&quot;</td><td>&quot;Grass&quot;</td><td>&quot;4&quot;</td><td>&quot;D&quot;</td><td>1913-07-25</td><td>&quot;Davis Cup WG CR: GBR vs USA_19…</td><td>5</td></tr><tr><td>&quot;US Open&quot;</td><td>&quot;Grass&quot;</td><td>&quot;64&quot;</td><td>&quot;G&quot;</td><td>1897-08-18</td><td>&quot;US Open_1897_amatures_atp&quot;</td><td>5</td></tr><tr><td>&quot;Australian Open&quot;</td><td>&quot;Grass&quot;</td><td>&quot;64&quot;</td><td>&quot;G&quot;</td><td>1924-01-19</td><td>&quot;Australian Open_1924_amatures_…</td><td>5</td></tr><tr><td>&hellip;</td><td>&hellip;</td><td>&hellip;</td><td>&hellip;</td><td>&hellip;</td><td>&hellip;</td><td>&hellip;</td></tr><tr><td>&quot;Roland Garros&quot;</td><td>&quot;Clay&quot;</td><td>&quot;128&quot;</td><td>&quot;G&quot;</td><td>1953-05-01</td><td>&quot;Roland Garros_1953_amatures_at…</td><td>5</td></tr><tr><td>&quot;Davis Cup EUR R2: ESP vs GER&quot;</td><td>&quot;Clay&quot;</td><td>&quot;4&quot;</td><td>&quot;D&quot;</td><td>1929-05-11</td><td>&quot;Davis Cup EUR R2: ESP vs GER_1…</td><td>5</td></tr><tr><td>&quot;Davis Cup AME SF: MEX vs BRA&quot;</td><td>&quot;Clay&quot;</td><td>&quot;4&quot;</td><td>&quot;D&quot;</td><td>1956-07-06</td><td>&quot;Davis Cup AME SF: MEX vs BRA_1…</td><td>5</td></tr><tr><td>&quot;Davis Cup AME SF: MEX vs AUS&quot;</td><td>&quot;Clay&quot;</td><td>&quot;4&quot;</td><td>&quot;D&quot;</td><td>1964-08-01</td><td>&quot;Davis Cup AME SF: MEX vs AUS_1…</td><td>5</td></tr><tr><td>&quot;Davis Cup EUR R1: BEL vs IND&quot;</td><td>null</td><td>&quot;4&quot;</td><td>&quot;D&quot;</td><td>1925-05-16</td><td>&quot;Davis Cup EUR R1: BEL vs IND_1…</td><td>5</td></tr></tbody></table></div>"
      ],
      "text/plain": [
       "shape: (1_481, 7)\n",
       "┌─────────────────┬─────────┬───────────┬───────────────┬──────────────┬─────────────────┬─────────┐\n",
       "│ tourney_name    ┆ surface ┆ draw_size ┆ tourney_level ┆ tourney_date ┆ tourney_name_da ┆ best_of │\n",
       "│ ---             ┆ ---     ┆ ---       ┆ ---           ┆ ---          ┆ te_matches      ┆ ---     │\n",
       "│ str             ┆ str     ┆ str       ┆ str           ┆ date         ┆ ---             ┆ i64     │\n",
       "│                 ┆         ┆           ┆               ┆              ┆ str             ┆         │\n",
       "╞═════════════════╪═════════╪═══════════╪═══════════════╪══════════════╪═════════════════╪═════════╡\n",
       "│ Davis Cup EUR   ┆ null    ┆ 4         ┆ D             ┆ 1933-05-12   ┆ Davis Cup EUR   ┆ 5       │\n",
       "│ R2: TCH vs MON  ┆         ┆           ┆               ┆              ┆ R2: TCH vs      ┆         │\n",
       "│                 ┆         ┆           ┆               ┆              ┆ MON_1…          ┆         │\n",
       "│ Roland Garros   ┆ Clay    ┆ 128       ┆ G             ┆ 1963-05-01   ┆ Roland Garros_1 ┆ 5       │\n",
       "│                 ┆         ┆           ┆               ┆              ┆ 963_amatures_at ┆         │\n",
       "│                 ┆         ┆           ┆               ┆              ┆ …               ┆         │\n",
       "│ Davis Cup WG    ┆ Grass   ┆ 4         ┆ D             ┆ 1913-07-25   ┆ Davis Cup WG    ┆ 5       │\n",
       "│ CR: GBR vs USA  ┆         ┆           ┆               ┆              ┆ CR: GBR vs      ┆         │\n",
       "│                 ┆         ┆           ┆               ┆              ┆ USA_19…         ┆         │\n",
       "│ US Open         ┆ Grass   ┆ 64        ┆ G             ┆ 1897-08-18   ┆ US Open_1897_am ┆ 5       │\n",
       "│                 ┆         ┆           ┆               ┆              ┆ atures_atp      ┆         │\n",
       "│ Australian Open ┆ Grass   ┆ 64        ┆ G             ┆ 1924-01-19   ┆ Australian Open ┆ 5       │\n",
       "│                 ┆         ┆           ┆               ┆              ┆ _1924_amatures_ ┆         │\n",
       "│                 ┆         ┆           ┆               ┆              ┆ …               ┆         │\n",
       "│ …               ┆ …       ┆ …         ┆ …             ┆ …            ┆ …               ┆ …       │\n",
       "│ Roland Garros   ┆ Clay    ┆ 128       ┆ G             ┆ 1953-05-01   ┆ Roland Garros_1 ┆ 5       │\n",
       "│                 ┆         ┆           ┆               ┆              ┆ 953_amatures_at ┆         │\n",
       "│                 ┆         ┆           ┆               ┆              ┆ …               ┆         │\n",
       "│ Davis Cup EUR   ┆ Clay    ┆ 4         ┆ D             ┆ 1929-05-11   ┆ Davis Cup EUR   ┆ 5       │\n",
       "│ R2: ESP vs GER  ┆         ┆           ┆               ┆              ┆ R2: ESP vs      ┆         │\n",
       "│                 ┆         ┆           ┆               ┆              ┆ GER_1…          ┆         │\n",
       "│ Davis Cup AME   ┆ Clay    ┆ 4         ┆ D             ┆ 1956-07-06   ┆ Davis Cup AME   ┆ 5       │\n",
       "│ SF: MEX vs BRA  ┆         ┆           ┆               ┆              ┆ SF: MEX vs      ┆         │\n",
       "│                 ┆         ┆           ┆               ┆              ┆ BRA_1…          ┆         │\n",
       "│ Davis Cup AME   ┆ Clay    ┆ 4         ┆ D             ┆ 1964-08-01   ┆ Davis Cup AME   ┆ 5       │\n",
       "│ SF: MEX vs AUS  ┆         ┆           ┆               ┆              ┆ SF: MEX vs      ┆         │\n",
       "│                 ┆         ┆           ┆               ┆              ┆ AUS_1…          ┆         │\n",
       "│ Davis Cup EUR   ┆ null    ┆ 4         ┆ D             ┆ 1925-05-16   ┆ Davis Cup EUR   ┆ 5       │\n",
       "│ R1: BEL vs IND  ┆         ┆           ┆               ┆              ┆ R1: BEL vs      ┆         │\n",
       "│                 ┆         ┆           ┆               ┆              ┆ IND_1…          ┆         │\n",
       "└─────────────────┴─────────┴───────────┴───────────────┴──────────────┴─────────────────┴─────────┘"
      ]
     },
     "execution_count": 9,
     "metadata": {},
     "output_type": "execute_result"
    }
   ],
   "source": [
    "#creazione 'tourney_amateurs_matches_atp' e in seguito unique di 'tourney_name_date_matches'\n",
    "tourney_amateurs_matches_atp=matches_amateurs_atp[['tourney_name', 'surface', 'draw_size', 'tourney_level', 'tourney_date', 'tourney_name_date_matches',\"best_of\"]]\n",
    "tourney_amateurs_matches_atp=tourney_amateurs_matches_atp.unique('tourney_name_date_matches')\n",
    "tourney_amateurs_matches_atp"
   ]
  },
  {
   "cell_type": "code",
   "execution_count": 10,
   "metadata": {},
   "outputs": [
    {
     "data": {
      "text/html": [
       "<div><style>\n",
       ".dataframe > thead > tr,\n",
       ".dataframe > tbody > tr {\n",
       "  text-align: right;\n",
       "  white-space: pre-wrap;\n",
       "}\n",
       "</style>\n",
       "<small>shape: (193_337, 50)</small><table border=\"1\" class=\"dataframe\"><thead><tr><th>tourney_id</th><th>tourney_name</th><th>surface</th><th>draw_size</th><th>tourney_level</th><th>tourney_date</th><th>match_num</th><th>winner_id</th><th>winner_seed</th><th>winner_entry</th><th>winner_name</th><th>winner_hand</th><th>winner_ht</th><th>winner_ioc</th><th>winner_age</th><th>loser_id</th><th>loser_seed</th><th>loser_entry</th><th>loser_name</th><th>loser_hand</th><th>loser_ht</th><th>loser_ioc</th><th>loser_age</th><th>score</th><th>best_of</th><th>round</th><th>minutes</th><th>w_ace</th><th>w_df</th><th>w_svpt</th><th>w_1stIn</th><th>w_1stWon</th><th>w_2ndWon</th><th>w_SvGms</th><th>w_bpSaved</th><th>w_bpFaced</th><th>l_ace</th><th>l_df</th><th>l_svpt</th><th>l_1stIn</th><th>l_1stWon</th><th>l_2ndWon</th><th>l_SvGms</th><th>l_bpSaved</th><th>l_bpFaced</th><th>winner_rank</th><th>winner_rank_points</th><th>loser_rank</th><th>loser_rank_points</th><th>tourney_name_date_matches</th></tr><tr><td>str</td><td>str</td><td>str</td><td>i64</td><td>str</td><td>date</td><td>i64</td><td>str</td><td>str</td><td>str</td><td>str</td><td>str</td><td>i64</td><td>str</td><td>f64</td><td>str</td><td>str</td><td>str</td><td>str</td><td>str</td><td>i64</td><td>str</td><td>f64</td><td>str</td><td>i64</td><td>str</td><td>str</td><td>str</td><td>str</td><td>str</td><td>str</td><td>str</td><td>str</td><td>str</td><td>str</td><td>str</td><td>str</td><td>str</td><td>str</td><td>str</td><td>str</td><td>str</td><td>str</td><td>str</td><td>str</td><td>str</td><td>str</td><td>str</td><td>str</td><td>str</td></tr></thead><tbody><tr><td>&quot;1968-2029&quot;</td><td>&quot;Dublin&quot;</td><td>&quot;Grass&quot;</td><td>32</td><td>&quot;A&quot;</td><td>1968-07-08</td><td>270</td><td>&quot;112411&quot;</td><td>null</td><td>null</td><td>&quot;Doug Smith&quot;</td><td>&quot;U&quot;</td><td>null</td><td>&quot;AUS&quot;</td><td>null</td><td>&quot;110196&quot;</td><td>null</td><td>null</td><td>&quot;Peter Ledbetter&quot;</td><td>&quot;U&quot;</td><td>null</td><td>&quot;IRL&quot;</td><td>24.0</td><td>&quot;6-1 7-5&quot;</td><td>3</td><td>&quot;R32&quot;</td><td>null</td><td>null</td><td>null</td><td>null</td><td>null</td><td>null</td><td>null</td><td>null</td><td>null</td><td>null</td><td>null</td><td>null</td><td>null</td><td>null</td><td>null</td><td>null</td><td>null</td><td>null</td><td>null</td><td>null</td><td>null</td><td>null</td><td>null</td><td>&quot;Dublin_1968_singles_atp&quot;</td></tr><tr><td>&quot;1968-2029&quot;</td><td>&quot;Dublin&quot;</td><td>&quot;Grass&quot;</td><td>32</td><td>&quot;A&quot;</td><td>1968-07-08</td><td>271</td><td>&quot;126914&quot;</td><td>null</td><td>null</td><td>&quot;Louis Pretorius&quot;</td><td>&quot;R&quot;</td><td>null</td><td>&quot;RSA&quot;</td><td>null</td><td>&quot;209536&quot;</td><td>null</td><td>null</td><td>&quot;Maurice Pollock&quot;</td><td>&quot;U&quot;</td><td>null</td><td>&quot;IRL&quot;</td><td>null</td><td>&quot;6-1 6-1&quot;</td><td>3</td><td>&quot;R32&quot;</td><td>null</td><td>null</td><td>null</td><td>null</td><td>null</td><td>null</td><td>null</td><td>null</td><td>null</td><td>null</td><td>null</td><td>null</td><td>null</td><td>null</td><td>null</td><td>null</td><td>null</td><td>null</td><td>null</td><td>null</td><td>null</td><td>null</td><td>null</td><td>&quot;Dublin_1968_singles_atp&quot;</td></tr><tr><td>&quot;1968-2029&quot;</td><td>&quot;Dublin&quot;</td><td>&quot;Grass&quot;</td><td>32</td><td>&quot;A&quot;</td><td>1968-07-08</td><td>272</td><td>&quot;209523&quot;</td><td>null</td><td>null</td><td>&quot;Cecil Pedlow&quot;</td><td>&quot;U&quot;</td><td>null</td><td>&quot;IRL&quot;</td><td>null</td><td>&quot;209535&quot;</td><td>null</td><td>null</td><td>&quot;John Mulvey&quot;</td><td>&quot;U&quot;</td><td>null</td><td>&quot;IRL&quot;</td><td>null</td><td>&quot;6-2 6-2&quot;</td><td>3</td><td>&quot;R32&quot;</td><td>null</td><td>null</td><td>null</td><td>null</td><td>null</td><td>null</td><td>null</td><td>null</td><td>null</td><td>null</td><td>null</td><td>null</td><td>null</td><td>null</td><td>null</td><td>null</td><td>null</td><td>null</td><td>null</td><td>null</td><td>null</td><td>null</td><td>null</td><td>&quot;Dublin_1968_singles_atp&quot;</td></tr><tr><td>&quot;1968-2029&quot;</td><td>&quot;Dublin&quot;</td><td>&quot;Grass&quot;</td><td>32</td><td>&quot;A&quot;</td><td>1968-07-08</td><td>273</td><td>&quot;100084&quot;</td><td>null</td><td>null</td><td>&quot;Tom Okker&quot;</td><td>&quot;R&quot;</td><td>178</td><td>&quot;NED&quot;</td><td>24.3</td><td>&quot;209534&quot;</td><td>null</td><td>null</td><td>&quot;Unknown Fearmon&quot;</td><td>&quot;U&quot;</td><td>null</td><td>null</td><td>null</td><td>&quot;6-1 6-1&quot;</td><td>3</td><td>&quot;R32&quot;</td><td>null</td><td>null</td><td>null</td><td>null</td><td>null</td><td>null</td><td>null</td><td>null</td><td>null</td><td>null</td><td>null</td><td>null</td><td>null</td><td>null</td><td>null</td><td>null</td><td>null</td><td>null</td><td>null</td><td>null</td><td>null</td><td>null</td><td>null</td><td>&quot;Dublin_1968_singles_atp&quot;</td></tr><tr><td>&quot;1968-2029&quot;</td><td>&quot;Dublin&quot;</td><td>&quot;Grass&quot;</td><td>32</td><td>&quot;A&quot;</td><td>1968-07-08</td><td>274</td><td>&quot;100132&quot;</td><td>null</td><td>null</td><td>&quot;Armistead Neely&quot;</td><td>&quot;R&quot;</td><td>null</td><td>&quot;USA&quot;</td><td>21.3</td><td>&quot;209533&quot;</td><td>null</td><td>null</td><td>&quot;Harry Sheridan&quot;</td><td>&quot;U&quot;</td><td>null</td><td>&quot;IRL&quot;</td><td>null</td><td>&quot;6-2 6-4&quot;</td><td>3</td><td>&quot;R32&quot;</td><td>null</td><td>null</td><td>null</td><td>null</td><td>null</td><td>null</td><td>null</td><td>null</td><td>null</td><td>null</td><td>null</td><td>null</td><td>null</td><td>null</td><td>null</td><td>null</td><td>null</td><td>null</td><td>null</td><td>null</td><td>null</td><td>null</td><td>null</td><td>&quot;Dublin_1968_singles_atp&quot;</td></tr><tr><td>&hellip;</td><td>&hellip;</td><td>&hellip;</td><td>&hellip;</td><td>&hellip;</td><td>&hellip;</td><td>&hellip;</td><td>&hellip;</td><td>&hellip;</td><td>&hellip;</td><td>&hellip;</td><td>&hellip;</td><td>&hellip;</td><td>&hellip;</td><td>&hellip;</td><td>&hellip;</td><td>&hellip;</td><td>&hellip;</td><td>&hellip;</td><td>&hellip;</td><td>&hellip;</td><td>&hellip;</td><td>&hellip;</td><td>&hellip;</td><td>&hellip;</td><td>&hellip;</td><td>&hellip;</td><td>&hellip;</td><td>&hellip;</td><td>&hellip;</td><td>&hellip;</td><td>&hellip;</td><td>&hellip;</td><td>&hellip;</td><td>&hellip;</td><td>&hellip;</td><td>&hellip;</td><td>&hellip;</td><td>&hellip;</td><td>&hellip;</td><td>&hellip;</td><td>&hellip;</td><td>&hellip;</td><td>&hellip;</td><td>&hellip;</td><td>&hellip;</td><td>&hellip;</td><td>&hellip;</td><td>&hellip;</td><td>&hellip;</td></tr><tr><td>&quot;2024-M-DC-2024-WG2-PO-URU-MDA-…</td><td>&quot;Davis Cup WG2 PO: URU vs MDA&quot;</td><td>&quot;Clay&quot;</td><td>4</td><td>&quot;D&quot;</td><td>2024-02-03</td><td>5</td><td>&quot;212051&quot;</td><td>null</td><td>null</td><td>&quot;Joaquin  Aguilar Cardozo &quot;</td><td>&quot;U&quot;</td><td>null</td><td>&quot;URU&quot;</td><td>18.8</td><td>&quot;209943&quot;</td><td>null</td><td>null</td><td>&quot;Ilya Snitari&quot;</td><td>&quot;U&quot;</td><td>null</td><td>&quot;MDA&quot;</td><td>21.8</td><td>&quot;6-1 6-0&quot;</td><td>3</td><td>&quot;RR&quot;</td><td>&quot;77&quot;</td><td>&quot;0&quot;</td><td>&quot;0&quot;</td><td>&quot;36&quot;</td><td>&quot;22&quot;</td><td>&quot;15&quot;</td><td>&quot;10&quot;</td><td>&quot;7&quot;</td><td>&quot;1&quot;</td><td>&quot;1&quot;</td><td>&quot;1&quot;</td><td>&quot;1&quot;</td><td>&quot;61&quot;</td><td>&quot;30&quot;</td><td>&quot;17&quot;</td><td>&quot;7&quot;</td><td>&quot;6&quot;</td><td>&quot;8&quot;</td><td>&quot;14&quot;</td><td>&quot;1109&quot;</td><td>&quot;8&quot;</td><td>&quot;740&quot;</td><td>&quot;34&quot;</td><td>&quot;Davis Cup WG2 PO: URU vs MDA_2…</td></tr><tr><td>&quot;2024-M-DC-2024-WG2-PO-VIE-RSA-…</td><td>&quot;Davis Cup WG2 PO: VIE vs RSA&quot;</td><td>&quot;Hard&quot;</td><td>4</td><td>&quot;D&quot;</td><td>2024-02-02</td><td>1</td><td>&quot;122533&quot;</td><td>null</td><td>null</td><td>&quot;Nam Hoang Ly&quot;</td><td>&quot;R&quot;</td><td>null</td><td>&quot;VIE&quot;</td><td>26.9</td><td>&quot;202475&quot;</td><td>null</td><td>null</td><td>&quot;Philip Henning&quot;</td><td>&quot;R&quot;</td><td>null</td><td>&quot;RSA&quot;</td><td>23.2</td><td>&quot;6-3 6-4&quot;</td><td>3</td><td>&quot;RR&quot;</td><td>&quot;131&quot;</td><td>&quot;1&quot;</td><td>&quot;1&quot;</td><td>&quot;86&quot;</td><td>&quot;60&quot;</td><td>&quot;40&quot;</td><td>&quot;13&quot;</td><td>&quot;10&quot;</td><td>&quot;8&quot;</td><td>&quot;9&quot;</td><td>&quot;2&quot;</td><td>&quot;1&quot;</td><td>&quot;56&quot;</td><td>&quot;41&quot;</td><td>&quot;25&quot;</td><td>&quot;6&quot;</td><td>&quot;9&quot;</td><td>&quot;1&quot;</td><td>&quot;4&quot;</td><td>&quot;554&quot;</td><td>&quot;67&quot;</td><td>&quot;748&quot;</td><td>&quot;32&quot;</td><td>&quot;Davis Cup WG2 PO: VIE vs RSA_2…</td></tr><tr><td>&quot;2024-M-DC-2024-WG2-PO-VIE-RSA-…</td><td>&quot;Davis Cup WG2 PO: VIE vs RSA&quot;</td><td>&quot;Hard&quot;</td><td>4</td><td>&quot;D&quot;</td><td>2024-02-02</td><td>2</td><td>&quot;144748&quot;</td><td>null</td><td>null</td><td>&quot;Kris Van Wyk&quot;</td><td>&quot;U&quot;</td><td>null</td><td>&quot;RSA&quot;</td><td>27.3</td><td>&quot;144775&quot;</td><td>null</td><td>null</td><td>&quot;Linh Giang Trinh&quot;</td><td>&quot;R&quot;</td><td>183</td><td>&quot;VIE&quot;</td><td>26.4</td><td>&quot;4-6 6-3 4-0&quot;</td><td>3</td><td>&quot;RR&quot;</td><td>&quot;131&quot;</td><td>&quot;4&quot;</td><td>&quot;2&quot;</td><td>&quot;76&quot;</td><td>&quot;46&quot;</td><td>&quot;32&quot;</td><td>&quot;10&quot;</td><td>&quot;12&quot;</td><td>&quot;6&quot;</td><td>&quot;11&quot;</td><td>&quot;0&quot;</td><td>&quot;2&quot;</td><td>&quot;71&quot;</td><td>&quot;51&quot;</td><td>&quot;25&quot;</td><td>&quot;7&quot;</td><td>&quot;11&quot;</td><td>&quot;5&quot;</td><td>&quot;12&quot;</td><td>&quot;416&quot;</td><td>&quot;109&quot;</td><td>null</td><td>null</td><td>&quot;Davis Cup WG2 PO: VIE vs RSA_2…</td></tr><tr><td>&quot;2024-M-DC-2024-WG2-PO-VIE-RSA-…</td><td>&quot;Davis Cup WG2 PO: VIE vs RSA&quot;</td><td>&quot;Hard&quot;</td><td>4</td><td>&quot;D&quot;</td><td>2024-02-02</td><td>4</td><td>&quot;122533&quot;</td><td>null</td><td>null</td><td>&quot;Nam Hoang Ly&quot;</td><td>&quot;R&quot;</td><td>null</td><td>&quot;VIE&quot;</td><td>26.9</td><td>&quot;144748&quot;</td><td>null</td><td>null</td><td>&quot;Kris Van Wyk&quot;</td><td>&quot;U&quot;</td><td>null</td><td>&quot;RSA&quot;</td><td>27.3</td><td>&quot;6-4 3-6 6-3&quot;</td><td>3</td><td>&quot;RR&quot;</td><td>&quot;159&quot;</td><td>&quot;0&quot;</td><td>&quot;1&quot;</td><td>&quot;84&quot;</td><td>&quot;61&quot;</td><td>&quot;41&quot;</td><td>&quot;13&quot;</td><td>&quot;14&quot;</td><td>&quot;2&quot;</td><td>&quot;5&quot;</td><td>&quot;5&quot;</td><td>&quot;3&quot;</td><td>&quot;86&quot;</td><td>&quot;51&quot;</td><td>&quot;32&quot;</td><td>&quot;17&quot;</td><td>&quot;14&quot;</td><td>&quot;5&quot;</td><td>&quot;9&quot;</td><td>&quot;554&quot;</td><td>&quot;67&quot;</td><td>&quot;416&quot;</td><td>&quot;109&quot;</td><td>&quot;Davis Cup WG2 PO: VIE vs RSA_2…</td></tr><tr><td>&quot;2024-M-DC-2024-WG2-PO-VIE-RSA-…</td><td>&quot;Davis Cup WG2 PO: VIE vs RSA&quot;</td><td>&quot;Hard&quot;</td><td>4</td><td>&quot;D&quot;</td><td>2024-02-02</td><td>5</td><td>&quot;202475&quot;</td><td>null</td><td>null</td><td>&quot;Philip Henning&quot;</td><td>&quot;R&quot;</td><td>null</td><td>&quot;RSA&quot;</td><td>23.2</td><td>&quot;144775&quot;</td><td>null</td><td>null</td><td>&quot;Linh Giang Trinh&quot;</td><td>&quot;R&quot;</td><td>183</td><td>&quot;VIE&quot;</td><td>26.4</td><td>&quot;6-2 6-2&quot;</td><td>3</td><td>&quot;RR&quot;</td><td>&quot;101&quot;</td><td>&quot;1&quot;</td><td>&quot;0&quot;</td><td>&quot;47&quot;</td><td>&quot;28&quot;</td><td>&quot;21&quot;</td><td>&quot;11&quot;</td><td>&quot;8&quot;</td><td>&quot;0&quot;</td><td>&quot;1&quot;</td><td>&quot;0&quot;</td><td>&quot;0&quot;</td><td>&quot;71&quot;</td><td>&quot;53&quot;</td><td>&quot;25&quot;</td><td>&quot;8&quot;</td><td>&quot;8&quot;</td><td>&quot;9&quot;</td><td>&quot;14&quot;</td><td>&quot;748&quot;</td><td>&quot;32&quot;</td><td>null</td><td>null</td><td>&quot;Davis Cup WG2 PO: VIE vs RSA_2…</td></tr></tbody></table></div>"
      ],
      "text/plain": [
       "shape: (193_337, 50)\n",
       "┌────────────┬───────────┬─────────┬───────────┬───┬───────────┬───────────┬───────────┬───────────┐\n",
       "│ tourney_id ┆ tourney_n ┆ surface ┆ draw_size ┆ … ┆ winner_ra ┆ loser_ran ┆ loser_ran ┆ tourney_n │\n",
       "│ ---        ┆ ame       ┆ ---     ┆ ---       ┆   ┆ nk_points ┆ k         ┆ k_points  ┆ ame_date_ │\n",
       "│ str        ┆ ---       ┆ str     ┆ i64       ┆   ┆ ---       ┆ ---       ┆ ---       ┆ matches   │\n",
       "│            ┆ str       ┆         ┆           ┆   ┆ str       ┆ str       ┆ str       ┆ ---       │\n",
       "│            ┆           ┆         ┆           ┆   ┆           ┆           ┆           ┆ str       │\n",
       "╞════════════╪═══════════╪═════════╪═══════════╪═══╪═══════════╪═══════════╪═══════════╪═══════════╡\n",
       "│ 1968-2029  ┆ Dublin    ┆ Grass   ┆ 32        ┆ … ┆ null      ┆ null      ┆ null      ┆ Dublin_19 │\n",
       "│            ┆           ┆         ┆           ┆   ┆           ┆           ┆           ┆ 68_single │\n",
       "│            ┆           ┆         ┆           ┆   ┆           ┆           ┆           ┆ s_atp     │\n",
       "│ 1968-2029  ┆ Dublin    ┆ Grass   ┆ 32        ┆ … ┆ null      ┆ null      ┆ null      ┆ Dublin_19 │\n",
       "│            ┆           ┆         ┆           ┆   ┆           ┆           ┆           ┆ 68_single │\n",
       "│            ┆           ┆         ┆           ┆   ┆           ┆           ┆           ┆ s_atp     │\n",
       "│ 1968-2029  ┆ Dublin    ┆ Grass   ┆ 32        ┆ … ┆ null      ┆ null      ┆ null      ┆ Dublin_19 │\n",
       "│            ┆           ┆         ┆           ┆   ┆           ┆           ┆           ┆ 68_single │\n",
       "│            ┆           ┆         ┆           ┆   ┆           ┆           ┆           ┆ s_atp     │\n",
       "│ 1968-2029  ┆ Dublin    ┆ Grass   ┆ 32        ┆ … ┆ null      ┆ null      ┆ null      ┆ Dublin_19 │\n",
       "│            ┆           ┆         ┆           ┆   ┆           ┆           ┆           ┆ 68_single │\n",
       "│            ┆           ┆         ┆           ┆   ┆           ┆           ┆           ┆ s_atp     │\n",
       "│ 1968-2029  ┆ Dublin    ┆ Grass   ┆ 32        ┆ … ┆ null      ┆ null      ┆ null      ┆ Dublin_19 │\n",
       "│            ┆           ┆         ┆           ┆   ┆           ┆           ┆           ┆ 68_single │\n",
       "│            ┆           ┆         ┆           ┆   ┆           ┆           ┆           ┆ s_atp     │\n",
       "│ …          ┆ …         ┆ …       ┆ …         ┆ … ┆ …         ┆ …         ┆ …         ┆ …         │\n",
       "│ 2024-M-DC- ┆ Davis Cup ┆ Clay    ┆ 4         ┆ … ┆ 8         ┆ 740       ┆ 34        ┆ Davis Cup │\n",
       "│ 2024-WG2-P ┆ WG2 PO:   ┆         ┆           ┆   ┆           ┆           ┆           ┆ WG2 PO:   │\n",
       "│ O-URU-MDA- ┆ URU vs    ┆         ┆           ┆   ┆           ┆           ┆           ┆ URU vs    │\n",
       "│ …          ┆ MDA       ┆         ┆           ┆   ┆           ┆           ┆           ┆ MDA_2…    │\n",
       "│ 2024-M-DC- ┆ Davis Cup ┆ Hard    ┆ 4         ┆ … ┆ 67        ┆ 748       ┆ 32        ┆ Davis Cup │\n",
       "│ 2024-WG2-P ┆ WG2 PO:   ┆         ┆           ┆   ┆           ┆           ┆           ┆ WG2 PO:   │\n",
       "│ O-VIE-RSA- ┆ VIE vs    ┆         ┆           ┆   ┆           ┆           ┆           ┆ VIE vs    │\n",
       "│ …          ┆ RSA       ┆         ┆           ┆   ┆           ┆           ┆           ┆ RSA_2…    │\n",
       "│ 2024-M-DC- ┆ Davis Cup ┆ Hard    ┆ 4         ┆ … ┆ 109       ┆ null      ┆ null      ┆ Davis Cup │\n",
       "│ 2024-WG2-P ┆ WG2 PO:   ┆         ┆           ┆   ┆           ┆           ┆           ┆ WG2 PO:   │\n",
       "│ O-VIE-RSA- ┆ VIE vs    ┆         ┆           ┆   ┆           ┆           ┆           ┆ VIE vs    │\n",
       "│ …          ┆ RSA       ┆         ┆           ┆   ┆           ┆           ┆           ┆ RSA_2…    │\n",
       "│ 2024-M-DC- ┆ Davis Cup ┆ Hard    ┆ 4         ┆ … ┆ 67        ┆ 416       ┆ 109       ┆ Davis Cup │\n",
       "│ 2024-WG2-P ┆ WG2 PO:   ┆         ┆           ┆   ┆           ┆           ┆           ┆ WG2 PO:   │\n",
       "│ O-VIE-RSA- ┆ VIE vs    ┆         ┆           ┆   ┆           ┆           ┆           ┆ VIE vs    │\n",
       "│ …          ┆ RSA       ┆         ┆           ┆   ┆           ┆           ┆           ┆ RSA_2…    │\n",
       "│ 2024-M-DC- ┆ Davis Cup ┆ Hard    ┆ 4         ┆ … ┆ 32        ┆ null      ┆ null      ┆ Davis Cup │\n",
       "│ 2024-WG2-P ┆ WG2 PO:   ┆         ┆           ┆   ┆           ┆           ┆           ┆ WG2 PO:   │\n",
       "│ O-VIE-RSA- ┆ VIE vs    ┆         ┆           ┆   ┆           ┆           ┆           ┆ VIE vs    │\n",
       "│ …          ┆ RSA       ┆         ┆           ┆   ┆           ┆           ┆           ┆ RSA_2…    │\n",
       "└────────────┴───────────┴─────────┴───────────┴───┴───────────┴───────────┴───────────┴───────────┘"
      ]
     },
     "execution_count": 10,
     "metadata": {},
     "output_type": "execute_result"
    }
   ],
   "source": [
    "matches_singles_atp=import_tennis_matches(data_type=\"singles\",gender=\"atp\")\n",
    "\n",
    "matches_singles_atp = matches_singles_atp.with_columns(\n",
    "    (pl.col(\"tourney_name\") + \"_\" + pl.col(\"tourney_date\").dt.year().cast(pl.Utf8)+\"_singles_atp\").alias(\"tourney_name_date_matches\")\n",
    ")\n",
    "matches_singles_atp"
   ]
  },
  {
   "cell_type": "code",
   "execution_count": 11,
   "metadata": {},
   "outputs": [
    {
     "data": {
      "text/html": [
       "<div><style>\n",
       ".dataframe > thead > tr,\n",
       ".dataframe > tbody > tr {\n",
       "  text-align: right;\n",
       "  white-space: pre-wrap;\n",
       "}\n",
       "</style>\n",
       "<small>shape: (8_316, 7)</small><table border=\"1\" class=\"dataframe\"><thead><tr><th>tourney_name</th><th>surface</th><th>draw_size</th><th>tourney_level</th><th>tourney_date</th><th>tourney_name_date_matches</th><th>best_of</th></tr><tr><td>str</td><td>str</td><td>i64</td><td>str</td><td>date</td><td>str</td><td>i64</td></tr></thead><tbody><tr><td>&quot;Davis Cup G1 QF: INA vs PHI&quot;</td><td>&quot;Clay&quot;</td><td>4</td><td>&quot;D&quot;</td><td>1993-03-26</td><td>&quot;Davis Cup G1 QF: INA vs PHI_19…</td><td>5</td></tr><tr><td>&quot;Davis Cup Finals RR: BEL vs AU…</td><td>&quot;Hard&quot;</td><td>4</td><td>&quot;D&quot;</td><td>2019-11-20</td><td>&quot;Davis Cup Finals RR: BEL vs AU…</td><td>3</td></tr><tr><td>&quot;Queen&#x27;s Club&quot;</td><td>&quot;Grass&quot;</td><td>64</td><td>&quot;A&quot;</td><td>1982-06-07</td><td>&quot;Queen&#x27;s Club_1982_singles_atp&quot;</td><td>3</td></tr><tr><td>&quot;Mallorca&quot;</td><td>&quot;Clay&quot;</td><td>32</td><td>&quot;A&quot;</td><td>2002-04-29</td><td>&quot;Mallorca_2002_singles_atp&quot;</td><td>3</td></tr><tr><td>&quot;Davis Cup SAM SF: ARG vs RSA&quot;</td><td>&quot;Clay&quot;</td><td>4</td><td>&quot;D&quot;</td><td>1973-04-13</td><td>&quot;Davis Cup SAM SF: ARG vs RSA_1…</td><td>5</td></tr><tr><td>&hellip;</td><td>&hellip;</td><td>&hellip;</td><td>&hellip;</td><td>&hellip;</td><td>&hellip;</td><td>&hellip;</td></tr><tr><td>&quot;Las Vegas&quot;</td><td>&quot;Hard&quot;</td><td>32</td><td>&quot;A&quot;</td><td>1978-04-24</td><td>&quot;Las Vegas_1978_singles_atp&quot;</td><td>3</td></tr><tr><td>&quot;Davis Cup G1 PO: TPE vs INA&quot;</td><td>&quot;Hard&quot;</td><td>4</td><td>&quot;D&quot;</td><td>2013-09-13</td><td>&quot;Davis Cup G1 PO: TPE vs INA_20…</td><td>5</td></tr><tr><td>&quot;Davis Cup G2 QF: SIN vs HKG&quot;</td><td>&quot;Hard&quot;</td><td>4</td><td>&quot;D&quot;</td><td>1991-06-14</td><td>&quot;Davis Cup G2 QF: SIN vs HKG_19…</td><td>5</td></tr><tr><td>&quot;Sarasota&quot;</td><td>&quot;Carpet&quot;</td><td>32</td><td>&quot;A&quot;</td><td>1978-01-29</td><td>&quot;Sarasota_1978_singles_atp&quot;</td><td>3</td></tr><tr><td>&quot;Houston&quot;</td><td>&quot;Clay&quot;</td><td>28</td><td>&quot;A&quot;</td><td>2011-04-04</td><td>&quot;Houston_2011_singles_atp&quot;</td><td>3</td></tr></tbody></table></div>"
      ],
      "text/plain": [
       "shape: (8_316, 7)\n",
       "┌─────────────────┬─────────┬───────────┬───────────────┬──────────────┬─────────────────┬─────────┐\n",
       "│ tourney_name    ┆ surface ┆ draw_size ┆ tourney_level ┆ tourney_date ┆ tourney_name_da ┆ best_of │\n",
       "│ ---             ┆ ---     ┆ ---       ┆ ---           ┆ ---          ┆ te_matches      ┆ ---     │\n",
       "│ str             ┆ str     ┆ i64       ┆ str           ┆ date         ┆ ---             ┆ i64     │\n",
       "│                 ┆         ┆           ┆               ┆              ┆ str             ┆         │\n",
       "╞═════════════════╪═════════╪═══════════╪═══════════════╪══════════════╪═════════════════╪═════════╡\n",
       "│ Davis Cup G1    ┆ Clay    ┆ 4         ┆ D             ┆ 1993-03-26   ┆ Davis Cup G1    ┆ 5       │\n",
       "│ QF: INA vs PHI  ┆         ┆           ┆               ┆              ┆ QF: INA vs      ┆         │\n",
       "│                 ┆         ┆           ┆               ┆              ┆ PHI_19…         ┆         │\n",
       "│ Davis Cup       ┆ Hard    ┆ 4         ┆ D             ┆ 2019-11-20   ┆ Davis Cup       ┆ 3       │\n",
       "│ Finals RR: BEL  ┆         ┆           ┆               ┆              ┆ Finals RR: BEL  ┆         │\n",
       "│ vs AU…          ┆         ┆           ┆               ┆              ┆ vs AU…          ┆         │\n",
       "│ Queen's Club    ┆ Grass   ┆ 64        ┆ A             ┆ 1982-06-07   ┆ Queen's Club_19 ┆ 3       │\n",
       "│                 ┆         ┆           ┆               ┆              ┆ 82_singles_atp  ┆         │\n",
       "│ Mallorca        ┆ Clay    ┆ 32        ┆ A             ┆ 2002-04-29   ┆ Mallorca_2002_s ┆ 3       │\n",
       "│                 ┆         ┆           ┆               ┆              ┆ ingles_atp      ┆         │\n",
       "│ Davis Cup SAM   ┆ Clay    ┆ 4         ┆ D             ┆ 1973-04-13   ┆ Davis Cup SAM   ┆ 5       │\n",
       "│ SF: ARG vs RSA  ┆         ┆           ┆               ┆              ┆ SF: ARG vs      ┆         │\n",
       "│                 ┆         ┆           ┆               ┆              ┆ RSA_1…          ┆         │\n",
       "│ …               ┆ …       ┆ …         ┆ …             ┆ …            ┆ …               ┆ …       │\n",
       "│ Las Vegas       ┆ Hard    ┆ 32        ┆ A             ┆ 1978-04-24   ┆ Las Vegas_1978_ ┆ 3       │\n",
       "│                 ┆         ┆           ┆               ┆              ┆ singles_atp     ┆         │\n",
       "│ Davis Cup G1    ┆ Hard    ┆ 4         ┆ D             ┆ 2013-09-13   ┆ Davis Cup G1    ┆ 5       │\n",
       "│ PO: TPE vs INA  ┆         ┆           ┆               ┆              ┆ PO: TPE vs      ┆         │\n",
       "│                 ┆         ┆           ┆               ┆              ┆ INA_20…         ┆         │\n",
       "│ Davis Cup G2    ┆ Hard    ┆ 4         ┆ D             ┆ 1991-06-14   ┆ Davis Cup G2    ┆ 5       │\n",
       "│ QF: SIN vs HKG  ┆         ┆           ┆               ┆              ┆ QF: SIN vs      ┆         │\n",
       "│                 ┆         ┆           ┆               ┆              ┆ HKG_19…         ┆         │\n",
       "│ Sarasota        ┆ Carpet  ┆ 32        ┆ A             ┆ 1978-01-29   ┆ Sarasota_1978_s ┆ 3       │\n",
       "│                 ┆         ┆           ┆               ┆              ┆ ingles_atp      ┆         │\n",
       "│ Houston         ┆ Clay    ┆ 28        ┆ A             ┆ 2011-04-04   ┆ Houston_2011_si ┆ 3       │\n",
       "│                 ┆         ┆           ┆               ┆              ┆ ngles_atp       ┆         │\n",
       "└─────────────────┴─────────┴───────────┴───────────────┴──────────────┴─────────────────┴─────────┘"
      ]
     },
     "execution_count": 11,
     "metadata": {},
     "output_type": "execute_result"
    }
   ],
   "source": [
    "tourney_single_matches_atp=matches_singles_atp[['tourney_name', 'surface', 'draw_size', 'tourney_level', 'tourney_date', 'tourney_name_date_matches',\"best_of\"]]\n",
    "tourney_single_matches_atp=tourney_single_matches_atp.unique('tourney_name_date_matches')\n",
    "tourney_single_matches_atp"
   ]
  },
  {
   "cell_type": "code",
   "execution_count": 12,
   "metadata": {},
   "outputs": [
    {
     "data": {
      "text/html": [
       "<div><style>\n",
       ".dataframe > thead > tr,\n",
       ".dataframe > tbody > tr {\n",
       "  text-align: right;\n",
       "  white-space: pre-wrap;\n",
       "}\n",
       "</style>\n",
       "<small>shape: (158_092, 50)</small><table border=\"1\" class=\"dataframe\"><thead><tr><th>tourney_id</th><th>tourney_name</th><th>surface</th><th>draw_size</th><th>tourney_level</th><th>tourney_date</th><th>match_num</th><th>winner_id</th><th>winner_seed</th><th>winner_entry</th><th>winner_name</th><th>winner_hand</th><th>winner_ht</th><th>winner_ioc</th><th>winner_age</th><th>loser_id</th><th>loser_seed</th><th>loser_entry</th><th>loser_name</th><th>loser_hand</th><th>loser_ht</th><th>loser_ioc</th><th>loser_age</th><th>score</th><th>best_of</th><th>round</th><th>minutes</th><th>w_ace</th><th>w_df</th><th>w_svpt</th><th>w_1stIn</th><th>w_1stWon</th><th>w_2ndWon</th><th>w_SvGms</th><th>w_bpSaved</th><th>w_bpFaced</th><th>l_ace</th><th>l_df</th><th>l_svpt</th><th>l_1stIn</th><th>l_1stWon</th><th>l_2ndWon</th><th>l_SvGms</th><th>l_bpSaved</th><th>l_bpFaced</th><th>winner_rank</th><th>winner_rank_points</th><th>loser_rank</th><th>loser_rank_points</th><th>tourney_name_date_matches</th></tr><tr><td>str</td><td>str</td><td>str</td><td>str</td><td>str</td><td>date</td><td>i64</td><td>str</td><td>str</td><td>str</td><td>str</td><td>str</td><td>i64</td><td>str</td><td>f64</td><td>str</td><td>str</td><td>str</td><td>str</td><td>str</td><td>i64</td><td>str</td><td>f64</td><td>str</td><td>i64</td><td>str</td><td>str</td><td>str</td><td>str</td><td>str</td><td>str</td><td>str</td><td>str</td><td>str</td><td>str</td><td>str</td><td>str</td><td>str</td><td>str</td><td>str</td><td>str</td><td>str</td><td>str</td><td>str</td><td>str</td><td>str</td><td>str</td><td>str</td><td>str</td><td>str</td></tr></thead><tbody><tr><td>&quot;1968-W-OL-MEX-01A-1968&quot;</td><td>&quot;Guadalajara Olympics Demo&quot;</td><td>&quot;Clay&quot;</td><td>&quot;13&quot;</td><td>&quot;O&quot;</td><td>1968-10-14</td><td>1</td><td>&quot;200781&quot;</td><td>null</td><td>null</td><td>&quot;Edda Buding&quot;</td><td>&quot;R&quot;</td><td>null</td><td>&quot;FRG&quot;</td><td>31.9</td><td>&quot;200795&quot;</td><td>null</td><td>null</td><td>&quot;Patricia Montano&quot;</td><td>&quot;U&quot;</td><td>null</td><td>&quot;MEX&quot;</td><td>16.1</td><td>&quot;7-5 2-6 6-4&quot;</td><td>3</td><td>&quot;R16&quot;</td><td>null</td><td>null</td><td>null</td><td>null</td><td>null</td><td>null</td><td>null</td><td>null</td><td>null</td><td>null</td><td>null</td><td>null</td><td>null</td><td>null</td><td>null</td><td>null</td><td>null</td><td>null</td><td>null</td><td>null</td><td>null</td><td>null</td><td>null</td><td>&quot;Guadalajara Olympics Demo_1968…</td></tr><tr><td>&quot;1968-W-OL-MEX-01A-1968&quot;</td><td>&quot;Guadalajara Olympics Demo&quot;</td><td>&quot;Clay&quot;</td><td>&quot;13&quot;</td><td>&quot;O&quot;</td><td>1968-10-14</td><td>2</td><td>&quot;202512&quot;</td><td>null</td><td>null</td><td>&quot;Lucia Gongora&quot;</td><td>&quot;U&quot;</td><td>null</td><td>&quot;MEX&quot;</td><td>21.9</td><td>&quot;200862&quot;</td><td>null</td><td>null</td><td>&quot;Valerie Ziegenfuss&quot;</td><td>&quot;R&quot;</td><td>173</td><td>&quot;USA&quot;</td><td>19.2</td><td>&quot;6-1 6-2&quot;</td><td>3</td><td>&quot;R16&quot;</td><td>null</td><td>null</td><td>null</td><td>null</td><td>null</td><td>null</td><td>null</td><td>null</td><td>null</td><td>null</td><td>null</td><td>null</td><td>null</td><td>null</td><td>null</td><td>null</td><td>null</td><td>null</td><td>null</td><td>null</td><td>null</td><td>null</td><td>null</td><td>&quot;Guadalajara Olympics Demo_1968…</td></tr><tr><td>&quot;1968-W-OL-MEX-01A-1968&quot;</td><td>&quot;Guadalajara Olympics Demo&quot;</td><td>&quot;Clay&quot;</td><td>&quot;13&quot;</td><td>&quot;O&quot;</td><td>1968-10-14</td><td>3</td><td>&quot;200869&quot;</td><td>null</td><td>null</td><td>&quot;Maria Eugenia Guzman&quot;</td><td>&quot;U&quot;</td><td>null</td><td>&quot;ECU&quot;</td><td>23.0</td><td>&quot;200863&quot;</td><td>null</td><td>null</td><td>&quot;Zaiga Yansone&quot;</td><td>&quot;U&quot;</td><td>null</td><td>&quot;URS&quot;</td><td>17.7</td><td>&quot;6-2 6-2&quot;</td><td>3</td><td>&quot;R16&quot;</td><td>null</td><td>null</td><td>null</td><td>null</td><td>null</td><td>null</td><td>null</td><td>null</td><td>null</td><td>null</td><td>null</td><td>null</td><td>null</td><td>null</td><td>null</td><td>null</td><td>null</td><td>null</td><td>null</td><td>null</td><td>null</td><td>null</td><td>null</td><td>&quot;Guadalajara Olympics Demo_1968…</td></tr><tr><td>&quot;1968-W-OL-MEX-01A-1968&quot;</td><td>&quot;Guadalajara Olympics Demo&quot;</td><td>&quot;Clay&quot;</td><td>&quot;13&quot;</td><td>&quot;O&quot;</td><td>1968-10-14</td><td>4</td><td>&quot;200274&quot;</td><td>null</td><td>null</td><td>&quot;Julie Heldman&quot;</td><td>&quot;R&quot;</td><td>170</td><td>&quot;USA&quot;</td><td>22.8</td><td>&quot;200834&quot;</td><td>null</td><td>null</td><td>&quot;Suzana Gesteira&quot;</td><td>&quot;U&quot;</td><td>null</td><td>&quot;BRA&quot;</td><td>21.0</td><td>&quot;6-1 6-2&quot;</td><td>3</td><td>&quot;R16&quot;</td><td>null</td><td>null</td><td>null</td><td>null</td><td>null</td><td>null</td><td>null</td><td>null</td><td>null</td><td>null</td><td>null</td><td>null</td><td>null</td><td>null</td><td>null</td><td>null</td><td>null</td><td>null</td><td>null</td><td>null</td><td>null</td><td>null</td><td>null</td><td>&quot;Guadalajara Olympics Demo_1968…</td></tr><tr><td>&quot;1968-W-OL-MEX-01A-1968&quot;</td><td>&quot;Guadalajara Olympics Demo&quot;</td><td>&quot;Clay&quot;</td><td>&quot;13&quot;</td><td>&quot;O&quot;</td><td>1968-10-14</td><td>5</td><td>&quot;200791&quot;</td><td>null</td><td>null</td><td>&quot;Rosie Reyes&quot;</td><td>&quot;R&quot;</td><td>null</td><td>&quot;FRA&quot;</td><td>29.5</td><td>&quot;202513&quot;</td><td>null</td><td>null</td><td>&quot;Ana Maria Ycaza&quot;</td><td>&quot;U&quot;</td><td>null</td><td>&quot;ECU&quot;</td><td>17.4</td><td>&quot;6-1 6-1&quot;</td><td>3</td><td>&quot;R16&quot;</td><td>null</td><td>null</td><td>null</td><td>null</td><td>null</td><td>null</td><td>null</td><td>null</td><td>null</td><td>null</td><td>null</td><td>null</td><td>null</td><td>null</td><td>null</td><td>null</td><td>null</td><td>null</td><td>null</td><td>null</td><td>null</td><td>null</td><td>null</td><td>&quot;Guadalajara Olympics Demo_1968…</td></tr><tr><td>&hellip;</td><td>&hellip;</td><td>&hellip;</td><td>&hellip;</td><td>&hellip;</td><td>&hellip;</td><td>&hellip;</td><td>&hellip;</td><td>&hellip;</td><td>&hellip;</td><td>&hellip;</td><td>&hellip;</td><td>&hellip;</td><td>&hellip;</td><td>&hellip;</td><td>&hellip;</td><td>&hellip;</td><td>&hellip;</td><td>&hellip;</td><td>&hellip;</td><td>&hellip;</td><td>&hellip;</td><td>&hellip;</td><td>&hellip;</td><td>&hellip;</td><td>&hellip;</td><td>&hellip;</td><td>&hellip;</td><td>&hellip;</td><td>&hellip;</td><td>&hellip;</td><td>&hellip;</td><td>&hellip;</td><td>&hellip;</td><td>&hellip;</td><td>&hellip;</td><td>&hellip;</td><td>&hellip;</td><td>&hellip;</td><td>&hellip;</td><td>&hellip;</td><td>&hellip;</td><td>&hellip;</td><td>&hellip;</td><td>&hellip;</td><td>&hellip;</td><td>&hellip;</td><td>&hellip;</td><td>&hellip;</td><td>&hellip;</td></tr><tr><td>&quot;2024-W-FC-2024-POS&quot;</td><td>&quot;BJK Cup Playoffs&quot;</td><td>null</td><td>&quot;16&quot;</td><td>&quot;D&quot;</td><td>2024-11-15</td><td>226</td><td>&quot;201709&quot;</td><td>null</td><td>null</td><td>&quot;Yulia Putintseva&quot;</td><td>&quot;R&quot;</td><td>163</td><td>&quot;KAZ&quot;</td><td>29.8</td><td>&quot;220454&quot;</td><td>null</td><td>null</td><td>&quot;Yeon Woo Ku&quot;</td><td>&quot;U&quot;</td><td>null</td><td>&quot;KOR&quot;</td><td>21.6</td><td>&quot;6-4 7-5&quot;</td><td>3</td><td>&quot;RR&quot;</td><td>null</td><td>null</td><td>null</td><td>null</td><td>null</td><td>null</td><td>null</td><td>null</td><td>null</td><td>null</td><td>null</td><td>null</td><td>null</td><td>null</td><td>null</td><td>null</td><td>null</td><td>null</td><td>null</td><td>&quot;29&quot;</td><td>&quot;1844&quot;</td><td>&quot;418&quot;</td><td>&quot;141&quot;</td><td>&quot;BJK Cup Playoffs_2024_singles_…</td></tr><tr><td>&quot;2024-W-FC-2024-POS&quot;</td><td>&quot;BJK Cup Playoffs&quot;</td><td>null</td><td>&quot;16&quot;</td><td>&quot;D&quot;</td><td>2024-11-15</td><td>227</td><td>&quot;215785&quot;</td><td>null</td><td>null</td><td>&quot;Camila Osorio&quot;</td><td>&quot;R&quot;</td><td>162</td><td>&quot;COL&quot;</td><td>22.8</td><td>&quot;219875&quot;</td><td>null</td><td>null</td><td>&quot;Varvara Gracheva&quot;</td><td>&quot;R&quot;</td><td>null</td><td>&quot;FRA&quot;</td><td>24.2</td><td>&quot;6-2 7-5&quot;</td><td>3</td><td>&quot;RR&quot;</td><td>null</td><td>null</td><td>null</td><td>null</td><td>null</td><td>null</td><td>null</td><td>null</td><td>null</td><td>null</td><td>null</td><td>null</td><td>null</td><td>null</td><td>null</td><td>null</td><td>null</td><td>null</td><td>null</td><td>&quot;63&quot;</td><td>&quot;989&quot;</td><td>&quot;66&quot;</td><td>&quot;949&quot;</td><td>&quot;BJK Cup Playoffs_2024_singles_…</td></tr><tr><td>&quot;2024-W-FC-2024-POS&quot;</td><td>&quot;BJK Cup Playoffs&quot;</td><td>null</td><td>&quot;16&quot;</td><td>&quot;D&quot;</td><td>2024-11-15</td><td>228</td><td>&quot;221257&quot;</td><td>null</td><td>null</td><td>&quot;Sinja Kraus&quot;</td><td>&quot;R&quot;</td><td>null</td><td>&quot;AUT&quot;</td><td>22.5</td><td>&quot;201615&quot;</td><td>null</td><td>null</td><td>&quot;Lesia Tsurenko&quot;</td><td>&quot;R&quot;</td><td>174</td><td>&quot;UKR&quot;</td><td>35.4</td><td>&quot;6-1 6-1&quot;</td><td>3</td><td>&quot;RR&quot;</td><td>null</td><td>null</td><td>null</td><td>null</td><td>null</td><td>null</td><td>null</td><td>null</td><td>null</td><td>null</td><td>null</td><td>null</td><td>null</td><td>null</td><td>null</td><td>null</td><td>null</td><td>null</td><td>null</td><td>&quot;222&quot;</td><td>&quot;327&quot;</td><td>&quot;118&quot;</td><td>&quot;648&quot;</td><td>&quot;BJK Cup Playoffs_2024_singles_…</td></tr><tr><td>&quot;2024-W-FC-2024-POS&quot;</td><td>&quot;BJK Cup Playoffs&quot;</td><td>null</td><td>&quot;16&quot;</td><td>&quot;D&quot;</td><td>2024-11-15</td><td>229</td><td>&quot;216262&quot;</td><td>null</td><td>null</td><td>&quot;Clara Burel&quot;</td><td>&quot;R&quot;</td><td>176</td><td>&quot;FRA&quot;</td><td>23.6</td><td>&quot;215306&quot;</td><td>null</td><td>null</td><td>&quot;Emiliana Arango&quot;</td><td>&quot;R&quot;</td><td>null</td><td>&quot;COL&quot;</td><td>23.9</td><td>&quot;7-5 6-4&quot;</td><td>3</td><td>&quot;RR&quot;</td><td>null</td><td>null</td><td>null</td><td>null</td><td>null</td><td>null</td><td>null</td><td>null</td><td>null</td><td>null</td><td>null</td><td>null</td><td>null</td><td>null</td><td>null</td><td>null</td><td>null</td><td>null</td><td>null</td><td>&quot;74&quot;</td><td>&quot;900&quot;</td><td>&quot;180&quot;</td><td>&quot;394&quot;</td><td>&quot;BJK Cup Playoffs_2024_singles_…</td></tr><tr><td>&quot;2024-W-FC-2024-POS&quot;</td><td>&quot;BJK Cup Playoffs&quot;</td><td>null</td><td>&quot;16&quot;</td><td>&quot;D&quot;</td><td>2024-11-15</td><td>230</td><td>&quot;215290&quot;</td><td>null</td><td>null</td><td>&quot;Katarina Zavatska&quot;</td><td>&quot;R&quot;</td><td>173</td><td>&quot;UKR&quot;</td><td>24.7</td><td>&quot;211814&quot;</td><td>null</td><td>null</td><td>&quot;Julia Grabher&quot;</td><td>&quot;R&quot;</td><td>170</td><td>&quot;AUT&quot;</td><td>28.3</td><td>&quot;6-2 7-5&quot;</td><td>3</td><td>&quot;RR&quot;</td><td>null</td><td>null</td><td>null</td><td>null</td><td>null</td><td>null</td><td>null</td><td>null</td><td>null</td><td>null</td><td>null</td><td>null</td><td>null</td><td>null</td><td>null</td><td>null</td><td>null</td><td>null</td><td>null</td><td>&quot;229&quot;</td><td>&quot;315&quot;</td><td>&quot;523&quot;</td><td>&quot;93&quot;</td><td>&quot;BJK Cup Playoffs_2024_singles_…</td></tr></tbody></table></div>"
      ],
      "text/plain": [
       "shape: (158_092, 50)\n",
       "┌────────────┬───────────┬─────────┬───────────┬───┬───────────┬───────────┬───────────┬───────────┐\n",
       "│ tourney_id ┆ tourney_n ┆ surface ┆ draw_size ┆ … ┆ winner_ra ┆ loser_ran ┆ loser_ran ┆ tourney_n │\n",
       "│ ---        ┆ ame       ┆ ---     ┆ ---       ┆   ┆ nk_points ┆ k         ┆ k_points  ┆ ame_date_ │\n",
       "│ str        ┆ ---       ┆ str     ┆ str       ┆   ┆ ---       ┆ ---       ┆ ---       ┆ matches   │\n",
       "│            ┆ str       ┆         ┆           ┆   ┆ str       ┆ str       ┆ str       ┆ ---       │\n",
       "│            ┆           ┆         ┆           ┆   ┆           ┆           ┆           ┆ str       │\n",
       "╞════════════╪═══════════╪═════════╪═══════════╪═══╪═══════════╪═══════════╪═══════════╪═══════════╡\n",
       "│ 1968-W-OL- ┆ Guadalaja ┆ Clay    ┆ 13        ┆ … ┆ null      ┆ null      ┆ null      ┆ Guadalaja │\n",
       "│ MEX-01A-19 ┆ ra        ┆         ┆           ┆   ┆           ┆           ┆           ┆ ra        │\n",
       "│ 68         ┆ Olympics  ┆         ┆           ┆   ┆           ┆           ┆           ┆ Olympics  │\n",
       "│            ┆ Demo      ┆         ┆           ┆   ┆           ┆           ┆           ┆ Demo_1968 │\n",
       "│            ┆           ┆         ┆           ┆   ┆           ┆           ┆           ┆ …         │\n",
       "│ 1968-W-OL- ┆ Guadalaja ┆ Clay    ┆ 13        ┆ … ┆ null      ┆ null      ┆ null      ┆ Guadalaja │\n",
       "│ MEX-01A-19 ┆ ra        ┆         ┆           ┆   ┆           ┆           ┆           ┆ ra        │\n",
       "│ 68         ┆ Olympics  ┆         ┆           ┆   ┆           ┆           ┆           ┆ Olympics  │\n",
       "│            ┆ Demo      ┆         ┆           ┆   ┆           ┆           ┆           ┆ Demo_1968 │\n",
       "│            ┆           ┆         ┆           ┆   ┆           ┆           ┆           ┆ …         │\n",
       "│ 1968-W-OL- ┆ Guadalaja ┆ Clay    ┆ 13        ┆ … ┆ null      ┆ null      ┆ null      ┆ Guadalaja │\n",
       "│ MEX-01A-19 ┆ ra        ┆         ┆           ┆   ┆           ┆           ┆           ┆ ra        │\n",
       "│ 68         ┆ Olympics  ┆         ┆           ┆   ┆           ┆           ┆           ┆ Olympics  │\n",
       "│            ┆ Demo      ┆         ┆           ┆   ┆           ┆           ┆           ┆ Demo_1968 │\n",
       "│            ┆           ┆         ┆           ┆   ┆           ┆           ┆           ┆ …         │\n",
       "│ 1968-W-OL- ┆ Guadalaja ┆ Clay    ┆ 13        ┆ … ┆ null      ┆ null      ┆ null      ┆ Guadalaja │\n",
       "│ MEX-01A-19 ┆ ra        ┆         ┆           ┆   ┆           ┆           ┆           ┆ ra        │\n",
       "│ 68         ┆ Olympics  ┆         ┆           ┆   ┆           ┆           ┆           ┆ Olympics  │\n",
       "│            ┆ Demo      ┆         ┆           ┆   ┆           ┆           ┆           ┆ Demo_1968 │\n",
       "│            ┆           ┆         ┆           ┆   ┆           ┆           ┆           ┆ …         │\n",
       "│ 1968-W-OL- ┆ Guadalaja ┆ Clay    ┆ 13        ┆ … ┆ null      ┆ null      ┆ null      ┆ Guadalaja │\n",
       "│ MEX-01A-19 ┆ ra        ┆         ┆           ┆   ┆           ┆           ┆           ┆ ra        │\n",
       "│ 68         ┆ Olympics  ┆         ┆           ┆   ┆           ┆           ┆           ┆ Olympics  │\n",
       "│            ┆ Demo      ┆         ┆           ┆   ┆           ┆           ┆           ┆ Demo_1968 │\n",
       "│            ┆           ┆         ┆           ┆   ┆           ┆           ┆           ┆ …         │\n",
       "│ …          ┆ …         ┆ …       ┆ …         ┆ … ┆ …         ┆ …         ┆ …         ┆ …         │\n",
       "│ 2024-W-FC- ┆ BJK Cup   ┆ null    ┆ 16        ┆ … ┆ 1844      ┆ 418       ┆ 141       ┆ BJK Cup   │\n",
       "│ 2024-POS   ┆ Playoffs  ┆         ┆           ┆   ┆           ┆           ┆           ┆ Playoffs_ │\n",
       "│            ┆           ┆         ┆           ┆   ┆           ┆           ┆           ┆ 2024_sing │\n",
       "│            ┆           ┆         ┆           ┆   ┆           ┆           ┆           ┆ les_…     │\n",
       "│ 2024-W-FC- ┆ BJK Cup   ┆ null    ┆ 16        ┆ … ┆ 989       ┆ 66        ┆ 949       ┆ BJK Cup   │\n",
       "│ 2024-POS   ┆ Playoffs  ┆         ┆           ┆   ┆           ┆           ┆           ┆ Playoffs_ │\n",
       "│            ┆           ┆         ┆           ┆   ┆           ┆           ┆           ┆ 2024_sing │\n",
       "│            ┆           ┆         ┆           ┆   ┆           ┆           ┆           ┆ les_…     │\n",
       "│ 2024-W-FC- ┆ BJK Cup   ┆ null    ┆ 16        ┆ … ┆ 327       ┆ 118       ┆ 648       ┆ BJK Cup   │\n",
       "│ 2024-POS   ┆ Playoffs  ┆         ┆           ┆   ┆           ┆           ┆           ┆ Playoffs_ │\n",
       "│            ┆           ┆         ┆           ┆   ┆           ┆           ┆           ┆ 2024_sing │\n",
       "│            ┆           ┆         ┆           ┆   ┆           ┆           ┆           ┆ les_…     │\n",
       "│ 2024-W-FC- ┆ BJK Cup   ┆ null    ┆ 16        ┆ … ┆ 900       ┆ 180       ┆ 394       ┆ BJK Cup   │\n",
       "│ 2024-POS   ┆ Playoffs  ┆         ┆           ┆   ┆           ┆           ┆           ┆ Playoffs_ │\n",
       "│            ┆           ┆         ┆           ┆   ┆           ┆           ┆           ┆ 2024_sing │\n",
       "│            ┆           ┆         ┆           ┆   ┆           ┆           ┆           ┆ les_…     │\n",
       "│ 2024-W-FC- ┆ BJK Cup   ┆ null    ┆ 16        ┆ … ┆ 315       ┆ 523       ┆ 93        ┆ BJK Cup   │\n",
       "│ 2024-POS   ┆ Playoffs  ┆         ┆           ┆   ┆           ┆           ┆           ┆ Playoffs_ │\n",
       "│            ┆           ┆         ┆           ┆   ┆           ┆           ┆           ┆ 2024_sing │\n",
       "│            ┆           ┆         ┆           ┆   ┆           ┆           ┆           ┆ les_…     │\n",
       "└────────────┴───────────┴─────────┴───────────┴───┴───────────┴───────────┴───────────┴───────────┘"
      ]
     },
     "execution_count": 12,
     "metadata": {},
     "output_type": "execute_result"
    }
   ],
   "source": [
    "matches_singles_wta=import_tennis_matches(data_type=\"singles\",gender=\"wta\")\n",
    "\n",
    "matches_singles_wta = matches_singles_wta.with_columns(\n",
    "    (pl.col(\"tourney_name\") + \"_\" + pl.col(\"tourney_date\").dt.year().cast(pl.Utf8)+\"_singles_wta\").alias(\"tourney_name_date_matches\")\n",
    ")\n",
    "matches_singles_wta"
   ]
  },
  {
   "cell_type": "code",
   "execution_count": 13,
   "metadata": {},
   "outputs": [
    {
     "data": {
      "text/html": [
       "<div><style>\n",
       ".dataframe > thead > tr,\n",
       ".dataframe > tbody > tr {\n",
       "  text-align: right;\n",
       "  white-space: pre-wrap;\n",
       "}\n",
       "</style>\n",
       "<small>shape: (10_238, 7)</small><table border=\"1\" class=\"dataframe\"><thead><tr><th>tourney_name</th><th>surface</th><th>draw_size</th><th>tourney_level</th><th>tourney_date</th><th>tourney_name_date_matches</th><th>best_of</th></tr><tr><td>str</td><td>str</td><td>str</td><td>str</td><td>date</td><td>str</td><td>i64</td></tr></thead><tbody><tr><td>&quot;Luxembourg&quot;</td><td>&quot;Hard&quot;</td><td>&quot;32&quot;</td><td>&quot;I&quot;</td><td>2019-10-14</td><td>&quot;Luxembourg_2019_singles_wta&quot;</td><td>3</td></tr><tr><td>&quot;Fed Cup G1 RRB: GRE vs BIH&quot;</td><td>&quot;Hard&quot;</td><td>&quot;4&quot;</td><td>&quot;D&quot;</td><td>2012-02-02</td><td>&quot;Fed Cup G1 RRB: GRE vs BIH_201…</td><td>3</td></tr><tr><td>&quot;Fed Cup WG R1: URS vs PAR&quot;</td><td>null</td><td>&quot;4&quot;</td><td>&quot;D&quot;</td><td>1991-07-22</td><td>&quot;Fed Cup WG R1: URS vs PAR_1991…</td><td>3</td></tr><tr><td>&quot;St. Petersburg&quot;</td><td>&quot;Hard&quot;</td><td>&quot;32&quot;</td><td>&quot;P&quot;</td><td>2018-01-29</td><td>&quot;St. Petersburg_2018_singles_wt…</td><td>3</td></tr><tr><td>&quot;Gstaad&quot;</td><td>&quot;Clay&quot;</td><td>null</td><td>&quot;W&quot;</td><td>1980-07-07</td><td>&quot;Gstaad_1980_singles_wta&quot;</td><td>3</td></tr><tr><td>&hellip;</td><td>&hellip;</td><td>&hellip;</td><td>&hellip;</td><td>&hellip;</td><td>&hellip;</td><td>&hellip;</td></tr><tr><td>&quot;Perth City&quot;</td><td>null</td><td>null</td><td>&quot;W&quot;</td><td>1971-02-25</td><td>&quot;Perth City_1971_singles_wta&quot;</td><td>3</td></tr><tr><td>&quot;Fed Cup WG R1: LUX vs ESP&quot;</td><td>&quot;Clay&quot;</td><td>&quot;4&quot;</td><td>&quot;D&quot;</td><td>1980-05-19</td><td>&quot;Fed Cup WG R1: LUX vs ESP_1980…</td><td>3</td></tr><tr><td>&quot;Shenzhen&quot;</td><td>&quot;Hard&quot;</td><td>&quot;32&quot;</td><td>&quot;I&quot;</td><td>2012-12-31</td><td>&quot;Shenzhen_2012_singles_wta&quot;</td><td>3</td></tr><tr><td>&quot;Acapulco&quot;</td><td>&quot;Hard&quot;</td><td>&quot;32&quot;</td><td>&quot;I&quot;</td><td>2015-02-23</td><td>&quot;Acapulco_2015_singles_wta&quot;</td><td>3</td></tr><tr><td>&quot;Fed Cup G1 RR: POL vs SLO&quot;</td><td>&quot;Hard&quot;</td><td>&quot;2&quot;</td><td>&quot;D&quot;</td><td>2020-02-06</td><td>&quot;Fed Cup G1 RR: POL vs SLO_2020…</td><td>3</td></tr></tbody></table></div>"
      ],
      "text/plain": [
       "shape: (10_238, 7)\n",
       "┌─────────────────┬─────────┬───────────┬───────────────┬──────────────┬─────────────────┬─────────┐\n",
       "│ tourney_name    ┆ surface ┆ draw_size ┆ tourney_level ┆ tourney_date ┆ tourney_name_da ┆ best_of │\n",
       "│ ---             ┆ ---     ┆ ---       ┆ ---           ┆ ---          ┆ te_matches      ┆ ---     │\n",
       "│ str             ┆ str     ┆ str       ┆ str           ┆ date         ┆ ---             ┆ i64     │\n",
       "│                 ┆         ┆           ┆               ┆              ┆ str             ┆         │\n",
       "╞═════════════════╪═════════╪═══════════╪═══════════════╪══════════════╪═════════════════╪═════════╡\n",
       "│ Luxembourg      ┆ Hard    ┆ 32        ┆ I             ┆ 2019-10-14   ┆ Luxembourg_2019 ┆ 3       │\n",
       "│                 ┆         ┆           ┆               ┆              ┆ _singles_wta    ┆         │\n",
       "│ Fed Cup G1 RRB: ┆ Hard    ┆ 4         ┆ D             ┆ 2012-02-02   ┆ Fed Cup G1 RRB: ┆ 3       │\n",
       "│ GRE vs BIH      ┆         ┆           ┆               ┆              ┆ GRE vs BIH_201… ┆         │\n",
       "│ Fed Cup WG R1:  ┆ null    ┆ 4         ┆ D             ┆ 1991-07-22   ┆ Fed Cup WG R1:  ┆ 3       │\n",
       "│ URS vs PAR      ┆         ┆           ┆               ┆              ┆ URS vs          ┆         │\n",
       "│                 ┆         ┆           ┆               ┆              ┆ PAR_1991…       ┆         │\n",
       "│ St. Petersburg  ┆ Hard    ┆ 32        ┆ P             ┆ 2018-01-29   ┆ St. Petersburg_ ┆ 3       │\n",
       "│                 ┆         ┆           ┆               ┆              ┆ 2018_singles_wt ┆         │\n",
       "│                 ┆         ┆           ┆               ┆              ┆ …               ┆         │\n",
       "│ Gstaad          ┆ Clay    ┆ null      ┆ W             ┆ 1980-07-07   ┆ Gstaad_1980_sin ┆ 3       │\n",
       "│                 ┆         ┆           ┆               ┆              ┆ gles_wta        ┆         │\n",
       "│ …               ┆ …       ┆ …         ┆ …             ┆ …            ┆ …               ┆ …       │\n",
       "│ Perth City      ┆ null    ┆ null      ┆ W             ┆ 1971-02-25   ┆ Perth City_1971 ┆ 3       │\n",
       "│                 ┆         ┆           ┆               ┆              ┆ _singles_wta    ┆         │\n",
       "│ Fed Cup WG R1:  ┆ Clay    ┆ 4         ┆ D             ┆ 1980-05-19   ┆ Fed Cup WG R1:  ┆ 3       │\n",
       "│ LUX vs ESP      ┆         ┆           ┆               ┆              ┆ LUX vs          ┆         │\n",
       "│                 ┆         ┆           ┆               ┆              ┆ ESP_1980…       ┆         │\n",
       "│ Shenzhen        ┆ Hard    ┆ 32        ┆ I             ┆ 2012-12-31   ┆ Shenzhen_2012_s ┆ 3       │\n",
       "│                 ┆         ┆           ┆               ┆              ┆ ingles_wta      ┆         │\n",
       "│ Acapulco        ┆ Hard    ┆ 32        ┆ I             ┆ 2015-02-23   ┆ Acapulco_2015_s ┆ 3       │\n",
       "│                 ┆         ┆           ┆               ┆              ┆ ingles_wta      ┆         │\n",
       "│ Fed Cup G1 RR:  ┆ Hard    ┆ 2         ┆ D             ┆ 2020-02-06   ┆ Fed Cup G1 RR:  ┆ 3       │\n",
       "│ POL vs SLO      ┆         ┆           ┆               ┆              ┆ POL vs          ┆         │\n",
       "│                 ┆         ┆           ┆               ┆              ┆ SLO_2020…       ┆         │\n",
       "└─────────────────┴─────────┴───────────┴───────────────┴──────────────┴─────────────────┴─────────┘"
      ]
     },
     "execution_count": 13,
     "metadata": {},
     "output_type": "execute_result"
    }
   ],
   "source": [
    "tourney_single_matches_wta=matches_singles_wta[['tourney_name', 'surface', 'draw_size', 'tourney_level', 'tourney_date', 'tourney_name_date_matches',\"best_of\"]]\n",
    "tourney_single_matches_wta=tourney_single_matches_wta.unique('tourney_name_date_matches')\n",
    "tourney_single_matches_wta"
   ]
  },
  {
   "cell_type": "code",
   "execution_count": 14,
   "metadata": {},
   "outputs": [
    {
     "data": {
      "text/html": [
       "<div><style>\n",
       ".dataframe > thead > tr,\n",
       ".dataframe > tbody > tr {\n",
       "  text-align: right;\n",
       "  white-space: pre-wrap;\n",
       "}\n",
       "</style>\n",
       "<small>shape: (216_430, 50)</small><table border=\"1\" class=\"dataframe\"><thead><tr><th>tourney_id</th><th>tourney_name</th><th>surface</th><th>draw_size</th><th>tourney_level</th><th>tourney_date</th><th>match_num</th><th>winner_id</th><th>winner_seed</th><th>winner_entry</th><th>winner_name</th><th>winner_hand</th><th>winner_ht</th><th>winner_ioc</th><th>winner_age</th><th>loser_id</th><th>loser_seed</th><th>loser_entry</th><th>loser_name</th><th>loser_hand</th><th>loser_ht</th><th>loser_ioc</th><th>loser_age</th><th>score</th><th>best_of</th><th>round</th><th>minutes</th><th>w_ace</th><th>w_df</th><th>w_svpt</th><th>w_1stIn</th><th>w_1stWon</th><th>w_2ndWon</th><th>w_SvGms</th><th>w_bpSaved</th><th>w_bpFaced</th><th>l_ace</th><th>l_df</th><th>l_svpt</th><th>l_1stIn</th><th>l_1stWon</th><th>l_2ndWon</th><th>l_SvGms</th><th>l_bpSaved</th><th>l_bpFaced</th><th>winner_rank</th><th>winner_rank_points</th><th>loser_rank</th><th>loser_rank_points</th><th>tourney_name_date_matches</th></tr><tr><td>str</td><td>str</td><td>str</td><td>i64</td><td>str</td><td>date</td><td>i64</td><td>str</td><td>str</td><td>str</td><td>str</td><td>str</td><td>i64</td><td>str</td><td>f64</td><td>str</td><td>str</td><td>str</td><td>str</td><td>str</td><td>i64</td><td>str</td><td>f64</td><td>str</td><td>i64</td><td>str</td><td>str</td><td>str</td><td>str</td><td>str</td><td>str</td><td>str</td><td>str</td><td>str</td><td>str</td><td>str</td><td>str</td><td>str</td><td>str</td><td>str</td><td>str</td><td>str</td><td>str</td><td>str</td><td>str</td><td>str</td><td>str</td><td>str</td><td>str</td><td>str</td></tr></thead><tbody><tr><td>&quot;1978-301&quot;</td><td>&quot;Auckland CH&quot;</td><td>&quot;Hard&quot;</td><td>32</td><td>&quot;C&quot;</td><td>1978-01-08</td><td>270</td><td>&quot;100373&quot;</td><td>null</td><td>null</td><td>&quot;Christopher Sylvan&quot;</td><td>&quot;R&quot;</td><td>null</td><td>&quot;USA&quot;</td><td>22.8</td><td>&quot;107618&quot;</td><td>null</td><td>null</td><td>&quot;Malcolm Elley&quot;</td><td>&quot;R&quot;</td><td>null</td><td>&quot;NZL&quot;</td><td>null</td><td>&quot;6-1 6-4&quot;</td><td>3</td><td>&quot;R32&quot;</td><td>null</td><td>null</td><td>null</td><td>null</td><td>null</td><td>null</td><td>null</td><td>null</td><td>null</td><td>null</td><td>null</td><td>null</td><td>null</td><td>null</td><td>null</td><td>null</td><td>null</td><td>null</td><td>null</td><td>&quot;232&quot;</td><td>null</td><td>null</td><td>null</td><td>&quot;Auckland CH_1978_qualifiers_ch…</td></tr><tr><td>&quot;1978-301&quot;</td><td>&quot;Auckland CH&quot;</td><td>&quot;Hard&quot;</td><td>32</td><td>&quot;C&quot;</td><td>1978-01-08</td><td>271</td><td>&quot;109807&quot;</td><td>null</td><td>null</td><td>&quot;Garry Slater&quot;</td><td>&quot;R&quot;</td><td>null</td><td>&quot;NZL&quot;</td><td>null</td><td>&quot;109808&quot;</td><td>null</td><td>null</td><td>&quot;Graham Oliver&quot;</td><td>&quot;U&quot;</td><td>null</td><td>&quot;NZL&quot;</td><td>null</td><td>&quot;6-4 6-4&quot;</td><td>3</td><td>&quot;R32&quot;</td><td>null</td><td>null</td><td>null</td><td>null</td><td>null</td><td>null</td><td>null</td><td>null</td><td>null</td><td>null</td><td>null</td><td>null</td><td>null</td><td>null</td><td>null</td><td>null</td><td>null</td><td>null</td><td>null</td><td>null</td><td>null</td><td>null</td><td>null</td><td>&quot;Auckland CH_1978_qualifiers_ch…</td></tr><tr><td>&quot;1978-301&quot;</td><td>&quot;Auckland CH&quot;</td><td>&quot;Hard&quot;</td><td>32</td><td>&quot;C&quot;</td><td>1978-01-08</td><td>272</td><td>&quot;109810&quot;</td><td>null</td><td>null</td><td>&quot;Dave Simmonds&quot;</td><td>&quot;U&quot;</td><td>null</td><td>&quot;NZL&quot;</td><td>null</td><td>&quot;208999&quot;</td><td>null</td><td>null</td><td>&quot;G Dingwell&quot;</td><td>&quot;U&quot;</td><td>null</td><td>&quot;UNK&quot;</td><td>null</td><td>&quot;6-2 6-3&quot;</td><td>3</td><td>&quot;R32&quot;</td><td>null</td><td>null</td><td>null</td><td>null</td><td>null</td><td>null</td><td>null</td><td>null</td><td>null</td><td>null</td><td>null</td><td>null</td><td>null</td><td>null</td><td>null</td><td>null</td><td>null</td><td>null</td><td>null</td><td>null</td><td>null</td><td>null</td><td>null</td><td>&quot;Auckland CH_1978_qualifiers_ch…</td></tr><tr><td>&quot;1978-301&quot;</td><td>&quot;Auckland CH&quot;</td><td>&quot;Hard&quot;</td><td>32</td><td>&quot;C&quot;</td><td>1978-01-08</td><td>273</td><td>&quot;100638&quot;</td><td>null</td><td>null</td><td>&quot;David Mustard&quot;</td><td>&quot;L&quot;</td><td>180</td><td>&quot;NZL&quot;</td><td>18.0</td><td>&quot;107985&quot;</td><td>null</td><td>null</td><td>&quot;Peter Langsford&quot;</td><td>&quot;R&quot;</td><td>null</td><td>&quot;AUS&quot;</td><td>23.6</td><td>&quot;7-5 7-5&quot;</td><td>3</td><td>&quot;R32&quot;</td><td>null</td><td>null</td><td>null</td><td>null</td><td>null</td><td>null</td><td>null</td><td>null</td><td>null</td><td>null</td><td>null</td><td>null</td><td>null</td><td>null</td><td>null</td><td>null</td><td>null</td><td>null</td><td>null</td><td>null</td><td>null</td><td>&quot;332&quot;</td><td>null</td><td>&quot;Auckland CH_1978_qualifiers_ch…</td></tr><tr><td>&quot;1978-301&quot;</td><td>&quot;Auckland CH&quot;</td><td>&quot;Hard&quot;</td><td>32</td><td>&quot;C&quot;</td><td>1978-01-08</td><td>274</td><td>&quot;107301&quot;</td><td>null</td><td>null</td><td>&quot;Jay Harvey&quot;</td><td>&quot;R&quot;</td><td>null</td><td>&quot;AUS&quot;</td><td>null</td><td>&quot;100316&quot;</td><td>null</td><td>null</td><td>&quot;Scott Carnahan&quot;</td><td>&quot;R&quot;</td><td>null</td><td>&quot;USA&quot;</td><td>24.2</td><td>&quot;6-4 6-4&quot;</td><td>3</td><td>&quot;R32&quot;</td><td>null</td><td>null</td><td>null</td><td>null</td><td>null</td><td>null</td><td>null</td><td>null</td><td>null</td><td>null</td><td>null</td><td>null</td><td>null</td><td>null</td><td>null</td><td>null</td><td>null</td><td>null</td><td>null</td><td>null</td><td>null</td><td>&quot;232&quot;</td><td>null</td><td>&quot;Auckland CH_1978_qualifiers_ch…</td></tr><tr><td>&hellip;</td><td>&hellip;</td><td>&hellip;</td><td>&hellip;</td><td>&hellip;</td><td>&hellip;</td><td>&hellip;</td><td>&hellip;</td><td>&hellip;</td><td>&hellip;</td><td>&hellip;</td><td>&hellip;</td><td>&hellip;</td><td>&hellip;</td><td>&hellip;</td><td>&hellip;</td><td>&hellip;</td><td>&hellip;</td><td>&hellip;</td><td>&hellip;</td><td>&hellip;</td><td>&hellip;</td><td>&hellip;</td><td>&hellip;</td><td>&hellip;</td><td>&hellip;</td><td>&hellip;</td><td>&hellip;</td><td>&hellip;</td><td>&hellip;</td><td>&hellip;</td><td>&hellip;</td><td>&hellip;</td><td>&hellip;</td><td>&hellip;</td><td>&hellip;</td><td>&hellip;</td><td>&hellip;</td><td>&hellip;</td><td>&hellip;</td><td>&hellip;</td><td>&hellip;</td><td>&hellip;</td><td>&hellip;</td><td>&hellip;</td><td>&hellip;</td><td>&hellip;</td><td>&hellip;</td><td>&hellip;</td><td>&hellip;</td></tr><tr><td>&quot;2024-2869&quot;</td><td>&quot;Skopje CH&quot;</td><td>&quot;Clay&quot;</td><td>32</td><td>&quot;C&quot;</td><td>2024-05-20</td><td>241</td><td>&quot;210053&quot;</td><td>&quot;8&quot;</td><td>null</td><td>&quot;Luka Mikrut&quot;</td><td>&quot;U&quot;</td><td>null</td><td>&quot;CRO&quot;</td><td>20.0</td><td>&quot;103872&quot;</td><td>null</td><td>&quot;WC&quot;</td><td>&quot;Dimitar Grabuloski&quot;</td><td>&quot;U&quot;</td><td>null</td><td>&quot;MKD&quot;</td><td>42.5</td><td>&quot;6-3 6-4&quot;</td><td>3</td><td>&quot;Q1&quot;</td><td>&quot;87&quot;</td><td>&quot;4&quot;</td><td>&quot;6&quot;</td><td>&quot;64&quot;</td><td>&quot;31&quot;</td><td>&quot;24&quot;</td><td>&quot;18&quot;</td><td>&quot;10&quot;</td><td>&quot;2&quot;</td><td>&quot;3&quot;</td><td>&quot;2&quot;</td><td>&quot;5&quot;</td><td>&quot;78&quot;</td><td>&quot;43&quot;</td><td>&quot;30&quot;</td><td>&quot;13&quot;</td><td>&quot;9&quot;</td><td>&quot;6&quot;</td><td>&quot;9&quot;</td><td>&quot;511&quot;</td><td>&quot;76&quot;</td><td>null</td><td>null</td><td>&quot;Skopje CH_2024_qualifiers_chal…</td></tr><tr><td>&quot;2024-2869&quot;</td><td>&quot;Skopje CH&quot;</td><td>&quot;Clay&quot;</td><td>32</td><td>&quot;C&quot;</td><td>2024-05-20</td><td>240</td><td>&quot;208843&quot;</td><td>&quot;5&quot;</td><td>null</td><td>&quot;Jerome Kym&quot;</td><td>&quot;R&quot;</td><td>198</td><td>&quot;SUI&quot;</td><td>21.2</td><td>&quot;210078&quot;</td><td>null</td><td>&quot;WC&quot;</td><td>&quot;Berk Bugarikj &quot;</td><td>&quot;U&quot;</td><td>null</td><td>&quot;MKD&quot;</td><td>20.8</td><td>&quot;7-5 6-0&quot;</td><td>3</td><td>&quot;Q1&quot;</td><td>&quot;77&quot;</td><td>&quot;5&quot;</td><td>&quot;0&quot;</td><td>&quot;44&quot;</td><td>&quot;29&quot;</td><td>&quot;25&quot;</td><td>&quot;9&quot;</td><td>&quot;9&quot;</td><td>&quot;1&quot;</td><td>&quot;2&quot;</td><td>&quot;0&quot;</td><td>&quot;3&quot;</td><td>&quot;60&quot;</td><td>&quot;41&quot;</td><td>&quot;21&quot;</td><td>&quot;8&quot;</td><td>&quot;9&quot;</td><td>&quot;2&quot;</td><td>&quot;7&quot;</td><td>&quot;470&quot;</td><td>&quot;92&quot;</td><td>null</td><td>null</td><td>&quot;Skopje CH_2024_qualifiers_chal…</td></tr><tr><td>&quot;2024-2869&quot;</td><td>&quot;Skopje CH&quot;</td><td>&quot;Clay&quot;</td><td>32</td><td>&quot;C&quot;</td><td>2024-05-20</td><td>239</td><td>&quot;207484&quot;</td><td>&quot;12&quot;</td><td>null</td><td>&quot;Neil Oberleitner&quot;</td><td>&quot;R&quot;</td><td>null</td><td>&quot;AUT&quot;</td><td>24.7</td><td>&quot;200574&quot;</td><td>null</td><td>&quot;Alt&quot;</td><td>&quot;Alexander Donski&quot;</td><td>&quot;R&quot;</td><td>188</td><td>&quot;CAN&quot;</td><td>25.8</td><td>&quot;6-4 6-3&quot;</td><td>3</td><td>&quot;Q1&quot;</td><td>&quot;82&quot;</td><td>&quot;5&quot;</td><td>&quot;5&quot;</td><td>&quot;54&quot;</td><td>&quot;33&quot;</td><td>&quot;27&quot;</td><td>&quot;13&quot;</td><td>&quot;9&quot;</td><td>&quot;2&quot;</td><td>&quot;2&quot;</td><td>&quot;4&quot;</td><td>&quot;6&quot;</td><td>&quot;72&quot;</td><td>&quot;34&quot;</td><td>&quot;26&quot;</td><td>&quot;15&quot;</td><td>&quot;10&quot;</td><td>&quot;3&quot;</td><td>&quot;6&quot;</td><td>&quot;636&quot;</td><td>&quot;53&quot;</td><td>&quot;955&quot;</td><td>&quot;15&quot;</td><td>&quot;Skopje CH_2024_qualifiers_chal…</td></tr><tr><td>&quot;2024-2869&quot;</td><td>&quot;Skopje CH&quot;</td><td>&quot;Clay&quot;</td><td>32</td><td>&quot;C&quot;</td><td>2024-05-20</td><td>238</td><td>&quot;144970&quot;</td><td>&quot;6&quot;</td><td>null</td><td>&quot;Constantin Bittoun Kouzmine&quot;</td><td>&quot;L&quot;</td><td>null</td><td>&quot;FRA&quot;</td><td>25.3</td><td>&quot;212200&quot;</td><td>null</td><td>&quot;WC&quot;</td><td>&quot;Amar Huseinovic&quot;</td><td>&quot;U&quot;</td><td>null</td><td>&quot;MKD&quot;</td><td>null</td><td>&quot;6-0 6-1&quot;</td><td>3</td><td>&quot;Q1&quot;</td><td>&quot;59&quot;</td><td>&quot;0&quot;</td><td>&quot;1&quot;</td><td>&quot;43&quot;</td><td>&quot;32&quot;</td><td>&quot;26&quot;</td><td>&quot;5&quot;</td><td>&quot;7&quot;</td><td>&quot;4&quot;</td><td>&quot;4&quot;</td><td>&quot;2&quot;</td><td>&quot;0&quot;</td><td>&quot;36&quot;</td><td>&quot;22&quot;</td><td>&quot;9&quot;</td><td>&quot;4&quot;</td><td>&quot;6&quot;</td><td>&quot;0&quot;</td><td>&quot;5&quot;</td><td>&quot;487&quot;</td><td>&quot;87&quot;</td><td>null</td><td>null</td><td>&quot;Skopje CH_2024_qualifiers_chal…</td></tr><tr><td>&quot;2024-2869&quot;</td><td>&quot;Skopje CH&quot;</td><td>&quot;Clay&quot;</td><td>32</td><td>&quot;C&quot;</td><td>2024-05-20</td><td>237</td><td>&quot;202342&quot;</td><td>null</td><td>null</td><td>&quot;Ryan Seggerman&quot;</td><td>&quot;U&quot;</td><td>null</td><td>&quot;USA&quot;</td><td>24.7</td><td>&quot;106254&quot;</td><td>null</td><td>&quot;Alt&quot;</td><td>&quot;Calum Puttergill&quot;</td><td>&quot;U&quot;</td><td>null</td><td>&quot;AUS&quot;</td><td>30.5</td><td>&quot;7-5 6-0&quot;</td><td>3</td><td>&quot;Q1&quot;</td><td>&quot;56&quot;</td><td>&quot;10&quot;</td><td>&quot;1&quot;</td><td>&quot;44&quot;</td><td>&quot;28&quot;</td><td>&quot;22&quot;</td><td>&quot;12&quot;</td><td>&quot;9&quot;</td><td>&quot;0&quot;</td><td>&quot;1&quot;</td><td>&quot;0&quot;</td><td>&quot;9&quot;</td><td>&quot;52&quot;</td><td>&quot;28&quot;</td><td>&quot;19&quot;</td><td>&quot;7&quot;</td><td>&quot;9&quot;</td><td>&quot;3&quot;</td><td>&quot;8&quot;</td><td>&quot;555&quot;</td><td>&quot;67&quot;</td><td>&quot;880&quot;</td><td>&quot;20&quot;</td><td>&quot;Skopje CH_2024_qualifiers_chal…</td></tr></tbody></table></div>"
      ],
      "text/plain": [
       "shape: (216_430, 50)\n",
       "┌────────────┬───────────┬─────────┬───────────┬───┬───────────┬───────────┬───────────┬───────────┐\n",
       "│ tourney_id ┆ tourney_n ┆ surface ┆ draw_size ┆ … ┆ winner_ra ┆ loser_ran ┆ loser_ran ┆ tourney_n │\n",
       "│ ---        ┆ ame       ┆ ---     ┆ ---       ┆   ┆ nk_points ┆ k         ┆ k_points  ┆ ame_date_ │\n",
       "│ str        ┆ ---       ┆ str     ┆ i64       ┆   ┆ ---       ┆ ---       ┆ ---       ┆ matches   │\n",
       "│            ┆ str       ┆         ┆           ┆   ┆ str       ┆ str       ┆ str       ┆ ---       │\n",
       "│            ┆           ┆         ┆           ┆   ┆           ┆           ┆           ┆ str       │\n",
       "╞════════════╪═══════════╪═════════╪═══════════╪═══╪═══════════╪═══════════╪═══════════╪═══════════╡\n",
       "│ 1978-301   ┆ Auckland  ┆ Hard    ┆ 32        ┆ … ┆ null      ┆ null      ┆ null      ┆ Auckland  │\n",
       "│            ┆ CH        ┆         ┆           ┆   ┆           ┆           ┆           ┆ CH_1978_q │\n",
       "│            ┆           ┆         ┆           ┆   ┆           ┆           ┆           ┆ ualifiers │\n",
       "│            ┆           ┆         ┆           ┆   ┆           ┆           ┆           ┆ _ch…      │\n",
       "│ 1978-301   ┆ Auckland  ┆ Hard    ┆ 32        ┆ … ┆ null      ┆ null      ┆ null      ┆ Auckland  │\n",
       "│            ┆ CH        ┆         ┆           ┆   ┆           ┆           ┆           ┆ CH_1978_q │\n",
       "│            ┆           ┆         ┆           ┆   ┆           ┆           ┆           ┆ ualifiers │\n",
       "│            ┆           ┆         ┆           ┆   ┆           ┆           ┆           ┆ _ch…      │\n",
       "│ 1978-301   ┆ Auckland  ┆ Hard    ┆ 32        ┆ … ┆ null      ┆ null      ┆ null      ┆ Auckland  │\n",
       "│            ┆ CH        ┆         ┆           ┆   ┆           ┆           ┆           ┆ CH_1978_q │\n",
       "│            ┆           ┆         ┆           ┆   ┆           ┆           ┆           ┆ ualifiers │\n",
       "│            ┆           ┆         ┆           ┆   ┆           ┆           ┆           ┆ _ch…      │\n",
       "│ 1978-301   ┆ Auckland  ┆ Hard    ┆ 32        ┆ … ┆ null      ┆ 332       ┆ null      ┆ Auckland  │\n",
       "│            ┆ CH        ┆         ┆           ┆   ┆           ┆           ┆           ┆ CH_1978_q │\n",
       "│            ┆           ┆         ┆           ┆   ┆           ┆           ┆           ┆ ualifiers │\n",
       "│            ┆           ┆         ┆           ┆   ┆           ┆           ┆           ┆ _ch…      │\n",
       "│ 1978-301   ┆ Auckland  ┆ Hard    ┆ 32        ┆ … ┆ null      ┆ 232       ┆ null      ┆ Auckland  │\n",
       "│            ┆ CH        ┆         ┆           ┆   ┆           ┆           ┆           ┆ CH_1978_q │\n",
       "│            ┆           ┆         ┆           ┆   ┆           ┆           ┆           ┆ ualifiers │\n",
       "│            ┆           ┆         ┆           ┆   ┆           ┆           ┆           ┆ _ch…      │\n",
       "│ …          ┆ …         ┆ …       ┆ …         ┆ … ┆ …         ┆ …         ┆ …         ┆ …         │\n",
       "│ 2024-2869  ┆ Skopje CH ┆ Clay    ┆ 32        ┆ … ┆ 76        ┆ null      ┆ null      ┆ Skopje    │\n",
       "│            ┆           ┆         ┆           ┆   ┆           ┆           ┆           ┆ CH_2024_q │\n",
       "│            ┆           ┆         ┆           ┆   ┆           ┆           ┆           ┆ ualifiers │\n",
       "│            ┆           ┆         ┆           ┆   ┆           ┆           ┆           ┆ _chal…    │\n",
       "│ 2024-2869  ┆ Skopje CH ┆ Clay    ┆ 32        ┆ … ┆ 92        ┆ null      ┆ null      ┆ Skopje    │\n",
       "│            ┆           ┆         ┆           ┆   ┆           ┆           ┆           ┆ CH_2024_q │\n",
       "│            ┆           ┆         ┆           ┆   ┆           ┆           ┆           ┆ ualifiers │\n",
       "│            ┆           ┆         ┆           ┆   ┆           ┆           ┆           ┆ _chal…    │\n",
       "│ 2024-2869  ┆ Skopje CH ┆ Clay    ┆ 32        ┆ … ┆ 53        ┆ 955       ┆ 15        ┆ Skopje    │\n",
       "│            ┆           ┆         ┆           ┆   ┆           ┆           ┆           ┆ CH_2024_q │\n",
       "│            ┆           ┆         ┆           ┆   ┆           ┆           ┆           ┆ ualifiers │\n",
       "│            ┆           ┆         ┆           ┆   ┆           ┆           ┆           ┆ _chal…    │\n",
       "│ 2024-2869  ┆ Skopje CH ┆ Clay    ┆ 32        ┆ … ┆ 87        ┆ null      ┆ null      ┆ Skopje    │\n",
       "│            ┆           ┆         ┆           ┆   ┆           ┆           ┆           ┆ CH_2024_q │\n",
       "│            ┆           ┆         ┆           ┆   ┆           ┆           ┆           ┆ ualifiers │\n",
       "│            ┆           ┆         ┆           ┆   ┆           ┆           ┆           ┆ _chal…    │\n",
       "│ 2024-2869  ┆ Skopje CH ┆ Clay    ┆ 32        ┆ … ┆ 67        ┆ 880       ┆ 20        ┆ Skopje    │\n",
       "│            ┆           ┆         ┆           ┆   ┆           ┆           ┆           ┆ CH_2024_q │\n",
       "│            ┆           ┆         ┆           ┆   ┆           ┆           ┆           ┆ ualifiers │\n",
       "│            ┆           ┆         ┆           ┆   ┆           ┆           ┆           ┆ _chal…    │\n",
       "└────────────┴───────────┴─────────┴───────────┴───┴───────────┴───────────┴───────────┴───────────┘"
      ]
     },
     "execution_count": 14,
     "metadata": {},
     "output_type": "execute_result"
    }
   ],
   "source": [
    "matches_qualifiers_challengers=import_tennis_matches(data_type=\"qualifiers_challengers\",gender=\"atp\")\n",
    "\n",
    "matches_qualifiers_challengers = matches_qualifiers_challengers.with_columns(\n",
    "    (pl.col(\"tourney_name\") + \"_\" + pl.col(\"tourney_date\").dt.year().cast(pl.Utf8)+\"_qualifiers_challengers\").alias(\"tourney_name_date_matches\")\n",
    ")\n",
    "matches_qualifiers_challengers\n"
   ]
  },
  {
   "cell_type": "code",
   "execution_count": 15,
   "metadata": {},
   "outputs": [
    {
     "data": {
      "text/html": [
       "<div><style>\n",
       ".dataframe > thead > tr,\n",
       ".dataframe > tbody > tr {\n",
       "  text-align: right;\n",
       "  white-space: pre-wrap;\n",
       "}\n",
       "</style>\n",
       "<small>shape: (6_191, 7)</small><table border=\"1\" class=\"dataframe\"><thead><tr><th>tourney_name</th><th>surface</th><th>draw_size</th><th>tourney_level</th><th>tourney_date</th><th>tourney_name_date_matches</th><th>best_of</th></tr><tr><td>str</td><td>str</td><td>i64</td><td>str</td><td>date</td><td>str</td><td>i64</td></tr></thead><tbody><tr><td>&quot;Istanbul CH&quot;</td><td>&quot;Hard&quot;</td><td>32</td><td>&quot;C&quot;</td><td>2011-09-12</td><td>&quot;Istanbul CH_2011_qualifiers_ch…</td><td>3</td></tr><tr><td>&quot;Heilbronn II CH&quot;</td><td>&quot;Clay&quot;</td><td>32</td><td>&quot;C&quot;</td><td>2014-05-12</td><td>&quot;Heilbronn II CH_2014_qualifier…</td><td>3</td></tr><tr><td>&quot;Munich CH&quot;</td><td>&quot;Carpet&quot;</td><td>32</td><td>&quot;C&quot;</td><td>1992-11-09</td><td>&quot;Munich CH_1992_qualifiers_chal…</td><td>3</td></tr><tr><td>&quot;Winnetka CH&quot;</td><td>&quot;Hard&quot;</td><td>32</td><td>&quot;C&quot;</td><td>1999-07-19</td><td>&quot;Winnetka CH_1999_qualifiers_ch…</td><td>3</td></tr><tr><td>&quot;Lugano CH&quot;</td><td>&quot;Clay&quot;</td><td>32</td><td>&quot;C&quot;</td><td>2004-06-07</td><td>&quot;Lugano CH_2004_qualifiers_chal…</td><td>3</td></tr><tr><td>&hellip;</td><td>&hellip;</td><td>&hellip;</td><td>&hellip;</td><td>&hellip;</td><td>&hellip;</td><td>&hellip;</td></tr><tr><td>&quot;s Hertogenbosch&quot;</td><td>&quot;Grass&quot;</td><td>32</td><td>&quot;A&quot;</td><td>2007-06-17</td><td>&quot;s Hertogenbosch_2007_qualifier…</td><td>3</td></tr><tr><td>&quot;Oberstaufen CH&quot;</td><td>&quot;Clay&quot;</td><td>32</td><td>&quot;C&quot;</td><td>2009-07-06</td><td>&quot;Oberstaufen CH_2009_qualifiers…</td><td>3</td></tr><tr><td>&quot;Winnetka CH&quot;</td><td>&quot;Hard&quot;</td><td>32</td><td>&quot;C&quot;</td><td>2010-06-28</td><td>&quot;Winnetka CH_2010_qualifiers_ch…</td><td>3</td></tr><tr><td>&quot;Shanghai Masters&quot;</td><td>&quot;Hard&quot;</td><td>64</td><td>&quot;M&quot;</td><td>2016-10-10</td><td>&quot;Shanghai Masters_2016_qualifie…</td><td>3</td></tr><tr><td>&quot;Ostrava CH&quot;</td><td>&quot;Clay&quot;</td><td>32</td><td>&quot;C&quot;</td><td>2016-04-25</td><td>&quot;Ostrava CH_2016_qualifiers_cha…</td><td>3</td></tr></tbody></table></div>"
      ],
      "text/plain": [
       "shape: (6_191, 7)\n",
       "┌─────────────────┬─────────┬───────────┬───────────────┬──────────────┬─────────────────┬─────────┐\n",
       "│ tourney_name    ┆ surface ┆ draw_size ┆ tourney_level ┆ tourney_date ┆ tourney_name_da ┆ best_of │\n",
       "│ ---             ┆ ---     ┆ ---       ┆ ---           ┆ ---          ┆ te_matches      ┆ ---     │\n",
       "│ str             ┆ str     ┆ i64       ┆ str           ┆ date         ┆ ---             ┆ i64     │\n",
       "│                 ┆         ┆           ┆               ┆              ┆ str             ┆         │\n",
       "╞═════════════════╪═════════╪═══════════╪═══════════════╪══════════════╪═════════════════╪═════════╡\n",
       "│ Istanbul CH     ┆ Hard    ┆ 32        ┆ C             ┆ 2011-09-12   ┆ Istanbul CH_201 ┆ 3       │\n",
       "│                 ┆         ┆           ┆               ┆              ┆ 1_qualifiers_ch ┆         │\n",
       "│                 ┆         ┆           ┆               ┆              ┆ …               ┆         │\n",
       "│ Heilbronn II CH ┆ Clay    ┆ 32        ┆ C             ┆ 2014-05-12   ┆ Heilbronn II    ┆ 3       │\n",
       "│                 ┆         ┆           ┆               ┆              ┆ CH_2014_qualifi ┆         │\n",
       "│                 ┆         ┆           ┆               ┆              ┆ er…             ┆         │\n",
       "│ Munich CH       ┆ Carpet  ┆ 32        ┆ C             ┆ 1992-11-09   ┆ Munich CH_1992_ ┆ 3       │\n",
       "│                 ┆         ┆           ┆               ┆              ┆ qualifiers_chal ┆         │\n",
       "│                 ┆         ┆           ┆               ┆              ┆ …               ┆         │\n",
       "│ Winnetka CH     ┆ Hard    ┆ 32        ┆ C             ┆ 1999-07-19   ┆ Winnetka CH_199 ┆ 3       │\n",
       "│                 ┆         ┆           ┆               ┆              ┆ 9_qualifiers_ch ┆         │\n",
       "│                 ┆         ┆           ┆               ┆              ┆ …               ┆         │\n",
       "│ Lugano CH       ┆ Clay    ┆ 32        ┆ C             ┆ 2004-06-07   ┆ Lugano CH_2004_ ┆ 3       │\n",
       "│                 ┆         ┆           ┆               ┆              ┆ qualifiers_chal ┆         │\n",
       "│                 ┆         ┆           ┆               ┆              ┆ …               ┆         │\n",
       "│ …               ┆ …       ┆ …         ┆ …             ┆ …            ┆ …               ┆ …       │\n",
       "│ s Hertogenbosch ┆ Grass   ┆ 32        ┆ A             ┆ 2007-06-17   ┆ s Hertogenbosch ┆ 3       │\n",
       "│                 ┆         ┆           ┆               ┆              ┆ _2007_qualifier ┆         │\n",
       "│                 ┆         ┆           ┆               ┆              ┆ …               ┆         │\n",
       "│ Oberstaufen CH  ┆ Clay    ┆ 32        ┆ C             ┆ 2009-07-06   ┆ Oberstaufen CH_ ┆ 3       │\n",
       "│                 ┆         ┆           ┆               ┆              ┆ 2009_qualifiers ┆         │\n",
       "│                 ┆         ┆           ┆               ┆              ┆ …               ┆         │\n",
       "│ Winnetka CH     ┆ Hard    ┆ 32        ┆ C             ┆ 2010-06-28   ┆ Winnetka CH_201 ┆ 3       │\n",
       "│                 ┆         ┆           ┆               ┆              ┆ 0_qualifiers_ch ┆         │\n",
       "│                 ┆         ┆           ┆               ┆              ┆ …               ┆         │\n",
       "│ Shanghai        ┆ Hard    ┆ 64        ┆ M             ┆ 2016-10-10   ┆ Shanghai Master ┆ 3       │\n",
       "│ Masters         ┆         ┆           ┆               ┆              ┆ s_2016_qualifie ┆         │\n",
       "│                 ┆         ┆           ┆               ┆              ┆ …               ┆         │\n",
       "│ Ostrava CH      ┆ Clay    ┆ 32        ┆ C             ┆ 2016-04-25   ┆ Ostrava CH_2016 ┆ 3       │\n",
       "│                 ┆         ┆           ┆               ┆              ┆ _qualifiers_cha ┆         │\n",
       "│                 ┆         ┆           ┆               ┆              ┆ …               ┆         │\n",
       "└─────────────────┴─────────┴───────────┴───────────────┴──────────────┴─────────────────┴─────────┘"
      ]
     },
     "execution_count": 15,
     "metadata": {},
     "output_type": "execute_result"
    }
   ],
   "source": [
    "tourney_qualifiers_challengers=matches_qualifiers_challengers[['tourney_name', 'surface', 'draw_size', 'tourney_level', 'tourney_date', 'tourney_name_date_matches',\"best_of\"]]\n",
    "tourney_qualifiers_challengers=tourney_qualifiers_challengers.unique('tourney_name_date_matches')\n",
    "tourney_qualifiers_challengers"
   ]
  },
  {
   "cell_type": "code",
   "execution_count": 16,
   "metadata": {},
   "outputs": [
    {
     "data": {
      "text/html": [
       "<div><style>\n",
       ".dataframe > thead > tr,\n",
       ".dataframe > tbody > tr {\n",
       "  text-align: right;\n",
       "  white-space: pre-wrap;\n",
       "}\n",
       "</style>\n",
       "<small>shape: (486_553, 50)</small><table border=\"1\" class=\"dataframe\"><thead><tr><th>tourney_id</th><th>tourney_name</th><th>surface</th><th>draw_size</th><th>tourney_level</th><th>tourney_date</th><th>match_num</th><th>winner_id</th><th>winner_seed</th><th>winner_entry</th><th>winner_name</th><th>winner_hand</th><th>winner_ht</th><th>winner_ioc</th><th>winner_age</th><th>loser_id</th><th>loser_seed</th><th>loser_entry</th><th>loser_name</th><th>loser_hand</th><th>loser_ht</th><th>loser_ioc</th><th>loser_age</th><th>score</th><th>best_of</th><th>round</th><th>minutes</th><th>w_ace</th><th>w_df</th><th>w_svpt</th><th>w_1stIn</th><th>w_1stWon</th><th>w_2ndWon</th><th>w_SvGms</th><th>w_bpSaved</th><th>w_bpFaced</th><th>l_ace</th><th>l_df</th><th>l_svpt</th><th>l_1stIn</th><th>l_1stWon</th><th>l_2ndWon</th><th>l_SvGms</th><th>l_bpSaved</th><th>l_bpFaced</th><th>winner_rank</th><th>winner_rank_points</th><th>loser_rank</th><th>loser_rank_points</th><th>tourney_name_date_matches</th></tr><tr><td>str</td><td>str</td><td>str</td><td>i64</td><td>str</td><td>date</td><td>i64</td><td>str</td><td>str</td><td>str</td><td>str</td><td>str</td><td>i64</td><td>str</td><td>f64</td><td>str</td><td>str</td><td>str</td><td>str</td><td>str</td><td>i64</td><td>str</td><td>f64</td><td>str</td><td>i64</td><td>str</td><td>str</td><td>str</td><td>str</td><td>str</td><td>str</td><td>str</td><td>str</td><td>str</td><td>str</td><td>str</td><td>str</td><td>str</td><td>str</td><td>str</td><td>str</td><td>str</td><td>str</td><td>str</td><td>str</td><td>str</td><td>str</td><td>str</td><td>str</td><td>str</td></tr></thead><tbody><tr><td>&quot;1991-M-SA-IND-02A-1990a&quot;</td><td>&quot;India Masters 1&quot;</td><td>&quot;Hard&quot;</td><td>32</td><td>&quot;S&quot;</td><td>1990-12-29</td><td>1</td><td>&quot;101484&quot;</td><td>&quot;1&quot;</td><td>null</td><td>&quot;Vladimir Gabrichidze&quot;</td><td>&quot;R&quot;</td><td>175</td><td>&quot;GEO&quot;</td><td>22.6</td><td>&quot;106937&quot;</td><td>null</td><td>null</td><td>&quot;Emilio Marturano&quot;</td><td>&quot;R&quot;</td><td>null</td><td>&quot;ITA&quot;</td><td>23.5</td><td>&quot;6-2 7-5&quot;</td><td>3</td><td>&quot;R32&quot;</td><td>null</td><td>null</td><td>null</td><td>null</td><td>null</td><td>null</td><td>null</td><td>null</td><td>null</td><td>null</td><td>null</td><td>null</td><td>null</td><td>null</td><td>null</td><td>null</td><td>null</td><td>null</td><td>null</td><td>&quot;266&quot;</td><td>&quot;82&quot;</td><td>&quot;805&quot;</td><td>&quot;4&quot;</td><td>&quot;India Masters 1_1990_futures&quot;</td></tr><tr><td>&quot;1991-M-SA-IND-02A-1990a&quot;</td><td>&quot;India Masters 1&quot;</td><td>&quot;Hard&quot;</td><td>32</td><td>&quot;S&quot;</td><td>1990-12-29</td><td>2</td><td>&quot;106819&quot;</td><td>null</td><td>&quot;Q&quot;</td><td>&quot;Danilo Pila&quot;</td><td>&quot;R&quot;</td><td>null</td><td>&quot;PHI&quot;</td><td>30.2</td><td>&quot;107116&quot;</td><td>null</td><td>null</td><td>&quot;Goran Mihajlovic&quot;</td><td>&quot;R&quot;</td><td>null</td><td>&quot;YUG&quot;</td><td>19.6</td><td>&quot;6-3 6-2&quot;</td><td>3</td><td>&quot;R32&quot;</td><td>null</td><td>null</td><td>null</td><td>null</td><td>null</td><td>null</td><td>null</td><td>null</td><td>null</td><td>null</td><td>null</td><td>null</td><td>null</td><td>null</td><td>null</td><td>null</td><td>null</td><td>null</td><td>null</td><td>&quot;941&quot;</td><td>&quot;2&quot;</td><td>&quot;692&quot;</td><td>&quot;8&quot;</td><td>&quot;India Masters 1_1990_futures&quot;</td></tr><tr><td>&quot;1991-M-SA-IND-02A-1990a&quot;</td><td>&quot;India Masters 1&quot;</td><td>&quot;Hard&quot;</td><td>32</td><td>&quot;S&quot;</td><td>1990-12-29</td><td>3</td><td>&quot;102216&quot;</td><td>null</td><td>&quot;LL&quot;</td><td>&quot;Mark Joachim&quot;</td><td>&quot;R&quot;</td><td>null</td><td>&quot;GER&quot;</td><td>17.6</td><td>&quot;108562&quot;</td><td>null</td><td>null</td><td>&quot;York Heidenreich&quot;</td><td>&quot;R&quot;</td><td>null</td><td>&quot;GER&quot;</td><td>null</td><td>&quot;6-1 6-3&quot;</td><td>3</td><td>&quot;R32&quot;</td><td>null</td><td>null</td><td>null</td><td>null</td><td>null</td><td>null</td><td>null</td><td>null</td><td>null</td><td>null</td><td>null</td><td>null</td><td>null</td><td>null</td><td>null</td><td>null</td><td>null</td><td>null</td><td>null</td><td>&quot;862&quot;</td><td>&quot;3&quot;</td><td>&quot;862&quot;</td><td>&quot;3&quot;</td><td>&quot;India Masters 1_1990_futures&quot;</td></tr><tr><td>&quot;1991-M-SA-IND-02A-1990a&quot;</td><td>&quot;India Masters 1&quot;</td><td>&quot;Hard&quot;</td><td>32</td><td>&quot;S&quot;</td><td>1990-12-29</td><td>4</td><td>&quot;101663&quot;</td><td>null</td><td>null</td><td>&quot;Eugenio Rossi&quot;</td><td>&quot;R&quot;</td><td>null</td><td>&quot;ITA&quot;</td><td>21.1</td><td>&quot;106941&quot;</td><td>&quot;8&quot;</td><td>null</td><td>&quot;Eno Polo&quot;</td><td>&quot;R&quot;</td><td>null</td><td>&quot;KEN&quot;</td><td>23.5</td><td>&quot;6-4 6-4&quot;</td><td>3</td><td>&quot;R32&quot;</td><td>null</td><td>null</td><td>null</td><td>null</td><td>null</td><td>null</td><td>null</td><td>null</td><td>null</td><td>null</td><td>null</td><td>null</td><td>null</td><td>null</td><td>null</td><td>null</td><td>null</td><td>null</td><td>null</td><td>&quot;703&quot;</td><td>&quot;8&quot;</td><td>&quot;588&quot;</td><td>&quot;14&quot;</td><td>&quot;India Masters 1_1990_futures&quot;</td></tr><tr><td>&quot;1991-M-SA-IND-02A-1990a&quot;</td><td>&quot;India Masters 1&quot;</td><td>&quot;Hard&quot;</td><td>32</td><td>&quot;S&quot;</td><td>1990-12-29</td><td>5</td><td>&quot;100794&quot;</td><td>&quot;4&quot;</td><td>null</td><td>&quot;Srinivasan Vasudevan&quot;</td><td>&quot;R&quot;</td><td>190</td><td>&quot;IND&quot;</td><td>28.9</td><td>&quot;101480&quot;</td><td>null</td><td>null</td><td>&quot;Jake Martyn&quot;</td><td>&quot;R&quot;</td><td>null</td><td>&quot;GBR&quot;</td><td>22.6</td><td>&quot;6-3 7-6&quot;</td><td>3</td><td>&quot;R32&quot;</td><td>null</td><td>null</td><td>null</td><td>null</td><td>null</td><td>null</td><td>null</td><td>null</td><td>null</td><td>null</td><td>null</td><td>null</td><td>null</td><td>null</td><td>null</td><td>null</td><td>null</td><td>null</td><td>null</td><td>&quot;420&quot;</td><td>&quot;33&quot;</td><td>&quot;862&quot;</td><td>&quot;3&quot;</td><td>&quot;India Masters 1_1990_futures&quot;</td></tr><tr><td>&hellip;</td><td>&hellip;</td><td>&hellip;</td><td>&hellip;</td><td>&hellip;</td><td>&hellip;</td><td>&hellip;</td><td>&hellip;</td><td>&hellip;</td><td>&hellip;</td><td>&hellip;</td><td>&hellip;</td><td>&hellip;</td><td>&hellip;</td><td>&hellip;</td><td>&hellip;</td><td>&hellip;</td><td>&hellip;</td><td>&hellip;</td><td>&hellip;</td><td>&hellip;</td><td>&hellip;</td><td>&hellip;</td><td>&hellip;</td><td>&hellip;</td><td>&hellip;</td><td>&hellip;</td><td>&hellip;</td><td>&hellip;</td><td>&hellip;</td><td>&hellip;</td><td>&hellip;</td><td>&hellip;</td><td>&hellip;</td><td>&hellip;</td><td>&hellip;</td><td>&hellip;</td><td>&hellip;</td><td>&hellip;</td><td>&hellip;</td><td>&hellip;</td><td>&hellip;</td><td>&hellip;</td><td>&hellip;</td><td>&hellip;</td><td>&hellip;</td><td>&hellip;</td><td>&hellip;</td><td>&hellip;</td><td>&hellip;</td></tr><tr><td>&quot;2024-M-ITF-USA-2024-010&quot;</td><td>&quot;M25 Pensacola FL&quot;</td><td>&quot;Clay&quot;</td><td>32</td><td>&quot;25&quot;</td><td>2024-05-13</td><td>303</td><td>&quot;210044&quot;</td><td>&quot;5&quot;</td><td>null</td><td>&quot;Bruno Kuzuhara&quot;</td><td>&quot;U&quot;</td><td>null</td><td>&quot;USA&quot;</td><td>20.0</td><td>&quot;132054&quot;</td><td>null</td><td>null</td><td>&quot;Nathan Ponwith&quot;</td><td>&quot;U&quot;</td><td>null</td><td>&quot;USA&quot;</td><td>26.0</td><td>&quot;6-3 6-3&quot;</td><td>3</td><td>&quot;QF&quot;</td><td>null</td><td>null</td><td>null</td><td>null</td><td>null</td><td>null</td><td>null</td><td>null</td><td>null</td><td>null</td><td>null</td><td>null</td><td>null</td><td>null</td><td>null</td><td>null</td><td>null</td><td>null</td><td>null</td><td>&quot;469&quot;</td><td>&quot;92&quot;</td><td>&quot;745&quot;</td><td>&quot;34&quot;</td><td>&quot;M25 Pensacola FL_2024_futures&quot;</td></tr><tr><td>&quot;2024-M-ITF-USA-2024-010&quot;</td><td>&quot;M25 Pensacola FL&quot;</td><td>&quot;Clay&quot;</td><td>32</td><td>&quot;25&quot;</td><td>2024-05-13</td><td>304</td><td>&quot;200273&quot;</td><td>&quot;2&quot;</td><td>null</td><td>&quot;Hady Habib&quot;</td><td>&quot;R&quot;</td><td>null</td><td>&quot;LBN&quot;</td><td>25.7</td><td>&quot;132052&quot;</td><td>&quot;7&quot;</td><td>null</td><td>&quot;Christian Langmo&quot;</td><td>&quot;U&quot;</td><td>null</td><td>&quot;USA&quot;</td><td>27.9</td><td>&quot;1-6 6-3 6-3&quot;</td><td>3</td><td>&quot;QF&quot;</td><td>null</td><td>null</td><td>null</td><td>null</td><td>null</td><td>null</td><td>null</td><td>null</td><td>null</td><td>null</td><td>null</td><td>null</td><td>null</td><td>null</td><td>null</td><td>null</td><td>null</td><td>null</td><td>null</td><td>&quot;286&quot;</td><td>&quot;196&quot;</td><td>&quot;507&quot;</td><td>&quot;77&quot;</td><td>&quot;M25 Pensacola FL_2024_futures&quot;</td></tr><tr><td>&quot;2024-M-ITF-USA-2024-010&quot;</td><td>&quot;M25 Pensacola FL&quot;</td><td>&quot;Clay&quot;</td><td>32</td><td>&quot;25&quot;</td><td>2024-05-13</td><td>401</td><td>&quot;200748&quot;</td><td>&quot;4&quot;</td><td>null</td><td>&quot;Andres Andrade&quot;</td><td>&quot;R&quot;</td><td>null</td><td>&quot;ECU&quot;</td><td>25.3</td><td>&quot;106071&quot;</td><td>&quot;1&quot;</td><td>null</td><td>&quot;Bernard Tomic&quot;</td><td>&quot;R&quot;</td><td>193</td><td>&quot;AUS&quot;</td><td>31.5</td><td>&quot;RET&quot;</td><td>3</td><td>&quot;SF&quot;</td><td>null</td><td>null</td><td>null</td><td>null</td><td>null</td><td>null</td><td>null</td><td>null</td><td>null</td><td>null</td><td>null</td><td>null</td><td>null</td><td>null</td><td>null</td><td>null</td><td>null</td><td>null</td><td>null</td><td>&quot;374&quot;</td><td>&quot;133&quot;</td><td>&quot;256&quot;</td><td>&quot;230&quot;</td><td>&quot;M25 Pensacola FL_2024_futures&quot;</td></tr><tr><td>&quot;2024-M-ITF-USA-2024-010&quot;</td><td>&quot;M25 Pensacola FL&quot;</td><td>&quot;Clay&quot;</td><td>32</td><td>&quot;25&quot;</td><td>2024-05-13</td><td>402</td><td>&quot;200273&quot;</td><td>&quot;2&quot;</td><td>null</td><td>&quot;Hady Habib&quot;</td><td>&quot;R&quot;</td><td>null</td><td>&quot;LBN&quot;</td><td>25.7</td><td>&quot;210044&quot;</td><td>&quot;5&quot;</td><td>null</td><td>&quot;Bruno Kuzuhara&quot;</td><td>&quot;U&quot;</td><td>null</td><td>&quot;USA&quot;</td><td>20.0</td><td>&quot;6-4 6-4&quot;</td><td>3</td><td>&quot;SF&quot;</td><td>null</td><td>null</td><td>null</td><td>null</td><td>null</td><td>null</td><td>null</td><td>null</td><td>null</td><td>null</td><td>null</td><td>null</td><td>null</td><td>null</td><td>null</td><td>null</td><td>null</td><td>null</td><td>null</td><td>&quot;286&quot;</td><td>&quot;196&quot;</td><td>&quot;469&quot;</td><td>&quot;92&quot;</td><td>&quot;M25 Pensacola FL_2024_futures&quot;</td></tr><tr><td>&quot;2024-M-ITF-USA-2024-010&quot;</td><td>&quot;M25 Pensacola FL&quot;</td><td>&quot;Clay&quot;</td><td>32</td><td>&quot;25&quot;</td><td>2024-05-13</td><td>501</td><td>&quot;200748&quot;</td><td>&quot;4&quot;</td><td>null</td><td>&quot;Andres Andrade&quot;</td><td>&quot;R&quot;</td><td>null</td><td>&quot;ECU&quot;</td><td>25.3</td><td>&quot;200273&quot;</td><td>&quot;2&quot;</td><td>null</td><td>&quot;Hady Habib&quot;</td><td>&quot;R&quot;</td><td>null</td><td>&quot;LBN&quot;</td><td>25.7</td><td>&quot;7-6(5) 7-5&quot;</td><td>3</td><td>&quot;F&quot;</td><td>null</td><td>null</td><td>null</td><td>null</td><td>null</td><td>null</td><td>null</td><td>null</td><td>null</td><td>null</td><td>null</td><td>null</td><td>null</td><td>null</td><td>null</td><td>null</td><td>null</td><td>null</td><td>null</td><td>&quot;374&quot;</td><td>&quot;133&quot;</td><td>&quot;286&quot;</td><td>&quot;196&quot;</td><td>&quot;M25 Pensacola FL_2024_futures&quot;</td></tr></tbody></table></div>"
      ],
      "text/plain": [
       "shape: (486_553, 50)\n",
       "┌────────────┬───────────┬─────────┬───────────┬───┬───────────┬───────────┬───────────┬───────────┐\n",
       "│ tourney_id ┆ tourney_n ┆ surface ┆ draw_size ┆ … ┆ winner_ra ┆ loser_ran ┆ loser_ran ┆ tourney_n │\n",
       "│ ---        ┆ ame       ┆ ---     ┆ ---       ┆   ┆ nk_points ┆ k         ┆ k_points  ┆ ame_date_ │\n",
       "│ str        ┆ ---       ┆ str     ┆ i64       ┆   ┆ ---       ┆ ---       ┆ ---       ┆ matches   │\n",
       "│            ┆ str       ┆         ┆           ┆   ┆ str       ┆ str       ┆ str       ┆ ---       │\n",
       "│            ┆           ┆         ┆           ┆   ┆           ┆           ┆           ┆ str       │\n",
       "╞════════════╪═══════════╪═════════╪═══════════╪═══╪═══════════╪═══════════╪═══════════╪═══════════╡\n",
       "│ 1991-M-SA- ┆ India     ┆ Hard    ┆ 32        ┆ … ┆ 82        ┆ 805       ┆ 4         ┆ India     │\n",
       "│ IND-02A-19 ┆ Masters 1 ┆         ┆           ┆   ┆           ┆           ┆           ┆ Masters   │\n",
       "│ 90a        ┆           ┆         ┆           ┆   ┆           ┆           ┆           ┆ 1_1990_fu │\n",
       "│            ┆           ┆         ┆           ┆   ┆           ┆           ┆           ┆ tures     │\n",
       "│ 1991-M-SA- ┆ India     ┆ Hard    ┆ 32        ┆ … ┆ 2         ┆ 692       ┆ 8         ┆ India     │\n",
       "│ IND-02A-19 ┆ Masters 1 ┆         ┆           ┆   ┆           ┆           ┆           ┆ Masters   │\n",
       "│ 90a        ┆           ┆         ┆           ┆   ┆           ┆           ┆           ┆ 1_1990_fu │\n",
       "│            ┆           ┆         ┆           ┆   ┆           ┆           ┆           ┆ tures     │\n",
       "│ 1991-M-SA- ┆ India     ┆ Hard    ┆ 32        ┆ … ┆ 3         ┆ 862       ┆ 3         ┆ India     │\n",
       "│ IND-02A-19 ┆ Masters 1 ┆         ┆           ┆   ┆           ┆           ┆           ┆ Masters   │\n",
       "│ 90a        ┆           ┆         ┆           ┆   ┆           ┆           ┆           ┆ 1_1990_fu │\n",
       "│            ┆           ┆         ┆           ┆   ┆           ┆           ┆           ┆ tures     │\n",
       "│ 1991-M-SA- ┆ India     ┆ Hard    ┆ 32        ┆ … ┆ 8         ┆ 588       ┆ 14        ┆ India     │\n",
       "│ IND-02A-19 ┆ Masters 1 ┆         ┆           ┆   ┆           ┆           ┆           ┆ Masters   │\n",
       "│ 90a        ┆           ┆         ┆           ┆   ┆           ┆           ┆           ┆ 1_1990_fu │\n",
       "│            ┆           ┆         ┆           ┆   ┆           ┆           ┆           ┆ tures     │\n",
       "│ 1991-M-SA- ┆ India     ┆ Hard    ┆ 32        ┆ … ┆ 33        ┆ 862       ┆ 3         ┆ India     │\n",
       "│ IND-02A-19 ┆ Masters 1 ┆         ┆           ┆   ┆           ┆           ┆           ┆ Masters   │\n",
       "│ 90a        ┆           ┆         ┆           ┆   ┆           ┆           ┆           ┆ 1_1990_fu │\n",
       "│            ┆           ┆         ┆           ┆   ┆           ┆           ┆           ┆ tures     │\n",
       "│ …          ┆ …         ┆ …       ┆ …         ┆ … ┆ …         ┆ …         ┆ …         ┆ …         │\n",
       "│ 2024-M-ITF ┆ M25       ┆ Clay    ┆ 32        ┆ … ┆ 92        ┆ 745       ┆ 34        ┆ M25       │\n",
       "│ -USA-2024- ┆ Pensacola ┆         ┆           ┆   ┆           ┆           ┆           ┆ Pensacola │\n",
       "│ 010        ┆ FL        ┆         ┆           ┆   ┆           ┆           ┆           ┆ FL_2024_f │\n",
       "│            ┆           ┆         ┆           ┆   ┆           ┆           ┆           ┆ utures    │\n",
       "│ 2024-M-ITF ┆ M25       ┆ Clay    ┆ 32        ┆ … ┆ 196       ┆ 507       ┆ 77        ┆ M25       │\n",
       "│ -USA-2024- ┆ Pensacola ┆         ┆           ┆   ┆           ┆           ┆           ┆ Pensacola │\n",
       "│ 010        ┆ FL        ┆         ┆           ┆   ┆           ┆           ┆           ┆ FL_2024_f │\n",
       "│            ┆           ┆         ┆           ┆   ┆           ┆           ┆           ┆ utures    │\n",
       "│ 2024-M-ITF ┆ M25       ┆ Clay    ┆ 32        ┆ … ┆ 133       ┆ 256       ┆ 230       ┆ M25       │\n",
       "│ -USA-2024- ┆ Pensacola ┆         ┆           ┆   ┆           ┆           ┆           ┆ Pensacola │\n",
       "│ 010        ┆ FL        ┆         ┆           ┆   ┆           ┆           ┆           ┆ FL_2024_f │\n",
       "│            ┆           ┆         ┆           ┆   ┆           ┆           ┆           ┆ utures    │\n",
       "│ 2024-M-ITF ┆ M25       ┆ Clay    ┆ 32        ┆ … ┆ 196       ┆ 469       ┆ 92        ┆ M25       │\n",
       "│ -USA-2024- ┆ Pensacola ┆         ┆           ┆   ┆           ┆           ┆           ┆ Pensacola │\n",
       "│ 010        ┆ FL        ┆         ┆           ┆   ┆           ┆           ┆           ┆ FL_2024_f │\n",
       "│            ┆           ┆         ┆           ┆   ┆           ┆           ┆           ┆ utures    │\n",
       "│ 2024-M-ITF ┆ M25       ┆ Clay    ┆ 32        ┆ … ┆ 133       ┆ 286       ┆ 196       ┆ M25       │\n",
       "│ -USA-2024- ┆ Pensacola ┆         ┆           ┆   ┆           ┆           ┆           ┆ Pensacola │\n",
       "│ 010        ┆ FL        ┆         ┆           ┆   ┆           ┆           ┆           ┆ FL_2024_f │\n",
       "│            ┆           ┆         ┆           ┆   ┆           ┆           ┆           ┆ utures    │\n",
       "└────────────┴───────────┴─────────┴───────────┴───┴───────────┴───────────┴───────────┴───────────┘"
      ]
     },
     "execution_count": 16,
     "metadata": {},
     "output_type": "execute_result"
    }
   ],
   "source": [
    "matches_futures=import_tennis_matches(data_type=\"futures\",gender=\"atp\")\n",
    "\n",
    "matches_futures = matches_futures.with_columns(\n",
    "    (pl.col(\"tourney_name\") + \"_\" + pl.col(\"tourney_date\").dt.year().cast(pl.Utf8)+\"_futures\").alias(\"tourney_name_date_matches\")\n",
    ")\n",
    "matches_futures"
   ]
  },
  {
   "cell_type": "code",
   "execution_count": 17,
   "metadata": {},
   "outputs": [
    {
     "data": {
      "text/html": [
       "<div><style>\n",
       ".dataframe > thead > tr,\n",
       ".dataframe > tbody > tr {\n",
       "  text-align: right;\n",
       "  white-space: pre-wrap;\n",
       "}\n",
       "</style>\n",
       "<small>shape: (486_553, 51)</small><table border=\"1\" class=\"dataframe\"><thead><tr><th>tourney_id</th><th>tourney_name</th><th>surface</th><th>draw_size</th><th>tourney_level</th><th>tourney_date</th><th>match_num</th><th>winner_id</th><th>winner_seed</th><th>winner_entry</th><th>winner_name</th><th>winner_hand</th><th>winner_ht</th><th>winner_ioc</th><th>winner_age</th><th>loser_id</th><th>loser_seed</th><th>loser_entry</th><th>loser_name</th><th>loser_hand</th><th>loser_ht</th><th>loser_ioc</th><th>loser_age</th><th>score</th><th>best_of</th><th>round</th><th>minutes</th><th>w_ace</th><th>w_df</th><th>w_svpt</th><th>w_1stIn</th><th>w_1stWon</th><th>w_2ndWon</th><th>w_SvGms</th><th>w_bpSaved</th><th>w_bpFaced</th><th>l_ace</th><th>l_df</th><th>l_svpt</th><th>l_1stIn</th><th>l_1stWon</th><th>l_2ndWon</th><th>l_SvGms</th><th>l_bpSaved</th><th>l_bpFaced</th><th>winner_rank</th><th>winner_rank_points</th><th>loser_rank</th><th>loser_rank_points</th><th>tourney_name_date_matches</th><th>minimum_prize_pool</th></tr><tr><td>str</td><td>str</td><td>str</td><td>i64</td><td>str</td><td>date</td><td>i64</td><td>str</td><td>str</td><td>str</td><td>str</td><td>str</td><td>i64</td><td>str</td><td>f64</td><td>str</td><td>str</td><td>str</td><td>str</td><td>str</td><td>i64</td><td>str</td><td>f64</td><td>str</td><td>i64</td><td>str</td><td>str</td><td>str</td><td>str</td><td>str</td><td>str</td><td>str</td><td>str</td><td>str</td><td>str</td><td>str</td><td>str</td><td>str</td><td>str</td><td>str</td><td>str</td><td>str</td><td>str</td><td>str</td><td>str</td><td>str</td><td>str</td><td>str</td><td>str</td><td>str</td><td>i64</td></tr></thead><tbody><tr><td>&quot;1991-M-SA-IND-02A-1990a&quot;</td><td>&quot;India Masters 1&quot;</td><td>&quot;Hard&quot;</td><td>32</td><td>&quot;S&quot;</td><td>1990-12-29</td><td>1</td><td>&quot;101484&quot;</td><td>&quot;1&quot;</td><td>null</td><td>&quot;Vladimir Gabrichidze&quot;</td><td>&quot;R&quot;</td><td>175</td><td>&quot;GEO&quot;</td><td>22.6</td><td>&quot;106937&quot;</td><td>null</td><td>null</td><td>&quot;Emilio Marturano&quot;</td><td>&quot;R&quot;</td><td>null</td><td>&quot;ITA&quot;</td><td>23.5</td><td>&quot;6-2 7-5&quot;</td><td>3</td><td>&quot;R32&quot;</td><td>null</td><td>null</td><td>null</td><td>null</td><td>null</td><td>null</td><td>null</td><td>null</td><td>null</td><td>null</td><td>null</td><td>null</td><td>null</td><td>null</td><td>null</td><td>null</td><td>null</td><td>null</td><td>null</td><td>&quot;266&quot;</td><td>&quot;82&quot;</td><td>&quot;805&quot;</td><td>&quot;4&quot;</td><td>&quot;India Masters 1_1990_futures&quot;</td><td>null</td></tr><tr><td>&quot;1991-M-SA-IND-02A-1990a&quot;</td><td>&quot;India Masters 1&quot;</td><td>&quot;Hard&quot;</td><td>32</td><td>&quot;S&quot;</td><td>1990-12-29</td><td>2</td><td>&quot;106819&quot;</td><td>null</td><td>&quot;Q&quot;</td><td>&quot;Danilo Pila&quot;</td><td>&quot;R&quot;</td><td>null</td><td>&quot;PHI&quot;</td><td>30.2</td><td>&quot;107116&quot;</td><td>null</td><td>null</td><td>&quot;Goran Mihajlovic&quot;</td><td>&quot;R&quot;</td><td>null</td><td>&quot;YUG&quot;</td><td>19.6</td><td>&quot;6-3 6-2&quot;</td><td>3</td><td>&quot;R32&quot;</td><td>null</td><td>null</td><td>null</td><td>null</td><td>null</td><td>null</td><td>null</td><td>null</td><td>null</td><td>null</td><td>null</td><td>null</td><td>null</td><td>null</td><td>null</td><td>null</td><td>null</td><td>null</td><td>null</td><td>&quot;941&quot;</td><td>&quot;2&quot;</td><td>&quot;692&quot;</td><td>&quot;8&quot;</td><td>&quot;India Masters 1_1990_futures&quot;</td><td>null</td></tr><tr><td>&quot;1991-M-SA-IND-02A-1990a&quot;</td><td>&quot;India Masters 1&quot;</td><td>&quot;Hard&quot;</td><td>32</td><td>&quot;S&quot;</td><td>1990-12-29</td><td>3</td><td>&quot;102216&quot;</td><td>null</td><td>&quot;LL&quot;</td><td>&quot;Mark Joachim&quot;</td><td>&quot;R&quot;</td><td>null</td><td>&quot;GER&quot;</td><td>17.6</td><td>&quot;108562&quot;</td><td>null</td><td>null</td><td>&quot;York Heidenreich&quot;</td><td>&quot;R&quot;</td><td>null</td><td>&quot;GER&quot;</td><td>null</td><td>&quot;6-1 6-3&quot;</td><td>3</td><td>&quot;R32&quot;</td><td>null</td><td>null</td><td>null</td><td>null</td><td>null</td><td>null</td><td>null</td><td>null</td><td>null</td><td>null</td><td>null</td><td>null</td><td>null</td><td>null</td><td>null</td><td>null</td><td>null</td><td>null</td><td>null</td><td>&quot;862&quot;</td><td>&quot;3&quot;</td><td>&quot;862&quot;</td><td>&quot;3&quot;</td><td>&quot;India Masters 1_1990_futures&quot;</td><td>null</td></tr><tr><td>&quot;1991-M-SA-IND-02A-1990a&quot;</td><td>&quot;India Masters 1&quot;</td><td>&quot;Hard&quot;</td><td>32</td><td>&quot;S&quot;</td><td>1990-12-29</td><td>4</td><td>&quot;101663&quot;</td><td>null</td><td>null</td><td>&quot;Eugenio Rossi&quot;</td><td>&quot;R&quot;</td><td>null</td><td>&quot;ITA&quot;</td><td>21.1</td><td>&quot;106941&quot;</td><td>&quot;8&quot;</td><td>null</td><td>&quot;Eno Polo&quot;</td><td>&quot;R&quot;</td><td>null</td><td>&quot;KEN&quot;</td><td>23.5</td><td>&quot;6-4 6-4&quot;</td><td>3</td><td>&quot;R32&quot;</td><td>null</td><td>null</td><td>null</td><td>null</td><td>null</td><td>null</td><td>null</td><td>null</td><td>null</td><td>null</td><td>null</td><td>null</td><td>null</td><td>null</td><td>null</td><td>null</td><td>null</td><td>null</td><td>null</td><td>&quot;703&quot;</td><td>&quot;8&quot;</td><td>&quot;588&quot;</td><td>&quot;14&quot;</td><td>&quot;India Masters 1_1990_futures&quot;</td><td>null</td></tr><tr><td>&quot;1991-M-SA-IND-02A-1990a&quot;</td><td>&quot;India Masters 1&quot;</td><td>&quot;Hard&quot;</td><td>32</td><td>&quot;S&quot;</td><td>1990-12-29</td><td>5</td><td>&quot;100794&quot;</td><td>&quot;4&quot;</td><td>null</td><td>&quot;Srinivasan Vasudevan&quot;</td><td>&quot;R&quot;</td><td>190</td><td>&quot;IND&quot;</td><td>28.9</td><td>&quot;101480&quot;</td><td>null</td><td>null</td><td>&quot;Jake Martyn&quot;</td><td>&quot;R&quot;</td><td>null</td><td>&quot;GBR&quot;</td><td>22.6</td><td>&quot;6-3 7-6&quot;</td><td>3</td><td>&quot;R32&quot;</td><td>null</td><td>null</td><td>null</td><td>null</td><td>null</td><td>null</td><td>null</td><td>null</td><td>null</td><td>null</td><td>null</td><td>null</td><td>null</td><td>null</td><td>null</td><td>null</td><td>null</td><td>null</td><td>null</td><td>&quot;420&quot;</td><td>&quot;33&quot;</td><td>&quot;862&quot;</td><td>&quot;3&quot;</td><td>&quot;India Masters 1_1990_futures&quot;</td><td>null</td></tr><tr><td>&hellip;</td><td>&hellip;</td><td>&hellip;</td><td>&hellip;</td><td>&hellip;</td><td>&hellip;</td><td>&hellip;</td><td>&hellip;</td><td>&hellip;</td><td>&hellip;</td><td>&hellip;</td><td>&hellip;</td><td>&hellip;</td><td>&hellip;</td><td>&hellip;</td><td>&hellip;</td><td>&hellip;</td><td>&hellip;</td><td>&hellip;</td><td>&hellip;</td><td>&hellip;</td><td>&hellip;</td><td>&hellip;</td><td>&hellip;</td><td>&hellip;</td><td>&hellip;</td><td>&hellip;</td><td>&hellip;</td><td>&hellip;</td><td>&hellip;</td><td>&hellip;</td><td>&hellip;</td><td>&hellip;</td><td>&hellip;</td><td>&hellip;</td><td>&hellip;</td><td>&hellip;</td><td>&hellip;</td><td>&hellip;</td><td>&hellip;</td><td>&hellip;</td><td>&hellip;</td><td>&hellip;</td><td>&hellip;</td><td>&hellip;</td><td>&hellip;</td><td>&hellip;</td><td>&hellip;</td><td>&hellip;</td><td>&hellip;</td><td>&hellip;</td></tr><tr><td>&quot;2024-M-ITF-USA-2024-010&quot;</td><td>&quot;Pensacola FL&quot;</td><td>&quot;Clay&quot;</td><td>32</td><td>&quot;25&quot;</td><td>2024-05-13</td><td>303</td><td>&quot;210044&quot;</td><td>&quot;5&quot;</td><td>null</td><td>&quot;Bruno Kuzuhara&quot;</td><td>&quot;U&quot;</td><td>null</td><td>&quot;USA&quot;</td><td>20.0</td><td>&quot;132054&quot;</td><td>null</td><td>null</td><td>&quot;Nathan Ponwith&quot;</td><td>&quot;U&quot;</td><td>null</td><td>&quot;USA&quot;</td><td>26.0</td><td>&quot;6-3 6-3&quot;</td><td>3</td><td>&quot;QF&quot;</td><td>null</td><td>null</td><td>null</td><td>null</td><td>null</td><td>null</td><td>null</td><td>null</td><td>null</td><td>null</td><td>null</td><td>null</td><td>null</td><td>null</td><td>null</td><td>null</td><td>null</td><td>null</td><td>null</td><td>&quot;469&quot;</td><td>&quot;92&quot;</td><td>&quot;745&quot;</td><td>&quot;34&quot;</td><td>&quot;M25 Pensacola FL_2024_futures&quot;</td><td>25000</td></tr><tr><td>&quot;2024-M-ITF-USA-2024-010&quot;</td><td>&quot;Pensacola FL&quot;</td><td>&quot;Clay&quot;</td><td>32</td><td>&quot;25&quot;</td><td>2024-05-13</td><td>304</td><td>&quot;200273&quot;</td><td>&quot;2&quot;</td><td>null</td><td>&quot;Hady Habib&quot;</td><td>&quot;R&quot;</td><td>null</td><td>&quot;LBN&quot;</td><td>25.7</td><td>&quot;132052&quot;</td><td>&quot;7&quot;</td><td>null</td><td>&quot;Christian Langmo&quot;</td><td>&quot;U&quot;</td><td>null</td><td>&quot;USA&quot;</td><td>27.9</td><td>&quot;1-6 6-3 6-3&quot;</td><td>3</td><td>&quot;QF&quot;</td><td>null</td><td>null</td><td>null</td><td>null</td><td>null</td><td>null</td><td>null</td><td>null</td><td>null</td><td>null</td><td>null</td><td>null</td><td>null</td><td>null</td><td>null</td><td>null</td><td>null</td><td>null</td><td>null</td><td>&quot;286&quot;</td><td>&quot;196&quot;</td><td>&quot;507&quot;</td><td>&quot;77&quot;</td><td>&quot;M25 Pensacola FL_2024_futures&quot;</td><td>25000</td></tr><tr><td>&quot;2024-M-ITF-USA-2024-010&quot;</td><td>&quot;Pensacola FL&quot;</td><td>&quot;Clay&quot;</td><td>32</td><td>&quot;25&quot;</td><td>2024-05-13</td><td>401</td><td>&quot;200748&quot;</td><td>&quot;4&quot;</td><td>null</td><td>&quot;Andres Andrade&quot;</td><td>&quot;R&quot;</td><td>null</td><td>&quot;ECU&quot;</td><td>25.3</td><td>&quot;106071&quot;</td><td>&quot;1&quot;</td><td>null</td><td>&quot;Bernard Tomic&quot;</td><td>&quot;R&quot;</td><td>193</td><td>&quot;AUS&quot;</td><td>31.5</td><td>&quot;RET&quot;</td><td>3</td><td>&quot;SF&quot;</td><td>null</td><td>null</td><td>null</td><td>null</td><td>null</td><td>null</td><td>null</td><td>null</td><td>null</td><td>null</td><td>null</td><td>null</td><td>null</td><td>null</td><td>null</td><td>null</td><td>null</td><td>null</td><td>null</td><td>&quot;374&quot;</td><td>&quot;133&quot;</td><td>&quot;256&quot;</td><td>&quot;230&quot;</td><td>&quot;M25 Pensacola FL_2024_futures&quot;</td><td>25000</td></tr><tr><td>&quot;2024-M-ITF-USA-2024-010&quot;</td><td>&quot;Pensacola FL&quot;</td><td>&quot;Clay&quot;</td><td>32</td><td>&quot;25&quot;</td><td>2024-05-13</td><td>402</td><td>&quot;200273&quot;</td><td>&quot;2&quot;</td><td>null</td><td>&quot;Hady Habib&quot;</td><td>&quot;R&quot;</td><td>null</td><td>&quot;LBN&quot;</td><td>25.7</td><td>&quot;210044&quot;</td><td>&quot;5&quot;</td><td>null</td><td>&quot;Bruno Kuzuhara&quot;</td><td>&quot;U&quot;</td><td>null</td><td>&quot;USA&quot;</td><td>20.0</td><td>&quot;6-4 6-4&quot;</td><td>3</td><td>&quot;SF&quot;</td><td>null</td><td>null</td><td>null</td><td>null</td><td>null</td><td>null</td><td>null</td><td>null</td><td>null</td><td>null</td><td>null</td><td>null</td><td>null</td><td>null</td><td>null</td><td>null</td><td>null</td><td>null</td><td>null</td><td>&quot;286&quot;</td><td>&quot;196&quot;</td><td>&quot;469&quot;</td><td>&quot;92&quot;</td><td>&quot;M25 Pensacola FL_2024_futures&quot;</td><td>25000</td></tr><tr><td>&quot;2024-M-ITF-USA-2024-010&quot;</td><td>&quot;Pensacola FL&quot;</td><td>&quot;Clay&quot;</td><td>32</td><td>&quot;25&quot;</td><td>2024-05-13</td><td>501</td><td>&quot;200748&quot;</td><td>&quot;4&quot;</td><td>null</td><td>&quot;Andres Andrade&quot;</td><td>&quot;R&quot;</td><td>null</td><td>&quot;ECU&quot;</td><td>25.3</td><td>&quot;200273&quot;</td><td>&quot;2&quot;</td><td>null</td><td>&quot;Hady Habib&quot;</td><td>&quot;R&quot;</td><td>null</td><td>&quot;LBN&quot;</td><td>25.7</td><td>&quot;7-6(5) 7-5&quot;</td><td>3</td><td>&quot;F&quot;</td><td>null</td><td>null</td><td>null</td><td>null</td><td>null</td><td>null</td><td>null</td><td>null</td><td>null</td><td>null</td><td>null</td><td>null</td><td>null</td><td>null</td><td>null</td><td>null</td><td>null</td><td>null</td><td>null</td><td>&quot;374&quot;</td><td>&quot;133&quot;</td><td>&quot;286&quot;</td><td>&quot;196&quot;</td><td>&quot;M25 Pensacola FL_2024_futures&quot;</td><td>25000</td></tr></tbody></table></div>"
      ],
      "text/plain": [
       "shape: (486_553, 51)\n",
       "┌────────────┬───────────┬─────────┬───────────┬───┬───────────┬───────────┬───────────┬───────────┐\n",
       "│ tourney_id ┆ tourney_n ┆ surface ┆ draw_size ┆ … ┆ loser_ran ┆ loser_ran ┆ tourney_n ┆ minimum_p │\n",
       "│ ---        ┆ ame       ┆ ---     ┆ ---       ┆   ┆ k         ┆ k_points  ┆ ame_date_ ┆ rize_pool │\n",
       "│ str        ┆ ---       ┆ str     ┆ i64       ┆   ┆ ---       ┆ ---       ┆ matches   ┆ ---       │\n",
       "│            ┆ str       ┆         ┆           ┆   ┆ str       ┆ str       ┆ ---       ┆ i64       │\n",
       "│            ┆           ┆         ┆           ┆   ┆           ┆           ┆ str       ┆           │\n",
       "╞════════════╪═══════════╪═════════╪═══════════╪═══╪═══════════╪═══════════╪═══════════╪═══════════╡\n",
       "│ 1991-M-SA- ┆ India     ┆ Hard    ┆ 32        ┆ … ┆ 805       ┆ 4         ┆ India     ┆ null      │\n",
       "│ IND-02A-19 ┆ Masters 1 ┆         ┆           ┆   ┆           ┆           ┆ Masters   ┆           │\n",
       "│ 90a        ┆           ┆         ┆           ┆   ┆           ┆           ┆ 1_1990_fu ┆           │\n",
       "│            ┆           ┆         ┆           ┆   ┆           ┆           ┆ tures     ┆           │\n",
       "│ 1991-M-SA- ┆ India     ┆ Hard    ┆ 32        ┆ … ┆ 692       ┆ 8         ┆ India     ┆ null      │\n",
       "│ IND-02A-19 ┆ Masters 1 ┆         ┆           ┆   ┆           ┆           ┆ Masters   ┆           │\n",
       "│ 90a        ┆           ┆         ┆           ┆   ┆           ┆           ┆ 1_1990_fu ┆           │\n",
       "│            ┆           ┆         ┆           ┆   ┆           ┆           ┆ tures     ┆           │\n",
       "│ 1991-M-SA- ┆ India     ┆ Hard    ┆ 32        ┆ … ┆ 862       ┆ 3         ┆ India     ┆ null      │\n",
       "│ IND-02A-19 ┆ Masters 1 ┆         ┆           ┆   ┆           ┆           ┆ Masters   ┆           │\n",
       "│ 90a        ┆           ┆         ┆           ┆   ┆           ┆           ┆ 1_1990_fu ┆           │\n",
       "│            ┆           ┆         ┆           ┆   ┆           ┆           ┆ tures     ┆           │\n",
       "│ 1991-M-SA- ┆ India     ┆ Hard    ┆ 32        ┆ … ┆ 588       ┆ 14        ┆ India     ┆ null      │\n",
       "│ IND-02A-19 ┆ Masters 1 ┆         ┆           ┆   ┆           ┆           ┆ Masters   ┆           │\n",
       "│ 90a        ┆           ┆         ┆           ┆   ┆           ┆           ┆ 1_1990_fu ┆           │\n",
       "│            ┆           ┆         ┆           ┆   ┆           ┆           ┆ tures     ┆           │\n",
       "│ 1991-M-SA- ┆ India     ┆ Hard    ┆ 32        ┆ … ┆ 862       ┆ 3         ┆ India     ┆ null      │\n",
       "│ IND-02A-19 ┆ Masters 1 ┆         ┆           ┆   ┆           ┆           ┆ Masters   ┆           │\n",
       "│ 90a        ┆           ┆         ┆           ┆   ┆           ┆           ┆ 1_1990_fu ┆           │\n",
       "│            ┆           ┆         ┆           ┆   ┆           ┆           ┆ tures     ┆           │\n",
       "│ …          ┆ …         ┆ …       ┆ …         ┆ … ┆ …         ┆ …         ┆ …         ┆ …         │\n",
       "│ 2024-M-ITF ┆ Pensacola ┆ Clay    ┆ 32        ┆ … ┆ 745       ┆ 34        ┆ M25       ┆ 25000     │\n",
       "│ -USA-2024- ┆ FL        ┆         ┆           ┆   ┆           ┆           ┆ Pensacola ┆           │\n",
       "│ 010        ┆           ┆         ┆           ┆   ┆           ┆           ┆ FL_2024_f ┆           │\n",
       "│            ┆           ┆         ┆           ┆   ┆           ┆           ┆ utures    ┆           │\n",
       "│ 2024-M-ITF ┆ Pensacola ┆ Clay    ┆ 32        ┆ … ┆ 507       ┆ 77        ┆ M25       ┆ 25000     │\n",
       "│ -USA-2024- ┆ FL        ┆         ┆           ┆   ┆           ┆           ┆ Pensacola ┆           │\n",
       "│ 010        ┆           ┆         ┆           ┆   ┆           ┆           ┆ FL_2024_f ┆           │\n",
       "│            ┆           ┆         ┆           ┆   ┆           ┆           ┆ utures    ┆           │\n",
       "│ 2024-M-ITF ┆ Pensacola ┆ Clay    ┆ 32        ┆ … ┆ 256       ┆ 230       ┆ M25       ┆ 25000     │\n",
       "│ -USA-2024- ┆ FL        ┆         ┆           ┆   ┆           ┆           ┆ Pensacola ┆           │\n",
       "│ 010        ┆           ┆         ┆           ┆   ┆           ┆           ┆ FL_2024_f ┆           │\n",
       "│            ┆           ┆         ┆           ┆   ┆           ┆           ┆ utures    ┆           │\n",
       "│ 2024-M-ITF ┆ Pensacola ┆ Clay    ┆ 32        ┆ … ┆ 469       ┆ 92        ┆ M25       ┆ 25000     │\n",
       "│ -USA-2024- ┆ FL        ┆         ┆           ┆   ┆           ┆           ┆ Pensacola ┆           │\n",
       "│ 010        ┆           ┆         ┆           ┆   ┆           ┆           ┆ FL_2024_f ┆           │\n",
       "│            ┆           ┆         ┆           ┆   ┆           ┆           ┆ utures    ┆           │\n",
       "│ 2024-M-ITF ┆ Pensacola ┆ Clay    ┆ 32        ┆ … ┆ 286       ┆ 196       ┆ M25       ┆ 25000     │\n",
       "│ -USA-2024- ┆ FL        ┆         ┆           ┆   ┆           ┆           ┆ Pensacola ┆           │\n",
       "│ 010        ┆           ┆         ┆           ┆   ┆           ┆           ┆ FL_2024_f ┆           │\n",
       "│            ┆           ┆         ┆           ┆   ┆           ┆           ┆ utures    ┆           │\n",
       "└────────────┴───────────┴─────────┴───────────┴───┴───────────┴───────────┴───────────┴───────────┘"
      ]
     },
     "execution_count": 17,
     "metadata": {},
     "output_type": "execute_result"
    }
   ],
   "source": [
    "#Creazione di colonna dove mettere il montepremi con ciclo for aggregato\n",
    "\n",
    "# Liste per salvare i risultati\n",
    "new_values = []\n",
    "updated_col1 = []\n",
    "\n",
    "# Itera su tutte le righe\n",
    "for value in matches_futures[\"tourney_name\"]:\n",
    "    if value.startswith(\"M\") and len(value) > 1 and value[1:].split()[0].isdigit():  # Controlla 'W' e numero\n",
    "        parts = value.split(maxsplit=1)  # Dividi al primo spazio\n",
    "        new_values.append(int(parts[0][1:]) * 1000)  # Moltiplica il numero per 1000\n",
    "        updated_col1.append(parts[1] if len(parts) > 1 else None)  # Rimuovi 'W<num>' e mantieni il resto\n",
    "    else:\n",
    "        new_values.append(None)  # Altrimenti, None nella nuova colonna\n",
    "        updated_col1.append(value)  # Mantieni il valore originale\n",
    "\n",
    "# Aggiorna il DataFrame con le due colonne\n",
    "matches_futures = matches_futures.with_columns([\n",
    "    pl.Series(\"tourney_name\", updated_col1),\n",
    "    pl.Series(\"minimum_prize_pool\", new_values),\n",
    "])\n",
    "matches_futures"
   ]
  },
  {
   "cell_type": "code",
   "execution_count": 18,
   "metadata": {},
   "outputs": [
    {
     "data": {
      "text/html": [
       "<div><style>\n",
       ".dataframe > thead > tr,\n",
       ".dataframe > tbody > tr {\n",
       "  text-align: right;\n",
       "  white-space: pre-wrap;\n",
       "}\n",
       "</style>\n",
       "<small>shape: (14_687, 7)</small><table border=\"1\" class=\"dataframe\"><thead><tr><th>tourney_name</th><th>surface</th><th>draw_size</th><th>tourney_level</th><th>tourney_date</th><th>tourney_name_date_matches</th><th>best_of</th></tr><tr><td>str</td><td>str</td><td>i64</td><td>str</td><td>date</td><td>str</td><td>i64</td></tr></thead><tbody><tr><td>&quot;India F5&quot;</td><td>&quot;Hard&quot;</td><td>32</td><td>&quot;S&quot;</td><td>2003-03-24</td><td>&quot;India F5_2003_futures&quot;</td><td>3</td></tr><tr><td>&quot;Turkey 2 4&quot;</td><td>&quot;Hard&quot;</td><td>32</td><td>&quot;S&quot;</td><td>2000-05-29</td><td>&quot;Turkey 2 4_2000_futures&quot;</td><td>3</td></tr><tr><td>&quot;Korea Rep F2&quot;</td><td>&quot;Hard&quot;</td><td>32</td><td>&quot;S&quot;</td><td>2007-04-30</td><td>&quot;Korea Rep F2_2007_futures&quot;</td><td>3</td></tr><tr><td>&quot;Portugal 2 2&quot;</td><td>&quot;Clay&quot;</td><td>24</td><td>&quot;S&quot;</td><td>2002-07-15</td><td>&quot;Portugal 2 2_2002_futures&quot;</td><td>3</td></tr><tr><td>&quot;USA F9&quot;</td><td>&quot;Clay&quot;</td><td>32</td><td>&quot;S&quot;</td><td>2007-04-30</td><td>&quot;USA F9_2007_futures&quot;</td><td>3</td></tr><tr><td>&hellip;</td><td>&hellip;</td><td>&hellip;</td><td>&hellip;</td><td>&hellip;</td><td>&hellip;</td><td>&hellip;</td></tr><tr><td>&quot;Germany F8&quot;</td><td>&quot;Clay&quot;</td><td>32</td><td>&quot;S&quot;</td><td>2017-07-17</td><td>&quot;Germany F8_2017_futures&quot;</td><td>3</td></tr><tr><td>&quot;Romania F4&quot;</td><td>&quot;Clay&quot;</td><td>32</td><td>&quot;S&quot;</td><td>2009-05-25</td><td>&quot;Romania F4_2009_futures&quot;</td><td>3</td></tr><tr><td>&quot;Hungary F5&quot;</td><td>&quot;Clay&quot;</td><td>32</td><td>&quot;S&quot;</td><td>2016-09-12</td><td>&quot;Hungary F5_2016_futures&quot;</td><td>3</td></tr><tr><td>&quot;Caslano&quot;</td><td>&quot;Clay&quot;</td><td>32</td><td>&quot;15&quot;</td><td>2023-08-21</td><td>&quot;M15 Caslano_2023_futures&quot;</td><td>3</td></tr><tr><td>&quot;Thailand Bangladesh Masters 4&quot;</td><td>&quot;Hard&quot;</td><td>32</td><td>&quot;S&quot;</td><td>1993-10-30</td><td>&quot;Thailand Bangladesh Masters 4_…</td><td>3</td></tr></tbody></table></div>"
      ],
      "text/plain": [
       "shape: (14_687, 7)\n",
       "┌──────────────┬─────────┬───────────┬───────────────┬──────────────┬────────────────────┬─────────┐\n",
       "│ tourney_name ┆ surface ┆ draw_size ┆ tourney_level ┆ tourney_date ┆ tourney_name_date_ ┆ best_of │\n",
       "│ ---          ┆ ---     ┆ ---       ┆ ---           ┆ ---          ┆ matches            ┆ ---     │\n",
       "│ str          ┆ str     ┆ i64       ┆ str           ┆ date         ┆ ---                ┆ i64     │\n",
       "│              ┆         ┆           ┆               ┆              ┆ str                ┆         │\n",
       "╞══════════════╪═════════╪═══════════╪═══════════════╪══════════════╪════════════════════╪═════════╡\n",
       "│ India F5     ┆ Hard    ┆ 32        ┆ S             ┆ 2003-03-24   ┆ India              ┆ 3       │\n",
       "│              ┆         ┆           ┆               ┆              ┆ F5_2003_futures    ┆         │\n",
       "│ Turkey 2 4   ┆ Hard    ┆ 32        ┆ S             ┆ 2000-05-29   ┆ Turkey 2           ┆ 3       │\n",
       "│              ┆         ┆           ┆               ┆              ┆ 4_2000_futures     ┆         │\n",
       "│ Korea Rep F2 ┆ Hard    ┆ 32        ┆ S             ┆ 2007-04-30   ┆ Korea Rep          ┆ 3       │\n",
       "│              ┆         ┆           ┆               ┆              ┆ F2_2007_futures    ┆         │\n",
       "│ Portugal 2 2 ┆ Clay    ┆ 24        ┆ S             ┆ 2002-07-15   ┆ Portugal 2         ┆ 3       │\n",
       "│              ┆         ┆           ┆               ┆              ┆ 2_2002_futures     ┆         │\n",
       "│ USA F9       ┆ Clay    ┆ 32        ┆ S             ┆ 2007-04-30   ┆ USA                ┆ 3       │\n",
       "│              ┆         ┆           ┆               ┆              ┆ F9_2007_futures    ┆         │\n",
       "│ …            ┆ …       ┆ …         ┆ …             ┆ …            ┆ …                  ┆ …       │\n",
       "│ Germany F8   ┆ Clay    ┆ 32        ┆ S             ┆ 2017-07-17   ┆ Germany            ┆ 3       │\n",
       "│              ┆         ┆           ┆               ┆              ┆ F8_2017_futures    ┆         │\n",
       "│ Romania F4   ┆ Clay    ┆ 32        ┆ S             ┆ 2009-05-25   ┆ Romania            ┆ 3       │\n",
       "│              ┆         ┆           ┆               ┆              ┆ F4_2009_futures    ┆         │\n",
       "│ Hungary F5   ┆ Clay    ┆ 32        ┆ S             ┆ 2016-09-12   ┆ Hungary            ┆ 3       │\n",
       "│              ┆         ┆           ┆               ┆              ┆ F5_2016_futures    ┆         │\n",
       "│ Caslano      ┆ Clay    ┆ 32        ┆ 15            ┆ 2023-08-21   ┆ M15 Caslano_2023_f ┆ 3       │\n",
       "│              ┆         ┆           ┆               ┆              ┆ utures             ┆         │\n",
       "│ Thailand     ┆ Hard    ┆ 32        ┆ S             ┆ 1993-10-30   ┆ Thailand           ┆ 3       │\n",
       "│ Bangladesh   ┆         ┆           ┆               ┆              ┆ Bangladesh Masters ┆         │\n",
       "│ Masters 4    ┆         ┆           ┆               ┆              ┆ 4_…                ┆         │\n",
       "└──────────────┴─────────┴───────────┴───────────────┴──────────────┴────────────────────┴─────────┘"
      ]
     },
     "execution_count": 18,
     "metadata": {},
     "output_type": "execute_result"
    }
   ],
   "source": [
    "tourney_futures=matches_futures[['tourney_name', 'surface', 'draw_size', 'tourney_level', 'tourney_date', 'tourney_name_date_matches',\"best_of\"]]\n",
    "\n",
    "tourney_futures=tourney_futures.unique('tourney_name_date_matches')\n",
    "tourney_futures"
   ]
  },
  {
   "cell_type": "code",
   "execution_count": 19,
   "metadata": {},
   "outputs": [
    {
     "data": {
      "text/html": [
       "<div><style>\n",
       ".dataframe > thead > tr,\n",
       ".dataframe > tbody > tr {\n",
       "  text-align: right;\n",
       "  white-space: pre-wrap;\n",
       "}\n",
       "</style>\n",
       "<small>shape: (593_885, 50)</small><table border=\"1\" class=\"dataframe\"><thead><tr><th>tourney_id</th><th>tourney_name</th><th>surface</th><th>draw_size</th><th>tourney_level</th><th>tourney_date</th><th>match_num</th><th>winner_id</th><th>winner_seed</th><th>winner_entry</th><th>winner_name</th><th>winner_hand</th><th>winner_ht</th><th>winner_ioc</th><th>winner_age</th><th>loser_id</th><th>loser_seed</th><th>loser_entry</th><th>loser_name</th><th>loser_hand</th><th>loser_ht</th><th>loser_ioc</th><th>loser_age</th><th>score</th><th>best_of</th><th>round</th><th>minutes</th><th>w_ace</th><th>w_df</th><th>w_svpt</th><th>w_1stIn</th><th>w_1stWon</th><th>w_2ndWon</th><th>w_SvGms</th><th>w_bpSaved</th><th>w_bpFaced</th><th>l_ace</th><th>l_df</th><th>l_svpt</th><th>l_1stIn</th><th>l_1stWon</th><th>l_2ndWon</th><th>l_SvGms</th><th>l_bpSaved</th><th>l_bpFaced</th><th>winner_rank</th><th>winner_rank_points</th><th>loser_rank</th><th>loser_rank_points</th><th>tourney_name_date_matches</th></tr><tr><td>str</td><td>str</td><td>str</td><td>i64</td><td>str</td><td>date</td><td>i64</td><td>str</td><td>str</td><td>str</td><td>str</td><td>str</td><td>i64</td><td>str</td><td>f64</td><td>str</td><td>str</td><td>str</td><td>str</td><td>str</td><td>i64</td><td>str</td><td>f64</td><td>str</td><td>i64</td><td>str</td><td>str</td><td>str</td><td>str</td><td>str</td><td>str</td><td>str</td><td>str</td><td>str</td><td>str</td><td>str</td><td>str</td><td>str</td><td>str</td><td>str</td><td>str</td><td>str</td><td>str</td><td>str</td><td>str</td><td>str</td><td>str</td><td>str</td><td>str</td><td>str</td></tr></thead><tbody><tr><td>&quot;1968-1004&quot;</td><td>&quot;Bournemouth&quot;</td><td>&quot;Clay&quot;</td><td>32</td><td>&quot;W&quot;</td><td>1968-04-22</td><td>201</td><td>&quot;200810&quot;</td><td>&quot;5&quot;</td><td>null</td><td>&quot;Annette Van Zyl&quot;</td><td>&quot;R&quot;</td><td>180</td><td>&quot;RSA&quot;</td><td>24.5</td><td>&quot;201114&quot;</td><td>null</td><td>null</td><td>&quot;Robin Lloyd&quot;</td><td>&quot;U&quot;</td><td>null</td><td>&quot;GBR&quot;</td><td>24.1</td><td>&quot;6-3 6-4&quot;</td><td>3</td><td>&quot;Q1&quot;</td><td>null</td><td>null</td><td>null</td><td>null</td><td>null</td><td>null</td><td>null</td><td>null</td><td>null</td><td>null</td><td>null</td><td>null</td><td>null</td><td>null</td><td>null</td><td>null</td><td>null</td><td>null</td><td>null</td><td>null</td><td>null</td><td>null</td><td>null</td><td>&quot;Bournemouth_1968_qualifiers_it…</td></tr><tr><td>&quot;1968-1004&quot;</td><td>&quot;Bournemouth&quot;</td><td>&quot;Clay&quot;</td><td>32</td><td>&quot;W&quot;</td><td>1968-04-22</td><td>202</td><td>&quot;223881&quot;</td><td>null</td><td>null</td><td>&quot;Dianne Bridger&quot;</td><td>&quot;U&quot;</td><td>null</td><td>&quot;GBR&quot;</td><td>null</td><td>&quot;213882&quot;</td><td>null</td><td>null</td><td>&quot;Lena Reichel&quot;</td><td>&quot;U&quot;</td><td>null</td><td>&quot;AUT&quot;</td><td>-29.0</td><td>&quot;6-1 8-6&quot;</td><td>3</td><td>&quot;Q1&quot;</td><td>null</td><td>null</td><td>null</td><td>null</td><td>null</td><td>null</td><td>null</td><td>null</td><td>null</td><td>null</td><td>null</td><td>null</td><td>null</td><td>null</td><td>null</td><td>null</td><td>null</td><td>null</td><td>null</td><td>null</td><td>null</td><td>null</td><td>null</td><td>&quot;Bournemouth_1968_qualifiers_it…</td></tr><tr><td>&quot;1968-1004&quot;</td><td>&quot;Bournemouth&quot;</td><td>&quot;Clay&quot;</td><td>32</td><td>&quot;W&quot;</td><td>1968-04-22</td><td>203</td><td>&quot;216633&quot;</td><td>null</td><td>null</td><td>&quot;Mary Mcanally&quot;</td><td>&quot;U&quot;</td><td>null</td><td>&quot;GBR&quot;</td><td>23.0</td><td>&quot;223997&quot;</td><td>null</td><td>null</td><td>&quot;Sandra Okin&quot;</td><td>&quot;U&quot;</td><td>null</td><td>&quot;GBR&quot;</td><td>null</td><td>&quot;3-6 6-4 6-2&quot;</td><td>3</td><td>&quot;Q1&quot;</td><td>null</td><td>null</td><td>null</td><td>null</td><td>null</td><td>null</td><td>null</td><td>null</td><td>null</td><td>null</td><td>null</td><td>null</td><td>null</td><td>null</td><td>null</td><td>null</td><td>null</td><td>null</td><td>null</td><td>null</td><td>null</td><td>null</td><td>null</td><td>&quot;Bournemouth_1968_qualifiers_it…</td></tr><tr><td>&quot;1968-1004&quot;</td><td>&quot;Bournemouth&quot;</td><td>&quot;Clay&quot;</td><td>32</td><td>&quot;W&quot;</td><td>1968-04-22</td><td>204</td><td>&quot;223659&quot;</td><td>null</td><td>null</td><td>&quot;Heather Allen&quot;</td><td>&quot;U&quot;</td><td>null</td><td>&quot;GBR&quot;</td><td>3.8</td><td>&quot;224029&quot;</td><td>null</td><td>null</td><td>&quot;Jane Poynder&quot;</td><td>&quot;U&quot;</td><td>null</td><td>&quot;GBR&quot;</td><td>null</td><td>&quot;6-3 6-4&quot;</td><td>3</td><td>&quot;Q1&quot;</td><td>null</td><td>null</td><td>null</td><td>null</td><td>null</td><td>null</td><td>null</td><td>null</td><td>null</td><td>null</td><td>null</td><td>null</td><td>null</td><td>null</td><td>null</td><td>null</td><td>null</td><td>null</td><td>null</td><td>null</td><td>null</td><td>null</td><td>null</td><td>&quot;Bournemouth_1968_qualifiers_it…</td></tr><tr><td>&quot;1968-1004&quot;</td><td>&quot;Bournemouth&quot;</td><td>&quot;Clay&quot;</td><td>32</td><td>&quot;W&quot;</td><td>1968-04-22</td><td>205</td><td>&quot;201121&quot;</td><td>null</td><td>null</td><td>&quot;Sue Tutt&quot;</td><td>&quot;U&quot;</td><td>null</td><td>&quot;GBR&quot;</td><td>null</td><td>&quot;201117&quot;</td><td>null</td><td>null</td><td>&quot;Margaret Harris&quot;</td><td>&quot;R&quot;</td><td>null</td><td>&quot;AUS&quot;</td><td>23.1</td><td>&quot;2-6 6-1 6-1&quot;</td><td>3</td><td>&quot;Q1&quot;</td><td>null</td><td>null</td><td>null</td><td>null</td><td>null</td><td>null</td><td>null</td><td>null</td><td>null</td><td>null</td><td>null</td><td>null</td><td>null</td><td>null</td><td>null</td><td>null</td><td>null</td><td>null</td><td>null</td><td>null</td><td>null</td><td>null</td><td>null</td><td>&quot;Bournemouth_1968_qualifiers_it…</td></tr><tr><td>&hellip;</td><td>&hellip;</td><td>&hellip;</td><td>&hellip;</td><td>&hellip;</td><td>&hellip;</td><td>&hellip;</td><td>&hellip;</td><td>&hellip;</td><td>&hellip;</td><td>&hellip;</td><td>&hellip;</td><td>&hellip;</td><td>&hellip;</td><td>&hellip;</td><td>&hellip;</td><td>&hellip;</td><td>&hellip;</td><td>&hellip;</td><td>&hellip;</td><td>&hellip;</td><td>&hellip;</td><td>&hellip;</td><td>&hellip;</td><td>&hellip;</td><td>&hellip;</td><td>&hellip;</td><td>&hellip;</td><td>&hellip;</td><td>&hellip;</td><td>&hellip;</td><td>&hellip;</td><td>&hellip;</td><td>&hellip;</td><td>&hellip;</td><td>&hellip;</td><td>&hellip;</td><td>&hellip;</td><td>&hellip;</td><td>&hellip;</td><td>&hellip;</td><td>&hellip;</td><td>&hellip;</td><td>&hellip;</td><td>&hellip;</td><td>&hellip;</td><td>&hellip;</td><td>&hellip;</td><td>&hellip;</td><td>&hellip;</td></tr><tr><td>&quot;2024-2051&quot;</td><td>&quot;Midland 125&quot;</td><td>&quot;Hard&quot;</td><td>32</td><td>&quot;C&quot;</td><td>2024-11-04</td><td>262</td><td>&quot;211844&quot;</td><td>&quot;6&quot;</td><td>null</td><td>&quot;Haruka Kaji&quot;</td><td>&quot;R&quot;</td><td>null</td><td>&quot;JPN&quot;</td><td>30.1</td><td>&quot;202478&quot;</td><td>null</td><td>null</td><td>&quot;Tara Moore&quot;</td><td>&quot;R&quot;</td><td>163</td><td>&quot;GBR&quot;</td><td>32.2</td><td>&quot;6-0 6-2&quot;</td><td>3</td><td>&quot;Q1&quot;</td><td>&quot;63&quot;</td><td>&quot;5&quot;</td><td>&quot;1&quot;</td><td>&quot;45&quot;</td><td>&quot;25&quot;</td><td>&quot;18&quot;</td><td>&quot;12&quot;</td><td>&quot;7&quot;</td><td>&quot;2&quot;</td><td>&quot;3&quot;</td><td>&quot;0&quot;</td><td>&quot;10&quot;</td><td>&quot;49&quot;</td><td>&quot;16&quot;</td><td>&quot;9&quot;</td><td>&quot;9&quot;</td><td>&quot;7&quot;</td><td>&quot;6&quot;</td><td>&quot;12&quot;</td><td>&quot;282&quot;</td><td>&quot;232&quot;</td><td>&quot;1121&quot;</td><td>&quot;12&quot;</td><td>&quot;Midland 125_2024_qualifiers_it…</td></tr><tr><td>&quot;2024-2051&quot;</td><td>&quot;Midland 125&quot;</td><td>&quot;Hard&quot;</td><td>32</td><td>&quot;C&quot;</td><td>2024-11-04</td><td>261</td><td>&quot;215992&quot;</td><td>null</td><td>null</td><td>&quot;Whitney Osuigwe&quot;</td><td>&quot;R&quot;</td><td>168</td><td>&quot;USA&quot;</td><td>22.5</td><td>&quot;203514&quot;</td><td>&quot;3&quot;</td><td>null</td><td>&quot;Katarzyna Kawa&quot;</td><td>&quot;R&quot;</td><td>178</td><td>&quot;POL&quot;</td><td>31.9</td><td>&quot;6-3 6-0&quot;</td><td>3</td><td>&quot;Q1&quot;</td><td>&quot;65&quot;</td><td>&quot;0&quot;</td><td>&quot;0&quot;</td><td>&quot;44&quot;</td><td>&quot;36&quot;</td><td>&quot;28&quot;</td><td>&quot;4&quot;</td><td>&quot;8&quot;</td><td>&quot;0&quot;</td><td>&quot;1&quot;</td><td>&quot;0&quot;</td><td>&quot;0&quot;</td><td>&quot;47&quot;</td><td>&quot;28&quot;</td><td>&quot;13&quot;</td><td>&quot;9&quot;</td><td>&quot;7&quot;</td><td>&quot;3&quot;</td><td>&quot;8&quot;</td><td>&quot;379&quot;</td><td>&quot;160&quot;</td><td>&quot;258&quot;</td><td>&quot;270&quot;</td><td>&quot;Midland 125_2024_qualifiers_it…</td></tr><tr><td>&quot;2024-2051&quot;</td><td>&quot;Midland 125&quot;</td><td>&quot;Hard&quot;</td><td>32</td><td>&quot;C&quot;</td><td>2024-11-04</td><td>260</td><td>&quot;211222&quot;</td><td>null</td><td>null</td><td>&quot;Jamie Loeb&quot;</td><td>&quot;R&quot;</td><td>168</td><td>&quot;USA&quot;</td><td>29.6</td><td>&quot;214684&quot;</td><td>&quot;7&quot;</td><td>null</td><td>&quot;Katherine Sebov&quot;</td><td>&quot;R&quot;</td><td>173</td><td>&quot;CAN&quot;</td><td>25.8</td><td>&quot;6-2 5-7 4-1 RET&quot;</td><td>3</td><td>&quot;Q1&quot;</td><td>&quot;134&quot;</td><td>&quot;8&quot;</td><td>&quot;6&quot;</td><td>&quot;85&quot;</td><td>&quot;39&quot;</td><td>&quot;25&quot;</td><td>&quot;21&quot;</td><td>&quot;12&quot;</td><td>&quot;8&quot;</td><td>&quot;13&quot;</td><td>&quot;0&quot;</td><td>&quot;4&quot;</td><td>&quot;103&quot;</td><td>&quot;87&quot;</td><td>&quot;41&quot;</td><td>&quot;7&quot;</td><td>&quot;13&quot;</td><td>&quot;7&quot;</td><td>&quot;15&quot;</td><td>&quot;358&quot;</td><td>&quot;172&quot;</td><td>&quot;349&quot;</td><td>&quot;180&quot;</td><td>&quot;Midland 125_2024_qualifiers_it…</td></tr><tr><td>&quot;2024-2051&quot;</td><td>&quot;Midland 125&quot;</td><td>&quot;Hard&quot;</td><td>32</td><td>&quot;C&quot;</td><td>2024-11-04</td><td>259</td><td>&quot;203513&quot;</td><td>&quot;4&quot;</td><td>null</td><td>&quot;Robin Anderson&quot;</td><td>&quot;R&quot;</td><td>160</td><td>&quot;USA&quot;</td><td>31.5</td><td>&quot;201524&quot;</td><td>null</td><td>null</td><td>&quot;Urszula Radwanska&quot;</td><td>&quot;R&quot;</td><td>177</td><td>&quot;POL&quot;</td><td>33.9</td><td>&quot;6-3 6-4&quot;</td><td>3</td><td>&quot;Q1&quot;</td><td>&quot;91&quot;</td><td>&quot;3&quot;</td><td>&quot;2&quot;</td><td>&quot;60&quot;</td><td>&quot;35&quot;</td><td>&quot;22&quot;</td><td>&quot;18&quot;</td><td>&quot;10&quot;</td><td>&quot;3&quot;</td><td>&quot;5&quot;</td><td>&quot;1&quot;</td><td>&quot;2&quot;</td><td>&quot;49&quot;</td><td>&quot;32&quot;</td><td>&quot;19&quot;</td><td>&quot;9&quot;</td><td>&quot;9&quot;</td><td>&quot;2&quot;</td><td>&quot;6&quot;</td><td>&quot;270&quot;</td><td>&quot;250&quot;</td><td>&quot;432&quot;</td><td>&quot;137&quot;</td><td>&quot;Midland 125_2024_qualifiers_it…</td></tr><tr><td>&quot;2024-2051&quot;</td><td>&quot;Midland 125&quot;</td><td>&quot;Hard&quot;</td><td>32</td><td>&quot;C&quot;</td><td>2024-11-04</td><td>258</td><td>&quot;264151&quot;</td><td>null</td><td>&quot;WC&quot;</td><td>&quot;Anna Frey&quot;</td><td>&quot;U&quot;</td><td>null</td><td>&quot;USA&quot;</td><td>null</td><td>&quot;211342&quot;</td><td>&quot;8&quot;</td><td>null</td><td>&quot;Gabriela Lee&quot;</td><td>&quot;L&quot;</td><td>null</td><td>&quot;ROU&quot;</td><td>29.2</td><td>&quot;6-4 6-2&quot;</td><td>3</td><td>&quot;Q1&quot;</td><td>&quot;68&quot;</td><td>&quot;3&quot;</td><td>&quot;4&quot;</td><td>&quot;47&quot;</td><td>&quot;35&quot;</td><td>&quot;23&quot;</td><td>&quot;7&quot;</td><td>&quot;9&quot;</td><td>&quot;0&quot;</td><td>&quot;2&quot;</td><td>&quot;2&quot;</td><td>&quot;3&quot;</td><td>&quot;50&quot;</td><td>&quot;32&quot;</td><td>&quot;16&quot;</td><td>&quot;7&quot;</td><td>&quot;9&quot;</td><td>&quot;3&quot;</td><td>&quot;8&quot;</td><td>&quot;852&quot;</td><td>&quot;29&quot;</td><td>&quot;309&quot;</td><td>&quot;204&quot;</td><td>&quot;Midland 125_2024_qualifiers_it…</td></tr></tbody></table></div>"
      ],
      "text/plain": [
       "shape: (593_885, 50)\n",
       "┌────────────┬───────────┬─────────┬───────────┬───┬───────────┬───────────┬───────────┬───────────┐\n",
       "│ tourney_id ┆ tourney_n ┆ surface ┆ draw_size ┆ … ┆ winner_ra ┆ loser_ran ┆ loser_ran ┆ tourney_n │\n",
       "│ ---        ┆ ame       ┆ ---     ┆ ---       ┆   ┆ nk_points ┆ k         ┆ k_points  ┆ ame_date_ │\n",
       "│ str        ┆ ---       ┆ str     ┆ i64       ┆   ┆ ---       ┆ ---       ┆ ---       ┆ matches   │\n",
       "│            ┆ str       ┆         ┆           ┆   ┆ str       ┆ str       ┆ str       ┆ ---       │\n",
       "│            ┆           ┆         ┆           ┆   ┆           ┆           ┆           ┆ str       │\n",
       "╞════════════╪═══════════╪═════════╪═══════════╪═══╪═══════════╪═══════════╪═══════════╪═══════════╡\n",
       "│ 1968-1004  ┆ Bournemou ┆ Clay    ┆ 32        ┆ … ┆ null      ┆ null      ┆ null      ┆ Bournemou │\n",
       "│            ┆ th        ┆         ┆           ┆   ┆           ┆           ┆           ┆ th_1968_q │\n",
       "│            ┆           ┆         ┆           ┆   ┆           ┆           ┆           ┆ ualifiers │\n",
       "│            ┆           ┆         ┆           ┆   ┆           ┆           ┆           ┆ _it…      │\n",
       "│ 1968-1004  ┆ Bournemou ┆ Clay    ┆ 32        ┆ … ┆ null      ┆ null      ┆ null      ┆ Bournemou │\n",
       "│            ┆ th        ┆         ┆           ┆   ┆           ┆           ┆           ┆ th_1968_q │\n",
       "│            ┆           ┆         ┆           ┆   ┆           ┆           ┆           ┆ ualifiers │\n",
       "│            ┆           ┆         ┆           ┆   ┆           ┆           ┆           ┆ _it…      │\n",
       "│ 1968-1004  ┆ Bournemou ┆ Clay    ┆ 32        ┆ … ┆ null      ┆ null      ┆ null      ┆ Bournemou │\n",
       "│            ┆ th        ┆         ┆           ┆   ┆           ┆           ┆           ┆ th_1968_q │\n",
       "│            ┆           ┆         ┆           ┆   ┆           ┆           ┆           ┆ ualifiers │\n",
       "│            ┆           ┆         ┆           ┆   ┆           ┆           ┆           ┆ _it…      │\n",
       "│ 1968-1004  ┆ Bournemou ┆ Clay    ┆ 32        ┆ … ┆ null      ┆ null      ┆ null      ┆ Bournemou │\n",
       "│            ┆ th        ┆         ┆           ┆   ┆           ┆           ┆           ┆ th_1968_q │\n",
       "│            ┆           ┆         ┆           ┆   ┆           ┆           ┆           ┆ ualifiers │\n",
       "│            ┆           ┆         ┆           ┆   ┆           ┆           ┆           ┆ _it…      │\n",
       "│ 1968-1004  ┆ Bournemou ┆ Clay    ┆ 32        ┆ … ┆ null      ┆ null      ┆ null      ┆ Bournemou │\n",
       "│            ┆ th        ┆         ┆           ┆   ┆           ┆           ┆           ┆ th_1968_q │\n",
       "│            ┆           ┆         ┆           ┆   ┆           ┆           ┆           ┆ ualifiers │\n",
       "│            ┆           ┆         ┆           ┆   ┆           ┆           ┆           ┆ _it…      │\n",
       "│ …          ┆ …         ┆ …       ┆ …         ┆ … ┆ …         ┆ …         ┆ …         ┆ …         │\n",
       "│ 2024-2051  ┆ Midland   ┆ Hard    ┆ 32        ┆ … ┆ 232       ┆ 1121      ┆ 12        ┆ Midland   │\n",
       "│            ┆ 125       ┆         ┆           ┆   ┆           ┆           ┆           ┆ 125_2024_ │\n",
       "│            ┆           ┆         ┆           ┆   ┆           ┆           ┆           ┆ qualifier │\n",
       "│            ┆           ┆         ┆           ┆   ┆           ┆           ┆           ┆ s_it…     │\n",
       "│ 2024-2051  ┆ Midland   ┆ Hard    ┆ 32        ┆ … ┆ 160       ┆ 258       ┆ 270       ┆ Midland   │\n",
       "│            ┆ 125       ┆         ┆           ┆   ┆           ┆           ┆           ┆ 125_2024_ │\n",
       "│            ┆           ┆         ┆           ┆   ┆           ┆           ┆           ┆ qualifier │\n",
       "│            ┆           ┆         ┆           ┆   ┆           ┆           ┆           ┆ s_it…     │\n",
       "│ 2024-2051  ┆ Midland   ┆ Hard    ┆ 32        ┆ … ┆ 172       ┆ 349       ┆ 180       ┆ Midland   │\n",
       "│            ┆ 125       ┆         ┆           ┆   ┆           ┆           ┆           ┆ 125_2024_ │\n",
       "│            ┆           ┆         ┆           ┆   ┆           ┆           ┆           ┆ qualifier │\n",
       "│            ┆           ┆         ┆           ┆   ┆           ┆           ┆           ┆ s_it…     │\n",
       "│ 2024-2051  ┆ Midland   ┆ Hard    ┆ 32        ┆ … ┆ 250       ┆ 432       ┆ 137       ┆ Midland   │\n",
       "│            ┆ 125       ┆         ┆           ┆   ┆           ┆           ┆           ┆ 125_2024_ │\n",
       "│            ┆           ┆         ┆           ┆   ┆           ┆           ┆           ┆ qualifier │\n",
       "│            ┆           ┆         ┆           ┆   ┆           ┆           ┆           ┆ s_it…     │\n",
       "│ 2024-2051  ┆ Midland   ┆ Hard    ┆ 32        ┆ … ┆ 29        ┆ 309       ┆ 204       ┆ Midland   │\n",
       "│            ┆ 125       ┆         ┆           ┆   ┆           ┆           ┆           ┆ 125_2024_ │\n",
       "│            ┆           ┆         ┆           ┆   ┆           ┆           ┆           ┆ qualifier │\n",
       "│            ┆           ┆         ┆           ┆   ┆           ┆           ┆           ┆ s_it…     │\n",
       "└────────────┴───────────┴─────────┴───────────┴───┴───────────┴───────────┴───────────┴───────────┘"
      ]
     },
     "execution_count": 19,
     "metadata": {},
     "output_type": "execute_result"
    }
   ],
   "source": [
    "matches_qualifiers_itf=import_tennis_matches(data_type=\"qualifiers_itf\",gender=\"wta\")\n",
    "\n",
    "matches_qualifiers_itf = matches_qualifiers_itf.with_columns(\n",
    "    (pl.col(\"tourney_name\") + \"_\" + pl.col(\"tourney_date\").dt.year().cast(pl.Utf8)+\"_qualifiers_itf\").alias(\"tourney_name_date_matches\")\n",
    ")\n",
    "matches_qualifiers_itf"
   ]
  },
  {
   "cell_type": "code",
   "execution_count": 20,
   "metadata": {},
   "outputs": [
    {
     "data": {
      "text/html": [
       "<div><style>\n",
       ".dataframe > thead > tr,\n",
       ".dataframe > tbody > tr {\n",
       "  text-align: right;\n",
       "  white-space: pre-wrap;\n",
       "}\n",
       "</style>\n",
       "<small>shape: (593_885, 51)</small><table border=\"1\" class=\"dataframe\"><thead><tr><th>tourney_id</th><th>tourney_name</th><th>surface</th><th>draw_size</th><th>tourney_level</th><th>tourney_date</th><th>match_num</th><th>winner_id</th><th>winner_seed</th><th>winner_entry</th><th>winner_name</th><th>winner_hand</th><th>winner_ht</th><th>winner_ioc</th><th>winner_age</th><th>loser_id</th><th>loser_seed</th><th>loser_entry</th><th>loser_name</th><th>loser_hand</th><th>loser_ht</th><th>loser_ioc</th><th>loser_age</th><th>score</th><th>best_of</th><th>round</th><th>minutes</th><th>w_ace</th><th>w_df</th><th>w_svpt</th><th>w_1stIn</th><th>w_1stWon</th><th>w_2ndWon</th><th>w_SvGms</th><th>w_bpSaved</th><th>w_bpFaced</th><th>l_ace</th><th>l_df</th><th>l_svpt</th><th>l_1stIn</th><th>l_1stWon</th><th>l_2ndWon</th><th>l_SvGms</th><th>l_bpSaved</th><th>l_bpFaced</th><th>winner_rank</th><th>winner_rank_points</th><th>loser_rank</th><th>loser_rank_points</th><th>tourney_name_date_matches</th><th>monetary_winnings</th></tr><tr><td>str</td><td>str</td><td>str</td><td>i64</td><td>str</td><td>date</td><td>i64</td><td>str</td><td>str</td><td>str</td><td>str</td><td>str</td><td>i64</td><td>str</td><td>f64</td><td>str</td><td>str</td><td>str</td><td>str</td><td>str</td><td>i64</td><td>str</td><td>f64</td><td>str</td><td>i64</td><td>str</td><td>str</td><td>str</td><td>str</td><td>str</td><td>str</td><td>str</td><td>str</td><td>str</td><td>str</td><td>str</td><td>str</td><td>str</td><td>str</td><td>str</td><td>str</td><td>str</td><td>str</td><td>str</td><td>str</td><td>str</td><td>str</td><td>str</td><td>str</td><td>str</td><td>i64</td></tr></thead><tbody><tr><td>&quot;1968-1004&quot;</td><td>&quot;Bournemouth&quot;</td><td>&quot;Clay&quot;</td><td>32</td><td>&quot;W&quot;</td><td>1968-04-22</td><td>201</td><td>&quot;200810&quot;</td><td>&quot;5&quot;</td><td>null</td><td>&quot;Annette Van Zyl&quot;</td><td>&quot;R&quot;</td><td>180</td><td>&quot;RSA&quot;</td><td>24.5</td><td>&quot;201114&quot;</td><td>null</td><td>null</td><td>&quot;Robin Lloyd&quot;</td><td>&quot;U&quot;</td><td>null</td><td>&quot;GBR&quot;</td><td>24.1</td><td>&quot;6-3 6-4&quot;</td><td>3</td><td>&quot;Q1&quot;</td><td>null</td><td>null</td><td>null</td><td>null</td><td>null</td><td>null</td><td>null</td><td>null</td><td>null</td><td>null</td><td>null</td><td>null</td><td>null</td><td>null</td><td>null</td><td>null</td><td>null</td><td>null</td><td>null</td><td>null</td><td>null</td><td>null</td><td>null</td><td>&quot;Bournemouth_1968_qualifiers_it…</td><td>null</td></tr><tr><td>&quot;1968-1004&quot;</td><td>&quot;Bournemouth&quot;</td><td>&quot;Clay&quot;</td><td>32</td><td>&quot;W&quot;</td><td>1968-04-22</td><td>202</td><td>&quot;223881&quot;</td><td>null</td><td>null</td><td>&quot;Dianne Bridger&quot;</td><td>&quot;U&quot;</td><td>null</td><td>&quot;GBR&quot;</td><td>null</td><td>&quot;213882&quot;</td><td>null</td><td>null</td><td>&quot;Lena Reichel&quot;</td><td>&quot;U&quot;</td><td>null</td><td>&quot;AUT&quot;</td><td>-29.0</td><td>&quot;6-1 8-6&quot;</td><td>3</td><td>&quot;Q1&quot;</td><td>null</td><td>null</td><td>null</td><td>null</td><td>null</td><td>null</td><td>null</td><td>null</td><td>null</td><td>null</td><td>null</td><td>null</td><td>null</td><td>null</td><td>null</td><td>null</td><td>null</td><td>null</td><td>null</td><td>null</td><td>null</td><td>null</td><td>null</td><td>&quot;Bournemouth_1968_qualifiers_it…</td><td>null</td></tr><tr><td>&quot;1968-1004&quot;</td><td>&quot;Bournemouth&quot;</td><td>&quot;Clay&quot;</td><td>32</td><td>&quot;W&quot;</td><td>1968-04-22</td><td>203</td><td>&quot;216633&quot;</td><td>null</td><td>null</td><td>&quot;Mary Mcanally&quot;</td><td>&quot;U&quot;</td><td>null</td><td>&quot;GBR&quot;</td><td>23.0</td><td>&quot;223997&quot;</td><td>null</td><td>null</td><td>&quot;Sandra Okin&quot;</td><td>&quot;U&quot;</td><td>null</td><td>&quot;GBR&quot;</td><td>null</td><td>&quot;3-6 6-4 6-2&quot;</td><td>3</td><td>&quot;Q1&quot;</td><td>null</td><td>null</td><td>null</td><td>null</td><td>null</td><td>null</td><td>null</td><td>null</td><td>null</td><td>null</td><td>null</td><td>null</td><td>null</td><td>null</td><td>null</td><td>null</td><td>null</td><td>null</td><td>null</td><td>null</td><td>null</td><td>null</td><td>null</td><td>&quot;Bournemouth_1968_qualifiers_it…</td><td>null</td></tr><tr><td>&quot;1968-1004&quot;</td><td>&quot;Bournemouth&quot;</td><td>&quot;Clay&quot;</td><td>32</td><td>&quot;W&quot;</td><td>1968-04-22</td><td>204</td><td>&quot;223659&quot;</td><td>null</td><td>null</td><td>&quot;Heather Allen&quot;</td><td>&quot;U&quot;</td><td>null</td><td>&quot;GBR&quot;</td><td>3.8</td><td>&quot;224029&quot;</td><td>null</td><td>null</td><td>&quot;Jane Poynder&quot;</td><td>&quot;U&quot;</td><td>null</td><td>&quot;GBR&quot;</td><td>null</td><td>&quot;6-3 6-4&quot;</td><td>3</td><td>&quot;Q1&quot;</td><td>null</td><td>null</td><td>null</td><td>null</td><td>null</td><td>null</td><td>null</td><td>null</td><td>null</td><td>null</td><td>null</td><td>null</td><td>null</td><td>null</td><td>null</td><td>null</td><td>null</td><td>null</td><td>null</td><td>null</td><td>null</td><td>null</td><td>null</td><td>&quot;Bournemouth_1968_qualifiers_it…</td><td>null</td></tr><tr><td>&quot;1968-1004&quot;</td><td>&quot;Bournemouth&quot;</td><td>&quot;Clay&quot;</td><td>32</td><td>&quot;W&quot;</td><td>1968-04-22</td><td>205</td><td>&quot;201121&quot;</td><td>null</td><td>null</td><td>&quot;Sue Tutt&quot;</td><td>&quot;U&quot;</td><td>null</td><td>&quot;GBR&quot;</td><td>null</td><td>&quot;201117&quot;</td><td>null</td><td>null</td><td>&quot;Margaret Harris&quot;</td><td>&quot;R&quot;</td><td>null</td><td>&quot;AUS&quot;</td><td>23.1</td><td>&quot;2-6 6-1 6-1&quot;</td><td>3</td><td>&quot;Q1&quot;</td><td>null</td><td>null</td><td>null</td><td>null</td><td>null</td><td>null</td><td>null</td><td>null</td><td>null</td><td>null</td><td>null</td><td>null</td><td>null</td><td>null</td><td>null</td><td>null</td><td>null</td><td>null</td><td>null</td><td>null</td><td>null</td><td>null</td><td>null</td><td>&quot;Bournemouth_1968_qualifiers_it…</td><td>null</td></tr><tr><td>&hellip;</td><td>&hellip;</td><td>&hellip;</td><td>&hellip;</td><td>&hellip;</td><td>&hellip;</td><td>&hellip;</td><td>&hellip;</td><td>&hellip;</td><td>&hellip;</td><td>&hellip;</td><td>&hellip;</td><td>&hellip;</td><td>&hellip;</td><td>&hellip;</td><td>&hellip;</td><td>&hellip;</td><td>&hellip;</td><td>&hellip;</td><td>&hellip;</td><td>&hellip;</td><td>&hellip;</td><td>&hellip;</td><td>&hellip;</td><td>&hellip;</td><td>&hellip;</td><td>&hellip;</td><td>&hellip;</td><td>&hellip;</td><td>&hellip;</td><td>&hellip;</td><td>&hellip;</td><td>&hellip;</td><td>&hellip;</td><td>&hellip;</td><td>&hellip;</td><td>&hellip;</td><td>&hellip;</td><td>&hellip;</td><td>&hellip;</td><td>&hellip;</td><td>&hellip;</td><td>&hellip;</td><td>&hellip;</td><td>&hellip;</td><td>&hellip;</td><td>&hellip;</td><td>&hellip;</td><td>&hellip;</td><td>&hellip;</td><td>&hellip;</td></tr><tr><td>&quot;2024-2051&quot;</td><td>&quot;Midland 125&quot;</td><td>&quot;Hard&quot;</td><td>32</td><td>&quot;C&quot;</td><td>2024-11-04</td><td>262</td><td>&quot;211844&quot;</td><td>&quot;6&quot;</td><td>null</td><td>&quot;Haruka Kaji&quot;</td><td>&quot;R&quot;</td><td>null</td><td>&quot;JPN&quot;</td><td>30.1</td><td>&quot;202478&quot;</td><td>null</td><td>null</td><td>&quot;Tara Moore&quot;</td><td>&quot;R&quot;</td><td>163</td><td>&quot;GBR&quot;</td><td>32.2</td><td>&quot;6-0 6-2&quot;</td><td>3</td><td>&quot;Q1&quot;</td><td>&quot;63&quot;</td><td>&quot;5&quot;</td><td>&quot;1&quot;</td><td>&quot;45&quot;</td><td>&quot;25&quot;</td><td>&quot;18&quot;</td><td>&quot;12&quot;</td><td>&quot;7&quot;</td><td>&quot;2&quot;</td><td>&quot;3&quot;</td><td>&quot;0&quot;</td><td>&quot;10&quot;</td><td>&quot;49&quot;</td><td>&quot;16&quot;</td><td>&quot;9&quot;</td><td>&quot;9&quot;</td><td>&quot;7&quot;</td><td>&quot;6&quot;</td><td>&quot;12&quot;</td><td>&quot;282&quot;</td><td>&quot;232&quot;</td><td>&quot;1121&quot;</td><td>&quot;12&quot;</td><td>&quot;Midland 125_2024_qualifiers_it…</td><td>null</td></tr><tr><td>&quot;2024-2051&quot;</td><td>&quot;Midland 125&quot;</td><td>&quot;Hard&quot;</td><td>32</td><td>&quot;C&quot;</td><td>2024-11-04</td><td>261</td><td>&quot;215992&quot;</td><td>null</td><td>null</td><td>&quot;Whitney Osuigwe&quot;</td><td>&quot;R&quot;</td><td>168</td><td>&quot;USA&quot;</td><td>22.5</td><td>&quot;203514&quot;</td><td>&quot;3&quot;</td><td>null</td><td>&quot;Katarzyna Kawa&quot;</td><td>&quot;R&quot;</td><td>178</td><td>&quot;POL&quot;</td><td>31.9</td><td>&quot;6-3 6-0&quot;</td><td>3</td><td>&quot;Q1&quot;</td><td>&quot;65&quot;</td><td>&quot;0&quot;</td><td>&quot;0&quot;</td><td>&quot;44&quot;</td><td>&quot;36&quot;</td><td>&quot;28&quot;</td><td>&quot;4&quot;</td><td>&quot;8&quot;</td><td>&quot;0&quot;</td><td>&quot;1&quot;</td><td>&quot;0&quot;</td><td>&quot;0&quot;</td><td>&quot;47&quot;</td><td>&quot;28&quot;</td><td>&quot;13&quot;</td><td>&quot;9&quot;</td><td>&quot;7&quot;</td><td>&quot;3&quot;</td><td>&quot;8&quot;</td><td>&quot;379&quot;</td><td>&quot;160&quot;</td><td>&quot;258&quot;</td><td>&quot;270&quot;</td><td>&quot;Midland 125_2024_qualifiers_it…</td><td>null</td></tr><tr><td>&quot;2024-2051&quot;</td><td>&quot;Midland 125&quot;</td><td>&quot;Hard&quot;</td><td>32</td><td>&quot;C&quot;</td><td>2024-11-04</td><td>260</td><td>&quot;211222&quot;</td><td>null</td><td>null</td><td>&quot;Jamie Loeb&quot;</td><td>&quot;R&quot;</td><td>168</td><td>&quot;USA&quot;</td><td>29.6</td><td>&quot;214684&quot;</td><td>&quot;7&quot;</td><td>null</td><td>&quot;Katherine Sebov&quot;</td><td>&quot;R&quot;</td><td>173</td><td>&quot;CAN&quot;</td><td>25.8</td><td>&quot;6-2 5-7 4-1 RET&quot;</td><td>3</td><td>&quot;Q1&quot;</td><td>&quot;134&quot;</td><td>&quot;8&quot;</td><td>&quot;6&quot;</td><td>&quot;85&quot;</td><td>&quot;39&quot;</td><td>&quot;25&quot;</td><td>&quot;21&quot;</td><td>&quot;12&quot;</td><td>&quot;8&quot;</td><td>&quot;13&quot;</td><td>&quot;0&quot;</td><td>&quot;4&quot;</td><td>&quot;103&quot;</td><td>&quot;87&quot;</td><td>&quot;41&quot;</td><td>&quot;7&quot;</td><td>&quot;13&quot;</td><td>&quot;7&quot;</td><td>&quot;15&quot;</td><td>&quot;358&quot;</td><td>&quot;172&quot;</td><td>&quot;349&quot;</td><td>&quot;180&quot;</td><td>&quot;Midland 125_2024_qualifiers_it…</td><td>null</td></tr><tr><td>&quot;2024-2051&quot;</td><td>&quot;Midland 125&quot;</td><td>&quot;Hard&quot;</td><td>32</td><td>&quot;C&quot;</td><td>2024-11-04</td><td>259</td><td>&quot;203513&quot;</td><td>&quot;4&quot;</td><td>null</td><td>&quot;Robin Anderson&quot;</td><td>&quot;R&quot;</td><td>160</td><td>&quot;USA&quot;</td><td>31.5</td><td>&quot;201524&quot;</td><td>null</td><td>null</td><td>&quot;Urszula Radwanska&quot;</td><td>&quot;R&quot;</td><td>177</td><td>&quot;POL&quot;</td><td>33.9</td><td>&quot;6-3 6-4&quot;</td><td>3</td><td>&quot;Q1&quot;</td><td>&quot;91&quot;</td><td>&quot;3&quot;</td><td>&quot;2&quot;</td><td>&quot;60&quot;</td><td>&quot;35&quot;</td><td>&quot;22&quot;</td><td>&quot;18&quot;</td><td>&quot;10&quot;</td><td>&quot;3&quot;</td><td>&quot;5&quot;</td><td>&quot;1&quot;</td><td>&quot;2&quot;</td><td>&quot;49&quot;</td><td>&quot;32&quot;</td><td>&quot;19&quot;</td><td>&quot;9&quot;</td><td>&quot;9&quot;</td><td>&quot;2&quot;</td><td>&quot;6&quot;</td><td>&quot;270&quot;</td><td>&quot;250&quot;</td><td>&quot;432&quot;</td><td>&quot;137&quot;</td><td>&quot;Midland 125_2024_qualifiers_it…</td><td>null</td></tr><tr><td>&quot;2024-2051&quot;</td><td>&quot;Midland 125&quot;</td><td>&quot;Hard&quot;</td><td>32</td><td>&quot;C&quot;</td><td>2024-11-04</td><td>258</td><td>&quot;264151&quot;</td><td>null</td><td>&quot;WC&quot;</td><td>&quot;Anna Frey&quot;</td><td>&quot;U&quot;</td><td>null</td><td>&quot;USA&quot;</td><td>null</td><td>&quot;211342&quot;</td><td>&quot;8&quot;</td><td>null</td><td>&quot;Gabriela Lee&quot;</td><td>&quot;L&quot;</td><td>null</td><td>&quot;ROU&quot;</td><td>29.2</td><td>&quot;6-4 6-2&quot;</td><td>3</td><td>&quot;Q1&quot;</td><td>&quot;68&quot;</td><td>&quot;3&quot;</td><td>&quot;4&quot;</td><td>&quot;47&quot;</td><td>&quot;35&quot;</td><td>&quot;23&quot;</td><td>&quot;7&quot;</td><td>&quot;9&quot;</td><td>&quot;0&quot;</td><td>&quot;2&quot;</td><td>&quot;2&quot;</td><td>&quot;3&quot;</td><td>&quot;50&quot;</td><td>&quot;32&quot;</td><td>&quot;16&quot;</td><td>&quot;7&quot;</td><td>&quot;9&quot;</td><td>&quot;3&quot;</td><td>&quot;8&quot;</td><td>&quot;852&quot;</td><td>&quot;29&quot;</td><td>&quot;309&quot;</td><td>&quot;204&quot;</td><td>&quot;Midland 125_2024_qualifiers_it…</td><td>null</td></tr></tbody></table></div>"
      ],
      "text/plain": [
       "shape: (593_885, 51)\n",
       "┌────────────┬───────────┬─────────┬───────────┬───┬───────────┬───────────┬───────────┬───────────┐\n",
       "│ tourney_id ┆ tourney_n ┆ surface ┆ draw_size ┆ … ┆ loser_ran ┆ loser_ran ┆ tourney_n ┆ monetary_ │\n",
       "│ ---        ┆ ame       ┆ ---     ┆ ---       ┆   ┆ k         ┆ k_points  ┆ ame_date_ ┆ winnings  │\n",
       "│ str        ┆ ---       ┆ str     ┆ i64       ┆   ┆ ---       ┆ ---       ┆ matches   ┆ ---       │\n",
       "│            ┆ str       ┆         ┆           ┆   ┆ str       ┆ str       ┆ ---       ┆ i64       │\n",
       "│            ┆           ┆         ┆           ┆   ┆           ┆           ┆ str       ┆           │\n",
       "╞════════════╪═══════════╪═════════╪═══════════╪═══╪═══════════╪═══════════╪═══════════╪═══════════╡\n",
       "│ 1968-1004  ┆ Bournemou ┆ Clay    ┆ 32        ┆ … ┆ null      ┆ null      ┆ Bournemou ┆ null      │\n",
       "│            ┆ th        ┆         ┆           ┆   ┆           ┆           ┆ th_1968_q ┆           │\n",
       "│            ┆           ┆         ┆           ┆   ┆           ┆           ┆ ualifiers ┆           │\n",
       "│            ┆           ┆         ┆           ┆   ┆           ┆           ┆ _it…      ┆           │\n",
       "│ 1968-1004  ┆ Bournemou ┆ Clay    ┆ 32        ┆ … ┆ null      ┆ null      ┆ Bournemou ┆ null      │\n",
       "│            ┆ th        ┆         ┆           ┆   ┆           ┆           ┆ th_1968_q ┆           │\n",
       "│            ┆           ┆         ┆           ┆   ┆           ┆           ┆ ualifiers ┆           │\n",
       "│            ┆           ┆         ┆           ┆   ┆           ┆           ┆ _it…      ┆           │\n",
       "│ 1968-1004  ┆ Bournemou ┆ Clay    ┆ 32        ┆ … ┆ null      ┆ null      ┆ Bournemou ┆ null      │\n",
       "│            ┆ th        ┆         ┆           ┆   ┆           ┆           ┆ th_1968_q ┆           │\n",
       "│            ┆           ┆         ┆           ┆   ┆           ┆           ┆ ualifiers ┆           │\n",
       "│            ┆           ┆         ┆           ┆   ┆           ┆           ┆ _it…      ┆           │\n",
       "│ 1968-1004  ┆ Bournemou ┆ Clay    ┆ 32        ┆ … ┆ null      ┆ null      ┆ Bournemou ┆ null      │\n",
       "│            ┆ th        ┆         ┆           ┆   ┆           ┆           ┆ th_1968_q ┆           │\n",
       "│            ┆           ┆         ┆           ┆   ┆           ┆           ┆ ualifiers ┆           │\n",
       "│            ┆           ┆         ┆           ┆   ┆           ┆           ┆ _it…      ┆           │\n",
       "│ 1968-1004  ┆ Bournemou ┆ Clay    ┆ 32        ┆ … ┆ null      ┆ null      ┆ Bournemou ┆ null      │\n",
       "│            ┆ th        ┆         ┆           ┆   ┆           ┆           ┆ th_1968_q ┆           │\n",
       "│            ┆           ┆         ┆           ┆   ┆           ┆           ┆ ualifiers ┆           │\n",
       "│            ┆           ┆         ┆           ┆   ┆           ┆           ┆ _it…      ┆           │\n",
       "│ …          ┆ …         ┆ …       ┆ …         ┆ … ┆ …         ┆ …         ┆ …         ┆ …         │\n",
       "│ 2024-2051  ┆ Midland   ┆ Hard    ┆ 32        ┆ … ┆ 1121      ┆ 12        ┆ Midland   ┆ null      │\n",
       "│            ┆ 125       ┆         ┆           ┆   ┆           ┆           ┆ 125_2024_ ┆           │\n",
       "│            ┆           ┆         ┆           ┆   ┆           ┆           ┆ qualifier ┆           │\n",
       "│            ┆           ┆         ┆           ┆   ┆           ┆           ┆ s_it…     ┆           │\n",
       "│ 2024-2051  ┆ Midland   ┆ Hard    ┆ 32        ┆ … ┆ 258       ┆ 270       ┆ Midland   ┆ null      │\n",
       "│            ┆ 125       ┆         ┆           ┆   ┆           ┆           ┆ 125_2024_ ┆           │\n",
       "│            ┆           ┆         ┆           ┆   ┆           ┆           ┆ qualifier ┆           │\n",
       "│            ┆           ┆         ┆           ┆   ┆           ┆           ┆ s_it…     ┆           │\n",
       "│ 2024-2051  ┆ Midland   ┆ Hard    ┆ 32        ┆ … ┆ 349       ┆ 180       ┆ Midland   ┆ null      │\n",
       "│            ┆ 125       ┆         ┆           ┆   ┆           ┆           ┆ 125_2024_ ┆           │\n",
       "│            ┆           ┆         ┆           ┆   ┆           ┆           ┆ qualifier ┆           │\n",
       "│            ┆           ┆         ┆           ┆   ┆           ┆           ┆ s_it…     ┆           │\n",
       "│ 2024-2051  ┆ Midland   ┆ Hard    ┆ 32        ┆ … ┆ 432       ┆ 137       ┆ Midland   ┆ null      │\n",
       "│            ┆ 125       ┆         ┆           ┆   ┆           ┆           ┆ 125_2024_ ┆           │\n",
       "│            ┆           ┆         ┆           ┆   ┆           ┆           ┆ qualifier ┆           │\n",
       "│            ┆           ┆         ┆           ┆   ┆           ┆           ┆ s_it…     ┆           │\n",
       "│ 2024-2051  ┆ Midland   ┆ Hard    ┆ 32        ┆ … ┆ 309       ┆ 204       ┆ Midland   ┆ null      │\n",
       "│            ┆ 125       ┆         ┆           ┆   ┆           ┆           ┆ 125_2024_ ┆           │\n",
       "│            ┆           ┆         ┆           ┆   ┆           ┆           ┆ qualifier ┆           │\n",
       "│            ┆           ┆         ┆           ┆   ┆           ┆           ┆ s_it…     ┆           │\n",
       "└────────────┴───────────┴─────────┴───────────┴───┴───────────┴───────────┴───────────┴───────────┘"
      ]
     },
     "execution_count": 20,
     "metadata": {},
     "output_type": "execute_result"
    }
   ],
   "source": [
    "#Creazione di colonna dove mettere il montepremi con ciclo for aggregato\n",
    "\n",
    "# Liste per salvare i risultati\n",
    "new_values = []\n",
    "updated_col1 = []\n",
    "\n",
    "# Itera su tutte le righe\n",
    "for value in matches_qualifiers_itf[\"tourney_name\"]:\n",
    "    if value.startswith(\"W\") and len(value) > 1 and value[1:].split()[0].isdigit():  # Controlla 'W' e numero\n",
    "        parts = value.split(maxsplit=1)  # Dividi al primo spazio\n",
    "        new_values.append(int(parts[0][1:]) * 1000)  # Moltiplica il numero per 1000\n",
    "        updated_col1.append(parts[1] if len(parts) > 1 else None)  # Rimuovi 'W<num>' e mantieni il resto\n",
    "    else:\n",
    "        new_values.append(None)  # Altrimenti, None nella nuova colonna\n",
    "        updated_col1.append(value)  # Mantieni il valore originale\n",
    "\n",
    "# Aggiorna il DataFrame con le due colonne\n",
    "matches_qualifiers_itf = matches_qualifiers_itf.with_columns([\n",
    "    pl.Series(\"tourney_name\", updated_col1),\n",
    "    pl.Series(\"monetary_winnings\", new_values),\n",
    "])\n",
    "matches_qualifiers_itf"
   ]
  },
  {
   "cell_type": "code",
   "execution_count": 21,
   "metadata": {},
   "outputs": [
    {
     "data": {
      "text/html": [
       "<div><style>\n",
       ".dataframe > thead > tr,\n",
       ".dataframe > tbody > tr {\n",
       "  text-align: right;\n",
       "  white-space: pre-wrap;\n",
       "}\n",
       "</style>\n",
       "<small>shape: (13_747, 7)</small><table border=\"1\" class=\"dataframe\"><thead><tr><th>tourney_name</th><th>surface</th><th>draw_size</th><th>tourney_level</th><th>tourney_date</th><th>tourney_name_date_matches</th><th>best_of</th></tr><tr><td>str</td><td>str</td><td>i64</td><td>str</td><td>date</td><td>str</td><td>i64</td></tr></thead><tbody><tr><td>&quot;Tbilisi 25K&quot;</td><td>&quot;Clay&quot;</td><td>32</td><td>&quot;25&quot;</td><td>2001-09-17</td><td>&quot;Tbilisi 25K_2001_qualifiers_it…</td><td>3</td></tr><tr><td>&quot;Eastbourne&quot;</td><td>&quot;Grass&quot;</td><td>64</td><td>&quot;W&quot;</td><td>1991-06-17</td><td>&quot;Eastbourne_1991_qualifiers_itf&quot;</td><td>3</td></tr><tr><td>&quot;Rotterdam $15K&quot;</td><td>&quot;Clay&quot;</td><td>32</td><td>&quot;15&quot;</td><td>2018-08-20</td><td>&quot;Rotterdam $15K_2018_qualifiers…</td><td>3</td></tr><tr><td>&quot;Cairo&quot;</td><td>&quot;Hard&quot;</td><td>32</td><td>&quot;60&quot;</td><td>2020-02-17</td><td>&quot;W60 Cairo_2020_qualifiers_itf&quot;</td><td>3</td></tr><tr><td>&quot;W40+H Calvi&quot;</td><td>&quot;Hard&quot;</td><td>32</td><td>&quot;40&quot;</td><td>2023-04-24</td><td>&quot;W40+H Calvi_2023_qualifiers_it…</td><td>3</td></tr><tr><td>&hellip;</td><td>&hellip;</td><td>&hellip;</td><td>&hellip;</td><td>&hellip;</td><td>&hellip;</td><td>&hellip;</td></tr><tr><td>&quot;ITF Katowice&quot;</td><td>&quot;Clay&quot;</td><td>32</td><td>&quot;C&quot;</td><td>1994-05-16</td><td>&quot;ITF Katowice_1994_qualifiers_i…</td><td>3</td></tr><tr><td>&quot;Surakarta 10K&quot;</td><td>&quot;Hard&quot;</td><td>32</td><td>&quot;10&quot;</td><td>2008-07-28</td><td>&quot;Surakarta 10K_2008_qualifiers_…</td><td>3</td></tr><tr><td>&quot;Las Vegas NV 50K&quot;</td><td>&quot;Hard&quot;</td><td>32</td><td>&quot;50&quot;</td><td>2010-09-27</td><td>&quot;Las Vegas NV 50K_2010_qualifie…</td><td>3</td></tr><tr><td>&quot;Gloucester 10K&quot;</td><td>&quot;Hard&quot;</td><td>32</td><td>&quot;10&quot;</td><td>2014-04-07</td><td>&quot;Gloucester 10K_2014_qualifiers…</td><td>3</td></tr><tr><td>&quot;Anapoima&quot;</td><td>&quot;Clay&quot;</td><td>48</td><td>&quot;25&quot;</td><td>2022-03-14</td><td>&quot;W25 Anapoima_2022_qualifiers_i…</td><td>3</td></tr></tbody></table></div>"
      ],
      "text/plain": [
       "shape: (13_747, 7)\n",
       "┌─────────────────┬─────────┬───────────┬───────────────┬──────────────┬─────────────────┬─────────┐\n",
       "│ tourney_name    ┆ surface ┆ draw_size ┆ tourney_level ┆ tourney_date ┆ tourney_name_da ┆ best_of │\n",
       "│ ---             ┆ ---     ┆ ---       ┆ ---           ┆ ---          ┆ te_matches      ┆ ---     │\n",
       "│ str             ┆ str     ┆ i64       ┆ str           ┆ date         ┆ ---             ┆ i64     │\n",
       "│                 ┆         ┆           ┆               ┆              ┆ str             ┆         │\n",
       "╞═════════════════╪═════════╪═══════════╪═══════════════╪══════════════╪═════════════════╪═════════╡\n",
       "│ Tbilisi 25K     ┆ Clay    ┆ 32        ┆ 25            ┆ 2001-09-17   ┆ Tbilisi 25K_200 ┆ 3       │\n",
       "│                 ┆         ┆           ┆               ┆              ┆ 1_qualifiers_it ┆         │\n",
       "│                 ┆         ┆           ┆               ┆              ┆ …               ┆         │\n",
       "│ Eastbourne      ┆ Grass   ┆ 64        ┆ W             ┆ 1991-06-17   ┆ Eastbourne_1991 ┆ 3       │\n",
       "│                 ┆         ┆           ┆               ┆              ┆ _qualifiers_itf ┆         │\n",
       "│ Rotterdam $15K  ┆ Clay    ┆ 32        ┆ 15            ┆ 2018-08-20   ┆ Rotterdam $15K_ ┆ 3       │\n",
       "│                 ┆         ┆           ┆               ┆              ┆ 2018_qualifiers ┆         │\n",
       "│                 ┆         ┆           ┆               ┆              ┆ …               ┆         │\n",
       "│ Cairo           ┆ Hard    ┆ 32        ┆ 60            ┆ 2020-02-17   ┆ W60 Cairo_2020_ ┆ 3       │\n",
       "│                 ┆         ┆           ┆               ┆              ┆ qualifiers_itf  ┆         │\n",
       "│ W40+H Calvi     ┆ Hard    ┆ 32        ┆ 40            ┆ 2023-04-24   ┆ W40+H Calvi_202 ┆ 3       │\n",
       "│                 ┆         ┆           ┆               ┆              ┆ 3_qualifiers_it ┆         │\n",
       "│                 ┆         ┆           ┆               ┆              ┆ …               ┆         │\n",
       "│ …               ┆ …       ┆ …         ┆ …             ┆ …            ┆ …               ┆ …       │\n",
       "│ ITF Katowice    ┆ Clay    ┆ 32        ┆ C             ┆ 1994-05-16   ┆ ITF Katowice_19 ┆ 3       │\n",
       "│                 ┆         ┆           ┆               ┆              ┆ 94_qualifiers_i ┆         │\n",
       "│                 ┆         ┆           ┆               ┆              ┆ …               ┆         │\n",
       "│ Surakarta 10K   ┆ Hard    ┆ 32        ┆ 10            ┆ 2008-07-28   ┆ Surakarta 10K_2 ┆ 3       │\n",
       "│                 ┆         ┆           ┆               ┆              ┆ 008_qualifiers_ ┆         │\n",
       "│                 ┆         ┆           ┆               ┆              ┆ …               ┆         │\n",
       "│ Las Vegas NV    ┆ Hard    ┆ 32        ┆ 50            ┆ 2010-09-27   ┆ Las Vegas NV    ┆ 3       │\n",
       "│ 50K             ┆         ┆           ┆               ┆              ┆ 50K_2010_qualif ┆         │\n",
       "│                 ┆         ┆           ┆               ┆              ┆ ie…             ┆         │\n",
       "│ Gloucester 10K  ┆ Hard    ┆ 32        ┆ 10            ┆ 2014-04-07   ┆ Gloucester 10K_ ┆ 3       │\n",
       "│                 ┆         ┆           ┆               ┆              ┆ 2014_qualifiers ┆         │\n",
       "│                 ┆         ┆           ┆               ┆              ┆ …               ┆         │\n",
       "│ Anapoima        ┆ Clay    ┆ 48        ┆ 25            ┆ 2022-03-14   ┆ W25 Anapoima_20 ┆ 3       │\n",
       "│                 ┆         ┆           ┆               ┆              ┆ 22_qualifiers_i ┆         │\n",
       "│                 ┆         ┆           ┆               ┆              ┆ …               ┆         │\n",
       "└─────────────────┴─────────┴───────────┴───────────────┴──────────────┴─────────────────┴─────────┘"
      ]
     },
     "execution_count": 21,
     "metadata": {},
     "output_type": "execute_result"
    }
   ],
   "source": [
    "tourney_qualifiers_itf=matches_qualifiers_itf[['tourney_name', 'surface', 'draw_size', 'tourney_level', 'tourney_date', 'tourney_name_date_matches',\"best_of\"]]\n",
    "\n",
    "tourney_qualifiers_itf=tourney_qualifiers_itf.unique('tourney_name_date_matches')\n",
    "tourney_qualifiers_itf"
   ]
  },
  {
   "cell_type": "code",
   "execution_count": 22,
   "metadata": {},
   "outputs": [
    {
     "data": {
      "text/html": [
       "<div><style>\n",
       ".dataframe > thead > tr,\n",
       ".dataframe > tbody > tr {\n",
       "  text-align: right;\n",
       "  white-space: pre-wrap;\n",
       "}\n",
       "</style>\n",
       "<small>shape: (26_399, 66)</small><table border=\"1\" class=\"dataframe\"><thead><tr><th>tourney_id</th><th>tourney_name</th><th>surface</th><th>draw_size</th><th>tourney_level</th><th>tourney_date</th><th>match_num</th><th>winner1_id</th><th>winner2_id</th><th>winner_seed</th><th>winner_entry</th><th>loser1_id</th><th>loser2_id</th><th>loser_seed</th><th>loser_entry</th><th>score</th><th>best_of</th><th>round</th><th>winner1_name</th><th>winner1_hand</th><th>winner1_ht</th><th>winner1_ioc</th><th>winner1_age</th><th>winner2_name</th><th>winner2_hand</th><th>winner2_ht</th><th>winner2_ioc</th><th>winner2_age</th><th>loser1_name</th><th>loser1_hand</th><th>loser1_ht</th><th>loser1_ioc</th><th>loser1_age</th><th>loser2_name</th><th>loser2_hand</th><th>loser2_ht</th><th>loser2_ioc</th><th>loser2_age</th><th>winner1_rank</th><th>winner1_rank_points</th><th>winner2_rank</th><th>winner2_rank_points</th><th>loser1_rank</th><th>loser1_rank_points</th><th>loser2_rank</th><th>loser2_rank_points</th><th>minutes</th><th>w_ace</th><th>w_df</th><th>w_svpt</th><th>w_1stIn</th><th>w_1stWon</th><th>w_2ndWon</th><th>w_SvGms</th><th>w_bpSaved</th><th>w_bpFaced</th><th>l_ace</th><th>l_df</th><th>l_svpt</th><th>l_1stIn</th><th>l_1stWon</th><th>l_2ndWon</th><th>l_SvGms</th><th>l_bpSaved</th><th>l_bpFaced</th><th>tourney_name_date_matches</th></tr><tr><td>str</td><td>str</td><td>str</td><td>i64</td><td>str</td><td>date</td><td>i64</td><td>str</td><td>str</td><td>str</td><td>str</td><td>str</td><td>str</td><td>str</td><td>str</td><td>str</td><td>i64</td><td>str</td><td>str</td><td>str</td><td>i64</td><td>str</td><td>f64</td><td>str</td><td>str</td><td>i64</td><td>str</td><td>f64</td><td>str</td><td>str</td><td>i64</td><td>str</td><td>f64</td><td>str</td><td>str</td><td>i64</td><td>str</td><td>f64</td><td>i64</td><td>i64</td><td>i64</td><td>i64</td><td>i64</td><td>i64</td><td>i64</td><td>i64</td><td>str</td><td>str</td><td>str</td><td>str</td><td>str</td><td>str</td><td>str</td><td>str</td><td>str</td><td>str</td><td>str</td><td>str</td><td>str</td><td>str</td><td>str</td><td>str</td><td>str</td><td>str</td><td>str</td><td>str</td></tr></thead><tbody><tr><td>&quot;2000-301&quot;</td><td>&quot;Auckland&quot;</td><td>&quot;Hard&quot;</td><td>32</td><td>&quot;A&quot;</td><td>2000-01-10</td><td>300</td><td>&quot;101704&quot;</td><td>&quot;101097&quot;</td><td>&quot;1&quot;</td><td>null</td><td>&quot;101358&quot;</td><td>&quot;101543&quot;</td><td>&quot;2&quot;</td><td>null</td><td>&quot;7-5 6-4&quot;</td><td>3</td><td>&quot;F&quot;</td><td>&quot;Ellis Ferreira&quot;</td><td>&quot;L&quot;</td><td>188</td><td>&quot;RSA&quot;</td><td>29.889117</td><td>&quot;Rick Leach&quot;</td><td>&quot;L&quot;</td><td>188</td><td>&quot;USA&quot;</td><td>35.033539</td><td>&quot;Olivier Delaitre&quot;</td><td>&quot;R&quot;</td><td>170</td><td>&quot;FRA&quot;</td><td>32.610541</td><td>&quot;Jeff Tarango&quot;</td><td>&quot;L&quot;</td><td>180</td><td>&quot;USA&quot;</td><td>31.137577</td><td>13</td><td>0</td><td>15</td><td>0</td><td>16</td><td>0</td><td>17</td><td>0</td><td>null</td><td>null</td><td>null</td><td>null</td><td>null</td><td>null</td><td>null</td><td>null</td><td>null</td><td>null</td><td>null</td><td>null</td><td>null</td><td>null</td><td>null</td><td>null</td><td>null</td><td>null</td><td>null</td><td>&quot;Auckland_2000_doubles_atp&quot;</td></tr><tr><td>&quot;2000-301&quot;</td><td>&quot;Auckland&quot;</td><td>&quot;Hard&quot;</td><td>32</td><td>&quot;A&quot;</td><td>2000-01-10</td><td>299</td><td>&quot;101704&quot;</td><td>&quot;101097&quot;</td><td>&quot;1&quot;</td><td>null</td><td>&quot;102562&quot;</td><td>&quot;101866&quot;</td><td>&quot;3&quot;</td><td>null</td><td>&quot;6-2 6-4&quot;</td><td>3</td><td>&quot;SF&quot;</td><td>&quot;Ellis Ferreira&quot;</td><td>&quot;L&quot;</td><td>188</td><td>&quot;RSA&quot;</td><td>29.889117</td><td>&quot;Rick Leach&quot;</td><td>&quot;L&quot;</td><td>188</td><td>&quot;USA&quot;</td><td>35.033539</td><td>&quot;Jiri Novak&quot;</td><td>&quot;R&quot;</td><td>190</td><td>&quot;CZE&quot;</td><td>24.804928</td><td>&quot;David Rikl&quot;</td><td>&quot;L&quot;</td><td>178</td><td>&quot;CZE&quot;</td><td>28.867899</td><td>13</td><td>0</td><td>15</td><td>0</td><td>34</td><td>0</td><td>29</td><td>0</td><td>null</td><td>null</td><td>null</td><td>null</td><td>null</td><td>null</td><td>null</td><td>null</td><td>null</td><td>null</td><td>null</td><td>null</td><td>null</td><td>null</td><td>null</td><td>null</td><td>null</td><td>null</td><td>null</td><td>&quot;Auckland_2000_doubles_atp&quot;</td></tr><tr><td>&quot;2000-301&quot;</td><td>&quot;Auckland&quot;</td><td>&quot;Hard&quot;</td><td>32</td><td>&quot;A&quot;</td><td>2000-01-10</td><td>298</td><td>&quot;101358&quot;</td><td>&quot;101543&quot;</td><td>&quot;2&quot;</td><td>null</td><td>&quot;102664&quot;</td><td>&quot;101779&quot;</td><td>null</td><td>null</td><td>&quot;6-3 6-4&quot;</td><td>3</td><td>&quot;SF&quot;</td><td>&quot;Olivier Delaitre&quot;</td><td>&quot;R&quot;</td><td>170</td><td>&quot;FRA&quot;</td><td>32.610541</td><td>&quot;Jeff Tarango&quot;</td><td>&quot;L&quot;</td><td>180</td><td>&quot;USA&quot;</td><td>31.137577</td><td>&quot;Petr Pala&quot;</td><td>&quot;R&quot;</td><td>193</td><td>&quot;CZE&quot;</td><td>24.273785</td><td>&quot;Pavel Vizner&quot;</td><td>&quot;R&quot;</td><td>183</td><td>&quot;CZE&quot;</td><td>29.489391</td><td>16</td><td>0</td><td>17</td><td>0</td><td>97</td><td>0</td><td>74</td><td>0</td><td>null</td><td>null</td><td>null</td><td>null</td><td>null</td><td>null</td><td>null</td><td>null</td><td>null</td><td>null</td><td>null</td><td>null</td><td>null</td><td>null</td><td>null</td><td>null</td><td>null</td><td>null</td><td>null</td><td>&quot;Auckland_2000_doubles_atp&quot;</td></tr><tr><td>&quot;2000-301&quot;</td><td>&quot;Auckland&quot;</td><td>&quot;Hard&quot;</td><td>32</td><td>&quot;A&quot;</td><td>2000-01-10</td><td>297</td><td>&quot;101704&quot;</td><td>&quot;101097&quot;</td><td>&quot;1&quot;</td><td>null</td><td>&quot;101342&quot;</td><td>&quot;102162&quot;</td><td>null</td><td>&quot;WC&quot;</td><td>&quot;6-3 6-4&quot;</td><td>3</td><td>&quot;QF&quot;</td><td>&quot;Ellis Ferreira&quot;</td><td>&quot;L&quot;</td><td>188</td><td>&quot;RSA&quot;</td><td>29.889117</td><td>&quot;Rick Leach&quot;</td><td>&quot;L&quot;</td><td>188</td><td>&quot;USA&quot;</td><td>35.033539</td><td>&quot;Patrick Galbraith&quot;</td><td>&quot;L&quot;</td><td>183</td><td>&quot;USA&quot;</td><td>32.736482</td><td>&quot;Chris Woodruff&quot;</td><td>&quot;R&quot;</td><td>188</td><td>&quot;USA&quot;</td><td>27.019849</td><td>13</td><td>0</td><td>15</td><td>0</td><td>65</td><td>0</td><td>248</td><td>0</td><td>null</td><td>null</td><td>null</td><td>null</td><td>null</td><td>null</td><td>null</td><td>null</td><td>null</td><td>null</td><td>null</td><td>null</td><td>null</td><td>null</td><td>null</td><td>null</td><td>null</td><td>null</td><td>null</td><td>&quot;Auckland_2000_doubles_atp&quot;</td></tr><tr><td>&quot;2000-301&quot;</td><td>&quot;Auckland&quot;</td><td>&quot;Hard&quot;</td><td>32</td><td>&quot;A&quot;</td><td>2000-01-10</td><td>296</td><td>&quot;101358&quot;</td><td>&quot;101543&quot;</td><td>&quot;2&quot;</td><td>null</td><td>&quot;103483&quot;</td><td>&quot;102262&quot;</td><td>null</td><td>&quot;WC&quot;</td><td>&quot;6-2 6-4&quot;</td><td>3</td><td>&quot;QF&quot;</td><td>&quot;Olivier Delaitre&quot;</td><td>&quot;R&quot;</td><td>170</td><td>&quot;FRA&quot;</td><td>32.610541</td><td>&quot;Jeff Tarango&quot;</td><td>&quot;L&quot;</td><td>180</td><td>&quot;USA&quot;</td><td>31.137577</td><td>&quot;James Shortall&quot;</td><td>&quot;R&quot;</td><td>null</td><td>&quot;NZL&quot;</td><td>20.043806</td><td>&quot;Cristiano Testa&quot;</td><td>&quot;L&quot;</td><td>null</td><td>&quot;BRA&quot;</td><td>26.297057</td><td>16</td><td>0</td><td>17</td><td>0</td><td>779</td><td>0</td><td>114</td><td>0</td><td>null</td><td>null</td><td>null</td><td>null</td><td>null</td><td>null</td><td>null</td><td>null</td><td>null</td><td>null</td><td>null</td><td>null</td><td>null</td><td>null</td><td>null</td><td>null</td><td>null</td><td>null</td><td>null</td><td>&quot;Auckland_2000_doubles_atp&quot;</td></tr><tr><td>&hellip;</td><td>&hellip;</td><td>&hellip;</td><td>&hellip;</td><td>&hellip;</td><td>&hellip;</td><td>&hellip;</td><td>&hellip;</td><td>&hellip;</td><td>&hellip;</td><td>&hellip;</td><td>&hellip;</td><td>&hellip;</td><td>&hellip;</td><td>&hellip;</td><td>&hellip;</td><td>&hellip;</td><td>&hellip;</td><td>&hellip;</td><td>&hellip;</td><td>&hellip;</td><td>&hellip;</td><td>&hellip;</td><td>&hellip;</td><td>&hellip;</td><td>&hellip;</td><td>&hellip;</td><td>&hellip;</td><td>&hellip;</td><td>&hellip;</td><td>&hellip;</td><td>&hellip;</td><td>&hellip;</td><td>&hellip;</td><td>&hellip;</td><td>&hellip;</td><td>&hellip;</td><td>&hellip;</td><td>&hellip;</td><td>&hellip;</td><td>&hellip;</td><td>&hellip;</td><td>&hellip;</td><td>&hellip;</td><td>&hellip;</td><td>&hellip;</td><td>&hellip;</td><td>&hellip;</td><td>&hellip;</td><td>&hellip;</td><td>&hellip;</td><td>&hellip;</td><td>&hellip;</td><td>&hellip;</td><td>&hellip;</td><td>&hellip;</td><td>&hellip;</td><td>&hellip;</td><td>&hellip;</td><td>&hellip;</td><td>&hellip;</td><td>&hellip;</td><td>&hellip;</td><td>&hellip;</td><td>&hellip;</td><td>&hellip;</td></tr><tr><td>&quot;2020-M-DC-2020-WG2-PO-MAR-VIE-…</td><td>&quot;Davis Cup WG2 PO: MAR vs VIE&quot;</td><td>&quot;Clay&quot;</td><td>4</td><td>&quot;D&quot;</td><td>2020-03-06</td><td>3</td><td>&quot;104917&quot;</td><td>&quot;104467&quot;</td><td>null</td><td>null</td><td>&quot;109042&quot;</td><td>&quot;122533&quot;</td><td>null</td><td>null</td><td>&quot;6-4 6-1&quot;</td><td>3</td><td>&quot;RR&quot;</td><td>&quot;Anas Fattar&quot;</td><td>&quot;R&quot;</td><td>null</td><td>&quot;MAR&quot;</td><td>32.807666</td><td>&quot;Lamine Ouahab&quot;</td><td>&quot;R&quot;</td><td>185</td><td>&quot;ALG&quot;</td><td>35.192334</td><td>&quot;Quoc Khanh Le&quot;</td><td>&quot;R&quot;</td><td>null</td><td>&quot;VIE&quot;</td><td>37.497604</td><td>&quot;Nam Hoang Ly&quot;</td><td>&quot;R&quot;</td><td>null</td><td>&quot;VIE&quot;</td><td>23.014374</td><td>683</td><td>48</td><td>942</td><td>26</td><td>null</td><td>null</td><td>1293</td><td>12</td><td>null</td><td>null</td><td>null</td><td>null</td><td>null</td><td>null</td><td>null</td><td>null</td><td>null</td><td>null</td><td>null</td><td>null</td><td>null</td><td>null</td><td>null</td><td>null</td><td>null</td><td>null</td><td>null</td><td>&quot;Davis Cup WG2 PO: MAR vs VIE_2…</td></tr><tr><td>&quot;2020-M-DC-2020-WG2-PO-PAR-SRI-…</td><td>&quot;Davis Cup WG2 PO: PAR vs SRI&quot;</td><td>&quot;Clay&quot;</td><td>4</td><td>&quot;D&quot;</td><td>2020-03-06</td><td>3</td><td>&quot;134677&quot;</td><td>&quot;137018&quot;</td><td>null</td><td>null</td><td>&quot;202462&quot;</td><td>&quot;134886&quot;</td><td>null</td><td>null</td><td>&quot;6-1 6-4&quot;</td><td>3</td><td>&quot;RR&quot;</td><td>&quot;Juan Borba&quot;</td><td>&quot;R&quot;</td><td>null</td><td>&quot;PAR&quot;</td><td>23.887748</td><td>&quot;Ayed Zatar&quot;</td><td>&quot;R&quot;</td><td>null</td><td>&quot;PAR&quot;</td><td>23.926078</td><td>&quot;Yasitha De Silva&quot;</td><td>null</td><td>null</td><td>&quot;SRI&quot;</td><td>24.665298</td><td>&quot;Sharmal Dissanayake&quot;</td><td>&quot;R&quot;</td><td>null</td><td>&quot;SRI&quot;</td><td>23.800137</td><td>null</td><td>null</td><td>null</td><td>null</td><td>null</td><td>null</td><td>null</td><td>null</td><td>null</td><td>null</td><td>null</td><td>null</td><td>null</td><td>null</td><td>null</td><td>null</td><td>null</td><td>null</td><td>null</td><td>null</td><td>null</td><td>null</td><td>null</td><td>null</td><td>null</td><td>null</td><td>null</td><td>&quot;Davis Cup WG2 PO: PAR vs SRI_2…</td></tr><tr><td>&quot;2020-M-DC-2020-WG2-PO-PHI-GRE-…</td><td>&quot;Davis Cup WG2 PO: PHI vs GRE&quot;</td><td>&quot;Clay&quot;</td><td>4</td><td>&quot;D&quot;</td><td>2020-03-06</td><td>3</td><td>&quot;108717&quot;</td><td>&quot;104604&quot;</td><td>null</td><td>null</td><td>&quot;109737&quot;</td><td>&quot;202065&quot;</td><td>null</td><td>null</td><td>&quot;7-6(5) 6-4&quot;</td><td>3</td><td>&quot;RR&quot;</td><td>&quot;Francis Casey Alcantara&quot;</td><td>&quot;U&quot;</td><td>null</td><td>&quot;PHI&quot;</td><td>28.073922</td><td>&quot;Ruben Gonzales&quot;</td><td>&quot;R&quot;</td><td>null</td><td>&quot;PHI&quot;</td><td>34.472279</td><td>&quot;Markos Kalovelonis&quot;</td><td>&quot;R&quot;</td><td>null</td><td>&quot;GRE&quot;</td><td>25.790554</td><td>&quot;Petros Tsitsipas&quot;</td><td>&quot;U&quot;</td><td>null</td><td>&quot;GRE&quot;</td><td>19.597536</td><td>537</td><td>69</td><td>212</td><td>307</td><td>503</td><td>77</td><td>1072</td><td>20</td><td>null</td><td>null</td><td>null</td><td>null</td><td>null</td><td>null</td><td>null</td><td>null</td><td>null</td><td>null</td><td>null</td><td>null</td><td>null</td><td>null</td><td>null</td><td>null</td><td>null</td><td>null</td><td>null</td><td>&quot;Davis Cup WG2 PO: PHI vs GRE_2…</td></tr><tr><td>&quot;2020-M-DC-2020-WG2-PO-POL-HKG-…</td><td>&quot;Davis Cup WG2 PO: POL vs HKG&quot;</td><td>&quot;Hard&quot;</td><td>4</td><td>&quot;D&quot;</td><td>2020-03-06</td><td>3</td><td>&quot;126166&quot;</td><td>&quot;126591&quot;</td><td>null</td><td>null</td><td>&quot;205695&quot;</td><td>&quot;106388&quot;</td><td>null</td><td>null</td><td>&quot;6-3 6-7(6) 6-3&quot;</td><td>3</td><td>&quot;RR&quot;</td><td>&quot;Szymon Walkow&quot;</td><td>&quot;R&quot;</td><td>null</td><td>&quot;POL&quot;</td><td>24.443532</td><td>&quot;Jan Zielinski&quot;</td><td>&quot;R&quot;</td><td>null</td><td>&quot;POL&quot;</td><td>23.290897</td><td>&quot;Ching Lam&quot;</td><td>&quot;R&quot;</td><td>null</td><td>&quot;HKG&quot;</td><td>20.495551</td><td>&quot;Pak Long Yeung&quot;</td><td>&quot;U&quot;</td><td>null</td><td>&quot;HKG&quot;</td><td>25.045859</td><td>182</td><td>389</td><td>295</td><td>178</td><td>null</td><td>null</td><td>557</td><td>66</td><td>null</td><td>null</td><td>null</td><td>null</td><td>null</td><td>null</td><td>null</td><td>null</td><td>null</td><td>null</td><td>null</td><td>null</td><td>null</td><td>null</td><td>null</td><td>null</td><td>null</td><td>null</td><td>null</td><td>&quot;Davis Cup WG2 PO: POL vs HKG_2…</td></tr><tr><td>&quot;2020-M-DC-2020-WG2-PO-SYR-ZIM-…</td><td>&quot;Davis Cup WG2 PO: SYR vs ZIM&quot;</td><td>&quot;Hard&quot;</td><td>4</td><td>&quot;D&quot;</td><td>2020-03-06</td><td>3</td><td>&quot;111761&quot;</td><td>&quot;144747&quot;</td><td>null</td><td>null</td><td>&quot;200153&quot;</td><td>&quot;208518&quot;</td><td>null</td><td>null</td><td>&quot;6-1 4-6 6-3&quot;</td><td>3</td><td>&quot;RR&quot;</td><td>&quot;Benjamin Lock&quot;</td><td>&quot;R&quot;</td><td>null</td><td>&quot;ZIM&quot;</td><td>26.995209</td><td>&quot;Courtney John Lock&quot;</td><td>&quot;R&quot;</td><td>null</td><td>&quot;ZIM&quot;</td><td>23.370294</td><td>&quot;Yacoub Makzoume&quot;</td><td>&quot;R&quot;</td><td>null</td><td>&quot;SYR&quot;</td><td>24.832307</td><td>&quot;Hazem Naw&quot;</td><td>&quot;R&quot;</td><td>null</td><td>&quot;UNK&quot;</td><td>20.167009</td><td>231</td><td>267</td><td>327</td><td>146</td><td>null</td><td>null</td><td>1929</td><td>2</td><td>null</td><td>null</td><td>null</td><td>null</td><td>null</td><td>null</td><td>null</td><td>null</td><td>null</td><td>null</td><td>null</td><td>null</td><td>null</td><td>null</td><td>null</td><td>null</td><td>null</td><td>null</td><td>null</td><td>&quot;Davis Cup WG2 PO: SYR vs ZIM_2…</td></tr></tbody></table></div>"
      ],
      "text/plain": [
       "shape: (26_399, 66)\n",
       "┌────────────┬────────────┬─────────┬───────────┬───┬─────────┬───────────┬───────────┬────────────┐\n",
       "│ tourney_id ┆ tourney_na ┆ surface ┆ draw_size ┆ … ┆ l_SvGms ┆ l_bpSaved ┆ l_bpFaced ┆ tourney_na │\n",
       "│ ---        ┆ me         ┆ ---     ┆ ---       ┆   ┆ ---     ┆ ---       ┆ ---       ┆ me_date_ma │\n",
       "│ str        ┆ ---        ┆ str     ┆ i64       ┆   ┆ str     ┆ str       ┆ str       ┆ tches      │\n",
       "│            ┆ str        ┆         ┆           ┆   ┆         ┆           ┆           ┆ ---        │\n",
       "│            ┆            ┆         ┆           ┆   ┆         ┆           ┆           ┆ str        │\n",
       "╞════════════╪════════════╪═════════╪═══════════╪═══╪═════════╪═══════════╪═══════════╪════════════╡\n",
       "│ 2000-301   ┆ Auckland   ┆ Hard    ┆ 32        ┆ … ┆ null    ┆ null      ┆ null      ┆ Auckland_2 │\n",
       "│            ┆            ┆         ┆           ┆   ┆         ┆           ┆           ┆ 000_double │\n",
       "│            ┆            ┆         ┆           ┆   ┆         ┆           ┆           ┆ s_atp      │\n",
       "│ 2000-301   ┆ Auckland   ┆ Hard    ┆ 32        ┆ … ┆ null    ┆ null      ┆ null      ┆ Auckland_2 │\n",
       "│            ┆            ┆         ┆           ┆   ┆         ┆           ┆           ┆ 000_double │\n",
       "│            ┆            ┆         ┆           ┆   ┆         ┆           ┆           ┆ s_atp      │\n",
       "│ 2000-301   ┆ Auckland   ┆ Hard    ┆ 32        ┆ … ┆ null    ┆ null      ┆ null      ┆ Auckland_2 │\n",
       "│            ┆            ┆         ┆           ┆   ┆         ┆           ┆           ┆ 000_double │\n",
       "│            ┆            ┆         ┆           ┆   ┆         ┆           ┆           ┆ s_atp      │\n",
       "│ 2000-301   ┆ Auckland   ┆ Hard    ┆ 32        ┆ … ┆ null    ┆ null      ┆ null      ┆ Auckland_2 │\n",
       "│            ┆            ┆         ┆           ┆   ┆         ┆           ┆           ┆ 000_double │\n",
       "│            ┆            ┆         ┆           ┆   ┆         ┆           ┆           ┆ s_atp      │\n",
       "│ 2000-301   ┆ Auckland   ┆ Hard    ┆ 32        ┆ … ┆ null    ┆ null      ┆ null      ┆ Auckland_2 │\n",
       "│            ┆            ┆         ┆           ┆   ┆         ┆           ┆           ┆ 000_double │\n",
       "│            ┆            ┆         ┆           ┆   ┆         ┆           ┆           ┆ s_atp      │\n",
       "│ …          ┆ …          ┆ …       ┆ …         ┆ … ┆ …       ┆ …         ┆ …         ┆ …          │\n",
       "│ 2020-M-DC- ┆ Davis Cup  ┆ Clay    ┆ 4         ┆ … ┆ null    ┆ null      ┆ null      ┆ Davis Cup  │\n",
       "│ 2020-WG2-P ┆ WG2 PO:    ┆         ┆           ┆   ┆         ┆           ┆           ┆ WG2 PO:    │\n",
       "│ O-MAR-VIE- ┆ MAR vs VIE ┆         ┆           ┆   ┆         ┆           ┆           ┆ MAR vs     │\n",
       "│ …          ┆            ┆         ┆           ┆   ┆         ┆           ┆           ┆ VIE_2…     │\n",
       "│ 2020-M-DC- ┆ Davis Cup  ┆ Clay    ┆ 4         ┆ … ┆ null    ┆ null      ┆ null      ┆ Davis Cup  │\n",
       "│ 2020-WG2-P ┆ WG2 PO:    ┆         ┆           ┆   ┆         ┆           ┆           ┆ WG2 PO:    │\n",
       "│ O-PAR-SRI- ┆ PAR vs SRI ┆         ┆           ┆   ┆         ┆           ┆           ┆ PAR vs     │\n",
       "│ …          ┆            ┆         ┆           ┆   ┆         ┆           ┆           ┆ SRI_2…     │\n",
       "│ 2020-M-DC- ┆ Davis Cup  ┆ Clay    ┆ 4         ┆ … ┆ null    ┆ null      ┆ null      ┆ Davis Cup  │\n",
       "│ 2020-WG2-P ┆ WG2 PO:    ┆         ┆           ┆   ┆         ┆           ┆           ┆ WG2 PO:    │\n",
       "│ O-PHI-GRE- ┆ PHI vs GRE ┆         ┆           ┆   ┆         ┆           ┆           ┆ PHI vs     │\n",
       "│ …          ┆            ┆         ┆           ┆   ┆         ┆           ┆           ┆ GRE_2…     │\n",
       "│ 2020-M-DC- ┆ Davis Cup  ┆ Hard    ┆ 4         ┆ … ┆ null    ┆ null      ┆ null      ┆ Davis Cup  │\n",
       "│ 2020-WG2-P ┆ WG2 PO:    ┆         ┆           ┆   ┆         ┆           ┆           ┆ WG2 PO:    │\n",
       "│ O-POL-HKG- ┆ POL vs HKG ┆         ┆           ┆   ┆         ┆           ┆           ┆ POL vs     │\n",
       "│ …          ┆            ┆         ┆           ┆   ┆         ┆           ┆           ┆ HKG_2…     │\n",
       "│ 2020-M-DC- ┆ Davis Cup  ┆ Hard    ┆ 4         ┆ … ┆ null    ┆ null      ┆ null      ┆ Davis Cup  │\n",
       "│ 2020-WG2-P ┆ WG2 PO:    ┆         ┆           ┆   ┆         ┆           ┆           ┆ WG2 PO:    │\n",
       "│ O-SYR-ZIM- ┆ SYR vs ZIM ┆         ┆           ┆   ┆         ┆           ┆           ┆ SYR vs     │\n",
       "│ …          ┆            ┆         ┆           ┆   ┆         ┆           ┆           ┆ ZIM_2…     │\n",
       "└────────────┴────────────┴─────────┴───────────┴───┴─────────┴───────────┴───────────┴────────────┘"
      ]
     },
     "execution_count": 22,
     "metadata": {},
     "output_type": "execute_result"
    }
   ],
   "source": [
    "matches_doubles_atp=import_tennis_matches(data_type=\"doubles\")\n",
    "\n",
    "matches_doubles_atp = matches_doubles_atp.with_columns(\n",
    "    (pl.col(\"tourney_name\") + \"_\" + pl.col(\"tourney_date\").dt.year().cast(pl.Utf8)+\"_doubles_atp\").alias(\"tourney_name_date_matches\")\n",
    ")\n",
    "matches_doubles_atp"
   ]
  },
  {
   "cell_type": "code",
   "execution_count": 23,
   "metadata": {},
   "outputs": [
    {
     "data": {
      "text/html": [
       "<div><style>\n",
       ".dataframe > thead > tr,\n",
       ".dataframe > tbody > tr {\n",
       "  text-align: right;\n",
       "  white-space: pre-wrap;\n",
       "}\n",
       "</style>\n",
       "<small>shape: (1_345, 7)</small><table border=\"1\" class=\"dataframe\"><thead><tr><th>tourney_name</th><th>surface</th><th>draw_size</th><th>tourney_level</th><th>tourney_date</th><th>tourney_name_date_matches</th><th>best_of</th></tr><tr><td>str</td><td>str</td><td>i64</td><td>str</td><td>date</td><td>str</td><td>i64</td></tr></thead><tbody><tr><td>&quot;Stuttgart&quot;</td><td>&quot;Clay&quot;</td><td>48</td><td>&quot;A&quot;</td><td>2006-07-17</td><td>&quot;Stuttgart_2006_doubles_atp&quot;</td><td>3</td></tr><tr><td>&quot;Canada Masters&quot;</td><td>&quot;Hard&quot;</td><td>64</td><td>&quot;M&quot;</td><td>2018-08-06</td><td>&quot;Canada Masters_2018_doubles_at…</td><td>3</td></tr><tr><td>&quot;Auckland&quot;</td><td>&quot;Hard&quot;</td><td>32</td><td>&quot;A&quot;</td><td>2006-01-09</td><td>&quot;Auckland_2006_doubles_atp&quot;</td><td>3</td></tr><tr><td>&quot;Tashkent&quot;</td><td>&quot;Hard&quot;</td><td>32</td><td>&quot;A&quot;</td><td>2000-09-11</td><td>&quot;Tashkent_2000_doubles_atp&quot;</td><td>3</td></tr><tr><td>&quot;Beijing&quot;</td><td>&quot;Hard&quot;</td><td>32</td><td>&quot;A&quot;</td><td>2015-10-05</td><td>&quot;Beijing_2015_doubles_atp&quot;</td><td>3</td></tr><tr><td>&hellip;</td><td>&hellip;</td><td>&hellip;</td><td>&hellip;</td><td>&hellip;</td><td>&hellip;</td><td>&hellip;</td></tr><tr><td>&quot;Buenos Aires&quot;</td><td>&quot;Clay&quot;</td><td>32</td><td>&quot;A&quot;</td><td>2018-02-12</td><td>&quot;Buenos Aires_2018_doubles_atp&quot;</td><td>3</td></tr><tr><td>&quot;Hamburg Masters&quot;</td><td>&quot;Clay&quot;</td><td>56</td><td>&quot;M&quot;</td><td>2008-05-11</td><td>&quot;Hamburg Masters_2008_doubles_a…</td><td>3</td></tr><tr><td>&quot;Tour Finals&quot;</td><td>&quot;Hard&quot;</td><td>8</td><td>&quot;A&quot;</td><td>2017-11-13</td><td>&quot;Tour Finals_2017_doubles_atp&quot;</td><td>3</td></tr><tr><td>&quot;Winston-Salem&quot;</td><td>&quot;Hard&quot;</td><td>64</td><td>&quot;A&quot;</td><td>2017-08-21</td><td>&quot;Winston-Salem_2017_doubles_atp&quot;</td><td>3</td></tr><tr><td>&quot;Indian Wells Masters&quot;</td><td>&quot;Hard&quot;</td><td>96</td><td>&quot;M&quot;</td><td>2006-03-06</td><td>&quot;Indian Wells Masters_2006_doub…</td><td>3</td></tr></tbody></table></div>"
      ],
      "text/plain": [
       "shape: (1_345, 7)\n",
       "┌─────────────────┬─────────┬───────────┬───────────────┬──────────────┬─────────────────┬─────────┐\n",
       "│ tourney_name    ┆ surface ┆ draw_size ┆ tourney_level ┆ tourney_date ┆ tourney_name_da ┆ best_of │\n",
       "│ ---             ┆ ---     ┆ ---       ┆ ---           ┆ ---          ┆ te_matches      ┆ ---     │\n",
       "│ str             ┆ str     ┆ i64       ┆ str           ┆ date         ┆ ---             ┆ i64     │\n",
       "│                 ┆         ┆           ┆               ┆              ┆ str             ┆         │\n",
       "╞═════════════════╪═════════╪═══════════╪═══════════════╪══════════════╪═════════════════╪═════════╡\n",
       "│ Stuttgart       ┆ Clay    ┆ 48        ┆ A             ┆ 2006-07-17   ┆ Stuttgart_2006_ ┆ 3       │\n",
       "│                 ┆         ┆           ┆               ┆              ┆ doubles_atp     ┆         │\n",
       "│ Canada Masters  ┆ Hard    ┆ 64        ┆ M             ┆ 2018-08-06   ┆ Canada Masters_ ┆ 3       │\n",
       "│                 ┆         ┆           ┆               ┆              ┆ 2018_doubles_at ┆         │\n",
       "│                 ┆         ┆           ┆               ┆              ┆ …               ┆         │\n",
       "│ Auckland        ┆ Hard    ┆ 32        ┆ A             ┆ 2006-01-09   ┆ Auckland_2006_d ┆ 3       │\n",
       "│                 ┆         ┆           ┆               ┆              ┆ oubles_atp      ┆         │\n",
       "│ Tashkent        ┆ Hard    ┆ 32        ┆ A             ┆ 2000-09-11   ┆ Tashkent_2000_d ┆ 3       │\n",
       "│                 ┆         ┆           ┆               ┆              ┆ oubles_atp      ┆         │\n",
       "│ Beijing         ┆ Hard    ┆ 32        ┆ A             ┆ 2015-10-05   ┆ Beijing_2015_do ┆ 3       │\n",
       "│                 ┆         ┆           ┆               ┆              ┆ ubles_atp       ┆         │\n",
       "│ …               ┆ …       ┆ …         ┆ …             ┆ …            ┆ …               ┆ …       │\n",
       "│ Buenos Aires    ┆ Clay    ┆ 32        ┆ A             ┆ 2018-02-12   ┆ Buenos Aires_20 ┆ 3       │\n",
       "│                 ┆         ┆           ┆               ┆              ┆ 18_doubles_atp  ┆         │\n",
       "│ Hamburg Masters ┆ Clay    ┆ 56        ┆ M             ┆ 2008-05-11   ┆ Hamburg Masters ┆ 3       │\n",
       "│                 ┆         ┆           ┆               ┆              ┆ _2008_doubles_a ┆         │\n",
       "│                 ┆         ┆           ┆               ┆              ┆ …               ┆         │\n",
       "│ Tour Finals     ┆ Hard    ┆ 8         ┆ A             ┆ 2017-11-13   ┆ Tour Finals_201 ┆ 3       │\n",
       "│                 ┆         ┆           ┆               ┆              ┆ 7_doubles_atp   ┆         │\n",
       "│ Winston-Salem   ┆ Hard    ┆ 64        ┆ A             ┆ 2017-08-21   ┆ Winston-Salem_2 ┆ 3       │\n",
       "│                 ┆         ┆           ┆               ┆              ┆ 017_doubles_atp ┆         │\n",
       "│ Indian Wells    ┆ Hard    ┆ 96        ┆ M             ┆ 2006-03-06   ┆ Indian Wells    ┆ 3       │\n",
       "│ Masters         ┆         ┆           ┆               ┆              ┆ Masters_2006_do ┆         │\n",
       "│                 ┆         ┆           ┆               ┆              ┆ ub…             ┆         │\n",
       "└─────────────────┴─────────┴───────────┴───────────────┴──────────────┴─────────────────┴─────────┘"
      ]
     },
     "execution_count": 23,
     "metadata": {},
     "output_type": "execute_result"
    }
   ],
   "source": [
    "tourney_doubles_matches_atp=matches_doubles_atp[['tourney_name', 'surface', 'draw_size', 'tourney_level', 'tourney_date', 'tourney_name_date_matches',\"best_of\"]]\n",
    "\n",
    "tourney_doubles_matches_atp=tourney_doubles_matches_atp.unique('tourney_name_date_matches')\n",
    "tourney_doubles_matches_atp"
   ]
  },
  {
   "cell_type": "code",
   "execution_count": 24,
   "metadata": {},
   "outputs": [
    {
     "data": {
      "text/html": [
       "<div><style>\n",
       ".dataframe > thead > tr,\n",
       ".dataframe > tbody > tr {\n",
       "  text-align: right;\n",
       "  white-space: pre-wrap;\n",
       "}\n",
       "</style>\n",
       "<small>shape: (65_019, 9)</small><table border=\"1\" class=\"dataframe\"><thead><tr><th>player_id</th><th>name_first</th><th>name_last</th><th>hand</th><th>dob</th><th>ioc</th><th>height</th><th>wikidata_id</th><th>name_full</th></tr><tr><td>i64</td><td>str</td><td>str</td><td>str</td><td>date</td><td>str</td><td>i64</td><td>str</td><td>str</td></tr></thead><tbody><tr><td>100001</td><td>&quot;Gardnar&quot;</td><td>&quot;Mulloy&quot;</td><td>&quot;R&quot;</td><td>1913-11-22</td><td>&quot;USA&quot;</td><td>185</td><td>&quot;Q54544&quot;</td><td>&quot;Gardnar Mulloy&quot;</td></tr><tr><td>100002</td><td>&quot;Pancho&quot;</td><td>&quot;Segura&quot;</td><td>&quot;R&quot;</td><td>1921-06-20</td><td>&quot;ECU&quot;</td><td>168</td><td>&quot;Q54581&quot;</td><td>&quot;Pancho Segura&quot;</td></tr><tr><td>100003</td><td>&quot;Frank&quot;</td><td>&quot;Sedgman&quot;</td><td>&quot;R&quot;</td><td>1927-10-02</td><td>&quot;AUS&quot;</td><td>180</td><td>&quot;Q962049&quot;</td><td>&quot;Frank Sedgman&quot;</td></tr><tr><td>100004</td><td>&quot;Giuseppe&quot;</td><td>&quot;Merlo&quot;</td><td>&quot;R&quot;</td><td>1927-10-11</td><td>&quot;ITA&quot;</td><td>null</td><td>&quot;Q1258752&quot;</td><td>&quot;Giuseppe Merlo&quot;</td></tr><tr><td>100005</td><td>&quot;Richard&quot;</td><td>&quot;Gonzalez&quot;</td><td>&quot;R&quot;</td><td>1928-05-09</td><td>&quot;USA&quot;</td><td>188</td><td>&quot;Q53554&quot;</td><td>&quot;Richard Gonzalez&quot;</td></tr><tr><td>&hellip;</td><td>&hellip;</td><td>&hellip;</td><td>&hellip;</td><td>&hellip;</td><td>&hellip;</td><td>&hellip;</td><td>&hellip;</td><td>&hellip;</td></tr><tr><td>212913</td><td>&quot;Pietro&quot;</td><td>&quot;Ricci&quot;</td><td>&quot;U&quot;</td><td>null</td><td>&quot;ITA&quot;</td><td>null</td><td>null</td><td>&quot;Pietro Ricci&quot;</td></tr><tr><td>212914</td><td>&quot;Corey&quot;</td><td>&quot;Craig&quot;</td><td>&quot;U&quot;</td><td>null</td><td>&quot;USA&quot;</td><td>null</td><td>null</td><td>&quot;Corey Craig&quot;</td></tr><tr><td>212915</td><td>&quot;Aleksandar&quot;</td><td>&quot;Ljubojevic&quot;</td><td>&quot;U&quot;</td><td>null</td><td>&quot;SRB&quot;</td><td>null</td><td>null</td><td>&quot;Aleksandar Ljubojevic&quot;</td></tr><tr><td>212916</td><td>&quot;Marko&quot;</td><td>&quot;Milosavljevic&quot;</td><td>&quot;U&quot;</td><td>null</td><td>&quot;SRB&quot;</td><td>null</td><td>null</td><td>&quot;Marko Milosavljevic&quot;</td></tr><tr><td>212917</td><td>&quot;Stefan&quot;</td><td>&quot;Skobelev&quot;</td><td>&quot;U&quot;</td><td>null</td><td>&quot;SRB&quot;</td><td>null</td><td>null</td><td>&quot;Stefan Skobelev&quot;</td></tr></tbody></table></div>"
      ],
      "text/plain": [
       "shape: (65_019, 9)\n",
       "┌───────────┬────────────┬───────────────┬──────┬───┬─────┬────────┬─────────────┬─────────────────┐\n",
       "│ player_id ┆ name_first ┆ name_last     ┆ hand ┆ … ┆ ioc ┆ height ┆ wikidata_id ┆ name_full       │\n",
       "│ ---       ┆ ---        ┆ ---           ┆ ---  ┆   ┆ --- ┆ ---    ┆ ---         ┆ ---             │\n",
       "│ i64       ┆ str        ┆ str           ┆ str  ┆   ┆ str ┆ i64    ┆ str         ┆ str             │\n",
       "╞═══════════╪════════════╪═══════════════╪══════╪═══╪═════╪════════╪═════════════╪═════════════════╡\n",
       "│ 100001    ┆ Gardnar    ┆ Mulloy        ┆ R    ┆ … ┆ USA ┆ 185    ┆ Q54544      ┆ Gardnar Mulloy  │\n",
       "│ 100002    ┆ Pancho     ┆ Segura        ┆ R    ┆ … ┆ ECU ┆ 168    ┆ Q54581      ┆ Pancho Segura   │\n",
       "│ 100003    ┆ Frank      ┆ Sedgman       ┆ R    ┆ … ┆ AUS ┆ 180    ┆ Q962049     ┆ Frank Sedgman   │\n",
       "│ 100004    ┆ Giuseppe   ┆ Merlo         ┆ R    ┆ … ┆ ITA ┆ null   ┆ Q1258752    ┆ Giuseppe Merlo  │\n",
       "│ 100005    ┆ Richard    ┆ Gonzalez      ┆ R    ┆ … ┆ USA ┆ 188    ┆ Q53554      ┆ Richard         │\n",
       "│           ┆            ┆               ┆      ┆   ┆     ┆        ┆             ┆ Gonzalez        │\n",
       "│ …         ┆ …          ┆ …             ┆ …    ┆ … ┆ …   ┆ …      ┆ …           ┆ …               │\n",
       "│ 212913    ┆ Pietro     ┆ Ricci         ┆ U    ┆ … ┆ ITA ┆ null   ┆ null        ┆ Pietro Ricci    │\n",
       "│ 212914    ┆ Corey      ┆ Craig         ┆ U    ┆ … ┆ USA ┆ null   ┆ null        ┆ Corey Craig     │\n",
       "│ 212915    ┆ Aleksandar ┆ Ljubojevic    ┆ U    ┆ … ┆ SRB ┆ null   ┆ null        ┆ Aleksandar      │\n",
       "│           ┆            ┆               ┆      ┆   ┆     ┆        ┆             ┆ Ljubojevic      │\n",
       "│ 212916    ┆ Marko      ┆ Milosavljevic ┆ U    ┆ … ┆ SRB ┆ null   ┆ null        ┆ Marko           │\n",
       "│           ┆            ┆               ┆      ┆   ┆     ┆        ┆             ┆ Milosavljevic   │\n",
       "│ 212917    ┆ Stefan     ┆ Skobelev      ┆ U    ┆ … ┆ SRB ┆ null   ┆ null        ┆ Stefan Skobelev │\n",
       "└───────────┴────────────┴───────────────┴──────┴───┴─────┴────────┴─────────────┴─────────────────┘"
      ]
     },
     "execution_count": 24,
     "metadata": {},
     "output_type": "execute_result"
    }
   ],
   "source": [
    "players_atp"
   ]
  },
  {
   "cell_type": "code",
   "execution_count": 25,
   "metadata": {},
   "outputs": [
    {
     "data": {
      "text/html": [
       "<div><style>\n",
       ".dataframe > thead > tr,\n",
       ".dataframe > tbody > tr {\n",
       "  text-align: right;\n",
       "  white-space: pre-wrap;\n",
       "}\n",
       "</style>\n",
       "<small>shape: (70_036, 9)</small><table border=\"1\" class=\"dataframe\"><thead><tr><th>player_id</th><th>name_first</th><th>name_last</th><th>hand</th><th>dob</th><th>ioc</th><th>height</th><th>wikidata_id</th><th>name_full</th></tr><tr><td>i64</td><td>str</td><td>str</td><td>str</td><td>date</td><td>str</td><td>i64</td><td>str</td><td>str</td></tr></thead><tbody><tr><td>113190</td><td>&quot;Bobby&quot;</td><td>&quot;Riggs&quot;</td><td>&quot;U&quot;</td><td>null</td><td>&quot;USA&quot;</td><td>null</td><td>null</td><td>&quot;Bobby Riggs&quot;</td></tr><tr><td>200000</td><td>&quot;X&quot;</td><td>&quot;X&quot;</td><td>&quot;U&quot;</td><td>null</td><td>&quot;UNK&quot;</td><td>null</td><td>null</td><td>&quot;X X&quot;</td></tr><tr><td>200001</td><td>&quot;Martina&quot;</td><td>&quot;Hingis&quot;</td><td>&quot;R&quot;</td><td>1980-09-30</td><td>&quot;SUI&quot;</td><td>170</td><td>&quot;Q134720&quot;</td><td>&quot;Martina Hingis&quot;</td></tr><tr><td>200002</td><td>&quot;Mirjana&quot;</td><td>&quot;Lucic&quot;</td><td>&quot;R&quot;</td><td>1982-03-09</td><td>&quot;CRO&quot;</td><td>181</td><td>&quot;Q239686&quot;</td><td>&quot;Mirjana Lucic&quot;</td></tr><tr><td>200003</td><td>&quot;Justine&quot;</td><td>&quot;Henin&quot;</td><td>&quot;R&quot;</td><td>1982-06-01</td><td>&quot;BEL&quot;</td><td>167</td><td>&quot;Q11682&quot;</td><td>&quot;Justine Henin&quot;</td></tr><tr><td>&hellip;</td><td>&hellip;</td><td>&hellip;</td><td>&hellip;</td><td>&hellip;</td><td>&hellip;</td><td>&hellip;</td><td>&hellip;</td><td>&hellip;</td></tr><tr><td>270041</td><td>&quot;Emily&quot;</td><td>&quot;Dunn&quot;</td><td>&quot;U&quot;</td><td>null</td><td>&quot;NZL&quot;</td><td>null</td><td>null</td><td>&quot;Emily Dunn&quot;</td></tr><tr><td>270042</td><td>&quot;Serena&quot;</td><td>&quot;Rodricks&quot;</td><td>&quot;U&quot;</td><td>null</td><td>&quot;IND&quot;</td><td>null</td><td>null</td><td>&quot;Serena Rodricks&quot;</td></tr><tr><td>270043</td><td>&quot;Isha&quot;</td><td>&quot;Mohite&quot;</td><td>&quot;U&quot;</td><td>null</td><td>&quot;IND&quot;</td><td>null</td><td>null</td><td>&quot;Isha Mohite&quot;</td></tr><tr><td>270044</td><td>&quot;Una&quot;</td><td>&quot;Misic&quot;</td><td>&quot;U&quot;</td><td>null</td><td>&quot;NZL&quot;</td><td>null</td><td>null</td><td>&quot;Una Misic&quot;</td></tr><tr><td>270045</td><td>&quot;Dorea&quot;</td><td>&quot;Morina&quot;</td><td>&quot;U&quot;</td><td>null</td><td>&quot;NZL&quot;</td><td>null</td><td>null</td><td>&quot;Dorea Morina&quot;</td></tr></tbody></table></div>"
      ],
      "text/plain": [
       "shape: (70_036, 9)\n",
       "┌───────────┬────────────┬───────────┬──────┬───┬─────┬────────┬─────────────┬─────────────────┐\n",
       "│ player_id ┆ name_first ┆ name_last ┆ hand ┆ … ┆ ioc ┆ height ┆ wikidata_id ┆ name_full       │\n",
       "│ ---       ┆ ---        ┆ ---       ┆ ---  ┆   ┆ --- ┆ ---    ┆ ---         ┆ ---             │\n",
       "│ i64       ┆ str        ┆ str       ┆ str  ┆   ┆ str ┆ i64    ┆ str         ┆ str             │\n",
       "╞═══════════╪════════════╪═══════════╪══════╪═══╪═════╪════════╪═════════════╪═════════════════╡\n",
       "│ 113190    ┆ Bobby      ┆ Riggs     ┆ U    ┆ … ┆ USA ┆ null   ┆ null        ┆ Bobby Riggs     │\n",
       "│ 200000    ┆ X          ┆ X         ┆ U    ┆ … ┆ UNK ┆ null   ┆ null        ┆ X X             │\n",
       "│ 200001    ┆ Martina    ┆ Hingis    ┆ R    ┆ … ┆ SUI ┆ 170    ┆ Q134720     ┆ Martina Hingis  │\n",
       "│ 200002    ┆ Mirjana    ┆ Lucic     ┆ R    ┆ … ┆ CRO ┆ 181    ┆ Q239686     ┆ Mirjana Lucic   │\n",
       "│ 200003    ┆ Justine    ┆ Henin     ┆ R    ┆ … ┆ BEL ┆ 167    ┆ Q11682      ┆ Justine Henin   │\n",
       "│ …         ┆ …          ┆ …         ┆ …    ┆ … ┆ …   ┆ …      ┆ …           ┆ …               │\n",
       "│ 270041    ┆ Emily      ┆ Dunn      ┆ U    ┆ … ┆ NZL ┆ null   ┆ null        ┆ Emily Dunn      │\n",
       "│ 270042    ┆ Serena     ┆ Rodricks  ┆ U    ┆ … ┆ IND ┆ null   ┆ null        ┆ Serena Rodricks │\n",
       "│ 270043    ┆ Isha       ┆ Mohite    ┆ U    ┆ … ┆ IND ┆ null   ┆ null        ┆ Isha Mohite     │\n",
       "│ 270044    ┆ Una        ┆ Misic     ┆ U    ┆ … ┆ NZL ┆ null   ┆ null        ┆ Una Misic       │\n",
       "│ 270045    ┆ Dorea      ┆ Morina    ┆ U    ┆ … ┆ NZL ┆ null   ┆ null        ┆ Dorea Morina    │\n",
       "└───────────┴────────────┴───────────┴──────┴───┴─────┴────────┴─────────────┴─────────────────┘"
      ]
     },
     "execution_count": 25,
     "metadata": {},
     "output_type": "execute_result"
    }
   ],
   "source": [
    "players_wta"
   ]
  },
  {
   "cell_type": "code",
   "execution_count": 2,
   "metadata": {},
   "outputs": [
    {
     "ename": "NameError",
     "evalue": "name 'tourney_single_matches_atp' is not defined",
     "output_type": "error",
     "traceback": [
      "\u001b[1;31m---------------------------------------------------------------------------\u001b[0m",
      "\u001b[1;31mNameError\u001b[0m                                 Traceback (most recent call last)",
      "Cell \u001b[1;32mIn[2], line 1\u001b[0m\n\u001b[1;32m----> 1\u001b[0m tourney_single_matches_atp \u001b[38;5;241m=\u001b[39m \u001b[43mtourney_single_matches_atp\u001b[49m\u001b[38;5;241m.\u001b[39mwith_columns(\n\u001b[0;32m      2\u001b[0m     pl\u001b[38;5;241m.\u001b[39mcol(\u001b[38;5;124m\"\u001b[39m\u001b[38;5;124mdraw_size\u001b[39m\u001b[38;5;124m\"\u001b[39m)\u001b[38;5;241m.\u001b[39mcast(pl\u001b[38;5;241m.\u001b[39mUtf8)\u001b[38;5;241m.\u001b[39malias(\u001b[38;5;124m\"\u001b[39m\u001b[38;5;124mdraw_size\u001b[39m\u001b[38;5;124m\"\u001b[39m)\n\u001b[0;32m      3\u001b[0m )\n\u001b[0;32m      5\u001b[0m tourney_single_matches_wta \u001b[38;5;241m=\u001b[39m tourney_single_matches_wta\u001b[38;5;241m.\u001b[39mwith_columns(\n\u001b[0;32m      6\u001b[0m     pl\u001b[38;5;241m.\u001b[39mcol(\u001b[38;5;124m\"\u001b[39m\u001b[38;5;124mdraw_size\u001b[39m\u001b[38;5;124m\"\u001b[39m)\u001b[38;5;241m.\u001b[39mcast(pl\u001b[38;5;241m.\u001b[39mUtf8)\u001b[38;5;241m.\u001b[39malias(\u001b[38;5;124m\"\u001b[39m\u001b[38;5;124mdraw_size\u001b[39m\u001b[38;5;124m\"\u001b[39m)\n\u001b[0;32m      7\u001b[0m )\n\u001b[0;32m      9\u001b[0m tourney_amateurs_matches_atp \u001b[38;5;241m=\u001b[39m tourney_amateurs_matches_atp\u001b[38;5;241m.\u001b[39mwith_columns(\n\u001b[0;32m     10\u001b[0m     pl\u001b[38;5;241m.\u001b[39mcol(\u001b[38;5;124m\"\u001b[39m\u001b[38;5;124mdraw_size\u001b[39m\u001b[38;5;124m\"\u001b[39m)\u001b[38;5;241m.\u001b[39mcast(pl\u001b[38;5;241m.\u001b[39mUtf8)\u001b[38;5;241m.\u001b[39malias(\u001b[38;5;124m\"\u001b[39m\u001b[38;5;124mdraw_size\u001b[39m\u001b[38;5;124m\"\u001b[39m)\n\u001b[0;32m     11\u001b[0m )\n",
      "\u001b[1;31mNameError\u001b[0m: name 'tourney_single_matches_atp' is not defined"
     ]
    }
   ],
   "source": [
    "tourney_single_matches_atp = tourney_single_matches_atp.with_columns(\n",
    "    pl.col(\"draw_size\").cast(pl.Utf8).alias(\"draw_size\")\n",
    ")\n",
    "\n",
    "tourney_single_matches_wta = tourney_single_matches_wta.with_columns(\n",
    "    pl.col(\"draw_size\").cast(pl.Utf8).alias(\"draw_size\")\n",
    ")\n",
    "\n",
    "tourney_amateurs_matches_atp = tourney_amateurs_matches_atp.with_columns(\n",
    "    pl.col(\"draw_size\").cast(pl.Utf8).alias(\"draw_size\")\n",
    ")\n",
    "\n",
    "tourney_doubles_matches_atp = tourney_doubles_matches_atp.with_columns(\n",
    "    pl.col(\"draw_size\").cast(pl.Utf8).alias(\"draw_size\")\n",
    ")\n",
    "\n",
    "tourney_futures = tourney_futures.with_columns(\n",
    "    pl.col(\"draw_size\").cast(pl.Utf8).alias(\"draw_size\")\n",
    ")\n",
    "\n",
    "tourney_qualifiers_challengers = tourney_qualifiers_challengers.with_columns(\n",
    "    pl.col(\"draw_size\").cast(pl.Utf8).alias(\"draw_size\")\n",
    ")\n",
    "\n",
    "tourney_qualifiers_itf = tourney_qualifiers_itf.with_columns(\n",
    "    pl.col(\"draw_size\").cast(pl.Utf8).alias(\"draw_size\")\n",
    ")\n",
    "\n",
    "total_tourney = pl.concat([\n",
    "    tourney_single_matches_atp,\n",
    "    tourney_single_matches_wta,\n",
    "    tourney_amateurs_matches_atp,\n",
    "    tourney_doubles_matches_atp,\n",
    "    tourney_futures,\n",
    "    tourney_qualifiers_challengers,\n",
    "    tourney_qualifiers_itf\n",
    "], how=\"vertical\")\n",
    "\n",
    "total_tourney\n"
   ]
  },
  {
   "cell_type": "code",
   "execution_count": 29,
   "metadata": {},
   "outputs": [],
   "source": [
    "total_tourney.write_parquet(file=\"total_tourneys.parquet\",compression=\"zstd\")"
   ]
  },
  {
   "cell_type": "code",
   "execution_count": 3,
   "metadata": {},
   "outputs": [
    {
     "data": {
      "text/html": [
       "<div><style>\n",
       ".dataframe > thead > tr,\n",
       ".dataframe > tbody > tr {\n",
       "  text-align: right;\n",
       "  white-space: pre-wrap;\n",
       "}\n",
       "</style>\n",
       "<small>shape: (2_042_300, 6)</small><table border=\"1\" class=\"dataframe\"><thead><tr><th>ranking_date</th><th>rank</th><th>player</th><th>points</th><th>tours</th><th>ranking_id</th></tr><tr><td>date</td><td>i64</td><td>str</td><td>i64</td><td>i64</td><td>str</td></tr></thead><tbody><tr><td>1984-01-02</td><td>1</td><td>&quot;200293&quot;</td><td>null</td><td>null</td><td>&quot;1984-01-02_1_200293&quot;</td></tr><tr><td>1984-01-02</td><td>2</td><td>&quot;200259&quot;</td><td>null</td><td>null</td><td>&quot;1984-01-02_2_200259&quot;</td></tr><tr><td>1984-01-02</td><td>3</td><td>&quot;200381&quot;</td><td>null</td><td>null</td><td>&quot;1984-01-02_3_200381&quot;</td></tr><tr><td>1984-01-02</td><td>4</td><td>&quot;200397&quot;</td><td>null</td><td>null</td><td>&quot;1984-01-02_4_200397&quot;</td></tr><tr><td>1984-01-02</td><td>5</td><td>&quot;200360&quot;</td><td>null</td><td>null</td><td>&quot;1984-01-02_5_200360&quot;</td></tr><tr><td>&hellip;</td><td>&hellip;</td><td>&hellip;</td><td>&hellip;</td><td>&hellip;</td><td>&hellip;</td></tr><tr><td>2024-12-30</td><td>996</td><td>&quot;264150&quot;</td><td>19</td><td>6</td><td>&quot;2024-12-30_996_264150&quot;</td></tr><tr><td>2024-12-30</td><td>997</td><td>&quot;213948&quot;</td><td>19</td><td>6</td><td>&quot;2024-12-30_997_213948&quot;</td></tr><tr><td>2024-12-30</td><td>998</td><td>&quot;239160&quot;</td><td>19</td><td>8</td><td>&quot;2024-12-30_998_239160&quot;</td></tr><tr><td>2024-12-30</td><td>999</td><td>&quot;230881&quot;</td><td>19</td><td>9</td><td>&quot;2024-12-30_999_230881&quot;</td></tr><tr><td>2024-12-30</td><td>1000</td><td>&quot;215174&quot;</td><td>19</td><td>9</td><td>&quot;2024-12-30_1000_215174&quot;</td></tr></tbody></table></div>"
      ],
      "text/plain": [
       "shape: (2_042_300, 6)\n",
       "┌──────────────┬──────┬────────┬────────┬───────┬────────────────────────┐\n",
       "│ ranking_date ┆ rank ┆ player ┆ points ┆ tours ┆ ranking_id             │\n",
       "│ ---          ┆ ---  ┆ ---    ┆ ---    ┆ ---   ┆ ---                    │\n",
       "│ date         ┆ i64  ┆ str    ┆ i64    ┆ i64   ┆ str                    │\n",
       "╞══════════════╪══════╪════════╪════════╪═══════╪════════════════════════╡\n",
       "│ 1984-01-02   ┆ 1    ┆ 200293 ┆ null   ┆ null  ┆ 1984-01-02_1_200293    │\n",
       "│ 1984-01-02   ┆ 2    ┆ 200259 ┆ null   ┆ null  ┆ 1984-01-02_2_200259    │\n",
       "│ 1984-01-02   ┆ 3    ┆ 200381 ┆ null   ┆ null  ┆ 1984-01-02_3_200381    │\n",
       "│ 1984-01-02   ┆ 4    ┆ 200397 ┆ null   ┆ null  ┆ 1984-01-02_4_200397    │\n",
       "│ 1984-01-02   ┆ 5    ┆ 200360 ┆ null   ┆ null  ┆ 1984-01-02_5_200360    │\n",
       "│ …            ┆ …    ┆ …      ┆ …      ┆ …     ┆ …                      │\n",
       "│ 2024-12-30   ┆ 996  ┆ 264150 ┆ 19     ┆ 6     ┆ 2024-12-30_996_264150  │\n",
       "│ 2024-12-30   ┆ 997  ┆ 213948 ┆ 19     ┆ 6     ┆ 2024-12-30_997_213948  │\n",
       "│ 2024-12-30   ┆ 998  ┆ 239160 ┆ 19     ┆ 8     ┆ 2024-12-30_998_239160  │\n",
       "│ 2024-12-30   ┆ 999  ┆ 230881 ┆ 19     ┆ 9     ┆ 2024-12-30_999_230881  │\n",
       "│ 2024-12-30   ┆ 1000 ┆ 215174 ┆ 19     ┆ 9     ┆ 2024-12-30_1000_215174 │\n",
       "└──────────────┴──────┴────────┴────────┴───────┴────────────────────────┘"
      ]
     },
     "execution_count": 3,
     "metadata": {},
     "output_type": "execute_result"
    }
   ],
   "source": [
    "import_rankings(gender=\"atp\",write_parquet=True)\n",
    "import_rankings(gender=\"wta\",write_parquet=True)"
   ]
  },
  {
   "cell_type": "code",
   "execution_count": null,
   "metadata": {},
   "outputs": [
    {
     "ename": "ComputeError",
     "evalue": "arithmetic on string and numeric not allowed, try an explicit cast first",
     "output_type": "error",
     "traceback": [
      "\u001b[1;31m---------------------------------------------------------------------------\u001b[0m",
      "\u001b[1;31mComputeError\u001b[0m                              Traceback (most recent call last)",
      "Cell \u001b[1;32mIn[3], line 7\u001b[0m\n\u001b[0;32m      5\u001b[0m import_tennis_matches(data_type\u001b[38;5;241m=\u001b[39m\u001b[38;5;124m\"\u001b[39m\u001b[38;5;124mqualifiers_challengers\u001b[39m\u001b[38;5;124m\"\u001b[39m,write_parquet\u001b[38;5;241m=\u001b[39m\u001b[38;5;28;01mTrue\u001b[39;00m)\n\u001b[0;32m      6\u001b[0m import_tennis_matches(data_type\u001b[38;5;241m=\u001b[39m\u001b[38;5;124m\"\u001b[39m\u001b[38;5;124mqualifiers_itf\u001b[39m\u001b[38;5;124m\"\u001b[39m,gender\u001b[38;5;241m=\u001b[39m\u001b[38;5;124m\"\u001b[39m\u001b[38;5;124mwta\u001b[39m\u001b[38;5;124m\"\u001b[39m,write_parquet\u001b[38;5;241m=\u001b[39m\u001b[38;5;28;01mTrue\u001b[39;00m)\n\u001b[1;32m----> 7\u001b[0m \u001b[43mimport_matches_amateurs_atp\u001b[49m\u001b[43m(\u001b[49m\u001b[43mwrite_parquet\u001b[49m\u001b[38;5;241;43m=\u001b[39;49m\u001b[38;5;28;43;01mTrue\u001b[39;49;00m\u001b[43m)\u001b[49m\n",
      "File \u001b[1;32mc:\\Users\\filip\\OneDrive\\Desktop\\coding\\Tennis_data_study\\utils\\utils.py:185\u001b[0m, in \u001b[0;36mimport_matches_amateurs_atp\u001b[1;34m(base_path, write_parquet)\u001b[0m\n\u001b[0;32m    175\u001b[0m amateur_matches \u001b[38;5;241m=\u001b[39m amateur_matches\u001b[38;5;241m.\u001b[39mwith_columns(\n\u001b[0;32m    176\u001b[0m                 pl\u001b[38;5;241m.\u001b[39mcol(\u001b[38;5;124m'\u001b[39m\u001b[38;5;124mtourney_date\u001b[39m\u001b[38;5;124m'\u001b[39m)\n\u001b[0;32m    177\u001b[0m                 \u001b[38;5;241m.\u001b[39mstr\u001b[38;5;241m.\u001b[39mto_date(\u001b[38;5;28mformat\u001b[39m\u001b[38;5;241m=\u001b[39m\u001b[38;5;124m'\u001b[39m\u001b[38;5;124m%\u001b[39m\u001b[38;5;124mY\u001b[39m\u001b[38;5;124m%\u001b[39m\u001b[38;5;124mm\u001b[39m\u001b[38;5;132;01m%d\u001b[39;00m\u001b[38;5;124m'\u001b[39m)\n\u001b[0;32m    178\u001b[0m                 \u001b[38;5;241m.\u001b[39malias(\u001b[38;5;124m'\u001b[39m\u001b[38;5;124mtourney_date\u001b[39m\u001b[38;5;124m'\u001b[39m)\n\u001b[0;32m    179\u001b[0m                 )\n\u001b[0;32m    181\u001b[0m amateur_matches \u001b[38;5;241m=\u001b[39m amateur_matches\u001b[38;5;241m.\u001b[39mwith_columns(\n\u001b[0;32m    182\u001b[0m                     (pl\u001b[38;5;241m.\u001b[39mcol(\u001b[38;5;124m\"\u001b[39m\u001b[38;5;124mtourney_name\u001b[39m\u001b[38;5;124m\"\u001b[39m) \u001b[38;5;241m+\u001b[39m \u001b[38;5;124m\"\u001b[39m\u001b[38;5;124m_\u001b[39m\u001b[38;5;124m\"\u001b[39m \u001b[38;5;241m+\u001b[39m pl\u001b[38;5;241m.\u001b[39mcol(\u001b[38;5;124m\"\u001b[39m\u001b[38;5;124mtourney_date\u001b[39m\u001b[38;5;124m\"\u001b[39m)\u001b[38;5;241m.\u001b[39mdt\u001b[38;5;241m.\u001b[39myear()\u001b[38;5;241m.\u001b[39mcast(pl\u001b[38;5;241m.\u001b[39mUtf8)\u001b[38;5;241m+\u001b[39m\u001b[38;5;124mf\u001b[39m\u001b[38;5;124m\"\u001b[39m\u001b[38;5;124m_amateurs_atp\u001b[39m\u001b[38;5;124m\"\u001b[39m)\u001b[38;5;241m.\u001b[39malias(\u001b[38;5;124m\"\u001b[39m\u001b[38;5;124mtourney_id\u001b[39m\u001b[38;5;124m\"\u001b[39m)\n\u001b[0;32m    183\u001b[0m                     )\n\u001b[1;32m--> 185\u001b[0m amateur_matches \u001b[38;5;241m=\u001b[39m \u001b[43mamateur_matches\u001b[49m\u001b[38;5;241;43m.\u001b[39;49m\u001b[43mwith_columns\u001b[49m\u001b[43m(\u001b[49m\n\u001b[0;32m    186\u001b[0m \u001b[43m                    \u001b[49m\u001b[43m(\u001b[49m\u001b[43mpl\u001b[49m\u001b[38;5;241;43m.\u001b[39;49m\u001b[43mcol\u001b[49m\u001b[43m(\u001b[49m\u001b[38;5;124;43m\"\u001b[39;49m\u001b[38;5;124;43mwinner_id\u001b[39;49m\u001b[38;5;124;43m\"\u001b[39;49m\u001b[43m)\u001b[49m\u001b[43m \u001b[49m\u001b[38;5;241;43m+\u001b[39;49m\u001b[43m \u001b[49m\u001b[38;5;124;43m\"\u001b[39;49m\u001b[38;5;124;43m_\u001b[39;49m\u001b[38;5;124;43m\"\u001b[39;49m\u001b[43m \u001b[49m\u001b[38;5;241;43m+\u001b[39;49m\u001b[43m \u001b[49m\u001b[43mpl\u001b[49m\u001b[38;5;241;43m.\u001b[39;49m\u001b[43mcol\u001b[49m\u001b[43m(\u001b[49m\u001b[38;5;124;43m\"\u001b[39;49m\u001b[38;5;124;43mloser_id\u001b[39;49m\u001b[38;5;124;43m\"\u001b[39;49m\u001b[43m)\u001b[49m\u001b[43m \u001b[49m\u001b[38;5;241;43m+\u001b[39;49m\u001b[43m \u001b[49m\u001b[38;5;124;43m\"\u001b[39;49m\u001b[38;5;124;43m_\u001b[39;49m\u001b[38;5;124;43m\"\u001b[39;49m\u001b[43m \u001b[49m\u001b[38;5;241;43m+\u001b[39;49m\u001b[43m \u001b[49m\u001b[43mpl\u001b[49m\u001b[38;5;241;43m.\u001b[39;49m\u001b[43mcol\u001b[49m\u001b[43m(\u001b[49m\u001b[38;5;124;43m\"\u001b[39;49m\u001b[38;5;124;43mtourney_id\u001b[39;49m\u001b[38;5;124;43m\"\u001b[39;49m\u001b[43m)\u001b[49m\u001b[43m)\u001b[49m\u001b[38;5;241;43m.\u001b[39;49m\u001b[43malias\u001b[49m\u001b[43m(\u001b[49m\u001b[38;5;124;43m\"\u001b[39;49m\u001b[38;5;124;43mmatch_id\u001b[39;49m\u001b[38;5;124;43m\"\u001b[39;49m\u001b[43m)\u001b[49m\n\u001b[0;32m    187\u001b[0m \u001b[43m                    \u001b[49m\u001b[43m)\u001b[49m\n\u001b[0;32m    189\u001b[0m amateur_matches \u001b[38;5;241m=\u001b[39m amateur_matches\u001b[38;5;241m.\u001b[39mdrop([\u001b[38;5;124m\"\u001b[39m\u001b[38;5;124mtourney_name\u001b[39m\u001b[38;5;124m\"\u001b[39m,\u001b[38;5;124m\"\u001b[39m\u001b[38;5;124msurface\u001b[39m\u001b[38;5;124m\"\u001b[39m,\u001b[38;5;124m\"\u001b[39m\u001b[38;5;124mdraw_size\u001b[39m\u001b[38;5;124m\"\u001b[39m,\u001b[38;5;124m\"\u001b[39m\u001b[38;5;124mtourney_level\u001b[39m\u001b[38;5;124m\"\u001b[39m,\u001b[38;5;124m\"\u001b[39m\u001b[38;5;124mtourney_date\u001b[39m\u001b[38;5;124m\"\u001b[39m,\u001b[38;5;124m\"\u001b[39m\u001b[38;5;124mwinner_name\u001b[39m\u001b[38;5;124m\"\u001b[39m,\u001b[38;5;124m\"\u001b[39m\u001b[38;5;124mwinner_hand\u001b[39m\u001b[38;5;124m\"\u001b[39m,\u001b[38;5;124m\"\u001b[39m\u001b[38;5;124mwinner_ht\u001b[39m\u001b[38;5;124m\"\u001b[39m,\u001b[38;5;124m\"\u001b[39m\u001b[38;5;124mwinner_ioc\u001b[39m\u001b[38;5;124m\"\u001b[39m,\u001b[38;5;124m\"\u001b[39m\u001b[38;5;124mloser_name\u001b[39m\u001b[38;5;124m\"\u001b[39m,\u001b[38;5;124m\"\u001b[39m\u001b[38;5;124mloser_hand\u001b[39m\u001b[38;5;124m\"\u001b[39m,\u001b[38;5;124m\"\u001b[39m\u001b[38;5;124mloser_ht\u001b[39m\u001b[38;5;124m\"\u001b[39m,\u001b[38;5;124m\"\u001b[39m\u001b[38;5;124mloser_ioc\u001b[39m\u001b[38;5;124m\"\u001b[39m])\n\u001b[0;32m    191\u001b[0m \u001b[38;5;28;01mif\u001b[39;00m write_parquet\u001b[38;5;241m==\u001b[39m\u001b[38;5;28;01mTrue\u001b[39;00m:\n",
      "File \u001b[1;32mc:\\Users\\filip\\AppData\\Local\\Programs\\Python\\Python312\\Lib\\site-packages\\polars\\dataframe\\frame.py:8634\u001b[0m, in \u001b[0;36mDataFrame.with_columns\u001b[1;34m(self, *exprs, **named_exprs)\u001b[0m\n\u001b[0;32m   8488\u001b[0m \u001b[38;5;28;01mdef\u001b[39;00m \u001b[38;5;21mwith_columns\u001b[39m(\n\u001b[0;32m   8489\u001b[0m     \u001b[38;5;28mself\u001b[39m,\n\u001b[0;32m   8490\u001b[0m     \u001b[38;5;241m*\u001b[39mexprs: IntoExpr \u001b[38;5;241m|\u001b[39m Iterable[IntoExpr],\n\u001b[0;32m   8491\u001b[0m     \u001b[38;5;241m*\u001b[39m\u001b[38;5;241m*\u001b[39mnamed_exprs: IntoExpr,\n\u001b[0;32m   8492\u001b[0m ) \u001b[38;5;241m-\u001b[39m\u001b[38;5;241m>\u001b[39m DataFrame:\n\u001b[0;32m   8493\u001b[0m \u001b[38;5;250m    \u001b[39m\u001b[38;5;124;03m\"\"\"\u001b[39;00m\n\u001b[0;32m   8494\u001b[0m \u001b[38;5;124;03m    Add columns to this DataFrame.\u001b[39;00m\n\u001b[0;32m   8495\u001b[0m \n\u001b[1;32m   (...)\u001b[0m\n\u001b[0;32m   8632\u001b[0m \u001b[38;5;124;03m    └─────┴──────┴─────────────┘\u001b[39;00m\n\u001b[0;32m   8633\u001b[0m \u001b[38;5;124;03m    \"\"\"\u001b[39;00m\n\u001b[1;32m-> 8634\u001b[0m     \u001b[38;5;28;01mreturn\u001b[39;00m \u001b[38;5;28;43mself\u001b[39;49m\u001b[38;5;241;43m.\u001b[39;49m\u001b[43mlazy\u001b[49m\u001b[43m(\u001b[49m\u001b[43m)\u001b[49m\u001b[38;5;241;43m.\u001b[39;49m\u001b[43mwith_columns\u001b[49m\u001b[43m(\u001b[49m\u001b[38;5;241;43m*\u001b[39;49m\u001b[43mexprs\u001b[49m\u001b[43m,\u001b[49m\u001b[43m \u001b[49m\u001b[38;5;241;43m*\u001b[39;49m\u001b[38;5;241;43m*\u001b[39;49m\u001b[43mnamed_exprs\u001b[49m\u001b[43m)\u001b[49m\u001b[38;5;241;43m.\u001b[39;49m\u001b[43mcollect\u001b[49m\u001b[43m(\u001b[49m\u001b[43m_eager\u001b[49m\u001b[38;5;241;43m=\u001b[39;49m\u001b[38;5;28;43;01mTrue\u001b[39;49;00m\u001b[43m)\u001b[49m\n",
      "File \u001b[1;32mc:\\Users\\filip\\AppData\\Local\\Programs\\Python\\Python312\\Lib\\site-packages\\polars\\lazyframe\\frame.py:1967\u001b[0m, in \u001b[0;36mLazyFrame.collect\u001b[1;34m(self, type_coercion, predicate_pushdown, projection_pushdown, simplify_expression, slice_pushdown, comm_subplan_elim, comm_subexpr_elim, cluster_with_columns, no_optimization, streaming, background, _eager, **_kwargs)\u001b[0m\n\u001b[0;32m   1964\u001b[0m \u001b[38;5;66;03m# Only for testing purposes atm.\u001b[39;00m\n\u001b[0;32m   1965\u001b[0m callback \u001b[38;5;241m=\u001b[39m _kwargs\u001b[38;5;241m.\u001b[39mget(\u001b[38;5;124m\"\u001b[39m\u001b[38;5;124mpost_opt_callback\u001b[39m\u001b[38;5;124m\"\u001b[39m)\n\u001b[1;32m-> 1967\u001b[0m \u001b[38;5;28;01mreturn\u001b[39;00m wrap_df(\u001b[43mldf\u001b[49m\u001b[38;5;241;43m.\u001b[39;49m\u001b[43mcollect\u001b[49m\u001b[43m(\u001b[49m\u001b[43mcallback\u001b[49m\u001b[43m)\u001b[49m)\n",
      "\u001b[1;31mComputeError\u001b[0m: arithmetic on string and numeric not allowed, try an explicit cast first"
     ]
    }
   ],
   "source": [
    "import_tennis_matches(data_type=\"singles\",write_parquet=True)\n",
    "import_tennis_matches(data_type=\"doubles\",write_parquet=True)\n",
    "import_tennis_matches(data_type=\"singles\",gender=\"wta\",write_parquet=True)\n",
    "import_tennis_matches(data_type=\"futures\",write_parquet=True)\n",
    "import_tennis_matches(data_type=\"qualifiers_challengers\",write_parquet=True)\n",
    "import_tennis_matches(data_type=\"qualifiers_itf\",gender=\"wta\",write_parquet=True)\n"
   ]
  },
  {
   "cell_type": "code",
   "execution_count": 2,
   "metadata": {},
   "outputs": [
    {
     "data": {
      "text/html": [
       "<div><style>\n",
       ".dataframe > thead > tr,\n",
       ".dataframe > tbody > tr {\n",
       "  text-align: right;\n",
       "  white-space: pre-wrap;\n",
       "}\n",
       "</style>\n",
       "<small>shape: (26_399, 47)</small><table border=\"1\" class=\"dataframe\"><thead><tr><th>match_num</th><th>winner1_id</th><th>winner2_id</th><th>winner_seed</th><th>winner_entry</th><th>loser1_id</th><th>loser2_id</th><th>loser_seed</th><th>loser_entry</th><th>score</th><th>round</th><th>winner1_age</th><th>winner2_age</th><th>loser1_hand</th><th>loser1_ht</th><th>loser1_ioc</th><th>loser1_age</th><th>loser2_age</th><th>winner1_rank</th><th>winner1_rank_points</th><th>winner2_rank</th><th>winner2_rank_points</th><th>loser1_rank</th><th>loser1_rank_points</th><th>loser2_rank</th><th>loser2_rank_points</th><th>minutes</th><th>w_ace</th><th>w_df</th><th>w_svpt</th><th>w_1stIn</th><th>w_1stWon</th><th>w_2ndWon</th><th>w_SvGms</th><th>w_bpSaved</th><th>w_bpFaced</th><th>l_ace</th><th>l_df</th><th>l_svpt</th><th>l_1stIn</th><th>l_1stWon</th><th>l_2ndWon</th><th>l_SvGms</th><th>l_bpSaved</th><th>l_bpFaced</th><th>tourney_id</th><th>match_id</th></tr><tr><td>i64</td><td>str</td><td>str</td><td>str</td><td>str</td><td>str</td><td>str</td><td>str</td><td>str</td><td>str</td><td>str</td><td>f64</td><td>f64</td><td>str</td><td>i64</td><td>str</td><td>f64</td><td>f64</td><td>i64</td><td>i64</td><td>i64</td><td>i64</td><td>i64</td><td>i64</td><td>i64</td><td>i64</td><td>str</td><td>str</td><td>str</td><td>str</td><td>str</td><td>str</td><td>str</td><td>str</td><td>str</td><td>str</td><td>str</td><td>str</td><td>str</td><td>str</td><td>str</td><td>str</td><td>str</td><td>str</td><td>str</td><td>str</td><td>str</td></tr></thead><tbody><tr><td>300</td><td>&quot;101704&quot;</td><td>&quot;101097&quot;</td><td>&quot;1&quot;</td><td>null</td><td>&quot;101358&quot;</td><td>&quot;101543&quot;</td><td>&quot;2&quot;</td><td>null</td><td>&quot;7-5 6-4&quot;</td><td>&quot;F&quot;</td><td>29.889117</td><td>35.033539</td><td>&quot;R&quot;</td><td>170</td><td>&quot;FRA&quot;</td><td>32.610541</td><td>31.137577</td><td>13</td><td>0</td><td>15</td><td>0</td><td>16</td><td>0</td><td>17</td><td>0</td><td>null</td><td>null</td><td>null</td><td>null</td><td>null</td><td>null</td><td>null</td><td>null</td><td>null</td><td>null</td><td>null</td><td>null</td><td>null</td><td>null</td><td>null</td><td>null</td><td>null</td><td>null</td><td>null</td><td>&quot;Auckland_2000_doubles_atp&quot;</td><td>&quot;101704_101097_101358_101543_Au…</td></tr><tr><td>299</td><td>&quot;101704&quot;</td><td>&quot;101097&quot;</td><td>&quot;1&quot;</td><td>null</td><td>&quot;102562&quot;</td><td>&quot;101866&quot;</td><td>&quot;3&quot;</td><td>null</td><td>&quot;6-2 6-4&quot;</td><td>&quot;SF&quot;</td><td>29.889117</td><td>35.033539</td><td>&quot;R&quot;</td><td>190</td><td>&quot;CZE&quot;</td><td>24.804928</td><td>28.867899</td><td>13</td><td>0</td><td>15</td><td>0</td><td>34</td><td>0</td><td>29</td><td>0</td><td>null</td><td>null</td><td>null</td><td>null</td><td>null</td><td>null</td><td>null</td><td>null</td><td>null</td><td>null</td><td>null</td><td>null</td><td>null</td><td>null</td><td>null</td><td>null</td><td>null</td><td>null</td><td>null</td><td>&quot;Auckland_2000_doubles_atp&quot;</td><td>&quot;101704_101097_102562_101866_Au…</td></tr><tr><td>298</td><td>&quot;101358&quot;</td><td>&quot;101543&quot;</td><td>&quot;2&quot;</td><td>null</td><td>&quot;102664&quot;</td><td>&quot;101779&quot;</td><td>null</td><td>null</td><td>&quot;6-3 6-4&quot;</td><td>&quot;SF&quot;</td><td>32.610541</td><td>31.137577</td><td>&quot;R&quot;</td><td>193</td><td>&quot;CZE&quot;</td><td>24.273785</td><td>29.489391</td><td>16</td><td>0</td><td>17</td><td>0</td><td>97</td><td>0</td><td>74</td><td>0</td><td>null</td><td>null</td><td>null</td><td>null</td><td>null</td><td>null</td><td>null</td><td>null</td><td>null</td><td>null</td><td>null</td><td>null</td><td>null</td><td>null</td><td>null</td><td>null</td><td>null</td><td>null</td><td>null</td><td>&quot;Auckland_2000_doubles_atp&quot;</td><td>&quot;101358_101543_102664_101779_Au…</td></tr><tr><td>297</td><td>&quot;101704&quot;</td><td>&quot;101097&quot;</td><td>&quot;1&quot;</td><td>null</td><td>&quot;101342&quot;</td><td>&quot;102162&quot;</td><td>null</td><td>&quot;WC&quot;</td><td>&quot;6-3 6-4&quot;</td><td>&quot;QF&quot;</td><td>29.889117</td><td>35.033539</td><td>&quot;L&quot;</td><td>183</td><td>&quot;USA&quot;</td><td>32.736482</td><td>27.019849</td><td>13</td><td>0</td><td>15</td><td>0</td><td>65</td><td>0</td><td>248</td><td>0</td><td>null</td><td>null</td><td>null</td><td>null</td><td>null</td><td>null</td><td>null</td><td>null</td><td>null</td><td>null</td><td>null</td><td>null</td><td>null</td><td>null</td><td>null</td><td>null</td><td>null</td><td>null</td><td>null</td><td>&quot;Auckland_2000_doubles_atp&quot;</td><td>&quot;101704_101097_101342_102162_Au…</td></tr><tr><td>296</td><td>&quot;101358&quot;</td><td>&quot;101543&quot;</td><td>&quot;2&quot;</td><td>null</td><td>&quot;103483&quot;</td><td>&quot;102262&quot;</td><td>null</td><td>&quot;WC&quot;</td><td>&quot;6-2 6-4&quot;</td><td>&quot;QF&quot;</td><td>32.610541</td><td>31.137577</td><td>&quot;R&quot;</td><td>null</td><td>&quot;NZL&quot;</td><td>20.043806</td><td>26.297057</td><td>16</td><td>0</td><td>17</td><td>0</td><td>779</td><td>0</td><td>114</td><td>0</td><td>null</td><td>null</td><td>null</td><td>null</td><td>null</td><td>null</td><td>null</td><td>null</td><td>null</td><td>null</td><td>null</td><td>null</td><td>null</td><td>null</td><td>null</td><td>null</td><td>null</td><td>null</td><td>null</td><td>&quot;Auckland_2000_doubles_atp&quot;</td><td>&quot;101358_101543_103483_102262_Au…</td></tr><tr><td>&hellip;</td><td>&hellip;</td><td>&hellip;</td><td>&hellip;</td><td>&hellip;</td><td>&hellip;</td><td>&hellip;</td><td>&hellip;</td><td>&hellip;</td><td>&hellip;</td><td>&hellip;</td><td>&hellip;</td><td>&hellip;</td><td>&hellip;</td><td>&hellip;</td><td>&hellip;</td><td>&hellip;</td><td>&hellip;</td><td>&hellip;</td><td>&hellip;</td><td>&hellip;</td><td>&hellip;</td><td>&hellip;</td><td>&hellip;</td><td>&hellip;</td><td>&hellip;</td><td>&hellip;</td><td>&hellip;</td><td>&hellip;</td><td>&hellip;</td><td>&hellip;</td><td>&hellip;</td><td>&hellip;</td><td>&hellip;</td><td>&hellip;</td><td>&hellip;</td><td>&hellip;</td><td>&hellip;</td><td>&hellip;</td><td>&hellip;</td><td>&hellip;</td><td>&hellip;</td><td>&hellip;</td><td>&hellip;</td><td>&hellip;</td><td>&hellip;</td><td>&hellip;</td></tr><tr><td>3</td><td>&quot;104917&quot;</td><td>&quot;104467&quot;</td><td>null</td><td>null</td><td>&quot;109042&quot;</td><td>&quot;122533&quot;</td><td>null</td><td>null</td><td>&quot;6-4 6-1&quot;</td><td>&quot;RR&quot;</td><td>32.807666</td><td>35.192334</td><td>&quot;R&quot;</td><td>null</td><td>&quot;VIE&quot;</td><td>37.497604</td><td>23.014374</td><td>683</td><td>48</td><td>942</td><td>26</td><td>null</td><td>null</td><td>1293</td><td>12</td><td>null</td><td>null</td><td>null</td><td>null</td><td>null</td><td>null</td><td>null</td><td>null</td><td>null</td><td>null</td><td>null</td><td>null</td><td>null</td><td>null</td><td>null</td><td>null</td><td>null</td><td>null</td><td>null</td><td>&quot;Davis Cup WG2 PO: MAR vs VIE_2…</td><td>&quot;104917_104467_109042_122533_Da…</td></tr><tr><td>3</td><td>&quot;134677&quot;</td><td>&quot;137018&quot;</td><td>null</td><td>null</td><td>&quot;202462&quot;</td><td>&quot;134886&quot;</td><td>null</td><td>null</td><td>&quot;6-1 6-4&quot;</td><td>&quot;RR&quot;</td><td>23.887748</td><td>23.926078</td><td>null</td><td>null</td><td>&quot;SRI&quot;</td><td>24.665298</td><td>23.800137</td><td>null</td><td>null</td><td>null</td><td>null</td><td>null</td><td>null</td><td>null</td><td>null</td><td>null</td><td>null</td><td>null</td><td>null</td><td>null</td><td>null</td><td>null</td><td>null</td><td>null</td><td>null</td><td>null</td><td>null</td><td>null</td><td>null</td><td>null</td><td>null</td><td>null</td><td>null</td><td>null</td><td>&quot;Davis Cup WG2 PO: PAR vs SRI_2…</td><td>&quot;134677_137018_202462_134886_Da…</td></tr><tr><td>3</td><td>&quot;108717&quot;</td><td>&quot;104604&quot;</td><td>null</td><td>null</td><td>&quot;109737&quot;</td><td>&quot;202065&quot;</td><td>null</td><td>null</td><td>&quot;7-6(5) 6-4&quot;</td><td>&quot;RR&quot;</td><td>28.073922</td><td>34.472279</td><td>&quot;R&quot;</td><td>null</td><td>&quot;GRE&quot;</td><td>25.790554</td><td>19.597536</td><td>537</td><td>69</td><td>212</td><td>307</td><td>503</td><td>77</td><td>1072</td><td>20</td><td>null</td><td>null</td><td>null</td><td>null</td><td>null</td><td>null</td><td>null</td><td>null</td><td>null</td><td>null</td><td>null</td><td>null</td><td>null</td><td>null</td><td>null</td><td>null</td><td>null</td><td>null</td><td>null</td><td>&quot;Davis Cup WG2 PO: PHI vs GRE_2…</td><td>&quot;108717_104604_109737_202065_Da…</td></tr><tr><td>3</td><td>&quot;126166&quot;</td><td>&quot;126591&quot;</td><td>null</td><td>null</td><td>&quot;205695&quot;</td><td>&quot;106388&quot;</td><td>null</td><td>null</td><td>&quot;6-3 6-7(6) 6-3&quot;</td><td>&quot;RR&quot;</td><td>24.443532</td><td>23.290897</td><td>&quot;R&quot;</td><td>null</td><td>&quot;HKG&quot;</td><td>20.495551</td><td>25.045859</td><td>182</td><td>389</td><td>295</td><td>178</td><td>null</td><td>null</td><td>557</td><td>66</td><td>null</td><td>null</td><td>null</td><td>null</td><td>null</td><td>null</td><td>null</td><td>null</td><td>null</td><td>null</td><td>null</td><td>null</td><td>null</td><td>null</td><td>null</td><td>null</td><td>null</td><td>null</td><td>null</td><td>&quot;Davis Cup WG2 PO: POL vs HKG_2…</td><td>&quot;126166_126591_205695_106388_Da…</td></tr><tr><td>3</td><td>&quot;111761&quot;</td><td>&quot;144747&quot;</td><td>null</td><td>null</td><td>&quot;200153&quot;</td><td>&quot;208518&quot;</td><td>null</td><td>null</td><td>&quot;6-1 4-6 6-3&quot;</td><td>&quot;RR&quot;</td><td>26.995209</td><td>23.370294</td><td>&quot;R&quot;</td><td>null</td><td>&quot;SYR&quot;</td><td>24.832307</td><td>20.167009</td><td>231</td><td>267</td><td>327</td><td>146</td><td>null</td><td>null</td><td>1929</td><td>2</td><td>null</td><td>null</td><td>null</td><td>null</td><td>null</td><td>null</td><td>null</td><td>null</td><td>null</td><td>null</td><td>null</td><td>null</td><td>null</td><td>null</td><td>null</td><td>null</td><td>null</td><td>null</td><td>null</td><td>&quot;Davis Cup WG2 PO: SYR vs ZIM_2…</td><td>&quot;111761_144747_200153_208518_Da…</td></tr></tbody></table></div>"
      ],
      "text/plain": [
       "shape: (26_399, 47)\n",
       "┌───────────┬───────────┬───────────┬───────────┬───┬───────────┬───────────┬───────────┬──────────┐\n",
       "│ match_num ┆ winner1_i ┆ winner2_i ┆ winner_se ┆ … ┆ l_bpSaved ┆ l_bpFaced ┆ tourney_i ┆ match_id │\n",
       "│ ---       ┆ d         ┆ d         ┆ ed        ┆   ┆ ---       ┆ ---       ┆ d         ┆ ---      │\n",
       "│ i64       ┆ ---       ┆ ---       ┆ ---       ┆   ┆ str       ┆ str       ┆ ---       ┆ str      │\n",
       "│           ┆ str       ┆ str       ┆ str       ┆   ┆           ┆           ┆ str       ┆          │\n",
       "╞═══════════╪═══════════╪═══════════╪═══════════╪═══╪═══════════╪═══════════╪═══════════╪══════════╡\n",
       "│ 300       ┆ 101704    ┆ 101097    ┆ 1         ┆ … ┆ null      ┆ null      ┆ Auckland_ ┆ 101704_1 │\n",
       "│           ┆           ┆           ┆           ┆   ┆           ┆           ┆ 2000_doub ┆ 01097_10 │\n",
       "│           ┆           ┆           ┆           ┆   ┆           ┆           ┆ les_atp   ┆ 1358_101 │\n",
       "│           ┆           ┆           ┆           ┆   ┆           ┆           ┆           ┆ 543_Au…  │\n",
       "│ 299       ┆ 101704    ┆ 101097    ┆ 1         ┆ … ┆ null      ┆ null      ┆ Auckland_ ┆ 101704_1 │\n",
       "│           ┆           ┆           ┆           ┆   ┆           ┆           ┆ 2000_doub ┆ 01097_10 │\n",
       "│           ┆           ┆           ┆           ┆   ┆           ┆           ┆ les_atp   ┆ 2562_101 │\n",
       "│           ┆           ┆           ┆           ┆   ┆           ┆           ┆           ┆ 866_Au…  │\n",
       "│ 298       ┆ 101358    ┆ 101543    ┆ 2         ┆ … ┆ null      ┆ null      ┆ Auckland_ ┆ 101358_1 │\n",
       "│           ┆           ┆           ┆           ┆   ┆           ┆           ┆ 2000_doub ┆ 01543_10 │\n",
       "│           ┆           ┆           ┆           ┆   ┆           ┆           ┆ les_atp   ┆ 2664_101 │\n",
       "│           ┆           ┆           ┆           ┆   ┆           ┆           ┆           ┆ 779_Au…  │\n",
       "│ 297       ┆ 101704    ┆ 101097    ┆ 1         ┆ … ┆ null      ┆ null      ┆ Auckland_ ┆ 101704_1 │\n",
       "│           ┆           ┆           ┆           ┆   ┆           ┆           ┆ 2000_doub ┆ 01097_10 │\n",
       "│           ┆           ┆           ┆           ┆   ┆           ┆           ┆ les_atp   ┆ 1342_102 │\n",
       "│           ┆           ┆           ┆           ┆   ┆           ┆           ┆           ┆ 162_Au…  │\n",
       "│ 296       ┆ 101358    ┆ 101543    ┆ 2         ┆ … ┆ null      ┆ null      ┆ Auckland_ ┆ 101358_1 │\n",
       "│           ┆           ┆           ┆           ┆   ┆           ┆           ┆ 2000_doub ┆ 01543_10 │\n",
       "│           ┆           ┆           ┆           ┆   ┆           ┆           ┆ les_atp   ┆ 3483_102 │\n",
       "│           ┆           ┆           ┆           ┆   ┆           ┆           ┆           ┆ 262_Au…  │\n",
       "│ …         ┆ …         ┆ …         ┆ …         ┆ … ┆ …         ┆ …         ┆ …         ┆ …        │\n",
       "│ 3         ┆ 104917    ┆ 104467    ┆ null      ┆ … ┆ null      ┆ null      ┆ Davis Cup ┆ 104917_1 │\n",
       "│           ┆           ┆           ┆           ┆   ┆           ┆           ┆ WG2 PO:   ┆ 04467_10 │\n",
       "│           ┆           ┆           ┆           ┆   ┆           ┆           ┆ MAR vs    ┆ 9042_122 │\n",
       "│           ┆           ┆           ┆           ┆   ┆           ┆           ┆ VIE_2…    ┆ 533_Da…  │\n",
       "│ 3         ┆ 134677    ┆ 137018    ┆ null      ┆ … ┆ null      ┆ null      ┆ Davis Cup ┆ 134677_1 │\n",
       "│           ┆           ┆           ┆           ┆   ┆           ┆           ┆ WG2 PO:   ┆ 37018_20 │\n",
       "│           ┆           ┆           ┆           ┆   ┆           ┆           ┆ PAR vs    ┆ 2462_134 │\n",
       "│           ┆           ┆           ┆           ┆   ┆           ┆           ┆ SRI_2…    ┆ 886_Da…  │\n",
       "│ 3         ┆ 108717    ┆ 104604    ┆ null      ┆ … ┆ null      ┆ null      ┆ Davis Cup ┆ 108717_1 │\n",
       "│           ┆           ┆           ┆           ┆   ┆           ┆           ┆ WG2 PO:   ┆ 04604_10 │\n",
       "│           ┆           ┆           ┆           ┆   ┆           ┆           ┆ PHI vs    ┆ 9737_202 │\n",
       "│           ┆           ┆           ┆           ┆   ┆           ┆           ┆ GRE_2…    ┆ 065_Da…  │\n",
       "│ 3         ┆ 126166    ┆ 126591    ┆ null      ┆ … ┆ null      ┆ null      ┆ Davis Cup ┆ 126166_1 │\n",
       "│           ┆           ┆           ┆           ┆   ┆           ┆           ┆ WG2 PO:   ┆ 26591_20 │\n",
       "│           ┆           ┆           ┆           ┆   ┆           ┆           ┆ POL vs    ┆ 5695_106 │\n",
       "│           ┆           ┆           ┆           ┆   ┆           ┆           ┆ HKG_2…    ┆ 388_Da…  │\n",
       "│ 3         ┆ 111761    ┆ 144747    ┆ null      ┆ … ┆ null      ┆ null      ┆ Davis Cup ┆ 111761_1 │\n",
       "│           ┆           ┆           ┆           ┆   ┆           ┆           ┆ WG2 PO:   ┆ 44747_20 │\n",
       "│           ┆           ┆           ┆           ┆   ┆           ┆           ┆ SYR vs    ┆ 0153_208 │\n",
       "│           ┆           ┆           ┆           ┆   ┆           ┆           ┆ ZIM_2…    ┆ 518_Da…  │\n",
       "└───────────┴───────────┴───────────┴───────────┴───┴───────────┴───────────┴───────────┴──────────┘"
      ]
     },
     "execution_count": 2,
     "metadata": {},
     "output_type": "execute_result"
    }
   ],
   "source": [
    "import_tennis_matches(data_type=\"doubles\",write_parquet=True)"
   ]
  },
  {
   "cell_type": "code",
   "execution_count": 2,
   "metadata": {},
   "outputs": [
    {
     "data": {
      "text/html": [
       "<div><style>\n",
       ".dataframe > thead > tr,\n",
       ".dataframe > tbody > tr {\n",
       "  text-align: right;\n",
       "  white-space: pre-wrap;\n",
       "}\n",
       "</style>\n",
       "<small>shape: (25_001, 37)</small><table border=\"1\" class=\"dataframe\"><thead><tr><th>tourney_id</th><th>match_num</th><th>winner_id</th><th>winner_seed</th><th>winner_entry</th><th>winner_age</th><th>loser_id</th><th>loser_seed</th><th>loser_entry</th><th>loser_age</th><th>score</th><th>best_of</th><th>round</th><th>minutes</th><th>w_ace</th><th>w_df</th><th>w_svpt</th><th>w_1stIn</th><th>w_1stWon</th><th>w_2ndWon</th><th>w_SvGms</th><th>w_bpSaved</th><th>w_bpFaced</th><th>l_ace</th><th>l_df</th><th>l_svpt</th><th>l_1stIn</th><th>l_1stWon</th><th>l_2ndWon</th><th>l_SvGms</th><th>l_bpSaved</th><th>l_bpFaced</th><th>winner_rank</th><th>winner_rank_points</th><th>loser_rank</th><th>loser_rank_points</th><th>match_id</th></tr><tr><td>str</td><td>i64</td><td>i64</td><td>str</td><td>str</td><td>f64</td><td>i64</td><td>str</td><td>str</td><td>f64</td><td>str</td><td>i64</td><td>str</td><td>str</td><td>str</td><td>str</td><td>str</td><td>str</td><td>str</td><td>str</td><td>str</td><td>str</td><td>str</td><td>str</td><td>str</td><td>str</td><td>str</td><td>str</td><td>str</td><td>str</td><td>str</td><td>str</td><td>str</td><td>str</td><td>str</td><td>str</td><td>str</td></tr></thead><tbody><tr><td>&quot;Wimbledon_1877_amateurs_atp&quot;</td><td>1</td><td>113987</td><td>null</td><td>null</td><td>27.331964</td><td>114009</td><td>null</td><td>null</td><td>null</td><td>&quot;6-2 6-0 6-3&quot;</td><td>5</td><td>&quot;R32&quot;</td><td>null</td><td>null</td><td>null</td><td>null</td><td>null</td><td>null</td><td>null</td><td>null</td><td>null</td><td>null</td><td>null</td><td>null</td><td>null</td><td>null</td><td>null</td><td>null</td><td>null</td><td>null</td><td>null</td><td>null</td><td>null</td><td>null</td><td>null</td><td>&quot;113987_114009_Wimbledon_1877_a…</td></tr><tr><td>&quot;Wimbledon_1877_amateurs_atp&quot;</td><td>2</td><td>114146</td><td>null</td><td>null</td><td>36.895277</td><td>113977</td><td>null</td><td>null</td><td>null</td><td>&quot;6-4 6-2 3-6 6-2&quot;</td><td>5</td><td>&quot;R32&quot;</td><td>null</td><td>null</td><td>null</td><td>null</td><td>null</td><td>null</td><td>null</td><td>null</td><td>null</td><td>null</td><td>null</td><td>null</td><td>null</td><td>null</td><td>null</td><td>null</td><td>null</td><td>null</td><td>null</td><td>null</td><td>null</td><td>null</td><td>null</td><td>&quot;114146_113977_Wimbledon_1877_a…</td></tr><tr><td>&quot;Wimbledon_1877_amateurs_atp&quot;</td><td>3</td><td>114147</td><td>null</td><td>null</td><td>null</td><td>114148</td><td>null</td><td>null</td><td>null</td><td>&quot;6-1 6-4 6-0&quot;</td><td>5</td><td>&quot;R32&quot;</td><td>null</td><td>null</td><td>null</td><td>null</td><td>null</td><td>null</td><td>null</td><td>null</td><td>null</td><td>null</td><td>null</td><td>null</td><td>null</td><td>null</td><td>null</td><td>null</td><td>null</td><td>null</td><td>null</td><td>null</td><td>null</td><td>null</td><td>null</td><td>&quot;114147_114148_Wimbledon_1877_a…</td></tr><tr><td>&quot;Wimbledon_1877_amateurs_atp&quot;</td><td>4</td><td>114149</td><td>null</td><td>null</td><td>36.082136</td><td>114150</td><td>null</td><td>null</td><td>31.12115</td><td>&quot;W/O&quot;</td><td>5</td><td>&quot;R32&quot;</td><td>null</td><td>null</td><td>null</td><td>null</td><td>null</td><td>null</td><td>null</td><td>null</td><td>null</td><td>null</td><td>null</td><td>null</td><td>null</td><td>null</td><td>null</td><td>null</td><td>null</td><td>null</td><td>null</td><td>null</td><td>null</td><td>null</td><td>null</td><td>&quot;114149_114150_Wimbledon_1877_a…</td></tr><tr><td>&quot;Wimbledon_1877_amateurs_atp&quot;</td><td>5</td><td>113953</td><td>null</td><td>null</td><td>19.838467</td><td>114151</td><td>null</td><td>null</td><td>null</td><td>&quot;6-2 6-5 6-2&quot;</td><td>5</td><td>&quot;R32&quot;</td><td>null</td><td>null</td><td>null</td><td>null</td><td>null</td><td>null</td><td>null</td><td>null</td><td>null</td><td>null</td><td>null</td><td>null</td><td>null</td><td>null</td><td>null</td><td>null</td><td>null</td><td>null</td><td>null</td><td>null</td><td>null</td><td>null</td><td>null</td><td>&quot;113953_114151_Wimbledon_1877_a…</td></tr><tr><td>&hellip;</td><td>&hellip;</td><td>&hellip;</td><td>&hellip;</td><td>&hellip;</td><td>&hellip;</td><td>&hellip;</td><td>&hellip;</td><td>&hellip;</td><td>&hellip;</td><td>&hellip;</td><td>&hellip;</td><td>&hellip;</td><td>&hellip;</td><td>&hellip;</td><td>&hellip;</td><td>&hellip;</td><td>&hellip;</td><td>&hellip;</td><td>&hellip;</td><td>&hellip;</td><td>&hellip;</td><td>&hellip;</td><td>&hellip;</td><td>&hellip;</td><td>&hellip;</td><td>&hellip;</td><td>&hellip;</td><td>&hellip;</td><td>&hellip;</td><td>&hellip;</td><td>&hellip;</td><td>&hellip;</td><td>&hellip;</td><td>&hellip;</td><td>&hellip;</td><td>&hellip;</td></tr><tr><td>&quot;Davis Cup EUR R1: NED vs RSA_1…</td><td>5</td><td>100084</td><td>null</td><td>null</td><td>23.195072</td><td>100055</td><td>null</td><td>null</td><td>25.938398</td><td>&quot;6-2 6-2 0-6 7-5&quot;</td><td>5</td><td>&quot;RR&quot;</td><td>null</td><td>null</td><td>null</td><td>null</td><td>null</td><td>null</td><td>null</td><td>null</td><td>null</td><td>null</td><td>null</td><td>null</td><td>null</td><td>null</td><td>null</td><td>null</td><td>null</td><td>null</td><td>null</td><td>null</td><td>null</td><td>null</td><td>null</td><td>&quot;100084_100055_Davis Cup EUR R1…</td></tr><tr><td>&quot;Davis Cup AME SF: PHI vs VIE_1…</td><td>1</td><td>106910</td><td>null</td><td>null</td><td>null</td><td>111097</td><td>null</td><td>null</td><td>null</td><td>&quot;6-2 6-3 6-2&quot;</td><td>5</td><td>&quot;RR&quot;</td><td>null</td><td>null</td><td>null</td><td>null</td><td>null</td><td>null</td><td>null</td><td>null</td><td>null</td><td>null</td><td>null</td><td>null</td><td>null</td><td>null</td><td>null</td><td>null</td><td>null</td><td>null</td><td>null</td><td>null</td><td>null</td><td>null</td><td>null</td><td>&quot;106910_111097_Davis Cup AME SF…</td></tr><tr><td>&quot;Davis Cup AME SF: PHI vs VIE_1…</td><td>2</td><td>112556</td><td>null</td><td>null</td><td>46.461328</td><td>111091</td><td>null</td><td>null</td><td>null</td><td>&quot;6-4 6-1 6-1&quot;</td><td>5</td><td>&quot;RR&quot;</td><td>null</td><td>null</td><td>null</td><td>null</td><td>null</td><td>null</td><td>null</td><td>null</td><td>null</td><td>null</td><td>null</td><td>null</td><td>null</td><td>null</td><td>null</td><td>null</td><td>null</td><td>null</td><td>null</td><td>null</td><td>null</td><td>null</td><td>null</td><td>&quot;112556_111091_Davis Cup AME SF…</td></tr><tr><td>&quot;Davis Cup AME SF: PHI vs VIE_1…</td><td>4</td><td>125731</td><td>null</td><td>null</td><td>null</td><td>117339</td><td>null</td><td>null</td><td>null</td><td>&quot;6-3 6-4 6-1&quot;</td><td>5</td><td>&quot;RR&quot;</td><td>null</td><td>null</td><td>null</td><td>null</td><td>null</td><td>null</td><td>null</td><td>null</td><td>null</td><td>null</td><td>null</td><td>null</td><td>null</td><td>null</td><td>null</td><td>null</td><td>null</td><td>null</td><td>null</td><td>null</td><td>null</td><td>null</td><td>null</td><td>&quot;125731_117339_Davis Cup AME SF…</td></tr><tr><td>&quot;Davis Cup AME SF: PHI vs VIE_1…</td><td>5</td><td>106910</td><td>null</td><td>null</td><td>null</td><td>111091</td><td>null</td><td>null</td><td>null</td><td>&quot;12-10 9-7 6-1&quot;</td><td>5</td><td>&quot;RR&quot;</td><td>null</td><td>null</td><td>null</td><td>null</td><td>null</td><td>null</td><td>null</td><td>null</td><td>null</td><td>null</td><td>null</td><td>null</td><td>null</td><td>null</td><td>null</td><td>null</td><td>null</td><td>null</td><td>null</td><td>null</td><td>null</td><td>null</td><td>null</td><td>&quot;106910_111091_Davis Cup AME SF…</td></tr></tbody></table></div>"
      ],
      "text/plain": [
       "shape: (25_001, 37)\n",
       "┌───────────┬───────────┬───────────┬───────────┬───┬───────────┬───────────┬───────────┬──────────┐\n",
       "│ tourney_i ┆ match_num ┆ winner_id ┆ winner_se ┆ … ┆ winner_ra ┆ loser_ran ┆ loser_ran ┆ match_id │\n",
       "│ d         ┆ ---       ┆ ---       ┆ ed        ┆   ┆ nk_points ┆ k         ┆ k_points  ┆ ---      │\n",
       "│ ---       ┆ i64       ┆ i64       ┆ ---       ┆   ┆ ---       ┆ ---       ┆ ---       ┆ str      │\n",
       "│ str       ┆           ┆           ┆ str       ┆   ┆ str       ┆ str       ┆ str       ┆          │\n",
       "╞═══════════╪═══════════╪═══════════╪═══════════╪═══╪═══════════╪═══════════╪═══════════╪══════════╡\n",
       "│ Wimbledon ┆ 1         ┆ 113987    ┆ null      ┆ … ┆ null      ┆ null      ┆ null      ┆ 113987_1 │\n",
       "│ _1877_ama ┆           ┆           ┆           ┆   ┆           ┆           ┆           ┆ 14009_Wi │\n",
       "│ teurs_atp ┆           ┆           ┆           ┆   ┆           ┆           ┆           ┆ mbledon_ │\n",
       "│           ┆           ┆           ┆           ┆   ┆           ┆           ┆           ┆ 1877_a…  │\n",
       "│ Wimbledon ┆ 2         ┆ 114146    ┆ null      ┆ … ┆ null      ┆ null      ┆ null      ┆ 114146_1 │\n",
       "│ _1877_ama ┆           ┆           ┆           ┆   ┆           ┆           ┆           ┆ 13977_Wi │\n",
       "│ teurs_atp ┆           ┆           ┆           ┆   ┆           ┆           ┆           ┆ mbledon_ │\n",
       "│           ┆           ┆           ┆           ┆   ┆           ┆           ┆           ┆ 1877_a…  │\n",
       "│ Wimbledon ┆ 3         ┆ 114147    ┆ null      ┆ … ┆ null      ┆ null      ┆ null      ┆ 114147_1 │\n",
       "│ _1877_ama ┆           ┆           ┆           ┆   ┆           ┆           ┆           ┆ 14148_Wi │\n",
       "│ teurs_atp ┆           ┆           ┆           ┆   ┆           ┆           ┆           ┆ mbledon_ │\n",
       "│           ┆           ┆           ┆           ┆   ┆           ┆           ┆           ┆ 1877_a…  │\n",
       "│ Wimbledon ┆ 4         ┆ 114149    ┆ null      ┆ … ┆ null      ┆ null      ┆ null      ┆ 114149_1 │\n",
       "│ _1877_ama ┆           ┆           ┆           ┆   ┆           ┆           ┆           ┆ 14150_Wi │\n",
       "│ teurs_atp ┆           ┆           ┆           ┆   ┆           ┆           ┆           ┆ mbledon_ │\n",
       "│           ┆           ┆           ┆           ┆   ┆           ┆           ┆           ┆ 1877_a…  │\n",
       "│ Wimbledon ┆ 5         ┆ 113953    ┆ null      ┆ … ┆ null      ┆ null      ┆ null      ┆ 113953_1 │\n",
       "│ _1877_ama ┆           ┆           ┆           ┆   ┆           ┆           ┆           ┆ 14151_Wi │\n",
       "│ teurs_atp ┆           ┆           ┆           ┆   ┆           ┆           ┆           ┆ mbledon_ │\n",
       "│           ┆           ┆           ┆           ┆   ┆           ┆           ┆           ┆ 1877_a…  │\n",
       "│ …         ┆ …         ┆ …         ┆ …         ┆ … ┆ …         ┆ …         ┆ …         ┆ …        │\n",
       "│ Davis Cup ┆ 5         ┆ 100084    ┆ null      ┆ … ┆ null      ┆ null      ┆ null      ┆ 100084_1 │\n",
       "│ EUR R1:   ┆           ┆           ┆           ┆   ┆           ┆           ┆           ┆ 00055_Da │\n",
       "│ NED vs    ┆           ┆           ┆           ┆   ┆           ┆           ┆           ┆ vis Cup  │\n",
       "│ RSA_1…    ┆           ┆           ┆           ┆   ┆           ┆           ┆           ┆ EUR R1…  │\n",
       "│ Davis Cup ┆ 1         ┆ 106910    ┆ null      ┆ … ┆ null      ┆ null      ┆ null      ┆ 106910_1 │\n",
       "│ AME SF:   ┆           ┆           ┆           ┆   ┆           ┆           ┆           ┆ 11097_Da │\n",
       "│ PHI vs    ┆           ┆           ┆           ┆   ┆           ┆           ┆           ┆ vis Cup  │\n",
       "│ VIE_1…    ┆           ┆           ┆           ┆   ┆           ┆           ┆           ┆ AME SF…  │\n",
       "│ Davis Cup ┆ 2         ┆ 112556    ┆ null      ┆ … ┆ null      ┆ null      ┆ null      ┆ 112556_1 │\n",
       "│ AME SF:   ┆           ┆           ┆           ┆   ┆           ┆           ┆           ┆ 11091_Da │\n",
       "│ PHI vs    ┆           ┆           ┆           ┆   ┆           ┆           ┆           ┆ vis Cup  │\n",
       "│ VIE_1…    ┆           ┆           ┆           ┆   ┆           ┆           ┆           ┆ AME SF…  │\n",
       "│ Davis Cup ┆ 4         ┆ 125731    ┆ null      ┆ … ┆ null      ┆ null      ┆ null      ┆ 125731_1 │\n",
       "│ AME SF:   ┆           ┆           ┆           ┆   ┆           ┆           ┆           ┆ 17339_Da │\n",
       "│ PHI vs    ┆           ┆           ┆           ┆   ┆           ┆           ┆           ┆ vis Cup  │\n",
       "│ VIE_1…    ┆           ┆           ┆           ┆   ┆           ┆           ┆           ┆ AME SF…  │\n",
       "│ Davis Cup ┆ 5         ┆ 106910    ┆ null      ┆ … ┆ null      ┆ null      ┆ null      ┆ 106910_1 │\n",
       "│ AME SF:   ┆           ┆           ┆           ┆   ┆           ┆           ┆           ┆ 11091_Da │\n",
       "│ PHI vs    ┆           ┆           ┆           ┆   ┆           ┆           ┆           ┆ vis Cup  │\n",
       "│ VIE_1…    ┆           ┆           ┆           ┆   ┆           ┆           ┆           ┆ AME SF…  │\n",
       "└───────────┴───────────┴───────────┴───────────┴───┴───────────┴───────────┴───────────┴──────────┘"
      ]
     },
     "execution_count": 2,
     "metadata": {},
     "output_type": "execute_result"
    }
   ],
   "source": [
    "import_matches_amateurs_atp(write_parquet=True)"
   ]
  },
  {
   "cell_type": "code",
   "execution_count": 4,
   "metadata": {},
   "outputs": [
    {
     "data": {
      "text/html": [
       "<div><style>\n",
       ".dataframe > thead > tr,\n",
       ".dataframe > tbody > tr {\n",
       "  text-align: right;\n",
       "  white-space: pre-wrap;\n",
       "}\n",
       "</style>\n",
       "<small>shape: (25_001, 36)</small><table border=\"1\" class=\"dataframe\"><thead><tr><th>tourney_id</th><th>match_num</th><th>winner_id</th><th>winner_seed</th><th>winner_entry</th><th>winner_age</th><th>loser_id</th><th>loser_seed</th><th>loser_entry</th><th>loser_age</th><th>score</th><th>best_of</th><th>round</th><th>minutes</th><th>w_ace</th><th>w_df</th><th>w_svpt</th><th>w_1stIn</th><th>w_1stWon</th><th>w_2ndWon</th><th>w_SvGms</th><th>w_bpSaved</th><th>w_bpFaced</th><th>l_ace</th><th>l_df</th><th>l_svpt</th><th>l_1stIn</th><th>l_1stWon</th><th>l_2ndWon</th><th>l_SvGms</th><th>l_bpSaved</th><th>l_bpFaced</th><th>winner_rank</th><th>winner_rank_points</th><th>loser_rank</th><th>loser_rank_points</th></tr><tr><td>str</td><td>i64</td><td>i64</td><td>str</td><td>str</td><td>f64</td><td>i64</td><td>str</td><td>str</td><td>f64</td><td>str</td><td>i64</td><td>str</td><td>str</td><td>str</td><td>str</td><td>str</td><td>str</td><td>str</td><td>str</td><td>str</td><td>str</td><td>str</td><td>str</td><td>str</td><td>str</td><td>str</td><td>str</td><td>str</td><td>str</td><td>str</td><td>str</td><td>str</td><td>str</td><td>str</td><td>str</td></tr></thead><tbody><tr><td>&quot;Wimbledon_1877_amateurs_atp&quot;</td><td>1</td><td>113987</td><td>null</td><td>null</td><td>27.331964</td><td>114009</td><td>null</td><td>null</td><td>null</td><td>&quot;6-2 6-0 6-3&quot;</td><td>5</td><td>&quot;R32&quot;</td><td>null</td><td>null</td><td>null</td><td>null</td><td>null</td><td>null</td><td>null</td><td>null</td><td>null</td><td>null</td><td>null</td><td>null</td><td>null</td><td>null</td><td>null</td><td>null</td><td>null</td><td>null</td><td>null</td><td>null</td><td>null</td><td>null</td><td>null</td></tr><tr><td>&quot;Wimbledon_1877_amateurs_atp&quot;</td><td>2</td><td>114146</td><td>null</td><td>null</td><td>36.895277</td><td>113977</td><td>null</td><td>null</td><td>null</td><td>&quot;6-4 6-2 3-6 6-2&quot;</td><td>5</td><td>&quot;R32&quot;</td><td>null</td><td>null</td><td>null</td><td>null</td><td>null</td><td>null</td><td>null</td><td>null</td><td>null</td><td>null</td><td>null</td><td>null</td><td>null</td><td>null</td><td>null</td><td>null</td><td>null</td><td>null</td><td>null</td><td>null</td><td>null</td><td>null</td><td>null</td></tr><tr><td>&quot;Wimbledon_1877_amateurs_atp&quot;</td><td>3</td><td>114147</td><td>null</td><td>null</td><td>null</td><td>114148</td><td>null</td><td>null</td><td>null</td><td>&quot;6-1 6-4 6-0&quot;</td><td>5</td><td>&quot;R32&quot;</td><td>null</td><td>null</td><td>null</td><td>null</td><td>null</td><td>null</td><td>null</td><td>null</td><td>null</td><td>null</td><td>null</td><td>null</td><td>null</td><td>null</td><td>null</td><td>null</td><td>null</td><td>null</td><td>null</td><td>null</td><td>null</td><td>null</td><td>null</td></tr><tr><td>&quot;Wimbledon_1877_amateurs_atp&quot;</td><td>4</td><td>114149</td><td>null</td><td>null</td><td>36.082136</td><td>114150</td><td>null</td><td>null</td><td>31.12115</td><td>&quot;W/O&quot;</td><td>5</td><td>&quot;R32&quot;</td><td>null</td><td>null</td><td>null</td><td>null</td><td>null</td><td>null</td><td>null</td><td>null</td><td>null</td><td>null</td><td>null</td><td>null</td><td>null</td><td>null</td><td>null</td><td>null</td><td>null</td><td>null</td><td>null</td><td>null</td><td>null</td><td>null</td><td>null</td></tr><tr><td>&quot;Wimbledon_1877_amateurs_atp&quot;</td><td>5</td><td>113953</td><td>null</td><td>null</td><td>19.838467</td><td>114151</td><td>null</td><td>null</td><td>null</td><td>&quot;6-2 6-5 6-2&quot;</td><td>5</td><td>&quot;R32&quot;</td><td>null</td><td>null</td><td>null</td><td>null</td><td>null</td><td>null</td><td>null</td><td>null</td><td>null</td><td>null</td><td>null</td><td>null</td><td>null</td><td>null</td><td>null</td><td>null</td><td>null</td><td>null</td><td>null</td><td>null</td><td>null</td><td>null</td><td>null</td></tr><tr><td>&hellip;</td><td>&hellip;</td><td>&hellip;</td><td>&hellip;</td><td>&hellip;</td><td>&hellip;</td><td>&hellip;</td><td>&hellip;</td><td>&hellip;</td><td>&hellip;</td><td>&hellip;</td><td>&hellip;</td><td>&hellip;</td><td>&hellip;</td><td>&hellip;</td><td>&hellip;</td><td>&hellip;</td><td>&hellip;</td><td>&hellip;</td><td>&hellip;</td><td>&hellip;</td><td>&hellip;</td><td>&hellip;</td><td>&hellip;</td><td>&hellip;</td><td>&hellip;</td><td>&hellip;</td><td>&hellip;</td><td>&hellip;</td><td>&hellip;</td><td>&hellip;</td><td>&hellip;</td><td>&hellip;</td><td>&hellip;</td><td>&hellip;</td><td>&hellip;</td></tr><tr><td>&quot;Davis Cup EUR R1: NED vs RSA_1…</td><td>5</td><td>100084</td><td>null</td><td>null</td><td>23.195072</td><td>100055</td><td>null</td><td>null</td><td>25.938398</td><td>&quot;6-2 6-2 0-6 7-5&quot;</td><td>5</td><td>&quot;RR&quot;</td><td>null</td><td>null</td><td>null</td><td>null</td><td>null</td><td>null</td><td>null</td><td>null</td><td>null</td><td>null</td><td>null</td><td>null</td><td>null</td><td>null</td><td>null</td><td>null</td><td>null</td><td>null</td><td>null</td><td>null</td><td>null</td><td>null</td><td>null</td></tr><tr><td>&quot;Davis Cup AME SF: PHI vs VIE_1…</td><td>1</td><td>106910</td><td>null</td><td>null</td><td>null</td><td>111097</td><td>null</td><td>null</td><td>null</td><td>&quot;6-2 6-3 6-2&quot;</td><td>5</td><td>&quot;RR&quot;</td><td>null</td><td>null</td><td>null</td><td>null</td><td>null</td><td>null</td><td>null</td><td>null</td><td>null</td><td>null</td><td>null</td><td>null</td><td>null</td><td>null</td><td>null</td><td>null</td><td>null</td><td>null</td><td>null</td><td>null</td><td>null</td><td>null</td><td>null</td></tr><tr><td>&quot;Davis Cup AME SF: PHI vs VIE_1…</td><td>2</td><td>112556</td><td>null</td><td>null</td><td>46.461328</td><td>111091</td><td>null</td><td>null</td><td>null</td><td>&quot;6-4 6-1 6-1&quot;</td><td>5</td><td>&quot;RR&quot;</td><td>null</td><td>null</td><td>null</td><td>null</td><td>null</td><td>null</td><td>null</td><td>null</td><td>null</td><td>null</td><td>null</td><td>null</td><td>null</td><td>null</td><td>null</td><td>null</td><td>null</td><td>null</td><td>null</td><td>null</td><td>null</td><td>null</td><td>null</td></tr><tr><td>&quot;Davis Cup AME SF: PHI vs VIE_1…</td><td>4</td><td>125731</td><td>null</td><td>null</td><td>null</td><td>117339</td><td>null</td><td>null</td><td>null</td><td>&quot;6-3 6-4 6-1&quot;</td><td>5</td><td>&quot;RR&quot;</td><td>null</td><td>null</td><td>null</td><td>null</td><td>null</td><td>null</td><td>null</td><td>null</td><td>null</td><td>null</td><td>null</td><td>null</td><td>null</td><td>null</td><td>null</td><td>null</td><td>null</td><td>null</td><td>null</td><td>null</td><td>null</td><td>null</td><td>null</td></tr><tr><td>&quot;Davis Cup AME SF: PHI vs VIE_1…</td><td>5</td><td>106910</td><td>null</td><td>null</td><td>null</td><td>111091</td><td>null</td><td>null</td><td>null</td><td>&quot;12-10 9-7 6-1&quot;</td><td>5</td><td>&quot;RR&quot;</td><td>null</td><td>null</td><td>null</td><td>null</td><td>null</td><td>null</td><td>null</td><td>null</td><td>null</td><td>null</td><td>null</td><td>null</td><td>null</td><td>null</td><td>null</td><td>null</td><td>null</td><td>null</td><td>null</td><td>null</td><td>null</td><td>null</td><td>null</td></tr></tbody></table></div>"
      ],
      "text/plain": [
       "shape: (25_001, 36)\n",
       "┌───────────┬───────────┬───────────┬───────────┬───┬───────────┬───────────┬───────────┬──────────┐\n",
       "│ tourney_i ┆ match_num ┆ winner_id ┆ winner_se ┆ … ┆ winner_ra ┆ winner_ra ┆ loser_ran ┆ loser_ra │\n",
       "│ d         ┆ ---       ┆ ---       ┆ ed        ┆   ┆ nk        ┆ nk_points ┆ k         ┆ nk_point │\n",
       "│ ---       ┆ i64       ┆ i64       ┆ ---       ┆   ┆ ---       ┆ ---       ┆ ---       ┆ s        │\n",
       "│ str       ┆           ┆           ┆ str       ┆   ┆ str       ┆ str       ┆ str       ┆ ---      │\n",
       "│           ┆           ┆           ┆           ┆   ┆           ┆           ┆           ┆ str      │\n",
       "╞═══════════╪═══════════╪═══════════╪═══════════╪═══╪═══════════╪═══════════╪═══════════╪══════════╡\n",
       "│ Wimbledon ┆ 1         ┆ 113987    ┆ null      ┆ … ┆ null      ┆ null      ┆ null      ┆ null     │\n",
       "│ _1877_ama ┆           ┆           ┆           ┆   ┆           ┆           ┆           ┆          │\n",
       "│ teurs_atp ┆           ┆           ┆           ┆   ┆           ┆           ┆           ┆          │\n",
       "│ Wimbledon ┆ 2         ┆ 114146    ┆ null      ┆ … ┆ null      ┆ null      ┆ null      ┆ null     │\n",
       "│ _1877_ama ┆           ┆           ┆           ┆   ┆           ┆           ┆           ┆          │\n",
       "│ teurs_atp ┆           ┆           ┆           ┆   ┆           ┆           ┆           ┆          │\n",
       "│ Wimbledon ┆ 3         ┆ 114147    ┆ null      ┆ … ┆ null      ┆ null      ┆ null      ┆ null     │\n",
       "│ _1877_ama ┆           ┆           ┆           ┆   ┆           ┆           ┆           ┆          │\n",
       "│ teurs_atp ┆           ┆           ┆           ┆   ┆           ┆           ┆           ┆          │\n",
       "│ Wimbledon ┆ 4         ┆ 114149    ┆ null      ┆ … ┆ null      ┆ null      ┆ null      ┆ null     │\n",
       "│ _1877_ama ┆           ┆           ┆           ┆   ┆           ┆           ┆           ┆          │\n",
       "│ teurs_atp ┆           ┆           ┆           ┆   ┆           ┆           ┆           ┆          │\n",
       "│ Wimbledon ┆ 5         ┆ 113953    ┆ null      ┆ … ┆ null      ┆ null      ┆ null      ┆ null     │\n",
       "│ _1877_ama ┆           ┆           ┆           ┆   ┆           ┆           ┆           ┆          │\n",
       "│ teurs_atp ┆           ┆           ┆           ┆   ┆           ┆           ┆           ┆          │\n",
       "│ …         ┆ …         ┆ …         ┆ …         ┆ … ┆ …         ┆ …         ┆ …         ┆ …        │\n",
       "│ Davis Cup ┆ 5         ┆ 100084    ┆ null      ┆ … ┆ null      ┆ null      ┆ null      ┆ null     │\n",
       "│ EUR R1:   ┆           ┆           ┆           ┆   ┆           ┆           ┆           ┆          │\n",
       "│ NED vs    ┆           ┆           ┆           ┆   ┆           ┆           ┆           ┆          │\n",
       "│ RSA_1…    ┆           ┆           ┆           ┆   ┆           ┆           ┆           ┆          │\n",
       "│ Davis Cup ┆ 1         ┆ 106910    ┆ null      ┆ … ┆ null      ┆ null      ┆ null      ┆ null     │\n",
       "│ AME SF:   ┆           ┆           ┆           ┆   ┆           ┆           ┆           ┆          │\n",
       "│ PHI vs    ┆           ┆           ┆           ┆   ┆           ┆           ┆           ┆          │\n",
       "│ VIE_1…    ┆           ┆           ┆           ┆   ┆           ┆           ┆           ┆          │\n",
       "│ Davis Cup ┆ 2         ┆ 112556    ┆ null      ┆ … ┆ null      ┆ null      ┆ null      ┆ null     │\n",
       "│ AME SF:   ┆           ┆           ┆           ┆   ┆           ┆           ┆           ┆          │\n",
       "│ PHI vs    ┆           ┆           ┆           ┆   ┆           ┆           ┆           ┆          │\n",
       "│ VIE_1…    ┆           ┆           ┆           ┆   ┆           ┆           ┆           ┆          │\n",
       "│ Davis Cup ┆ 4         ┆ 125731    ┆ null      ┆ … ┆ null      ┆ null      ┆ null      ┆ null     │\n",
       "│ AME SF:   ┆           ┆           ┆           ┆   ┆           ┆           ┆           ┆          │\n",
       "│ PHI vs    ┆           ┆           ┆           ┆   ┆           ┆           ┆           ┆          │\n",
       "│ VIE_1…    ┆           ┆           ┆           ┆   ┆           ┆           ┆           ┆          │\n",
       "│ Davis Cup ┆ 5         ┆ 106910    ┆ null      ┆ … ┆ null      ┆ null      ┆ null      ┆ null     │\n",
       "│ AME SF:   ┆           ┆           ┆           ┆   ┆           ┆           ┆           ┆          │\n",
       "│ PHI vs    ┆           ┆           ┆           ┆   ┆           ┆           ┆           ┆          │\n",
       "│ VIE_1…    ┆           ┆           ┆           ┆   ┆           ┆           ┆           ┆          │\n",
       "└───────────┴───────────┴───────────┴───────────┴───┴───────────┴───────────┴───────────┴──────────┘"
      ]
     },
     "execution_count": 4,
     "metadata": {},
     "output_type": "execute_result"
    }
   ],
   "source": [
    "import_matches_amateurs_atp(write_parquet=True)"
   ]
  },
  {
   "cell_type": "code",
   "execution_count": 2,
   "metadata": {},
   "outputs": [],
   "source": [
    "load_parquets_to_postgres_local()"
   ]
  },
  {
   "cell_type": "code",
   "execution_count": 3,
   "metadata": {},
   "outputs": [
    {
     "name": "stdout",
     "output_type": "stream",
     "text": [
      "Uploading to table atp_players...\n",
      "Successfully loaded 65019 rows into atp_players\n",
      "Uploading to table atp_singles_matches...\n",
      "Successfully loaded 193337 rows into atp_singles_matches\n",
      "Uploading to table atp_rankings...\n",
      "Successfully loaded 3235639 rows into atp_rankings\n",
      "Uploading to table atp_qual_chall_matches...\n",
      "Successfully loaded 216430 rows into atp_qual_chall_matches\n",
      "Uploading to table atp_futures_matches...\n",
      "Successfully loaded 486553 rows into atp_futures_matches\n",
      "Uploading to table atp_doubles_matches...\n",
      "Successfully loaded 26399 rows into atp_doubles_matches\n",
      "Uploading to table atp_amateurs_matches...\n",
      "Successfully loaded 25001 rows into atp_amateurs_matches\n",
      "Uploading to table wta_qual_itf_matches...\n",
      "Successfully loaded 593885 rows into wta_qual_itf_matches\n",
      "Uploading to table wta_rankings...\n",
      "Successfully loaded 2042300 rows into wta_rankings\n",
      "Uploading to table wta_players...\n",
      "Successfully loaded 67095 rows into wta_players\n",
      "Uploading to table wta_singles_matches...\n",
      "Successfully loaded 158092 rows into wta_singles_matches\n"
     ]
    }
   ],
   "source": [
    "load_parquet_to_supabase('aggregated_matches_atp/atp_players.parquet', 'atp_players')\n",
    "load_parquet_to_supabase('aggregated_matches_atp/atp_singles_matches.parquet', 'atp_singles_matches')\n",
    "load_parquet_to_supabase('aggregated_matches_atp/atp_rankings.parquet', 'atp_rankings')\n",
    "load_parquet_to_supabase('aggregated_matches_atp/atp_qualifiers_challengers_matches.parquet', 'atp_qual_chall_matches')\n",
    "load_parquet_to_supabase('aggregated_matches_atp/atp_futures_matches.parquet', 'atp_futures_matches')\n",
    "load_parquet_to_supabase('aggregated_matches_atp/atp_doubles_matches.parquet', 'atp_doubles_matches')\n",
    "load_parquet_to_supabase('aggregated_matches_atp/atp_amateurs_matches.parquet', 'atp_amateurs_matches')\n",
    "\n",
    "#wta\n",
    "\n",
    "load_parquet_to_supabase('aggregated_matches_wta/wta_qualifiers_itf_matches.parquet', 'wta_qual_itf_matches')\n",
    "load_parquet_to_supabase('aggregated_matches_wta/wta_rankings.parquet', 'wta_rankings')\n",
    "load_parquet_to_supabase('aggregated_matches_wta/wta_players.parquet', 'wta_players')\n",
    "load_parquet_to_supabase('aggregated_matches_wta/wta_singles_matches.parquet', 'wta_singles_matches')"
   ]
  },
  {
   "cell_type": "code",
   "execution_count": 2,
   "metadata": {},
   "outputs": [
    {
     "name": "stdout",
     "output_type": "stream",
     "text": [
      "Uploading to table atp_rankings...\n",
      "Successfully loaded 3235639 rows into atp_rankings\n",
      "Uploading to table atp_qual_chall_matches...\n",
      "Successfully loaded 216430 rows into atp_qual_chall_matches\n",
      "Uploading to table atp_futures_matches...\n",
      "Successfully loaded 486553 rows into atp_futures_matches\n",
      "Uploading to table atp_doubles_matches...\n",
      "Successfully loaded 26399 rows into atp_doubles_matches\n",
      "Uploading to table atp_amateurs_matches...\n",
      "Successfully loaded 25001 rows into atp_amateurs_matches\n",
      "Uploading to table wta_qual_itf_matches...\n",
      "Successfully loaded 593885 rows into wta_qual_itf_matches\n",
      "Uploading to table wta_rankings...\n",
      "Successfully loaded 2042300 rows into wta_rankings\n",
      "Uploading to table wta_players...\n",
      "Successfully loaded 67095 rows into wta_players\n",
      "Uploading to table wta_singles_matches...\n",
      "Successfully loaded 158092 rows into wta_singles_matches\n",
      "Uploading to table countries...\n",
      "Successfully loaded 249 rows into countries\n",
      "Uploading to table temporal_table...\n",
      "Successfully loaded 21185 rows into temporal_table\n",
      "Uploading to table total_tourneys...\n",
      "Successfully loaded 56005 rows into total_tourneys\n"
     ]
    }
   ],
   "source": [
    "#load_parquet_to_tembo('aggregated_matches_atp/atp_players.parquet', 'atp_players')\n",
    "#load_parquet_to_tembo('aggregated_matches_atp/atp_singles_matches.parquet', 'atp_singles_matches')\n",
    "load_parquet_to_tembo('aggregated_matches_atp/atp_rankings.parquet', 'atp_rankings')\n",
    "load_parquet_to_tembo('aggregated_matches_atp/atp_qualifiers_challengers_matches.parquet', 'atp_qual_chall_matches')\n",
    "load_parquet_to_tembo('aggregated_matches_atp/atp_futures_matches.parquet', 'atp_futures_matches')\n",
    "load_parquet_to_tembo('aggregated_matches_atp/atp_doubles_matches.parquet', 'atp_doubles_matches')\n",
    "load_parquet_to_tembo('aggregated_matches_atp/atp_amateurs_matches.parquet', 'atp_amateurs_matches')\n",
    "\n",
    "load_parquet_to_tembo('aggregated_matches_wta/wta_qualifiers_itf_matches.parquet', 'wta_qual_itf_matches')\n",
    "load_parquet_to_tembo('aggregated_matches_wta/wta_rankings.parquet', 'wta_rankings')\n",
    "load_parquet_to_tembo('aggregated_matches_wta/wta_players.parquet', 'wta_players')\n",
    "load_parquet_to_tembo('aggregated_matches_wta/wta_singles_matches.parquet', 'wta_singles_matches')\n",
    "\n",
    "load_parquet_to_tembo('total_temporal_geografic_table/countries.parquet', 'countries')\n",
    "load_parquet_to_tembo('total_temporal_geografic_table/temporal_table.parquet', 'temporal_table')\n",
    "load_parquet_to_tembo('total_temporal_geografic_table/total_tourneys.parquet', 'total_tourneys')"
   ]
  },
  {
   "cell_type": "code",
   "execution_count": 3,
   "metadata": {},
   "outputs": [
    {
     "name": "stdout",
     "output_type": "stream",
     "text": [
      "Uploading to table atp_players...\n",
      "Successfully loaded 65019 rows into atp_players\n",
      "Uploading to table atp_singles_matches...\n",
      "Successfully loaded 193337 rows into atp_singles_matches\n",
      "Uploading to table atp_rankings...\n",
      "Successfully loaded 3235639 rows into atp_rankings\n",
      "Uploading to table atp_qual_chall_matches...\n",
      "Successfully loaded 216430 rows into atp_qual_chall_matches\n",
      "Uploading to table atp_futures_matches...\n",
      "Successfully loaded 486553 rows into atp_futures_matches\n",
      "Uploading to table atp_doubles_matches...\n",
      "Successfully loaded 26399 rows into atp_doubles_matches\n",
      "Uploading to table atp_amateurs_matches...\n",
      "Successfully loaded 25001 rows into atp_amateurs_matches\n",
      "Uploading to table wta_qual_itf_matches...\n",
      "Error: (psycopg2.errors.DiskFull) could not extend file because project size limit (512 MB) has been exceeded\n",
      "HINT:  This limit is defined by neon.max_cluster_size GUC\n",
      "\n",
      "[SQL: INSERT INTO wta_qual_itf_matches (match_num, winner_id, winner_seed, winner_entry, winner_age, loser_id, loser_seed, loser_entry, loser_age, score, round, minutes, w_ace, w_df, w_svpt, \"w_1stIn\", \"w_1stWon\", \"w_2ndWon\", \"w_SvGms\", \"w_bpSaved\", \"w_bpF ... 635363 characters truncated ... nts__907)s, %(loser_rank__907)s, %(loser_rank_points__907)s, %(tourney_id__907)s, %(match_id__907)s)]\n",
      "[parameters: {'loser_rank_points__0': '123', 'w_1stIn__0': None, 'w_ace__0': None, 'winner_entry__0': None, 'l_2ndWon__0': None, 'l_bpFaced__0': None, 'winner_rank_points__0': '430', 'l_1stWon__0': None, 'w_svpt__0': None, 'winner_id__0': '200103', 'winner_seed__0': '4', 'match_num__0': 22, 'match_id__0': '200103_200023_Surbiton 25K_2001_qualifiers_itf_wta', 'loser_rank__0': '206', 'l_ace__0': None, 'tourney_id__0': 'Surbiton 25K_2001_qualifiers_itf_wta', 'w_SvGms__0': None, 'w_bpFaced__0': None, 'l_svpt__0': None, 'w_2ndWon__0': None, 'minutes__0': None, 'l_bpSaved__0': None, 'score__0': '7-5 6-2', 'l_SvGms__0': None, 'winner_age__0': 21.0, 'round__0': 'R16', 'w_1stWon__0': None, 'l_df__0': None, 'loser_entry__0': None, 'loser_id__0': '200023', 'loser_seed__0': None, 'l_1stIn__0': None, 'loser_age__0': 21.4, 'w_df__0': None, 'w_bpSaved__0': None, 'winner_rank__0': '75', 'loser_rank_points__1': '199', 'w_1stIn__1': None, 'w_ace__1': None, 'winner_entry__1': 'Q', 'l_2ndWon__1': None, 'l_bpFaced__1': None, 'winner_rank_points__1': '71', 'l_1stWon__1': None, 'w_svpt__1': None, 'winner_id__1': '200733', 'winner_seed__1': None, 'match_num__1': 23, 'match_id__1': '200733_201324_Surbiton 25K_2001_qualifiers_itf_wta', 'loser_rank__1': '157' ... 32588 parameters truncated ... 'score__906': '5-7 7-5 6-3', 'l_SvGms__906': None, 'winner_age__906': 18.1, 'round__906': 'SF', 'w_1stWon__906': None, 'l_df__906': None, 'loser_entry__906': 'Q', 'loser_id__906': '204857', 'loser_seed__906': None, 'l_1stIn__906': None, 'loser_age__906': 16.2, 'w_df__906': None, 'w_bpSaved__906': None, 'winner_rank__906': '240', 'loser_rank_points__907': '92', 'w_1stIn__907': None, 'w_ace__907': None, 'winner_entry__907': None, 'l_2ndWon__907': None, 'l_bpFaced__907': None, 'winner_rank_points__907': '76', 'l_1stWon__907': None, 'w_svpt__907': None, 'winner_id__907': '200110', 'winner_seed__907': '8', 'match_num__907': 30, 'match_id__907': '200110_202266_Mexico City 25K_2001_qualifiers_itf_wta', 'loser_rank__907': '252', 'l_ace__907': None, 'tourney_id__907': 'Mexico City 25K_2001_qualifiers_itf_wta', 'w_SvGms__907': None, 'w_bpFaced__907': None, 'l_svpt__907': None, 'w_2ndWon__907': None, 'minutes__907': None, 'l_bpSaved__907': None, 'score__907': '6-2 7-6(4)', 'l_SvGms__907': None, 'winner_age__907': 22.8, 'round__907': 'SF', 'w_1stWon__907': None, 'l_df__907': None, 'loser_entry__907': None, 'loser_id__907': '202266', 'loser_seed__907': '7', 'l_1stIn__907': None, 'loser_age__907': 22.7, 'w_df__907': None, 'w_bpSaved__907': None, 'winner_rank__907': '277'}]\n",
      "(Background on this error at: https://sqlalche.me/e/20/e3q8)\n",
      "Uploading to table wta_rankings...\n",
      "Error: (psycopg2.errors.DiskFull) could not extend file because project size limit (512 MB) has been exceeded\n",
      "HINT:  This limit is defined by neon.max_cluster_size GUC\n",
      "\n",
      "[SQL: INSERT INTO wta_rankings (ranking_date, rank, player, points, tours, ranking_id) VALUES (%(ranking_date__0)s, %(rank__0)s, %(player__0)s, %(points__0)s, %(tours__0)s, %(ranking_id__0)s), (%(ranking_date__1)s, %(rank__1)s, %(player__1)s, %(points__1)s ... 110076 characters truncated ... g_date__999)s, %(rank__999)s, %(player__999)s, %(points__999)s, %(tours__999)s, %(ranking_id__999)s)]\n",
      "[parameters: {'tours__0': None, 'ranking_id__0': '1997-03-24_783_204622', 'rank__0': 783, 'player__0': '204622', 'points__0': 4.0, 'ranking_date__0': datetime.datetime(1997, 3, 24, 0, 0), 'tours__1': None, 'ranking_id__1': '1997-03-24_784_204612', 'rank__1': 784, 'player__1': '204612', 'points__1': 4.0, 'ranking_date__1': datetime.datetime(1997, 3, 24, 0, 0), 'tours__2': None, 'ranking_id__2': '1997-03-24_785_200514', 'rank__2': 785, 'player__2': '200514', 'points__2': 4.0, 'ranking_date__2': datetime.datetime(1997, 3, 24, 0, 0), 'tours__3': None, 'ranking_id__3': '1997-03-24_785_202044', 'rank__3': 785, 'player__3': '202044', 'points__3': 4.0, 'ranking_date__3': datetime.datetime(1997, 3, 24, 0, 0), 'tours__4': None, 'ranking_id__4': '1997-03-24_787_203040', 'rank__4': 787, 'player__4': '203040', 'points__4': 4.0, 'ranking_date__4': datetime.datetime(1997, 3, 24, 0, 0), 'tours__5': None, 'ranking_id__5': '1997-03-24_788_204486', 'rank__5': 788, 'player__5': '204486', 'points__5': 4.0, 'ranking_date__5': datetime.datetime(1997, 3, 24, 0, 0), 'tours__6': None, 'ranking_id__6': '1997-03-24_789_200772', 'rank__6': 789, 'player__6': '200772', 'points__6': 4.0, 'ranking_date__6': datetime.datetime(1997, 3, 24, 0, 0), 'tours__7': None, 'ranking_id__7': '1997-03-24_790_207011', 'rank__7': 790, 'player__7': '207011', 'points__7': 4.0, 'ranking_date__7': datetime.datetime(1997, 3, 24, 0, 0), 'tours__8': None, 'ranking_id__8': '1997-03-24_791_206500' ... 5900 parameters truncated ... 'points__991': 6.0, 'ranking_date__991': datetime.datetime(1997, 3, 31, 0, 0), 'tours__992': None, 'ranking_id__992': '1997-03-31_682_204544', 'rank__992': 682, 'player__992': '204544', 'points__992': 6.0, 'ranking_date__992': datetime.datetime(1997, 3, 31, 0, 0), 'tours__993': None, 'ranking_id__993': '1997-03-31_683_204560', 'rank__993': 683, 'player__993': '204560', 'points__993': 6.0, 'ranking_date__993': datetime.datetime(1997, 3, 31, 0, 0), 'tours__994': None, 'ranking_id__994': '1997-03-31_684_203984', 'rank__994': 684, 'player__994': '203984', 'points__994': 6.0, 'ranking_date__994': datetime.datetime(1997, 3, 31, 0, 0), 'tours__995': None, 'ranking_id__995': '1997-03-31_685_202974', 'rank__995': 685, 'player__995': '202974', 'points__995': 6.0, 'ranking_date__995': datetime.datetime(1997, 3, 31, 0, 0), 'tours__996': None, 'ranking_id__996': '1997-03-31_686_204020', 'rank__996': 686, 'player__996': '204020', 'points__996': 6.0, 'ranking_date__996': datetime.datetime(1997, 3, 31, 0, 0), 'tours__997': None, 'ranking_id__997': '1997-03-31_687_206521', 'rank__997': 687, 'player__997': '206521', 'points__997': 6.0, 'ranking_date__997': datetime.datetime(1997, 3, 31, 0, 0), 'tours__998': None, 'ranking_id__998': '1997-03-31_688_202982', 'rank__998': 688, 'player__998': '202982', 'points__998': 6.0, 'ranking_date__998': datetime.datetime(1997, 3, 31, 0, 0), 'tours__999': None, 'ranking_id__999': '1997-03-31_689_204096', 'rank__999': 689, 'player__999': '204096', 'points__999': 6.0, 'ranking_date__999': datetime.datetime(1997, 3, 31, 0, 0)}]\n",
      "(Background on this error at: https://sqlalche.me/e/20/e3q8)\n",
      "Uploading to table wta_players...\n",
      "Successfully loaded 67095 rows into wta_players\n",
      "Uploading to table wta_singles_matches...\n",
      "Error: Can't reconnect until invalid transaction is rolled back.  Please rollback() fully before proceeding (Background on this error at: https://sqlalche.me/e/20/8s2b)\n"
     ]
    }
   ],
   "source": [
    "load_parquet_to_neon('aggregated_matches_atp/atp_players.parquet', 'atp_players')\n",
    "load_parquet_to_neon('aggregated_matches_atp/atp_singles_matches.parquet', 'atp_singles_matches')\n",
    "load_parquet_to_neon('aggregated_matches_atp/atp_rankings.parquet', 'atp_rankings')\n",
    "load_parquet_to_neon('aggregated_matches_atp/atp_qualifiers_challengers_matches.parquet', 'atp_qual_chall_matches')\n",
    "load_parquet_to_neon('aggregated_matches_atp/atp_futures_matches.parquet', 'atp_futures_matches')\n",
    "load_parquet_to_neon('aggregated_matches_atp/atp_doubles_matches.parquet', 'atp_doubles_matches')\n",
    "load_parquet_to_neon('aggregated_matches_atp/atp_amateurs_matches.parquet', 'atp_amateurs_matches')\n",
    "\n",
    "load_parquet_to_neon('aggregated_matches_wta/wta_qualifiers_itf_matches.parquet', 'wta_qual_itf_matches')\n",
    "load_parquet_to_neon('aggregated_matches_wta/wta_rankings.parquet', 'wta_rankings')\n",
    "load_parquet_to_neon('aggregated_matches_wta/wta_players.parquet', 'wta_players')\n",
    "load_parquet_to_neon('aggregated_matches_wta/wta_singles_matches.parquet', 'wta_singles_matches')"
   ]
  },
  {
   "cell_type": "code",
   "execution_count": 3,
   "metadata": {},
   "outputs": [
    {
     "name": "stdout",
     "output_type": "stream",
     "text": [
      "Uploading to table atp_players...\n",
      "Successfully loaded 65019 rows into atp_players\n"
     ]
    }
   ],
   "source": [
    "loading_to_db.load_parquet_to_AWS('aggregated_matches_atp/atp_players.parquet', 'atp_players')"
   ]
  },
  {
   "cell_type": "code",
   "execution_count": 4,
   "metadata": {},
   "outputs": [
    {
     "name": "stdout",
     "output_type": "stream",
     "text": [
      "Uploading to table atp_singles_matches...\n",
      "Successfully loaded 193337 rows into atp_singles_matches\n"
     ]
    }
   ],
   "source": [
    "loading_to_db.load_parquet_to_AWS('aggregated_matches_atp/atp_singles_matches.parquet', 'atp_singles_matches')"
   ]
  },
  {
   "cell_type": "code",
   "execution_count": null,
   "metadata": {},
   "outputs": [
    {
     "name": "stdout",
     "output_type": "stream",
     "text": [
      "Uploading to table atp_rankings...\n",
      "Successfully loaded 3235639 rows into atp_rankings\n",
      "Uploading to table atp_qual_chall_matches...\n",
      "Successfully loaded 216430 rows into atp_qual_chall_matches\n",
      "Uploading to table atp_futures_matches...\n",
      "Successfully loaded 486553 rows into atp_futures_matches\n",
      "Uploading to table atp_doubles_matches...\n",
      "Successfully loaded 26399 rows into atp_doubles_matches\n",
      "Uploading to table atp_amateurs_matches...\n",
      "Successfully loaded 25001 rows into atp_amateurs_matches\n",
      "Uploading to table wta_qual_itf_matches...\n",
      "Successfully loaded 593885 rows into wta_qual_itf_matches\n",
      "Uploading to table wta_rankings...\n",
      "Successfully loaded 2042300 rows into wta_rankings\n",
      "Uploading to table wta_players...\n",
      "Successfully loaded 67095 rows into wta_players\n",
      "Uploading to table wta_singles_matches...\n",
      "Successfully loaded 158092 rows into wta_singles_matches\n"
     ]
    }
   ],
   "source": [
    "loading_to_db.load_parquet_to_AWS('aggregated_matches_atp/atp_rankings.parquet', 'atp_rankings')\n",
    "loading_to_db.load_parquet_to_AWS('aggregated_matches_atp/atp_qualifiers_challengers_matches.parquet', 'atp_qualifiers_challengers_matches')\n",
    "loading_to_db.load_parquet_to_AWS('aggregated_matches_atp/atp_futures_matches.parquet', 'atp_futures_matches')\n",
    "loading_to_db.load_parquet_to_AWS('aggregated_matches_atp/atp_doubles_matches.parquet', 'atp_doubles_matches')\n",
    "loading_to_db.load_parquet_to_AWS('aggregated_matches_atp/atp_amateurs_matches.parquet', 'atp_amateurs_matches')\n",
    "loading_to_db.load_parquet_to_AWS('aggregated_matches_wta/wta_qualifiers_itf_matches.parquet', 'wta_qualifiers_itf_matches')\n",
    "loading_to_db.load_parquet_to_AWS('aggregated_matches_wta/wta_rankings.parquet', 'wta_rankings')\n",
    "loading_to_db.load_parquet_to_AWS('aggregated_matches_wta/wta_players.parquet', 'wta_players')\n",
    "loading_to_db.load_parquet_to_AWS('aggregated_matches_wta/wta_singles_matches.parquet', 'wta_singles_matches')"
   ]
  },
  {
   "cell_type": "code",
   "execution_count": 7,
   "metadata": {},
   "outputs": [
    {
     "name": "stdout",
     "output_type": "stream",
     "text": [
      "Uploading to table atp_qualifiers_challengers_matches...\n",
      "Successfully loaded 216430 rows into atp_qualifiers_challengers_matches\n",
      "Uploading to table wta_qualifiers_itf_matches...\n",
      "Successfully loaded 593885 rows into wta_qualifiers_itf_matches\n"
     ]
    }
   ],
   "source": [
    "loading_to_db.load_parquet_to_AWS('aggregated_matches_atp/atp_qualifiers_challengers_matches.parquet', 'atp_qualifiers_challengers_matches')\n",
    "loading_to_db.load_parquet_to_AWS('aggregated_matches_wta/wta_qualifiers_itf_matches.parquet', 'wta_qualifiers_itf_matches')"
   ]
  },
  {
   "cell_type": "code",
   "execution_count": 5,
   "metadata": {},
   "outputs": [
    {
     "name": "stdout",
     "output_type": "stream",
     "text": [
      "Uploading to table countries...\n",
      "Successfully loaded 249 rows into countries\n",
      "Uploading to table temporal_table...\n",
      "Successfully loaded 21185 rows into temporal_table\n",
      "Uploading to table total_tourneys...\n",
      "Successfully loaded 56002 rows into total_tourneys\n"
     ]
    }
   ],
   "source": [
    "loading_to_db.load_parquet_to_AWS('total_temporal_geografic_table/countries.parquet', 'countries')\n",
    "loading_to_db.load_parquet_to_AWS('total_temporal_geografic_table/temporal_table.parquet', 'temporal_table')\n",
    "loading_to_db.load_parquet_to_AWS('total_temporal_geografic_table/total_tourneys.parquet', 'total_tourneys')"
   ]
  }
 ],
 "metadata": {
  "kernelspec": {
   "display_name": "Python 3",
   "language": "python",
   "name": "python3"
  },
  "language_info": {
   "codemirror_mode": {
    "name": "ipython",
    "version": 3
   },
   "file_extension": ".py",
   "mimetype": "text/x-python",
   "name": "python",
   "nbconvert_exporter": "python",
   "pygments_lexer": "ipython3",
   "version": "3.12.4"
  }
 },
 "nbformat": 4,
 "nbformat_minor": 2
}
