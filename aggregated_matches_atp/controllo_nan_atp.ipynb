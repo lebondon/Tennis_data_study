{
 "cells": [
  {
   "cell_type": "code",
   "execution_count": 1,
   "metadata": {},
   "outputs": [],
   "source": [
    "import pandas as pd\n",
    "import numpy as np\n",
    "import seaborn as sns"
   ]
  },
  {
   "cell_type": "markdown",
   "metadata": {},
   "source": [
    "## CONTROLLO NAN TABELLA atp_amateurs_matches.parquet"
   ]
  },
  {
   "cell_type": "code",
   "execution_count": 2,
   "metadata": {},
   "outputs": [],
   "source": [
    "path=\"atp_amateurs_matches.parquet\"\n",
    "df=pd.read_parquet(path)"
   ]
  },
  {
   "cell_type": "code",
   "execution_count": 3,
   "metadata": {},
   "outputs": [
    {
     "data": {
      "text/html": [
       "<div>\n",
       "<style scoped>\n",
       "    .dataframe tbody tr th:only-of-type {\n",
       "        vertical-align: middle;\n",
       "    }\n",
       "\n",
       "    .dataframe tbody tr th {\n",
       "        vertical-align: top;\n",
       "    }\n",
       "\n",
       "    .dataframe thead th {\n",
       "        text-align: right;\n",
       "    }\n",
       "</style>\n",
       "<table border=\"1\" class=\"dataframe\">\n",
       "  <thead>\n",
       "    <tr style=\"text-align: right;\">\n",
       "      <th></th>\n",
       "      <th>tourney_id</th>\n",
       "      <th>tourney_name</th>\n",
       "      <th>surface</th>\n",
       "      <th>draw_size</th>\n",
       "      <th>tourney_level</th>\n",
       "      <th>tourney_date</th>\n",
       "      <th>match_num</th>\n",
       "      <th>winner_id</th>\n",
       "      <th>winner_seed</th>\n",
       "      <th>winner_entry</th>\n",
       "      <th>...</th>\n",
       "      <th>l_1stIn</th>\n",
       "      <th>l_1stWon</th>\n",
       "      <th>l_2ndWon</th>\n",
       "      <th>l_SvGms</th>\n",
       "      <th>l_bpSaved</th>\n",
       "      <th>l_bpFaced</th>\n",
       "      <th>winner_rank</th>\n",
       "      <th>winner_rank_points</th>\n",
       "      <th>loser_rank</th>\n",
       "      <th>loser_rank_points</th>\n",
       "    </tr>\n",
       "  </thead>\n",
       "  <tbody>\n",
       "    <tr>\n",
       "      <th>0</th>\n",
       "      <td>1877-540</td>\n",
       "      <td>Wimbledon</td>\n",
       "      <td>Grass</td>\n",
       "      <td>32</td>\n",
       "      <td>G</td>\n",
       "      <td>1877-07-09</td>\n",
       "      <td>1</td>\n",
       "      <td>113987</td>\n",
       "      <td>None</td>\n",
       "      <td>None</td>\n",
       "      <td>...</td>\n",
       "      <td>None</td>\n",
       "      <td>None</td>\n",
       "      <td>None</td>\n",
       "      <td>None</td>\n",
       "      <td>None</td>\n",
       "      <td>None</td>\n",
       "      <td>None</td>\n",
       "      <td>None</td>\n",
       "      <td>None</td>\n",
       "      <td>None</td>\n",
       "    </tr>\n",
       "    <tr>\n",
       "      <th>1</th>\n",
       "      <td>1877-540</td>\n",
       "      <td>Wimbledon</td>\n",
       "      <td>Grass</td>\n",
       "      <td>32</td>\n",
       "      <td>G</td>\n",
       "      <td>1877-07-09</td>\n",
       "      <td>2</td>\n",
       "      <td>114146</td>\n",
       "      <td>None</td>\n",
       "      <td>None</td>\n",
       "      <td>...</td>\n",
       "      <td>None</td>\n",
       "      <td>None</td>\n",
       "      <td>None</td>\n",
       "      <td>None</td>\n",
       "      <td>None</td>\n",
       "      <td>None</td>\n",
       "      <td>None</td>\n",
       "      <td>None</td>\n",
       "      <td>None</td>\n",
       "      <td>None</td>\n",
       "    </tr>\n",
       "    <tr>\n",
       "      <th>2</th>\n",
       "      <td>1877-540</td>\n",
       "      <td>Wimbledon</td>\n",
       "      <td>Grass</td>\n",
       "      <td>32</td>\n",
       "      <td>G</td>\n",
       "      <td>1877-07-09</td>\n",
       "      <td>3</td>\n",
       "      <td>114147</td>\n",
       "      <td>None</td>\n",
       "      <td>None</td>\n",
       "      <td>...</td>\n",
       "      <td>None</td>\n",
       "      <td>None</td>\n",
       "      <td>None</td>\n",
       "      <td>None</td>\n",
       "      <td>None</td>\n",
       "      <td>None</td>\n",
       "      <td>None</td>\n",
       "      <td>None</td>\n",
       "      <td>None</td>\n",
       "      <td>None</td>\n",
       "    </tr>\n",
       "    <tr>\n",
       "      <th>3</th>\n",
       "      <td>1877-540</td>\n",
       "      <td>Wimbledon</td>\n",
       "      <td>Grass</td>\n",
       "      <td>32</td>\n",
       "      <td>G</td>\n",
       "      <td>1877-07-09</td>\n",
       "      <td>4</td>\n",
       "      <td>114149</td>\n",
       "      <td>None</td>\n",
       "      <td>None</td>\n",
       "      <td>...</td>\n",
       "      <td>None</td>\n",
       "      <td>None</td>\n",
       "      <td>None</td>\n",
       "      <td>None</td>\n",
       "      <td>None</td>\n",
       "      <td>None</td>\n",
       "      <td>None</td>\n",
       "      <td>None</td>\n",
       "      <td>None</td>\n",
       "      <td>None</td>\n",
       "    </tr>\n",
       "    <tr>\n",
       "      <th>4</th>\n",
       "      <td>1877-540</td>\n",
       "      <td>Wimbledon</td>\n",
       "      <td>Grass</td>\n",
       "      <td>32</td>\n",
       "      <td>G</td>\n",
       "      <td>1877-07-09</td>\n",
       "      <td>5</td>\n",
       "      <td>113953</td>\n",
       "      <td>None</td>\n",
       "      <td>None</td>\n",
       "      <td>...</td>\n",
       "      <td>None</td>\n",
       "      <td>None</td>\n",
       "      <td>None</td>\n",
       "      <td>None</td>\n",
       "      <td>None</td>\n",
       "      <td>None</td>\n",
       "      <td>None</td>\n",
       "      <td>None</td>\n",
       "      <td>None</td>\n",
       "      <td>None</td>\n",
       "    </tr>\n",
       "    <tr>\n",
       "      <th>...</th>\n",
       "      <td>...</td>\n",
       "      <td>...</td>\n",
       "      <td>...</td>\n",
       "      <td>...</td>\n",
       "      <td>...</td>\n",
       "      <td>...</td>\n",
       "      <td>...</td>\n",
       "      <td>...</td>\n",
       "      <td>...</td>\n",
       "      <td>...</td>\n",
       "      <td>...</td>\n",
       "      <td>...</td>\n",
       "      <td>...</td>\n",
       "      <td>...</td>\n",
       "      <td>...</td>\n",
       "      <td>...</td>\n",
       "      <td>...</td>\n",
       "      <td>...</td>\n",
       "      <td>...</td>\n",
       "      <td>...</td>\n",
       "      <td>...</td>\n",
       "    </tr>\n",
       "    <tr>\n",
       "      <th>24996</th>\n",
       "      <td>1967-D047</td>\n",
       "      <td>Davis Cup EUR R1: NED vs RSA</td>\n",
       "      <td>Clay</td>\n",
       "      <td>4</td>\n",
       "      <td>D</td>\n",
       "      <td>1967-05-04</td>\n",
       "      <td>5</td>\n",
       "      <td>100084</td>\n",
       "      <td>None</td>\n",
       "      <td>None</td>\n",
       "      <td>...</td>\n",
       "      <td>None</td>\n",
       "      <td>None</td>\n",
       "      <td>None</td>\n",
       "      <td>None</td>\n",
       "      <td>None</td>\n",
       "      <td>None</td>\n",
       "      <td>None</td>\n",
       "      <td>None</td>\n",
       "      <td>None</td>\n",
       "      <td>None</td>\n",
       "    </tr>\n",
       "    <tr>\n",
       "      <th>24997</th>\n",
       "      <td>1967-D048</td>\n",
       "      <td>Davis Cup AME SF: PHI vs VIE</td>\n",
       "      <td>None</td>\n",
       "      <td>4</td>\n",
       "      <td>D</td>\n",
       "      <td>1967-04-14</td>\n",
       "      <td>1</td>\n",
       "      <td>106910</td>\n",
       "      <td>None</td>\n",
       "      <td>None</td>\n",
       "      <td>...</td>\n",
       "      <td>None</td>\n",
       "      <td>None</td>\n",
       "      <td>None</td>\n",
       "      <td>None</td>\n",
       "      <td>None</td>\n",
       "      <td>None</td>\n",
       "      <td>None</td>\n",
       "      <td>None</td>\n",
       "      <td>None</td>\n",
       "      <td>None</td>\n",
       "    </tr>\n",
       "    <tr>\n",
       "      <th>24998</th>\n",
       "      <td>1967-D048</td>\n",
       "      <td>Davis Cup AME SF: PHI vs VIE</td>\n",
       "      <td>None</td>\n",
       "      <td>4</td>\n",
       "      <td>D</td>\n",
       "      <td>1967-04-14</td>\n",
       "      <td>2</td>\n",
       "      <td>112556</td>\n",
       "      <td>None</td>\n",
       "      <td>None</td>\n",
       "      <td>...</td>\n",
       "      <td>None</td>\n",
       "      <td>None</td>\n",
       "      <td>None</td>\n",
       "      <td>None</td>\n",
       "      <td>None</td>\n",
       "      <td>None</td>\n",
       "      <td>None</td>\n",
       "      <td>None</td>\n",
       "      <td>None</td>\n",
       "      <td>None</td>\n",
       "    </tr>\n",
       "    <tr>\n",
       "      <th>24999</th>\n",
       "      <td>1967-D048</td>\n",
       "      <td>Davis Cup AME SF: PHI vs VIE</td>\n",
       "      <td>None</td>\n",
       "      <td>4</td>\n",
       "      <td>D</td>\n",
       "      <td>1967-04-14</td>\n",
       "      <td>4</td>\n",
       "      <td>125731</td>\n",
       "      <td>None</td>\n",
       "      <td>None</td>\n",
       "      <td>...</td>\n",
       "      <td>None</td>\n",
       "      <td>None</td>\n",
       "      <td>None</td>\n",
       "      <td>None</td>\n",
       "      <td>None</td>\n",
       "      <td>None</td>\n",
       "      <td>None</td>\n",
       "      <td>None</td>\n",
       "      <td>None</td>\n",
       "      <td>None</td>\n",
       "    </tr>\n",
       "    <tr>\n",
       "      <th>25000</th>\n",
       "      <td>1967-D048</td>\n",
       "      <td>Davis Cup AME SF: PHI vs VIE</td>\n",
       "      <td>None</td>\n",
       "      <td>4</td>\n",
       "      <td>D</td>\n",
       "      <td>1967-04-14</td>\n",
       "      <td>5</td>\n",
       "      <td>106910</td>\n",
       "      <td>None</td>\n",
       "      <td>None</td>\n",
       "      <td>...</td>\n",
       "      <td>None</td>\n",
       "      <td>None</td>\n",
       "      <td>None</td>\n",
       "      <td>None</td>\n",
       "      <td>None</td>\n",
       "      <td>None</td>\n",
       "      <td>None</td>\n",
       "      <td>None</td>\n",
       "      <td>None</td>\n",
       "      <td>None</td>\n",
       "    </tr>\n",
       "  </tbody>\n",
       "</table>\n",
       "<p>25001 rows × 49 columns</p>\n",
       "</div>"
      ],
      "text/plain": [
       "      tourney_id                  tourney_name surface draw_size  \\\n",
       "0       1877-540                     Wimbledon   Grass        32   \n",
       "1       1877-540                     Wimbledon   Grass        32   \n",
       "2       1877-540                     Wimbledon   Grass        32   \n",
       "3       1877-540                     Wimbledon   Grass        32   \n",
       "4       1877-540                     Wimbledon   Grass        32   \n",
       "...          ...                           ...     ...       ...   \n",
       "24996  1967-D047  Davis Cup EUR R1: NED vs RSA    Clay         4   \n",
       "24997  1967-D048  Davis Cup AME SF: PHI vs VIE    None         4   \n",
       "24998  1967-D048  Davis Cup AME SF: PHI vs VIE    None         4   \n",
       "24999  1967-D048  Davis Cup AME SF: PHI vs VIE    None         4   \n",
       "25000  1967-D048  Davis Cup AME SF: PHI vs VIE    None         4   \n",
       "\n",
       "      tourney_level tourney_date  match_num  winner_id winner_seed  \\\n",
       "0                 G   1877-07-09          1     113987        None   \n",
       "1                 G   1877-07-09          2     114146        None   \n",
       "2                 G   1877-07-09          3     114147        None   \n",
       "3                 G   1877-07-09          4     114149        None   \n",
       "4                 G   1877-07-09          5     113953        None   \n",
       "...             ...          ...        ...        ...         ...   \n",
       "24996             D   1967-05-04          5     100084        None   \n",
       "24997             D   1967-04-14          1     106910        None   \n",
       "24998             D   1967-04-14          2     112556        None   \n",
       "24999             D   1967-04-14          4     125731        None   \n",
       "25000             D   1967-04-14          5     106910        None   \n",
       "\n",
       "      winner_entry  ... l_1stIn l_1stWon l_2ndWon l_SvGms  l_bpSaved  \\\n",
       "0             None  ...    None     None     None    None       None   \n",
       "1             None  ...    None     None     None    None       None   \n",
       "2             None  ...    None     None     None    None       None   \n",
       "3             None  ...    None     None     None    None       None   \n",
       "4             None  ...    None     None     None    None       None   \n",
       "...            ...  ...     ...      ...      ...     ...        ...   \n",
       "24996         None  ...    None     None     None    None       None   \n",
       "24997         None  ...    None     None     None    None       None   \n",
       "24998         None  ...    None     None     None    None       None   \n",
       "24999         None  ...    None     None     None    None       None   \n",
       "25000         None  ...    None     None     None    None       None   \n",
       "\n",
       "       l_bpFaced winner_rank winner_rank_points loser_rank loser_rank_points  \n",
       "0           None        None               None       None              None  \n",
       "1           None        None               None       None              None  \n",
       "2           None        None               None       None              None  \n",
       "3           None        None               None       None              None  \n",
       "4           None        None               None       None              None  \n",
       "...          ...         ...                ...        ...               ...  \n",
       "24996       None        None               None       None              None  \n",
       "24997       None        None               None       None              None  \n",
       "24998       None        None               None       None              None  \n",
       "24999       None        None               None       None              None  \n",
       "25000       None        None               None       None              None  \n",
       "\n",
       "[25001 rows x 49 columns]"
      ]
     },
     "execution_count": 3,
     "metadata": {},
     "output_type": "execute_result"
    }
   ],
   "source": [
    "df"
   ]
  },
  {
   "cell_type": "markdown",
   "metadata": {},
   "source": [
    "-------------------------------------------------------------------------------------------------------------------------"
   ]
  },
  {
   "cell_type": "code",
   "execution_count": 4,
   "metadata": {},
   "outputs": [
    {
     "data": {
      "text/plain": [
       "tourney_id\n",
       "1911-560     201\n",
       "1910-560     181\n",
       "1909-560     164\n",
       "1912-560     158\n",
       "1913-560     147\n",
       "            ... \n",
       "1927-D022      2\n",
       "1913-D004      2\n",
       "1962-D008      2\n",
       "1965-D011      2\n",
       "1964-D040      2\n",
       "Name: count, Length: 1482, dtype: int64"
      ]
     },
     "execution_count": 4,
     "metadata": {},
     "output_type": "execute_result"
    }
   ],
   "source": [
    "df[\"tourney_id\"].value_counts(dropna=False)"
   ]
  },
  {
   "cell_type": "code",
   "execution_count": 5,
   "metadata": {},
   "outputs": [
    {
     "data": {
      "text/plain": [
       "0"
      ]
     },
     "execution_count": 5,
     "metadata": {},
     "output_type": "execute_result"
    }
   ],
   "source": [
    "df['tourney_id'].isna().sum()"
   ]
  },
  {
   "cell_type": "markdown",
   "metadata": {},
   "source": [
    "---------------------------------------"
   ]
  },
  {
   "cell_type": "code",
   "execution_count": 6,
   "metadata": {},
   "outputs": [
    {
     "data": {
      "text/plain": [
       "tourney_name\n",
       "US Open                         7824\n",
       "Wimbledon                       7238\n",
       "Roland Garros                   3390\n",
       "Australian Open                 1749\n",
       "Davis Cup WG CR: USA vs AUS       44\n",
       "                                ... \n",
       "Davis Cup WG QF: FRA vs USA        2\n",
       "Davis Cup EUR R1: IRL vs DEN       2\n",
       "Davis Cup EUR QF: NED vs AUT       2\n",
       "Davis Cup EUR R2: NOR vs POL       2\n",
       "Davis Cup EUR R2: AUT vs IND       2\n",
       "Name: count, Length: 971, dtype: int64"
      ]
     },
     "execution_count": 6,
     "metadata": {},
     "output_type": "execute_result"
    }
   ],
   "source": [
    "df['tourney_name'].value_counts(dropna=False)"
   ]
  },
  {
   "cell_type": "code",
   "execution_count": 7,
   "metadata": {},
   "outputs": [
    {
     "data": {
      "text/plain": [
       "0"
      ]
     },
     "execution_count": 7,
     "metadata": {},
     "output_type": "execute_result"
    }
   ],
   "source": [
    "df[\"tourney_name\"].isna().sum()"
   ]
  },
  {
   "cell_type": "markdown",
   "metadata": {},
   "source": [
    "---------------"
   ]
  },
  {
   "cell_type": "code",
   "execution_count": 8,
   "metadata": {},
   "outputs": [
    {
     "data": {
      "text/plain": [
       "surface\n",
       "Grass    17733\n",
       "Clay      5566\n",
       "None      1639\n",
       "Hard        63\n",
       "Name: count, dtype: int64"
      ]
     },
     "execution_count": 8,
     "metadata": {},
     "output_type": "execute_result"
    }
   ],
   "source": [
    "df[\"surface\"].value_counts(dropna=False)"
   ]
  },
  {
   "cell_type": "code",
   "execution_count": 9,
   "metadata": {},
   "outputs": [
    {
     "data": {
      "text/plain": [
       "1639"
      ]
     },
     "execution_count": 9,
     "metadata": {},
     "output_type": "execute_result"
    }
   ],
   "source": [
    "df[\"surface\"].isna().sum()"
   ]
  },
  {
   "cell_type": "code",
   "execution_count": 10,
   "metadata": {},
   "outputs": [],
   "source": [
    "# circa il 6,5% della colonna surface è composto da valori nan"
   ]
  },
  {
   "cell_type": "markdown",
   "metadata": {},
   "source": [
    "-------------"
   ]
  },
  {
   "cell_type": "code",
   "execution_count": 11,
   "metadata": {},
   "outputs": [
    {
     "data": {
      "text/plain": [
       "draw_size\n",
       "128    14455\n",
       "4       4800\n",
       "64      2836\n",
       "R       1582\n",
       "32      1247\n",
       "16        81\n",
       "Name: count, dtype: int64"
      ]
     },
     "execution_count": 11,
     "metadata": {},
     "output_type": "execute_result"
    }
   ],
   "source": [
    "df[\"draw_size\"].value_counts(dropna=False)"
   ]
  },
  {
   "cell_type": "code",
   "execution_count": 12,
   "metadata": {},
   "outputs": [
    {
     "data": {
      "text/plain": [
       "0"
      ]
     },
     "execution_count": 12,
     "metadata": {},
     "output_type": "execute_result"
    }
   ],
   "source": [
    "df[\"draw_size\"].isna().sum()"
   ]
  },
  {
   "cell_type": "code",
   "execution_count": 13,
   "metadata": {},
   "outputs": [],
   "source": [
    "#nella colonna draw_size non sono presenti valori nan ma ho notato che è presente uno strano valore \"R\""
   ]
  },
  {
   "cell_type": "markdown",
   "metadata": {},
   "source": [
    "-------------------------"
   ]
  },
  {
   "cell_type": "code",
   "execution_count": 14,
   "metadata": {},
   "outputs": [
    {
     "data": {
      "text/plain": [
       "tourney_level\n",
       "G    20201\n",
       "D     4800\n",
       "Name: count, dtype: int64"
      ]
     },
     "execution_count": 14,
     "metadata": {},
     "output_type": "execute_result"
    }
   ],
   "source": [
    "df[\"tourney_level\"].value_counts(dropna=False)"
   ]
  },
  {
   "cell_type": "code",
   "execution_count": 15,
   "metadata": {},
   "outputs": [],
   "source": [
    "# non faccio il controllo con .isna().sum() dal momento che ad occhio è possibile notare l'assenza di valori nan ma (considerazione personale) mi incuriosisce solo la presenza di due sole variabili"
   ]
  },
  {
   "cell_type": "markdown",
   "metadata": {},
   "source": [
    "------------------"
   ]
  },
  {
   "cell_type": "code",
   "execution_count": 16,
   "metadata": {},
   "outputs": [
    {
     "data": {
      "text/plain": [
       "tourney_date\n",
       "1911-08-01    201\n",
       "1910-08-01    181\n",
       "1909-08-01    164\n",
       "1912-08-01    158\n",
       "1913-08-01    147\n",
       "             ... \n",
       "1927-07-21      2\n",
       "1926-05-24      2\n",
       "1928-04-30      2\n",
       "1900-08-08      2\n",
       "1913-07-17      2\n",
       "Name: count, Length: 1004, dtype: int64"
      ]
     },
     "execution_count": 16,
     "metadata": {},
     "output_type": "execute_result"
    }
   ],
   "source": [
    "df['tourney_date'].value_counts(dropna=False)"
   ]
  },
  {
   "cell_type": "code",
   "execution_count": 17,
   "metadata": {},
   "outputs": [
    {
     "data": {
      "text/plain": [
       "0"
      ]
     },
     "execution_count": 17,
     "metadata": {},
     "output_type": "execute_result"
    }
   ],
   "source": [
    "df['tourney_date'].isna().sum()"
   ]
  },
  {
   "cell_type": "markdown",
   "metadata": {},
   "source": [
    "------------------"
   ]
  },
  {
   "cell_type": "code",
   "execution_count": 18,
   "metadata": {},
   "outputs": [
    {
     "data": {
      "text/plain": [
       "match_num\n",
       "1      1482\n",
       "2      1482\n",
       "4      1457\n",
       "5      1419\n",
       "3       260\n",
       "       ... \n",
       "185       1\n",
       "184       1\n",
       "183       1\n",
       "182       1\n",
       "201       1\n",
       "Name: count, Length: 201, dtype: int64"
      ]
     },
     "execution_count": 18,
     "metadata": {},
     "output_type": "execute_result"
    }
   ],
   "source": [
    "df['match_num'].value_counts(dropna=False)"
   ]
  },
  {
   "cell_type": "code",
   "execution_count": 19,
   "metadata": {},
   "outputs": [
    {
     "data": {
      "text/plain": [
       "0"
      ]
     },
     "execution_count": 19,
     "metadata": {},
     "output_type": "execute_result"
    }
   ],
   "source": [
    "df['match_num'].isna().sum()"
   ]
  },
  {
   "cell_type": "markdown",
   "metadata": {},
   "source": [
    "----------------"
   ]
  },
  {
   "cell_type": "code",
   "execution_count": 20,
   "metadata": {},
   "outputs": [
    {
     "data": {
      "text/plain": [
       "Index(['tourney_id', 'tourney_name', 'surface', 'draw_size', 'tourney_level',\n",
       "       'tourney_date', 'match_num', 'winner_id', 'winner_seed', 'winner_entry',\n",
       "       'winner_name', 'winner_hand', 'winner_ht', 'winner_ioc', 'winner_age',\n",
       "       'loser_id', 'loser_seed', 'loser_entry', 'loser_name', 'loser_hand',\n",
       "       'loser_ht', 'loser_ioc', 'loser_age', 'score', 'best_of', 'round',\n",
       "       'minutes', 'w_ace', 'w_df', 'w_svpt', 'w_1stIn', 'w_1stWon', 'w_2ndWon',\n",
       "       'w_SvGms', 'w_bpSaved', 'w_bpFaced', 'l_ace', 'l_df', 'l_svpt',\n",
       "       'l_1stIn', 'l_1stWon', 'l_2ndWon', 'l_SvGms', 'l_bpSaved', 'l_bpFaced',\n",
       "       'winner_rank', 'winner_rank_points', 'loser_rank', 'loser_rank_points'],\n",
       "      dtype='object')"
      ]
     },
     "execution_count": 20,
     "metadata": {},
     "output_type": "execute_result"
    }
   ],
   "source": [
    "df.columns"
   ]
  },
  {
   "cell_type": "code",
   "execution_count": 21,
   "metadata": {},
   "outputs": [
    {
     "data": {
      "text/plain": [
       "winner_id\n",
       "100022    198\n",
       "109816    153\n",
       "100012    151\n",
       "112007    143\n",
       "112823    140\n",
       "         ... \n",
       "115581      1\n",
       "114300      1\n",
       "115727      1\n",
       "115927      1\n",
       "111014      1\n",
       "Name: count, Length: 3329, dtype: int64"
      ]
     },
     "execution_count": 21,
     "metadata": {},
     "output_type": "execute_result"
    }
   ],
   "source": [
    "df[\"winner_id\"].value_counts(dropna=False)"
   ]
  },
  {
   "cell_type": "code",
   "execution_count": 22,
   "metadata": {},
   "outputs": [
    {
     "data": {
      "text/plain": [
       "0"
      ]
     },
     "execution_count": 22,
     "metadata": {},
     "output_type": "execute_result"
    }
   ],
   "source": [
    "df[\"winner_id\"].isna().sum()"
   ]
  },
  {
   "cell_type": "markdown",
   "metadata": {},
   "source": [
    "---------------"
   ]
  },
  {
   "cell_type": "code",
   "execution_count": 23,
   "metadata": {},
   "outputs": [
    {
     "data": {
      "text/plain": [
       "winner_seed\n",
       "None    25001\n",
       "Name: count, dtype: int64"
      ]
     },
     "execution_count": 23,
     "metadata": {},
     "output_type": "execute_result"
    }
   ],
   "source": [
    "df['winner_seed'].value_counts(dropna=False)"
   ]
  },
  {
   "cell_type": "code",
   "execution_count": 24,
   "metadata": {},
   "outputs": [],
   "source": [
    "#non mi preoccupo per l'elevata quantità di valori nan in quanto si riferisce a partite avvenute molti anni fa e di conseguenza è normale un'assenza di dati\n",
    "#in futuro se dovessi trovare collonne che presentanno la stessa situazione senza un mio eventuale commento è perche condivide le stesse motivazioni sopraelencate"
   ]
  },
  {
   "cell_type": "markdown",
   "metadata": {},
   "source": [
    "-------------------"
   ]
  },
  {
   "cell_type": "code",
   "execution_count": 25,
   "metadata": {},
   "outputs": [
    {
     "data": {
      "text/plain": [
       "winner_entry\n",
       "None    25001\n",
       "Name: count, dtype: int64"
      ]
     },
     "execution_count": 25,
     "metadata": {},
     "output_type": "execute_result"
    }
   ],
   "source": [
    "df['winner_entry'].value_counts(dropna=False)"
   ]
  },
  {
   "cell_type": "markdown",
   "metadata": {},
   "source": [
    "---------"
   ]
  },
  {
   "cell_type": "code",
   "execution_count": 26,
   "metadata": {},
   "outputs": [
    {
     "data": {
      "text/plain": [
       "winner_name\n",
       "Roy Emerson            198\n",
       "E Victor Seixas        153\n",
       "Nicola Pietrangeli     151\n",
       "Jack Crawford          143\n",
       "Bill Tilden Ii         140\n",
       "                      ... \n",
       "Maurice Ferrier          1\n",
       "R Jagmohan               1\n",
       "Wen Kelly                1\n",
       "Y Das De Kapurthala      1\n",
       "Andres Vatrican          1\n",
       "Name: count, Length: 3268, dtype: int64"
      ]
     },
     "execution_count": 26,
     "metadata": {},
     "output_type": "execute_result"
    }
   ],
   "source": [
    "df['winner_name'].value_counts(dropna=False)"
   ]
  },
  {
   "cell_type": "code",
   "execution_count": 27,
   "metadata": {},
   "outputs": [
    {
     "data": {
      "text/plain": [
       "0"
      ]
     },
     "execution_count": 27,
     "metadata": {},
     "output_type": "execute_result"
    }
   ],
   "source": [
    "df['winner_name'].isna().sum()"
   ]
  },
  {
   "cell_type": "markdown",
   "metadata": {},
   "source": [
    "------------------"
   ]
  },
  {
   "cell_type": "code",
   "execution_count": 28,
   "metadata": {},
   "outputs": [
    {
     "data": {
      "text/plain": [
       "winner_hand\n",
       "None    19362\n",
       "R        4392\n",
       "L         789\n",
       "U         458\n",
       "Name: count, dtype: int64"
      ]
     },
     "execution_count": 28,
     "metadata": {},
     "output_type": "execute_result"
    }
   ],
   "source": [
    "df['winner_hand'].value_counts(dropna=False)"
   ]
  },
  {
   "cell_type": "code",
   "execution_count": 29,
   "metadata": {},
   "outputs": [
    {
     "data": {
      "text/plain": [
       "19362"
      ]
     },
     "execution_count": 29,
     "metadata": {},
     "output_type": "execute_result"
    }
   ],
   "source": [
    "df['winner_hand'].isna().sum()"
   ]
  },
  {
   "cell_type": "code",
   "execution_count": 30,
   "metadata": {},
   "outputs": [],
   "source": [
    "#la colonna \"winner_hand\" è composta dal 77%di valori nan ma non mi sembra il caso di droppare o andare a modificare la colonna\n",
    "#comunque nel caso in cui riteniate il caso di apportare delle modifiche effetuatele pure"
   ]
  },
  {
   "cell_type": "markdown",
   "metadata": {},
   "source": [
    "----------------------------"
   ]
  },
  {
   "cell_type": "code",
   "execution_count": 31,
   "metadata": {},
   "outputs": [
    {
     "data": {
      "text/plain": [
       "winner_ht\n",
       "None    23109\n",
       "185       450\n",
       "183       357\n",
       "188       332\n",
       "190       248\n",
       "175       180\n",
       "173       162\n",
       "178        80\n",
       "180        65\n",
       "193        10\n",
       "170         5\n",
       "196         3\n",
       "Name: count, dtype: int64"
      ]
     },
     "execution_count": 31,
     "metadata": {},
     "output_type": "execute_result"
    }
   ],
   "source": [
    "df['winner_ht'].value_counts(dropna=False)"
   ]
  },
  {
   "cell_type": "code",
   "execution_count": 32,
   "metadata": {},
   "outputs": [
    {
     "data": {
      "text/plain": [
       "(25001, 49)"
      ]
     },
     "execution_count": 32,
     "metadata": {},
     "output_type": "execute_result"
    }
   ],
   "source": [
    "df.shape"
   ]
  },
  {
   "cell_type": "code",
   "execution_count": 33,
   "metadata": {},
   "outputs": [],
   "source": [
    "#la colonna \"winner_ht\" è formata dal 92% di valori nan"
   ]
  },
  {
   "cell_type": "markdown",
   "metadata": {},
   "source": [
    "-------------"
   ]
  },
  {
   "cell_type": "code",
   "execution_count": 34,
   "metadata": {},
   "outputs": [
    {
     "data": {
      "text/plain": [
       "winner_ioc\n",
       "USA    8119\n",
       "GBR    3561\n",
       "AUS    3305\n",
       "FRA    1747\n",
       "RSA     691\n",
       "       ... \n",
       "BRI       2\n",
       "CRC       2\n",
       "GUA       1\n",
       "PAR       1\n",
       "HAW       1\n",
       "Name: count, Length: 82, dtype: int64"
      ]
     },
     "execution_count": 34,
     "metadata": {},
     "output_type": "execute_result"
    }
   ],
   "source": [
    "df['winner_ioc'].value_counts(dropna=False)"
   ]
  },
  {
   "cell_type": "code",
   "execution_count": 35,
   "metadata": {},
   "outputs": [
    {
     "data": {
      "text/plain": [
       "0"
      ]
     },
     "execution_count": 35,
     "metadata": {},
     "output_type": "execute_result"
    }
   ],
   "source": [
    "df['winner_ioc'].isna().sum()"
   ]
  },
  {
   "cell_type": "markdown",
   "metadata": {},
   "source": [
    "-------------"
   ]
  },
  {
   "cell_type": "code",
   "execution_count": 36,
   "metadata": {},
   "outputs": [
    {
     "data": {
      "text/plain": [
       "winner_age\n",
       "NaN          6539\n",
       "23.876797      22\n",
       "21.453799      21\n",
       "22.562628      19\n",
       "25.744011      19\n",
       "             ... \n",
       "38.480493       1\n",
       "25.927447       1\n",
       "41.719370       1\n",
       "15.572895       1\n",
       "46.461328       1\n",
       "Name: count, Length: 5214, dtype: int64"
      ]
     },
     "execution_count": 36,
     "metadata": {},
     "output_type": "execute_result"
    }
   ],
   "source": [
    "df['winner_age'].value_counts(dropna=False)"
   ]
  },
  {
   "cell_type": "code",
   "execution_count": 37,
   "metadata": {},
   "outputs": [],
   "source": [
    "# winner_age_prova=df[\"winner_age\"]\n",
    "# winner_age_prova=[round(num) if not np.isnan(num) else np.nan \n",
    "#     for num in winner_age_prova\n",
    "# ]\n",
    "# winner_age_prova"
   ]
  },
  {
   "cell_type": "code",
   "execution_count": 38,
   "metadata": {},
   "outputs": [],
   "source": [
    "# df[\"winner_age\"]=winner_age_prova\n",
    "# df[\"winner_age\"].value_counts(dropna=False)"
   ]
  },
  {
   "cell_type": "code",
   "execution_count": 39,
   "metadata": {},
   "outputs": [],
   "source": [
    "#la colonna winner_age è composta dal 26% di valori nan"
   ]
  },
  {
   "cell_type": "markdown",
   "metadata": {},
   "source": [
    "----------"
   ]
  },
  {
   "cell_type": "code",
   "execution_count": 40,
   "metadata": {},
   "outputs": [
    {
     "data": {
      "text/plain": [
       "loser_id\n",
       "100011    63\n",
       "100012    57\n",
       "112631    56\n",
       "109816    51\n",
       "112007    50\n",
       "          ..\n",
       "111876     1\n",
       "111884     1\n",
       "111868     1\n",
       "113726     1\n",
       "110439     1\n",
       "Name: count, Length: 6014, dtype: int64"
      ]
     },
     "execution_count": 40,
     "metadata": {},
     "output_type": "execute_result"
    }
   ],
   "source": [
    "df['loser_id'].value_counts(dropna=False)"
   ]
  },
  {
   "cell_type": "code",
   "execution_count": 41,
   "metadata": {},
   "outputs": [
    {
     "data": {
      "text/plain": [
       "0"
      ]
     },
     "execution_count": 41,
     "metadata": {},
     "output_type": "execute_result"
    }
   ],
   "source": [
    "df['loser_id'].isna().sum()"
   ]
  },
  {
   "cell_type": "markdown",
   "metadata": {},
   "source": [
    "--------------"
   ]
  },
  {
   "cell_type": "code",
   "execution_count": 42,
   "metadata": {},
   "outputs": [
    {
     "data": {
      "text/plain": [
       "loser_seed\n",
       "None    25001\n",
       "Name: count, dtype: int64"
      ]
     },
     "execution_count": 42,
     "metadata": {},
     "output_type": "execute_result"
    }
   ],
   "source": [
    "df['loser_seed'].value_counts(dropna=False)"
   ]
  },
  {
   "cell_type": "markdown",
   "metadata": {},
   "source": [
    "---------------------"
   ]
  },
  {
   "cell_type": "code",
   "execution_count": 43,
   "metadata": {},
   "outputs": [
    {
     "data": {
      "text/plain": [
       "loser_entry\n",
       "None    25001\n",
       "Name: count, dtype: int64"
      ]
     },
     "execution_count": 43,
     "metadata": {},
     "output_type": "execute_result"
    }
   ],
   "source": [
    "df['loser_entry'].value_counts(dropna=False)"
   ]
  },
  {
   "cell_type": "markdown",
   "metadata": {},
   "source": [
    "---------"
   ]
  },
  {
   "cell_type": "code",
   "execution_count": 44,
   "metadata": {},
   "outputs": [
    {
     "data": {
      "text/plain": [
       "loser_name\n",
       "Torben Ulrich         63\n",
       "Nicola Pietrangeli    57\n",
       "Jackie Brichant       56\n",
       "E Victor Seixas       51\n",
       "Jack Crawford         50\n",
       "                      ..\n",
       "Dd Morgan              1\n",
       "Eh Diepholz            1\n",
       "Malcolm D Maclagan     1\n",
       "W Dermot Muspratt      1\n",
       "Beyazit Anbar          1\n",
       "Name: count, Length: 5877, dtype: int64"
      ]
     },
     "execution_count": 44,
     "metadata": {},
     "output_type": "execute_result"
    }
   ],
   "source": [
    "df['loser_name'].value_counts(dropna=False)"
   ]
  },
  {
   "cell_type": "code",
   "execution_count": 45,
   "metadata": {},
   "outputs": [
    {
     "data": {
      "text/plain": [
       "0"
      ]
     },
     "execution_count": 45,
     "metadata": {},
     "output_type": "execute_result"
    }
   ],
   "source": [
    "df['loser_name'].isna().sum()"
   ]
  },
  {
   "cell_type": "markdown",
   "metadata": {},
   "source": [
    "------------"
   ]
  },
  {
   "cell_type": "code",
   "execution_count": 46,
   "metadata": {},
   "outputs": [
    {
     "data": {
      "text/plain": [
       "loser_hand\n",
       "None    20807\n",
       "R        2849\n",
       "U         916\n",
       "L         429\n",
       "Name: count, dtype: int64"
      ]
     },
     "execution_count": 46,
     "metadata": {},
     "output_type": "execute_result"
    }
   ],
   "source": [
    "df['loser_hand'].value_counts(dropna=False)"
   ]
  },
  {
   "cell_type": "markdown",
   "metadata": {},
   "source": [
    "----------"
   ]
  },
  {
   "cell_type": "code",
   "execution_count": 47,
   "metadata": {},
   "outputs": [
    {
     "data": {
      "text/plain": [
       "loser_ht\n",
       "NaN      23985\n",
       "185.0      218\n",
       "188.0      201\n",
       "183.0      167\n",
       "190.0      111\n",
       "173.0       96\n",
       "175.0       75\n",
       "178.0       70\n",
       "180.0       55\n",
       "193.0       10\n",
       "170.0        7\n",
       "196.0        6\n",
       "Name: count, dtype: int64"
      ]
     },
     "execution_count": 47,
     "metadata": {},
     "output_type": "execute_result"
    }
   ],
   "source": [
    "df['loser_ht'].value_counts(dropna=False)"
   ]
  },
  {
   "cell_type": "code",
   "execution_count": 48,
   "metadata": {},
   "outputs": [],
   "source": [
    "#la colonna loser_ht è formata del 95% di valori nan"
   ]
  },
  {
   "cell_type": "markdown",
   "metadata": {},
   "source": [
    "-----------"
   ]
  },
  {
   "cell_type": "code",
   "execution_count": 49,
   "metadata": {},
   "outputs": [
    {
     "data": {
      "text/plain": [
       "loser_ioc\n",
       "USA    7611\n",
       "GBR    4028\n",
       "AUS    2403\n",
       "FRA    1671\n",
       "RSA     559\n",
       "       ... \n",
       "KEN       2\n",
       "BER       2\n",
       "UAE       2\n",
       "NIG       1\n",
       "DOM       1\n",
       "Name: count, Length: 87, dtype: int64"
      ]
     },
     "execution_count": 49,
     "metadata": {},
     "output_type": "execute_result"
    }
   ],
   "source": [
    "df['loser_ioc'].value_counts(dropna=False)"
   ]
  },
  {
   "cell_type": "code",
   "execution_count": 50,
   "metadata": {},
   "outputs": [
    {
     "data": {
      "text/plain": [
       "0"
      ]
     },
     "execution_count": 50,
     "metadata": {},
     "output_type": "execute_result"
    }
   ],
   "source": [
    "df['loser_ioc'].isna().sum()"
   ]
  },
  {
   "cell_type": "markdown",
   "metadata": {},
   "source": [
    "----------"
   ]
  },
  {
   "cell_type": "code",
   "execution_count": 51,
   "metadata": {},
   "outputs": [
    {
     "data": {
      "text/plain": [
       "loser_age\n",
       "NaN          12538\n",
       "21.659138       10\n",
       "29.412731        9\n",
       "25.823409        9\n",
       "23.660507        9\n",
       "             ...  \n",
       "25.538672        1\n",
       "27.958932        1\n",
       "33.147159        1\n",
       "37.902806        1\n",
       "23.195072        1\n",
       "Name: count, Length: 6271, dtype: int64"
      ]
     },
     "execution_count": 51,
     "metadata": {},
     "output_type": "execute_result"
    }
   ],
   "source": [
    "df['loser_age'].value_counts(dropna=False)"
   ]
  },
  {
   "cell_type": "code",
   "execution_count": 52,
   "metadata": {},
   "outputs": [],
   "source": [
    "# loser_age_prova=df[\"loser_age\"]\n",
    "# loser_age_prova=[round(num) if not np.isnan(num) else np.nan \n",
    "#     for num in loser_age_prova\n",
    "# ]\n",
    "# loser_age_prova"
   ]
  },
  {
   "cell_type": "code",
   "execution_count": 53,
   "metadata": {},
   "outputs": [],
   "source": [
    "# df[\"loser_age\"]=loser_age_prova\n",
    "# df[\"loser_age\"].value_counts(dropna=False)"
   ]
  },
  {
   "cell_type": "code",
   "execution_count": 54,
   "metadata": {},
   "outputs": [],
   "source": [
    "#la colonna loser_age è composta per il 50% di valori NaN"
   ]
  },
  {
   "cell_type": "markdown",
   "metadata": {},
   "source": [
    "----------------"
   ]
  },
  {
   "cell_type": "code",
   "execution_count": 55,
   "metadata": {},
   "outputs": [
    {
     "data": {
      "text/plain": [
       "score\n",
       "W/O                     1369\n",
       "6-2 6-2 6-2              153\n",
       "6-1 6-2 6-2              143\n",
       "6-2 6-2 6-1              142\n",
       "6-1 6-1 6-2              134\n",
       "                        ... \n",
       "3-6 6-0 2-6 6-1 8-6        1\n",
       "7-5 4-6 3-6 6-4 6-4        1\n",
       "8-6 8-10 2-6 7-5 6-1       1\n",
       "2-6 6-4 6-1 5-7 6-1        1\n",
       "12-10 9-7 6-1              1\n",
       "Name: count, Length: 8550, dtype: int64"
      ]
     },
     "execution_count": 55,
     "metadata": {},
     "output_type": "execute_result"
    }
   ],
   "source": [
    "df['score'].value_counts(dropna=False)"
   ]
  },
  {
   "cell_type": "code",
   "execution_count": 56,
   "metadata": {},
   "outputs": [
    {
     "data": {
      "text/plain": [
       "35"
      ]
     },
     "execution_count": 56,
     "metadata": {},
     "output_type": "execute_result"
    }
   ],
   "source": [
    "df['score'].isna().sum()"
   ]
  },
  {
   "cell_type": "code",
   "execution_count": 57,
   "metadata": {},
   "outputs": [],
   "source": [
    "#la colonna score è composto dallo 0,14% di valori nan"
   ]
  },
  {
   "cell_type": "markdown",
   "metadata": {},
   "source": [
    "--------"
   ]
  },
  {
   "cell_type": "code",
   "execution_count": 58,
   "metadata": {},
   "outputs": [
    {
     "data": {
      "text/plain": [
       "best_of\n",
       "5    24992\n",
       "3        9\n",
       "Name: count, dtype: int64"
      ]
     },
     "execution_count": 58,
     "metadata": {},
     "output_type": "execute_result"
    }
   ],
   "source": [
    "df['best_of'].value_counts(dropna=False)"
   ]
  },
  {
   "cell_type": "code",
   "execution_count": 59,
   "metadata": {},
   "outputs": [],
   "source": [
    "#posso già notare tramite il .value_counts() che nella colonna best_of non sono presenti valori NaN ma c'è un notevole sbilanciamento tra i due valori"
   ]
  },
  {
   "cell_type": "markdown",
   "metadata": {},
   "source": [
    "-------"
   ]
  },
  {
   "cell_type": "code",
   "execution_count": 60,
   "metadata": {},
   "outputs": [
    {
     "data": {
      "text/plain": [
       "round\n",
       "R128    6571\n",
       "R64     5646\n",
       "RR      4800\n",
       "R32     3809\n",
       "R16     2029\n",
       "QF      1028\n",
       "SF       514\n",
       "PR       278\n",
       "F        259\n",
       "CR        67\n",
       "Name: count, dtype: int64"
      ]
     },
     "execution_count": 60,
     "metadata": {},
     "output_type": "execute_result"
    }
   ],
   "source": [
    "df['round'].value_counts(dropna=False)"
   ]
  },
  {
   "cell_type": "markdown",
   "metadata": {},
   "source": [
    "----------"
   ]
  },
  {
   "cell_type": "code",
   "execution_count": 61,
   "metadata": {},
   "outputs": [
    {
     "data": {
      "text/plain": [
       "minutes\n",
       "None    25001\n",
       "Name: count, dtype: int64"
      ]
     },
     "execution_count": 61,
     "metadata": {},
     "output_type": "execute_result"
    }
   ],
   "source": [
    "df['minutes'].value_counts(dropna=False)"
   ]
  },
  {
   "cell_type": "markdown",
   "metadata": {},
   "source": [
    "--------"
   ]
  },
  {
   "cell_type": "code",
   "execution_count": 62,
   "metadata": {},
   "outputs": [
    {
     "data": {
      "text/plain": [
       "w_ace\n",
       "None    25001\n",
       "Name: count, dtype: int64"
      ]
     },
     "execution_count": 62,
     "metadata": {},
     "output_type": "execute_result"
    }
   ],
   "source": [
    "df['w_ace'].value_counts(dropna=False)"
   ]
  },
  {
   "cell_type": "markdown",
   "metadata": {},
   "source": [
    "-----------"
   ]
  },
  {
   "cell_type": "code",
   "execution_count": 63,
   "metadata": {},
   "outputs": [
    {
     "data": {
      "text/plain": [
       "w_df\n",
       "None    25001\n",
       "Name: count, dtype: int64"
      ]
     },
     "execution_count": 63,
     "metadata": {},
     "output_type": "execute_result"
    }
   ],
   "source": [
    "df['w_df'].value_counts(dropna=False)"
   ]
  },
  {
   "cell_type": "markdown",
   "metadata": {},
   "source": [
    "-------------"
   ]
  },
  {
   "cell_type": "code",
   "execution_count": 64,
   "metadata": {},
   "outputs": [
    {
     "data": {
      "text/plain": [
       "w_svpt\n",
       "None    25001\n",
       "Name: count, dtype: int64"
      ]
     },
     "execution_count": 64,
     "metadata": {},
     "output_type": "execute_result"
    }
   ],
   "source": [
    "df['w_svpt'].value_counts(dropna=False)"
   ]
  },
  {
   "cell_type": "markdown",
   "metadata": {},
   "source": [
    "-------"
   ]
  },
  {
   "cell_type": "code",
   "execution_count": 65,
   "metadata": {},
   "outputs": [
    {
     "data": {
      "text/plain": [
       "w_1stIn\n",
       "None    25001\n",
       "Name: count, dtype: int64"
      ]
     },
     "execution_count": 65,
     "metadata": {},
     "output_type": "execute_result"
    }
   ],
   "source": [
    "df['w_1stIn'].value_counts(dropna=False)"
   ]
  },
  {
   "cell_type": "markdown",
   "metadata": {},
   "source": [
    "--------"
   ]
  },
  {
   "cell_type": "code",
   "execution_count": 66,
   "metadata": {},
   "outputs": [
    {
     "data": {
      "text/plain": [
       "w_1stWon\n",
       "None    25001\n",
       "Name: count, dtype: int64"
      ]
     },
     "execution_count": 66,
     "metadata": {},
     "output_type": "execute_result"
    }
   ],
   "source": [
    "df['w_1stWon'].value_counts(dropna=False)"
   ]
  },
  {
   "cell_type": "markdown",
   "metadata": {},
   "source": [
    "-----------"
   ]
  },
  {
   "cell_type": "code",
   "execution_count": 67,
   "metadata": {},
   "outputs": [
    {
     "data": {
      "text/plain": [
       "w_2ndWon\n",
       "None    25001\n",
       "Name: count, dtype: int64"
      ]
     },
     "execution_count": 67,
     "metadata": {},
     "output_type": "execute_result"
    }
   ],
   "source": [
    "df['w_2ndWon'].value_counts(dropna=False)"
   ]
  },
  {
   "cell_type": "markdown",
   "metadata": {},
   "source": [
    "------"
   ]
  },
  {
   "cell_type": "code",
   "execution_count": 68,
   "metadata": {},
   "outputs": [
    {
     "data": {
      "text/plain": [
       "w_SvGms\n",
       "None    25001\n",
       "Name: count, dtype: int64"
      ]
     },
     "execution_count": 68,
     "metadata": {},
     "output_type": "execute_result"
    }
   ],
   "source": [
    "df['w_SvGms'].value_counts(dropna=False)"
   ]
  },
  {
   "cell_type": "markdown",
   "metadata": {},
   "source": [
    "------"
   ]
  },
  {
   "cell_type": "code",
   "execution_count": 69,
   "metadata": {},
   "outputs": [
    {
     "data": {
      "text/plain": [
       "w_bpSaved\n",
       "None    25001\n",
       "Name: count, dtype: int64"
      ]
     },
     "execution_count": 69,
     "metadata": {},
     "output_type": "execute_result"
    }
   ],
   "source": [
    "df['w_bpSaved'].value_counts(dropna=False)"
   ]
  },
  {
   "cell_type": "markdown",
   "metadata": {},
   "source": [
    "------"
   ]
  },
  {
   "cell_type": "code",
   "execution_count": 70,
   "metadata": {},
   "outputs": [
    {
     "data": {
      "text/plain": [
       "w_bpFaced\n",
       "None    25001\n",
       "Name: count, dtype: int64"
      ]
     },
     "execution_count": 70,
     "metadata": {},
     "output_type": "execute_result"
    }
   ],
   "source": [
    "df['w_bpFaced'].value_counts(dropna=False)"
   ]
  },
  {
   "cell_type": "markdown",
   "metadata": {},
   "source": [
    "-----------"
   ]
  },
  {
   "cell_type": "code",
   "execution_count": 71,
   "metadata": {},
   "outputs": [
    {
     "data": {
      "text/plain": [
       "l_ace\n",
       "None    25001\n",
       "Name: count, dtype: int64"
      ]
     },
     "execution_count": 71,
     "metadata": {},
     "output_type": "execute_result"
    }
   ],
   "source": [
    "df['l_ace'].value_counts(dropna=False)"
   ]
  },
  {
   "cell_type": "markdown",
   "metadata": {},
   "source": [
    "-----------"
   ]
  },
  {
   "cell_type": "code",
   "execution_count": 72,
   "metadata": {},
   "outputs": [
    {
     "data": {
      "text/plain": [
       "l_df\n",
       "None    25001\n",
       "Name: count, dtype: int64"
      ]
     },
     "execution_count": 72,
     "metadata": {},
     "output_type": "execute_result"
    }
   ],
   "source": [
    "df['l_df'].value_counts(dropna=False)"
   ]
  },
  {
   "cell_type": "markdown",
   "metadata": {},
   "source": [
    "-----------"
   ]
  },
  {
   "cell_type": "code",
   "execution_count": 73,
   "metadata": {},
   "outputs": [
    {
     "data": {
      "text/plain": [
       "l_svpt\n",
       "None    25001\n",
       "Name: count, dtype: int64"
      ]
     },
     "execution_count": 73,
     "metadata": {},
     "output_type": "execute_result"
    }
   ],
   "source": [
    "df['l_svpt'].value_counts(dropna=False)"
   ]
  },
  {
   "cell_type": "markdown",
   "metadata": {},
   "source": [
    "--------"
   ]
  },
  {
   "cell_type": "code",
   "execution_count": 74,
   "metadata": {},
   "outputs": [
    {
     "data": {
      "text/plain": [
       "l_1stIn\n",
       "None    25001\n",
       "Name: count, dtype: int64"
      ]
     },
     "execution_count": 74,
     "metadata": {},
     "output_type": "execute_result"
    }
   ],
   "source": [
    "df['l_1stIn'].value_counts(dropna=False)"
   ]
  },
  {
   "cell_type": "markdown",
   "metadata": {},
   "source": [
    "---------"
   ]
  },
  {
   "cell_type": "code",
   "execution_count": 75,
   "metadata": {},
   "outputs": [
    {
     "data": {
      "text/plain": [
       "l_1stWon\n",
       "None    25001\n",
       "Name: count, dtype: int64"
      ]
     },
     "execution_count": 75,
     "metadata": {},
     "output_type": "execute_result"
    }
   ],
   "source": [
    "df['l_1stWon'].value_counts(dropna=False)"
   ]
  },
  {
   "cell_type": "markdown",
   "metadata": {},
   "source": [
    "-------"
   ]
  },
  {
   "cell_type": "code",
   "execution_count": 76,
   "metadata": {},
   "outputs": [
    {
     "data": {
      "text/plain": [
       "l_2ndWon\n",
       "None    25001\n",
       "Name: count, dtype: int64"
      ]
     },
     "execution_count": 76,
     "metadata": {},
     "output_type": "execute_result"
    }
   ],
   "source": [
    "df['l_2ndWon'].value_counts(dropna=False)"
   ]
  },
  {
   "cell_type": "markdown",
   "metadata": {},
   "source": [
    "------"
   ]
  },
  {
   "cell_type": "code",
   "execution_count": 77,
   "metadata": {},
   "outputs": [
    {
     "data": {
      "text/plain": [
       "l_SvGms\n",
       "None    25001\n",
       "Name: count, dtype: int64"
      ]
     },
     "execution_count": 77,
     "metadata": {},
     "output_type": "execute_result"
    }
   ],
   "source": [
    "df['l_SvGms'].value_counts(dropna=False)"
   ]
  },
  {
   "cell_type": "markdown",
   "metadata": {},
   "source": [
    "-----------"
   ]
  },
  {
   "cell_type": "code",
   "execution_count": 78,
   "metadata": {},
   "outputs": [
    {
     "data": {
      "text/plain": [
       "l_bpSaved\n",
       "None    25001\n",
       "Name: count, dtype: int64"
      ]
     },
     "execution_count": 78,
     "metadata": {},
     "output_type": "execute_result"
    }
   ],
   "source": [
    "df['l_bpSaved'].value_counts(dropna=False)"
   ]
  },
  {
   "cell_type": "markdown",
   "metadata": {},
   "source": [
    "-----------"
   ]
  },
  {
   "cell_type": "code",
   "execution_count": 79,
   "metadata": {},
   "outputs": [
    {
     "data": {
      "text/plain": [
       "l_bpFaced\n",
       "None    25001\n",
       "Name: count, dtype: int64"
      ]
     },
     "execution_count": 79,
     "metadata": {},
     "output_type": "execute_result"
    }
   ],
   "source": [
    "df['l_bpFaced'].value_counts(dropna=False)"
   ]
  },
  {
   "cell_type": "markdown",
   "metadata": {},
   "source": [
    "-------"
   ]
  },
  {
   "cell_type": "code",
   "execution_count": 80,
   "metadata": {},
   "outputs": [
    {
     "data": {
      "text/plain": [
       "l_bpFaced\n",
       "None    25001\n",
       "Name: count, dtype: int64"
      ]
     },
     "execution_count": 80,
     "metadata": {},
     "output_type": "execute_result"
    }
   ],
   "source": [
    "df['l_bpFaced'].value_counts(dropna=False)"
   ]
  },
  {
   "cell_type": "markdown",
   "metadata": {},
   "source": [
    "-------"
   ]
  },
  {
   "cell_type": "code",
   "execution_count": 81,
   "metadata": {},
   "outputs": [
    {
     "data": {
      "text/plain": [
       "winner_rank\n",
       "None    25001\n",
       "Name: count, dtype: int64"
      ]
     },
     "execution_count": 81,
     "metadata": {},
     "output_type": "execute_result"
    }
   ],
   "source": [
    "df[ 'winner_rank'].value_counts(dropna=False)"
   ]
  },
  {
   "cell_type": "markdown",
   "metadata": {},
   "source": [
    "----------"
   ]
  },
  {
   "cell_type": "code",
   "execution_count": 82,
   "metadata": {},
   "outputs": [
    {
     "data": {
      "text/plain": [
       "winner_rank_points\n",
       "None    25001\n",
       "Name: count, dtype: int64"
      ]
     },
     "execution_count": 82,
     "metadata": {},
     "output_type": "execute_result"
    }
   ],
   "source": [
    "df['winner_rank_points'].value_counts(dropna=False)"
   ]
  },
  {
   "cell_type": "markdown",
   "metadata": {},
   "source": [
    "----------"
   ]
  },
  {
   "cell_type": "code",
   "execution_count": 83,
   "metadata": {},
   "outputs": [
    {
     "data": {
      "text/plain": [
       "loser_rank\n",
       "None    25001\n",
       "Name: count, dtype: int64"
      ]
     },
     "execution_count": 83,
     "metadata": {},
     "output_type": "execute_result"
    }
   ],
   "source": [
    "df['loser_rank'].value_counts(dropna=False)"
   ]
  },
  {
   "cell_type": "markdown",
   "metadata": {},
   "source": [
    "--------"
   ]
  },
  {
   "cell_type": "code",
   "execution_count": 84,
   "metadata": {},
   "outputs": [
    {
     "data": {
      "text/plain": [
       "loser_rank_points\n",
       "None    25001\n",
       "Name: count, dtype: int64"
      ]
     },
     "execution_count": 84,
     "metadata": {},
     "output_type": "execute_result"
    }
   ],
   "source": [
    "df['loser_rank_points'].value_counts(dropna=False)"
   ]
  },
  {
   "cell_type": "markdown",
   "metadata": {},
   "source": [
    "## CONTROLLO NAN TABELLA atp_rankings.parquet"
   ]
  },
  {
   "cell_type": "code",
   "execution_count": 85,
   "metadata": {},
   "outputs": [
    {
     "data": {
      "text/html": [
       "<div>\n",
       "<style scoped>\n",
       "    .dataframe tbody tr th:only-of-type {\n",
       "        vertical-align: middle;\n",
       "    }\n",
       "\n",
       "    .dataframe tbody tr th {\n",
       "        vertical-align: top;\n",
       "    }\n",
       "\n",
       "    .dataframe thead th {\n",
       "        text-align: right;\n",
       "    }\n",
       "</style>\n",
       "<table border=\"1\" class=\"dataframe\">\n",
       "  <thead>\n",
       "    <tr style=\"text-align: right;\">\n",
       "      <th></th>\n",
       "      <th>ranking_date</th>\n",
       "      <th>rank</th>\n",
       "      <th>player</th>\n",
       "      <th>points</th>\n",
       "    </tr>\n",
       "  </thead>\n",
       "  <tbody>\n",
       "    <tr>\n",
       "      <th>0</th>\n",
       "      <td>1973-08-27</td>\n",
       "      <td>129</td>\n",
       "      <td>100005</td>\n",
       "      <td>NaN</td>\n",
       "    </tr>\n",
       "    <tr>\n",
       "      <th>1</th>\n",
       "      <td>1973-08-27</td>\n",
       "      <td>114</td>\n",
       "      <td>100011</td>\n",
       "      <td>NaN</td>\n",
       "    </tr>\n",
       "    <tr>\n",
       "      <th>2</th>\n",
       "      <td>1973-08-27</td>\n",
       "      <td>6</td>\n",
       "      <td>100016</td>\n",
       "      <td>NaN</td>\n",
       "    </tr>\n",
       "    <tr>\n",
       "      <th>3</th>\n",
       "      <td>1973-08-27</td>\n",
       "      <td>19</td>\n",
       "      <td>100022</td>\n",
       "      <td>NaN</td>\n",
       "    </tr>\n",
       "    <tr>\n",
       "      <th>4</th>\n",
       "      <td>1973-08-27</td>\n",
       "      <td>82</td>\n",
       "      <td>100025</td>\n",
       "      <td>NaN</td>\n",
       "    </tr>\n",
       "    <tr>\n",
       "      <th>...</th>\n",
       "      <td>...</td>\n",
       "      <td>...</td>\n",
       "      <td>...</td>\n",
       "      <td>...</td>\n",
       "    </tr>\n",
       "    <tr>\n",
       "      <th>3235634</th>\n",
       "      <td>2024-05-27</td>\n",
       "      <td>2070</td>\n",
       "      <td>211388</td>\n",
       "      <td>1.0</td>\n",
       "    </tr>\n",
       "    <tr>\n",
       "      <th>3235635</th>\n",
       "      <td>2024-05-27</td>\n",
       "      <td>2071</td>\n",
       "      <td>210649</td>\n",
       "      <td>1.0</td>\n",
       "    </tr>\n",
       "    <tr>\n",
       "      <th>3235636</th>\n",
       "      <td>2024-05-27</td>\n",
       "      <td>2071</td>\n",
       "      <td>208890</td>\n",
       "      <td>1.0</td>\n",
       "    </tr>\n",
       "    <tr>\n",
       "      <th>3235637</th>\n",
       "      <td>2024-05-27</td>\n",
       "      <td>2073</td>\n",
       "      <td>202079</td>\n",
       "      <td>1.0</td>\n",
       "    </tr>\n",
       "    <tr>\n",
       "      <th>3235638</th>\n",
       "      <td>2024-05-27</td>\n",
       "      <td>2073</td>\n",
       "      <td>207982</td>\n",
       "      <td>1.0</td>\n",
       "    </tr>\n",
       "  </tbody>\n",
       "</table>\n",
       "<p>3235639 rows × 4 columns</p>\n",
       "</div>"
      ],
      "text/plain": [
       "        ranking_date  rank  player  points\n",
       "0         1973-08-27   129  100005     NaN\n",
       "1         1973-08-27   114  100011     NaN\n",
       "2         1973-08-27     6  100016     NaN\n",
       "3         1973-08-27    19  100022     NaN\n",
       "4         1973-08-27    82  100025     NaN\n",
       "...              ...   ...     ...     ...\n",
       "3235634   2024-05-27  2070  211388     1.0\n",
       "3235635   2024-05-27  2071  210649     1.0\n",
       "3235636   2024-05-27  2071  208890     1.0\n",
       "3235637   2024-05-27  2073  202079     1.0\n",
       "3235638   2024-05-27  2073  207982     1.0\n",
       "\n",
       "[3235639 rows x 4 columns]"
      ]
     },
     "execution_count": 85,
     "metadata": {},
     "output_type": "execute_result"
    }
   ],
   "source": [
    "path2=\"atp_rankings.parquet\"\n",
    "df2=pd.read_parquet(path2)\n",
    "df2"
   ]
  },
  {
   "cell_type": "code",
   "execution_count": 86,
   "metadata": {},
   "outputs": [
    {
     "data": {
      "text/plain": [
       "ranking_date\n",
       "2015-06-29    2271\n",
       "2016-03-21    2262\n",
       "2016-03-07    2261\n",
       "2016-02-22    2261\n",
       "2015-08-31    2259\n",
       "              ... \n",
       "1975-06-30      96\n",
       "1977-10-03      96\n",
       "1980-01-07      92\n",
       "1979-04-16      78\n",
       "1982-11-29      50\n",
       "Name: count, Length: 2247, dtype: int64"
      ]
     },
     "execution_count": 86,
     "metadata": {},
     "output_type": "execute_result"
    }
   ],
   "source": [
    "df2['ranking_date'].value_counts(dropna=False)"
   ]
  },
  {
   "cell_type": "code",
   "execution_count": 87,
   "metadata": {},
   "outputs": [
    {
     "data": {
      "text/plain": [
       "0"
      ]
     },
     "execution_count": 87,
     "metadata": {},
     "output_type": "execute_result"
    }
   ],
   "source": [
    "df2['ranking_date'].isna().sum()"
   ]
  },
  {
   "cell_type": "markdown",
   "metadata": {},
   "source": [
    "--------"
   ]
  },
  {
   "cell_type": "code",
   "execution_count": 88,
   "metadata": {},
   "outputs": [
    {
     "data": {
      "text/plain": [
       "rank\n",
       "1331    5037\n",
       "1304    4167\n",
       "1332    3959\n",
       "1298    3936\n",
       "1306    3263\n",
       "        ... \n",
       "2261       2\n",
       "2260       2\n",
       "2267       2\n",
       "2262       1\n",
       "2271       1\n",
       "Name: count, Length: 2266, dtype: int64"
      ]
     },
     "execution_count": 88,
     "metadata": {},
     "output_type": "execute_result"
    }
   ],
   "source": [
    "df2['rank'].value_counts(dropna=False)"
   ]
  },
  {
   "cell_type": "code",
   "execution_count": 89,
   "metadata": {},
   "outputs": [
    {
     "data": {
      "text/plain": [
       "0"
      ]
     },
     "execution_count": 89,
     "metadata": {},
     "output_type": "execute_result"
    }
   ],
   "source": [
    "df2['rank'].isna().sum()"
   ]
  },
  {
   "cell_type": "markdown",
   "metadata": {},
   "source": [
    "-----------"
   ]
  },
  {
   "cell_type": "code",
   "execution_count": 90,
   "metadata": {},
   "outputs": [
    {
     "data": {
      "text/plain": [
       "player\n",
       "103852    1331\n",
       "102863    1265\n",
       "103333    1231\n",
       "103009    1217\n",
       "103819    1203\n",
       "          ... \n",
       "108146       1\n",
       "108153       1\n",
       "108168       1\n",
       "108187       1\n",
       "212710       1\n",
       "Name: count, Length: 16174, dtype: int64"
      ]
     },
     "execution_count": 90,
     "metadata": {},
     "output_type": "execute_result"
    }
   ],
   "source": [
    "df2['player'].value_counts(dropna=False)"
   ]
  },
  {
   "cell_type": "code",
   "execution_count": 91,
   "metadata": {},
   "outputs": [
    {
     "data": {
      "text/plain": [
       "0"
      ]
     },
     "execution_count": 91,
     "metadata": {},
     "output_type": "execute_result"
    }
   ],
   "source": [
    "df2['player'].isna().sum()"
   ]
  },
  {
   "cell_type": "markdown",
   "metadata": {},
   "source": [
    "---------"
   ]
  },
  {
   "cell_type": "code",
   "execution_count": 92,
   "metadata": {},
   "outputs": [
    {
     "data": {
      "text/plain": [
       "points\n",
       "1.0        509799\n",
       "NaN        376080\n",
       "2.0        233663\n",
       "3.0        156409\n",
       "4.0        122450\n",
       "            ...  \n",
       "6025.0          1\n",
       "14265.0         1\n",
       "8065.0          1\n",
       "5575.0          1\n",
       "9960.0          1\n",
       "Name: count, Length: 4532, dtype: int64"
      ]
     },
     "execution_count": 92,
     "metadata": {},
     "output_type": "execute_result"
    }
   ],
   "source": [
    "df2['points'].value_counts(dropna=False)"
   ]
  },
  {
   "cell_type": "code",
   "execution_count": 93,
   "metadata": {},
   "outputs": [
    {
     "data": {
      "text/plain": [
       "376080"
      ]
     },
     "execution_count": 93,
     "metadata": {},
     "output_type": "execute_result"
    }
   ],
   "source": [
    "df2['points'].isna().sum()"
   ]
  },
  {
   "cell_type": "code",
   "execution_count": 94,
   "metadata": {},
   "outputs": [],
   "source": [
    "#La colonna pointsè formata dal 11% di valori NaN"
   ]
  },
  {
   "cell_type": "markdown",
   "metadata": {},
   "source": [
    "## CONTROLLO NAN TABELLA doubles_matches.parquet"
   ]
  },
  {
   "cell_type": "code",
   "execution_count": 95,
   "metadata": {},
   "outputs": [],
   "source": [
    "path3=\"doubles_matches.parquet\""
   ]
  },
  {
   "cell_type": "code",
   "execution_count": 96,
   "metadata": {},
   "outputs": [
    {
     "data": {
      "text/html": [
       "<div>\n",
       "<style scoped>\n",
       "    .dataframe tbody tr th:only-of-type {\n",
       "        vertical-align: middle;\n",
       "    }\n",
       "\n",
       "    .dataframe tbody tr th {\n",
       "        vertical-align: top;\n",
       "    }\n",
       "\n",
       "    .dataframe thead th {\n",
       "        text-align: right;\n",
       "    }\n",
       "</style>\n",
       "<table border=\"1\" class=\"dataframe\">\n",
       "  <thead>\n",
       "    <tr style=\"text-align: right;\">\n",
       "      <th></th>\n",
       "      <th>tourney_id</th>\n",
       "      <th>tourney_name</th>\n",
       "      <th>surface</th>\n",
       "      <th>draw_size</th>\n",
       "      <th>tourney_level</th>\n",
       "      <th>tourney_date</th>\n",
       "      <th>match_num</th>\n",
       "      <th>winner1_id</th>\n",
       "      <th>winner2_id</th>\n",
       "      <th>winner_seed</th>\n",
       "      <th>...</th>\n",
       "      <th>w_bpFaced</th>\n",
       "      <th>l_ace</th>\n",
       "      <th>l_df</th>\n",
       "      <th>l_svpt</th>\n",
       "      <th>l_1stIn</th>\n",
       "      <th>l_1stWon</th>\n",
       "      <th>l_2ndWon</th>\n",
       "      <th>l_SvGms</th>\n",
       "      <th>l_bpSaved</th>\n",
       "      <th>l_bpFaced</th>\n",
       "    </tr>\n",
       "  </thead>\n",
       "  <tbody>\n",
       "    <tr>\n",
       "      <th>0</th>\n",
       "      <td>2000-301</td>\n",
       "      <td>Auckland</td>\n",
       "      <td>Hard</td>\n",
       "      <td>32.0</td>\n",
       "      <td>A</td>\n",
       "      <td>2000-01-10</td>\n",
       "      <td>300</td>\n",
       "      <td>101704</td>\n",
       "      <td>101097</td>\n",
       "      <td>1</td>\n",
       "      <td>...</td>\n",
       "      <td>None</td>\n",
       "      <td>None</td>\n",
       "      <td>None</td>\n",
       "      <td>None</td>\n",
       "      <td>None</td>\n",
       "      <td>None</td>\n",
       "      <td>None</td>\n",
       "      <td>None</td>\n",
       "      <td>None</td>\n",
       "      <td>None</td>\n",
       "    </tr>\n",
       "    <tr>\n",
       "      <th>1</th>\n",
       "      <td>2000-301</td>\n",
       "      <td>Auckland</td>\n",
       "      <td>Hard</td>\n",
       "      <td>32.0</td>\n",
       "      <td>A</td>\n",
       "      <td>2000-01-10</td>\n",
       "      <td>299</td>\n",
       "      <td>101704</td>\n",
       "      <td>101097</td>\n",
       "      <td>1</td>\n",
       "      <td>...</td>\n",
       "      <td>None</td>\n",
       "      <td>None</td>\n",
       "      <td>None</td>\n",
       "      <td>None</td>\n",
       "      <td>None</td>\n",
       "      <td>None</td>\n",
       "      <td>None</td>\n",
       "      <td>None</td>\n",
       "      <td>None</td>\n",
       "      <td>None</td>\n",
       "    </tr>\n",
       "    <tr>\n",
       "      <th>2</th>\n",
       "      <td>2000-301</td>\n",
       "      <td>Auckland</td>\n",
       "      <td>Hard</td>\n",
       "      <td>32.0</td>\n",
       "      <td>A</td>\n",
       "      <td>2000-01-10</td>\n",
       "      <td>298</td>\n",
       "      <td>101358</td>\n",
       "      <td>101543</td>\n",
       "      <td>2</td>\n",
       "      <td>...</td>\n",
       "      <td>None</td>\n",
       "      <td>None</td>\n",
       "      <td>None</td>\n",
       "      <td>None</td>\n",
       "      <td>None</td>\n",
       "      <td>None</td>\n",
       "      <td>None</td>\n",
       "      <td>None</td>\n",
       "      <td>None</td>\n",
       "      <td>None</td>\n",
       "    </tr>\n",
       "    <tr>\n",
       "      <th>3</th>\n",
       "      <td>2000-301</td>\n",
       "      <td>Auckland</td>\n",
       "      <td>Hard</td>\n",
       "      <td>32.0</td>\n",
       "      <td>A</td>\n",
       "      <td>2000-01-10</td>\n",
       "      <td>297</td>\n",
       "      <td>101704</td>\n",
       "      <td>101097</td>\n",
       "      <td>1</td>\n",
       "      <td>...</td>\n",
       "      <td>None</td>\n",
       "      <td>None</td>\n",
       "      <td>None</td>\n",
       "      <td>None</td>\n",
       "      <td>None</td>\n",
       "      <td>None</td>\n",
       "      <td>None</td>\n",
       "      <td>None</td>\n",
       "      <td>None</td>\n",
       "      <td>None</td>\n",
       "    </tr>\n",
       "    <tr>\n",
       "      <th>4</th>\n",
       "      <td>2000-301</td>\n",
       "      <td>Auckland</td>\n",
       "      <td>Hard</td>\n",
       "      <td>32.0</td>\n",
       "      <td>A</td>\n",
       "      <td>2000-01-10</td>\n",
       "      <td>296</td>\n",
       "      <td>101358</td>\n",
       "      <td>101543</td>\n",
       "      <td>2</td>\n",
       "      <td>...</td>\n",
       "      <td>None</td>\n",
       "      <td>None</td>\n",
       "      <td>None</td>\n",
       "      <td>None</td>\n",
       "      <td>None</td>\n",
       "      <td>None</td>\n",
       "      <td>None</td>\n",
       "      <td>None</td>\n",
       "      <td>None</td>\n",
       "      <td>None</td>\n",
       "    </tr>\n",
       "    <tr>\n",
       "      <th>...</th>\n",
       "      <td>...</td>\n",
       "      <td>...</td>\n",
       "      <td>...</td>\n",
       "      <td>...</td>\n",
       "      <td>...</td>\n",
       "      <td>...</td>\n",
       "      <td>...</td>\n",
       "      <td>...</td>\n",
       "      <td>...</td>\n",
       "      <td>...</td>\n",
       "      <td>...</td>\n",
       "      <td>...</td>\n",
       "      <td>...</td>\n",
       "      <td>...</td>\n",
       "      <td>...</td>\n",
       "      <td>...</td>\n",
       "      <td>...</td>\n",
       "      <td>...</td>\n",
       "      <td>...</td>\n",
       "      <td>...</td>\n",
       "      <td>...</td>\n",
       "    </tr>\n",
       "    <tr>\n",
       "      <th>26394</th>\n",
       "      <td>2020-M-DC-2020-WG2-PO-MAR-VIE-01</td>\n",
       "      <td>Davis Cup WG2 PO: MAR vs VIE</td>\n",
       "      <td>Clay</td>\n",
       "      <td>4.0</td>\n",
       "      <td>D</td>\n",
       "      <td>2020-03-06</td>\n",
       "      <td>3</td>\n",
       "      <td>104917</td>\n",
       "      <td>104467</td>\n",
       "      <td>None</td>\n",
       "      <td>...</td>\n",
       "      <td>None</td>\n",
       "      <td>None</td>\n",
       "      <td>None</td>\n",
       "      <td>None</td>\n",
       "      <td>None</td>\n",
       "      <td>None</td>\n",
       "      <td>None</td>\n",
       "      <td>None</td>\n",
       "      <td>None</td>\n",
       "      <td>None</td>\n",
       "    </tr>\n",
       "    <tr>\n",
       "      <th>26395</th>\n",
       "      <td>2020-M-DC-2020-WG2-PO-PAR-SRI-01</td>\n",
       "      <td>Davis Cup WG2 PO: PAR vs SRI</td>\n",
       "      <td>Clay</td>\n",
       "      <td>4.0</td>\n",
       "      <td>D</td>\n",
       "      <td>2020-03-06</td>\n",
       "      <td>3</td>\n",
       "      <td>134677</td>\n",
       "      <td>137018</td>\n",
       "      <td>None</td>\n",
       "      <td>...</td>\n",
       "      <td>None</td>\n",
       "      <td>None</td>\n",
       "      <td>None</td>\n",
       "      <td>None</td>\n",
       "      <td>None</td>\n",
       "      <td>None</td>\n",
       "      <td>None</td>\n",
       "      <td>None</td>\n",
       "      <td>None</td>\n",
       "      <td>None</td>\n",
       "    </tr>\n",
       "    <tr>\n",
       "      <th>26396</th>\n",
       "      <td>2020-M-DC-2020-WG2-PO-PHI-GRE-01</td>\n",
       "      <td>Davis Cup WG2 PO: PHI vs GRE</td>\n",
       "      <td>Clay</td>\n",
       "      <td>4.0</td>\n",
       "      <td>D</td>\n",
       "      <td>2020-03-06</td>\n",
       "      <td>3</td>\n",
       "      <td>108717</td>\n",
       "      <td>104604</td>\n",
       "      <td>None</td>\n",
       "      <td>...</td>\n",
       "      <td>None</td>\n",
       "      <td>None</td>\n",
       "      <td>None</td>\n",
       "      <td>None</td>\n",
       "      <td>None</td>\n",
       "      <td>None</td>\n",
       "      <td>None</td>\n",
       "      <td>None</td>\n",
       "      <td>None</td>\n",
       "      <td>None</td>\n",
       "    </tr>\n",
       "    <tr>\n",
       "      <th>26397</th>\n",
       "      <td>2020-M-DC-2020-WG2-PO-POL-HKG-01</td>\n",
       "      <td>Davis Cup WG2 PO: POL vs HKG</td>\n",
       "      <td>Hard</td>\n",
       "      <td>4.0</td>\n",
       "      <td>D</td>\n",
       "      <td>2020-03-06</td>\n",
       "      <td>3</td>\n",
       "      <td>126166</td>\n",
       "      <td>126591</td>\n",
       "      <td>None</td>\n",
       "      <td>...</td>\n",
       "      <td>None</td>\n",
       "      <td>None</td>\n",
       "      <td>None</td>\n",
       "      <td>None</td>\n",
       "      <td>None</td>\n",
       "      <td>None</td>\n",
       "      <td>None</td>\n",
       "      <td>None</td>\n",
       "      <td>None</td>\n",
       "      <td>None</td>\n",
       "    </tr>\n",
       "    <tr>\n",
       "      <th>26398</th>\n",
       "      <td>2020-M-DC-2020-WG2-PO-SYR-ZIM-01</td>\n",
       "      <td>Davis Cup WG2 PO: SYR vs ZIM</td>\n",
       "      <td>Hard</td>\n",
       "      <td>4.0</td>\n",
       "      <td>D</td>\n",
       "      <td>2020-03-06</td>\n",
       "      <td>3</td>\n",
       "      <td>111761</td>\n",
       "      <td>144747</td>\n",
       "      <td>None</td>\n",
       "      <td>...</td>\n",
       "      <td>None</td>\n",
       "      <td>None</td>\n",
       "      <td>None</td>\n",
       "      <td>None</td>\n",
       "      <td>None</td>\n",
       "      <td>None</td>\n",
       "      <td>None</td>\n",
       "      <td>None</td>\n",
       "      <td>None</td>\n",
       "      <td>None</td>\n",
       "    </tr>\n",
       "  </tbody>\n",
       "</table>\n",
       "<p>26399 rows × 65 columns</p>\n",
       "</div>"
      ],
      "text/plain": [
       "                             tourney_id                  tourney_name surface  \\\n",
       "0                              2000-301                      Auckland    Hard   \n",
       "1                              2000-301                      Auckland    Hard   \n",
       "2                              2000-301                      Auckland    Hard   \n",
       "3                              2000-301                      Auckland    Hard   \n",
       "4                              2000-301                      Auckland    Hard   \n",
       "...                                 ...                           ...     ...   \n",
       "26394  2020-M-DC-2020-WG2-PO-MAR-VIE-01  Davis Cup WG2 PO: MAR vs VIE    Clay   \n",
       "26395  2020-M-DC-2020-WG2-PO-PAR-SRI-01  Davis Cup WG2 PO: PAR vs SRI    Clay   \n",
       "26396  2020-M-DC-2020-WG2-PO-PHI-GRE-01  Davis Cup WG2 PO: PHI vs GRE    Clay   \n",
       "26397  2020-M-DC-2020-WG2-PO-POL-HKG-01  Davis Cup WG2 PO: POL vs HKG    Hard   \n",
       "26398  2020-M-DC-2020-WG2-PO-SYR-ZIM-01  Davis Cup WG2 PO: SYR vs ZIM    Hard   \n",
       "\n",
       "       draw_size tourney_level tourney_date  match_num winner1_id winner2_id  \\\n",
       "0           32.0             A   2000-01-10        300     101704     101097   \n",
       "1           32.0             A   2000-01-10        299     101704     101097   \n",
       "2           32.0             A   2000-01-10        298     101358     101543   \n",
       "3           32.0             A   2000-01-10        297     101704     101097   \n",
       "4           32.0             A   2000-01-10        296     101358     101543   \n",
       "...          ...           ...          ...        ...        ...        ...   \n",
       "26394        4.0             D   2020-03-06          3     104917     104467   \n",
       "26395        4.0             D   2020-03-06          3     134677     137018   \n",
       "26396        4.0             D   2020-03-06          3     108717     104604   \n",
       "26397        4.0             D   2020-03-06          3     126166     126591   \n",
       "26398        4.0             D   2020-03-06          3     111761     144747   \n",
       "\n",
       "      winner_seed  ... w_bpFaced l_ace  l_df l_svpt l_1stIn l_1stWon  \\\n",
       "0               1  ...      None  None  None   None    None     None   \n",
       "1               1  ...      None  None  None   None    None     None   \n",
       "2               2  ...      None  None  None   None    None     None   \n",
       "3               1  ...      None  None  None   None    None     None   \n",
       "4               2  ...      None  None  None   None    None     None   \n",
       "...           ...  ...       ...   ...   ...    ...     ...      ...   \n",
       "26394        None  ...      None  None  None   None    None     None   \n",
       "26395        None  ...      None  None  None   None    None     None   \n",
       "26396        None  ...      None  None  None   None    None     None   \n",
       "26397        None  ...      None  None  None   None    None     None   \n",
       "26398        None  ...      None  None  None   None    None     None   \n",
       "\n",
       "       l_2ndWon l_SvGms l_bpSaved l_bpFaced  \n",
       "0          None    None      None      None  \n",
       "1          None    None      None      None  \n",
       "2          None    None      None      None  \n",
       "3          None    None      None      None  \n",
       "4          None    None      None      None  \n",
       "...         ...     ...       ...       ...  \n",
       "26394      None    None      None      None  \n",
       "26395      None    None      None      None  \n",
       "26396      None    None      None      None  \n",
       "26397      None    None      None      None  \n",
       "26398      None    None      None      None  \n",
       "\n",
       "[26399 rows x 65 columns]"
      ]
     },
     "execution_count": 96,
     "metadata": {},
     "output_type": "execute_result"
    }
   ],
   "source": [
    "df3=pd.read_parquet(path3)\n",
    "df3"
   ]
  },
  {
   "cell_type": "markdown",
   "metadata": {},
   "source": [
    "---------------"
   ]
  },
  {
   "cell_type": "code",
   "execution_count": 97,
   "metadata": {},
   "outputs": [
    {
     "data": {
      "text/plain": [
       "tourney_id\n",
       "2007-540                            75\n",
       "2015-540                            75\n",
       "2009-540                            75\n",
       "2014-540                            75\n",
       "2008-540                            75\n",
       "                                    ..\n",
       "2020-M-DC-2020-QLS-M-BEL-HUN-01      1\n",
       "2020-M-DC-2020-QLS-M-AUT-URU-01      1\n",
       "2020-M-DC-2020-QLS-M-AUS-BRA-01      1\n",
       "2020-M-DC-2020-QLS-M-ARG-COL-01      1\n",
       "2020-M-DC-2020-WG2-PO-SYR-ZIM-01     1\n",
       "Name: count, Length: 1355, dtype: int64"
      ]
     },
     "execution_count": 97,
     "metadata": {},
     "output_type": "execute_result"
    }
   ],
   "source": [
    "df3['tourney_id'].value_counts(dropna=False)"
   ]
  },
  {
   "cell_type": "code",
   "execution_count": 98,
   "metadata": {},
   "outputs": [
    {
     "data": {
      "text/plain": [
       "0"
      ]
     },
     "execution_count": 98,
     "metadata": {},
     "output_type": "execute_result"
    }
   ],
   "source": [
    "df3['tourney_id'].isna().sum()"
   ]
  },
  {
   "cell_type": "markdown",
   "metadata": {},
   "source": [
    "----------------"
   ]
  },
  {
   "cell_type": "code",
   "execution_count": 99,
   "metadata": {},
   "outputs": [
    {
     "data": {
      "text/plain": [
       "tourney_name\n",
       "Wimbledon                       1370\n",
       "Australian Open                 1260\n",
       "Roland Garros                   1260\n",
       "US Open                         1133\n",
       "Miami Masters                    668\n",
       "                                ... \n",
       "Davis Cup QLS R1: BEL vs HUN       1\n",
       "Davis Cup QLS R1: AUT vs URU       1\n",
       "Davis Cup QLS R1: AUS vs BRA       1\n",
       "Davis Cup QLS R1: ARG vs COL       1\n",
       "Davis Cup WG2 PO: SYR vs ZIM       1\n",
       "Name: count, Length: 166, dtype: int64"
      ]
     },
     "execution_count": 99,
     "metadata": {},
     "output_type": "execute_result"
    }
   ],
   "source": [
    "df3['tourney_name'].value_counts(dropna=False)"
   ]
  },
  {
   "cell_type": "code",
   "execution_count": 100,
   "metadata": {},
   "outputs": [
    {
     "data": {
      "text/plain": [
       "0"
      ]
     },
     "execution_count": 100,
     "metadata": {},
     "output_type": "execute_result"
    }
   ],
   "source": [
    "df3['tourney_name'].isna().sum()"
   ]
  },
  {
   "cell_type": "markdown",
   "metadata": {},
   "source": [
    "---------------------"
   ]
  },
  {
   "cell_type": "code",
   "execution_count": 101,
   "metadata": {},
   "outputs": [
    {
     "data": {
      "text/plain": [
       "surface\n",
       "Hard      14092\n",
       "Clay       8590\n",
       "Grass      3183\n",
       "Carpet      534\n",
       "Name: count, dtype: int64"
      ]
     },
     "execution_count": 101,
     "metadata": {},
     "output_type": "execute_result"
    }
   ],
   "source": [
    "df3['surface'].value_counts(dropna=False)"
   ]
  },
  {
   "cell_type": "markdown",
   "metadata": {},
   "source": [
    "-------------"
   ]
  },
  {
   "cell_type": "code",
   "execution_count": 102,
   "metadata": {},
   "outputs": [
    {
     "data": {
      "text/plain": [
       "draw_size\n",
       "128    14455\n",
       "4       4800\n",
       "64      2836\n",
       "R       1582\n",
       "32      1247\n",
       "16        81\n",
       "Name: count, dtype: int64"
      ]
     },
     "execution_count": 102,
     "metadata": {},
     "output_type": "execute_result"
    }
   ],
   "source": [
    "df['draw_size'].value_counts(dropna=False)"
   ]
  },
  {
   "cell_type": "code",
   "execution_count": 103,
   "metadata": {},
   "outputs": [
    {
     "data": {
      "text/plain": [
       "0"
      ]
     },
     "execution_count": 103,
     "metadata": {},
     "output_type": "execute_result"
    }
   ],
   "source": [
    "df['draw_size'].isna().sum()"
   ]
  },
  {
   "cell_type": "markdown",
   "metadata": {},
   "source": [
    "---------------"
   ]
  },
  {
   "cell_type": "code",
   "execution_count": 104,
   "metadata": {},
   "outputs": [
    {
     "data": {
      "text/plain": [
       "tourney_level\n",
       "A    16383\n",
       "G     5148\n",
       "M     4612\n",
       "F      223\n",
       "D       33\n",
       "Name: count, dtype: int64"
      ]
     },
     "execution_count": 104,
     "metadata": {},
     "output_type": "execute_result"
    }
   ],
   "source": [
    "df3['tourney_level'].value_counts(dropna=False)"
   ]
  },
  {
   "cell_type": "markdown",
   "metadata": {},
   "source": [
    "-------------"
   ]
  },
  {
   "cell_type": "code",
   "execution_count": 105,
   "metadata": {},
   "outputs": [
    {
     "data": {
      "text/plain": [
       "tourney_date\n",
       "2014-06-23    75\n",
       "2007-06-25    75\n",
       "2013-06-24    75\n",
       "2008-06-23    75\n",
       "2016-06-27    75\n",
       "              ..\n",
       "2007-06-17    15\n",
       "2010-05-02    15\n",
       "2000-05-21    13\n",
       "2018-11-12    13\n",
       "2017-11-13    11\n",
       "Name: count, Length: 771, dtype: int64"
      ]
     },
     "execution_count": 105,
     "metadata": {},
     "output_type": "execute_result"
    }
   ],
   "source": [
    "df3['tourney_date'].value_counts(dropna=False)"
   ]
  },
  {
   "cell_type": "code",
   "execution_count": 106,
   "metadata": {},
   "outputs": [
    {
     "data": {
      "text/plain": [
       "0"
      ]
     },
     "execution_count": 106,
     "metadata": {},
     "output_type": "execute_result"
    }
   ],
   "source": [
    "df['tourney_date'].isna().sum()"
   ]
  },
  {
   "cell_type": "markdown",
   "metadata": {},
   "source": [
    "---------"
   ]
  },
  {
   "cell_type": "code",
   "execution_count": 107,
   "metadata": {},
   "outputs": [
    {
     "data": {
      "text/plain": [
       "match_num\n",
       "300    1057\n",
       "299    1057\n",
       "298    1057\n",
       "297    1057\n",
       "296    1057\n",
       "       ... \n",
       "304       1\n",
       "303       1\n",
       "302       1\n",
       "301       1\n",
       "307       1\n",
       "Name: count, Length: 255, dtype: int64"
      ]
     },
     "execution_count": 107,
     "metadata": {},
     "output_type": "execute_result"
    }
   ],
   "source": [
    "df3['match_num'].value_counts(dropna=False)"
   ]
  },
  {
   "cell_type": "code",
   "execution_count": 108,
   "metadata": {},
   "outputs": [
    {
     "data": {
      "text/plain": [
       "0"
      ]
     },
     "execution_count": 108,
     "metadata": {},
     "output_type": "execute_result"
    }
   ],
   "source": [
    "df3['match_num'].isna().sum()"
   ]
  },
  {
   "cell_type": "markdown",
   "metadata": {},
   "source": [
    "--------"
   ]
  },
  {
   "cell_type": "code",
   "execution_count": 109,
   "metadata": {},
   "outputs": [
    {
     "data": {
      "text/plain": [
       "winner1_id\n",
       "103184    1066\n",
       "102405     507\n",
       "101956     407\n",
       "102035     405\n",
       "102886     394\n",
       "          ... \n",
       "104594       1\n",
       "104361       1\n",
       "103225       1\n",
       "102021       1\n",
       "111761       1\n",
       "Name: count, Length: 870, dtype: int64"
      ]
     },
     "execution_count": 109,
     "metadata": {},
     "output_type": "execute_result"
    }
   ],
   "source": [
    "df3['winner1_id'].value_counts(dropna=False)"
   ]
  },
  {
   "cell_type": "code",
   "execution_count": 110,
   "metadata": {},
   "outputs": [
    {
     "data": {
      "text/plain": [
       "0"
      ]
     },
     "execution_count": 110,
     "metadata": {},
     "output_type": "execute_result"
    }
   ],
   "source": [
    "df3['winner1_id'].isna().sum()"
   ]
  },
  {
   "cell_type": "markdown",
   "metadata": {},
   "source": [
    "------------------------"
   ]
  },
  {
   "cell_type": "code",
   "execution_count": 111,
   "metadata": {},
   "outputs": [
    {
     "data": {
      "text/plain": [
       "winner2_id\n",
       "103185    1070\n",
       "102800     674\n",
       "102110     519\n",
       "103946     440\n",
       "103018     438\n",
       "          ... \n",
       "104230       1\n",
       "104695       1\n",
       "104203       1\n",
       "104598       1\n",
       "144747       1\n",
       "Name: count, Length: 852, dtype: int64"
      ]
     },
     "execution_count": 111,
     "metadata": {},
     "output_type": "execute_result"
    }
   ],
   "source": [
    "df3[\"winner2_id\"].value_counts(dropna=False)"
   ]
  },
  {
   "cell_type": "code",
   "execution_count": 112,
   "metadata": {},
   "outputs": [
    {
     "data": {
      "text/plain": [
       "0"
      ]
     },
     "execution_count": 112,
     "metadata": {},
     "output_type": "execute_result"
    }
   ],
   "source": [
    "df3[\"winner2_id\"].isna().sum()"
   ]
  },
  {
   "cell_type": "markdown",
   "metadata": {},
   "source": [
    "---------"
   ]
  },
  {
   "cell_type": "code",
   "execution_count": 113,
   "metadata": {},
   "outputs": [
    {
     "data": {
      "text/plain": [
       "winner_seed\n",
       "None    14787\n",
       "1        2661\n",
       "2        2317\n",
       "3        1944\n",
       "4        1797\n",
       "5         531\n",
       "6         510\n",
       "7         430\n",
       "8         422\n",
       "9         153\n",
       "11        145\n",
       "12        134\n",
       "14        120\n",
       "15        116\n",
       "10        114\n",
       "13        108\n",
       "16        105\n",
       "17          5\n",
       "Name: count, dtype: int64"
      ]
     },
     "execution_count": 113,
     "metadata": {},
     "output_type": "execute_result"
    }
   ],
   "source": [
    "df3['winner_seed'].value_counts(dropna=False)"
   ]
  },
  {
   "cell_type": "code",
   "execution_count": 114,
   "metadata": {},
   "outputs": [],
   "source": [
    "#la colonna winner_seed è composta dal 56% da valori nan"
   ]
  },
  {
   "cell_type": "markdown",
   "metadata": {},
   "source": [
    "---------------"
   ]
  },
  {
   "cell_type": "code",
   "execution_count": 115,
   "metadata": {},
   "outputs": [
    {
     "data": {
      "text/plain": [
       "winner_entry\n",
       "None     24287\n",
       "WC        1599\n",
       "AL         202\n",
       "PR         131\n",
       "S           79\n",
       "LL          49\n",
       "Alt         38\n",
       "4 WC         4\n",
       "1 AL         4\n",
       "4 Q          2\n",
       "2 PR         2\n",
       "2 AL         1\n",
       "10 WC        1\n",
       "Name: count, dtype: int64"
      ]
     },
     "execution_count": 115,
     "metadata": {},
     "output_type": "execute_result"
    }
   ],
   "source": [
    "df3['winner_entry'].value_counts(dropna=False)"
   ]
  },
  {
   "cell_type": "code",
   "execution_count": 116,
   "metadata": {},
   "outputs": [],
   "source": [
    "#la colonna winner_entry è composta dal 91% da valori nan"
   ]
  },
  {
   "cell_type": "markdown",
   "metadata": {},
   "source": [
    "------------"
   ]
  },
  {
   "cell_type": "code",
   "execution_count": 117,
   "metadata": {},
   "outputs": [
    {
     "data": {
      "text/plain": [
       "loser1_id\n",
       "103184    318\n",
       "103586    301\n",
       "102886    300\n",
       "102405    293\n",
       "102388    283\n",
       "         ... \n",
       "101414      1\n",
       "102411      1\n",
       "103751      1\n",
       "102136      1\n",
       "200153      1\n",
       "Name: count, Length: 1330, dtype: int64"
      ]
     },
     "execution_count": 117,
     "metadata": {},
     "output_type": "execute_result"
    }
   ],
   "source": [
    "df3['loser1_id'].value_counts(dropna=False)"
   ]
  },
  {
   "cell_type": "code",
   "execution_count": 118,
   "metadata": {},
   "outputs": [
    {
     "data": {
      "text/plain": [
       "0"
      ]
     },
     "execution_count": 118,
     "metadata": {},
     "output_type": "execute_result"
    }
   ],
   "source": [
    "df3['loser1_id'].isna().sum()"
   ]
  },
  {
   "cell_type": "markdown",
   "metadata": {},
   "source": [
    "----------------"
   ]
  },
  {
   "cell_type": "code",
   "execution_count": 119,
   "metadata": {},
   "outputs": [
    {
     "data": {
      "text/plain": [
       "loser2_id\n",
       "102800    392\n",
       "103185    318\n",
       "103690    309\n",
       "104486    250\n",
       "103946    250\n",
       "         ... \n",
       "104970      1\n",
       "103136      1\n",
       "105953      1\n",
       "110462      1\n",
       "208518      1\n",
       "Name: count, Length: 1332, dtype: int64"
      ]
     },
     "execution_count": 119,
     "metadata": {},
     "output_type": "execute_result"
    }
   ],
   "source": [
    "df3['loser2_id'].value_counts(dropna=False)"
   ]
  },
  {
   "cell_type": "code",
   "execution_count": 120,
   "metadata": {},
   "outputs": [
    {
     "data": {
      "text/plain": [
       "6"
      ]
     },
     "execution_count": 120,
     "metadata": {},
     "output_type": "execute_result"
    }
   ],
   "source": [
    "df3['loser2_id'].isna().sum()"
   ]
  },
  {
   "cell_type": "code",
   "execution_count": 121,
   "metadata": {},
   "outputs": [],
   "source": [
    "#la colonna 'loser2_id' è formata dallo 0,02% da valori nan"
   ]
  },
  {
   "cell_type": "markdown",
   "metadata": {},
   "source": [
    "------------"
   ]
  },
  {
   "cell_type": "code",
   "execution_count": 122,
   "metadata": {},
   "outputs": [
    {
     "data": {
      "text/plain": [
       "loser_seed\n",
       "None    19900\n",
       "4        1196\n",
       "3        1168\n",
       "2        1156\n",
       "1        1052\n",
       "8         322\n",
       "5         321\n",
       "7         321\n",
       "6         315\n",
       "15         82\n",
       "13         82\n",
       "9          82\n",
       "16         81\n",
       "10         80\n",
       "11         80\n",
       "14         79\n",
       "12         79\n",
       "17          3\n",
       "Name: count, dtype: int64"
      ]
     },
     "execution_count": 122,
     "metadata": {},
     "output_type": "execute_result"
    }
   ],
   "source": [
    "df3[ 'loser_seed'].value_counts(dropna=False)"
   ]
  },
  {
   "cell_type": "code",
   "execution_count": 123,
   "metadata": {},
   "outputs": [],
   "source": [
    "#la colonna loser_seed è composta dal 75% da valori nan"
   ]
  },
  {
   "cell_type": "markdown",
   "metadata": {},
   "source": [
    "-------------"
   ]
  },
  {
   "cell_type": "code",
   "execution_count": 124,
   "metadata": {},
   "outputs": [
    {
     "data": {
      "text/plain": [
       "loser_entry\n",
       "None     22394\n",
       "WC        3086\n",
       "AL         425\n",
       "PR         153\n",
       "S          134\n",
       "LL         100\n",
       "Alt         96\n",
       "1 AL         2\n",
       "3 AL         1\n",
       "10 WC        1\n",
       "11 WC        1\n",
       "2 WC         1\n",
       "2 AL         1\n",
       "1 WC         1\n",
       "4 AL         1\n",
       "4 Q          1\n",
       "I            1\n",
       "Name: count, dtype: int64"
      ]
     },
     "execution_count": 124,
     "metadata": {},
     "output_type": "execute_result"
    }
   ],
   "source": [
    "df3['loser_entry'].value_counts(dropna=False)"
   ]
  },
  {
   "cell_type": "code",
   "execution_count": 125,
   "metadata": {},
   "outputs": [],
   "source": [
    "#la colonna loser_entry è composta dal 84% di valori nan"
   ]
  },
  {
   "cell_type": "markdown",
   "metadata": {},
   "source": [
    "------------"
   ]
  },
  {
   "cell_type": "code",
   "execution_count": 126,
   "metadata": {},
   "outputs": [
    {
     "data": {
      "text/plain": [
       "score\n",
       "6-3 6-4                1274\n",
       "6-4 6-4                1109\n",
       "6-3 6-2                 678\n",
       "None                    611\n",
       "6-4 6-3                 579\n",
       "                       ... \n",
       "6-4 6-4 5-7 6-7 1-6       1\n",
       "7-6 7-6 6-7 5-7 7-5       1\n",
       "4-6 6-3 6-4 6-7 8-6       1\n",
       "7-6 6-4 3-6 4-6 6-2       1\n",
       "6-3 6-7(6) 6-3            1\n",
       "Name: count, Length: 3594, dtype: int64"
      ]
     },
     "execution_count": 126,
     "metadata": {},
     "output_type": "execute_result"
    }
   ],
   "source": [
    "df3['score'].value_counts(dropna=False)"
   ]
  },
  {
   "cell_type": "code",
   "execution_count": 127,
   "metadata": {},
   "outputs": [],
   "source": [
    "#la colonna score è composta dal 2,3% di valori nan"
   ]
  },
  {
   "cell_type": "markdown",
   "metadata": {},
   "source": [
    "------------"
   ]
  },
  {
   "cell_type": "code",
   "execution_count": 128,
   "metadata": {},
   "outputs": [
    {
     "data": {
      "text/plain": [
       "best_of\n",
       "3    25902\n",
       "5      497\n",
       "Name: count, dtype: int64"
      ]
     },
     "execution_count": 128,
     "metadata": {},
     "output_type": "execute_result"
    }
   ],
   "source": [
    "df3['best_of'].value_counts(dropna=False)"
   ]
  },
  {
   "cell_type": "markdown",
   "metadata": {},
   "source": [
    "----------"
   ]
  },
  {
   "cell_type": "code",
   "execution_count": 129,
   "metadata": {},
   "outputs": [
    {
     "data": {
      "text/plain": [
       "round\n",
       "R16     9251\n",
       "QF      5196\n",
       "R32     4449\n",
       "R64     2860\n",
       "SF      2617\n",
       "F       1321\n",
       "RR       375\n",
       "Q1       174\n",
       "Q2        87\n",
       "R128      64\n",
       "BR         5\n",
       "Name: count, dtype: int64"
      ]
     },
     "execution_count": 129,
     "metadata": {},
     "output_type": "execute_result"
    }
   ],
   "source": [
    "df3['round'].value_counts(dropna=False)"
   ]
  },
  {
   "cell_type": "markdown",
   "metadata": {},
   "source": [
    "---------------"
   ]
  },
  {
   "cell_type": "code",
   "execution_count": 130,
   "metadata": {},
   "outputs": [
    {
     "data": {
      "text/plain": [
       "winner1_name\n",
       "Bob Bryan            1066\n",
       "Mahesh Bhupathi       507\n",
       "Mark Knowles          407\n",
       "Jonas Bjorkman        405\n",
       "Frantisek Cermak      394\n",
       "                     ... \n",
       "Marinko Matosevic       1\n",
       "Michel Koning           1\n",
       "Simon Larose            1\n",
       "Michael Chang           1\n",
       "Benjamin Lock           1\n",
       "Name: count, Length: 870, dtype: int64"
      ]
     },
     "execution_count": 130,
     "metadata": {},
     "output_type": "execute_result"
    }
   ],
   "source": [
    "df3['winner1_name'].value_counts(dropna=False)"
   ]
  },
  {
   "cell_type": "code",
   "execution_count": 131,
   "metadata": {},
   "outputs": [
    {
     "data": {
      "text/plain": [
       "0"
      ]
     },
     "execution_count": 131,
     "metadata": {},
     "output_type": "execute_result"
    }
   ],
   "source": [
    "df3['winner1_name'].isna().sum()"
   ]
  },
  {
   "cell_type": "markdown",
   "metadata": {},
   "source": [
    "-------"
   ]
  },
  {
   "cell_type": "code",
   "execution_count": 132,
   "metadata": {},
   "outputs": [
    {
     "data": {
      "text/plain": [
       "winner1_hand\n",
       "R    20885\n",
       "L     5416\n",
       "U       98\n",
       "Name: count, dtype: int64"
      ]
     },
     "execution_count": 132,
     "metadata": {},
     "output_type": "execute_result"
    }
   ],
   "source": [
    "df3['winner1_hand'].value_counts(dropna=False)"
   ]
  },
  {
   "cell_type": "markdown",
   "metadata": {},
   "source": [
    "-----------------------"
   ]
  },
  {
   "cell_type": "code",
   "execution_count": 133,
   "metadata": {},
   "outputs": [
    {
     "data": {
      "text/plain": [
       "winner1_ht\n",
       "190.0    4942\n",
       "188.0    3283\n",
       "185.0    3263\n",
       "183.0    3209\n",
       "193.0    2605\n",
       "NaN      2575\n",
       "180.0    2285\n",
       "178.0    1222\n",
       "196.0     854\n",
       "175.0     685\n",
       "173.0     477\n",
       "203.0     255\n",
       "170.0     241\n",
       "198.0     220\n",
       "206.0      93\n",
       "201.0      89\n",
       "208.0      55\n",
       "181.0      14\n",
       "168.0      13\n",
       "163.0       9\n",
       "172.0       9\n",
       "194.0       1\n",
       "Name: count, dtype: int64"
      ]
     },
     "execution_count": 133,
     "metadata": {},
     "output_type": "execute_result"
    }
   ],
   "source": [
    "df3['winner1_ht'].value_counts(dropna=False)"
   ]
  },
  {
   "cell_type": "code",
   "execution_count": 134,
   "metadata": {},
   "outputs": [],
   "source": [
    "#la colonna winner1_ht è composta per il 9,7% da valori nan"
   ]
  },
  {
   "cell_type": "markdown",
   "metadata": {},
   "source": [
    "---------------------"
   ]
  },
  {
   "cell_type": "code",
   "execution_count": 135,
   "metadata": {},
   "outputs": [
    {
     "data": {
      "text/plain": [
       "winner1_ioc\n",
       "USA    3267\n",
       "CZE    1784\n",
       "FRA    1552\n",
       "ESP    1503\n",
       "AUS    1466\n",
       "       ... \n",
       "KUW       1\n",
       "VIE       1\n",
       "NOR       1\n",
       "EST       1\n",
       "INA       1\n",
       "Name: count, Length: 80, dtype: int64"
      ]
     },
     "execution_count": 135,
     "metadata": {},
     "output_type": "execute_result"
    }
   ],
   "source": [
    "df3['winner1_ioc'].value_counts(dropna=False)"
   ]
  },
  {
   "cell_type": "code",
   "execution_count": 136,
   "metadata": {},
   "outputs": [
    {
     "data": {
      "text/plain": [
       "0"
      ]
     },
     "execution_count": 136,
     "metadata": {},
     "output_type": "execute_result"
    }
   ],
   "source": [
    "df3['winner1_ioc'].isna().sum()"
   ]
  },
  {
   "cell_type": "markdown",
   "metadata": {},
   "source": [
    "-----------"
   ]
  },
  {
   "cell_type": "code",
   "execution_count": 137,
   "metadata": {},
   "outputs": [
    {
     "data": {
      "text/plain": [
       "winner1_age\n",
       "29.155373    26\n",
       "26.392882    26\n",
       "30.726899    22\n",
       "28.662560    21\n",
       "28.988364    20\n",
       "             ..\n",
       "37.930185     1\n",
       "33.722108     1\n",
       "28.136893     1\n",
       "35.277207     1\n",
       "23.887748     1\n",
       "Name: count, Length: 5895, dtype: int64"
      ]
     },
     "execution_count": 137,
     "metadata": {},
     "output_type": "execute_result"
    }
   ],
   "source": [
    "df3['winner1_age'].value_counts(dropna=False)"
   ]
  },
  {
   "cell_type": "code",
   "execution_count": 138,
   "metadata": {},
   "outputs": [
    {
     "data": {
      "text/plain": [
       "5"
      ]
     },
     "execution_count": 138,
     "metadata": {},
     "output_type": "execute_result"
    }
   ],
   "source": [
    "df3['winner1_age'].isna().sum()"
   ]
  },
  {
   "cell_type": "code",
   "execution_count": 139,
   "metadata": {},
   "outputs": [],
   "source": [
    "# winner1_age_prova=df3['winner1_age']\n",
    "# winner1_age_prova=[round(num) if not np.isnan(num) else np.nan \n",
    "#     for num in winner1_age_prova\n",
    "# ]\n",
    "# winner1_age_prova"
   ]
  },
  {
   "cell_type": "code",
   "execution_count": 140,
   "metadata": {},
   "outputs": [],
   "source": [
    "# df3['winner1_age']=winner1_age_prova\n",
    "# df3['winner1_age'].value_counts(dropna=False)"
   ]
  },
  {
   "cell_type": "code",
   "execution_count": 141,
   "metadata": {},
   "outputs": [],
   "source": [
    "# la colonna 'winner1_age' è composta dallo 0,01% da valori nan"
   ]
  },
  {
   "cell_type": "markdown",
   "metadata": {},
   "source": [
    "-------------------------"
   ]
  },
  {
   "cell_type": "code",
   "execution_count": 142,
   "metadata": {},
   "outputs": [
    {
     "data": {
      "text/plain": [
       "winner2_name\n",
       "Mike Bryan            1070\n",
       "Nenad Zimonjic         674\n",
       "Daniel Nestor          519\n",
       "Bruno Soares           440\n",
       "Max Mirnyi             438\n",
       "                      ... \n",
       "Daniel Koellerer         1\n",
       "Fritz Wolmarans          1\n",
       "Darko Madjarovski        1\n",
       "David Savic              1\n",
       "Courtney John Lock       1\n",
       "Name: count, Length: 852, dtype: int64"
      ]
     },
     "execution_count": 142,
     "metadata": {},
     "output_type": "execute_result"
    }
   ],
   "source": [
    "df3['winner2_name'].value_counts(dropna=False)"
   ]
  },
  {
   "cell_type": "code",
   "execution_count": 143,
   "metadata": {},
   "outputs": [
    {
     "data": {
      "text/plain": [
       "0"
      ]
     },
     "execution_count": 143,
     "metadata": {},
     "output_type": "execute_result"
    }
   ],
   "source": [
    "df3['winner2_name'].isna().sum()"
   ]
  },
  {
   "cell_type": "markdown",
   "metadata": {},
   "source": [
    "-----------------"
   ]
  },
  {
   "cell_type": "code",
   "execution_count": 144,
   "metadata": {},
   "outputs": [
    {
     "data": {
      "text/plain": [
       "winner2_hand\n",
       "R    22465\n",
       "L     3724\n",
       "U      210\n",
       "Name: count, dtype: int64"
      ]
     },
     "execution_count": 144,
     "metadata": {},
     "output_type": "execute_result"
    }
   ],
   "source": [
    "df3['winner2_hand'].value_counts(dropna=False)"
   ]
  },
  {
   "cell_type": "markdown",
   "metadata": {},
   "source": [
    "---------------"
   ]
  },
  {
   "cell_type": "code",
   "execution_count": 145,
   "metadata": {},
   "outputs": [
    {
     "data": {
      "text/plain": [
       "winner2_ht\n",
       "190.0    4644\n",
       "183.0    3094\n",
       "NaN      3074\n",
       "185.0    2875\n",
       "180.0    2752\n",
       "188.0    2709\n",
       "193.0    2178\n",
       "178.0    2067\n",
       "196.0    1065\n",
       "175.0     730\n",
       "203.0     461\n",
       "198.0     313\n",
       "173.0     178\n",
       "168.0      74\n",
       "170.0      63\n",
       "201.0      40\n",
       "208.0      33\n",
       "206.0      22\n",
       "194.0      16\n",
       "181.0       4\n",
       "163.0       4\n",
       "172.0       3\n",
       "Name: count, dtype: int64"
      ]
     },
     "execution_count": 145,
     "metadata": {},
     "output_type": "execute_result"
    }
   ],
   "source": [
    "df3['winner2_ht'].value_counts(dropna=False)"
   ]
  },
  {
   "cell_type": "code",
   "execution_count": 146,
   "metadata": {},
   "outputs": [],
   "source": [
    "#la colonna winner2_ht è composta dal 11% di valori nan"
   ]
  },
  {
   "cell_type": "markdown",
   "metadata": {},
   "source": [
    "--------------"
   ]
  },
  {
   "cell_type": "code",
   "execution_count": 147,
   "metadata": {},
   "outputs": [
    {
     "data": {
      "text/plain": [
       "winner2_ioc\n",
       "USA    3430\n",
       "AUS    1844\n",
       "CZE    1719\n",
       "ESP    1477\n",
       "FRA    1441\n",
       "       ... \n",
       "LIB       1\n",
       "EST       1\n",
       "LVA       1\n",
       "ALG       1\n",
       "PAR       1\n",
       "Name: count, Length: 75, dtype: int64"
      ]
     },
     "execution_count": 147,
     "metadata": {},
     "output_type": "execute_result"
    }
   ],
   "source": [
    "df3['winner2_ioc'].value_counts(dropna=False)"
   ]
  },
  {
   "cell_type": "code",
   "execution_count": 148,
   "metadata": {},
   "outputs": [
    {
     "data": {
      "text/plain": [
       "0"
      ]
     },
     "execution_count": 148,
     "metadata": {},
     "output_type": "execute_result"
    }
   ],
   "source": [
    "df3['winner2_ioc'].isna().sum()"
   ]
  },
  {
   "cell_type": "markdown",
   "metadata": {},
   "source": [
    "-------------"
   ]
  },
  {
   "cell_type": "code",
   "execution_count": 149,
   "metadata": {},
   "outputs": [
    {
     "data": {
      "text/plain": [
       "winner2_age\n",
       "30.324435    26\n",
       "30.822724    23\n",
       "31.244353    23\n",
       "28.607803    22\n",
       "32.240931    21\n",
       "             ..\n",
       "36.547570     1\n",
       "34.447639     1\n",
       "23.337440     1\n",
       "29.453799     1\n",
       "23.370294     1\n",
       "Name: count, Length: 5837, dtype: int64"
      ]
     },
     "execution_count": 149,
     "metadata": {},
     "output_type": "execute_result"
    }
   ],
   "source": [
    "df3['winner2_age'].value_counts(dropna=False)"
   ]
  },
  {
   "cell_type": "code",
   "execution_count": 150,
   "metadata": {},
   "outputs": [
    {
     "data": {
      "text/plain": [
       "0"
      ]
     },
     "execution_count": 150,
     "metadata": {},
     "output_type": "execute_result"
    }
   ],
   "source": [
    "df3['winner2_age'].isna().sum()"
   ]
  },
  {
   "cell_type": "code",
   "execution_count": 151,
   "metadata": {},
   "outputs": [],
   "source": [
    "# winner2_age_prova=df3['winner2_age']\n",
    "# winner2_age_prova=[round(num) if not np.isnan(num) else np.nan \n",
    "#     for num in winner2_age_prova\n",
    "# ]\n",
    "# winner2_age_prova"
   ]
  },
  {
   "cell_type": "code",
   "execution_count": 152,
   "metadata": {},
   "outputs": [],
   "source": [
    "# df3['winner2_age']=winner2_age_prova\n",
    "# df3['winner2_age'].value_counts(dropna=False)"
   ]
  },
  {
   "cell_type": "markdown",
   "metadata": {},
   "source": [
    "---------------"
   ]
  },
  {
   "cell_type": "code",
   "execution_count": 153,
   "metadata": {},
   "outputs": [
    {
     "data": {
      "text/plain": [
       "loser1_name\n",
       "Bob Bryan              318\n",
       "Mariusz Fyrstenberg    301\n",
       "Frantisek Cermak       300\n",
       "Mahesh Bhupathi        293\n",
       "Simon Aspelin          283\n",
       "                      ... \n",
       "Farrukh Dustov           1\n",
       "Didac Perez              1\n",
       "Johan Settergren         1\n",
       "Sanam Singh              1\n",
       "Yacoub Makzoume          1\n",
       "Name: count, Length: 1326, dtype: int64"
      ]
     },
     "execution_count": 153,
     "metadata": {},
     "output_type": "execute_result"
    }
   ],
   "source": [
    "df3['loser1_name'].value_counts(dropna=False)"
   ]
  },
  {
   "cell_type": "code",
   "execution_count": 154,
   "metadata": {},
   "outputs": [
    {
     "data": {
      "text/plain": [
       "5"
      ]
     },
     "execution_count": 154,
     "metadata": {},
     "output_type": "execute_result"
    }
   ],
   "source": [
    "df3['loser1_name'].isna().sum()"
   ]
  },
  {
   "cell_type": "code",
   "execution_count": 155,
   "metadata": {},
   "outputs": [],
   "source": [
    "# la colonna 'loser1_name' è composta dallo 0,01% da valori nan"
   ]
  },
  {
   "cell_type": "markdown",
   "metadata": {},
   "source": [
    "------------"
   ]
  },
  {
   "cell_type": "code",
   "execution_count": 156,
   "metadata": {},
   "outputs": [
    {
     "data": {
      "text/plain": [
       "loser1_hand\n",
       "R       21586\n",
       "L        4497\n",
       "U         308\n",
       "None        8\n",
       "Name: count, dtype: int64"
      ]
     },
     "execution_count": 156,
     "metadata": {},
     "output_type": "execute_result"
    }
   ],
   "source": [
    "df3['loser1_hand'].value_counts(dropna=False)"
   ]
  },
  {
   "cell_type": "code",
   "execution_count": 157,
   "metadata": {},
   "outputs": [],
   "source": [
    "#la colonna 'loser1_hand' è composta dallo 0,03% da valori nan"
   ]
  },
  {
   "cell_type": "markdown",
   "metadata": {},
   "source": [
    "-----------"
   ]
  },
  {
   "cell_type": "code",
   "execution_count": 159,
   "metadata": {},
   "outputs": [
    {
     "data": {
      "text/plain": [
       "loser1_ht\n",
       "190.0    3848\n",
       "188.0    3378\n",
       "NaN      3375\n",
       "185.0    3308\n",
       "183.0    3245\n",
       "180.0    2616\n",
       "193.0    1922\n",
       "178.0    1479\n",
       "175.0     848\n",
       "196.0     802\n",
       "173.0     559\n",
       "198.0     255\n",
       "203.0     229\n",
       "170.0     192\n",
       "201.0      85\n",
       "206.0      84\n",
       "208.0      65\n",
       "181.0      34\n",
       "168.0      23\n",
       "172.0      20\n",
       "163.0      16\n",
       "194.0      14\n",
       "0.0         1\n",
       "191.0       1\n",
       "Name: count, dtype: int64"
      ]
     },
     "execution_count": 159,
     "metadata": {},
     "output_type": "execute_result"
    }
   ],
   "source": [
    "df3['loser1_ht'].value_counts(dropna=False)"
   ]
  },
  {
   "cell_type": "code",
   "execution_count": 161,
   "metadata": {},
   "outputs": [
    {
     "data": {
      "text/plain": [
       "3375"
      ]
     },
     "execution_count": 161,
     "metadata": {},
     "output_type": "execute_result"
    }
   ],
   "source": [
    "df3['loser1_ht'].isna().sum()"
   ]
  },
  {
   "cell_type": "code",
   "execution_count": 164,
   "metadata": {},
   "outputs": [],
   "source": [
    "#la colonna loser1_htè composta dal 12% di valori nan"
   ]
  },
  {
   "cell_type": "markdown",
   "metadata": {},
   "source": [
    "--------------"
   ]
  },
  {
   "cell_type": "code",
   "execution_count": 166,
   "metadata": {},
   "outputs": [
    {
     "data": {
      "text/plain": [
       "loser1_ioc\n",
       "USA    2791\n",
       "ESP    1842\n",
       "CZE    1651\n",
       "ARG    1580\n",
       "FRA    1551\n",
       "       ... \n",
       "LIB       1\n",
       "GUA       1\n",
       "KEN       1\n",
       "SRI       1\n",
       "SYR       1\n",
       "Name: count, Length: 90, dtype: int64"
      ]
     },
     "execution_count": 166,
     "metadata": {},
     "output_type": "execute_result"
    }
   ],
   "source": [
    "df3['loser1_ioc'].value_counts(dropna=False)"
   ]
  },
  {
   "cell_type": "code",
   "execution_count": 167,
   "metadata": {},
   "outputs": [
    {
     "data": {
      "text/plain": [
       "5"
      ]
     },
     "execution_count": 167,
     "metadata": {},
     "output_type": "execute_result"
    }
   ],
   "source": [
    "df3['loser1_ioc'].isna().sum()"
   ]
  },
  {
   "cell_type": "code",
   "execution_count": null,
   "metadata": {},
   "outputs": [],
   "source": [
    "# la colonna 'loser1_name' è composta dallo 0,01% da valori nan"
   ]
  },
  {
   "cell_type": "markdown",
   "metadata": {},
   "source": [
    "----------"
   ]
  },
  {
   "cell_type": "code",
   "execution_count": 168,
   "metadata": {},
   "outputs": [
    {
     "data": {
      "text/plain": [
       "loser1_age\n",
       "28.873374    18\n",
       "NaN          18\n",
       "28.930869    17\n",
       "28.988364    16\n",
       "28.662560    15\n",
       "             ..\n",
       "17.618070     1\n",
       "32.843258     1\n",
       "35.570157     1\n",
       "18.488706     1\n",
       "37.497604     1\n",
       "Name: count, Length: 7224, dtype: int64"
      ]
     },
     "execution_count": 168,
     "metadata": {},
     "output_type": "execute_result"
    }
   ],
   "source": [
    "df3['loser1_age'].value_counts(dropna=False)"
   ]
  },
  {
   "cell_type": "code",
   "execution_count": 171,
   "metadata": {},
   "outputs": [
    {
     "data": {
      "text/plain": [
       "18"
      ]
     },
     "execution_count": 171,
     "metadata": {},
     "output_type": "execute_result"
    }
   ],
   "source": [
    "df3['loser1_age'].isna().sum()"
   ]
  },
  {
   "cell_type": "code",
   "execution_count": null,
   "metadata": {},
   "outputs": [],
   "source": [
    "# loser1_age_prova=df3['loser1_age']\n",
    "# loser1_age_prova=[round(num) if not np.isnan(num) else np.nan \n",
    "#     for num in loser1_age_prova\n",
    "# ]\n",
    "# loser1_age_prova"
   ]
  },
  {
   "cell_type": "code",
   "execution_count": null,
   "metadata": {},
   "outputs": [],
   "source": [
    "# df3['loser1_age']=loser1_age_prova\n",
    "# df3['loser1_age'].value_counts(dropna=False)"
   ]
  },
  {
   "cell_type": "code",
   "execution_count": null,
   "metadata": {},
   "outputs": [],
   "source": [
    "#la colonna loser1_age è composta dal 0,06% da valori nan"
   ]
  },
  {
   "cell_type": "markdown",
   "metadata": {},
   "source": [
    "----------"
   ]
  },
  {
   "cell_type": "code",
   "execution_count": 170,
   "metadata": {},
   "outputs": [
    {
     "data": {
      "text/plain": [
       "loser2_name\n",
       "Nenad Zimonjic      392\n",
       "Mike Bryan          318\n",
       "Marcin Matkowski    309\n",
       "Horia Tecau         250\n",
       "Bruno Soares        250\n",
       "                   ... \n",
       "Dane Propoggia        1\n",
       "Manuel Jorquera       1\n",
       "Nader Mohammed        1\n",
       "Pedro Zerbini         1\n",
       "Hazem Naw             1\n",
       "Name: count, Length: 1326, dtype: int64"
      ]
     },
     "execution_count": 170,
     "metadata": {},
     "output_type": "execute_result"
    }
   ],
   "source": [
    "df3['loser2_name'].value_counts(dropna=False)"
   ]
  },
  {
   "cell_type": "code",
   "execution_count": 174,
   "metadata": {},
   "outputs": [
    {
     "data": {
      "text/plain": [
       "12"
      ]
     },
     "execution_count": 174,
     "metadata": {},
     "output_type": "execute_result"
    }
   ],
   "source": [
    "df3['loser2_name'].isna().sum()"
   ]
  },
  {
   "cell_type": "code",
   "execution_count": 177,
   "metadata": {},
   "outputs": [],
   "source": [
    "#la colonna loser2_name' è composta dal 0,04% di valori nan"
   ]
  },
  {
   "cell_type": "markdown",
   "metadata": {},
   "source": [
    "-------------"
   ]
  },
  {
   "cell_type": "code",
   "execution_count": 178,
   "metadata": {},
   "outputs": [
    {
     "data": {
      "text/plain": [
       "loser2_hand\n",
       "R       22384\n",
       "L        3616\n",
       "U         386\n",
       "None       13\n",
       "Name: count, dtype: int64"
      ]
     },
     "execution_count": 178,
     "metadata": {},
     "output_type": "execute_result"
    }
   ],
   "source": [
    "df3['loser2_hand'].value_counts(dropna=False)"
   ]
  },
  {
   "cell_type": "code",
   "execution_count": 179,
   "metadata": {},
   "outputs": [
    {
     "data": {
      "text/plain": [
       "13"
      ]
     },
     "execution_count": 179,
     "metadata": {},
     "output_type": "execute_result"
    }
   ],
   "source": [
    "df3['loser2_hand'].isna().sum()"
   ]
  },
  {
   "cell_type": "code",
   "execution_count": 182,
   "metadata": {},
   "outputs": [],
   "source": [
    "#la colonna loser2_hand è composta dal 0,05% di valori nan"
   ]
  },
  {
   "cell_type": "markdown",
   "metadata": {},
   "source": [
    "-----"
   ]
  },
  {
   "cell_type": "code",
   "execution_count": 183,
   "metadata": {},
   "outputs": [
    {
     "data": {
      "text/plain": [
       "loser2_ht\n",
       "NaN      3831\n",
       "183.0    3626\n",
       "190.0    3415\n",
       "185.0    3128\n",
       "188.0    2856\n",
       "180.0    2720\n",
       "193.0    2116\n",
       "178.0    1498\n",
       "175.0     956\n",
       "196.0     913\n",
       "198.0     383\n",
       "203.0     302\n",
       "173.0     276\n",
       "170.0     107\n",
       "168.0      88\n",
       "201.0      52\n",
       "208.0      38\n",
       "194.0      34\n",
       "206.0      26\n",
       "172.0      22\n",
       "163.0       8\n",
       "181.0       4\n",
       "Name: count, dtype: int64"
      ]
     },
     "execution_count": 183,
     "metadata": {},
     "output_type": "execute_result"
    }
   ],
   "source": [
    "df3['loser2_ht'].value_counts(dropna=False)"
   ]
  },
  {
   "cell_type": "code",
   "execution_count": 184,
   "metadata": {},
   "outputs": [
    {
     "data": {
      "text/plain": [
       "3831"
      ]
     },
     "execution_count": 184,
     "metadata": {},
     "output_type": "execute_result"
    }
   ],
   "source": [
    "df3['loser2_ht'].isna().sum()"
   ]
  },
  {
   "cell_type": "code",
   "execution_count": 187,
   "metadata": {},
   "outputs": [],
   "source": [
    "#la colonna 'loser2_ht' è composta dal 14% di valori nan"
   ]
  },
  {
   "cell_type": "markdown",
   "metadata": {},
   "source": [
    "---------"
   ]
  },
  {
   "cell_type": "code",
   "execution_count": 188,
   "metadata": {},
   "outputs": [
    {
     "data": {
      "text/plain": [
       "loser2_ioc\n",
       "USA    2916\n",
       "ESP    1800\n",
       "AUS    1676\n",
       "CZE    1590\n",
       "FRA    1516\n",
       "       ... \n",
       "BAR       1\n",
       "GUA       1\n",
       "KEN       1\n",
       "SRI       1\n",
       "UNK       1\n",
       "Name: count, Length: 94, dtype: int64"
      ]
     },
     "execution_count": 188,
     "metadata": {},
     "output_type": "execute_result"
    }
   ],
   "source": [
    "df3['loser2_ioc'].value_counts(dropna=False)"
   ]
  },
  {
   "cell_type": "code",
   "execution_count": 189,
   "metadata": {},
   "outputs": [
    {
     "data": {
      "text/plain": [
       "12"
      ]
     },
     "execution_count": 189,
     "metadata": {},
     "output_type": "execute_result"
    }
   ],
   "source": [
    "df3['loser2_ioc'].isna().sum()"
   ]
  },
  {
   "cell_type": "code",
   "execution_count": null,
   "metadata": {},
   "outputs": [],
   "source": [
    "#la colonna loser2_ioc' è composta dal 0,04% di valori nan"
   ]
  },
  {
   "cell_type": "markdown",
   "metadata": {},
   "source": [
    "----------"
   ]
  },
  {
   "cell_type": "code",
   "execution_count": 190,
   "metadata": {},
   "outputs": [
    {
     "data": {
      "text/plain": [
       "loser2_age\n",
       "NaN          32\n",
       "24.038330    15\n",
       "32.240931    14\n",
       "30.381930    14\n",
       "28.024641    14\n",
       "             ..\n",
       "39.019849     1\n",
       "25.169062     1\n",
       "24.572211     1\n",
       "39.652293     1\n",
       "20.167009     1\n",
       "Name: count, Length: 7170, dtype: int64"
      ]
     },
     "execution_count": 190,
     "metadata": {},
     "output_type": "execute_result"
    }
   ],
   "source": [
    "df3['loser2_age'].value_counts(dropna=False)"
   ]
  },
  {
   "cell_type": "code",
   "execution_count": 191,
   "metadata": {},
   "outputs": [
    {
     "data": {
      "text/plain": [
       "32"
      ]
     },
     "execution_count": 191,
     "metadata": {},
     "output_type": "execute_result"
    }
   ],
   "source": [
    "df3['loser2_age'].isna().sum()"
   ]
  },
  {
   "cell_type": "code",
   "execution_count": null,
   "metadata": {},
   "outputs": [],
   "source": [
    "# loser2_age_prova=df3['loser2_age']\n",
    "# loser2_age_prova=[round(num) if not np.isnan(num) else np.nan \n",
    "#     for num in loser2_age_prova\n",
    "# ]\n",
    "# loser2_age_prova"
   ]
  },
  {
   "cell_type": "code",
   "execution_count": null,
   "metadata": {},
   "outputs": [],
   "source": [
    "# df3['loser2_age']=loser2_age_prova\n",
    "# df3['loser2_age'].value_counts(dropna=False)"
   ]
  },
  {
   "cell_type": "code",
   "execution_count": null,
   "metadata": {},
   "outputs": [],
   "source": [
    "#la colonna loser2_age è composta dallo 0,12% di valori nan"
   ]
  },
  {
   "cell_type": "markdown",
   "metadata": {},
   "source": [
    "----------"
   ]
  },
  {
   "cell_type": "code",
   "execution_count": 194,
   "metadata": {},
   "outputs": [
    {
     "data": {
      "text/plain": [
       "winner1_rank\n",
       "1.0       840\n",
       "3.0       449\n",
       "8.0       436\n",
       "13.0      399\n",
       "4.0       394\n",
       "         ... \n",
       "621.0       1\n",
       "1095.0      1\n",
       "775.0       1\n",
       "881.0       1\n",
       "537.0       1\n",
       "Name: count, Length: 815, dtype: int64"
      ]
     },
     "execution_count": 194,
     "metadata": {},
     "output_type": "execute_result"
    }
   ],
   "source": [
    "df3['winner1_rank'].value_counts(dropna=False)"
   ]
  },
  {
   "cell_type": "code",
   "execution_count": 195,
   "metadata": {},
   "outputs": [
    {
     "data": {
      "text/plain": [
       "358"
      ]
     },
     "execution_count": 195,
     "metadata": {},
     "output_type": "execute_result"
    }
   ],
   "source": [
    "df3['winner1_rank'].isna().sum()"
   ]
  },
  {
   "cell_type": "code",
   "execution_count": 198,
   "metadata": {},
   "outputs": [],
   "source": [
    "#la colonna 'winner1_rank' è composta dall'1,36% da valori nan"
   ]
  },
  {
   "cell_type": "markdown",
   "metadata": {},
   "source": [
    "-------"
   ]
  },
  {
   "cell_type": "code",
   "execution_count": 199,
   "metadata": {},
   "outputs": [
    {
     "data": {
      "text/plain": [
       "winner1_rank_points\n",
       "0.0       595\n",
       "NaN       358\n",
       "180.0     100\n",
       "270.0      94\n",
       "90.0       89\n",
       "         ... \n",
       "3037.0      1\n",
       "517.0       1\n",
       "1351.0      1\n",
       "5015.0      1\n",
       "1229.0      1\n",
       "Name: count, Length: 2985, dtype: int64"
      ]
     },
     "execution_count": 199,
     "metadata": {},
     "output_type": "execute_result"
    }
   ],
   "source": [
    "df3['winner1_rank_points'].value_counts(dropna=False)"
   ]
  },
  {
   "cell_type": "code",
   "execution_count": 202,
   "metadata": {},
   "outputs": [
    {
     "data": {
      "text/plain": [
       "358"
      ]
     },
     "execution_count": 202,
     "metadata": {},
     "output_type": "execute_result"
    }
   ],
   "source": [
    "df3['winner1_rank_points'].isna().sum()"
   ]
  },
  {
   "cell_type": "code",
   "execution_count": null,
   "metadata": {},
   "outputs": [],
   "source": [
    "#la colonna winner1_rank_points è composta dall'1,36% di valori nan\n",
    "#in più mi incuriosiscono quei valori 0.0 all'interno della colonna in quanto non mi sembra normale che un giocatore non abbia preso dei punti in più nella classifica nonostante abbia vinto"
   ]
  },
  {
   "cell_type": "markdown",
   "metadata": {},
   "source": [
    "----------"
   ]
  },
  {
   "cell_type": "code",
   "execution_count": 204,
   "metadata": {},
   "outputs": [
    {
     "data": {
      "text/plain": [
       "winner2_rank\n",
       "1.0      838\n",
       "3.0      690\n",
       "5.0      431\n",
       "7.0      426\n",
       "9.0      377\n",
       "        ... \n",
       "778.0      1\n",
       "661.0      1\n",
       "495.0      1\n",
       "844.0      1\n",
       "942.0      1\n",
       "Name: count, Length: 755, dtype: int64"
      ]
     },
     "execution_count": 204,
     "metadata": {},
     "output_type": "execute_result"
    }
   ],
   "source": [
    "df3['winner2_rank'].value_counts(dropna=False)"
   ]
  },
  {
   "cell_type": "code",
   "execution_count": 205,
   "metadata": {},
   "outputs": [
    {
     "data": {
      "text/plain": [
       "364"
      ]
     },
     "execution_count": 205,
     "metadata": {},
     "output_type": "execute_result"
    }
   ],
   "source": [
    "df3['winner2_rank'].isna().sum()"
   ]
  },
  {
   "cell_type": "code",
   "execution_count": 207,
   "metadata": {},
   "outputs": [],
   "source": [
    "#la colonna winner2_rank è composta dal 1,37% di valori nan"
   ]
  },
  {
   "cell_type": "markdown",
   "metadata": {},
   "source": [
    "------------"
   ]
  },
  {
   "cell_type": "code",
   "execution_count": 208,
   "metadata": {},
   "outputs": [
    {
     "data": {
      "text/plain": [
       "winner2_rank_points\n",
       "0.0       595\n",
       "NaN       364\n",
       "180.0      96\n",
       "270.0      73\n",
       "90.0       72\n",
       "         ... \n",
       "2706.0      1\n",
       "1692.0      1\n",
       "2312.0      1\n",
       "1177.0      1\n",
       "4295.0      1\n",
       "Name: count, Length: 3021, dtype: int64"
      ]
     },
     "execution_count": 208,
     "metadata": {},
     "output_type": "execute_result"
    }
   ],
   "source": [
    "df3['winner2_rank_points'].value_counts(dropna=False)"
   ]
  },
  {
   "cell_type": "code",
   "execution_count": 209,
   "metadata": {},
   "outputs": [
    {
     "data": {
      "text/plain": [
       "364"
      ]
     },
     "execution_count": 209,
     "metadata": {},
     "output_type": "execute_result"
    }
   ],
   "source": [
    "df3['winner2_rank_points'].isna().sum()"
   ]
  },
  {
   "cell_type": "code",
   "execution_count": 210,
   "metadata": {},
   "outputs": [],
   "source": [
    "#la colonna winner2_rank_points è composta dal 1,37% di valori nan"
   ]
  },
  {
   "cell_type": "markdown",
   "metadata": {},
   "source": [
    "------"
   ]
  },
  {
   "cell_type": "code",
   "execution_count": 211,
   "metadata": {},
   "outputs": [
    {
     "data": {
      "text/plain": [
       "loser1_rank\n",
       "NaN       639\n",
       "1.0       260\n",
       "30.0      246\n",
       "13.0      243\n",
       "23.0      240\n",
       "         ... \n",
       "1195.0      1\n",
       "813.0       1\n",
       "1145.0      1\n",
       "1458.0      1\n",
       "2057.0      1\n",
       "Name: count, Length: 1166, dtype: int64"
      ]
     },
     "execution_count": 211,
     "metadata": {},
     "output_type": "execute_result"
    }
   ],
   "source": [
    "df3['loser1_rank'].value_counts(dropna=False)"
   ]
  },
  {
   "cell_type": "code",
   "execution_count": 212,
   "metadata": {},
   "outputs": [
    {
     "data": {
      "text/plain": [
       "639"
      ]
     },
     "execution_count": 212,
     "metadata": {},
     "output_type": "execute_result"
    }
   ],
   "source": [
    "df3['loser1_rank'].isna().sum()"
   ]
  },
  {
   "cell_type": "code",
   "execution_count": 215,
   "metadata": {},
   "outputs": [],
   "source": [
    "# la colonna loser1_rank è composta dal 2,4% di valori nan"
   ]
  },
  {
   "cell_type": "markdown",
   "metadata": {},
   "source": [
    "--------"
   ]
  },
  {
   "cell_type": "code",
   "execution_count": 218,
   "metadata": {},
   "outputs": [
    {
     "data": {
      "text/plain": [
       "loser1_rank_points\n",
       "NaN       639\n",
       "0.0       589\n",
       "90.0      171\n",
       "180.0     140\n",
       "45.0      121\n",
       "         ... \n",
       "2378.0      1\n",
       "4765.0      1\n",
       "4405.0      1\n",
       "1912.0      1\n",
       "4285.0      1\n",
       "Name: count, Length: 3148, dtype: int64"
      ]
     },
     "execution_count": 218,
     "metadata": {},
     "output_type": "execute_result"
    }
   ],
   "source": [
    "df3['loser1_rank_points'].value_counts(dropna=False)"
   ]
  },
  {
   "cell_type": "code",
   "execution_count": 219,
   "metadata": {},
   "outputs": [
    {
     "data": {
      "text/plain": [
       "639"
      ]
     },
     "execution_count": 219,
     "metadata": {},
     "output_type": "execute_result"
    }
   ],
   "source": [
    "df3['loser1_rank_points'].isna().sum()"
   ]
  },
  {
   "cell_type": "code",
   "execution_count": 220,
   "metadata": {},
   "outputs": [],
   "source": [
    "# la colonna loser1_rank_points è composta dal 2,4% di valori nan"
   ]
  },
  {
   "cell_type": "markdown",
   "metadata": {},
   "source": [
    "-----------"
   ]
  },
  {
   "cell_type": "code",
   "execution_count": 222,
   "metadata": {},
   "outputs": [
    {
     "data": {
      "text/plain": [
       "loser2_rank\n",
       "NaN       607\n",
       "15.0      265\n",
       "1.0       257\n",
       "3.0       250\n",
       "17.0      244\n",
       "         ... \n",
       "1210.0      1\n",
       "1450.0      1\n",
       "1476.0      1\n",
       "654.0       1\n",
       "1929.0      1\n",
       "Name: count, Length: 1127, dtype: int64"
      ]
     },
     "execution_count": 222,
     "metadata": {},
     "output_type": "execute_result"
    }
   ],
   "source": [
    "df3['loser2_rank'].value_counts(dropna=False)"
   ]
  },
  {
   "cell_type": "code",
   "execution_count": 223,
   "metadata": {},
   "outputs": [
    {
     "data": {
      "text/plain": [
       "607"
      ]
     },
     "execution_count": 223,
     "metadata": {},
     "output_type": "execute_result"
    }
   ],
   "source": [
    "df3['loser2_rank'].isna().sum()"
   ]
  },
  {
   "cell_type": "code",
   "execution_count": 225,
   "metadata": {},
   "outputs": [],
   "source": [
    "#la colonna loser2_rank è composta dallo 2,30% di valori nan"
   ]
  },
  {
   "cell_type": "markdown",
   "metadata": {},
   "source": [
    "-----------"
   ]
  },
  {
   "cell_type": "code",
   "execution_count": 227,
   "metadata": {},
   "outputs": [
    {
     "data": {
      "text/plain": [
       "loser2_rank_points\n",
       "NaN        607\n",
       "0.0        591\n",
       "270.0      142\n",
       "90.0       139\n",
       "180.0      139\n",
       "          ... \n",
       "1938.0       1\n",
       "3705.0       1\n",
       "10120.0      1\n",
       "1872.0       1\n",
       "1534.0       1\n",
       "Name: count, Length: 3177, dtype: int64"
      ]
     },
     "execution_count": 227,
     "metadata": {},
     "output_type": "execute_result"
    }
   ],
   "source": [
    "df3['loser2_rank_points'].value_counts(dropna=False)"
   ]
  },
  {
   "cell_type": "code",
   "execution_count": 228,
   "metadata": {},
   "outputs": [
    {
     "data": {
      "text/plain": [
       "607"
      ]
     },
     "execution_count": 228,
     "metadata": {},
     "output_type": "execute_result"
    }
   ],
   "source": [
    "df3['loser2_rank_points'].isna().sum()"
   ]
  },
  {
   "cell_type": "code",
   "execution_count": 229,
   "metadata": {},
   "outputs": [],
   "source": [
    "#la colonna loser2_rank_points è composta dallo 2,30% di valori nan"
   ]
  },
  {
   "cell_type": "markdown",
   "metadata": {},
   "source": [
    "------------"
   ]
  },
  {
   "cell_type": "code",
   "execution_count": 231,
   "metadata": {},
   "outputs": [
    {
     "data": {
      "text/plain": [
       "minutes\n",
       "None    21350\n",
       "70        124\n",
       "74        118\n",
       "67        117\n",
       "76        112\n",
       "        ...  \n",
       "237         1\n",
       "22          1\n",
       "247         1\n",
       "156         1\n",
       "297         1\n",
       "Name: count, Length: 193, dtype: int64"
      ]
     },
     "execution_count": 231,
     "metadata": {},
     "output_type": "execute_result"
    }
   ],
   "source": [
    "df3['minutes'].value_counts(dropna=False)"
   ]
  },
  {
   "cell_type": "code",
   "execution_count": 232,
   "metadata": {},
   "outputs": [
    {
     "data": {
      "text/plain": [
       "21350"
      ]
     },
     "execution_count": 232,
     "metadata": {},
     "output_type": "execute_result"
    }
   ],
   "source": [
    "df3['minutes'].isna().sum()"
   ]
  },
  {
   "cell_type": "code",
   "execution_count": 234,
   "metadata": {},
   "outputs": [],
   "source": [
    "# la colonna 'minutes' è composta dall'81% di valori nan"
   ]
  },
  {
   "cell_type": "markdown",
   "metadata": {},
   "source": [
    "----------"
   ]
  },
  {
   "cell_type": "code",
   "execution_count": 235,
   "metadata": {},
   "outputs": [
    {
     "data": {
      "text/plain": [
       "w_ace\n",
       "None    21215\n",
       "3         834\n",
       "2         803\n",
       "4         721\n",
       "1         614\n",
       "5         561\n",
       "0         420\n",
       "6         406\n",
       "7         294\n",
       "8         178\n",
       "9         123\n",
       "10         87\n",
       "11         57\n",
       "12         27\n",
       "13         17\n",
       "15         13\n",
       "14         11\n",
       "17          7\n",
       "18          3\n",
       "16          3\n",
       "19          2\n",
       "20          1\n",
       "27          1\n",
       "21          1\n",
       "Name: count, dtype: int64"
      ]
     },
     "execution_count": 235,
     "metadata": {},
     "output_type": "execute_result"
    }
   ],
   "source": [
    "df3['w_ace'].value_counts(dropna=False)"
   ]
  },
  {
   "cell_type": "code",
   "execution_count": 236,
   "metadata": {},
   "outputs": [
    {
     "data": {
      "text/plain": [
       "21215"
      ]
     },
     "execution_count": 236,
     "metadata": {},
     "output_type": "execute_result"
    }
   ],
   "source": [
    "df3['w_ace'].isna().sum()"
   ]
  },
  {
   "cell_type": "code",
   "execution_count": 237,
   "metadata": {},
   "outputs": [
    {
     "data": {
      "text/plain": [
       "80.3628925338081"
      ]
     },
     "execution_count": 237,
     "metadata": {},
     "output_type": "execute_result"
    }
   ],
   "source": [
    "(21215/26399)*100"
   ]
  },
  {
   "cell_type": "code",
   "execution_count": 238,
   "metadata": {},
   "outputs": [],
   "source": [
    "# la colonna 'w_ace' è composta dall'80% di valori nan"
   ]
  },
  {
   "cell_type": "markdown",
   "metadata": {},
   "source": [
    "----"
   ]
  },
  {
   "cell_type": "code",
   "execution_count": 239,
   "metadata": {},
   "outputs": [
    {
     "data": {
      "text/plain": [
       "w_df\n",
       "None    21215\n",
       "2        1220\n",
       "1        1162\n",
       "3         901\n",
       "0         771\n",
       "4         508\n",
       "5         307\n",
       "6         161\n",
       "7          73\n",
       "8          38\n",
       "9          24\n",
       "10         11\n",
       "12          5\n",
       "11          2\n",
       "13          1\n",
       "Name: count, dtype: int64"
      ]
     },
     "execution_count": 239,
     "metadata": {},
     "output_type": "execute_result"
    }
   ],
   "source": [
    "df3['w_df'].value_counts(dropna=False)"
   ]
  },
  {
   "cell_type": "code",
   "execution_count": 240,
   "metadata": {},
   "outputs": [
    {
     "data": {
      "text/plain": [
       "21215"
      ]
     },
     "execution_count": 240,
     "metadata": {},
     "output_type": "execute_result"
    }
   ],
   "source": [
    "df3['w_df'].isna().sum()"
   ]
  },
  {
   "cell_type": "code",
   "execution_count": 241,
   "metadata": {},
   "outputs": [],
   "source": [
    "# la colonna 'w_df' è composta dall'80% di valori nan"
   ]
  },
  {
   "cell_type": "markdown",
   "metadata": {},
   "source": [
    "-----------"
   ]
  },
  {
   "cell_type": "code",
   "execution_count": 242,
   "metadata": {},
   "outputs": [
    {
     "data": {
      "text/plain": [
       "w_svpt\n",
       "None    21215\n",
       "57        165\n",
       "62        162\n",
       "55        162\n",
       "53        159\n",
       "        ...  \n",
       "157         1\n",
       "178         1\n",
       "202         1\n",
       "253         1\n",
       "212         1\n",
       "Name: count, Length: 163, dtype: int64"
      ]
     },
     "execution_count": 242,
     "metadata": {},
     "output_type": "execute_result"
    }
   ],
   "source": [
    "df3['w_svpt'].value_counts(dropna=False)"
   ]
  },
  {
   "cell_type": "code",
   "execution_count": 243,
   "metadata": {},
   "outputs": [
    {
     "data": {
      "text/plain": [
       "21215"
      ]
     },
     "execution_count": 243,
     "metadata": {},
     "output_type": "execute_result"
    }
   ],
   "source": [
    "df3['w_svpt'].isna().sum()"
   ]
  },
  {
   "cell_type": "code",
   "execution_count": 244,
   "metadata": {},
   "outputs": [],
   "source": [
    "# la colonna 'w_svpt' è composta dall'80% di valori nan"
   ]
  },
  {
   "cell_type": "markdown",
   "metadata": {},
   "source": [
    "-------------"
   ]
  },
  {
   "cell_type": "code",
   "execution_count": 245,
   "metadata": {},
   "outputs": [
    {
     "data": {
      "text/plain": [
       "Index(['tourney_id', 'tourney_name', 'surface', 'draw_size', 'tourney_level',\n",
       "       'tourney_date', 'match_num', 'winner1_id', 'winner2_id', 'winner_seed',\n",
       "       'winner_entry', 'loser1_id', 'loser2_id', 'loser_seed', 'loser_entry',\n",
       "       'score', 'best_of', 'round', 'winner1_name', 'winner1_hand',\n",
       "       'winner1_ht', 'winner1_ioc', 'winner1_age', 'winner2_name',\n",
       "       'winner2_hand', 'winner2_ht', 'winner2_ioc', 'winner2_age',\n",
       "       'loser1_name', 'loser1_hand', 'loser1_ht', 'loser1_ioc', 'loser1_age',\n",
       "       'loser2_name', 'loser2_hand', 'loser2_ht', 'loser2_ioc', 'loser2_age',\n",
       "       'winner1_rank', 'winner1_rank_points', 'winner2_rank',\n",
       "       'winner2_rank_points', 'loser1_rank', 'loser1_rank_points',\n",
       "       'loser2_rank', 'loser2_rank_points', 'minutes', 'w_ace', 'w_df',\n",
       "       'w_svpt', 'w_1stIn', 'w_1stWon', 'w_2ndWon', 'w_SvGms', 'w_bpSaved',\n",
       "       'w_bpFaced', 'l_ace', 'l_df', 'l_svpt', 'l_1stIn', 'l_1stWon',\n",
       "       'l_2ndWon', 'l_SvGms', 'l_bpSaved', 'l_bpFaced'],\n",
       "      dtype='object')"
      ]
     },
     "execution_count": 245,
     "metadata": {},
     "output_type": "execute_result"
    }
   ],
   "source": [
    "df3.columns"
   ]
  },
  {
   "cell_type": "code",
   "execution_count": null,
   "metadata": {},
   "outputs": [],
   "source": []
  }
 ],
 "metadata": {
  "kernelspec": {
   "display_name": "Python 3",
   "language": "python",
   "name": "python3"
  },
  "language_info": {
   "codemirror_mode": {
    "name": "ipython",
    "version": 3
   },
   "file_extension": ".py",
   "mimetype": "text/x-python",
   "name": "python",
   "nbconvert_exporter": "python",
   "pygments_lexer": "ipython3",
   "version": "3.12.1"
  }
 },
 "nbformat": 4,
 "nbformat_minor": 2
}
