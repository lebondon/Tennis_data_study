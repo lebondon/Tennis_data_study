{
 "cells": [
  {
   "cell_type": "code",
   "execution_count": 2,
   "metadata": {},
   "outputs": [],
   "source": [
    "import pandas as pd\n",
    "import numpy as np\n",
    "import seaborn as sns"
   ]
  },
  {
   "cell_type": "markdown",
   "metadata": {},
   "source": [
    "## CONTROLLO NAN TABELLA atp_amateurs_matches.parquet"
   ]
  },
  {
   "cell_type": "code",
   "execution_count": 3,
   "metadata": {},
   "outputs": [],
   "source": [
    "path=\"atp_amateurs_matches.parquet\"\n",
    "df=pd.read_parquet(path)"
   ]
  },
  {
   "cell_type": "code",
   "execution_count": 4,
   "metadata": {},
   "outputs": [
    {
     "data": {
      "text/html": [
       "<div>\n",
       "<style scoped>\n",
       "    .dataframe tbody tr th:only-of-type {\n",
       "        vertical-align: middle;\n",
       "    }\n",
       "\n",
       "    .dataframe tbody tr th {\n",
       "        vertical-align: top;\n",
       "    }\n",
       "\n",
       "    .dataframe thead th {\n",
       "        text-align: right;\n",
       "    }\n",
       "</style>\n",
       "<table border=\"1\" class=\"dataframe\">\n",
       "  <thead>\n",
       "    <tr style=\"text-align: right;\">\n",
       "      <th></th>\n",
       "      <th>tourney_id</th>\n",
       "      <th>tourney_name</th>\n",
       "      <th>surface</th>\n",
       "      <th>draw_size</th>\n",
       "      <th>tourney_level</th>\n",
       "      <th>tourney_date</th>\n",
       "      <th>match_num</th>\n",
       "      <th>winner_id</th>\n",
       "      <th>winner_seed</th>\n",
       "      <th>winner_entry</th>\n",
       "      <th>...</th>\n",
       "      <th>l_1stIn</th>\n",
       "      <th>l_1stWon</th>\n",
       "      <th>l_2ndWon</th>\n",
       "      <th>l_SvGms</th>\n",
       "      <th>l_bpSaved</th>\n",
       "      <th>l_bpFaced</th>\n",
       "      <th>winner_rank</th>\n",
       "      <th>winner_rank_points</th>\n",
       "      <th>loser_rank</th>\n",
       "      <th>loser_rank_points</th>\n",
       "    </tr>\n",
       "  </thead>\n",
       "  <tbody>\n",
       "    <tr>\n",
       "      <th>0</th>\n",
       "      <td>1877-540</td>\n",
       "      <td>Wimbledon</td>\n",
       "      <td>Grass</td>\n",
       "      <td>32</td>\n",
       "      <td>G</td>\n",
       "      <td>1877-07-09</td>\n",
       "      <td>1</td>\n",
       "      <td>113987</td>\n",
       "      <td>None</td>\n",
       "      <td>None</td>\n",
       "      <td>...</td>\n",
       "      <td>None</td>\n",
       "      <td>None</td>\n",
       "      <td>None</td>\n",
       "      <td>None</td>\n",
       "      <td>None</td>\n",
       "      <td>None</td>\n",
       "      <td>None</td>\n",
       "      <td>None</td>\n",
       "      <td>None</td>\n",
       "      <td>None</td>\n",
       "    </tr>\n",
       "    <tr>\n",
       "      <th>1</th>\n",
       "      <td>1877-540</td>\n",
       "      <td>Wimbledon</td>\n",
       "      <td>Grass</td>\n",
       "      <td>32</td>\n",
       "      <td>G</td>\n",
       "      <td>1877-07-09</td>\n",
       "      <td>2</td>\n",
       "      <td>114146</td>\n",
       "      <td>None</td>\n",
       "      <td>None</td>\n",
       "      <td>...</td>\n",
       "      <td>None</td>\n",
       "      <td>None</td>\n",
       "      <td>None</td>\n",
       "      <td>None</td>\n",
       "      <td>None</td>\n",
       "      <td>None</td>\n",
       "      <td>None</td>\n",
       "      <td>None</td>\n",
       "      <td>None</td>\n",
       "      <td>None</td>\n",
       "    </tr>\n",
       "    <tr>\n",
       "      <th>2</th>\n",
       "      <td>1877-540</td>\n",
       "      <td>Wimbledon</td>\n",
       "      <td>Grass</td>\n",
       "      <td>32</td>\n",
       "      <td>G</td>\n",
       "      <td>1877-07-09</td>\n",
       "      <td>3</td>\n",
       "      <td>114147</td>\n",
       "      <td>None</td>\n",
       "      <td>None</td>\n",
       "      <td>...</td>\n",
       "      <td>None</td>\n",
       "      <td>None</td>\n",
       "      <td>None</td>\n",
       "      <td>None</td>\n",
       "      <td>None</td>\n",
       "      <td>None</td>\n",
       "      <td>None</td>\n",
       "      <td>None</td>\n",
       "      <td>None</td>\n",
       "      <td>None</td>\n",
       "    </tr>\n",
       "    <tr>\n",
       "      <th>3</th>\n",
       "      <td>1877-540</td>\n",
       "      <td>Wimbledon</td>\n",
       "      <td>Grass</td>\n",
       "      <td>32</td>\n",
       "      <td>G</td>\n",
       "      <td>1877-07-09</td>\n",
       "      <td>4</td>\n",
       "      <td>114149</td>\n",
       "      <td>None</td>\n",
       "      <td>None</td>\n",
       "      <td>...</td>\n",
       "      <td>None</td>\n",
       "      <td>None</td>\n",
       "      <td>None</td>\n",
       "      <td>None</td>\n",
       "      <td>None</td>\n",
       "      <td>None</td>\n",
       "      <td>None</td>\n",
       "      <td>None</td>\n",
       "      <td>None</td>\n",
       "      <td>None</td>\n",
       "    </tr>\n",
       "    <tr>\n",
       "      <th>4</th>\n",
       "      <td>1877-540</td>\n",
       "      <td>Wimbledon</td>\n",
       "      <td>Grass</td>\n",
       "      <td>32</td>\n",
       "      <td>G</td>\n",
       "      <td>1877-07-09</td>\n",
       "      <td>5</td>\n",
       "      <td>113953</td>\n",
       "      <td>None</td>\n",
       "      <td>None</td>\n",
       "      <td>...</td>\n",
       "      <td>None</td>\n",
       "      <td>None</td>\n",
       "      <td>None</td>\n",
       "      <td>None</td>\n",
       "      <td>None</td>\n",
       "      <td>None</td>\n",
       "      <td>None</td>\n",
       "      <td>None</td>\n",
       "      <td>None</td>\n",
       "      <td>None</td>\n",
       "    </tr>\n",
       "    <tr>\n",
       "      <th>...</th>\n",
       "      <td>...</td>\n",
       "      <td>...</td>\n",
       "      <td>...</td>\n",
       "      <td>...</td>\n",
       "      <td>...</td>\n",
       "      <td>...</td>\n",
       "      <td>...</td>\n",
       "      <td>...</td>\n",
       "      <td>...</td>\n",
       "      <td>...</td>\n",
       "      <td>...</td>\n",
       "      <td>...</td>\n",
       "      <td>...</td>\n",
       "      <td>...</td>\n",
       "      <td>...</td>\n",
       "      <td>...</td>\n",
       "      <td>...</td>\n",
       "      <td>...</td>\n",
       "      <td>...</td>\n",
       "      <td>...</td>\n",
       "      <td>...</td>\n",
       "    </tr>\n",
       "    <tr>\n",
       "      <th>24996</th>\n",
       "      <td>1967-D047</td>\n",
       "      <td>Davis Cup EUR R1: NED vs RSA</td>\n",
       "      <td>Clay</td>\n",
       "      <td>4</td>\n",
       "      <td>D</td>\n",
       "      <td>1967-05-04</td>\n",
       "      <td>5</td>\n",
       "      <td>100084</td>\n",
       "      <td>None</td>\n",
       "      <td>None</td>\n",
       "      <td>...</td>\n",
       "      <td>None</td>\n",
       "      <td>None</td>\n",
       "      <td>None</td>\n",
       "      <td>None</td>\n",
       "      <td>None</td>\n",
       "      <td>None</td>\n",
       "      <td>None</td>\n",
       "      <td>None</td>\n",
       "      <td>None</td>\n",
       "      <td>None</td>\n",
       "    </tr>\n",
       "    <tr>\n",
       "      <th>24997</th>\n",
       "      <td>1967-D048</td>\n",
       "      <td>Davis Cup AME SF: PHI vs VIE</td>\n",
       "      <td>None</td>\n",
       "      <td>4</td>\n",
       "      <td>D</td>\n",
       "      <td>1967-04-14</td>\n",
       "      <td>1</td>\n",
       "      <td>106910</td>\n",
       "      <td>None</td>\n",
       "      <td>None</td>\n",
       "      <td>...</td>\n",
       "      <td>None</td>\n",
       "      <td>None</td>\n",
       "      <td>None</td>\n",
       "      <td>None</td>\n",
       "      <td>None</td>\n",
       "      <td>None</td>\n",
       "      <td>None</td>\n",
       "      <td>None</td>\n",
       "      <td>None</td>\n",
       "      <td>None</td>\n",
       "    </tr>\n",
       "    <tr>\n",
       "      <th>24998</th>\n",
       "      <td>1967-D048</td>\n",
       "      <td>Davis Cup AME SF: PHI vs VIE</td>\n",
       "      <td>None</td>\n",
       "      <td>4</td>\n",
       "      <td>D</td>\n",
       "      <td>1967-04-14</td>\n",
       "      <td>2</td>\n",
       "      <td>112556</td>\n",
       "      <td>None</td>\n",
       "      <td>None</td>\n",
       "      <td>...</td>\n",
       "      <td>None</td>\n",
       "      <td>None</td>\n",
       "      <td>None</td>\n",
       "      <td>None</td>\n",
       "      <td>None</td>\n",
       "      <td>None</td>\n",
       "      <td>None</td>\n",
       "      <td>None</td>\n",
       "      <td>None</td>\n",
       "      <td>None</td>\n",
       "    </tr>\n",
       "    <tr>\n",
       "      <th>24999</th>\n",
       "      <td>1967-D048</td>\n",
       "      <td>Davis Cup AME SF: PHI vs VIE</td>\n",
       "      <td>None</td>\n",
       "      <td>4</td>\n",
       "      <td>D</td>\n",
       "      <td>1967-04-14</td>\n",
       "      <td>4</td>\n",
       "      <td>125731</td>\n",
       "      <td>None</td>\n",
       "      <td>None</td>\n",
       "      <td>...</td>\n",
       "      <td>None</td>\n",
       "      <td>None</td>\n",
       "      <td>None</td>\n",
       "      <td>None</td>\n",
       "      <td>None</td>\n",
       "      <td>None</td>\n",
       "      <td>None</td>\n",
       "      <td>None</td>\n",
       "      <td>None</td>\n",
       "      <td>None</td>\n",
       "    </tr>\n",
       "    <tr>\n",
       "      <th>25000</th>\n",
       "      <td>1967-D048</td>\n",
       "      <td>Davis Cup AME SF: PHI vs VIE</td>\n",
       "      <td>None</td>\n",
       "      <td>4</td>\n",
       "      <td>D</td>\n",
       "      <td>1967-04-14</td>\n",
       "      <td>5</td>\n",
       "      <td>106910</td>\n",
       "      <td>None</td>\n",
       "      <td>None</td>\n",
       "      <td>...</td>\n",
       "      <td>None</td>\n",
       "      <td>None</td>\n",
       "      <td>None</td>\n",
       "      <td>None</td>\n",
       "      <td>None</td>\n",
       "      <td>None</td>\n",
       "      <td>None</td>\n",
       "      <td>None</td>\n",
       "      <td>None</td>\n",
       "      <td>None</td>\n",
       "    </tr>\n",
       "  </tbody>\n",
       "</table>\n",
       "<p>25001 rows × 49 columns</p>\n",
       "</div>"
      ],
      "text/plain": [
       "      tourney_id                  tourney_name surface draw_size  \\\n",
       "0       1877-540                     Wimbledon   Grass        32   \n",
       "1       1877-540                     Wimbledon   Grass        32   \n",
       "2       1877-540                     Wimbledon   Grass        32   \n",
       "3       1877-540                     Wimbledon   Grass        32   \n",
       "4       1877-540                     Wimbledon   Grass        32   \n",
       "...          ...                           ...     ...       ...   \n",
       "24996  1967-D047  Davis Cup EUR R1: NED vs RSA    Clay         4   \n",
       "24997  1967-D048  Davis Cup AME SF: PHI vs VIE    None         4   \n",
       "24998  1967-D048  Davis Cup AME SF: PHI vs VIE    None         4   \n",
       "24999  1967-D048  Davis Cup AME SF: PHI vs VIE    None         4   \n",
       "25000  1967-D048  Davis Cup AME SF: PHI vs VIE    None         4   \n",
       "\n",
       "      tourney_level tourney_date  match_num  winner_id winner_seed  \\\n",
       "0                 G   1877-07-09          1     113987        None   \n",
       "1                 G   1877-07-09          2     114146        None   \n",
       "2                 G   1877-07-09          3     114147        None   \n",
       "3                 G   1877-07-09          4     114149        None   \n",
       "4                 G   1877-07-09          5     113953        None   \n",
       "...             ...          ...        ...        ...         ...   \n",
       "24996             D   1967-05-04          5     100084        None   \n",
       "24997             D   1967-04-14          1     106910        None   \n",
       "24998             D   1967-04-14          2     112556        None   \n",
       "24999             D   1967-04-14          4     125731        None   \n",
       "25000             D   1967-04-14          5     106910        None   \n",
       "\n",
       "      winner_entry  ... l_1stIn l_1stWon l_2ndWon l_SvGms  l_bpSaved  \\\n",
       "0             None  ...    None     None     None    None       None   \n",
       "1             None  ...    None     None     None    None       None   \n",
       "2             None  ...    None     None     None    None       None   \n",
       "3             None  ...    None     None     None    None       None   \n",
       "4             None  ...    None     None     None    None       None   \n",
       "...            ...  ...     ...      ...      ...     ...        ...   \n",
       "24996         None  ...    None     None     None    None       None   \n",
       "24997         None  ...    None     None     None    None       None   \n",
       "24998         None  ...    None     None     None    None       None   \n",
       "24999         None  ...    None     None     None    None       None   \n",
       "25000         None  ...    None     None     None    None       None   \n",
       "\n",
       "       l_bpFaced winner_rank winner_rank_points loser_rank loser_rank_points  \n",
       "0           None        None               None       None              None  \n",
       "1           None        None               None       None              None  \n",
       "2           None        None               None       None              None  \n",
       "3           None        None               None       None              None  \n",
       "4           None        None               None       None              None  \n",
       "...          ...         ...                ...        ...               ...  \n",
       "24996       None        None               None       None              None  \n",
       "24997       None        None               None       None              None  \n",
       "24998       None        None               None       None              None  \n",
       "24999       None        None               None       None              None  \n",
       "25000       None        None               None       None              None  \n",
       "\n",
       "[25001 rows x 49 columns]"
      ]
     },
     "execution_count": 4,
     "metadata": {},
     "output_type": "execute_result"
    }
   ],
   "source": [
    "df"
   ]
  },
  {
   "cell_type": "markdown",
   "metadata": {},
   "source": [
    "-------------------------------------------------------------------------------------------------------------------------"
   ]
  },
  {
   "cell_type": "code",
   "execution_count": 5,
   "metadata": {},
   "outputs": [
    {
     "data": {
      "text/plain": [
       "tourney_id\n",
       "1911-560     201\n",
       "1910-560     181\n",
       "1909-560     164\n",
       "1912-560     158\n",
       "1913-560     147\n",
       "            ... \n",
       "1927-D022      2\n",
       "1913-D004      2\n",
       "1962-D008      2\n",
       "1965-D011      2\n",
       "1964-D040      2\n",
       "Name: count, Length: 1482, dtype: int64"
      ]
     },
     "execution_count": 5,
     "metadata": {},
     "output_type": "execute_result"
    }
   ],
   "source": [
    "df[\"tourney_id\"].value_counts(dropna=False)"
   ]
  },
  {
   "cell_type": "code",
   "execution_count": 6,
   "metadata": {},
   "outputs": [
    {
     "data": {
      "text/plain": [
       "0"
      ]
     },
     "execution_count": 6,
     "metadata": {},
     "output_type": "execute_result"
    }
   ],
   "source": [
    "df['tourney_id'].isna().sum()"
   ]
  },
  {
   "cell_type": "markdown",
   "metadata": {},
   "source": [
    "---------------------------------------"
   ]
  },
  {
   "cell_type": "code",
   "execution_count": 7,
   "metadata": {},
   "outputs": [
    {
     "data": {
      "text/plain": [
       "tourney_name\n",
       "US Open                         7824\n",
       "Wimbledon                       7238\n",
       "Roland Garros                   3390\n",
       "Australian Open                 1749\n",
       "Davis Cup WG CR: USA vs AUS       44\n",
       "                                ... \n",
       "Davis Cup WG QF: FRA vs USA        2\n",
       "Davis Cup EUR R1: IRL vs DEN       2\n",
       "Davis Cup EUR QF: NED vs AUT       2\n",
       "Davis Cup EUR R2: NOR vs POL       2\n",
       "Davis Cup EUR R2: AUT vs IND       2\n",
       "Name: count, Length: 971, dtype: int64"
      ]
     },
     "execution_count": 7,
     "metadata": {},
     "output_type": "execute_result"
    }
   ],
   "source": [
    "df['tourney_name'].value_counts(dropna=False)"
   ]
  },
  {
   "cell_type": "code",
   "execution_count": 8,
   "metadata": {},
   "outputs": [
    {
     "data": {
      "text/plain": [
       "0"
      ]
     },
     "execution_count": 8,
     "metadata": {},
     "output_type": "execute_result"
    }
   ],
   "source": [
    "df[\"tourney_name\"].isna().sum()"
   ]
  },
  {
   "cell_type": "markdown",
   "metadata": {},
   "source": [
    "---------------"
   ]
  },
  {
   "cell_type": "code",
   "execution_count": 9,
   "metadata": {},
   "outputs": [
    {
     "data": {
      "text/plain": [
       "surface\n",
       "Grass    17733\n",
       "Clay      5566\n",
       "None      1639\n",
       "Hard        63\n",
       "Name: count, dtype: int64"
      ]
     },
     "execution_count": 9,
     "metadata": {},
     "output_type": "execute_result"
    }
   ],
   "source": [
    "df[\"surface\"].value_counts(dropna=False)"
   ]
  },
  {
   "cell_type": "code",
   "execution_count": 10,
   "metadata": {},
   "outputs": [
    {
     "data": {
      "text/plain": [
       "1639"
      ]
     },
     "execution_count": 10,
     "metadata": {},
     "output_type": "execute_result"
    }
   ],
   "source": [
    "df[\"surface\"].isna().sum()"
   ]
  },
  {
   "cell_type": "code",
   "execution_count": 11,
   "metadata": {},
   "outputs": [],
   "source": [
    "# circa il 6,5% della colonna surface è composto da valori nan"
   ]
  },
  {
   "cell_type": "markdown",
   "metadata": {},
   "source": [
    "-------------"
   ]
  },
  {
   "cell_type": "code",
   "execution_count": 12,
   "metadata": {},
   "outputs": [
    {
     "data": {
      "text/plain": [
       "draw_size\n",
       "128    14455\n",
       "4       4800\n",
       "64      2836\n",
       "R       1582\n",
       "32      1247\n",
       "16        81\n",
       "Name: count, dtype: int64"
      ]
     },
     "execution_count": 12,
     "metadata": {},
     "output_type": "execute_result"
    }
   ],
   "source": [
    "df[\"draw_size\"].value_counts(dropna=False)"
   ]
  },
  {
   "cell_type": "code",
   "execution_count": 13,
   "metadata": {},
   "outputs": [
    {
     "data": {
      "text/plain": [
       "0"
      ]
     },
     "execution_count": 13,
     "metadata": {},
     "output_type": "execute_result"
    }
   ],
   "source": [
    "df[\"draw_size\"].isna().sum()"
   ]
  },
  {
   "cell_type": "code",
   "execution_count": 14,
   "metadata": {},
   "outputs": [],
   "source": [
    "#nella colonna draw_size non sono presenti valori nan ma ho notato che è presente uno strano valore \"R\""
   ]
  },
  {
   "cell_type": "markdown",
   "metadata": {},
   "source": [
    "-------------------------"
   ]
  },
  {
   "cell_type": "code",
   "execution_count": 15,
   "metadata": {},
   "outputs": [
    {
     "data": {
      "text/plain": [
       "tourney_level\n",
       "G    20201\n",
       "D     4800\n",
       "Name: count, dtype: int64"
      ]
     },
     "execution_count": 15,
     "metadata": {},
     "output_type": "execute_result"
    }
   ],
   "source": [
    "df[\"tourney_level\"].value_counts(dropna=False)"
   ]
  },
  {
   "cell_type": "code",
   "execution_count": 16,
   "metadata": {},
   "outputs": [],
   "source": [
    "# non faccio il controllo con .isna().sum() dal momento che ad occhio è possibile notare l'assenza di valori nan ma (considerazione personale) mi incuriosisce solo la presenza di due sole variabili"
   ]
  },
  {
   "cell_type": "markdown",
   "metadata": {},
   "source": [
    "------------------"
   ]
  },
  {
   "cell_type": "code",
   "execution_count": 17,
   "metadata": {},
   "outputs": [
    {
     "data": {
      "text/plain": [
       "tourney_date\n",
       "1911-08-01    201\n",
       "1910-08-01    181\n",
       "1909-08-01    164\n",
       "1912-08-01    158\n",
       "1913-08-01    147\n",
       "             ... \n",
       "1927-07-21      2\n",
       "1926-05-24      2\n",
       "1928-04-30      2\n",
       "1900-08-08      2\n",
       "1913-07-17      2\n",
       "Name: count, Length: 1004, dtype: int64"
      ]
     },
     "execution_count": 17,
     "metadata": {},
     "output_type": "execute_result"
    }
   ],
   "source": [
    "df['tourney_date'].value_counts(dropna=False)"
   ]
  },
  {
   "cell_type": "code",
   "execution_count": 18,
   "metadata": {},
   "outputs": [
    {
     "data": {
      "text/plain": [
       "0"
      ]
     },
     "execution_count": 18,
     "metadata": {},
     "output_type": "execute_result"
    }
   ],
   "source": [
    "df['tourney_date'].isna().sum()"
   ]
  },
  {
   "cell_type": "markdown",
   "metadata": {},
   "source": [
    "------------------"
   ]
  },
  {
   "cell_type": "code",
   "execution_count": 19,
   "metadata": {},
   "outputs": [
    {
     "data": {
      "text/plain": [
       "match_num\n",
       "1      1482\n",
       "2      1482\n",
       "4      1457\n",
       "5      1419\n",
       "3       260\n",
       "       ... \n",
       "185       1\n",
       "184       1\n",
       "183       1\n",
       "182       1\n",
       "201       1\n",
       "Name: count, Length: 201, dtype: int64"
      ]
     },
     "execution_count": 19,
     "metadata": {},
     "output_type": "execute_result"
    }
   ],
   "source": [
    "df['match_num'].value_counts(dropna=False)"
   ]
  },
  {
   "cell_type": "code",
   "execution_count": 20,
   "metadata": {},
   "outputs": [
    {
     "data": {
      "text/plain": [
       "0"
      ]
     },
     "execution_count": 20,
     "metadata": {},
     "output_type": "execute_result"
    }
   ],
   "source": [
    "df['match_num'].isna().sum()"
   ]
  },
  {
   "cell_type": "markdown",
   "metadata": {},
   "source": [
    "----------------"
   ]
  },
  {
   "cell_type": "code",
   "execution_count": 21,
   "metadata": {},
   "outputs": [
    {
     "data": {
      "text/plain": [
       "Index(['tourney_id', 'tourney_name', 'surface', 'draw_size', 'tourney_level',\n",
       "       'tourney_date', 'match_num', 'winner_id', 'winner_seed', 'winner_entry',\n",
       "       'winner_name', 'winner_hand', 'winner_ht', 'winner_ioc', 'winner_age',\n",
       "       'loser_id', 'loser_seed', 'loser_entry', 'loser_name', 'loser_hand',\n",
       "       'loser_ht', 'loser_ioc', 'loser_age', 'score', 'best_of', 'round',\n",
       "       'minutes', 'w_ace', 'w_df', 'w_svpt', 'w_1stIn', 'w_1stWon', 'w_2ndWon',\n",
       "       'w_SvGms', 'w_bpSaved', 'w_bpFaced', 'l_ace', 'l_df', 'l_svpt',\n",
       "       'l_1stIn', 'l_1stWon', 'l_2ndWon', 'l_SvGms', 'l_bpSaved', 'l_bpFaced',\n",
       "       'winner_rank', 'winner_rank_points', 'loser_rank', 'loser_rank_points'],\n",
       "      dtype='object')"
      ]
     },
     "execution_count": 21,
     "metadata": {},
     "output_type": "execute_result"
    }
   ],
   "source": [
    "df.columns"
   ]
  },
  {
   "cell_type": "code",
   "execution_count": 22,
   "metadata": {},
   "outputs": [
    {
     "data": {
      "text/plain": [
       "winner_id\n",
       "100022    198\n",
       "109816    153\n",
       "100012    151\n",
       "112007    143\n",
       "112823    140\n",
       "         ... \n",
       "115581      1\n",
       "114300      1\n",
       "115727      1\n",
       "115927      1\n",
       "111014      1\n",
       "Name: count, Length: 3329, dtype: int64"
      ]
     },
     "execution_count": 22,
     "metadata": {},
     "output_type": "execute_result"
    }
   ],
   "source": [
    "df[\"winner_id\"].value_counts(dropna=False)"
   ]
  },
  {
   "cell_type": "code",
   "execution_count": 23,
   "metadata": {},
   "outputs": [
    {
     "data": {
      "text/plain": [
       "0"
      ]
     },
     "execution_count": 23,
     "metadata": {},
     "output_type": "execute_result"
    }
   ],
   "source": [
    "df[\"winner_id\"].isna().sum()"
   ]
  },
  {
   "cell_type": "markdown",
   "metadata": {},
   "source": [
    "---------------"
   ]
  },
  {
   "cell_type": "code",
   "execution_count": 24,
   "metadata": {},
   "outputs": [
    {
     "data": {
      "text/plain": [
       "winner_seed\n",
       "None    25001\n",
       "Name: count, dtype: int64"
      ]
     },
     "execution_count": 24,
     "metadata": {},
     "output_type": "execute_result"
    }
   ],
   "source": [
    "df['winner_seed'].value_counts(dropna=False)"
   ]
  },
  {
   "cell_type": "code",
   "execution_count": 25,
   "metadata": {},
   "outputs": [],
   "source": [
    "#non mi preoccupo per l'elevata quantità di valori nan in quanto si riferisce a partite avvenute molti anni fa e di conseguenza è normale un'assenza di dati\n",
    "#in futuro se dovessi trovare collonne che presentanno la stessa situazione senza un mio eventuale commento è perche condivide le stesse motivazioni sopraelencate"
   ]
  },
  {
   "cell_type": "markdown",
   "metadata": {},
   "source": [
    "-------------------"
   ]
  },
  {
   "cell_type": "code",
   "execution_count": 26,
   "metadata": {},
   "outputs": [
    {
     "data": {
      "text/plain": [
       "winner_entry\n",
       "None    25001\n",
       "Name: count, dtype: int64"
      ]
     },
     "execution_count": 26,
     "metadata": {},
     "output_type": "execute_result"
    }
   ],
   "source": [
    "df['winner_entry'].value_counts(dropna=False)"
   ]
  },
  {
   "cell_type": "markdown",
   "metadata": {},
   "source": [
    "---------"
   ]
  },
  {
   "cell_type": "code",
   "execution_count": 27,
   "metadata": {},
   "outputs": [
    {
     "data": {
      "text/plain": [
       "winner_name\n",
       "Roy Emerson            198\n",
       "E Victor Seixas        153\n",
       "Nicola Pietrangeli     151\n",
       "Jack Crawford          143\n",
       "Bill Tilden Ii         140\n",
       "                      ... \n",
       "Maurice Ferrier          1\n",
       "R Jagmohan               1\n",
       "Wen Kelly                1\n",
       "Y Das De Kapurthala      1\n",
       "Andres Vatrican          1\n",
       "Name: count, Length: 3268, dtype: int64"
      ]
     },
     "execution_count": 27,
     "metadata": {},
     "output_type": "execute_result"
    }
   ],
   "source": [
    "df['winner_name'].value_counts(dropna=False)"
   ]
  },
  {
   "cell_type": "code",
   "execution_count": 28,
   "metadata": {},
   "outputs": [
    {
     "data": {
      "text/plain": [
       "0"
      ]
     },
     "execution_count": 28,
     "metadata": {},
     "output_type": "execute_result"
    }
   ],
   "source": [
    "df['winner_name'].isna().sum()"
   ]
  },
  {
   "cell_type": "markdown",
   "metadata": {},
   "source": [
    "------------------"
   ]
  },
  {
   "cell_type": "code",
   "execution_count": 29,
   "metadata": {},
   "outputs": [
    {
     "data": {
      "text/plain": [
       "winner_hand\n",
       "None    19362\n",
       "R        4392\n",
       "L         789\n",
       "U         458\n",
       "Name: count, dtype: int64"
      ]
     },
     "execution_count": 29,
     "metadata": {},
     "output_type": "execute_result"
    }
   ],
   "source": [
    "df['winner_hand'].value_counts(dropna=False)"
   ]
  },
  {
   "cell_type": "code",
   "execution_count": 30,
   "metadata": {},
   "outputs": [
    {
     "data": {
      "text/plain": [
       "19362"
      ]
     },
     "execution_count": 30,
     "metadata": {},
     "output_type": "execute_result"
    }
   ],
   "source": [
    "df['winner_hand'].isna().sum()"
   ]
  },
  {
   "cell_type": "code",
   "execution_count": 31,
   "metadata": {},
   "outputs": [],
   "source": [
    "#la colonna \"winner_hand\" è composta dal 77%di valori nan ma non mi sembra il caso di droppare o andare a modificare la colonna\n",
    "#comunque nel caso in cui riteniate il caso di apportare delle modifiche effetuatele pure"
   ]
  },
  {
   "cell_type": "markdown",
   "metadata": {},
   "source": [
    "----------------------------"
   ]
  },
  {
   "cell_type": "code",
   "execution_count": 32,
   "metadata": {},
   "outputs": [
    {
     "data": {
      "text/plain": [
       "winner_ht\n",
       "None    23109\n",
       "185       450\n",
       "183       357\n",
       "188       332\n",
       "190       248\n",
       "175       180\n",
       "173       162\n",
       "178        80\n",
       "180        65\n",
       "193        10\n",
       "170         5\n",
       "196         3\n",
       "Name: count, dtype: int64"
      ]
     },
     "execution_count": 32,
     "metadata": {},
     "output_type": "execute_result"
    }
   ],
   "source": [
    "df['winner_ht'].value_counts(dropna=False)"
   ]
  },
  {
   "cell_type": "code",
   "execution_count": 33,
   "metadata": {},
   "outputs": [
    {
     "data": {
      "text/plain": [
       "(25001, 49)"
      ]
     },
     "execution_count": 33,
     "metadata": {},
     "output_type": "execute_result"
    }
   ],
   "source": [
    "df.shape"
   ]
  },
  {
   "cell_type": "code",
   "execution_count": 34,
   "metadata": {},
   "outputs": [],
   "source": [
    "#la colonna \"winner_ht\" è formata dal 92% di valori nan"
   ]
  },
  {
   "cell_type": "markdown",
   "metadata": {},
   "source": [
    "-------------"
   ]
  },
  {
   "cell_type": "code",
   "execution_count": 35,
   "metadata": {},
   "outputs": [
    {
     "data": {
      "text/plain": [
       "winner_ioc\n",
       "USA    8119\n",
       "GBR    3561\n",
       "AUS    3305\n",
       "FRA    1747\n",
       "RSA     691\n",
       "       ... \n",
       "BRI       2\n",
       "CRC       2\n",
       "GUA       1\n",
       "PAR       1\n",
       "HAW       1\n",
       "Name: count, Length: 82, dtype: int64"
      ]
     },
     "execution_count": 35,
     "metadata": {},
     "output_type": "execute_result"
    }
   ],
   "source": [
    "df['winner_ioc'].value_counts(dropna=False)"
   ]
  },
  {
   "cell_type": "code",
   "execution_count": 36,
   "metadata": {},
   "outputs": [
    {
     "data": {
      "text/plain": [
       "0"
      ]
     },
     "execution_count": 36,
     "metadata": {},
     "output_type": "execute_result"
    }
   ],
   "source": [
    "df['winner_ioc'].isna().sum()"
   ]
  },
  {
   "cell_type": "markdown",
   "metadata": {},
   "source": [
    "-------------"
   ]
  },
  {
   "cell_type": "code",
   "execution_count": 37,
   "metadata": {},
   "outputs": [
    {
     "data": {
      "text/plain": [
       "winner_age\n",
       "NaN          6539\n",
       "23.876797      22\n",
       "21.453799      21\n",
       "22.562628      19\n",
       "25.744011      19\n",
       "             ... \n",
       "38.480493       1\n",
       "25.927447       1\n",
       "41.719370       1\n",
       "15.572895       1\n",
       "46.461328       1\n",
       "Name: count, Length: 5214, dtype: int64"
      ]
     },
     "execution_count": 37,
     "metadata": {},
     "output_type": "execute_result"
    }
   ],
   "source": [
    "df['winner_age'].value_counts(dropna=False)"
   ]
  },
  {
   "cell_type": "code",
   "execution_count": 38,
   "metadata": {},
   "outputs": [],
   "source": [
    "# winner_age_prova=df[\"winner_age\"]\n",
    "# winner_age_prova=[round(num) if not np.isnan(num) else np.nan \n",
    "#     for num in winner_age_prova\n",
    "# ]\n",
    "# winner_age_prova"
   ]
  },
  {
   "cell_type": "code",
   "execution_count": 39,
   "metadata": {},
   "outputs": [],
   "source": [
    "# df[\"winner_age\"]=winner_age_prova\n",
    "# df[\"winner_age\"].value_counts(dropna=False)"
   ]
  },
  {
   "cell_type": "code",
   "execution_count": 40,
   "metadata": {},
   "outputs": [],
   "source": [
    "#la colonna winner_age è composta dal 26% di valori nan"
   ]
  },
  {
   "cell_type": "markdown",
   "metadata": {},
   "source": [
    "----------"
   ]
  },
  {
   "cell_type": "code",
   "execution_count": 41,
   "metadata": {},
   "outputs": [
    {
     "data": {
      "text/plain": [
       "loser_id\n",
       "100011    63\n",
       "100012    57\n",
       "112631    56\n",
       "109816    51\n",
       "112007    50\n",
       "          ..\n",
       "111876     1\n",
       "111884     1\n",
       "111868     1\n",
       "113726     1\n",
       "110439     1\n",
       "Name: count, Length: 6014, dtype: int64"
      ]
     },
     "execution_count": 41,
     "metadata": {},
     "output_type": "execute_result"
    }
   ],
   "source": [
    "df['loser_id'].value_counts(dropna=False)"
   ]
  },
  {
   "cell_type": "code",
   "execution_count": 42,
   "metadata": {},
   "outputs": [
    {
     "data": {
      "text/plain": [
       "0"
      ]
     },
     "execution_count": 42,
     "metadata": {},
     "output_type": "execute_result"
    }
   ],
   "source": [
    "df['loser_id'].isna().sum()"
   ]
  },
  {
   "cell_type": "markdown",
   "metadata": {},
   "source": [
    "--------------"
   ]
  },
  {
   "cell_type": "code",
   "execution_count": 43,
   "metadata": {},
   "outputs": [
    {
     "data": {
      "text/plain": [
       "loser_seed\n",
       "None    25001\n",
       "Name: count, dtype: int64"
      ]
     },
     "execution_count": 43,
     "metadata": {},
     "output_type": "execute_result"
    }
   ],
   "source": [
    "df['loser_seed'].value_counts(dropna=False)"
   ]
  },
  {
   "cell_type": "markdown",
   "metadata": {},
   "source": [
    "---------------------"
   ]
  },
  {
   "cell_type": "code",
   "execution_count": 44,
   "metadata": {},
   "outputs": [
    {
     "data": {
      "text/plain": [
       "loser_entry\n",
       "None    25001\n",
       "Name: count, dtype: int64"
      ]
     },
     "execution_count": 44,
     "metadata": {},
     "output_type": "execute_result"
    }
   ],
   "source": [
    "df['loser_entry'].value_counts(dropna=False)"
   ]
  },
  {
   "cell_type": "markdown",
   "metadata": {},
   "source": [
    "---------"
   ]
  },
  {
   "cell_type": "code",
   "execution_count": 45,
   "metadata": {},
   "outputs": [
    {
     "data": {
      "text/plain": [
       "loser_name\n",
       "Torben Ulrich         63\n",
       "Nicola Pietrangeli    57\n",
       "Jackie Brichant       56\n",
       "E Victor Seixas       51\n",
       "Jack Crawford         50\n",
       "                      ..\n",
       "Dd Morgan              1\n",
       "Eh Diepholz            1\n",
       "Malcolm D Maclagan     1\n",
       "W Dermot Muspratt      1\n",
       "Beyazit Anbar          1\n",
       "Name: count, Length: 5877, dtype: int64"
      ]
     },
     "execution_count": 45,
     "metadata": {},
     "output_type": "execute_result"
    }
   ],
   "source": [
    "df['loser_name'].value_counts(dropna=False)"
   ]
  },
  {
   "cell_type": "code",
   "execution_count": 46,
   "metadata": {},
   "outputs": [
    {
     "data": {
      "text/plain": [
       "0"
      ]
     },
     "execution_count": 46,
     "metadata": {},
     "output_type": "execute_result"
    }
   ],
   "source": [
    "df['loser_name'].isna().sum()"
   ]
  },
  {
   "cell_type": "markdown",
   "metadata": {},
   "source": [
    "------------"
   ]
  },
  {
   "cell_type": "code",
   "execution_count": 47,
   "metadata": {},
   "outputs": [
    {
     "data": {
      "text/plain": [
       "loser_hand\n",
       "None    20807\n",
       "R        2849\n",
       "U         916\n",
       "L         429\n",
       "Name: count, dtype: int64"
      ]
     },
     "execution_count": 47,
     "metadata": {},
     "output_type": "execute_result"
    }
   ],
   "source": [
    "df['loser_hand'].value_counts(dropna=False)"
   ]
  },
  {
   "cell_type": "markdown",
   "metadata": {},
   "source": [
    "----------"
   ]
  },
  {
   "cell_type": "code",
   "execution_count": 48,
   "metadata": {},
   "outputs": [
    {
     "data": {
      "text/plain": [
       "loser_ht\n",
       "NaN      23985\n",
       "185.0      218\n",
       "188.0      201\n",
       "183.0      167\n",
       "190.0      111\n",
       "173.0       96\n",
       "175.0       75\n",
       "178.0       70\n",
       "180.0       55\n",
       "193.0       10\n",
       "170.0        7\n",
       "196.0        6\n",
       "Name: count, dtype: int64"
      ]
     },
     "execution_count": 48,
     "metadata": {},
     "output_type": "execute_result"
    }
   ],
   "source": [
    "df['loser_ht'].value_counts(dropna=False)"
   ]
  },
  {
   "cell_type": "code",
   "execution_count": 49,
   "metadata": {},
   "outputs": [],
   "source": [
    "#la colonna loser_ht è formata del 95% di valori nan"
   ]
  },
  {
   "cell_type": "markdown",
   "metadata": {},
   "source": [
    "-----------"
   ]
  },
  {
   "cell_type": "code",
   "execution_count": 50,
   "metadata": {},
   "outputs": [
    {
     "data": {
      "text/plain": [
       "loser_ioc\n",
       "USA    7611\n",
       "GBR    4028\n",
       "AUS    2403\n",
       "FRA    1671\n",
       "RSA     559\n",
       "       ... \n",
       "KEN       2\n",
       "BER       2\n",
       "UAE       2\n",
       "NIG       1\n",
       "DOM       1\n",
       "Name: count, Length: 87, dtype: int64"
      ]
     },
     "execution_count": 50,
     "metadata": {},
     "output_type": "execute_result"
    }
   ],
   "source": [
    "df['loser_ioc'].value_counts(dropna=False)"
   ]
  },
  {
   "cell_type": "code",
   "execution_count": 51,
   "metadata": {},
   "outputs": [
    {
     "data": {
      "text/plain": [
       "0"
      ]
     },
     "execution_count": 51,
     "metadata": {},
     "output_type": "execute_result"
    }
   ],
   "source": [
    "df['loser_ioc'].isna().sum()"
   ]
  },
  {
   "cell_type": "markdown",
   "metadata": {},
   "source": [
    "----------"
   ]
  },
  {
   "cell_type": "code",
   "execution_count": 52,
   "metadata": {},
   "outputs": [
    {
     "data": {
      "text/plain": [
       "loser_age\n",
       "NaN          12538\n",
       "21.659138       10\n",
       "29.412731        9\n",
       "25.823409        9\n",
       "23.660507        9\n",
       "             ...  \n",
       "25.538672        1\n",
       "27.958932        1\n",
       "33.147159        1\n",
       "37.902806        1\n",
       "23.195072        1\n",
       "Name: count, Length: 6271, dtype: int64"
      ]
     },
     "execution_count": 52,
     "metadata": {},
     "output_type": "execute_result"
    }
   ],
   "source": [
    "df['loser_age'].value_counts(dropna=False)"
   ]
  },
  {
   "cell_type": "code",
   "execution_count": 53,
   "metadata": {},
   "outputs": [],
   "source": [
    "# loser_age_prova=df[\"loser_age\"]\n",
    "# loser_age_prova=[round(num) if not np.isnan(num) else np.nan \n",
    "#     for num in loser_age_prova\n",
    "# ]\n",
    "# loser_age_prova"
   ]
  },
  {
   "cell_type": "code",
   "execution_count": 54,
   "metadata": {},
   "outputs": [],
   "source": [
    "# df[\"loser_age\"]=loser_age_prova\n",
    "# df[\"loser_age\"].value_counts(dropna=False)"
   ]
  },
  {
   "cell_type": "code",
   "execution_count": 55,
   "metadata": {},
   "outputs": [],
   "source": [
    "#la colonna loser_age è composta per il 50% di valori NaN"
   ]
  },
  {
   "cell_type": "markdown",
   "metadata": {},
   "source": [
    "----------------"
   ]
  },
  {
   "cell_type": "code",
   "execution_count": 56,
   "metadata": {},
   "outputs": [
    {
     "data": {
      "text/plain": [
       "score\n",
       "W/O                     1369\n",
       "6-2 6-2 6-2              153\n",
       "6-1 6-2 6-2              143\n",
       "6-2 6-2 6-1              142\n",
       "6-1 6-1 6-2              134\n",
       "                        ... \n",
       "3-6 6-0 2-6 6-1 8-6        1\n",
       "7-5 4-6 3-6 6-4 6-4        1\n",
       "8-6 8-10 2-6 7-5 6-1       1\n",
       "2-6 6-4 6-1 5-7 6-1        1\n",
       "12-10 9-7 6-1              1\n",
       "Name: count, Length: 8550, dtype: int64"
      ]
     },
     "execution_count": 56,
     "metadata": {},
     "output_type": "execute_result"
    }
   ],
   "source": [
    "df['score'].value_counts(dropna=False)"
   ]
  },
  {
   "cell_type": "code",
   "execution_count": 57,
   "metadata": {},
   "outputs": [
    {
     "data": {
      "text/plain": [
       "35"
      ]
     },
     "execution_count": 57,
     "metadata": {},
     "output_type": "execute_result"
    }
   ],
   "source": [
    "df['score'].isna().sum()"
   ]
  },
  {
   "cell_type": "code",
   "execution_count": 58,
   "metadata": {},
   "outputs": [],
   "source": [
    "#la colonna score è composto dallo 0,14% di valori nan"
   ]
  },
  {
   "cell_type": "markdown",
   "metadata": {},
   "source": [
    "--------"
   ]
  },
  {
   "cell_type": "code",
   "execution_count": 59,
   "metadata": {},
   "outputs": [
    {
     "data": {
      "text/plain": [
       "best_of\n",
       "5    24992\n",
       "3        9\n",
       "Name: count, dtype: int64"
      ]
     },
     "execution_count": 59,
     "metadata": {},
     "output_type": "execute_result"
    }
   ],
   "source": [
    "df['best_of'].value_counts(dropna=False)"
   ]
  },
  {
   "cell_type": "code",
   "execution_count": 60,
   "metadata": {},
   "outputs": [],
   "source": [
    "#posso già notare tramite il .value_counts() che nella colonna best_of non sono presenti valori NaN ma c'è un notevole sbilanciamento tra i due valori"
   ]
  },
  {
   "cell_type": "markdown",
   "metadata": {},
   "source": [
    "-------"
   ]
  },
  {
   "cell_type": "code",
   "execution_count": 61,
   "metadata": {},
   "outputs": [
    {
     "data": {
      "text/plain": [
       "round\n",
       "R128    6571\n",
       "R64     5646\n",
       "RR      4800\n",
       "R32     3809\n",
       "R16     2029\n",
       "QF      1028\n",
       "SF       514\n",
       "PR       278\n",
       "F        259\n",
       "CR        67\n",
       "Name: count, dtype: int64"
      ]
     },
     "execution_count": 61,
     "metadata": {},
     "output_type": "execute_result"
    }
   ],
   "source": [
    "df['round'].value_counts(dropna=False)"
   ]
  },
  {
   "cell_type": "markdown",
   "metadata": {},
   "source": [
    "----------"
   ]
  },
  {
   "cell_type": "code",
   "execution_count": 62,
   "metadata": {},
   "outputs": [
    {
     "data": {
      "text/plain": [
       "minutes\n",
       "None    25001\n",
       "Name: count, dtype: int64"
      ]
     },
     "execution_count": 62,
     "metadata": {},
     "output_type": "execute_result"
    }
   ],
   "source": [
    "df['minutes'].value_counts(dropna=False)"
   ]
  },
  {
   "cell_type": "markdown",
   "metadata": {},
   "source": [
    "--------"
   ]
  },
  {
   "cell_type": "code",
   "execution_count": 63,
   "metadata": {},
   "outputs": [
    {
     "data": {
      "text/plain": [
       "w_ace\n",
       "None    25001\n",
       "Name: count, dtype: int64"
      ]
     },
     "execution_count": 63,
     "metadata": {},
     "output_type": "execute_result"
    }
   ],
   "source": [
    "df['w_ace'].value_counts(dropna=False)"
   ]
  },
  {
   "cell_type": "markdown",
   "metadata": {},
   "source": [
    "-----------"
   ]
  },
  {
   "cell_type": "code",
   "execution_count": 64,
   "metadata": {},
   "outputs": [
    {
     "data": {
      "text/plain": [
       "w_df\n",
       "None    25001\n",
       "Name: count, dtype: int64"
      ]
     },
     "execution_count": 64,
     "metadata": {},
     "output_type": "execute_result"
    }
   ],
   "source": [
    "df['w_df'].value_counts(dropna=False)"
   ]
  },
  {
   "cell_type": "markdown",
   "metadata": {},
   "source": [
    "-------------"
   ]
  },
  {
   "cell_type": "code",
   "execution_count": 65,
   "metadata": {},
   "outputs": [
    {
     "data": {
      "text/plain": [
       "w_svpt\n",
       "None    25001\n",
       "Name: count, dtype: int64"
      ]
     },
     "execution_count": 65,
     "metadata": {},
     "output_type": "execute_result"
    }
   ],
   "source": [
    "df['w_svpt'].value_counts(dropna=False)"
   ]
  },
  {
   "cell_type": "markdown",
   "metadata": {},
   "source": [
    "-------"
   ]
  },
  {
   "cell_type": "code",
   "execution_count": 66,
   "metadata": {},
   "outputs": [
    {
     "data": {
      "text/plain": [
       "w_1stIn\n",
       "None    25001\n",
       "Name: count, dtype: int64"
      ]
     },
     "execution_count": 66,
     "metadata": {},
     "output_type": "execute_result"
    }
   ],
   "source": [
    "df['w_1stIn'].value_counts(dropna=False)"
   ]
  },
  {
   "cell_type": "markdown",
   "metadata": {},
   "source": [
    "--------"
   ]
  },
  {
   "cell_type": "code",
   "execution_count": 67,
   "metadata": {},
   "outputs": [
    {
     "data": {
      "text/plain": [
       "w_1stWon\n",
       "None    25001\n",
       "Name: count, dtype: int64"
      ]
     },
     "execution_count": 67,
     "metadata": {},
     "output_type": "execute_result"
    }
   ],
   "source": [
    "df['w_1stWon'].value_counts(dropna=False)"
   ]
  },
  {
   "cell_type": "markdown",
   "metadata": {},
   "source": [
    "-----------"
   ]
  },
  {
   "cell_type": "code",
   "execution_count": 68,
   "metadata": {},
   "outputs": [
    {
     "data": {
      "text/plain": [
       "w_2ndWon\n",
       "None    25001\n",
       "Name: count, dtype: int64"
      ]
     },
     "execution_count": 68,
     "metadata": {},
     "output_type": "execute_result"
    }
   ],
   "source": [
    "df['w_2ndWon'].value_counts(dropna=False)"
   ]
  },
  {
   "cell_type": "markdown",
   "metadata": {},
   "source": [
    "------"
   ]
  },
  {
   "cell_type": "code",
   "execution_count": 69,
   "metadata": {},
   "outputs": [
    {
     "data": {
      "text/plain": [
       "w_SvGms\n",
       "None    25001\n",
       "Name: count, dtype: int64"
      ]
     },
     "execution_count": 69,
     "metadata": {},
     "output_type": "execute_result"
    }
   ],
   "source": [
    "df['w_SvGms'].value_counts(dropna=False)"
   ]
  },
  {
   "cell_type": "markdown",
   "metadata": {},
   "source": [
    "------"
   ]
  },
  {
   "cell_type": "code",
   "execution_count": 70,
   "metadata": {},
   "outputs": [
    {
     "data": {
      "text/plain": [
       "w_bpSaved\n",
       "None    25001\n",
       "Name: count, dtype: int64"
      ]
     },
     "execution_count": 70,
     "metadata": {},
     "output_type": "execute_result"
    }
   ],
   "source": [
    "df['w_bpSaved'].value_counts(dropna=False)"
   ]
  },
  {
   "cell_type": "markdown",
   "metadata": {},
   "source": [
    "------"
   ]
  },
  {
   "cell_type": "code",
   "execution_count": 71,
   "metadata": {},
   "outputs": [
    {
     "data": {
      "text/plain": [
       "w_bpFaced\n",
       "None    25001\n",
       "Name: count, dtype: int64"
      ]
     },
     "execution_count": 71,
     "metadata": {},
     "output_type": "execute_result"
    }
   ],
   "source": [
    "df['w_bpFaced'].value_counts(dropna=False)"
   ]
  },
  {
   "cell_type": "markdown",
   "metadata": {},
   "source": [
    "-----------"
   ]
  },
  {
   "cell_type": "code",
   "execution_count": 72,
   "metadata": {},
   "outputs": [
    {
     "data": {
      "text/plain": [
       "l_ace\n",
       "None    25001\n",
       "Name: count, dtype: int64"
      ]
     },
     "execution_count": 72,
     "metadata": {},
     "output_type": "execute_result"
    }
   ],
   "source": [
    "df['l_ace'].value_counts(dropna=False)"
   ]
  },
  {
   "cell_type": "markdown",
   "metadata": {},
   "source": [
    "-----------"
   ]
  },
  {
   "cell_type": "code",
   "execution_count": 73,
   "metadata": {},
   "outputs": [
    {
     "data": {
      "text/plain": [
       "l_df\n",
       "None    25001\n",
       "Name: count, dtype: int64"
      ]
     },
     "execution_count": 73,
     "metadata": {},
     "output_type": "execute_result"
    }
   ],
   "source": [
    "df['l_df'].value_counts(dropna=False)"
   ]
  },
  {
   "cell_type": "markdown",
   "metadata": {},
   "source": [
    "-----------"
   ]
  },
  {
   "cell_type": "code",
   "execution_count": 74,
   "metadata": {},
   "outputs": [
    {
     "data": {
      "text/plain": [
       "l_svpt\n",
       "None    25001\n",
       "Name: count, dtype: int64"
      ]
     },
     "execution_count": 74,
     "metadata": {},
     "output_type": "execute_result"
    }
   ],
   "source": [
    "df['l_svpt'].value_counts(dropna=False)"
   ]
  },
  {
   "cell_type": "markdown",
   "metadata": {},
   "source": [
    "--------"
   ]
  },
  {
   "cell_type": "code",
   "execution_count": 75,
   "metadata": {},
   "outputs": [
    {
     "data": {
      "text/plain": [
       "l_1stIn\n",
       "None    25001\n",
       "Name: count, dtype: int64"
      ]
     },
     "execution_count": 75,
     "metadata": {},
     "output_type": "execute_result"
    }
   ],
   "source": [
    "df['l_1stIn'].value_counts(dropna=False)"
   ]
  },
  {
   "cell_type": "markdown",
   "metadata": {},
   "source": [
    "---------"
   ]
  },
  {
   "cell_type": "code",
   "execution_count": 76,
   "metadata": {},
   "outputs": [
    {
     "data": {
      "text/plain": [
       "l_1stWon\n",
       "None    25001\n",
       "Name: count, dtype: int64"
      ]
     },
     "execution_count": 76,
     "metadata": {},
     "output_type": "execute_result"
    }
   ],
   "source": [
    "df['l_1stWon'].value_counts(dropna=False)"
   ]
  },
  {
   "cell_type": "markdown",
   "metadata": {},
   "source": [
    "-------"
   ]
  },
  {
   "cell_type": "code",
   "execution_count": 77,
   "metadata": {},
   "outputs": [
    {
     "data": {
      "text/plain": [
       "l_2ndWon\n",
       "None    25001\n",
       "Name: count, dtype: int64"
      ]
     },
     "execution_count": 77,
     "metadata": {},
     "output_type": "execute_result"
    }
   ],
   "source": [
    "df['l_2ndWon'].value_counts(dropna=False)"
   ]
  },
  {
   "cell_type": "markdown",
   "metadata": {},
   "source": [
    "------"
   ]
  },
  {
   "cell_type": "code",
   "execution_count": 78,
   "metadata": {},
   "outputs": [
    {
     "data": {
      "text/plain": [
       "l_SvGms\n",
       "None    25001\n",
       "Name: count, dtype: int64"
      ]
     },
     "execution_count": 78,
     "metadata": {},
     "output_type": "execute_result"
    }
   ],
   "source": [
    "df['l_SvGms'].value_counts(dropna=False)"
   ]
  },
  {
   "cell_type": "markdown",
   "metadata": {},
   "source": [
    "-----------"
   ]
  },
  {
   "cell_type": "code",
   "execution_count": 79,
   "metadata": {},
   "outputs": [
    {
     "data": {
      "text/plain": [
       "l_bpSaved\n",
       "None    25001\n",
       "Name: count, dtype: int64"
      ]
     },
     "execution_count": 79,
     "metadata": {},
     "output_type": "execute_result"
    }
   ],
   "source": [
    "df['l_bpSaved'].value_counts(dropna=False)"
   ]
  },
  {
   "cell_type": "markdown",
   "metadata": {},
   "source": [
    "-----------"
   ]
  },
  {
   "cell_type": "code",
   "execution_count": 80,
   "metadata": {},
   "outputs": [
    {
     "data": {
      "text/plain": [
       "l_bpFaced\n",
       "None    25001\n",
       "Name: count, dtype: int64"
      ]
     },
     "execution_count": 80,
     "metadata": {},
     "output_type": "execute_result"
    }
   ],
   "source": [
    "df['l_bpFaced'].value_counts(dropna=False)"
   ]
  },
  {
   "cell_type": "markdown",
   "metadata": {},
   "source": [
    "-------"
   ]
  },
  {
   "cell_type": "code",
   "execution_count": 81,
   "metadata": {},
   "outputs": [
    {
     "data": {
      "text/plain": [
       "l_bpFaced\n",
       "None    25001\n",
       "Name: count, dtype: int64"
      ]
     },
     "execution_count": 81,
     "metadata": {},
     "output_type": "execute_result"
    }
   ],
   "source": [
    "df['l_bpFaced'].value_counts(dropna=False)"
   ]
  },
  {
   "cell_type": "markdown",
   "metadata": {},
   "source": [
    "-------"
   ]
  },
  {
   "cell_type": "code",
   "execution_count": 82,
   "metadata": {},
   "outputs": [
    {
     "data": {
      "text/plain": [
       "winner_rank\n",
       "None    25001\n",
       "Name: count, dtype: int64"
      ]
     },
     "execution_count": 82,
     "metadata": {},
     "output_type": "execute_result"
    }
   ],
   "source": [
    "df[ 'winner_rank'].value_counts(dropna=False)"
   ]
  },
  {
   "cell_type": "markdown",
   "metadata": {},
   "source": [
    "----------"
   ]
  },
  {
   "cell_type": "code",
   "execution_count": 83,
   "metadata": {},
   "outputs": [
    {
     "data": {
      "text/plain": [
       "winner_rank_points\n",
       "None    25001\n",
       "Name: count, dtype: int64"
      ]
     },
     "execution_count": 83,
     "metadata": {},
     "output_type": "execute_result"
    }
   ],
   "source": [
    "df['winner_rank_points'].value_counts(dropna=False)"
   ]
  },
  {
   "cell_type": "markdown",
   "metadata": {},
   "source": [
    "----------"
   ]
  },
  {
   "cell_type": "code",
   "execution_count": 84,
   "metadata": {},
   "outputs": [
    {
     "data": {
      "text/plain": [
       "loser_rank\n",
       "None    25001\n",
       "Name: count, dtype: int64"
      ]
     },
     "execution_count": 84,
     "metadata": {},
     "output_type": "execute_result"
    }
   ],
   "source": [
    "df['loser_rank'].value_counts(dropna=False)"
   ]
  },
  {
   "cell_type": "markdown",
   "metadata": {},
   "source": [
    "--------"
   ]
  },
  {
   "cell_type": "code",
   "execution_count": 85,
   "metadata": {},
   "outputs": [
    {
     "data": {
      "text/plain": [
       "loser_rank_points\n",
       "None    25001\n",
       "Name: count, dtype: int64"
      ]
     },
     "execution_count": 85,
     "metadata": {},
     "output_type": "execute_result"
    }
   ],
   "source": [
    "df['loser_rank_points'].value_counts(dropna=False)"
   ]
  },
  {
   "cell_type": "markdown",
   "metadata": {},
   "source": [
    "## CONTROLLO NAN TABELLA atp_rankings.parquet"
   ]
  },
  {
   "cell_type": "code",
   "execution_count": 86,
   "metadata": {},
   "outputs": [
    {
     "data": {
      "text/html": [
       "<div>\n",
       "<style scoped>\n",
       "    .dataframe tbody tr th:only-of-type {\n",
       "        vertical-align: middle;\n",
       "    }\n",
       "\n",
       "    .dataframe tbody tr th {\n",
       "        vertical-align: top;\n",
       "    }\n",
       "\n",
       "    .dataframe thead th {\n",
       "        text-align: right;\n",
       "    }\n",
       "</style>\n",
       "<table border=\"1\" class=\"dataframe\">\n",
       "  <thead>\n",
       "    <tr style=\"text-align: right;\">\n",
       "      <th></th>\n",
       "      <th>ranking_date</th>\n",
       "      <th>rank</th>\n",
       "      <th>player</th>\n",
       "      <th>points</th>\n",
       "    </tr>\n",
       "  </thead>\n",
       "  <tbody>\n",
       "    <tr>\n",
       "      <th>0</th>\n",
       "      <td>1973-08-27</td>\n",
       "      <td>129</td>\n",
       "      <td>100005</td>\n",
       "      <td>NaN</td>\n",
       "    </tr>\n",
       "    <tr>\n",
       "      <th>1</th>\n",
       "      <td>1973-08-27</td>\n",
       "      <td>114</td>\n",
       "      <td>100011</td>\n",
       "      <td>NaN</td>\n",
       "    </tr>\n",
       "    <tr>\n",
       "      <th>2</th>\n",
       "      <td>1973-08-27</td>\n",
       "      <td>6</td>\n",
       "      <td>100016</td>\n",
       "      <td>NaN</td>\n",
       "    </tr>\n",
       "    <tr>\n",
       "      <th>3</th>\n",
       "      <td>1973-08-27</td>\n",
       "      <td>19</td>\n",
       "      <td>100022</td>\n",
       "      <td>NaN</td>\n",
       "    </tr>\n",
       "    <tr>\n",
       "      <th>4</th>\n",
       "      <td>1973-08-27</td>\n",
       "      <td>82</td>\n",
       "      <td>100025</td>\n",
       "      <td>NaN</td>\n",
       "    </tr>\n",
       "    <tr>\n",
       "      <th>...</th>\n",
       "      <td>...</td>\n",
       "      <td>...</td>\n",
       "      <td>...</td>\n",
       "      <td>...</td>\n",
       "    </tr>\n",
       "    <tr>\n",
       "      <th>3235634</th>\n",
       "      <td>2024-05-27</td>\n",
       "      <td>2070</td>\n",
       "      <td>211388</td>\n",
       "      <td>1.0</td>\n",
       "    </tr>\n",
       "    <tr>\n",
       "      <th>3235635</th>\n",
       "      <td>2024-05-27</td>\n",
       "      <td>2071</td>\n",
       "      <td>210649</td>\n",
       "      <td>1.0</td>\n",
       "    </tr>\n",
       "    <tr>\n",
       "      <th>3235636</th>\n",
       "      <td>2024-05-27</td>\n",
       "      <td>2071</td>\n",
       "      <td>208890</td>\n",
       "      <td>1.0</td>\n",
       "    </tr>\n",
       "    <tr>\n",
       "      <th>3235637</th>\n",
       "      <td>2024-05-27</td>\n",
       "      <td>2073</td>\n",
       "      <td>202079</td>\n",
       "      <td>1.0</td>\n",
       "    </tr>\n",
       "    <tr>\n",
       "      <th>3235638</th>\n",
       "      <td>2024-05-27</td>\n",
       "      <td>2073</td>\n",
       "      <td>207982</td>\n",
       "      <td>1.0</td>\n",
       "    </tr>\n",
       "  </tbody>\n",
       "</table>\n",
       "<p>3235639 rows × 4 columns</p>\n",
       "</div>"
      ],
      "text/plain": [
       "        ranking_date  rank  player  points\n",
       "0         1973-08-27   129  100005     NaN\n",
       "1         1973-08-27   114  100011     NaN\n",
       "2         1973-08-27     6  100016     NaN\n",
       "3         1973-08-27    19  100022     NaN\n",
       "4         1973-08-27    82  100025     NaN\n",
       "...              ...   ...     ...     ...\n",
       "3235634   2024-05-27  2070  211388     1.0\n",
       "3235635   2024-05-27  2071  210649     1.0\n",
       "3235636   2024-05-27  2071  208890     1.0\n",
       "3235637   2024-05-27  2073  202079     1.0\n",
       "3235638   2024-05-27  2073  207982     1.0\n",
       "\n",
       "[3235639 rows x 4 columns]"
      ]
     },
     "execution_count": 86,
     "metadata": {},
     "output_type": "execute_result"
    }
   ],
   "source": [
    "path2=\"atp_rankings.parquet\"\n",
    "df2=pd.read_parquet(path2)\n",
    "df2"
   ]
  },
  {
   "cell_type": "code",
   "execution_count": 87,
   "metadata": {},
   "outputs": [
    {
     "data": {
      "text/plain": [
       "ranking_date\n",
       "2015-06-29    2271\n",
       "2016-03-21    2262\n",
       "2016-03-07    2261\n",
       "2016-02-22    2261\n",
       "2015-08-31    2259\n",
       "              ... \n",
       "1975-06-30      96\n",
       "1977-10-03      96\n",
       "1980-01-07      92\n",
       "1979-04-16      78\n",
       "1982-11-29      50\n",
       "Name: count, Length: 2247, dtype: int64"
      ]
     },
     "execution_count": 87,
     "metadata": {},
     "output_type": "execute_result"
    }
   ],
   "source": [
    "df2['ranking_date'].value_counts(dropna=False)"
   ]
  },
  {
   "cell_type": "code",
   "execution_count": 88,
   "metadata": {},
   "outputs": [
    {
     "data": {
      "text/plain": [
       "0"
      ]
     },
     "execution_count": 88,
     "metadata": {},
     "output_type": "execute_result"
    }
   ],
   "source": [
    "df2['ranking_date'].isna().sum()"
   ]
  },
  {
   "cell_type": "markdown",
   "metadata": {},
   "source": [
    "--------"
   ]
  },
  {
   "cell_type": "code",
   "execution_count": 89,
   "metadata": {},
   "outputs": [
    {
     "data": {
      "text/plain": [
       "rank\n",
       "1331    5037\n",
       "1304    4167\n",
       "1332    3959\n",
       "1298    3936\n",
       "1306    3263\n",
       "        ... \n",
       "2261       2\n",
       "2260       2\n",
       "2267       2\n",
       "2262       1\n",
       "2271       1\n",
       "Name: count, Length: 2266, dtype: int64"
      ]
     },
     "execution_count": 89,
     "metadata": {},
     "output_type": "execute_result"
    }
   ],
   "source": [
    "df2['rank'].value_counts(dropna=False)"
   ]
  },
  {
   "cell_type": "code",
   "execution_count": 90,
   "metadata": {},
   "outputs": [
    {
     "data": {
      "text/plain": [
       "0"
      ]
     },
     "execution_count": 90,
     "metadata": {},
     "output_type": "execute_result"
    }
   ],
   "source": [
    "df2['rank'].isna().sum()"
   ]
  },
  {
   "cell_type": "markdown",
   "metadata": {},
   "source": [
    "-----------"
   ]
  },
  {
   "cell_type": "code",
   "execution_count": 91,
   "metadata": {},
   "outputs": [
    {
     "data": {
      "text/plain": [
       "player\n",
       "103852    1331\n",
       "102863    1265\n",
       "103333    1231\n",
       "103009    1217\n",
       "103819    1203\n",
       "          ... \n",
       "108146       1\n",
       "108153       1\n",
       "108168       1\n",
       "108187       1\n",
       "212710       1\n",
       "Name: count, Length: 16174, dtype: int64"
      ]
     },
     "execution_count": 91,
     "metadata": {},
     "output_type": "execute_result"
    }
   ],
   "source": [
    "df2['player'].value_counts(dropna=False)"
   ]
  },
  {
   "cell_type": "code",
   "execution_count": 92,
   "metadata": {},
   "outputs": [
    {
     "data": {
      "text/plain": [
       "0"
      ]
     },
     "execution_count": 92,
     "metadata": {},
     "output_type": "execute_result"
    }
   ],
   "source": [
    "df2['player'].isna().sum()"
   ]
  },
  {
   "cell_type": "markdown",
   "metadata": {},
   "source": [
    "---------"
   ]
  },
  {
   "cell_type": "code",
   "execution_count": 93,
   "metadata": {},
   "outputs": [
    {
     "data": {
      "text/plain": [
       "points\n",
       "1.0        509799\n",
       "NaN        376080\n",
       "2.0        233663\n",
       "3.0        156409\n",
       "4.0        122450\n",
       "            ...  \n",
       "6025.0          1\n",
       "14265.0         1\n",
       "8065.0          1\n",
       "5575.0          1\n",
       "9960.0          1\n",
       "Name: count, Length: 4532, dtype: int64"
      ]
     },
     "execution_count": 93,
     "metadata": {},
     "output_type": "execute_result"
    }
   ],
   "source": [
    "df2['points'].value_counts(dropna=False)"
   ]
  },
  {
   "cell_type": "code",
   "execution_count": 94,
   "metadata": {},
   "outputs": [
    {
     "data": {
      "text/plain": [
       "376080"
      ]
     },
     "execution_count": 94,
     "metadata": {},
     "output_type": "execute_result"
    }
   ],
   "source": [
    "df2['points'].isna().sum()"
   ]
  },
  {
   "cell_type": "code",
   "execution_count": 95,
   "metadata": {},
   "outputs": [],
   "source": [
    "#La colonna pointsè formata dal 11% di valori NaN"
   ]
  },
  {
   "cell_type": "markdown",
   "metadata": {},
   "source": [
    "## CONTROLLO NAN TABELLA doubles_matches.parquet"
   ]
  },
  {
   "cell_type": "code",
   "execution_count": 96,
   "metadata": {},
   "outputs": [],
   "source": [
    "path3=\"doubles_matches.parquet\""
   ]
  },
  {
   "cell_type": "code",
   "execution_count": 97,
   "metadata": {},
   "outputs": [
    {
     "data": {
      "text/html": [
       "<div>\n",
       "<style scoped>\n",
       "    .dataframe tbody tr th:only-of-type {\n",
       "        vertical-align: middle;\n",
       "    }\n",
       "\n",
       "    .dataframe tbody tr th {\n",
       "        vertical-align: top;\n",
       "    }\n",
       "\n",
       "    .dataframe thead th {\n",
       "        text-align: right;\n",
       "    }\n",
       "</style>\n",
       "<table border=\"1\" class=\"dataframe\">\n",
       "  <thead>\n",
       "    <tr style=\"text-align: right;\">\n",
       "      <th></th>\n",
       "      <th>tourney_id</th>\n",
       "      <th>tourney_name</th>\n",
       "      <th>surface</th>\n",
       "      <th>draw_size</th>\n",
       "      <th>tourney_level</th>\n",
       "      <th>tourney_date</th>\n",
       "      <th>match_num</th>\n",
       "      <th>winner1_id</th>\n",
       "      <th>winner2_id</th>\n",
       "      <th>winner_seed</th>\n",
       "      <th>...</th>\n",
       "      <th>w_bpFaced</th>\n",
       "      <th>l_ace</th>\n",
       "      <th>l_df</th>\n",
       "      <th>l_svpt</th>\n",
       "      <th>l_1stIn</th>\n",
       "      <th>l_1stWon</th>\n",
       "      <th>l_2ndWon</th>\n",
       "      <th>l_SvGms</th>\n",
       "      <th>l_bpSaved</th>\n",
       "      <th>l_bpFaced</th>\n",
       "    </tr>\n",
       "  </thead>\n",
       "  <tbody>\n",
       "    <tr>\n",
       "      <th>0</th>\n",
       "      <td>2000-301</td>\n",
       "      <td>Auckland</td>\n",
       "      <td>Hard</td>\n",
       "      <td>32.0</td>\n",
       "      <td>A</td>\n",
       "      <td>2000-01-10</td>\n",
       "      <td>300</td>\n",
       "      <td>101704</td>\n",
       "      <td>101097</td>\n",
       "      <td>1</td>\n",
       "      <td>...</td>\n",
       "      <td>None</td>\n",
       "      <td>None</td>\n",
       "      <td>None</td>\n",
       "      <td>None</td>\n",
       "      <td>None</td>\n",
       "      <td>None</td>\n",
       "      <td>None</td>\n",
       "      <td>None</td>\n",
       "      <td>None</td>\n",
       "      <td>None</td>\n",
       "    </tr>\n",
       "    <tr>\n",
       "      <th>1</th>\n",
       "      <td>2000-301</td>\n",
       "      <td>Auckland</td>\n",
       "      <td>Hard</td>\n",
       "      <td>32.0</td>\n",
       "      <td>A</td>\n",
       "      <td>2000-01-10</td>\n",
       "      <td>299</td>\n",
       "      <td>101704</td>\n",
       "      <td>101097</td>\n",
       "      <td>1</td>\n",
       "      <td>...</td>\n",
       "      <td>None</td>\n",
       "      <td>None</td>\n",
       "      <td>None</td>\n",
       "      <td>None</td>\n",
       "      <td>None</td>\n",
       "      <td>None</td>\n",
       "      <td>None</td>\n",
       "      <td>None</td>\n",
       "      <td>None</td>\n",
       "      <td>None</td>\n",
       "    </tr>\n",
       "    <tr>\n",
       "      <th>2</th>\n",
       "      <td>2000-301</td>\n",
       "      <td>Auckland</td>\n",
       "      <td>Hard</td>\n",
       "      <td>32.0</td>\n",
       "      <td>A</td>\n",
       "      <td>2000-01-10</td>\n",
       "      <td>298</td>\n",
       "      <td>101358</td>\n",
       "      <td>101543</td>\n",
       "      <td>2</td>\n",
       "      <td>...</td>\n",
       "      <td>None</td>\n",
       "      <td>None</td>\n",
       "      <td>None</td>\n",
       "      <td>None</td>\n",
       "      <td>None</td>\n",
       "      <td>None</td>\n",
       "      <td>None</td>\n",
       "      <td>None</td>\n",
       "      <td>None</td>\n",
       "      <td>None</td>\n",
       "    </tr>\n",
       "    <tr>\n",
       "      <th>3</th>\n",
       "      <td>2000-301</td>\n",
       "      <td>Auckland</td>\n",
       "      <td>Hard</td>\n",
       "      <td>32.0</td>\n",
       "      <td>A</td>\n",
       "      <td>2000-01-10</td>\n",
       "      <td>297</td>\n",
       "      <td>101704</td>\n",
       "      <td>101097</td>\n",
       "      <td>1</td>\n",
       "      <td>...</td>\n",
       "      <td>None</td>\n",
       "      <td>None</td>\n",
       "      <td>None</td>\n",
       "      <td>None</td>\n",
       "      <td>None</td>\n",
       "      <td>None</td>\n",
       "      <td>None</td>\n",
       "      <td>None</td>\n",
       "      <td>None</td>\n",
       "      <td>None</td>\n",
       "    </tr>\n",
       "    <tr>\n",
       "      <th>4</th>\n",
       "      <td>2000-301</td>\n",
       "      <td>Auckland</td>\n",
       "      <td>Hard</td>\n",
       "      <td>32.0</td>\n",
       "      <td>A</td>\n",
       "      <td>2000-01-10</td>\n",
       "      <td>296</td>\n",
       "      <td>101358</td>\n",
       "      <td>101543</td>\n",
       "      <td>2</td>\n",
       "      <td>...</td>\n",
       "      <td>None</td>\n",
       "      <td>None</td>\n",
       "      <td>None</td>\n",
       "      <td>None</td>\n",
       "      <td>None</td>\n",
       "      <td>None</td>\n",
       "      <td>None</td>\n",
       "      <td>None</td>\n",
       "      <td>None</td>\n",
       "      <td>None</td>\n",
       "    </tr>\n",
       "    <tr>\n",
       "      <th>...</th>\n",
       "      <td>...</td>\n",
       "      <td>...</td>\n",
       "      <td>...</td>\n",
       "      <td>...</td>\n",
       "      <td>...</td>\n",
       "      <td>...</td>\n",
       "      <td>...</td>\n",
       "      <td>...</td>\n",
       "      <td>...</td>\n",
       "      <td>...</td>\n",
       "      <td>...</td>\n",
       "      <td>...</td>\n",
       "      <td>...</td>\n",
       "      <td>...</td>\n",
       "      <td>...</td>\n",
       "      <td>...</td>\n",
       "      <td>...</td>\n",
       "      <td>...</td>\n",
       "      <td>...</td>\n",
       "      <td>...</td>\n",
       "      <td>...</td>\n",
       "    </tr>\n",
       "    <tr>\n",
       "      <th>26394</th>\n",
       "      <td>2020-M-DC-2020-WG2-PO-MAR-VIE-01</td>\n",
       "      <td>Davis Cup WG2 PO: MAR vs VIE</td>\n",
       "      <td>Clay</td>\n",
       "      <td>4.0</td>\n",
       "      <td>D</td>\n",
       "      <td>2020-03-06</td>\n",
       "      <td>3</td>\n",
       "      <td>104917</td>\n",
       "      <td>104467</td>\n",
       "      <td>None</td>\n",
       "      <td>...</td>\n",
       "      <td>None</td>\n",
       "      <td>None</td>\n",
       "      <td>None</td>\n",
       "      <td>None</td>\n",
       "      <td>None</td>\n",
       "      <td>None</td>\n",
       "      <td>None</td>\n",
       "      <td>None</td>\n",
       "      <td>None</td>\n",
       "      <td>None</td>\n",
       "    </tr>\n",
       "    <tr>\n",
       "      <th>26395</th>\n",
       "      <td>2020-M-DC-2020-WG2-PO-PAR-SRI-01</td>\n",
       "      <td>Davis Cup WG2 PO: PAR vs SRI</td>\n",
       "      <td>Clay</td>\n",
       "      <td>4.0</td>\n",
       "      <td>D</td>\n",
       "      <td>2020-03-06</td>\n",
       "      <td>3</td>\n",
       "      <td>134677</td>\n",
       "      <td>137018</td>\n",
       "      <td>None</td>\n",
       "      <td>...</td>\n",
       "      <td>None</td>\n",
       "      <td>None</td>\n",
       "      <td>None</td>\n",
       "      <td>None</td>\n",
       "      <td>None</td>\n",
       "      <td>None</td>\n",
       "      <td>None</td>\n",
       "      <td>None</td>\n",
       "      <td>None</td>\n",
       "      <td>None</td>\n",
       "    </tr>\n",
       "    <tr>\n",
       "      <th>26396</th>\n",
       "      <td>2020-M-DC-2020-WG2-PO-PHI-GRE-01</td>\n",
       "      <td>Davis Cup WG2 PO: PHI vs GRE</td>\n",
       "      <td>Clay</td>\n",
       "      <td>4.0</td>\n",
       "      <td>D</td>\n",
       "      <td>2020-03-06</td>\n",
       "      <td>3</td>\n",
       "      <td>108717</td>\n",
       "      <td>104604</td>\n",
       "      <td>None</td>\n",
       "      <td>...</td>\n",
       "      <td>None</td>\n",
       "      <td>None</td>\n",
       "      <td>None</td>\n",
       "      <td>None</td>\n",
       "      <td>None</td>\n",
       "      <td>None</td>\n",
       "      <td>None</td>\n",
       "      <td>None</td>\n",
       "      <td>None</td>\n",
       "      <td>None</td>\n",
       "    </tr>\n",
       "    <tr>\n",
       "      <th>26397</th>\n",
       "      <td>2020-M-DC-2020-WG2-PO-POL-HKG-01</td>\n",
       "      <td>Davis Cup WG2 PO: POL vs HKG</td>\n",
       "      <td>Hard</td>\n",
       "      <td>4.0</td>\n",
       "      <td>D</td>\n",
       "      <td>2020-03-06</td>\n",
       "      <td>3</td>\n",
       "      <td>126166</td>\n",
       "      <td>126591</td>\n",
       "      <td>None</td>\n",
       "      <td>...</td>\n",
       "      <td>None</td>\n",
       "      <td>None</td>\n",
       "      <td>None</td>\n",
       "      <td>None</td>\n",
       "      <td>None</td>\n",
       "      <td>None</td>\n",
       "      <td>None</td>\n",
       "      <td>None</td>\n",
       "      <td>None</td>\n",
       "      <td>None</td>\n",
       "    </tr>\n",
       "    <tr>\n",
       "      <th>26398</th>\n",
       "      <td>2020-M-DC-2020-WG2-PO-SYR-ZIM-01</td>\n",
       "      <td>Davis Cup WG2 PO: SYR vs ZIM</td>\n",
       "      <td>Hard</td>\n",
       "      <td>4.0</td>\n",
       "      <td>D</td>\n",
       "      <td>2020-03-06</td>\n",
       "      <td>3</td>\n",
       "      <td>111761</td>\n",
       "      <td>144747</td>\n",
       "      <td>None</td>\n",
       "      <td>...</td>\n",
       "      <td>None</td>\n",
       "      <td>None</td>\n",
       "      <td>None</td>\n",
       "      <td>None</td>\n",
       "      <td>None</td>\n",
       "      <td>None</td>\n",
       "      <td>None</td>\n",
       "      <td>None</td>\n",
       "      <td>None</td>\n",
       "      <td>None</td>\n",
       "    </tr>\n",
       "  </tbody>\n",
       "</table>\n",
       "<p>26399 rows × 65 columns</p>\n",
       "</div>"
      ],
      "text/plain": [
       "                             tourney_id                  tourney_name surface  \\\n",
       "0                              2000-301                      Auckland    Hard   \n",
       "1                              2000-301                      Auckland    Hard   \n",
       "2                              2000-301                      Auckland    Hard   \n",
       "3                              2000-301                      Auckland    Hard   \n",
       "4                              2000-301                      Auckland    Hard   \n",
       "...                                 ...                           ...     ...   \n",
       "26394  2020-M-DC-2020-WG2-PO-MAR-VIE-01  Davis Cup WG2 PO: MAR vs VIE    Clay   \n",
       "26395  2020-M-DC-2020-WG2-PO-PAR-SRI-01  Davis Cup WG2 PO: PAR vs SRI    Clay   \n",
       "26396  2020-M-DC-2020-WG2-PO-PHI-GRE-01  Davis Cup WG2 PO: PHI vs GRE    Clay   \n",
       "26397  2020-M-DC-2020-WG2-PO-POL-HKG-01  Davis Cup WG2 PO: POL vs HKG    Hard   \n",
       "26398  2020-M-DC-2020-WG2-PO-SYR-ZIM-01  Davis Cup WG2 PO: SYR vs ZIM    Hard   \n",
       "\n",
       "       draw_size tourney_level tourney_date  match_num winner1_id winner2_id  \\\n",
       "0           32.0             A   2000-01-10        300     101704     101097   \n",
       "1           32.0             A   2000-01-10        299     101704     101097   \n",
       "2           32.0             A   2000-01-10        298     101358     101543   \n",
       "3           32.0             A   2000-01-10        297     101704     101097   \n",
       "4           32.0             A   2000-01-10        296     101358     101543   \n",
       "...          ...           ...          ...        ...        ...        ...   \n",
       "26394        4.0             D   2020-03-06          3     104917     104467   \n",
       "26395        4.0             D   2020-03-06          3     134677     137018   \n",
       "26396        4.0             D   2020-03-06          3     108717     104604   \n",
       "26397        4.0             D   2020-03-06          3     126166     126591   \n",
       "26398        4.0             D   2020-03-06          3     111761     144747   \n",
       "\n",
       "      winner_seed  ... w_bpFaced l_ace  l_df l_svpt l_1stIn l_1stWon  \\\n",
       "0               1  ...      None  None  None   None    None     None   \n",
       "1               1  ...      None  None  None   None    None     None   \n",
       "2               2  ...      None  None  None   None    None     None   \n",
       "3               1  ...      None  None  None   None    None     None   \n",
       "4               2  ...      None  None  None   None    None     None   \n",
       "...           ...  ...       ...   ...   ...    ...     ...      ...   \n",
       "26394        None  ...      None  None  None   None    None     None   \n",
       "26395        None  ...      None  None  None   None    None     None   \n",
       "26396        None  ...      None  None  None   None    None     None   \n",
       "26397        None  ...      None  None  None   None    None     None   \n",
       "26398        None  ...      None  None  None   None    None     None   \n",
       "\n",
       "       l_2ndWon l_SvGms l_bpSaved l_bpFaced  \n",
       "0          None    None      None      None  \n",
       "1          None    None      None      None  \n",
       "2          None    None      None      None  \n",
       "3          None    None      None      None  \n",
       "4          None    None      None      None  \n",
       "...         ...     ...       ...       ...  \n",
       "26394      None    None      None      None  \n",
       "26395      None    None      None      None  \n",
       "26396      None    None      None      None  \n",
       "26397      None    None      None      None  \n",
       "26398      None    None      None      None  \n",
       "\n",
       "[26399 rows x 65 columns]"
      ]
     },
     "execution_count": 97,
     "metadata": {},
     "output_type": "execute_result"
    }
   ],
   "source": [
    "df3=pd.read_parquet(path3)\n",
    "df3"
   ]
  },
  {
   "cell_type": "markdown",
   "metadata": {},
   "source": [
    "---------------"
   ]
  },
  {
   "cell_type": "code",
   "execution_count": 98,
   "metadata": {},
   "outputs": [
    {
     "data": {
      "text/plain": [
       "tourney_id\n",
       "2007-540                            75\n",
       "2015-540                            75\n",
       "2009-540                            75\n",
       "2014-540                            75\n",
       "2008-540                            75\n",
       "                                    ..\n",
       "2020-M-DC-2020-QLS-M-BEL-HUN-01      1\n",
       "2020-M-DC-2020-QLS-M-AUT-URU-01      1\n",
       "2020-M-DC-2020-QLS-M-AUS-BRA-01      1\n",
       "2020-M-DC-2020-QLS-M-ARG-COL-01      1\n",
       "2020-M-DC-2020-WG2-PO-SYR-ZIM-01     1\n",
       "Name: count, Length: 1355, dtype: int64"
      ]
     },
     "execution_count": 98,
     "metadata": {},
     "output_type": "execute_result"
    }
   ],
   "source": [
    "df3['tourney_id'].value_counts(dropna=False)"
   ]
  },
  {
   "cell_type": "code",
   "execution_count": 99,
   "metadata": {},
   "outputs": [
    {
     "data": {
      "text/plain": [
       "0"
      ]
     },
     "execution_count": 99,
     "metadata": {},
     "output_type": "execute_result"
    }
   ],
   "source": [
    "df3['tourney_id'].isna().sum()"
   ]
  },
  {
   "cell_type": "markdown",
   "metadata": {},
   "source": [
    "----------------"
   ]
  },
  {
   "cell_type": "code",
   "execution_count": 100,
   "metadata": {},
   "outputs": [
    {
     "data": {
      "text/plain": [
       "tourney_name\n",
       "Wimbledon                       1370\n",
       "Australian Open                 1260\n",
       "Roland Garros                   1260\n",
       "US Open                         1133\n",
       "Miami Masters                    668\n",
       "                                ... \n",
       "Davis Cup QLS R1: BEL vs HUN       1\n",
       "Davis Cup QLS R1: AUT vs URU       1\n",
       "Davis Cup QLS R1: AUS vs BRA       1\n",
       "Davis Cup QLS R1: ARG vs COL       1\n",
       "Davis Cup WG2 PO: SYR vs ZIM       1\n",
       "Name: count, Length: 166, dtype: int64"
      ]
     },
     "execution_count": 100,
     "metadata": {},
     "output_type": "execute_result"
    }
   ],
   "source": [
    "df3['tourney_name'].value_counts(dropna=False)"
   ]
  },
  {
   "cell_type": "code",
   "execution_count": 101,
   "metadata": {},
   "outputs": [
    {
     "data": {
      "text/plain": [
       "0"
      ]
     },
     "execution_count": 101,
     "metadata": {},
     "output_type": "execute_result"
    }
   ],
   "source": [
    "df3['tourney_name'].isna().sum()"
   ]
  },
  {
   "cell_type": "markdown",
   "metadata": {},
   "source": [
    "---------------------"
   ]
  },
  {
   "cell_type": "code",
   "execution_count": 102,
   "metadata": {},
   "outputs": [
    {
     "data": {
      "text/plain": [
       "surface\n",
       "Hard      14092\n",
       "Clay       8590\n",
       "Grass      3183\n",
       "Carpet      534\n",
       "Name: count, dtype: int64"
      ]
     },
     "execution_count": 102,
     "metadata": {},
     "output_type": "execute_result"
    }
   ],
   "source": [
    "df3['surface'].value_counts(dropna=False)"
   ]
  },
  {
   "cell_type": "markdown",
   "metadata": {},
   "source": [
    "-------------"
   ]
  },
  {
   "cell_type": "code",
   "execution_count": 103,
   "metadata": {},
   "outputs": [
    {
     "data": {
      "text/plain": [
       "draw_size\n",
       "128    14455\n",
       "4       4800\n",
       "64      2836\n",
       "R       1582\n",
       "32      1247\n",
       "16        81\n",
       "Name: count, dtype: int64"
      ]
     },
     "execution_count": 103,
     "metadata": {},
     "output_type": "execute_result"
    }
   ],
   "source": [
    "df['draw_size'].value_counts(dropna=False)"
   ]
  },
  {
   "cell_type": "code",
   "execution_count": 104,
   "metadata": {},
   "outputs": [
    {
     "data": {
      "text/plain": [
       "0"
      ]
     },
     "execution_count": 104,
     "metadata": {},
     "output_type": "execute_result"
    }
   ],
   "source": [
    "df['draw_size'].isna().sum()"
   ]
  },
  {
   "cell_type": "markdown",
   "metadata": {},
   "source": [
    "---------------"
   ]
  },
  {
   "cell_type": "code",
   "execution_count": 105,
   "metadata": {},
   "outputs": [
    {
     "data": {
      "text/plain": [
       "tourney_level\n",
       "A    16383\n",
       "G     5148\n",
       "M     4612\n",
       "F      223\n",
       "D       33\n",
       "Name: count, dtype: int64"
      ]
     },
     "execution_count": 105,
     "metadata": {},
     "output_type": "execute_result"
    }
   ],
   "source": [
    "df3['tourney_level'].value_counts(dropna=False)"
   ]
  },
  {
   "cell_type": "markdown",
   "metadata": {},
   "source": [
    "-------------"
   ]
  },
  {
   "cell_type": "code",
   "execution_count": 106,
   "metadata": {},
   "outputs": [
    {
     "data": {
      "text/plain": [
       "tourney_date\n",
       "2014-06-23    75\n",
       "2007-06-25    75\n",
       "2013-06-24    75\n",
       "2008-06-23    75\n",
       "2016-06-27    75\n",
       "              ..\n",
       "2007-06-17    15\n",
       "2010-05-02    15\n",
       "2000-05-21    13\n",
       "2018-11-12    13\n",
       "2017-11-13    11\n",
       "Name: count, Length: 771, dtype: int64"
      ]
     },
     "execution_count": 106,
     "metadata": {},
     "output_type": "execute_result"
    }
   ],
   "source": [
    "df3['tourney_date'].value_counts(dropna=False)"
   ]
  },
  {
   "cell_type": "code",
   "execution_count": 107,
   "metadata": {},
   "outputs": [
    {
     "data": {
      "text/plain": [
       "0"
      ]
     },
     "execution_count": 107,
     "metadata": {},
     "output_type": "execute_result"
    }
   ],
   "source": [
    "df['tourney_date'].isna().sum()"
   ]
  },
  {
   "cell_type": "markdown",
   "metadata": {},
   "source": [
    "---------"
   ]
  },
  {
   "cell_type": "code",
   "execution_count": 108,
   "metadata": {},
   "outputs": [
    {
     "data": {
      "text/plain": [
       "match_num\n",
       "300    1057\n",
       "299    1057\n",
       "298    1057\n",
       "297    1057\n",
       "296    1057\n",
       "       ... \n",
       "304       1\n",
       "303       1\n",
       "302       1\n",
       "301       1\n",
       "307       1\n",
       "Name: count, Length: 255, dtype: int64"
      ]
     },
     "execution_count": 108,
     "metadata": {},
     "output_type": "execute_result"
    }
   ],
   "source": [
    "df3['match_num'].value_counts(dropna=False)"
   ]
  },
  {
   "cell_type": "code",
   "execution_count": 109,
   "metadata": {},
   "outputs": [
    {
     "data": {
      "text/plain": [
       "0"
      ]
     },
     "execution_count": 109,
     "metadata": {},
     "output_type": "execute_result"
    }
   ],
   "source": [
    "df3['match_num'].isna().sum()"
   ]
  },
  {
   "cell_type": "markdown",
   "metadata": {},
   "source": [
    "--------"
   ]
  },
  {
   "cell_type": "code",
   "execution_count": 110,
   "metadata": {},
   "outputs": [
    {
     "data": {
      "text/plain": [
       "winner1_id\n",
       "103184    1066\n",
       "102405     507\n",
       "101956     407\n",
       "102035     405\n",
       "102886     394\n",
       "          ... \n",
       "104594       1\n",
       "104361       1\n",
       "103225       1\n",
       "102021       1\n",
       "111761       1\n",
       "Name: count, Length: 870, dtype: int64"
      ]
     },
     "execution_count": 110,
     "metadata": {},
     "output_type": "execute_result"
    }
   ],
   "source": [
    "df3['winner1_id'].value_counts(dropna=False)"
   ]
  },
  {
   "cell_type": "code",
   "execution_count": 111,
   "metadata": {},
   "outputs": [
    {
     "data": {
      "text/plain": [
       "0"
      ]
     },
     "execution_count": 111,
     "metadata": {},
     "output_type": "execute_result"
    }
   ],
   "source": [
    "df3['winner1_id'].isna().sum()"
   ]
  },
  {
   "cell_type": "markdown",
   "metadata": {},
   "source": [
    "------------------------"
   ]
  },
  {
   "cell_type": "code",
   "execution_count": 112,
   "metadata": {},
   "outputs": [
    {
     "data": {
      "text/plain": [
       "winner2_id\n",
       "103185    1070\n",
       "102800     674\n",
       "102110     519\n",
       "103946     440\n",
       "103018     438\n",
       "          ... \n",
       "104230       1\n",
       "104695       1\n",
       "104203       1\n",
       "104598       1\n",
       "144747       1\n",
       "Name: count, Length: 852, dtype: int64"
      ]
     },
     "execution_count": 112,
     "metadata": {},
     "output_type": "execute_result"
    }
   ],
   "source": [
    "df3[\"winner2_id\"].value_counts(dropna=False)"
   ]
  },
  {
   "cell_type": "code",
   "execution_count": 113,
   "metadata": {},
   "outputs": [
    {
     "data": {
      "text/plain": [
       "0"
      ]
     },
     "execution_count": 113,
     "metadata": {},
     "output_type": "execute_result"
    }
   ],
   "source": [
    "df3[\"winner2_id\"].isna().sum()"
   ]
  },
  {
   "cell_type": "markdown",
   "metadata": {},
   "source": [
    "---------"
   ]
  },
  {
   "cell_type": "code",
   "execution_count": 114,
   "metadata": {},
   "outputs": [
    {
     "data": {
      "text/plain": [
       "winner_seed\n",
       "None    14787\n",
       "1        2661\n",
       "2        2317\n",
       "3        1944\n",
       "4        1797\n",
       "5         531\n",
       "6         510\n",
       "7         430\n",
       "8         422\n",
       "9         153\n",
       "11        145\n",
       "12        134\n",
       "14        120\n",
       "15        116\n",
       "10        114\n",
       "13        108\n",
       "16        105\n",
       "17          5\n",
       "Name: count, dtype: int64"
      ]
     },
     "execution_count": 114,
     "metadata": {},
     "output_type": "execute_result"
    }
   ],
   "source": [
    "df3['winner_seed'].value_counts(dropna=False)"
   ]
  },
  {
   "cell_type": "code",
   "execution_count": 115,
   "metadata": {},
   "outputs": [],
   "source": [
    "#la colonna winner_seed è composta dal 56% da valori nan"
   ]
  },
  {
   "cell_type": "markdown",
   "metadata": {},
   "source": [
    "---------------"
   ]
  },
  {
   "cell_type": "code",
   "execution_count": 116,
   "metadata": {},
   "outputs": [
    {
     "data": {
      "text/plain": [
       "winner_entry\n",
       "None     24287\n",
       "WC        1599\n",
       "AL         202\n",
       "PR         131\n",
       "S           79\n",
       "LL          49\n",
       "Alt         38\n",
       "4 WC         4\n",
       "1 AL         4\n",
       "4 Q          2\n",
       "2 PR         2\n",
       "2 AL         1\n",
       "10 WC        1\n",
       "Name: count, dtype: int64"
      ]
     },
     "execution_count": 116,
     "metadata": {},
     "output_type": "execute_result"
    }
   ],
   "source": [
    "df3['winner_entry'].value_counts(dropna=False)"
   ]
  },
  {
   "cell_type": "code",
   "execution_count": 117,
   "metadata": {},
   "outputs": [],
   "source": [
    "#la colonna winner_entry è composta dal 91% da valori nan"
   ]
  },
  {
   "cell_type": "markdown",
   "metadata": {},
   "source": [
    "------------"
   ]
  },
  {
   "cell_type": "code",
   "execution_count": 118,
   "metadata": {},
   "outputs": [
    {
     "data": {
      "text/plain": [
       "loser1_id\n",
       "103184    318\n",
       "103586    301\n",
       "102886    300\n",
       "102405    293\n",
       "102388    283\n",
       "         ... \n",
       "101414      1\n",
       "102411      1\n",
       "103751      1\n",
       "102136      1\n",
       "200153      1\n",
       "Name: count, Length: 1330, dtype: int64"
      ]
     },
     "execution_count": 118,
     "metadata": {},
     "output_type": "execute_result"
    }
   ],
   "source": [
    "df3['loser1_id'].value_counts(dropna=False)"
   ]
  },
  {
   "cell_type": "code",
   "execution_count": 119,
   "metadata": {},
   "outputs": [
    {
     "data": {
      "text/plain": [
       "0"
      ]
     },
     "execution_count": 119,
     "metadata": {},
     "output_type": "execute_result"
    }
   ],
   "source": [
    "df3['loser1_id'].isna().sum()"
   ]
  },
  {
   "cell_type": "markdown",
   "metadata": {},
   "source": [
    "----------------"
   ]
  },
  {
   "cell_type": "code",
   "execution_count": 120,
   "metadata": {},
   "outputs": [
    {
     "data": {
      "text/plain": [
       "loser2_id\n",
       "102800    392\n",
       "103185    318\n",
       "103690    309\n",
       "104486    250\n",
       "103946    250\n",
       "         ... \n",
       "104970      1\n",
       "103136      1\n",
       "105953      1\n",
       "110462      1\n",
       "208518      1\n",
       "Name: count, Length: 1332, dtype: int64"
      ]
     },
     "execution_count": 120,
     "metadata": {},
     "output_type": "execute_result"
    }
   ],
   "source": [
    "df3['loser2_id'].value_counts(dropna=False)"
   ]
  },
  {
   "cell_type": "code",
   "execution_count": 121,
   "metadata": {},
   "outputs": [
    {
     "data": {
      "text/plain": [
       "6"
      ]
     },
     "execution_count": 121,
     "metadata": {},
     "output_type": "execute_result"
    }
   ],
   "source": [
    "df3['loser2_id'].isna().sum()"
   ]
  },
  {
   "cell_type": "code",
   "execution_count": 122,
   "metadata": {},
   "outputs": [],
   "source": [
    "#la colonna 'loser2_id' è formata dallo 0,02% da valori nan"
   ]
  },
  {
   "cell_type": "markdown",
   "metadata": {},
   "source": [
    "------------"
   ]
  },
  {
   "cell_type": "code",
   "execution_count": 123,
   "metadata": {},
   "outputs": [
    {
     "data": {
      "text/plain": [
       "loser_seed\n",
       "None    19900\n",
       "4        1196\n",
       "3        1168\n",
       "2        1156\n",
       "1        1052\n",
       "8         322\n",
       "5         321\n",
       "7         321\n",
       "6         315\n",
       "15         82\n",
       "13         82\n",
       "9          82\n",
       "16         81\n",
       "10         80\n",
       "11         80\n",
       "14         79\n",
       "12         79\n",
       "17          3\n",
       "Name: count, dtype: int64"
      ]
     },
     "execution_count": 123,
     "metadata": {},
     "output_type": "execute_result"
    }
   ],
   "source": [
    "df3[ 'loser_seed'].value_counts(dropna=False)"
   ]
  },
  {
   "cell_type": "code",
   "execution_count": 124,
   "metadata": {},
   "outputs": [],
   "source": [
    "#la colonna loser_seed è composta dal 75% da valori nan"
   ]
  },
  {
   "cell_type": "markdown",
   "metadata": {},
   "source": [
    "-------------"
   ]
  },
  {
   "cell_type": "code",
   "execution_count": 125,
   "metadata": {},
   "outputs": [
    {
     "data": {
      "text/plain": [
       "loser_entry\n",
       "None     22394\n",
       "WC        3086\n",
       "AL         425\n",
       "PR         153\n",
       "S          134\n",
       "LL         100\n",
       "Alt         96\n",
       "1 AL         2\n",
       "3 AL         1\n",
       "10 WC        1\n",
       "11 WC        1\n",
       "2 WC         1\n",
       "2 AL         1\n",
       "1 WC         1\n",
       "4 AL         1\n",
       "4 Q          1\n",
       "I            1\n",
       "Name: count, dtype: int64"
      ]
     },
     "execution_count": 125,
     "metadata": {},
     "output_type": "execute_result"
    }
   ],
   "source": [
    "df3['loser_entry'].value_counts(dropna=False)"
   ]
  },
  {
   "cell_type": "code",
   "execution_count": 126,
   "metadata": {},
   "outputs": [],
   "source": [
    "#la colonna loser_entry è composta dal 84% di valori nan"
   ]
  },
  {
   "cell_type": "markdown",
   "metadata": {},
   "source": [
    "------------"
   ]
  },
  {
   "cell_type": "code",
   "execution_count": 127,
   "metadata": {},
   "outputs": [
    {
     "data": {
      "text/plain": [
       "score\n",
       "6-3 6-4                1274\n",
       "6-4 6-4                1109\n",
       "6-3 6-2                 678\n",
       "None                    611\n",
       "6-4 6-3                 579\n",
       "                       ... \n",
       "6-4 6-4 5-7 6-7 1-6       1\n",
       "7-6 7-6 6-7 5-7 7-5       1\n",
       "4-6 6-3 6-4 6-7 8-6       1\n",
       "7-6 6-4 3-6 4-6 6-2       1\n",
       "6-3 6-7(6) 6-3            1\n",
       "Name: count, Length: 3594, dtype: int64"
      ]
     },
     "execution_count": 127,
     "metadata": {},
     "output_type": "execute_result"
    }
   ],
   "source": [
    "df3['score'].value_counts(dropna=False)"
   ]
  },
  {
   "cell_type": "code",
   "execution_count": 128,
   "metadata": {},
   "outputs": [],
   "source": [
    "#la colonna score è composta dal 2,3% di valori nan"
   ]
  },
  {
   "cell_type": "markdown",
   "metadata": {},
   "source": [
    "------------"
   ]
  },
  {
   "cell_type": "code",
   "execution_count": 129,
   "metadata": {},
   "outputs": [
    {
     "data": {
      "text/plain": [
       "best_of\n",
       "3    25902\n",
       "5      497\n",
       "Name: count, dtype: int64"
      ]
     },
     "execution_count": 129,
     "metadata": {},
     "output_type": "execute_result"
    }
   ],
   "source": [
    "df3['best_of'].value_counts(dropna=False)"
   ]
  },
  {
   "cell_type": "markdown",
   "metadata": {},
   "source": [
    "----------"
   ]
  },
  {
   "cell_type": "code",
   "execution_count": 130,
   "metadata": {},
   "outputs": [
    {
     "data": {
      "text/plain": [
       "round\n",
       "R16     9251\n",
       "QF      5196\n",
       "R32     4449\n",
       "R64     2860\n",
       "SF      2617\n",
       "F       1321\n",
       "RR       375\n",
       "Q1       174\n",
       "Q2        87\n",
       "R128      64\n",
       "BR         5\n",
       "Name: count, dtype: int64"
      ]
     },
     "execution_count": 130,
     "metadata": {},
     "output_type": "execute_result"
    }
   ],
   "source": [
    "df3['round'].value_counts(dropna=False)"
   ]
  },
  {
   "cell_type": "markdown",
   "metadata": {},
   "source": [
    "---------------"
   ]
  },
  {
   "cell_type": "code",
   "execution_count": 131,
   "metadata": {},
   "outputs": [
    {
     "data": {
      "text/plain": [
       "winner1_name\n",
       "Bob Bryan            1066\n",
       "Mahesh Bhupathi       507\n",
       "Mark Knowles          407\n",
       "Jonas Bjorkman        405\n",
       "Frantisek Cermak      394\n",
       "                     ... \n",
       "Marinko Matosevic       1\n",
       "Michel Koning           1\n",
       "Simon Larose            1\n",
       "Michael Chang           1\n",
       "Benjamin Lock           1\n",
       "Name: count, Length: 870, dtype: int64"
      ]
     },
     "execution_count": 131,
     "metadata": {},
     "output_type": "execute_result"
    }
   ],
   "source": [
    "df3['winner1_name'].value_counts(dropna=False)"
   ]
  },
  {
   "cell_type": "code",
   "execution_count": 132,
   "metadata": {},
   "outputs": [
    {
     "data": {
      "text/plain": [
       "0"
      ]
     },
     "execution_count": 132,
     "metadata": {},
     "output_type": "execute_result"
    }
   ],
   "source": [
    "df3['winner1_name'].isna().sum()"
   ]
  },
  {
   "cell_type": "markdown",
   "metadata": {},
   "source": [
    "-------"
   ]
  },
  {
   "cell_type": "code",
   "execution_count": 133,
   "metadata": {},
   "outputs": [
    {
     "data": {
      "text/plain": [
       "winner1_hand\n",
       "R    20885\n",
       "L     5416\n",
       "U       98\n",
       "Name: count, dtype: int64"
      ]
     },
     "execution_count": 133,
     "metadata": {},
     "output_type": "execute_result"
    }
   ],
   "source": [
    "df3['winner1_hand'].value_counts(dropna=False)"
   ]
  },
  {
   "cell_type": "markdown",
   "metadata": {},
   "source": [
    "-----------------------"
   ]
  },
  {
   "cell_type": "code",
   "execution_count": 134,
   "metadata": {},
   "outputs": [
    {
     "data": {
      "text/plain": [
       "winner1_ht\n",
       "190.0    4942\n",
       "188.0    3283\n",
       "185.0    3263\n",
       "183.0    3209\n",
       "193.0    2605\n",
       "NaN      2575\n",
       "180.0    2285\n",
       "178.0    1222\n",
       "196.0     854\n",
       "175.0     685\n",
       "173.0     477\n",
       "203.0     255\n",
       "170.0     241\n",
       "198.0     220\n",
       "206.0      93\n",
       "201.0      89\n",
       "208.0      55\n",
       "181.0      14\n",
       "168.0      13\n",
       "163.0       9\n",
       "172.0       9\n",
       "194.0       1\n",
       "Name: count, dtype: int64"
      ]
     },
     "execution_count": 134,
     "metadata": {},
     "output_type": "execute_result"
    }
   ],
   "source": [
    "df3['winner1_ht'].value_counts(dropna=False)"
   ]
  },
  {
   "cell_type": "code",
   "execution_count": 135,
   "metadata": {},
   "outputs": [],
   "source": [
    "#la colonna winner1_ht è composta per il 9,7% da valori nan"
   ]
  },
  {
   "cell_type": "markdown",
   "metadata": {},
   "source": [
    "---------------------"
   ]
  },
  {
   "cell_type": "code",
   "execution_count": 136,
   "metadata": {},
   "outputs": [
    {
     "data": {
      "text/plain": [
       "winner1_ioc\n",
       "USA    3267\n",
       "CZE    1784\n",
       "FRA    1552\n",
       "ESP    1503\n",
       "AUS    1466\n",
       "       ... \n",
       "KUW       1\n",
       "VIE       1\n",
       "NOR       1\n",
       "EST       1\n",
       "INA       1\n",
       "Name: count, Length: 80, dtype: int64"
      ]
     },
     "execution_count": 136,
     "metadata": {},
     "output_type": "execute_result"
    }
   ],
   "source": [
    "df3['winner1_ioc'].value_counts(dropna=False)"
   ]
  },
  {
   "cell_type": "code",
   "execution_count": 137,
   "metadata": {},
   "outputs": [
    {
     "data": {
      "text/plain": [
       "0"
      ]
     },
     "execution_count": 137,
     "metadata": {},
     "output_type": "execute_result"
    }
   ],
   "source": [
    "df3['winner1_ioc'].isna().sum()"
   ]
  },
  {
   "cell_type": "markdown",
   "metadata": {},
   "source": [
    "-----------"
   ]
  },
  {
   "cell_type": "code",
   "execution_count": 138,
   "metadata": {},
   "outputs": [
    {
     "data": {
      "text/plain": [
       "winner1_age\n",
       "29.155373    26\n",
       "26.392882    26\n",
       "30.726899    22\n",
       "28.662560    21\n",
       "28.988364    20\n",
       "             ..\n",
       "37.930185     1\n",
       "33.722108     1\n",
       "28.136893     1\n",
       "35.277207     1\n",
       "23.887748     1\n",
       "Name: count, Length: 5895, dtype: int64"
      ]
     },
     "execution_count": 138,
     "metadata": {},
     "output_type": "execute_result"
    }
   ],
   "source": [
    "df3['winner1_age'].value_counts(dropna=False)"
   ]
  },
  {
   "cell_type": "code",
   "execution_count": 139,
   "metadata": {},
   "outputs": [
    {
     "data": {
      "text/plain": [
       "5"
      ]
     },
     "execution_count": 139,
     "metadata": {},
     "output_type": "execute_result"
    }
   ],
   "source": [
    "df3['winner1_age'].isna().sum()"
   ]
  },
  {
   "cell_type": "code",
   "execution_count": 140,
   "metadata": {},
   "outputs": [],
   "source": [
    "# winner1_age_prova=df3['winner1_age']\n",
    "# winner1_age_prova=[round(num) if not np.isnan(num) else np.nan \n",
    "#     for num in winner1_age_prova\n",
    "# ]\n",
    "# winner1_age_prova"
   ]
  },
  {
   "cell_type": "code",
   "execution_count": 141,
   "metadata": {},
   "outputs": [],
   "source": [
    "# df3['winner1_age']=winner1_age_prova\n",
    "# df3['winner1_age'].value_counts(dropna=False)"
   ]
  },
  {
   "cell_type": "code",
   "execution_count": 142,
   "metadata": {},
   "outputs": [],
   "source": [
    "# la colonna 'winner1_age' è composta dallo 0,01% da valori nan"
   ]
  },
  {
   "cell_type": "markdown",
   "metadata": {},
   "source": [
    "-------------------------"
   ]
  },
  {
   "cell_type": "code",
   "execution_count": 143,
   "metadata": {},
   "outputs": [
    {
     "data": {
      "text/plain": [
       "winner2_name\n",
       "Mike Bryan            1070\n",
       "Nenad Zimonjic         674\n",
       "Daniel Nestor          519\n",
       "Bruno Soares           440\n",
       "Max Mirnyi             438\n",
       "                      ... \n",
       "Daniel Koellerer         1\n",
       "Fritz Wolmarans          1\n",
       "Darko Madjarovski        1\n",
       "David Savic              1\n",
       "Courtney John Lock       1\n",
       "Name: count, Length: 852, dtype: int64"
      ]
     },
     "execution_count": 143,
     "metadata": {},
     "output_type": "execute_result"
    }
   ],
   "source": [
    "df3['winner2_name'].value_counts(dropna=False)"
   ]
  },
  {
   "cell_type": "code",
   "execution_count": 144,
   "metadata": {},
   "outputs": [
    {
     "data": {
      "text/plain": [
       "0"
      ]
     },
     "execution_count": 144,
     "metadata": {},
     "output_type": "execute_result"
    }
   ],
   "source": [
    "df3['winner2_name'].isna().sum()"
   ]
  },
  {
   "cell_type": "markdown",
   "metadata": {},
   "source": [
    "-----------------"
   ]
  },
  {
   "cell_type": "code",
   "execution_count": 145,
   "metadata": {},
   "outputs": [
    {
     "data": {
      "text/plain": [
       "winner2_hand\n",
       "R    22465\n",
       "L     3724\n",
       "U      210\n",
       "Name: count, dtype: int64"
      ]
     },
     "execution_count": 145,
     "metadata": {},
     "output_type": "execute_result"
    }
   ],
   "source": [
    "df3['winner2_hand'].value_counts(dropna=False)"
   ]
  },
  {
   "cell_type": "markdown",
   "metadata": {},
   "source": [
    "---------------"
   ]
  },
  {
   "cell_type": "code",
   "execution_count": 146,
   "metadata": {},
   "outputs": [
    {
     "data": {
      "text/plain": [
       "winner2_ht\n",
       "190.0    4644\n",
       "183.0    3094\n",
       "NaN      3074\n",
       "185.0    2875\n",
       "180.0    2752\n",
       "188.0    2709\n",
       "193.0    2178\n",
       "178.0    2067\n",
       "196.0    1065\n",
       "175.0     730\n",
       "203.0     461\n",
       "198.0     313\n",
       "173.0     178\n",
       "168.0      74\n",
       "170.0      63\n",
       "201.0      40\n",
       "208.0      33\n",
       "206.0      22\n",
       "194.0      16\n",
       "181.0       4\n",
       "163.0       4\n",
       "172.0       3\n",
       "Name: count, dtype: int64"
      ]
     },
     "execution_count": 146,
     "metadata": {},
     "output_type": "execute_result"
    }
   ],
   "source": [
    "df3['winner2_ht'].value_counts(dropna=False)"
   ]
  },
  {
   "cell_type": "code",
   "execution_count": 147,
   "metadata": {},
   "outputs": [],
   "source": [
    "#la colonna winner2_ht è composta dal 11% di valori nan"
   ]
  },
  {
   "cell_type": "markdown",
   "metadata": {},
   "source": [
    "--------------"
   ]
  },
  {
   "cell_type": "code",
   "execution_count": 148,
   "metadata": {},
   "outputs": [
    {
     "data": {
      "text/plain": [
       "winner2_ioc\n",
       "USA    3430\n",
       "AUS    1844\n",
       "CZE    1719\n",
       "ESP    1477\n",
       "FRA    1441\n",
       "       ... \n",
       "LIB       1\n",
       "EST       1\n",
       "LVA       1\n",
       "ALG       1\n",
       "PAR       1\n",
       "Name: count, Length: 75, dtype: int64"
      ]
     },
     "execution_count": 148,
     "metadata": {},
     "output_type": "execute_result"
    }
   ],
   "source": [
    "df3['winner2_ioc'].value_counts(dropna=False)"
   ]
  },
  {
   "cell_type": "code",
   "execution_count": 149,
   "metadata": {},
   "outputs": [
    {
     "data": {
      "text/plain": [
       "0"
      ]
     },
     "execution_count": 149,
     "metadata": {},
     "output_type": "execute_result"
    }
   ],
   "source": [
    "df3['winner2_ioc'].isna().sum()"
   ]
  },
  {
   "cell_type": "markdown",
   "metadata": {},
   "source": [
    "-------------"
   ]
  },
  {
   "cell_type": "code",
   "execution_count": 150,
   "metadata": {},
   "outputs": [
    {
     "data": {
      "text/plain": [
       "winner2_age\n",
       "30.324435    26\n",
       "30.822724    23\n",
       "31.244353    23\n",
       "28.607803    22\n",
       "32.240931    21\n",
       "             ..\n",
       "36.547570     1\n",
       "34.447639     1\n",
       "23.337440     1\n",
       "29.453799     1\n",
       "23.370294     1\n",
       "Name: count, Length: 5837, dtype: int64"
      ]
     },
     "execution_count": 150,
     "metadata": {},
     "output_type": "execute_result"
    }
   ],
   "source": [
    "df3['winner2_age'].value_counts(dropna=False)"
   ]
  },
  {
   "cell_type": "code",
   "execution_count": 151,
   "metadata": {},
   "outputs": [
    {
     "data": {
      "text/plain": [
       "0"
      ]
     },
     "execution_count": 151,
     "metadata": {},
     "output_type": "execute_result"
    }
   ],
   "source": [
    "df3['winner2_age'].isna().sum()"
   ]
  },
  {
   "cell_type": "code",
   "execution_count": 152,
   "metadata": {},
   "outputs": [],
   "source": [
    "# winner2_age_prova=df3['winner2_age']\n",
    "# winner2_age_prova=[round(num) if not np.isnan(num) else np.nan \n",
    "#     for num in winner2_age_prova\n",
    "# ]\n",
    "# winner2_age_prova"
   ]
  },
  {
   "cell_type": "code",
   "execution_count": 153,
   "metadata": {},
   "outputs": [],
   "source": [
    "# df3['winner2_age']=winner2_age_prova\n",
    "# df3['winner2_age'].value_counts(dropna=False)"
   ]
  },
  {
   "cell_type": "markdown",
   "metadata": {},
   "source": [
    "---------------"
   ]
  },
  {
   "cell_type": "code",
   "execution_count": 154,
   "metadata": {},
   "outputs": [
    {
     "data": {
      "text/plain": [
       "loser1_name\n",
       "Bob Bryan              318\n",
       "Mariusz Fyrstenberg    301\n",
       "Frantisek Cermak       300\n",
       "Mahesh Bhupathi        293\n",
       "Simon Aspelin          283\n",
       "                      ... \n",
       "Farrukh Dustov           1\n",
       "Didac Perez              1\n",
       "Johan Settergren         1\n",
       "Sanam Singh              1\n",
       "Yacoub Makzoume          1\n",
       "Name: count, Length: 1326, dtype: int64"
      ]
     },
     "execution_count": 154,
     "metadata": {},
     "output_type": "execute_result"
    }
   ],
   "source": [
    "df3['loser1_name'].value_counts(dropna=False)"
   ]
  },
  {
   "cell_type": "code",
   "execution_count": 155,
   "metadata": {},
   "outputs": [
    {
     "data": {
      "text/plain": [
       "5"
      ]
     },
     "execution_count": 155,
     "metadata": {},
     "output_type": "execute_result"
    }
   ],
   "source": [
    "df3['loser1_name'].isna().sum()"
   ]
  },
  {
   "cell_type": "code",
   "execution_count": 156,
   "metadata": {},
   "outputs": [],
   "source": [
    "# la colonna 'loser1_name' è composta dallo 0,01% da valori nan"
   ]
  },
  {
   "cell_type": "markdown",
   "metadata": {},
   "source": [
    "------------"
   ]
  },
  {
   "cell_type": "code",
   "execution_count": 157,
   "metadata": {},
   "outputs": [
    {
     "data": {
      "text/plain": [
       "loser1_hand\n",
       "R       21586\n",
       "L        4497\n",
       "U         308\n",
       "None        8\n",
       "Name: count, dtype: int64"
      ]
     },
     "execution_count": 157,
     "metadata": {},
     "output_type": "execute_result"
    }
   ],
   "source": [
    "df3['loser1_hand'].value_counts(dropna=False)"
   ]
  },
  {
   "cell_type": "code",
   "execution_count": 158,
   "metadata": {},
   "outputs": [],
   "source": [
    "#la colonna 'loser1_hand' è composta dallo 0,03% da valori nan"
   ]
  },
  {
   "cell_type": "markdown",
   "metadata": {},
   "source": [
    "-----------"
   ]
  },
  {
   "cell_type": "code",
   "execution_count": 159,
   "metadata": {},
   "outputs": [
    {
     "data": {
      "text/plain": [
       "loser1_ht\n",
       "190.0    3848\n",
       "188.0    3378\n",
       "NaN      3375\n",
       "185.0    3308\n",
       "183.0    3245\n",
       "180.0    2616\n",
       "193.0    1922\n",
       "178.0    1479\n",
       "175.0     848\n",
       "196.0     802\n",
       "173.0     559\n",
       "198.0     255\n",
       "203.0     229\n",
       "170.0     192\n",
       "201.0      85\n",
       "206.0      84\n",
       "208.0      65\n",
       "181.0      34\n",
       "168.0      23\n",
       "172.0      20\n",
       "163.0      16\n",
       "194.0      14\n",
       "0.0         1\n",
       "191.0       1\n",
       "Name: count, dtype: int64"
      ]
     },
     "execution_count": 159,
     "metadata": {},
     "output_type": "execute_result"
    }
   ],
   "source": [
    "df3['loser1_ht'].value_counts(dropna=False)"
   ]
  },
  {
   "cell_type": "code",
   "execution_count": 160,
   "metadata": {},
   "outputs": [
    {
     "data": {
      "text/plain": [
       "3375"
      ]
     },
     "execution_count": 160,
     "metadata": {},
     "output_type": "execute_result"
    }
   ],
   "source": [
    "df3['loser1_ht'].isna().sum()"
   ]
  },
  {
   "cell_type": "code",
   "execution_count": 161,
   "metadata": {},
   "outputs": [],
   "source": [
    "#la colonna loser1_htè composta dal 12% di valori nan"
   ]
  },
  {
   "cell_type": "markdown",
   "metadata": {},
   "source": [
    "--------------"
   ]
  },
  {
   "cell_type": "code",
   "execution_count": 162,
   "metadata": {},
   "outputs": [
    {
     "data": {
      "text/plain": [
       "loser1_ioc\n",
       "USA    2791\n",
       "ESP    1842\n",
       "CZE    1651\n",
       "ARG    1580\n",
       "FRA    1551\n",
       "       ... \n",
       "LIB       1\n",
       "GUA       1\n",
       "KEN       1\n",
       "SRI       1\n",
       "SYR       1\n",
       "Name: count, Length: 90, dtype: int64"
      ]
     },
     "execution_count": 162,
     "metadata": {},
     "output_type": "execute_result"
    }
   ],
   "source": [
    "df3['loser1_ioc'].value_counts(dropna=False)"
   ]
  },
  {
   "cell_type": "code",
   "execution_count": 163,
   "metadata": {},
   "outputs": [
    {
     "data": {
      "text/plain": [
       "5"
      ]
     },
     "execution_count": 163,
     "metadata": {},
     "output_type": "execute_result"
    }
   ],
   "source": [
    "df3['loser1_ioc'].isna().sum()"
   ]
  },
  {
   "cell_type": "code",
   "execution_count": 164,
   "metadata": {},
   "outputs": [],
   "source": [
    "# la colonna 'loser1_name' è composta dallo 0,01% da valori nan"
   ]
  },
  {
   "cell_type": "markdown",
   "metadata": {},
   "source": [
    "----------"
   ]
  },
  {
   "cell_type": "code",
   "execution_count": 165,
   "metadata": {},
   "outputs": [
    {
     "data": {
      "text/plain": [
       "loser1_age\n",
       "28.873374    18\n",
       "NaN          18\n",
       "28.930869    17\n",
       "28.988364    16\n",
       "28.662560    15\n",
       "             ..\n",
       "17.618070     1\n",
       "32.843258     1\n",
       "35.570157     1\n",
       "18.488706     1\n",
       "37.497604     1\n",
       "Name: count, Length: 7224, dtype: int64"
      ]
     },
     "execution_count": 165,
     "metadata": {},
     "output_type": "execute_result"
    }
   ],
   "source": [
    "df3['loser1_age'].value_counts(dropna=False)"
   ]
  },
  {
   "cell_type": "code",
   "execution_count": 166,
   "metadata": {},
   "outputs": [
    {
     "data": {
      "text/plain": [
       "18"
      ]
     },
     "execution_count": 166,
     "metadata": {},
     "output_type": "execute_result"
    }
   ],
   "source": [
    "df3['loser1_age'].isna().sum()"
   ]
  },
  {
   "cell_type": "code",
   "execution_count": 167,
   "metadata": {},
   "outputs": [],
   "source": [
    "# loser1_age_prova=df3['loser1_age']\n",
    "# loser1_age_prova=[round(num) if not np.isnan(num) else np.nan \n",
    "#     for num in loser1_age_prova\n",
    "# ]\n",
    "# loser1_age_prova"
   ]
  },
  {
   "cell_type": "code",
   "execution_count": 168,
   "metadata": {},
   "outputs": [],
   "source": [
    "# df3['loser1_age']=loser1_age_prova\n",
    "# df3['loser1_age'].value_counts(dropna=False)"
   ]
  },
  {
   "cell_type": "code",
   "execution_count": 169,
   "metadata": {},
   "outputs": [],
   "source": [
    "#la colonna loser1_age è composta dal 0,06% da valori nan"
   ]
  },
  {
   "cell_type": "markdown",
   "metadata": {},
   "source": [
    "----------"
   ]
  },
  {
   "cell_type": "code",
   "execution_count": 170,
   "metadata": {},
   "outputs": [
    {
     "data": {
      "text/plain": [
       "loser2_name\n",
       "Nenad Zimonjic      392\n",
       "Mike Bryan          318\n",
       "Marcin Matkowski    309\n",
       "Horia Tecau         250\n",
       "Bruno Soares        250\n",
       "                   ... \n",
       "Dane Propoggia        1\n",
       "Manuel Jorquera       1\n",
       "Nader Mohammed        1\n",
       "Pedro Zerbini         1\n",
       "Hazem Naw             1\n",
       "Name: count, Length: 1326, dtype: int64"
      ]
     },
     "execution_count": 170,
     "metadata": {},
     "output_type": "execute_result"
    }
   ],
   "source": [
    "df3['loser2_name'].value_counts(dropna=False)"
   ]
  },
  {
   "cell_type": "code",
   "execution_count": 171,
   "metadata": {},
   "outputs": [
    {
     "data": {
      "text/plain": [
       "12"
      ]
     },
     "execution_count": 171,
     "metadata": {},
     "output_type": "execute_result"
    }
   ],
   "source": [
    "df3['loser2_name'].isna().sum()"
   ]
  },
  {
   "cell_type": "code",
   "execution_count": 172,
   "metadata": {},
   "outputs": [],
   "source": [
    "#la colonna loser2_name' è composta dal 0,04% di valori nan"
   ]
  },
  {
   "cell_type": "markdown",
   "metadata": {},
   "source": [
    "-------------"
   ]
  },
  {
   "cell_type": "code",
   "execution_count": 173,
   "metadata": {},
   "outputs": [
    {
     "data": {
      "text/plain": [
       "loser2_hand\n",
       "R       22384\n",
       "L        3616\n",
       "U         386\n",
       "None       13\n",
       "Name: count, dtype: int64"
      ]
     },
     "execution_count": 173,
     "metadata": {},
     "output_type": "execute_result"
    }
   ],
   "source": [
    "df3['loser2_hand'].value_counts(dropna=False)"
   ]
  },
  {
   "cell_type": "code",
   "execution_count": 174,
   "metadata": {},
   "outputs": [
    {
     "data": {
      "text/plain": [
       "13"
      ]
     },
     "execution_count": 174,
     "metadata": {},
     "output_type": "execute_result"
    }
   ],
   "source": [
    "df3['loser2_hand'].isna().sum()"
   ]
  },
  {
   "cell_type": "code",
   "execution_count": 175,
   "metadata": {},
   "outputs": [],
   "source": [
    "#la colonna loser2_hand è composta dal 0,05% di valori nan"
   ]
  },
  {
   "cell_type": "markdown",
   "metadata": {},
   "source": [
    "-----"
   ]
  },
  {
   "cell_type": "code",
   "execution_count": 176,
   "metadata": {},
   "outputs": [
    {
     "data": {
      "text/plain": [
       "loser2_ht\n",
       "NaN      3831\n",
       "183.0    3626\n",
       "190.0    3415\n",
       "185.0    3128\n",
       "188.0    2856\n",
       "180.0    2720\n",
       "193.0    2116\n",
       "178.0    1498\n",
       "175.0     956\n",
       "196.0     913\n",
       "198.0     383\n",
       "203.0     302\n",
       "173.0     276\n",
       "170.0     107\n",
       "168.0      88\n",
       "201.0      52\n",
       "208.0      38\n",
       "194.0      34\n",
       "206.0      26\n",
       "172.0      22\n",
       "163.0       8\n",
       "181.0       4\n",
       "Name: count, dtype: int64"
      ]
     },
     "execution_count": 176,
     "metadata": {},
     "output_type": "execute_result"
    }
   ],
   "source": [
    "df3['loser2_ht'].value_counts(dropna=False)"
   ]
  },
  {
   "cell_type": "code",
   "execution_count": 177,
   "metadata": {},
   "outputs": [
    {
     "data": {
      "text/plain": [
       "3831"
      ]
     },
     "execution_count": 177,
     "metadata": {},
     "output_type": "execute_result"
    }
   ],
   "source": [
    "df3['loser2_ht'].isna().sum()"
   ]
  },
  {
   "cell_type": "code",
   "execution_count": 178,
   "metadata": {},
   "outputs": [],
   "source": [
    "#la colonna 'loser2_ht' è composta dal 14% di valori nan"
   ]
  },
  {
   "cell_type": "markdown",
   "metadata": {},
   "source": [
    "---------"
   ]
  },
  {
   "cell_type": "code",
   "execution_count": 179,
   "metadata": {},
   "outputs": [
    {
     "data": {
      "text/plain": [
       "loser2_ioc\n",
       "USA    2916\n",
       "ESP    1800\n",
       "AUS    1676\n",
       "CZE    1590\n",
       "FRA    1516\n",
       "       ... \n",
       "BAR       1\n",
       "GUA       1\n",
       "KEN       1\n",
       "SRI       1\n",
       "UNK       1\n",
       "Name: count, Length: 94, dtype: int64"
      ]
     },
     "execution_count": 179,
     "metadata": {},
     "output_type": "execute_result"
    }
   ],
   "source": [
    "df3['loser2_ioc'].value_counts(dropna=False)"
   ]
  },
  {
   "cell_type": "code",
   "execution_count": 180,
   "metadata": {},
   "outputs": [
    {
     "data": {
      "text/plain": [
       "12"
      ]
     },
     "execution_count": 180,
     "metadata": {},
     "output_type": "execute_result"
    }
   ],
   "source": [
    "df3['loser2_ioc'].isna().sum()"
   ]
  },
  {
   "cell_type": "code",
   "execution_count": 181,
   "metadata": {},
   "outputs": [],
   "source": [
    "#la colonna loser2_ioc' è composta dal 0,04% di valori nan"
   ]
  },
  {
   "cell_type": "markdown",
   "metadata": {},
   "source": [
    "----------"
   ]
  },
  {
   "cell_type": "code",
   "execution_count": 182,
   "metadata": {},
   "outputs": [
    {
     "data": {
      "text/plain": [
       "loser2_age\n",
       "NaN          32\n",
       "24.038330    15\n",
       "32.240931    14\n",
       "30.381930    14\n",
       "28.024641    14\n",
       "             ..\n",
       "39.019849     1\n",
       "25.169062     1\n",
       "24.572211     1\n",
       "39.652293     1\n",
       "20.167009     1\n",
       "Name: count, Length: 7170, dtype: int64"
      ]
     },
     "execution_count": 182,
     "metadata": {},
     "output_type": "execute_result"
    }
   ],
   "source": [
    "df3['loser2_age'].value_counts(dropna=False)"
   ]
  },
  {
   "cell_type": "code",
   "execution_count": 183,
   "metadata": {},
   "outputs": [
    {
     "data": {
      "text/plain": [
       "32"
      ]
     },
     "execution_count": 183,
     "metadata": {},
     "output_type": "execute_result"
    }
   ],
   "source": [
    "df3['loser2_age'].isna().sum()"
   ]
  },
  {
   "cell_type": "code",
   "execution_count": 184,
   "metadata": {},
   "outputs": [],
   "source": [
    "# loser2_age_prova=df3['loser2_age']\n",
    "# loser2_age_prova=[round(num) if not np.isnan(num) else np.nan \n",
    "#     for num in loser2_age_prova\n",
    "# ]\n",
    "# loser2_age_prova"
   ]
  },
  {
   "cell_type": "code",
   "execution_count": 185,
   "metadata": {},
   "outputs": [],
   "source": [
    "# df3['loser2_age']=loser2_age_prova\n",
    "# df3['loser2_age'].value_counts(dropna=False)"
   ]
  },
  {
   "cell_type": "code",
   "execution_count": 186,
   "metadata": {},
   "outputs": [],
   "source": [
    "#la colonna loser2_age è composta dallo 0,12% di valori nan"
   ]
  },
  {
   "cell_type": "markdown",
   "metadata": {},
   "source": [
    "----------"
   ]
  },
  {
   "cell_type": "code",
   "execution_count": 187,
   "metadata": {},
   "outputs": [
    {
     "data": {
      "text/plain": [
       "winner1_rank\n",
       "1.0       840\n",
       "3.0       449\n",
       "8.0       436\n",
       "13.0      399\n",
       "4.0       394\n",
       "         ... \n",
       "621.0       1\n",
       "1095.0      1\n",
       "775.0       1\n",
       "881.0       1\n",
       "537.0       1\n",
       "Name: count, Length: 815, dtype: int64"
      ]
     },
     "execution_count": 187,
     "metadata": {},
     "output_type": "execute_result"
    }
   ],
   "source": [
    "df3['winner1_rank'].value_counts(dropna=False)"
   ]
  },
  {
   "cell_type": "code",
   "execution_count": 188,
   "metadata": {},
   "outputs": [
    {
     "data": {
      "text/plain": [
       "358"
      ]
     },
     "execution_count": 188,
     "metadata": {},
     "output_type": "execute_result"
    }
   ],
   "source": [
    "df3['winner1_rank'].isna().sum()"
   ]
  },
  {
   "cell_type": "code",
   "execution_count": 189,
   "metadata": {},
   "outputs": [],
   "source": [
    "#la colonna 'winner1_rank' è composta dall'1,36% da valori nan"
   ]
  },
  {
   "cell_type": "markdown",
   "metadata": {},
   "source": [
    "-------"
   ]
  },
  {
   "cell_type": "code",
   "execution_count": 190,
   "metadata": {},
   "outputs": [
    {
     "data": {
      "text/plain": [
       "winner1_rank_points\n",
       "0.0       595\n",
       "NaN       358\n",
       "180.0     100\n",
       "270.0      94\n",
       "90.0       89\n",
       "         ... \n",
       "3037.0      1\n",
       "517.0       1\n",
       "1351.0      1\n",
       "5015.0      1\n",
       "1229.0      1\n",
       "Name: count, Length: 2985, dtype: int64"
      ]
     },
     "execution_count": 190,
     "metadata": {},
     "output_type": "execute_result"
    }
   ],
   "source": [
    "df3['winner1_rank_points'].value_counts(dropna=False)"
   ]
  },
  {
   "cell_type": "code",
   "execution_count": 191,
   "metadata": {},
   "outputs": [
    {
     "data": {
      "text/plain": [
       "358"
      ]
     },
     "execution_count": 191,
     "metadata": {},
     "output_type": "execute_result"
    }
   ],
   "source": [
    "df3['winner1_rank_points'].isna().sum()"
   ]
  },
  {
   "cell_type": "code",
   "execution_count": 192,
   "metadata": {},
   "outputs": [],
   "source": [
    "#la colonna winner1_rank_points è composta dall'1,36% di valori nan\n",
    "#in più mi incuriosiscono quei valori 0.0 all'interno della colonna in quanto non mi sembra normale che un giocatore non abbia preso dei punti in più nella classifica nonostante abbia vinto"
   ]
  },
  {
   "cell_type": "markdown",
   "metadata": {},
   "source": [
    "----------"
   ]
  },
  {
   "cell_type": "code",
   "execution_count": 193,
   "metadata": {},
   "outputs": [
    {
     "data": {
      "text/plain": [
       "winner2_rank\n",
       "1.0      838\n",
       "3.0      690\n",
       "5.0      431\n",
       "7.0      426\n",
       "9.0      377\n",
       "        ... \n",
       "778.0      1\n",
       "661.0      1\n",
       "495.0      1\n",
       "844.0      1\n",
       "942.0      1\n",
       "Name: count, Length: 755, dtype: int64"
      ]
     },
     "execution_count": 193,
     "metadata": {},
     "output_type": "execute_result"
    }
   ],
   "source": [
    "df3['winner2_rank'].value_counts(dropna=False)"
   ]
  },
  {
   "cell_type": "code",
   "execution_count": 194,
   "metadata": {},
   "outputs": [
    {
     "data": {
      "text/plain": [
       "364"
      ]
     },
     "execution_count": 194,
     "metadata": {},
     "output_type": "execute_result"
    }
   ],
   "source": [
    "df3['winner2_rank'].isna().sum()"
   ]
  },
  {
   "cell_type": "code",
   "execution_count": 195,
   "metadata": {},
   "outputs": [],
   "source": [
    "#la colonna winner2_rank è composta dal 1,37% di valori nan"
   ]
  },
  {
   "cell_type": "markdown",
   "metadata": {},
   "source": [
    "------------"
   ]
  },
  {
   "cell_type": "code",
   "execution_count": 196,
   "metadata": {},
   "outputs": [
    {
     "data": {
      "text/plain": [
       "winner2_rank_points\n",
       "0.0       595\n",
       "NaN       364\n",
       "180.0      96\n",
       "270.0      73\n",
       "90.0       72\n",
       "         ... \n",
       "2706.0      1\n",
       "1692.0      1\n",
       "2312.0      1\n",
       "1177.0      1\n",
       "4295.0      1\n",
       "Name: count, Length: 3021, dtype: int64"
      ]
     },
     "execution_count": 196,
     "metadata": {},
     "output_type": "execute_result"
    }
   ],
   "source": [
    "df3['winner2_rank_points'].value_counts(dropna=False)"
   ]
  },
  {
   "cell_type": "code",
   "execution_count": 197,
   "metadata": {},
   "outputs": [
    {
     "data": {
      "text/plain": [
       "364"
      ]
     },
     "execution_count": 197,
     "metadata": {},
     "output_type": "execute_result"
    }
   ],
   "source": [
    "df3['winner2_rank_points'].isna().sum()"
   ]
  },
  {
   "cell_type": "code",
   "execution_count": 198,
   "metadata": {},
   "outputs": [],
   "source": [
    "#la colonna winner2_rank_points è composta dal 1,37% di valori nan"
   ]
  },
  {
   "cell_type": "markdown",
   "metadata": {},
   "source": [
    "------"
   ]
  },
  {
   "cell_type": "code",
   "execution_count": 199,
   "metadata": {},
   "outputs": [
    {
     "data": {
      "text/plain": [
       "loser1_rank\n",
       "NaN       639\n",
       "1.0       260\n",
       "30.0      246\n",
       "13.0      243\n",
       "23.0      240\n",
       "         ... \n",
       "1195.0      1\n",
       "813.0       1\n",
       "1145.0      1\n",
       "1458.0      1\n",
       "2057.0      1\n",
       "Name: count, Length: 1166, dtype: int64"
      ]
     },
     "execution_count": 199,
     "metadata": {},
     "output_type": "execute_result"
    }
   ],
   "source": [
    "df3['loser1_rank'].value_counts(dropna=False)"
   ]
  },
  {
   "cell_type": "code",
   "execution_count": 200,
   "metadata": {},
   "outputs": [
    {
     "data": {
      "text/plain": [
       "639"
      ]
     },
     "execution_count": 200,
     "metadata": {},
     "output_type": "execute_result"
    }
   ],
   "source": [
    "df3['loser1_rank'].isna().sum()"
   ]
  },
  {
   "cell_type": "code",
   "execution_count": 201,
   "metadata": {},
   "outputs": [],
   "source": [
    "# la colonna loser1_rank è composta dal 2,4% di valori nan"
   ]
  },
  {
   "cell_type": "markdown",
   "metadata": {},
   "source": [
    "--------"
   ]
  },
  {
   "cell_type": "code",
   "execution_count": 202,
   "metadata": {},
   "outputs": [
    {
     "data": {
      "text/plain": [
       "loser1_rank_points\n",
       "NaN       639\n",
       "0.0       589\n",
       "90.0      171\n",
       "180.0     140\n",
       "45.0      121\n",
       "         ... \n",
       "2378.0      1\n",
       "4765.0      1\n",
       "4405.0      1\n",
       "1912.0      1\n",
       "4285.0      1\n",
       "Name: count, Length: 3148, dtype: int64"
      ]
     },
     "execution_count": 202,
     "metadata": {},
     "output_type": "execute_result"
    }
   ],
   "source": [
    "df3['loser1_rank_points'].value_counts(dropna=False)"
   ]
  },
  {
   "cell_type": "code",
   "execution_count": 203,
   "metadata": {},
   "outputs": [
    {
     "data": {
      "text/plain": [
       "639"
      ]
     },
     "execution_count": 203,
     "metadata": {},
     "output_type": "execute_result"
    }
   ],
   "source": [
    "df3['loser1_rank_points'].isna().sum()"
   ]
  },
  {
   "cell_type": "code",
   "execution_count": 204,
   "metadata": {},
   "outputs": [],
   "source": [
    "# la colonna loser1_rank_points è composta dal 2,4% di valori nan"
   ]
  },
  {
   "cell_type": "markdown",
   "metadata": {},
   "source": [
    "-----------"
   ]
  },
  {
   "cell_type": "code",
   "execution_count": 205,
   "metadata": {},
   "outputs": [
    {
     "data": {
      "text/plain": [
       "loser2_rank\n",
       "NaN       607\n",
       "15.0      265\n",
       "1.0       257\n",
       "3.0       250\n",
       "17.0      244\n",
       "         ... \n",
       "1210.0      1\n",
       "1450.0      1\n",
       "1476.0      1\n",
       "654.0       1\n",
       "1929.0      1\n",
       "Name: count, Length: 1127, dtype: int64"
      ]
     },
     "execution_count": 205,
     "metadata": {},
     "output_type": "execute_result"
    }
   ],
   "source": [
    "df3['loser2_rank'].value_counts(dropna=False)"
   ]
  },
  {
   "cell_type": "code",
   "execution_count": 206,
   "metadata": {},
   "outputs": [
    {
     "data": {
      "text/plain": [
       "607"
      ]
     },
     "execution_count": 206,
     "metadata": {},
     "output_type": "execute_result"
    }
   ],
   "source": [
    "df3['loser2_rank'].isna().sum()"
   ]
  },
  {
   "cell_type": "code",
   "execution_count": 207,
   "metadata": {},
   "outputs": [],
   "source": [
    "#la colonna loser2_rank è composta dallo 2,30% di valori nan"
   ]
  },
  {
   "cell_type": "markdown",
   "metadata": {},
   "source": [
    "-----------"
   ]
  },
  {
   "cell_type": "code",
   "execution_count": 208,
   "metadata": {},
   "outputs": [
    {
     "data": {
      "text/plain": [
       "loser2_rank_points\n",
       "NaN        607\n",
       "0.0        591\n",
       "270.0      142\n",
       "90.0       139\n",
       "180.0      139\n",
       "          ... \n",
       "1938.0       1\n",
       "3705.0       1\n",
       "10120.0      1\n",
       "1872.0       1\n",
       "1534.0       1\n",
       "Name: count, Length: 3177, dtype: int64"
      ]
     },
     "execution_count": 208,
     "metadata": {},
     "output_type": "execute_result"
    }
   ],
   "source": [
    "df3['loser2_rank_points'].value_counts(dropna=False)"
   ]
  },
  {
   "cell_type": "code",
   "execution_count": 209,
   "metadata": {},
   "outputs": [
    {
     "data": {
      "text/plain": [
       "607"
      ]
     },
     "execution_count": 209,
     "metadata": {},
     "output_type": "execute_result"
    }
   ],
   "source": [
    "df3['loser2_rank_points'].isna().sum()"
   ]
  },
  {
   "cell_type": "code",
   "execution_count": 210,
   "metadata": {},
   "outputs": [],
   "source": [
    "#la colonna loser2_rank_points è composta dallo 2,30% di valori nan"
   ]
  },
  {
   "cell_type": "markdown",
   "metadata": {},
   "source": [
    "------------"
   ]
  },
  {
   "cell_type": "code",
   "execution_count": 211,
   "metadata": {},
   "outputs": [
    {
     "data": {
      "text/plain": [
       "minutes\n",
       "None    21350\n",
       "70        124\n",
       "74        118\n",
       "67        117\n",
       "76        112\n",
       "        ...  \n",
       "237         1\n",
       "22          1\n",
       "247         1\n",
       "156         1\n",
       "297         1\n",
       "Name: count, Length: 193, dtype: int64"
      ]
     },
     "execution_count": 211,
     "metadata": {},
     "output_type": "execute_result"
    }
   ],
   "source": [
    "df3['minutes'].value_counts(dropna=False)"
   ]
  },
  {
   "cell_type": "code",
   "execution_count": 212,
   "metadata": {},
   "outputs": [
    {
     "data": {
      "text/plain": [
       "21350"
      ]
     },
     "execution_count": 212,
     "metadata": {},
     "output_type": "execute_result"
    }
   ],
   "source": [
    "df3['minutes'].isna().sum()"
   ]
  },
  {
   "cell_type": "code",
   "execution_count": 213,
   "metadata": {},
   "outputs": [],
   "source": [
    "# la colonna 'minutes' è composta dall'81% di valori nan"
   ]
  },
  {
   "cell_type": "markdown",
   "metadata": {},
   "source": [
    "----------"
   ]
  },
  {
   "cell_type": "code",
   "execution_count": 214,
   "metadata": {},
   "outputs": [
    {
     "data": {
      "text/plain": [
       "w_ace\n",
       "None    21215\n",
       "3         834\n",
       "2         803\n",
       "4         721\n",
       "1         614\n",
       "5         561\n",
       "0         420\n",
       "6         406\n",
       "7         294\n",
       "8         178\n",
       "9         123\n",
       "10         87\n",
       "11         57\n",
       "12         27\n",
       "13         17\n",
       "15         13\n",
       "14         11\n",
       "17          7\n",
       "18          3\n",
       "16          3\n",
       "19          2\n",
       "20          1\n",
       "27          1\n",
       "21          1\n",
       "Name: count, dtype: int64"
      ]
     },
     "execution_count": 214,
     "metadata": {},
     "output_type": "execute_result"
    }
   ],
   "source": [
    "df3['w_ace'].value_counts(dropna=False)"
   ]
  },
  {
   "cell_type": "code",
   "execution_count": 215,
   "metadata": {},
   "outputs": [
    {
     "data": {
      "text/plain": [
       "21215"
      ]
     },
     "execution_count": 215,
     "metadata": {},
     "output_type": "execute_result"
    }
   ],
   "source": [
    "df3['w_ace'].isna().sum()"
   ]
  },
  {
   "cell_type": "code",
   "execution_count": 216,
   "metadata": {},
   "outputs": [
    {
     "data": {
      "text/plain": [
       "80.3628925338081"
      ]
     },
     "execution_count": 216,
     "metadata": {},
     "output_type": "execute_result"
    }
   ],
   "source": [
    "(21215/26399)*100"
   ]
  },
  {
   "cell_type": "code",
   "execution_count": 217,
   "metadata": {},
   "outputs": [],
   "source": [
    "# la colonna 'w_ace' è composta dall'80% di valori nan"
   ]
  },
  {
   "cell_type": "markdown",
   "metadata": {},
   "source": [
    "----"
   ]
  },
  {
   "cell_type": "code",
   "execution_count": 218,
   "metadata": {},
   "outputs": [
    {
     "data": {
      "text/plain": [
       "w_df\n",
       "None    21215\n",
       "2        1220\n",
       "1        1162\n",
       "3         901\n",
       "0         771\n",
       "4         508\n",
       "5         307\n",
       "6         161\n",
       "7          73\n",
       "8          38\n",
       "9          24\n",
       "10         11\n",
       "12          5\n",
       "11          2\n",
       "13          1\n",
       "Name: count, dtype: int64"
      ]
     },
     "execution_count": 218,
     "metadata": {},
     "output_type": "execute_result"
    }
   ],
   "source": [
    "df3['w_df'].value_counts(dropna=False)"
   ]
  },
  {
   "cell_type": "code",
   "execution_count": 219,
   "metadata": {},
   "outputs": [
    {
     "data": {
      "text/plain": [
       "21215"
      ]
     },
     "execution_count": 219,
     "metadata": {},
     "output_type": "execute_result"
    }
   ],
   "source": [
    "df3['w_df'].isna().sum()"
   ]
  },
  {
   "cell_type": "code",
   "execution_count": 220,
   "metadata": {},
   "outputs": [],
   "source": [
    "# la colonna 'w_df' è composta dall'80% di valori nan"
   ]
  },
  {
   "cell_type": "markdown",
   "metadata": {},
   "source": [
    "-----------"
   ]
  },
  {
   "cell_type": "code",
   "execution_count": 221,
   "metadata": {},
   "outputs": [
    {
     "data": {
      "text/plain": [
       "w_svpt\n",
       "None    21215\n",
       "57        165\n",
       "62        162\n",
       "55        162\n",
       "53        159\n",
       "        ...  \n",
       "157         1\n",
       "178         1\n",
       "202         1\n",
       "253         1\n",
       "212         1\n",
       "Name: count, Length: 163, dtype: int64"
      ]
     },
     "execution_count": 221,
     "metadata": {},
     "output_type": "execute_result"
    }
   ],
   "source": [
    "df3['w_svpt'].value_counts(dropna=False)"
   ]
  },
  {
   "cell_type": "code",
   "execution_count": 222,
   "metadata": {},
   "outputs": [
    {
     "data": {
      "text/plain": [
       "21215"
      ]
     },
     "execution_count": 222,
     "metadata": {},
     "output_type": "execute_result"
    }
   ],
   "source": [
    "df3['w_svpt'].isna().sum()"
   ]
  },
  {
   "cell_type": "code",
   "execution_count": 223,
   "metadata": {},
   "outputs": [],
   "source": [
    "# la colonna 'w_svpt' è composta dall'80% di valori nan"
   ]
  },
  {
   "cell_type": "markdown",
   "metadata": {},
   "source": [
    "-------------"
   ]
  },
  {
   "cell_type": "code",
   "execution_count": 225,
   "metadata": {},
   "outputs": [
    {
     "data": {
      "text/plain": [
       "w_1stIn\n",
       "None    21215\n",
       "35        230\n",
       "38        225\n",
       "37        204\n",
       "36        204\n",
       "        ...  \n",
       "2           1\n",
       "8           1\n",
       "94          1\n",
       "145         1\n",
       "156         1\n",
       "Name: count, Length: 125, dtype: int64"
      ]
     },
     "execution_count": 225,
     "metadata": {},
     "output_type": "execute_result"
    }
   ],
   "source": [
    "df3['w_1stIn'].value_counts(dropna=False)"
   ]
  },
  {
   "cell_type": "code",
   "execution_count": null,
   "metadata": {},
   "outputs": [],
   "source": [
    "# la colonna 'w_1stIn' è composta dall'80% di valori nan"
   ]
  },
  {
   "cell_type": "markdown",
   "metadata": {},
   "source": [
    "---------------"
   ]
  },
  {
   "cell_type": "code",
   "execution_count": 228,
   "metadata": {},
   "outputs": [
    {
     "data": {
      "text/plain": [
       "w_1stWon\n",
       "None    21215\n",
       "27        305\n",
       "28        299\n",
       "33        282\n",
       "30        278\n",
       "        ...  \n",
       "4           1\n",
       "2           1\n",
       "11          1\n",
       "6           1\n",
       "114         1\n",
       "Name: count, Length: 99, dtype: int64"
      ]
     },
     "execution_count": 228,
     "metadata": {},
     "output_type": "execute_result"
    }
   ],
   "source": [
    "df3['w_1stWon'].value_counts(dropna=False)"
   ]
  },
  {
   "cell_type": "code",
   "execution_count": 229,
   "metadata": {},
   "outputs": [],
   "source": [
    "# la colonna 'w_1stWon' è composta dall'80% di valori nan"
   ]
  },
  {
   "cell_type": "markdown",
   "metadata": {},
   "source": [
    "----------------"
   ]
  },
  {
   "cell_type": "code",
   "execution_count": 231,
   "metadata": {},
   "outputs": [
    {
     "data": {
      "text/plain": [
       "w_2ndWon\n",
       "None    21215\n",
       "10        527\n",
       "11        485\n",
       "9         471\n",
       "12        463\n",
       "13        425\n",
       "14        376\n",
       "8         356\n",
       "15        314\n",
       "16        271\n",
       "7         268\n",
       "17        195\n",
       "6         159\n",
       "18        138\n",
       "19        104\n",
       "0         103\n",
       "5          95\n",
       "20         77\n",
       "21         59\n",
       "4          48\n",
       "22         44\n",
       "23         31\n",
       "24         28\n",
       "25         22\n",
       "3          20\n",
       "26         14\n",
       "27         11\n",
       "28         11\n",
       "29          9\n",
       "31          9\n",
       "30          8\n",
       "33          7\n",
       "32          6\n",
       "2           5\n",
       "34          4\n",
       "1           3\n",
       "37          3\n",
       "35          3\n",
       "38          2\n",
       "42          2\n",
       "40          2\n",
       "39          2\n",
       "46          1\n",
       "41          1\n",
       "36          1\n",
       "44          1\n",
       "Name: count, dtype: int64"
      ]
     },
     "execution_count": 231,
     "metadata": {},
     "output_type": "execute_result"
    }
   ],
   "source": [
    "df3['w_2ndWon'].value_counts(dropna=False)"
   ]
  },
  {
   "cell_type": "code",
   "execution_count": 232,
   "metadata": {},
   "outputs": [],
   "source": [
    "# la colonna 'w_2ndWon' è composta dall'80% di valori nan"
   ]
  },
  {
   "cell_type": "markdown",
   "metadata": {},
   "source": [
    "-------------"
   ]
  },
  {
   "cell_type": "code",
   "execution_count": 234,
   "metadata": {},
   "outputs": [
    {
     "data": {
      "text/plain": [
       "w_SvGms\n",
       "None    21215\n",
       "10       1279\n",
       "11       1194\n",
       "9        1012\n",
       "12        467\n",
       "8         417\n",
       "0         401\n",
       "7          75\n",
       "16         60\n",
       "15         48\n",
       "17         43\n",
       "14         38\n",
       "13         21\n",
       "6          17\n",
       "18         11\n",
       "22         10\n",
       "24          9\n",
       "21          9\n",
       "19          8\n",
       "23          8\n",
       "26          7\n",
       "5           7\n",
       "27          7\n",
       "20          7\n",
       "3           6\n",
       "28          4\n",
       "30          4\n",
       "31          3\n",
       "4           2\n",
       "25          2\n",
       "2           2\n",
       "43          1\n",
       "1           1\n",
       "29          1\n",
       "36          1\n",
       "32          1\n",
       "34          1\n",
       "Name: count, dtype: int64"
      ]
     },
     "execution_count": 234,
     "metadata": {},
     "output_type": "execute_result"
    }
   ],
   "source": [
    "df3['w_SvGms'].value_counts(dropna=False)"
   ]
  },
  {
   "cell_type": "code",
   "execution_count": 235,
   "metadata": {},
   "outputs": [],
   "source": [
    "# la colonna 'w_SvGms' è composta dall'80% di valori nan"
   ]
  },
  {
   "cell_type": "markdown",
   "metadata": {},
   "source": [
    "--------------"
   ]
  },
  {
   "cell_type": "code",
   "execution_count": 237,
   "metadata": {},
   "outputs": [
    {
     "data": {
      "text/plain": [
       "w_bpSaved\n",
       "None    21215\n",
       "0         886\n",
       "2         841\n",
       "3         777\n",
       "1         767\n",
       "4         595\n",
       "5         487\n",
       "6         333\n",
       "7         213\n",
       "8         122\n",
       "9          74\n",
       "10         45\n",
       "11         22\n",
       "12         12\n",
       "14          7\n",
       "13          2\n",
       "17          1\n",
       "Name: count, dtype: int64"
      ]
     },
     "execution_count": 237,
     "metadata": {},
     "output_type": "execute_result"
    }
   ],
   "source": [
    "df3['w_bpSaved'].value_counts(dropna=False)"
   ]
  },
  {
   "cell_type": "code",
   "execution_count": 238,
   "metadata": {},
   "outputs": [],
   "source": [
    "# la colonna 'w_bpSaved' è composta dall'80% di valori nan"
   ]
  },
  {
   "cell_type": "markdown",
   "metadata": {},
   "source": [
    "----------------"
   ]
  },
  {
   "cell_type": "code",
   "execution_count": 240,
   "metadata": {},
   "outputs": [
    {
     "data": {
      "text/plain": [
       "w_bpFaced\n",
       "None    21215\n",
       "3         716\n",
       "4         661\n",
       "2         644\n",
       "5         612\n",
       "0         539\n",
       "1         507\n",
       "6         470\n",
       "7         361\n",
       "8         257\n",
       "9         165\n",
       "10         90\n",
       "11         64\n",
       "12         51\n",
       "13         20\n",
       "15         11\n",
       "14          9\n",
       "17          3\n",
       "16          3\n",
       "18          1\n",
       "Name: count, dtype: int64"
      ]
     },
     "execution_count": 240,
     "metadata": {},
     "output_type": "execute_result"
    }
   ],
   "source": [
    "df3['w_bpFaced'].value_counts(dropna=False)"
   ]
  },
  {
   "cell_type": "code",
   "execution_count": 241,
   "metadata": {},
   "outputs": [],
   "source": [
    "# la colonna 'w_bpFaced' è composta dall'80% di valori nan"
   ]
  },
  {
   "cell_type": "markdown",
   "metadata": {},
   "source": [
    "----------"
   ]
  },
  {
   "cell_type": "code",
   "execution_count": 243,
   "metadata": {},
   "outputs": [
    {
     "data": {
      "text/plain": [
       "l_ace\n",
       "None    21215\n",
       "1         978\n",
       "2         966\n",
       "3         793\n",
       "0         651\n",
       "4         581\n",
       "5         403\n",
       "6         280\n",
       "7         207\n",
       "8         122\n",
       "9          74\n",
       "10         46\n",
       "11         21\n",
       "12         21\n",
       "13         11\n",
       "14         10\n",
       "15          5\n",
       "17          5\n",
       "16          3\n",
       "19          2\n",
       "23          1\n",
       "21          1\n",
       "18          1\n",
       "22          1\n",
       "20          1\n",
       "Name: count, dtype: int64"
      ]
     },
     "execution_count": 243,
     "metadata": {},
     "output_type": "execute_result"
    }
   ],
   "source": [
    "df3['l_ace'].value_counts(dropna=False)"
   ]
  },
  {
   "cell_type": "code",
   "execution_count": 244,
   "metadata": {},
   "outputs": [],
   "source": [
    "# la colonna 'l_ace' è composta dall'80% di valori nan"
   ]
  },
  {
   "cell_type": "markdown",
   "metadata": {},
   "source": [
    "-----------"
   ]
  },
  {
   "cell_type": "code",
   "execution_count": 246,
   "metadata": {},
   "outputs": [
    {
     "data": {
      "text/plain": [
       "l_df\n",
       "None    21215\n",
       "2        1150\n",
       "3        1007\n",
       "1         905\n",
       "4         672\n",
       "0         544\n",
       "5         400\n",
       "6         237\n",
       "7         141\n",
       "8          62\n",
       "9          33\n",
       "10         15\n",
       "12          5\n",
       "11          4\n",
       "13          3\n",
       "15          3\n",
       "14          2\n",
       "18          1\n",
       "Name: count, dtype: int64"
      ]
     },
     "execution_count": 246,
     "metadata": {},
     "output_type": "execute_result"
    }
   ],
   "source": [
    "df3['l_df'].value_counts(dropna=False)"
   ]
  },
  {
   "cell_type": "code",
   "execution_count": 247,
   "metadata": {},
   "outputs": [],
   "source": [
    "# la colonna 'l_df' è composta dall'80% di valori nan"
   ]
  },
  {
   "cell_type": "markdown",
   "metadata": {},
   "source": [
    "----------------"
   ]
  },
  {
   "cell_type": "code",
   "execution_count": 249,
   "metadata": {},
   "outputs": [
    {
     "data": {
      "text/plain": [
       "l_svpt\n",
       "None    21215\n",
       "61        177\n",
       "55        169\n",
       "59        160\n",
       "56        160\n",
       "        ...  \n",
       "148         1\n",
       "133         1\n",
       "163         1\n",
       "198         1\n",
       "207         1\n",
       "Name: count, Length: 168, dtype: int64"
      ]
     },
     "execution_count": 249,
     "metadata": {},
     "output_type": "execute_result"
    }
   ],
   "source": [
    "df3['l_svpt'].value_counts(dropna=False)"
   ]
  },
  {
   "cell_type": "code",
   "execution_count": 250,
   "metadata": {},
   "outputs": [],
   "source": [
    "# la colonna 'l_svpt' è composta dall'80% di valori nan"
   ]
  },
  {
   "cell_type": "markdown",
   "metadata": {},
   "source": [
    "------------"
   ]
  },
  {
   "cell_type": "code",
   "execution_count": 252,
   "metadata": {},
   "outputs": [
    {
     "data": {
      "text/plain": [
       "l_1stIn\n",
       "None    21215\n",
       "39        232\n",
       "37        221\n",
       "35        209\n",
       "36        206\n",
       "        ...  \n",
       "124         1\n",
       "8           1\n",
       "9           1\n",
       "12          1\n",
       "119         1\n",
       "Name: count, Length: 126, dtype: int64"
      ]
     },
     "execution_count": 252,
     "metadata": {},
     "output_type": "execute_result"
    }
   ],
   "source": [
    "df3['l_1stIn'].value_counts(dropna=False)"
   ]
  },
  {
   "cell_type": "code",
   "execution_count": 253,
   "metadata": {},
   "outputs": [],
   "source": [
    "# la colonna 'l_1stIn' è composta dall'80% di valori nan"
   ]
  },
  {
   "cell_type": "markdown",
   "metadata": {},
   "source": [
    "--------"
   ]
  },
  {
   "cell_type": "code",
   "execution_count": 255,
   "metadata": {},
   "outputs": [
    {
     "data": {
      "text/plain": [
       "l_1stWon\n",
       "None    21215\n",
       "26        261\n",
       "27        253\n",
       "25        250\n",
       "29        233\n",
       "        ...  \n",
       "90          1\n",
       "108         1\n",
       "94          1\n",
       "80          1\n",
       "109         1\n",
       "Name: count, Length: 100, dtype: int64"
      ]
     },
     "execution_count": 255,
     "metadata": {},
     "output_type": "execute_result"
    }
   ],
   "source": [
    "df3['l_1stWon'].value_counts(dropna=False)"
   ]
  },
  {
   "cell_type": "code",
   "execution_count": null,
   "metadata": {},
   "outputs": [],
   "source": [
    "# la colonna 'l_1stWon' è composta dall'80% di valori nan"
   ]
  },
  {
   "cell_type": "markdown",
   "metadata": {},
   "source": [
    "--------------"
   ]
  },
  {
   "cell_type": "code",
   "execution_count": 257,
   "metadata": {},
   "outputs": [
    {
     "data": {
      "text/plain": [
       "l_2ndWon\n",
       "None    21215\n",
       "10        489\n",
       "9         478\n",
       "11        454\n",
       "8         443\n",
       "12        440\n",
       "7         404\n",
       "13        330\n",
       "14        312\n",
       "6         267\n",
       "15        257\n",
       "5         207\n",
       "16        182\n",
       "17        147\n",
       "4         126\n",
       "0         106\n",
       "18         80\n",
       "19         69\n",
       "3          68\n",
       "20         60\n",
       "21         44\n",
       "22         44\n",
       "2          34\n",
       "23         23\n",
       "26         18\n",
       "25         17\n",
       "24         14\n",
       "29         10\n",
       "1           8\n",
       "27          7\n",
       "28          7\n",
       "33          7\n",
       "31          6\n",
       "36          5\n",
       "34          4\n",
       "30          4\n",
       "32          3\n",
       "41          2\n",
       "39          2\n",
       "56          1\n",
       "45          1\n",
       "40          1\n",
       "44          1\n",
       "37          1\n",
       "38          1\n",
       "Name: count, dtype: int64"
      ]
     },
     "execution_count": 257,
     "metadata": {},
     "output_type": "execute_result"
    }
   ],
   "source": [
    "df3['l_2ndWon'].value_counts(dropna=False)"
   ]
  },
  {
   "cell_type": "code",
   "execution_count": 258,
   "metadata": {},
   "outputs": [],
   "source": [
    "# la colonna 'l_2ndWon' è composta dall'80% di valori nan"
   ]
  },
  {
   "cell_type": "markdown",
   "metadata": {},
   "source": [
    "----------"
   ]
  },
  {
   "cell_type": "code",
   "execution_count": 260,
   "metadata": {},
   "outputs": [
    {
     "data": {
      "text/plain": [
       "l_SvGms\n",
       "None    21215\n",
       "10       1251\n",
       "9        1147\n",
       "11        919\n",
       "8         534\n",
       "12        474\n",
       "0         401\n",
       "7         125\n",
       "15         58\n",
       "14         50\n",
       "16         41\n",
       "17         31\n",
       "13         30\n",
       "6          15\n",
       "23         12\n",
       "20         11\n",
       "21         10\n",
       "18          9\n",
       "27          7\n",
       "19          7\n",
       "26          6\n",
       "5           6\n",
       "25          6\n",
       "3           6\n",
       "22          4\n",
       "24          4\n",
       "4           4\n",
       "31          3\n",
       "30          2\n",
       "28          2\n",
       "2           2\n",
       "32          2\n",
       "1           1\n",
       "44          1\n",
       "29          1\n",
       "35          1\n",
       "33          1\n",
       "Name: count, dtype: int64"
      ]
     },
     "execution_count": 260,
     "metadata": {},
     "output_type": "execute_result"
    }
   ],
   "source": [
    "df3['l_SvGms'].value_counts(dropna=False)"
   ]
  },
  {
   "cell_type": "code",
   "execution_count": 261,
   "metadata": {},
   "outputs": [],
   "source": [
    "# la colonna 'l_SvGms' è composta dall'80% di valori nan"
   ]
  },
  {
   "cell_type": "markdown",
   "metadata": {},
   "source": [
    "-------------"
   ]
  },
  {
   "cell_type": "code",
   "execution_count": 263,
   "metadata": {},
   "outputs": [
    {
     "data": {
      "text/plain": [
       "l_bpSaved\n",
       "None    21215\n",
       "3         838\n",
       "2         749\n",
       "4         719\n",
       "1         639\n",
       "5         574\n",
       "0         451\n",
       "6         420\n",
       "7         292\n",
       "8         210\n",
       "9         136\n",
       "10         71\n",
       "11         38\n",
       "12         24\n",
       "13         11\n",
       "14          7\n",
       "15          3\n",
       "16          1\n",
       "20          1\n",
       "Name: count, dtype: int64"
      ]
     },
     "execution_count": 263,
     "metadata": {},
     "output_type": "execute_result"
    }
   ],
   "source": [
    "df3['l_bpSaved'].value_counts(dropna=False)"
   ]
  },
  {
   "cell_type": "code",
   "execution_count": 264,
   "metadata": {},
   "outputs": [],
   "source": [
    "# la colonna 'l_bpSaved' è composta dall'80% di valori nan"
   ]
  },
  {
   "cell_type": "markdown",
   "metadata": {},
   "source": [
    "-----------"
   ]
  },
  {
   "cell_type": "code",
   "execution_count": 266,
   "metadata": {},
   "outputs": [
    {
     "data": {
      "text/plain": [
       "l_bpFaced\n",
       "None    21215\n",
       "6         657\n",
       "5         648\n",
       "7         631\n",
       "4         583\n",
       "8         487\n",
       "3         441\n",
       "9         427\n",
       "10        293\n",
       "2         278\n",
       "11        180\n",
       "12        138\n",
       "1         126\n",
       "0         124\n",
       "13         61\n",
       "14         43\n",
       "15         33\n",
       "16         17\n",
       "17         10\n",
       "18          3\n",
       "19          2\n",
       "20          1\n",
       "22          1\n",
       "Name: count, dtype: int64"
      ]
     },
     "execution_count": 266,
     "metadata": {},
     "output_type": "execute_result"
    }
   ],
   "source": [
    "df3['l_bpFaced'].value_counts(dropna=False)"
   ]
  },
  {
   "cell_type": "code",
   "execution_count": 267,
   "metadata": {},
   "outputs": [],
   "source": [
    "# la colonna 'l_bpFaced' è composta dall'80% di valori nan"
   ]
  },
  {
   "cell_type": "markdown",
   "metadata": {},
   "source": [
    "## CONTROLLO NAN TABELLA futures_matches.parquet"
   ]
  },
  {
   "cell_type": "code",
   "execution_count": 268,
   "metadata": {},
   "outputs": [
    {
     "data": {
      "text/html": [
       "<div>\n",
       "<style scoped>\n",
       "    .dataframe tbody tr th:only-of-type {\n",
       "        vertical-align: middle;\n",
       "    }\n",
       "\n",
       "    .dataframe tbody tr th {\n",
       "        vertical-align: top;\n",
       "    }\n",
       "\n",
       "    .dataframe thead th {\n",
       "        text-align: right;\n",
       "    }\n",
       "</style>\n",
       "<table border=\"1\" class=\"dataframe\">\n",
       "  <thead>\n",
       "    <tr style=\"text-align: right;\">\n",
       "      <th></th>\n",
       "      <th>tourney_id</th>\n",
       "      <th>tourney_name</th>\n",
       "      <th>surface</th>\n",
       "      <th>draw_size</th>\n",
       "      <th>tourney_level</th>\n",
       "      <th>tourney_date</th>\n",
       "      <th>match_num</th>\n",
       "      <th>winner_id</th>\n",
       "      <th>winner_seed</th>\n",
       "      <th>winner_entry</th>\n",
       "      <th>...</th>\n",
       "      <th>l_1stIn</th>\n",
       "      <th>l_1stWon</th>\n",
       "      <th>l_2ndWon</th>\n",
       "      <th>l_SvGms</th>\n",
       "      <th>l_bpSaved</th>\n",
       "      <th>l_bpFaced</th>\n",
       "      <th>winner_rank</th>\n",
       "      <th>winner_rank_points</th>\n",
       "      <th>loser_rank</th>\n",
       "      <th>loser_rank_points</th>\n",
       "    </tr>\n",
       "  </thead>\n",
       "  <tbody>\n",
       "    <tr>\n",
       "      <th>0</th>\n",
       "      <td>1991-M-SA-IND-02A-1990a</td>\n",
       "      <td>India Masters 1</td>\n",
       "      <td>Hard</td>\n",
       "      <td>32</td>\n",
       "      <td>S</td>\n",
       "      <td>1990-12-29</td>\n",
       "      <td>1</td>\n",
       "      <td>101484</td>\n",
       "      <td>1</td>\n",
       "      <td>None</td>\n",
       "      <td>...</td>\n",
       "      <td>None</td>\n",
       "      <td>None</td>\n",
       "      <td>None</td>\n",
       "      <td>None</td>\n",
       "      <td>None</td>\n",
       "      <td>None</td>\n",
       "      <td>266</td>\n",
       "      <td>82.0</td>\n",
       "      <td>805</td>\n",
       "      <td>4.0</td>\n",
       "    </tr>\n",
       "    <tr>\n",
       "      <th>1</th>\n",
       "      <td>1991-M-SA-IND-02A-1990a</td>\n",
       "      <td>India Masters 1</td>\n",
       "      <td>Hard</td>\n",
       "      <td>32</td>\n",
       "      <td>S</td>\n",
       "      <td>1990-12-29</td>\n",
       "      <td>2</td>\n",
       "      <td>106819</td>\n",
       "      <td>None</td>\n",
       "      <td>None</td>\n",
       "      <td>...</td>\n",
       "      <td>None</td>\n",
       "      <td>None</td>\n",
       "      <td>None</td>\n",
       "      <td>None</td>\n",
       "      <td>None</td>\n",
       "      <td>None</td>\n",
       "      <td>941</td>\n",
       "      <td>2.0</td>\n",
       "      <td>692</td>\n",
       "      <td>8.0</td>\n",
       "    </tr>\n",
       "    <tr>\n",
       "      <th>2</th>\n",
       "      <td>1991-M-SA-IND-02A-1990a</td>\n",
       "      <td>India Masters 1</td>\n",
       "      <td>Hard</td>\n",
       "      <td>32</td>\n",
       "      <td>S</td>\n",
       "      <td>1990-12-29</td>\n",
       "      <td>3</td>\n",
       "      <td>102216</td>\n",
       "      <td>None</td>\n",
       "      <td>LL</td>\n",
       "      <td>...</td>\n",
       "      <td>None</td>\n",
       "      <td>None</td>\n",
       "      <td>None</td>\n",
       "      <td>None</td>\n",
       "      <td>None</td>\n",
       "      <td>None</td>\n",
       "      <td>862</td>\n",
       "      <td>3.0</td>\n",
       "      <td>862</td>\n",
       "      <td>3.0</td>\n",
       "    </tr>\n",
       "    <tr>\n",
       "      <th>3</th>\n",
       "      <td>1991-M-SA-IND-02A-1990a</td>\n",
       "      <td>India Masters 1</td>\n",
       "      <td>Hard</td>\n",
       "      <td>32</td>\n",
       "      <td>S</td>\n",
       "      <td>1990-12-29</td>\n",
       "      <td>4</td>\n",
       "      <td>101663</td>\n",
       "      <td>None</td>\n",
       "      <td>None</td>\n",
       "      <td>...</td>\n",
       "      <td>None</td>\n",
       "      <td>None</td>\n",
       "      <td>None</td>\n",
       "      <td>None</td>\n",
       "      <td>None</td>\n",
       "      <td>None</td>\n",
       "      <td>703</td>\n",
       "      <td>8.0</td>\n",
       "      <td>588</td>\n",
       "      <td>14.0</td>\n",
       "    </tr>\n",
       "    <tr>\n",
       "      <th>4</th>\n",
       "      <td>1991-M-SA-IND-02A-1990a</td>\n",
       "      <td>India Masters 1</td>\n",
       "      <td>Hard</td>\n",
       "      <td>32</td>\n",
       "      <td>S</td>\n",
       "      <td>1990-12-29</td>\n",
       "      <td>5</td>\n",
       "      <td>100794</td>\n",
       "      <td>4</td>\n",
       "      <td>None</td>\n",
       "      <td>...</td>\n",
       "      <td>None</td>\n",
       "      <td>None</td>\n",
       "      <td>None</td>\n",
       "      <td>None</td>\n",
       "      <td>None</td>\n",
       "      <td>None</td>\n",
       "      <td>420</td>\n",
       "      <td>33.0</td>\n",
       "      <td>862</td>\n",
       "      <td>3.0</td>\n",
       "    </tr>\n",
       "    <tr>\n",
       "      <th>...</th>\n",
       "      <td>...</td>\n",
       "      <td>...</td>\n",
       "      <td>...</td>\n",
       "      <td>...</td>\n",
       "      <td>...</td>\n",
       "      <td>...</td>\n",
       "      <td>...</td>\n",
       "      <td>...</td>\n",
       "      <td>...</td>\n",
       "      <td>...</td>\n",
       "      <td>...</td>\n",
       "      <td>...</td>\n",
       "      <td>...</td>\n",
       "      <td>...</td>\n",
       "      <td>...</td>\n",
       "      <td>...</td>\n",
       "      <td>...</td>\n",
       "      <td>...</td>\n",
       "      <td>...</td>\n",
       "      <td>...</td>\n",
       "      <td>...</td>\n",
       "    </tr>\n",
       "    <tr>\n",
       "      <th>486548</th>\n",
       "      <td>2024-M-ITF-USA-2024-010</td>\n",
       "      <td>M25 Pensacola FL</td>\n",
       "      <td>Clay</td>\n",
       "      <td>32</td>\n",
       "      <td>25</td>\n",
       "      <td>2024-05-13</td>\n",
       "      <td>303</td>\n",
       "      <td>210044</td>\n",
       "      <td>5</td>\n",
       "      <td>None</td>\n",
       "      <td>...</td>\n",
       "      <td>None</td>\n",
       "      <td>None</td>\n",
       "      <td>None</td>\n",
       "      <td>None</td>\n",
       "      <td>None</td>\n",
       "      <td>None</td>\n",
       "      <td>469</td>\n",
       "      <td>92.0</td>\n",
       "      <td>745</td>\n",
       "      <td>34.0</td>\n",
       "    </tr>\n",
       "    <tr>\n",
       "      <th>486549</th>\n",
       "      <td>2024-M-ITF-USA-2024-010</td>\n",
       "      <td>M25 Pensacola FL</td>\n",
       "      <td>Clay</td>\n",
       "      <td>32</td>\n",
       "      <td>25</td>\n",
       "      <td>2024-05-13</td>\n",
       "      <td>304</td>\n",
       "      <td>200273</td>\n",
       "      <td>2</td>\n",
       "      <td>None</td>\n",
       "      <td>...</td>\n",
       "      <td>None</td>\n",
       "      <td>None</td>\n",
       "      <td>None</td>\n",
       "      <td>None</td>\n",
       "      <td>None</td>\n",
       "      <td>None</td>\n",
       "      <td>286</td>\n",
       "      <td>196.0</td>\n",
       "      <td>507</td>\n",
       "      <td>77.0</td>\n",
       "    </tr>\n",
       "    <tr>\n",
       "      <th>486550</th>\n",
       "      <td>2024-M-ITF-USA-2024-010</td>\n",
       "      <td>M25 Pensacola FL</td>\n",
       "      <td>Clay</td>\n",
       "      <td>32</td>\n",
       "      <td>25</td>\n",
       "      <td>2024-05-13</td>\n",
       "      <td>401</td>\n",
       "      <td>200748</td>\n",
       "      <td>4</td>\n",
       "      <td>None</td>\n",
       "      <td>...</td>\n",
       "      <td>None</td>\n",
       "      <td>None</td>\n",
       "      <td>None</td>\n",
       "      <td>None</td>\n",
       "      <td>None</td>\n",
       "      <td>None</td>\n",
       "      <td>374</td>\n",
       "      <td>133.0</td>\n",
       "      <td>256</td>\n",
       "      <td>230.0</td>\n",
       "    </tr>\n",
       "    <tr>\n",
       "      <th>486551</th>\n",
       "      <td>2024-M-ITF-USA-2024-010</td>\n",
       "      <td>M25 Pensacola FL</td>\n",
       "      <td>Clay</td>\n",
       "      <td>32</td>\n",
       "      <td>25</td>\n",
       "      <td>2024-05-13</td>\n",
       "      <td>402</td>\n",
       "      <td>200273</td>\n",
       "      <td>2</td>\n",
       "      <td>None</td>\n",
       "      <td>...</td>\n",
       "      <td>None</td>\n",
       "      <td>None</td>\n",
       "      <td>None</td>\n",
       "      <td>None</td>\n",
       "      <td>None</td>\n",
       "      <td>None</td>\n",
       "      <td>286</td>\n",
       "      <td>196.0</td>\n",
       "      <td>469</td>\n",
       "      <td>92.0</td>\n",
       "    </tr>\n",
       "    <tr>\n",
       "      <th>486552</th>\n",
       "      <td>2024-M-ITF-USA-2024-010</td>\n",
       "      <td>M25 Pensacola FL</td>\n",
       "      <td>Clay</td>\n",
       "      <td>32</td>\n",
       "      <td>25</td>\n",
       "      <td>2024-05-13</td>\n",
       "      <td>501</td>\n",
       "      <td>200748</td>\n",
       "      <td>4</td>\n",
       "      <td>None</td>\n",
       "      <td>...</td>\n",
       "      <td>None</td>\n",
       "      <td>None</td>\n",
       "      <td>None</td>\n",
       "      <td>None</td>\n",
       "      <td>None</td>\n",
       "      <td>None</td>\n",
       "      <td>374</td>\n",
       "      <td>133.0</td>\n",
       "      <td>286</td>\n",
       "      <td>196.0</td>\n",
       "    </tr>\n",
       "  </tbody>\n",
       "</table>\n",
       "<p>486553 rows × 49 columns</p>\n",
       "</div>"
      ],
      "text/plain": [
       "                     tourney_id      tourney_name surface  draw_size  \\\n",
       "0       1991-M-SA-IND-02A-1990a   India Masters 1    Hard         32   \n",
       "1       1991-M-SA-IND-02A-1990a   India Masters 1    Hard         32   \n",
       "2       1991-M-SA-IND-02A-1990a   India Masters 1    Hard         32   \n",
       "3       1991-M-SA-IND-02A-1990a   India Masters 1    Hard         32   \n",
       "4       1991-M-SA-IND-02A-1990a   India Masters 1    Hard         32   \n",
       "...                         ...               ...     ...        ...   \n",
       "486548  2024-M-ITF-USA-2024-010  M25 Pensacola FL    Clay         32   \n",
       "486549  2024-M-ITF-USA-2024-010  M25 Pensacola FL    Clay         32   \n",
       "486550  2024-M-ITF-USA-2024-010  M25 Pensacola FL    Clay         32   \n",
       "486551  2024-M-ITF-USA-2024-010  M25 Pensacola FL    Clay         32   \n",
       "486552  2024-M-ITF-USA-2024-010  M25 Pensacola FL    Clay         32   \n",
       "\n",
       "       tourney_level tourney_date  match_num  winner_id winner_seed  \\\n",
       "0                  S   1990-12-29          1     101484           1   \n",
       "1                  S   1990-12-29          2     106819        None   \n",
       "2                  S   1990-12-29          3     102216        None   \n",
       "3                  S   1990-12-29          4     101663        None   \n",
       "4                  S   1990-12-29          5     100794           4   \n",
       "...              ...          ...        ...        ...         ...   \n",
       "486548            25   2024-05-13        303     210044           5   \n",
       "486549            25   2024-05-13        304     200273           2   \n",
       "486550            25   2024-05-13        401     200748           4   \n",
       "486551            25   2024-05-13        402     200273           2   \n",
       "486552            25   2024-05-13        501     200748           4   \n",
       "\n",
       "       winner_entry  ... l_1stIn l_1stWon  l_2ndWon l_SvGms  l_bpSaved  \\\n",
       "0              None  ...    None     None      None    None       None   \n",
       "1              None  ...    None     None      None    None       None   \n",
       "2                LL  ...    None     None      None    None       None   \n",
       "3              None  ...    None     None      None    None       None   \n",
       "4              None  ...    None     None      None    None       None   \n",
       "...             ...  ...     ...      ...       ...     ...        ...   \n",
       "486548         None  ...    None     None      None    None       None   \n",
       "486549         None  ...    None     None      None    None       None   \n",
       "486550         None  ...    None     None      None    None       None   \n",
       "486551         None  ...    None     None      None    None       None   \n",
       "486552         None  ...    None     None      None    None       None   \n",
       "\n",
       "        l_bpFaced winner_rank winner_rank_points loser_rank loser_rank_points  \n",
       "0            None         266               82.0        805               4.0  \n",
       "1            None         941                2.0        692               8.0  \n",
       "2            None         862                3.0        862               3.0  \n",
       "3            None         703                8.0        588              14.0  \n",
       "4            None         420               33.0        862               3.0  \n",
       "...           ...         ...                ...        ...               ...  \n",
       "486548       None         469               92.0        745              34.0  \n",
       "486549       None         286              196.0        507              77.0  \n",
       "486550       None         374              133.0        256             230.0  \n",
       "486551       None         286              196.0        469              92.0  \n",
       "486552       None         374              133.0        286             196.0  \n",
       "\n",
       "[486553 rows x 49 columns]"
      ]
     },
     "execution_count": 268,
     "metadata": {},
     "output_type": "execute_result"
    }
   ],
   "source": [
    "path4=\"futures_matches.parquet\"\n",
    "df4=pd.read_parquet(path4)\n",
    "df4"
   ]
  },
  {
   "cell_type": "code",
   "execution_count": 276,
   "metadata": {},
   "outputs": [
    {
     "data": {
      "text/plain": [
       "<Axes: >"
      ]
     },
     "execution_count": 276,
     "metadata": {},
     "output_type": "execute_result"
    },
    {
     "data": {
      "image/png": "[encoded data removed]",
      "text/plain": [
       "<Figure size 640x480 with 1 Axes>"
      ]
     },
     "metadata": {},
     "output_type": "display_data"
    }
   ],
   "source": [
    "sns.heatmap(df4.isna(), cbar=False)"
   ]
  },
  {
   "cell_type": "code",
   "execution_count": 280,
   "metadata": {},
   "outputs": [
    {
     "data": {
      "text/html": [
       "<div>\n",
       "<style scoped>\n",
       "    .dataframe tbody tr th:only-of-type {\n",
       "        vertical-align: middle;\n",
       "    }\n",
       "\n",
       "    .dataframe tbody tr th {\n",
       "        vertical-align: top;\n",
       "    }\n",
       "\n",
       "    .dataframe thead th {\n",
       "        text-align: right;\n",
       "    }\n",
       "</style>\n",
       "<table border=\"1\" class=\"dataframe\">\n",
       "  <thead>\n",
       "    <tr style=\"text-align: right;\">\n",
       "      <th></th>\n",
       "      <th>winner_seed</th>\n",
       "      <th>winner_entry</th>\n",
       "      <th>winner_hand</th>\n",
       "      <th>winner_ht</th>\n",
       "      <th>winner_ioc</th>\n",
       "      <th>winner_age</th>\n",
       "      <th>loser_seed</th>\n",
       "      <th>loser_entry</th>\n",
       "      <th>loser_hand</th>\n",
       "      <th>loser_ht</th>\n",
       "      <th>...</th>\n",
       "      <th>l_1stIn</th>\n",
       "      <th>l_1stWon</th>\n",
       "      <th>l_2ndWon</th>\n",
       "      <th>l_SvGms</th>\n",
       "      <th>l_bpSaved</th>\n",
       "      <th>l_bpFaced</th>\n",
       "      <th>winner_rank</th>\n",
       "      <th>winner_rank_points</th>\n",
       "      <th>loser_rank</th>\n",
       "      <th>loser_rank_points</th>\n",
       "    </tr>\n",
       "  </thead>\n",
       "  <tbody>\n",
       "    <tr>\n",
       "      <th>0</th>\n",
       "      <td>1</td>\n",
       "      <td>None</td>\n",
       "      <td>R</td>\n",
       "      <td>175.0</td>\n",
       "      <td>GEO</td>\n",
       "      <td>22.6</td>\n",
       "      <td>None</td>\n",
       "      <td>None</td>\n",
       "      <td>R</td>\n",
       "      <td>NaN</td>\n",
       "      <td>...</td>\n",
       "      <td>None</td>\n",
       "      <td>None</td>\n",
       "      <td>None</td>\n",
       "      <td>None</td>\n",
       "      <td>None</td>\n",
       "      <td>None</td>\n",
       "      <td>266</td>\n",
       "      <td>82.0</td>\n",
       "      <td>805</td>\n",
       "      <td>4.0</td>\n",
       "    </tr>\n",
       "    <tr>\n",
       "      <th>1</th>\n",
       "      <td>None</td>\n",
       "      <td>None</td>\n",
       "      <td>R</td>\n",
       "      <td>NaN</td>\n",
       "      <td>PHI</td>\n",
       "      <td>30.2</td>\n",
       "      <td>None</td>\n",
       "      <td>None</td>\n",
       "      <td>R</td>\n",
       "      <td>NaN</td>\n",
       "      <td>...</td>\n",
       "      <td>None</td>\n",
       "      <td>None</td>\n",
       "      <td>None</td>\n",
       "      <td>None</td>\n",
       "      <td>None</td>\n",
       "      <td>None</td>\n",
       "      <td>941</td>\n",
       "      <td>2.0</td>\n",
       "      <td>692</td>\n",
       "      <td>8.0</td>\n",
       "    </tr>\n",
       "    <tr>\n",
       "      <th>2</th>\n",
       "      <td>None</td>\n",
       "      <td>LL</td>\n",
       "      <td>R</td>\n",
       "      <td>NaN</td>\n",
       "      <td>GER</td>\n",
       "      <td>17.6</td>\n",
       "      <td>None</td>\n",
       "      <td>None</td>\n",
       "      <td>R</td>\n",
       "      <td>NaN</td>\n",
       "      <td>...</td>\n",
       "      <td>None</td>\n",
       "      <td>None</td>\n",
       "      <td>None</td>\n",
       "      <td>None</td>\n",
       "      <td>None</td>\n",
       "      <td>None</td>\n",
       "      <td>862</td>\n",
       "      <td>3.0</td>\n",
       "      <td>862</td>\n",
       "      <td>3.0</td>\n",
       "    </tr>\n",
       "    <tr>\n",
       "      <th>3</th>\n",
       "      <td>None</td>\n",
       "      <td>None</td>\n",
       "      <td>R</td>\n",
       "      <td>NaN</td>\n",
       "      <td>ITA</td>\n",
       "      <td>21.1</td>\n",
       "      <td>8</td>\n",
       "      <td>None</td>\n",
       "      <td>R</td>\n",
       "      <td>NaN</td>\n",
       "      <td>...</td>\n",
       "      <td>None</td>\n",
       "      <td>None</td>\n",
       "      <td>None</td>\n",
       "      <td>None</td>\n",
       "      <td>None</td>\n",
       "      <td>None</td>\n",
       "      <td>703</td>\n",
       "      <td>8.0</td>\n",
       "      <td>588</td>\n",
       "      <td>14.0</td>\n",
       "    </tr>\n",
       "    <tr>\n",
       "      <th>4</th>\n",
       "      <td>4</td>\n",
       "      <td>None</td>\n",
       "      <td>R</td>\n",
       "      <td>190.0</td>\n",
       "      <td>IND</td>\n",
       "      <td>28.9</td>\n",
       "      <td>None</td>\n",
       "      <td>None</td>\n",
       "      <td>R</td>\n",
       "      <td>NaN</td>\n",
       "      <td>...</td>\n",
       "      <td>None</td>\n",
       "      <td>None</td>\n",
       "      <td>None</td>\n",
       "      <td>None</td>\n",
       "      <td>None</td>\n",
       "      <td>None</td>\n",
       "      <td>420</td>\n",
       "      <td>33.0</td>\n",
       "      <td>862</td>\n",
       "      <td>3.0</td>\n",
       "    </tr>\n",
       "    <tr>\n",
       "      <th>...</th>\n",
       "      <td>...</td>\n",
       "      <td>...</td>\n",
       "      <td>...</td>\n",
       "      <td>...</td>\n",
       "      <td>...</td>\n",
       "      <td>...</td>\n",
       "      <td>...</td>\n",
       "      <td>...</td>\n",
       "      <td>...</td>\n",
       "      <td>...</td>\n",
       "      <td>...</td>\n",
       "      <td>...</td>\n",
       "      <td>...</td>\n",
       "      <td>...</td>\n",
       "      <td>...</td>\n",
       "      <td>...</td>\n",
       "      <td>...</td>\n",
       "      <td>...</td>\n",
       "      <td>...</td>\n",
       "      <td>...</td>\n",
       "      <td>...</td>\n",
       "    </tr>\n",
       "    <tr>\n",
       "      <th>486548</th>\n",
       "      <td>5</td>\n",
       "      <td>None</td>\n",
       "      <td>U</td>\n",
       "      <td>NaN</td>\n",
       "      <td>USA</td>\n",
       "      <td>20.0</td>\n",
       "      <td>None</td>\n",
       "      <td>None</td>\n",
       "      <td>U</td>\n",
       "      <td>NaN</td>\n",
       "      <td>...</td>\n",
       "      <td>None</td>\n",
       "      <td>None</td>\n",
       "      <td>None</td>\n",
       "      <td>None</td>\n",
       "      <td>None</td>\n",
       "      <td>None</td>\n",
       "      <td>469</td>\n",
       "      <td>92.0</td>\n",
       "      <td>745</td>\n",
       "      <td>34.0</td>\n",
       "    </tr>\n",
       "    <tr>\n",
       "      <th>486549</th>\n",
       "      <td>2</td>\n",
       "      <td>None</td>\n",
       "      <td>R</td>\n",
       "      <td>NaN</td>\n",
       "      <td>LBN</td>\n",
       "      <td>25.7</td>\n",
       "      <td>7</td>\n",
       "      <td>None</td>\n",
       "      <td>U</td>\n",
       "      <td>NaN</td>\n",
       "      <td>...</td>\n",
       "      <td>None</td>\n",
       "      <td>None</td>\n",
       "      <td>None</td>\n",
       "      <td>None</td>\n",
       "      <td>None</td>\n",
       "      <td>None</td>\n",
       "      <td>286</td>\n",
       "      <td>196.0</td>\n",
       "      <td>507</td>\n",
       "      <td>77.0</td>\n",
       "    </tr>\n",
       "    <tr>\n",
       "      <th>486550</th>\n",
       "      <td>4</td>\n",
       "      <td>None</td>\n",
       "      <td>R</td>\n",
       "      <td>NaN</td>\n",
       "      <td>ECU</td>\n",
       "      <td>25.3</td>\n",
       "      <td>1</td>\n",
       "      <td>None</td>\n",
       "      <td>R</td>\n",
       "      <td>193.0</td>\n",
       "      <td>...</td>\n",
       "      <td>None</td>\n",
       "      <td>None</td>\n",
       "      <td>None</td>\n",
       "      <td>None</td>\n",
       "      <td>None</td>\n",
       "      <td>None</td>\n",
       "      <td>374</td>\n",
       "      <td>133.0</td>\n",
       "      <td>256</td>\n",
       "      <td>230.0</td>\n",
       "    </tr>\n",
       "    <tr>\n",
       "      <th>486551</th>\n",
       "      <td>2</td>\n",
       "      <td>None</td>\n",
       "      <td>R</td>\n",
       "      <td>NaN</td>\n",
       "      <td>LBN</td>\n",
       "      <td>25.7</td>\n",
       "      <td>5</td>\n",
       "      <td>None</td>\n",
       "      <td>U</td>\n",
       "      <td>NaN</td>\n",
       "      <td>...</td>\n",
       "      <td>None</td>\n",
       "      <td>None</td>\n",
       "      <td>None</td>\n",
       "      <td>None</td>\n",
       "      <td>None</td>\n",
       "      <td>None</td>\n",
       "      <td>286</td>\n",
       "      <td>196.0</td>\n",
       "      <td>469</td>\n",
       "      <td>92.0</td>\n",
       "    </tr>\n",
       "    <tr>\n",
       "      <th>486552</th>\n",
       "      <td>4</td>\n",
       "      <td>None</td>\n",
       "      <td>R</td>\n",
       "      <td>NaN</td>\n",
       "      <td>ECU</td>\n",
       "      <td>25.3</td>\n",
       "      <td>2</td>\n",
       "      <td>None</td>\n",
       "      <td>R</td>\n",
       "      <td>NaN</td>\n",
       "      <td>...</td>\n",
       "      <td>None</td>\n",
       "      <td>None</td>\n",
       "      <td>None</td>\n",
       "      <td>None</td>\n",
       "      <td>None</td>\n",
       "      <td>None</td>\n",
       "      <td>374</td>\n",
       "      <td>133.0</td>\n",
       "      <td>286</td>\n",
       "      <td>196.0</td>\n",
       "    </tr>\n",
       "  </tbody>\n",
       "</table>\n",
       "<p>486553 rows × 36 columns</p>\n",
       "</div>"
      ],
      "text/plain": [
       "       winner_seed winner_entry winner_hand  winner_ht winner_ioc  winner_age  \\\n",
       "0                1         None           R      175.0        GEO        22.6   \n",
       "1             None         None           R        NaN        PHI        30.2   \n",
       "2             None           LL           R        NaN        GER        17.6   \n",
       "3             None         None           R        NaN        ITA        21.1   \n",
       "4                4         None           R      190.0        IND        28.9   \n",
       "...            ...          ...         ...        ...        ...         ...   \n",
       "486548           5         None           U        NaN        USA        20.0   \n",
       "486549           2         None           R        NaN        LBN        25.7   \n",
       "486550           4         None           R        NaN        ECU        25.3   \n",
       "486551           2         None           R        NaN        LBN        25.7   \n",
       "486552           4         None           R        NaN        ECU        25.3   \n",
       "\n",
       "       loser_seed loser_entry loser_hand  loser_ht  ... l_1stIn  l_1stWon  \\\n",
       "0            None        None          R       NaN  ...    None      None   \n",
       "1            None        None          R       NaN  ...    None      None   \n",
       "2            None        None          R       NaN  ...    None      None   \n",
       "3               8        None          R       NaN  ...    None      None   \n",
       "4            None        None          R       NaN  ...    None      None   \n",
       "...           ...         ...        ...       ...  ...     ...       ...   \n",
       "486548       None        None          U       NaN  ...    None      None   \n",
       "486549          7        None          U       NaN  ...    None      None   \n",
       "486550          1        None          R     193.0  ...    None      None   \n",
       "486551          5        None          U       NaN  ...    None      None   \n",
       "486552          2        None          R       NaN  ...    None      None   \n",
       "\n",
       "       l_2ndWon l_SvGms l_bpSaved l_bpFaced winner_rank winner_rank_points  \\\n",
       "0          None    None      None      None         266               82.0   \n",
       "1          None    None      None      None         941                2.0   \n",
       "2          None    None      None      None         862                3.0   \n",
       "3          None    None      None      None         703                8.0   \n",
       "4          None    None      None      None         420               33.0   \n",
       "...         ...     ...       ...       ...         ...                ...   \n",
       "486548     None    None      None      None         469               92.0   \n",
       "486549     None    None      None      None         286              196.0   \n",
       "486550     None    None      None      None         374              133.0   \n",
       "486551     None    None      None      None         286              196.0   \n",
       "486552     None    None      None      None         374              133.0   \n",
       "\n",
       "       loser_rank loser_rank_points  \n",
       "0             805               4.0  \n",
       "1             692               8.0  \n",
       "2             862               3.0  \n",
       "3             588              14.0  \n",
       "4             862               3.0  \n",
       "...           ...               ...  \n",
       "486548        745              34.0  \n",
       "486549        507              77.0  \n",
       "486550        256             230.0  \n",
       "486551        469              92.0  \n",
       "486552        286             196.0  \n",
       "\n",
       "[486553 rows x 36 columns]"
      ]
     },
     "execution_count": 280,
     "metadata": {},
     "output_type": "execute_result"
    }
   ],
   "source": [
    "colonne_con_nan_df4 = pd.DataFrame()\n",
    "\n",
    "for colonna in df4.columns:\n",
    "    if df4[colonna].isnull().any():\n",
    "        colonne_con_nan_df4[colonna] = df4[colonna] \n",
    "\n",
    "colonne_con_nan_df4\n"
   ]
  },
  {
   "cell_type": "code",
   "execution_count": 314,
   "metadata": {},
   "outputs": [
    {
     "data": {
      "text/plain": [
       "<Axes: >"
      ]
     },
     "execution_count": 314,
     "metadata": {},
     "output_type": "execute_result"
    },
    {
     "data": {
      "image/png": "[encoded data removed]",
      "text/plain": [
       "<Figure size 640x480 with 1 Axes>"
      ]
     },
     "metadata": {},
     "output_type": "display_data"
    }
   ],
   "source": [
    "sns.heatmap(colonne_con_nan_df4.isna(), cbar=False)"
   ]
  },
  {
   "cell_type": "code",
   "execution_count": 283,
   "metadata": {},
   "outputs": [
    {
     "data": {
      "text/plain": [
       "winner_seed\n",
       "None    261417\n",
       "1        34944\n",
       "2        34474\n",
       "3        30256\n",
       "4        28527\n",
       "5        25563\n",
       "6        24370\n",
       "7        22685\n",
       "8        21476\n",
       "9          519\n",
       "13         381\n",
       "10         381\n",
       "12         358\n",
       "11         335\n",
       "14         317\n",
       "16         274\n",
       "15         271\n",
       "25           5\n",
       "Name: count, dtype: int64"
      ]
     },
     "execution_count": 283,
     "metadata": {},
     "output_type": "execute_result"
    }
   ],
   "source": [
    "df4['winner_seed'].value_counts(dropna=False)"
   ]
  },
  {
   "cell_type": "code",
   "execution_count": 286,
   "metadata": {},
   "outputs": [],
   "source": [
    "#la colonna winner_seed è composta dal 53% di valori nan"
   ]
  },
  {
   "cell_type": "markdown",
   "metadata": {},
   "source": [
    "-------------------"
   ]
  },
  {
   "cell_type": "code",
   "execution_count": 288,
   "metadata": {},
   "outputs": [
    {
     "data": {
      "text/plain": [
       "winner_entry\n",
       "None     449469\n",
       "WC        25324\n",
       "LL         4861\n",
       "SE         4348\n",
       "PR         1712\n",
       "JE          378\n",
       "JR          179\n",
       "IR          169\n",
       "A            83\n",
       "JR           28\n",
       "ITF           2\n",
       "Name: count, dtype: int64"
      ]
     },
     "execution_count": 288,
     "metadata": {},
     "output_type": "execute_result"
    }
   ],
   "source": [
    "df4['winner_entry'].value_counts(dropna=False)"
   ]
  },
  {
   "cell_type": "code",
   "execution_count": 291,
   "metadata": {},
   "outputs": [],
   "source": [
    "#la colonna winner_entry è composta dal 92% di valori nan"
   ]
  },
  {
   "cell_type": "markdown",
   "metadata": {},
   "source": [
    "-------------"
   ]
  },
  {
   "cell_type": "code",
   "execution_count": 293,
   "metadata": {},
   "outputs": [
    {
     "data": {
      "text/plain": [
       "winner_hand\n",
       "R       346516\n",
       "U        94729\n",
       "L        45069\n",
       "A          153\n",
       "None        86\n",
       "Name: count, dtype: int64"
      ]
     },
     "execution_count": 293,
     "metadata": {},
     "output_type": "execute_result"
    }
   ],
   "source": [
    "df4['winner_hand'].value_counts(dropna=False)"
   ]
  },
  {
   "cell_type": "code",
   "execution_count": 296,
   "metadata": {},
   "outputs": [],
   "source": [
    "#la colonna winner_hand è composta dallo 0,01% di valori nan"
   ]
  },
  {
   "cell_type": "markdown",
   "metadata": {},
   "source": [
    "-------------"
   ]
  },
  {
   "cell_type": "code",
   "execution_count": 298,
   "metadata": {},
   "outputs": [
    {
     "data": {
      "text/plain": [
       "winner_ht\n",
       "NaN      282915\n",
       "183.0     31835\n",
       "185.0     31742\n",
       "180.0     29034\n",
       "188.0     27858\n",
       "178.0     16634\n",
       "190.0     12963\n",
       "175.0     11813\n",
       "193.0     10849\n",
       "173.0      7118\n",
       "191.0      6134\n",
       "196.0      4575\n",
       "170.0      3441\n",
       "198.0      2626\n",
       "168.0      1157\n",
       "203.0      1147\n",
       "201.0       941\n",
       "174.0       768\n",
       "176.0       681\n",
       "165.0       491\n",
       "189.0       358\n",
       "194.0       334\n",
       "181.0       213\n",
       "186.0       208\n",
       "163.0       166\n",
       "172.0       114\n",
       "208.0       106\n",
       "145.0       103\n",
       "206.0        45\n",
       "71.0         39\n",
       "157.0        37\n",
       "182.0        29\n",
       "15.0         28\n",
       "187.0        19\n",
       "211.0        14\n",
       "13.0          9\n",
       "160.0         5\n",
       "200.0         4\n",
       "Name: count, dtype: int64"
      ]
     },
     "execution_count": 298,
     "metadata": {},
     "output_type": "execute_result"
    }
   ],
   "source": [
    "df4['winner_ht'].value_counts(dropna=False)"
   ]
  },
  {
   "cell_type": "code",
   "execution_count": 301,
   "metadata": {},
   "outputs": [],
   "source": [
    "#la colonna winner_ht è composta dal 58% di valori nan"
   ]
  },
  {
   "cell_type": "markdown",
   "metadata": {},
   "source": [
    "-------------"
   ]
  },
  {
   "cell_type": "code",
   "execution_count": 303,
   "metadata": {},
   "outputs": [
    {
     "data": {
      "text/plain": [
       "winner_ioc\n",
       "FRA    36242\n",
       "ESP    33735\n",
       "ITA    31824\n",
       "USA    30760\n",
       "ARG    27718\n",
       "       ...  \n",
       "BRU        1\n",
       "ISV        1\n",
       "LIE        1\n",
       "SUR        1\n",
       "CUW        1\n",
       "Name: count, Length: 161, dtype: int64"
      ]
     },
     "execution_count": 303,
     "metadata": {},
     "output_type": "execute_result"
    }
   ],
   "source": [
    "df4['winner_ioc'].value_counts(dropna=False)"
   ]
  },
  {
   "cell_type": "code",
   "execution_count": 304,
   "metadata": {},
   "outputs": [
    {
     "data": {
      "text/plain": [
       "49"
      ]
     },
     "execution_count": 304,
     "metadata": {},
     "output_type": "execute_result"
    }
   ],
   "source": [
    "df4['winner_ioc'].isna().sum()"
   ]
  },
  {
   "cell_type": "code",
   "execution_count": 307,
   "metadata": {},
   "outputs": [],
   "source": [
    "#la colonna winner_ioc e composta dallo 0,01% di valori nan"
   ]
  },
  {
   "cell_type": "markdown",
   "metadata": {},
   "source": [
    "--------"
   ]
  },
  {
   "cell_type": "code",
   "execution_count": 309,
   "metadata": {},
   "outputs": [
    {
     "data": {
      "text/plain": [
       "winner_age\n",
       "21.1    5839\n",
       "21.0    5799\n",
       "20.3    5713\n",
       "21.3    5700\n",
       "22.2    5698\n",
       "        ... \n",
       "41.7       1\n",
       "40.2       1\n",
       "44.3       1\n",
       "42.3       1\n",
       "45.5       1\n",
       "Name: count, Length: 328, dtype: int64"
      ]
     },
     "execution_count": 309,
     "metadata": {},
     "output_type": "execute_result"
    }
   ],
   "source": [
    "df4['winner_age'].value_counts(dropna=False)"
   ]
  },
  {
   "cell_type": "code",
   "execution_count": 310,
   "metadata": {},
   "outputs": [
    {
     "data": {
      "text/plain": [
       "4499"
      ]
     },
     "execution_count": 310,
     "metadata": {},
     "output_type": "execute_result"
    }
   ],
   "source": [
    "df4['winner_age'].isna().sum()"
   ]
  },
  {
   "cell_type": "code",
   "execution_count": null,
   "metadata": {},
   "outputs": [],
   "source": [
    "#la colonna winner_age è composa dallo 0,92% di valori nan"
   ]
  },
  {
   "cell_type": "markdown",
   "metadata": {},
   "source": [
    "---------------"
   ]
  },
  {
   "cell_type": "code",
   "execution_count": 315,
   "metadata": {},
   "outputs": [
    {
     "data": {
      "text/plain": [
       "loser_seed\n",
       "None    377487\n",
       "8        14174\n",
       "7        14070\n",
       "6        13910\n",
       "5        13836\n",
       "4        13536\n",
       "2        13160\n",
       "3        13046\n",
       "1        11371\n",
       "9          312\n",
       "10         239\n",
       "15         238\n",
       "13         238\n",
       "11         234\n",
       "14         234\n",
       "12         234\n",
       "16         233\n",
       "38           1\n",
       "Name: count, dtype: int64"
      ]
     },
     "execution_count": 315,
     "metadata": {},
     "output_type": "execute_result"
    }
   ],
   "source": [
    "df4['loser_seed'].value_counts(dropna=False)"
   ]
  },
  {
   "cell_type": "code",
   "execution_count": 318,
   "metadata": {},
   "outputs": [],
   "source": [
    "#la colonna loser_seed è composta dal 77% di valori nan"
   ]
  },
  {
   "cell_type": "markdown",
   "metadata": {},
   "source": [
    "-----------"
   ]
  },
  {
   "cell_type": "code",
   "execution_count": 320,
   "metadata": {},
   "outputs": [
    {
     "data": {
      "text/plain": [
       "loser_entry\n",
       "None     412227\n",
       "WC        55657\n",
       "LL        12700\n",
       "SE         3295\n",
       "PR         1679\n",
       "JE          341\n",
       "JR          228\n",
       "IR          215\n",
       "A           166\n",
       "JR           41\n",
       "ITF           3\n",
       "W             1\n",
       "Name: count, dtype: int64"
      ]
     },
     "execution_count": 320,
     "metadata": {},
     "output_type": "execute_result"
    }
   ],
   "source": [
    "df4['loser_entry'].value_counts(dropna=False)"
   ]
  },
  {
   "cell_type": "code",
   "execution_count": 323,
   "metadata": {},
   "outputs": [],
   "source": [
    "#la colonna loser_entry è composta dall'84% di valori nan"
   ]
  },
  {
   "cell_type": "markdown",
   "metadata": {},
   "source": [
    "-----------"
   ]
  },
  {
   "cell_type": "code",
   "execution_count": 325,
   "metadata": {},
   "outputs": [
    {
     "data": {
      "text/plain": [
       "loser_hand\n",
       "R       305399\n",
       "U       143140\n",
       "L        37721\n",
       "None       176\n",
       "A          117\n",
       "Name: count, dtype: int64"
      ]
     },
     "execution_count": 325,
     "metadata": {},
     "output_type": "execute_result"
    }
   ],
   "source": [
    "df4['loser_hand'].value_counts(dropna=False)"
   ]
  },
  {
   "cell_type": "code",
   "execution_count": 328,
   "metadata": {},
   "outputs": [],
   "source": [
    "#la colonna loser_hand è composta dallo 0,03% di valori nan"
   ]
  },
  {
   "cell_type": "markdown",
   "metadata": {},
   "source": [
    "--------------"
   ]
  },
  {
   "cell_type": "code",
   "execution_count": 330,
   "metadata": {},
   "outputs": [
    {
     "data": {
      "text/plain": [
       "loser_ht\n",
       "NaN      359257\n",
       "183.0     19641\n",
       "185.0     19485\n",
       "180.0     17978\n",
       "188.0     17466\n",
       "178.0     10559\n",
       "190.0      7969\n",
       "175.0      7645\n",
       "193.0      7317\n",
       "173.0      4047\n",
       "191.0      3877\n",
       "196.0      3048\n",
       "170.0      2173\n",
       "198.0      1578\n",
       "168.0       734\n",
       "203.0       701\n",
       "201.0       603\n",
       "174.0       435\n",
       "165.0       346\n",
       "176.0       309\n",
       "189.0       237\n",
       "186.0       197\n",
       "194.0       193\n",
       "181.0       160\n",
       "145.0       136\n",
       "163.0        85\n",
       "182.0        71\n",
       "208.0        69\n",
       "172.0        37\n",
       "206.0        35\n",
       "157.0        32\n",
       "160.0        30\n",
       "15.0         30\n",
       "187.0        21\n",
       "71.0         19\n",
       "211.0        17\n",
       "200.0        10\n",
       "13.0          6\n",
       "Name: count, dtype: int64"
      ]
     },
     "execution_count": 330,
     "metadata": {},
     "output_type": "execute_result"
    }
   ],
   "source": [
    "df4['loser_ht'].value_counts(dropna=False)"
   ]
  },
  {
   "cell_type": "code",
   "execution_count": null,
   "metadata": {},
   "outputs": [],
   "source": [
    "#la colonna loser_ht è composta dal 73% di valori nan"
   ]
  },
  {
   "cell_type": "markdown",
   "metadata": {},
   "source": [
    "------------"
   ]
  },
  {
   "cell_type": "code",
   "execution_count": 334,
   "metadata": {},
   "outputs": [
    {
     "data": {
      "text/plain": [
       "loser_ioc\n",
       "USA    32990\n",
       "ITA    32732\n",
       "ESP    31795\n",
       "FRA    30841\n",
       "GER    26461\n",
       "       ...  \n",
       "SAM        1\n",
       "UNK        1\n",
       "NEP        1\n",
       "HAW        1\n",
       "BER        1\n",
       "Name: count, Length: 191, dtype: int64"
      ]
     },
     "execution_count": 334,
     "metadata": {},
     "output_type": "execute_result"
    }
   ],
   "source": [
    "df4['loser_ioc'].value_counts(dropna=False)"
   ]
  },
  {
   "cell_type": "code",
   "execution_count": 335,
   "metadata": {},
   "outputs": [
    {
     "data": {
      "text/plain": [
       "49"
      ]
     },
     "execution_count": 335,
     "metadata": {},
     "output_type": "execute_result"
    }
   ],
   "source": [
    "df4['loser_ioc'].isna().sum()"
   ]
  },
  {
   "cell_type": "code",
   "execution_count": 338,
   "metadata": {},
   "outputs": [],
   "source": [
    "#la colonna loser_ioc è composta dallo 0,01% di valori nan"
   ]
  },
  {
   "cell_type": "markdown",
   "metadata": {},
   "source": [
    "----------------"
   ]
  },
  {
   "cell_type": "code",
   "execution_count": 340,
   "metadata": {},
   "outputs": [
    {
     "data": {
      "text/plain": [
       "loser_age\n",
       "NaN      8856\n",
       "19.2     6218\n",
       "20.1     6090\n",
       "20.3     6046\n",
       "19.6     6006\n",
       "         ... \n",
       "43.0        1\n",
       "54.3        1\n",
       "56.5        1\n",
       "45.5        1\n",
       "101.3       1\n",
       "Name: count, Length: 382, dtype: int64"
      ]
     },
     "execution_count": 340,
     "metadata": {},
     "output_type": "execute_result"
    }
   ],
   "source": [
    "df4['loser_age'].value_counts(dropna=False)"
   ]
  },
  {
   "cell_type": "code",
   "execution_count": 343,
   "metadata": {},
   "outputs": [],
   "source": [
    "#la colonna loser_age è composta dall'1,82% di valori nan"
   ]
  },
  {
   "cell_type": "markdown",
   "metadata": {},
   "source": [
    "---------------"
   ]
  },
  {
   "cell_type": "code",
   "execution_count": 345,
   "metadata": {},
   "outputs": [
    {
     "data": {
      "text/plain": [
       "score\n",
       "6-3 6-4               15806\n",
       "6-4 6-4               15611\n",
       "6-3 6-2               15395\n",
       "6-2 6-2               14499\n",
       "6-4 6-2               14334\n",
       "                      ...  \n",
       "6-7(7) 7-6(6) 7-5         1\n",
       "6-7(4) 7-6(0) 7-5         1\n",
       "6-1 4-5 RET               1\n",
       "1-6 7-6(4) 7-6(7)         1\n",
       "7-6(5) 6-7(10) 6-1        1\n",
       "Name: count, Length: 8806, dtype: int64"
      ]
     },
     "execution_count": 345,
     "metadata": {},
     "output_type": "execute_result"
    }
   ],
   "source": [
    "df4['score'].value_counts(dropna=False)"
   ]
  },
  {
   "cell_type": "code",
   "execution_count": 346,
   "metadata": {},
   "outputs": [
    {
     "data": {
      "text/plain": [
       "1866"
      ]
     },
     "execution_count": 346,
     "metadata": {},
     "output_type": "execute_result"
    }
   ],
   "source": [
    "df4['score'].isna().sum()"
   ]
  },
  {
   "cell_type": "code",
   "execution_count": 349,
   "metadata": {},
   "outputs": [],
   "source": [
    "#la colonna score è composta dallo 0,38% di valori nan"
   ]
  },
  {
   "cell_type": "markdown",
   "metadata": {},
   "source": [
    "---------"
   ]
  },
  {
   "cell_type": "code",
   "execution_count": 351,
   "metadata": {},
   "outputs": [
    {
     "data": {
      "text/plain": [
       "minutes\n",
       "None    486553\n",
       "Name: count, dtype: int64"
      ]
     },
     "execution_count": 351,
     "metadata": {},
     "output_type": "execute_result"
    }
   ],
   "source": [
    "df4['minutes'].value_counts(dropna=False)"
   ]
  },
  {
   "cell_type": "markdown",
   "metadata": {},
   "source": [
    "------------"
   ]
  },
  {
   "cell_type": "code",
   "execution_count": 353,
   "metadata": {},
   "outputs": [
    {
     "data": {
      "text/plain": [
       "w_ace\n",
       "None    486553\n",
       "Name: count, dtype: int64"
      ]
     },
     "execution_count": 353,
     "metadata": {},
     "output_type": "execute_result"
    }
   ],
   "source": [
    "df4['w_ace'].value_counts(dropna=False)"
   ]
  },
  {
   "cell_type": "markdown",
   "metadata": {},
   "source": [
    "--------------"
   ]
  },
  {
   "cell_type": "code",
   "execution_count": 355,
   "metadata": {},
   "outputs": [
    {
     "data": {
      "text/plain": [
       "w_df\n",
       "None    486553\n",
       "Name: count, dtype: int64"
      ]
     },
     "execution_count": 355,
     "metadata": {},
     "output_type": "execute_result"
    }
   ],
   "source": [
    "df4['w_df'].value_counts(dropna=False)"
   ]
  },
  {
   "cell_type": "markdown",
   "metadata": {},
   "source": [
    "---------"
   ]
  },
  {
   "cell_type": "code",
   "execution_count": 357,
   "metadata": {},
   "outputs": [
    {
     "data": {
      "text/plain": [
       "w_svpt\n",
       "None    486553\n",
       "Name: count, dtype: int64"
      ]
     },
     "execution_count": 357,
     "metadata": {},
     "output_type": "execute_result"
    }
   ],
   "source": [
    "df4['w_svpt'].value_counts(dropna=False)"
   ]
  },
  {
   "cell_type": "markdown",
   "metadata": {},
   "source": [
    "--------------"
   ]
  },
  {
   "cell_type": "code",
   "execution_count": 359,
   "metadata": {},
   "outputs": [
    {
     "data": {
      "text/plain": [
       "w_1stIn\n",
       "None    486553\n",
       "Name: count, dtype: int64"
      ]
     },
     "execution_count": 359,
     "metadata": {},
     "output_type": "execute_result"
    }
   ],
   "source": [
    "df4['w_1stIn'].value_counts(dropna=False)"
   ]
  },
  {
   "cell_type": "markdown",
   "metadata": {},
   "source": [
    "---------------"
   ]
  },
  {
   "cell_type": "code",
   "execution_count": 361,
   "metadata": {},
   "outputs": [
    {
     "data": {
      "text/plain": [
       "w_1stWon\n",
       "None    486553\n",
       "Name: count, dtype: int64"
      ]
     },
     "execution_count": 361,
     "metadata": {},
     "output_type": "execute_result"
    }
   ],
   "source": [
    "df4['w_1stWon'].value_counts(dropna=False)"
   ]
  },
  {
   "cell_type": "markdown",
   "metadata": {},
   "source": [
    "-------------"
   ]
  },
  {
   "cell_type": "code",
   "execution_count": 363,
   "metadata": {},
   "outputs": [
    {
     "data": {
      "text/plain": [
       "w_2ndWon\n",
       "None    486553\n",
       "Name: count, dtype: int64"
      ]
     },
     "execution_count": 363,
     "metadata": {},
     "output_type": "execute_result"
    }
   ],
   "source": [
    "df4['w_2ndWon'].value_counts(dropna=False)"
   ]
  },
  {
   "cell_type": "markdown",
   "metadata": {},
   "source": [
    "------------"
   ]
  },
  {
   "cell_type": "code",
   "execution_count": 365,
   "metadata": {},
   "outputs": [
    {
     "data": {
      "text/plain": [
       "w_SvGms\n",
       "None    486553\n",
       "Name: count, dtype: int64"
      ]
     },
     "execution_count": 365,
     "metadata": {},
     "output_type": "execute_result"
    }
   ],
   "source": [
    "df4['w_SvGms'].value_counts(dropna=False)"
   ]
  },
  {
   "cell_type": "markdown",
   "metadata": {},
   "source": [
    "------------"
   ]
  },
  {
   "cell_type": "code",
   "execution_count": 367,
   "metadata": {},
   "outputs": [
    {
     "data": {
      "text/plain": [
       "w_bpSaved\n",
       "None    486553\n",
       "Name: count, dtype: int64"
      ]
     },
     "execution_count": 367,
     "metadata": {},
     "output_type": "execute_result"
    }
   ],
   "source": [
    "df4['w_bpSaved'].value_counts(dropna=False)"
   ]
  },
  {
   "cell_type": "markdown",
   "metadata": {},
   "source": [
    "------------"
   ]
  },
  {
   "cell_type": "code",
   "execution_count": 369,
   "metadata": {},
   "outputs": [
    {
     "data": {
      "text/plain": [
       "w_bpFaced\n",
       "None    486553\n",
       "Name: count, dtype: int64"
      ]
     },
     "execution_count": 369,
     "metadata": {},
     "output_type": "execute_result"
    }
   ],
   "source": [
    "df4['w_bpFaced'].value_counts(dropna=False)"
   ]
  },
  {
   "cell_type": "markdown",
   "metadata": {},
   "source": [
    "----------"
   ]
  },
  {
   "cell_type": "code",
   "execution_count": 371,
   "metadata": {},
   "outputs": [
    {
     "data": {
      "text/plain": [
       "l_ace\n",
       "None    486553\n",
       "Name: count, dtype: int64"
      ]
     },
     "execution_count": 371,
     "metadata": {},
     "output_type": "execute_result"
    }
   ],
   "source": [
    "df4['l_ace'].value_counts(dropna=False)"
   ]
  },
  {
   "cell_type": "markdown",
   "metadata": {},
   "source": [
    "-----------"
   ]
  },
  {
   "cell_type": "code",
   "execution_count": 373,
   "metadata": {},
   "outputs": [
    {
     "data": {
      "text/plain": [
       "l_df\n",
       "None    486553\n",
       "Name: count, dtype: int64"
      ]
     },
     "execution_count": 373,
     "metadata": {},
     "output_type": "execute_result"
    }
   ],
   "source": [
    "df4['l_df'].value_counts(dropna=False)"
   ]
  },
  {
   "cell_type": "markdown",
   "metadata": {},
   "source": [
    "---------"
   ]
  },
  {
   "cell_type": "code",
   "execution_count": 375,
   "metadata": {},
   "outputs": [
    {
     "data": {
      "text/plain": [
       "l_svpt\n",
       "None    486553\n",
       "Name: count, dtype: int64"
      ]
     },
     "execution_count": 375,
     "metadata": {},
     "output_type": "execute_result"
    }
   ],
   "source": [
    "df4['l_svpt'].value_counts(dropna=False)"
   ]
  },
  {
   "cell_type": "markdown",
   "metadata": {},
   "source": [
    "------------"
   ]
  },
  {
   "cell_type": "code",
   "execution_count": 377,
   "metadata": {},
   "outputs": [
    {
     "data": {
      "text/plain": [
       "l_1stIn\n",
       "None    486553\n",
       "Name: count, dtype: int64"
      ]
     },
     "execution_count": 377,
     "metadata": {},
     "output_type": "execute_result"
    }
   ],
   "source": [
    "df4['l_1stIn'].value_counts(dropna=False)"
   ]
  },
  {
   "cell_type": "markdown",
   "metadata": {},
   "source": [
    "------"
   ]
  },
  {
   "cell_type": "code",
   "execution_count": 379,
   "metadata": {},
   "outputs": [
    {
     "data": {
      "text/plain": [
       "l_1stWon\n",
       "None    486553\n",
       "Name: count, dtype: int64"
      ]
     },
     "execution_count": 379,
     "metadata": {},
     "output_type": "execute_result"
    }
   ],
   "source": [
    "df4['l_1stWon'].value_counts(dropna=False)"
   ]
  },
  {
   "cell_type": "markdown",
   "metadata": {},
   "source": [
    "----------"
   ]
  },
  {
   "cell_type": "code",
   "execution_count": 381,
   "metadata": {},
   "outputs": [
    {
     "data": {
      "text/plain": [
       "l_2ndWon\n",
       "None    486553\n",
       "Name: count, dtype: int64"
      ]
     },
     "execution_count": 381,
     "metadata": {},
     "output_type": "execute_result"
    }
   ],
   "source": [
    "df4['l_2ndWon'].value_counts(dropna=False)"
   ]
  },
  {
   "cell_type": "markdown",
   "metadata": {},
   "source": [
    "--------------------"
   ]
  },
  {
   "cell_type": "code",
   "execution_count": 383,
   "metadata": {},
   "outputs": [
    {
     "data": {
      "text/plain": [
       "l_SvGms\n",
       "None    486553\n",
       "Name: count, dtype: int64"
      ]
     },
     "execution_count": 383,
     "metadata": {},
     "output_type": "execute_result"
    }
   ],
   "source": [
    "df4['l_SvGms'].value_counts(dropna=False)"
   ]
  },
  {
   "cell_type": "markdown",
   "metadata": {},
   "source": [
    "------"
   ]
  },
  {
   "cell_type": "code",
   "execution_count": 385,
   "metadata": {},
   "outputs": [
    {
     "data": {
      "text/plain": [
       "l_bpSaved\n",
       "None    486553\n",
       "Name: count, dtype: int64"
      ]
     },
     "execution_count": 385,
     "metadata": {},
     "output_type": "execute_result"
    }
   ],
   "source": [
    "df4['l_bpSaved'].value_counts(dropna=False)"
   ]
  },
  {
   "cell_type": "markdown",
   "metadata": {},
   "source": [
    "------"
   ]
  },
  {
   "cell_type": "code",
   "execution_count": 387,
   "metadata": {},
   "outputs": [
    {
     "data": {
      "text/plain": [
       "l_bpFaced\n",
       "None    486553\n",
       "Name: count, dtype: int64"
      ]
     },
     "execution_count": 387,
     "metadata": {},
     "output_type": "execute_result"
    }
   ],
   "source": [
    "df4['l_bpFaced'].value_counts(dropna=False)"
   ]
  },
  {
   "cell_type": "markdown",
   "metadata": {},
   "source": [
    "---------"
   ]
  },
  {
   "cell_type": "code",
   "execution_count": 389,
   "metadata": {},
   "outputs": [
    {
     "data": {
      "text/plain": [
       "winner_rank\n",
       "None    38616\n",
       "377       870\n",
       "389       825\n",
       "474       817\n",
       "471       812\n",
       "        ...  \n",
       "2116        1\n",
       "2175        1\n",
       "2257        1\n",
       "2026        1\n",
       "2196        1\n",
       "Name: count, Length: 2105, dtype: int64"
      ]
     },
     "execution_count": 389,
     "metadata": {},
     "output_type": "execute_result"
    }
   ],
   "source": [
    "df4['winner_rank'].value_counts(dropna=False)"
   ]
  },
  {
   "cell_type": "code",
   "execution_count": null,
   "metadata": {},
   "outputs": [],
   "source": [
    "#la colonna winner_rank è composta dal 7,9% di valori nan"
   ]
  },
  {
   "cell_type": "markdown",
   "metadata": {},
   "source": [
    "-------"
   ]
  },
  {
   "cell_type": "code",
   "execution_count": 393,
   "metadata": {},
   "outputs": [
    {
     "data": {
      "text/plain": [
       "winner_rank_points\n",
       "NaN      47682\n",
       "1.0      13728\n",
       "2.0      10148\n",
       "3.0       9934\n",
       "4.0       9271\n",
       "         ...  \n",
       "315.0        1\n",
       "332.0        1\n",
       "448.0        1\n",
       "569.0        1\n",
       "411.0        1\n",
       "Name: count, Length: 382, dtype: int64"
      ]
     },
     "execution_count": 393,
     "metadata": {},
     "output_type": "execute_result"
    }
   ],
   "source": [
    "df4['winner_rank_points'].value_counts(dropna=False)"
   ]
  },
  {
   "cell_type": "code",
   "execution_count": 396,
   "metadata": {},
   "outputs": [],
   "source": [
    "#la colonnna winner_rank_points è composta dal 9,8% di valori nan"
   ]
  },
  {
   "cell_type": "markdown",
   "metadata": {},
   "source": [
    "-----------"
   ]
  },
  {
   "cell_type": "code",
   "execution_count": 398,
   "metadata": {},
   "outputs": [
    {
     "data": {
      "text/plain": [
       "loser_rank\n",
       "None    25001\n",
       "Name: count, dtype: int64"
      ]
     },
     "execution_count": 398,
     "metadata": {},
     "output_type": "execute_result"
    }
   ],
   "source": [
    "df['loser_rank'].value_counts(dropna=False)"
   ]
  },
  {
   "cell_type": "markdown",
   "metadata": {},
   "source": [
    "---------"
   ]
  },
  {
   "cell_type": "code",
   "execution_count": 400,
   "metadata": {},
   "outputs": [
    {
     "data": {
      "text/plain": [
       "loser_rank_points\n",
       "NaN      99455\n",
       "1.0      29064\n",
       "2.0      19999\n",
       "3.0      16782\n",
       "4.0      14978\n",
       "         ...  \n",
       "315.0        1\n",
       "387.0        1\n",
       "477.0        1\n",
       "409.0        1\n",
       "373.0        1\n",
       "Name: count, Length: 386, dtype: int64"
      ]
     },
     "execution_count": 400,
     "metadata": {},
     "output_type": "execute_result"
    }
   ],
   "source": [
    "df4['loser_rank_points'].value_counts(dropna=False)"
   ]
  },
  {
   "cell_type": "code",
   "execution_count": 403,
   "metadata": {},
   "outputs": [],
   "source": [
    "#la colonna loser_rank_points è composta dal 20% di valori nan"
   ]
  },
  {
   "cell_type": "markdown",
   "metadata": {},
   "source": [
    "## CONTROLLO NAN TABELLA quali_and_challengers_matches.parquet"
   ]
  },
  {
   "cell_type": "code",
   "execution_count": 404,
   "metadata": {},
   "outputs": [
    {
     "data": {
      "text/html": [
       "<div>\n",
       "<style scoped>\n",
       "    .dataframe tbody tr th:only-of-type {\n",
       "        vertical-align: middle;\n",
       "    }\n",
       "\n",
       "    .dataframe tbody tr th {\n",
       "        vertical-align: top;\n",
       "    }\n",
       "\n",
       "    .dataframe thead th {\n",
       "        text-align: right;\n",
       "    }\n",
       "</style>\n",
       "<table border=\"1\" class=\"dataframe\">\n",
       "  <thead>\n",
       "    <tr style=\"text-align: right;\">\n",
       "      <th></th>\n",
       "      <th>tourney_id</th>\n",
       "      <th>tourney_name</th>\n",
       "      <th>surface</th>\n",
       "      <th>draw_size</th>\n",
       "      <th>tourney_level</th>\n",
       "      <th>tourney_date</th>\n",
       "      <th>match_num</th>\n",
       "      <th>winner_id</th>\n",
       "      <th>winner_seed</th>\n",
       "      <th>winner_entry</th>\n",
       "      <th>...</th>\n",
       "      <th>l_1stIn</th>\n",
       "      <th>l_1stWon</th>\n",
       "      <th>l_2ndWon</th>\n",
       "      <th>l_SvGms</th>\n",
       "      <th>l_bpSaved</th>\n",
       "      <th>l_bpFaced</th>\n",
       "      <th>winner_rank</th>\n",
       "      <th>winner_rank_points</th>\n",
       "      <th>loser_rank</th>\n",
       "      <th>loser_rank_points</th>\n",
       "    </tr>\n",
       "  </thead>\n",
       "  <tbody>\n",
       "    <tr>\n",
       "      <th>0</th>\n",
       "      <td>1978-301</td>\n",
       "      <td>Auckland CH</td>\n",
       "      <td>Hard</td>\n",
       "      <td>32</td>\n",
       "      <td>C</td>\n",
       "      <td>1978-01-08</td>\n",
       "      <td>270</td>\n",
       "      <td>100373</td>\n",
       "      <td>None</td>\n",
       "      <td>None</td>\n",
       "      <td>...</td>\n",
       "      <td>None</td>\n",
       "      <td>None</td>\n",
       "      <td>None</td>\n",
       "      <td>None</td>\n",
       "      <td>None</td>\n",
       "      <td>None</td>\n",
       "      <td>232</td>\n",
       "      <td>None</td>\n",
       "      <td>None</td>\n",
       "      <td>None</td>\n",
       "    </tr>\n",
       "    <tr>\n",
       "      <th>1</th>\n",
       "      <td>1978-301</td>\n",
       "      <td>Auckland CH</td>\n",
       "      <td>Hard</td>\n",
       "      <td>32</td>\n",
       "      <td>C</td>\n",
       "      <td>1978-01-08</td>\n",
       "      <td>271</td>\n",
       "      <td>109807</td>\n",
       "      <td>None</td>\n",
       "      <td>None</td>\n",
       "      <td>...</td>\n",
       "      <td>None</td>\n",
       "      <td>None</td>\n",
       "      <td>None</td>\n",
       "      <td>None</td>\n",
       "      <td>None</td>\n",
       "      <td>None</td>\n",
       "      <td>None</td>\n",
       "      <td>None</td>\n",
       "      <td>None</td>\n",
       "      <td>None</td>\n",
       "    </tr>\n",
       "    <tr>\n",
       "      <th>2</th>\n",
       "      <td>1978-301</td>\n",
       "      <td>Auckland CH</td>\n",
       "      <td>Hard</td>\n",
       "      <td>32</td>\n",
       "      <td>C</td>\n",
       "      <td>1978-01-08</td>\n",
       "      <td>272</td>\n",
       "      <td>109810</td>\n",
       "      <td>None</td>\n",
       "      <td>None</td>\n",
       "      <td>...</td>\n",
       "      <td>None</td>\n",
       "      <td>None</td>\n",
       "      <td>None</td>\n",
       "      <td>None</td>\n",
       "      <td>None</td>\n",
       "      <td>None</td>\n",
       "      <td>None</td>\n",
       "      <td>None</td>\n",
       "      <td>None</td>\n",
       "      <td>None</td>\n",
       "    </tr>\n",
       "    <tr>\n",
       "      <th>3</th>\n",
       "      <td>1978-301</td>\n",
       "      <td>Auckland CH</td>\n",
       "      <td>Hard</td>\n",
       "      <td>32</td>\n",
       "      <td>C</td>\n",
       "      <td>1978-01-08</td>\n",
       "      <td>273</td>\n",
       "      <td>100638</td>\n",
       "      <td>None</td>\n",
       "      <td>None</td>\n",
       "      <td>...</td>\n",
       "      <td>None</td>\n",
       "      <td>None</td>\n",
       "      <td>None</td>\n",
       "      <td>None</td>\n",
       "      <td>None</td>\n",
       "      <td>None</td>\n",
       "      <td>None</td>\n",
       "      <td>None</td>\n",
       "      <td>332</td>\n",
       "      <td>None</td>\n",
       "    </tr>\n",
       "    <tr>\n",
       "      <th>4</th>\n",
       "      <td>1978-301</td>\n",
       "      <td>Auckland CH</td>\n",
       "      <td>Hard</td>\n",
       "      <td>32</td>\n",
       "      <td>C</td>\n",
       "      <td>1978-01-08</td>\n",
       "      <td>274</td>\n",
       "      <td>107301</td>\n",
       "      <td>None</td>\n",
       "      <td>None</td>\n",
       "      <td>...</td>\n",
       "      <td>None</td>\n",
       "      <td>None</td>\n",
       "      <td>None</td>\n",
       "      <td>None</td>\n",
       "      <td>None</td>\n",
       "      <td>None</td>\n",
       "      <td>None</td>\n",
       "      <td>None</td>\n",
       "      <td>232</td>\n",
       "      <td>None</td>\n",
       "    </tr>\n",
       "    <tr>\n",
       "      <th>...</th>\n",
       "      <td>...</td>\n",
       "      <td>...</td>\n",
       "      <td>...</td>\n",
       "      <td>...</td>\n",
       "      <td>...</td>\n",
       "      <td>...</td>\n",
       "      <td>...</td>\n",
       "      <td>...</td>\n",
       "      <td>...</td>\n",
       "      <td>...</td>\n",
       "      <td>...</td>\n",
       "      <td>...</td>\n",
       "      <td>...</td>\n",
       "      <td>...</td>\n",
       "      <td>...</td>\n",
       "      <td>...</td>\n",
       "      <td>...</td>\n",
       "      <td>...</td>\n",
       "      <td>...</td>\n",
       "      <td>...</td>\n",
       "      <td>...</td>\n",
       "    </tr>\n",
       "    <tr>\n",
       "      <th>216425</th>\n",
       "      <td>2024-2869</td>\n",
       "      <td>Skopje CH</td>\n",
       "      <td>Clay</td>\n",
       "      <td>32</td>\n",
       "      <td>C</td>\n",
       "      <td>2024-05-20</td>\n",
       "      <td>241</td>\n",
       "      <td>210053</td>\n",
       "      <td>8</td>\n",
       "      <td>None</td>\n",
       "      <td>...</td>\n",
       "      <td>43</td>\n",
       "      <td>30</td>\n",
       "      <td>13</td>\n",
       "      <td>9</td>\n",
       "      <td>6</td>\n",
       "      <td>9</td>\n",
       "      <td>511</td>\n",
       "      <td>76</td>\n",
       "      <td>None</td>\n",
       "      <td>None</td>\n",
       "    </tr>\n",
       "    <tr>\n",
       "      <th>216426</th>\n",
       "      <td>2024-2869</td>\n",
       "      <td>Skopje CH</td>\n",
       "      <td>Clay</td>\n",
       "      <td>32</td>\n",
       "      <td>C</td>\n",
       "      <td>2024-05-20</td>\n",
       "      <td>240</td>\n",
       "      <td>208843</td>\n",
       "      <td>5</td>\n",
       "      <td>None</td>\n",
       "      <td>...</td>\n",
       "      <td>41</td>\n",
       "      <td>21</td>\n",
       "      <td>8</td>\n",
       "      <td>9</td>\n",
       "      <td>2</td>\n",
       "      <td>7</td>\n",
       "      <td>470</td>\n",
       "      <td>92</td>\n",
       "      <td>None</td>\n",
       "      <td>None</td>\n",
       "    </tr>\n",
       "    <tr>\n",
       "      <th>216427</th>\n",
       "      <td>2024-2869</td>\n",
       "      <td>Skopje CH</td>\n",
       "      <td>Clay</td>\n",
       "      <td>32</td>\n",
       "      <td>C</td>\n",
       "      <td>2024-05-20</td>\n",
       "      <td>239</td>\n",
       "      <td>207484</td>\n",
       "      <td>12</td>\n",
       "      <td>None</td>\n",
       "      <td>...</td>\n",
       "      <td>34</td>\n",
       "      <td>26</td>\n",
       "      <td>15</td>\n",
       "      <td>10</td>\n",
       "      <td>3</td>\n",
       "      <td>6</td>\n",
       "      <td>636</td>\n",
       "      <td>53</td>\n",
       "      <td>955</td>\n",
       "      <td>15</td>\n",
       "    </tr>\n",
       "    <tr>\n",
       "      <th>216428</th>\n",
       "      <td>2024-2869</td>\n",
       "      <td>Skopje CH</td>\n",
       "      <td>Clay</td>\n",
       "      <td>32</td>\n",
       "      <td>C</td>\n",
       "      <td>2024-05-20</td>\n",
       "      <td>238</td>\n",
       "      <td>144970</td>\n",
       "      <td>6</td>\n",
       "      <td>None</td>\n",
       "      <td>...</td>\n",
       "      <td>22</td>\n",
       "      <td>9</td>\n",
       "      <td>4</td>\n",
       "      <td>6</td>\n",
       "      <td>0</td>\n",
       "      <td>5</td>\n",
       "      <td>487</td>\n",
       "      <td>87</td>\n",
       "      <td>None</td>\n",
       "      <td>None</td>\n",
       "    </tr>\n",
       "    <tr>\n",
       "      <th>216429</th>\n",
       "      <td>2024-2869</td>\n",
       "      <td>Skopje CH</td>\n",
       "      <td>Clay</td>\n",
       "      <td>32</td>\n",
       "      <td>C</td>\n",
       "      <td>2024-05-20</td>\n",
       "      <td>237</td>\n",
       "      <td>202342</td>\n",
       "      <td>None</td>\n",
       "      <td>None</td>\n",
       "      <td>...</td>\n",
       "      <td>28</td>\n",
       "      <td>19</td>\n",
       "      <td>7</td>\n",
       "      <td>9</td>\n",
       "      <td>3</td>\n",
       "      <td>8</td>\n",
       "      <td>555</td>\n",
       "      <td>67</td>\n",
       "      <td>880</td>\n",
       "      <td>20</td>\n",
       "    </tr>\n",
       "  </tbody>\n",
       "</table>\n",
       "<p>216430 rows × 49 columns</p>\n",
       "</div>"
      ],
      "text/plain": [
       "       tourney_id tourney_name surface  draw_size tourney_level tourney_date  \\\n",
       "0        1978-301  Auckland CH    Hard         32             C   1978-01-08   \n",
       "1        1978-301  Auckland CH    Hard         32             C   1978-01-08   \n",
       "2        1978-301  Auckland CH    Hard         32             C   1978-01-08   \n",
       "3        1978-301  Auckland CH    Hard         32             C   1978-01-08   \n",
       "4        1978-301  Auckland CH    Hard         32             C   1978-01-08   \n",
       "...           ...          ...     ...        ...           ...          ...   \n",
       "216425  2024-2869    Skopje CH    Clay         32             C   2024-05-20   \n",
       "216426  2024-2869    Skopje CH    Clay         32             C   2024-05-20   \n",
       "216427  2024-2869    Skopje CH    Clay         32             C   2024-05-20   \n",
       "216428  2024-2869    Skopje CH    Clay         32             C   2024-05-20   \n",
       "216429  2024-2869    Skopje CH    Clay         32             C   2024-05-20   \n",
       "\n",
       "        match_num  winner_id winner_seed winner_entry  ... l_1stIn l_1stWon  \\\n",
       "0             270     100373        None         None  ...    None     None   \n",
       "1             271     109807        None         None  ...    None     None   \n",
       "2             272     109810        None         None  ...    None     None   \n",
       "3             273     100638        None         None  ...    None     None   \n",
       "4             274     107301        None         None  ...    None     None   \n",
       "...           ...        ...         ...          ...  ...     ...      ...   \n",
       "216425        241     210053           8         None  ...      43       30   \n",
       "216426        240     208843           5         None  ...      41       21   \n",
       "216427        239     207484          12         None  ...      34       26   \n",
       "216428        238     144970           6         None  ...      22        9   \n",
       "216429        237     202342        None         None  ...      28       19   \n",
       "\n",
       "        l_2ndWon l_SvGms  l_bpSaved  l_bpFaced winner_rank winner_rank_points  \\\n",
       "0           None    None       None       None         232               None   \n",
       "1           None    None       None       None        None               None   \n",
       "2           None    None       None       None        None               None   \n",
       "3           None    None       None       None        None               None   \n",
       "4           None    None       None       None        None               None   \n",
       "...          ...     ...        ...        ...         ...                ...   \n",
       "216425        13       9          6          9         511                 76   \n",
       "216426         8       9          2          7         470                 92   \n",
       "216427        15      10          3          6         636                 53   \n",
       "216428         4       6          0          5         487                 87   \n",
       "216429         7       9          3          8         555                 67   \n",
       "\n",
       "       loser_rank loser_rank_points  \n",
       "0            None              None  \n",
       "1            None              None  \n",
       "2            None              None  \n",
       "3             332              None  \n",
       "4             232              None  \n",
       "...           ...               ...  \n",
       "216425       None              None  \n",
       "216426       None              None  \n",
       "216427        955                15  \n",
       "216428       None              None  \n",
       "216429        880                20  \n",
       "\n",
       "[216430 rows x 49 columns]"
      ]
     },
     "execution_count": 404,
     "metadata": {},
     "output_type": "execute_result"
    }
   ],
   "source": [
    "path5='quali_and_challengers_matches.parquet'\n",
    "df5=pd.read_parquet(path5)\n",
    "df5"
   ]
  },
  {
   "cell_type": "code",
   "execution_count": 405,
   "metadata": {},
   "outputs": [
    {
     "data": {
      "text/plain": [
       "<Axes: >"
      ]
     },
     "execution_count": 405,
     "metadata": {},
     "output_type": "execute_result"
    },
    {
     "data": {
      "image/png": "[encoded data removed]",
      "text/plain": [
       "<Figure size 640x480 with 1 Axes>"
      ]
     },
     "metadata": {},
     "output_type": "display_data"
    }
   ],
   "source": [
    "sns.heatmap(df4.isna(), cbar=False)"
   ]
  },
  {
   "cell_type": "code",
   "execution_count": 406,
   "metadata": {},
   "outputs": [
    {
     "data": {
      "text/html": [
       "<div>\n",
       "<style scoped>\n",
       "    .dataframe tbody tr th:only-of-type {\n",
       "        vertical-align: middle;\n",
       "    }\n",
       "\n",
       "    .dataframe tbody tr th {\n",
       "        vertical-align: top;\n",
       "    }\n",
       "\n",
       "    .dataframe thead th {\n",
       "        text-align: right;\n",
       "    }\n",
       "</style>\n",
       "<table border=\"1\" class=\"dataframe\">\n",
       "  <thead>\n",
       "    <tr style=\"text-align: right;\">\n",
       "      <th></th>\n",
       "      <th>winner_seed</th>\n",
       "      <th>winner_entry</th>\n",
       "      <th>winner_hand</th>\n",
       "      <th>winner_ht</th>\n",
       "      <th>winner_ioc</th>\n",
       "      <th>winner_age</th>\n",
       "      <th>loser_seed</th>\n",
       "      <th>loser_entry</th>\n",
       "      <th>loser_hand</th>\n",
       "      <th>loser_ht</th>\n",
       "      <th>...</th>\n",
       "      <th>l_1stIn</th>\n",
       "      <th>l_1stWon</th>\n",
       "      <th>l_2ndWon</th>\n",
       "      <th>l_SvGms</th>\n",
       "      <th>l_bpSaved</th>\n",
       "      <th>l_bpFaced</th>\n",
       "      <th>winner_rank</th>\n",
       "      <th>winner_rank_points</th>\n",
       "      <th>loser_rank</th>\n",
       "      <th>loser_rank_points</th>\n",
       "    </tr>\n",
       "  </thead>\n",
       "  <tbody>\n",
       "    <tr>\n",
       "      <th>0</th>\n",
       "      <td>None</td>\n",
       "      <td>None</td>\n",
       "      <td>R</td>\n",
       "      <td>NaN</td>\n",
       "      <td>USA</td>\n",
       "      <td>22.8</td>\n",
       "      <td>None</td>\n",
       "      <td>None</td>\n",
       "      <td>R</td>\n",
       "      <td>NaN</td>\n",
       "      <td>...</td>\n",
       "      <td>None</td>\n",
       "      <td>None</td>\n",
       "      <td>None</td>\n",
       "      <td>None</td>\n",
       "      <td>None</td>\n",
       "      <td>None</td>\n",
       "      <td>232</td>\n",
       "      <td>None</td>\n",
       "      <td>None</td>\n",
       "      <td>None</td>\n",
       "    </tr>\n",
       "    <tr>\n",
       "      <th>1</th>\n",
       "      <td>None</td>\n",
       "      <td>None</td>\n",
       "      <td>R</td>\n",
       "      <td>NaN</td>\n",
       "      <td>NZL</td>\n",
       "      <td>NaN</td>\n",
       "      <td>None</td>\n",
       "      <td>None</td>\n",
       "      <td>U</td>\n",
       "      <td>NaN</td>\n",
       "      <td>...</td>\n",
       "      <td>None</td>\n",
       "      <td>None</td>\n",
       "      <td>None</td>\n",
       "      <td>None</td>\n",
       "      <td>None</td>\n",
       "      <td>None</td>\n",
       "      <td>None</td>\n",
       "      <td>None</td>\n",
       "      <td>None</td>\n",
       "      <td>None</td>\n",
       "    </tr>\n",
       "    <tr>\n",
       "      <th>2</th>\n",
       "      <td>None</td>\n",
       "      <td>None</td>\n",
       "      <td>U</td>\n",
       "      <td>NaN</td>\n",
       "      <td>NZL</td>\n",
       "      <td>NaN</td>\n",
       "      <td>None</td>\n",
       "      <td>None</td>\n",
       "      <td>U</td>\n",
       "      <td>NaN</td>\n",
       "      <td>...</td>\n",
       "      <td>None</td>\n",
       "      <td>None</td>\n",
       "      <td>None</td>\n",
       "      <td>None</td>\n",
       "      <td>None</td>\n",
       "      <td>None</td>\n",
       "      <td>None</td>\n",
       "      <td>None</td>\n",
       "      <td>None</td>\n",
       "      <td>None</td>\n",
       "    </tr>\n",
       "    <tr>\n",
       "      <th>3</th>\n",
       "      <td>None</td>\n",
       "      <td>None</td>\n",
       "      <td>L</td>\n",
       "      <td>180.0</td>\n",
       "      <td>NZL</td>\n",
       "      <td>18.0</td>\n",
       "      <td>None</td>\n",
       "      <td>None</td>\n",
       "      <td>R</td>\n",
       "      <td>NaN</td>\n",
       "      <td>...</td>\n",
       "      <td>None</td>\n",
       "      <td>None</td>\n",
       "      <td>None</td>\n",
       "      <td>None</td>\n",
       "      <td>None</td>\n",
       "      <td>None</td>\n",
       "      <td>None</td>\n",
       "      <td>None</td>\n",
       "      <td>332</td>\n",
       "      <td>None</td>\n",
       "    </tr>\n",
       "    <tr>\n",
       "      <th>4</th>\n",
       "      <td>None</td>\n",
       "      <td>None</td>\n",
       "      <td>R</td>\n",
       "      <td>NaN</td>\n",
       "      <td>AUS</td>\n",
       "      <td>NaN</td>\n",
       "      <td>None</td>\n",
       "      <td>None</td>\n",
       "      <td>R</td>\n",
       "      <td>NaN</td>\n",
       "      <td>...</td>\n",
       "      <td>None</td>\n",
       "      <td>None</td>\n",
       "      <td>None</td>\n",
       "      <td>None</td>\n",
       "      <td>None</td>\n",
       "      <td>None</td>\n",
       "      <td>None</td>\n",
       "      <td>None</td>\n",
       "      <td>232</td>\n",
       "      <td>None</td>\n",
       "    </tr>\n",
       "    <tr>\n",
       "      <th>...</th>\n",
       "      <td>...</td>\n",
       "      <td>...</td>\n",
       "      <td>...</td>\n",
       "      <td>...</td>\n",
       "      <td>...</td>\n",
       "      <td>...</td>\n",
       "      <td>...</td>\n",
       "      <td>...</td>\n",
       "      <td>...</td>\n",
       "      <td>...</td>\n",
       "      <td>...</td>\n",
       "      <td>...</td>\n",
       "      <td>...</td>\n",
       "      <td>...</td>\n",
       "      <td>...</td>\n",
       "      <td>...</td>\n",
       "      <td>...</td>\n",
       "      <td>...</td>\n",
       "      <td>...</td>\n",
       "      <td>...</td>\n",
       "      <td>...</td>\n",
       "    </tr>\n",
       "    <tr>\n",
       "      <th>216425</th>\n",
       "      <td>8</td>\n",
       "      <td>None</td>\n",
       "      <td>U</td>\n",
       "      <td>NaN</td>\n",
       "      <td>CRO</td>\n",
       "      <td>20.0</td>\n",
       "      <td>None</td>\n",
       "      <td>WC</td>\n",
       "      <td>U</td>\n",
       "      <td>NaN</td>\n",
       "      <td>...</td>\n",
       "      <td>43</td>\n",
       "      <td>30</td>\n",
       "      <td>13</td>\n",
       "      <td>9</td>\n",
       "      <td>6</td>\n",
       "      <td>9</td>\n",
       "      <td>511</td>\n",
       "      <td>76</td>\n",
       "      <td>None</td>\n",
       "      <td>None</td>\n",
       "    </tr>\n",
       "    <tr>\n",
       "      <th>216426</th>\n",
       "      <td>5</td>\n",
       "      <td>None</td>\n",
       "      <td>R</td>\n",
       "      <td>198.0</td>\n",
       "      <td>SUI</td>\n",
       "      <td>21.2</td>\n",
       "      <td>None</td>\n",
       "      <td>WC</td>\n",
       "      <td>U</td>\n",
       "      <td>NaN</td>\n",
       "      <td>...</td>\n",
       "      <td>41</td>\n",
       "      <td>21</td>\n",
       "      <td>8</td>\n",
       "      <td>9</td>\n",
       "      <td>2</td>\n",
       "      <td>7</td>\n",
       "      <td>470</td>\n",
       "      <td>92</td>\n",
       "      <td>None</td>\n",
       "      <td>None</td>\n",
       "    </tr>\n",
       "    <tr>\n",
       "      <th>216427</th>\n",
       "      <td>12</td>\n",
       "      <td>None</td>\n",
       "      <td>R</td>\n",
       "      <td>NaN</td>\n",
       "      <td>AUT</td>\n",
       "      <td>24.7</td>\n",
       "      <td>None</td>\n",
       "      <td>Alt</td>\n",
       "      <td>R</td>\n",
       "      <td>188.0</td>\n",
       "      <td>...</td>\n",
       "      <td>34</td>\n",
       "      <td>26</td>\n",
       "      <td>15</td>\n",
       "      <td>10</td>\n",
       "      <td>3</td>\n",
       "      <td>6</td>\n",
       "      <td>636</td>\n",
       "      <td>53</td>\n",
       "      <td>955</td>\n",
       "      <td>15</td>\n",
       "    </tr>\n",
       "    <tr>\n",
       "      <th>216428</th>\n",
       "      <td>6</td>\n",
       "      <td>None</td>\n",
       "      <td>L</td>\n",
       "      <td>NaN</td>\n",
       "      <td>FRA</td>\n",
       "      <td>25.3</td>\n",
       "      <td>None</td>\n",
       "      <td>WC</td>\n",
       "      <td>U</td>\n",
       "      <td>NaN</td>\n",
       "      <td>...</td>\n",
       "      <td>22</td>\n",
       "      <td>9</td>\n",
       "      <td>4</td>\n",
       "      <td>6</td>\n",
       "      <td>0</td>\n",
       "      <td>5</td>\n",
       "      <td>487</td>\n",
       "      <td>87</td>\n",
       "      <td>None</td>\n",
       "      <td>None</td>\n",
       "    </tr>\n",
       "    <tr>\n",
       "      <th>216429</th>\n",
       "      <td>None</td>\n",
       "      <td>None</td>\n",
       "      <td>U</td>\n",
       "      <td>NaN</td>\n",
       "      <td>USA</td>\n",
       "      <td>24.7</td>\n",
       "      <td>None</td>\n",
       "      <td>Alt</td>\n",
       "      <td>U</td>\n",
       "      <td>NaN</td>\n",
       "      <td>...</td>\n",
       "      <td>28</td>\n",
       "      <td>19</td>\n",
       "      <td>7</td>\n",
       "      <td>9</td>\n",
       "      <td>3</td>\n",
       "      <td>8</td>\n",
       "      <td>555</td>\n",
       "      <td>67</td>\n",
       "      <td>880</td>\n",
       "      <td>20</td>\n",
       "    </tr>\n",
       "  </tbody>\n",
       "</table>\n",
       "<p>216430 rows × 36 columns</p>\n",
       "</div>"
      ],
      "text/plain": [
       "       winner_seed winner_entry winner_hand  winner_ht winner_ioc  winner_age  \\\n",
       "0             None         None           R        NaN        USA        22.8   \n",
       "1             None         None           R        NaN        NZL         NaN   \n",
       "2             None         None           U        NaN        NZL         NaN   \n",
       "3             None         None           L      180.0        NZL        18.0   \n",
       "4             None         None           R        NaN        AUS         NaN   \n",
       "...            ...          ...         ...        ...        ...         ...   \n",
       "216425           8         None           U        NaN        CRO        20.0   \n",
       "216426           5         None           R      198.0        SUI        21.2   \n",
       "216427          12         None           R        NaN        AUT        24.7   \n",
       "216428           6         None           L        NaN        FRA        25.3   \n",
       "216429        None         None           U        NaN        USA        24.7   \n",
       "\n",
       "       loser_seed loser_entry loser_hand  loser_ht  ... l_1stIn  l_1stWon  \\\n",
       "0            None        None          R       NaN  ...    None      None   \n",
       "1            None        None          U       NaN  ...    None      None   \n",
       "2            None        None          U       NaN  ...    None      None   \n",
       "3            None        None          R       NaN  ...    None      None   \n",
       "4            None        None          R       NaN  ...    None      None   \n",
       "...           ...         ...        ...       ...  ...     ...       ...   \n",
       "216425       None          WC          U       NaN  ...      43        30   \n",
       "216426       None          WC          U       NaN  ...      41        21   \n",
       "216427       None         Alt          R     188.0  ...      34        26   \n",
       "216428       None          WC          U       NaN  ...      22         9   \n",
       "216429       None         Alt          U       NaN  ...      28        19   \n",
       "\n",
       "       l_2ndWon l_SvGms l_bpSaved l_bpFaced winner_rank winner_rank_points  \\\n",
       "0          None    None      None      None         232               None   \n",
       "1          None    None      None      None        None               None   \n",
       "2          None    None      None      None        None               None   \n",
       "3          None    None      None      None        None               None   \n",
       "4          None    None      None      None        None               None   \n",
       "...         ...     ...       ...       ...         ...                ...   \n",
       "216425       13       9         6         9         511                 76   \n",
       "216426        8       9         2         7         470                 92   \n",
       "216427       15      10         3         6         636                 53   \n",
       "216428        4       6         0         5         487                 87   \n",
       "216429        7       9         3         8         555                 67   \n",
       "\n",
       "       loser_rank loser_rank_points  \n",
       "0            None              None  \n",
       "1            None              None  \n",
       "2            None              None  \n",
       "3             332              None  \n",
       "4             232              None  \n",
       "...           ...               ...  \n",
       "216425       None              None  \n",
       "216426       None              None  \n",
       "216427        955                15  \n",
       "216428       None              None  \n",
       "216429        880                20  \n",
       "\n",
       "[216430 rows x 36 columns]"
      ]
     },
     "execution_count": 406,
     "metadata": {},
     "output_type": "execute_result"
    }
   ],
   "source": [
    "colonne_con_nan_df5 = pd.DataFrame()\n",
    "\n",
    "for colonna in df5.columns:\n",
    "    if df5[colonna].isnull().any():\n",
    "        colonne_con_nan_df5[colonna] = df5[colonna] \n",
    "\n",
    "colonne_con_nan_df5"
   ]
  },
  {
   "cell_type": "code",
   "execution_count": 407,
   "metadata": {},
   "outputs": [
    {
     "data": {
      "text/plain": [
       "<Axes: >"
      ]
     },
     "execution_count": 407,
     "metadata": {},
     "output_type": "execute_result"
    },
    {
     "data": {
      "image/png": "[encoded data removed]",
      "text/plain": [
       "<Figure size 640x480 with 1 Axes>"
      ]
     },
     "metadata": {},
     "output_type": "display_data"
    }
   ],
   "source": [
    "sns.heatmap(colonne_con_nan_df5.isna(), cbar=False)"
   ]
  },
  {
   "cell_type": "code",
   "execution_count": 408,
   "metadata": {},
   "outputs": [
    {
     "data": {
      "text/plain": [
       "Index(['winner_seed', 'winner_entry', 'winner_hand', 'winner_ht', 'winner_ioc',\n",
       "       'winner_age', 'loser_seed', 'loser_entry', 'loser_hand', 'loser_ht',\n",
       "       'loser_ioc', 'loser_age', 'score', 'minutes', 'w_ace', 'w_df', 'w_svpt',\n",
       "       'w_1stIn', 'w_1stWon', 'w_2ndWon', 'w_SvGms', 'w_bpSaved', 'w_bpFaced',\n",
       "       'l_ace', 'l_df', 'l_svpt', 'l_1stIn', 'l_1stWon', 'l_2ndWon', 'l_SvGms',\n",
       "       'l_bpSaved', 'l_bpFaced', 'winner_rank', 'winner_rank_points',\n",
       "       'loser_rank', 'loser_rank_points'],\n",
       "      dtype='object')"
      ]
     },
     "execution_count": 408,
     "metadata": {},
     "output_type": "execute_result"
    }
   ],
   "source": [
    "colonne_con_nan_df5.columns"
   ]
  },
  {
   "cell_type": "code",
   "execution_count": null,
   "metadata": {},
   "outputs": [],
   "source": []
  }
 ],
 "metadata": {
  "kernelspec": {
   "display_name": "Python 3",
   "language": "python",
   "name": "python3"
  },
  "language_info": {
   "codemirror_mode": {
    "name": "ipython",
    "version": 3
   },
   "file_extension": ".py",
   "mimetype": "text/x-python",
   "name": "python",
   "nbconvert_exporter": "python",
   "pygments_lexer": "ipython3",
   "version": "3.12.1"
  }
 },
 "nbformat": 4,
 "nbformat_minor": 2
}
